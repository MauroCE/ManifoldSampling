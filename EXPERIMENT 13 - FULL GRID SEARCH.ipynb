{
 "cells": [
  {
   "cell_type": "code",
   "execution_count": 1,
   "id": "6505121e",
   "metadata": {},
   "outputs": [],
   "source": [
    "import numpy as np\n",
    "from numpy import load, arange, linspace\n",
    "import matplotlib.pyplot as plt\n",
    "from utils import box_plot"
   ]
  },
  {
   "cell_type": "code",
   "execution_count": 2,
   "id": "a23e00da",
   "metadata": {},
   "outputs": [],
   "source": [
    "folder = \"experiment13full/\"\n",
    "\n",
    "# HUG\n",
    "THETA_ESS_HUG = load(folder + \"THETA_ESS_HUG.npy\")\n",
    "U_ESS_HUG     = load(folder + \"U_ESS_HUG.npy\")\n",
    "ESS_HUG       = load(folder + \"ESS_JOINT_HUG.npy\")\n",
    "A_HUG         = load(folder + \"A_HUG.npy\")\n",
    "RMSE_HUG      = load(folder + \"RMSE_HUG.npy\")\n",
    "EJSD_HUG      = load(folder + \"EJSD_HUG.npy\")\n",
    "G_EJSD_HUG    = load(folder + \"G_EJSD_HUG.npy\")\n",
    "T_EJSD_HUG    = load(folder + \"T_EJSD_HUG.npy\")\n",
    "A_HOP_HUG     = load(folder + \"A_HOP_HUG.npy\")\n",
    "N_UNIQUE_HUG  = load(folder + \"N_UNIQUE_HUG.npy\")\n",
    "THETA_AC_HUG  = load(folder + \"THETA_AC_HUG.npy\")\n",
    "U_AC_HUG      = load(folder + \"U_AC_HUG.npy\")\n",
    "\n",
    "# THUG\n",
    "THETA_ESS_THUG = load(folder + \"THETA_ESS_THUG.npy\")\n",
    "U_ESS_THUG     = load(folder + \"U_ESS_THUG.npy\")\n",
    "ESS_THUG       = load(folder + \"ESS_JOINT_THUG.npy\")\n",
    "A_THUG         = load(folder + \"A_THUG.npy\")\n",
    "RMSE_THUG      = load(folder + \"RMSE_THUG.npy\")\n",
    "EJSD_THUG      = load(folder + \"EJSD_THUG.npy\")\n",
    "G_EJSD_THUG    = load(folder + \"G_EJSD_THUG.npy\")\n",
    "T_EJSD_THUG    = load(folder + \"T_EJSD_THUG.npy\")\n",
    "A_HOP_THUG     = load(folder + \"A_HOP_THUG.npy\")\n",
    "N_UNIQUE_THUG  = load(folder + \"N_UNIQUE_THUG.npy\")\n",
    "THETA_AC_THUG  = load(folder + \"THETA_AC_THUG.npy\")\n",
    "U_AC_THUG      = load(folder + \"U_AC_THUG.npy\")\n",
    "\n",
    "# COMMON\n",
    "EPSILONS       = load(folder + \"EPSILONS.npy\")\n",
    "ALPHAS         = load(folder + \"ALPHAS.npy\")\n",
    "TS             = load(folder + \"TS.npy\")\n",
    "time           = load(folder + \"TIME.npy\")"
   ]
  },
  {
   "cell_type": "code",
   "execution_count": 26,
   "id": "44923f7c",
   "metadata": {
    "scrolled": false
   },
   "outputs": [
    {
     "data": {
      "image/png": "[encoded data removed]",
      "text/plain": [
       "<Figure size 720x720 with 4 Axes>"
      ]
     },
     "metadata": {
      "needs_background": "light"
     },
     "output_type": "display_data"
    }
   ],
   "source": [
    "data_list = [\n",
    "    np.hstack((THETA_ESS_HUG[:, i, :].mean(axis=0).reshape(-1, 1), THETA_ESS_THUG[:, i, :, :].mean(axis=0))) for i in range(len(EPSILONS))\n",
    "]\n",
    "data_list = [data / np.max(data) for data in data_list]\n",
    "fig, ax = plt.subplots(nrows=2, ncols=2, figsize=(10,10))\n",
    "for i in range(len(EPSILONS)):\n",
    "    ax[i //2, i % 2].imshow(data_list[i], cmap='Reds')\n",
    "    # draw gridlines\n",
    "    #ax.grid(which='major', axis='both', linestyle='-', color='k', linewidth=2)\n",
    "    ax[i //2, i % 2].set_xticks(np.arange(0.0, 5.5, 1));\n",
    "    ax[i //2, i % 2].set_yticks(np.arange(0.0, 5.5, 1));\n",
    "    ax[i //2, i % 2].set_xticklabels(['0.0', '0.1', '0.5', '0.9', '0.99', '0.999'])\n",
    "    ax[i //2, i % 2].set_yticklabels(['7', '5', '3', '1', '0.1', '0.01'])\n",
    "    ax[i //2, i % 2].set_xlabel('$\\\\alpha$', fontsize=20)\n",
    "    ax[i //2, i % 2].set_ylabel('$T$', fontsize=20)\n",
    "    ax[i //2, i % 2].set_title(\"epsilon = {}\".format(EPSILONS[i]))\n",
    "plt.show()"
   ]
  },
  {
   "cell_type": "code",
   "execution_count": null,
   "id": "3fe87b44",
   "metadata": {},
   "outputs": [],
   "source": []
  }
 ],
 "metadata": {
  "kernelspec": {
   "display_name": "Python 3 (ipykernel)",
   "language": "python",
   "name": "python3"
  },
  "language_info": {
   "codemirror_mode": {
    "name": "ipython",
    "version": 3
   },
   "file_extension": ".py",
   "mimetype": "text/x-python",
   "name": "python",
   "nbconvert_exporter": "python",
   "pygments_lexer": "ipython3",
   "version": "3.8.10"
  }
 },
 "nbformat": 4,
 "nbformat_minor": 5
}
