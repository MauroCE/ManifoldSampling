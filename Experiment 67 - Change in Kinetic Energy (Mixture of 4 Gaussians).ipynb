{
 "cells": [
  {
   "cell_type": "code",
   "execution_count": 31,
   "id": "c13d7690",
   "metadata": {},
   "outputs": [],
   "source": [
    "import numpy as np\n",
    "from scipy.stats import multivariate_normal as MVN\n",
    "import matplotlib.pyplot as plt\n",
    "from scipy.optimize import root, fsolve, minimize\n",
    "from numpy.linalg import norm, solve, inv, det\n",
    "from numpy import log, zeros, eye, exp\n",
    "from scipy.stats import uniform as udist\n",
    "from numpy.random import rand\n",
    "from matplotlib.colors import ListedColormap\n",
    "\n",
    "from utils import prep_contour\n",
    "from Manifolds.GeneralizedEllipse import GeneralizedEllipse"
   ]
  },
  {
   "cell_type": "markdown",
   "id": "eb87e472",
   "metadata": {},
   "source": [
    "The constraint function is \n",
    "$$\n",
    "\\begin{align}\n",
    "    f(x) \n",
    "    &= \\log\\left(\\frac{1}{4}\\mathcal{N}(x\\mid 0, \\Sigma_1) + \\frac{1}{4}\\mathcal{N}(x\\mid 0, \\Sigma_2)+ \\frac{1}{4}\\mathcal{N}(x\\mid 0, \\Sigma_3) + \\frac{1}{4}\\mathcal{N}(x\\mid 0, \\Sigma_4)\\right) \\\\\n",
    "    &= \\log\\left(\\frac{1}{8\\pi}\\left[\\exp\\left\\{-\\frac{1}{2}x^\\top\\Sigma_1^{-1} x\\right\\} + \\exp\\left\\{-\\frac{1}{2}x^\\top\\Sigma_2^{-1} x\\right\\} + \\exp\\left\\{-\\frac{1}{2}x^\\top\\Sigma_3^{-1} x\\right\\} + \\exp\\left\\{-\\frac{1}{2}x^\\top\\Sigma_4^{-1} x\\right\\}\\right]\\right)\n",
    "\\end{align}\n",
    "$$\n",
    "The gradient of $f$ is then\n",
    "$$\n",
    "\\begin{align}\n",
    "    \\nabla f(x) \n",
    "    &= - \\frac{\\left[\\exp\\left\\{-\\frac{1}{2}x^\\top\\Sigma_1^{-1} x\\right\\}\\Sigma_1^{-1} + \\exp\\left\\{-\\frac{1}{2}x^\\top\\Sigma_2^{-1} x\\right\\}\\Sigma_2^{-1} + \\exp\\left\\{-\\frac{1}{2}x^\\top\\Sigma_3^{-1} x\\right\\}\\Sigma_3^{-1} + \\exp\\left\\{-\\frac{1}{2}x^\\top\\Sigma_4^{-1} x\\right\\}\\Sigma_4^{-1}\\right]x}{\\exp\\left\\{-\\frac{1}{2}x^\\top\\Sigma_1^{-1} x\\right\\} + \\exp\\left\\{-\\frac{1}{2}x^\\top\\Sigma_2^{-1} x\\right\\} + \\exp\\left\\{-\\frac{1}{2}x^\\top\\Sigma_3^{-1} x\\right\\} + \\exp\\left\\{-\\frac{1}{2}x^\\top\\Sigma_4^{-1} x\\right\\}}\n",
    "\\end{align}\n",
    "$$"
   ]
  },
  {
   "cell_type": "code",
   "execution_count": 37,
   "id": "3faa5276",
   "metadata": {},
   "outputs": [],
   "source": [
    "# Horizonal Gaussian\n",
    "μ1 = np.array([0, 0])\n",
    "Σ1 = np.array([[10.0, 0.0], [0.0, 0.1]])\n",
    "π1 = MVN(μ1, Σ1)\n",
    "\n",
    "# Vertical Gaussian\n",
    "μ2 = np.array([0, 0])\n",
    "Σ2 = np.array([[0.1, 0.0], [0.0, 10.0]])\n",
    "π2 = MVN(μ2, Σ2)\n",
    "\n",
    "# TopRight-BottomLeft Gaussian\n",
    "μ3 = R@μ1\n",
    "Σ3 = R@Σ1@R.T\n",
    "π3 = MVN(μ3, Σ3)\n",
    "\n",
    "# Rotation matrix - rotates 45 degrees counter-clockwise\n",
    "R = (np.sqrt(2)/2) * np.array([[1, -1], [1, 1]])\n",
    "\n",
    "# TopRight-BottomLeft Gaussian\n",
    "μ3 = R@μ1\n",
    "Σ3 = R@Σ1@R.T\n",
    "π3 = MVN(μ3, Σ3)\n",
    "\n",
    "# TopLeft-BottomRight Gaussian\n",
    "μ4 = R@μ2\n",
    "Σ4 = R@Σ2@R.T\n",
    "π4 = MVN(μ4, Σ4)\n",
    "\n",
    "# Store values\n",
    "Σ1inv = inv(Σ1)\n",
    "Σ2inv = inv(Σ2)\n",
    "Σ3inv = inv(Σ3)\n",
    "Σ4inv = inv(Σ4)\n",
    "\n",
    "z0 = 0.026\n",
    "y = log(z0)\n",
    "pdf = lambda x: (π1.pdf(x) + π2.pdf(x) + π3.pdf(x) + π4.pdf(x)) / 4\n",
    "f = lambda x: np.log(π1.pdf(x) + π2.pdf(x) + π3.pdf(x) + π4.pdf(x))\n",
    "def grad(x):\n",
    "    \"\"\"Computes gradient of f.\"\"\"\n",
    "    # Exponential of quadratic products\n",
    "    eqp1 = exp(-0.5*x.dot(Σ1inv).dot(x))\n",
    "    eqp2 = exp(-0.5*x.dot(Σ2inv).dot(x))\n",
    "    eqp3 = exp(-0.5*x.dot(Σ3inv).dot(x))\n",
    "    eqp4 = exp(-0.5*x.dot(Σ4inv).dot(x))\n",
    "    return ((eqp1*Σ1inv + eqp2*Σ2inv + eqp3*Σ3inv + eqp4*Σ4inv)/(eqp1+eqp2+eqp3+eqp4)).dot(x)"
   ]
  },
  {
   "cell_type": "code",
   "execution_count": 22,
   "id": "7709bf8b",
   "metadata": {},
   "outputs": [],
   "source": [
    "def sample_near_manifold(maxiter=100):\n",
    "    u = np.random.rand()\n",
    "    ellipse1 = GeneralizedEllipse(μ1, Σ1, 0.08)\n",
    "    ellipse2 = GeneralizedEllipse(μ2, Σ2, 0.08)\n",
    "    ellipse3 = GeneralizedEllipse(μ3, Σ3, 0.08)\n",
    "    ellipse4 = GeneralizedEllipse(μ4, Σ4, 0.08)\n",
    "    if u < 0.25:\n",
    "        return ellipse1.sample()\n",
    "    elif 0.25 <= u < 0.5:\n",
    "        return ellipse2.sample()\n",
    "    elif 0.5 <= u < 0.75:\n",
    "        return ellipse3.sample()\n",
    "    else:\n",
    "        return ellipse4.sample()\n",
    "\n",
    "def sample_on_manifold(tol=1e-8):\n",
    "    start = sample_near_manifold() #np.random.uniform(low=-1, high=1, size=2)\n",
    "    function = lambda xy: np.array([abs(f(xy) - y), 0.0])\n",
    "    return fsolve(function, start, xtol=tol)"
   ]
  },
  {
   "cell_type": "code",
   "execution_count": 76,
   "id": "2bdc0598",
   "metadata": {},
   "outputs": [
    {
     "data": {
      "image/png": "[encoded data removed]",
      "text/plain": [
       "<Figure size 432x288 with 1 Axes>"
      ]
     },
     "metadata": {
      "needs_background": "light"
     },
     "output_type": "display_data"
    }
   ],
   "source": [
    "fig, ax = plt.subplots()\n",
    "xlim = [-6, 6]\n",
    "ylim = [-6, 6]\n",
    "\n",
    "ax.contour(*prep_contour(xlim, ylim, 0.01, f), levels=[y])\n",
    "# ax.scatter(*OUTS[0]['SAMPLES'].T)\n",
    "plt.show()"
   ]
  },
  {
   "cell_type": "code",
   "execution_count": 38,
   "id": "c46acd16",
   "metadata": {},
   "outputs": [],
   "source": [
    "def HugTangential(x0, δ, B, N, α, q, logpi, grad_log_pi):\n",
    "    \"\"\"\n",
    "    Repurposed version of THUG.\n",
    "    \"\"\"\n",
    "    # The following dictionary stores everything we need\n",
    "    OUT = {\n",
    "        'D' : {f\"{i}\": [] for i in range(N)}, # Distance\n",
    "        'SD': {f\"{i}\": [] for i in range(N)}, # Square Distance\n",
    "        'AR': [np.nan for i in range(N)],     # Acceptance Ratio\n",
    "        'Δk': [np.nan for i in range(N)],     # Kinetic Energy\n",
    "        'Δℓ': [np.nan for i in range(N)],     # Potential Energy\n",
    "        'SAMPLES': x0,\n",
    "        'ACCEPTANCES': np.zeros(N),\n",
    "        'EJSD': [np.nan for i in range(N)]    # Acceptance Ratio * Squared Distance\n",
    "    }\n",
    "    for i in range(N):\n",
    "        v0s = q.rvs()                    # Draw velocity spherically\n",
    "        g = grad_log_pi(x0)              # Compute gradient at x0\n",
    "        g = g / norm(g)                  # Normalize\n",
    "        v0 = v0s - α * g * (g @ v0s) # Tilt velocity\n",
    "        v, x = v0, x0                    # Housekeeping\n",
    "        logu = np.log(rand())            # Acceptance ratio\n",
    "        for _ in range(B):\n",
    "            xmid = x + δ*v/2           # Move to midpoint\n",
    "            g = grad_log_pi(xmid)          # Compute gradient at midpoint\n",
    "            ghat = g / norm(g)          # Normalize \n",
    "            v = v - 2*(v @ ghat) * ghat # Reflect velocity using midpoint gradient\n",
    "            x = xmid + δ*v/2           # Move from midpoint to end-point\n",
    "            # Compute metrics\n",
    "            OUT['D'][f\"{i}\"].append(norm(x - x0))\n",
    "            OUT['SD'][f\"{i}\"].append(norm(x  -x0)**2)\n",
    "\n",
    "        # Unsqueeze the velocity\n",
    "        g = grad_log_pi(x)\n",
    "        g = g / norm(g)\n",
    "        v = v + (α / (1 - α)) * g * (g @ v)\n",
    "        # In the acceptance ratio must use spherical velocities!! Hence v0s and the unsqueezed v\n",
    "        logar = logpi(x) + q.logpdf(v) - logpi(x0) - q.logpdf(v0s)\n",
    "        ar = exp(logar)\n",
    "        OUT['AR'][i] = ar\n",
    "        OUT['Δk'][i] = - norm(v)**2 + norm(v0s)**2\n",
    "        OUT['Δℓ'][i] = logpi(x) - logpi(x0)\n",
    "        OUT['EJSD'][i] = ar * (norm(x - x0)**2)\n",
    "        if logu <= logar:\n",
    "            OUT['SAMPLES'] = np.vstack((OUT['SAMPLES'], x))\n",
    "            OUT['ACCEPTANCES'][i] = 1         # Accepted!\n",
    "            x0 = x\n",
    "        else:\n",
    "            OUT['SAMPLES'] = np.vstack((OUT['SAMPLES'], x0))\n",
    "            OUT['ACCEPTANCES'][i] = 0         # Rejected\n",
    "    return OUT"
   ]
  },
  {
   "cell_type": "code",
   "execution_count": 39,
   "id": "2cedec53",
   "metadata": {},
   "outputs": [],
   "source": [
    "# Proposal for velocity\n",
    "q = MVN(zeros(2), eye(2))\n",
    "\n",
    "# Prior function is uniform on a huge square\n",
    "square_side = 10  # SQUARE SIDE\n",
    "logprior  = lambda xi: udist.logpdf(xi, loc=-square_side, scale=2*square_side).sum()"
   ]
  },
  {
   "cell_type": "code",
   "execution_count": 40,
   "id": "f369caaa",
   "metadata": {},
   "outputs": [],
   "source": [
    "def generate_logpi(ϵ):\n",
    "    # Kernel\n",
    "#     def logkernel(xi):\n",
    "#         with np.errstate(divide='ignore'):\n",
    "#             return log(float(norm(f(xi) - z0) < ϵ) / ϵ)\n",
    "    def logkernel(xi):\n",
    "        return -norm(f(xi) - y)**2/(2*(ϵ**2)) - np.log(ϵ)\n",
    "    # Logpi\n",
    "    logpi = lambda xi: logprior(xi) + logkernel(xi)\n",
    "    return logpi"
   ]
  },
  {
   "cell_type": "code",
   "execution_count": 41,
   "id": "2369de02",
   "metadata": {},
   "outputs": [],
   "source": [
    "def generate_output(ϵs, αs, δs):\n",
    "    OUTS = []\n",
    "    for ϵix, ϵ in enumerate(ϵs):\n",
    "        for αix, α in enumerate(αs):\n",
    "            for δix, δ in enumerate(δs):\n",
    "                x0 = sample_on_manifold()\n",
    "                logpi = generate_logpi(ϵ)\n",
    "                OUTS.append(HugTangential(x0, δ, B, N, α, q, logpi, grad))\n",
    "    return OUTS"
   ]
  },
  {
   "cell_type": "code",
   "execution_count": 42,
   "id": "b036e81a",
   "metadata": {},
   "outputs": [],
   "source": [
    "# Settings\n",
    "ϵ = 0.001\n",
    "δ = 0.1\n",
    "B = 20\n",
    "N = 10000\n",
    "\n",
    "ϵs = [ϵ]\n",
    "δs = [δ]\n",
    "αs = [0.0, 0.5, 0.9, 0.99]"
   ]
  },
  {
   "cell_type": "code",
   "execution_count": 43,
   "id": "a1dc8a9d",
   "metadata": {},
   "outputs": [],
   "source": [
    "OUTS = generate_output(\n",
    "    ϵs=ϵs,\n",
    "    αs=αs,\n",
    "    δs=δs\n",
    ")"
   ]
  },
  {
   "cell_type": "code",
   "execution_count": 48,
   "id": "8bd4c590",
   "metadata": {},
   "outputs": [],
   "source": [
    "def percentage_in_interval(iterable, left, right):\n",
    "    \"\"\"Counts the number of elements in `iterable` that are contained in the \n",
    "    interval `[left, right]`.\"\"\"\n",
    "    array = np.array(iterable)\n",
    "    flag = (left <= array) & (array <= right)\n",
    "    return (len(array[flag]) / len(array)) * 100"
   ]
  },
  {
   "cell_type": "code",
   "execution_count": 44,
   "id": "24f4a793",
   "metadata": {},
   "outputs": [],
   "source": [
    "def proportion_lessthan(iterable, value):\n",
    "    \"\"\"Proportion of elements in iterable that are less than value.\"\"\"\n",
    "    array = np.array(iterable)\n",
    "    flag = array <= value\n",
    "    return (sum(flag) / len(array))"
   ]
  },
  {
   "cell_type": "code",
   "execution_count": 45,
   "id": "73d06a89",
   "metadata": {},
   "outputs": [],
   "source": [
    "def find_value_so_prop_Δℓ_larger_new(iterable, p):\n",
    "    N = len(iterable)\n",
    "    return np.sort(np.array(iterable))[int(np.floor(N*np.round(1-p, decimals=2)))]"
   ]
  },
  {
   "cell_type": "code",
   "execution_count": 46,
   "id": "a462d3ca",
   "metadata": {},
   "outputs": [],
   "source": [
    "def generate_Δℓ_table_new(outs, props):\n",
    "    \"\"\"This table only works on intervals of the type [L, \\infty).\"\"\"\n",
    "    table = zeros((len(outs), len(props)))\n",
    "    Ls = []\n",
    "    for p_ix, p in enumerate(props):\n",
    "        # Find value L so that a proportion p of samples have Δℓ larger than L\n",
    "        L = find_value_so_prop_Δℓ_larger_new(outs[0]['Δℓ'], p)\n",
    "        Ls.append(L)\n",
    "        # Fill in the first row of the table\n",
    "        table[0, p_ix] = percentage_in_interval(outs[0]['Δℓ'], L, np.inf) # should be p\n",
    "        # Fill in the rest of the rows for other αs\n",
    "        for α_ix in range(1, len(outs)):\n",
    "            table[α_ix, p_ix] = percentage_in_interval(outs[α_ix]['Δℓ'], L, np.inf)\n",
    "    return table, Ls"
   ]
  },
  {
   "cell_type": "code",
   "execution_count": 49,
   "id": "e2f899e0",
   "metadata": {},
   "outputs": [
    {
     "data": {
      "text/plain": [
       "(array([[25.  , 50.  , 75.  , 90.  ],\n",
       "        [37.53, 66.01, 86.34, 94.91],\n",
       "        [56.61, 76.02, 87.97, 94.61],\n",
       "        [54.08, 75.13, 87.58, 94.24]]),\n",
       " [-0.24575793704511284,\n",
       "  -8.003076767356783,\n",
       "  -90.47552858548542,\n",
       "  -506.3988603825501])"
      ]
     },
     "execution_count": 49,
     "metadata": {},
     "output_type": "execute_result"
    }
   ],
   "source": [
    "generate_Δℓ_table_new(OUTS, [0.25, 0.5, 0.75, 0.9])"
   ]
  },
  {
   "cell_type": "code",
   "execution_count": null,
   "id": "96d7dafe",
   "metadata": {},
   "outputs": [],
   "source": []
  }
 ],
 "metadata": {
  "kernelspec": {
   "display_name": "Python 3 (ipykernel)",
   "language": "python",
   "name": "python3"
  },
  "language_info": {
   "codemirror_mode": {
    "name": "ipython",
    "version": 3
   },
   "file_extension": ".py",
   "mimetype": "text/x-python",
   "name": "python",
   "nbconvert_exporter": "python",
   "pygments_lexer": "ipython3",
   "version": "3.10.4"
  }
 },
 "nbformat": 4,
 "nbformat_minor": 5
}
