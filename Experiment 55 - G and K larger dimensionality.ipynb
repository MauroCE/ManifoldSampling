{
 "cells": [
  {
   "cell_type": "code",
   "execution_count": 81,
   "id": "a7f04978",
   "metadata": {},
   "outputs": [],
   "source": [
    "import numpy as np\n",
    "from numpy import zeros, eye, array, r_, diag, ones, log, zeros_like, pi, exp, log10, sort, quantile, linspace, vstack\n",
    "from numpy import save, nanmean\n",
    "from numpy.random import randn, rand, randint, default_rng\n",
    "from numpy.random import normal\n",
    "from numpy import isfinite\n",
    "from numpy.linalg import solve, det, inv, norm\n",
    "from numpy import logspace\n",
    "\n",
    "import matplotlib.pyplot as plt\n",
    "from matplotlib import rc\n",
    "import seaborn as sns\n",
    "\n",
    "from collections import OrderedDict\n",
    "import copy\n",
    "\n",
    "from warnings import catch_warnings, filterwarnings\n",
    "\n",
    "from autograd import jacobian, grad\n",
    "import autograd.numpy as anp\n",
    "from autograd.numpy import ones as aones\n",
    "from autograd.numpy import zeros as azeros\n",
    "from autograd.numpy import exp as aexp\n",
    "from autograd.numpy.linalg import det as adet\n",
    "from autograd.numpy import log as alog\n",
    "from autograd.numpy import diag as adiag\n",
    "from autograd.numpy.linalg import norm as anorm\n",
    "import autograd.scipy as asp\n",
    "from autograd.scipy.stats import norm as andist\n",
    "import autograd as ag\n",
    "from autograd.scipy.special import gamma as agamma\n",
    "\n",
    "from scipy.stats import multivariate_normal as MVN\n",
    "from scipy.optimize import fsolve, bisect\n",
    "from scipy.stats import norm as ndist\n",
    "from scipy.stats import uniform as udist\n",
    "from scipy.stats import beta as abetadist\n",
    "from scipy.linalg import qr, lstsq\n",
    "from scipy.special import gamma\n",
    "\n",
    "from g_and_k_functions import GandK\n",
    "from tangential_hug_functions import HugTangentialMultivariate\n",
    "from RWM import RWM\n",
    "from HMC.static_hmc import HMC\n",
    "from utils import ESS_univariate, ESS\n",
    "\n",
    "from mici.samplers import ChainState\n",
    "from mici.systems import DenseConstrainedEuclideanMetricSystem as DCEMS\n",
    "from mici.systems import EuclideanMetricSystem as EMS\n",
    "from mici.integrators import ConstrainedLeapfrogIntegrator as CLI\n",
    "from mici.integrators import LeapfrogIntegrator as LI\n",
    "from mici.samplers import DynamicMultinomialHMC as DMHMC\n",
    "from mici.samplers import StaticMetropolisHMC as SMHMC\n",
    "\n",
    "import time\n",
    "\n",
    "from Manifolds.Manifold import Manifold\n",
    "# from Zappa.zappa import zappa_sampling_storecomps\n",
    "\n",
    "from itertools import product\n",
    "import scipy.linalg as la\n",
    "\n",
    "import math\n",
    "from copy import deepcopy"
   ]
  },
  {
   "cell_type": "code",
   "execution_count": 53,
   "id": "8f023f75",
   "metadata": {},
   "outputs": [],
   "source": [
    "# Parameters\n",
    "θ0        = array([3.0, 1.0, 2.0, 0.5]) # True parameter value\n",
    "m         = 50                          # Number of latent variables\n",
    "d         = 4 + m                       # Dimensionality of ξ=(θ, z)\n",
    "# seed=1234"
   ]
  },
  {
   "cell_type": "code",
   "execution_count": 181,
   "id": "4ab78357",
   "metadata": {},
   "outputs": [],
   "source": [
    "def f(ξ):\n",
    "    \"\"\"Deterministic simulator f: ξ -> y.\"\"\"\n",
    "    return ξ[0] + ξ[1]*(1 + 0.8*(1 - aexp(-ξ[2]*ξ[4:]))/(1 + aexp(-ξ[2]*ξ[4:]))) * ((1 + ξ[4:]**2)**ξ[3])*ξ[4:]\n",
    "\n",
    "def data_generator(θ0, m, seed):\n",
    "    \"\"\"Stochastic Simulator. Generates y given θ.\"\"\"\n",
    "    rng = default_rng(seed)\n",
    "    z = rng.normal(size=m)\n",
    "    return f(r_[θ0, z])\n",
    "\n",
    "def Jf_transpose(ξ):\n",
    "    \"\"\"Transpose of the Jacobian of f.\"\"\"\n",
    "    return vstack((\n",
    "        aones(len(ξ[4:])),\n",
    "        (1 + 0.8 * (1 - aexp(-ξ[2] * ξ[4:])) / (1 + aexp(-ξ[2] * ξ[4:]))) * ((1 + ξ[4:]**2)**ξ[3]) * ξ[4:],\n",
    "        8 * ξ[1] * (ξ[4:]**2) * ((1 + ξ[4:]**2)**ξ[3]) * aexp(ξ[2]*ξ[4:]) / (5 * (1 + aexp(ξ[2]*ξ[4:]))**2),\n",
    "        ξ[1]*ξ[4:]*((1+ξ[4:]**2)**ξ[3])*(1 + 9*aexp(ξ[2]*ξ[4:]))*alog(1 + ξ[4:]**2) / (5*(1 + aexp(ξ[2]*ξ[4:]))),\n",
    "        adiag(ξ[1]*((1+ξ[4:]**2)**(ξ[3]-1))*(((18*ξ[3] + 9)*(ξ[4:]**2) + 9)*aexp(2*ξ[2]*ξ[4:]) + (8*ξ[2]*ξ[4:]**3 + (20*ξ[3] + 10)*ξ[4:]**2 + 8*ξ[2]*ξ[4:] + 10)*aexp(ξ[2]*ξ[4:]) + (2*ξ[3] + 1)*ξ[4:]**2 + 1) / (5*(1 + aexp(ξ[2]*ξ[4:]))**2))\n",
    "    ))\n",
    "\n",
    "def Jf(ξ):\n",
    "    \"\"\"Jacobian of f.\"\"\"\n",
    "    return Jf_transpose(ξ).T\n",
    "\n",
    "def check_jacobian(tol=1e-12):\n",
    "    \"\"\"Checks if Jacobian function is correct.\"\"\"\n",
    "    ξ = r_[θ0, randn(m)]\n",
    "    return np.max(abs(Jf(ξ) - jacobian(f)(ξ))) < tol\n",
    "\n",
    "Jf_autograd = jacobian(f)\n",
    "\n",
    "def log_pθ_beta(θ):\n",
    "    \"\"\"Beta logprior for θ.\"\"\"\n",
    "    assert len(θ) == 4, \"θ must be 4-dimensional but has length {}\".format(len(θ))\n",
    "    #return abetadist.logpdf(θ, a=2, b=2, scale=10).sum()\n",
    "    # α=2.0 and β=2.0\n",
    "    return (alog(θ/10) + alog(1-θ/10) -alog(2) -alog(2) + alog(agamma(4))- alog(10)).sum()\n",
    "    \n",
    "    \n",
    "def log_pz(z):\n",
    "    \"\"\"Normal logprior for z.\"\"\"\n",
    "    return andist.logpdf(z).sum()\n",
    "\n",
    "def logprior_beta(ξ):\n",
    "    \"\"\"Log prior on ξ using Beta(2,2) for θ.\"\"\"\n",
    "    return log_pθ_beta(ξ[:4]) + log_pz(ξ[4:])\n",
    "\n",
    "def neg_logprior_beta(ξ):\n",
    "    return - logprior_beta(ξ)\n",
    "\n",
    "def sample_θ_beta():\n",
    "    \"\"\"Samples θ from Beta prior. \"\"\"\n",
    "    return abetadist.rvs(a=2, b=2, scale=10, size=4) #10*abetadist.rvs(a=2, b=2, scale=1, size=4)\n",
    "\n",
    "def sample_prior_beta():\n",
    "    \"\"\"Samples from prior for ξ where p(θ) is a Beta(2,2).\"\"\"\n",
    "    return anp.r_[sample_θ_beta(), randn(m)]\n",
    "\n",
    "def log_normal_kernel(ξ, ystar, ϵ):\n",
    "    \"\"\"Log normal kernel density.\"\"\"\n",
    "    u = anorm(f(ξ) - ystar)\n",
    "    return -u**2/(2*(ϵ**2)) -0.5*alog(2*pi*(ϵ**2))\n",
    "\n",
    "def log_abc_posterior_beta(ξ, ystar, ϵ):\n",
    "    \"\"\"Log posterior density. \"\"\"\n",
    "    return logprior_beta(ξ) + log_normal_kernel(ξ, ystar, ϵ)\n",
    "\n",
    "# def find_point_on_manifold(ystar, ϵ, max_iter=1000):\n",
    "#     \"\"\"Find a point on the data manifold.\"\"\"\n",
    "#     i = 0\n",
    "#     with catch_warnings():\n",
    "#         filterwarnings('error')\n",
    "#         while i <= max_iter:\n",
    "#             i += 1\n",
    "#             try: \n",
    "#                 ξ_guess = sample_prior_beta()\n",
    "#                 ξ_found = fsolve(lambda ξ: r_[f(ξ) - ystar, azeros(4)], ξ_guess)\n",
    "#                 if not isfinite([log_abc_posterior_beta(ξ_found, ystar, ϵ)]):\n",
    "#                     pass\n",
    "#                 else:\n",
    "#                     return ξ_found\n",
    "\n",
    "#             except RuntimeWarning:\n",
    "#                 continue\n",
    "#         raise ValueError(\"Couldn't find a point, try again.\")\n",
    "\n",
    "def find_point_on_manifold(ystar, ϵ, max_iter=1000, tol=1.49012e-08, m=50):\n",
    "    \"\"\"Find a point on the data manifold.\"\"\"\n",
    "    i = 0\n",
    "    with catch_warnings():\n",
    "        filterwarnings('error')\n",
    "        while i <= max_iter:\n",
    "            i += 1\n",
    "            try: \n",
    "                # Sample θ from the prior\n",
    "                θfixed = sample_θ_beta()\n",
    "                function = lambda z: f(r_[θfixed, z]) - ystar\n",
    "                z_guess  = randn(m)\n",
    "                z_found  = fsolve(function, z_guess, xtol=tol)\n",
    "                ξ_found  = r_[θfixed, z_found]\n",
    "                if not isfinite([log_abc_posterior_beta(ξ_found, ystar, ϵ)]):\n",
    "                    pass\n",
    "                else:\n",
    "                    return ξ_found\n",
    "\n",
    "            except RuntimeWarning:\n",
    "                continue\n",
    "        raise ValueError(\"Couldn't find a point, try again.\")    \n",
    "        \n",
    "def find_point_on_manifold_from_θ(ystar, θfixed, ϵ, max_iter=2000, tol=1.49012e-08):\n",
    "    \"\"\"Same as the above but we provide the θfixed. Can be used to find a point where\n",
    "    the theta is already θ0.\"\"\"\n",
    "    function = lambda z: f(r_[θfixed, z]) - ystar\n",
    "    z_guess  = randn(m)\n",
    "    z_found  = fsolve(function, z_guess, xtol=tol)\n",
    "    ξ_found  = r_[θfixed, z_found]\n",
    "    if not isfinite([log_abc_posterior_beta(ξ_found, ystar, ϵ)]):\n",
    "        raise ValueError(\"Couldn't find a point.\")\n",
    "    else:\n",
    "        return ξ_found\n",
    "\n",
    "# def beta_pdf(x, α, β, loc=0.0, scale=1.0):\n",
    "#     y = (x - loc) / scale\n",
    "#     return ((y**(α-1))*((1-y)**(β-1)) / (gamma(α)*gamma(β)*scale)) * gamma(α + β)\n",
    "# def beta_logpdf(x, α, β, loc=0.0, scale=1.0):\n",
    "#     y = (x - loc) / scale\n",
    "#     return (α - 1)*log(y) + (β - 1)*log(1-y) - log(gamma(α)) - log(gamma(β)) + log(gamma(α + β)) - log(scale)\n",
    "\n",
    "        \n",
    "def is_on_manifold(ξ, ystar, tol=1e-8):\n",
    "    \"\"\"Checks if ξ is on the ystar manifold.\"\"\"\n",
    "    return np.max(abs(f(ξ) - ystar)) < tol\n",
    "        \n",
    "q = MVN(zeros(d), eye(d))"
   ]
  },
  {
   "cell_type": "code",
   "execution_count": 55,
   "id": "40eb0544",
   "metadata": {},
   "outputs": [],
   "source": [
    "ystar = data_generator(θ0, m, seed=1234)"
   ]
  },
  {
   "cell_type": "code",
   "execution_count": 56,
   "id": "f5757348",
   "metadata": {},
   "outputs": [],
   "source": [
    "# # T = 0.2\n",
    "# # B = 5\n",
    "# #### Try keeping \n",
    "# B = 5\n",
    "# δ = 0.1\n",
    "# T = B * δ\n",
    "# print(\"B: {}\\nδ: {}\\nT: {}\".format(B, δ, T))"
   ]
  },
  {
   "cell_type": "code",
   "execution_count": 57,
   "id": "2f04aa62",
   "metadata": {},
   "outputs": [],
   "source": [
    "def generate_powers_of_ten(max_exponent, min_exponent):\n",
    "    \"\"\"E.g. generate_powers_of_ten(2, -1) will return 100, 10, 0, 0.1.\"\"\"\n",
    "    number_of_powers = max_exponent + abs(min_exponent) + 1\n",
    "    return logspace(start=max_exponent, stop=min_exponent, num=number_of_powers, endpoint=True)"
   ]
  },
  {
   "cell_type": "code",
   "execution_count": 58,
   "id": "103399b9",
   "metadata": {},
   "outputs": [],
   "source": [
    "# max_exponent = 3\n",
    "# min_exponent = -5\n",
    "# total = max_exponent + abs(min_exponent) + 1\n",
    "# ϵs = generate_powers_of_ten(3, -5) #logspace(start=max_exponent, stop=min_exponent, num=total, endpoint=True)\n",
    "# seeds  = array([1111, 2222, 3333, 4444, 5555, 6666, 7777, 8888, 9999])\n",
    "# assert len(ϵs) == len(seeds)\n",
    "# ystars = [ystar for ϵ in ϵs] #[data_generator(θ0, m, seed=seed) for seed in seeds]\n",
    "# n_repeats = 1\n",
    "# N_samples = 1000"
   ]
  },
  {
   "cell_type": "code",
   "execution_count": 59,
   "id": "85b1464e",
   "metadata": {},
   "outputs": [],
   "source": [
    "# ξ0s = []\n",
    "# # find point that works for smallest ϵ\n",
    "ξ0_found = find_point_on_manifold(ystar, ϵ=1e-5, max_iter=5000, tol=1e-16)\n",
    "# ξ0s = [ξ0_found for ϵ in ϵs]"
   ]
  },
  {
   "cell_type": "code",
   "execution_count": 836,
   "id": "ddc542ae",
   "metadata": {},
   "outputs": [],
   "source": [
    "def run_thug(ξ0, T, B, N_samples, α, ystar, ϵ, method='qr'):\n",
    "    \"\"\"Runs THUG with various settings.\"\"\"\n",
    "    start_time = time.time()\n",
    "    thug_samples, thug_acc = HugTangentialMultivariate(\n",
    "        x0=ξ0,\n",
    "        T=T,\n",
    "        B=B,\n",
    "        N=N_samples,\n",
    "        α=α,\n",
    "        q=q,\n",
    "        logpi=lambda ξ: log_abc_posterior_beta(ξ, ystar, ϵ=ϵ),\n",
    "        jac=Jf,\n",
    "        method=method\n",
    "    )\n",
    "    runtimeTHUG = time.time() - start_time\n",
    "    return min(ESS_univariate(thug_samples)) / runtimeTHUG, thug_acc.mean()\n",
    "\n",
    "def run_crwm(ξ0, T, B, N_samples, ystar, tol=1e-10, rev_tol=1e-10, norm_ord=2):\n",
    "    \"\"\"Runs C-RWM with various settings.\"\"\"\n",
    "    manifold = GKManifold(ystar=ystar)\n",
    "    # Run\n",
    "    start_time = time.time()\n",
    "    crwm_samples, crwm_evals, crwm_acc  = zappa_sampling_storecomps_rattle(ξ0, manifold, N_samples, T, B, tol=tol, rev_tol=rev_tol, norm_ord=norm_ord)\n",
    "    runtimeCRWM = time.time() - start_time\n",
    "    return min(ESS_univariate(crwm_samples)) / runtimeCRWM, crwm_acc.mean()"
   ]
  },
  {
   "cell_type": "code",
   "execution_count": 835,
   "id": "c52dca9d",
   "metadata": {},
   "outputs": [],
   "source": [
    "def run_thug_for_various_ϵ_and_B(ϵs, Bs, δ, N_samples, α=0.0, method='qr'):\n",
    "    \"\"\"For each ϵ and for each B it runs THUG and computes its minESS/runtime.\"\"\"\n",
    "    THUG_CC = zeros((len(ϵs), len(Bs)))\n",
    "    THUG_AP = zeros((len(ϵs), len(Bs)))\n",
    "    for ϵ_ix, ϵ in enumerate(ϵs):\n",
    "        for B_ix, B in enumerate(Bs):\n",
    "            print(\"ϵ = \", ϵ, \" B = \", B)\n",
    "            thug_cc, thug_ap = run_thug(ξ0_found, B*δ, B, N_samples, α, ystar, ϵ, method=method)\n",
    "            THUG_CC[ϵ_ix, B_ix] = thug_cc\n",
    "            THUG_AP[ϵ_ix, B_ix] = thug_ap\n",
    "    return THUG_CC, THUG_AP\n",
    "\n",
    "def avg_thug_for_various_ϵ_and_B(ϵs, Bs, δ, N_samples, α, method, n_runs):\n",
    "    \"\"\"Basically averages results of `run_thug_for_various_ϵ_and_B` for several runs.\"\"\"\n",
    "    THUG_CC = zeros((len(ϵs), len(Bs)))\n",
    "    THUG_AP = zeros((len(ϵs), len(Bs)))\n",
    "    for i in range(n_runs):\n",
    "        thug_cc, thug_ap = run_thug_for_various_ϵ_and_B(ϵs, Bs, δ, N_samples, α=α, method=method)\n",
    "        THUG_CC += (thug_cc / n_runs)\n",
    "        THUG_AP += (thug_ap / n_runs)\n",
    "    return THUG_CC, THUG_AP\n",
    "\n",
    "def run_crwm_for_various_B(Bs, δ, N_samples, tol=1e-16, rev_tol=1e-16, norm_ord=2):\n",
    "    \"\"\"Basically same as above but since C-RWM is on the manifold we don't need to run it for different ϵs.\"\"\"\n",
    "    CRWM_CC = zeros(len(Bs))\n",
    "    CRWM_AP = zeros(len(Bs))\n",
    "    for B_ix, B in enumerate(Bs):\n",
    "        print(\"B = \", B)\n",
    "        crwm_cc, crwm_ap = run_crwm(ξ0_found, B*δ, B, N_samples, ystar, tol=tol, rev_tol=rev_tol, norm_ord=norm_ord)\n",
    "        CRWM_CC[B_ix] = crwm_cc\n",
    "        CRWM_AP[B_ix] = crwm_ap\n",
    "    return CRWM_CC, CRWM_AP\n",
    "\n",
    "def avg_crwm_for_various_B(Bs, δ, N_samples, n_runs, tol=1e-16, rev_tol=1e-16):\n",
    "    \"\"\"Averages `run_crwm_for_various_B` for a number of runs.\"\"\"\n",
    "    CRWM_CC = zeros(len(Bs))\n",
    "    CRWM_AP = zeros(len(Bs))\n",
    "    for i in range(n_runs):\n",
    "        crwm_cc, crwm_ap = run_crwm_for_various_B(Bs, δ, N_samples, tol=tol, rev_tol=rev_tol)\n",
    "        CRWM_CC += (crwm_cc / n_runs)\n",
    "        CRWM_AP += (crwm_ap / n_runs)\n",
    "    return CRWM_CC, CRWM_AP"
   ]
  },
  {
   "cell_type": "code",
   "execution_count": 154,
   "id": "ebe92917",
   "metadata": {},
   "outputs": [],
   "source": [
    "ϵs        = generate_powers_of_ten(0, -4) #generate_powers_of_ten(2, -8)[::2]\n",
    "δ         = 0.05 #0.01\n",
    "N_samples = 10000\n",
    "Bs        = [5, 10, 20]"
   ]
  },
  {
   "cell_type": "code",
   "execution_count": 820,
   "id": "08e87f3b",
   "metadata": {},
   "outputs": [],
   "source": [
    "# I just want to figure out how Jacobian computations are needed in the Newton step.\n",
    "def check_n_jacobian_comp_per_newton_step(m, δ, N_samples, B, tol=1e-10, rev_tol=1e-10, maxiter=50, tol_init_point=1e-16, norm_ord=2):\n",
    "    \"\"\"Basically runs N_samples of C-RWM and prints out how many Jacobian computations\n",
    "    were used during the Newton step.\"\"\"\n",
    "    θ0        = array([3.0, 1.0, 2.0, 0.5])\n",
    "    d         = 4 + m                      \n",
    "    ystar = data_generator(θ0, m, seed=1234)\n",
    "    print(\"Dimensionality: \", m)\n",
    "    print(\"Dim(ystar): \", ystar.shape)\n",
    "    ξ0 = find_point_on_manifold(ystar, ϵ=1e-5, max_iter=5000, tol=tol_init_point, m=m)\n",
    "    print(\"Dim(ξ0): \", ξ0.shape)\n",
    "    manifold = GKManifold(ystar=ystar)\n",
    "    print(\"M dim and codim: \", manifold.get_dimension(), manifold.get_codimension())\n",
    "    return zappa_sampling_storecomps_rattle(ξ0, manifold, N_samples, B*δ, B, tol, rev_tol, maxiter, norm_ord)"
   ]
  },
  {
   "cell_type": "code",
   "execution_count": 238,
   "id": "041f967f",
   "metadata": {},
   "outputs": [
    {
     "name": "stdout",
     "output_type": "stream",
     "text": [
      "Dimensionality:  50\n",
      "Dim(ystar):  (50,)\n",
      "Dim(ξ0):  (54,)\n",
      "M dim and codim:  4 50\n",
      "Iteration:  0\n",
      "Leapfrog Step:  0\n",
      "\tConstrained Step FW:  51\n",
      "\tConstrained Step BW:  51\n"
     ]
    }
   ],
   "source": [
    "___ = check_n_jacobian_comp_per_newton_step(m=50, δ=0.05, N_samples=1, B=1, tol=1e-16, rev_tol=1e-16)"
   ]
  },
  {
   "cell_type": "code",
   "execution_count": 913,
   "id": "31fe9795",
   "metadata": {},
   "outputs": [
    {
     "data": {
      "text/plain": [
       "(2.049899833007743, 1.0)"
      ]
     },
     "execution_count": 913,
     "metadata": {},
     "output_type": "execute_result"
    }
   ],
   "source": [
    "run_thug(ξ0_found, 5*δ, 5, 1000, 0.0, ystar, 1e-2)"
   ]
  },
  {
   "cell_type": "code",
   "execution_count": null,
   "id": "abff31a2",
   "metadata": {},
   "outputs": [],
   "source": []
  },
  {
   "cell_type": "code",
   "execution_count": null,
   "id": "25c09d58",
   "metadata": {},
   "outputs": [],
   "source": []
  },
  {
   "cell_type": "code",
   "execution_count": null,
   "id": "7e073453",
   "metadata": {},
   "outputs": [],
   "source": []
  },
  {
   "cell_type": "code",
   "execution_count": 155,
   "id": "b59bf5fd",
   "metadata": {
    "scrolled": true
   },
   "outputs": [
    {
     "name": "stdout",
     "output_type": "stream",
     "text": [
      "ϵ =  1.0  B =  5\n",
      "ϵ =  1.0  B =  10\n",
      "ϵ =  1.0  B =  20\n",
      "ϵ =  0.1  B =  5\n",
      "ϵ =  0.1  B =  10\n",
      "ϵ =  0.1  B =  20\n",
      "ϵ =  0.01  B =  5\n",
      "ϵ =  0.01  B =  10\n",
      "ϵ =  0.01  B =  20\n",
      "ϵ =  0.001  B =  5\n",
      "ϵ =  0.001  B =  10\n",
      "ϵ =  0.001  B =  20\n",
      "ϵ =  0.0001  B =  5\n",
      "ϵ =  0.0001  B =  10\n",
      "ϵ =  0.0001  B =  20\n"
     ]
    }
   ],
   "source": [
    "OUT1, OUT2 = run_thug_for_various_ϵ_and_B(ϵs, Bs, δ, N_samples, α=0.0, method='linear')"
   ]
  },
  {
   "cell_type": "code",
   "execution_count": 156,
   "id": "d3aa6e2d",
   "metadata": {
    "scrolled": true
   },
   "outputs": [
    {
     "name": "stdout",
     "output_type": "stream",
     "text": [
      "ϵ =  1.0  B =  5\n",
      "ϵ =  1.0  B =  10\n",
      "ϵ =  1.0  B =  20\n",
      "ϵ =  0.1  B =  5\n",
      "ϵ =  0.1  B =  10\n",
      "ϵ =  0.1  B =  20\n",
      "ϵ =  0.01  B =  5\n",
      "ϵ =  0.01  B =  10\n",
      "ϵ =  0.01  B =  20\n",
      "ϵ =  0.001  B =  5\n",
      "ϵ =  0.001  B =  10\n",
      "ϵ =  0.001  B =  20\n",
      "ϵ =  0.0001  B =  5\n",
      "ϵ =  0.0001  B =  10\n",
      "ϵ =  0.0001  B =  20\n"
     ]
    }
   ],
   "source": [
    "OUT3, OUT4 = run_thug_for_various_ϵ_and_B(ϵs, Bs, δ, N_samples, α=0.99)"
   ]
  },
  {
   "cell_type": "code",
   "execution_count": 157,
   "id": "735073cf",
   "metadata": {},
   "outputs": [
    {
     "name": "stdout",
     "output_type": "stream",
     "text": [
      "B =  5\n"
     ]
    },
    {
     "name": "stderr",
     "output_type": "stream",
     "text": [
      "/var/folders/31/dthljx8x5mldm2ll5_zz7xrr0000gn/T/ipykernel_49299/1287997445.py:20: RuntimeWarning: invalid value encountered in log\n",
      "  return (np.log(θ/10) + np.log(1-θ/10)).sum() - math.prod(np.linalg.slogdet(J@J.T))/2 - z@z/2\n"
     ]
    },
    {
     "name": "stdout",
     "output_type": "stream",
     "text": [
      "B =  10\n",
      "B =  20\n"
     ]
    }
   ],
   "source": [
    "# OUT5, OUT6 = run_crwm_for_various_B([1, 10, 100], 0.001, 1000)\n",
    "OUT5, OUT6 = run_crwm_for_various_B(Bs, δ, N_samples)"
   ]
  },
  {
   "cell_type": "code",
   "execution_count": 158,
   "id": "42e306f1",
   "metadata": {},
   "outputs": [
    {
     "name": "stdout",
     "output_type": "stream",
     "text": [
      "ϵ =  1.0  B =  5\n",
      "ϵ =  1.0  B =  10\n",
      "ϵ =  1.0  B =  20\n",
      "ϵ =  0.1  B =  5\n",
      "ϵ =  0.1  B =  10\n",
      "ϵ =  0.1  B =  20\n",
      "ϵ =  0.01  B =  5\n",
      "ϵ =  0.01  B =  10\n",
      "ϵ =  0.01  B =  20\n",
      "ϵ =  0.001  B =  5\n",
      "ϵ =  0.001  B =  10\n",
      "ϵ =  0.001  B =  20\n",
      "ϵ =  0.0001  B =  5\n",
      "ϵ =  0.0001  B =  10\n",
      "ϵ =  0.0001  B =  20\n"
     ]
    }
   ],
   "source": [
    "OUT7, OUT8 = run_thug_for_various_ϵ_and_B(ϵs, Bs, δ, N_samples, α=0.995)"
   ]
  },
  {
   "cell_type": "code",
   "execution_count": 165,
   "id": "4b13be28",
   "metadata": {
    "scrolled": true
   },
   "outputs": [
    {
     "name": "stdout",
     "output_type": "stream",
     "text": [
      "ϵ =  1.0  B =  5\n",
      "ϵ =  1.0  B =  10\n"
     ]
    },
    {
     "name": "stderr",
     "output_type": "stream",
     "text": [
      "/opt/anaconda3/envs/manifold-sampling/lib/python3.10/site-packages/autograd/tracer.py:48: RuntimeWarning: invalid value encountered in log\n",
      "  return f_raw(*args, **kwargs)\n"
     ]
    },
    {
     "name": "stdout",
     "output_type": "stream",
     "text": [
      "ϵ =  1.0  B =  20\n",
      "ϵ =  0.1  B =  5\n",
      "ϵ =  0.1  B =  10\n",
      "ϵ =  0.1  B =  20\n",
      "ϵ =  0.01  B =  5\n",
      "ϵ =  0.01  B =  10\n",
      "ϵ =  0.01  B =  20\n",
      "ϵ =  0.001  B =  5\n",
      "ϵ =  0.001  B =  10\n",
      "ϵ =  0.001  B =  20\n",
      "ϵ =  0.0001  B =  5\n",
      "ϵ =  0.0001  B =  10\n",
      "ϵ =  0.0001  B =  20\n",
      "ϵ =  1.0  B =  5\n",
      "ϵ =  1.0  B =  10\n",
      "ϵ =  1.0  B =  20\n",
      "ϵ =  0.1  B =  5\n",
      "ϵ =  0.1  B =  10\n",
      "ϵ =  0.1  B =  20\n",
      "ϵ =  0.01  B =  5\n",
      "ϵ =  0.01  B =  10\n",
      "ϵ =  0.01  B =  20\n",
      "ϵ =  0.001  B =  5\n",
      "ϵ =  0.001  B =  10\n",
      "ϵ =  0.001  B =  20\n",
      "ϵ =  0.0001  B =  5\n",
      "ϵ =  0.0001  B =  10\n",
      "ϵ =  0.0001  B =  20\n",
      "ϵ =  1.0  B =  5\n",
      "ϵ =  1.0  B =  10\n",
      "ϵ =  1.0  B =  20\n",
      "ϵ =  0.1  B =  5\n",
      "ϵ =  0.1  B =  10\n",
      "ϵ =  0.1  B =  20\n",
      "ϵ =  0.01  B =  5\n",
      "ϵ =  0.01  B =  10\n",
      "ϵ =  0.01  B =  20\n",
      "ϵ =  0.001  B =  5\n",
      "ϵ =  0.001  B =  10\n",
      "ϵ =  0.001  B =  20\n",
      "ϵ =  0.0001  B =  5\n",
      "ϵ =  0.0001  B =  10\n",
      "ϵ =  0.0001  B =  20\n",
      "ϵ =  1.0  B =  5\n",
      "ϵ =  1.0  B =  10\n",
      "ϵ =  1.0  B =  20\n",
      "ϵ =  0.1  B =  5\n",
      "ϵ =  0.1  B =  10\n",
      "ϵ =  0.1  B =  20\n",
      "ϵ =  0.01  B =  5\n",
      "ϵ =  0.01  B =  10\n",
      "ϵ =  0.01  B =  20\n",
      "ϵ =  0.001  B =  5\n",
      "ϵ =  0.001  B =  10\n",
      "ϵ =  0.001  B =  20\n",
      "ϵ =  0.0001  B =  5\n",
      "ϵ =  0.0001  B =  10\n",
      "ϵ =  0.0001  B =  20\n",
      "ϵ =  1.0  B =  5\n",
      "ϵ =  1.0  B =  10\n",
      "ϵ =  1.0  B =  20\n",
      "ϵ =  0.1  B =  5\n",
      "ϵ =  0.1  B =  10\n",
      "ϵ =  0.1  B =  20\n",
      "ϵ =  0.01  B =  5\n",
      "ϵ =  0.01  B =  10\n",
      "ϵ =  0.01  B =  20\n",
      "ϵ =  0.001  B =  5\n",
      "ϵ =  0.001  B =  10\n",
      "ϵ =  0.001  B =  20\n",
      "ϵ =  0.0001  B =  5\n",
      "ϵ =  0.0001  B =  10\n",
      "ϵ =  0.0001  B =  20\n",
      "ϵ =  1.0  B =  5\n",
      "ϵ =  1.0  B =  10\n",
      "ϵ =  1.0  B =  20\n",
      "ϵ =  0.1  B =  5\n",
      "ϵ =  0.1  B =  10\n",
      "ϵ =  0.1  B =  20\n",
      "ϵ =  0.01  B =  5\n",
      "ϵ =  0.01  B =  10\n",
      "ϵ =  0.01  B =  20\n",
      "ϵ =  0.001  B =  5\n",
      "ϵ =  0.001  B =  10\n",
      "ϵ =  0.001  B =  20\n",
      "ϵ =  0.0001  B =  5\n",
      "ϵ =  0.0001  B =  10\n",
      "ϵ =  0.0001  B =  20\n",
      "ϵ =  1.0  B =  5\n",
      "ϵ =  1.0  B =  10\n",
      "ϵ =  1.0  B =  20\n",
      "ϵ =  0.1  B =  5\n",
      "ϵ =  0.1  B =  10\n",
      "ϵ =  0.1  B =  20\n",
      "ϵ =  0.01  B =  5\n",
      "ϵ =  0.01  B =  10\n",
      "ϵ =  0.01  B =  20\n",
      "ϵ =  0.001  B =  5\n",
      "ϵ =  0.001  B =  10\n",
      "ϵ =  0.001  B =  20\n",
      "ϵ =  0.0001  B =  5\n",
      "ϵ =  0.0001  B =  10\n",
      "ϵ =  0.0001  B =  20\n",
      "ϵ =  1.0  B =  5\n",
      "ϵ =  1.0  B =  10\n",
      "ϵ =  1.0  B =  20\n",
      "ϵ =  0.1  B =  5\n",
      "ϵ =  0.1  B =  10\n",
      "ϵ =  0.1  B =  20\n",
      "ϵ =  0.01  B =  5\n",
      "ϵ =  0.01  B =  10\n",
      "ϵ =  0.01  B =  20\n",
      "ϵ =  0.001  B =  5\n",
      "ϵ =  0.001  B =  10\n",
      "ϵ =  0.001  B =  20\n",
      "ϵ =  0.0001  B =  5\n",
      "ϵ =  0.0001  B =  10\n",
      "ϵ =  0.0001  B =  20\n",
      "ϵ =  1.0  B =  5\n",
      "ϵ =  1.0  B =  10\n",
      "ϵ =  1.0  B =  20\n",
      "ϵ =  0.1  B =  5\n",
      "ϵ =  0.1  B =  10\n",
      "ϵ =  0.1  B =  20\n",
      "ϵ =  0.01  B =  5\n",
      "ϵ =  0.01  B =  10\n",
      "ϵ =  0.01  B =  20\n",
      "ϵ =  0.001  B =  5\n",
      "ϵ =  0.001  B =  10\n",
      "ϵ =  0.001  B =  20\n",
      "ϵ =  0.0001  B =  5\n",
      "ϵ =  0.0001  B =  10\n",
      "ϵ =  0.0001  B =  20\n",
      "ϵ =  1.0  B =  5\n",
      "ϵ =  1.0  B =  10\n",
      "ϵ =  1.0  B =  20\n",
      "ϵ =  0.1  B =  5\n",
      "ϵ =  0.1  B =  10\n",
      "ϵ =  0.1  B =  20\n",
      "ϵ =  0.01  B =  5\n",
      "ϵ =  0.01  B =  10\n",
      "ϵ =  0.01  B =  20\n",
      "ϵ =  0.001  B =  5\n",
      "ϵ =  0.001  B =  10\n",
      "ϵ =  0.001  B =  20\n",
      "ϵ =  0.0001  B =  5\n",
      "ϵ =  0.0001  B =  10\n",
      "ϵ =  0.0001  B =  20\n"
     ]
    }
   ],
   "source": [
    "OUT9, OUT10 = avg_thug_for_various_ϵ_and_B(ϵs, Bs, δ, N_samples, α=0.0, method='linear', n_runs=10)"
   ]
  },
  {
   "cell_type": "code",
   "execution_count": 168,
   "id": "d7d430f7",
   "metadata": {},
   "outputs": [
    {
     "name": "stdout",
     "output_type": "stream",
     "text": [
      "B =  5\n"
     ]
    },
    {
     "name": "stderr",
     "output_type": "stream",
     "text": [
      "/var/folders/31/dthljx8x5mldm2ll5_zz7xrr0000gn/T/ipykernel_49299/1287997445.py:20: RuntimeWarning: invalid value encountered in log\n",
      "  return (np.log(θ/10) + np.log(1-θ/10)).sum() - math.prod(np.linalg.slogdet(J@J.T))/2 - z@z/2\n"
     ]
    },
    {
     "name": "stdout",
     "output_type": "stream",
     "text": [
      "B =  10\n",
      "B =  20\n",
      "B =  5\n",
      "B =  10\n",
      "B =  20\n",
      "B =  5\n",
      "B =  10\n",
      "B =  20\n",
      "B =  5\n",
      "B =  10\n",
      "B =  20\n",
      "B =  5\n",
      "B =  10\n",
      "B =  20\n",
      "B =  5\n",
      "B =  10\n",
      "B =  20\n",
      "B =  5\n",
      "B =  10\n",
      "B =  20\n",
      "B =  5\n",
      "B =  10\n",
      "B =  20\n",
      "B =  5\n",
      "B =  10\n",
      "B =  20\n",
      "B =  5\n",
      "B =  10\n",
      "B =  20\n"
     ]
    }
   ],
   "source": [
    "OUT11, OUT12 = avg_crwm_for_various_B(Bs, δ, N_samples, 10)"
   ]
  },
  {
   "cell_type": "code",
   "execution_count": 243,
   "id": "44ed701d",
   "metadata": {},
   "outputs": [
    {
     "name": "stdout",
     "output_type": "stream",
     "text": [
      "B =  5\n",
      "B =  10\n",
      "B =  20\n"
     ]
    }
   ],
   "source": [
    "OUT13, OUT14 = run_crwm_for_various_B(Bs, δ, N_samples)"
   ]
  },
  {
   "cell_type": "code",
   "execution_count": 247,
   "id": "c5b818b4",
   "metadata": {},
   "outputs": [
    {
     "name": "stdout",
     "output_type": "stream",
     "text": [
      "B =  1\n"
     ]
    }
   ],
   "source": [
    "OUT15, OUT16 = run_crwm_for_various_B([1], δ, N_samples)"
   ]
  },
  {
   "cell_type": "code",
   "execution_count": 876,
   "id": "7e4d992b",
   "metadata": {},
   "outputs": [],
   "source": [
    "Bs = [1, 10, 100]\n",
    "N_samples = 1000\n",
    "ϵs        = generate_powers_of_ten(0, -6) #generate_powers_of_ten(2, -8)[::2]\n",
    "δ = 0.001"
   ]
  },
  {
   "cell_type": "code",
   "execution_count": 910,
   "id": "9ac82119",
   "metadata": {
    "scrolled": true
   },
   "outputs": [
    {
     "name": "stdout",
     "output_type": "stream",
     "text": [
      "ϵ =  1.0  B =  1\n"
     ]
    },
    {
     "name": "stderr",
     "output_type": "stream",
     "text": [
      "/opt/anaconda3/envs/manifold-sampling/lib/python3.10/site-packages/autograd/tracer.py:48: RuntimeWarning: invalid value encountered in log\n",
      "  return f_raw(*args, **kwargs)\n"
     ]
    },
    {
     "name": "stdout",
     "output_type": "stream",
     "text": [
      "ϵ =  1.0  B =  10\n"
     ]
    },
    {
     "name": "stderr",
     "output_type": "stream",
     "text": [
      "/opt/anaconda3/envs/manifold-sampling/lib/python3.10/site-packages/autograd/tracer.py:48: RuntimeWarning: overflow encountered in exp\n",
      "  return f_raw(*args, **kwargs)\n",
      "/var/folders/31/dthljx8x5mldm2ll5_zz7xrr0000gn/T/ipykernel_49299/485003812.py:15: RuntimeWarning: invalid value encountered in true_divide\n",
      "  (1 + 0.8 * (1 - aexp(-ξ[2] * ξ[4:])) / (1 + aexp(-ξ[2] * ξ[4:]))) * ((1 + ξ[4:]**2)**ξ[3]) * ξ[4:],\n",
      "/var/folders/31/dthljx8x5mldm2ll5_zz7xrr0000gn/T/ipykernel_49299/485003812.py:16: RuntimeWarning: overflow encountered in square\n",
      "  8 * ξ[1] * (ξ[4:]**2) * ((1 + ξ[4:]**2)**ξ[3]) * aexp(ξ[2]*ξ[4:]) / (5 * (1 + aexp(ξ[2]*ξ[4:]))**2),\n",
      "/var/folders/31/dthljx8x5mldm2ll5_zz7xrr0000gn/T/ipykernel_49299/485003812.py:18: RuntimeWarning: overflow encountered in square\n",
      "  adiag(ξ[1]*((1+ξ[4:]**2)**(ξ[3]-1))*(((18*ξ[3] + 9)*(ξ[4:]**2) + 9)*aexp(2*ξ[2]*ξ[4:]) + (8*ξ[2]*ξ[4:]**3 + (20*ξ[3] + 10)*ξ[4:]**2 + 8*ξ[2]*ξ[4:] + 10)*aexp(ξ[2]*ξ[4:]) + (2*ξ[3] + 1)*ξ[4:]**2 + 1) / (5*(1 + aexp(ξ[2]*ξ[4:]))**2))\n",
      "/var/folders/31/dthljx8x5mldm2ll5_zz7xrr0000gn/T/ipykernel_49299/485003812.py:18: RuntimeWarning: invalid value encountered in true_divide\n",
      "  adiag(ξ[1]*((1+ξ[4:]**2)**(ξ[3]-1))*(((18*ξ[3] + 9)*(ξ[4:]**2) + 9)*aexp(2*ξ[2]*ξ[4:]) + (8*ξ[2]*ξ[4:]**3 + (20*ξ[3] + 10)*ξ[4:]**2 + 8*ξ[2]*ξ[4:] + 10)*aexp(ξ[2]*ξ[4:]) + (2*ξ[3] + 1)*ξ[4:]**2 + 1) / (5*(1 + aexp(ξ[2]*ξ[4:]))**2))\n",
      "/var/folders/31/dthljx8x5mldm2ll5_zz7xrr0000gn/T/ipykernel_49299/485003812.py:16: RuntimeWarning: invalid value encountered in multiply\n",
      "  8 * ξ[1] * (ξ[4:]**2) * ((1 + ξ[4:]**2)**ξ[3]) * aexp(ξ[2]*ξ[4:]) / (5 * (1 + aexp(ξ[2]*ξ[4:]))**2),\n",
      "/var/folders/31/dthljx8x5mldm2ll5_zz7xrr0000gn/T/ipykernel_49299/485003812.py:16: RuntimeWarning: invalid value encountered in true_divide\n",
      "  8 * ξ[1] * (ξ[4:]**2) * ((1 + ξ[4:]**2)**ξ[3]) * aexp(ξ[2]*ξ[4:]) / (5 * (1 + aexp(ξ[2]*ξ[4:]))**2),\n",
      "/var/folders/31/dthljx8x5mldm2ll5_zz7xrr0000gn/T/ipykernel_49299/485003812.py:17: RuntimeWarning: invalid value encountered in multiply\n",
      "  ξ[1]*ξ[4:]*((1+ξ[4:]**2)**ξ[3])*(1 + 9*aexp(ξ[2]*ξ[4:]))*alog(1 + ξ[4:]**2) / (5*(1 + aexp(ξ[2]*ξ[4:]))),\n",
      "/var/folders/31/dthljx8x5mldm2ll5_zz7xrr0000gn/T/ipykernel_49299/485003812.py:17: RuntimeWarning: invalid value encountered in true_divide\n",
      "  ξ[1]*ξ[4:]*((1+ξ[4:]**2)**ξ[3])*(1 + 9*aexp(ξ[2]*ξ[4:]))*alog(1 + ξ[4:]**2) / (5*(1 + aexp(ξ[2]*ξ[4:]))),\n",
      "/var/folders/31/dthljx8x5mldm2ll5_zz7xrr0000gn/T/ipykernel_49299/485003812.py:18: RuntimeWarning: invalid value encountered in add\n",
      "  adiag(ξ[1]*((1+ξ[4:]**2)**(ξ[3]-1))*(((18*ξ[3] + 9)*(ξ[4:]**2) + 9)*aexp(2*ξ[2]*ξ[4:]) + (8*ξ[2]*ξ[4:]**3 + (20*ξ[3] + 10)*ξ[4:]**2 + 8*ξ[2]*ξ[4:] + 10)*aexp(ξ[2]*ξ[4:]) + (2*ξ[3] + 1)*ξ[4:]**2 + 1) / (5*(1 + aexp(ξ[2]*ξ[4:]))**2))\n",
      "/var/folders/31/dthljx8x5mldm2ll5_zz7xrr0000gn/T/ipykernel_49299/485003812.py:18: RuntimeWarning: overflow encountered in multiply\n",
      "  adiag(ξ[1]*((1+ξ[4:]**2)**(ξ[3]-1))*(((18*ξ[3] + 9)*(ξ[4:]**2) + 9)*aexp(2*ξ[2]*ξ[4:]) + (8*ξ[2]*ξ[4:]**3 + (20*ξ[3] + 10)*ξ[4:]**2 + 8*ξ[2]*ξ[4:] + 10)*aexp(ξ[2]*ξ[4:]) + (2*ξ[3] + 1)*ξ[4:]**2 + 1) / (5*(1 + aexp(ξ[2]*ξ[4:]))**2))\n",
      "/var/folders/31/dthljx8x5mldm2ll5_zz7xrr0000gn/T/ipykernel_49299/485003812.py:3: RuntimeWarning: invalid value encountered in true_divide\n",
      "  return ξ[0] + ξ[1]*(1 + 0.8*(1 - aexp(-ξ[2]*ξ[4:]))/(1 + aexp(-ξ[2]*ξ[4:]))) * ((1 + ξ[4:]**2)**ξ[3])*ξ[4:]\n"
     ]
    },
    {
     "name": "stdout",
     "output_type": "stream",
     "text": [
      "ϵ =  1.0  B =  100\n"
     ]
    },
    {
     "name": "stderr",
     "output_type": "stream",
     "text": [
      "/var/folders/31/dthljx8x5mldm2ll5_zz7xrr0000gn/T/ipykernel_49299/485003812.py:15: RuntimeWarning: overflow encountered in power\n",
      "  (1 + 0.8 * (1 - aexp(-ξ[2] * ξ[4:])) / (1 + aexp(-ξ[2] * ξ[4:]))) * ((1 + ξ[4:]**2)**ξ[3]) * ξ[4:],\n",
      "/var/folders/31/dthljx8x5mldm2ll5_zz7xrr0000gn/T/ipykernel_49299/485003812.py:16: RuntimeWarning: overflow encountered in power\n",
      "  8 * ξ[1] * (ξ[4:]**2) * ((1 + ξ[4:]**2)**ξ[3]) * aexp(ξ[2]*ξ[4:]) / (5 * (1 + aexp(ξ[2]*ξ[4:]))**2),\n",
      "/var/folders/31/dthljx8x5mldm2ll5_zz7xrr0000gn/T/ipykernel_49299/485003812.py:17: RuntimeWarning: overflow encountered in power\n",
      "  ξ[1]*ξ[4:]*((1+ξ[4:]**2)**ξ[3])*(1 + 9*aexp(ξ[2]*ξ[4:]))*alog(1 + ξ[4:]**2) / (5*(1 + aexp(ξ[2]*ξ[4:]))),\n",
      "/var/folders/31/dthljx8x5mldm2ll5_zz7xrr0000gn/T/ipykernel_49299/485003812.py:18: RuntimeWarning: overflow encountered in power\n",
      "  adiag(ξ[1]*((1+ξ[4:]**2)**(ξ[3]-1))*(((18*ξ[3] + 9)*(ξ[4:]**2) + 9)*aexp(2*ξ[2]*ξ[4:]) + (8*ξ[2]*ξ[4:]**3 + (20*ξ[3] + 10)*ξ[4:]**2 + 8*ξ[2]*ξ[4:] + 10)*aexp(ξ[2]*ξ[4:]) + (2*ξ[3] + 1)*ξ[4:]**2 + 1) / (5*(1 + aexp(ξ[2]*ξ[4:]))**2))\n",
      "/var/folders/31/dthljx8x5mldm2ll5_zz7xrr0000gn/T/ipykernel_49299/485003812.py:16: RuntimeWarning: overflow encountered in multiply\n",
      "  8 * ξ[1] * (ξ[4:]**2) * ((1 + ξ[4:]**2)**ξ[3]) * aexp(ξ[2]*ξ[4:]) / (5 * (1 + aexp(ξ[2]*ξ[4:]))**2),\n",
      "/var/folders/31/dthljx8x5mldm2ll5_zz7xrr0000gn/T/ipykernel_49299/485003812.py:15: RuntimeWarning: overflow encountered in multiply\n",
      "  (1 + 0.8 * (1 - aexp(-ξ[2] * ξ[4:])) / (1 + aexp(-ξ[2] * ξ[4:]))) * ((1 + ξ[4:]**2)**ξ[3]) * ξ[4:],\n",
      "/var/folders/31/dthljx8x5mldm2ll5_zz7xrr0000gn/T/ipykernel_49299/485003812.py:17: RuntimeWarning: overflow encountered in multiply\n",
      "  ξ[1]*ξ[4:]*((1+ξ[4:]**2)**ξ[3])*(1 + 9*aexp(ξ[2]*ξ[4:]))*alog(1 + ξ[4:]**2) / (5*(1 + aexp(ξ[2]*ξ[4:]))),\n"
     ]
    },
    {
     "ename": "LinAlgError",
     "evalue": "Singular matrix",
     "output_type": "error",
     "traceback": [
      "\u001b[0;31m---------------------------------------------------------------------------\u001b[0m",
      "\u001b[0;31mLinAlgError\u001b[0m                               Traceback (most recent call last)",
      "Input \u001b[0;32mIn [910]\u001b[0m, in \u001b[0;36m<cell line: 1>\u001b[0;34m()\u001b[0m\n\u001b[0;32m----> 1\u001b[0m OUT17, OUT18 \u001b[38;5;241m=\u001b[39m \u001b[43mrun_thug_for_various_ϵ_and_B\u001b[49m\u001b[43m(\u001b[49m\u001b[43mϵs\u001b[49m\u001b[43m,\u001b[49m\u001b[43m \u001b[49m\u001b[43mBs\u001b[49m\u001b[43m,\u001b[49m\u001b[43m \u001b[49m\u001b[38;5;241;43m1.0\u001b[39;49m\u001b[43m,\u001b[49m\u001b[43m \u001b[49m\u001b[43mN_samples\u001b[49m\u001b[43m,\u001b[49m\u001b[43m \u001b[49m\u001b[43mα\u001b[49m\u001b[38;5;241;43m=\u001b[39;49m\u001b[38;5;241;43m0.0\u001b[39;49m\u001b[43m,\u001b[49m\u001b[43m \u001b[49m\u001b[43mmethod\u001b[49m\u001b[38;5;241;43m=\u001b[39;49m\u001b[38;5;124;43m'\u001b[39;49m\u001b[38;5;124;43mlinear\u001b[39;49m\u001b[38;5;124;43m'\u001b[39;49m\u001b[43m)\u001b[49m\n",
      "Input \u001b[0;32mIn [835]\u001b[0m, in \u001b[0;36mrun_thug_for_various_ε_and_B\u001b[0;34m(εs, Bs, δ, N_samples, α, method)\u001b[0m\n\u001b[1;32m      6\u001b[0m \u001b[38;5;28;01mfor\u001b[39;00m B_ix, B \u001b[38;5;129;01min\u001b[39;00m \u001b[38;5;28menumerate\u001b[39m(Bs):\n\u001b[1;32m      7\u001b[0m     \u001b[38;5;28mprint\u001b[39m(\u001b[38;5;124m\"\u001b[39m\u001b[38;5;124mϵ = \u001b[39m\u001b[38;5;124m\"\u001b[39m, ϵ, \u001b[38;5;124m\"\u001b[39m\u001b[38;5;124m B = \u001b[39m\u001b[38;5;124m\"\u001b[39m, B)\n\u001b[0;32m----> 8\u001b[0m     thug_cc, thug_ap \u001b[38;5;241m=\u001b[39m \u001b[43mrun_thug\u001b[49m\u001b[43m(\u001b[49m\u001b[43mξ0_found\u001b[49m\u001b[43m,\u001b[49m\u001b[43m \u001b[49m\u001b[43mB\u001b[49m\u001b[38;5;241;43m*\u001b[39;49m\u001b[43mδ\u001b[49m\u001b[43m,\u001b[49m\u001b[43m \u001b[49m\u001b[43mB\u001b[49m\u001b[43m,\u001b[49m\u001b[43m \u001b[49m\u001b[43mN_samples\u001b[49m\u001b[43m,\u001b[49m\u001b[43m \u001b[49m\u001b[43mα\u001b[49m\u001b[43m,\u001b[49m\u001b[43m \u001b[49m\u001b[43mystar\u001b[49m\u001b[43m,\u001b[49m\u001b[43m \u001b[49m\u001b[43mϵ\u001b[49m\u001b[43m,\u001b[49m\u001b[43m \u001b[49m\u001b[43mmethod\u001b[49m\u001b[38;5;241;43m=\u001b[39;49m\u001b[43mmethod\u001b[49m\u001b[43m)\u001b[49m\n\u001b[1;32m      9\u001b[0m     THUG_CC[ϵ_ix, B_ix] \u001b[38;5;241m=\u001b[39m thug_cc\n\u001b[1;32m     10\u001b[0m     THUG_AP[ϵ_ix, B_ix] \u001b[38;5;241m=\u001b[39m thug_ap\n",
      "Input \u001b[0;32mIn [836]\u001b[0m, in \u001b[0;36mrun_thug\u001b[0;34m(ξ0, T, B, N_samples, α, ystar, ε, method)\u001b[0m\n\u001b[1;32m      2\u001b[0m \u001b[38;5;124;03m\"\"\"Runs THUG with various settings.\"\"\"\u001b[39;00m\n\u001b[1;32m      3\u001b[0m start_time \u001b[38;5;241m=\u001b[39m time\u001b[38;5;241m.\u001b[39mtime()\n\u001b[0;32m----> 4\u001b[0m thug_samples, thug_acc \u001b[38;5;241m=\u001b[39m \u001b[43mHugTangentialMultivariate\u001b[49m\u001b[43m(\u001b[49m\n\u001b[1;32m      5\u001b[0m \u001b[43m    \u001b[49m\u001b[43mx0\u001b[49m\u001b[38;5;241;43m=\u001b[39;49m\u001b[43mξ0\u001b[49m\u001b[43m,\u001b[49m\n\u001b[1;32m      6\u001b[0m \u001b[43m    \u001b[49m\u001b[43mT\u001b[49m\u001b[38;5;241;43m=\u001b[39;49m\u001b[43mT\u001b[49m\u001b[43m,\u001b[49m\n\u001b[1;32m      7\u001b[0m \u001b[43m    \u001b[49m\u001b[43mB\u001b[49m\u001b[38;5;241;43m=\u001b[39;49m\u001b[43mB\u001b[49m\u001b[43m,\u001b[49m\n\u001b[1;32m      8\u001b[0m \u001b[43m    \u001b[49m\u001b[43mN\u001b[49m\u001b[38;5;241;43m=\u001b[39;49m\u001b[43mN_samples\u001b[49m\u001b[43m,\u001b[49m\n\u001b[1;32m      9\u001b[0m \u001b[43m    \u001b[49m\u001b[43mα\u001b[49m\u001b[38;5;241;43m=\u001b[39;49m\u001b[43mα\u001b[49m\u001b[43m,\u001b[49m\n\u001b[1;32m     10\u001b[0m \u001b[43m    \u001b[49m\u001b[43mq\u001b[49m\u001b[38;5;241;43m=\u001b[39;49m\u001b[43mq\u001b[49m\u001b[43m,\u001b[49m\n\u001b[1;32m     11\u001b[0m \u001b[43m    \u001b[49m\u001b[43mlogpi\u001b[49m\u001b[38;5;241;43m=\u001b[39;49m\u001b[38;5;28;43;01mlambda\u001b[39;49;00m\u001b[43m \u001b[49m\u001b[43mξ\u001b[49m\u001b[43m:\u001b[49m\u001b[43m \u001b[49m\u001b[43mlog_abc_posterior_beta\u001b[49m\u001b[43m(\u001b[49m\u001b[43mξ\u001b[49m\u001b[43m,\u001b[49m\u001b[43m \u001b[49m\u001b[43mystar\u001b[49m\u001b[43m,\u001b[49m\u001b[43m \u001b[49m\u001b[43mϵ\u001b[49m\u001b[38;5;241;43m=\u001b[39;49m\u001b[43mϵ\u001b[49m\u001b[43m)\u001b[49m\u001b[43m,\u001b[49m\n\u001b[1;32m     12\u001b[0m \u001b[43m    \u001b[49m\u001b[43mjac\u001b[49m\u001b[38;5;241;43m=\u001b[39;49m\u001b[43mJf\u001b[49m\u001b[43m,\u001b[49m\n\u001b[1;32m     13\u001b[0m \u001b[43m    \u001b[49m\u001b[43mmethod\u001b[49m\u001b[38;5;241;43m=\u001b[39;49m\u001b[43mmethod\u001b[49m\n\u001b[1;32m     14\u001b[0m \u001b[43m\u001b[49m\u001b[43m)\u001b[49m\n\u001b[1;32m     15\u001b[0m runtimeTHUG \u001b[38;5;241m=\u001b[39m time\u001b[38;5;241m.\u001b[39mtime() \u001b[38;5;241m-\u001b[39m start_time\n\u001b[1;32m     16\u001b[0m \u001b[38;5;28;01mreturn\u001b[39;00m \u001b[38;5;28mmin\u001b[39m(ESS_univariate(thug_samples)) \u001b[38;5;241m/\u001b[39m runtimeTHUG, thug_acc\u001b[38;5;241m.\u001b[39mmean()\n",
      "File \u001b[0;32m~/Documents/University/ManifoldSampling/tangential_hug_functions.py:87\u001b[0m, in \u001b[0;36mHugTangentialMultivariate\u001b[0;34m(x0, T, B, N, α, q, logpi, jac, method, return_n_grad)\u001b[0m\n\u001b[1;32m     85\u001b[0m \u001b[38;5;28;01mfor\u001b[39;00m _ \u001b[38;5;129;01min\u001b[39;00m \u001b[38;5;28mrange\u001b[39m(B):\n\u001b[1;32m     86\u001b[0m     x \u001b[38;5;241m=\u001b[39m x \u001b[38;5;241m+\u001b[39m δ\u001b[38;5;241m*\u001b[39mv\u001b[38;5;241m/\u001b[39m\u001b[38;5;241m2\u001b[39m\n\u001b[0;32m---> 87\u001b[0m     v \u001b[38;5;241m=\u001b[39m v \u001b[38;5;241m-\u001b[39m \u001b[38;5;241m2\u001b[39m \u001b[38;5;241m*\u001b[39m \u001b[43mproject\u001b[49m\u001b[43m(\u001b[49m\u001b[43mv\u001b[49m\u001b[43m,\u001b[49m\u001b[43m \u001b[49m\u001b[43mjac\u001b[49m\u001b[43m(\u001b[49m\u001b[43mx\u001b[49m\u001b[43m)\u001b[49m\u001b[43m)\u001b[49m\n\u001b[1;32m     88\u001b[0m     n_grad_computations \u001b[38;5;241m+\u001b[39m\u001b[38;5;241m=\u001b[39m \u001b[38;5;241m1\u001b[39m\n\u001b[1;32m     89\u001b[0m     x \u001b[38;5;241m=\u001b[39m x \u001b[38;5;241m+\u001b[39m δ\u001b[38;5;241m*\u001b[39mv\u001b[38;5;241m/\u001b[39m\u001b[38;5;241m2\u001b[39m\n",
      "File \u001b[0;32m~/Documents/University/ManifoldSampling/tangential_hug_functions.py:65\u001b[0m, in \u001b[0;36mHugTangentialMultivariate.<locals>.linear_project\u001b[0;34m(v, J)\u001b[0m\n\u001b[1;32m     63\u001b[0m \u001b[38;5;28;01mdef\u001b[39;00m \u001b[38;5;21mlinear_project\u001b[39m(v, J):\n\u001b[1;32m     64\u001b[0m     \u001b[38;5;124;03m\"\"\"Projects by solving linear system.\"\"\"\u001b[39;00m\n\u001b[0;32m---> 65\u001b[0m     \u001b[38;5;28;01mreturn\u001b[39;00m J\u001b[38;5;241m.\u001b[39mT\u001b[38;5;241m.\u001b[39mdot(\u001b[43msolve\u001b[49m\u001b[43m(\u001b[49m\u001b[43mJ\u001b[49m\u001b[38;5;241;43m.\u001b[39;49m\u001b[43mdot\u001b[49m\u001b[43m(\u001b[49m\u001b[43mJ\u001b[49m\u001b[38;5;241;43m.\u001b[39;49m\u001b[43mT\u001b[49m\u001b[43m)\u001b[49m\u001b[43m,\u001b[49m\u001b[43m \u001b[49m\u001b[43mJ\u001b[49m\u001b[38;5;241;43m.\u001b[39;49m\u001b[43mdot\u001b[49m\u001b[43m(\u001b[49m\u001b[43mv\u001b[49m\u001b[43m)\u001b[49m\u001b[43m)\u001b[49m)\n",
      "File \u001b[0;32m<__array_function__ internals>:180\u001b[0m, in \u001b[0;36msolve\u001b[0;34m(*args, **kwargs)\u001b[0m\n",
      "File \u001b[0;32m/opt/anaconda3/envs/manifold-sampling/lib/python3.10/site-packages/numpy/linalg/linalg.py:393\u001b[0m, in \u001b[0;36msolve\u001b[0;34m(a, b)\u001b[0m\n\u001b[1;32m    391\u001b[0m signature \u001b[38;5;241m=\u001b[39m \u001b[38;5;124m'\u001b[39m\u001b[38;5;124mDD->D\u001b[39m\u001b[38;5;124m'\u001b[39m \u001b[38;5;28;01mif\u001b[39;00m isComplexType(t) \u001b[38;5;28;01melse\u001b[39;00m \u001b[38;5;124m'\u001b[39m\u001b[38;5;124mdd->d\u001b[39m\u001b[38;5;124m'\u001b[39m\n\u001b[1;32m    392\u001b[0m extobj \u001b[38;5;241m=\u001b[39m get_linalg_error_extobj(_raise_linalgerror_singular)\n\u001b[0;32m--> 393\u001b[0m r \u001b[38;5;241m=\u001b[39m \u001b[43mgufunc\u001b[49m\u001b[43m(\u001b[49m\u001b[43ma\u001b[49m\u001b[43m,\u001b[49m\u001b[43m \u001b[49m\u001b[43mb\u001b[49m\u001b[43m,\u001b[49m\u001b[43m \u001b[49m\u001b[43msignature\u001b[49m\u001b[38;5;241;43m=\u001b[39;49m\u001b[43msignature\u001b[49m\u001b[43m,\u001b[49m\u001b[43m \u001b[49m\u001b[43mextobj\u001b[49m\u001b[38;5;241;43m=\u001b[39;49m\u001b[43mextobj\u001b[49m\u001b[43m)\u001b[49m\n\u001b[1;32m    395\u001b[0m \u001b[38;5;28;01mreturn\u001b[39;00m wrap(r\u001b[38;5;241m.\u001b[39mastype(result_t, copy\u001b[38;5;241m=\u001b[39m\u001b[38;5;28;01mFalse\u001b[39;00m))\n",
      "File \u001b[0;32m/opt/anaconda3/envs/manifold-sampling/lib/python3.10/site-packages/numpy/linalg/linalg.py:88\u001b[0m, in \u001b[0;36m_raise_linalgerror_singular\u001b[0;34m(err, flag)\u001b[0m\n\u001b[1;32m     87\u001b[0m \u001b[38;5;28;01mdef\u001b[39;00m \u001b[38;5;21m_raise_linalgerror_singular\u001b[39m(err, flag):\n\u001b[0;32m---> 88\u001b[0m     \u001b[38;5;28;01mraise\u001b[39;00m LinAlgError(\u001b[38;5;124m\"\u001b[39m\u001b[38;5;124mSingular matrix\u001b[39m\u001b[38;5;124m\"\u001b[39m)\n",
      "\u001b[0;31mLinAlgError\u001b[0m: Singular matrix"
     ]
    }
   ],
   "source": [
    "OUT17, OUT18 = run_thug_for_various_ϵ_and_B(ϵs, Bs, 1.0, N_samples, α=0.0, method='linear')"
   ]
  },
  {
   "cell_type": "code",
   "execution_count": null,
   "id": "0df36840",
   "metadata": {},
   "outputs": [],
   "source": []
  },
  {
   "cell_type": "code",
   "execution_count": 655,
   "id": "160c48d2",
   "metadata": {
    "scrolled": true
   },
   "outputs": [
    {
     "name": "stdout",
     "output_type": "stream",
     "text": [
      "ϵ =  1.0  B =  1\n",
      "ϵ =  1.0  B =  10\n",
      "ϵ =  1.0  B =  100\n"
     ]
    },
    {
     "name": "stderr",
     "output_type": "stream",
     "text": [
      "/var/folders/31/dthljx8x5mldm2ll5_zz7xrr0000gn/T/ipykernel_49299/485003812.py:16: RuntimeWarning: overflow encountered in square\n",
      "  8 * ξ[1] * (ξ[4:]**2) * ((1 + ξ[4:]**2)**ξ[3]) * aexp(ξ[2]*ξ[4:]) / (5 * (1 + aexp(ξ[2]*ξ[4:]))**2),\n",
      "/var/folders/31/dthljx8x5mldm2ll5_zz7xrr0000gn/T/ipykernel_49299/485003812.py:18: RuntimeWarning: overflow encountered in square\n",
      "  adiag(ξ[1]*((1+ξ[4:]**2)**(ξ[3]-1))*(((18*ξ[3] + 9)*(ξ[4:]**2) + 9)*aexp(2*ξ[2]*ξ[4:]) + (8*ξ[2]*ξ[4:]**3 + (20*ξ[3] + 10)*ξ[4:]**2 + 8*ξ[2]*ξ[4:] + 10)*aexp(ξ[2]*ξ[4:]) + (2*ξ[3] + 1)*ξ[4:]**2 + 1) / (5*(1 + aexp(ξ[2]*ξ[4:]))**2))\n",
      "/var/folders/31/dthljx8x5mldm2ll5_zz7xrr0000gn/T/ipykernel_49299/485003812.py:18: RuntimeWarning: invalid value encountered in true_divide\n",
      "  adiag(ξ[1]*((1+ξ[4:]**2)**(ξ[3]-1))*(((18*ξ[3] + 9)*(ξ[4:]**2) + 9)*aexp(2*ξ[2]*ξ[4:]) + (8*ξ[2]*ξ[4:]**3 + (20*ξ[3] + 10)*ξ[4:]**2 + 8*ξ[2]*ξ[4:] + 10)*aexp(ξ[2]*ξ[4:]) + (2*ξ[3] + 1)*ξ[4:]**2 + 1) / (5*(1 + aexp(ξ[2]*ξ[4:]))**2))\n",
      "/var/folders/31/dthljx8x5mldm2ll5_zz7xrr0000gn/T/ipykernel_49299/485003812.py:18: RuntimeWarning: overflow encountered in multiply\n",
      "  adiag(ξ[1]*((1+ξ[4:]**2)**(ξ[3]-1))*(((18*ξ[3] + 9)*(ξ[4:]**2) + 9)*aexp(2*ξ[2]*ξ[4:]) + (8*ξ[2]*ξ[4:]**3 + (20*ξ[3] + 10)*ξ[4:]**2 + 8*ξ[2]*ξ[4:] + 10)*aexp(ξ[2]*ξ[4:]) + (2*ξ[3] + 1)*ξ[4:]**2 + 1) / (5*(1 + aexp(ξ[2]*ξ[4:]))**2))\n"
     ]
    },
    {
     "name": "stdout",
     "output_type": "stream",
     "text": [
      "ϵ =  0.1  B =  1\n",
      "ϵ =  0.1  B =  10\n",
      "ϵ =  0.1  B =  100\n",
      "ϵ =  0.01  B =  1\n",
      "ϵ =  0.01  B =  10\n",
      "ϵ =  0.01  B =  100\n",
      "ϵ =  0.001  B =  1\n",
      "ϵ =  0.001  B =  10\n",
      "ϵ =  0.001  B =  100\n",
      "ϵ =  0.0001  B =  1\n",
      "ϵ =  0.0001  B =  10\n",
      "ϵ =  0.0001  B =  100\n",
      "ϵ =  1e-05  B =  1\n",
      "ϵ =  1e-05  B =  10\n",
      "ϵ =  1e-05  B =  100\n",
      "ϵ =  1e-06  B =  1\n",
      "ϵ =  1e-06  B =  10\n",
      "ϵ =  1e-06  B =  100\n"
     ]
    }
   ],
   "source": [
    "OUT19, OUT20 = run_thug_for_various_ϵ_and_B(ϵs, Bs, δ, N_samples, α=0.9, method='linear') # ϵs up to 1e-6"
   ]
  },
  {
   "cell_type": "code",
   "execution_count": 656,
   "id": "2b73c69a",
   "metadata": {
    "scrolled": true
   },
   "outputs": [
    {
     "name": "stdout",
     "output_type": "stream",
     "text": [
      "ϵ =  1.0  B =  1\n",
      "ϵ =  1.0  B =  10\n",
      "ϵ =  1.0  B =  100\n"
     ]
    },
    {
     "name": "stderr",
     "output_type": "stream",
     "text": [
      "/var/folders/31/dthljx8x5mldm2ll5_zz7xrr0000gn/T/ipykernel_49299/485003812.py:18: RuntimeWarning: overflow encountered in multiply\n",
      "  adiag(ξ[1]*((1+ξ[4:]**2)**(ξ[3]-1))*(((18*ξ[3] + 9)*(ξ[4:]**2) + 9)*aexp(2*ξ[2]*ξ[4:]) + (8*ξ[2]*ξ[4:]**3 + (20*ξ[3] + 10)*ξ[4:]**2 + 8*ξ[2]*ξ[4:] + 10)*aexp(ξ[2]*ξ[4:]) + (2*ξ[3] + 1)*ξ[4:]**2 + 1) / (5*(1 + aexp(ξ[2]*ξ[4:]))**2))\n"
     ]
    },
    {
     "name": "stdout",
     "output_type": "stream",
     "text": [
      "ϵ =  0.1  B =  1\n",
      "ϵ =  0.1  B =  10\n",
      "ϵ =  0.1  B =  100\n"
     ]
    },
    {
     "name": "stderr",
     "output_type": "stream",
     "text": [
      "/var/folders/31/dthljx8x5mldm2ll5_zz7xrr0000gn/T/ipykernel_49299/485003812.py:16: RuntimeWarning: overflow encountered in square\n",
      "  8 * ξ[1] * (ξ[4:]**2) * ((1 + ξ[4:]**2)**ξ[3]) * aexp(ξ[2]*ξ[4:]) / (5 * (1 + aexp(ξ[2]*ξ[4:]))**2),\n",
      "/var/folders/31/dthljx8x5mldm2ll5_zz7xrr0000gn/T/ipykernel_49299/485003812.py:18: RuntimeWarning: overflow encountered in square\n",
      "  adiag(ξ[1]*((1+ξ[4:]**2)**(ξ[3]-1))*(((18*ξ[3] + 9)*(ξ[4:]**2) + 9)*aexp(2*ξ[2]*ξ[4:]) + (8*ξ[2]*ξ[4:]**3 + (20*ξ[3] + 10)*ξ[4:]**2 + 8*ξ[2]*ξ[4:] + 10)*aexp(ξ[2]*ξ[4:]) + (2*ξ[3] + 1)*ξ[4:]**2 + 1) / (5*(1 + aexp(ξ[2]*ξ[4:]))**2))\n",
      "/var/folders/31/dthljx8x5mldm2ll5_zz7xrr0000gn/T/ipykernel_49299/485003812.py:18: RuntimeWarning: invalid value encountered in true_divide\n",
      "  adiag(ξ[1]*((1+ξ[4:]**2)**(ξ[3]-1))*(((18*ξ[3] + 9)*(ξ[4:]**2) + 9)*aexp(2*ξ[2]*ξ[4:]) + (8*ξ[2]*ξ[4:]**3 + (20*ξ[3] + 10)*ξ[4:]**2 + 8*ξ[2]*ξ[4:] + 10)*aexp(ξ[2]*ξ[4:]) + (2*ξ[3] + 1)*ξ[4:]**2 + 1) / (5*(1 + aexp(ξ[2]*ξ[4:]))**2))\n",
      "/var/folders/31/dthljx8x5mldm2ll5_zz7xrr0000gn/T/ipykernel_49299/485003812.py:16: RuntimeWarning: overflow encountered in multiply\n",
      "  8 * ξ[1] * (ξ[4:]**2) * ((1 + ξ[4:]**2)**ξ[3]) * aexp(ξ[2]*ξ[4:]) / (5 * (1 + aexp(ξ[2]*ξ[4:]))**2),\n"
     ]
    },
    {
     "name": "stdout",
     "output_type": "stream",
     "text": [
      "ϵ =  0.01  B =  1\n",
      "ϵ =  0.01  B =  10\n",
      "ϵ =  0.01  B =  100\n",
      "ϵ =  0.001  B =  1\n",
      "ϵ =  0.001  B =  10\n",
      "ϵ =  0.001  B =  100\n",
      "ϵ =  0.0001  B =  1\n",
      "ϵ =  0.0001  B =  10\n",
      "ϵ =  0.0001  B =  100\n",
      "ϵ =  1e-05  B =  1\n",
      "ϵ =  1e-05  B =  10\n",
      "ϵ =  1e-05  B =  100\n",
      "ϵ =  1e-06  B =  1\n",
      "ϵ =  1e-06  B =  10\n",
      "ϵ =  1e-06  B =  100\n"
     ]
    }
   ],
   "source": [
    "OUT21, OUT22 = run_thug_for_various_ϵ_and_B(ϵs, Bs, δ, N_samples, α=0.99, method='linear')"
   ]
  },
  {
   "cell_type": "code",
   "execution_count": 903,
   "id": "fa8f37dd",
   "metadata": {},
   "outputs": [
    {
     "name": "stdout",
     "output_type": "stream",
     "text": [
      "B =  1\n",
      "Jproj failed.  J computation found Runtime warning.\n",
      "Jproj failed.  J computation found Runtime warning.\n",
      "Jproj failed.  J computation found Runtime warning.\n",
      "Jproj failed.  J computation found Runtime warning.\n",
      "Jproj failed.  J computation found Runtime warning.\n",
      "Jproj failed.  J computation found Runtime warning.\n",
      "Jproj failed.  J computation found Runtime warning.\n",
      "Jproj failed.  J computation found Runtime warning.\n",
      "B =  10\n",
      "Jproj failed.  J computation found Runtime warning.\n",
      "Jproj failed.  J computation found Runtime warning.\n",
      "Jproj failed.  J computation found Runtime warning.\n",
      "Jproj failed.  J computation found Runtime warning.\n",
      "Jproj failed.  J computation found Runtime warning.\n",
      "Jproj failed.  J computation found Runtime warning.\n",
      "Jproj failed.  J computation found Runtime warning.\n",
      "Jproj failed.  J computation found Runtime warning.\n",
      "Jproj failed.  J computation found Runtime warning.\n",
      "Jacobian computation at projected point failed.  J computation found Runtime warning.\n",
      "Jproj failed.  J computation found Runtime warning.\n",
      "Jproj failed.  J computation found Runtime warning.\n",
      "Jproj failed.  J computation found Runtime warning.\n",
      "Jacobian computation at projected point failed.  J computation found Runtime warning.\n",
      "Jproj failed.  J computation found Runtime warning.\n",
      "Jproj failed.  J computation found Runtime warning.\n",
      "Jproj failed.  J computation found Runtime warning.\n",
      "Jproj failed.  J computation found Runtime warning.\n",
      "Jproj failed.  J computation found Runtime warning.\n",
      "Jproj failed.  J computation found Runtime warning.\n",
      "Jacobian computation at projected point failed.  J computation found Runtime warning.\n",
      "Jproj failed.  J computation found Runtime warning.\n",
      "Jacobian computation at projected point failed.  J computation found Runtime warning.\n",
      "Jproj failed.  J computation found Runtime warning.\n",
      "Jacobian computation at projected point failed.  J computation found Runtime warning.\n",
      "Jproj failed.  J computation found Runtime warning.\n",
      "Jproj failed.  J computation found Runtime warning.\n",
      "Jproj failed.  J computation found Runtime warning.\n",
      "Jproj failed.  J computation found Runtime warning.\n",
      "Jproj failed.  J computation found Runtime warning.\n",
      "Jproj failed.  J computation found Runtime warning.\n",
      "Jproj failed.  J computation found Runtime warning.\n",
      "Jproj failed.  J computation found Runtime warning.\n",
      "Jproj failed.  J computation found Runtime warning.\n",
      "Jproj failed.  J computation found Runtime warning.\n",
      "Jproj failed.  J computation found Runtime warning.\n",
      "Jacobian computation at projected point failed.  J computation found Runtime warning.\n",
      "Jproj failed.  J computation found Runtime warning.\n",
      "Jproj failed.  J computation found Runtime warning.\n",
      "Jproj failed.  J computation found Runtime warning.\n",
      "Jproj failed.  J computation found Runtime warning.\n",
      "Jacobian computation at projected point failed.  J computation found Runtime warning.\n",
      "B =  100\n",
      "Jproj failed.  J computation found Runtime warning.\n",
      "Jacobian computation at projected point failed.  J computation found Runtime warning.\n",
      "Jproj failed.  J computation found Runtime warning.\n",
      "Jacobian computation at projected point failed.  J computation found Runtime warning.\n",
      "Jproj failed.  J computation found Runtime warning.\n",
      "Jacobian computation at projected point failed.  J computation found Runtime warning.\n",
      "Jproj failed.  J computation found Runtime warning.\n",
      "Jacobian computation at projected point failed.  J computation found Runtime warning.\n",
      "Jproj failed.  J computation found Runtime warning.\n",
      "Jacobian computation at projected point failed.  J computation found Runtime warning.\n",
      "Jproj failed.  J computation found Runtime warning.\n",
      "Jacobian computation at projected point failed.  J computation found Runtime warning.\n",
      "Jproj failed.  J computation found Runtime warning.\n",
      "Jacobian computation at projected point failed.  J computation found Runtime warning.\n",
      "Jproj failed.  J computation found Runtime warning.\n",
      "Jacobian computation at projected point failed.  J computation found Runtime warning.\n",
      "Jacobian computation at projected point failed.  J computation found Runtime warning.\n",
      "Jproj failed.  J computation found Runtime warning.\n",
      "Jacobian computation at projected point failed.  J computation found Runtime warning.\n",
      "Jproj failed.  J computation found Runtime warning.\n",
      "Jacobian computation at projected point failed.  J computation found Runtime warning.\n",
      "Jacobian computation at projected point failed.  J computation found Runtime warning.\n",
      "Jacobian computation at projected point failed.  J computation found Runtime warning.\n",
      "Jacobian computation at projected point failed.  J computation found Runtime warning.\n",
      "Jacobian computation at projected point failed.  J computation found Runtime warning.\n",
      "Jacobian computation at projected point failed.  J computation found Runtime warning.\n",
      "Jproj failed.  J computation found Runtime warning.\n",
      "Jacobian computation at projected point failed.  J computation found Runtime warning.\n",
      "Jproj failed.  J computation found Runtime warning.\n",
      "Jacobian computation at projected point failed.  J computation found Runtime warning.\n",
      "Jacobian computation at projected point failed.  J computation found Runtime warning.\n",
      "Jproj failed.  J computation found Runtime warning.\n",
      "Jacobian computation at projected point failed.  J computation found Runtime warning.\n",
      "Jproj failed.  J computation found Runtime warning.\n",
      "Jacobian computation at projected point failed.  J computation found Runtime warning.\n",
      "Jproj failed.  J computation found Runtime warning.\n",
      "Jacobian computation at projected point failed.  J computation found Runtime warning.\n",
      "Jacobian computation at projected point failed.  J computation found Runtime warning.\n",
      "Jacobian computation at projected point failed.  J computation found Runtime warning.\n",
      "Jacobian computation at projected point failed.  J computation found Runtime warning.\n",
      "Jacobian computation at projected point failed.  J computation found Runtime warning.\n",
      "Jproj failed.  J computation found Runtime warning.\n",
      "Jacobian computation at projected point failed.  J computation found Runtime warning.\n",
      "Jproj failed.  J computation found Runtime warning.\n",
      "Jacobian computation at projected point failed.  J computation found Runtime warning.\n",
      "Jproj failed.  J computation found Runtime warning.\n",
      "Jacobian computation at projected point failed.  J computation found Runtime warning.\n",
      "Jproj failed.  J computation found Runtime warning.\n",
      "Jacobian computation at projected point failed.  J computation found Runtime warning.\n",
      "Jacobian computation at projected point failed.  J computation found Runtime warning.\n",
      "Jproj failed.  J computation found Runtime warning.\n",
      "Jacobian computation at projected point failed.  J computation found Runtime warning.\n",
      "Jproj failed.  J computation found Runtime warning.\n",
      "Jacobian computation at projected point failed.  J computation found Runtime warning.\n",
      "Jproj failed.  J computation found Runtime warning.\n",
      "Jacobian computation at projected point failed.  J computation found Runtime warning.\n",
      "Jacobian computation at projected point failed.  J computation found Runtime warning.\n",
      "Jproj failed.  J computation found Runtime warning.\n",
      "Jacobian computation at projected point failed.  J computation found Runtime warning.\n",
      "Jproj failed.  J computation found Runtime warning.\n",
      "Jacobian computation at projected point failed.  J computation found Runtime warning.\n",
      "Jproj failed.  J computation found Runtime warning.\n",
      "Jacobian computation at projected point failed.  J computation found Runtime warning.\n",
      "Jproj failed.  J computation found Runtime warning.\n",
      "Jacobian computation at projected point failed.  J computation found Runtime warning.\n",
      "Jacobian computation at projected point failed.  J computation found Runtime warning.\n",
      "Jproj failed.  J computation found Runtime warning.\n",
      "Jacobian computation at projected point failed.  J computation found Runtime warning.\n",
      "Jproj failed.  J computation found Runtime warning.\n",
      "Jacobian computation at projected point failed.  J computation found Runtime warning.\n",
      "Jproj failed.  J computation found Runtime warning.\n",
      "Jacobian computation at projected point failed.  J computation found Runtime warning.\n",
      "Jacobian computation at projected point failed.  J computation found Runtime warning.\n",
      "Jacobian computation at projected point failed.  J computation found Runtime warning.\n"
     ]
    },
    {
     "name": "stdout",
     "output_type": "stream",
     "text": [
      "Jproj failed.  J computation found Runtime warning.\n",
      "Jacobian computation at projected point failed.  J computation found Runtime warning.\n",
      "Jacobian computation at projected point failed.  J computation found Runtime warning.\n",
      "Jproj failed.  J computation found Runtime warning.\n",
      "Jacobian computation at projected point failed.  J computation found Runtime warning.\n",
      "Jacobian computation at projected point failed.  J computation found Runtime warning.\n",
      "Jproj failed.  J computation found Runtime warning.\n",
      "Jacobian computation at projected point failed.  J computation found Runtime warning.\n",
      "Jproj failed.  J computation found Runtime warning.\n",
      "Jacobian computation at projected point failed.  J computation found Runtime warning.\n",
      "Jacobian computation at projected point failed.  J computation found Runtime warning.\n",
      "Jacobian computation at projected point failed.  J computation found Runtime warning.\n",
      "Jacobian computation at projected point failed.  J computation found Runtime warning.\n",
      "Jproj failed.  J computation found Runtime warning.\n",
      "Jacobian computation at projected point failed.  J computation found Runtime warning.\n",
      "Jproj failed.  J computation found Runtime warning.\n",
      "Jacobian computation at projected point failed.  J computation found Runtime warning.\n",
      "Jproj failed.  J computation found Runtime warning.\n",
      "Jacobian computation at projected point failed.  J computation found Runtime warning.\n",
      "Jproj failed.  J computation found Runtime warning.\n",
      "Jacobian computation at projected point failed.  J computation found Runtime warning.\n",
      "Jproj failed.  J computation found Runtime warning.\n",
      "Jproj failed.  J computation found Runtime warning.\n",
      "Jacobian computation at projected point failed.  J computation found Runtime warning.\n",
      "Jproj failed.  J computation found Runtime warning.\n",
      "Jacobian computation at projected point failed.  J computation found Runtime warning.\n",
      "Jacobian computation at projected point failed.  J computation found Runtime warning.\n",
      "Jproj failed.  J computation found Runtime warning.\n",
      "Jacobian computation at projected point failed.  J computation found Runtime warning.\n",
      "Jproj failed.  J computation found Runtime warning.\n",
      "Jacobian computation at projected point failed.  J computation found Runtime warning.\n",
      "Jproj failed.  J computation found Runtime warning.\n",
      "Jacobian computation at projected point failed.  J computation found Runtime warning.\n",
      "Jproj failed.  J computation found Runtime warning.\n",
      "Jproj failed.  J computation found Runtime warning.\n",
      "Jacobian computation at projected point failed.  J computation found Runtime warning.\n",
      "Jacobian computation at projected point failed.  J computation found Runtime warning.\n",
      "Jacobian computation at projected point failed.  J computation found Runtime warning.\n",
      "Jproj failed.  J computation found Runtime warning.\n",
      "Jacobian computation at projected point failed.  J computation found Runtime warning.\n",
      "Jproj failed.  J computation found Runtime warning.\n",
      "Jacobian computation at projected point failed.  J computation found Runtime warning.\n",
      "Jacobian computation at projected point failed.  J computation found Runtime warning.\n",
      "Jproj failed.  J computation found Runtime warning.\n",
      "Jacobian computation at projected point failed.  J computation found Runtime warning.\n",
      "Jproj failed.  J computation found Runtime warning.\n",
      "Jacobian computation at projected point failed.  J computation found Runtime warning.\n",
      "Jproj failed.  J computation found Runtime warning.\n",
      "Jacobian computation at projected point failed.  J computation found Runtime warning.\n",
      "Jacobian computation at projected point failed.  J computation found Runtime warning.\n",
      "Jproj failed.  J computation found Runtime warning.\n",
      "Jacobian computation at projected point failed.  J computation found Runtime warning.\n",
      "Jacobian computation at projected point failed.  J computation found Runtime warning.\n",
      "Jproj failed.  J computation found Runtime warning.\n",
      "Jacobian computation at projected point failed.  J computation found Runtime warning.\n",
      "Jproj failed.  J computation found Runtime warning.\n",
      "Jacobian computation at projected point failed.  J computation found Runtime warning.\n"
     ]
    }
   ],
   "source": [
    "OUT23, OUT24 = run_crwm_for_various_B(Bs, 1.0, N_samples, tol=1e-14, rev_tol=1e-14, norm_ord=np.inf)"
   ]
  },
  {
   "cell_type": "code",
   "execution_count": 658,
   "id": "a629199b",
   "metadata": {
    "scrolled": true
   },
   "outputs": [
    {
     "name": "stdout",
     "output_type": "stream",
     "text": [
      "ϵ =  1.0  B =  1\n",
      "ϵ =  1.0  B =  10\n",
      "ϵ =  1.0  B =  100\n"
     ]
    },
    {
     "name": "stderr",
     "output_type": "stream",
     "text": [
      "/var/folders/31/dthljx8x5mldm2ll5_zz7xrr0000gn/T/ipykernel_49299/485003812.py:16: RuntimeWarning: overflow encountered in square\n",
      "  8 * ξ[1] * (ξ[4:]**2) * ((1 + ξ[4:]**2)**ξ[3]) * aexp(ξ[2]*ξ[4:]) / (5 * (1 + aexp(ξ[2]*ξ[4:]))**2),\n",
      "/var/folders/31/dthljx8x5mldm2ll5_zz7xrr0000gn/T/ipykernel_49299/485003812.py:18: RuntimeWarning: overflow encountered in square\n",
      "  adiag(ξ[1]*((1+ξ[4:]**2)**(ξ[3]-1))*(((18*ξ[3] + 9)*(ξ[4:]**2) + 9)*aexp(2*ξ[2]*ξ[4:]) + (8*ξ[2]*ξ[4:]**3 + (20*ξ[3] + 10)*ξ[4:]**2 + 8*ξ[2]*ξ[4:] + 10)*aexp(ξ[2]*ξ[4:]) + (2*ξ[3] + 1)*ξ[4:]**2 + 1) / (5*(1 + aexp(ξ[2]*ξ[4:]))**2))\n",
      "/var/folders/31/dthljx8x5mldm2ll5_zz7xrr0000gn/T/ipykernel_49299/485003812.py:18: RuntimeWarning: invalid value encountered in true_divide\n",
      "  adiag(ξ[1]*((1+ξ[4:]**2)**(ξ[3]-1))*(((18*ξ[3] + 9)*(ξ[4:]**2) + 9)*aexp(2*ξ[2]*ξ[4:]) + (8*ξ[2]*ξ[4:]**3 + (20*ξ[3] + 10)*ξ[4:]**2 + 8*ξ[2]*ξ[4:] + 10)*aexp(ξ[2]*ξ[4:]) + (2*ξ[3] + 1)*ξ[4:]**2 + 1) / (5*(1 + aexp(ξ[2]*ξ[4:]))**2))\n",
      "/var/folders/31/dthljx8x5mldm2ll5_zz7xrr0000gn/T/ipykernel_49299/485003812.py:18: RuntimeWarning: overflow encountered in multiply\n",
      "  adiag(ξ[1]*((1+ξ[4:]**2)**(ξ[3]-1))*(((18*ξ[3] + 9)*(ξ[4:]**2) + 9)*aexp(2*ξ[2]*ξ[4:]) + (8*ξ[2]*ξ[4:]**3 + (20*ξ[3] + 10)*ξ[4:]**2 + 8*ξ[2]*ξ[4:] + 10)*aexp(ξ[2]*ξ[4:]) + (2*ξ[3] + 1)*ξ[4:]**2 + 1) / (5*(1 + aexp(ξ[2]*ξ[4:]))**2))\n"
     ]
    },
    {
     "name": "stdout",
     "output_type": "stream",
     "text": [
      "ϵ =  0.1  B =  1\n",
      "ϵ =  0.1  B =  10\n",
      "ϵ =  0.1  B =  100\n",
      "ϵ =  0.01  B =  1\n",
      "ϵ =  0.01  B =  10\n",
      "ϵ =  0.01  B =  100\n",
      "ϵ =  0.001  B =  1\n",
      "ϵ =  0.001  B =  10\n",
      "ϵ =  0.001  B =  100\n",
      "ϵ =  0.0001  B =  1\n",
      "ϵ =  0.0001  B =  10\n",
      "ϵ =  0.0001  B =  100\n",
      "ϵ =  1e-05  B =  1\n",
      "ϵ =  1e-05  B =  10\n",
      "ϵ =  1e-05  B =  100\n",
      "ϵ =  1e-06  B =  1\n",
      "ϵ =  1e-06  B =  10\n",
      "ϵ =  1e-06  B =  100\n"
     ]
    }
   ],
   "source": [
    "OUT25, OUT26 = run_thug_for_various_ϵ_and_B(ϵs, Bs, δ, N_samples, α=0.999, method='linear')"
   ]
  },
  {
   "cell_type": "code",
   "execution_count": null,
   "id": "f6ae258e",
   "metadata": {},
   "outputs": [],
   "source": [
    "# # δ=0.1\n",
    "# OUT25, OUT26 = run_crwm_for_various_B([1], 0.01, N_samples, tol=1e-14, rev_tol=1e-14)"
   ]
  },
  {
   "cell_type": "code",
   "execution_count": 905,
   "id": "e0bfb229",
   "metadata": {},
   "outputs": [
    {
     "data": {
      "image/png": "[encoded data removed]",
      "text/plain": [
       "<Figure size 1152x576 with 1 Axes>"
      ]
     },
     "metadata": {
      "needs_background": "light"
     },
     "output_type": "display_data"
    }
   ],
   "source": [
    "def show_only_positive_ap(cc, ap, ix):\n",
    "    cc_copy = cc.copy()\n",
    "    ap_copy = ap.copy()\n",
    "    flag = ap_copy[:, ix] < 1e-8\n",
    "    values = cc_copy[:, ix]\n",
    "    values[flag] = np.nan\n",
    "    return values\n",
    "\n",
    "fig, ax = plt.subplots(figsize=(16, 8))\n",
    "# α = 0.0\n",
    "ax.plot(ϵs, show_only_positive_ap(OUT17, OUT18, 0), label='1T', marker='o', color='lightgray', markersize=8)\n",
    "ax.plot(ϵs, show_only_positive_ap(OUT17, OUT18, 1), label='10T', marker='o', color='darkgrey', markersize=8)\n",
    "ax.plot(ϵs, show_only_positive_ap(OUT17, OUT18, 2), label='100T', marker='o', color='dimgrey', markersize=8)\n",
    "# α = 0.9\n",
    "ax.plot(ϵs, show_only_positive_ap(OUT19, OUT20, 0), label='1α', marker='o', color='lightblue', markersize=8)\n",
    "ax.plot(ϵs, show_only_positive_ap(OUT19, OUT20, 1), label='10α', marker='o', color='deepskyblue', markersize=8)\n",
    "ax.plot(ϵs, show_only_positive_ap(OUT19, OUT20, 2), label='100α', marker='o', color='dodgerblue', markersize=8)\n",
    "# α = 0.99\n",
    "ax.plot(ϵs, show_only_positive_ap(OUT21, OUT22, 0), label='1α2', marker='o', color='lightgreen', markersize=8)\n",
    "ax.plot(ϵs, show_only_positive_ap(OUT21, OUT22, 1), label='10α2', marker='o', color='forestgreen', markersize=8)\n",
    "ax.plot(ϵs, show_only_positive_ap(OUT21, OUT22, 2), label='100α2', marker='o', color='darkgreen', markersize=8)\n",
    "# α = 0.999\n",
    "ax.plot(ϵs, show_only_positive_ap(OUT25, OUT26, 0), label='1α2', marker='o', color='thistle', markersize=8)\n",
    "ax.plot(ϵs, show_only_positive_ap(OUT25, OUT26, 1), label='10α2', marker='o', color='violet', markersize=8)\n",
    "ax.plot(ϵs, show_only_positive_ap(OUT25, OUT26, 2), label='100α2', marker='o', color='purple', markersize=8)\n",
    "# α = 0.99\n",
    "# ax.plot(ϵs, show_only_positive_ap(OUT3, OUT4, 0), label='1α', marker='o', color='lightblue', markersize=8)\n",
    "# ax.plot(ϵs,  show_only_positive_ap(OUT3, OUT4, 1), label='10α', marker='o', color='deepskyblue', markersize=8)\n",
    "# ax.plot(ϵs, show_only_positive_ap(OUT3, OUT4, 2), label='100α', marker='o', color='dodgerblue', markersize=8)\n",
    "# C_RWM\n",
    "# α = 0.995\n",
    "# ax.plot(ϵs, OUT7[:, 0], label='1α2', marker='o', color='lightgreen', markersize=8)\n",
    "# ax.plot(ϵs,  OUT7[:, 1], label='10α2', marker='o', color='forestgreen', markersize=8)\n",
    "# ax.plot(ϵs, OUT7[:, 2], label='100α2', marker='o', color='darkgreen', markersize=8)\n",
    "# Idk try averaged one\n",
    "# ax.plot(ϵs, show_only_positive_ap(OUT9, OUT10, 0), label='1av', marker='o', color='thistle', markersize=8)\n",
    "# ax.plot(ϵs,  show_only_positive_ap(OUT9, OUT10, 1), label='10av', marker='o', color='violet', markersize=8)\n",
    "# ax.plot(ϵs, show_only_positive_ap(OUT9, OUT10, 2), label='100av', marker='o', color='purple', markersize=8)\n",
    "# Idk try the one with tolerance=1e-16\n",
    "ax.plot(ϵs, np.repeat(OUT23[0], len(ϵs)), label='1C', marker='o', color='navajowhite', markersize=8)\n",
    "ax.plot(ϵs, np.repeat(OUT23[1], len(ϵs)), label='10C', marker='o', color='orange', markersize=8)\n",
    "ax.plot(ϵs, np.repeat(OUT23[2], len(ϵs)), label='100C', marker='o', color='orangered', markersize=8)\n",
    "# CRWM\n",
    "# ax.plot(ϵs, np.repeat(OUT5[0], len(ϵs)), label='1C', marker='o', color='navajowhite', markersize=8)\n",
    "# ax.plot(ϵs, np.repeat(OUT5[1], len(ϵs)), label='10C', marker='o', color='orange', markersize=8)\n",
    "# ax.plot(ϵs, np.repeat(OUT5[2], len(ϵs)), label='100C', marker='o', color='orangered', markersize=8)\n",
    "# ax.plot(ϵs, np.repeat(OUT11[0], len(ϵs)), label='1C', marker='o', color='navajowhite', markersize=8)\n",
    "# ax.plot(ϵs, np.repeat(OUT11[1], len(ϵs)), label='10C', marker='o', color='orange', markersize=8)\n",
    "# ax.plot(ϵs, np.repeat(OUT11[2], len(ϵs)), label='100C', marker='o', color='orangered', markersize=8)\n",
    "# Set xticks\n",
    "ax.set_xticks(ϵs)\n",
    "# Set labels\n",
    "ax.set_xlabel(\"ϵ\", fontsize=20)\n",
    "ax.set_ylabel(\"minESS/runtime\", fontsize=20)\n",
    "ax.loglog()\n",
    "ax.legend()\n",
    "plt.show()"
   ]
  },
  {
   "cell_type": "code",
   "execution_count": 875,
   "id": "1977f7e3",
   "metadata": {},
   "outputs": [
    {
     "data": {
      "image/png": "[encoded data removed]",
      "text/plain": [
       "<Figure size 1152x576 with 1 Axes>"
      ]
     },
     "metadata": {
      "needs_background": "light"
     },
     "output_type": "display_data"
    }
   ],
   "source": [
    "def show_only_positive_ap(cc, ap, ix):\n",
    "    cc_copy = cc.copy()\n",
    "    ap_copy = ap.copy()\n",
    "    flag = ap_copy[:, ix] < 1e-8\n",
    "    values = cc_copy[:, ix]\n",
    "    values[flag] = np.nan\n",
    "    return values\n",
    "\n",
    "fig, ax = plt.subplots(figsize=(16, 8))\n",
    "# α = 0.0\n",
    "ax.plot(ϵs, show_only_positive_ap(OUT17, OUT18, 0), label='1T', marker='o', color='lightgray', markersize=8)\n",
    "ax.plot(ϵs, show_only_positive_ap(OUT17, OUT18, 1), label='10T', marker='o', color='darkgrey', markersize=8)\n",
    "ax.plot(ϵs, show_only_positive_ap(OUT17, OUT18, 2), label='100T', marker='o', color='dimgrey', markersize=8)\n",
    "# α = 0.9\n",
    "ax.plot(ϵs, show_only_positive_ap(OUT19, OUT20, 0), label='1α', marker='o', color='lightblue', markersize=8)\n",
    "ax.plot(ϵs, show_only_positive_ap(OUT19, OUT20, 1), label='10α', marker='o', color='deepskyblue', markersize=8)\n",
    "ax.plot(ϵs, show_only_positive_ap(OUT19, OUT20, 2), label='100α', marker='o', color='dodgerblue', markersize=8)\n",
    "# α = 0.99\n",
    "ax.plot(ϵs, show_only_positive_ap(OUT21, OUT22, 0), label='1α2', marker='o', color='lightgreen', markersize=8)\n",
    "ax.plot(ϵs, show_only_positive_ap(OUT21, OUT22, 1), label='10α2', marker='o', color='forestgreen', markersize=8)\n",
    "ax.plot(ϵs, show_only_positive_ap(OUT21, OUT22, 2), label='100α2', marker='o', color='darkgreen', markersize=8)\n",
    "# α = 0.999\n",
    "ax.plot(ϵs, show_only_positive_ap(OUT25, OUT26, 0), label='1α2', marker='o', color='thistle', markersize=8)\n",
    "ax.plot(ϵs, show_only_positive_ap(OUT25, OUT26, 1), label='10α2', marker='o', color='violet', markersize=8)\n",
    "ax.plot(ϵs, show_only_positive_ap(OUT25, OUT26, 2), label='100α2', marker='o', color='purple', markersize=8)\n",
    "# α = 0.99\n",
    "# ax.plot(ϵs, show_only_positive_ap(OUT3, OUT4, 0), label='1α', marker='o', color='lightblue', markersize=8)\n",
    "# ax.plot(ϵs,  show_only_positive_ap(OUT3, OUT4, 1), label='10α', marker='o', color='deepskyblue', markersize=8)\n",
    "# ax.plot(ϵs, show_only_positive_ap(OUT3, OUT4, 2), label='100α', marker='o', color='dodgerblue', markersize=8)\n",
    "# C_RWM\n",
    "# α = 0.995\n",
    "# ax.plot(ϵs, OUT7[:, 0], label='1α2', marker='o', color='lightgreen', markersize=8)\n",
    "# ax.plot(ϵs,  OUT7[:, 1], label='10α2', marker='o', color='forestgreen', markersize=8)\n",
    "# ax.plot(ϵs, OUT7[:, 2], label='100α2', marker='o', color='darkgreen', markersize=8)\n",
    "# Idk try averaged one\n",
    "# ax.plot(ϵs, show_only_positive_ap(OUT9, OUT10, 0), label='1av', marker='o', color='thistle', markersize=8)\n",
    "# ax.plot(ϵs,  show_only_positive_ap(OUT9, OUT10, 1), label='10av', marker='o', color='violet', markersize=8)\n",
    "# ax.plot(ϵs, show_only_positive_ap(OUT9, OUT10, 2), label='100av', marker='o', color='purple', markersize=8)\n",
    "# Idk try the one with tolerance=1e-16\n",
    "ax.plot(ϵs, np.repeat(OUT23[0], len(ϵs)), label='1C', marker='o', color='navajowhite', markersize=8)\n",
    "ax.plot(ϵs, np.repeat(OUT23[1], len(ϵs)), label='10C', marker='o', color='orange', markersize=8)\n",
    "ax.plot(ϵs, np.repeat(OUT23[2], len(ϵs)), label='100C', marker='o', color='orangered', markersize=8)\n",
    "# CRWM\n",
    "# ax.plot(ϵs, np.repeat(OUT5[0], len(ϵs)), label='1C', marker='o', color='navajowhite', markersize=8)\n",
    "# ax.plot(ϵs, np.repeat(OUT5[1], len(ϵs)), label='10C', marker='o', color='orange', markersize=8)\n",
    "# ax.plot(ϵs, np.repeat(OUT5[2], len(ϵs)), label='100C', marker='o', color='orangered', markersize=8)\n",
    "# ax.plot(ϵs, np.repeat(OUT11[0], len(ϵs)), label='1C', marker='o', color='navajowhite', markersize=8)\n",
    "# ax.plot(ϵs, np.repeat(OUT11[1], len(ϵs)), label='10C', marker='o', color='orange', markersize=8)\n",
    "# ax.plot(ϵs, np.repeat(OUT11[2], len(ϵs)), label='100C', marker='o', color='orangered', markersize=8)\n",
    "# Set xticks\n",
    "ax.set_xticks(ϵs)\n",
    "# Set labels\n",
    "ax.set_xlabel(\"ϵ\", fontsize=20)\n",
    "ax.set_ylabel(\"minESS/runtime\", fontsize=20)\n",
    "ax.loglog()\n",
    "ax.legend()\n",
    "plt.show()"
   ]
  },
  {
   "cell_type": "code",
   "execution_count": 685,
   "id": "dbdcb818",
   "metadata": {},
   "outputs": [
    {
     "data": {
      "text/plain": [
       "array([0.722, 0.247, 0.   ])"
      ]
     },
     "execution_count": 685,
     "metadata": {},
     "output_type": "execute_result"
    }
   ],
   "source": [
    "OUT24"
   ]
  },
  {
   "cell_type": "code",
   "execution_count": null,
   "id": "4eb7b035",
   "metadata": {},
   "outputs": [],
   "source": []
  },
  {
   "cell_type": "code",
   "execution_count": null,
   "id": "d4179c8f",
   "metadata": {},
   "outputs": [],
   "source": []
  },
  {
   "cell_type": "code",
   "execution_count": 870,
   "id": "787c8594",
   "metadata": {
    "scrolled": true
   },
   "outputs": [
    {
     "name": "stdout",
     "output_type": "stream",
     "text": [
      "Dimensionality:  50\n",
      "Dim(ystar):  (50,)\n",
      "Dim(ξ0):  (54,)\n",
      "M dim and codim:  4 50\n"
     ]
    }
   ],
   "source": [
    "NNN = 1000\n",
    "BBB = 1\n",
    "δδδ = 0.01\n",
    "MAXITER = 50\n",
    "__, _jacob_, __ap__ = check_n_jacobian_comp_per_newton_step(m=50, δ=δδδ, N_samples=NNN, B=BBB, tol=1e-14, rev_tol=1e-14, maxiter=MAXITER, norm_ord=np.inf)"
   ]
  },
  {
   "cell_type": "code",
   "execution_count": 871,
   "id": "70a7511d",
   "metadata": {},
   "outputs": [
    {
     "data": {
      "text/plain": [
       "{'jacobian': 15738, 'density': 791}"
      ]
     },
     "execution_count": 871,
     "metadata": {},
     "output_type": "execute_result"
    }
   ],
   "source": [
    "_jacob_"
   ]
  },
  {
   "cell_type": "code",
   "execution_count": 872,
   "id": "a5790224",
   "metadata": {},
   "outputs": [
    {
     "data": {
      "text/plain": [
       "76.5"
      ]
     },
     "execution_count": 872,
     "metadata": {},
     "output_type": "execute_result"
    }
   ],
   "source": [
    "__ap__.mean()*100"
   ]
  },
  {
   "cell_type": "code",
   "execution_count": 873,
   "id": "11b71de5",
   "metadata": {},
   "outputs": [
    {
     "data": {
      "text/plain": [
       "6.8685"
      ]
     },
     "execution_count": 873,
     "metadata": {},
     "output_type": "execute_result"
    }
   ],
   "source": [
    "(((_jacob_['jacobian'] - 1) -2*BBB*NNN) / NNN) / 2"
   ]
  },
  {
   "cell_type": "code",
   "execution_count": null,
   "id": "3fa713f2",
   "metadata": {},
   "outputs": [],
   "source": []
  },
  {
   "cell_type": "code",
   "execution_count": null,
   "id": "05bb1441",
   "metadata": {},
   "outputs": [],
   "source": []
  },
  {
   "cell_type": "code",
   "execution_count": null,
   "id": "0aad926a",
   "metadata": {},
   "outputs": [],
   "source": []
  },
  {
   "cell_type": "code",
   "execution_count": null,
   "id": "5750c726",
   "metadata": {},
   "outputs": [],
   "source": []
  },
  {
   "cell_type": "code",
   "execution_count": 300,
   "id": "35dda639",
   "metadata": {},
   "outputs": [
    {
     "data": {
      "image/png": "[encoded data removed]",
      "text/plain": [
       "<Figure size 576x432 with 1 Axes>"
      ]
     },
     "metadata": {
      "needs_background": "light"
     },
     "output_type": "display_data"
    }
   ],
   "source": [
    "fig, ax = plt.subplots(figsize=(8, 6))\n",
    "# α = 0.0\n",
    "ax.plot(ϵs, OUT1[:, 0], label='1T', marker='o', color='lightgray', markersize=8)\n",
    "ax.plot(ϵs, OUT1[:, 1], label='10T', marker='o', color='darkgrey', markersize=8)\n",
    "ax.plot(ϵs, OUT1[:, 2], label='100T', marker='o', color='dimgrey', markersize=8)\n",
    "# α = 0.99\n",
    "ax.plot(ϵs, OUT3[:, 0], label='1α', marker='o', color='lightblue', markersize=8)\n",
    "ax.plot(ϵs,  OUT3[:, 1], label='10α', marker='o', color='deepskyblue', markersize=8)\n",
    "ax.plot(ϵs, OUT3[:, 2], label='100α', marker='o', color='dodgerblue', markersize=8)\n",
    "# C_RWM\n",
    "# α = 0.995\n",
    "ax.plot(ϵs, OUT7[:, 0], label='1α2', marker='o', color='lightgreen', markersize=8)\n",
    "ax.plot(ϵs,  OUT7[:, 1], label='10α2', marker='o', color='forestgreen', markersize=8)\n",
    "ax.plot(ϵs, OUT7[:, 2], label='100α2', marker='o', color='darkgreen', markersize=8)\n",
    "# CRWM\n",
    "ax.plot(ϵs, np.repeat(OUT5[0], len(ϵs)), label='1C', marker='o', color='navajowhite', markersize=8)\n",
    "ax.plot(ϵs, np.repeat(OUT5[1], len(ϵs)), label='10C', marker='o', color='orange', markersize=8)\n",
    "ax.plot(ϵs, np.repeat(OUT5[2], len(ϵs)), label='100C', marker='o', color='orangered', markersize=8)\n",
    "# Set xticks\n",
    "ax.set_xticks(ϵs)\n",
    "# Set labels\n",
    "ax.set_xlabel(\"ϵ\", fontsize=20)\n",
    "ax.set_ylabel(\"minESS/runtime\", fontsize=20)\n",
    "ax.loglog()\n",
    "ax.legend()\n",
    "plt.show()"
   ]
  },
  {
   "cell_type": "code",
   "execution_count": 301,
   "id": "36a24cf8",
   "metadata": {},
   "outputs": [
    {
     "data": {
      "text/plain": [
       "array([1., 1., 1.])"
      ]
     },
     "execution_count": 301,
     "metadata": {},
     "output_type": "execute_result"
    }
   ],
   "source": []
  },
  {
   "cell_type": "code",
   "execution_count": null,
   "id": "d5403fb1",
   "metadata": {},
   "outputs": [],
   "source": []
  },
  {
   "cell_type": "code",
   "execution_count": null,
   "id": "32b12384",
   "metadata": {},
   "outputs": [],
   "source": []
  },
  {
   "cell_type": "code",
   "execution_count": 100,
   "id": "7996cab8",
   "metadata": {},
   "outputs": [
    {
     "data": {
      "image/png": "[encoded data removed]",
      "text/plain": [
       "<Figure size 504x288 with 1 Axes>"
      ]
     },
     "metadata": {
      "needs_background": "light"
     },
     "output_type": "display_data"
    }
   ],
   "source": [
    "ϵs = generate_powers_of_ten(2, -3)\n",
    "fig, ax = plt.subplots(figsize=(7, 4))\n",
    "# \\alpha = 0.0\n",
    "ax.plot(ϵs, OUT1[:, 0], label='1T', marker='o', color='lightgray', markersize=8)\n",
    "ax.plot(ϵs, OUT1[:, 1], label='10T', marker='o', color='darkgrey', markersize=8)\n",
    "ax.plot(ϵs, OUT1[:, 2], label='100T', marker='o', color='dimgrey', markersize=8)\n",
    "# \\alpha = 0.99\n",
    "ax.plot(ϵs, OUT3[:, 0], label='1α', marker='o', color='lightblue', markersize=8)\n",
    "ax.plot(ϵs,  OUT3[:, 1], label='10α', marker='o', color='deepskyblue', markersize=8)\n",
    "ax.plot(ϵs, OUT3[:, 2], label='100α', marker='o', color='dodgerblue', markersize=8)\n",
    "# C_RWM\n",
    "ax.plot(ϵs, np.repeat(OUT5[0], len(ϵs)), label='1C', marker='o', color='navajowhite', markersize=8)\n",
    "ax.plot(ϵs, np.repeat(OUT5[1], len(ϵs)), label='10C', marker='o', color='orange', markersize=8)\n",
    "ax.plot(ϵs, np.repeat(OUT5[2], len(ϵs)), label='100C', marker='o', color='orangered', markersize=8)\n",
    "# Set xticks\n",
    "ax.set_xticks(ϵs)\n",
    "# Set labels\n",
    "ax.set_xlabel(\"ϵ\", fontsize=20)\n",
    "ax.set_ylabel(\"minESS/runtime\", fontsize=20)\n",
    "ax.loglog()\n",
    "ax.legend()\n",
    "plt.show()"
   ]
  },
  {
   "cell_type": "markdown",
   "id": "232dcf0a",
   "metadata": {},
   "source": [
    "#### THUG $\\alpha=0.0$"
   ]
  },
  {
   "cell_type": "code",
   "execution_count": 257,
   "id": "c842ac6e",
   "metadata": {},
   "outputs": [
    {
     "name": "stderr",
     "output_type": "stream",
     "text": [
      "/opt/anaconda3/envs/manifold-sampling/lib/python3.10/site-packages/autograd/tracer.py:48: RuntimeWarning: invalid value encountered in log\n",
      "  return f_raw(*args, **kwargs)\n"
     ]
    }
   ],
   "source": [
    "thug_cc = zeros((n_repeats, len(ϵs)))\n",
    "thug_ap = zeros((n_repeats, len(ϵs)))\n",
    "for (ix, ϵ), ystar, ξ0 in zip(enumerate(ϵs), ystars, ξ0s):\n",
    "    for i in range(n_repeats):\n",
    "        start_time = time.time()\n",
    "        thug_samples, thug_acc = HugTangentialMultivariate(\n",
    "            x0=ξ0,\n",
    "            T=T,\n",
    "            B=B,\n",
    "            N=N_samples,\n",
    "            α=0.0,\n",
    "            q=q,\n",
    "            logpi=lambda ξ: log_abc_posterior_beta(ξ, ystar, ϵ=ϵ),\n",
    "            jac=Jf\n",
    "        )\n",
    "        runtimeTHUG = time.time() - start_time\n",
    "        thug_cc[i, ix] = min(ESS_univariate(thug_samples)) / runtimeTHUG\n",
    "        thug_ap[i, ix] = thug_acc.mean()"
   ]
  },
  {
   "cell_type": "code",
   "execution_count": 258,
   "id": "2d1bc481",
   "metadata": {},
   "outputs": [
    {
     "data": {
      "text/plain": [
       "array([[0.099, 0.09 , 0.09 , 0.07 , 0.071, 0.003, 0.   , 0.   , 0.   ]])"
      ]
     },
     "execution_count": 258,
     "metadata": {},
     "output_type": "execute_result"
    }
   ],
   "source": [
    "thug_ap"
   ]
  },
  {
   "cell_type": "code",
   "execution_count": 259,
   "id": "28b6a814",
   "metadata": {},
   "outputs": [
    {
     "data": {
      "text/plain": [
       "array([[2.25062397, 2.23454935, 3.3465725 , 3.48601792, 2.41208196,\n",
       "        2.2633078 , 0.73199789, 0.72906443, 0.75207981]])"
      ]
     },
     "execution_count": 259,
     "metadata": {},
     "output_type": "execute_result"
    }
   ],
   "source": [
    "thug_cc"
   ]
  },
  {
   "cell_type": "code",
   "execution_count": 246,
   "id": "8b026a59",
   "metadata": {},
   "outputs": [
    {
     "data": {
      "text/plain": [
       "array([[0.026, 0.026, 0.012, 0.02 , 0.02 , 0.   , 0.   , 0.   , 0.   ]])"
      ]
     },
     "execution_count": 246,
     "metadata": {},
     "output_type": "execute_result"
    }
   ],
   "source": [
    "thug_ap # B=5"
   ]
  },
  {
   "cell_type": "code",
   "execution_count": 247,
   "id": "2384ecc1",
   "metadata": {},
   "outputs": [
    {
     "data": {
      "text/plain": [
       "array([[1.05537438, 0.99596645, 0.92910097, 0.9392884 , 1.1880153 ,\n",
       "        0.33552317, 0.34298964, 0.34220148, 0.35596005]])"
      ]
     },
     "execution_count": 247,
     "metadata": {},
     "output_type": "execute_result"
    }
   ],
   "source": [
    "thug_cc # B=5"
   ]
  },
  {
   "cell_type": "code",
   "execution_count": 242,
   "id": "b3da4086",
   "metadata": {},
   "outputs": [
    {
     "data": {
      "text/plain": [
       "array([[0.061, 0.059, 0.069, 0.062, 0.042, 0.   , 0.   , 0.   , 0.   ]])"
      ]
     },
     "execution_count": 242,
     "metadata": {},
     "output_type": "execute_result"
    }
   ],
   "source": [
    "thug_ap # B=4"
   ]
  },
  {
   "cell_type": "code",
   "execution_count": 243,
   "id": "254bc0e2",
   "metadata": {},
   "outputs": [
    {
     "data": {
      "text/plain": [
       "array([[1.24191826, 1.21655635, 1.09188854, 1.14036663, 2.1286346 ,\n",
       "        0.28519889, 0.29809661, 0.32850118, 0.28386816]])"
      ]
     },
     "execution_count": 243,
     "metadata": {},
     "output_type": "execute_result"
    }
   ],
   "source": [
    "thug_cc # B=4"
   ]
  },
  {
   "cell_type": "code",
   "execution_count": 238,
   "id": "c28e2e08",
   "metadata": {},
   "outputs": [
    {
     "data": {
      "text/plain": [
       "array([[0.143, 0.153, 0.162, 0.154, 0.143, 0.004, 0.   , 0.   , 0.   ]])"
      ]
     },
     "execution_count": 238,
     "metadata": {},
     "output_type": "execute_result"
    }
   ],
   "source": [
    "thug_ap # B=3"
   ]
  },
  {
   "cell_type": "code",
   "execution_count": 239,
   "id": "511e4363",
   "metadata": {},
   "outputs": [
    {
     "data": {
      "text/plain": [
       "array([[1.66469694, 1.35755394, 2.5006561 , 1.51748013, 1.44082803,\n",
       "        1.10348225, 0.41122055, 0.43176698, 0.42103632]])"
      ]
     },
     "execution_count": 239,
     "metadata": {},
     "output_type": "execute_result"
    }
   ],
   "source": [
    "thug_cc # B=3"
   ]
  },
  {
   "cell_type": "code",
   "execution_count": 234,
   "id": "64a8d68b",
   "metadata": {},
   "outputs": [
    {
     "data": {
      "text/plain": [
       "array([[0.318, 0.34 , 0.337, 0.352, 0.361, 0.   , 0.   , 0.   , 0.   ]])"
      ]
     },
     "execution_count": 234,
     "metadata": {},
     "output_type": "execute_result"
    }
   ],
   "source": [
    "thug_ap # B=2"
   ]
  },
  {
   "cell_type": "code",
   "execution_count": 235,
   "id": "53eba711",
   "metadata": {},
   "outputs": [
    {
     "data": {
      "text/plain": [
       "array([[2.15496453, 1.84860685, 1.54732782, 1.51066811, 1.94390491,\n",
       "        0.47484866, 0.46572371, 0.46641199, 0.4737049 ]])"
      ]
     },
     "execution_count": 235,
     "metadata": {},
     "output_type": "execute_result"
    }
   ],
   "source": [
    "thug_cc"
   ]
  },
  {
   "cell_type": "code",
   "execution_count": 227,
   "id": "14b489a9",
   "metadata": {},
   "outputs": [
    {
     "data": {
      "text/plain": [
       "array([[0.649, 0.638, 0.63 , 0.615, 0.575, 0.022, 0.   , 0.   , 0.   ]])"
      ]
     },
     "execution_count": 227,
     "metadata": {},
     "output_type": "execute_result"
    }
   ],
   "source": [
    "thug_ap # B=1"
   ]
  },
  {
   "cell_type": "code",
   "execution_count": 228,
   "id": "b33b5e54",
   "metadata": {},
   "outputs": [
    {
     "data": {
      "text/plain": [
       "array([[1.79728788, 1.52571648, 1.57215203, 1.80221206, 1.7765372 ,\n",
       "        1.27643641, 0.52265855, 0.54514774, 0.48787008]])"
      ]
     },
     "execution_count": 228,
     "metadata": {},
     "output_type": "execute_result"
    }
   ],
   "source": [
    "thug_cc"
   ]
  },
  {
   "cell_type": "markdown",
   "id": "d4a79c73",
   "metadata": {},
   "source": [
    "#### THUG $\\alpha=0.99$"
   ]
  },
  {
   "cell_type": "code",
   "execution_count": 248,
   "id": "decc1f10",
   "metadata": {},
   "outputs": [
    {
     "name": "stderr",
     "output_type": "stream",
     "text": [
      "/opt/anaconda3/envs/manifold-sampling/lib/python3.10/site-packages/autograd/tracer.py:48: RuntimeWarning: invalid value encountered in log\n",
      "  return f_raw(*args, **kwargs)\n"
     ]
    }
   ],
   "source": [
    "thug99_cc = zeros((n_repeats, len(ϵs)))\n",
    "thug99_ap = zeros((n_repeats, len(ϵs)))\n",
    "for (ix, ϵ), ystar, ξ0 in zip(enumerate(ϵs), ystars, ξ0s):\n",
    "    for i in range(n_repeats):\n",
    "        start_time = time.time()\n",
    "        thug_samples99, thug_acc99 = HugTangentialMultivariate(\n",
    "            x0=ξ0,\n",
    "            T=T,\n",
    "            B=B,\n",
    "            N=N_samples,\n",
    "            α=0.99,\n",
    "            q=q,\n",
    "            logpi=lambda ξ: log_abc_posterior_beta(ξ, ystar, ϵ=ϵ),\n",
    "            jac=Jf\n",
    "        )\n",
    "        runtimeTHUG99 = time.time() - start_time\n",
    "        thug99_cc[i, ix] = min(ESS_univariate(thug_samples99)) / runtimeTHUG99\n",
    "        thug99_ap[i, ix] = thug_acc99.mean()"
   ]
  },
  {
   "cell_type": "code",
   "execution_count": 249,
   "id": "896ba6b5",
   "metadata": {},
   "outputs": [
    {
     "data": {
      "text/plain": [
       "array([[0.27 , 0.249, 0.252, 0.246, 0.272, 0.274, 0.218, 0.029, 0.   ]])"
      ]
     },
     "execution_count": 249,
     "metadata": {},
     "output_type": "execute_result"
    }
   ],
   "source": [
    "thug99_ap # B=5"
   ]
  },
  {
   "cell_type": "code",
   "execution_count": 250,
   "id": "00694631",
   "metadata": {},
   "outputs": [
    {
     "data": {
      "text/plain": [
       "array([[2.96730067, 1.774103  , 2.83080326, 6.43092352, 8.97395294,\n",
       "        2.66354743, 2.15956214, 1.03148518, 0.33428125]])"
      ]
     },
     "execution_count": 250,
     "metadata": {},
     "output_type": "execute_result"
    }
   ],
   "source": [
    "thug99_cc #B=5"
   ]
  },
  {
   "cell_type": "markdown",
   "id": "9d33bf25",
   "metadata": {},
   "source": [
    "# RWM with $s=T$"
   ]
  },
  {
   "cell_type": "code",
   "execution_count": 67,
   "id": "1ccbc7ed",
   "metadata": {},
   "outputs": [],
   "source": [
    "rwm_cc = zeros((n_repeats, len(ϵs)))\n",
    "rwm_ap = zeros((n_repeats, len(ϵs)))\n",
    "for (ix, ϵ), ystar, ξ0 in zip(enumerate(ϵs), ystars, ξ0s):\n",
    "    for i in range(n_repeats):\n",
    "        start_time = time.time()\n",
    "        rwm_samples, rwm_acc = RWM(x0=ξ0, s=T, N=N_samples, logpi=lambda ξ: log_abc_posterior_beta(ξ, ystar, ϵ))\n",
    "        runtimeRWM = time.time() - start_time\n",
    "        rwm_cc[i, ix] = min(ESS_univariate(rwm_samples)) / runtimeRWM\n",
    "        rwm_ap[i, ix] = rwm_acc.mean()"
   ]
  },
  {
   "cell_type": "markdown",
   "id": "1de0475a",
   "metadata": {},
   "source": [
    "# C-RWM"
   ]
  },
  {
   "cell_type": "code",
   "execution_count": 912,
   "id": "695132fd",
   "metadata": {},
   "outputs": [],
   "source": [
    "class GKManifold(Manifold):\n",
    "    def __init__(self, ystar):\n",
    "        self.m = len(ystar)            # Number constraints = dimensionality of the data\n",
    "        self.d = 4                     # Manifold has dimension 4 (like the parameter θ)\n",
    "        self.n = self.d + self.m       # Dimension of ambient space is m + 4\n",
    "        self.ystar = ystar\n",
    "\n",
    "    def q(self, ξ):\n",
    "        \"\"\"Constraint for toy BIP.\"\"\"\n",
    "        with catch_warnings():\n",
    "            filterwarnings('error')\n",
    "            try:\n",
    "                return (ξ[0] + ξ[1]*(1 + 0.8*(1 - exp(-ξ[2]*ξ[4:]))/(1 + exp(-ξ[2]*ξ[4:]))) * ((1 + ξ[4:]**2)**ξ[3])*ξ[4:]) - self.ystar\n",
    "            except RuntimeWarning:\n",
    "                raise ValueError(\"Constraint found Overflow warning.\")\n",
    "\n",
    "    def Q(self, ξ):\n",
    "        \"\"\"Transpose of Jacobian for toy BIP. \"\"\"\n",
    "        return Jf_transpose(ξ)\n",
    "    \n",
    "    def compute_J(self, ξ):\n",
    "        \"\"\"Safely computes Jacobian.\"\"\"\n",
    "        with catch_warnings():\n",
    "            filterwarnings('error')\n",
    "            try:\n",
    "                return Jf(ξ)\n",
    "            except RuntimeWarning:\n",
    "                raise ValueError(\"J computation found Runtime warning.\")\n",
    "                \n",
    "    def logprior(self, ξ):\n",
    "        \"\"\"Log prior distribution.\"\"\"\n",
    "        θ, z = ξ[:4], ξ[4:]\n",
    "        with catch_warnings():\n",
    "            filterwarnings('error')\n",
    "            try:\n",
    "                theta_prior_term = (np.log(θ/10) + np.log(1-θ/10)).sum()\n",
    "                z_prior_term = -z@z/2\n",
    "                return theta_prior_term + z_prior_term\n",
    "            except RuntimeWarning:\n",
    "                return -np.inf\n",
    "\n",
    "    def logpost(self, ξ):\n",
    "        \"\"\"log posterior for c-rwm\"\"\"\n",
    "        θ, z = ξ[:4], ξ[4:]\n",
    "        try:\n",
    "            J = self.compute_J(ξ)\n",
    "            logprior = self.logprior(ξ)\n",
    "            correction_term  = - math.prod(np.linalg.slogdet(J@J.T))/2 \n",
    "            return  logprior + correction_term\n",
    "        except ValueError as e:\n",
    "            return -np.inf\n",
    "            \n",
    "#         if Jsuccessful:\n",
    "#             theta_prior_term = (np.log(θ/10) + np.log(1-θ/10)).sum()\n",
    "#             z_prior_term     = - z@z/2\n",
    "#             correction_term  = - math.prod(np.linalg.slogdet(J@J.T))/2 \n",
    "#             return  theta_prior_term + z_prior_term + correction_term\n",
    "#         else:\n",
    "#             return -np.inf\n",
    "        #return (np.log(θ/10) + np.log(1-θ/10)).sum() - np.log(det(J@J.T))/2 -z@z/2\n",
    "    \n",
    "    def logp(self, v):\n",
    "        \"\"\"Log density for normal on the tangent space.\"\"\"\n",
    "        return MVN(mean=zeros(self.d), cov=eye(self.d)).logpdf(v)"
   ]
  },
  {
   "cell_type": "code",
   "execution_count": 901,
   "id": "1971f1a7",
   "metadata": {},
   "outputs": [],
   "source": [
    "def zappa_sampling_storecomps_rattle(x0, manifold, n, T, B, tol, rev_tol, maxiter=50, norm_ord=2):\n",
    "    \"\"\"\n",
    "    Same as `zappa_sampling_storecomps` except here we don't just do a single step with step size \\sigma. \n",
    "    Instead, here we basically use RATTLE but with V(x) = constant, so that all the unconstrained momentum\n",
    "    updates using \\nabla V will not be performed. \n",
    "    This version of the algorithm allows us to compare it against THUG. Indeed suppose THUG is run with parameters\n",
    "    T and B (integration time and number of bounces). Then how do you run Zappa? With sigma=T? With sigma=T/B? \n",
    "    Using this function, one can run zappa with T and B, hence leading to a fairer comparison. \n",
    "    \n",
    "    TOL:      tolerance for non-linear projection (Newton's algorithm)\n",
    "    REV_TOL:  tolerance for checking reversibility.\n",
    "\n",
    "    x0 : Numpy Array \n",
    "         Initial point on the manifold. Has dimension (d,) where d is the manifold dimension.\n",
    "\n",
    "    manifold : Manifold\n",
    "               Object of Manifold class.\n",
    "\n",
    "    logf : callable\n",
    "           Function computing log-target density constrained on the manifold. In most cases, this \n",
    "           is uniform and the function should output log(1) = 0. Takes as input a vector of \n",
    "           dimension (d + m, )\n",
    "\n",
    "    n : Int\n",
    "        Number of samples\n",
    "\n",
    "    T : Float\n",
    "        Integration time\n",
    "\n",
    "    B : Int\n",
    "        Number of RATTLE steps\n",
    "\n",
    "    tol : Float\n",
    "          Tolerance for root-finding algorithm used to find a.\n",
    "\n",
    "    Returns the samples as an array of dimensions (n, d + m)\n",
    "    \"\"\"\n",
    "    assert type(B) == int\n",
    "    assert norm_ord in [2, np.inf]\n",
    "    # Check arguments\n",
    "    n = int(n)\n",
    "    B = int(B)\n",
    "    δ = T / B\n",
    "    d, m = manifold.get_dimension(), manifold.get_codimension()\n",
    "\n",
    "    # Choose how to compute Qx @ a based on the dimensionality\n",
    "#     if m == 1:\n",
    "#         compute_Qxa = lambda Qx, a: a*Qx.flatten()\n",
    "#     else:\n",
    "#         compute_Qxa = lambda Qx, a: Qx @ a\n",
    "\n",
    "    # Initial point on the manifold\n",
    "    x = x0\n",
    "\n",
    "    # House-keeping\n",
    "    samples = zeros((n, d + m))    # Store n samples on the manifold\n",
    "    samples[0, :] = x\n",
    "    i = 1\n",
    "    N_EVALS = {'jacobian': 0, 'density': 0}\n",
    "    ACCEPTED = zeros(n)\n",
    "    \n",
    "    # Define function to compute Jacobian. \n",
    "#     def compute_J(x):\n",
    "#         \"\"\"Computes jacobian but also returns a flag as to whether the computation worked or not.\"\"\"\n",
    "#         successful = True\n",
    "#         try:\n",
    "#             J = manifold.Q(x).T\n",
    "#             return J, successful\n",
    "#         except ValueError as e:\n",
    "#             print(\"Jacobian computation failed with error: \", e)\n",
    "#             successful = False\n",
    "#             return zeros_like(J), successful\n",
    "    compute_J = manifold.compute_J\n",
    "    # Define function to compute density\n",
    "    def logη(x):\n",
    "        \"\"\"Computes log density on Manifold but makes sure everything is behaving nicely.\"\"\"\n",
    "        return manifold.logpost(x)\n",
    "\n",
    "    # Log-uniforms for MH accept-reject step\n",
    "    logu = log(rand(n))\n",
    "\n",
    "    # Compute jacobian & density value\n",
    "    Jx    = compute_J(x) #manifold.Q(x).T\n",
    "    logηx = logη(x)\n",
    "    N_EVALS['jacobian'] += 1\n",
    "    N_EVALS['density'] += 1\n",
    "\n",
    "    # Function to project onto tangent space\n",
    "    def qr_project(v, J):\n",
    "        \"\"\"Projects using QR decomposition.\"\"\"\n",
    "        Q, _ = qr(J.T, mode='economic')\n",
    "        return Q @ (Q.T @ v)\n",
    "    \n",
    "    def linear_project(v, J):\n",
    "        \"\"\"Projects by solving linear system.\"\"\"\n",
    "        return J.T @ solve(J@J.T, J@v)\n",
    "        #return J.T.dot(solve(J.dot(J.T), J.dot(v)))\n",
    "\n",
    "    # Constrained Step Function\n",
    "    def constrained_rwm_step(x, v, tol, maxiter, Jx, norm_ord=norm_ord):\n",
    "        \"\"\"Used for both forward and backward. See Manifold-Lifting paper.\"\"\"\n",
    "        # Project momentum\n",
    "        v_projected = v - linear_project(v, Jx) #qr_project(v, Jx)\n",
    "        # Unconstrained position step\n",
    "        x_unconstr = x + v_projected\n",
    "        # Position Projection\n",
    "        a, flag, n_grad = project_zappa(manifold, x_unconstr, Jx.T, tol, maxiter, norm_ord=norm_ord)\n",
    "        y = x_unconstr - Jx.T @ a #x_unconstr + Jx.T @ a #compute_Qxa(Jx.T, a)\n",
    "#         print(\"y found on M? \", is_on_manifold(y, ystar))\n",
    "        try:\n",
    "            Jy = compute_J(y) #manifold.Q(y).T\n",
    "        except ValueError as e:\n",
    "            print(\"Jacobian computation at projected point failed. \", e)\n",
    "            return x, v, Jx, 0, n_grad + 1\n",
    "        # backward velocity\n",
    "        v_would_have = y - x\n",
    "        # Find backward momentum & project it to tangent space at new position\n",
    "        v_projected_endposition = v_would_have - linear_project(v_would_have, Jy) #qr_project(v_would_have, Jy) #qr_project((y - x) / δ, Jy)\n",
    "        # Return projected position, projected momentum and flag\n",
    "#         print(\"CRWMStep. ||Proj v - v||=\", np.linalg.norm(v_projected - v), \" ||v||=\", np.linalg.norm(v), \" ||v_projected||=\", np.linalg.norm(v_projected), \" ||y-x||=\", np.linalg.norm(y-x), \"flag=\", flag, \" ||a||=\", np.linalg.norm(a), \"is x_unconstr on Manifold? \", is_on_manifold(x_unconstr, ystar), \" ||v_projected_endposition||=\", np.linalg.norm(v_projected_endposition), \" ||x_unconstr-x||=\", np.linalg.norm(x_unconstr-x), \" ||Qxa||=\", np.linalg.norm(Jx.T @ a), \"norm()=\", \"norm()=\", la.norm(manifold.q(x_unconstr- Jx.T@a)))\n",
    "        return y, v_projected_endposition, Jy, flag, n_grad + 1\n",
    "    \n",
    "    def constrained_leapfrog(x0, v0, J0, B, tol, rev_tol, maxiter, norm_ord=norm_ord):\n",
    "        \"\"\"Constrained Leapfrog/RATTLE.\"\"\"\n",
    "        successful = True\n",
    "        n_jacobian_evaluations = 0\n",
    "        x, v, J = x0, v0, J0\n",
    "        for _ in range(B):\n",
    "#             print(\"Leapfrog Step: \", _)\n",
    "#             print(\"\\tStarting step \", _, \" from ||x||=\", np.linalg.norm(x))\n",
    "            xf, vf, Jf, converged_fw, n_fw = constrained_rwm_step(x, v, tol, maxiter, J, norm_ord=norm_ord)\n",
    "#             print(\"\\tConstrained Step FW: \", n_fw)\n",
    "#             print(\"After FW Constrained Step. ||xf-x||=\", np.linalg.norm(xf-x), \"converged_fw=\", converged_fw, \" ||vf||=\", np.linalg.norm(vf), \"xf on M=\", is_on_manifold(xf, ystar))\n",
    "            xr, vr , Jr, converged_bw, n_bw = constrained_rwm_step(xf, -vf, tol, maxiter, Jf, norm_ord=norm_ord)\n",
    "#             print(\"\\tConstrained Step BW: \", n_bw)\n",
    "#             print(\"After BW Constrained Step. ||xr-x||=\", np.linalg.norm(xr-x), \"converged_bw=\", converged_bw, \" ||vr||=\", np.linalg.norm(vr), \"xr on M=\", is_on_manifold(xr, ystar))\n",
    "            n_jacobian_evaluations += (n_fw + n_bw)  # +2 due to the line Jy = manifold.Q(y).T\n",
    "            if (not converged_fw) or (not converged_bw) or (np.linalg.norm(xr - x, ord=norm_ord) >= rev_tol):\n",
    "#                 print(\"Failed\")\n",
    "                successful = False\n",
    "                return x0, v0, J0, successful, n_jacobian_evaluations\n",
    "            else:\n",
    "#                 print(\"\\tStep \", _, \" successful. ||x||=\", np.linalg.norm(x), \"||xf-x||=\", np.linalg.norm(xf-x))\n",
    "                x = xf\n",
    "                v = vf\n",
    "                J = Jf\n",
    "        return x, v, J, successful, n_jacobian_evaluations\n",
    "\n",
    "    for i in range(n):\n",
    "#         print(\"Iteration: \", i)\n",
    "        v = δ*randn(m + d) # Sample in the ambient space.\n",
    "        xp, vp, Jp, LEAPFROG_SUCCESSFUL, n_jac_evals = constrained_leapfrog(x, v, Jx, B, tol=tol, rev_tol=rev_tol, maxiter=maxiter)\n",
    "        N_EVALS['jacobian'] += n_jac_evals\n",
    "        if LEAPFROG_SUCCESSFUL:\n",
    "            logηp = logη(xp)\n",
    "            N_EVALS['density'] += 1\n",
    "#             print(np.linalg.norm(xp - x), logfp, logfx, logfp-logfx)\n",
    "            if logu[i] <= logηp - logηx - (vp@vp)/2 + (v@v)/2: \n",
    "                # Accept\n",
    "                ACCEPTED[i - 1] = 1\n",
    "                x, logηx, Jx = xp, logηp, Jp\n",
    "                samples[i, :] = xp\n",
    "            else:\n",
    "                # Reject\n",
    "                samples[i, :] = x\n",
    "                ACCEPTED[i - 1] = 0\n",
    "        else:\n",
    "            # Reject\n",
    "            samples[i, :] = x\n",
    "            ACCEPTED[i - 1] = 0\n",
    "    return samples, N_EVALS, ACCEPTED"
   ]
  },
  {
   "cell_type": "code",
   "execution_count": 902,
   "id": "dce7a6f2",
   "metadata": {},
   "outputs": [],
   "source": [
    "def project_zappa(manifold, z, Q, tol = 1.48e-08 , maxiter = 50, atol=1e-8, norm_ord=2):\n",
    "    '''\n",
    "    This version is the version of Miranda & Zappa. It retuns i, the number of iterations\n",
    "    i.e. the number of gradient evaluations used.\n",
    "    '''\n",
    "    a, flag, i = np.zeros(Q.shape[1]), 1, 0\n",
    "\n",
    "    # Compute the constrained at z - Q@a. If it fails due to overflow error, return a rejection altogether.\n",
    "    try:\n",
    "        projected_value = manifold.q(z - Q@a)\n",
    "    except ValueError as e:\n",
    "        return a, 0, i\n",
    "    # While loop\n",
    "    while la.norm(projected_value, ord=norm_ord) >= tol:\n",
    "        try:\n",
    "            Jproj = manifold.compute_J(z - Q@a)\n",
    "        except ValueError as e:\n",
    "            print(\"Jproj failed. \", e)\n",
    "            return zeros(Q.shape[1]), 0, i\n",
    "        # Check that Jproj@Q is invertible. Do this by checking condition number \n",
    "        # see https://stackoverflow.com/questions/13249108/efficient-pythonic-check-for-singular-matrix\n",
    "        GramMatrix = Jproj@Q\n",
    "        if np.linalg.cond(GramMatrix) < 1/np.finfo(z.dtype).eps:\n",
    "            Δa = la.solve(GramMatrix, projected_value)\n",
    "            a += Δa\n",
    "            i += 1\n",
    "            if i > maxiter:\n",
    "                return zeros(Q.shape[1]), 0, i\n",
    "            # If we are not at maxiter iteration, compute new projected value\n",
    "            try:\n",
    "                projected_value = manifold.q(z - Q@a)\n",
    "            except ValueError as e:\n",
    "                return zeros(Q.shape[1]), 0, i\n",
    "        else:\n",
    "            # Fail\n",
    "            return zeros(Q.shape[1]), 0, i\n",
    "    # At the end, check that the found a is not too small.\n",
    "    if la.norm(a, ord=norm_ord) <= atol:\n",
    "        return zeros(Q.shape[1]), 0, i\n",
    "    else:\n",
    "        return a, 1, i\n",
    "    \n",
    "    \n",
    "    \n",
    "#     try:\n",
    "#         while la.norm(q(z - Q@a), ord=norm_ord) >= tol:\n",
    "#             delta_a = la.solve(grad_q(z - Q@a).transpose()@Q, q(z - Q@a))\n",
    "#             a += delta_a\n",
    "#             i += 1\n",
    "#             if i > maxiter:\n",
    "#                 flag = 0\n",
    "#                 return a, flag, i\n",
    "#     except ValueError as e:\n",
    "#         flag = 0\n",
    "#         return a, flag, i\n",
    "#     except ValueError as e:\n",
    "#         # print(\"z: \", z@z)\n",
    "#         # print(\"Q: \", Q)\n",
    "#         # print(\"a: \", a, a@a)\n",
    "#         # print(\"FAILED\")\n",
    "#         flag = 0\n",
    "#         return a, flag, i\n",
    "    # If a is basically zero, then we have actually failed.\n",
    "#     if la.norm(a, ord=norm_ord) <= atol:\n",
    "#         flag = 0\n",
    "#         return a, flag, i\n",
    "#     else:\n",
    "#         return a, flag, i"
   ]
  },
  {
   "cell_type": "code",
   "execution_count": 213,
   "id": "697c0f4f",
   "metadata": {
    "scrolled": true
   },
   "outputs": [
    {
     "name": "stderr",
     "output_type": "stream",
     "text": [
      "/var/folders/31/dthljx8x5mldm2ll5_zz7xrr0000gn/T/ipykernel_35226/712030013.py:10: RuntimeWarning: overflow encountered in exp\n",
      "  return ξ[0] + ξ[1]*(1 + 0.8*(1 - exp(-ξ[2]*ξ[4:]))/(1 + exp(-ξ[2]*ξ[4:]))) * ((1 + ξ[4:]**2)**ξ[3])*ξ[4:] - self.ystar\n",
      "/var/folders/31/dthljx8x5mldm2ll5_zz7xrr0000gn/T/ipykernel_35226/712030013.py:10: RuntimeWarning: invalid value encountered in true_divide\n",
      "  return ξ[0] + ξ[1]*(1 + 0.8*(1 - exp(-ξ[2]*ξ[4:]))/(1 + exp(-ξ[2]*ξ[4:]))) * ((1 + ξ[4:]**2)**ξ[3])*ξ[4:] - self.ystar\n",
      "/var/folders/31/dthljx8x5mldm2ll5_zz7xrr0000gn/T/ipykernel_35226/712030013.py:10: RuntimeWarning: overflow encountered in power\n",
      "  return ξ[0] + ξ[1]*(1 + 0.8*(1 - exp(-ξ[2]*ξ[4:]))/(1 + exp(-ξ[2]*ξ[4:]))) * ((1 + ξ[4:]**2)**ξ[3])*ξ[4:] - self.ystar\n"
     ]
    }
   ],
   "source": [
    "n_repeats_crwm = 1\n",
    "crwm_cc = zeros(n_repeats_crwm)\n",
    "crwm_ap = zeros(n_repeats_crwm)\n",
    "for i in range(n_repeats_crwm):\n",
    "    # Prep manifold\n",
    "    manifold = GKManifold(ystar=ystar)\n",
    "    # Run\n",
    "    start_time = time.time()\n",
    "    crwm_samples, crwm_evals, crwm_acc  = zappa_sampling_storecomps_rattle(ξ0_found, manifold, manifold.logpost, 10, T, B, tol=1e-10, rev_tol=1e-8)\n",
    "    runtimeCRWM = time.time() - start_time\n",
    "    crwm_cc[i] = min(ESS_univariate(crwm_samples)) / runtimeCRWM\n",
    "    crwm_ap[i] = crwm_acc.mean()"
   ]
  },
  {
   "cell_type": "code",
   "execution_count": 229,
   "id": "30bf3502",
   "metadata": {},
   "outputs": [],
   "source": [
    "n_repeats_crwm = 1\n",
    "crwm_cc = zeros(n_repeats_crwm)\n",
    "crwm_ap = zeros(n_repeats_crwm)\n",
    "for i in range(n_repeats_crwm):\n",
    "    # Prep manifold\n",
    "    manifold = GKManifold(ystar=ystar)\n",
    "    # Run\n",
    "    start_time = time.time()\n",
    "    crwm_samples, crwm_evals, crwm_acc  = zappa_sampling_storecomps(ξ0_found, manifold, manifold.logpost, manifold.logp, N_samples, δ, tol=1e-10)\n",
    "    runtimeCRWM = time.time() - start_time\n",
    "    crwm_cc[i] = min(ESS_univariate(crwm_samples)) / runtimeCRWM\n",
    "    crwm_ap[i] = crwm_acc.mean()"
   ]
  },
  {
   "cell_type": "code",
   "execution_count": null,
   "id": "29977fc3",
   "metadata": {},
   "outputs": [],
   "source": []
  },
  {
   "cell_type": "code",
   "execution_count": null,
   "id": "41ebb3a4",
   "metadata": {},
   "outputs": [],
   "source": []
  },
  {
   "cell_type": "code",
   "execution_count": null,
   "id": "9fa0294f",
   "metadata": {},
   "outputs": [],
   "source": []
  },
  {
   "cell_type": "code",
   "execution_count": null,
   "id": "cfc704be",
   "metadata": {},
   "outputs": [],
   "source": []
  },
  {
   "cell_type": "code",
   "execution_count": 143,
   "id": "4aefdffd",
   "metadata": {},
   "outputs": [
    {
     "data": {
      "image/png": "[encoded data removed]",
      "text/plain": [
       "<Figure size 432x288 with 1 Axes>"
      ]
     },
     "metadata": {
      "needs_background": "light"
     },
     "output_type": "display_data"
    }
   ],
   "source": [
    "# process data so that when there is a zero acceptance probability, we put NaN\n",
    "def process(cc, ap):\n",
    "    cc_mean = nanmean(cc, axis=0)\n",
    "    cc_mean[ap.mean(axis=0) <= 1e-16] = np.nan\n",
    "    return cc_mean\n",
    "\n",
    "\n",
    "    \n",
    "\n",
    "# Plot minESS/time as \\sigma varies, in log-log scale\n",
    "max_index = len(ϵs)\n",
    "rc('font',**{'family':'STIXGeneral'})\n",
    "fig, ax = plt.subplots()\n",
    "ax.plot(ϵs[:max_index], process(thug_cc, thug_ap)[:max_index], label='THUG', marker='o', linewidth=2.5, markersize=9.0, markeredgecolor='navy', color='dodgerblue', markeredgewidth=2.0)\n",
    "ax.plot(ϵs[:max_index], process(thug99_cc, thug99_ap)[:max_index], label='αTHUG', marker='o', linewidth=2.5, markersize=9.0, markeredgecolor='purple', color='thistle', markeredgewidth=2.0)\n",
    "# ax.plot(ϵs[:max_index], process(hmc_cc, hmc_ap)[:max_index], label='HMC', marker='o', linewidth=2.5, markersize=9.0, markeredgecolor='brown', color='lightcoral', markeredgewidth=2.0)\n",
    "ax.plot(ϵs[:max_index], process(rwm_cc, rwm_ap)[:max_index], label='RWM', marker='o', linewidth=2.5, markersize=9.0, markeredgecolor='darkgreen', color='yellowgreen', markeredgewidth=2.0)\n",
    "ax.plot(ϵs[:max_index], np.repeat(crwm_cc.mean(), max_index), label='CRWM', marker='o', linewidth=2.5, markersize=9.0, markeredgecolor='black', color='darkgrey', markeredgewidth=2.0)\n",
    "# ax.plot(ϵs[:max_index], nanmean(chmc_cc, axis=0)[:max_index], label='CHMC', marker='o', linewidth=2.5, markersize=9.0, markeredgecolor='black', color='darkgrey', markeredgewidth=2.0)\n",
    "# ax.plot(σlist, nanmean(THUG_CC99, axis=1), label='THUG99', marker='o')\n",
    "# ax.plot(σlist, nanmean(THUG_CC90, axis=1), label='THUG90', marker='o')\n",
    "# ax.plot(σlist, nanmean(THUG_CC95, axis=1), label='THUG95', marker='o')\n",
    "# ax.plot(σlist, nanmean(THUG_CC995, axis=1), label='THUG995', marker='o')\n",
    "# ax.plot(σlist, nanmean(THUG_CC80, axis=1), label='THUG80', marker='o')\n",
    "# ax.plot(σlist, nanmean(THUG_CC50, axis=1), label='THUG50', marker='o')\n",
    "ax.set_xlabel(r'Tolerance ' + r'$\\mathregular{\\epsilon}$', fontsize=16)\n",
    "ax.set_ylabel(r'MinESS / runtime', fontsize=16)\n",
    "ax.tick_params(labelsize=15)\n",
    "ax.legend(fontsize=15)\n",
    "ax.loglog()\n",
    "# ax.set_xticks(ticks=ϵs[:max_index], labels=['$\\mathregular{{10^{{}}}}$'.format(-i) for i in range(len(ϵs))])\n",
    "# ax.set_ylim([-1, 5])\n",
    "# ax.set_xscale('log')\n",
    "#plt.savefig('figures/computational_cost_gk_as_sigma_decreases.png', dpi=300)\n",
    "plt.show()"
   ]
  },
  {
   "cell_type": "code",
   "execution_count": null,
   "id": "f0e869f0",
   "metadata": {},
   "outputs": [],
   "source": []
  },
  {
   "cell_type": "code",
   "execution_count": null,
   "id": "30d6aabb",
   "metadata": {},
   "outputs": [],
   "source": []
  },
  {
   "cell_type": "code",
   "execution_count": null,
   "id": "6a70dfd5",
   "metadata": {},
   "outputs": [],
   "source": []
  }
 ],
 "metadata": {
  "kernelspec": {
   "display_name": "Python 3 (ipykernel)",
   "language": "python",
   "name": "python3"
  },
  "language_info": {
   "codemirror_mode": {
    "name": "ipython",
    "version": 3
   },
   "file_extension": ".py",
   "mimetype": "text/x-python",
   "name": "python",
   "nbconvert_exporter": "python",
   "pygments_lexer": "ipython3",
   "version": "3.10.4"
  }
 },
 "nbformat": 4,
 "nbformat_minor": 5
}
