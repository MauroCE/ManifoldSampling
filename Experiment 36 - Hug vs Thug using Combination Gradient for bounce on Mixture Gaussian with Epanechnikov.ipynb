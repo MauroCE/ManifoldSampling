{
 "cells": [
  {
   "cell_type": "code",
   "execution_count": 1,
   "id": "bc6cbac4",
   "metadata": {},
   "outputs": [],
   "source": [
    "import numpy as np\n",
    "from numpy import load, arange, linspace\n",
    "import matplotlib.pyplot as plt\n",
    "from utils import box_plot, num_grad_hug_hop, num_grad_thug_hop\n",
    "np.set_printoptions(suppress=True)"
   ]
  },
  {
   "cell_type": "code",
   "execution_count": null,
   "id": "66d9a1c0",
   "metadata": {},
   "outputs": [],
   "source": [
    "folder = \"experiment36/\"\n",
    "\n",
    "# HUG\n",
    "THETA_ESS_HUG = load(folder + \"THETA_ESS_HUG.npy\")\n",
    "U_ESS_HUG     = load(folder + \"U_ESS_HUG.npy\")\n",
    "ESS_HUG       = load(folder + \"ESS_JOINT_HUG.npy\")\n",
    "ESS_LOGPI_HUG  = load(folder + \"LOGPI_ESS_HUG.npy\")\n",
    "A_HUG         = load(folder + \"A_HUG.npy\")\n",
    "RMSE_HUG      = load(folder + \"RMSE_HUG.npy\")\n",
    "EJSD_HUG      = load(folder + \"EJSD_HUG.npy\")\n",
    "G_EJSD_HUG    = load(folder + \"G_EJSD_HUG.npy\")\n",
    "T_EJSD_HUG    = load(folder + \"T_EJSD_HUG.npy\")\n",
    "N_UNIQUE_HUG  = load(folder + \"N_UNIQUE_HUG.npy\")\n",
    "\n",
    "\n",
    "# HUG AR\n",
    "THETA_ESS_THUG = load(folder + \"THETA_ESS_THUG.npy\")\n",
    "U_ESS_THUG     = load(folder + \"U_ESS_THUG.npy\")\n",
    "ESS_THUG       = load(folder + \"ESS_JOINT_THUG.npy\")\n",
    "ESS_LOGPI_THUG = load(folder + \"LOGPI_ESS_THUG.npy\")\n",
    "A_THUG         = load(folder + \"A_THUG.npy\")\n",
    "RMSE_THUG      = load(folder + \"RMSE_THUG.npy\")\n",
    "EJSD_THUG      = load(folder + \"EJSD_THUG.npy\")\n",
    "G_EJSD_THUG    = load(folder + \"G_EJSD_THUG.npy\")\n",
    "T_EJSD_THUG    = load(folder + \"T_EJSD_THUG.npy\")\n",
    "N_UNIQUE_THUG  = load(folder + \"N_UNIQUE_THUG.npy\")\n",
    "\n",
    "\n",
    "# COMMON\n",
    "EPSILONS       = load(folder + \"EPSILONS.npy\")\n",
    "TS             = load(folder + \"TS.npy\")\n",
    "time           = load(folder + \"TIME.npy\")\n",
    "ALPHAS         = load(folder + \"ALPHAS.npy\")"
   ]
  }
 ],
 "metadata": {
  "kernelspec": {
   "display_name": "Python 3 (ipykernel)",
   "language": "python",
   "name": "python3"
  },
  "language_info": {
   "codemirror_mode": {
    "name": "ipython",
    "version": 3
   },
   "file_extension": ".py",
   "mimetype": "text/x-python",
   "name": "python",
   "nbconvert_exporter": "python",
   "pygments_lexer": "ipython3",
   "version": "3.8.10"
  }
 },
 "nbformat": 4,
 "nbformat_minor": 5
}
