{
 "cells": [
  {
   "cell_type": "markdown",
   "id": "4496ec6b",
   "metadata": {},
   "source": [
    "Basically experiment 47 but now we also use C-HMC and we try to reproduce the experiments."
   ]
  },
  {
   "cell_type": "code",
   "execution_count": 1,
   "id": "629ae2b2",
   "metadata": {},
   "outputs": [],
   "source": [
    "import numpy as np\n",
    "from numpy import zeros, eye, array, r_, diag, ones, log, zeros_like, pi, exp, log10, sort, quantile, linspace, vstack\n",
    "from numpy import save\n",
    "from numpy.random import randn, rand, randint, default_rng\n",
    "from numpy.random import normal\n",
    "from numpy import isfinite\n",
    "from numpy.linalg import solve, det, inv, norm\n",
    "\n",
    "import matplotlib.pyplot as plt\n",
    "import seaborn as sns\n",
    "\n",
    "from collections import OrderedDict\n",
    "import copy\n",
    "\n",
    "from warnings import catch_warnings, filterwarnings\n",
    "\n",
    "from autograd import jacobian, grad\n",
    "import autograd.numpy as anp\n",
    "from autograd.numpy.linalg import norm as norm_a\n",
    "import autograd.scipy as asp\n",
    "from autograd.scipy.stats import norm as ndist_a\n",
    "import autograd as ag\n",
    "\n",
    "from scipy.stats import multivariate_normal as MVN\n",
    "from scipy.optimize import fsolve, bisect\n",
    "from scipy.stats import norm as ndist\n",
    "from scipy.stats import uniform as udist\n",
    "from scipy.stats import beta as betadist\n",
    "from scipy.linalg import qr\n",
    "from scipy.special import gamma\n",
    "\n",
    "from g_and_k_functions import GandK\n",
    "from tangential_hug_functions import HugTangentialMultivariate\n",
    "from RWM import RWM\n",
    "from HMC.static_hmc import HMC\n",
    "from utils import ESS_univariate, ESS"
   ]
  },
  {
   "cell_type": "code",
   "execution_count": 2,
   "id": "aba9ee23",
   "metadata": {},
   "outputs": [],
   "source": [
    "# True parameter\n",
    "θ0 = np.array([3.0, 1.0, 2.0, 0.5])\n",
    "n_latents = 50\n",
    "nps = 3.0 # Scale of normal prior for G and K when using HMC (for differtiability)\n",
    "ϵ = 1.0 #0.0001 #0.0001 #0.07 #2.0\n",
    "d = 4 + n_latents"
   ]
  },
  {
   "cell_type": "code",
   "execution_count": 3,
   "id": "675451d4",
   "metadata": {},
   "outputs": [],
   "source": [
    "prangle_mcmc_samples = np.loadtxt('ManifoldSamplingR/gk_mcmc_samples2.txt', skiprows=1, usecols=range(1, 5))[1:, :]"
   ]
  },
  {
   "cell_type": "markdown",
   "id": "c6f12e8c",
   "metadata": {},
   "source": [
    "# Computational Cost Table"
   ]
  },
  {
   "cell_type": "code",
   "execution_count": 7,
   "id": "d3b0bd80",
   "metadata": {},
   "outputs": [],
   "source": [
    "def compare_computational_costs(ϵ_list, N, n_independent_runs, T=0.2, B=5):\n",
    "    \"\"\"Given a list of ϵ and a number of samples, it will aim to generate a similar table to Chang's.\"\"\"\n",
    "    # Now nest them based on the data points generated\n",
    "    computational_cost     = {i: {\n",
    "        'HUG': zeros_like(ϵ_list),\n",
    "        'THUG': zeros_like(ϵ_list),\n",
    "        'HMC': zeros_like(ϵ_list),\n",
    "        'RWM': zeros_like(ϵ_list)\n",
    "    } for i in range(n_independent_runs)}\n",
    "    acceptance_probability = {i: {\n",
    "        'HUG': zeros_like(ϵ_list),\n",
    "        'THUG': zeros_like(ϵ_list),\n",
    "        'HMC': zeros_like(ϵ_list),\n",
    "        'RWM': zeros_like(ϵ_list)\n",
    "    } for i in range(n_independent_runs)}\n",
    "    ess                    = {i: {\n",
    "        'HUG': zeros_like(ϵ_list),\n",
    "        'THUG': zeros_like(ϵ_list),\n",
    "        'HMC': zeros_like(ϵ_list),\n",
    "        'RWM': zeros_like(ϵ_list)\n",
    "    } for i in range(n_independent_runs)}\n",
    "    # Set some seeds\n",
    "    seeds  = {i: randint(1111, 9999) for i in range(n_independent_runs)}\n",
    "    # Proposal for THUG\n",
    "    q = MVN(zeros(d), eye(d))\n",
    "    for j in range(n_independent_runs):\n",
    "        for i, ϵ in enumerate(ϵ_list):\n",
    "            # Create the correct set up\n",
    "            GK = GandK(m=n_latents, epsilon=ϵ, parameter_prior='normal', kernel='normal', normal_prior_scale=nps)\n",
    "            if i == 0:\n",
    "                ystar = GK.data_generator(θ0, seed=seeds[j])\n",
    "            GK.set_ystar(ystar)\n",
    "            if i == 0:\n",
    "                ξ0 = GK.find_point_on_manifold(max_iter=5000)\n",
    "            print('Run {}, ϵ = {}, ystar mean = {}'.format(j, ϵ, ystar.mean()))\n",
    "            # Sample HUG\n",
    "            print('\\t Sampling HUG')\n",
    "            sHUG, aHUG, ngHUG = HugTangentialMultivariate(ξ0, T, B, N, 0.0, q, GK.log_abc_posterior, GK.Jf, method='qr', return_n_grad=True)\n",
    "            # Sample THUG α=0.9\n",
    "            print('\\t Sampling THUG')\n",
    "            sTHUG, aTHUG, ngTHUG = HugTangentialMultivariate(ξ0, T, B, N, 0.99, q, GK.log_abc_posterior, GK.Jf, method='qr', return_n_grad=True)\n",
    "            # Prep HMC\n",
    "            def dVdξ(ξ, μ= 5*ones(4), Σ=(nps**2)*eye(4), ystar=ystar, ϵ=ϵ, GK=GK):\n",
    "                θ, z = ξ[:4], ξ[4:]\n",
    "                dpdξ = r_[solve(Σ, θ - μ), z]\n",
    "                dkdξ = GK.Jf_transpose(ξ) @ (GK.f(ξ) - ystar) / (ϵ**2)\n",
    "                return dpdξ + dkdξ\n",
    "            def V(ξ, μ= 5*ones(4), Σ=(nps**2)*eye(4), ystar=ystar, ϵ=ϵ, GK=GK):\n",
    "                θ, z = ξ[:4], ξ[4:]\n",
    "                m    = len(z)\n",
    "                neg_log_prior  = -MVN(mean=μ, cov=Σ).logpdf(θ) -MVN(mean=zeros(m), cov=eye(m)).logpdf(z) \n",
    "                neg_log_kernel = 0.5*log(2*pi*(ϵ**2)) + norm(GK.f(ξ) - ystar)**2 / (2*(ϵ**2))\n",
    "                return neg_log_prior + neg_log_kernel \n",
    "            # Sample HMC\n",
    "            print(\"\\t Sampling HMC\")\n",
    "            HMCsampler                = HMC(ξ0, N, eye(d), T, T/B)\n",
    "            HMCsampler.neg_log_target = lambda ξ: V(ξ, ystar=ystar, ϵ=ϵ, GK=GK)\n",
    "            HMCsampler.dVdq           = lambda ξ: dVdξ(ξ, ystar=ystar, ϵ=ϵ, GK=GK)\n",
    "            sHMC, aHMC                = HMCsampler.sample()\n",
    "            # Sample RWM\n",
    "            print(\"\\t Sampling RWM\")\n",
    "            sRWM, aRWM = RWM(ξ0, T/B, N, GK.log_abc_posterior)\n",
    "            # Compute density values and ESS\n",
    "            hug_density_values  = np.apply_along_axis(GK.log_abc_posterior, 1, sHUG)\n",
    "            thug_density_values = np.apply_along_axis(GK.log_abc_posterior, 1, sTHUG)\n",
    "            hmc_density_values  = np.apply_along_axis(GK.log_abc_posterior, 1, sHMC)\n",
    "            rwm_density_values  = np.apply_along_axis(GK.log_abc_posterior, 1, sRWM)\n",
    "            ess_hug             = ESS_univariate(hug_density_values)\n",
    "            ess_thug            = ESS_univariate(thug_density_values)\n",
    "            ess_hmc             = ESS_univariate(hmc_density_values)\n",
    "            ess_rwm             = ESS_univariate(rwm_density_values)\n",
    "            # Store computational cost\n",
    "            computational_cost[j]['HUG'][i]  = log10((ngHUG + N + 1) / ess_hug)\n",
    "            computational_cost[j]['THUG'][i] = log10((ngTHUG + N + 1) / ess_thug)\n",
    "            computational_cost[j]['HMC'][i]  = log10((HMCsampler.Ngrad + N + 1) / ess_hmc)\n",
    "            computational_cost[j]['RWM'][i]  = log10((N + 1) / ess_rwm)\n",
    "            # Store acceptance probabilities\n",
    "            acceptance_probability[j]['HUG'][i]  = aHUG.mean() * 100\n",
    "            acceptance_probability[j]['THUG'][i] = aTHUG.mean() * 100\n",
    "            acceptance_probability[j]['HMC'][i]  = aHMC.mean() * 100 \n",
    "            acceptance_probability[j]['RWM'][i]  = aRWM.mean() * 100\n",
    "            # Store ESS\n",
    "            ess[j]['HUG'][i] = ess_hug\n",
    "            ess[j]['THUG'][i] = ess_thug\n",
    "            ess[j]['HMC'][i]  = ess_hmc\n",
    "            ess[j]['RWM'][i]  = ess_rwm\n",
    "    return computational_cost, acceptance_probability, ess\n"
   ]
  },
  {
   "cell_type": "code",
   "execution_count": 74,
   "id": "d5bd7fe9",
   "metadata": {},
   "outputs": [],
   "source": [
    "T = 0.2\n",
    "B = 5\n",
    "N = 10000\n",
    "q = MVN(zeros(d), eye(d))"
   ]
  },
  {
   "cell_type": "code",
   "execution_count": 94,
   "id": "e7549f50",
   "metadata": {},
   "outputs": [],
   "source": [
    "caption = \"Computational cost per effective sample in log10 scale. Total computational cost for RWM is the total number of $f$ evaluations, for all other algorithms we sum to it the number of Jacobian computations. ESS was computed on the log posterior density of samples.\"\n",
    "\n",
    "# Generate Latex Table\n",
    "def generate_latex_table(cc, ap, ϵ_list, caption=caption):\n",
    "    \"\"\"Generates Chang's latex table.\"\"\"\n",
    "    # Check that `cc` and `ap` have the same keys\n",
    "    assert set(cc.keys()) == set(ap.keys())\n",
    "    new_dictionary = {key: zeros_like(ϵ_list) for key in cc2[0].keys()}\n",
    "    for run_ix in cc2.keys():\n",
    "        for alg in cc2[run_ix].keys():\n",
    "            new_dictionary[alg] += cc2[run_ix][alg] / len(cc2.keys()) #* np.array(ap2[run_ix][alg] != 0, dtype=float) / len(cc2.keys())\n",
    "    # Set ordered dictionary for comp cost\n",
    "    cco = OrderedDict(new_dictionary)\n",
    "    cco.update({'Tolerances': ϵ_list})\n",
    "    cco.move_to_end('Tolerances', last=False)\n",
    "#     for alg in cc.keys():\n",
    "#         cco[alg] *= np.array(ap[alg] != 0, dtype=float)\n",
    "    func = lambda alg, i: cco[alg][i] if cco[alg][i] != 0.0 else np.nan\n",
    "    # Generate table\n",
    "    string  = r'\\begin{table}'\n",
    "    string += \"\\n\\t\" + r'\\begin{tabular}{ | l | l | l | l | l |}'\n",
    "    string += \"\\n\\t\" + r'\\hline'\n",
    "    string += \"\\n\\t\" + \"Tolerances & HUG & THUG & HMC & RWM \\\\\\ \\hline\"\n",
    "    for i, ϵ in enumerate(ϵ_list):\n",
    "        row = \"\\n\\t\" + \"{}  & {:.2f} & {:.2f} & {:.2f} & {:.2f} \\\\\\ \\hline\".format(ϵ, func('HUG', i), func('THUG', i), func('HMC', i), func('RWM', i))\n",
    "        string += row.replace('nan', '-')\n",
    "    string += \"\\n\\t\" + r'\\end{tabular}'\n",
    "    string += \"\\n\\t \\caption{\" + caption + \"}\"\n",
    "    string += \"\\n\" + r'\\end{table}'\n",
    "    return string"
   ]
  },
  {
   "cell_type": "code",
   "execution_count": 97,
   "id": "b346985b",
   "metadata": {},
   "outputs": [
    {
     "name": "stdout",
     "output_type": "stream",
     "text": [
      "Run 0, ϵ = 10.0, ystar mean = 3.9187950399613105\n",
      "\t Sampling HUG\n",
      "\t Sampling THUG\n",
      "\t Sampling HMC\n",
      "\t Sampling RWM\n",
      "Run 0, ϵ = 1.0, ystar mean = 3.9187950399613105\n",
      "\t Sampling HUG\n",
      "\t Sampling THUG\n",
      "\t Sampling HMC\n"
     ]
    },
    {
     "name": "stderr",
     "output_type": "stream",
     "text": [
      "/Users/maurocamara/Documents/University/ManifoldSampling/g_and_k_functions.py:176: RuntimeWarning: overflow encountered in square\n",
      "  8 * b * (z**2) * ((1 + z**2)**k) * exp(g*z) / (5 * (1 + exp(g*z))**2),\n",
      "/Users/maurocamara/Documents/University/ManifoldSampling/g_and_k_functions.py:178: RuntimeWarning: overflow encountered in exp\n",
      "  diag(b*((1+z**2)**(k-1))*(((18*k + 9)*(z**2) + 9)*exp(2*g*z) + (8*g*z**3 + (20*k + 10)*z**2 + 8*g*z + 10)*exp(g*z) + (2*k + 1)*z**2 + 1) / (5*(1 + exp(g*z))**2))\n",
      "/Users/maurocamara/Documents/University/ManifoldSampling/g_and_k_functions.py:178: RuntimeWarning: invalid value encountered in multiply\n",
      "  diag(b*((1+z**2)**(k-1))*(((18*k + 9)*(z**2) + 9)*exp(2*g*z) + (8*g*z**3 + (20*k + 10)*z**2 + 8*g*z + 10)*exp(g*z) + (2*k + 1)*z**2 + 1) / (5*(1 + exp(g*z))**2))\n",
      "/Users/maurocamara/Documents/University/ManifoldSampling/g_and_k_functions.py:178: RuntimeWarning: overflow encountered in square\n",
      "  diag(b*((1+z**2)**(k-1))*(((18*k + 9)*(z**2) + 9)*exp(2*g*z) + (8*g*z**3 + (20*k + 10)*z**2 + 8*g*z + 10)*exp(g*z) + (2*k + 1)*z**2 + 1) / (5*(1 + exp(g*z))**2))\n",
      "/Users/maurocamara/Documents/University/ManifoldSampling/g_and_k_functions.py:175: RuntimeWarning: overflow encountered in exp\n",
      "  (1 + 0.8 * (1 - exp(-g * z)) / (1 + exp(-g * z))) * ((1 + z**2)**k) * z,\n",
      "/Users/maurocamara/Documents/University/ManifoldSampling/g_and_k_functions.py:175: RuntimeWarning: invalid value encountered in true_divide\n",
      "  (1 + 0.8 * (1 - exp(-g * z)) / (1 + exp(-g * z))) * ((1 + z**2)**k) * z,\n",
      "/Users/maurocamara/Documents/University/ManifoldSampling/g_and_k_functions.py:176: RuntimeWarning: overflow encountered in exp\n",
      "  8 * b * (z**2) * ((1 + z**2)**k) * exp(g*z) / (5 * (1 + exp(g*z))**2),\n",
      "/Users/maurocamara/Documents/University/ManifoldSampling/g_and_k_functions.py:176: RuntimeWarning: invalid value encountered in multiply\n",
      "  8 * b * (z**2) * ((1 + z**2)**k) * exp(g*z) / (5 * (1 + exp(g*z))**2),\n",
      "/Users/maurocamara/Documents/University/ManifoldSampling/g_and_k_functions.py:177: RuntimeWarning: overflow encountered in exp\n",
      "  b*z*((1+z**2)**k)*(1 + 9*exp(g*z))*log(1 + z**2) / (5*(1 + exp(g*z))),\n",
      "/Users/maurocamara/Documents/University/ManifoldSampling/g_and_k_functions.py:177: RuntimeWarning: invalid value encountered in multiply\n",
      "  b*z*((1+z**2)**k)*(1 + 9*exp(g*z))*log(1 + z**2) / (5*(1 + exp(g*z))),\n",
      "/Users/maurocamara/Documents/University/ManifoldSampling/g_and_k_functions.py:178: RuntimeWarning: invalid value encountered in add\n",
      "  diag(b*((1+z**2)**(k-1))*(((18*k + 9)*(z**2) + 9)*exp(2*g*z) + (8*g*z**3 + (20*k + 10)*z**2 + 8*g*z + 10)*exp(g*z) + (2*k + 1)*z**2 + 1) / (5*(1 + exp(g*z))**2))\n",
      "/Users/maurocamara/Documents/University/ManifoldSampling/g_and_k_functions.py:157: RuntimeWarning: overflow encountered in exp\n",
      "  return a + b*(1 + 0.8 * (1 - exp(-g * z)) / (1 + exp(-g * z))) * ((1 + z**2)**k) * z\n",
      "/Users/maurocamara/Documents/University/ManifoldSampling/g_and_k_functions.py:157: RuntimeWarning: invalid value encountered in true_divide\n",
      "  return a + b*(1 + 0.8 * (1 - exp(-g * z)) / (1 + exp(-g * z))) * ((1 + z**2)**k) * z\n",
      "/Users/maurocamara/Documents/University/ManifoldSampling/g_and_k_functions.py:178: RuntimeWarning: overflow encountered in multiply\n",
      "  diag(b*((1+z**2)**(k-1))*(((18*k + 9)*(z**2) + 9)*exp(2*g*z) + (8*g*z**3 + (20*k + 10)*z**2 + 8*g*z + 10)*exp(g*z) + (2*k + 1)*z**2 + 1) / (5*(1 + exp(g*z))**2))\n",
      "/Users/maurocamara/Documents/University/ManifoldSampling/g_and_k_functions.py:176: RuntimeWarning: overflow encountered in multiply\n",
      "  8 * b * (z**2) * ((1 + z**2)**k) * exp(g*z) / (5 * (1 + exp(g*z))**2),\n",
      "/Users/maurocamara/Documents/University/ManifoldSampling/g_and_k_functions.py:177: RuntimeWarning: overflow encountered in multiply\n",
      "  b*z*((1+z**2)**k)*(1 + 9*exp(g*z))*log(1 + z**2) / (5*(1 + exp(g*z))),\n",
      "/Users/maurocamara/Documents/University/ManifoldSampling/g_and_k_functions.py:178: RuntimeWarning: invalid value encountered in true_divide\n",
      "  diag(b*((1+z**2)**(k-1))*(((18*k + 9)*(z**2) + 9)*exp(2*g*z) + (8*g*z**3 + (20*k + 10)*z**2 + 8*g*z + 10)*exp(g*z) + (2*k + 1)*z**2 + 1) / (5*(1 + exp(g*z))**2))\n"
     ]
    },
    {
     "name": "stdout",
     "output_type": "stream",
     "text": [
      "\t Sampling RWM\n",
      "Run 0, ϵ = 0.001, ystar mean = 3.9187950399613105\n",
      "\t Sampling HUG\n",
      "\t Sampling THUG\n",
      "\t Sampling HMC\n"
     ]
    },
    {
     "name": "stderr",
     "output_type": "stream",
     "text": [
      "/Users/maurocamara/Documents/University/ManifoldSampling/g_and_k_functions.py:175: RuntimeWarning: overflow encountered in power\n",
      "  (1 + 0.8 * (1 - exp(-g * z)) / (1 + exp(-g * z))) * ((1 + z**2)**k) * z,\n",
      "/Users/maurocamara/Documents/University/ManifoldSampling/g_and_k_functions.py:176: RuntimeWarning: overflow encountered in power\n",
      "  8 * b * (z**2) * ((1 + z**2)**k) * exp(g*z) / (5 * (1 + exp(g*z))**2),\n",
      "/Users/maurocamara/Documents/University/ManifoldSampling/g_and_k_functions.py:176: RuntimeWarning: invalid value encountered in true_divide\n",
      "  8 * b * (z**2) * ((1 + z**2)**k) * exp(g*z) / (5 * (1 + exp(g*z))**2),\n",
      "/Users/maurocamara/Documents/University/ManifoldSampling/g_and_k_functions.py:177: RuntimeWarning: overflow encountered in power\n",
      "  b*z*((1+z**2)**k)*(1 + 9*exp(g*z))*log(1 + z**2) / (5*(1 + exp(g*z))),\n",
      "/Users/maurocamara/Documents/University/ManifoldSampling/g_and_k_functions.py:177: RuntimeWarning: invalid value encountered in true_divide\n",
      "  b*z*((1+z**2)**k)*(1 + 9*exp(g*z))*log(1 + z**2) / (5*(1 + exp(g*z))),\n",
      "/Users/maurocamara/Documents/University/ManifoldSampling/g_and_k_functions.py:178: RuntimeWarning: overflow encountered in power\n",
      "  diag(b*((1+z**2)**(k-1))*(((18*k + 9)*(z**2) + 9)*exp(2*g*z) + (8*g*z**3 + (20*k + 10)*z**2 + 8*g*z + 10)*exp(g*z) + (2*k + 1)*z**2 + 1) / (5*(1 + exp(g*z))**2))\n",
      "/Users/maurocamara/Documents/University/ManifoldSampling/g_and_k_functions.py:157: RuntimeWarning: overflow encountered in power\n",
      "  return a + b*(1 + 0.8 * (1 - exp(-g * z)) / (1 + exp(-g * z))) * ((1 + z**2)**k) * z\n",
      "/var/folders/31/dthljx8x5mldm2ll5_zz7xrr0000gn/T/ipykernel_6316/3424426908.py:46: RuntimeWarning: invalid value encountered in matmul\n",
      "  dkdξ = GK.Jf_transpose(ξ) @ (GK.f(ξ) - ystar) / (ϵ**2)\n",
      "/var/folders/31/dthljx8x5mldm2ll5_zz7xrr0000gn/T/ipykernel_6316/3424426908.py:46: RuntimeWarning: overflow encountered in matmul\n",
      "  dkdξ = GK.Jf_transpose(ξ) @ (GK.f(ξ) - ystar) / (ϵ**2)\n",
      "/Users/maurocamara/Documents/University/ManifoldSampling/HMC/static_hmc.py:69: RuntimeWarning: invalid value encountered in matmul\n",
      "  q = q + self.epsilon * (self.Minv @ p)\n",
      "/Users/maurocamara/Documents/University/ManifoldSampling/g_and_k_functions.py:157: RuntimeWarning: overflow encountered in multiply\n",
      "  return a + b*(1 + 0.8 * (1 - exp(-g * z)) / (1 + exp(-g * z))) * ((1 + z**2)**k) * z\n"
     ]
    },
    {
     "name": "stdout",
     "output_type": "stream",
     "text": [
      "\t Sampling RWM\n",
      "Run 1, ϵ = 10.0, ystar mean = 4.302713925145772\n",
      "\t Sampling HUG\n",
      "\t Sampling THUG\n",
      "\t Sampling HMC\n",
      "\t Sampling RWM\n",
      "Run 1, ϵ = 1.0, ystar mean = 4.302713925145772\n",
      "\t Sampling HUG\n",
      "\t Sampling THUG\n",
      "\t Sampling HMC\n",
      "\t Sampling RWM\n",
      "Run 1, ϵ = 0.001, ystar mean = 4.302713925145772\n",
      "\t Sampling HUG\n",
      "\t Sampling THUG\n",
      "\t Sampling HMC\n"
     ]
    },
    {
     "name": "stderr",
     "output_type": "stream",
     "text": [
      "/Users/maurocamara/Documents/University/ManifoldSampling/g_and_k_functions.py:175: RuntimeWarning: overflow encountered in exp\n",
      "  (1 + 0.8 * (1 - exp(-g * z)) / (1 + exp(-g * z))) * ((1 + z**2)**k) * z,\n",
      "/Users/maurocamara/Documents/University/ManifoldSampling/g_and_k_functions.py:175: RuntimeWarning: invalid value encountered in true_divide\n",
      "  (1 + 0.8 * (1 - exp(-g * z)) / (1 + exp(-g * z))) * ((1 + z**2)**k) * z,\n",
      "/Users/maurocamara/Documents/University/ManifoldSampling/g_and_k_functions.py:175: RuntimeWarning: overflow encountered in power\n",
      "  (1 + 0.8 * (1 - exp(-g * z)) / (1 + exp(-g * z))) * ((1 + z**2)**k) * z,\n",
      "/Users/maurocamara/Documents/University/ManifoldSampling/g_and_k_functions.py:176: RuntimeWarning: overflow encountered in power\n",
      "  8 * b * (z**2) * ((1 + z**2)**k) * exp(g*z) / (5 * (1 + exp(g*z))**2),\n",
      "/Users/maurocamara/Documents/University/ManifoldSampling/g_and_k_functions.py:176: RuntimeWarning: overflow encountered in exp\n",
      "  8 * b * (z**2) * ((1 + z**2)**k) * exp(g*z) / (5 * (1 + exp(g*z))**2),\n",
      "/Users/maurocamara/Documents/University/ManifoldSampling/g_and_k_functions.py:176: RuntimeWarning: invalid value encountered in multiply\n",
      "  8 * b * (z**2) * ((1 + z**2)**k) * exp(g*z) / (5 * (1 + exp(g*z))**2),\n",
      "/Users/maurocamara/Documents/University/ManifoldSampling/g_and_k_functions.py:176: RuntimeWarning: overflow encountered in square\n",
      "  8 * b * (z**2) * ((1 + z**2)**k) * exp(g*z) / (5 * (1 + exp(g*z))**2),\n",
      "/Users/maurocamara/Documents/University/ManifoldSampling/g_and_k_functions.py:176: RuntimeWarning: invalid value encountered in true_divide\n",
      "  8 * b * (z**2) * ((1 + z**2)**k) * exp(g*z) / (5 * (1 + exp(g*z))**2),\n",
      "/Users/maurocamara/Documents/University/ManifoldSampling/g_and_k_functions.py:177: RuntimeWarning: overflow encountered in power\n",
      "  b*z*((1+z**2)**k)*(1 + 9*exp(g*z))*log(1 + z**2) / (5*(1 + exp(g*z))),\n",
      "/Users/maurocamara/Documents/University/ManifoldSampling/g_and_k_functions.py:177: RuntimeWarning: overflow encountered in exp\n",
      "  b*z*((1+z**2)**k)*(1 + 9*exp(g*z))*log(1 + z**2) / (5*(1 + exp(g*z))),\n",
      "/Users/maurocamara/Documents/University/ManifoldSampling/g_and_k_functions.py:177: RuntimeWarning: invalid value encountered in true_divide\n",
      "  b*z*((1+z**2)**k)*(1 + 9*exp(g*z))*log(1 + z**2) / (5*(1 + exp(g*z))),\n",
      "/Users/maurocamara/Documents/University/ManifoldSampling/g_and_k_functions.py:178: RuntimeWarning: overflow encountered in power\n",
      "  diag(b*((1+z**2)**(k-1))*(((18*k + 9)*(z**2) + 9)*exp(2*g*z) + (8*g*z**3 + (20*k + 10)*z**2 + 8*g*z + 10)*exp(g*z) + (2*k + 1)*z**2 + 1) / (5*(1 + exp(g*z))**2))\n",
      "/Users/maurocamara/Documents/University/ManifoldSampling/g_and_k_functions.py:178: RuntimeWarning: overflow encountered in exp\n",
      "  diag(b*((1+z**2)**(k-1))*(((18*k + 9)*(z**2) + 9)*exp(2*g*z) + (8*g*z**3 + (20*k + 10)*z**2 + 8*g*z + 10)*exp(g*z) + (2*k + 1)*z**2 + 1) / (5*(1 + exp(g*z))**2))\n",
      "/Users/maurocamara/Documents/University/ManifoldSampling/g_and_k_functions.py:178: RuntimeWarning: overflow encountered in square\n",
      "  diag(b*((1+z**2)**(k-1))*(((18*k + 9)*(z**2) + 9)*exp(2*g*z) + (8*g*z**3 + (20*k + 10)*z**2 + 8*g*z + 10)*exp(g*z) + (2*k + 1)*z**2 + 1) / (5*(1 + exp(g*z))**2))\n",
      "/Users/maurocamara/Documents/University/ManifoldSampling/g_and_k_functions.py:178: RuntimeWarning: invalid value encountered in true_divide\n",
      "  diag(b*((1+z**2)**(k-1))*(((18*k + 9)*(z**2) + 9)*exp(2*g*z) + (8*g*z**3 + (20*k + 10)*z**2 + 8*g*z + 10)*exp(g*z) + (2*k + 1)*z**2 + 1) / (5*(1 + exp(g*z))**2))\n",
      "/Users/maurocamara/Documents/University/ManifoldSampling/g_and_k_functions.py:157: RuntimeWarning: overflow encountered in exp\n",
      "  return a + b*(1 + 0.8 * (1 - exp(-g * z)) / (1 + exp(-g * z))) * ((1 + z**2)**k) * z\n",
      "/Users/maurocamara/Documents/University/ManifoldSampling/g_and_k_functions.py:157: RuntimeWarning: invalid value encountered in true_divide\n",
      "  return a + b*(1 + 0.8 * (1 - exp(-g * z)) / (1 + exp(-g * z))) * ((1 + z**2)**k) * z\n",
      "/Users/maurocamara/Documents/University/ManifoldSampling/g_and_k_functions.py:157: RuntimeWarning: overflow encountered in power\n",
      "  return a + b*(1 + 0.8 * (1 - exp(-g * z)) / (1 + exp(-g * z))) * ((1 + z**2)**k) * z\n",
      "/var/folders/31/dthljx8x5mldm2ll5_zz7xrr0000gn/T/ipykernel_6316/3424426908.py:46: RuntimeWarning: invalid value encountered in matmul\n",
      "  dkdξ = GK.Jf_transpose(ξ) @ (GK.f(ξ) - ystar) / (ϵ**2)\n",
      "/Users/maurocamara/Documents/University/ManifoldSampling/g_and_k_functions.py:177: RuntimeWarning: invalid value encountered in multiply\n",
      "  b*z*((1+z**2)**k)*(1 + 9*exp(g*z))*log(1 + z**2) / (5*(1 + exp(g*z))),\n",
      "/Users/maurocamara/Documents/University/ManifoldSampling/g_and_k_functions.py:178: RuntimeWarning: invalid value encountered in add\n",
      "  diag(b*((1+z**2)**(k-1))*(((18*k + 9)*(z**2) + 9)*exp(2*g*z) + (8*g*z**3 + (20*k + 10)*z**2 + 8*g*z + 10)*exp(g*z) + (2*k + 1)*z**2 + 1) / (5*(1 + exp(g*z))**2))\n",
      "/Users/maurocamara/Documents/University/ManifoldSampling/g_and_k_functions.py:178: RuntimeWarning: invalid value encountered in multiply\n",
      "  diag(b*((1+z**2)**(k-1))*(((18*k + 9)*(z**2) + 9)*exp(2*g*z) + (8*g*z**3 + (20*k + 10)*z**2 + 8*g*z + 10)*exp(g*z) + (2*k + 1)*z**2 + 1) / (5*(1 + exp(g*z))**2))\n",
      "/Users/maurocamara/Documents/University/ManifoldSampling/g_and_k_functions.py:177: RuntimeWarning: overflow encountered in multiply\n",
      "  b*z*((1+z**2)**k)*(1 + 9*exp(g*z))*log(1 + z**2) / (5*(1 + exp(g*z))),\n",
      "/Users/maurocamara/Documents/University/ManifoldSampling/g_and_k_functions.py:178: RuntimeWarning: overflow encountered in multiply\n",
      "  diag(b*((1+z**2)**(k-1))*(((18*k + 9)*(z**2) + 9)*exp(2*g*z) + (8*g*z**3 + (20*k + 10)*z**2 + 8*g*z + 10)*exp(g*z) + (2*k + 1)*z**2 + 1) / (5*(1 + exp(g*z))**2))\n",
      "/var/folders/31/dthljx8x5mldm2ll5_zz7xrr0000gn/T/ipykernel_6316/3424426908.py:46: RuntimeWarning: overflow encountered in matmul\n",
      "  dkdξ = GK.Jf_transpose(ξ) @ (GK.f(ξ) - ystar) / (ϵ**2)\n",
      "/Users/maurocamara/Documents/University/ManifoldSampling/HMC/static_hmc.py:69: RuntimeWarning: invalid value encountered in matmul\n",
      "  q = q + self.epsilon * (self.Minv @ p)\n",
      "/Users/maurocamara/Documents/University/ManifoldSampling/g_and_k_functions.py:176: RuntimeWarning: overflow encountered in multiply\n",
      "  8 * b * (z**2) * ((1 + z**2)**k) * exp(g*z) / (5 * (1 + exp(g*z))**2),\n",
      "/Users/maurocamara/Documents/University/ManifoldSampling/g_and_k_functions.py:157: RuntimeWarning: overflow encountered in multiply\n",
      "  return a + b*(1 + 0.8 * (1 - exp(-g * z)) / (1 + exp(-g * z))) * ((1 + z**2)**k) * z\n"
     ]
    },
    {
     "name": "stdout",
     "output_type": "stream",
     "text": [
      "\t Sampling RWM\n"
     ]
    }
   ],
   "source": [
    "cc, ap, ess = compare_computational_costs([10.0, 1.0, 0.001], 10000, 2)"
   ]
  },
  {
   "cell_type": "code",
   "execution_count": 98,
   "id": "30e0b46b",
   "metadata": {},
   "outputs": [
    {
     "data": {
      "text/plain": [
       "{0: {'HUG': array([3.25346002, 3.0801392 , 3.975218  ]),\n",
       "  'THUG': array([2.80603217, 3.02374205, 3.84082519]),\n",
       "  'HMC': array([3.09012902, 4.84510424, 4.84510424]),\n",
       "  'RWM': array([2.20106507, 4.00004343, 4.00004343])},\n",
       " 1: {'HUG': array([2.92262965, 3.20934996, 3.72724132]),\n",
       "  'THUG': array([2.83122534, 2.71507166, 3.1769217 ]),\n",
       "  'HMC': array([2.54189233, 4.26778266, 4.84510424]),\n",
       "  'RWM': array([2.26375377, 3.44854772, 4.00004343])}}"
      ]
     },
     "execution_count": 98,
     "metadata": {},
     "output_type": "execute_result"
    }
   ],
   "source": [
    "cc"
   ]
  },
  {
   "cell_type": "code",
   "execution_count": 99,
   "id": "571bd70f",
   "metadata": {},
   "outputs": [
    {
     "data": {
      "text/plain": [
       "{0: {'HUG': array([51.44, 50.19,  0.34]),\n",
       "  'THUG': array([65.29, 66.49, 63.82]),\n",
       "  'HMC': array([95.84,  0.  ,  0.  ]),\n",
       "  'RWM': array([44.15,  0.  ,  0.  ])},\n",
       " 1: {'HUG': array([50.84, 49.54,  6.26]),\n",
       "  'THUG': array([65.33, 63.6 , 65.01]),\n",
       "  'HMC': array([9.989e+01, 2.000e-02, 0.000e+00]),\n",
       "  'RWM': array([44.34,  0.52,  0.  ])}}"
      ]
     },
     "execution_count": 99,
     "metadata": {},
     "output_type": "execute_result"
    }
   ],
   "source": [
    "ap"
   ]
  },
  {
   "cell_type": "code",
   "execution_count": 100,
   "id": "3466a939",
   "metadata": {},
   "outputs": [],
   "source": [
    "def compute_avg_acceptance_probability_grid(ap):\n",
    "    \"\"\"Basically produces a plot similar to the one in BIP. \n",
    "    Aim: see how acceptance probability changes as epsilon decreases.\"\"\"\n",
    "    ap_avg = {alg: 0.0 for alg in ap[0].keys()}\n",
    "    for run_index in ap.keys():\n",
    "        for alg in ap[run_index].keys():\n",
    "            ap_avg[alg] += ap[run_index][alg] / len(ap.keys())\n",
    "    return ap_avg"
   ]
  },
  {
   "cell_type": "code",
   "execution_count": 101,
   "id": "d9d10d1f",
   "metadata": {},
   "outputs": [
    {
     "data": {
      "text/plain": [
       "{'HUG': array([51.14 , 49.865,  3.3  ]),\n",
       " 'THUG': array([65.31 , 65.045, 64.415]),\n",
       " 'HMC': array([9.7865e+01, 1.0000e-02, 0.0000e+00]),\n",
       " 'RWM': array([44.245,  0.26 ,  0.   ])}"
      ]
     },
     "execution_count": 101,
     "metadata": {},
     "output_type": "execute_result"
    }
   ],
   "source": [
    "compute_avg_acceptance_probability_grid(ap)"
   ]
  },
  {
   "cell_type": "code",
   "execution_count": 103,
   "id": "72d9810c",
   "metadata": {},
   "outputs": [],
   "source": [
    "from scipy.stats import wasserstein_distance"
   ]
  },
  {
   "cell_type": "code",
   "execution_count": null,
   "id": "dfded2e3",
   "metadata": {},
   "outputs": [],
   "source": [
    "wasserstein_distance()"
   ]
  },
  {
   "cell_type": "code",
   "execution_count": null,
   "id": "4501de49",
   "metadata": {},
   "outputs": [],
   "source": []
  },
  {
   "cell_type": "code",
   "execution_count": null,
   "id": "1be0b2b7",
   "metadata": {},
   "outputs": [],
   "source": []
  },
  {
   "cell_type": "code",
   "execution_count": 9,
   "id": "6c1e769c",
   "metadata": {},
   "outputs": [
    {
     "name": "stdout",
     "output_type": "stream",
     "text": [
      "Run 0, ϵ = 10.0, ystar mean = 3.3940804719885005\n",
      "\t Sampling HUG\n",
      "\t Sampling THUG\n",
      "\t Sampling HMC\n",
      "\t Sampling RWM\n"
     ]
    },
    {
     "name": "stderr",
     "output_type": "stream",
     "text": [
      "/opt/anaconda3/envs/manifold-sampling/lib/python3.10/site-packages/tensorflow_probability/python/__init__.py:74: UserWarning: TensorFloat-32 matmul/conv are enabled for NVIDIA Ampere+ GPUs. The resulting loss of precision may hinder MCMC convergence. To turn off, run `tf.config.experimental.enable_tensor_float_32_execution(False)`. For more detail, see https://github.com/tensorflow/community/pull/287.\n",
      "  warnings.warn(\n"
     ]
    },
    {
     "name": "stdout",
     "output_type": "stream",
     "text": [
      "Run 0, ϵ = 1.0, ystar mean = 3.3940804719885005\n",
      "\t Sampling HUG\n",
      "\t Sampling THUG\n",
      "\t Sampling HMC\n",
      "\t Sampling RWM\n",
      "Run 0, ϵ = 0.1, ystar mean = 3.3940804719885005\n",
      "\t Sampling HUG\n",
      "\t Sampling THUG\n",
      "\t Sampling HMC\n"
     ]
    },
    {
     "name": "stderr",
     "output_type": "stream",
     "text": [
      "/Users/maurocamara/Documents/University/ManifoldSampling/g_and_k_functions.py:176: RuntimeWarning: overflow encountered in square\n",
      "  8 * b * (z**2) * ((1 + z**2)**k) * exp(g*z) / (5 * (1 + exp(g*z))**2),\n",
      "/Users/maurocamara/Documents/University/ManifoldSampling/g_and_k_functions.py:178: RuntimeWarning: overflow encountered in exp\n",
      "  diag(b*((1+z**2)**(k-1))*(((18*k + 9)*(z**2) + 9)*exp(2*g*z) + (8*g*z**3 + (20*k + 10)*z**2 + 8*g*z + 10)*exp(g*z) + (2*k + 1)*z**2 + 1) / (5*(1 + exp(g*z))**2))\n",
      "/Users/maurocamara/Documents/University/ManifoldSampling/g_and_k_functions.py:178: RuntimeWarning: overflow encountered in square\n",
      "  diag(b*((1+z**2)**(k-1))*(((18*k + 9)*(z**2) + 9)*exp(2*g*z) + (8*g*z**3 + (20*k + 10)*z**2 + 8*g*z + 10)*exp(g*z) + (2*k + 1)*z**2 + 1) / (5*(1 + exp(g*z))**2))\n",
      "/Users/maurocamara/Documents/University/ManifoldSampling/g_and_k_functions.py:178: RuntimeWarning: invalid value encountered in true_divide\n",
      "  diag(b*((1+z**2)**(k-1))*(((18*k + 9)*(z**2) + 9)*exp(2*g*z) + (8*g*z**3 + (20*k + 10)*z**2 + 8*g*z + 10)*exp(g*z) + (2*k + 1)*z**2 + 1) / (5*(1 + exp(g*z))**2))\n",
      "/Users/maurocamara/Documents/University/ManifoldSampling/g_and_k_functions.py:175: RuntimeWarning: overflow encountered in exp\n",
      "  (1 + 0.8 * (1 - exp(-g * z)) / (1 + exp(-g * z))) * ((1 + z**2)**k) * z,\n",
      "/Users/maurocamara/Documents/University/ManifoldSampling/g_and_k_functions.py:175: RuntimeWarning: invalid value encountered in true_divide\n",
      "  (1 + 0.8 * (1 - exp(-g * z)) / (1 + exp(-g * z))) * ((1 + z**2)**k) * z,\n",
      "/Users/maurocamara/Documents/University/ManifoldSampling/g_and_k_functions.py:176: RuntimeWarning: overflow encountered in exp\n",
      "  8 * b * (z**2) * ((1 + z**2)**k) * exp(g*z) / (5 * (1 + exp(g*z))**2),\n",
      "/Users/maurocamara/Documents/University/ManifoldSampling/g_and_k_functions.py:176: RuntimeWarning: invalid value encountered in multiply\n",
      "  8 * b * (z**2) * ((1 + z**2)**k) * exp(g*z) / (5 * (1 + exp(g*z))**2),\n",
      "/Users/maurocamara/Documents/University/ManifoldSampling/g_and_k_functions.py:177: RuntimeWarning: overflow encountered in exp\n",
      "  b*z*((1+z**2)**k)*(1 + 9*exp(g*z))*log(1 + z**2) / (5*(1 + exp(g*z))),\n",
      "/Users/maurocamara/Documents/University/ManifoldSampling/g_and_k_functions.py:177: RuntimeWarning: invalid value encountered in multiply\n",
      "  b*z*((1+z**2)**k)*(1 + 9*exp(g*z))*log(1 + z**2) / (5*(1 + exp(g*z))),\n",
      "/Users/maurocamara/Documents/University/ManifoldSampling/g_and_k_functions.py:178: RuntimeWarning: invalid value encountered in add\n",
      "  diag(b*((1+z**2)**(k-1))*(((18*k + 9)*(z**2) + 9)*exp(2*g*z) + (8*g*z**3 + (20*k + 10)*z**2 + 8*g*z + 10)*exp(g*z) + (2*k + 1)*z**2 + 1) / (5*(1 + exp(g*z))**2))\n",
      "/Users/maurocamara/Documents/University/ManifoldSampling/g_and_k_functions.py:157: RuntimeWarning: overflow encountered in exp\n",
      "  return a + b*(1 + 0.8 * (1 - exp(-g * z)) / (1 + exp(-g * z))) * ((1 + z**2)**k) * z\n",
      "/Users/maurocamara/Documents/University/ManifoldSampling/g_and_k_functions.py:157: RuntimeWarning: invalid value encountered in true_divide\n",
      "  return a + b*(1 + 0.8 * (1 - exp(-g * z)) / (1 + exp(-g * z))) * ((1 + z**2)**k) * z\n",
      "/Users/maurocamara/Documents/University/ManifoldSampling/g_and_k_functions.py:178: RuntimeWarning: invalid value encountered in multiply\n",
      "  diag(b*((1+z**2)**(k-1))*(((18*k + 9)*(z**2) + 9)*exp(2*g*z) + (8*g*z**3 + (20*k + 10)*z**2 + 8*g*z + 10)*exp(g*z) + (2*k + 1)*z**2 + 1) / (5*(1 + exp(g*z))**2))\n",
      "/Users/maurocamara/Documents/University/ManifoldSampling/g_and_k_functions.py:176: RuntimeWarning: overflow encountered in multiply\n",
      "  8 * b * (z**2) * ((1 + z**2)**k) * exp(g*z) / (5 * (1 + exp(g*z))**2),\n",
      "/Users/maurocamara/Documents/University/ManifoldSampling/g_and_k_functions.py:178: RuntimeWarning: overflow encountered in multiply\n",
      "  diag(b*((1+z**2)**(k-1))*(((18*k + 9)*(z**2) + 9)*exp(2*g*z) + (8*g*z**3 + (20*k + 10)*z**2 + 8*g*z + 10)*exp(g*z) + (2*k + 1)*z**2 + 1) / (5*(1 + exp(g*z))**2))\n",
      "/Users/maurocamara/Documents/University/ManifoldSampling/g_and_k_functions.py:176: RuntimeWarning: invalid value encountered in true_divide\n",
      "  8 * b * (z**2) * ((1 + z**2)**k) * exp(g*z) / (5 * (1 + exp(g*z))**2),\n",
      "/Users/maurocamara/Documents/University/ManifoldSampling/g_and_k_functions.py:177: RuntimeWarning: invalid value encountered in true_divide\n",
      "  b*z*((1+z**2)**k)*(1 + 9*exp(g*z))*log(1 + z**2) / (5*(1 + exp(g*z))),\n",
      "/Users/maurocamara/Documents/University/ManifoldSampling/g_and_k_functions.py:178: RuntimeWarning: overflow encountered in power\n",
      "  diag(b*((1+z**2)**(k-1))*(((18*k + 9)*(z**2) + 9)*exp(2*g*z) + (8*g*z**3 + (20*k + 10)*z**2 + 8*g*z + 10)*exp(g*z) + (2*k + 1)*z**2 + 1) / (5*(1 + exp(g*z))**2))\n",
      "/Users/maurocamara/Documents/University/ManifoldSampling/HMC/static_hmc.py:69: RuntimeWarning: invalid value encountered in matmul\n",
      "  q = q + self.epsilon * (self.Minv @ p)\n",
      "/Users/maurocamara/Documents/University/ManifoldSampling/g_and_k_functions.py:177: RuntimeWarning: overflow encountered in multiply\n",
      "  b*z*((1+z**2)**k)*(1 + 9*exp(g*z))*log(1 + z**2) / (5*(1 + exp(g*z))),\n",
      "/Users/maurocamara/Documents/University/ManifoldSampling/HMC/static_hmc.py:74: RuntimeWarning: invalid value encountered in matmul\n",
      "  q = q + self.epsilon * (self.Minv @ p)\n"
     ]
    },
    {
     "name": "stdout",
     "output_type": "stream",
     "text": [
      "\t Sampling RWM\n",
      "Run 0, ϵ = 0.01, ystar mean = 3.3940804719885005\n",
      "\t Sampling HUG\n",
      "\t Sampling THUG\n",
      "\t Sampling HMC\n"
     ]
    },
    {
     "name": "stderr",
     "output_type": "stream",
     "text": [
      "/Users/maurocamara/Documents/University/ManifoldSampling/g_and_k_functions.py:175: RuntimeWarning: overflow encountered in power\n",
      "  (1 + 0.8 * (1 - exp(-g * z)) / (1 + exp(-g * z))) * ((1 + z**2)**k) * z,\n",
      "/Users/maurocamara/Documents/University/ManifoldSampling/g_and_k_functions.py:176: RuntimeWarning: overflow encountered in power\n",
      "  8 * b * (z**2) * ((1 + z**2)**k) * exp(g*z) / (5 * (1 + exp(g*z))**2),\n",
      "/Users/maurocamara/Documents/University/ManifoldSampling/g_and_k_functions.py:177: RuntimeWarning: overflow encountered in power\n",
      "  b*z*((1+z**2)**k)*(1 + 9*exp(g*z))*log(1 + z**2) / (5*(1 + exp(g*z))),\n",
      "/Users/maurocamara/Documents/University/ManifoldSampling/g_and_k_functions.py:157: RuntimeWarning: overflow encountered in power\n",
      "  return a + b*(1 + 0.8 * (1 - exp(-g * z)) / (1 + exp(-g * z))) * ((1 + z**2)**k) * z\n",
      "/var/folders/31/dthljx8x5mldm2ll5_zz7xrr0000gn/T/ipykernel_6316/3424426908.py:46: RuntimeWarning: invalid value encountered in matmul\n",
      "  dkdξ = GK.Jf_transpose(ξ) @ (GK.f(ξ) - ystar) / (ϵ**2)\n",
      "/var/folders/31/dthljx8x5mldm2ll5_zz7xrr0000gn/T/ipykernel_6316/3424426908.py:46: RuntimeWarning: overflow encountered in matmul\n",
      "  dkdξ = GK.Jf_transpose(ξ) @ (GK.f(ξ) - ystar) / (ϵ**2)\n",
      "/Users/maurocamara/Documents/University/ManifoldSampling/g_and_k_functions.py:157: RuntimeWarning: overflow encountered in multiply\n",
      "  return a + b*(1 + 0.8 * (1 - exp(-g * z)) / (1 + exp(-g * z))) * ((1 + z**2)**k) * z\n",
      "/var/folders/31/dthljx8x5mldm2ll5_zz7xrr0000gn/T/ipykernel_6316/3424426908.py:46: RuntimeWarning: overflow encountered in true_divide\n",
      "  dkdξ = GK.Jf_transpose(ξ) @ (GK.f(ξ) - ystar) / (ϵ**2)\n",
      "/Users/maurocamara/Documents/University/ManifoldSampling/g_and_k_functions.py:175: RuntimeWarning: overflow encountered in multiply\n",
      "  (1 + 0.8 * (1 - exp(-g * z)) / (1 + exp(-g * z))) * ((1 + z**2)**k) * z,\n",
      "/Users/maurocamara/Documents/University/ManifoldSampling/g_and_k_functions.py:175: RuntimeWarning: overflow encountered in square\n",
      "  (1 + 0.8 * (1 - exp(-g * z)) / (1 + exp(-g * z))) * ((1 + z**2)**k) * z,\n",
      "/Users/maurocamara/Documents/University/ManifoldSampling/g_and_k_functions.py:177: RuntimeWarning: overflow encountered in square\n",
      "  b*z*((1+z**2)**k)*(1 + 9*exp(g*z))*log(1 + z**2) / (5*(1 + exp(g*z))),\n",
      "/Users/maurocamara/Documents/University/ManifoldSampling/g_and_k_functions.py:157: RuntimeWarning: overflow encountered in square\n",
      "  return a + b*(1 + 0.8 * (1 - exp(-g * z)) / (1 + exp(-g * z))) * ((1 + z**2)**k) * z\n"
     ]
    },
    {
     "name": "stdout",
     "output_type": "stream",
     "text": [
      "\t Sampling RWM\n",
      "Run 0, ϵ = 0.001, ystar mean = 3.3940804719885005\n",
      "\t Sampling HUG\n",
      "\t Sampling THUG\n",
      "\t Sampling HMC\n",
      "\t Sampling RWM\n",
      "Run 0, ϵ = 0.0001, ystar mean = 3.3940804719885005\n",
      "\t Sampling HUG\n",
      "\t Sampling THUG\n",
      "\t Sampling HMC\n",
      "\t Sampling RWM\n",
      "Run 1, ϵ = 10.0, ystar mean = 3.3283897605452393\n",
      "\t Sampling HUG\n",
      "\t Sampling THUG\n",
      "\t Sampling HMC\n"
     ]
    },
    {
     "name": "stderr",
     "output_type": "stream",
     "text": [
      "/Users/maurocamara/Documents/University/ManifoldSampling/g_and_k_functions.py:175: RuntimeWarning: overflow encountered in exp\n",
      "  (1 + 0.8 * (1 - exp(-g * z)) / (1 + exp(-g * z))) * ((1 + z**2)**k) * z,\n",
      "/Users/maurocamara/Documents/University/ManifoldSampling/g_and_k_functions.py:175: RuntimeWarning: invalid value encountered in true_divide\n",
      "  (1 + 0.8 * (1 - exp(-g * z)) / (1 + exp(-g * z))) * ((1 + z**2)**k) * z,\n",
      "/Users/maurocamara/Documents/University/ManifoldSampling/g_and_k_functions.py:176: RuntimeWarning: overflow encountered in exp\n",
      "  8 * b * (z**2) * ((1 + z**2)**k) * exp(g*z) / (5 * (1 + exp(g*z))**2),\n",
      "/Users/maurocamara/Documents/University/ManifoldSampling/g_and_k_functions.py:176: RuntimeWarning: invalid value encountered in multiply\n",
      "  8 * b * (z**2) * ((1 + z**2)**k) * exp(g*z) / (5 * (1 + exp(g*z))**2),\n",
      "/Users/maurocamara/Documents/University/ManifoldSampling/g_and_k_functions.py:177: RuntimeWarning: overflow encountered in exp\n",
      "  b*z*((1+z**2)**k)*(1 + 9*exp(g*z))*log(1 + z**2) / (5*(1 + exp(g*z))),\n",
      "/Users/maurocamara/Documents/University/ManifoldSampling/g_and_k_functions.py:177: RuntimeWarning: invalid value encountered in multiply\n",
      "  b*z*((1+z**2)**k)*(1 + 9*exp(g*z))*log(1 + z**2) / (5*(1 + exp(g*z))),\n",
      "/Users/maurocamara/Documents/University/ManifoldSampling/g_and_k_functions.py:178: RuntimeWarning: overflow encountered in exp\n",
      "  diag(b*((1+z**2)**(k-1))*(((18*k + 9)*(z**2) + 9)*exp(2*g*z) + (8*g*z**3 + (20*k + 10)*z**2 + 8*g*z + 10)*exp(g*z) + (2*k + 1)*z**2 + 1) / (5*(1 + exp(g*z))**2))\n",
      "/Users/maurocamara/Documents/University/ManifoldSampling/g_and_k_functions.py:178: RuntimeWarning: invalid value encountered in add\n",
      "  diag(b*((1+z**2)**(k-1))*(((18*k + 9)*(z**2) + 9)*exp(2*g*z) + (8*g*z**3 + (20*k + 10)*z**2 + 8*g*z + 10)*exp(g*z) + (2*k + 1)*z**2 + 1) / (5*(1 + exp(g*z))**2))\n",
      "/Users/maurocamara/Documents/University/ManifoldSampling/g_and_k_functions.py:178: RuntimeWarning: invalid value encountered in multiply\n",
      "  diag(b*((1+z**2)**(k-1))*(((18*k + 9)*(z**2) + 9)*exp(2*g*z) + (8*g*z**3 + (20*k + 10)*z**2 + 8*g*z + 10)*exp(g*z) + (2*k + 1)*z**2 + 1) / (5*(1 + exp(g*z))**2))\n",
      "/Users/maurocamara/Documents/University/ManifoldSampling/g_and_k_functions.py:157: RuntimeWarning: overflow encountered in exp\n",
      "  return a + b*(1 + 0.8 * (1 - exp(-g * z)) / (1 + exp(-g * z))) * ((1 + z**2)**k) * z\n",
      "/Users/maurocamara/Documents/University/ManifoldSampling/g_and_k_functions.py:157: RuntimeWarning: invalid value encountered in true_divide\n",
      "  return a + b*(1 + 0.8 * (1 - exp(-g * z)) / (1 + exp(-g * z))) * ((1 + z**2)**k) * z\n"
     ]
    },
    {
     "name": "stdout",
     "output_type": "stream",
     "text": [
      "\t Sampling RWM\n",
      "Run 1, ϵ = 1.0, ystar mean = 3.3283897605452393\n",
      "\t Sampling HUG\n",
      "\t Sampling THUG\n",
      "\t Sampling HMC\n"
     ]
    },
    {
     "name": "stderr",
     "output_type": "stream",
     "text": [
      "/Users/maurocamara/Documents/University/ManifoldSampling/g_and_k_functions.py:176: RuntimeWarning: overflow encountered in square\n",
      "  8 * b * (z**2) * ((1 + z**2)**k) * exp(g*z) / (5 * (1 + exp(g*z))**2),\n",
      "/Users/maurocamara/Documents/University/ManifoldSampling/g_and_k_functions.py:178: RuntimeWarning: overflow encountered in multiply\n",
      "  diag(b*((1+z**2)**(k-1))*(((18*k + 9)*(z**2) + 9)*exp(2*g*z) + (8*g*z**3 + (20*k + 10)*z**2 + 8*g*z + 10)*exp(g*z) + (2*k + 1)*z**2 + 1) / (5*(1 + exp(g*z))**2))\n",
      "/Users/maurocamara/Documents/University/ManifoldSampling/g_and_k_functions.py:178: RuntimeWarning: overflow encountered in square\n",
      "  diag(b*((1+z**2)**(k-1))*(((18*k + 9)*(z**2) + 9)*exp(2*g*z) + (8*g*z**3 + (20*k + 10)*z**2 + 8*g*z + 10)*exp(g*z) + (2*k + 1)*z**2 + 1) / (5*(1 + exp(g*z))**2))\n",
      "/Users/maurocamara/Documents/University/ManifoldSampling/g_and_k_functions.py:176: RuntimeWarning: overflow encountered in multiply\n",
      "  8 * b * (z**2) * ((1 + z**2)**k) * exp(g*z) / (5 * (1 + exp(g*z))**2),\n",
      "/Users/maurocamara/Documents/University/ManifoldSampling/g_and_k_functions.py:177: RuntimeWarning: overflow encountered in multiply\n",
      "  b*z*((1+z**2)**k)*(1 + 9*exp(g*z))*log(1 + z**2) / (5*(1 + exp(g*z))),\n"
     ]
    },
    {
     "name": "stdout",
     "output_type": "stream",
     "text": [
      "\t Sampling RWM\n",
      "Run 1, ϵ = 0.1, ystar mean = 3.3283897605452393\n",
      "\t Sampling HUG\n",
      "\t Sampling THUG\n",
      "\t Sampling HMC\n",
      "\t Sampling RWM\n",
      "Run 1, ϵ = 0.01, ystar mean = 3.3283897605452393\n",
      "\t Sampling HUG\n",
      "\t Sampling THUG\n",
      "\t Sampling HMC\n",
      "\t Sampling RWM\n",
      "Run 1, ϵ = 0.001, ystar mean = 3.3283897605452393\n",
      "\t Sampling HUG\n",
      "\t Sampling THUG\n",
      "\t Sampling HMC\n",
      "\t Sampling RWM\n",
      "Run 1, ϵ = 0.0001, ystar mean = 3.3283897605452393\n",
      "\t Sampling HUG\n",
      "\t Sampling THUG\n",
      "\t Sampling HMC\n",
      "\t Sampling RWM\n",
      "Run 2, ϵ = 10.0, ystar mean = 3.3127556362047335\n",
      "\t Sampling HUG\n",
      "\t Sampling THUG\n",
      "\t Sampling HMC\n",
      "\t Sampling RWM\n",
      "Run 2, ϵ = 1.0, ystar mean = 3.3127556362047335\n",
      "\t Sampling HUG\n",
      "\t Sampling THUG\n",
      "\t Sampling HMC\n"
     ]
    },
    {
     "name": "stderr",
     "output_type": "stream",
     "text": [
      "/Users/maurocamara/Documents/University/ManifoldSampling/g_and_k_functions.py:176: RuntimeWarning: overflow encountered in square\n",
      "  8 * b * (z**2) * ((1 + z**2)**k) * exp(g*z) / (5 * (1 + exp(g*z))**2),\n",
      "/Users/maurocamara/Documents/University/ManifoldSampling/g_and_k_functions.py:178: RuntimeWarning: overflow encountered in exp\n",
      "  diag(b*((1+z**2)**(k-1))*(((18*k + 9)*(z**2) + 9)*exp(2*g*z) + (8*g*z**3 + (20*k + 10)*z**2 + 8*g*z + 10)*exp(g*z) + (2*k + 1)*z**2 + 1) / (5*(1 + exp(g*z))**2))\n",
      "/Users/maurocamara/Documents/University/ManifoldSampling/g_and_k_functions.py:178: RuntimeWarning: overflow encountered in square\n",
      "  diag(b*((1+z**2)**(k-1))*(((18*k + 9)*(z**2) + 9)*exp(2*g*z) + (8*g*z**3 + (20*k + 10)*z**2 + 8*g*z + 10)*exp(g*z) + (2*k + 1)*z**2 + 1) / (5*(1 + exp(g*z))**2))\n",
      "/Users/maurocamara/Documents/University/ManifoldSampling/g_and_k_functions.py:178: RuntimeWarning: invalid value encountered in true_divide\n",
      "  diag(b*((1+z**2)**(k-1))*(((18*k + 9)*(z**2) + 9)*exp(2*g*z) + (8*g*z**3 + (20*k + 10)*z**2 + 8*g*z + 10)*exp(g*z) + (2*k + 1)*z**2 + 1) / (5*(1 + exp(g*z))**2))\n",
      "/Users/maurocamara/Documents/University/ManifoldSampling/g_and_k_functions.py:178: RuntimeWarning: invalid value encountered in multiply\n",
      "  diag(b*((1+z**2)**(k-1))*(((18*k + 9)*(z**2) + 9)*exp(2*g*z) + (8*g*z**3 + (20*k + 10)*z**2 + 8*g*z + 10)*exp(g*z) + (2*k + 1)*z**2 + 1) / (5*(1 + exp(g*z))**2))\n"
     ]
    },
    {
     "name": "stdout",
     "output_type": "stream",
     "text": [
      "\t Sampling RWM\n",
      "Run 2, ϵ = 0.1, ystar mean = 3.3127556362047335\n",
      "\t Sampling HUG\n",
      "\t Sampling THUG\n",
      "\t Sampling HMC\n"
     ]
    },
    {
     "name": "stderr",
     "output_type": "stream",
     "text": [
      "/Users/maurocamara/Documents/University/ManifoldSampling/g_and_k_functions.py:175: RuntimeWarning: overflow encountered in exp\n",
      "  (1 + 0.8 * (1 - exp(-g * z)) / (1 + exp(-g * z))) * ((1 + z**2)**k) * z,\n",
      "/Users/maurocamara/Documents/University/ManifoldSampling/g_and_k_functions.py:175: RuntimeWarning: invalid value encountered in true_divide\n",
      "  (1 + 0.8 * (1 - exp(-g * z)) / (1 + exp(-g * z))) * ((1 + z**2)**k) * z,\n",
      "/Users/maurocamara/Documents/University/ManifoldSampling/g_and_k_functions.py:176: RuntimeWarning: overflow encountered in exp\n",
      "  8 * b * (z**2) * ((1 + z**2)**k) * exp(g*z) / (5 * (1 + exp(g*z))**2),\n",
      "/Users/maurocamara/Documents/University/ManifoldSampling/g_and_k_functions.py:176: RuntimeWarning: invalid value encountered in multiply\n",
      "  8 * b * (z**2) * ((1 + z**2)**k) * exp(g*z) / (5 * (1 + exp(g*z))**2),\n",
      "/Users/maurocamara/Documents/University/ManifoldSampling/g_and_k_functions.py:177: RuntimeWarning: overflow encountered in exp\n",
      "  b*z*((1+z**2)**k)*(1 + 9*exp(g*z))*log(1 + z**2) / (5*(1 + exp(g*z))),\n",
      "/Users/maurocamara/Documents/University/ManifoldSampling/g_and_k_functions.py:177: RuntimeWarning: invalid value encountered in multiply\n",
      "  b*z*((1+z**2)**k)*(1 + 9*exp(g*z))*log(1 + z**2) / (5*(1 + exp(g*z))),\n",
      "/Users/maurocamara/Documents/University/ManifoldSampling/g_and_k_functions.py:178: RuntimeWarning: invalid value encountered in add\n",
      "  diag(b*((1+z**2)**(k-1))*(((18*k + 9)*(z**2) + 9)*exp(2*g*z) + (8*g*z**3 + (20*k + 10)*z**2 + 8*g*z + 10)*exp(g*z) + (2*k + 1)*z**2 + 1) / (5*(1 + exp(g*z))**2))\n",
      "/Users/maurocamara/Documents/University/ManifoldSampling/g_and_k_functions.py:157: RuntimeWarning: overflow encountered in exp\n",
      "  return a + b*(1 + 0.8 * (1 - exp(-g * z)) / (1 + exp(-g * z))) * ((1 + z**2)**k) * z\n",
      "/Users/maurocamara/Documents/University/ManifoldSampling/g_and_k_functions.py:157: RuntimeWarning: invalid value encountered in true_divide\n",
      "  return a + b*(1 + 0.8 * (1 - exp(-g * z)) / (1 + exp(-g * z))) * ((1 + z**2)**k) * z\n",
      "/Users/maurocamara/Documents/University/ManifoldSampling/g_and_k_functions.py:178: RuntimeWarning: overflow encountered in multiply\n",
      "  diag(b*((1+z**2)**(k-1))*(((18*k + 9)*(z**2) + 9)*exp(2*g*z) + (8*g*z**3 + (20*k + 10)*z**2 + 8*g*z + 10)*exp(g*z) + (2*k + 1)*z**2 + 1) / (5*(1 + exp(g*z))**2))\n",
      "/Users/maurocamara/Documents/University/ManifoldSampling/g_and_k_functions.py:176: RuntimeWarning: overflow encountered in multiply\n",
      "  8 * b * (z**2) * ((1 + z**2)**k) * exp(g*z) / (5 * (1 + exp(g*z))**2),\n",
      "/Users/maurocamara/Documents/University/ManifoldSampling/g_and_k_functions.py:177: RuntimeWarning: overflow encountered in multiply\n",
      "  b*z*((1+z**2)**k)*(1 + 9*exp(g*z))*log(1 + z**2) / (5*(1 + exp(g*z))),\n",
      "/Users/maurocamara/Documents/University/ManifoldSampling/g_and_k_functions.py:176: RuntimeWarning: invalid value encountered in true_divide\n",
      "  8 * b * (z**2) * ((1 + z**2)**k) * exp(g*z) / (5 * (1 + exp(g*z))**2),\n",
      "/Users/maurocamara/Documents/University/ManifoldSampling/g_and_k_functions.py:177: RuntimeWarning: invalid value encountered in true_divide\n",
      "  b*z*((1+z**2)**k)*(1 + 9*exp(g*z))*log(1 + z**2) / (5*(1 + exp(g*z))),\n"
     ]
    },
    {
     "name": "stdout",
     "output_type": "stream",
     "text": [
      "\t Sampling RWM\n",
      "Run 2, ϵ = 0.01, ystar mean = 3.3127556362047335\n",
      "\t Sampling HUG\n",
      "\t Sampling THUG\n",
      "\t Sampling HMC\n"
     ]
    },
    {
     "name": "stderr",
     "output_type": "stream",
     "text": [
      "/Users/maurocamara/Documents/University/ManifoldSampling/g_and_k_functions.py:175: RuntimeWarning: overflow encountered in power\n",
      "  (1 + 0.8 * (1 - exp(-g * z)) / (1 + exp(-g * z))) * ((1 + z**2)**k) * z,\n",
      "/Users/maurocamara/Documents/University/ManifoldSampling/g_and_k_functions.py:176: RuntimeWarning: overflow encountered in power\n",
      "  8 * b * (z**2) * ((1 + z**2)**k) * exp(g*z) / (5 * (1 + exp(g*z))**2),\n",
      "/Users/maurocamara/Documents/University/ManifoldSampling/g_and_k_functions.py:177: RuntimeWarning: overflow encountered in power\n",
      "  b*z*((1+z**2)**k)*(1 + 9*exp(g*z))*log(1 + z**2) / (5*(1 + exp(g*z))),\n",
      "/Users/maurocamara/Documents/University/ManifoldSampling/g_and_k_functions.py:178: RuntimeWarning: overflow encountered in power\n",
      "  diag(b*((1+z**2)**(k-1))*(((18*k + 9)*(z**2) + 9)*exp(2*g*z) + (8*g*z**3 + (20*k + 10)*z**2 + 8*g*z + 10)*exp(g*z) + (2*k + 1)*z**2 + 1) / (5*(1 + exp(g*z))**2))\n",
      "/Users/maurocamara/Documents/University/ManifoldSampling/g_and_k_functions.py:157: RuntimeWarning: overflow encountered in power\n",
      "  return a + b*(1 + 0.8 * (1 - exp(-g * z)) / (1 + exp(-g * z))) * ((1 + z**2)**k) * z\n",
      "/var/folders/31/dthljx8x5mldm2ll5_zz7xrr0000gn/T/ipykernel_6316/3424426908.py:46: RuntimeWarning: overflow encountered in matmul\n",
      "  dkdξ = GK.Jf_transpose(ξ) @ (GK.f(ξ) - ystar) / (ϵ**2)\n",
      "/var/folders/31/dthljx8x5mldm2ll5_zz7xrr0000gn/T/ipykernel_6316/3424426908.py:46: RuntimeWarning: invalid value encountered in matmul\n",
      "  dkdξ = GK.Jf_transpose(ξ) @ (GK.f(ξ) - ystar) / (ϵ**2)\n",
      "/Users/maurocamara/Documents/University/ManifoldSampling/HMC/static_hmc.py:69: RuntimeWarning: invalid value encountered in matmul\n",
      "  q = q + self.epsilon * (self.Minv @ p)\n",
      "/Users/maurocamara/Documents/University/ManifoldSampling/g_and_k_functions.py:157: RuntimeWarning: overflow encountered in multiply\n",
      "  return a + b*(1 + 0.8 * (1 - exp(-g * z)) / (1 + exp(-g * z))) * ((1 + z**2)**k) * z\n",
      "/var/folders/31/dthljx8x5mldm2ll5_zz7xrr0000gn/T/ipykernel_6316/3424426908.py:46: RuntimeWarning: overflow encountered in true_divide\n",
      "  dkdξ = GK.Jf_transpose(ξ) @ (GK.f(ξ) - ystar) / (ϵ**2)\n",
      "/Users/maurocamara/Documents/University/ManifoldSampling/g_and_k_functions.py:175: RuntimeWarning: overflow encountered in multiply\n",
      "  (1 + 0.8 * (1 - exp(-g * z)) / (1 + exp(-g * z))) * ((1 + z**2)**k) * z,\n",
      "/Users/maurocamara/Documents/University/ManifoldSampling/g_and_k_functions.py:175: RuntimeWarning: overflow encountered in square\n",
      "  (1 + 0.8 * (1 - exp(-g * z)) / (1 + exp(-g * z))) * ((1 + z**2)**k) * z,\n",
      "/Users/maurocamara/Documents/University/ManifoldSampling/g_and_k_functions.py:177: RuntimeWarning: overflow encountered in square\n",
      "  b*z*((1+z**2)**k)*(1 + 9*exp(g*z))*log(1 + z**2) / (5*(1 + exp(g*z))),\n",
      "/Users/maurocamara/Documents/University/ManifoldSampling/g_and_k_functions.py:157: RuntimeWarning: overflow encountered in square\n",
      "  return a + b*(1 + 0.8 * (1 - exp(-g * z)) / (1 + exp(-g * z))) * ((1 + z**2)**k) * z\n",
      "/Users/maurocamara/Documents/University/ManifoldSampling/g_and_k_functions.py:178: RuntimeWarning: overflow encountered in add\n",
      "  diag(b*((1+z**2)**(k-1))*(((18*k + 9)*(z**2) + 9)*exp(2*g*z) + (8*g*z**3 + (20*k + 10)*z**2 + 8*g*z + 10)*exp(g*z) + (2*k + 1)*z**2 + 1) / (5*(1 + exp(g*z))**2))\n"
     ]
    },
    {
     "name": "stdout",
     "output_type": "stream",
     "text": [
      "\t Sampling RWM\n",
      "Run 2, ϵ = 0.001, ystar mean = 3.3127556362047335\n",
      "\t Sampling HUG\n",
      "\t Sampling THUG\n",
      "\t Sampling HMC\n",
      "\t Sampling RWM\n",
      "Run 2, ϵ = 0.0001, ystar mean = 3.3127556362047335\n",
      "\t Sampling HUG\n",
      "\t Sampling THUG\n",
      "\t Sampling HMC\n",
      "\t Sampling RWM\n",
      "Run 3, ϵ = 10.0, ystar mean = 4.630832568850968\n",
      "\t Sampling HUG\n",
      "\t Sampling THUG\n",
      "\t Sampling HMC\n",
      "\t Sampling RWM\n",
      "Run 3, ϵ = 1.0, ystar mean = 4.630832568850968\n",
      "\t Sampling HUG\n",
      "\t Sampling THUG\n",
      "\t Sampling HMC\n",
      "\t Sampling RWM\n",
      "Run 3, ϵ = 0.1, ystar mean = 4.630832568850968\n",
      "\t Sampling HUG\n",
      "\t Sampling THUG\n",
      "\t Sampling HMC\n"
     ]
    },
    {
     "name": "stderr",
     "output_type": "stream",
     "text": [
      "/Users/maurocamara/Documents/University/ManifoldSampling/g_and_k_functions.py:175: RuntimeWarning: overflow encountered in exp\n",
      "  (1 + 0.8 * (1 - exp(-g * z)) / (1 + exp(-g * z))) * ((1 + z**2)**k) * z,\n",
      "/Users/maurocamara/Documents/University/ManifoldSampling/g_and_k_functions.py:175: RuntimeWarning: invalid value encountered in true_divide\n",
      "  (1 + 0.8 * (1 - exp(-g * z)) / (1 + exp(-g * z))) * ((1 + z**2)**k) * z,\n",
      "/Users/maurocamara/Documents/University/ManifoldSampling/g_and_k_functions.py:176: RuntimeWarning: overflow encountered in exp\n",
      "  8 * b * (z**2) * ((1 + z**2)**k) * exp(g*z) / (5 * (1 + exp(g*z))**2),\n",
      "/Users/maurocamara/Documents/University/ManifoldSampling/g_and_k_functions.py:176: RuntimeWarning: invalid value encountered in multiply\n",
      "  8 * b * (z**2) * ((1 + z**2)**k) * exp(g*z) / (5 * (1 + exp(g*z))**2),\n",
      "/Users/maurocamara/Documents/University/ManifoldSampling/g_and_k_functions.py:177: RuntimeWarning: overflow encountered in exp\n",
      "  b*z*((1+z**2)**k)*(1 + 9*exp(g*z))*log(1 + z**2) / (5*(1 + exp(g*z))),\n",
      "/Users/maurocamara/Documents/University/ManifoldSampling/g_and_k_functions.py:177: RuntimeWarning: invalid value encountered in multiply\n",
      "  b*z*((1+z**2)**k)*(1 + 9*exp(g*z))*log(1 + z**2) / (5*(1 + exp(g*z))),\n",
      "/Users/maurocamara/Documents/University/ManifoldSampling/g_and_k_functions.py:178: RuntimeWarning: overflow encountered in exp\n",
      "  diag(b*((1+z**2)**(k-1))*(((18*k + 9)*(z**2) + 9)*exp(2*g*z) + (8*g*z**3 + (20*k + 10)*z**2 + 8*g*z + 10)*exp(g*z) + (2*k + 1)*z**2 + 1) / (5*(1 + exp(g*z))**2))\n",
      "/Users/maurocamara/Documents/University/ManifoldSampling/g_and_k_functions.py:178: RuntimeWarning: invalid value encountered in add\n",
      "  diag(b*((1+z**2)**(k-1))*(((18*k + 9)*(z**2) + 9)*exp(2*g*z) + (8*g*z**3 + (20*k + 10)*z**2 + 8*g*z + 10)*exp(g*z) + (2*k + 1)*z**2 + 1) / (5*(1 + exp(g*z))**2))\n",
      "/Users/maurocamara/Documents/University/ManifoldSampling/g_and_k_functions.py:178: RuntimeWarning: invalid value encountered in multiply\n",
      "  diag(b*((1+z**2)**(k-1))*(((18*k + 9)*(z**2) + 9)*exp(2*g*z) + (8*g*z**3 + (20*k + 10)*z**2 + 8*g*z + 10)*exp(g*z) + (2*k + 1)*z**2 + 1) / (5*(1 + exp(g*z))**2))\n",
      "/Users/maurocamara/Documents/University/ManifoldSampling/g_and_k_functions.py:157: RuntimeWarning: overflow encountered in exp\n",
      "  return a + b*(1 + 0.8 * (1 - exp(-g * z)) / (1 + exp(-g * z))) * ((1 + z**2)**k) * z\n",
      "/Users/maurocamara/Documents/University/ManifoldSampling/g_and_k_functions.py:157: RuntimeWarning: invalid value encountered in true_divide\n",
      "  return a + b*(1 + 0.8 * (1 - exp(-g * z)) / (1 + exp(-g * z))) * ((1 + z**2)**k) * z\n",
      "/Users/maurocamara/Documents/University/ManifoldSampling/g_and_k_functions.py:176: RuntimeWarning: overflow encountered in square\n",
      "  8 * b * (z**2) * ((1 + z**2)**k) * exp(g*z) / (5 * (1 + exp(g*z))**2),\n",
      "/Users/maurocamara/Documents/University/ManifoldSampling/g_and_k_functions.py:178: RuntimeWarning: overflow encountered in square\n",
      "  diag(b*((1+z**2)**(k-1))*(((18*k + 9)*(z**2) + 9)*exp(2*g*z) + (8*g*z**3 + (20*k + 10)*z**2 + 8*g*z + 10)*exp(g*z) + (2*k + 1)*z**2 + 1) / (5*(1 + exp(g*z))**2))\n",
      "/Users/maurocamara/Documents/University/ManifoldSampling/g_and_k_functions.py:178: RuntimeWarning: invalid value encountered in true_divide\n",
      "  diag(b*((1+z**2)**(k-1))*(((18*k + 9)*(z**2) + 9)*exp(2*g*z) + (8*g*z**3 + (20*k + 10)*z**2 + 8*g*z + 10)*exp(g*z) + (2*k + 1)*z**2 + 1) / (5*(1 + exp(g*z))**2))\n",
      "/Users/maurocamara/Documents/University/ManifoldSampling/g_and_k_functions.py:176: RuntimeWarning: overflow encountered in multiply\n",
      "  8 * b * (z**2) * ((1 + z**2)**k) * exp(g*z) / (5 * (1 + exp(g*z))**2),\n",
      "/Users/maurocamara/Documents/University/ManifoldSampling/g_and_k_functions.py:178: RuntimeWarning: overflow encountered in multiply\n",
      "  diag(b*((1+z**2)**(k-1))*(((18*k + 9)*(z**2) + 9)*exp(2*g*z) + (8*g*z**3 + (20*k + 10)*z**2 + 8*g*z + 10)*exp(g*z) + (2*k + 1)*z**2 + 1) / (5*(1 + exp(g*z))**2))\n",
      "/Users/maurocamara/Documents/University/ManifoldSampling/g_and_k_functions.py:178: RuntimeWarning: overflow encountered in power\n",
      "  diag(b*((1+z**2)**(k-1))*(((18*k + 9)*(z**2) + 9)*exp(2*g*z) + (8*g*z**3 + (20*k + 10)*z**2 + 8*g*z + 10)*exp(g*z) + (2*k + 1)*z**2 + 1) / (5*(1 + exp(g*z))**2))\n",
      "/Users/maurocamara/Documents/University/ManifoldSampling/g_and_k_functions.py:175: RuntimeWarning: overflow encountered in multiply\n",
      "  (1 + 0.8 * (1 - exp(-g * z)) / (1 + exp(-g * z))) * ((1 + z**2)**k) * z,\n",
      "/Users/maurocamara/Documents/University/ManifoldSampling/g_and_k_functions.py:175: RuntimeWarning: overflow encountered in square\n",
      "  (1 + 0.8 * (1 - exp(-g * z)) / (1 + exp(-g * z))) * ((1 + z**2)**k) * z,\n",
      "/Users/maurocamara/Documents/University/ManifoldSampling/g_and_k_functions.py:177: RuntimeWarning: overflow encountered in multiply\n",
      "  b*z*((1+z**2)**k)*(1 + 9*exp(g*z))*log(1 + z**2) / (5*(1 + exp(g*z))),\n",
      "/Users/maurocamara/Documents/University/ManifoldSampling/g_and_k_functions.py:177: RuntimeWarning: overflow encountered in square\n",
      "  b*z*((1+z**2)**k)*(1 + 9*exp(g*z))*log(1 + z**2) / (5*(1 + exp(g*z))),\n",
      "/Users/maurocamara/Documents/University/ManifoldSampling/g_and_k_functions.py:157: RuntimeWarning: overflow encountered in multiply\n",
      "  return a + b*(1 + 0.8 * (1 - exp(-g * z)) / (1 + exp(-g * z))) * ((1 + z**2)**k) * z\n",
      "/Users/maurocamara/Documents/University/ManifoldSampling/g_and_k_functions.py:157: RuntimeWarning: overflow encountered in square\n",
      "  return a + b*(1 + 0.8 * (1 - exp(-g * z)) / (1 + exp(-g * z))) * ((1 + z**2)**k) * z\n",
      "/Users/maurocamara/Documents/University/ManifoldSampling/g_and_k_functions.py:176: RuntimeWarning: invalid value encountered in true_divide\n",
      "  8 * b * (z**2) * ((1 + z**2)**k) * exp(g*z) / (5 * (1 + exp(g*z))**2),\n",
      "/Users/maurocamara/Documents/University/ManifoldSampling/g_and_k_functions.py:177: RuntimeWarning: invalid value encountered in true_divide\n",
      "  b*z*((1+z**2)**k)*(1 + 9*exp(g*z))*log(1 + z**2) / (5*(1 + exp(g*z))),\n",
      "/Users/maurocamara/Documents/University/ManifoldSampling/HMC/static_hmc.py:69: RuntimeWarning: invalid value encountered in matmul\n",
      "  q = q + self.epsilon * (self.Minv @ p)\n",
      "/Users/maurocamara/Documents/University/ManifoldSampling/HMC/static_hmc.py:74: RuntimeWarning: invalid value encountered in matmul\n",
      "  q = q + self.epsilon * (self.Minv @ p)\n",
      "/Users/maurocamara/Documents/University/ManifoldSampling/g_and_k_functions.py:175: RuntimeWarning: overflow encountered in power\n",
      "  (1 + 0.8 * (1 - exp(-g * z)) / (1 + exp(-g * z))) * ((1 + z**2)**k) * z,\n",
      "/Users/maurocamara/Documents/University/ManifoldSampling/g_and_k_functions.py:176: RuntimeWarning: overflow encountered in power\n",
      "  8 * b * (z**2) * ((1 + z**2)**k) * exp(g*z) / (5 * (1 + exp(g*z))**2),\n",
      "/Users/maurocamara/Documents/University/ManifoldSampling/g_and_k_functions.py:177: RuntimeWarning: overflow encountered in power\n",
      "  b*z*((1+z**2)**k)*(1 + 9*exp(g*z))*log(1 + z**2) / (5*(1 + exp(g*z))),\n",
      "/Users/maurocamara/Documents/University/ManifoldSampling/g_and_k_functions.py:157: RuntimeWarning: overflow encountered in power\n",
      "  return a + b*(1 + 0.8 * (1 - exp(-g * z)) / (1 + exp(-g * z))) * ((1 + z**2)**k) * z\n",
      "/var/folders/31/dthljx8x5mldm2ll5_zz7xrr0000gn/T/ipykernel_6316/3424426908.py:46: RuntimeWarning: invalid value encountered in matmul\n",
      "  dkdξ = GK.Jf_transpose(ξ) @ (GK.f(ξ) - ystar) / (ϵ**2)\n",
      "/var/folders/31/dthljx8x5mldm2ll5_zz7xrr0000gn/T/ipykernel_6316/3424426908.py:46: RuntimeWarning: overflow encountered in matmul\n",
      "  dkdξ = GK.Jf_transpose(ξ) @ (GK.f(ξ) - ystar) / (ϵ**2)\n"
     ]
    },
    {
     "name": "stdout",
     "output_type": "stream",
     "text": [
      "\t Sampling RWM\n",
      "Run 3, ϵ = 0.01, ystar mean = 4.630832568850968\n",
      "\t Sampling HUG\n",
      "\t Sampling THUG\n",
      "\t Sampling HMC\n"
     ]
    },
    {
     "name": "stderr",
     "output_type": "stream",
     "text": [
      "/var/folders/31/dthljx8x5mldm2ll5_zz7xrr0000gn/T/ipykernel_6316/3424426908.py:46: RuntimeWarning: overflow encountered in true_divide\n",
      "  dkdξ = GK.Jf_transpose(ξ) @ (GK.f(ξ) - ystar) / (ϵ**2)\n"
     ]
    },
    {
     "name": "stdout",
     "output_type": "stream",
     "text": [
      "\t Sampling RWM\n",
      "Run 3, ϵ = 0.001, ystar mean = 4.630832568850968\n",
      "\t Sampling HUG\n",
      "\t Sampling THUG\n",
      "\t Sampling HMC\n",
      "\t Sampling RWM\n",
      "Run 3, ϵ = 0.0001, ystar mean = 4.630832568850968\n",
      "\t Sampling HUG\n",
      "\t Sampling THUG\n",
      "\t Sampling HMC\n",
      "\t Sampling RWM\n",
      "Run 4, ϵ = 10.0, ystar mean = 3.3826303623435443\n",
      "\t Sampling HUG\n",
      "\t Sampling THUG\n",
      "\t Sampling HMC\n",
      "\t Sampling RWM\n",
      "Run 4, ϵ = 1.0, ystar mean = 3.3826303623435443\n",
      "\t Sampling HUG\n",
      "\t Sampling THUG\n",
      "\t Sampling HMC\n",
      "\t Sampling RWM\n",
      "Run 4, ϵ = 0.1, ystar mean = 3.3826303623435443\n",
      "\t Sampling HUG\n",
      "\t Sampling THUG\n",
      "\t Sampling HMC\n"
     ]
    },
    {
     "name": "stderr",
     "output_type": "stream",
     "text": [
      "/Users/maurocamara/Documents/University/ManifoldSampling/g_and_k_functions.py:176: RuntimeWarning: overflow encountered in exp\n",
      "  8 * b * (z**2) * ((1 + z**2)**k) * exp(g*z) / (5 * (1 + exp(g*z))**2),\n",
      "/Users/maurocamara/Documents/University/ManifoldSampling/g_and_k_functions.py:176: RuntimeWarning: invalid value encountered in multiply\n",
      "  8 * b * (z**2) * ((1 + z**2)**k) * exp(g*z) / (5 * (1 + exp(g*z))**2),\n",
      "/Users/maurocamara/Documents/University/ManifoldSampling/g_and_k_functions.py:176: RuntimeWarning: overflow encountered in square\n",
      "  8 * b * (z**2) * ((1 + z**2)**k) * exp(g*z) / (5 * (1 + exp(g*z))**2),\n",
      "/Users/maurocamara/Documents/University/ManifoldSampling/g_and_k_functions.py:177: RuntimeWarning: overflow encountered in exp\n",
      "  b*z*((1+z**2)**k)*(1 + 9*exp(g*z))*log(1 + z**2) / (5*(1 + exp(g*z))),\n",
      "/Users/maurocamara/Documents/University/ManifoldSampling/g_and_k_functions.py:177: RuntimeWarning: invalid value encountered in multiply\n",
      "  b*z*((1+z**2)**k)*(1 + 9*exp(g*z))*log(1 + z**2) / (5*(1 + exp(g*z))),\n",
      "/Users/maurocamara/Documents/University/ManifoldSampling/g_and_k_functions.py:178: RuntimeWarning: overflow encountered in exp\n",
      "  diag(b*((1+z**2)**(k-1))*(((18*k + 9)*(z**2) + 9)*exp(2*g*z) + (8*g*z**3 + (20*k + 10)*z**2 + 8*g*z + 10)*exp(g*z) + (2*k + 1)*z**2 + 1) / (5*(1 + exp(g*z))**2))\n",
      "/Users/maurocamara/Documents/University/ManifoldSampling/g_and_k_functions.py:178: RuntimeWarning: invalid value encountered in add\n",
      "  diag(b*((1+z**2)**(k-1))*(((18*k + 9)*(z**2) + 9)*exp(2*g*z) + (8*g*z**3 + (20*k + 10)*z**2 + 8*g*z + 10)*exp(g*z) + (2*k + 1)*z**2 + 1) / (5*(1 + exp(g*z))**2))\n",
      "/Users/maurocamara/Documents/University/ManifoldSampling/g_and_k_functions.py:178: RuntimeWarning: invalid value encountered in multiply\n",
      "  diag(b*((1+z**2)**(k-1))*(((18*k + 9)*(z**2) + 9)*exp(2*g*z) + (8*g*z**3 + (20*k + 10)*z**2 + 8*g*z + 10)*exp(g*z) + (2*k + 1)*z**2 + 1) / (5*(1 + exp(g*z))**2))\n",
      "/Users/maurocamara/Documents/University/ManifoldSampling/g_and_k_functions.py:178: RuntimeWarning: overflow encountered in square\n",
      "  diag(b*((1+z**2)**(k-1))*(((18*k + 9)*(z**2) + 9)*exp(2*g*z) + (8*g*z**3 + (20*k + 10)*z**2 + 8*g*z + 10)*exp(g*z) + (2*k + 1)*z**2 + 1) / (5*(1 + exp(g*z))**2))\n",
      "/Users/maurocamara/Documents/University/ManifoldSampling/g_and_k_functions.py:178: RuntimeWarning: overflow encountered in multiply\n",
      "  diag(b*((1+z**2)**(k-1))*(((18*k + 9)*(z**2) + 9)*exp(2*g*z) + (8*g*z**3 + (20*k + 10)*z**2 + 8*g*z + 10)*exp(g*z) + (2*k + 1)*z**2 + 1) / (5*(1 + exp(g*z))**2))\n",
      "/Users/maurocamara/Documents/University/ManifoldSampling/g_and_k_functions.py:178: RuntimeWarning: invalid value encountered in true_divide\n",
      "  diag(b*((1+z**2)**(k-1))*(((18*k + 9)*(z**2) + 9)*exp(2*g*z) + (8*g*z**3 + (20*k + 10)*z**2 + 8*g*z + 10)*exp(g*z) + (2*k + 1)*z**2 + 1) / (5*(1 + exp(g*z))**2))\n",
      "/Users/maurocamara/Documents/University/ManifoldSampling/g_and_k_functions.py:175: RuntimeWarning: overflow encountered in exp\n",
      "  (1 + 0.8 * (1 - exp(-g * z)) / (1 + exp(-g * z))) * ((1 + z**2)**k) * z,\n",
      "/Users/maurocamara/Documents/University/ManifoldSampling/g_and_k_functions.py:175: RuntimeWarning: invalid value encountered in true_divide\n",
      "  (1 + 0.8 * (1 - exp(-g * z)) / (1 + exp(-g * z))) * ((1 + z**2)**k) * z,\n",
      "/Users/maurocamara/Documents/University/ManifoldSampling/g_and_k_functions.py:157: RuntimeWarning: overflow encountered in exp\n",
      "  return a + b*(1 + 0.8 * (1 - exp(-g * z)) / (1 + exp(-g * z))) * ((1 + z**2)**k) * z\n",
      "/Users/maurocamara/Documents/University/ManifoldSampling/g_and_k_functions.py:157: RuntimeWarning: invalid value encountered in true_divide\n",
      "  return a + b*(1 + 0.8 * (1 - exp(-g * z)) / (1 + exp(-g * z))) * ((1 + z**2)**k) * z\n",
      "/Users/maurocamara/Documents/University/ManifoldSampling/g_and_k_functions.py:176: RuntimeWarning: invalid value encountered in true_divide\n",
      "  8 * b * (z**2) * ((1 + z**2)**k) * exp(g*z) / (5 * (1 + exp(g*z))**2),\n",
      "/Users/maurocamara/Documents/University/ManifoldSampling/g_and_k_functions.py:177: RuntimeWarning: invalid value encountered in true_divide\n",
      "  b*z*((1+z**2)**k)*(1 + 9*exp(g*z))*log(1 + z**2) / (5*(1 + exp(g*z))),\n",
      "/Users/maurocamara/Documents/University/ManifoldSampling/g_and_k_functions.py:176: RuntimeWarning: overflow encountered in multiply\n",
      "  8 * b * (z**2) * ((1 + z**2)**k) * exp(g*z) / (5 * (1 + exp(g*z))**2),\n",
      "/Users/maurocamara/Documents/University/ManifoldSampling/g_and_k_functions.py:177: RuntimeWarning: overflow encountered in multiply\n",
      "  b*z*((1+z**2)**k)*(1 + 9*exp(g*z))*log(1 + z**2) / (5*(1 + exp(g*z))),\n",
      "/Users/maurocamara/Documents/University/ManifoldSampling/HMC/static_hmc.py:74: RuntimeWarning: invalid value encountered in matmul\n",
      "  q = q + self.epsilon * (self.Minv @ p)\n"
     ]
    },
    {
     "name": "stdout",
     "output_type": "stream",
     "text": [
      "\t Sampling RWM\n",
      "Run 4, ϵ = 0.01, ystar mean = 3.3826303623435443\n",
      "\t Sampling HUG\n",
      "\t Sampling THUG\n",
      "\t Sampling HMC\n"
     ]
    },
    {
     "name": "stderr",
     "output_type": "stream",
     "text": [
      "/Users/maurocamara/Documents/University/ManifoldSampling/g_and_k_functions.py:175: RuntimeWarning: overflow encountered in power\n",
      "  (1 + 0.8 * (1 - exp(-g * z)) / (1 + exp(-g * z))) * ((1 + z**2)**k) * z,\n",
      "/Users/maurocamara/Documents/University/ManifoldSampling/g_and_k_functions.py:176: RuntimeWarning: overflow encountered in power\n",
      "  8 * b * (z**2) * ((1 + z**2)**k) * exp(g*z) / (5 * (1 + exp(g*z))**2),\n",
      "/Users/maurocamara/Documents/University/ManifoldSampling/g_and_k_functions.py:177: RuntimeWarning: overflow encountered in power\n",
      "  b*z*((1+z**2)**k)*(1 + 9*exp(g*z))*log(1 + z**2) / (5*(1 + exp(g*z))),\n",
      "/Users/maurocamara/Documents/University/ManifoldSampling/g_and_k_functions.py:178: RuntimeWarning: overflow encountered in power\n",
      "  diag(b*((1+z**2)**(k-1))*(((18*k + 9)*(z**2) + 9)*exp(2*g*z) + (8*g*z**3 + (20*k + 10)*z**2 + 8*g*z + 10)*exp(g*z) + (2*k + 1)*z**2 + 1) / (5*(1 + exp(g*z))**2))\n",
      "/Users/maurocamara/Documents/University/ManifoldSampling/g_and_k_functions.py:157: RuntimeWarning: overflow encountered in power\n",
      "  return a + b*(1 + 0.8 * (1 - exp(-g * z)) / (1 + exp(-g * z))) * ((1 + z**2)**k) * z\n",
      "/var/folders/31/dthljx8x5mldm2ll5_zz7xrr0000gn/T/ipykernel_6316/3424426908.py:46: RuntimeWarning: overflow encountered in matmul\n",
      "  dkdξ = GK.Jf_transpose(ξ) @ (GK.f(ξ) - ystar) / (ϵ**2)\n",
      "/var/folders/31/dthljx8x5mldm2ll5_zz7xrr0000gn/T/ipykernel_6316/3424426908.py:46: RuntimeWarning: invalid value encountered in matmul\n",
      "  dkdξ = GK.Jf_transpose(ξ) @ (GK.f(ξ) - ystar) / (ϵ**2)\n",
      "/Users/maurocamara/Documents/University/ManifoldSampling/HMC/static_hmc.py:69: RuntimeWarning: invalid value encountered in matmul\n",
      "  q = q + self.epsilon * (self.Minv @ p)\n",
      "/Users/maurocamara/Documents/University/ManifoldSampling/g_and_k_functions.py:175: RuntimeWarning: overflow encountered in multiply\n",
      "  (1 + 0.8 * (1 - exp(-g * z)) / (1 + exp(-g * z))) * ((1 + z**2)**k) * z,\n",
      "/Users/maurocamara/Documents/University/ManifoldSampling/g_and_k_functions.py:175: RuntimeWarning: overflow encountered in square\n",
      "  (1 + 0.8 * (1 - exp(-g * z)) / (1 + exp(-g * z))) * ((1 + z**2)**k) * z,\n",
      "/Users/maurocamara/Documents/University/ManifoldSampling/g_and_k_functions.py:177: RuntimeWarning: overflow encountered in square\n",
      "  b*z*((1+z**2)**k)*(1 + 9*exp(g*z))*log(1 + z**2) / (5*(1 + exp(g*z))),\n",
      "/Users/maurocamara/Documents/University/ManifoldSampling/g_and_k_functions.py:157: RuntimeWarning: overflow encountered in multiply\n",
      "  return a + b*(1 + 0.8 * (1 - exp(-g * z)) / (1 + exp(-g * z))) * ((1 + z**2)**k) * z\n",
      "/Users/maurocamara/Documents/University/ManifoldSampling/g_and_k_functions.py:157: RuntimeWarning: overflow encountered in square\n",
      "  return a + b*(1 + 0.8 * (1 - exp(-g * z)) / (1 + exp(-g * z))) * ((1 + z**2)**k) * z\n",
      "/var/folders/31/dthljx8x5mldm2ll5_zz7xrr0000gn/T/ipykernel_6316/3424426908.py:46: RuntimeWarning: overflow encountered in true_divide\n",
      "  dkdξ = GK.Jf_transpose(ξ) @ (GK.f(ξ) - ystar) / (ϵ**2)\n",
      "/Users/maurocamara/Documents/University/ManifoldSampling/g_and_k_functions.py:178: RuntimeWarning: overflow encountered in add\n",
      "  diag(b*((1+z**2)**(k-1))*(((18*k + 9)*(z**2) + 9)*exp(2*g*z) + (8*g*z**3 + (20*k + 10)*z**2 + 8*g*z + 10)*exp(g*z) + (2*k + 1)*z**2 + 1) / (5*(1 + exp(g*z))**2))\n"
     ]
    },
    {
     "name": "stdout",
     "output_type": "stream",
     "text": [
      "\t Sampling RWM\n",
      "Run 4, ϵ = 0.001, ystar mean = 3.3826303623435443\n",
      "\t Sampling HUG\n",
      "\t Sampling THUG\n",
      "\t Sampling HMC\n",
      "\t Sampling RWM\n",
      "Run 4, ϵ = 0.0001, ystar mean = 3.3826303623435443\n",
      "\t Sampling HUG\n",
      "\t Sampling THUG\n",
      "\t Sampling HMC\n",
      "\t Sampling RWM\n"
     ]
    }
   ],
   "source": [
    "ϵ_list = [10.0, 1.0, 0.1, 0.01, 0.001, 0.0001]\n",
    "cc2, ap2, ess2 = compare_computational_costs(ϵ_list, 10000, 5)"
   ]
  },
  {
   "cell_type": "code",
   "execution_count": 95,
   "id": "75e78a94",
   "metadata": {},
   "outputs": [
    {
     "name": "stdout",
     "output_type": "stream",
     "text": [
      "\\begin{table}\n",
      "\t\\begin{tabular}{ | l | l | l | l | l |}\n",
      "\t\\hline\n",
      "\tTolerances & HUG & THUG & HMC & RWM \\\\ \\hline\n",
      "\t10.0  & 3.14 & 3.22 & 3.07 & 2.18 \\\\ \\hline\n",
      "\t1.0  & 3.12 & 3.21 & 3.62 & 2.98 \\\\ \\hline\n",
      "\t0.1  & 3.31 & 3.25 & 3.88 & 2.75 \\\\ \\hline\n",
      "\t0.01  & 3.71 & 3.18 & 3.88 & 2.70 \\\\ \\hline\n",
      "\t0.001  & 3.84 & 3.45 & 3.88 & 2.62 \\\\ \\hline\n",
      "\t0.0001  & 4.21 & 3.97 & 3.88 & 2.70 \\\\ \\hline\n",
      "\t\\end{tabular}\n",
      "\t \\caption{Computational cost per effective sample in log10 scale. Total computational cost for RWM is the total number of $f$ evaluations, for all other algorithms we sum to it the number of Jacobian computations. ESS was computed on the log posterior density of samples.}\n",
      "\\end{table}\n"
     ]
    }
   ],
   "source": [
    "print(generate_latex_table(cc, ap, ϵ_list))"
   ]
  },
  {
   "cell_type": "code",
   "execution_count": 96,
   "id": "14865d0e",
   "metadata": {},
   "outputs": [
    {
     "data": {
      "text/plain": [
       "{0: {'HUG': array([2.71976801, 2.65583851, 3.24054858]),\n",
       "  'THUG': array([2.4027509 , 2.59759405, 3.01014906]),\n",
       "  'HMC': array([2.41591995, 2.96523506, 3.84516008]),\n",
       "  'RWM': array([1.82836362, 3.00043408, 3.00043408])},\n",
       " 1: {'HUG': array([2.72048573, 2.86957757, 3.77822363]),\n",
       "  'THUG': array([2.72908919, 2.98680003, 2.77835296]),\n",
       "  'HMC': array([2.289943  , 3.84516008, 3.84516008]),\n",
       "  'RWM': array([2.24096522, 3.00043408, 3.00043408])}}"
      ]
     },
     "execution_count": 96,
     "metadata": {},
     "output_type": "execute_result"
    }
   ],
   "source": [
    "cc"
   ]
  },
  {
   "cell_type": "code",
   "execution_count": null,
   "id": "11e76d8b",
   "metadata": {},
   "outputs": [],
   "source": []
  },
  {
   "cell_type": "markdown",
   "id": "87a0cb67",
   "metadata": {},
   "source": [
    "# Plot KDE of Samples for best Epsilon Plot"
   ]
  },
  {
   "cell_type": "code",
   "execution_count": 49,
   "id": "7ecd6415",
   "metadata": {},
   "outputs": [],
   "source": [
    "# I WANT TO PLOT EACH ONE OF THEM AT THEIR BEST ϵ.\n",
    "def plot_at_best_ϵ(N, T=0.2, B=5):\n",
    "    ϵ_HUG  = 0.01\n",
    "    ϵ_THUG = 0.0001\n",
    "    ϵ_HMC  = 1.0\n",
    "    ϵ_RWM  = 5.0\n",
    "    q = MVN(zeros(d), eye(d))\n",
    "    \n",
    "    # For HUG use 0.01\n",
    "    GK = GandK(m=n_latents, epsilon=ϵ_HUG, parameter_prior='beta', kernel='normal', normal_prior_scale=nps)\n",
    "    ystar = GK.data_generator(θ0)\n",
    "    GK.set_ystar(ystar)\n",
    "    ξ0 = GK.find_point_on_manifold(max_iter=8000)\n",
    "    sHUG, aHUG = HugTangentialMultivariate(ξ0, T, B, N, 0.0, q, GK.log_abc_posterior, GK.Jf, method='qr')\n",
    "    print(\"Acceptance HUG: {:.2%}\".format(aHUG.mean()))\n",
    "    \n",
    "    # For THUG use 0.0001\n",
    "    GK = GandK(m=n_latents, epsilon=ϵ_THUG, parameter_prior='beta', kernel='normal', normal_prior_scale=nps)\n",
    "    ystar = GK.data_generator(θ0)\n",
    "    GK.set_ystar(ystar)\n",
    "    ξ0 = GK.find_point_on_manifold(max_iter=2000)\n",
    "    sTHUG, aTHUG = HugTangentialMultivariate(ξ0, T, B, N, 0.99, q, GK.log_abc_posterior, GK.Jf, method='qr')\n",
    "    print(\"Acceptance THUG: {:.2%}\".format(aTHUG.mean()))\n",
    "    \n",
    "    # For HMC use 1.0\n",
    "    GK = GandK(m=n_latents, epsilon=ϵ_HMC, parameter_prior='beta', kernel='normal', normal_prior_scale=nps)\n",
    "    ystar = GK.data_generator(θ0)\n",
    "    GK.set_ystar(ystar)\n",
    "    ξ0 = GK.find_point_on_manifold(max_iter=2000)\n",
    "    HMCsampler                 = HMC(ξ0, N, eye(d), T, T / B)\n",
    "    HMCsampler.neg_log_target  = GK.V \n",
    "    HMCsampler.dVdq            = GK.dVdξ \n",
    "    sHMC, aHMC                 = HMCsampler.sample()\n",
    "    print(\"Acceptance HMC: {:.2%}\".format(aHMC.mean()))\n",
    "    \n",
    "    # For RWM use \n",
    "    GK = GandK(m=n_latents, epsilon=ϵ_RWM, parameter_prior='beta', kernel='normal', normal_prior_scale=nps)\n",
    "    ystar = GK.data_generator(θ0)\n",
    "    GK.set_ystar(ystar)\n",
    "    ξ0 = GK.find_point_on_manifold(max_iter=2000)\n",
    "    sRWM, aRWM = RWM(ξ0, T/B, N, GK.log_abc_posterior)\n",
    "    print(\"Acceptance RWM: {:.2%}\".format(aRWM.mean()))\n",
    "    return sHUG, sTHUG, sHMC, sRWM"
   ]
  },
  {
   "cell_type": "code",
   "execution_count": 50,
   "id": "b74e071e",
   "metadata": {},
   "outputs": [
    {
     "name": "stdout",
     "output_type": "stream",
     "text": [
      "Acceptance HUG: 45.20%\n",
      "Acceptance THUG: 42.85%\n"
     ]
    },
    {
     "name": "stderr",
     "output_type": "stream",
     "text": [
      "/Users/maurocamara/Documents/University/ManifoldSampling/g_and_k_functions.py:175: RuntimeWarning: overflow encountered in exp\n",
      "  (1 + 0.8 * (1 - exp(-g * z)) / (1 + exp(-g * z))) * ((1 + z**2)**k) * z,\n",
      "/Users/maurocamara/Documents/University/ManifoldSampling/g_and_k_functions.py:175: RuntimeWarning: invalid value encountered in true_divide\n",
      "  (1 + 0.8 * (1 - exp(-g * z)) / (1 + exp(-g * z))) * ((1 + z**2)**k) * z,\n",
      "/Users/maurocamara/Documents/University/ManifoldSampling/g_and_k_functions.py:176: RuntimeWarning: overflow encountered in exp\n",
      "  8 * b * (z**2) * ((1 + z**2)**k) * exp(g*z) / (5 * (1 + exp(g*z))**2),\n",
      "/Users/maurocamara/Documents/University/ManifoldSampling/g_and_k_functions.py:176: RuntimeWarning: invalid value encountered in multiply\n",
      "  8 * b * (z**2) * ((1 + z**2)**k) * exp(g*z) / (5 * (1 + exp(g*z))**2),\n",
      "/Users/maurocamara/Documents/University/ManifoldSampling/g_and_k_functions.py:177: RuntimeWarning: overflow encountered in exp\n",
      "  b*z*((1+z**2)**k)*(1 + 9*exp(g*z))*log(1 + z**2) / (5*(1 + exp(g*z))),\n",
      "/Users/maurocamara/Documents/University/ManifoldSampling/g_and_k_functions.py:177: RuntimeWarning: invalid value encountered in multiply\n",
      "  b*z*((1+z**2)**k)*(1 + 9*exp(g*z))*log(1 + z**2) / (5*(1 + exp(g*z))),\n",
      "/Users/maurocamara/Documents/University/ManifoldSampling/g_and_k_functions.py:178: RuntimeWarning: overflow encountered in exp\n",
      "  diag(b*((1+z**2)**(k-1))*(((18*k + 9)*(z**2) + 9)*exp(2*g*z) + (8*g*z**3 + (20*k + 10)*z**2 + 8*g*z + 10)*exp(g*z) + (2*k + 1)*z**2 + 1) / (5*(1 + exp(g*z))**2))\n",
      "/Users/maurocamara/Documents/University/ManifoldSampling/g_and_k_functions.py:178: RuntimeWarning: invalid value encountered in add\n",
      "  diag(b*((1+z**2)**(k-1))*(((18*k + 9)*(z**2) + 9)*exp(2*g*z) + (8*g*z**3 + (20*k + 10)*z**2 + 8*g*z + 10)*exp(g*z) + (2*k + 1)*z**2 + 1) / (5*(1 + exp(g*z))**2))\n",
      "/Users/maurocamara/Documents/University/ManifoldSampling/g_and_k_functions.py:178: RuntimeWarning: invalid value encountered in multiply\n",
      "  diag(b*((1+z**2)**(k-1))*(((18*k + 9)*(z**2) + 9)*exp(2*g*z) + (8*g*z**3 + (20*k + 10)*z**2 + 8*g*z + 10)*exp(g*z) + (2*k + 1)*z**2 + 1) / (5*(1 + exp(g*z))**2))\n",
      "/Users/maurocamara/Documents/University/ManifoldSampling/g_and_k_functions.py:157: RuntimeWarning: overflow encountered in exp\n",
      "  return a + b*(1 + 0.8 * (1 - exp(-g * z)) / (1 + exp(-g * z))) * ((1 + z**2)**k) * z\n",
      "/Users/maurocamara/Documents/University/ManifoldSampling/g_and_k_functions.py:157: RuntimeWarning: invalid value encountered in true_divide\n",
      "  return a + b*(1 + 0.8 * (1 - exp(-g * z)) / (1 + exp(-g * z))) * ((1 + z**2)**k) * z\n"
     ]
    },
    {
     "name": "stdout",
     "output_type": "stream",
     "text": [
      "Acceptance HMC: 25.54%\n",
      "Acceptance RWM: 30.06%\n"
     ]
    }
   ],
   "source": [
    "sHUG, sTHUG, sHMC, sRWM = plot_at_best_ϵ(10000)"
   ]
  },
  {
   "cell_type": "code",
   "execution_count": 54,
   "id": "77da20a5",
   "metadata": {},
   "outputs": [
    {
     "data": {
      "image/png": "[encoded data removed]",
      "text/plain": [
       "<Figure size 576x576 with 4 Axes>"
      ]
     },
     "metadata": {},
     "output_type": "display_data"
    }
   ],
   "source": [
    "SMOOTH = 0.3\n",
    "LABELS = ['a', 'b', 'g', 'k']\n",
    "LW = 2\n",
    "FROM = 0\n",
    "fig, ax = plt.subplots(nrows=2, ncols=2, figsize=(8, 8))\n",
    "for i in range(4):\n",
    "    # Pure Hug, QR projection\n",
    "    _ = sns.kdeplot(sHUG[FROM:, i], ax=ax[i // 2, i % 2], bw_method=SMOOTH, label='HUG', lw=LW)\n",
    "    # Pure Hug, Linear Solver projection\n",
    "    #_ = sns.kdeplot(samples2[:, i], ax=ax[i // 2, i % 2], bw_method=SMOOTH, label='Hug LN {:.1%}'.format(acceptances2.mean()))\n",
    "    # RWM\n",
    "    _ = sns.kdeplot(sRWM[FROM:, i], ax=ax[i // 2, i % 2], bw_method=SMOOTH, label='RWM', lw=LW)\n",
    "    # HMC \n",
    "    #_ = sns.kdeplot(samples4a[:, i], ax=ax[i // 2, i % 2], bw_method=SMOOTH, label='HMC {:.1%}'.format(acceptances4a.mean()))\n",
    "    _ = sns.kdeplot(sHMC[FROM:, i], ax=ax[i // 2, i % 2], bw_method=SMOOTH, label='HMC', lw=LW)\n",
    "    # THUG, QR projection\n",
    "    _ = sns.kdeplot(sTHUG[FROM:, i], ax=ax[i // 2, i % 2], bw_method=SMOOTH, label='THUG', lw=LW)\n",
    "    # True\n",
    "    #_ = sns.kdeplot(strueI[:, i], ax=ax[i // 2, i % 2], bw_method=SMOOTH, label='MCMC I {:.1%}'.format(atrueI))\n",
    "    #_ = sns.kdeplot(strueΣ[:, i], ax=ax[i // 2, i % 2], bw_method=SMOOTH, label='MCMC Σ {:.1%}'.format(atrueΣ))\n",
    "    # THUG 0.99 ON TINY EPSILON\n",
    "    #_ = sns.kdeplot(S099[:, i], ax=ax[i // 2, i % 2], bw_method=SMOOTH, label='THUG'.format(AP099/100))\n",
    "    # Prangle samples\n",
    "    _ = sns.kdeplot(prangle_mcmc_samples[:, i], ax=ax[i // 2, i % 2], bw_method=SMOOTH, label='MCMC', lw=LW)\n",
    "    \n",
    "    # Prettify\n",
    "    ax[i // 2, i % 2].axvline(θ0[i], c='k', ls='--')\n",
    "#     ax[i // 2, i % 2].set_xlabel(r'${}$'.format(LABELS[i]), fontsize=20)\n",
    "    # Remove the xlabel if (0, 1) or (1, 1)\n",
    "    if i % 2 == 1:\n",
    "        ax[i // 2, i % 2].set_ylabel(\"\")\n",
    "    \n",
    "    # Set axes limits to the min, max of HUG/THUG\n",
    "    ax[i // 2, i % 2].set_xlim([min(sHUG[:, i].min(), sTHUG[:, i].min())-0.1, max(sHUG[:, i].max(), sTHUG[:, i].max()) + 0.1])\n",
    "    ax[i // 2, i % 2].set_ylabel(\"\")\n",
    "    ax[i // 2, i % 2].set_yticks([])\n",
    "    ax[i // 2, i % 2].set_xticks([])\n",
    "    x_pos = 0.1 if (i // 2 == i % 2) else 0.9\n",
    "    ax[i // 2, i % 2].text(x_pos, 0.9, \"{}\".format(LABELS[i]), transform=ax[i //2, i % 2].transAxes, fontsize=25, fontfamily='STIXGeneral')\n",
    "#fig.suptitle(r'$\\epsilon$ = {}'.format(ϵ), fontsize=20)\n",
    "plt.tight_layout()\n",
    "plt.legend(prop={'family':'STIXGeneral', 'size':18})\n",
    "#plt.savefig(\"figures/gk_eps10m3.png\", dpi=300)\n",
    "# plt.savefig(\"figures/gk_best_epsilon.png\", dpi=300)\n",
    "plt.show()"
   ]
  },
  {
   "cell_type": "code",
   "execution_count": null,
   "id": "c1c5b2c2",
   "metadata": {},
   "outputs": [],
   "source": []
  }
 ],
 "metadata": {
  "kernelspec": {
   "display_name": "Python 3 (ipykernel)",
   "language": "python",
   "name": "python3"
  },
  "language_info": {
   "codemirror_mode": {
    "name": "ipython",
    "version": 3
   },
   "file_extension": ".py",
   "mimetype": "text/x-python",
   "name": "python",
   "nbconvert_exporter": "python",
   "pygments_lexer": "ipython3",
   "version": "3.10.4"
  }
 },
 "nbformat": 4,
 "nbformat_minor": 5
}
