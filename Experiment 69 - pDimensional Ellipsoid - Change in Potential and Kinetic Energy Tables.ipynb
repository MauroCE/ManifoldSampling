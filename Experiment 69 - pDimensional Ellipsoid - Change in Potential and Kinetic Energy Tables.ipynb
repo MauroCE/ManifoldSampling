{
 "cells": [
  {
   "cell_type": "code",
   "execution_count": 1,
   "id": "3aa4c8d3",
   "metadata": {},
   "outputs": [],
   "source": [
    "import numpy as np\n",
    "from scipy.stats import multivariate_normal as MVN\n",
    "import matplotlib.pyplot as plt\n",
    "from scipy.optimize import root, fsolve, minimize\n",
    "from numpy.linalg import norm, solve, inv, det\n",
    "from numpy import log, zeros, eye, exp, cos, sin, pi, diag\n",
    "from scipy.stats import uniform as udist\n",
    "from numpy.random import rand\n",
    "from matplotlib.colors import ListedColormap\n",
    "from warnings import catch_warnings, filterwarnings\n",
    "from scipy.linalg import qr\n",
    "from copy import deepcopy\n",
    "\n",
    "from utils import prep_contour\n",
    "from Manifolds.GeneralizedEllipse import GeneralizedEllipse"
   ]
  },
  {
   "cell_type": "code",
   "execution_count": 220,
   "id": "abfebd36",
   "metadata": {},
   "outputs": [],
   "source": [
    "# Define constraint function\n",
    "p = 3\n",
    "μ = zeros(p)\n",
    "diagonal = np.array([1, 0.1, 0.1]) #np.array([100, 100, *np.ones(p-2)])#np.concatenate((np.full(p//2, 100), np.ones(p - (p//2))))\n",
    "Σ = diag(diagonal)\n",
    "π = MVN(μ, Σ)\n",
    "f = π.logpdf\n",
    "# Ellipsoid\n",
    "z0 = -23\n",
    "ellipse = GeneralizedEllipse(μ, Σ, exp(z0))"
   ]
  },
  {
   "cell_type": "code",
   "execution_count": 221,
   "id": "cc090409",
   "metadata": {},
   "outputs": [],
   "source": [
    "def HugTangentialMultivariate(x0, T, B, N, α, q, logpi, jac, method='qr'):\n",
    "    \"\"\"Multidimensional Tangential Hug sampler. Two possible methods:\n",
    "    - 'qr': projects onto row space of Jacobian using QR decomposition.\n",
    "    - 'linear': solves a linear system to project.\n",
    "    \"\"\"\n",
    "    OUT = {\n",
    "    'D' : {f\"{i}\": [] for i in range(N)}, # Distance\n",
    "    'SD': {f\"{i}\": [] for i in range(N)}, # Square Distance\n",
    "    'AR': [np.nan for i in range(N)],     # Acceptance Ratio\n",
    "    'Δk': [np.nan for i in range(N)],     # Kinetic Energy\n",
    "    'Δℓ': [np.nan for i in range(N)],     # Potential Energy\n",
    "    'SAMPLES': x0,\n",
    "    'ACCEPTANCES': np.zeros(N),\n",
    "    'EJSD': [np.nan for i in range(N)]    # Acceptance Ratio * Squared Distance\n",
    "    }\n",
    "    assert method == 'qr' or method == 'linear' or method == 'lstsq'\n",
    "    def qr_project(v, J):\n",
    "        \"\"\"Projects using QR decomposition.\"\"\"\n",
    "        Q, _ = qr(J.T, mode='economic')\n",
    "        return Q.dot((Q.T.dot(v)))\n",
    "    def linear_project(v, J):\n",
    "        \"\"\"Projects by solving linear system.\"\"\"\n",
    "        return J.T.dot(solve(J.dot(J.T), J.dot(v)))\n",
    "    def lstsq_project(v, J):\n",
    "        \"\"\"Projects using scipy's Least Squares Routine.\"\"\"\n",
    "        return J.T.dot(lstsq(J.T, v)[0])\n",
    "    if method == 'qr':\n",
    "        project = qr_project\n",
    "    elif method == 'linear':\n",
    "        project = linear_project\n",
    "    else:\n",
    "        project = lstsq_project\n",
    "    # Jacobian function raising an error for RuntimeWarning\n",
    "    def safe_jac(x):\n",
    "        \"\"\"Raises an error when a RuntimeWarning appears.\"\"\"\n",
    "        while catch_warnings():\n",
    "            filterwarnings('error')\n",
    "            try:\n",
    "                return jac(x)\n",
    "            except RuntimeWarning:\n",
    "                raise ValueError(\"Jacobian computation failed due to Runtime Warning.\")\n",
    "    samples, acceptances = x0, np.zeros(N)\n",
    "    # Compute initial Jacobian. \n",
    "    for i in range(N):\n",
    "        v0s = q.rvs()\n",
    "        # Squeeze\n",
    "        v0 = v0s - α * project(v0s, safe_jac(x0)) #jac(x0))\n",
    "        v, x = v0, x0\n",
    "        logu = np.log(rand())\n",
    "        δ = T / B\n",
    "        for _ in range(B):\n",
    "            xmid = x + δ*v/2\n",
    "            v = v - 2 * project(v, safe_jac(xmid)) #jac(x))\n",
    "            x = xmid + δ*v/2\n",
    "            # Compute metrics\n",
    "            OUT['D'][f\"{i}\"].append(norm(x - x0))\n",
    "            OUT['SD'][f\"{i}\"].append(norm(x  -x0)**2)\n",
    "        # Unsqueeze\n",
    "        v = v + (α / (1 - α)) * project(v, safe_jac(x)) #jac(x))\n",
    "        # In the acceptance ratio must use spherical velocities!! Hence v0s and the unsqueezed v\n",
    "        logar = logpi(x) + q.logpdf(v) - logpi(x0) - q.logpdf(v0s)\n",
    "        ar = exp(logar)\n",
    "        OUT['AR'][i] = ar\n",
    "        OUT['Δk'][i] = - norm(v)**2 + norm(v0s)**2\n",
    "        OUT['Δℓ'][i] = logpi(x) - logpi(x0)\n",
    "        OUT['EJSD'][i] = ar * (norm(x - x0)**2)\n",
    "        if logu <= logar:\n",
    "            OUT['SAMPLES'] = np.vstack((OUT['SAMPLES'], x))\n",
    "            OUT['ACCEPTANCES'][i] = 1         # Accepted!\n",
    "            x0 = x\n",
    "        else:\n",
    "            OUT['SAMPLES'] = np.vstack((OUT['SAMPLES'], x0))\n",
    "            OUT['ACCEPTANCES'][i] = 0         # Rejected\n",
    "    return OUT"
   ]
  },
  {
   "cell_type": "code",
   "execution_count": 222,
   "id": "d7ed320c",
   "metadata": {},
   "outputs": [],
   "source": [
    "# Proposal for velocity\n",
    "q = MVN(zeros(p), eye(p))\n",
    "\n",
    "# Prior function is uniform on a huge square\n",
    "# square_side = 1000  # SQUARE SIDE\n",
    "# logprior  = lambda xi: udist.logpdf(xi, loc=-square_side, scale=2*square_side).sum()"
   ]
  },
  {
   "cell_type": "code",
   "execution_count": 223,
   "id": "950c4d7d",
   "metadata": {},
   "outputs": [],
   "source": [
    "def generate_logpi(ϵ):\n",
    "    # Kernel\n",
    "#     def logkernel(xi):\n",
    "#         with np.errstate(divide='ignore'):\n",
    "#             return log(float(norm(f(xi) - z0) < ϵ) / ϵ)\n",
    "    def logkernel(xi):\n",
    "        return -norm(f(xi) - z0)**2/(2*(ϵ**2)) - np.log(ϵ)\n",
    "    # Logpi\n",
    "    logpi = lambda xi: logkernel(xi) #logprior(xi) + logkernel(xi)\n",
    "    return logpi\n",
    "\n",
    "def generate_output(ϵs, αs, δs, N=N):\n",
    "    OUTS = []\n",
    "    x0 = ellipse.sample(advanced=True, maxiter=20000)\n",
    "    for ϵix, ϵ in enumerate(ϵs):\n",
    "        for αix, α in enumerate(αs):\n",
    "            for δix, δ in enumerate(δs):\n",
    "                logpi = generate_logpi(ϵ)\n",
    "                jac = lambda xi: ellipse.Q(xi).T\n",
    "                OUTS.append(HugTangentialMultivariate(x0, δ*B, B, N, α, q, logpi, jac))\n",
    "    return OUTS"
   ]
  },
  {
   "cell_type": "markdown",
   "id": "a9aa3ac4",
   "metadata": {},
   "source": [
    "# Figure out a good $\\delta$ and $\\epsilon$"
   ]
  },
  {
   "cell_type": "code",
   "execution_count": 224,
   "id": "146e088d",
   "metadata": {},
   "outputs": [],
   "source": [
    "indeces_prelim = []\n",
    "for ϵix in range(len(ϵs_prelim)):\n",
    "    for αix in range(len(αs_prelim)):\n",
    "        for δix in range(len(δs_prelim)):\n",
    "            indeces_prelim.append((ϵix, αix, δix))"
   ]
  },
  {
   "cell_type": "code",
   "execution_count": 235,
   "id": "eda6e4e6",
   "metadata": {},
   "outputs": [],
   "source": [
    "N_GRID = 30\n",
    "ϵs_prelim = [0.01, 0.001, 0.0001, 0.00001] #[0.1, 0.01, 0.001, 0.0001]\n",
    "αs_prelim = np.linspace(start=0.0, stop=1.0, num=N_GRID, endpoint=False)\n",
    "δs_prelim = np.geomspace(start=0.01, stop=10.0, num=N_GRID, endpoint=True)\n",
    "B = 20\n",
    "\n",
    "# TODO: B might not be large enough for each integration to diverge, and hence not much difference is shown\n",
    "# between alpha=0.0 and alpha > 0.\n",
    "OUTS_PRELIM = generate_output(\n",
    "    ϵs=ϵs_prelim,\n",
    "    αs=αs_prelim,\n",
    "    δs=δs_prelim,\n",
    "    N=5000\n",
    ")"
   ]
  },
  {
   "cell_type": "code",
   "execution_count": 236,
   "id": "9a6aa672",
   "metadata": {},
   "outputs": [],
   "source": [
    "OUT_EJSD_PRELIM = np.zeros((len(ϵs_prelim), len(αs_prelim), len(δs_prelim)))\n",
    "for i in range(len(OUTS_PRELIM)):\n",
    "    ix = np.unravel_index(i, (len(ϵs_prelim), len(αs_prelim), len(δs_prelim)))\n",
    "    OUT_EJSD_PRELIM[ix] = np.mean(OUTS_PRELIM[i]['EJSD'])"
   ]
  },
  {
   "cell_type": "code",
   "execution_count": 237,
   "id": "d5bf0c2b",
   "metadata": {},
   "outputs": [
    {
     "data": {
      "image/png": "[encoded data removed]",
      "text/plain": [
       "<Figure size 1440x288 with 5 Axes>"
      ]
     },
     "metadata": {
      "needs_background": "light"
     },
     "output_type": "display_data"
    }
   ],
   "source": [
    "δ_grid_prelim, α_grid_prelim = np.meshgrid(δs_prelim, αs_prelim)\n",
    "normalize = lambda a: a / np.nanmax(a)\n",
    "fig, ax = plt.subplots(ncols=len(ϵs_prelim), figsize=(20, 4), sharey=True, sharex=True)\n",
    "\n",
    "def normalize_without_maximum(a):\n",
    "    a_copy = deepcopy(a)\n",
    "    a_copy[np.unravel_index(np.argmax(a_copy), (N_GRID,N_GRID))] = np.nan\n",
    "    return normalize(a_copy)\n",
    "\n",
    "for i in range(len(ϵs_prelim)):\n",
    "    SOME = normalize(OUT_EJSD_PRELIM[i, :, :]) #normalize_without_maximum(OUT_EJSD_PRELIM[i, :, :])\n",
    "    im = ax[i].pcolor(δ_grid_prelim, α_grid_prelim, SOME) #normalize(OUT_EJSD_PRELIM[i, :, :]))\n",
    "    ax[i].set_xscale('log')\n",
    "\n",
    "fig.subplots_adjust(right=0.95)\n",
    "cbar_ax = fig.add_axes([0.98, 0.125, 0.01, 0.75])\n",
    "fig.colorbar(im, cax=cbar_ax)\n",
    "plt.show()"
   ]
  },
  {
   "cell_type": "code",
   "execution_count": null,
   "id": "862788fb",
   "metadata": {},
   "outputs": [],
   "source": []
  },
  {
   "cell_type": "markdown",
   "id": "71eeab12",
   "metadata": {},
   "source": [
    "# Tables"
   ]
  },
  {
   "cell_type": "code",
   "execution_count": 127,
   "id": "8b5d5543",
   "metadata": {},
   "outputs": [],
   "source": [
    "# Settings\n",
    "ϵ = 0.00001\n",
    "δ = 0.1\n",
    "B = 10\n",
    "N = 10000\n",
    "\n",
    "ϵs = [ϵ]\n",
    "δs = [δ]\n",
    "αs = [0.0, 0.5, 0.9, 0.99]"
   ]
  },
  {
   "cell_type": "code",
   "execution_count": 128,
   "id": "c388c29d",
   "metadata": {},
   "outputs": [],
   "source": [
    "OUTS = generate_output(\n",
    "    ϵs=ϵs,\n",
    "    αs=αs,\n",
    "    δs=δs\n",
    ")"
   ]
  },
  {
   "cell_type": "code",
   "execution_count": 129,
   "id": "2578e971",
   "metadata": {},
   "outputs": [
    {
     "name": "stdout",
     "output_type": "stream",
     "text": [
      "8.58\n",
      "6.97\n",
      "8.03\n",
      "8.17\n"
     ]
    }
   ],
   "source": [
    "for i in range(len(αs)):\n",
    "    print(OUTS[i]['ACCEPTANCES'].mean()*100)"
   ]
  },
  {
   "cell_type": "code",
   "execution_count": 91,
   "id": "a66c9044",
   "metadata": {},
   "outputs": [],
   "source": [
    "def percentage_in_interval(iterable, left, right):\n",
    "    \"\"\"Counts the number of elements in `iterable` that are contained in the \n",
    "    interval `[left, right]`.\"\"\"\n",
    "    array = np.array(iterable)\n",
    "    flag = (left <= array) & (array <= right)\n",
    "    return (len(array[flag]) / len(array)) * 100\n",
    "\n",
    "def proportion_lessthan(iterable, value):\n",
    "    \"\"\"Proportion of elements in iterable that are less than value.\"\"\"\n",
    "    array = np.array(iterable)\n",
    "    flag = array <= value\n",
    "    return (sum(flag) / len(array))\n",
    "\n",
    "def find_value_so_prop_Δℓ_larger_new(iterable, p):\n",
    "    N = len(iterable)\n",
    "    return np.sort(np.array(iterable))[int(np.floor(N*np.round(1-p, decimals=2)))]\n",
    "\n",
    "def generate_Δℓ_table_new(outs, props):\n",
    "    \"\"\"This table only works on intervals of the type [L, infty).\"\"\"\n",
    "    table = zeros((len(outs), len(props)))\n",
    "    Ls = []\n",
    "    for p_ix, p in enumerate(props):\n",
    "        # Find value L so that a proportion p of samples have Δℓ larger than L\n",
    "        L = find_value_so_prop_Δℓ_larger_new(outs[0]['Δℓ'], p)\n",
    "        Ls.append(L)\n",
    "        # Fill in the first row of the table\n",
    "        table[0, p_ix] = percentage_in_interval(outs[0]['Δℓ'], L, np.inf) # should be p\n",
    "        # Fill in the rest of the rows for other αs\n",
    "        for α_ix in range(1, len(outs)):\n",
    "            table[α_ix, p_ix] = percentage_in_interval(outs[α_ix]['Δℓ'], L, np.inf)\n",
    "    return table, Ls\n",
    "\n",
    "def generate_latex_table(table, Ls):\n",
    "    \"\"\"Generate table.\"\"\"\n",
    "    s  = r\"\\begin{table}[htp]\"         + \"\\n\"\n",
    "    s += r\"\\begin{tabular}{l|llll}\"    + \"\\n\"\n",
    "    s += r\"& $\\Delta\\ell \\geq {:.2f}$ & $\\Delta\\ell \\geq {:.2f}$ & $\\Delta\\ell \\geq {:.2f}$ & $\\Delta\\ell \\geq {:.2f}$ \\\\ \\hline\".format(*Ls) + \"\\n\"\n",
    "    s += r\"$\\alpha = 0$    & {:.0f} & {:.0f} & {:.0f} & {:.0f} \\\\\".format(*table[0, :]) + \"\\n\"\n",
    "    s += r\"$\\alpha = 0.5$  & {:.2f} & {:.2f} & {:.2f} & {:.2f} \\\\\".format(*table[1, :]) + \"\\n\"\n",
    "    s += r\"$\\alpha = 0.9$  & {:.2f} & {:.2f} & {:.2f} & {:.2f} \\\\\".format(*table[2, :]) + \"\\n\"\n",
    "    s += r\"$\\alpha = 0.99$ & {:.2f} & {:.2f} & {:.2f} & {:.2f}\".format(*table[3, :]) + \"\\n\"\n",
    "    s += r\"\\end{tabular}\" + \"\\n\"\n",
    "    s += r\"\\end{table}\"\n",
    "    print(s)"
   ]
  },
  {
   "cell_type": "code",
   "execution_count": 92,
   "id": "e2ae8e85",
   "metadata": {},
   "outputs": [
    {
     "name": "stdout",
     "output_type": "stream",
     "text": [
      "\\begin{table}[htp]\n",
      "\\begin{tabular}{l|llll}\n",
      "& $\\Delta\\ell \\geq 0.05$ & $\\Delta\\ell \\geq -0.23$ & $\\Delta\\ell \\geq -1.47$ & $\\Delta\\ell \\geq -4.66$ \\\\ \\hline\n",
      "$\\alpha = 0$    & 25 & 50 & 75 & 90 \\\\\n",
      "$\\alpha = 0.5$  & 26.58 & 54.03 & 79.98 & 92.69 \\\\\n",
      "$\\alpha = 0.9$  & 27.68 & 57.70 & 82.23 & 94.06 \\\\\n",
      "$\\alpha = 0.99$ & 26.46 & 58.05 & 82.29 & 93.61\n",
      "\\end{tabular}\n",
      "\\end{table}\n"
     ]
    }
   ],
   "source": [
    "generate_latex_table(*generate_Δℓ_table_new(OUTS, [0.25, 0.5, 0.75, 0.9]))"
   ]
  },
  {
   "cell_type": "code",
   "execution_count": 86,
   "id": "e1ab900a",
   "metadata": {},
   "outputs": [],
   "source": [
    "### CAREFUL! NEED TO MAKE SURE STEP SIZE IS LARGE ENOUGH"
   ]
  },
  {
   "cell_type": "code",
   "execution_count": 87,
   "id": "fbc38632",
   "metadata": {},
   "outputs": [
    {
     "name": "stdout",
     "output_type": "stream",
     "text": [
      "61.56\n",
      "62.370000000000005\n",
      "61.72\n",
      "61.480000000000004\n"
     ]
    }
   ],
   "source": []
  },
  {
   "cell_type": "code",
   "execution_count": null,
   "id": "13376a44",
   "metadata": {},
   "outputs": [],
   "source": []
  }
 ],
 "metadata": {
  "kernelspec": {
   "display_name": "Python 3 (ipykernel)",
   "language": "python",
   "name": "python3"
  },
  "language_info": {
   "codemirror_mode": {
    "name": "ipython",
    "version": 3
   },
   "file_extension": ".py",
   "mimetype": "text/x-python",
   "name": "python",
   "nbconvert_exporter": "python",
   "pygments_lexer": "ipython3",
   "version": "3.10.4"
  }
 },
 "nbformat": 4,
 "nbformat_minor": 5
}
