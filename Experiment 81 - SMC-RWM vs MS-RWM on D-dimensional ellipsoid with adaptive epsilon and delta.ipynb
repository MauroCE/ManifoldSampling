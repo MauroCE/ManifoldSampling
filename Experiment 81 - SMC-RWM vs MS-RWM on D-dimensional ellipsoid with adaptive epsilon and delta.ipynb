{
 "cells": [
  {
   "cell_type": "markdown",
   "id": "5059a5c4",
   "metadata": {},
   "source": [
    "Similar to Experiment 75, but here we use the version of SMC-RWM and MS-RWM that is in the python script. In particular:\n",
    "\n",
    "- Weights are computed and normalized using the log-sum-exp trick.\n",
    "- Sequence of tolerances is chosen adaptively based on quantile of distances.\n",
    "- Particles are initially sampled from the prior but then we set $\\epsilon_0 = \\max d_{i}$ where $d_i$ are the distances between the particle $i$ and the manifold.\n",
    "- Step size is adapted based on the proxy-acceptance-probability"
   ]
  },
  {
   "cell_type": "code",
   "execution_count": 1,
   "id": "27152506",
   "metadata": {},
   "outputs": [],
   "source": [
    "import numpy as np\n",
    "from numpy import zeros, eye, array, diag, exp, ones\n",
    "from numpy.linalg import solve, norm\n",
    "from numpy.random import choice, default_rng\n",
    "from scipy.stats import multivariate_normal as MVN\n",
    "from scipy.special import logsumexp\n",
    "import math\n",
    "import time\n",
    "from copy import deepcopy\n",
    "\n",
    "import matplotlib.pyplot as plt\n",
    "from matplotlib import rc\n",
    "from ipywidgets.widgets import IntSlider\n",
    "from ipywidgets.widgets import interact\n",
    "from warnings import resetwarnings\n",
    "\n",
    "from Manifolds.GeneralizedEllipseNew import GeneralizedEllipse\n",
    "from utils import prep_contour\n",
    "from RWM import RWM\n",
    "from tangential_hug_functions import HugTangential\n",
    "from markov_snippets import MSAdaptive\n",
    "# from markov_snippets import MSAdaptiveTolerancesAdaptiveδUni\n",
    "# from markov_snippets import SMCAdaptiveTolerancesAdaptiveδUni"
   ]
  },
  {
   "cell_type": "code",
   "execution_count": 2,
   "id": "6153d2c2",
   "metadata": {},
   "outputs": [],
   "source": [
    "p = 10\n",
    "μ  = zeros(p)\n",
    "Σ  = diag(np.r_[0.1, ones(p-1)])\n",
    "level_set_value = -23\n",
    "ellipse = GeneralizedEllipse(μ, Σ, exp(level_set_value), prior='uniform', kernel='uniform', prior_scale=10)\n",
    "# πellipse = MVN(μ, Σ)\n",
    "# f = πellipse.logpdf\n",
    "# grad_f = lambda ξ: -solve(Σ, ξ - μ)\n",
    "\n",
    "# def generate_ηϵ(ϵ):\n",
    "#     \"\"\"Generates ηϵ with a uniform kernel.\"\"\"\n",
    "#     def ηϵ(x):\n",
    "#         if np.linalg.norm(f(x) - level_set_value) <= ϵ:\n",
    "#             return 1.0\n",
    "#         else: \n",
    "#             return 0.0\n",
    "#     return ηϵ\n",
    "\n",
    "# def generate_logηϵ(ϵ):\n",
    "#     \"\"\"As above, this is for the uniform kernel but this computes the log density.\"\"\"\n",
    "#     def logηϵ(ξ):\n",
    "#         with np.errstate(divide='ignore'):\n",
    "#             return np.log(float(norm(f(ξ) - level_set_value) <= ϵ)) - np.log(ϵ)\n",
    "#     return logηϵ"
   ]
  },
  {
   "cell_type": "code",
   "execution_count": 3,
   "id": "c6322bb0",
   "metadata": {},
   "outputs": [],
   "source": [
    "def generate_settings(\n",
    "    d=10, \n",
    "    N=5000,\n",
    "    B=20,\n",
    "    δ=0.1,\n",
    "    δmin=1e-3,\n",
    "    δmax=100.0,\n",
    "    εmin=1e-8,\n",
    "    min_pm=1e-4,\n",
    "    maxiter=100,\n",
    "    verbose=True,\n",
    "    εs_fixed=None,\n",
    "    adaptiveε=True,\n",
    "    adaptiveδ=True,\n",
    "    z0_manual=None,\n",
    "    pm_target=0.23,\n",
    "    pm_switch=0.005,\n",
    "    prior_seed=1234,\n",
    "    integrator='rwm',\n",
    "    εprop_switch=0.001,\n",
    "    ε0_manual=None,\n",
    "    quantile_value=0.9,\n",
    "    initialization='prior',\n",
    "    switch_strategy='εprop',\n",
    "    prior='uniform',\n",
    "    kernel='uniform',\n",
    "    prior_scale=20,\n",
    "    thinning=10,\n",
    "    burnin=100):\n",
    "    # Generate the manifold\n",
    "    μ = zeros(p)\n",
    "    Σ = diag(np.r_[0.1, ones(p-1)])  \n",
    "    level_set_value = -23\n",
    "    manifold = GeneralizedEllipse(μ, Σ, exp(level_set_value), prior=prior, kernel=kernel, prior_scale=prior_scale)\n",
    "    # grab arguments\n",
    "    arguments = locals()\n",
    "    return arguments"
   ]
  },
  {
   "cell_type": "code",
   "execution_count": 4,
   "id": "0e7fde2c",
   "metadata": {},
   "outputs": [],
   "source": [
    "# def generate_setting(p, B, δ, N, ϵ0=20, thinning=10, thug=True, verbose=True, initialization='init_RWMϵ0', burnin=100, δ0=0.01, kernel_type='uniform', ϵmin=1e-4, quantile_value=0.01, maxiter=50, ϵprop_switch=0.05, pmoved_switch=0.15, switch_strategy='ap', δmin=1e-4, δmax=100.0, ap_target=0.3, use_autograd=False, init_manifold_prior=True, min_prop_moved=1e-3, seed_for_prior_initialization=1234, prior_scale=10):\n",
    "#     \"\"\"Generates an object from which one can grab the settings. This allows one to run multiple scenarios.\"\"\"\n",
    "#     μ  = zeros(p)\n",
    "#     Σ  = diag(np.r_[0.1, ones(p-1)])             \n",
    "#     level_set_value = -23    \n",
    "#     ellipse = GeneralizedEllipse(μ, Σ, exp(level_set_value), prior='uniform', kernel='uniform', prior_scale=prior_scale)\n",
    "#     ξ0 = ellipse.sample(advanced=True)\n",
    "#     resetwarnings()\n",
    "#     if δ0 is None:\n",
    "#         δ0 = δ\n",
    "#     return {\n",
    "#         'd' : p,\n",
    "#         'ystar': level_set_value,\n",
    "#         'ξ0': ξ0,\n",
    "#         'B': B,\n",
    "#         'δ': δ,\n",
    "#         'N': N,\n",
    "#         'manifold': ellipse,\n",
    "#         'thinning': thinning,\n",
    "#         'thug': thug,\n",
    "#         'verbose': verbose,\n",
    "#         'initialization': initialization,\n",
    "#         'burnin': burnin,\n",
    "#         'δ0': δ0,\n",
    "#         'kernel_type': kernel_type,\n",
    "#         'ϵmin': ϵmin,\n",
    "#         'quantile_value': quantile_value,\n",
    "#         'maxiter': maxiter,\n",
    "#         'ϵprop_switch': ϵprop_switch,\n",
    "#         'pmoved_switch': pmoved_switch,\n",
    "#         'switch_strategy': switch_strategy,\n",
    "#         'δmin': δmin,\n",
    "#         'δmax': δmax,\n",
    "#         'ap_target': ap_target,\n",
    "#         'ϵ0': ϵ0,\n",
    "#         'use_autograd': use_autograd,\n",
    "#         'init_manifold_prior': init_manifold_prior,\n",
    "#         'min_prop_moved': 1e-3,\n",
    "#         'seed_for_prior_initialization': seed_for_prior_initialization\n",
    "#     }"
   ]
  },
  {
   "cell_type": "code",
   "execution_count": 5,
   "id": "589997b2",
   "metadata": {},
   "outputs": [],
   "source": [
    "# SETTINGS = generate_setting(\n",
    "#     p=10,\n",
    "#     B=20, \n",
    "#     δ=0.1, \n",
    "#     N=5000, \n",
    "#     thinning=10, \n",
    "#     δ0=0.01, \n",
    "#     kernel_type='uniform', \n",
    "#     thug=False, \n",
    "#     verbose=True, \n",
    "#     initialization='init_prior', \n",
    "#     burnin=100, \n",
    "#     maxiter=100, \n",
    "#     ϵmin=1e-8, \n",
    "#     quantile_value=0.9,\n",
    "#     δmin=1e-3, \n",
    "#     δmax=100.0, \n",
    "#     ap_target=0.23,\n",
    "#     min_prop_moved=1e-4,\n",
    "#     seed_for_prior_initialization=1234,\n",
    "#     prior_scale=20\n",
    "# )\n",
    "SETTINGS = generate_settings()"
   ]
  },
  {
   "cell_type": "markdown",
   "id": "4245f32e",
   "metadata": {},
   "source": [
    "# Try new class"
   ]
  },
  {
   "cell_type": "code",
   "execution_count": null,
   "id": "39dc2220",
   "metadata": {
    "scrolled": true
   },
   "outputs": [
    {
     "name": "stdout",
     "output_type": "stream",
     "text": [
      "Integrator: RWM.\n",
      "Setting initial epsilon to εmax = 2932.3846964679\n",
      "Iteration:  1\n",
      "\tTrajectories constructed.\n",
      "\tEpsilon: 2233.11184677\n",
      "\tWeights computed and normalized.\n",
      "\tParticles Resampled.\n",
      "\tVelocities refreshed.\n",
      "\tProp Moved: 0.934\n",
      "\tStep-size adapted to: 0.14221929\n",
      "Iteration:  2\n",
      "\tTrajectories constructed.\n",
      "\tEpsilon: 1929.26041404\n",
      "\tWeights computed and normalized.\n",
      "\tParticles Resampled.\n",
      "\tVelocities refreshed.\n",
      "\tProp Moved: 0.930\n",
      "\tStep-size adapted to: 0.20179860\n",
      "Iteration:  3\n",
      "\tTrajectories constructed.\n",
      "\tEpsilon: 1692.65292402\n",
      "\tWeights computed and normalized.\n",
      "\tParticles Resampled.\n",
      "\tVelocities refreshed.\n",
      "\tProp Moved: 0.920\n",
      "\tStep-size adapted to: 0.28490910\n",
      "Iteration:  4\n",
      "\tTrajectories constructed.\n",
      "\tEpsilon: 1502.71739802\n"
     ]
    }
   ],
   "source": [
    "MS_RWM = MSAdaptive(SETTINGS)\n",
    "_ = MS_RWM.sample()"
   ]
  },
  {
   "cell_type": "code",
   "execution_count": null,
   "id": "12d853f3",
   "metadata": {},
   "outputs": [],
   "source": []
  },
  {
   "cell_type": "markdown",
   "id": "d88329fe",
   "metadata": {},
   "source": [
    "# SMC"
   ]
  },
  {
   "cell_type": "code",
   "execution_count": null,
   "id": "e539ab01",
   "metadata": {
    "scrolled": true
   },
   "outputs": [],
   "source": [
    "SMC_RWM = SMCAdaptiveTolerancesAdaptiveδUni(SETTINGS)\n",
    "_ = SMC_RWM.sample()"
   ]
  },
  {
   "cell_type": "markdown",
   "id": "f4b9b1b6",
   "metadata": {},
   "source": [
    "# MS"
   ]
  },
  {
   "cell_type": "code",
   "execution_count": null,
   "id": "bd291a22",
   "metadata": {
    "scrolled": true
   },
   "outputs": [],
   "source": [
    "MS_RWM = MSAdaptiveTolerancesAdaptiveδUni(SETTINGS)\n",
    "_ = MS_RWM.sample()"
   ]
  },
  {
   "cell_type": "markdown",
   "id": "71738eb6",
   "metadata": {},
   "source": [
    "# Comparison"
   ]
  },
  {
   "cell_type": "code",
   "execution_count": null,
   "id": "5393c455",
   "metadata": {},
   "outputs": [],
   "source": [
    "fig, ax = plt.subplots()\n",
    "ax.set_title(\"ϵ\")\n",
    "ax.plot(SMC_RWM.ϵs, label='SMC-RWM')\n",
    "ax.plot(MS_RWM.ϵs, label='MS-RWM')\n",
    "ax.set_yscale('log')\n",
    "ax.legend()\n",
    "plt.show()"
   ]
  },
  {
   "cell_type": "code",
   "execution_count": null,
   "id": "b3d228d9",
   "metadata": {},
   "outputs": [],
   "source": [
    "fig, ax = plt.subplots()\n",
    "ax.set_title(\"ESS per particle\")\n",
    "ax.plot(np.array(SMC_RWM.ESS)/SMC_RWM.N, label='SMC-RWM')\n",
    "ax.plot(np.array(MS_RWM.ESS)/(MS_RWM.N*(MS_RWM.B+1)), label='MS-RWM')\n",
    "ax.legend()\n",
    "plt.show()"
   ]
  },
  {
   "cell_type": "code",
   "execution_count": null,
   "id": "ff25960d",
   "metadata": {},
   "outputs": [],
   "source": [
    "fig, ax = plt.subplots()\n",
    "ax.set_title(\"Step-size\")\n",
    "ax.plot(SMC_RWM.δs, label='SMC-RWM')\n",
    "ax.plot(MS_RWM.δs, label='MS-RWM')\n",
    "ax.legend()\n",
    "plt.show()"
   ]
  },
  {
   "cell_type": "code",
   "execution_count": null,
   "id": "83bbfb56",
   "metadata": {},
   "outputs": [],
   "source": [
    "fig, ax = plt.subplots()\n",
    "ax.set_title(\"AP\")\n",
    "ax.plot(SMC_RWM.aps, label='SMC-RWM')\n",
    "ax.plot(MS_RWM.prop_moved, label='MS-RWM')\n",
    "ax.legend()\n",
    "plt.show()"
   ]
  },
  {
   "cell_type": "code",
   "execution_count": null,
   "id": "73c55c88",
   "metadata": {},
   "outputs": [],
   "source": []
  }
 ],
 "metadata": {
  "kernelspec": {
   "display_name": "Python 3 (ipykernel)",
   "language": "python",
   "name": "python3"
  },
  "language_info": {
   "codemirror_mode": {
    "name": "ipython",
    "version": 3
   },
   "file_extension": ".py",
   "mimetype": "text/x-python",
   "name": "python",
   "nbconvert_exporter": "python",
   "pygments_lexer": "ipython3",
   "version": "3.10.4"
  }
 },
 "nbformat": 4,
 "nbformat_minor": 5
}
