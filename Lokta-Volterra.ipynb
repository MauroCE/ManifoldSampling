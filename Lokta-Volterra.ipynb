{
 "cells": [
  {
   "cell_type": "code",
   "execution_count": 15,
   "metadata": {},
   "outputs": [],
   "source": [
    "from torch.distributions.exponential import Exponential as Exp\n",
    "import torch"
   ]
  },
  {
   "cell_type": "code",
   "execution_count": 2,
   "metadata": {},
   "outputs": [],
   "source": [
    "def compute_rates(th1, th2, th3, th4, X, Y):\n",
    "    \"\"\"Returns, in the following rates in the following order:\n",
    "    (\n",
    "        predator birth rate,\n",
    "        predator death rate,\n",
    "        prey birth rate,\n",
    "        prey eaten rate\n",
    "    )\n",
    "    \"\"\"\n",
    "    return torch.Tensor([th1*X*Y, th2*X, th3*Y, th4*X*Y])"
   ]
  },
  {
   "cell_type": "code",
   "execution_count": 9,
   "metadata": {},
   "outputs": [],
   "source": [
    "a, b, c, d = compute_rates(th1, th2, th3, th4, X, Y)\n",
    "tot = a + b + c + d"
   ]
  },
  {
   "cell_type": "code",
   "execution_count": 23,
   "metadata": {},
   "outputs": [
    {
     "data": {
      "text/plain": [
       "tensor([0.2222, 0.1111, 0.4444, 0.2222])"
      ]
     },
     "execution_count": 23,
     "metadata": {},
     "output_type": "execute_result"
    }
   ],
   "source": [
    "bro = torch.tensor([a / tot, b / tot, c / tot, d /tot])\n",
    "bro "
   ]
  },
  {
   "cell_type": "code",
   "execution_count": 30,
   "metadata": {},
   "outputs": [
    {
     "data": {
      "text/plain": [
       "tensor([0.5314])"
      ]
     },
     "execution_count": 30,
     "metadata": {},
     "output_type": "execute_result"
    }
   ],
   "source": [
    "torch.rand(1)"
   ]
  },
  {
   "cell_type": "code",
   "execution_count": 32,
   "metadata": {},
   "outputs": [
    {
     "data": {
      "text/plain": [
       "0.905464093586389"
      ]
     },
     "execution_count": 32,
     "metadata": {},
     "output_type": "execute_result"
    }
   ],
   "source": [
    "import numpy as np\n",
    "r = np.random.rand()\n",
    "r"
   ]
  },
  {
   "cell_type": "code",
   "execution_count": 34,
   "metadata": {},
   "outputs": [],
   "source": [
    "if 0 <= r <= 0.2:\n",
    "    print(4)"
   ]
  },
  {
   "cell_type": "code",
   "execution_count": null,
   "metadata": {},
   "outputs": [],
   "source": []
  },
  {
   "cell_type": "code",
   "execution_count": null,
   "metadata": {},
   "outputs": [],
   "source": []
  },
  {
   "cell_type": "code",
   "execution_count": 18,
   "metadata": {},
   "outputs": [
    {
     "data": {
      "text/plain": [
       "tensor([2., 4.])"
      ]
     },
     "execution_count": 18,
     "metadata": {},
     "output_type": "execute_result"
    }
   ],
   "source": [
    "torch.Tensor([4, 8]).div(2)"
   ]
  },
  {
   "cell_type": "code",
   "execution_count": null,
   "metadata": {},
   "outputs": [],
   "source": []
  },
  {
   "cell_type": "code",
   "execution_count": null,
   "metadata": {},
   "outputs": [],
   "source": []
  },
  {
   "cell_type": "code",
   "execution_count": null,
   "metadata": {},
   "outputs": [],
   "source": [
    "th1, th2, th3, th4 = 0.01, 0.5, 1.0, 0.01\n",
    "X = 50\n",
    "Y = 100\n",
    "\n",
    "def simulate():\n",
    "    # Compute rates\n",
    "    rates = compute_rates(th1, th2, th3, th4, X, Y)\n",
    "    total_rate = rates.sum()\n",
    "    # Sample a time from exponential distribution\n",
    "    t = Exp(total_rate).sample()\n",
    "    # choose which event happens\n",
    "    norm_cum_rates = (rates / total_rate).cumsum(dim=0)\n",
    "    # sample a uniform random number\n",
    "    r = torch.rand()\n",
    "    zoom\n",
    "    \n",
    "    \n",
    "    prop_rates"
   ]
  }
 ],
 "metadata": {
  "kernelspec": {
   "display_name": "Python 3",
   "language": "python",
   "name": "python3"
  },
  "language_info": {
   "codemirror_mode": {
    "name": "ipython",
    "version": 3
   },
   "file_extension": ".py",
   "mimetype": "text/x-python",
   "name": "python",
   "nbconvert_exporter": "python",
   "pygments_lexer": "ipython3",
   "version": "3.7.4"
  }
 },
 "nbformat": 4,
 "nbformat_minor": 2
}
