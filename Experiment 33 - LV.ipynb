{
 "cells": [
  {
   "cell_type": "code",
   "execution_count": 2,
   "id": "71542465",
   "metadata": {},
   "outputs": [],
   "source": [
    "# import numpy as np\n",
    "# from numpy import sqrt, zeros, exp, log\n",
    "# from numpy.random import exponential, rand, randn, lognormal\n",
    "# from scipy.stats import lognorm\n",
    "# from scipy.stats import norm as ndist\n",
    "# from numpy.linalg import norm\n",
    "\n",
    "import autograd.numpy as np\n",
    "from autograd import grad, jacobian\n",
    "from autograd.numpy import zeros, exp, log\n",
    "from autograd.numpy.random import exponential, rand, randn, lognormal\n",
    "from autograd.numpy.linalg import norm\n",
    "from autograd.scipy.stats import norm as ndist\n",
    "from math import sqrt\n",
    "\n",
    "import matplotlib.pyplot as plt"
   ]
  },
  {
   "cell_type": "code",
   "execution_count": 20,
   "id": "1e15e656",
   "metadata": {},
   "outputs": [],
   "source": [
    "def f(xi, x0=100, y0=100, dt=1.0, sx=1.0, sy=1.0):\n",
    "    \"\"\"Deterministic function for LV simulator. Here xi = (logtheta, u)\n",
    "    because we assign a logNormal prior on the parameters, so it is easier to\n",
    "    work with logtheta.\"\"\"\n",
    "    logtheta, u = xi[:4], xi[4:]\n",
    "    t1, t2, t3, t4 = exp(logtheta)\n",
    "    N = len(u) // 2\n",
    "    xvec = zeros(N+1, dtype=object)\n",
    "    yvec = zeros(N+1, dtype=object)\n",
    "    xvec[0] = x0\n",
    "    yvec[0] = y0\n",
    "    for i in range(N):\n",
    "        xvec[i+1] = max(0, xvec[i] + dt * (t1*xvec[i] - t2*xvec[i]*yvec[i]) + sqrt(dt) * sx * u[2*i])\n",
    "        yvec[i+1] = max(0, yvec[i] + dt * (t4*xvec[i]*yvec[i] - t3*yvec[i]) + sqrt(dt) * sy * u[2*i+1])\n",
    "    return np.concatenate((xvec[1:], yvec[1:]))"
   ]
  },
  {
   "cell_type": "code",
   "execution_count": 21,
   "id": "5872f9c2",
   "metadata": {
    "scrolled": false
   },
   "outputs": [
    {
     "data": {
      "text/plain": [
       "array([[0., 0., 0., ..., 0., 0., 0.],\n",
       "       [0., 0., 0., ..., 0., 0., 0.],\n",
       "       [0., 0., 0., ..., 0., 0., 0.],\n",
       "       ...,\n",
       "       [0., 0., 0., ..., 0., 0., 0.],\n",
       "       [0., 0., 0., ..., 0., 0., 0.],\n",
       "       [0., 0., 0., ..., 0., 0., 0.]])"
      ]
     },
     "execution_count": 21,
     "metadata": {},
     "output_type": "execute_result"
    }
   ],
   "source": [
    "jacobian_f = jacobian(f)\n",
    "jacobian_f(xi_star)"
   ]
  },
  {
   "cell_type": "code",
   "execution_count": 119,
   "id": "bc92a21f",
   "metadata": {},
   "outputs": [],
   "source": [
    "def fnorm(xi, ystar):\n",
    "    return norm(f(xi) - ystar)"
   ]
  },
  {
   "cell_type": "code",
   "execution_count": 120,
   "id": "40736387",
   "metadata": {},
   "outputs": [],
   "source": [
    "def logprior(xi):\n",
    "    \"\"\"logtheta ~ N(-2, 1.0) for each theta. Remember xi contains\n",
    "    logtheta and not theta. We assign a normal prior to the latents.\"\"\"\n",
    "    logtheta, u = xi[:4], xi[4:]\n",
    "    return ndist(loc=-2, scale=1.0).logpdf(logtheta).sum() + ndist.logpdf(xi[4:]).sum()"
   ]
  },
  {
   "cell_type": "code",
   "execution_count": 121,
   "id": "3677c8c3",
   "metadata": {},
   "outputs": [],
   "source": [
    "def log_epanechnikov_kernel(xi, epsilon, fnorm, ystar):\n",
    "    u = fnorm(xi, ystar)\n",
    "    with np.errstate(divide='ignore'):\n",
    "        return log((3*(1 - (u**2 / (epsilon**2))) / (4*epsilon)) * float(u <= epsilon))"
   ]
  },
  {
   "cell_type": "code",
   "execution_count": 122,
   "id": "16a955f6",
   "metadata": {},
   "outputs": [],
   "source": [
    "def log_abc_posterior(xi, epsilon, fnorm, ystar):\n",
    "    return logprior(xi) + log_epanechnikov_kernel(xi, epsilon, fnorm, ystar)"
   ]
  },
  {
   "cell_type": "code",
   "execution_count": 3,
   "id": "cc3d3580",
   "metadata": {},
   "outputs": [],
   "source": [
    "N = 100\n",
    "u_star = randn(N)\n",
    "theta_star = np.array([0.4, 0.005, 0.05, 0.001])\n",
    "log_theta_star = log(theta_star)\n",
    "xi_star = np.concatenate((log_theta_star, u_star))\n",
    "epsilon = 100"
   ]
  },
  {
   "cell_type": "code",
   "execution_count": 4,
   "id": "fcdca6f2",
   "metadata": {},
   "outputs": [],
   "source": [
    "y_star = f(xi_star)"
   ]
  },
  {
   "cell_type": "code",
   "execution_count": 5,
   "id": "f62fdeef",
   "metadata": {},
   "outputs": [],
   "source": [
    "logpi = lambda xi: log_abc_posterior(xi, epsilon, fnorm, y_star)"
   ]
  },
  {
   "cell_type": "code",
   "execution_count": 6,
   "id": "233a04a9",
   "metadata": {},
   "outputs": [
    {
     "data": {
      "image/png": "[encoded data removed]",
      "text/plain": [
       "<Figure size 720x432 with 1 Axes>"
      ]
     },
     "metadata": {
      "needs_background": "light"
     },
     "output_type": "display_data"
    }
   ],
   "source": [
    "fig, ax = plt.subplots(figsize=(10, 6))\n",
    "ax.plot(y_star[:N//2], label=\"Prey\")\n",
    "ax.plot(y_star[N//2:], label=\"Predator\")\n",
    "plt.legend()\n",
    "plt.show()"
   ]
  },
  {
   "cell_type": "code",
   "execution_count": 24,
   "id": "909eedab",
   "metadata": {},
   "outputs": [],
   "source": [
    "from scipy.stats import lognorm"
   ]
  },
  {
   "cell_type": "code",
   "execution_count": 29,
   "id": "bfbff8ec",
   "metadata": {},
   "outputs": [],
   "source": [
    "from numpy.random import lognormal"
   ]
  },
  {
   "cell_type": "code",
   "execution_count": 47,
   "id": "18459f24",
   "metadata": {},
   "outputs": [
    {
     "data": {
      "image/png": "[encoded data removed]",
      "text/plain": [
       "<Figure size 432x288 with 1 Axes>"
      ]
     },
     "metadata": {
      "needs_background": "light"
     },
     "output_type": "display_data"
    }
   ],
   "source": [
    "_ = plt.hist(lognormal(size=10000), bins=25)"
   ]
  },
  {
   "cell_type": "code",
   "execution_count": 48,
   "id": "ccafccc9",
   "metadata": {},
   "outputs": [
    {
     "data": {
      "image/png": "[encoded data removed]",
      "text/plain": [
       "<Figure size 432x288 with 1 Axes>"
      ]
     },
     "metadata": {
      "needs_background": "light"
     },
     "output_type": "display_data"
    }
   ],
   "source": [
    "_ = plt.hist(np.log(lognormal(size=10000)), bins=25)"
   ]
  },
  {
   "cell_type": "code",
   "execution_count": 49,
   "id": "4b8de5f9",
   "metadata": {},
   "outputs": [
    {
     "data": {
      "image/png": "[encoded data removed]",
      "text/plain": [
       "<Figure size 432x288 with 1 Axes>"
      ]
     },
     "metadata": {
      "needs_background": "light"
     },
     "output_type": "display_data"
    }
   ],
   "source": [
    "_ = plt.hist(np.log(lognormal(mean=-2, size=10000)), bins=25)"
   ]
  },
  {
   "cell_type": "code",
   "execution_count": 67,
   "id": "2f61ae58",
   "metadata": {},
   "outputs": [
    {
     "data": {
      "text/plain": [
       "0.2225080670623931"
      ]
     },
     "execution_count": 67,
     "metadata": {},
     "output_type": "execute_result"
    }
   ],
   "source": [
    "lognormal(mean=-2, sigma=1.0, size=1000000).mean()"
   ]
  },
  {
   "cell_type": "code",
   "execution_count": 72,
   "id": "ad36d5a3",
   "metadata": {},
   "outputs": [
    {
     "data": {
      "text/plain": [
       "0.22217431637131374"
      ]
     },
     "execution_count": 72,
     "metadata": {},
     "output_type": "execute_result"
    }
   ],
   "source": [
    "lognorm(s=1.0, scale=exp(-2))"
   ]
  },
  {
   "cell_type": "code",
   "execution_count": null,
   "id": "e1b505a8",
   "metadata": {},
   "outputs": [],
   "source": []
  }
 ],
 "metadata": {
  "kernelspec": {
   "display_name": "Python 3 (ipykernel)",
   "language": "python",
   "name": "python3"
  },
  "language_info": {
   "codemirror_mode": {
    "name": "ipython",
    "version": 3
   },
   "file_extension": ".py",
   "mimetype": "text/x-python",
   "name": "python",
   "nbconvert_exporter": "python",
   "pygments_lexer": "ipython3",
   "version": "3.8.10"
  }
 },
 "nbformat": 4,
 "nbformat_minor": 5
}
