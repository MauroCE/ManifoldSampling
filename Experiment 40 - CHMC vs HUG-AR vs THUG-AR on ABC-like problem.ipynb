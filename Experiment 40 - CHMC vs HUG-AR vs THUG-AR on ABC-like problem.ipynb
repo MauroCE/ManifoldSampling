{
 "cells": [
  {
   "cell_type": "code",
   "execution_count": 8,
   "id": "4a3d7050",
   "metadata": {},
   "outputs": [],
   "source": [
    "import numpy as np\n",
    "from numpy import load\n",
    "import matplotlib.pyplot as plt\n",
    "from re import sub"
   ]
  },
  {
   "cell_type": "code",
   "execution_count": 18,
   "id": "caa3ee28",
   "metadata": {},
   "outputs": [],
   "source": [
    "folder = \"dumper10/\"#\"dumper9/\"#\"experiment40/\"\n",
    "\n",
    "N_CONSTR_EVAL_CHMC   = load(folder + \"N_CONSTR_EVAL_CHMC.npy\")\n",
    "N_JAC_CONSTR_CHMC    = load(folder + \"N_JAC_CONSTR_CHMC.npy\")\n",
    "N_GRAD_LOG_DENS_CHMC = load(folder + \"N_GRAD_LOG_DENS_CHMC.npy\")\n",
    "N_GRAM_CHMC          = load(folder + \"N_GRAM_CHMC.npy\")\n",
    "N_LOG_DENS_CHMC      = load(folder + \"N_LOG_DENS_CHMC.npy\")\n",
    "LOGPI_ESS_CHMC       = load(folder + \"LOGPI_ESS_CHMC.npy\")\n",
    "CONSTR_PER_ESS_CHMC  = load(folder + \"CONSTR_PER_ESS_CHMC.npy\")\n",
    "C_AND_J_PER_ESS_CHMC = load(folder + \"C_AND_J_PER_ESS_CHMC.npy\")\n",
    "C_J_GLD_PER_ESS_CHMC = load(folder + \"C_J_GLD_PER_ESS_CHMC.npy\")\n",
    "ACCEPT_STAT_CHMC     = load(folder + \"ACCEPT_STAT_CHMC.npy\")\n",
    "RMSE_CHMC            = load(folder + \"RMSE_CHMC.npy\")\n",
    "\n",
    "N_CONSTR_EVAL_HUG   = load(folder + \"N_CONSTR_EVAL_HUG.npy\")\n",
    "N_JAC_CONSTR_HUG    = load(folder + \"N_JAC_CONSTR_HUG.npy\")\n",
    "LOGPI_ESS_HUG       = load(folder + \"LOGPI_ESS_HUG.npy\")\n",
    "CONSTR_PER_ESS_HUG  = load(folder + \"CONSTR_PER_ESS_HUG.npy\")\n",
    "C_AND_J_PER_ESS_HUG = load(folder + \"C_AND_J_PER_ESS_HUG.npy\")\n",
    "ACCEPT_STAT_HUG     = load(folder + \"ACCEPT_STAT_HUG.npy\")\n",
    "RMSE_HUG            = load(folder + \"RMSE_HUG.npy\")\n",
    "\n",
    "N_CONSTR_EVAL_THUG   = load(folder + \"N_CONSTR_EVAL_THUG.npy\")\n",
    "N_JAC_CONSTR_THUG    = load(folder + \"N_JAC_CONSTR_THUG.npy\")\n",
    "LOGPI_ESS_THUG       = load(folder + \"LOGPI_ESS_THUG.npy\")\n",
    "CONSTR_PER_ESS_THUG  = load(folder + \"CONSTR_PER_ESS_THUG.npy\")\n",
    "C_AND_J_PER_ESS_THUG = load(folder + \"C_AND_J_PER_ESS_THUG.npy\")\n",
    "ACCEPT_STAT_THUG     = load(folder + \"ACCEPT_STAT_THUG.npy\")\n",
    "RMSE_THUG            = load(folder + \"RMSE_THUG.npy\")\n",
    "\n",
    "EPSILONS = load(folder + \"EPSILONS.npy\")\n",
    "ALPHAS   = load(folder + \"ALPHAS.npy\")\n",
    "RHO      = load(folder + \"RHO.npy\")"
   ]
  },
  {
   "cell_type": "code",
   "execution_count": 21,
   "id": "2f2dc971",
   "metadata": {},
   "outputs": [],
   "source": [
    "def create_latex_table(ϵs, αs):\n",
    "    ϵs_string = [sub('(?<=-)0+', '', '{:.0e}'.format(ϵ)) for ϵ in ϵs]\n",
    "    string = r'\\begin{table}'\n",
    "    string += \"\\n\\t\" + r'\\begin{tabular}{ | l | l | l | l | l | l | l | l | l | l |}'\n",
    "    string += \"\\n\\t\" + r'\\hline'\n",
    "    string += \"\\n\\t\" + \"Algorithm & RMSE & $J_f$ & $f$ & $J_f J_f^\\\\top$ & $\\\\nabla\\log\\overline{\\pi}$ & ESS & C-ESS & CJ-ESS & AP \\\\\\ \\hline\"\n",
    "    string += \"\\n\\t\" + \"C-HMC & {:.1} & {} & {} & {} & {} & {} & {} & {} & {:.2f}  \\\\\\ \\hline\".format(RMSE_CHMC.mean(), int(N_JAC_CONSTR_CHMC.mean()), int(N_CONSTR_EVAL_CHMC.mean()), int(N_GRAM_CHMC.mean()), int(N_GRAD_LOG_DENS_CHMC.mean()), int(LOGPI_ESS_CHMC.mean()), int(CONSTR_PER_ESS_CHMC.mean()), int(C_AND_J_PER_ESS_CHMC.mean()), ACCEPT_STAT_CHMC.mean())\n",
    "    for i in range(len(ϵs)):\n",
    "        string += \"\\n\\t\" + \"HAR ($\\epsilon = \\\\num{{{}}}$) & {:.1} & {} & {} & {} & {} & {} & {} & {} & {:.2f} \\\\\\ \\hline\".format(ϵs_string[i], RMSE_HUG.mean(axis=0)[i], int(N_JAC_CONSTR_HUG.mean(axis=0)[i]), int(N_CONSTR_EVAL_HUG.mean(axis=0)[i]), 0, 0, int(LOGPI_ESS_HUG.mean(axis=0)[i]), int(CONSTR_PER_ESS_HUG.mean(axis=0)[i]), int(C_AND_J_PER_ESS_HUG.mean(axis=0)[i]), ACCEPT_STAT_HUG.mean(axis=0)[i])\n",
    "    for i, ϵ in enumerate(ϵs):\n",
    "        string += \"\\n\\t\" + \"TAR ($\\\\alpha={},\\epsilon = \\\\num{{{}}}$) & {:.1} & {} & {} & {} & {} & {} & {} & {} & {:.2f} \\\\\\ \\hline\".format(αs[i], ϵs_string[i], RMSE_THUG.mean(axis=0)[i], int(N_JAC_CONSTR_THUG.mean(axis=0)[i]), int(N_CONSTR_EVAL_THUG.mean(axis=0)[i]), 0, 0, int(LOGPI_ESS_THUG.mean(axis=0)[i]), int(CONSTR_PER_ESS_THUG.mean(axis=0)[i]), int(C_AND_J_PER_ESS_THUG.mean(axis=0)[i]), ACCEPT_STAT_THUG.mean(axis=0)[i])\n",
    "    string = string[:-6] # remove last \\\\hline\n",
    "    string += \"\\n\\t\" + r'\\hline'\n",
    "    string += \"\\n\\t\" + r'\\end{tabular}'\n",
    "    string += \"\\n\" + r'\\end{table}'\n",
    "    return string"
   ]
  },
  {
   "cell_type": "code",
   "execution_count": 22,
   "id": "e564ffee",
   "metadata": {},
   "outputs": [
    {
     "name": "stdout",
     "output_type": "stream",
     "text": [
      "\\begin{table}\n",
      "\t\\begin{tabular}{ | l | l | l | l | l | l | l | l | l | l |}\n",
      "\t\\hline\n",
      "\tAlgorithm & RMSE & $J_f$ & $f$ & $J_f J_f^\\top$ & $\\nabla\\log\\overline{\\pi}$ & ESS & C-ESS & CJ-ESS & AP \\\\ \\hline\n",
      "\tC-HMC & 8e-11 & 48126 & 519684 & 48126 & 48133 & 166 & 11364 & 12263 & 0.47  \\\\ \\hline\n",
      "\tHAR ($\\epsilon = \\num{1e-3}$) & 0.0005 & 50000 & 10001 & 0 & 0 & 190 & 55 & 334 & 0.58 \\\\ \\hline\n",
      "\tHAR ($\\epsilon = \\num{1e-7}$) & 5e-08 & 50000 & 10001 & 0 & 0 & 11 & 1203 & 7223 & 0.00 \\\\ \\hline\n",
      "\tHAR ($\\epsilon = \\num{1e-10}$) & 1e-15 & 50000 & 10001 & 0 & 0 & 1 & 10000 & 60000 & 0.00 \\\\ \\hline\n",
      "\tTAR ($\\alpha=0.9,\\epsilon = \\num{1e-3}$) & 0.0004 & 60001 & 10001 & 0 & 0 & 71 & 160 & 1119 & 0.42 \\\\ \\hline\n",
      "\tTAR ($\\alpha=0.99,\\epsilon = \\num{1e-7}$) & 4e-08 & 60001 & 10001 & 0 & 0 & 20 & 862 & 6035 & 0.06 \\\\ \\hline\n",
      "\tTAR ($\\alpha=0.999,\\epsilon = \\num{1e-10}$) & 4e-11 & 60001 & 10001 & 0 & 0 & 8 & 1486 & 10403 & 0.00 \\\\ \n",
      "\t\\hline\n",
      "\t\\end{tabular}\n",
      "\\end{table}\n"
     ]
    }
   ],
   "source": [
    "print(create_latex_table(EPSILONS, ALPHAS))"
   ]
  },
  {
   "cell_type": "code",
   "execution_count": null,
   "id": "1c0c1b67",
   "metadata": {},
   "outputs": [],
   "source": []
  }
 ],
 "metadata": {
  "kernelspec": {
   "display_name": "Python 3 (ipykernel)",
   "language": "python",
   "name": "python3"
  },
  "language_info": {
   "codemirror_mode": {
    "name": "ipython",
    "version": 3
   },
   "file_extension": ".py",
   "mimetype": "text/x-python",
   "name": "python",
   "nbconvert_exporter": "python",
   "pygments_lexer": "ipython3",
   "version": "3.8.10"
  }
 },
 "nbformat": 4,
 "nbformat_minor": 5
}
