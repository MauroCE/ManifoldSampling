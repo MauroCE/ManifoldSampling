{
 "cells": [
  {
   "cell_type": "markdown",
   "metadata": {},
   "source": [
    "# Two Moon - Distance Manifold - Hug (No Tangential)"
   ]
  },
  {
   "cell_type": "code",
   "execution_count": 2,
   "metadata": {},
   "outputs": [],
   "source": [
    "import numpy as np\n",
    "import matplotlib.pyplot as plt\n",
    "from math import sqrt, cos, sin\n",
    "from numpy.linalg import svd, inv\n",
    "from scipy.stats import multivariate_normal\n",
    "from numpy.random import uniform, normal\n",
    "from numpy.linalg import norm\n",
    "from scipy.optimize import fsolve"
   ]
  },
  {
   "cell_type": "markdown",
   "metadata": {},
   "source": [
    "# Helper Functions"
   ]
  },
  {
   "cell_type": "code",
   "execution_count": 3,
   "metadata": {},
   "outputs": [],
   "source": [
    "def proj(A):\n",
    "    \"\"\"Computes projection matrix onto space spanned by columns of A\"\"\"\n",
    "    return A @ (inv(A.T @ A) @ A.T)"
   ]
  },
  {
   "cell_type": "markdown",
   "metadata": {},
   "source": [
    "# Two Moon Simulator"
   ]
  },
  {
   "cell_type": "code",
   "execution_count": 5,
   "metadata": {},
   "outputs": [],
   "source": [
    "def TM_simulator(xi):\n",
    "    \"\"\"Two Moons deterministic simulator for ABC.\"\"\"\n",
    "    t0, t1, a, r = xi[0], xi[1], xi[2], xi[3]\n",
    "    p = np.array([r * np.cos(a) + 0.25, r * np.sin(a)])\n",
    "    return p + np.array([-np.abs(t0 + t1), (-t0 + t1)]) / sqrt(2)"
   ]
  },
  {
   "cell_type": "code",
   "execution_count": 37,
   "metadata": {},
   "outputs": [],
   "source": [
    "def gradient(xi):\n",
    "    \"\"\"Computes Q. This is the transpose of the Jacobian.\"\"\"\n",
    "    t1, t2, a, r = xi\n",
    "    val = - (t1 + t2) / (abs(t1 + t2) * sqrt(2))\n",
    "    return np.array([\n",
    "        [val, val, -r * sin(a), cos(a)],\n",
    "        [-1/sqrt(2), 1/sqrt(2), r * cos(a), sin(a)]\n",
    "    ]).T\n",
    "\n",
    "def tangent(g):\n",
    "    \"\"\"Computes tangent given a gradient g\"\"\"\n",
    "    return svd(g)[0][:, 2:]\n",
    "\n",
    "def tcov(lam, mu, t):\n",
    "    \"\"\"Computes tangential covariance\"\"\"\n",
    "    return ((mu**2)*np.eye(4) + (lam**2 - mu**2)*proj(t)) / np.linalg.norm(t)**2"
   ]
  },
  {
   "cell_type": "markdown",
   "metadata": {},
   "source": [
    "# Observed Data"
   ]
  },
  {
   "cell_type": "code",
   "execution_count": 38,
   "metadata": {},
   "outputs": [],
   "source": [
    "y_star = np.zeros(2)"
   ]
  },
  {
   "cell_type": "markdown",
   "metadata": {},
   "source": [
    "# Initial Point (on Manifold)"
   ]
  },
  {
   "cell_type": "code",
   "execution_count": 39,
   "metadata": {},
   "outputs": [],
   "source": [
    "# Sample randomly the seeds\n",
    "a0 = uniform(low=-np.pi/2, high=np.pi/2)\n",
    "r0 = normal(loc=0.1, scale=0.01)\n",
    "# Start with a guess\n",
    "guess = np.array([0, 0, a0, r0])\n",
    "# Find point on manifold using optimization\n",
    "func = lambda xi: np.r_[TM_simulator(xi) - y_star, 0, 0]  # Append 0, 0 to make fsolve work.\n",
    "xi0 = fsolve(func, guess)"
   ]
  },
  {
   "cell_type": "markdown",
   "metadata": {},
   "source": [
    "# Tangential Hug Settings"
   ]
  },
  {
   "cell_type": "code",
   "execution_count": 11,
   "metadata": {},
   "outputs": [
    {
     "data": {
      "text/plain": [
       "array([[-0.70710678, -0.70710678],\n",
       "       [-0.70710678,  0.70710678],\n",
       "       [-0.11189476,  0.00697233],\n",
       "       [ 0.06219092,  0.99806427]])"
      ]
     },
     "execution_count": 11,
     "metadata": {},
     "output_type": "execute_result"
    }
   ],
   "source": []
  },
  {
   "cell_type": "markdown",
   "metadata": {},
   "source": [
    "# Run THug (no function)"
   ]
  },
  {
   "cell_type": "code",
   "execution_count": 19,
   "metadata": {},
   "outputs": [],
   "source": [
    "# Compute gradient basis at xi0\n",
    "g0 = gradient(xi0)\n",
    "# Compute tangent basis at xi0 \n",
    "t0 = tangent(g0)\n",
    "# Instantiate tangential MVN\n",
    "#multivariate_normal()"
   ]
  },
  {
   "cell_type": "code",
   "execution_count": 23,
   "metadata": {},
   "outputs": [
    {
     "data": {
      "text/plain": [
       "array([[-0.08352208,  0.52867321],\n",
       "       [-0.07485918, -0.46940157],\n",
       "       [ 0.9936041 ,  0.01838085],\n",
       "       [-0.01307865,  0.70698582]])"
      ]
     },
     "execution_count": 23,
     "metadata": {},
     "output_type": "execute_result"
    }
   ],
   "source": [
    "t0"
   ]
  },
  {
   "cell_type": "code",
   "execution_count": 30,
   "metadata": {},
   "outputs": [
    {
     "data": {
      "text/plain": [
       "(4, 4)"
      ]
     },
     "execution_count": 30,
     "metadata": {},
     "output_type": "execute_result"
    }
   ],
   "source": [
    "t0 @ (inv(t0.T @ t0) @ t0.T)"
   ]
  },
  {
   "cell_type": "code",
   "execution_count": 33,
   "metadata": {},
   "outputs": [
    {
     "data": {
      "text/plain": [
       "array([[ 2.86471300e-01, -2.41907640e-01, -7.32704168e-02,\n",
       "         3.74856818e-01],\n",
       "       [-2.41907640e-01,  2.25941730e-01, -8.30083899e-02,\n",
       "        -3.30881196e-01],\n",
       "       [-7.32704168e-02, -8.30083899e-02,  9.87586970e-01,\n",
       "         1.21430643e-17],\n",
       "       [ 3.74856818e-01, -3.30881196e-01,  1.04083409e-17,\n",
       "         5.00000000e-01]])"
      ]
     },
     "execution_count": 33,
     "metadata": {},
     "output_type": "execute_result"
    }
   ],
   "source": [
    "proj(t0)"
   ]
  },
  {
   "cell_type": "markdown",
   "metadata": {},
   "source": [
    "# Display\n"
   ]
  },
  {
   "cell_type": "code",
   "execution_count": null,
   "metadata": {},
   "outputs": [],
   "source": [
    "fig, ax = plt.subplots(figsize=(10,10))\n",
    "\n",
    "# Prettify"
   ]
  },
  {
   "cell_type": "markdown",
   "metadata": {},
   "source": [
    "# Check if two versions are equivalent"
   ]
  },
  {
   "cell_type": "code",
   "execution_count": null,
   "metadata": {},
   "outputs": [],
   "source": []
  }
 ],
 "metadata": {
  "@webio": {
   "lastCommId": null,
   "lastKernelId": null
  },
  "kernelspec": {
   "display_name": "Python 3",
   "language": "python",
   "name": "python3"
  },
  "language_info": {
   "codemirror_mode": {
    "name": "ipython",
    "version": 3
   },
   "file_extension": ".py",
   "mimetype": "text/x-python",
   "name": "python",
   "nbconvert_exporter": "python",
   "pygments_lexer": "ipython3",
   "version": "3.7.4"
  }
 },
 "nbformat": 4,
 "nbformat_minor": 2
}
