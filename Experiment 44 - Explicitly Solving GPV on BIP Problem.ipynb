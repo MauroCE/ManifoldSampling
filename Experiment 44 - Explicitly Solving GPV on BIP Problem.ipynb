{
 "cells": [
  {
   "cell_type": "code",
   "execution_count": 1,
   "id": "9a09b659",
   "metadata": {},
   "outputs": [],
   "source": [
    "from bip_functions import FL, FL_broadcast, logpriorL, sample_priorL\n",
    "from bip_functions import log_epanechnikov_kernelL, log_posteriorL, grad_FL, hess_FL\n",
    "\n",
    "from tangential_hug_functions import Hug, HugTangential\n",
    "\n",
    "from scipy.stats import multivariate_normal as MVN\n",
    "from numpy import zeros, eye, sqrt\n",
    "import matplotlib.pyplot as plt\n",
    "import numpy as np\n",
    "from numpy.linalg import norm"
   ]
  },
  {
   "cell_type": "markdown",
   "id": "0e432c09",
   "metadata": {},
   "source": [
    "#### Hug"
   ]
  },
  {
   "cell_type": "code",
   "execution_count": 2,
   "id": "d9297eab",
   "metadata": {},
   "outputs": [],
   "source": [
    "# Settings\n",
    "T = 1.0\n",
    "B = 5\n",
    "N = 8000\n",
    "q = MVN(zeros(3), eye(3))\n",
    "y = 1.0\n",
    "σ = 0.001\n",
    "ϵ = 0.01\n",
    "\n",
    "# Deterministic function, gradient and hessian\n",
    "f      = lambda ξ: ξ[1]**2 + 3*(ξ[0]**2)*(ξ[0]**2 - 1) + σ*ξ[2]\n",
    "grad_f = lambda ξ: np.array([12*(ξ[0]**3) - 6*ξ[0], 2*ξ[1], σ])\n",
    "hess_f = lambda ξ: np.array([[36*(ξ[0]**2) - 6, 0, 0], [0, 2, 0], [0, 0, 0]])\n",
    "\n",
    "# Posterior distribution \n",
    "logpi = lambda x: log_posteriorL(x, ϵ, σ, y)"
   ]
  },
  {
   "cell_type": "code",
   "execution_count": 3,
   "id": "40164abf",
   "metadata": {},
   "outputs": [],
   "source": [
    "# need to find point near manifold, right now do it in a crude way\n",
    "def find_starting_point(n_attempts=1000):\n",
    "    x_start = None\n",
    "    for i in range(1000):\n",
    "        x0 = sample_priorL()\n",
    "        if log_posteriorL(x0, ϵ, σ, y) > -np.inf:\n",
    "            x_start = x0\n",
    "            break\n",
    "    if x_start is None:\n",
    "        print(\"None found.\")\n",
    "    return x_start\n",
    "x0 = find_starting_point()"
   ]
  },
  {
   "cell_type": "code",
   "execution_count": 4,
   "id": "7a17ef64",
   "metadata": {},
   "outputs": [],
   "source": [
    "# Need to find point \n",
    "samples, acceptances = Hug(x0, T, B, N, q, logpi, grad_f)"
   ]
  },
  {
   "cell_type": "code",
   "execution_count": 5,
   "id": "c60d0545",
   "metadata": {},
   "outputs": [
    {
     "data": {
      "image/png": "[encoded data removed]",
      "text/plain": [
       "<Figure size 432x288 with 1 Axes>"
      ]
     },
     "metadata": {
      "needs_background": "light"
     },
     "output_type": "display_data"
    }
   ],
   "source": [
    "plt.scatter(*samples[:, :2].T)\n",
    "plt.show()"
   ]
  },
  {
   "cell_type": "markdown",
   "id": "9e4286c5",
   "metadata": {},
   "source": [
    "### GPV"
   ]
  },
  {
   "cell_type": "code",
   "execution_count": 6,
   "id": "cdc239da",
   "metadata": {},
   "outputs": [],
   "source": [
    "from numpy.random import rand\n",
    "from autograd.numpy.linalg import norm\n",
    "import autograd.numpy as anp\n",
    "from autograd import jacobian, hessian\n",
    "from scipy.optimize import fsolve"
   ]
  },
  {
   "cell_type": "code",
   "execution_count": 7,
   "id": "494a381d",
   "metadata": {},
   "outputs": [],
   "source": [
    "def integratorγ2(ξ):\n",
    "    \"\"\"This integrator always chooses γ1.\"\"\"\n",
    "    n = len(ξ) // 2\n",
    "    x0, v0 = ξ[:n], ξ[n:]\n",
    "    x1 = x0 + (δ/2)*v0\n",
    "    g1 = grad_f(x1); gnorm1 = norm(g1); g1hat = g1 / gnorm1\n",
    "    H1 = hess_f(x1)\n",
    "    b = -(δ/2)* g1hat / gnorm1\n",
    "    a = v0 + b * (v0 @ (H1 @ v0))\n",
    "    c1 = b @ (H1 @ b)\n",
    "    c2 = 2 * a @ (H1 @ b) - 1\n",
    "    c3 = a @ (H1 @ a)\n",
    "    Δ = c2**2 - 4*c1*c3\n",
    "    print(\"Δ: \", Δ)\n",
    "    if Δ >= 0:\n",
    "        γ = (-c2 - sqrt(Δ)) / (2*c1)\n",
    "        v1 = a + b*γ\n",
    "        x2 = x1 + (δ/2) * v1\n",
    "        return np.concatenate((x2, v1))\n",
    "    else:\n",
    "        print(\"Discriminat is negative.\")\n",
    "        return np.concatenate((x0, -v0))"
   ]
  },
  {
   "cell_type": "markdown",
   "id": "a775d56f",
   "metadata": {},
   "source": [
    "### Reversibility"
   ]
  },
  {
   "cell_type": "code",
   "execution_count": 8,
   "id": "5ff017ca",
   "metadata": {},
   "outputs": [],
   "source": [
    "def check_reversibility(integrator, ξ, δ):\n",
    "    out  = integrator(ξ)\n",
    "    out1 = np.concatenate((out[:3], -out[3:]))\n",
    "    out2 = integrator(out1)\n",
    "    out3 = np.concatenate((out2[:3], -out2[3:]))\n",
    "    return ξ - out3"
   ]
  },
  {
   "cell_type": "code",
   "execution_count": 9,
   "id": "4595044e",
   "metadata": {},
   "outputs": [],
   "source": [
    "# Random starting point\n",
    "x0 = find_starting_point()\n",
    "v0 = q.rvs()\n",
    "ξ = np.concatenate((x0, v0))\n",
    "δ = T / B"
   ]
  },
  {
   "cell_type": "code",
   "execution_count": 10,
   "id": "0556fff0",
   "metadata": {},
   "outputs": [
    {
     "name": "stdout",
     "output_type": "stream",
     "text": [
      "Δ:  1.5498657129088418\n",
      "Δ:  0.43381387568802054\n"
     ]
    },
    {
     "data": {
      "text/plain": [
       "array([-1.11022302e-16,  0.00000000e+00,  0.00000000e+00,  1.11022302e-16,\n",
       "        2.22044605e-16,  0.00000000e+00])"
      ]
     },
     "execution_count": 10,
     "metadata": {},
     "output_type": "execute_result"
    }
   ],
   "source": [
    "check_reversibility(integratorγ2, ξ, δ)"
   ]
  },
  {
   "cell_type": "code",
   "execution_count": 11,
   "id": "0e11a582",
   "metadata": {},
   "outputs": [],
   "source": [
    "import autograd.numpy as anp\n",
    "from autograd import jacobian"
   ]
  },
  {
   "cell_type": "code",
   "execution_count": 12,
   "id": "6bf852dc",
   "metadata": {},
   "outputs": [],
   "source": [
    "# Re-define functions\n",
    "grad_f_anp = lambda ξ: anp.array([12*(ξ[0]**3) - 6*ξ[0], 2*ξ[1], σ])\n",
    "hess_f_anp = lambda ξ: anp.array([[36*(ξ[0]**2) - 6, 0, 0], [0, 2, 0], [0, 0, 0]])"
   ]
  },
  {
   "cell_type": "code",
   "execution_count": 432,
   "id": "2b75f37a",
   "metadata": {},
   "outputs": [],
   "source": [
    "def integratorγ2_function(ξ):\n",
    "    \"\"\"This integrator always chooses γ1.\"\"\"\n",
    "    n = len(ξ) // 2\n",
    "    x0, v0 = ξ[:n], ξ[n:]\n",
    "    x1 = x0 + (δ/2)*v0\n",
    "    g1 = grad_f_anp(x1); gnorm1 = anp.linalg.norm(g1); g1hat = g1 / gnorm1\n",
    "    H1 = hess_f_anp(x1)\n",
    "    b = -(δ/2)* g1hat / gnorm1\n",
    "    a = v0 + b * (v0 @ (H1 @ v0))\n",
    "    c1 = b @ (H1 @ b)\n",
    "    c2 = 2 * a @ (H1 @ b) - 1\n",
    "    c3 = a @ (H1 @ a)\n",
    "    Δ = c2**2 - 4*c1*c3\n",
    "    if Δ >= 0:\n",
    "        γ = (-c2 - anp.sqrt(Δ)) / (2*c1)\n",
    "        v1 = a + b*γ\n",
    "        x2 = x1 + (δ/2) * v1\n",
    "        return anp.concatenate((x2, v1))\n",
    "    else:\n",
    "        print('rejected')\n",
    "        anp.concatenate((x0, -v0))"
   ]
  },
  {
   "cell_type": "code",
   "execution_count": 493,
   "id": "6301269b",
   "metadata": {},
   "outputs": [],
   "source": [
    "def integratorγ2_function_allinone(ξ):\n",
    "    \"\"\"Basically we remove all if statements.\"\"\"\n",
    "    n = len(ξ) // 2\n",
    "    x0, v0 = ξ[:n], ξ[n:]\n",
    "    x1 = x0 + (δ/2)*v0\n",
    "    g1 = grad_f_anp(x1); gnorm1 = anp.linalg.norm(g1); g1hat = g1 / gnorm1\n",
    "    H1 = hess_f_anp(x1)\n",
    "    b = -(δ/2)* g1hat / gnorm1\n",
    "    a = v0 + b * (v0 @ (H1 @ v0))\n",
    "    c1 = b @ (H1 @ b)\n",
    "    c2 = 2 * a @ (H1 @ b) - 1\n",
    "    c3 = a @ (H1 @ a)\n",
    "    Δ = c2**2 - 4*c1*c3\n",
    "    flag = anp.sign(anp.sign(Δ) + 1)           # flag = 0 when Δ < 0, otherwise flag=1\n",
    "    γ = (-c2 - anp.sqrt(abs(Δ))) / (2*c1)\n",
    "    v1 = flag * (a + b*γ) + (1 - flag) * (-v0)\n",
    "    x2 = x1 + (δ/2) * v1\n",
    "    return anp.concatenate((x2, v1))"
   ]
  },
  {
   "cell_type": "code",
   "execution_count": 617,
   "id": "67d91dc3",
   "metadata": {},
   "outputs": [],
   "source": [
    "### velocity version!!\n",
    "def gvv_integrator(ξ):\n",
    "    n = len(ξ) // 2\n",
    "    x0, v0 = ξ[:n], ξ[n:]\n",
    "    g0 = grad_f_anp(x0); gnorm0 = anp.linalg.norm(g0); g0hat = g0 / gnorm0\n",
    "    H0 = hess_f_anp(x0)\n",
    "    a = -(δ / 2)*g0hat/gnorm0  # v_{n+1/2} = v_n + aγ\n",
    "    c1 = a @ (H0 @ a)\n",
    "    c2 = 2*(a @ (H0 @ v0)) - 1\n",
    "    c3 = v0 @ (H0 @ v0)\n",
    "    Δ1 = c2**2 - 4*c1*c3\n",
    "    print('Δ1: ', Δ1)\n",
    "    if Δ1 >= 0:\n",
    "        γ1 = (-c2 - anp.sqrt(Δ1)) / (2*c1)\n",
    "        vhalf = v0 + a*γ1\n",
    "        x1 = x0 + δ*vhalf\n",
    "        g1 = grad_f_anp(x1); gnorm1 = anp.linalg.norm(g1); g1hat = g1 / gnorm1\n",
    "        H1 = hess_f_anp(x1)\n",
    "        b = -(δ / 2)*g1hat/gnorm1\n",
    "        d1 = b @ (H1 @ b)\n",
    "        d2 = 2*(b @ (H1 @ vhalf)) - 1\n",
    "        d3 = vhalf @ (H1 @ vhalf)\n",
    "        Δ2 = d2**2 - 4*d1*d3\n",
    "        print('Δ2: ', Δ2)\n",
    "        if Δ2 >= 0:\n",
    "            γ2 = (-d2 - anp.sqrt(Δ2)) / (2*d1)\n",
    "            v1 = vhalf + b*γ2\n",
    "            return anp.concatenate((x1, v1))\n",
    "        else:\n",
    "            return anp.concatenate((x0, -v0))\n",
    "    else:\n",
    "        return anp.concatenate((x0, -v0))"
   ]
  },
  {
   "cell_type": "code",
   "execution_count": 631,
   "id": "2f7096d4",
   "metadata": {},
   "outputs": [
    {
     "name": "stdout",
     "output_type": "stream",
     "text": [
      "Δ1:  0.6655128721085591\n",
      "Δ2:  0.676158748108428\n",
      "Δ1:  1.4062182410965665\n",
      "Δ2:  1.3905097123694599\n"
     ]
    },
    {
     "data": {
      "text/plain": [
       "array([ 5.19351515e-03, -5.93606083e-03, -3.81736061e-06, -3.82637369e-02,\n",
       "        4.76775001e-02,  2.78039799e-05])"
      ]
     },
     "execution_count": 631,
     "metadata": {},
     "output_type": "execute_result"
    }
   ],
   "source": [
    "check_reversibility(gvv_integrator, ξ, δ)"
   ]
  },
  {
   "cell_type": "code",
   "execution_count": 632,
   "id": "481f3d2a",
   "metadata": {},
   "outputs": [
    {
     "name": "stdout",
     "output_type": "stream",
     "text": [
      "Δ1:  Autograd ArrayBox with value 0.6655128721085591\n",
      "Δ2:  Autograd ArrayBox with value 0.676158748108428\n"
     ]
    },
    {
     "data": {
      "text/plain": [
       "1.490724655459687"
      ]
     },
     "execution_count": 632,
     "metadata": {},
     "output_type": "execute_result"
    }
   ],
   "source": [
    "np.linalg.det(jacobian(gvv_integrator)(ξ))"
   ]
  },
  {
   "cell_type": "code",
   "execution_count": 630,
   "id": "03edc88f",
   "metadata": {},
   "outputs": [],
   "source": [
    "# Random starting point\n",
    "x0 = find_starting_point()\n",
    "v0 = q.rvs()\n",
    "ξ = np.concatenate((x0, v0))\n",
    "δ = T / B"
   ]
  },
  {
   "cell_type": "code",
   "execution_count": null,
   "id": "c3b9f371",
   "metadata": {},
   "outputs": [],
   "source": []
  },
  {
   "cell_type": "markdown",
   "id": "8da90d9c",
   "metadata": {},
   "source": [
    "### Symplecticness"
   ]
  },
  {
   "cell_type": "code",
   "execution_count": 433,
   "id": "3450cdf0",
   "metadata": {},
   "outputs": [],
   "source": [
    "def perpendicularize(v, x):\n",
    "    g = grad_f(x); ghat = g / norm(g)\n",
    "    vperp = v - (ghat @ v) * ghat\n",
    "    return vperp * norm(v) / norm(vperp)"
   ]
  },
  {
   "cell_type": "code",
   "execution_count": 434,
   "id": "d980083a",
   "metadata": {},
   "outputs": [],
   "source": [
    "Γ = np.array([[0, 0, 0, -1, 0, 0],\n",
    "              [0, 0, 0, 0, -1, 0],\n",
    "              [0, 0, 0, 0, 0, -1],\n",
    "              [1, 0, 0, 0, 0, 0],\n",
    "              [0, 1, 0, 0, 0, 0],\n",
    "              [0, 0, 1, 0, 0, 0]])\n",
    "Γinv = np.linalg.inv(Γ)"
   ]
  },
  {
   "cell_type": "code",
   "execution_count": 494,
   "id": "4a752a73",
   "metadata": {},
   "outputs": [
    {
     "name": "stdout",
     "output_type": "stream",
     "text": [
      "det(Jperp):           1.3276657321663765\n",
      "det(JperpΓinvJperp):  1.76269629636888\n"
     ]
    }
   ],
   "source": [
    "# Point at which Jacobian will be computed. This is perpendicularized meaning\n",
    "# that the velocity is made perpendicular to the gradient at x0\n",
    "ξ_perp = np.concatenate((x0, perpendicularize(v0, x0)))\n",
    "\n",
    "# Jacobian at perpendicularized initial point\n",
    "J_perp               = jacobian(integratorγ2_function)(ξ_perp)\n",
    "det_Jperp            = np.linalg.det(J_perp)\n",
    "JperpΓinvJperp       = J_perp.T @ (Γinv @ J_perp)\n",
    "def_JperpΓinvJperp   = np.linalg.det(JperpΓinvJperp)\n",
    "print(\"det(Jperp):          \", det_Jperp)\n",
    "print(\"det(JperpΓinvJperp): \", def_JperpΓinvJperp)"
   ]
  },
  {
   "cell_type": "code",
   "execution_count": 495,
   "id": "51f89204",
   "metadata": {},
   "outputs": [
    {
     "name": "stdout",
     "output_type": "stream",
     "text": [
      "det(J):       0.9911534888256949\n",
      "det(JΓinvJ):  0.9823852384113472\n"
     ]
    }
   ],
   "source": [
    "# Point at which Jacobian will be computed. This is NOT perpendicularized \n",
    "ξ = np.concatenate((x0, v0))\n",
    "\n",
    "# Jacobian at perpendicularized initial point\n",
    "J                = jacobian(integratorγ2_function)(ξ)\n",
    "det_J            = np.linalg.det(J)\n",
    "JΓinvJ           = J.T @ (Γinv @ J)\n",
    "def_JΓinvJ       = np.linalg.det(JΓinvJ)\n",
    "print(\"det(J):      \", det_J)\n",
    "print(\"det(JΓinvJ): \", def_JΓinvJ)"
   ]
  },
  {
   "cell_type": "code",
   "execution_count": 496,
   "id": "f5b14474",
   "metadata": {},
   "outputs": [
    {
     "data": {
      "text/plain": [
       "array([[ 0., -1.,  0.,  1., -0.,  0.],\n",
       "       [ 1.,  0.,  0.,  1.,  1.,  0.],\n",
       "       [-0., -0.,  0., -0.,  0.,  1.],\n",
       "       [-1., -1.,  0.,  0., -0.,  0.],\n",
       "       [ 0., -1., -0.,  0.,  0., -0.],\n",
       "       [-0., -0., -1., -0.,  0.,  0.]])"
      ]
     },
     "execution_count": 496,
     "metadata": {},
     "output_type": "execute_result"
    }
   ],
   "source": [
    "JΓinvJ.round()"
   ]
  },
  {
   "cell_type": "code",
   "execution_count": 497,
   "id": "cc192d9d",
   "metadata": {},
   "outputs": [
    {
     "data": {
      "text/plain": [
       "array([[-0., -3.,  0.,  1., -0.,  0.],\n",
       "       [ 3.,  0.,  0.,  1.,  1.,  0.],\n",
       "       [-0., -0.,  0., -0.,  0.,  1.],\n",
       "       [-1., -1.,  0., -0., -0.,  0.],\n",
       "       [ 0., -1., -0.,  0., -0., -0.],\n",
       "       [-0., -0., -1., -0.,  0.,  0.]])"
      ]
     },
     "execution_count": 497,
     "metadata": {},
     "output_type": "execute_result"
    }
   ],
   "source": [
    "JperpΓinvJperp.round()"
   ]
  },
  {
   "cell_type": "code",
   "execution_count": 58,
   "id": "adfb12a7",
   "metadata": {},
   "outputs": [],
   "source": [
    "from scipy.optimize import fsolve"
   ]
  },
  {
   "cell_type": "code",
   "execution_count": 296,
   "id": "7f25ca66",
   "metadata": {},
   "outputs": [],
   "source": [
    "def find_x_on_manifold(x_start=None):\n",
    "    x_start = MVN(zeros(3), eye(3)).rvs()\n",
    "    return fsolve(lambda x: [f(x) - y, 0, 0], x_start)"
   ]
  },
  {
   "cell_type": "code",
   "execution_count": 428,
   "id": "348d1f24",
   "metadata": {},
   "outputs": [],
   "source": [
    "x_manifold = find_x_on_manifold()\n",
    "v0 = q.rvs()\n",
    "ξ_manifold = np.concatenate((x_manifold, perpendicularize(v0, x_manifold)))"
   ]
  },
  {
   "cell_type": "code",
   "execution_count": 429,
   "id": "3d41e8fd",
   "metadata": {},
   "outputs": [],
   "source": [
    "Jm = jacobian(integratorγ2_function)(ξ_manifold)"
   ]
  },
  {
   "cell_type": "code",
   "execution_count": 430,
   "id": "1091adfb",
   "metadata": {},
   "outputs": [
    {
     "data": {
      "text/plain": [
       "0.6132259772791236"
      ]
     },
     "execution_count": 430,
     "metadata": {},
     "output_type": "execute_result"
    }
   ],
   "source": [
    "np.linalg.det(Jm)"
   ]
  },
  {
   "cell_type": "code",
   "execution_count": 431,
   "id": "103cfb65",
   "metadata": {},
   "outputs": [
    {
     "data": {
      "text/plain": [
       "array([[-0. , -9.3,  0. ,  0.6, -0.9,  0. ],\n",
       "       [ 9.3,  0. ,  0. , -0.1,  1. ,  0. ],\n",
       "       [-0. , -0. ,  0. ,  0. , -0. ,  1. ],\n",
       "       [-0.6,  0.1, -0. , -0. ,  0. , -0. ],\n",
       "       [ 0.9, -1. ,  0. , -0. ,  0. ,  0. ],\n",
       "       [-0. , -0. , -1. ,  0. , -0. ,  0. ]])"
      ]
     },
     "execution_count": 431,
     "metadata": {},
     "output_type": "execute_result"
    }
   ],
   "source": [
    "(Jm.T @ (Γinv @ Jm)).round(1)"
   ]
  },
  {
   "cell_type": "code",
   "execution_count": 380,
   "id": "48bfb932",
   "metadata": {},
   "outputs": [
    {
     "data": {
      "text/plain": [
       "array([[ 0.,  0.,  0.,  1.,  0.,  0.],\n",
       "       [ 0.,  0.,  0.,  0.,  1.,  0.],\n",
       "       [ 0.,  0.,  0.,  0.,  0.,  1.],\n",
       "       [-1., -0., -0., -0., -0., -0.],\n",
       "       [-0., -1., -0., -0., -0., -0.],\n",
       "       [-0., -0., -1., -0., -0., -0.]])"
      ]
     },
     "execution_count": 380,
     "metadata": {},
     "output_type": "execute_result"
    }
   ],
   "source": [
    "Γinv"
   ]
  },
  {
   "cell_type": "code",
   "execution_count": 303,
   "id": "3af6c64f",
   "metadata": {},
   "outputs": [
    {
     "data": {
      "text/plain": [
       "0.668919962671927"
      ]
     },
     "execution_count": 303,
     "metadata": {},
     "output_type": "execute_result"
    }
   ],
   "source": [
    "np.linalg.det(Jm.T @ (Γinv @ Jm))"
   ]
  },
  {
   "cell_type": "code",
   "execution_count": 304,
   "id": "0c8d6bdf",
   "metadata": {},
   "outputs": [
    {
     "data": {
      "text/plain": [
       "0.8178752732977854"
      ]
     },
     "execution_count": 304,
     "metadata": {},
     "output_type": "execute_result"
    }
   ],
   "source": [
    "np.linalg.det(Jm)"
   ]
  },
  {
   "cell_type": "code",
   "execution_count": 305,
   "id": "c03cd820",
   "metadata": {},
   "outputs": [
    {
     "data": {
      "text/plain": [
       "1.0"
      ]
     },
     "execution_count": 305,
     "metadata": {},
     "output_type": "execute_result"
    }
   ],
   "source": [
    "np.linalg.det(Γinv)"
   ]
  },
  {
   "cell_type": "code",
   "execution_count": null,
   "id": "656d2a65",
   "metadata": {},
   "outputs": [],
   "source": []
  },
  {
   "cell_type": "markdown",
   "id": "d7034e4c",
   "metadata": {},
   "source": [
    "### Check order"
   ]
  },
  {
   "cell_type": "code",
   "execution_count": 283,
   "id": "b0e66bb6",
   "metadata": {},
   "outputs": [],
   "source": [
    "def integratorγ2_withδ(ξ, δ):\n",
    "    \"\"\"This integrator always chooses γ1.\"\"\"\n",
    "    n = len(ξ) // 2\n",
    "    x0, v0 = ξ[:n], ξ[n:]\n",
    "    x1 = x0 + (δ/2)*v0\n",
    "    g1 = grad_f(x1); gnorm1 = norm(g1); g1hat = g1 / gnorm1\n",
    "    H1 = hess_f(x1)\n",
    "    b = -(δ/2)* g1hat / gnorm1\n",
    "    a = v0 + b * (v0 @ (H1 @ v0))\n",
    "    c1 = b @ (H1 @ b)\n",
    "    c2 = 2 * a @ (H1 @ b) - 1\n",
    "    c3 = a @ (H1 @ a)\n",
    "    Δ = c2**2 - 4*c1*c3\n",
    "    if Δ >= 0:\n",
    "        γ = (-c2 - sqrt(Δ)) / (2*c1)\n",
    "        v1 = a + b*γ\n",
    "        x2 = x1 + (δ/2) * v1\n",
    "        return np.concatenate((x2, v1))\n",
    "    else:\n",
    "        raise ValueError(\"Negative Discriminant.\")\n",
    "\n",
    "\n",
    "\n",
    "def check_order(x0, N, δ, perpendicular=False, thug=False, α=None):\n",
    "    \"\"\"Checks if true hug is second order.\"\"\"\n",
    "    average_difference = 0.0\n",
    "    i = 0\n",
    "    while i <= N:\n",
    "        v0 = q.rvs()\n",
    "        if perpendicular:\n",
    "            v0norm = norm(v0)\n",
    "            g0 = grad_f(x0); g0hat = g0 / norm(g0)\n",
    "            v0 = v0 - (v0 @ g0hat) * g0hat\n",
    "            v0 = v0 * v0norm / norm(v0)\n",
    "        elif not perpendicular and thug and α is not None:\n",
    "            g0 = grad_f(x0); g0hat = g0 / norm(g0)\n",
    "            v0 = v0 - α * (v0 @ g0hat) * g0hat\n",
    "        ξ0 = np.concatenate((x0, v0))\n",
    "        try:\n",
    "            ξ1 = integratorγ2_withδ(ξ0, δ)\n",
    "        except ValueError:\n",
    "            continue\n",
    "        else:\n",
    "            average_difference += abs(f(ξ1[:3]) - f(ξ0[:3])) \n",
    "            i += 1\n",
    "    return average_difference / i"
   ]
  },
  {
   "cell_type": "code",
   "execution_count": 284,
   "id": "7daf7cd0",
   "metadata": {},
   "outputs": [
    {
     "data": {
      "text/plain": [
       "0.0038429705377409262"
      ]
     },
     "execution_count": 284,
     "metadata": {},
     "output_type": "execute_result"
    }
   ],
   "source": [
    "check_order(x0, 1000, 0.1, perpendicular=True)"
   ]
  },
  {
   "cell_type": "code",
   "execution_count": null,
   "id": "872fc49f",
   "metadata": {},
   "outputs": [],
   "source": []
  }
 ],
 "metadata": {
  "kernelspec": {
   "display_name": "Python 3 (ipykernel)",
   "language": "python",
   "name": "python3"
  },
  "language_info": {
   "codemirror_mode": {
    "name": "ipython",
    "version": 3
   },
   "file_extension": ".py",
   "mimetype": "text/x-python",
   "name": "python",
   "nbconvert_exporter": "python",
   "pygments_lexer": "ipython3",
   "version": "3.10.4"
  }
 },
 "nbformat": 4,
 "nbformat_minor": 5
}
