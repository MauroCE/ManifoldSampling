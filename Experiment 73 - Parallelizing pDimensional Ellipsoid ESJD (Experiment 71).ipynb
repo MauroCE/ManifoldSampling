{
 "cells": [
  {
   "cell_type": "code",
   "execution_count": 41,
   "id": "dd5a4222",
   "metadata": {},
   "outputs": [],
   "source": [
    "import numpy as np\n",
    "from scipy.stats import multivariate_normal as MVN\n",
    "from numpy import load\n",
    "import matplotlib.pyplot as plt\n",
    "from scipy.optimize import root, fsolve, minimize\n",
    "from numpy.linalg import norm, solve, inv, det\n",
    "from numpy import log, zeros, eye, exp, cos, sin, pi, diag\n",
    "from scipy.stats import uniform as udist\n",
    "from numpy.random import rand\n",
    "from matplotlib.colors import ListedColormap\n",
    "from warnings import catch_warnings, filterwarnings\n",
    "from scipy.linalg import qr\n",
    "from copy import deepcopy\n",
    "from matplotlib.colors import LogNorm\n",
    "from matplotlib.ticker import LogFormatterMathtext\n",
    "\n",
    "from multiprocessing import Pool\n",
    "from itertools import product\n",
    "\n",
    "from utils import prep_contour, generate_powers_of_ten\n",
    "from Manifolds.GeneralizedEllipse import GeneralizedEllipse"
   ]
  },
  {
   "cell_type": "code",
   "execution_count": 44,
   "id": "773754e4",
   "metadata": {},
   "outputs": [],
   "source": [
    "normalize = lambda a: a / np.nanmax(a)"
   ]
  },
  {
   "cell_type": "code",
   "execution_count": 46,
   "id": "164e9a7d",
   "metadata": {},
   "outputs": [],
   "source": [
    "folder  = 'experiment73/'\n",
    "results = load(folder + 'results.npy')\n",
    "alphas  = load(folder + 'alphas.npy')\n",
    "deltas  = load(folder + 'deltas.npy')"
   ]
  },
  {
   "cell_type": "code",
   "execution_count": 47,
   "id": "60d80a98",
   "metadata": {},
   "outputs": [
    {
     "data": {
      "image/png": "[encoded data removed]",
      "text/plain": [
       "<Figure size 360x288 with 2 Axes>"
      ]
     },
     "metadata": {
      "needs_background": "light"
     },
     "output_type": "display_data"
    }
   ],
   "source": [
    "fig, ax = plt.subplots(figsize=(5, 4))\n",
    "im = ax.pcolor(deltas, alphas, normalize(results))\n",
    "ax.set_xscale('log')\n",
    "\n",
    "fig.subplots_adjust(right=0.95)\n",
    "cbar_ax = fig.add_axes([0.98, 0.125, 0.01, 0.75])\n",
    "fig.colorbar(im, cax=cbar_ax)\n",
    "plt.show()"
   ]
  },
  {
   "cell_type": "code",
   "execution_count": null,
   "id": "a657dfa7",
   "metadata": {},
   "outputs": [],
   "source": []
  }
 ],
 "metadata": {
  "kernelspec": {
   "display_name": "Python 3 (ipykernel)",
   "language": "python",
   "name": "python3"
  },
  "language_info": {
   "codemirror_mode": {
    "name": "ipython",
    "version": 3
   },
   "file_extension": ".py",
   "mimetype": "text/x-python",
   "name": "python",
   "nbconvert_exporter": "python",
   "pygments_lexer": "ipython3",
   "version": "3.10.4"
  }
 },
 "nbformat": 4,
 "nbformat_minor": 5
}
