{
 "cells": [
  {
   "cell_type": "code",
   "execution_count": 1,
   "metadata": {},
   "outputs": [],
   "source": [
    "struct TooLongException <: Exception\n",
    "    msg::String\n",
    "end"
   ]
  },
  {
   "cell_type": "markdown",
   "metadata": {},
   "source": [
    "# Simulation"
   ]
  },
  {
   "cell_type": "code",
   "execution_count": 2,
   "metadata": {},
   "outputs": [
    {
     "data": {
      "text/plain": [
       "LV (generic function with 2 methods)"
      ]
     },
     "execution_count": 2,
     "metadata": {},
     "output_type": "execute_result"
    }
   ],
   "source": [
    "using Distributions\n",
    "using StatsBase\n",
    "using Plots\n",
    "using LinearAlgebra\n",
    "\n",
    "true_params =  [0.01, 0.5, 1.0, 0.01];\n",
    "\n",
    "function LV(init, params, dt, duration, max_steps=50000)\n",
    "    # Compute number of events. Initiate states, time and number of steps.\n",
    "    n_events = Int(duration ÷ dt) + 1;\n",
    "    states = zeros(n_events, 2);\n",
    "    time = 0.0;\n",
    "    cur_time = time;\n",
    "    n_steps = 0;\n",
    "    \n",
    "    x, y = init;    \n",
    "    \n",
    "    \n",
    "    for i in 1:n_events \n",
    "        #println(\"\\t\\t\\t\\tEVENT: $i\")\n",
    "        \n",
    "        while cur_time > time\n",
    "            #println(\"\\tCUR TIME > TIME\")\n",
    "            #println(\"\\t\\tX: $x, Y: $y\")\n",
    "            \n",
    "            rates = params .* [x*y, x, y, x*y]\n",
    "            total_rate = sum(rates)\n",
    "            \n",
    "            if total_rate == 0.0\n",
    "                time = Inf\n",
    "                break\n",
    "            end\n",
    "            #println(\"Total rate: $total_rate\")\n",
    "            # Sample the time of the event and add it to time\n",
    "            time += rand(Exponential(1 ./ total_rate))\n",
    "            \n",
    "            # Sample from a discrete distribution\n",
    "            event_ix = sample(1:4, Weights(rates ./ total_rate))\n",
    "            \n",
    "            # Perform the event\n",
    "            if event_ix == 1\n",
    "                x += 1\n",
    "            elseif event_ix == 2\n",
    "                x -= 1\n",
    "            elseif event_ix == 3\n",
    "                y += 1 \n",
    "            elseif event_ix == 4\n",
    "                y -= 1\n",
    "            end\n",
    "            #println(\"\\t\\ttime=$time, x=$x, y=$y\")\n",
    "            \n",
    "            n_steps += 1\n",
    "            if n_steps > max_steps\n",
    "                #println(\"Cur time: $cur_time, Time: $time\")\n",
    "                #println(\"N events: $n_events\\n\")\n",
    "                #println(\"X: $x, Y: $y\")\n",
    "                throw(TooLongException(\"Simulation exceeded $max_steps\"))\n",
    "            end\n",
    "        end\n",
    "        \n",
    "        states[i, :] = [x y];\n",
    "        cur_time += dt;\n",
    "        #print(\"Reaction: $i, Cur Time: \", round(cur_time, digits=2), \"\\n\")\n",
    "        #println(\"Added [x, y] = [$x, $y] at i = $i and time curtime= $cur_time\")\n",
    "        #println(\"Cur time: $cur_time \\n\")\n",
    "        #println(\"\\n\")\n",
    "    end\n",
    "    #println(\"X: $x, Y: $y\")\n",
    "    states \n",
    "end"
   ]
  },
  {
   "cell_type": "code",
   "execution_count": null,
   "metadata": {},
   "outputs": [],
   "source": [
    "function LV(init, params, dt, duration, max_steps=10000)\n",
    "    n_events = Int(duration ÷ dt) + 1;\n",
    "    states = zeros(n_events, 2);\n",
    "    time = 0.0;\n",
    "    cur_time = time;\n",
    "    n_steps = 0;\n",
    "\n",
    "    x, y = init;   \n",
    "    \n",
    "    success = false\n",
    "    while !success\n",
    "        # Compute number of events. Initiate states, time and number of steps.\n",
    "        states = zeros(n_events, 2);\n",
    "        time = 0.0;\n",
    "        cur_time = time;\n",
    "        n_steps = 0;\n",
    "\n",
    "        x, y = init;    \n",
    "\n",
    "        try\n",
    "            for i in 1:n_events \n",
    "\n",
    "                while cur_time > time\n",
    "\n",
    "                    rates = params .* [x*y, x, y, x*y]\n",
    "                    total_rate = sum(rates)\n",
    "\n",
    "                    if total_rate == 0.0\n",
    "                        time = Inf\n",
    "                        break\n",
    "                    end\n",
    "\n",
    "                    # Sample the time of the event and add it to time\n",
    "                    time += rand(Exponential(1 ./ total_rate))\n",
    "\n",
    "                    # Sample from a discrete distribution\n",
    "                    event_ix = sample(1:4, Weights(rates ./ total_rate))\n",
    "\n",
    "                    # Perform the event\n",
    "                    if event_ix == 1\n",
    "                        x += 1\n",
    "                    elseif event_ix == 2\n",
    "                        x -= 1\n",
    "                    elseif event_ix == 3\n",
    "                        y += 1 \n",
    "                    elseif event_ix == 4\n",
    "                        y -= 1\n",
    "                    end\n",
    "\n",
    "                    n_steps += 1\n",
    "                    if n_steps > max_steps\n",
    "                        throw(TooLongException(\"Simulation exceeded $max_steps\"))\n",
    "                    end\n",
    "                end\n",
    "\n",
    "                states[i, :] = [x y];\n",
    "                cur_time += dt;\n",
    "            end\n",
    "            success = true\n",
    "        catch TooLongException\n",
    "            states = zeros(n_events, 2);\n",
    "            time = 0.0;\n",
    "            cur_time = time;\n",
    "            n_steps = 0;\n",
    "            x, y = init;    \n",
    "            continue\n",
    "        end\n",
    "    end\n",
    "    states \n",
    "end"
   ]
  },
  {
   "cell_type": "code",
   "execution_count": null,
   "metadata": {},
   "outputs": [],
   "source": [
    "duration = 30\n",
    "dt = 0.2\n",
    "out = LV([50, 100], true_params, dt, duration);\n",
    "\n",
    "xvalues = LinRange(0.0, duration, Int(duration ÷ dt)+1)\n",
    "plot(xvalues, out[:, 1], label=\"Predators\")\n",
    "plot!(xvalues, out[:, 2], label=\"Preys\")\n",
    "xlabel!(\"Time\")\n",
    "ylabel!(\"Population Counts\")"
   ]
  },
  {
   "cell_type": "markdown",
   "metadata": {},
   "source": [
    "# Summary Statistics"
   ]
  },
  {
   "cell_type": "code",
   "execution_count": null,
   "metadata": {},
   "outputs": [],
   "source": [
    "function calc_ss(states)\n",
    "    N = size(states, 1)    # Grab number of time steps\n",
    "    x, y = states[:, 1], states[:, 2]\n",
    "    \n",
    "    # Means and Variances\n",
    "    μx, μy   = mean(x), mean(y) \n",
    "    σ2x, σ2y = var(x), var(y)   \n",
    "    \n",
    "    # Standardize\n",
    "    x = (x .- μx) ./ sqrt(σ2x)\n",
    "    y = (y .- μy) ./ sqrt(σ2y)\n",
    "    \n",
    "    # Autocorrelation\n",
    "    acx = autocor(x, [1, 2])\n",
    "    acy = autocor(y, [1, 2])\n",
    "    \n",
    "    ccxy = dot(x, y) / (N-1)\n",
    "    return [μx; μy; log(σ2x+1); log(σ2y+1); acx; acy; ccxy]\n",
    "    \n",
    "end"
   ]
  },
  {
   "cell_type": "markdown",
   "metadata": {},
   "source": [
    "# Simulate Parameters from Prior"
   ]
  },
  {
   "cell_type": "code",
   "execution_count": null,
   "metadata": {},
   "outputs": [],
   "source": [
    "function sample_prior(n=1, log_prior_max=2, log_prior_min=-5)\n",
    "    # Assume a uniform prior in the log-domain (see Appendix)\n",
    "    #if n == 1\n",
    "    #    z = rand(Uniform(), 4)\n",
    "    #else\n",
    "    #    z = rand(Uniform(), n, 4)\n",
    "    #end\n",
    "    #return exp.((log_prior_max-log_prior_min).*z .+ log_prior_min) \n",
    "    return exp.(rand(Uniform(log_prior_min,log_prior_max), 4))\n",
    "end"
   ]
  },
  {
   "cell_type": "markdown",
   "metadata": {},
   "source": [
    "# Pilot Run"
   ]
  },
  {
   "cell_type": "code",
   "execution_count": null,
   "metadata": {},
   "outputs": [],
   "source": [
    "function pilot_run(nsim=1000, dt=dt, duration=duration, init_xy=[50,100])\n",
    "    stats = []\n",
    "    i = 1\n",
    "    while i <= nsim\n",
    "        push!(stats, calc_ss(LV(init_xy, sample_prior(), dt, duration))) # Sample param, feed LV, compute SS\n",
    "        i += 1\n",
    "    end\n",
    "    means = mean(stats)\n",
    "    stds  = std(stats)\n",
    "    return means, stds\n",
    "end"
   ]
  },
  {
   "cell_type": "code",
   "execution_count": null,
   "metadata": {},
   "outputs": [],
   "source": [
    "using BenchmarkTools"
   ]
  },
  {
   "cell_type": "code",
   "execution_count": null,
   "metadata": {},
   "outputs": [],
   "source": [
    "@btime pilot_run(1);"
   ]
  },
  {
   "cell_type": "code",
   "execution_count": null,
   "metadata": {},
   "outputs": [],
   "source": []
  },
  {
   "cell_type": "code",
   "execution_count": null,
   "metadata": {},
   "outputs": [],
   "source": [
    "means, stds = pilot_run()"
   ]
  },
  {
   "cell_type": "code",
   "execution_count": null,
   "metadata": {},
   "outputs": [],
   "source": [
    "means, stds = pilot_run(1);"
   ]
  },
  {
   "cell_type": "code",
   "execution_count": null,
   "metadata": {},
   "outputs": [],
   "source": [
    "out = LV([50, 100], sample_prior(), 0.2, 30)\n",
    "outx = LinRange(0.0, 0.2, Int(30 ÷ 0.2)+1)\n",
    "plot(out[:,1])\n",
    "plot!(out[:,2])"
   ]
  },
  {
   "cell_type": "code",
   "execution_count": null,
   "metadata": {},
   "outputs": [],
   "source": [
    "@time pilot_run(10);"
   ]
  },
  {
   "cell_type": "markdown",
   "metadata": {},
   "source": [
    "# Generate Observed Data"
   ]
  },
  {
   "cell_type": "code",
   "execution_count": null,
   "metadata": {},
   "outputs": [],
   "source": [
    "x0 = calc_ss(LV([50,100], true_params, dt, duration));"
   ]
  },
  {
   "cell_type": "markdown",
   "metadata": {},
   "source": [
    "# Our SMC"
   ]
  },
  {
   "cell_type": "code",
   "execution_count": null,
   "metadata": {},
   "outputs": [],
   "source": [
    "function dist(y, x)\n",
    "    return sqrt(sum((sort(y) .- sort(x)).^2))\n",
    "end"
   ]
  },
  {
   "cell_type": "code",
   "execution_count": null,
   "metadata": {},
   "outputs": [],
   "source": [
    "function logprior(params)\n",
    "    return sum(logpdf.(Uniform(-5, 2), params))\n",
    "end"
   ]
  },
  {
   "cell_type": "code",
   "execution_count": null,
   "metadata": {},
   "outputs": [],
   "source": [
    "function f(param)\n",
    "    return calc_ss(LV([50, 100], param, dt, duration))\n",
    "end"
   ]
  },
  {
   "cell_type": "code",
   "execution_count": null,
   "metadata": {},
   "outputs": [],
   "source": [
    "function LocalMH(param0,covariance,epsilon,data)\n",
    "    n_fails = 0\n",
    "    success = false\n",
    "    while !success\n",
    "        try\n",
    "            # sample the new candidate xi according to a random walk kernel\n",
    "            newparam = rand(MultivariateNormal(param0,covariance))\n",
    "            # sample a Uniform(0,1) RV\n",
    "            u = rand(Uniform(0,1))\n",
    "            #println(\"\\t\\t\\tBefore if\")\n",
    "            if log(u) >= logprior(newparam)-logprior(param0)\n",
    "                #println(\"\\t\\t\\tParam0\")\n",
    "                return param0\n",
    "            else\n",
    "                #println(\"newparam: $newparam\")\n",
    "                x = f(newparam)\n",
    "                #println(\"\\t\\t\\tAfter f\")\n",
    "                if dist(data,x) < epsilon\n",
    "                    return newparam\n",
    "                else\n",
    "                    return param0\n",
    "                end\n",
    "            end\n",
    "            success = true\n",
    "        catch ArgumentError\n",
    "            println(\"LocalMH failed. Trying again.\")\n",
    "            n_fails += 1\n",
    "        end\n",
    "        if n_fails > 10\n",
    "            println(\"LocalMH Maximum Number of Fails Reached.\")\n",
    "            return param0\n",
    "        end\n",
    "    end\n",
    "    \n",
    "end"
   ]
  },
  {
   "cell_type": "code",
   "execution_count": null,
   "metadata": {},
   "outputs": [],
   "source": [
    "using ProgressMeter\n",
    "\n",
    "function smc(N, T, data, threshold = 0.8, scale=0.02, Criterion=\"ESS\")\n",
    "    ϵ = zeros(T+1)\n",
    "    W = zeros(N, T+1)\n",
    "    A = zeros(Int, N, T)\n",
    "    Distance = zeros(N, T+1)\n",
    "    Particles = zeros(N, 4, T+1)\n",
    "    \n",
    "    t = 0; n = 1;\n",
    "    # Initialize particles by sampling from prior\n",
    "    while n <= N\n",
    "        try\n",
    "            Particles[n, :, t+1] = sample_prior()\n",
    "            Distance[n, t+1] = dist(data, f(Particles[n,:,t+1]))\n",
    "        catch e\n",
    "            println(\"Particle $n at time $t took too long.\")\n",
    "        end\n",
    "        n += 1\n",
    "    end\n",
    "    println(\"Initialization Finished.\")\n",
    "    \n",
    "    ϵ[t+1] = findmax(Distance[:, t+1])[1]\n",
    "    W[:, t+1] .= 1/N\n",
    "    @showprogress 1 \"Computing...\" for t = 1:T\n",
    "        println(\"t = $t\")\n",
    "        A[:, t] = sample(!:N, Weights(W[:, t]), N) #vcat(fill.(1:N,rand(Multinomial(N,W[:,t])))...)\n",
    "        if Criterion == \"ESS\"\n",
    "            ϵ[t+1] = sort(Distance[A[:,t],t])[floor(Int,threshold*N)]\n",
    "        elseif Criterion == \"Unique\"\n",
    "            UniqueDist = sort(unique(Distance[A[:,t],t]))\n",
    "            ϵ[t+1] = UniqueDist[floor(Int,threshold*length(UniqueDist))]\n",
    "        end\n",
    "        W[:, t+1] = (Distance[:,t] .< ϵ[t+1])/sum(Distance[:,t] .< ϵ[t+1])\n",
    "        sigma = scale*cov(Particles[A[:,t],:,t])\n",
    "        for n = 1:N\n",
    "            println(\"\\tn=$n\")\n",
    "            Particles[n,:,t+1] = LocalMH(Particles[A[n,t],:,t],sigma,ϵ[t+1],data)\n",
    "            println(\"\\t\\tLocalMH Done.\")\n",
    "            Distance[n,t+1] = dist(data,f(Particles[n,:,t+1]))\n",
    "            println(\"\\t\\tDistance Done.\")\n",
    "        end\n",
    "    end\n",
    "\n",
    "    return (P=Particles, W=W, A=A, epsilon=ϵ, D=Distance)\n",
    "end"
   ]
  },
  {
   "cell_type": "code",
   "execution_count": null,
   "metadata": {},
   "outputs": [],
   "source": [
    "# SETTINGS\n",
    "N = 10\n",
    "T = 3\n",
    "data = x0\n",
    "threshold = 0.8\n",
    "scale = 0.02\n",
    "Criterion=\"ESS\"\n",
    "\n",
    "# STORE\n",
    "ϵ = zeros(T+1);\n",
    "W = zeros(N, T+1);\n",
    "A = zeros(Int, N, T);\n",
    "Distance = zeros(N, T+1);\n",
    "Particles = zeros(N, 4, T+1);"
   ]
  },
  {
   "cell_type": "code",
   "execution_count": null,
   "metadata": {},
   "outputs": [],
   "source": [
    "t = 0; n = 1;\n",
    "\n",
    "# INITIALIZATION\n",
    "while n <= N\n",
    "    try\n",
    "        Particles[n, :, t+1] = sample_prior()\n",
    "        Distance[n, t+1] = dist(data, f(Particles[n,:,t+1]))\n",
    "    catch e\n",
    "        println(\"Particle $n at time $t took too long.\")\n",
    "    end\n",
    "    n += 1\n",
    "end\n",
    "println(\"Initialization Finished.\")"
   ]
  },
  {
   "cell_type": "code",
   "execution_count": null,
   "metadata": {
    "scrolled": true
   },
   "outputs": [],
   "source": [
    "f(sample_prior())"
   ]
  },
  {
   "cell_type": "code",
   "execution_count": null,
   "metadata": {},
   "outputs": [],
   "source": []
  },
  {
   "cell_type": "code",
   "execution_count": null,
   "metadata": {},
   "outputs": [],
   "source": []
  },
  {
   "cell_type": "code",
   "execution_count": null,
   "metadata": {},
   "outputs": [],
   "source": []
  },
  {
   "cell_type": "code",
   "execution_count": null,
   "metadata": {},
   "outputs": [],
   "source": [
    "#Random.seed!(1)\n",
    "p, w, a, e, d = smc(2,2, x0,0.8, 0.001, \"Unique\");"
   ]
  },
  {
   "cell_type": "markdown",
   "metadata": {},
   "source": [
    "# Run"
   ]
  },
  {
   "cell_type": "code",
   "execution_count": null,
   "metadata": {},
   "outputs": [],
   "source": [
    "function smc_abc(n_particles=100, init=[50, 100])\n",
    "    # Settings\n",
    "    eps_init = 10.0\n",
    "    eps_last = 0.1\n",
    "    eps_decay = 0.9\n",
    "    ess_min = 0.5\n",
    "    \n",
    "    # Store more stuff\n",
    "    all_params = Array{Float64}(undef, n_particles, 0)\n",
    "    all_logweights = Array{Float64}(undef, n_particles, 0)\n",
    "    all_eps = []\n",
    "    all_nsims = []\n",
    "    \n",
    "    # Pilot run & scale x0\n",
    "    means, stds = pilot_run(1)\n",
    "    println(\"Pilot Run finished\")\n",
    "    x0n = (x0 .- means) ./ stds\n",
    "    \n",
    "    # Store particles and weights\n",
    "    params = Array{Float64}(undef, n_particles, 4)\n",
    "    weights = ones(n_particles) ./ n_particles\n",
    "    logweights = log.(weights)\n",
    "    \n",
    "    # More settings\n",
    "    eps = eps_init\n",
    "    iter = 0\n",
    "    nsims = 0\n",
    "    \n",
    "    println(\"Number of Particles: $n_particles\")\n",
    "    for i in 1:n_particles\n",
    "        dist = Inf\n",
    "        \n",
    "        while dist > eps\n",
    "            # Sample parameter from prior\n",
    "            params[i, :] = sample_prior()\n",
    "            # Run LV with that parameter\n",
    "            try\n",
    "                states = LV(init, params[i, :], 0.2, 30)\n",
    "                # Compute summary statistics\n",
    "                x = calc_ss(states)\n",
    "                # Scale using means and stds\n",
    "                x = (x .- means) ./ stds\n",
    "                # Compute distance\n",
    "                dist = norm(x - x0)\n",
    "            catch TooLongException\n",
    "                continue\n",
    "            end\n",
    "        end\n",
    "        println(\"Particle = $i\")\n",
    "    end\n",
    "    \n",
    "    all_params = [all_params params]\n",
    "    all_logweights = [all_logweights logweights]\n",
    "    push!(all_eps, eps)\n",
    "    push!(all_nsims, nsims)\n",
    "    prinln(\"Iteration = $iter, eps = $eps, ess = 1.0\")\n",
    "    \n",
    "    while eps > eps_last\n",
    "        iter += 1\n",
    "        eps *= eps_decay\n",
    "        \n",
    "        # compute population covariance\n",
    "        \n",
    "        \n",
    "        \n",
    "        \n",
    "        \n",
    "    return all_params\n",
    "end"
   ]
  },
  {
   "cell_type": "code",
   "execution_count": null,
   "metadata": {},
   "outputs": [],
   "source": [
    "smc_abc();"
   ]
  },
  {
   "cell_type": "code",
   "execution_count": null,
   "metadata": {},
   "outputs": [],
   "source": [
    "z ~ N()\n",
    "\n",
    "\n",
    "function Transform_Normal(par, z)\n",
    "    # Define the G-and-K model using standar Normal distributions\n",
    "    \n",
    "    return par[1] + par[2]*(1+0.8*(1-exp(-par[3]*z))/(1+exp(-par[3]*z)))*((1+z^2)^par[4])*z\n",
    "end"
   ]
  }
 ],
 "metadata": {
  "@webio": {
   "lastCommId": null,
   "lastKernelId": null
  },
  "kernelspec": {
   "display_name": "Julia 1.5.3",
   "language": "julia",
   "name": "julia-1.5"
  },
  "language_info": {
   "file_extension": ".jl",
   "mimetype": "application/julia",
   "name": "julia",
   "version": "1.5.3"
  }
 },
 "nbformat": 4,
 "nbformat_minor": 2
}
