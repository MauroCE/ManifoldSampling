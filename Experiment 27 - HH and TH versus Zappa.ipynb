{
 "cells": [
  {
   "cell_type": "markdown",
   "id": "558eed89",
   "metadata": {},
   "source": [
    "# Zappa"
   ]
  },
  {
   "cell_type": "markdown",
   "id": "984b88eb",
   "metadata": {},
   "source": [
    "Recall that in Graham's paper the target distribution is\n",
    "$$\n",
    "\\pi(u) = \\left|\\frac{\\partial G_y}{\\partial u}\\frac{\\partial G_y}{\\partial u}^\\top\\right|^{-1/2} \\rho(u)\n",
    "$$"
   ]
  },
  {
   "cell_type": "markdown",
   "id": "20daf4fe",
   "metadata": {},
   "source": [
    "where $u$ is the set of latents for both the prior and for the simulator, $\\rho(u)$ is the prior for these latents and $G_y: u\\mapsto y$."
   ]
  },
  {
   "cell_type": "markdown",
   "id": "735b0d91",
   "metadata": {},
   "source": [
    "In our case $u = [u_\\theta, u_y]$ and $G_\\theta(u) = u_\\theta$. This means that $\\theta = u_\\theta$. Therefore $G_y(u) = G_y(u_\\theta, u_y) = y$. This transformation is simply the simulator, which in our case is given by\n",
    "$$\n",
    "G_y(u) = \\log N(u\\mid 0, \\Sigma) = -\\log(2\\pi) - \\frac{1}{2}\\log\\det \\Sigma - \\frac{1}{2}u^\\top\\Sigma^{-1} u\n",
    "$$"
   ]
  },
  {
   "cell_type": "markdown",
   "id": "ff7e44b7",
   "metadata": {},
   "source": [
    "The manifold we are interested in, is\n",
    "$$\n",
    "\\left\\{u\\in\\mathbb{R}^2:\\, G_y(u) - z_0 = 0\\right\\}\n",
    "$$"
   ]
  },
  {
   "cell_type": "markdown",
   "id": "81aa92f0",
   "metadata": {},
   "source": [
    "Since $G_y:\\mathbb{R}^2\\to\\mathbb{R}$, the Jacobian of this function must be a matrix of shape $\\mathbb{R}^{1\\times 2}$.\n",
    "$$\n",
    "\\frac{\\partial G_y}{\\partial u} = (-\\Sigma^{-1} u)^\\top = - u^\\top \\Sigma^{-1} \\in\\mathbb{R}^{1\\times 2}\n",
    "$$\n",
    "Then the Gram term becomes\n",
    "$$\n",
    "\\frac{\\partial G_y}{\\partial u}\\frac{\\partial G_y}{\\partial u}^\\top = u^\\top \\Sigma^{-1}\\Sigma^{-1} u = (\\Sigma^{-1}u)^\\top(\\Sigma^{-1} u) = \\|\\Sigma^{-1} u\\|^2\n",
    "$$"
   ]
  },
  {
   "cell_type": "markdown",
   "id": "051dc89a",
   "metadata": {},
   "source": [
    "Therefore we have\n",
    "$$\n",
    "\\left|\\frac{\\partial G_y}{\\partial u}\\frac{\\partial G_y}{\\partial u}^\\top\\right| = \\frac{1}{\\|\\Sigma^{-1}u\\|}\n",
    "$$"
   ]
  },
  {
   "cell_type": "markdown",
   "id": "6a00f5a7",
   "metadata": {},
   "source": [
    "The distribution of the latent variables in our case is $\\rho(u) = \\rho(u_\\theta, u_y) = \\rho(\\theta, u_y) = \\mathcal{U}([-50, 50]\\times[-50, 50])$. The log density is thus\n",
    "\n",
    "$$\n",
    "\\log \\pi(u) \\propto - \\log \\|\\Sigma^{-1} u\\|\n",
    "$$"
   ]
  },
  {
   "cell_type": "markdown",
   "id": "ffbc6769",
   "metadata": {},
   "source": [
    "Recall in HUG we sample $v\\sim N(0, I)$ and then, using $\\delta = T/B$ we move $x + \\frac{\\delta}{2} v$. This means that equivalently we have sampled $v\\sim N(0, \\frac{\\delta^2}{4} I)$ and then moved $x + v$. For this reason, I should choose the scale for zappa $\\sigma \\approx \\frac{\\delta}{2}$ "
   ]
  },
  {
   "cell_type": "code",
   "execution_count": 1,
   "id": "51939e8d",
   "metadata": {},
   "outputs": [],
   "source": [
    "import numpy as np\n",
    "from numpy import load, arange, linspace\n",
    "import matplotlib.pyplot as plt\n",
    "from utils import box_plot, num_grad_hug_hop, num_grad_thug_hop"
   ]
  },
  {
   "cell_type": "code",
   "execution_count": 2,
   "id": "ec1d5e80",
   "metadata": {},
   "outputs": [],
   "source": [
    "folder1 = \"experiment27/\"\n",
    "\n",
    "# HUG\n",
    "ESS_ZAPPA       = load(folder1 + \"ESS_ZAPPA.npy\")\n",
    "ESS_J_ZAPPA     = load(folder1 + \"ESS_JOINT_ZAPPA.npy\")\n",
    "A_ZAPPA         = load(folder1 + \"A_ZAPPA.npy\")\n",
    "EJSD_ZAPPA      = load(folder1 + \"EJSD_ZAPPA.npy\") \n",
    "\n",
    "N_GRAD_ZAPPA    = load(folder1 + \"N_GRAD.npy\")\n",
    "\n",
    "folder2 = \"experiment13full4/\"\n",
    "\n",
    "# HUG\n",
    "THETA_ESS_HUG = load(folder2 + \"THETA_ESS_HUG.npy\")\n",
    "U_ESS_HUG     = load(folder2 + \"U_ESS_HUG.npy\")\n",
    "ESS_HUG       = load(folder2 + \"ESS_JOINT_HUG.npy\")\n",
    "A_HUG         = load(folder2 + \"A_HUG.npy\")\n",
    "EJSD_HUG      = load(folder2 + \"EJSD_HUG.npy\")\n",
    "\n",
    "# THUG\n",
    "THETA_ESS_THUG = load(folder2 + \"THETA_ESS_THUG.npy\")\n",
    "U_ESS_THUG     = load(folder2 + \"U_ESS_THUG.npy\")\n",
    "ESS_THUG       = load(folder2 + \"ESS_JOINT_THUG.npy\")\n",
    "A_THUG         = load(folder2 + \"A_THUG.npy\")\n",
    "EJSD_THUG      = load(folder2 + \"EJSD_THUG.npy\")\n",
    "\n",
    "# COMMON\n",
    "EPSILONS       = load(folder2 + \"EPSILONS.npy\")\n",
    "ALPHAS         = load(folder2 + \"ALPHAS.npy\")\n",
    "TS             = load(folder2 + \"TS.npy\")\n",
    "time           = load(folder2 + \"TIME.npy\")"
   ]
  },
  {
   "cell_type": "markdown",
   "id": "f6c3c217",
   "metadata": {},
   "source": [
    "### Gradients"
   ]
  },
  {
   "cell_type": "code",
   "execution_count": 16,
   "id": "04a221dd",
   "metadata": {},
   "outputs": [
    {
     "data": {
      "text/plain": [
       "array([922052.5, 286954.3, 205620.6, 186004.9])"
      ]
     },
     "execution_count": 16,
     "metadata": {},
     "output_type": "execute_result"
    }
   ],
   "source": [
    "avg_zappa_grads = N_GRAD_ZAPPA.mean(axis=0); avg_zappa_grads"
   ]
  },
  {
   "cell_type": "code",
   "execution_count": 17,
   "id": "50d6b323",
   "metadata": {},
   "outputs": [],
   "source": [
    "N = 50000\n",
    "B = 5"
   ]
  },
  {
   "cell_type": "code",
   "execution_count": 18,
   "id": "7894f4bd",
   "metadata": {},
   "outputs": [
    {
     "data": {
      "text/plain": [
       "array([5.26887143, 1.63973886, 1.17497486, 1.06288514])"
      ]
     },
     "execution_count": 18,
     "metadata": {},
     "output_type": "execute_result"
    }
   ],
   "source": [
    "N_GRAD_ZAPPA.mean(axis=0) / num_grad_hug_hop(N, B) "
   ]
  },
  {
   "cell_type": "code",
   "execution_count": 19,
   "id": "07bdab82",
   "metadata": {},
   "outputs": [
    {
     "data": {
      "text/plain": [
       "array([4.09801111, 1.27535244, 0.91386933, 0.82668844])"
      ]
     },
     "execution_count": 19,
     "metadata": {},
     "output_type": "execute_result"
    }
   ],
   "source": [
    "N_GRAD_ZAPPA.mean(axis=0) / num_grad_thug_hop(N, B) "
   ]
  },
  {
   "cell_type": "markdown",
   "id": "fe9c508f",
   "metadata": {},
   "source": [
    "### Zappa"
   ]
  },
  {
   "cell_type": "code",
   "execution_count": 73,
   "id": "9f777143",
   "metadata": {
    "scrolled": true
   },
   "outputs": [
    {
     "data": {
      "text/plain": [
       "(array([1064.09967736,  103.19882906,    7.22766851,    7.0543261 ]),\n",
       " array([3062.66066967,   60.39704781,    8.63964866,    6.00078204]))"
      ]
     },
     "execution_count": 73,
     "metadata": {},
     "output_type": "execute_result"
    }
   ],
   "source": [
    "# Univariate ESS on theta and u as T changes\n",
    "ESS_ZAPPA[:, :, 0].mean(axis=0), ESS_ZAPPA[:, :, 1].mean(axis=0)"
   ]
  },
  {
   "cell_type": "code",
   "execution_count": 50,
   "id": "be22a880",
   "metadata": {},
   "outputs": [
    {
     "data": {
      "text/plain": [
       "array([1972.75755921,  278.12864772,  229.09232736,  228.79363086])"
      ]
     },
     "execution_count": 50,
     "metadata": {},
     "output_type": "execute_result"
    }
   ],
   "source": [
    "ESS_J_ZAPPA[:, :].mean(axis=0)"
   ]
  },
  {
   "cell_type": "code",
   "execution_count": 51,
   "id": "b981318e",
   "metadata": {},
   "outputs": [
    {
     "data": {
      "text/plain": [
       "array([67.15729471, 97.13586595, 92.33946652, 79.25190523])"
      ]
     },
     "execution_count": 51,
     "metadata": {},
     "output_type": "execute_result"
    }
   ],
   "source": [
    "A_ZAPPA.mean(axis=0)"
   ]
  },
  {
   "cell_type": "code",
   "execution_count": 52,
   "id": "0330bafb",
   "metadata": {},
   "outputs": [
    {
     "data": {
      "text/plain": [
       "array([4.22577468e-01, 9.74421205e-03, 9.86147137e-05, 8.00176912e-07])"
      ]
     },
     "execution_count": 52,
     "metadata": {},
     "output_type": "execute_result"
    }
   ],
   "source": [
    "EJSD_ZAPPA.mean(axis=0)"
   ]
  },
  {
   "cell_type": "markdown",
   "id": "31948f8c",
   "metadata": {},
   "source": [
    "### Hug"
   ]
  },
  {
   "cell_type": "code",
   "execution_count": 102,
   "id": "a3900c28",
   "metadata": {},
   "outputs": [
    {
     "data": {
      "text/plain": [
       "(array([6.5363205 , 9.27562768, 5.52066951, 6.58784597]),\n",
       " array([6.7233777 , 7.80717772, 5.50943213, 6.10063469]))"
      ]
     },
     "execution_count": 102,
     "metadata": {},
     "output_type": "execute_result"
    }
   ],
   "source": [
    "THETA_ESS_HUG[:, -1, :].mean(axis=0), U_ESS_HUG[:, -1, :].mean(axis=0)"
   ]
  },
  {
   "cell_type": "code",
   "execution_count": 80,
   "id": "177f119e",
   "metadata": {},
   "outputs": [
    {
     "data": {
      "text/plain": [
       "array([227.8766808 , 229.41951762, 228.66012558, 228.84446591])"
      ]
     },
     "execution_count": 80,
     "metadata": {},
     "output_type": "execute_result"
    }
   ],
   "source": [
    "ESS_HUG[:, -1, :].mean(axis=0)"
   ]
  },
  {
   "cell_type": "code",
   "execution_count": 86,
   "id": "a73b5f04",
   "metadata": {},
   "outputs": [
    {
     "data": {
      "text/plain": [
       "array([5.14781331e-06, 8.44895527e-05, 6.12643326e-05, 2.23549963e-05])"
      ]
     },
     "execution_count": 86,
     "metadata": {},
     "output_type": "execute_result"
    }
   ],
   "source": [
    "EJSD_HUG[:, -1, :].mean(axis=0)"
   ]
  },
  {
   "cell_type": "markdown",
   "id": "fcbdeb13",
   "metadata": {},
   "source": [
    "### THUG"
   ]
  },
  {
   "cell_type": "code",
   "execution_count": 92,
   "id": "67ccb1eb",
   "metadata": {},
   "outputs": [
    {
     "data": {
      "text/plain": [
       "array([[ 7.17883013,  5.58530422,  6.4738642 ,  6.08905548],\n",
       "       [ 9.17766026,  7.36308562,  6.60402867,  7.14318124],\n",
       "       [ 7.66642297,  7.81313991, 12.3565901 , 19.87442853],\n",
       "       [ 6.69305771,  7.11879569,  9.06712403, 10.13314349]])"
      ]
     },
     "execution_count": 92,
     "metadata": {},
     "output_type": "execute_result"
    }
   ],
   "source": [
    "THETA_ESS_THUG[:, -1, :, :].mean(axis=0)"
   ]
  },
  {
   "cell_type": "code",
   "execution_count": 93,
   "id": "57e0a41c",
   "metadata": {},
   "outputs": [
    {
     "data": {
      "text/plain": [
       "array([[ 5.73322188,  6.05904317,  6.96061345,  5.76075086],\n",
       "       [ 8.56666051,  7.68434667,  6.5969976 ,  7.43724721],\n",
       "       [ 6.64961439,  8.01682884,  9.43039169, 14.40530356],\n",
       "       [ 6.75732775,  6.86223326,  7.10674458,  7.97128209]])"
      ]
     },
     "execution_count": 93,
     "metadata": {},
     "output_type": "execute_result"
    }
   ],
   "source": [
    "U_ESS_THUG[:, -1, :, :].mean(axis=0)"
   ]
  },
  {
   "cell_type": "code",
   "execution_count": 95,
   "id": "3cedc877",
   "metadata": {},
   "outputs": [
    {
     "data": {
      "text/plain": [
       "array([[226.88888229, 226.18397237, 227.41580589, 228.41315948],\n",
       "       [234.80057374, 233.0115679 , 229.68352849, 230.43860517],\n",
       "       [229.7121864 , 228.55413558, 231.03757313, 236.3596721 ],\n",
       "       [228.40460804, 227.9035054 , 230.38829979, 231.21534337]])"
      ]
     },
     "execution_count": 95,
     "metadata": {},
     "output_type": "execute_result"
    }
   ],
   "source": [
    "ESS_THUG[:, -1, :, :].mean(axis=0)"
   ]
  },
  {
   "cell_type": "code",
   "execution_count": 98,
   "id": "7ba0b91c",
   "metadata": {},
   "outputs": [
    {
     "data": {
      "text/plain": [
       "array([[3.54867209e-05, 2.09834523e-05, 3.32484292e-05, 2.40750484e-05],\n",
       "       [1.04169667e-04, 2.29449902e-04, 1.99969325e-04, 2.24519337e-04],\n",
       "       [8.90760755e-05, 2.95902899e-04, 8.87978755e-04, 1.02323666e-03],\n",
       "       [3.44731453e-05, 7.23478203e-05, 9.46236972e-05, 9.54316942e-05]])"
      ]
     },
     "execution_count": 98,
     "metadata": {},
     "output_type": "execute_result"
    }
   ],
   "source": [
    "EJSD_THUG[:, -1, :, :].mean(axis=0)"
   ]
  },
  {
   "cell_type": "code",
   "execution_count": 105,
   "id": "a37d2503",
   "metadata": {},
   "outputs": [
    {
     "data": {
      "text/plain": [
       "nan"
      ]
     },
     "execution_count": 105,
     "metadata": {},
     "output_type": "execute_result"
    }
   ],
   "source": [
    "-np.inf - (-np.inf)"
   ]
  },
  {
   "cell_type": "markdown",
   "id": "deaa81cf",
   "metadata": {},
   "source": [
    "# project multivariate"
   ]
  },
  {
   "cell_type": "code",
   "execution_count": 4,
   "id": "e7ecfeb5",
   "metadata": {},
   "outputs": [],
   "source": [
    "import numpy as np\n",
    "from numpy.random import randn, rand, exponential\n",
    "from numpy.linalg import svd, solve\n",
    "from numpy import log, zeros\n",
    "import matplotlib.pyplot as plt\n",
    "from numpy import pi\n",
    "from scipy.optimize import root\n",
    "from scipy.stats import multivariate_normal, norm\n",
    "from utils import normalize\n",
    "from utils import logp as logp_scale\n",
    "from utils import angle_between"
   ]
  },
  {
   "cell_type": "code",
   "execution_count": 5,
   "id": "744a48de",
   "metadata": {},
   "outputs": [],
   "source": [
    "import numpy as np\n",
    "from numpy import diag, zeros, exp, log, eye, vstack, save\n",
    "from scipy.stats import multivariate_normal as MVN\n",
    "from numpy.linalg import norm, solve\n",
    "from numpy.random import rand\n",
    "from time import time\n",
    "\n",
    "from Manifolds.GeneralizedEllipse import GeneralizedEllipse\n",
    "from utils import ESS, ESS_univariate"
   ]
  },
  {
   "cell_type": "code",
   "execution_count": 6,
   "id": "bb999d28",
   "metadata": {},
   "outputs": [],
   "source": [
    "# MVN defining the manifold\n",
    "Sigma = diag([1.0, 5.0]) \n",
    "d = Sigma.shape[0]\n",
    "mu = zeros(d)\n",
    "target = MVN(mu, Sigma)\n",
    "\n",
    "# Manifold\n",
    "z0 = -2.9513586307684885\n",
    "manifold = GeneralizedEllipse(mu, Sigma, exp(z0))\n",
    "\n",
    "# Settings\n",
    "N = 50000  \n",
    "n_runs = 10\n",
    "n_cores = 8\n",
    "tol = 1.48e-08\n",
    "a_guess = 1.0\n",
    "\n",
    "# Target on the manifold\n",
    "logf = lambda xi: - log(norm(solve(Sigma, xi)))\n",
    "\n",
    "\n",
    "Ts = [10, 1, 0.1, 0.01] \n",
    "n_T = len(Ts)"
   ]
  },
  {
   "cell_type": "code",
   "execution_count": 7,
   "id": "7897345a",
   "metadata": {},
   "outputs": [],
   "source": [
    "x0 = manifold.sample()"
   ]
  },
  {
   "cell_type": "code",
   "execution_count": 8,
   "id": "562c3d24",
   "metadata": {},
   "outputs": [],
   "source": [
    "v0 = MVN(zeros(d-1), eye(d-1)).rvs()"
   ]
  },
  {
   "cell_type": "code",
   "execution_count": 10,
   "id": "69466a02",
   "metadata": {},
   "outputs": [],
   "source": [
    "log_uniforms = log(rand(N))"
   ]
  },
  {
   "cell_type": "code",
   "execution_count": 12,
   "id": "3c3a919e",
   "metadata": {},
   "outputs": [],
   "source": [
    "sigma = 1.0"
   ]
  },
  {
   "cell_type": "code",
   "execution_count": 15,
   "id": "ba85ea61",
   "metadata": {},
   "outputs": [],
   "source": [
    "v0 = np.array([v0])"
   ]
  },
  {
   "cell_type": "code",
   "execution_count": 17,
   "id": "1dbbce92",
   "metadata": {},
   "outputs": [],
   "source": [
    "maxiter = 50"
   ]
  },
  {
   "cell_type": "code",
   "execution_count": 16,
   "id": "da863e5f",
   "metadata": {},
   "outputs": [],
   "source": [
    "a = 0.0\n",
    "# Do First Step\n",
    "Qx = manifold.Q(x0)                       # Gradient at x.                             Size: (d + m, )\n",
    "tx_basis = manifold.tangent_basis(Qx)    # ON basis for tangent space at x using SVD  Size: (d + m, d)\n",
    "\n",
    "# Sample along tangent \n",
    "v_sample = sigma*v0  # Isotropic MVN with scaling sigma         Size: (d, )\n",
    "v = tx_basis @ v_sample    # Linear combination of the basis vectors  Size: (d + m, )"
   ]
  },
  {
   "cell_type": "code",
   "execution_count": 19,
   "id": "03ae4c27",
   "metadata": {},
   "outputs": [],
   "source": [
    "opt_output = root(lambda a: manifold.q(x0 + v0 + Qx @ a), a_guess, tol=tol, options={'maxfev':maxiter})"
   ]
  },
  {
   "cell_type": "code",
   "execution_count": 20,
   "id": "a0185be8",
   "metadata": {},
   "outputs": [
    {
     "data": {
      "text/plain": [
       "    fjac: array([[-1.]])\n",
       "     fun: 1.8203652381866609\n",
       " message: 'The iteration is not making good progress, as measured by the \\n  improvement from the last ten iterations.'\n",
       "    nfev: 22\n",
       "     qtf: array([-1.82036604])\n",
       "       r: array([-0.00147377])\n",
       "  status: 5\n",
       " success: False\n",
       "       x: array([-4.63996868])"
      ]
     },
     "execution_count": 20,
     "metadata": {},
     "output_type": "execute_result"
    }
   ],
   "source": [
    "opt_output"
   ]
  },
  {
   "cell_type": "code",
   "execution_count": 39,
   "id": "9766bdf3",
   "metadata": {},
   "outputs": [],
   "source": [
    "def project_zappa(q, z, Q, grad_q, tol = 1.48e-08 , maxiter = 50):\n",
    "    '''\n",
    "    Project given z back onto manifold using to solve Newton's Method by solving:\n",
    "        g(a) = q(z + Q @ a) = 0\n",
    "    where q is the set of m constraints defining the manifold with dimension d and \n",
    "    codimension m.\n",
    "    '''\n",
    "    a, flag, i = np.zeros(Q.shape[1]), 1, 0\n",
    "    \n",
    "\n",
    "    #Newton's method to solve q(z + Q @ a)\n",
    "    while la.norm(q(z + Q @ a)) > tol:\n",
    "        delta_a = la.solve(grad_q(z + Q @ a).transpose() @ Q, -q(z + Q @ a))\n",
    "        a += delta_a\n",
    "        i += 1\n",
    "        #print(a, q(z + Q @ a), i) #for debugging\n",
    "        if i > maxiter: \n",
    "            flag = 0\n",
    "            return a, flag, i\n",
    "            \n",
    "\n",
    "    return a, flag, i\n"
   ]
  },
  {
   "cell_type": "code",
   "execution_count": null,
   "id": "0cec0673",
   "metadata": {},
   "outputs": [],
   "source": []
  },
  {
   "cell_type": "code",
   "execution_count": 40,
   "id": "0675ff88",
   "metadata": {},
   "outputs": [],
   "source": [
    "from scipy import linalg as la"
   ]
  },
  {
   "cell_type": "code",
   "execution_count": 41,
   "id": "cce00bc7",
   "metadata": {},
   "outputs": [
    {
     "data": {
      "text/plain": [
       "(array([1.39786512]), 0, 51)"
      ]
     },
     "execution_count": 41,
     "metadata": {},
     "output_type": "execute_result"
    }
   ],
   "source": [
    "project_zappa(manifold.q, x0 + v0, Qx, manifold.Q, tol, maxiter)"
   ]
  },
  {
   "cell_type": "code",
   "execution_count": 30,
   "id": "e111ea1c",
   "metadata": {},
   "outputs": [
    {
     "data": {
      "text/plain": [
       "1.7273070561709516"
      ]
     },
     "execution_count": 30,
     "metadata": {},
     "output_type": "execute_result"
    }
   ],
   "source": [
    "manifold.q(np.array([1.39786512]))"
   ]
  },
  {
   "cell_type": "code",
   "execution_count": 44,
   "id": "9add9097",
   "metadata": {},
   "outputs": [
    {
     "data": {
      "text/plain": [
       "0.0522686438979923"
      ]
     },
     "execution_count": 44,
     "metadata": {},
     "output_type": "execute_result"
    }
   ],
   "source": [
    "manifold.z"
   ]
  },
  {
   "cell_type": "code",
   "execution_count": 46,
   "id": "051fc417",
   "metadata": {},
   "outputs": [
    {
     "data": {
      "text/plain": [
       "-1.5432100042289676e-14"
      ]
     },
     "execution_count": 46,
     "metadata": {},
     "output_type": "execute_result"
    }
   ],
   "source": [
    "manifold.q(x0)"
   ]
  },
  {
   "cell_type": "code",
   "execution_count": 47,
   "id": "ad95173b",
   "metadata": {},
   "outputs": [
    {
     "data": {
      "text/plain": [
       "1.7273070561709516"
      ]
     },
     "execution_count": 47,
     "metadata": {},
     "output_type": "execute_result"
    }
   ],
   "source": [
    "manifold.q(np.array([1.39786512]))"
   ]
  },
  {
   "cell_type": "code",
   "execution_count": 43,
   "id": "7a4b984a",
   "metadata": {},
   "outputs": [
    {
     "data": {
      "text/plain": [
       "    fjac: array([[-1.]])\n",
       "     fun: 1.8203652381866609\n",
       " message: 'The iteration is not making good progress, as measured by the \\n  improvement from the last ten iterations.'\n",
       "    nfev: 22\n",
       "     qtf: array([-1.82036604])\n",
       "       r: array([-0.00147377])\n",
       "  status: 5\n",
       " success: False\n",
       "       x: array([-4.63996868])"
      ]
     },
     "execution_count": 43,
     "metadata": {},
     "output_type": "execute_result"
    }
   ],
   "source": [
    "root(lambda a: manifold.q(x0 + v0 + Qx @ a), a_guess, tol=tol, options={'maxfev':200})"
   ]
  },
  {
   "cell_type": "code",
   "execution_count": null,
   "id": "a059b803",
   "metadata": {},
   "outputs": [],
   "source": []
  }
 ],
 "metadata": {
  "kernelspec": {
   "display_name": "Python 3 (ipykernel)",
   "language": "python",
   "name": "python3"
  },
  "language_info": {
   "codemirror_mode": {
    "name": "ipython",
    "version": 3
   },
   "file_extension": ".py",
   "mimetype": "text/x-python",
   "name": "python",
   "nbconvert_exporter": "python",
   "pygments_lexer": "ipython3",
   "version": "3.8.10"
  }
 },
 "nbformat": 4,
 "nbformat_minor": 5
}
