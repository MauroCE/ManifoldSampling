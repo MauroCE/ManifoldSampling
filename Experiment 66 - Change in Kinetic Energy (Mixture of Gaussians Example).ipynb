{
 "cells": [
  {
   "cell_type": "code",
   "execution_count": 63,
   "id": "c40183ed",
   "metadata": {},
   "outputs": [],
   "source": [
    "import numpy as np\n",
    "from scipy.stats import multivariate_normal as MVN\n",
    "import matplotlib.pyplot as plt\n",
    "from scipy.optimize import root, fsolve, minimize\n",
    "from numpy.linalg import norm, solve, inv\n",
    "from numpy import log, zeros, eye, exp\n",
    "from scipy.stats import uniform as udist\n",
    "from numpy.random import rand\n",
    "from matplotlib.colors import ListedColormap\n",
    "\n",
    "from utils import prep_contour\n",
    "from Manifolds.GeneralizedEllipse import GeneralizedEllipse"
   ]
  },
  {
   "cell_type": "markdown",
   "id": "86b9a494",
   "metadata": {},
   "source": [
    "The constraint function is \n",
    "$$\n",
    "\\begin{align}\n",
    "    f(x) \n",
    "    &= \\log\\left(\\frac{1}{2}\\mathcal{N}(x\\mid 0, \\Sigma_1) + \\frac{1}{2}\\mathcal{N}(x\\mid 0, \\Sigma_2)\\right) \\\\\n",
    "    &= \\log\\left(\\frac{1}{4\\pi}\\left[(\\det\\Sigma_1)^{-1/2}\\exp\\left\\{-\\frac{1}{2}x^\\top\\Sigma_1^{-1} x\\right\\} + (\\det\\Sigma_2)^{-1/2}\\exp\\left\\{-\\frac{1}{2}x^\\top\\Sigma_2^{-1} x\\right\\}\\right]\\right) \\\\\n",
    "    &= \\log\\left(\\frac{1}{4\\pi}\\left[\\exp\\left\\{-\\frac{1}{2}x^\\top\\Sigma_1^{-1} x\\right\\} + \\exp\\left\\{-\\frac{1}{2}x^\\top\\Sigma_2^{-1} x\\right\\}\\right]\\right)\n",
    "\\end{align}\n",
    "$$\n",
    "The gradient of the constraint function with respect to $x$ is\n",
    "$$\n",
    "\\begin{align}\n",
    "    \\nabla f(x)\n",
    "    &= - \\frac{1}{\\frac{1}{4\\pi}\\left[\\exp\\left\\{-\\frac{1}{2}x^\\top\\Sigma_1^{-1} x\\right\\} + \\exp\\left\\{-\\frac{1}{2}x^\\top\\Sigma_2^{-1} x\\right\\}\\right]}\\cdot \\frac{1}{4\\pi}\\left[\\Sigma_1^{-1}x \\exp\\left\\{-\\frac{1}{2}x^\\top\\Sigma_1^{-1} x\\right\\} + \\Sigma_2^{-1} x\\exp\\left\\{-\\frac{1}{2}x^\\top\\Sigma_2^{-1} x\\right\\}\\right] \\\\\n",
    "    &= \\frac{\\left(\\exp\\left\\{-\\frac{1}{2}x^\\top\\Sigma_1^{-1} x\\right\\}\\Sigma_1^{-1} + \\exp\\left\\{-\\frac{1}{2}x^\\top\\Sigma_2^{-1} x\\right\\}\\Sigma_2^{-1}\\right)x}{\\exp\\left\\{-\\frac{1}{2}x^\\top\\Sigma_1^{-1} x\\right\\} + \\exp\\left\\{-\\frac{1}{2}x^\\top\\Sigma_2^{-1} x\\right\\}} \\\\\n",
    "    &= \\left[\\frac{\\exp\\left\\{-\\frac{1}{2}x^\\top \\Sigma_1^{-1} x\\right\\}}{\\exp\\left\\{-\\frac{1}{2}x^\\top \\Sigma_1^{-1} x\\right\\} + \\exp\\left\\{-\\frac{1}{2}x^\\top \\Sigma_2^{-1} x\\right\\}}\\Sigma_1^{-1} + \\frac{\\exp\\left\\{-\\frac{1}{2}x^\\top \\Sigma_2^{-1} x\\right\\}}{\\exp\\left\\{-\\frac{1}{2}x^\\top \\Sigma_1^{-1} x\\right\\} + \\exp\\left\\{-\\frac{1}{2}x^\\top \\Sigma_2^{-1} x\\right\\}}\\Sigma_2^{-1}\\right] x \\\\\n",
    "    &= \\left[\\frac{1}{1 + \\exp\\left\\{-\\frac{1}{2}x^\\top \\Sigma_2^{-1} x + \\frac{1}{2}x^\\top \\Sigma_1^{-1}x\\right\\}}\\Sigma_1^{-1} + \\frac{1}{1 + \\exp\\left\\{-\\frac{1}{2}x^\\top \\Sigma_1^{-1} x + \\frac{1}{2}x^\\top \\Sigma_2^{-1}x\\right\\}}\\Sigma_2^{-1}\\right]x \\\\\n",
    "    &= \\left[\\frac{1}{1 + \\exp\\left\\{-\\frac{1}{2}x^\\top (\\Sigma_2^{-1} - \\Sigma_1^{-1})x\\right\\}}\\Sigma_1^{-1} + \\frac{1}{1 + \\exp\\left\\{\\frac{1}{2}x^\\top (\\Sigma_2^{-1} - \\Sigma_1^{-1})x\\right\\}}\\Sigma_2^{-1}\\right]x\n",
    "\\end{align}\n",
    "$$"
   ]
  },
  {
   "cell_type": "code",
   "execution_count": 34,
   "id": "690f37ac",
   "metadata": {},
   "outputs": [],
   "source": [
    "μ1 = np.array([0, 0])\n",
    "Σ1 = np.array([[10.0, 0.0], [0.0, 0.1]])\n",
    "π1 = MVN(μ1, Σ1)\n",
    "\n",
    "μ2 = np.array([0, 0])\n",
    "Σ2 = np.array([[0.1, 0.0], [0.0, 10.0]])\n",
    "π2 = MVN(μ2, Σ2)\n",
    "\n",
    "# Store values\n",
    "Σ1inv = inv(Σ1)\n",
    "Σ2inv = inv(Σ2)\n",
    "\n",
    "z0 = 0.04\n",
    "y = log(z0)\n",
    "pdf = lambda x: 0.5*π1.pdf(x) + 0.5*π2.pdf(x)\n",
    "f = lambda x: np.log(0.5*π1.pdf(x) + 0.5*π2.pdf(x))\n",
    "def grad(x):\n",
    "    \"\"\"Computes gradient of f.\"\"\"\n",
    "    exponent = x.dot(Σ2inv - Σ1inv).dot(x)\n",
    "    return (1/(1+np.exp(-0.5*exponent))*Σ1inv + 1/(1+np.exp(0.5*exponent))*Σ2inv).dot(x)"
   ]
  },
  {
   "cell_type": "code",
   "execution_count": 15,
   "id": "8ddb4416",
   "metadata": {},
   "outputs": [],
   "source": [
    "def sample_near_manifold(maxiter=100):\n",
    "    u = np.random.rand()\n",
    "    ellipse1 = GeneralizedEllipse(μ1, Σ1, 0.08)\n",
    "    ellipse2 = GeneralizedEllipse(μ2, Σ2, 0.08)\n",
    "    if u < 0.5:\n",
    "        return ellipse1.sample()\n",
    "    else:\n",
    "        return ellipse2.sample()\n",
    "\n",
    "def sample_on_manifold(tol=1e-8):\n",
    "    start = sample_near_manifold() #np.random.uniform(low=-1, high=1, size=2)\n",
    "    function = lambda xy: np.array([abs(f(xy) - y), 0.0])\n",
    "    return fsolve(function, start, xtol=tol)"
   ]
  },
  {
   "cell_type": "code",
   "execution_count": 46,
   "id": "f3217ac2",
   "metadata": {},
   "outputs": [
    {
     "data": {
      "image/png": "[encoded data removed]",
      "text/plain": [
       "<Figure size 432x288 with 1 Axes>"
      ]
     },
     "metadata": {
      "needs_background": "light"
     },
     "output_type": "display_data"
    }
   ],
   "source": [
    "fig, ax = plt.subplots()\n",
    "xlim = [-4, 4]\n",
    "ylim = [-4, 4]\n",
    "\n",
    "ax.contour(*prep_contour(xlim, ylim, 0.01, f), levels=[y])\n",
    "ax.scatter(*sample_on_manifold())\n",
    "plt.show()"
   ]
  },
  {
   "cell_type": "code",
   "execution_count": 77,
   "id": "a2974a06",
   "metadata": {},
   "outputs": [],
   "source": [
    "def HugTangential(x0, δ, B, N, α, q, logpi, grad_log_pi):\n",
    "    \"\"\"\n",
    "    Repurposed version of THUG.\n",
    "    \"\"\"\n",
    "    # The following dictionary stores everything we need\n",
    "    OUT = {\n",
    "        'D' : {f\"{i}\": [] for i in range(N)}, # Distance\n",
    "        'SD': {f\"{i}\": [] for i in range(N)}, # Square Distance\n",
    "        'AR': [np.nan for i in range(N)],     # Acceptance Ratio\n",
    "        'Δk': [np.nan for i in range(N)],     # Kinetic Energy\n",
    "        'Δℓ': [np.nan for i in range(N)],     # Potential Energy\n",
    "        'SAMPLES': x0,\n",
    "        'ACCEPTANCES': np.zeros(N),\n",
    "        'EJSD': [np.nan for i in range(N)]    # Acceptance Ratio * Squared Distance\n",
    "    }\n",
    "    for i in range(N):\n",
    "        v0s = q.rvs()                    # Draw velocity spherically\n",
    "        g = grad_log_pi(x0)              # Compute gradient at x0\n",
    "        g = g / norm(g)                  # Normalize\n",
    "        v0 = v0s - α * g * (g @ v0s) # Tilt velocity\n",
    "        v, x = v0, x0                    # Housekeeping\n",
    "        logu = np.log(rand())            # Acceptance ratio\n",
    "        for _ in range(B):\n",
    "            xmid = x + δ*v/2           # Move to midpoint\n",
    "            g = grad_log_pi(xmid)          # Compute gradient at midpoint\n",
    "            ghat = g / norm(g)          # Normalize \n",
    "            v = v - 2*(v @ ghat) * ghat # Reflect velocity using midpoint gradient\n",
    "            x = xmid + δ*v/2           # Move from midpoint to end-point\n",
    "            # Compute metrics\n",
    "            OUT['D'][f\"{i}\"].append(norm(x - x0))\n",
    "            OUT['SD'][f\"{i}\"].append(norm(x  -x0)**2)\n",
    "\n",
    "        # Unsqueeze the velocity\n",
    "        g = grad_log_pi(x)\n",
    "        g = g / norm(g)\n",
    "        v = v + (α / (1 - α)) * g * (g @ v)\n",
    "        # In the acceptance ratio must use spherical velocities!! Hence v0s and the unsqueezed v\n",
    "        logar = logpi(x) + q.logpdf(v) - logpi(x0) - q.logpdf(v0s)\n",
    "        ar = exp(logar)\n",
    "        OUT['AR'][i] = ar\n",
    "        OUT['Δk'][i] = - norm(v)**2 + norm(v0s)**2\n",
    "        OUT['Δℓ'][i] = logpi(x) - logpi(x0)\n",
    "        OUT['EJSD'][i] = ar * (norm(x - x0)**2)\n",
    "        if logu <= logar:\n",
    "            OUT['SAMPLES'] = np.vstack((OUT['SAMPLES'], x))\n",
    "            OUT['ACCEPTANCES'][i] = 1         # Accepted!\n",
    "            x0 = x\n",
    "        else:\n",
    "            OUT['SAMPLES'] = np.vstack((OUT['SAMPLES'], x0))\n",
    "            OUT['ACCEPTANCES'][i] = 0         # Rejected\n",
    "    return OUT"
   ]
  },
  {
   "cell_type": "code",
   "execution_count": 78,
   "id": "f677b4a6",
   "metadata": {},
   "outputs": [],
   "source": [
    "# Proposal for velocity\n",
    "q = MVN(zeros(2), eye(2))\n",
    "\n",
    "# Prior function is uniform on a huge square\n",
    "square_side = 10  # SQUARE SIDE\n",
    "logprior  = lambda xi: udist.logpdf(xi, loc=-square_side, scale=2*square_side).sum()"
   ]
  },
  {
   "cell_type": "code",
   "execution_count": 83,
   "id": "006a909f",
   "metadata": {},
   "outputs": [],
   "source": [
    "def generate_logpi(ϵ):\n",
    "    # Kernel\n",
    "#     def logkernel(xi):\n",
    "#         with np.errstate(divide='ignore'):\n",
    "#             return log(float(norm(f(xi) - z0) < ϵ) / ϵ)\n",
    "    def logkernel(xi):\n",
    "        return -norm(f(xi) - y)**2/(2*(ϵ**2)) - np.log(ϵ)\n",
    "    # Logpi\n",
    "    logpi = lambda xi: logprior(xi) + logkernel(xi)\n",
    "    return logpi"
   ]
  },
  {
   "cell_type": "code",
   "execution_count": 84,
   "id": "b62bcf00",
   "metadata": {},
   "outputs": [],
   "source": [
    "def generate_output(ϵs, αs, δs):\n",
    "    OUTS = []\n",
    "    for ϵix, ϵ in enumerate(ϵs):\n",
    "        for αix, α in enumerate(αs):\n",
    "            for δix, δ in enumerate(δs):\n",
    "                x0 = sample_on_manifold()\n",
    "                logpi = generate_logpi(ϵ)\n",
    "                OUTS.append(HugTangential(x0, δ, B, N, α, q, logpi, grad))\n",
    "    return OUTS"
   ]
  },
  {
   "cell_type": "code",
   "execution_count": 85,
   "id": "fa75c79d",
   "metadata": {},
   "outputs": [],
   "source": [
    "# Settings\n",
    "ϵ = 0.001\n",
    "δ = 0.1\n",
    "B = 20\n",
    "N = 10000\n",
    "\n",
    "ϵs = [ϵ]\n",
    "δs = [δ]\n",
    "αs = [0.0, 0.5, 0.9, 0.99]"
   ]
  },
  {
   "cell_type": "code",
   "execution_count": 86,
   "id": "b61fed5d",
   "metadata": {},
   "outputs": [],
   "source": [
    "OUTS = generate_output(\n",
    "    ϵs=ϵs,\n",
    "    αs=αs,\n",
    "    δs=δs\n",
    ")"
   ]
  },
  {
   "cell_type": "code",
   "execution_count": 87,
   "id": "11585223",
   "metadata": {},
   "outputs": [
    {
     "data": {
      "image/png": "[encoded data removed]",
      "text/plain": [
       "<Figure size 720x864 with 8 Axes>"
      ]
     },
     "metadata": {
      "needs_background": "light"
     },
     "output_type": "display_data"
    }
   ],
   "source": [
    "fig, ax = plt.subplots(nrows=len(αs), ncols=2, figsize=(10, int(3*len(αs))))\n",
    "for α_ix, α in enumerate(αs):\n",
    "    _ = ax[α_ix, 0].hist(np.exp(OUTS[α_ix]['Δk']), bins=20)\n",
    "    _ = ax[α_ix, 1].hist(np.exp(OUTS[α_ix]['Δℓ']), bins=20)\n",
    "    ax[α_ix, 0].set_ylabel(r\"$\\mathregular{\\alpha}=$\" + f\"{α}\", fontsize=20, fontname='STIXGeneral')\n",
    "ax[0, 0].set_title(r\"$\\mathregular{\\exp(- \\|v\\|^2 + \\|v_0\\|^2)}$\", fontsize=20, fontname='STIXGeneral')\n",
    "ax[0, 1].set_title(r\"$\\mathregular{\\exp(\\ell(x) - \\ell(x_0))}$\", fontsize=20, fontname='STIXGeneral')\n",
    "plt.show()"
   ]
  },
  {
   "cell_type": "code",
   "execution_count": 88,
   "id": "e210746a",
   "metadata": {},
   "outputs": [],
   "source": [
    "def percentage_in_interval(iterable, left, right):\n",
    "    \"\"\"Counts the number of elements in `iterable` that are contained in the \n",
    "    interval `[left, right]`.\"\"\"\n",
    "    array = np.array(iterable)\n",
    "    flag = (left <= array) & (array <= right)\n",
    "    return (len(array[flag]) / len(array)) * 100\n",
    "\n",
    "def prop_to_quantile_interval(p):\n",
    "    \"\"\"Transforms a proportion `p` into a quantile interval.\"\"\"\n",
    "    assert (0 <= p) and (p <= 1), \"Proportion must be between 0 and 1.\"\n",
    "    slack = (1.0 - p) / 2\n",
    "    return np.array([slack, 1.0 - slack])\n",
    "\n",
    "def generate_Δℓ_table(outs, props):\n",
    "    table = zeros((len(outs), len(props)))\n",
    "    for p_ix, p in enumerate(props):\n",
    "        # Transform `p` into a quantile interval\n",
    "        q_interval = prop_to_quantile_interval(p)\n",
    "        # Find interval within which for α=0 we get p% of Δℓ in\n",
    "        left, right = np.quantile(a=outs[0]['Δℓ'], q=q_interval)\n",
    "        # Fill in the first row of the table\n",
    "        table[0, p_ix] = percentage_in_interval(outs[0]['Δℓ'], left, right) # should be p\n",
    "        # Fill in the rest of the rows for other αs\n",
    "        for α_ix in range(1, len(outs)):\n",
    "            table[α_ix, p_ix] = percentage_in_interval(outs[α_ix]['Δℓ'], left, right)\n",
    "    return table"
   ]
  },
  {
   "cell_type": "code",
   "execution_count": 89,
   "id": "34089ed7",
   "metadata": {},
   "outputs": [
    {
     "data": {
      "text/plain": [
       "array([[25.  , 50.  , 75.  , 90.  ],\n",
       "       [25.02, 50.93, 77.06, 91.58],\n",
       "       [16.24, 35.86, 77.19, 92.93],\n",
       "       [16.27, 35.78, 79.05, 93.68]])"
      ]
     },
     "execution_count": 89,
     "metadata": {},
     "output_type": "execute_result"
    }
   ],
   "source": [
    "generate_Δl_table(OUTS, [0.25, 0.5, 0.75, 0.9])"
   ]
  },
  {
   "cell_type": "code",
   "execution_count": 90,
   "id": "9d1f9178",
   "metadata": {},
   "outputs": [],
   "source": [
    "def proportion_lessthan(iterable, value):\n",
    "    \"\"\"Proportion of elements in iterable that are less than value.\"\"\"\n",
    "    array = np.array(iterable)\n",
    "    flag = array <= value\n",
    "    return (sum(flag) / len(array))"
   ]
  },
  {
   "cell_type": "code",
   "execution_count": 92,
   "id": "977d6aa2",
   "metadata": {},
   "outputs": [],
   "source": [
    "def find_value_so_prop_Δℓ_larger_new(iterable, p):\n",
    "    N = len(iterable)\n",
    "    \n",
    "    return np.sort(np.array(iterable))[int(np.floor(N*np.round(1-p, decimals=2)))]"
   ]
  },
  {
   "cell_type": "code",
   "execution_count": 97,
   "id": "cb92cbfc",
   "metadata": {},
   "outputs": [],
   "source": [
    "def generate_Δℓ_table_new(outs, props):\n",
    "    \"\"\"This table only works on intervals of the type [L, \\infty).\"\"\"\n",
    "    table = zeros((len(outs), len(props)))\n",
    "    Ls = []\n",
    "    for p_ix, p in enumerate(props):\n",
    "        # Find value L so that a proportion p of samples have Δℓ larger than L\n",
    "        L = find_value_so_prop_Δℓ_larger_new(outs[0]['Δℓ'], p)\n",
    "        Ls.append(L)\n",
    "        # Fill in the first row of the table\n",
    "        table[0, p_ix] = percentage_in_interval(outs[0]['Δℓ'], L, np.inf) # should be p\n",
    "        # Fill in the rest of the rows for other αs\n",
    "        for α_ix in range(1, len(outs)):\n",
    "            table[α_ix, p_ix] = percentage_in_interval(outs[α_ix]['Δℓ'], L, np.inf)\n",
    "    return table, Ls"
   ]
  },
  {
   "cell_type": "code",
   "execution_count": 98,
   "id": "68980812",
   "metadata": {},
   "outputs": [
    {
     "data": {
      "text/plain": [
       "(array([[25.  , 50.  , 75.  , 90.  ],\n",
       "        [36.28, 66.69, 87.26, 95.82],\n",
       "        [54.96, 77.55, 90.83, 96.07],\n",
       "        [54.46, 77.65, 90.26, 96.48]]),\n",
       " [-0.149081341384381,\n",
       "  -5.042008738031542,\n",
       "  -55.065392077143024,\n",
       "  -297.35076714027065])"
      ]
     },
     "execution_count": 98,
     "metadata": {},
     "output_type": "execute_result"
    }
   ],
   "source": [
    "generate_Δℓ_table_new(OUTS, [0.25, 0.5, 0.75, 0.9])"
   ]
  },
  {
   "cell_type": "code",
   "execution_count": 99,
   "id": "7471b23f",
   "metadata": {},
   "outputs": [],
   "source": [
    "def generate_latex_table(table, Ls):\n",
    "    \"\"\"Generate table.\"\"\"\n",
    "    s  = r\"\\begin{table}[htp]\"         + \"\\n\"\n",
    "    s += r\"\\begin{tabular}{l|llll}\"    + \"\\n\"\n",
    "    s += r\"& $\\Delta\\ell \\geq {:.2f}$ & $\\Delta\\ell \\geq {:.2f}$ & $\\Delta\\ell \\geq {:.2f}$ & $\\Delta\\ell \\geq {:.2f}$ \\\\ \\hline\".format(*Ls) + \"\\n\"\n",
    "    s += r\"$\\alpha = 0$    & {:.0f} & {:.0f} & {:.0f} & {:.0f} \\\\\".format(*table[0, :]) + \"\\n\"\n",
    "    s += r\"$\\alpha = 0.5$  & {:.2f} & {:.2f} & {:.2f} & {:.2f} \\\\\".format(*table[1, :]) + \"\\n\"\n",
    "    s += r\"$\\alpha = 0.9$  & {:.2f} & {:.2f} & {:.2f} & {:.2f} \\\\\".format(*table[2, :]) + \"\\n\"\n",
    "    s += r\"$\\alpha = 0.99$ & {:.2f} & {:.2f} & {:.2f} & {:.2f}\".format(*table[3, :]) + \"\\n\"\n",
    "    s += r\"\\end{tabular}\" + \"\\n\"\n",
    "    s += r\"\\end{table}\"\n",
    "    print(s)"
   ]
  },
  {
   "cell_type": "code",
   "execution_count": 100,
   "id": "f50390f1",
   "metadata": {},
   "outputs": [
    {
     "name": "stdout",
     "output_type": "stream",
     "text": [
      "\\begin{table}[htp]\n",
      "\\begin{tabular}{l|llll}\n",
      "& $\\Delta\\ell \\geq -0.15$ & $\\Delta\\ell \\geq -5.04$ & $\\Delta\\ell \\geq -55.07$ & $\\Delta\\ell \\geq -297.35$ \\\\ \\hline\n",
      "$\\alpha = 0$    & 25 & 50 & 75 & 90 \\\\\n",
      "$\\alpha = 0.5$  & 36.28 & 66.69 & 87.26 & 95.82 \\\\\n",
      "$\\alpha = 0.9$  & 54.96 & 77.55 & 90.83 & 96.07 \\\\\n",
      "$\\alpha = 0.99$ & 54.46 & 77.65 & 90.26 & 96.48\n",
      "\\end{tabular}\n",
      "\\end{table}\n"
     ]
    }
   ],
   "source": [
    "generate_latex_table(*generate_Δℓ_table_new(OUTS, [0.25, 0.5, 0.75, 0.9]))"
   ]
  },
  {
   "cell_type": "code",
   "execution_count": null,
   "id": "355a6393",
   "metadata": {},
   "outputs": [],
   "source": []
  }
 ],
 "metadata": {
  "kernelspec": {
   "display_name": "Python 3 (ipykernel)",
   "language": "python",
   "name": "python3"
  },
  "language_info": {
   "codemirror_mode": {
    "name": "ipython",
    "version": 3
   },
   "file_extension": ".py",
   "mimetype": "text/x-python",
   "name": "python",
   "nbconvert_exporter": "python",
   "pygments_lexer": "ipython3",
   "version": "3.10.4"
  }
 },
 "nbformat": 4,
 "nbformat_minor": 5
}
