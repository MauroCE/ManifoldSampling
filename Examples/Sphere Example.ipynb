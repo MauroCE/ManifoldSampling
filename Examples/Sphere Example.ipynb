{
 "cells": [
  {
   "cell_type": "markdown",
   "metadata": {},
   "source": [
    "# Sampling from a Sphere"
   ]
  },
  {
   "cell_type": "code",
   "execution_count": null,
   "metadata": {},
   "outputs": [],
   "source": [
    "import sys\n",
    "sys.path.append(\"..\")\n",
    "import numpy as np\n",
    "from utils import logf, logp, quick_3d_scatter, normalize\n",
    "from Manifolds.Sphere import Sphere\n",
    "from zappa import zappa_sampling, project"
   ]
  },
  {
   "cell_type": "markdown",
   "metadata": {},
   "source": [
    "# Main Algorithm"
   ]
  },
  {
   "cell_type": "code",
   "execution_count": null,
   "metadata": {},
   "outputs": [],
   "source": [
    "# Settings\n",
    "mu = np.array([0, 0, 0])    # Center of the Sphere\n",
    "r = 0.5                     # Radius\n",
    "\n",
    "# Instantiate sphere and choose starting point on it\n",
    "sphere = Sphere(mu, r)\n",
    "x = sphere.to_cartesian([3.5, 3.5])\n",
    "\n",
    "# Run Zappa algorithm\n",
    "samples = zappa_sampling(x, sphere, logf, logp, n=10000, sigma=0.5, tol=1.48e-08 , a_guess=1.0)"
   ]
  },
  {
   "cell_type": "markdown",
   "metadata": {},
   "source": [
    "# 3D Scatter Plot of Samples"
   ]
  },
  {
   "cell_type": "code",
   "execution_count": null,
   "metadata": {},
   "outputs": [],
   "source": [
    "quick_3d_scatter(samples)"
   ]
  },
  {
   "cell_type": "markdown",
   "metadata": {},
   "source": [
    "# Marginals"
   ]
  },
  {
   "cell_type": "code",
   "execution_count": null,
   "metadata": {},
   "outputs": [],
   "source": [
    "# To Be Implemented\n",
    "#phis = np.arccos(c_samples[:, 0] / (r * np.sin(np.arccos(c_samples[:, 2]))))\n",
    "#_ = plt.hist(phis)"
   ]
  }
 ],
 "metadata": {
  "@webio": {
   "lastCommId": null,
   "lastKernelId": null
  },
  "kernelspec": {
   "display_name": "Python 3",
   "language": "python",
   "name": "python3"
  },
  "language_info": {
   "codemirror_mode": {
    "name": "ipython",
    "version": 3
   },
   "file_extension": ".py",
   "mimetype": "text/x-python",
   "name": "python",
   "nbconvert_exporter": "python",
   "pygments_lexer": "ipython3",
   "version": "3.7.4"
  }
 },
 "nbformat": 4,
 "nbformat_minor": 2
}
