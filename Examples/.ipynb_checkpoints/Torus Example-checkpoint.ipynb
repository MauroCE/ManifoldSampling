{
 "cells": [
  {
   "cell_type": "markdown",
   "metadata": {},
   "source": [
    "# Sampling from a Torus"
   ]
  },
  {
   "cell_type": "code",
   "execution_count": null,
   "metadata": {},
   "outputs": [],
   "source": [
    "import sys\n",
    "import numpy as np\n",
    "sys.path.append(\"..\")"
   ]
  },
  {
   "cell_type": "code",
   "execution_count": null,
   "metadata": {},
   "outputs": [],
   "source": [
    "from utils import logf, logp, quick_3d_scatter, normalize\n",
    "from Manifolds.Torus import Torus\n",
    "from zappa import zappa_sampling, project"
   ]
  },
  {
   "cell_type": "markdown",
   "metadata": {},
   "source": [
    "# Main Algorithm"
   ]
  },
  {
   "cell_type": "markdown",
   "metadata": {},
   "source": [
    "Manifold\n",
    "$$\n",
    "\\mathbb{T}^2 :=\\left\\{(x,y,z)\\in \\mathbb{R}^3\\,:\\, q(x, y, z) = 0\\right\\}\n",
    "$$\n",
    "Constraint function\n",
    "$$\n",
    "q(x, y, z) = \\left(\\sqrt{(x-x_0)^2+(y-y_0)^2} - R\\right)^2 + (z - z_0)^2 - r^2\n",
    "$$\n",
    "\n",
    "\n",
    "Jacobian / gradient\n",
    "$$\n",
    "J_q(x,y,z) = \n",
    "\\begin{pmatrix}\n",
    "    \\frac{2(x-x_0)\\left(\\sqrt{(x-x_0)^2+(y-y_0)^2}-R\\right)}{\\sqrt{(x-x_0)^2+(y-y_0)^2}} \\\\\n",
    "    \\frac{2(y-y_0)\\left(\\sqrt{(x-x_0)^2+(y-y_0)^2}-R\\right)}{\\sqrt{(x-x_0)^2+(y-y_0)^2}} \\\\\n",
    "    2(z - z_0)\n",
    "\\end{pmatrix}\n",
    "$$\n",
    "\n",
    "Cartesian Representation\n",
    "\n",
    "$$\n",
    "\\begin{align}\n",
    "    x &= x_0 + (R + r\\cos\\theta)\\cos\\phi \\\\\n",
    "    y &= y_0 + (R + r\\cos\\theta)\\sin\\phi \\\\\n",
    "    z &= z_0 + r\\sin\\theta\n",
    "\\end{align}\n",
    "$$\n",
    "\n",
    "Tangent basis from parametric representation"
   ]
  },
  {
   "cell_type": "code",
   "execution_count": null,
   "metadata": {},
   "outputs": [],
   "source": [
    "# Settings\n",
    "mu = np.array([0, 0, 0])    # Center of the Torus\n",
    "R = 1.0                     # Toroidal Radius\n",
    "r = 0.5                     # Poloidal Radius\n",
    "\n",
    "# Instantiate torus and choose starting point on it\n",
    "torus = Torus(mu, R, r)\n",
    "x = torus.to_cartesian([3.5, 3.5])\n",
    "\n",
    "# Run Zappa algorithm\n",
    "samples = zappa_sampling(x, torus, logf, logp, n=10000, sigma=0.5, tol=1.48e-08 , a_guess=1.0)"
   ]
  },
  {
   "cell_type": "markdown",
   "metadata": {},
   "source": [
    "# 3D Scatter Plot of Samples"
   ]
  },
  {
   "cell_type": "code",
   "execution_count": null,
   "metadata": {
    "scrolled": true
   },
   "outputs": [],
   "source": [
    "quick_3d_scatter(samples)"
   ]
  },
  {
   "cell_type": "markdown",
   "metadata": {},
   "source": [
    "# Marginals"
   ]
  },
  {
   "cell_type": "code",
   "execution_count": null,
   "metadata": {
    "scrolled": false
   },
   "outputs": [],
   "source": [
    "torus.plot_marginals(samples, bins=60, thinning=1)"
   ]
  }
 ],
 "metadata": {
  "@webio": {
   "lastCommId": null,
   "lastKernelId": null
  },
  "kernelspec": {
   "display_name": "Python 3",
   "language": "python",
   "name": "python3"
  },
  "language_info": {
   "codemirror_mode": {
    "name": "ipython",
    "version": 3
   },
   "file_extension": ".py",
   "mimetype": "text/x-python",
   "name": "python",
   "nbconvert_exporter": "python",
   "pygments_lexer": "ipython3",
   "version": "3.7.4"
  }
 },
 "nbformat": 4,
 "nbformat_minor": 2
}
