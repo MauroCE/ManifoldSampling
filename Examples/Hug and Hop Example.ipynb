{
 "cells": [
  {
   "cell_type": "code",
   "execution_count": null,
   "metadata": {},
   "outputs": [],
   "source": [
    "import sys\n",
    "sys.path.append(\"..\")\n",
    "import numpy as np\n",
    "from numpy.linalg import inv\n",
    "from scipy.stats import multivariate_normal\n",
    "import scipy\n",
    "import matplotlib.pyplot as plt\n",
    "\n",
    "from HugHop.StandardHugHop import HugHop\n",
    "from HugHop.HessianHugHop import HugHopPC\n",
    "from utils import quick_MVN_scatter, quick_MVN_marginals"
   ]
  },
  {
   "cell_type": "code",
   "execution_count": null,
   "metadata": {},
   "outputs": [],
   "source": [
    "# Target Distribution\n",
    "mu = np.zeros(2)\n",
    "Sigma = np.array([[1.0, 0.99], [0.99, 2.0]])\n",
    "target = multivariate_normal(mu, Sigma)\n",
    "grad_log_pi = lambda xy: - inv(Sigma) @ xy\n",
    "\n",
    "# Symmetric Proposal Distribution for the Velocity\n",
    "scale_q = 0.5\n",
    "q = multivariate_normal(np.zeros(2), (scale_q**2)*np.eye(2))\n",
    "\n",
    "# Settings\n",
    "x0 = target.rvs()     # Starting point\n",
    "T = 0.1 \n",
    "B = 5 \n",
    "N = 50000\n",
    "l = 2.0     \n",
    "k = 1.0\n",
    "burnin = 50000"
   ]
  },
  {
   "cell_type": "markdown",
   "metadata": {},
   "source": [
    "# Standard Hug and Hop"
   ]
  },
  {
   "cell_type": "code",
   "execution_count": null,
   "metadata": {},
   "outputs": [],
   "source": [
    "samples, _, _ = HugHop(T, B, x0, q, target.logpdf, grad_log_pi, l, k).sample(N)"
   ]
  },
  {
   "cell_type": "code",
   "execution_count": null,
   "metadata": {},
   "outputs": [],
   "source": [
    "quick_MVN_scatter(samples, target)"
   ]
  },
  {
   "cell_type": "code",
   "execution_count": null,
   "metadata": {},
   "outputs": [],
   "source": [
    "quick_MVN_marginals(samples, target)"
   ]
  },
  {
   "cell_type": "markdown",
   "metadata": {},
   "source": [
    "# Hug and Hop with Preconditioning (Hessian)"
   ]
  },
  {
   "cell_type": "code",
   "execution_count": null,
   "metadata": {},
   "outputs": [],
   "source": [
    "samplesH, _, _ = HugHopPC(T, B, x0, q, target.logpdf, grad_log_pi, l, k, burnin).sample(N)"
   ]
  },
  {
   "cell_type": "code",
   "execution_count": null,
   "metadata": {},
   "outputs": [],
   "source": [
    "quick_MVN_scatter(samplesH, target)"
   ]
  },
  {
   "cell_type": "code",
   "execution_count": null,
   "metadata": {},
   "outputs": [],
   "source": [
    "quick_MVN_marginals(samplesH, target)"
   ]
  },
  {
   "cell_type": "code",
   "execution_count": null,
   "metadata": {},
   "outputs": [],
   "source": []
  }
 ],
 "metadata": {
  "@webio": {
   "lastCommId": null,
   "lastKernelId": null
  },
  "kernelspec": {
   "display_name": "Python 3",
   "language": "python",
   "name": "python3"
  },
  "language_info": {
   "codemirror_mode": {
    "name": "ipython",
    "version": 3
   },
   "file_extension": ".py",
   "mimetype": "text/x-python",
   "name": "python",
   "nbconvert_exporter": "python",
   "pygments_lexer": "ipython3",
   "version": "3.7.4"
  }
 },
 "nbformat": 4,
 "nbformat_minor": 2
}
