{
 "cells": [
  {
   "cell_type": "markdown",
   "metadata": {},
   "source": [
    "# Hamiltonian Monte Carlo Only"
   ]
  },
  {
   "cell_type": "markdown",
   "metadata": {},
   "source": [
    "Joint target will be $\\pi(q, p) = \\pi(p \\mid q) \\pi(q)$ where we choose $\\pi(p \\mid q) = \\mathcal{N}(0, M)$. The Hamiltonian is given by\n",
    "$$\n",
    "H(q, p) = -\\log \\pi(p \\mid q) - \\log \\pi(q)\n",
    "$$\n",
    "Hamilton's equaitons describing the dynamics are\n",
    "$$\n",
    "\\begin{align*}\n",
    "\\frac{d q}{dt} &= \\partial_p K \\\\\n",
    "\\frac{d p}{dt} &= -\\partial_q K - \\partial_q V\n",
    "\\end{align*}\n",
    "$$"
   ]
  },
  {
   "cell_type": "markdown",
   "metadata": {},
   "source": [
    "Given our choice of the conditional distribution we have \n",
    "$$\n",
    "K(q, p) = - \\log \\pi(p\\mid q) = \\frac{1}{2} p^\\top M^{-1} p + \\log(2\\pi\\text{det}(M))\n",
    "$$"
   ]
  },
  {
   "cell_type": "markdown",
   "metadata": {},
   "source": [
    "Its partial derivatives are therefore\n",
    "$$\n",
    "\\begin{align*}\n",
    "\\partial_q K(q, p) &= 0 \\\\\n",
    "\\partial_p K(q, p) &= M^{-1}p\n",
    "\\end{align*}\n",
    "$$"
   ]
  },
  {
   "cell_type": "markdown",
   "metadata": {},
   "source": [
    "Similarly, since our target density is given by $\\pi(q) = \\mathcal{N}(\\mu, \\Sigma)$ we get\n",
    "$$\n",
    "-\\partial_q V(q) = -\\Sigma^{-1} (q - \\mu)\n",
    "$$"
   ]
  },
  {
   "cell_type": "markdown",
   "metadata": {},
   "source": [
    "Hamilton's equations therefore become\n",
    "$$\n",
    "\\begin{align*}\n",
    "    \\frac{dq}{dt} &= M^{-1}p \\\\\n",
    "    \\frac{dp}{dt} &= -\\Sigma^{-1}(q - \\mu)\n",
    "\\end{align*}\n",
    "$$"
   ]
  },
  {
   "cell_type": "code",
   "execution_count": null,
   "metadata": {},
   "outputs": [],
   "source": [
    "import sys\n",
    "sys.path.append(\"..\")\n",
    "import numpy as np\n",
    "import matplotlib.pyplot as plt\n",
    "from scipy.stats import multivariate_normal\n",
    "from Manifolds.RotatedEllipse import RotatedEllipse\n",
    "from gaussian_hmc import GaussianTargetHMC"
   ]
  },
  {
   "cell_type": "code",
   "execution_count": null,
   "metadata": {},
   "outputs": [],
   "source": [
    "# Settings\n",
    "Sigma = np.array([[1.0, 0.6], [0.6, 2.0]])  # Covariance Matrix of Target Distribution\n",
    "mu = np.zeros(2)                            # Mean of target distribution\n",
    "n = 10000                                    # Number of samples\n",
    "T = 5                                       # Total integration time\n",
    "epsilon = 0.05                              # Step size\n",
    "M = np.eye(2)                               # Coviariance Matrix for momentum distribution\n",
    "\n",
    "# Target distribution\n",
    "target = multivariate_normal(mean=mu, cov=Sigma)"
   ]
  },
  {
   "cell_type": "code",
   "execution_count": null,
   "metadata": {},
   "outputs": [],
   "source": [
    "# Grab starting position\n",
    "q0 = target.rvs()\n",
    "\n",
    "# Instantiate HMC\n",
    "hmc = GaussianTargetHMC(q0, n, M, T, epsilon, Sigma, mu)\n",
    "\n",
    "# Run HMC\n",
    "samples = hmc.sample()"
   ]
  },
  {
   "cell_type": "code",
   "execution_count": null,
   "metadata": {},
   "outputs": [],
   "source": [
    "# Grid of points for contour plot\n",
    "xmin, xmax, xstep = -3, 3, 0.05\n",
    "ymin, ymax, ystep = -3, 3, 0.05\n",
    "x_grid, y_grid = np.mgrid[xmin:xmax:xstep, ymin:ymax:ystep]\n",
    "contour_values = target.pdf(np.dstack((x_grid, y_grid)))\n",
    "\n",
    "# Plot contour plot and scatter points\n",
    "fig, ax = plt.subplots(figsize=(10, 8))\n",
    "ax.scatter(samples[:, 0], samples[:, 1])\n",
    "ax.contour(x_grid, y_grid, contour_values, colors=\"lightblue\")\n",
    "plt.show()"
   ]
  },
  {
   "cell_type": "code",
   "execution_count": null,
   "metadata": {},
   "outputs": [],
   "source": [
    "np.cov(samples.T)"
   ]
  },
  {
   "cell_type": "code",
   "execution_count": null,
   "metadata": {
    "scrolled": false
   },
   "outputs": [],
   "source": [
    "Sigma"
   ]
  },
  {
   "cell_type": "code",
   "execution_count": null,
   "metadata": {},
   "outputs": [],
   "source": []
  }
 ],
 "metadata": {
  "@webio": {
   "lastCommId": null,
   "lastKernelId": null
  },
  "kernelspec": {
   "display_name": "Python 3",
   "language": "python",
   "name": "python3"
  },
  "language_info": {
   "codemirror_mode": {
    "name": "ipython",
    "version": 3
   },
   "file_extension": ".py",
   "mimetype": "text/x-python",
   "name": "python",
   "nbconvert_exporter": "python",
   "pygments_lexer": "ipython3",
   "version": "3.7.4"
  }
 },
 "nbformat": 4,
 "nbformat_minor": 2
}
