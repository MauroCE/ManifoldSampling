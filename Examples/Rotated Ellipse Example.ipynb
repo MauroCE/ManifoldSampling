{
 "cells": [
  {
   "cell_type": "markdown",
   "metadata": {},
   "source": [
    "# Theory and Formulas"
   ]
  },
  {
   "cell_type": "markdown",
   "metadata": {},
   "source": [
    "$$\n",
    "\\DeclareMathOperator{\\atantwo}{atan2}\n",
    "$$"
   ]
  },
  {
   "cell_type": "markdown",
   "metadata": {},
   "source": [
    "Suppose you have a MVN and you want to find the expression of its level set for a value $z\\in[0, \\infty)$\n",
    "$$\n",
    "z = \\frac{1}{2\\pi\\sigma_x\\sigma_y \\sqrt{1-\\rho^2}} \\exp\\left(-\\frac{1}{2}(x- \\mu)^\\top \\Sigma^{-1}(x - \\mu)\\right)\n",
    "$$"
   ]
  },
  {
   "cell_type": "markdown",
   "metadata": {},
   "source": [
    "We can rearrange this to look almost like an ellipse\n",
    "$$\n",
    "(x - \\mu)^\\top \\Sigma^{-1} (x - \\mu) = \\underbrace{\\log\\left(\\frac{1}{4\\pi^2\\sigma_x^2\\sigma_y^2(1 - \\rho^2)z^2}\\right)}_{\\gamma}\n",
    "$$"
   ]
  },
  {
   "cell_type": "markdown",
   "metadata": {},
   "source": [
    "We can divide both sides by $\\gamma$ and then absorb it into $\\Omega = \\frac{1}{\\gamma}\\Sigma^{-1}$ which equivalently means $\\Omega = (\\gamma\\Sigma)^{-1}$\n",
    "\n",
    "$$\n",
    "(x - \\mu)^\\top \\Omega (x - \\mu) = 1\n",
    "$$\n",
    "\n",
    "We replace $\\Omega$ by its eigendecomposition where we notice that since $\\Omega$ is symmetric its eigenvectors are orthonormal and so $P$ is an orthogonal matrix. \n",
    "\n",
    "$$\n",
    "(x - \\mu)^\\top P \\Lambda P^\\top (x - \\mu) = 1\n",
    "$$"
   ]
  },
  {
   "cell_type": "markdown",
   "metadata": {},
   "source": [
    "This is simply a quadratic form for a new variable that has been translated by $\\mu$ and \"rotated\" by $P$ (although actually $P$ might have determinant $1$, in which case it's a reflection rather than a rotation matrix).\n",
    "\n",
    "$$\n",
    "\\nu := P^\\top (x - \\mu)\n",
    "$$\n",
    "\n",
    "So that we have\n",
    "\n",
    "$$\n",
    "\\nu^\\top \\Lambda \\nu = 1\n",
    "$$"
   ]
  },
  {
   "cell_type": "markdown",
   "metadata": {},
   "source": [
    "Where $\\Lambda$ is a diagonal matrix with eigenvalues of $(\\gamma\\Sigma)^{-1}$ in ascending order.\n",
    "\n",
    "[Recall](https://en.wikipedia.org/wiki/Ellipsoid#As_quadric) that \n",
    "\n",
    "$$\n",
    "(x - \\mu)^\\top \\Omega (x - \\mu) = 1\n",
    "$$\n",
    "\n",
    "is exactly the equation of an ellipsoid as a quadratic form and that the eigenvectors of $\\Omega$ are the principal axes, while the eigenvalues are the _reciprocal_ of the squares of the semi-axes. This means that if $v_1$ and $v_2$ are eigenvectors of $\\Omega$ with eigenvalues $\\lambda_1$ and $\\lambda_2$ \n",
    "\n",
    "$$\n",
    "\\begin{align*}\n",
    "    \\Omega v_1 &= \\lambda_1 v_1 \\\\\n",
    "    \\Omega v_2 &= \\lambda_2 v_2\n",
    "\\end{align*}\n",
    "$$\n",
    "\n",
    "Then necessarily we have either $(\\lambda_1, \\lambda_2) = (a^{-2}, b^{-2})$ or $(\\lambda_1, \\lambda_2) = (a^{-2}, b^{-2})$.\n",
    "\n",
    "Using simple properties of eigenvalues and eigenvectors (e.g. an eigenvector for $\\Lambda$ is also an eigenvector for $\\Omega^{-1}$ with eigenvalue its reciprocal) we obtain\n",
    "\n",
    "$$\n",
    "\\Omega v_{\\Omega} = \\lambda_{\\Omega} v_{\\Omega} \\implies \\Sigma v_{\\Omega} =\\lambda_{\\Sigma} v_{\\Omega}\\qquad \\text{ where }  \\lambda_{\\Sigma} = \\frac{1}{\\gamma \\lambda_{\\Omega}}\n",
    "$$"
   ]
  },
  {
   "cell_type": "markdown",
   "metadata": {},
   "source": [
    "For example, if $v_1$ is the rotated version of $e_1 = (1, 0)$ and $v_2$ is the rotated version of $e_2 = (0,1)$ by an angle $\\theta$ and if we denote $\\lambda_{\\Sigma, 1}$ and $\\lambda_{\\Sigma, 2}$ the first and second eigenvalues of $\\Sigma$ we have:\n",
    "\n",
    "$$\n",
    "\\begin{align*}\n",
    "    a^2 &= \\gamma \\lambda_{\\Sigma, 1} \\\\\n",
    "    b^2 &= \\gamma \\lambda_{\\Sigma, 2}\n",
    "\\end{align*}\n",
    "$$"
   ]
  },
  {
   "cell_type": "markdown",
   "metadata": {},
   "source": [
    "To find the angle $\\theta$ of rotation (and to determine which of $v_1$ and $v_2$ correspond to $e_1$ and $e_2$) we work as follows."
   ]
  },
  {
   "cell_type": "markdown",
   "metadata": {},
   "source": [
    "First, notice that if we have some vector $c = (c_1, c_2)^\\top \\in\\mathbb{R}^2$ then the vector $c' = (c_1',c_2')^\\top := (-c_2, c_1)^\\top \\in\\mathbb{R}^2$ will _always_ be counterclockwise from $c$. This means that if we get $c_2 + c_1' = 0$ then $c'$ will be counterclockwise from $c$ (If not, $c$ will be counterclockwise from $c'$)."
   ]
  },
  {
   "cell_type": "markdown",
   "metadata": {},
   "source": [
    "The angle can then be computed as\n",
    "$$\n",
    "\\theta = \n",
    "\\begin{cases}\n",
    "    \\atantwo(c_2, c_1) & c' \\text{ counter-clockwise to } c \\\\\n",
    "    \\qquad \\\\\n",
    "    \\atantwo(c_2', c_1') & c \\text{ counter-clockwise to } c'\n",
    "\\end{cases}\n",
    "$$"
   ]
  },
  {
   "cell_type": "markdown",
   "metadata": {},
   "source": [
    "Since, for example, when $c'$ is counter-clockwise to $c$ then the angle we want is really the angle between $c$ and the positive $x$ axis. The angle between $c'$ and the positive $x$-axis, instead, would be $\\theta + \\frac{\\pi}{2}$. since $c'$ and $c$ are orthogonal to each other."
   ]
  },
  {
   "cell_type": "markdown",
   "metadata": {},
   "source": [
    "Now we have $a^2$, $b^2$ and $\\theta$. All we need is to find an expression for the constraint definining the manifold $q(x,y)$, of the matrix $Q(x,y)$ and a way to change from angle to carthesian coordinates."
   ]
  },
  {
   "cell_type": "markdown",
   "metadata": {},
   "source": [
    "To find an expression for the ellipse simply \n",
    "\n",
    "- Rotate the ellipse using the rotation matrix $R(\\theta)$:\n",
    "\n",
    "$$\n",
    "{\\bf{x}}' := R(\\theta){\\bf{x}} = \n",
    "\\begin{pmatrix}\n",
    "    \\cos\\theta & -\\sin\\theta \\\\\n",
    "    \\sin\\theta & \\cos\\theta\n",
    "\\end{pmatrix} \n",
    "\\begin{pmatrix}\n",
    "    x\\cos\\theta - y\\sin\\theta \\\\\n",
    "    x\\sin\\theta + y\\cos\\theta\n",
    "\\end{pmatrix}\n",
    "$$\n",
    "\n",
    "giving\n",
    "\n",
    "$$\n",
    "\\frac{(x\\cos\\theta - y\\sin\\theta)^2}{a^2} + \\frac{(x\\sin\\theta + y\\cos\\theta)^2}{b^2} - 1 = 0\n",
    "$$\n",
    "\n",
    "- Translate the ellipse to be centered at the mean of the Gaussian: $(x', y')^\\top \\mapsto (x - \\mu_x, y - \\mu_y)^\\top$\n",
    "\n",
    "$$\n",
    "q(x, y) := \\frac{((x-\\mu_x)\\cos\\theta - (y-\\mu_y)\\sin\\theta)^2}{a^2} + \\frac{((x-\\mu_x)\\sin\\theta + (y-\\mu_y)\\cos\\theta)^2}{b^2} - 1 = 0\n",
    "$$"
   ]
  },
  {
   "cell_type": "markdown",
   "metadata": {},
   "source": [
    "To find an expression for the cartesian coordinates we take the parametric equation of the standard ellipse\n",
    "$$\n",
    "{\\bf{x}}(t) = \n",
    "\\begin{pmatrix}\n",
    "    a\\cos t \\\\\n",
    "    b\\sin t\n",
    "\\end{pmatrix}\n",
    "$$\n",
    "\n",
    "and rotate it by $R(\\theta)$ to get\n",
    "\n",
    "$$\n",
    "{\\bf{x}}'(t) = R(\\theta) {\\bf{x}}(t) = \n",
    "\\begin{pmatrix}\n",
    "    a\\cos t \\cos\\theta - b \\sin t \\sin \\theta \\\\\n",
    "    a\\cos t \\sin\\theta + b \\sin t \\cos \\theta\n",
    "\\end{pmatrix}\n",
    "$$"
   ]
  },
  {
   "cell_type": "markdown",
   "metadata": {},
   "source": [
    "Finally, one can compute the matrix $Q(x)$ simply taking derivatives and this turns out to be\n",
    "$$\n",
    "Q(x, y) =\n",
    "\\begin{pmatrix}\n",
    "    \\partial_x q(x, y) \\\\\n",
    "    \\partial_y q(x, y)\n",
    "\\end{pmatrix} = \n",
    "\\begin{pmatrix}\n",
    "    \\frac{2(x\\cos\\theta - y\\sin\\theta)\\cos\\theta}{a^2}  + \\frac{2(x\\sin\\theta + y\\cos\\theta)\\sin\\theta}{b^2} \\\\\n",
    "    -\\frac{2(x\\cos\\theta - y\\sin\\theta)\\sin\\theta}{a^2} + \\frac{2(x\\sin\\theta + y\\cos\\theta)\\cos\\theta}{b^2}\n",
    "\\end{pmatrix} \\in\\mathbb{R}^{2\\times 1}\n",
    "$$"
   ]
  },
  {
   "cell_type": "markdown",
   "metadata": {},
   "source": [
    "# Zappa's Method"
   ]
  },
  {
   "cell_type": "code",
   "execution_count": 1,
   "metadata": {},
   "outputs": [],
   "source": [
    "import sys\n",
    "sys.path.append(\"..\")\n",
    "import numpy as np\n",
    "from scipy.stats import multivariate_normal\n",
    "from utils import logf, logp, normalize\n",
    "from Manifolds.RotatedEllipse import RotatedEllipse\n",
    "from zappa import zappa_sampling, project\n",
    "import matplotlib.pyplot as plt\n",
    "from math import degrees"
   ]
  },
  {
   "cell_type": "code",
   "execution_count": 2,
   "metadata": {},
   "outputs": [],
   "source": [
    "# Settings\n",
    "mu = np.zeros(2)                                  # Center of the MVN\n",
    "Sigma = np.array([[1.0, 0.6], [0.6, 2.0]])        # Covariance matrix of MVN\n",
    "target = multivariate_normal(mean=mu, cov=Sigma)  # 2D distribution whose contours will be our manifolds"
   ]
  },
  {
   "cell_type": "code",
   "execution_count": 3,
   "metadata": {},
   "outputs": [],
   "source": [
    "# Sample a point from MVN and find its density value. We will explore that level set\n",
    "z_xy = target.rvs()    # (x,y) position of point defining level set\n",
    "z = target.pdf(z_xy)  # pdf value on level set"
   ]
  },
  {
   "cell_type": "code",
   "execution_count": 4,
   "metadata": {},
   "outputs": [],
   "source": [
    "# Instantiate the rotated ellipse\n",
    "manifold = RotatedEllipse(np.zeros(2), Sigma, z)\n",
    "\n",
    "# Choose starting point\n",
    "x0 = manifold.to_cartesian(3.5)\n",
    "\n",
    "# Sample via Zappa's algorithm\n",
    "samples = zappa_sampling(x0, manifold, logf, logp, n=1000, sigma=0.5, tol=1.48e-08, a_guess=1.0)"
   ]
  },
  {
   "cell_type": "code",
   "execution_count": 5,
   "metadata": {},
   "outputs": [
    {
     "data": {
      "image/png": "[encoded data removed]",
      "text/plain": [
       "<Figure size 720x720 with 1 Axes>"
      ]
     },
     "metadata": {
      "needs_background": "light"
     },
     "output_type": "display_data"
    }
   ],
   "source": [
    "# Set up contours of MVN\n",
    "xmin, xmax, xstep = -1, 1, 0.05\n",
    "ymin, ymax, ystep = -1, 1, 0.05\n",
    "x_grid, y_grid = np.mgrid[xmin:xmax:xstep, ymin:ymax:ystep]\n",
    "contour_values = target.pdf(np.dstack((x_grid, y_grid)))\n",
    "\n",
    "# Plotting\n",
    "fig, ax = plt.subplots(figsize=(10, 10))\n",
    "ax.contour(x_grid, y_grid, contour_values, levels=np.sort([z]), colors=\"lightblue\", linewidths=10)\n",
    "ax.scatter(samples[:, 0], samples[:, 1], alpha=0.3, s=20, zorder=10, color=\"red\", label=\"samples\")\n",
    "ax.set_aspect(\"equal\")\n",
    "ax.set_xlabel(r\"$x$\", fontsize=20)\n",
    "ax.set_ylabel(r\"$y$\", fontsize=20)\n",
    "plt.legend()\n",
    "plt.show()"
   ]
  }
 ],
 "metadata": {
  "@webio": {
   "lastCommId": null,
   "lastKernelId": null
  },
  "kernelspec": {
   "display_name": "Python 3",
   "language": "python",
   "name": "python3"
  },
  "language_info": {
   "codemirror_mode": {
    "name": "ipython",
    "version": 3
   },
   "file_extension": ".py",
   "mimetype": "text/x-python",
   "name": "python",
   "nbconvert_exporter": "python",
   "pygments_lexer": "ipython3",
   "version": "3.7.4"
  }
 },
 "nbformat": 4,
 "nbformat_minor": 2
}
