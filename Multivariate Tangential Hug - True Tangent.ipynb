{
 "cells": [
  {
   "cell_type": "code",
   "execution_count": 151,
   "id": "1a2686a9",
   "metadata": {},
   "outputs": [],
   "source": [
    "import numpy as np\n",
    "from numpy import zeros, eye, array, exp\n",
    "from numpy.random import randn\n",
    "from numpy.linalg import solve, norm\n",
    "\n",
    "from scipy.stats import multivariate_normal as MVN\n",
    "from scipy.optimize import fsolve\n",
    "\n",
    "import matplotlib.pyplot as plt\n",
    "\n",
    "from Manifolds.GeneralizedEllipse import GeneralizedEllipse\n",
    "from utils import prep_contour, line_perp_v_through_point"
   ]
  },
  {
   "cell_type": "code",
   "execution_count": 85,
   "id": "891749be",
   "metadata": {},
   "outputs": [],
   "source": [
    "μ = zeros(2)\n",
    "Σ = array([[3.0, 0.0], [0.0, 1.0]])\n",
    "π = MVN(μ, Σ)\n",
    "f = π.logpdf\n",
    "gradf = lambda x: - solve(Σ, x - μ)\n",
    "z0 = -3"
   ]
  },
  {
   "cell_type": "code",
   "execution_count": 14,
   "id": "6b98646e",
   "metadata": {},
   "outputs": [],
   "source": [
    "ellipse = GeneralizedEllipse(μ, Σ, exp(z0))"
   ]
  },
  {
   "cell_type": "code",
   "execution_count": 22,
   "id": "7ed527e4",
   "metadata": {},
   "outputs": [],
   "source": [
    "ellipse0 = prep_contour([-3, 3], [-3, 3], 0.01, f)"
   ]
  },
  {
   "cell_type": "code",
   "execution_count": 66,
   "id": "b8caa816",
   "metadata": {},
   "outputs": [],
   "source": [
    "x0 = ellipse.sample()"
   ]
  },
  {
   "cell_type": "code",
   "execution_count": 78,
   "id": "68ecaf5c",
   "metadata": {},
   "outputs": [],
   "source": [
    "v0 = array([0.6, 0.8])"
   ]
  },
  {
   "cell_type": "code",
   "execution_count": 81,
   "id": "8ee8512f",
   "metadata": {},
   "outputs": [],
   "source": [
    "δ = 2"
   ]
  },
  {
   "cell_type": "code",
   "execution_count": 82,
   "id": "e4dc10cd",
   "metadata": {},
   "outputs": [],
   "source": [
    "xhalf = x0 + (δ/2)*v0"
   ]
  },
  {
   "cell_type": "code",
   "execution_count": 89,
   "id": "af523275",
   "metadata": {},
   "outputs": [],
   "source": [
    "ghalf = gradf(xhalf)\n",
    "ghalf_hat = ghalf / norm(ghalf)"
   ]
  },
  {
   "cell_type": "code",
   "execution_count": 95,
   "id": "0b2dac7d",
   "metadata": {},
   "outputs": [],
   "source": [
    "v1 = v0 - 2 * ghalf_hat * (ghalf_hat @ v0)"
   ]
  },
  {
   "cell_type": "code",
   "execution_count": 97,
   "id": "0463b04d",
   "metadata": {},
   "outputs": [],
   "source": [
    "x1 = xhalf + (δ/2)*v1"
   ]
  },
  {
   "cell_type": "code",
   "execution_count": 102,
   "id": "30ee886a",
   "metadata": {},
   "outputs": [],
   "source": [
    "g1 = gradf(x1)\n",
    "g1_hat = g1 / norm(g1)"
   ]
  },
  {
   "cell_type": "code",
   "execution_count": 152,
   "id": "cd481014",
   "metadata": {},
   "outputs": [],
   "source": [
    "xvalues = np.linspace(-1, 2, 100)"
   ]
  },
  {
   "cell_type": "code",
   "execution_count": 158,
   "id": "3e418bb7",
   "metadata": {},
   "outputs": [],
   "source": [
    "z1 = f(x1)"
   ]
  },
  {
   "cell_type": "code",
   "execution_count": 160,
   "id": "a5c505f6",
   "metadata": {},
   "outputs": [
    {
     "data": {
      "image/png": "[encoded data removed]",
      "text/plain": [
       "<Figure size 432x288 with 1 Axes>"
      ]
     },
     "metadata": {
      "needs_background": "light"
     },
     "output_type": "display_data"
    }
   ],
   "source": [
    "fig, ax = plt.subplots()\n",
    "ax.contour(*ellipse0, levels=[z0, z1], zorder=0)\n",
    "ax.scatter(*x0)\n",
    "ax.scatter(*xhalf)\n",
    "ax.scatter(*x1)\n",
    "#ax.scatter(*(x1+(δ/2)*project(-v1, g1_hat)))\n",
    "ax.scatter(*hug_movement(x1, project(-v1, g1_hat)))\n",
    "ax.arrow(*x0, *v0, length_includes_head=True, head_width=0.1)\n",
    "ax.arrow(*xhalf, *ghalf_hat, length_includes_head=True, head_width=0.1)\n",
    "ax.arrow(*xhalf, *v1, length_includes_head=True, head_width=0.1)\n",
    "ax.arrow(*x1, *project(-v1, g1_hat), length_includes_head=True, head_width=0.1)\n",
    "#ax.plot(xvalues, line_perp_v_through_point(g1_hat, x1, xvalues))\n",
    "plt.show()"
   ]
  },
  {
   "cell_type": "code",
   "execution_count": 148,
   "id": "4fa96855",
   "metadata": {},
   "outputs": [
    {
     "data": {
      "text/plain": [
       "array([-0.8928899 ,  1.14882645])"
      ]
     },
     "execution_count": 148,
     "metadata": {},
     "output_type": "execute_result"
    }
   ],
   "source": []
  },
  {
   "cell_type": "code",
   "execution_count": 139,
   "id": "f2b481e2",
   "metadata": {},
   "outputs": [],
   "source": [
    "def hug_movement(x_start, v_start):\n",
    "    x_half     = x_start + (δ/2)*v_start\n",
    "    ghalf_hat  = gradf(x_half) / norm(gradf(x_half))\n",
    "    v_final    = project(v_start, ghalf_hat)\n",
    "    x_final    = x_half + (δ/2)*v_final\n",
    "    return x_final "
   ]
  },
  {
   "cell_type": "code",
   "execution_count": 140,
   "id": "f895ffd7",
   "metadata": {},
   "outputs": [],
   "source": [
    "def func(vsample):\n",
    "    vprime = project(vsample, g1_hat)\n",
    "    x0prime = hug_movement(x1, vprime)\n",
    "    return x0 - x0prime"
   ]
  },
  {
   "cell_type": "code",
   "execution_count": 141,
   "id": "cc521de0",
   "metadata": {},
   "outputs": [],
   "source": [
    "project = lambda v, g: v - g*(g@v)"
   ]
  },
  {
   "cell_type": "code",
   "execution_count": 166,
   "id": "82310228",
   "metadata": {},
   "outputs": [],
   "source": [
    "out = fsolve(func, project(-v1, g1_hat), xtol=1e-10)"
   ]
  },
  {
   "cell_type": "code",
   "execution_count": 173,
   "id": "fd0b2814",
   "metadata": {},
   "outputs": [],
   "source": [
    "def check_norms():\n",
    "    v_new = project(-v1, g1_hat)\n",
    "    xhalf = x1 + v_new\n",
    "    ghalf_hat = gradf(xhalf) / norm(gradf(xhalf))\n",
    "    v1prime = v_new - 2*ghalf_hat*(ghalf_hat@v_new)\n",
    "    return norm(v1), norm(v1prime)"
   ]
  },
  {
   "cell_type": "code",
   "execution_count": 174,
   "id": "484224c3",
   "metadata": {},
   "outputs": [
    {
     "data": {
      "text/plain": [
       "(0.9999999999999999, 0.7437286966405865)"
      ]
     },
     "execution_count": 174,
     "metadata": {},
     "output_type": "execute_result"
    }
   ],
   "source": [
    "check_norms()"
   ]
  },
  {
   "cell_type": "code",
   "execution_count": 134,
   "id": "b6bf246e",
   "metadata": {},
   "outputs": [
    {
     "data": {
      "text/plain": [
       "array([-0.65111414,  1.04130545])"
      ]
     },
     "execution_count": 134,
     "metadata": {},
     "output_type": "execute_result"
    }
   ],
   "source": [
    "x0"
   ]
  },
  {
   "cell_type": "markdown",
   "id": "4110f898",
   "metadata": {},
   "source": [
    "Consider $\\delta=2$\n",
    "##### Forward\n",
    "- Given initial position $x_0$, and velocity $v_0$\n",
    "- Move to midpoint $x_{1/2} = x_0 + v_0$\n",
    "- Projection matrix $N_{1/2} = J_{1/2}^\\top (J_{1/2}J_{1/2}^\\top)^{-1} J_{1/2}$\n",
    "- Reflection matrix $R_{1/2} = I - 2N_{1/2}$\n",
    "- Reflected velocity $v_1 = R_{1/2}v_0$\n",
    "- Move to final point $x_1 = x_{1/2} + v_1 = x_0 + v_0 + R_{1/2}v_0$\n",
    "\n",
    "##### Housekeeping\n",
    "- New initial velocity $v_0' = T_1(-v_1) = -(I - N_1)v_1$\n",
    "- New midpoint $x_{1/2}' = x_1 + v_0' = x_0 + v_0 + R_{1/2}v_0 -(I - N_1)v_1= x_0 + 2v_0 -2N_{1/2}v_0 - v_1 + N_1v_1$\n",
    "- New Projection matrix $N_{1/2}'= J(x_{1/2}')^\\top (J(x_{1/2}')J(x_{1/2}')^\\top)^{-1} J(x_{1/2}')$\n",
    "- New Reflection matrix $R_{1/2}' = I - 2N_{1/2}'$\n",
    "- New Reflected velocity $v_1' = R_{1/2}'v_0'$\n",
    "- Move to new final point $x_1' = x_{1/2}' + v_1'$"
   ]
  },
  {
   "cell_type": "code",
   "execution_count": null,
   "id": "76b7015e",
   "metadata": {},
   "outputs": [],
   "source": []
  }
 ],
 "metadata": {
  "kernelspec": {
   "display_name": "Python 3 (ipykernel)",
   "language": "python",
   "name": "python3"
  },
  "language_info": {
   "codemirror_mode": {
    "name": "ipython",
    "version": 3
   },
   "file_extension": ".py",
   "mimetype": "text/x-python",
   "name": "python",
   "nbconvert_exporter": "python",
   "pygments_lexer": "ipython3",
   "version": "3.10.4"
  }
 },
 "nbformat": 4,
 "nbformat_minor": 5
}
