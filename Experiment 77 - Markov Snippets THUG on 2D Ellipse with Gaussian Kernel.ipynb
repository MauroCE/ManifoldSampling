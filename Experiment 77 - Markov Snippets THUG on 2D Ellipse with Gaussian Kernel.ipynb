{
 "cells": [
  {
   "cell_type": "markdown",
   "id": "efcc503c",
   "metadata": {},
   "source": [
    "Same as experiment 74, except here we swap the uniform kernel for a Gaussian one."
   ]
  },
  {
   "cell_type": "markdown",
   "id": "7ab95232",
   "metadata": {},
   "source": [
    "$$\n",
    "k_\\epsilon(\\|f(x) - y\\|) = \\frac{1}{(2\\pi)^{m/2}\\epsilon^m}\\exp\\left(-\\frac{\\|f(x) - y\\|^2}{2\\epsilon^2}\\right)\n",
    "$$\n",
    "$$\n",
    "\\log k_\\epsilon(\\|f(x) - y\\|) = -\\frac{m}{2}\\log(2\\pi) - m\\log(\\epsilon) -\\frac{\\|f(x) - y\\|^2}{2\\epsilon^2}\n",
    "$$"
   ]
  },
  {
   "cell_type": "markdown",
   "id": "7aeaab5c",
   "metadata": {},
   "source": [
    "We also implement log-computation, i.e. we compute weights as\n",
    "\n",
    "$$\n",
    "\\bar{w}_{n, k}^{(i)} = \\exp\\left(\\log\\eta_{\\epsilon_n}(x_{n-1, k}^{(i)}) - \\log\\eta_{\\epsilon_{n-1}}(x_{n-1}^{(i)})\\right)\n",
    "$$"
   ]
  },
  {
   "cell_type": "code",
   "execution_count": 3,
   "id": "a0ce05d5",
   "metadata": {},
   "outputs": [],
   "source": [
    "import numpy as np\n",
    "from numpy import zeros, eye, array, diag, exp, pi, log\n",
    "from numpy.linalg import solve, norm\n",
    "from numpy.random import choice\n",
    "from scipy.stats import multivariate_normal as MVN\n",
    "import math\n",
    "import time\n",
    "\n",
    "import matplotlib.pyplot as plt\n",
    "from matplotlib import rc\n",
    "from ipywidgets.widgets import IntSlider\n",
    "from ipywidgets.widgets import interact\n",
    "\n",
    "from Manifolds.GeneralizedEllipse import GeneralizedEllipse\n",
    "from utils import prep_contour\n",
    "from RWM import RWM\n",
    "from tangential_hug_functions import HugTangential"
   ]
  },
  {
   "cell_type": "code",
   "execution_count": 10,
   "id": "f14f6996",
   "metadata": {},
   "outputs": [],
   "source": [
    "μ  = zeros(2)\n",
    "Σ  = diag(array([0.1, 1]))\n",
    "level_set_value = -2.9513586307684885\n",
    "ellipse = GeneralizedEllipse(μ, Σ, exp(level_set_value))\n",
    "πellipse = MVN(μ, Σ)\n",
    "f = πellipse.logpdf\n",
    "grad_f = lambda ξ: -solve(Σ, ξ - μ)\n",
    "\n",
    "def generate_ηϵ(ϵ):\n",
    "    \"\"\"Generates ηϵ with a uniform kernel.\"\"\"\n",
    "    def ηϵ(x):\n",
    "        # here m = 1\n",
    "        return exp(- (f(x) - level_set_value)**2 / (2*ϵ**2)) / (((2*pi)**(1/2)) * (ϵ**1))\n",
    "    return ηϵ\n",
    "\n",
    "def generate_logηϵ(ϵ):\n",
    "    \"\"\"As above, this is for the uniform kernel but this computes the log density.\"\"\"\n",
    "    def logηϵ(x):\n",
    "        return -(1/2)*log(2*pi) - 1*log(ϵ) - (((f(x) - level_set_value)**2) / (2*ϵ**2))\n",
    "    return logηϵ"
   ]
  },
  {
   "cell_type": "code",
   "execution_count": 11,
   "id": "dc52bb93",
   "metadata": {},
   "outputs": [],
   "source": [
    "def THUGIntegratorUnivariate(z0, B, δ, grad):\n",
    "    \"\"\"THUG Integrator for the 2D example (ie using gradients, not jacobians).\"\"\"\n",
    "    trajectory = zeros((B + 1, len(z0)))\n",
    "    x0, v0 = z0[:len(z0)//2], z0[len(z0)//2:]\n",
    "    x, v = x0, v0\n",
    "    trajectory[0, :] = z0\n",
    "    # Integrate\n",
    "    for b in range(B):\n",
    "        x = x + δ*v/2\n",
    "        g = grad(x)\n",
    "        ghat = g / norm(g)\n",
    "        v = v - 2*ghat*(ghat@v)\n",
    "        x = x + δ*v/2\n",
    "        trajectory[b+1, :] = np.hstack((x, v))\n",
    "    return trajectory\n",
    "\n",
    "def generate_THUGIntegratorUnivariate(B, δ):\n",
    "    \"\"\"Returns a THUG integrator for a given B and δ.\"\"\"\n",
    "    grad = lambda ξ: -solve(Σ, ξ - μ) #ellipse.Q(ξ).T.flatten()\n",
    "    integrator = lambda z: THUGIntegratorUnivariate(z, B, δ, grad)\n",
    "    return integrator\n",
    "\n",
    "###############################\n",
    "#### this is for \\tilde{ψ}.\n",
    "###############################\n",
    "def THUGIntegratorUnivariateOnlyEnd(z0, B, δ, grad):\n",
    "    \"\"\"Similar to THUG integrator but one step does B bounces.\"\"\"\n",
    "    trajectory = zeros((2, len(z0)))\n",
    "    x0, v0 = z0[:len(z0)//2], z0[len(z0)//2:]\n",
    "    x, v = x0, v0\n",
    "    trajectory[0, :] = z0\n",
    "    # Integrate\n",
    "    for _ in range(B):\n",
    "        x = x + δ*v/2\n",
    "        g = grad(x)\n",
    "        ghat = g / norm(g)\n",
    "        v = v - 2*ghat*(ghat@v)\n",
    "        x = x + δ*v/2\n",
    "    trajectory[1, :] = np.hstack((x, v))\n",
    "    return trajectory\n",
    "\n",
    "def generate_THUGIntegratorUnivariateOnlyEnd(B, δ):\n",
    "    \"\"\"Returns a THUG integratorOnlyEnd for a given B and δ.\"\"\"\n",
    "    grad = lambda ξ: -solve(Σ, ξ - μ) #ellipse.Q(ξ).T.flatten()\n",
    "    integrator = lambda z: THUGIntegratorUnivariateOnlyEnd(z, B, δ, grad)\n",
    "    return integrator\n",
    "\n",
    "\n",
    "#### Metropolis-Hastings version for SMC version\n",
    "def THUG_MH(z0, B, δ, logpi):\n",
    "    \"\"\"Similar to THUGIntegratoUnivariateOnlyEnd but this uses a MH step.\"\"\"\n",
    "    grad = lambda ξ: -solve(Σ, ξ - μ)\n",
    "    x0, v0 = z0[:len(z0)//2], z0[len(z0)//2:]\n",
    "    x, v = x0, v0\n",
    "    logu = np.log(np.random.rand())\n",
    "    for _ in range(B):\n",
    "        x = x + δ*v/2\n",
    "        g = grad(x)\n",
    "        ghat = g / norm(g)\n",
    "        v = v - 2*ghat*(ghat@v)\n",
    "        x = x + δ*v/2\n",
    "    if logu <= logpi(x) - logpi(x0):\n",
    "        # accept new point\n",
    "        return np.concatenate((x, v))\n",
    "    else:\n",
    "        # accept old point\n",
    "        return z0"
   ]
  },
  {
   "cell_type": "markdown",
   "id": "a3740172",
   "metadata": {},
   "source": [
    "# Markov Snippets (v1)"
   ]
  },
  {
   "cell_type": "code",
   "execution_count": 38,
   "id": "ec577a82",
   "metadata": {},
   "outputs": [],
   "source": [
    "class MarkovSnippetsTHUG:\n",
    "    \n",
    "    def __init__(self, N, B, δ, d, ϵs, onlyend=False):\n",
    "        \"\"\"Markov Snippets SMC samplers corresponding exactly to Algorithm 1 in Christophe's notes.\n",
    "        It uses the THUG kernel as its mutation kernel. The sequence of distributions is fixed here \n",
    "        since we provide ϵs, i.e. a list of tolerances which automatically fully specify the posterior \n",
    "        distributions used at each round.\n",
    "        \n",
    "        Parameters\n",
    "        ----------\n",
    "        \n",
    "        :param N: Number of particles\n",
    "        :type N:  int\n",
    "        \n",
    "        :param B: Number of bounces for the THUG integrator. Equivalent to `L` Leapfrog steps in HMC.\n",
    "        :type B: int\n",
    "        \n",
    "        :param δ: Step-size used at each bounce, for the THUG integrator.\n",
    "        :type δ: float\n",
    "        \n",
    "        :param d: Dimensionality of the `x` component of each particle, and equally dimensionality of \n",
    "                  `v` component of each particle. Therefore each particle has dimension `2d`.\n",
    "        \n",
    "        :param ϵs: Tolerances that fully specify the sequence of target filamentary distributions.\n",
    "        :type ϵs: iterable\n",
    "        \n",
    "        :param onlyend: If False, we just run MS-SMC with the THUG integrator as kernel. If True, the THUG \n",
    "                        integrator is pretty much the same, but it only outputs the initial and final point, \n",
    "                        as part of the trajectory. Inside the integrator, it still performs B bounces, but \n",
    "                        basically we are changing \\psi to \\tilde{\\psi} which performs B steps at once, and we \n",
    "                        run it only once.\n",
    "        :type onlyend: bool\n",
    "        \"\"\"\n",
    "        # Input variables\n",
    "        self.N  = N       \n",
    "        self.B  = B\n",
    "        self.δ  = δ\n",
    "        self.d  = d\n",
    "        self.ϵs = ϵs       \n",
    "        \n",
    "        # Variables derived from the above\n",
    "        self.P  = len(ϵs) - 1                                       # Number of target distributions\n",
    "        self.ϖ  = MVN(zeros(d), eye(d))                             # Distribution of the velocities\n",
    "        self.ηs = [generate_ηϵ(ϵ) for ϵ in ϵs]                      # List of filamentary distributions \n",
    "        self.log_ηs = [generate_logηε(ϵ) for ϵ in ϵs]\n",
    "#         self.μs = [lambda z: ηϵ(z[:self.d]) for ηϵ in self.ηs]\n",
    "        if not onlyend:\n",
    "            self.ψ = generate_THUGIntegratorUnivariate(B, δ)\n",
    "        else:\n",
    "            self.ψ = generate_THUGIntegratorUnivariateOnlyEnd(B, δ)\n",
    "            self.B = 1\n",
    "    \n",
    "    def initialize_particles(self):\n",
    "        \"\"\"To initialize particles, we sample from a uniform on a large rectangle.\n",
    "        A rectangle of size [-100, 100] should be plenty large.\"\"\"\n",
    "        # Initialize first position on the manifold\n",
    "        x0 = ellipse.sample(advanced=True)\n",
    "        # Generate log-density for self.η[0]\n",
    "        logηϵ0 = generate_logηϵ(self.ϵs[0])\n",
    "        # Sample using RWM\n",
    "        burn_in = 100\n",
    "        TO_BE_THINNED, _ = RWM(x0, self.δ, burn_in + 10*self.N, logηϵ0)\n",
    "        # Thin the samples to obtain the particles\n",
    "        initialized_particles = TO_BE_THINNED[burn_in:][::10]\n",
    "        # Refresh velocities and form particles\n",
    "        v0 = np.random.normal(loc=0.0, scale=1.0, size=(self.N, self.d))\n",
    "        z0 = np.hstack((initialized_particles, v0))\n",
    "        self.starting_particles = z0\n",
    "        return z0\n",
    "        \n",
    "    def sample(self):\n",
    "        \"\"\"Starts the Markov Snippets sampler.\"\"\"\n",
    "        starting_time = time.time() \n",
    "        N = self.N\n",
    "        B = self.B\n",
    "        ## Storage\n",
    "        #### Store z_n^{(i)}\n",
    "        self.ZN  = np.zeros((self.P+1, N, 2*self.d))\n",
    "        #### Store z_{n, k}^{(i)} so basically all the N(T+1) particles\n",
    "        self.ZNK  = np.zeros((self.P, N*(B+1), 2*self.d))\n",
    "        self.Wbar = np.zeros((self.P, N*(B+1)))\n",
    "        self.ESS  = np.zeros((self.P))\n",
    "        self.K_RESAMPLED = zeros((self.P, self.N))\n",
    "        # Initialize particles\n",
    "        z = self.initialize_particles()   # (N, 2d)\n",
    "        self.ZN[0] = z\n",
    "        # For each target distribution, run the following loop\n",
    "        for n in range(1, self.P+1):\n",
    "            # Compute trajectories\n",
    "            Z = np.apply_along_axis(self.ψ, 1, z) # should have shape (N, B+1, 2d)\n",
    "            self.ZNK[n-1] = Z.reshape(N*(B+1), 2*self.d)\n",
    "            # Compute weights.\n",
    "            #### Denominator: shared for each point in the same trajectory\n",
    "            log_μnm1_z  = np.apply_along_axis(self.log_ηs[n-1], 1, Z[:, 0, :self.d])              # (N, )\n",
    "            log_μnm1_z  = np.repeat(log_μnm1_z, self.B+1, axis=0).reshape(N, B+1) # (N, B+1)\n",
    "            #### Numerator: different for each point on a trajectory.\n",
    "            log_μn_ψk_z = np.apply_along_axis(self.log_ηs[n], 2, Z[:, :, :self.d])                         # (N, B+1)\n",
    "            #### Put weights together\n",
    "            W = exp(log_μn_ψk_z - log_μnm1_z) #np.exp(log_μn_ψk_z - log_μnm1_z)\n",
    "            #### Normalize weights\n",
    "            W = W / W.sum()\n",
    "            # store weights (remember these are \\bar{w})\n",
    "            self.Wbar[n-1] = W.flatten()\n",
    "            # compute ESS\n",
    "            self.ESS[n-1] = 1 / np.sum(W**2)\n",
    "            # Resample down to N particles\n",
    "            resampling_indeces = choice(a=np.arange(N*(B+1)), size=N, p=W.flatten())\n",
    "            unravelled_indeces = np.unravel_index(resampling_indeces, (N, B+1))\n",
    "            self.K_RESAMPLED[n-1] = unravelled_indeces[1]\n",
    "            indeces = np.dstack(unravelled_indeces).squeeze()\n",
    "            z = np.vstack([Z[tuple(ix)] for ix in indeces])     # (N, 2d)\n",
    "            \n",
    "            # Rejuvenate velocities of N particles\n",
    "            z[:, self.d:] = np.random.normal(loc=0.0, scale=1.0, size=(N, self.d))\n",
    "            self.ZN[n] = z\n",
    "        self.total_time = time.time() - starting_time\n",
    "        return z"
   ]
  },
  {
   "cell_type": "code",
   "execution_count": 39,
   "id": "a618b604",
   "metadata": {},
   "outputs": [],
   "source": [
    "# At this point, doesn't really matter which ϵs we use.\n",
    "ϵs = np.geomspace(start=10, stop=0.001, num=20)\n",
    "B = 50\n",
    "δ = 0.1\n",
    "N  = 10000"
   ]
  },
  {
   "cell_type": "code",
   "execution_count": 40,
   "id": "a152ead7",
   "metadata": {},
   "outputs": [],
   "source": [
    "# Instantitate the algorithm\n",
    "MSTHUG = MarkovSnippetsTHUG(N=N, B=B, δ=δ, d=2, ϵs=ϵs)\n",
    "# Sample\n",
    "zP = MSTHUG.sample()"
   ]
  },
  {
   "cell_type": "markdown",
   "id": "1ae629df",
   "metadata": {},
   "source": [
    "# Markov Snippets (v2)"
   ]
  },
  {
   "cell_type": "code",
   "execution_count": 46,
   "id": "22f13e72",
   "metadata": {},
   "outputs": [],
   "source": [
    "# The aim now is to only output the end of the trajectory with ψ.\n",
    "MSTHUG_ONLYEND = MarkovSnippetsTHUG(N=N, B=B, δ=δ, d=2, ϵs=ϵs, onlyend=True)"
   ]
  },
  {
   "cell_type": "code",
   "execution_count": 47,
   "id": "a5eff656",
   "metadata": {},
   "outputs": [],
   "source": [
    "zP_onlyend = MSTHUG_ONLYEND.sample()"
   ]
  },
  {
   "cell_type": "markdown",
   "id": "ab967033",
   "metadata": {},
   "source": [
    "# SMC"
   ]
  },
  {
   "cell_type": "code",
   "execution_count": 27,
   "id": "25a5e00c",
   "metadata": {},
   "outputs": [],
   "source": [
    "class MarkovSnippetsTHUGMetropolised:\n",
    "    \n",
    "    def __init__(self, N, B, δ, d, ϵs):\n",
    "        \"\"\"Metropolised version: for each particle compute the endpoint of trajectory and its weight.\n",
    "        If the weight is positive, we accept the final point, otherwise we accept the initial point. \n",
    "        \n",
    "        Parameters\n",
    "        ----------\n",
    "        \n",
    "        :param N: Number of particles\n",
    "        :type N:  int\n",
    "        \n",
    "        :param B: Number of bounces for the THUG integrator. Equivalent to `L` Leapfrog steps in HMC.\n",
    "        :type B: int\n",
    "        \n",
    "        :param δ: Step-size used at each bounce, for the THUG integrator.\n",
    "        :type δ: float\n",
    "        \n",
    "        :param d: Dimensionality of the `x` component of each particle, and equally dimensionality of \n",
    "                  `v` component of each particle. Therefore each particle has dimension `2d`.\n",
    "        \n",
    "        :param ϵs: Tolerances that fully specify the sequence of target filamentary distributions.\n",
    "        :type ϵs: iterable\n",
    "        \"\"\"\n",
    "        # Input variables\n",
    "        self.N  = N       \n",
    "        self.δ  = δ\n",
    "        self.d  = d\n",
    "        self.ϵs = ϵs       \n",
    "        \n",
    "        # Variables derived from the above\n",
    "        self.P  = len(ϵs) - 1                                       # Number of target distributions\n",
    "        self.ϖ  = MVN(zeros(d), eye(d))                             # Distribution of the velocities\n",
    "        self.ηs = [generate_ηϵ(ϵ) for ϵ in ϵs]                      # List of filamentary distributions \n",
    "        \n",
    "        self.B = B\n",
    "    \n",
    "    def initialize_particles(self):\n",
    "        \"\"\"To initialize particles, we sample from a uniform on a large rectangle.\n",
    "        A rectangle of size [-100, 100] should be plenty large.\"\"\"\n",
    "        # Initialize particles by sampling from η_ϵ0 for a large ϵ0 which can be given as an argument.\n",
    "        # Sample a point from the prior\n",
    "        x0 = ellipse.sample(advanced=True) #np.random.uniform(low=-5, high=5, size=(self.d))\n",
    "        # Use RWM starting from x0\n",
    "        logηϵ0 = generate_logηϵ(self.ϵs[0])\n",
    "        burn_in = 100\n",
    "        TO_BE_THINNED, _ = RWM(x0, self.δ, burn_in + 10*self.N, logηϵ0)\n",
    "        # Thin the samples to obtain the particles\n",
    "        initialized_particles = TO_BE_THINNED[burn_in:][::10]\n",
    "        v0 = np.random.normal(loc=0.0, scale=1.0, size=(self.N, self.d))\n",
    "        z0 = np.hstack((initialized_particles, v0))\n",
    "        self.starting_particles = z0\n",
    "        return z0\n",
    "        \n",
    "    def sample(self):\n",
    "        \"\"\"Starts the Markov Snippets sampler.\"\"\"\n",
    "        starting_time = time.time()\n",
    "        # Initialize particles\n",
    "        z = self.initialize_particles()   # (N, 2d)\n",
    "        # Storage\n",
    "        self.PARTICLES    = zeros((self.P+1, self.N, 2*self.d))\n",
    "        self.PARTICLES[0] = z\n",
    "        self.WEIGHTS      = zeros((self.P+1, self.N))\n",
    "        self.WEIGHTS[0]   = 1 / self.N\n",
    "        self.ESS          = zeros(self.P+1)\n",
    "        self.ESS[0]       = 1 / np.sum(self.WEIGHTS[0]**2)\n",
    "        # For each target distribution, run the following loop\n",
    "        for n in range(1, self.P+1):\n",
    "            # Standard SMC sampler, we mutate the particles and then we resample\n",
    "            ### Mutation step: \n",
    "            ###### Refresh velocities\n",
    "            z[:, self.d:] = np.random.normal(loc=0.0, scale=1.0, size=(self.N, self.d))\n",
    "            ###### Mutate positions \n",
    "            M = lambda z: THUG_MH(z, B, self.δ, self.ηs[n-1])\n",
    "            Z = np.apply_along_axis(M, 1, z)\n",
    "            ### Compute weights\n",
    "            w_increm = np.apply_along_axis(self.ηs[n], 1, Z[:, :2]) / np.apply_along_axis(self.ηs[n-1], 1, Z[:, :2])\n",
    "            # I THINK THAT SINCE WE RESAMPLE LATER, ALL WEIGHTS BECOME UNIFORM, SO IT DOESN'T MATTER\n",
    "#             w = self.WEIGHTS * w_increm\n",
    "            w = w_increm\n",
    "            w = w / w.sum()\n",
    "            self.WEIGHTS[n] = w\n",
    "            self.ESS[n]     = 1 / np.sum(w**2)\n",
    "            ### Resample\n",
    "            indeces = choice(a=np.arange(self.N), size=self.N, p=w)\n",
    "            z = z[indeces, :]\n",
    "            self.PARTICLES[n] = z\n",
    "        self.total_time = time.time() - starting_time\n",
    "        return z"
   ]
  },
  {
   "cell_type": "code",
   "execution_count": 28,
   "id": "a36046cb",
   "metadata": {},
   "outputs": [],
   "source": [
    "MSTHUG_METROP = MarkovSnippetsTHUGMetropolised(N=N, B=B, δ=δ, d=2, ϵs=ϵs)\n",
    "zP_metrop = MSTHUG_METROP.sample()"
   ]
  },
  {
   "cell_type": "markdown",
   "id": "ec7e42cb",
   "metadata": {},
   "source": [
    "# Compare Times"
   ]
  },
  {
   "cell_type": "code",
   "execution_count": 48,
   "id": "11d44943",
   "metadata": {},
   "outputs": [
    {
     "name": "stdout",
     "output_type": "stream",
     "text": [
      "Markov Snippets Full Trajectory: 215.39s\n",
      "Markov Snippets End Only:        119.41s\n",
      "SMC-THUG (Metropolised version): 120.80s\n"
     ]
    }
   ],
   "source": [
    "print(\"Markov Snippets Full Trajectory: {:.2f}s\".format(MSTHUG.total_time))\n",
    "print(\"Markov Snippets End Only:        {:.2f}s\".format(MSTHUG_ONLYEND.total_time))\n",
    "print(\"SMC-THUG (Metropolised version): {:.2f}s\".format(MSTHUG_METROP.total_time))"
   ]
  },
  {
   "cell_type": "markdown",
   "id": "fec9ff2a",
   "metadata": {},
   "source": [
    "# Compare Histograms"
   ]
  },
  {
   "cell_type": "code",
   "execution_count": 49,
   "id": "be3011f8",
   "metadata": {},
   "outputs": [
    {
     "data": {
      "image/png": "[encoded data removed]",
      "text/plain": [
       "<Figure size 864x648 with 9 Axes>"
      ]
     },
     "metadata": {
      "needs_background": "light"
     },
     "output_type": "display_data"
    }
   ],
   "source": [
    "# Plot settings\n",
    "compute_arctan = lambda point: math.atan2(*point[::-1])\n",
    "rc('font',**{'family':'STIXGeneral'})\n",
    "\n",
    "# Plot\n",
    "fig, ax = plt.subplots(ncols=3, nrows=3, figsize=(12, 9), sharex=True)\n",
    "\n",
    "SNAPSHOTS = [0, len(ϵs)//2 , -1]\n",
    "\n",
    "# Markov Snippets - Full Trajectory (Version 1)\n",
    "for i in range(3):\n",
    "    _ = ax[0, i].hist(np.apply_along_axis(compute_arctan, 1, MSTHUG.ZNK[SNAPSHOTS[i], :, :2]), bins=30, density=True, weights=MSTHUG.Wbar[SNAPSHOTS[i]])\n",
    "    ax[0, i].set_xticks([-math.pi, 0, math.pi])\n",
    "    ax[0, i].set_xticklabels([r'$-\\mathregular{\\pi}$', r'$0$', r'$\\mathregular{\\pi}$'], fontsize=15)\n",
    "    ax[0, i].set_title(r'$\\mathregular{\\epsilon}=$' + '{}'.format(ϵs[SNAPSHOTS[i]]))\n",
    "    \n",
    "# Markov Snippets - End-Only (Version 2)\n",
    "for i in range(3):\n",
    "    _ = ax[1, i].hist(np.apply_along_axis(compute_arctan, 1, MSTHUG_ONLYEND.ZNK[SNAPSHOTS[i], :, :2]), bins=30, density=True, weights=MSTHUG_ONLYEND.Wbar[SNAPSHOTS[i]])\n",
    "    ax[1, i].set_xticks([-math.pi, 0, math.pi])\n",
    "    ax[1, i].set_xticklabels([r'$-\\mathregular{\\pi}$', r'$0$', r'$\\mathregular{\\pi}$'], fontsize=15)\n",
    "    \n",
    "# SMC-THUG (Metropolised Version)\n",
    "for i in range(3):\n",
    "    _ = ax[2, i].hist(np.apply_along_axis(compute_arctan, 1, MSTHUG_METROP.PARTICLES[SNAPSHOTS[i], :, :2]), bins=30, density=True, weights=MSTHUG_METROP.WEIGHTS[SNAPSHOTS[i]])\n",
    "    ax[2, i].set_xticks([-math.pi, 0, math.pi])\n",
    "    ax[2, i].set_xticklabels([r'$-\\mathregular{\\pi}$', r'$0$', r'$\\mathregular{\\pi}$'], fontsize=15)"
   ]
  },
  {
   "cell_type": "markdown",
   "id": "b8d6e8a7",
   "metadata": {},
   "source": [
    "# Compare Efficiency"
   ]
  },
  {
   "cell_type": "code",
   "execution_count": 50,
   "id": "00bf554c",
   "metadata": {},
   "outputs": [
    {
     "name": "stdout",
     "output_type": "stream",
     "text": [
      "(Number of particles with non-zero weight for ϵ_P) / total sampling time: \n",
      "MSv1: 2290.5\n",
      "MSv2: 164.6\n",
      "SMC : 82.7\n"
     ]
    }
   ],
   "source": [
    "print(\"(Number of particles with non-zero weight for ϵ_P) / total sampling time: \")\n",
    "print(\"MSv1: {:.1f}\".format(np.sum(MSTHUG.Wbar[-1] > 0) / MSTHUG.total_time))\n",
    "print(\"MSv2: {:.1f}\".format(np.sum(MSTHUG_ONLYEND.Wbar[-1] > 0) / MSTHUG_ONLYEND.total_time))\n",
    "print(\"SMC : {:.1f}\".format(np.sum(MSTHUG_METROP.WEIGHTS[-1] > 0) / MSTHUG_METROP.total_time))"
   ]
  },
  {
   "cell_type": "markdown",
   "id": "eeef5da6",
   "metadata": {},
   "source": [
    "# Compare Expectations"
   ]
  },
  {
   "cell_type": "code",
   "execution_count": 32,
   "id": "380a956c",
   "metadata": {},
   "outputs": [],
   "source": [
    "# SMC-THUG: Mean Functional\n",
    "def smc_mean(MS):\n",
    "    W = MS.WEIGHTS[-1][..., None]\n",
    "    Z = MS.PARTICLES[-1, :, :2]\n",
    "    return np.sum(W*Z, axis=0)\n",
    "\n",
    "# Markov-Snippets: Mean functional\n",
    "def markov_snippets_mean(MS):\n",
    "    W = MS.Wbar[-1].reshape(N, MS.B+1)[..., None] # (N, B+1, 1)\n",
    "    Z = MS.ZNK[-1, :, :2].reshape(N, MS.B+1, 2)   # (N, B+1, 2)\n",
    "    return np.sum(np.sum(W*Z, axis=1), axis=0)    # (2, )"
   ]
  },
  {
   "cell_type": "code",
   "execution_count": 51,
   "id": "b304e74b",
   "metadata": {},
   "outputs": [
    {
     "name": "stdout",
     "output_type": "stream",
     "text": [
      "Mean Functional\n",
      "MSv1: -1e-04 -1e-01\n",
      "MSv2: 8e-03 2e-01\n",
      "SMC : -6e-01 -4e-01\n"
     ]
    }
   ],
   "source": [
    "print(\"Mean Functional\")\n",
    "print(\"MSv1: {:.0e} {:.0e}\".format(*markov_snippets_mean(MSTHUG)))\n",
    "print(\"MSv2: {:.0e} {:.0e}\".format(*markov_snippets_mean(MSTHUG_ONLYEND)))\n",
    "print(\"SMC : {:.0e} {:.0e}\".format(*smc_mean(MSTHUG_METROP)))"
   ]
  },
  {
   "cell_type": "markdown",
   "id": "2d710e7f",
   "metadata": {},
   "source": [
    "# ESS plot"
   ]
  },
  {
   "cell_type": "code",
   "execution_count": 52,
   "id": "bed9637f",
   "metadata": {},
   "outputs": [
    {
     "data": {
      "image/png": "[encoded data removed]",
      "text/plain": [
       "<Figure size 432x288 with 1 Axes>"
      ]
     },
     "metadata": {
      "needs_background": "light"
     },
     "output_type": "display_data"
    }
   ],
   "source": [
    "fig, ax = plt.subplots()\n",
    "ax.plot(MSTHUG.ESS / (N*(B+1)), label='MSv1')\n",
    "ax.plot(MSTHUG_ONLYEND.ESS / (2*N), label='MSv2')\n",
    "ax.plot(MSTHUG_METROP.ESS[1:] / N, label='SMC')\n",
    "ax.legend()\n",
    "ax.set_title(\"ESS / number of particles \")\n",
    "plt.show()"
   ]
  },
  {
   "cell_type": "markdown",
   "id": "b4714f99",
   "metadata": {},
   "source": [
    "# Histograms of Resampled Indeces"
   ]
  },
  {
   "cell_type": "code",
   "execution_count": 53,
   "id": "8eb6702f",
   "metadata": {},
   "outputs": [
    {
     "data": {
      "application/vnd.jupyter.widget-view+json": {
       "model_id": "004d792cf0f140cab670b5fdccfde22e",
       "version_major": 2,
       "version_minor": 0
      },
      "text/plain": [
       "interactive(children=(IntSlider(value=9, description='n', max=18), Output()), _dom_classes=('widget-interact',…"
      ]
     },
     "metadata": {},
     "output_type": "display_data"
    },
    {
     "data": {
      "text/plain": [
       "<function __main__.plot_histogram(n)>"
      ]
     },
     "execution_count": 53,
     "metadata": {},
     "output_type": "execute_result"
    }
   ],
   "source": [
    "def plot_histogram(n):\n",
    "    fig, ax = plt.subplots(figsize=(20, 4))\n",
    "    _, bins, _ = ax.hist(MSTHUG.K_RESAMPLED[n, :], density=True, bins=B, edgecolor='k', color='lightsalmon')\n",
    "    ax.set_xticks(bins)\n",
    "    ax.set_xticklabels(bins.astype(int))\n",
    "    return plt.show()\n",
    "    \n",
    "interact(plot_histogram, n=(0, len(ϵs) - 2))"
   ]
  },
  {
   "cell_type": "code",
   "execution_count": null,
   "id": "4418e338",
   "metadata": {},
   "outputs": [],
   "source": []
  }
 ],
 "metadata": {
  "kernelspec": {
   "display_name": "Python 3 (ipykernel)",
   "language": "python",
   "name": "python3"
  },
  "language_info": {
   "codemirror_mode": {
    "name": "ipython",
    "version": 3
   },
   "file_extension": ".py",
   "mimetype": "text/x-python",
   "name": "python",
   "nbconvert_exporter": "python",
   "pygments_lexer": "ipython3",
   "version": "3.10.4"
  }
 },
 "nbformat": 4,
 "nbformat_minor": 5
}
