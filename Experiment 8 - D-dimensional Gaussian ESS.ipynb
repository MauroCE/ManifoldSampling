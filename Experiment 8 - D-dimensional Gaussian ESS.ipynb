{
 "cells": [
  {
   "cell_type": "markdown",
   "id": "acfdc2fa-616f-47be-b79e-92ac63ff465f",
   "metadata": {},
   "source": [
    "# HH, HG, TG, HMC on D-dimensional Gaussian - ESS"
   ]
  },
  {
   "cell_type": "markdown",
   "id": "0ffeea3b",
   "metadata": {},
   "source": [
    "#### Settings"
   ]
  },
  {
   "cell_type": "code",
   "execution_count": 1,
   "id": "0090ecef-521a-4884-b970-180e026e0ba1",
   "metadata": {},
   "outputs": [],
   "source": [
    "import numpy as np\n",
    "from scipy.stats import multivariate_normal\n",
    "from numpy import log, zeros\n",
    "import matplotlib.pyplot as plt\n",
    "from utils import logp as logp_scale\n",
    "from utils import logf_Jacobian\n",
    "from Zappa.zappa import zappa_sampling_multivariate, zappa_sampling, project_multivariate\n",
    "from Zappa.ZappaStore import Zappa\n",
    "from Manifolds.RotatedEllipse import RotatedEllipse\n",
    "from utils import quick_MVN_scatter, MVN_scatters, prep_contour\n",
    "from numpy.random import rand, uniform\n",
    "from numpy.linalg import norm, solve, inv, det, cholesky\n",
    "from scipy.optimize import fsolve, root\n",
    "from Manifolds.Manifold import Manifold\n",
    "from tangential_hug_functions import Hug, HugTangential, NoAR, GradientHug, Hop, HugPC, HopPC, GradientHugPC\n",
    "from tangential_hug_functions import run_hug_gradient, run_hug_gradient_pc, run_hug_hop\n",
    "from tangential_hug_functions import run_hug_hop_pc, run_thug_gradient, run_thug_hop, run_thug_hop_pc\n",
    "from tangential_hug_functions import HugTangentialPC\n",
    "from tangential_hug_functions import run_thug_gradient_pc, cycle_zappa, cycle_zappaPC\n",
    "from tangential_hug_functions import run\n",
    "from utils import quick_3d_scatter, quick_3d_scatters, quick_MVN_marginals, quick_MVN_marginals_kdes\n",
    "import plotly.graph_objects as go\n",
    "from HugHop.StandardHugHop import HugHop\n",
    "from scipy.stats import norm as normal\n",
    "from utils import ESS\n",
    "from HMC.gaussian_hmc import GaussianTargetHMC\n",
    "import time\n",
    "from RWM import RWM, RWM_Cov\n",
    "from utils import quick_MVN_marginals_kde\n",
    "from Zappa.zappa import zappa_step_accept, zappa_step_acceptPC\n",
    "from Manifolds.GeneralizedEllipse import GeneralizedEllipse"
   ]
  },
  {
   "cell_type": "code",
   "execution_count": 15,
   "id": "81ee0af3-fcdc-42ca-9f51-7d4ca31125bf",
   "metadata": {},
   "outputs": [],
   "source": [
    "# Target distribution functions and initial sample\n",
    "d = 2\n",
    "mu = np.zeros(d)\n",
    "Sigma = np.diag(np.random.uniform(1.0, 10.0, size=d))  \n",
    "target = multivariate_normal(mu, Sigma)\n",
    "logpi = target.logpdf\n",
    "grad_log_pi = lambda xy: - solve(Sigma, xy - mu)\n",
    "q = multivariate_normal(np.zeros(d), np.eye(d))\n",
    "x0 = target.rvs()"
   ]
  },
  {
   "cell_type": "code",
   "execution_count": 29,
   "id": "81a37507-28d7-44f7-a5d9-a10e63e1efb8",
   "metadata": {},
   "outputs": [],
   "source": [
    "T = 5.0              # Total integration time for HUG/THUG/HMC\n",
    "B = 5                # Number of bounces per HUG/THUG step\n",
    "N = 10000            # Notice this is the number of HMC step and half the number of HH steps\n",
    "M = np.eye(d)        # Covariance Matrix for HMC\n",
    "K = 10000            # Number of iterations used for preconditioning\n",
    "lam = 2.0            # \\lambda parameter for HOP\n",
    "k = 0.25             # \\kappa parameter for HOP\n",
    "alpha=0.9            # Proportion of gradient to remove in THUG\n",
    "tol = 1.48e-08       # Tolerance for Zappa\n",
    "a_guess = 1.0        # Initial guess for projection step in Zappa\n",
    "scale = 1.0 #(T/B)/2 # Set scale for Zappa to \\delta / 2"
   ]
  },
  {
   "cell_type": "code",
   "execution_count": 30,
   "id": "1a8a81f1",
   "metadata": {},
   "outputs": [],
   "source": [
    "# Proposal for Zappa\n",
    "p = multivariate_normal(np.zeros(d-1), (scale**2) * np.eye(d-1))"
   ]
  },
  {
   "cell_type": "markdown",
   "id": "dc565e50",
   "metadata": {},
   "source": [
    "# Arguments for the algorithms"
   ]
  },
  {
   "cell_type": "markdown",
   "id": "5941dfa6",
   "metadata": {},
   "source": [
    "To make Zappa and Hug comparable, I set the number of Zappa steps per iteration equal to $B$. In addition, I sample the velocity from $\\mathcal{N}(0, \\frac{\\delta^2}{4}\\mathrm{I})$ since in Hug we do $x + \\delta/2 v$"
   ]
  },
  {
   "cell_type": "code",
   "execution_count": 31,
   "id": "e0aa0931",
   "metadata": {},
   "outputs": [],
   "source": [
    "args_hug = { 'T': T, 'B': B, 'N': 1, 'q': q, 'logpi': logpi, 'grad_log_pi': grad_log_pi }\n",
    "args_hop = { 'lam': lam, 'k': k, 'logpi': logpi, 'grad_log_pi': grad_log_pi }\n",
    "args_thug = { 'T': T, 'B': B, 'N': 1, 'alpha': alpha, 'q': q, 'logpi': logpi, 'grad_log_pi': grad_log_pi }\n",
    "args_gradient = { 'T': T, 'B': B, 'q': q, 'logpi': logpi, 'grad_log_pi': grad_log_pi }"
   ]
  },
  {
   "cell_type": "markdown",
   "id": "590c74f4",
   "metadata": {},
   "source": [
    "# HMC and RWM"
   ]
  },
  {
   "cell_type": "code",
   "execution_count": 19,
   "id": "07eaf8e8",
   "metadata": {},
   "outputs": [
    {
     "name": "stdout",
     "output_type": "stream",
     "text": [
      "ESS\t\t ESS/s\n",
      "-------------------------\n",
      "HMC   1042.1 \t 977.38\n",
      "RWM   724.14 \t 775.94\n",
      "RWMPC 2155.9 \t 2261.8\n"
     ]
    }
   ],
   "source": [
    "# HMC\n",
    "t = time.time()\n",
    "hmc = GaussianTargetHMC(x0, 2*N, M, T, T/B, Sigma, mu).sample()\n",
    "thmc = time.time() - t\n",
    "# RWM\n",
    "t = time.time()\n",
    "rwm, _ = RWM(x0, scale, 2*N, logpi)\n",
    "trwm = time.time() - t\n",
    "# RWM Preconditioned\n",
    "t = time.time()\n",
    "Sigma_rwm = np.cov(rwm.T)\n",
    "rwmpc, _ = RWM_Cov(x0, Sigma_rwm, 2*N, logpi)\n",
    "trwmpc = time.time() - t\n",
    "\n",
    "print(\"ESS\\t\\t ESS/s\")\n",
    "print(\"-\"*25)\n",
    "print(\"HMC   {:.5} \\t {:.5}\".format(ESS(hmc), ESS(hmc)/thmc))\n",
    "print(\"RWM   {:.5} \\t {:.5}\".format(ESS(rwm), ESS(rwm)/trwm))\n",
    "print(\"RWMPC {:.5} \\t {:.5}\".format(ESS(rwmpc), ESS(rwmpc)/trwmpc))"
   ]
  },
  {
   "cell_type": "markdown",
   "id": "f3010da0",
   "metadata": {},
   "source": [
    "# (HUG, THUG, ZAPPA) + HOP [No Preconditioning]"
   ]
  },
  {
   "cell_type": "code",
   "execution_count": 32,
   "id": "7d1b84e4",
   "metadata": {},
   "outputs": [],
   "source": [
    "hh, a1hh, a2hh, thh = run(Hug, Hop, x0, N, args_hug, args_hop)\n",
    "th, a1th, a2th, tth = run(HugTangential, Hop, x0, N, args_thug, args_hop)\n",
    "zh, a1zh, a2zh, tzh = cycle_zappa(Hop, x0, N, 1, target, p, tol, a_guess, args_hop)"
   ]
  },
  {
   "cell_type": "code",
   "execution_count": 33,
   "id": "a67fedb6",
   "metadata": {},
   "outputs": [
    {
     "name": "stdout",
     "output_type": "stream",
     "text": [
      "ESS\t\t ESS/s \t\t AP1 \t\t\t AP2\n",
      "-----------------------------------------------------------------\n",
      "HH: 3125.0 \t 1.248e+03 \t\t 99.37% \t\t 65.31%\n",
      "TH: 2084.8 \t 825.7 \t\t 79.75% \t\t 66.47%\n",
      "ZH: 672.18 \t 205.2 \t\t 92.46% \t\t 65.95%\n"
     ]
    }
   ],
   "source": [
    "print(\"ESS\\t\\t ESS/s \\t\\t AP1 \\t\\t\\t AP2\")\n",
    "print(\"-\"*65)\n",
    "print(\"HH: {:.5} \\t {:.4} \\t\\t {:.2%} \\t\\t {:.2%}\".format(ESS(hh), ESS(hh)/thh, np.mean(a1hh), np.mean(a2hh)))\n",
    "print(\"TH: {:.5} \\t {:.4} \\t\\t {:.2%} \\t\\t {:.2%}\".format(ESS(th), ESS(th)/tth, np.mean(a1th), np.mean(a2th)))\n",
    "print(\"ZH: {:.5} \\t {:.4} \\t\\t {:.2%} \\t\\t {:.2%}\".format(ESS(zh), ESS(zh)/tzh, np.mean(a1zh), np.mean(a2zh)))"
   ]
  },
  {
   "cell_type": "markdown",
   "id": "e1cba975",
   "metadata": {},
   "source": [
    "# (HUG, THUG, ZAPPA) + HOP [Preconditioning]"
   ]
  },
  {
   "cell_type": "code",
   "execution_count": 34,
   "id": "d25253a6",
   "metadata": {},
   "outputs": [],
   "source": [
    "# Compute covariance matrices\n",
    "Sigma_hh, Sigma_th, Sigma_zh = np.cov(hh.T), np.cov(th.T), np.cov(zh.T)\n",
    "S_hh, S_th, S_zh = lambda xy: Sigma_hh, lambda xy: Sigma_th, lambda xy: Sigma_zh\n",
    "A_zh = cholesky(Sigma_zh).T"
   ]
  },
  {
   "cell_type": "code",
   "execution_count": 35,
   "id": "021827eb",
   "metadata": {},
   "outputs": [],
   "source": [
    "args_hugpc = {**args_hug, 'S': S_hh}\n",
    "args_thugpc = {**args_thug, 'S': S_th}\n",
    "args_hoppc_hh = {**args_hop, 'S': S_hh}   \n",
    "args_hoppc_th = {**args_hop, 'S': S_th}  \n",
    "args_hoppc_zh = {**args_hop, 'S': S_zh}  "
   ]
  },
  {
   "cell_type": "code",
   "execution_count": 36,
   "id": "75322204",
   "metadata": {},
   "outputs": [],
   "source": [
    "hhpc, a1hhpc, a2hhpc, thhpc = run(HugPC, HopPC, x0, N, args_hugpc, args_hoppc_hh)\n",
    "thpc, a1thpc, a2thpc, tthpc = run(HugTangentialPC, HopPC, x0, N, args_thugpc, args_hoppc_th)\n",
    "zhpc, a1zhpc, a2zhpc, tzhpc = cycle_zappaPC(HopPC, x0, N, A_zh, 1, target, p, tol, a_guess, args_hoppc_zh)"
   ]
  },
  {
   "cell_type": "code",
   "execution_count": 37,
   "id": "f89538cc",
   "metadata": {},
   "outputs": [
    {
     "name": "stdout",
     "output_type": "stream",
     "text": [
      "ESS\t\t ESS/s \t\t AP1 \t\t\t AP2\n",
      "-----------------------------------------------------------------\n",
      "HHPC: 3229.7 \t 1.081e+03 \t\t 85.05% \t\t 54.29%\n",
      "THPC: 2598.0 \t 878.3 \t\t 84.59% \t\t 54.08%\n",
      "ZHPC: 1425.2 \t 290.8 \t\t 68.69% \t\t 53.88%\n"
     ]
    }
   ],
   "source": [
    "print(\"ESS\\t\\t ESS/s \\t\\t AP1 \\t\\t\\t AP2\")\n",
    "print(\"-\"*65)\n",
    "print(\"HHPC: {:.5} \\t {:.4} \\t\\t {:.2%} \\t\\t {:.2%}\".format(ESS(hhpc), ESS(hhpc)/thhpc, np.mean(a1hhpc), np.mean(a2hhpc)))\n",
    "print(\"THPC: {:.5} \\t {:.4} \\t\\t {:.2%} \\t\\t {:.2%}\".format(ESS(thpc), ESS(thpc)/tthpc, np.mean(a1thpc), np.mean(a2thpc)))\n",
    "print(\"ZHPC: {:.5} \\t {:.4} \\t\\t {:.2%} \\t\\t {:.2%}\".format(ESS(zhpc), ESS(zhpc)/tzhpc, np.mean(a1zhpc), np.mean(a2zhpc)))"
   ]
  },
  {
   "cell_type": "markdown",
   "id": "bb6bafc4",
   "metadata": {},
   "source": [
    "# (HUG, THUG, ZAPPA) + Gradient HUG [No Preconditioning]"
   ]
  },
  {
   "cell_type": "code",
   "execution_count": 27,
   "id": "fc95a2dc",
   "metadata": {},
   "outputs": [],
   "source": [
    "hg, a1hg, a2hg, thg = run(Hug, GradientHug, x0, N, args_hug, args_gradient)\n",
    "tg, a1tg, a2tg, ttg = run(HugTangential, GradientHug, x0, N, args_thug, args_gradient)\n",
    "zg, a1zg, a2zg, tzg = cycle_zappa(GradientHug, x0, N, 1, target, p, tol, a_guess, args_gradient)"
   ]
  },
  {
   "cell_type": "code",
   "execution_count": 28,
   "id": "cc509c0e",
   "metadata": {},
   "outputs": [
    {
     "name": "stdout",
     "output_type": "stream",
     "text": [
      "ESS\t\t ESS/s \t\t AP1 \t\t\t AP2\n",
      "-----------------------------------------------------------------\n",
      "HG: 399.28 \t 172.3 \t\t 99.98% \t\t 78.74%\n",
      "TG: 423.12 \t 171.9 \t\t 94.77% \t\t 78.19%\n",
      "ZG: 385.41 \t 114.3 \t\t 86.87% \t\t 79.01%\n"
     ]
    }
   ],
   "source": [
    "print(\"ESS\\t\\t ESS/s \\t\\t AP1 \\t\\t\\t AP2\")\n",
    "print(\"-\"*65)\n",
    "print(\"HG: {:.5} \\t {:.4} \\t\\t {:.2%} \\t\\t {:.2%}\".format(ESS(hg), ESS(hg)/thg, np.mean(a1hg), np.mean(a2hg)))\n",
    "print(\"TG: {:.5} \\t {:.4} \\t\\t {:.2%} \\t\\t {:.2%}\".format(ESS(tg), ESS(tg)/ttg, np.mean(a1tg), np.mean(a2tg)))\n",
    "print(\"ZG: {:.5} \\t {:.4} \\t\\t {:>.2%} \\t\\t {:.2%}\".format(ESS(zg), ESS(zg)/tzg, np.mean(a1zg), np.mean(a2zg)))"
   ]
  },
  {
   "cell_type": "markdown",
   "id": "57613083",
   "metadata": {},
   "source": [
    "# Preconditioning Zappa Properly"
   ]
  },
  {
   "cell_type": "markdown",
   "id": "04fd25da",
   "metadata": {},
   "source": [
    "Given a sample covariance matrix $\\hat{\\Sigma}$ obtained by some previous samples we find a matrix square root $A$ such that $\\hat{\\Sigma} = A^\\top A$, for instance its upper-triangular Cholesky factor.\n",
    "\n",
    "We would then like to work in the transformed space $\\tilde{x} = A^{-\\top} x$ hoping that it will be more isotropic. Recall that for Zappa the target log density is\n",
    "$$\n",
    "\\log f(x) = -\\log\\left(\\left\\|\\nabla_x U(x)\\right\\|\\right) \\qquad \\text{where} \\qquad U(x) = -\\log\\pi(x)\n",
    "$$"
   ]
  },
  {
   "cell_type": "markdown",
   "id": "5e4885fe",
   "metadata": {},
   "source": [
    "In the transformed space the ambient target is $\\tilde{\\pi}(\\tilde{x}) = \\pi(A^\\top\\tilde{x})|A^\\top|$ and the potential energy becomes\n",
    "$$\n",
    "\\tilde{U}(\\tilde{x}) = U(x) - \\log\\det(A^\\top)\n",
    "$$"
   ]
  },
  {
   "cell_type": "markdown",
   "id": "61277677",
   "metadata": {},
   "source": [
    "To find its gradient with respect to $\\tilde{x}$, notice the second term cancels out. In addition, notice\n",
    "$$\n",
    "\\nabla_{\\tilde{x}} \\tilde{U}(\\tilde{x}) = \\nabla_{\\tilde{x}}\\left[- \\log \\circ \\pi \\circ A^\\top (\\tilde{x})\\right]\n",
    "$$"
   ]
  },
  {
   "cell_type": "markdown",
   "id": "57ebde4c",
   "metadata": {},
   "source": [
    "so that one can use the chain rule for Jacobians by denoting $U = - \\log \\circ \\pi:\\mathbb{R}^n\\to\\mathbb{R}$\n",
    "$$\n",
    "J_{\\tilde{U}}(\\tilde{x}) =  - J_{U}(A^\\top \\tilde{x}) A^\\top = - (\\nabla_{x} U(x))^\\top A^\\top\n",
    "$$"
   ]
  },
  {
   "cell_type": "markdown",
   "id": "a15fd33a",
   "metadata": {},
   "source": [
    "The gradient is therefore\n",
    "$$\n",
    "\\nabla_{\\tilde{x}} \\tilde{U}(\\tilde{x}) = A \\nabla_x U(x)\n",
    "$$"
   ]
  },
  {
   "cell_type": "markdown",
   "id": "df4fd5e5",
   "metadata": {},
   "source": [
    "and the actual target is\n",
    "$$\n",
    "\\log \\tilde{f}(\\tilde{x}) = -\\log\\left(\\left\\|A\\nabla_x U(x)\\right\\|\\right)\n",
    "$$"
   ]
  },
  {
   "cell_type": "markdown",
   "id": "c88e8d43",
   "metadata": {},
   "source": [
    "Since the constraint function is $q(x) = \\log\\pi(x) - \\log z$ we have that the constraint also changes to $\\tilde{q}(\\tilde{x}) = \\log\\pi(A^\\top \\tilde{x}) + \\log\\det(A^\\top) - \\log z$."
   ]
  },
  {
   "cell_type": "markdown",
   "id": "d52bc530",
   "metadata": {},
   "source": [
    "# The Effect of Squeezing"
   ]
  },
  {
   "cell_type": "code",
   "execution_count": 13,
   "id": "313c9615",
   "metadata": {},
   "outputs": [],
   "source": [
    "# Times we average over each setting\n",
    "MM = 50"
   ]
  },
  {
   "cell_type": "code",
   "execution_count": 14,
   "id": "a18f8bed",
   "metadata": {},
   "outputs": [],
   "source": [
    "ESS_HH = []\n",
    "for _ in range(MM):\n",
    "    ESS_HH.append(ESS(run(Hug, Hop, x0, N, args_hug, args_hop)[0]))"
   ]
  },
  {
   "cell_type": "code",
   "execution_count": 155,
   "id": "6f802252",
   "metadata": {},
   "outputs": [],
   "source": [
    "ESS_TH_03 = []\n",
    "for _ in range(MM):\n",
    "    ESS_TH_03.append(ESS(run(HugTangential, Hop, x0, N, {\n",
    "    'T': T,\n",
    "    'B': B, \n",
    "    'N': 1,\n",
    "    'alpha': 0.3,\n",
    "    'q': q,\n",
    "    'logpi': logpi,\n",
    "    'grad_log_pi': grad_log_pi\n",
    "}, args_hop)[0]))"
   ]
  },
  {
   "cell_type": "code",
   "execution_count": 156,
   "id": "be139082",
   "metadata": {},
   "outputs": [],
   "source": [
    "ESS_TH_06 = []\n",
    "for _ in range(MM):\n",
    "    ESS_TH_06.append(ESS(run(HugTangential, Hop, x0, N, {\n",
    "    'T': T,\n",
    "    'B': B, \n",
    "    'N': 1,\n",
    "    'alpha': 0.6,\n",
    "    'q': q,\n",
    "    'logpi': logpi,\n",
    "    'grad_log_pi': grad_log_pi\n",
    "}, args_hop)[0]))"
   ]
  },
  {
   "cell_type": "code",
   "execution_count": 157,
   "id": "83b5e0ad",
   "metadata": {},
   "outputs": [],
   "source": [
    "ESS_TH_09 = []\n",
    "for _ in range(MM):\n",
    "    ESS_TH_09.append(ESS(run(HugTangential, Hop, x0, N, {\n",
    "    'T': T,\n",
    "    'B': B, \n",
    "    'N': 1,\n",
    "    'alpha': 0.9,\n",
    "    'q': q,\n",
    "    'logpi': logpi,\n",
    "    'grad_log_pi': grad_log_pi\n",
    "}, args_hop)[0]))"
   ]
  },
  {
   "cell_type": "code",
   "execution_count": 158,
   "id": "f6f03a63",
   "metadata": {},
   "outputs": [],
   "source": [
    "ESS_ZH = []\n",
    "for _ in range(MM):\n",
    "    ESS_ZH.append(ESS(cycle_zappa(Hop, x0, N, target, logf, logp, tol, a_guess, args_hop)))"
   ]
  },
  {
   "cell_type": "code",
   "execution_count": 1,
   "id": "862cad1e",
   "metadata": {},
   "outputs": [
    {
     "ename": "NameError",
     "evalue": "name 'MM' is not defined",
     "output_type": "error",
     "traceback": [
      "\u001b[0;31m---------------------------------------------------------------------------\u001b[0m",
      "\u001b[0;31mNameError\u001b[0m                                 Traceback (most recent call last)",
      "\u001b[0;32m/var/folders/hy/57_f4xcx08b0ls2_nwwfjscr0000gn/T/ipykernel_9971/2894027021.py\u001b[0m in \u001b[0;36m<module>\u001b[0;34m\u001b[0m\n\u001b[1;32m      1\u001b[0m \u001b[0mESS_HMC\u001b[0m \u001b[0;34m=\u001b[0m \u001b[0;34m[\u001b[0m\u001b[0;34m]\u001b[0m\u001b[0;34m\u001b[0m\u001b[0;34m\u001b[0m\u001b[0m\n\u001b[0;32m----> 2\u001b[0;31m \u001b[0;32mfor\u001b[0m \u001b[0m_\u001b[0m \u001b[0;32min\u001b[0m \u001b[0mrange\u001b[0m\u001b[0;34m(\u001b[0m\u001b[0mMM\u001b[0m\u001b[0;34m)\u001b[0m\u001b[0;34m:\u001b[0m\u001b[0;34m\u001b[0m\u001b[0;34m\u001b[0m\u001b[0m\n\u001b[0m\u001b[1;32m      3\u001b[0m     \u001b[0mESS_HMC\u001b[0m\u001b[0;34m.\u001b[0m\u001b[0mappend\u001b[0m\u001b[0;34m(\u001b[0m\u001b[0mESS\u001b[0m\u001b[0;34m(\u001b[0m\u001b[0mGaussianTargetHMC\u001b[0m\u001b[0;34m(\u001b[0m\u001b[0mx0\u001b[0m\u001b[0;34m,\u001b[0m \u001b[0;36m2\u001b[0m\u001b[0;34m*\u001b[0m\u001b[0mN\u001b[0m\u001b[0;34m,\u001b[0m \u001b[0mM\u001b[0m\u001b[0;34m,\u001b[0m \u001b[0mT\u001b[0m\u001b[0;34m,\u001b[0m \u001b[0mT\u001b[0m\u001b[0;34m/\u001b[0m\u001b[0mB\u001b[0m\u001b[0;34m,\u001b[0m \u001b[0mSigma\u001b[0m\u001b[0;34m,\u001b[0m \u001b[0mmu\u001b[0m\u001b[0;34m)\u001b[0m\u001b[0;34m.\u001b[0m\u001b[0msample\u001b[0m\u001b[0;34m(\u001b[0m\u001b[0;34m)\u001b[0m\u001b[0;34m)\u001b[0m\u001b[0;34m)\u001b[0m\u001b[0;34m\u001b[0m\u001b[0;34m\u001b[0m\u001b[0m\n",
      "\u001b[0;31mNameError\u001b[0m: name 'MM' is not defined"
     ]
    }
   ],
   "source": [
    "ESS_HMC = []\n",
    "for _ in range(MM):\n",
    "    ESS_HMC.append(ESS(GaussianTargetHMC(x0, 2*N, M, T, T/B, Sigma, mu).sample()))"
   ]
  },
  {
   "cell_type": "code",
   "execution_count": 162,
   "id": "7340e3d0",
   "metadata": {},
   "outputs": [],
   "source": [
    "ess_dict = {\n",
    "    'HH': ESS_HH,\n",
    "    'TH $\\\\alpha=0.30$': ESS_TH_03,\n",
    "    'TH $\\\\alpha=0.60$': ESS_TH_06,\n",
    "    'TH $\\\\alpha=0.90$': ESS_TH_09,\n",
    "    'ZH': ESS_ZH\n",
    "}"
   ]
  },
  {
   "cell_type": "code",
   "execution_count": 164,
   "id": "05ec8708",
   "metadata": {},
   "outputs": [
    {
     "data": {
      "image/png": "[encoded data removed]",
      "text/plain": [
       "<Figure size 1440x576 with 1 Axes>"
      ]
     },
     "metadata": {
      "needs_background": "light"
     },
     "output_type": "display_data"
    }
   ],
   "source": [
    "fig, ax = plt.subplots(figsize=(20, 8))\n",
    "ax.boxplot(ess_dict.values())\n",
    "ax.set_xticklabels(ess_dict.keys())\n",
    "ax.set_title(\"ESS AS HUG BECOMES MORE TANGENTIAL\")\n",
    "plt.show()"
   ]
  },
  {
   "cell_type": "code",
   "execution_count": null,
   "id": "e603c4c8",
   "metadata": {},
   "outputs": [],
   "source": []
  }
 ],
 "metadata": {
  "kernelspec": {
   "display_name": "Python 3 (ipykernel)",
   "language": "python",
   "name": "python3"
  },
  "language_info": {
   "codemirror_mode": {
    "name": "ipython",
    "version": 3
   },
   "file_extension": ".py",
   "mimetype": "text/x-python",
   "name": "python",
   "nbconvert_exporter": "python",
   "pygments_lexer": "ipython3",
   "version": "3.8.10"
  }
 },
 "nbformat": 4,
 "nbformat_minor": 5
}
