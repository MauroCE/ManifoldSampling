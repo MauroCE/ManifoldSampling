{
 "cells": [
  {
   "cell_type": "code",
   "execution_count": 1,
   "id": "e4c75123",
   "metadata": {},
   "outputs": [
    {
     "data": {
      "text/plain": [
       "Main.TangentialHugFunctions"
      ]
     },
     "execution_count": 1,
     "metadata": {},
     "output_type": "execute_result"
    }
   ],
   "source": [
    "include(\"../TangentialHugFunctions.jl\")\n",
    "using .TangentialHugFunctions\n",
    "using Distributions: MvNormal"
   ]
  },
  {
   "cell_type": "code",
   "execution_count": 9,
   "id": "ef0589f5",
   "metadata": {},
   "outputs": [
    {
     "data": {
      "text/plain": [
       "FullNormal(\n",
       "dim: 2\n",
       "μ: [0.0, 0.0]\n",
       "Σ: [1.0 0.99; 0.99 2.0]\n",
       ")\n"
      ]
     },
     "execution_count": 9,
     "metadata": {},
     "output_type": "execute_result"
    }
   ],
   "source": [
    "μ = zeros(2)\n",
    "Σ = [1.0 0.99; 0.99 2.0]\n",
    "target = MvNormal(μ, Σ)"
   ]
  },
  {
   "cell_type": "code",
   "execution_count": null,
   "id": "5c537d13",
   "metadata": {},
   "outputs": [],
   "source": []
  }
 ],
 "metadata": {
  "kernelspec": {
   "display_name": "Julia 1.6.3",
   "language": "julia",
   "name": "julia-1.6"
  },
  "language_info": {
   "file_extension": ".jl",
   "mimetype": "application/julia",
   "name": "julia",
   "version": "1.6.3"
  }
 },
 "nbformat": 4,
 "nbformat_minor": 5
}
