{
 "cells": [
  {
   "cell_type": "code",
   "execution_count": 82,
   "id": "9a267b43",
   "metadata": {},
   "outputs": [],
   "source": [
    "import numpy as np\n",
    "from numpy import zeros, diag, eye, log, sqrt, vstack, mean, save, exp, linspace, pi\n",
    "from numpy.linalg import solve\n",
    "from scipy.stats import multivariate_normal as MVN\n",
    "from tangential_hug_functions import HugTangentialStepEJSD_Deterministic, Hop_Deterministic, HugStepEJSD_Deterministic\n",
    "from tangential_hug_functions import HugRotatedStepEJSD_Deterministic, Hop_Deterministic, HugStepEJSD_Deterministic\n",
    "from utils import ESS_univariate, ESS, n_unique\n",
    "from numpy.random import normal, rand, uniform\n",
    "from statsmodels.tsa.stattools import acf\n",
    "from Manifolds.RotatedEllipse import RotatedEllipse\n",
    "import time\n",
    "import matplotlib.pyplot as plt"
   ]
  },
  {
   "cell_type": "code",
   "execution_count": 2,
   "id": "1e063de5",
   "metadata": {},
   "outputs": [],
   "source": [
    "def log_uniform_kernel(xi, epsilon):\n",
    "    \"\"\"Log density of uniform kernel. \"\"\"\n",
    "    with np.errstate(divide='ignore'):\n",
    "        return log((abs(target.logpdf(xi) - z0) <= epsilon).astype('float64'))\n",
    "    \n",
    "def logprior_uniform(xi):\n",
    "    \"\"\"Log density for uniform prior p(xi) of parameters and latents U([-5,5]x[-5,5]).\"\"\"\n",
    "    with np.errstate(divide='ignore'):\n",
    "        return log((abs(xi) <= 50.0).all().astype('float64'))\n",
    "\n",
    "def logprior_uniform_all(xi):\n",
    "    \"\"\"Log density for uniform prior p(xi) of parameters and latents U([-5,5]x[-5,5]).\"\"\"\n",
    "    with np.errstate(divide='ignore'):\n",
    "        return log((abs(xi) <= 50.0).all(axis=1).astype('float64'))\n",
    "    \n",
    "def log_abc_posterior(xi):\n",
    "    \"\"\"Log density of ABC posterior. Product of (param-latent) prior and uniform kernel.\"\"\"\n",
    "    return logprior_uniform(xi) + log_uniform_kernel(xi, epsilon)\n",
    "\n",
    "def log_abc_posterior_all(xi):\n",
    "    \"\"\"Log density of ABC posterior. Product of (param-latent) prior and uniform kernel.\"\"\"\n",
    "    return logprior_uniform_all(xi) + log_uniform_kernel(xi, epsilon)\n",
    "    \n",
    "def grad_log_simulator(xi):\n",
    "    \"\"\"Gradient of log simulator N(mu, Sigma).\"\"\"\n",
    "    return - solve(Sigma, xi)"
   ]
  },
  {
   "cell_type": "code",
   "execution_count": 161,
   "id": "f65fa5b1",
   "metadata": {},
   "outputs": [],
   "source": [
    "Sigma = diag([1.0, 5.0, 2.0, 3.5, 1.0, 4.0, 1.0, 6.0, 2.0, 4.0, 1.0])\n",
    "d = Sigma.shape[0]\n",
    "target = MVN(zeros(d), Sigma)\n",
    "q = MVN(zeros(d), eye(d))\n",
    "x0 = target.rvs()\n",
    "z0 = target.logpdf(x0)"
   ]
  },
  {
   "cell_type": "code",
   "execution_count": 126,
   "id": "40ece80b",
   "metadata": {},
   "outputs": [],
   "source": [
    "B = 5 \n",
    "N = 10000\n",
    "kappa = 0.25  \n",
    "Ts = [1.0]\n",
    "epsilons = [0.1, 0.0000001]"
   ]
  },
  {
   "cell_type": "code",
   "execution_count": 171,
   "id": "7015f1d0",
   "metadata": {},
   "outputs": [],
   "source": [
    "def experiment(x00, T, N, alphas, nlags):\n",
    "    ### COMMON VARIABLES\n",
    "    v = q.rvs(N)\n",
    "    log_uniforms1 = log(rand(N))     # Log uniforms for the HUG kernels\n",
    "    log_uniforms2 = log(rand(N))     # Log uniforms for the HOP kernel\n",
    "    u = MVN(zeros(d), eye(d)).rvs(N) # Original velocities for HOP kernel\n",
    "    ### STORAGE (HUG + HOP)\n",
    "    hh = x00              # Initial sample\n",
    "    ahh1 = 0.0       # Acceptance probability for HUG kernel\n",
    "    ahh2 = 0.0       # Acceptance probability for HOP kernel (when used with HUG)\n",
    "    ehh = 0.0             # EJSD\n",
    "    eghh = 0.0            # EJSD in Gradient direction\n",
    "    ethh = 0.0            # EJSD in Tangent direction\n",
    "    ### STORAGE (THUG + HOP) I MUST STORE FOR ALL ALPHAS\n",
    "    ath1 = zeros(n_alphas)\n",
    "    ath2 = zeros(n_alphas)\n",
    "    eth  = zeros(n_alphas)\n",
    "    egth = zeros(n_alphas)\n",
    "    etth = zeros(n_alphas)\n",
    "    ### ADDITIONAL STORAGE FOR THUG\n",
    "    th_esst = zeros(n_alphas)\n",
    "    th_essu = zeros(n_alphas)\n",
    "    th_essj = zeros(n_alphas)\n",
    "    th_rmse = zeros(n_alphas)\n",
    "    th_uniq = zeros(n_alphas)\n",
    "    th_act  = zeros((n_alphas, nlags))\n",
    "    th_acu  = zeros((n_alphas, nlags))\n",
    "    ### HUG + HOP\n",
    "    x = x00\n",
    "    for i in range(N):\n",
    "        y, a1, e, eg, et = HugStepEJSD_Deterministic(x, v[i], log_uniforms1[i], T, B, q, log_abc_posterior, grad_log_simulator)\n",
    "        x, a2 = Hop_Deterministic(y, u[i], log_uniforms2[i], lam, kappa, log_abc_posterior, grad_log_simulator)\n",
    "        hh = vstack((hh, y, x))\n",
    "        ahh1 += a1 * 100 / N\n",
    "        ahh2 += a2 * 100 / N\n",
    "        ehh += e / N\n",
    "        eghh += eg / N \n",
    "        ethh += et / N \n",
    "    # COMPUTE ESS AND OTHER METRICS FOR HUG\n",
    "    hh = hh[1:]\n",
    "    hh_esst = ESS_univariate(hh[::2, 0])     # ESS for theta\n",
    "    hh_essu = ESS_univariate(hh[::2, 1])     # ESS for u\n",
    "    hh_essj = ESS(hh[::2])                   # ESS joint\n",
    "    hh_rmse = sqrt(mean((target.logpdf(hh) - z0)**2))  # RMSE on energy\n",
    "    hh_uniq = n_unique(hh)                             # Number of unique samples\n",
    "    hh_act  = acf(hh[::2, 0], adjusted=True, nlags=nlags, fft=True)[1:]  # Autocorrelation for theta (remove the first 1.0)\n",
    "    hh_acu  = acf(hh[::2, 1], adjusted=True, nlags=nlags, fft=True)[1:]  # Autocorrelation for u\n",
    "    ### THUG + HOP\n",
    "    for k, alpha in enumerate(alphas):\n",
    "        x = x00\n",
    "        th = x00      # RESTART THE SAMPLES FROM SCRATCH\n",
    "        for i in range(N):\n",
    "            y, a1, e, eg, et = HugTangentialStepEJSD_Deterministic(x, v[i], log_uniforms1[i], T, B, alpha, q, log_abc_posterior, grad_log_simulator)\n",
    "            x, a2 = Hop_Deterministic(y, u[i], log_uniforms2[i], lam, kappa, log_abc_posterior, grad_log_simulator)\n",
    "            th = vstack((th, y, x))\n",
    "            ath1[k] += a1 * 100 / N\n",
    "            ath2[k] += a2 * 100 / N\n",
    "            eth[k]  += e / N\n",
    "            egth[k] += eg / N \n",
    "            etth[k] += et / N \n",
    "        ### COMPUTE ESS AND OTHER METRISC FOR THUG\n",
    "        th = th[1:]\n",
    "        th_esst[k] = ESS_univariate(th[::2, 0])     # ESS for theta\n",
    "        th_essu[k] = ESS_univariate(th[::2, 1])     # ESS for u\n",
    "        th_essj[k] = ESS(th[::2])                   # ESS joint\n",
    "        th_rmse[k] = sqrt(mean((target.logpdf(th) - z0)**2))  # RMSE on energy\n",
    "        th_uniq[k] = n_unique(th)                             # Number of unique samples\n",
    "        th_act[k] = acf(th[::2, 0], adjusted=True, nlags=nlags, fft=True)[1:]  # Autocorrelation for theta\n",
    "        th_acu[k] = acf(th[::2, 1], adjusted=True, nlags=nlags, fft=True)[1:]  # Autocorrelation for u\n",
    "    # RETURN EVERYTHING\n",
    "    out = {\n",
    "        'HH': {\n",
    "            'A1': ahh1,\n",
    "            'A2': ahh2,\n",
    "            'E': ehh,\n",
    "            'EG': eghh, \n",
    "            'ET': ethh,\n",
    "            'ESS_T': hh_esst,\n",
    "            'ESS_U': hh_essu,\n",
    "            'ESS_J': hh_essj,\n",
    "            'RMSE': hh_rmse,\n",
    "            'UNIQUE': hh_uniq,\n",
    "            'AC_T': hh_act,\n",
    "            'AC_U': hh_acu,\n",
    "            'SAMPLES': hh\n",
    "        },\n",
    "        'TH': {\n",
    "            'A1': ath1,\n",
    "            'A2': ath2,\n",
    "            'E': eth,\n",
    "            'EG': egth, \n",
    "            'ET': etth, \n",
    "            'ESS_T': th_esst,\n",
    "            'ESS_U': th_essu,\n",
    "            'ESS_J': th_essj,\n",
    "            'RMSE': th_rmse,\n",
    "            'UNIQUE': th_uniq,\n",
    "            'AC_T': th_act,\n",
    "            'AC_U': th_acu,\n",
    "            'SAMPLES': th\n",
    "        }\n",
    "    }\n",
    "    return out"
   ]
  },
  {
   "cell_type": "code",
   "execution_count": 163,
   "id": "632880fc",
   "metadata": {},
   "outputs": [],
   "source": [
    "\n",
    "def experiment(x00, T, N, alphas, nlags):\n",
    "    \"\"\"Runs Hug+Hop and RotatedHUG+HOP using the same velocities and the same random seeds.\n",
    "    We also try to limit the noise in the HOP kernel by sampling the u variables beforehand.\n",
    "    I run RotatedHUG for all values of alpha with the randomness fixed. \n",
    "    This is 1 run, for 1 epsilon. It does 1 HUG+HOP and then THUG+HOP for all alphas.\n",
    "    T1: T for HUG\n",
    "    T2: T for RotatedHUG\n",
    "    \"\"\"\n",
    "    ### COMMON VARIABLES\n",
    "    v = q.rvs(N)\n",
    "    log_uniforms1 = log(rand(N))     # Log uniforms for the HUG kernels\n",
    "    log_uniforms2 = log(rand(N))     # Log uniforms for the HOP kernel\n",
    "    u = MVN(zeros(d), eye(d)).rvs(N) # Original velocities for HOP kernel\n",
    "    ### STORAGE (HUG + HOP)\n",
    "    hh = x00              # Initial sample\n",
    "    ahh1 = 0.0            # Acceptance probability for HUG kernel\n",
    "    ahh2 = 0.0            # Acceptance probability for HOP kernel (when used with HUG)\n",
    "    ehh = 0.0             # EJSD\n",
    "    eghh = 0.0            # EJSD in Gradient direction\n",
    "    ethh = 0.0            # EJSD in Tangent direction\n",
    "    ### STORAGE (RotatedHUG + HOP) I MUST STORE FOR ALL ALPHAS\n",
    "    arh1 = zeros(n_alphas)\n",
    "    arh2 = zeros(n_alphas)\n",
    "    erh  = zeros(n_alphas)\n",
    "    egrh = zeros(n_alphas)\n",
    "    etrh = zeros(n_alphas)\n",
    "    ### ADDITIONAL STORAGE FOR RotatedHUG\n",
    "    rh_esst = zeros(n_alphas)\n",
    "    rh_essu = zeros(n_alphas)\n",
    "    rh_essj = zeros(n_alphas)\n",
    "    rh_rmse = zeros(n_alphas)\n",
    "    rh_uniq = zeros(n_alphas)\n",
    "    rh_act  = zeros((n_alphas, nlags))\n",
    "    rh_acu  = zeros((n_alphas, nlags))\n",
    "    ### HUG + HOP\n",
    "    x = x00\n",
    "    for i in range(N):\n",
    "        y, a1, e, eg, et = HugStepEJSD_Deterministic(x, v[i], log_uniforms1[i], T, B, q, log_abc_posterior, grad_log_simulator)\n",
    "        x, a2 = Hop_Deterministic(y, u[i], log_uniforms2[i], lam, kappa, log_abc_posterior, grad_log_simulator)\n",
    "        hh = vstack((hh, y, x))\n",
    "        ahh1 += a1 * 100 / N\n",
    "        ahh2 += a2 * 100 / N\n",
    "        ehh += e / N\n",
    "        eghh += eg / N \n",
    "        ethh += et / N \n",
    "    # COMPUTE ESS AND OTHER METRICS FOR HUG\n",
    "    hh = hh[1:]\n",
    "    hh_esst = ESS_univariate(hh[::2, 0])     # ESS for theta\n",
    "    hh_essu = ESS_univariate(hh[::2, 1])     # ESS for u\n",
    "    hh_essj = ESS(hh[::2])                   # ESS joint\n",
    "    hh_rmse = sqrt(mean((target.logpdf(hh) - z0)**2))  # RMSE on energy\n",
    "    hh_uniq = n_unique(hh)                             # Number of unique samples\n",
    "    hh_act  = acf(hh[::2, 0], adjusted=True, nlags=nlags, fft=True)[1:]  # Autocorrelation for theta (remove the first 1.0)\n",
    "    hh_acu  = acf(hh[::2, 1], adjusted=True, nlags=nlags, fft=True)[1:]  # Autocorrelation for u\n",
    "    ### RotatedHUG + HOP\n",
    "    for k, alpha in enumerate(alphas):\n",
    "        x = x00\n",
    "        rh = x00      # RESTART THE SAMPLES FROM SCRATCH\n",
    "        for i in range(N):\n",
    "            y, a1, e, eg, et = HugRotatedStepEJSD_Deterministic(x, v[i], log_uniforms1[i], T, B, alpha, q, log_abc_posterior, grad_log_simulator)\n",
    "            x, a2 = Hop_Deterministic(y, u[i], log_uniforms2[i], lam, kappa, log_abc_posterior, grad_log_simulator)\n",
    "            rh = vstack((rh, y, x))\n",
    "            arh1[k] += a1 * 100 / N\n",
    "            arh2[k] += a2 * 100 / N\n",
    "            erh[k]  += e / N\n",
    "            egrh[k] += eg / N \n",
    "            etrh[k] += et / N \n",
    "        ### COMPUTE ESS AND OTHER METRISC FOR RotatedHUG\n",
    "        rh = rh[1:]\n",
    "        rh_esst[k] = ESS_univariate(rh[::2, 0])     # ESS for theta\n",
    "        rh_essu[k] = ESS_univariate(rh[::2, 1])     # ESS for u\n",
    "        rh_essj[k] = ESS(rh[::2])                   # ESS joint\n",
    "        rh_rmse[k] = sqrt(mean((target.logpdf(rh) - z0)**2))  # RMSE on energy\n",
    "        rh_uniq[k] = n_unique(rh)                             # Number of unique samples\n",
    "        rh_act[k] = acf(rh[::2, 0], adjusted=True, nlags=nlags, fft=True)[1:]  # Autocorrelation for theta\n",
    "        rh_acu[k] = acf(rh[::2, 1], adjusted=True, nlags=nlags, fft=True)[1:]  # Autocorrelation for u\n",
    "    # RETURN EVERYTHING\n",
    "    out = {\n",
    "        'HH': {\n",
    "            'A1': ahh1,\n",
    "            'A2': ahh2,\n",
    "            'E': ehh,\n",
    "            'EG': eghh, \n",
    "            'ET': ethh,\n",
    "            'ESS_T': hh_esst,\n",
    "            'ESS_U': hh_essu,\n",
    "            'ESS_J': hh_essj,\n",
    "            'RMSE': hh_rmse,\n",
    "            'UNIQUE': hh_uniq,\n",
    "            'AC_T': hh_act,\n",
    "            'AC_U': hh_acu\n",
    "        },\n",
    "        'RH': {\n",
    "            'A1': arh1,\n",
    "            'A2': arh2,\n",
    "            'E': erh,\n",
    "            'EG': egrh, \n",
    "            'ET': etrh, \n",
    "            'ESS_T': rh_esst,\n",
    "            'ESS_U': rh_essu,\n",
    "            'ESS_J': rh_essj,\n",
    "            'RMSE': rh_rmse,\n",
    "            'UNIQUE': rh_uniq,\n",
    "            'AC_T': rh_act,\n",
    "            'AC_U': rh_acu\n",
    "        }\n",
    "    }\n",
    "    return out"
   ]
  },
  {
   "cell_type": "code",
   "execution_count": 201,
   "id": "be7d8c3c",
   "metadata": {},
   "outputs": [],
   "source": [
    "epsilon = epsilons[-1]\n",
    "lam = epsilon\n",
    "alphas = [0.9, 0.999]\n",
    "n_alphas = len(alphas)\n",
    "out = experiment(x0, 0.03, 50000, alphas, 20)"
   ]
  },
  {
   "cell_type": "code",
   "execution_count": 202,
   "id": "c8d35106",
   "metadata": {},
   "outputs": [
    {
     "data": {
      "text/plain": [
       "(232.36069509079138, array([232.22375307, 233.68314041]))"
      ]
     },
     "execution_count": 202,
     "metadata": {},
     "output_type": "execute_result"
    }
   ],
   "source": [
    "out['HH']['ESS_J'], out['TH']['ESS_J']"
   ]
  },
  {
   "cell_type": "code",
   "execution_count": 203,
   "id": "42ba4c92",
   "metadata": {},
   "outputs": [
    {
     "data": {
      "text/plain": [
       "(3.4317201819984855, array([ 8.77472213, 20.58687875]))"
      ]
     },
     "execution_count": 203,
     "metadata": {},
     "output_type": "execute_result"
    }
   ],
   "source": [
    "out['HH']['ESS_T'], out['TH']['ESS_T']"
   ]
  },
  {
   "cell_type": "code",
   "execution_count": 204,
   "id": "896d94c2",
   "metadata": {},
   "outputs": [
    {
     "data": {
      "text/plain": [
       "(4.530865476871594, array([6.9625099 , 5.01353974]))"
      ]
     },
     "execution_count": 204,
     "metadata": {},
     "output_type": "execute_result"
    }
   ],
   "source": [
    "out['HH']['ESS_U'], out['TH']['ESS_U']"
   ]
  },
  {
   "cell_type": "code",
   "execution_count": 205,
   "id": "52eccf6b",
   "metadata": {},
   "outputs": [
    {
     "data": {
      "text/plain": [
       "(31123, array([42632., 51827.]))"
      ]
     },
     "execution_count": 205,
     "metadata": {},
     "output_type": "execute_result"
    }
   ],
   "source": [
    "out['HH']['UNIQUE'], out['TH']['UNIQUE']"
   ]
  },
  {
   "cell_type": "code",
   "execution_count": 206,
   "id": "349242e9",
   "metadata": {},
   "outputs": [
    {
     "data": {
      "text/plain": [
       "(6.727999999999481, 31.31999999999352, 48.13400000001286)"
      ]
     },
     "execution_count": 206,
     "metadata": {},
     "output_type": "execute_result"
    }
   ],
   "source": [
    "out['HH']['A1'], *out['TH']['A1']"
   ]
  },
  {
   "cell_type": "code",
   "execution_count": 207,
   "id": "b84d9be8",
   "metadata": {},
   "outputs": [
    {
     "data": {
      "text/plain": [
       "(0.0005588502732610646, 0.0025885607762209557, 0.0035850839331924285)"
      ]
     },
     "execution_count": 207,
     "metadata": {},
     "output_type": "execute_result"
    }
   ],
   "source": [
    "out['HH']['E'], *out['TH']['E']"
   ]
  },
  {
   "cell_type": "code",
   "execution_count": null,
   "id": "63c8e281",
   "metadata": {},
   "outputs": [],
   "source": []
  },
  {
   "cell_type": "markdown",
   "id": "394d4fca",
   "metadata": {},
   "source": [
    "### Two Moons"
   ]
  },
  {
   "cell_type": "code",
   "execution_count": 209,
   "id": "6438c10f",
   "metadata": {},
   "outputs": [],
   "source": [
    "from numpy.random import uniform\n",
    "import numpy as np"
   ]
  },
  {
   "cell_type": "code",
   "execution_count": 211,
   "id": "6644aad3",
   "metadata": {},
   "outputs": [],
   "source": [
    "def simulator(thetau):\n",
    "    \"\"\"Two Moons simulator for ABC.\"\"\"\n",
    "    t0, t1, a, r = thetau\n",
    "    p = np.array([r * np.cos(a) + 0.25, r * np.sin(a)])\n",
    "    return p + np.array([-np.abs(t0 + t1), (-t0 + t1)]) / sqrt(2)"
   ]
  },
  {
   "cell_type": "code",
   "execution_count": null,
   "id": "4e87a0e9",
   "metadata": {},
   "outputs": [],
   "source": []
  }
 ],
 "metadata": {
  "kernelspec": {
   "display_name": "Python 3 (ipykernel)",
   "language": "python",
   "name": "python3"
  },
  "language_info": {
   "codemirror_mode": {
    "name": "ipython",
    "version": 3
   },
   "file_extension": ".py",
   "mimetype": "text/x-python",
   "name": "python",
   "nbconvert_exporter": "python",
   "pygments_lexer": "ipython3",
   "version": "3.8.10"
  }
 },
 "nbformat": 4,
 "nbformat_minor": 5
}
