{
 "cells": [
  {
   "cell_type": "code",
   "execution_count": 2,
   "id": "0d0057f0",
   "metadata": {},
   "outputs": [],
   "source": [
    "import numpy as np\n",
    "import matplotlib.pyplot as plt\n",
    "from scipy.stats import multivariate_normal as MVN\n",
    "from numpy import zeros, eye\n",
    "from scipy.optimize import fsolve\n",
    "from numpy.linalg import norm, solve\n",
    "\n",
    "from utils import prep_contour"
   ]
  },
  {
   "cell_type": "code",
   "execution_count": 3,
   "id": "d6d45c0a",
   "metadata": {},
   "outputs": [],
   "source": [
    "z = -4.0\n",
    "xlims = [-6, 6]\n",
    "ylims = [-2, 2]\n",
    "step = 0.01\n",
    "figsize = 7\n",
    "Σ = np.array([[4.0, 0.0], [0.0, 0.5]])\n",
    "targetMVN = MVN(zeros(2), Σ)\n",
    "f = targetMVN.logpdf\n",
    "g = lambda x: - solve(Σ, x)\n",
    "B = 5\n",
    "δ = 1.7"
   ]
  },
  {
   "cell_type": "code",
   "execution_count": 4,
   "id": "0405c211",
   "metadata": {},
   "outputs": [],
   "source": [
    "def find_point(xval):\n",
    "    y_init = 2.0\n",
    "    y_opt = fsolve(lambda yval: targetMVN.logpdf([xval, yval]) - z, y_init)\n",
    "    return np.array([xval, *y_opt])\n",
    "\n",
    "ξ0 = find_point(-1)\n",
    "v0 = np.array([1.3, 0.5]) #np.array([1.2, -0.5])\n",
    "\n",
    "def tangentialize(v, x):\n",
    "    ghat = g(x) / norm(g(x))\n",
    "    vnew = v - ghat * (ghat @ v)\n",
    "    return vnew * norm(v) / norm(vnew)"
   ]
  },
  {
   "cell_type": "code",
   "execution_count": 5,
   "id": "8ae12208",
   "metadata": {},
   "outputs": [],
   "source": [
    "def hug_points_arrows_grads(ξ0, v0, grad_func, δ=1.0, B=3):\n",
    "    ξ = ξ0\n",
    "    v = v0\n",
    "    ξ_manifold = ξ\n",
    "    velocities = (δ/2)*v\n",
    "    midpoints  = []\n",
    "    gradients  = []\n",
    "    allpoints  = ξ\n",
    "    for b in range(B):\n",
    "        ξ = ξ + (δ/2)*v\n",
    "        midpoints.append(ξ)\n",
    "        allpoints = np.vstack((allpoints, ξ))\n",
    "        ghat = grad_func(ξ) / norm(grad_func(ξ))\n",
    "        gradients.append(ghat)\n",
    "        v = v - 2*ghat*(ghat @ v)\n",
    "        ξ = ξ + (δ/2)*v\n",
    "        ξ_manifold = np.vstack((ξ_manifold, ξ))\n",
    "        velocities = np.vstack((velocities, (δ/2)*v))\n",
    "        allpoints  = np.vstack((allpoints, ξ))\n",
    "    return ξ_manifold, velocities, np.vstack(midpoints), np.vstack(gradients), allpoints"
   ]
  },
  {
   "cell_type": "code",
   "execution_count": 6,
   "id": "71c15fde",
   "metadata": {},
   "outputs": [],
   "source": [
    "ξ_manifold, velocities, midpoints, gradients, allpoints = hug_points_arrows_grads(ξ0, v0, g, δ=δ, B=B)"
   ]
  },
  {
   "cell_type": "code",
   "execution_count": 7,
   "id": "aa5b93db",
   "metadata": {},
   "outputs": [],
   "source": [
    "ξ_manifold2, velocities2, midpoints2, gradients2, allpoints2 = hug_points_arrows_grads(ξ0, tangentialize(v0, ξ0), g, δ=δ, B=B)"
   ]
  },
  {
   "cell_type": "code",
   "execution_count": 12,
   "id": "1e845d77",
   "metadata": {},
   "outputs": [
    {
     "data": {
      "image/png": "[encoded data removed]",
      "text/plain": [
       "<Figure size 504x504 with 1 Axes>"
      ]
     },
     "metadata": {},
     "output_type": "display_data"
    }
   ],
   "source": [
    "fig, ax = plt.subplots(figsize=(figsize, figsize))\n",
    "ax.contour(*prep_contour(xlims, ylims, step, f), levels=[z], colors='darkgrey', linestyles='solid', linewidths=1.0)\n",
    "MAIN_HUG = 'steelblue'\n",
    "SECOND_HUG = 'lightblue'\n",
    "ax.scatter(*ξ_manifold.T, s=20, zorder=100, color=MAIN_HUG)\n",
    "ax.scatter(*midpoints.T, s=20, zorder=100, color=MAIN_HUG)\n",
    "for ix, v in enumerate(velocities):\n",
    "    if ix == 0:\n",
    "        ax.arrow(*ξ_manifold[0], *velocities[0], length_includes_head=True, head_width=0.25, head_length=0.35, color=SECOND_HUG)\n",
    "    elif ix < len(velocities)-1:\n",
    "        ax.arrow(*midpoints[ix-1], *velocities[ix], length_includes_head=True, head_width=0.25, head_length=0.35,color=SECOND_HUG)\n",
    "        ax.arrow(*ξ_manifold[ix], *velocities[ix], length_includes_head=True, head_width=0.25,head_length=0.35, color=SECOND_HUG)\n",
    "    else:\n",
    "        ax.arrow(*midpoints[ix-1], *velocities[ix], length_includes_head=True, head_width=0.25, head_length=0.35, color=SECOND_HUG)\n",
    "ax.scatter(*ξ_manifold[0].T, s=100, zorder=100, color='black', label=r'$x_0$')\n",
    "ax.scatter(*ξ_manifold[-1].T, s=100, zorder=100, color='red', label=r'$x_B$')\n",
    "ax.set_xticks([])\n",
    "ax.set_yticks([])\n",
    "ax.legend(prop={'family':'STIXGeneral', 'size':14})\n",
    "## tangential hug\n",
    "# MAIN_THUG = 'red'\n",
    "# SECOND_THUG = 'navajowhite'\n",
    "# ax.scatter(*ξ_manifold2.T, s=50, zorder=100, color=MAIN_THUG)\n",
    "# ax.scatter(*midpoints2.T, s=50, color=SECOND_THUG)\n",
    "# for ix, v in enumerate(velocities2):\n",
    "#     if ix == 0:\n",
    "#         ax.arrow(*ξ_manifold2[0], *velocities2[0], length_includes_head=True, head_width=0.1, color=SECOND_THUG)\n",
    "#     elif ix < len(velocities2)-1:\n",
    "#         ax.arrow(*midpoints2[ix-1], *velocities2[ix], length_includes_head=True, head_width=0.1, color=SECOND_THUG)\n",
    "#         ax.arrow(*ξ_manifold2[ix], *velocities2[ix], length_includes_head=True, head_width=0.1, color=SECOND_THUG)\n",
    "#     else:\n",
    "#         ax.arrow(*midpoints2[ix-1], *velocities2[ix], length_includes_head=True, head_width=0.1, color=SECOND_THUG)\n",
    "# ax.scatter(*ξ_manifold2[0].T, s=50, zorder=100, color='black')\n",
    "ax.set_aspect('equal')\n",
    "#plt.savefig(\"figures/hug_dynamic.png\", dpi=500)\n",
    "plt.show()"
   ]
  },
  {
   "cell_type": "code",
   "execution_count": null,
   "id": "beffbdb4",
   "metadata": {},
   "outputs": [],
   "source": []
  },
  {
   "cell_type": "code",
   "execution_count": null,
   "id": "061d81ec",
   "metadata": {},
   "outputs": [],
   "source": []
  }
 ],
 "metadata": {
  "kernelspec": {
   "display_name": "Python 3 (ipykernel)",
   "language": "python",
   "name": "python3"
  },
  "language_info": {
   "codemirror_mode": {
    "name": "ipython",
    "version": 3
   },
   "file_extension": ".py",
   "mimetype": "text/x-python",
   "name": "python",
   "nbconvert_exporter": "python",
   "pygments_lexer": "ipython3",
   "version": "3.10.4"
  }
 },
 "nbformat": 4,
 "nbformat_minor": 5
}
