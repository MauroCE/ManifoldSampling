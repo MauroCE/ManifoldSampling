{
 "cells": [
  {
   "cell_type": "code",
   "execution_count": 46,
   "metadata": {},
   "outputs": [],
   "source": [
    "import numpy as np\n",
    "import matplotlib.pyplot as plt"
   ]
  },
  {
   "cell_type": "code",
   "execution_count": 40,
   "metadata": {},
   "outputs": [],
   "source": [
    "import theano.tensor.nlinalg as nla\n",
    "import time\n",
    "import scipy.linalg as la\n",
    "import logging"
   ]
  },
  {
   "cell_type": "code",
   "execution_count": 41,
   "metadata": {},
   "outputs": [],
   "source": [
    "logger = logging.getLogger(__name__)"
   ]
  },
  {
   "cell_type": "code",
   "execution_count": 2,
   "metadata": {},
   "outputs": [],
   "source": [
    "def lotka_volterra_step(n1, n2, y1, y2, z, dt):\n",
    "    \"\"\"Perform a single Euler-Maruyama integration step of Lotka-Volterra SDEs.\n",
    "    Args:\n",
    "        n1: Standard normal noise term on y1.\n",
    "        n2: Standard normal noise term on y2.\n",
    "        y1: Current prey population state.\n",
    "        y2: Current predator population state.\n",
    "        z: Model parameters.\n",
    "        dt: Integrator time step.\n",
    "    Returns:\n",
    "        Updated population state pair (y1, y2).\n",
    "    \"\"\"\n",
    "    y1 = (y1 + dt * (z[0] * y1 - z[1] * y1 * y2) + dt**0.5 * n1)\n",
    "    y2 = (y2 + dt * (-z[2] * y2 + z[3] * y1 * y2) + dt**0.5 * n2)\n",
    "    return y1, y2"
   ]
  },
  {
   "cell_type": "code",
   "execution_count": 15,
   "metadata": {},
   "outputs": [],
   "source": [
    "def generator_decorator(generator):\n",
    "    \"\"\"Generator decorator adding boilerplate for coping with vector inputs.\"\"\"\n",
    "    def wrapped_generator(u, consts):\n",
    "        if u.ndim == 1:\n",
    "            u = u[None, :]\n",
    "        n_batch = u.shape[0]\n",
    "        return tt.squeeze(generator(u, consts).reshape((n_batch, -1)))\n",
    "    return wrapped_generator\n",
    "\n"
   ]
  },
  {
   "cell_type": "code",
   "execution_count": 17,
   "metadata": {},
   "outputs": [],
   "source": [
    "@generator_decorator\n",
    "def param_generator(u, constants):\n",
    "    \"\"\"Generate model parameters from log-normal model.\"\"\"\n",
    "    return tt.exp(constants['log_z_std'] * u + constants['log_z_mean'])\n"
   ]
  },
  {
   "cell_type": "code",
   "execution_count": 13,
   "metadata": {},
   "outputs": [],
   "source": [
    "def partition(inputs, lengths):\n",
    "    \"\"\"Partition a one/two-dimesional tensor in to parts along last axis.\"\"\"\n",
    "    i = 0\n",
    "    parts = []\n",
    "    for l in lengths:\n",
    "        parts.append(inputs.T[i:i+l].T)\n",
    "        i += l\n",
    "    return parts\n"
   ]
  },
  {
   "cell_type": "code",
   "execution_count": 18,
   "metadata": {},
   "outputs": [],
   "source": [
    "@generator_decorator\n",
    "def population_seq_generator(u, consts):\n",
    "    \"\"\"Generate simulated Lotka-Volterra model population sequences.\n",
    "    If a vector of random inputs `u` is provided, a single (pair) of sequences\n",
    "    is returned. If a matrix of random inputs `u` is provided, multiple\n",
    "    simulations are run in parallel as a batch, with it assumed the first\n",
    "    dimension of `u` corresponds to the batch dimension.\n",
    "    Args:\n",
    "        u: Tensor variable representing random inputs to generator. Either\n",
    "            a one-dimensional vector or two-dimensional vector for batch\n",
    "            generation (with first axis batch dimension).\n",
    "        consts: Dictionary of fixed generator constants. Should define\n",
    "            dt: integrator time-step,\n",
    "            y1_init: prey population initial state,\n",
    "            y2_init: predator population initial state,\n",
    "            log_z_std: standard dev. of log-normal prior on model parameters,\n",
    "            log_z_mean: mean of log-normal prior on model parameters.\n",
    "    Returns:\n",
    "        Tensor variable representing generated population sequences. If a\n",
    "        vector of random inputs is provided the output will be a vector of\n",
    "        interleaved y1 and y2 sequences [y1(1), y2(1) ... y1(T), y2(T)]. If\n",
    "        a matrix of random inputs this will be matrix with each row\n",
    "        corresponding to an interleaving of y1 and y2 sequences for the\n",
    "        corresponding simulation in the batch.\n",
    "    \"\"\"\n",
    "    u_z, u_n = partition(u, [consts['n_param'], consts['n_step'] * 2])\n",
    "    # Sample model parameters from log-normal prior\n",
    "    z = param_generator(u_z, consts)\n",
    "    # Extract initial population states and replicate to batch size\n",
    "    y1_init = tt.tile(tt.constant(\n",
    "        consts['y1_init'], 'y1_init', 0, th.config.floatX), u.shape[0])\n",
    "    y2_init = tt.tile(tt.constant(\n",
    "        consts['y2_init'], 'y2_init', 0, th.config.floatX), u.shape[0])\n",
    "    # Extract realisations of SDE white noise process terms as noise sequences\n",
    "    n1_seq = u_n[:, ::2] * consts['noise_std']\n",
    "    n2_seq = u_n[:, 1::2] * consts['noise_std']\n",
    "    # Iterate integrator steps given noise sequences and model parameters\n",
    "    [y1_seq, y2_seq], updates = th.scan(\n",
    "        fn=lotka_volterra_step,\n",
    "        sequences=[n1_seq.T, n2_seq.T],\n",
    "        outputs_info=[y1_init, y2_init],\n",
    "        non_sequences=[z.T, consts['dt']],\n",
    "    )\n",
    "    # Stack y1 and y2 sequences together to produce generator output\n",
    "    return tt.stack([y1_seq.T, y2_seq.T], axis=2).reshape([u.shape[0], -1])"
   ]
  },
  {
   "cell_type": "code",
   "execution_count": 19,
   "metadata": {},
   "outputs": [],
   "source": [
    "consts = {\n",
    "    'dt': 1., # integrator time step\n",
    "    'n_param': 4, # number of model parameters\n",
    "    'n_step': 50, # number of time steps to simulate\n",
    "    'noise_std': 1., # noise standard deviation\n",
    "    'y1_init': 100, # initial prey population\n",
    "    'y2_init': 100, # initial predator population\n",
    "    'log_z_mean': -2., # prior log-normal mean\n",
    "    'log_z_std': 1.,  # prior log-normal std.\n",
    "    'seed': 1234, # random number generator seed\n",
    "}"
   ]
  },
  {
   "cell_type": "code",
   "execution_count": 24,
   "metadata": {},
   "outputs": [],
   "source": [
    "rng = np.random.RandomState(consts['seed'])"
   ]
  },
  {
   "cell_type": "code",
   "execution_count": 20,
   "metadata": {},
   "outputs": [],
   "source": [
    "u = tt.matrix('u')"
   ]
  },
  {
   "cell_type": "code",
   "execution_count": 21,
   "metadata": {},
   "outputs": [],
   "source": [
    "x = population_seq_generator(u, consts)"
   ]
  },
  {
   "cell_type": "code",
   "execution_count": 26,
   "metadata": {},
   "outputs": [],
   "source": [
    "generator = th.function([u], x)"
   ]
  },
  {
   "cell_type": "code",
   "execution_count": 34,
   "metadata": {},
   "outputs": [],
   "source": [
    "def calc_gram_chol(jac):\n",
    "    gram_chol = jac[:, -jac.shape[0]:].T * 1.\n",
    "    for col in jac[:, :-jac.shape[0]].T:\n",
    "        cholupdate(gram_chol, col.copy())\n",
    "    return gram_chol, False"
   ]
  },
  {
   "cell_type": "code",
   "execution_count": 42,
   "metadata": {},
   "outputs": [],
   "source": [
    "model = MinimalDifferentiableGenerativeModel(\n",
    "    generator=population_seq_generator,\n",
    "    constants=consts,\n",
    "    calc_gram_chol=calc_gram_chol\n",
    ")"
   ]
  },
  {
   "cell_type": "code",
   "execution_count": 44,
   "metadata": {},
   "outputs": [],
   "source": [
    "z_obs = np.array([0.4, 0.005, 0.05, 0.001])\n",
    "ns_obs = rng.normal(size=2 * consts['n_step'])\n",
    "u_obs = np.concatenate([\n",
    "    (np.log(z_obs) - consts['log_z_mean']) / consts['log_z_std'],\n",
    "    ns_obs\n",
    "])[None]\n",
    "model.y_obs = generator(u_obs)[0]"
   ]
  },
  {
   "cell_type": "code",
   "execution_count": 51,
   "metadata": {},
   "outputs": [
    {
     "data": {
      "text/plain": [
       "array([ 89.6804386 , 103.34805077,  79.36811981, 105.81173336,\n",
       "        70.18260926, 107.15580142,  60.12865692, 108.31302381,\n",
       "        53.52729587, 109.48304057,  46.14964084, 108.51507526,\n",
       "        40.61378308, 109.60431438,  36.06199455, 109.09205431,\n",
       "        31.56559163, 106.40548535,  27.83833419, 104.7363344 ,\n",
       "        24.11859634, 103.95014437,  21.64158104, 101.89304758,\n",
       "        19.49894345,  96.70658408,  17.48225353,  93.47479693,\n",
       "        17.43079027,  90.67750838,  16.62137503,  87.94980177,\n",
       "        15.80359271,  84.2017655 ,  14.22392483,  81.43881203,\n",
       "        14.70267038,  81.32808351,  15.00436395,  79.15044367,\n",
       "        14.79232548,  76.86422351,  15.88731747,  73.1905508 ,\n",
       "        15.0361828 ,  71.785452  ,  16.83570414,  69.79610948,\n",
       "        16.81360545,  67.77490821,  19.70514586,  64.00940333,\n",
       "        19.87354652,  62.20780821,  21.64527612,  59.17492872,\n",
       "        23.06025529,  58.1346925 ,  25.07731044,  55.89737942,\n",
       "        29.6288556 ,  54.96414069,  33.65078803,  54.93204102,\n",
       "        38.16764143,  55.35860605,  43.23333822,  56.87769292,\n",
       "        47.74585809,  57.13715698,  53.227446  ,  56.66133457,\n",
       "        59.12004884,  56.45542651,  66.25721723,  58.35674737,\n",
       "        73.45083027,  60.27903853,  81.04720453,  61.87494053,\n",
       "        87.90164795,  63.84566615,  92.60410681,  68.10678371,\n",
       "        98.17399471,  71.10331886, 101.2755078 ,  76.53715728,\n",
       "       102.67450487,  80.46395302, 102.82257783,  85.53704181,\n",
       "        99.29212344,  90.81054757,  93.9569923 ,  96.14548856,\n",
       "        86.32154488,  99.27363129,  76.4495544 , 101.5800768 ])"
      ]
     },
     "execution_count": 51,
     "metadata": {},
     "output_type": "execute_result"
    }
   ],
   "source": []
  },
  {
   "cell_type": "code",
   "execution_count": 47,
   "metadata": {},
   "outputs": [
    {
     "data": {
      "text/plain": [
       "<matplotlib.legend.Legend at 0x7ff336cdcf50>"
      ]
     },
     "execution_count": 47,
     "metadata": {},
     "output_type": "execute_result"
    },
    {
     "data": {
      "image/png": "[encoded data removed]",
      "text/plain": [
       "<Figure size 432x216 with 1 Axes>"
      ]
     },
     "metadata": {
      "needs_background": "light"
     },
     "output_type": "display_data"
    }
   ],
   "source": [
    "fig  = plt.figure(figsize=(6, 3))\n",
    "ax = fig.add_subplot(111)\n",
    "ax.plot(model.y_obs[::2])\n",
    "ax.plot(model.y_obs[1::2])\n",
    "ax.set_xlabel('Time step')\n",
    "ax.set_ylabel('Population')\n",
    "ax.legend(['Prey', 'Predator'], loc='best')"
   ]
  },
  {
   "cell_type": "code",
   "execution_count": 55,
   "metadata": {},
   "outputs": [],
   "source": [
    "n_run = 1"
   ]
  },
  {
   "cell_type": "code",
   "execution_count": 56,
   "metadata": {},
   "outputs": [],
   "source": [
    "import scipy.optimize as opt"
   ]
  },
  {
   "cell_type": "code",
   "execution_count": 74,
   "metadata": {},
   "outputs": [],
   "source": [
    "u_inits = np.zeros((n_run, consts['n_param'] + consts['n_step'] * 2))\n",
    "for r in range(n_run):\n",
    "    u_inits[r, :consts['n_param']] = rng.normal(size=consts['n_param']) * 0.1 - 4\n",
    "    u_ = opt.fsolve(\n",
    "        lambda u_: model.constr_func(np.r_[u_inits[r, :consts['n_param']], u_]), \n",
    "        np.zeros(consts['n_step'] * 2),\n",
    "        xtol=1e-12,\n",
    "    )\n",
    "    u_inits[r, consts['n_param']:] = u_\n",
    "    assert np.max(abs(model.constr_func(u_inits[r]))) < 1e-10"
   ]
  },
  {
   "cell_type": "code",
   "execution_count": 76,
   "metadata": {},
   "outputs": [],
   "source": [
    "\n",
    "def lotka_volterra(r1, r2, r3, prey_init=50, predator_init=100, sigma=0., n_obs=16, time_end=30.,\n",
    "                   batch_size=1, random_state=None, return_full=False):\n",
    "    r\"\"\"Generate sequences from the stochastic Lotka-Volterra model.\n",
    "    The Lotka-Volterra model is described by 3 reactions\n",
    "    R1 : X1 -> 2X1       # prey reproduction\n",
    "    R2 : X1 + X2 -> 2X2  # predator hunts prey and reproduces\n",
    "    R3 : X2 -> 0         # predator death\n",
    "    The system is solved using the Direct method.\n",
    "    Gillespie, D. T. (1977) Exact stochastic simulation of coupled chemical reactions.\n",
    "        The Journal of Physical Chemistry 81 (25), 2340–2361.\n",
    "    Lotka, A. J. (1925) Elements of physical biology. Williams & Wilkins Baltimore.\n",
    "    Volterra, V. (1926) Fluctuations in the abundance of a species considered mathematically.\n",
    "        Nature 118, 558–560.\n",
    "    Parameters\n",
    "    ----------\n",
    "    r1 : float or np.array\n",
    "        Rate of R1.\n",
    "    r2 : float or np.array\n",
    "        Rate of R2.\n",
    "    r3 : float or np.array\n",
    "        Rate of R3.\n",
    "    prey_init : int or np.array, optional\n",
    "        Initial number of prey.\n",
    "    predator_init : int or np.array, optional\n",
    "        Initial number of predators.\n",
    "    sigma : float or np.array, optional\n",
    "        Standard deviation of the Gaussian noise added to measurements.\n",
    "    n_obs : int, optional\n",
    "        Number of observations to return at integer frequency.\n",
    "    time_end : float, optional\n",
    "        Time allowed for reactions in the Direct method (not the wall time).\n",
    "    batch_size : int, optional\n",
    "    random_state : np.random.RandomState, optional\n",
    "    return_full : bool, optional\n",
    "        If True, return a tuple (observed_stock, observed_times, full_stock, full_times).\n",
    "    Returns\n",
    "    -------\n",
    "    stock_obs : np.array\n",
    "        Observations in shape (batch_size, n_obs, 2).\n",
    "    \"\"\"\n",
    "    random_state = random_state or np.random\n",
    "\n",
    "    r1 = np.asanyarray(r1).reshape(-1)\n",
    "    r2 = np.asanyarray(r2).reshape(-1)\n",
    "    r3 = np.asanyarray(r3).reshape(-1)\n",
    "    prey_init = np.asanyarray(prey_init).reshape(-1)\n",
    "    predator_init = np.asanyarray(predator_init).reshape(-1)\n",
    "    sigma = np.asanyarray(sigma).reshape(-1)\n",
    "\n",
    "    n_full = 20000\n",
    "    stock = np.empty((batch_size, n_full, 2), dtype=np.int32)\n",
    "    stock[:, 0, 0] = prey_init\n",
    "    stock[:, 0, 1] = predator_init\n",
    "    stoichiometry = np.array([[1, 0], [-1, 1], [0, -1], [0, 0]], dtype=np.int32)\n",
    "    times = np.empty((batch_size, n_full))\n",
    "    times[:, 0] = 0\n",
    "\n",
    "    # iterate until all in batch ok\n",
    "    ii = 0\n",
    "    while np.any(times[:, ii] < time_end):\n",
    "        ii += 1\n",
    "\n",
    "        # increase the size of arrays if needed\n",
    "        if ii == n_full:\n",
    "            stock = np.concatenate((stock, np.empty((batch_size, n_full, 2))), axis=1)\n",
    "            times = np.concatenate((times, np.empty((batch_size, n_full))), axis=1)\n",
    "            n_full *= 2\n",
    "\n",
    "        # reaction probabilities\n",
    "        hazards = np.column_stack((r1 * stock[:, ii - 1, 0],\n",
    "                                   r2 * stock[:, ii - 1, 0] * stock[:, ii - 1, 1],\n",
    "                                   r3 * stock[:, ii - 1, 1]))\n",
    "\n",
    "        with np.errstate(divide='ignore', invalid='ignore'):\n",
    "            inv_sum_hazards = 1. / np.sum(hazards, axis=1, keepdims=True)  # inf if all dead\n",
    "\n",
    "            delta_t = random_state.exponential(inv_sum_hazards.ravel())\n",
    "            times[:, ii] = times[:, ii - 1] + delta_t\n",
    "\n",
    "            # choose reaction according to their probabilities\n",
    "            probs = hazards * inv_sum_hazards\n",
    "            cumprobs = np.cumsum(probs[:, :-1], axis=1)\n",
    "            x = random_state.uniform(size=(batch_size, 1))\n",
    "            reaction = np.sum(x >= cumprobs, axis=1)\n",
    "\n",
    "        # null reaction if both populations dead\n",
    "        reaction = np.where(np.isinf(inv_sum_hazards.ravel()), 3, reaction)\n",
    "\n",
    "        # update stock\n",
    "        stock[:, ii, :] = stock[:, ii - 1, :] + stoichiometry[reaction, :]\n",
    "\n",
    "        # no point to continue if predators = 0\n",
    "        times[:, ii] = np.where(stock[:, ii, 1] == 0, time_end, times[:, ii])\n",
    "\n",
    "    stock = stock[:, :ii + 1, :]\n",
    "    times = times[:, :ii + 1]\n",
    "\n",
    "    times_out = np.linspace(0, time_end, n_obs)\n",
    "    stock_out = np.empty((batch_size, n_obs, 2), dtype=np.int32)\n",
    "    stock_out[:, 0, :] = stock[:, 0, :]\n",
    "\n",
    "    # observations at even intervals\n",
    "    for ii in range(1, n_obs):\n",
    "        iy, ix = np.where(times >= times_out[ii])\n",
    "        iy, iix = np.unique(iy, return_index=True)\n",
    "        ix = ix[iix] - 1\n",
    "        time_term = (times_out[ii] - times[iy, ix]) / (times[iy, ix + 1] - times[iy, ix])\n",
    "        stock_out[:, ii, 0] = (stock[iy, ix + 1, 0] - stock[iy, ix, 0]) * time_term \\\n",
    "            + stock[iy, ix, 0] + random_state.normal(scale=sigma, size=batch_size)\n",
    "        stock_out[:, ii, 1] = (stock[iy, ix + 1, 1] - stock[iy, ix, 1]) * time_term \\\n",
    "            + stock[iy, ix, 1] + random_state.normal(scale=sigma, size=batch_size)\n",
    "\n",
    "    if return_full:\n",
    "        return (stock_out, times_out, stock, times)\n",
    "\n",
    "    return stock_out"
   ]
  },
  {
   "cell_type": "code",
   "execution_count": null,
   "metadata": {},
   "outputs": [],
   "source": []
  }
 ],
 "metadata": {
  "kernelspec": {
   "display_name": "Python 3",
   "language": "python",
   "name": "python3"
  },
  "language_info": {
   "codemirror_mode": {
    "name": "ipython",
    "version": 3
   },
   "file_extension": ".py",
   "mimetype": "text/x-python",
   "name": "python",
   "nbconvert_exporter": "python",
   "pygments_lexer": "ipython3",
   "version": "3.7.4"
  }
 },
 "nbformat": 4,
 "nbformat_minor": 2
}
