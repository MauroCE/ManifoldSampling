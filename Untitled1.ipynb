{
 "cells": [
  {
   "cell_type": "code",
   "execution_count": 19,
   "id": "d37fa739",
   "metadata": {},
   "outputs": [],
   "source": [
    "import numpy as np\n",
    "from numpy import zeros, pi, exp, eye\n",
    "from scipy.stats import multivariate_normal as MVN\n",
    "import matplotlib.pyplot as plt"
   ]
  },
  {
   "cell_type": "markdown",
   "id": "a307c28d",
   "metadata": {},
   "source": [
    "# Univariate Case"
   ]
  },
  {
   "cell_type": "code",
   "execution_count": 56,
   "id": "e7702c16",
   "metadata": {},
   "outputs": [],
   "source": [
    "n = 1\n",
    "ystar = 0\n",
    "π = pi\n",
    "\n",
    "def norm(x):\n",
    "    \"\"\"Computes the norm if x is a vector, otherwise absolute value.\"\"\"\n",
    "    if type(x) == np.ndarray and len(x) >= 1:\n",
    "        return np.linalg.norm(x)\n",
    "    elif type(x) in [float, int, np.float64]:\n",
    "        return abs(x)\n",
    "    else:\n",
    "        raise TypeError(\"Input has type: \", type(x))"
   ]
  },
  {
   "cell_type": "code",
   "execution_count": 57,
   "id": "b4d2ab1f",
   "metadata": {},
   "outputs": [],
   "source": [
    "f = lambda ϵ, y: ((2*π)**(-n/2)) * (ϵ**(-n)) * exp(-(norm(y - ystar)**2) / (2*ϵ**2))"
   ]
  },
  {
   "cell_type": "code",
   "execution_count": 58,
   "id": "5441b37a",
   "metadata": {},
   "outputs": [],
   "source": [
    "R0 = 1.0 # Radius of the ball\n",
    "ϵ0 = 1.0"
   ]
  },
  {
   "cell_type": "code",
   "execution_count": 59,
   "id": "7f605162",
   "metadata": {},
   "outputs": [],
   "source": [
    "def pick_point_outside_ball(R, ϵ, n=1, ystar=ystar, maxiter=100):\n",
    "    \"\"\"Randomly picks a point outside the ball with radious R, centered at y^*.\"\"\"\n",
    "    success = False\n",
    "    iteration = 0\n",
    "    while (not success) or (iteration >= maxiter):\n",
    "        iteration += 1\n",
    "        point = MVN(mean=ystar, cov=(ϵ**2)*eye(n)).rvs()\n",
    "        if norm(point - ystar) >= R:\n",
    "            return point"
   ]
  },
  {
   "cell_type": "code",
   "execution_count": 60,
   "id": "41d95e6b",
   "metadata": {},
   "outputs": [],
   "source": [
    "point_outside_ball = pick_point_outside_ball(R0, ϵ0)"
   ]
  },
  {
   "cell_type": "code",
   "execution_count": 61,
   "id": "c8899ce4",
   "metadata": {},
   "outputs": [
    {
     "data": {
      "text/plain": [
       "True"
      ]
     },
     "execution_count": 61,
     "metadata": {},
     "output_type": "execute_result"
    }
   ],
   "source": [
    "# Pick a smaller epsilon\n",
    "ϵs = [0.999, 0.99, 0.9]\n",
    "all(f(ϵ, point_outside_ball) < f(ϵ0, point_outside_ball) for ϵ in ϵs)"
   ]
  },
  {
   "cell_type": "markdown",
   "id": "7bae65d0",
   "metadata": {},
   "source": [
    "# Multivariate Case"
   ]
  },
  {
   "cell_type": "code",
   "execution_count": 67,
   "id": "fe2eb4da",
   "metadata": {},
   "outputs": [],
   "source": [
    "n = 10\n",
    "ystar = zeros(n)\n",
    "R0 = 1.0\n",
    "ϵ0 = 1.0"
   ]
  },
  {
   "cell_type": "code",
   "execution_count": 65,
   "id": "c0b130be",
   "metadata": {},
   "outputs": [],
   "source": [
    "point_outside_ball = pick_point_outside_ball(R0, ϵ0, n=n, ystar=ystar)"
   ]
  },
  {
   "cell_type": "code",
   "execution_count": 66,
   "id": "e6e003bd",
   "metadata": {},
   "outputs": [
    {
     "data": {
      "text/plain": [
       "False"
      ]
     },
     "execution_count": 66,
     "metadata": {},
     "output_type": "execute_result"
    }
   ],
   "source": [
    "# Pick a smaller epsilon\n",
    "ϵs = [0.999, 0.99, 0.9]\n",
    "all(f(ϵ, point_outside_ball) < f(ϵ0, point_outside_ball) for ϵ in ϵs)"
   ]
  },
  {
   "cell_type": "code",
   "execution_count": 89,
   "id": "df778c5e",
   "metadata": {},
   "outputs": [
    {
     "data": {
      "text/plain": [
       "[False, False, True]"
      ]
     },
     "execution_count": 89,
     "metadata": {},
     "output_type": "execute_result"
    }
   ],
   "source": [
    "[f(ϵ, point_outside_ball) < f(ϵ0, point_outside_ball) for ϵ in ϵs]"
   ]
  },
  {
   "cell_type": "code",
   "execution_count": 70,
   "id": "0a39d31d",
   "metadata": {},
   "outputs": [
    {
     "data": {
      "text/plain": [
       "1.1234020509204586e-06"
      ]
     },
     "execution_count": 70,
     "metadata": {},
     "output_type": "execute_result"
    }
   ],
   "source": [
    "f(ϵ0, point_outside_ball)"
   ]
  },
  {
   "cell_type": "code",
   "execution_count": 73,
   "id": "206a6be5",
   "metadata": {},
   "outputs": [
    {
     "data": {
      "text/plain": [
       "1.1334867675727626e-06"
      ]
     },
     "execution_count": 73,
     "metadata": {},
     "output_type": "execute_result"
    }
   ],
   "source": [
    "f(0.99, point_outside_ball)"
   ]
  },
  {
   "cell_type": "code",
   "execution_count": 79,
   "id": "9e19ae05",
   "metadata": {},
   "outputs": [
    {
     "data": {
      "text/plain": [
       "1.0"
      ]
     },
     "execution_count": 79,
     "metadata": {},
     "output_type": "execute_result"
    }
   ],
   "source": [
    "(1.0**(-n)) "
   ]
  },
  {
   "cell_type": "code",
   "execution_count": 82,
   "id": "d32343bd",
   "metadata": {},
   "outputs": [
    {
     "data": {
      "text/plain": [
       "1.1057273553218807"
      ]
     },
     "execution_count": 82,
     "metadata": {},
     "output_type": "execute_result"
    }
   ],
   "source": [
    "(0.99**(-n)) "
   ]
  },
  {
   "cell_type": "code",
   "execution_count": 83,
   "id": "ab3f00f1",
   "metadata": {},
   "outputs": [
    {
     "data": {
      "text/plain": [
       "2.867971990792441"
      ]
     },
     "execution_count": 83,
     "metadata": {},
     "output_type": "execute_result"
    }
   ],
   "source": [
    "(0.9**(-n)) "
   ]
  },
  {
   "cell_type": "code",
   "execution_count": 85,
   "id": "3269a68e",
   "metadata": {},
   "outputs": [
    {
     "data": {
      "text/plain": [
       "0.011001060528314156"
      ]
     },
     "execution_count": 85,
     "metadata": {},
     "output_type": "execute_result"
    }
   ],
   "source": [
    "exp(-(norm(point_outside_ball - ystar)**2) / (2*1.0**2))"
   ]
  },
  {
   "cell_type": "code",
   "execution_count": 87,
   "id": "5552d8d9",
   "metadata": {},
   "outputs": [
    {
     "data": {
      "text/plain": [
       "0.010038475011805914"
      ]
     },
     "execution_count": 87,
     "metadata": {},
     "output_type": "execute_result"
    }
   ],
   "source": [
    "exp(-(norm(point_outside_ball - ystar)**2) / (2*0.99**2))"
   ]
  },
  {
   "cell_type": "code",
   "execution_count": 88,
   "id": "bb3097f3",
   "metadata": {},
   "outputs": [
    {
     "data": {
      "text/plain": [
       "0.0038196007341333915"
      ]
     },
     "execution_count": 88,
     "metadata": {},
     "output_type": "execute_result"
    }
   ],
   "source": [
    "exp(-(norm(point_outside_ball - ystar)**2) / (2*0.9**2))"
   ]
  },
  {
   "cell_type": "code",
   "execution_count": null,
   "id": "b24e0f58",
   "metadata": {},
   "outputs": [],
   "source": []
  }
 ],
 "metadata": {
  "kernelspec": {
   "display_name": "Python 3 (ipykernel)",
   "language": "python",
   "name": "python3"
  },
  "language_info": {
   "codemirror_mode": {
    "name": "ipython",
    "version": 3
   },
   "file_extension": ".py",
   "mimetype": "text/x-python",
   "name": "python",
   "nbconvert_exporter": "python",
   "pygments_lexer": "ipython3",
   "version": "3.10.4"
  }
 },
 "nbformat": 4,
 "nbformat_minor": 5
}
