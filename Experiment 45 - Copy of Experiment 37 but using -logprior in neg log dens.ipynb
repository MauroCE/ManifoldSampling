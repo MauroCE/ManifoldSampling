{
 "cells": [
  {
   "cell_type": "code",
   "execution_count": 1,
   "id": "f815d673",
   "metadata": {},
   "outputs": [],
   "source": [
    "import numpy as np\n",
    "from numpy.linalg import norm, solve, det\n",
    "from numpy.random import default_rng\n",
    "from numpy import log, exp, zeros, eye, pi, array, diag\n",
    "from scipy.stats import multivariate_normal as MVN\n",
    "import matplotlib.pyplot as plt\n",
    "\n",
    "from mici.samplers import ChainState\n",
    "from mici.systems import DenseConstrainedEuclideanMetricSystem as DCEMS\n",
    "from mici.integrators import ConstrainedLeapfrogIntegrator as CLI\n",
    "from mici.samplers import DynamicMultinomialHMC as DMHMC\n",
    "from mici.samplers import StaticMetropolisHMC as SMHMC\n",
    "\n",
    "from Manifolds.GeneralizedEllipse import GeneralizedEllipse\n",
    "from tangential_hug_functions import Hug, HugTangential\n",
    "from utils import ESS_univariate, prep_contour"
   ]
  },
  {
   "cell_type": "code",
   "execution_count": 2,
   "id": "57129e15",
   "metadata": {},
   "outputs": [],
   "source": [
    "# Manifold\n",
    "μ       = zeros(2)\n",
    "Σ       = diag([1.0, 5.0])\n",
    "target  = MVN(μ, Σ)\n",
    "z0      = -2.9513586307684885                # Specifies exactly which ellipse we are interested in (y*).\n",
    "ellipse = GeneralizedEllipse(μ, Σ, exp(z0))"
   ]
  },
  {
   "cell_type": "code",
   "execution_count": 3,
   "id": "dd5f861c",
   "metadata": {},
   "outputs": [],
   "source": [
    "HMC_STATIC   = True  # Use Standard HMC or DynamicMultinomial (i.e. Stan's Default)\n",
    "HMC_ADAPTIVE = False   # Use fixed step size or adaptively\n",
    "\n",
    "# Settings\n",
    "N_CHMC = 1000  # Number of samples for C-HMC\n",
    "δ_CHMC = 0.5   # Step-size for C-HMC\n",
    "n_CHMC = 5     # Number of integrator steps to simulate in each transition \n",
    "T_CHMC = δ_CHMC * n_CHMC\n",
    "\n",
    "ϵ_HUG = 0.001\n",
    "N_HUG = 1000\n",
    "T_HUG = T_CHMC\n",
    "B_HUG = n_CHMC\n",
    "\n",
    "ϵ_THUG = ϵ_HUG\n",
    "N_THUG = N_HUG\n",
    "T_THUG = T_HUG\n",
    "B_THUG = B_HUG"
   ]
  },
  {
   "cell_type": "markdown",
   "id": "232acba9",
   "metadata": {},
   "source": [
    "- Log prior\n",
    "$$\n",
    "\\log p(\\xi) = - \\log(2\\pi) - \\frac{1}{2}\\xi^\\top \\xi\n",
    "$$\n",
    "- Gradient of Log Prior\n",
    "$$\n",
    "\\nabla_\\xi \\log p(\\xi) = -\\xi\n",
    "$$\n",
    "- Constraint function\n",
    "$$\n",
    "f(\\xi) = \\log N(\\xi\\mid \\mu, \\Sigma) - z_0 = -\\frac{1}{2}\\log\\det(2\\pi\\Sigma) - \\frac{1}{2}(\\xi-\\mu)^\\top \\Sigma^{-1} (\\xi - \\mu) - z_0\n",
    "$$\n",
    "- Gradient of constraint function\n",
    "$$\n",
    "\\nabla_\\xi f(\\xi) = - \\Sigma^{-1}(\\xi - \\mu)\n",
    "$$\n",
    "- Jacobian of constraint function\n",
    "$$\n",
    "J_f(\\xi) = - (\\xi - \\mu)^\\top \\Sigma^{-1}\n",
    "$$\n",
    "- Gram Jacobian matrix of constraint function\n",
    "$$\n",
    "J_f(\\xi)J_f(\\xi)^\\top = (\\xi - \\mu)^\\top\\Sigma^{-1}\\Sigma^{-1}(\\xi - \\mu) = \\|\\Sigma^{-1}(\\xi - \\mu)\\|^2 \\qquad \\in\\mathbb{R}\n",
    "$$\n",
    "- Posterior density\n",
    "$$\n",
    "p(\\xi\\mid y) \\propto p(\\xi)|\\det J_f(\\xi) J_f(\\xi)^\\top|^{-1/2} \\propto p(\\xi)\\|\\Sigma^{-1}(\\xi - \\mu)\\|^{-1}\n",
    "$$\n",
    "- Log Posterior Density\n",
    "$$\n",
    "\\log p(\\xi\\mid y) \\propto - \\frac{1}{2}\\xi^\\top \\xi - \\log \\|\\Sigma^{-1}(\\xi - \\mu)\\|\n",
    "$$\n",
    "- Negative log posterior density\n",
    "$$\n",
    "-\\log p(\\xi\\mid y) \\propto   \\frac{1}{2}\\xi^\\top \\xi + \\log \\|\\Sigma^{-1}(\\xi - \\mu)\\|\n",
    "$$"
   ]
  },
  {
   "cell_type": "markdown",
   "id": "c272a10b",
   "metadata": {},
   "source": [
    "- Gradient Negative Log Posterior Density\n",
    "$$\n",
    "\\begin{align}\n",
    "-\\nabla_\\xi \\log p(\\xi\\mid y) \n",
    "&\\propto \\xi + \\frac{1}{(\\xi -\\mu)^\\top \\Sigma^{-1}\\Sigma^{-1}(\\xi-\\mu)}\\left[2\\Sigma^{-1}\\Sigma^{-1}(\\xi-\\mu)\\right] \\\\\n",
    "&\\propto \\xi + \\frac{2\\Sigma^{-1}\\Sigma^{-1}(\\xi-\\mu)}{\\|\\Sigma^{-1}(\\xi-\\mu)\\|^2}\n",
    "\\end{align}\n",
    "$$"
   ]
  },
  {
   "cell_type": "code",
   "execution_count": 9,
   "id": "dd1ebc53",
   "metadata": {},
   "outputs": [],
   "source": [
    "### Functions for C-HMC\n",
    "logprior      = lambda xi: MVN(zeros(2), eye(2)).logpdf(xi)\n",
    "grad_logprior = lambda xi: -xi\n",
    "constr        = lambda q: array([target.logpdf(q) - z0])\n",
    "jacob_constr  = lambda q: (- solve(Σ, q - μ)).reshape(1, -1)\n",
    "neg_log_dens  = lambda q: 0.5*(q@q) + log(norm(solve(Σ, q - μ)))\n",
    "#neg_log_dens  = lambda q: +0.5*log(norm(solve(Σ, q - μ))) - logprior(q)\n",
    "\n",
    "def grad_neg_log_density(q):\n",
    "    sol = solve(Σ, q - μ)\n",
    "    numerator   = 2 * solve(Σ, sol)\n",
    "    denominator = norm(sol)**2\n",
    "    return q + numerator / denominator\n",
    "\n",
    "# def grad_neg_log_density(q):\n",
    "#     sol = solve(Σ, q - μ)\n",
    "#     return -grad_logprior(q) - solve(Σ.T, sol) / norm(sol)**2\n",
    "\n",
    "def trace_func(state):\n",
    "    x, y = state.pos\n",
    "    return {'x': x, 'y': y}\n",
    "\n",
    "\n",
    "#### Functions for HUG\n",
    "q = MVN(zeros(2), eye(2))\n",
    "\n",
    "def log_epanechnikov_kernel(xi, epsilon, ystar):\n",
    "    u = norm(target.logpdf(xi) - ystar)\n",
    "    with np.errstate(divide='ignore'):\n",
    "        return log((3*(1 - (u**2 / (epsilon**2))) / (4*epsilon)) * float(u <= epsilon))\n",
    "\n",
    "logpi_HUG = lambda xi: logprior(xi) + log_epanechnikov_kernel(xi, ϵ_HUG, z0)\n",
    "grad_HUG  = lambda xi: -solve(Σ, xi - μ)\n",
    "\n",
    "\n",
    "### Functions for THUG\n",
    "logpi_THUG = lambda xi: logprior(xi) + log_epanechnikov_kernel(xi, ϵ_THUG, z0)\n",
    "grad_THUG  = lambda xi: -solve(Σ, xi - μ)"
   ]
  },
  {
   "cell_type": "code",
   "execution_count": 10,
   "id": "c5971c3d",
   "metadata": {},
   "outputs": [
    {
     "name": "stdout",
     "output_type": "stream",
     "text": [
      "Using StaticMetropolisHMC\n",
      "Sampling with fixed step size.\n"
     ]
    },
    {
     "data": {
      "text/html": [
       "\n",
       "        <div style=\"line-height: 28px; width: 100%; display: flex;\n",
       "                    flex-flow: row wrap; align-items: center;\n",
       "                    position: relative; margin: 2px;\">\n",
       "          <label style=\"margin-right: 8px; flex-shrink: 0;\n",
       "                        font-size: var(--jp-code-font-size, 13px);\n",
       "                        font-family: var(--jp-code-font-family, monospace);\">\n",
       "            Chain&nbsp;1/1:&nbsp;100%\n",
       "          </label>\n",
       "          <div role=\"progressbar\" aria-valuenow=\"1.0\"\n",
       "               aria-valuemin=\"0\" aria-valuemax=\"1\"\n",
       "               style=\"position: relative; flex-grow: 1; align-self: stretch;\n",
       "                      margin-top: 4px; margin-bottom: 4px;  height: initial;\n",
       "                      background-color: #eee;\">\n",
       "            <div style=\"background-color: var(--jp-success-color1, #4caf50); position: absolute;\n",
       "                        bottom: 0; left: 0; width: 100%;\n",
       "                        height: 100%;\"></div>\n",
       "          </div>\n",
       "          <div style=\"margin-left: 8px; flex-shrink: 0;\n",
       "                      font-family: var(--jp-code-font-family, monospace);\n",
       "                      font-size: var(--jp-code-font-size, 13px);\">\n",
       "            1000/1000 [00:02&lt;00:00, 444.63it/s, accept_stat=0.472]\n",
       "          </div>\n",
       "        </div>\n",
       "        "
      ],
      "text/plain": [
       "Chain 1/1: 100%|██████████|1000/1000 [00:02<00:00, 444.63it/s, accept_stat=0.472]"
      ]
     },
     "metadata": {},
     "output_type": "display_data"
    }
   ],
   "source": [
    "system         = DCEMS(neg_log_dens, constr, jacob_constr=jacob_constr, grad_neg_log_dens=grad_neg_log_density)\n",
    "\n",
    "if not HMC_ADAPTIVE:\n",
    "    integrator = CLI(system, step_size=δ_CHMC)\n",
    "else:\n",
    "    integrator = CLI(system)\n",
    "    \n",
    "if HMC_STATIC:\n",
    "    print(\"Using StaticMetropolisHMC\")\n",
    "    sampler    = SMHMC(system, integrator, default_rng(seed=1234), n_step=n_CHMC)\n",
    "else:\n",
    "    print(\"Using DynamicMultinomialHMC\")\n",
    "    sampler    = DMHMC(system, integrator, default_rng(seed=1234))\n",
    "\n",
    "init_state = ellipse.sample()\n",
    "init_state_CHMC = ChainState(pos=init_state, mom=None, dir=1, _call_counts={})\n",
    "if not HMC_ADAPTIVE:\n",
    "    print(\"Sampling with fixed step size.\")\n",
    "    final_state, trace, stat = sampler.sample_chain(n_iter=N_CHMC, init_state=init_state_CHMC, trace_funcs=[trace_func])\n",
    "else:\n",
    "    print(\"Sampling with adaptive step size.\")\n",
    "    n_warm_up_iter = N_CHMC // 5\n",
    "    n_main_iter = N_CHMC - n_warm_up_iter\n",
    "    sampler.sample_chains_with_adaptive_warm_up(n_warm_up_iter=n_warm_up_iter, n_main_iter=n_main_iter, init_states=[init_state_CHMC], trace_funcs=[trace_func])"
   ]
  },
  {
   "cell_type": "code",
   "execution_count": 11,
   "id": "df689810",
   "metadata": {},
   "outputs": [],
   "source": [
    "hug_samples, acceptance_hug = Hug(init_state, T_HUG, B_HUG, N_HUG, q, logpi_HUG, grad_HUG)"
   ]
  },
  {
   "cell_type": "code",
   "execution_count": 12,
   "id": "5e6133fe",
   "metadata": {},
   "outputs": [],
   "source": [
    "thug_samples, acceptance_thug = HugTangential(init_state, T_THUG, B_THUG, N_THUG, 0.99, q, logpi_THUG, grad_THUG)"
   ]
  },
  {
   "cell_type": "code",
   "execution_count": 13,
   "id": "23fd05eb",
   "metadata": {},
   "outputs": [
    {
     "name": "stderr",
     "output_type": "stream",
     "text": [
      "/opt/anaconda3/envs/manifold-sampling/lib/python3.10/site-packages/tensorflow_probability/python/__init__.py:74: UserWarning: TensorFloat-32 matmul/conv are enabled for NVIDIA Ampere+ GPUs. The resulting loss of precision may hinder MCMC convergence. To turn off, run `tf.config.experimental.enable_tensor_float_32_execution(False)`. For more detail, see https://github.com/tensorflow/community/pull/287.\n",
      "  warnings.warn(\n"
     ]
    }
   ],
   "source": [
    "rmse = lambda x: np.sqrt(np.mean(x**2))\n",
    "\n",
    "\n",
    "### Computations for CHMC\n",
    "CHMC_stats           = {key[0].split('.', 1)[1]: value for (key, value) in final_state._call_counts.items()}\n",
    "n_constr_eval_CHMC   = CHMC_stats['constr']\n",
    "n_jac_constr_CHMC    = CHMC_stats['jacob_constr']\n",
    "n_grad_log_dens_CHMC = CHMC_stats['grad_neg_log_dens']\n",
    "samples_CHMC         = np.vstack((trace['x'], trace['y'])).T\n",
    "dens_values_CHMC     = np.exp(-np.apply_along_axis(neg_log_dens, 1, samples_CHMC))\n",
    "logpiESS_CHMC        = ESS_univariate(dens_values_CHMC)\n",
    "constr_per_ess_chmc  = n_constr_eval_CHMC / logpiESS_CHMC\n",
    "c_and_j_per_ess_chmc = (n_constr_eval_CHMC + n_jac_constr_CHMC) / logpiESS_CHMC\n",
    "rmse_CHMC            = rmse(np.apply_along_axis(lambda xi: target.logpdf(xi), 1, samples_CHMC) - z0)\n",
    "\n",
    "\n",
    "### Computations for HUG\n",
    "dens_values_HUG     = np.exp(np.apply_along_axis(logpi_HUG, 1, hug_samples))\n",
    "logpiESS_HUG        = ESS_univariate(dens_values_HUG)\n",
    "n_constr_eval_HUG   = N_HUG + 1\n",
    "n_jacob_constr_HUG  = B_HUG * N_HUG\n",
    "eval_per_ess_hug    = n_constr_eval_HUG / logpiESS_HUG\n",
    "c_and_j_per_ess_hug = (n_constr_eval_HUG + n_jacob_constr_HUG) / logpiESS_HUG\n",
    "rmse_HUG            = rmse(np.apply_along_axis(lambda xi: target.logpdf(xi), 1, hug_samples) - z0)\n",
    "\n",
    "\n",
    "### Computations for THUG\n",
    "dens_values_THUG     = np.exp(np.apply_along_axis(logpi_THUG, 1, thug_samples))\n",
    "logpiESS_THUG        = ESS_univariate(dens_values_THUG)\n",
    "n_constr_eval_THUG   = N_THUG + 1\n",
    "n_jacob_constr_THUG  = 1 + (B_THUG + 1) * N_THUG\n",
    "eval_per_ess_thug    = n_constr_eval_THUG / logpiESS_THUG\n",
    "c_and_j_per_ess_thug = (n_constr_eval_THUG + n_jacob_constr_THUG) / logpiESS_THUG\n",
    "rmse_THUG            = rmse(np.apply_along_axis(lambda xi: target.logpdf(xi), 1, thug_samples) - z0)"
   ]
  },
  {
   "cell_type": "code",
   "execution_count": 14,
   "id": "e3946586",
   "metadata": {},
   "outputs": [
    {
     "name": "stdout",
     "output_type": "stream",
     "text": [
      "Mean Acceptance Probability HUG:  15.4\n",
      "Mean Acceptance Probability THUG: 28.5\n",
      "Mean Acceptance Probability CHMC: 47.2\n"
     ]
    }
   ],
   "source": [
    "print(\"Mean Acceptance Probability HUG:  {:.3}\".format(acceptance_hug.mean() * 100))\n",
    "print(\"Mean Acceptance Probability THUG: {:.3}\".format(acceptance_thug.mean() * 100))\n",
    "print(\"Mean Acceptance Probability CHMC: {:.3}\".format(stat['accept_stat'].mean() * 100))"
   ]
  },
  {
   "cell_type": "code",
   "execution_count": 15,
   "id": "823c9d40",
   "metadata": {},
   "outputs": [
    {
     "name": "stdout",
     "output_type": "stream",
     "text": [
      "HUG:   1001\n",
      "THUG:  1001\n",
      "CHMC:  68752\n"
     ]
    }
   ],
   "source": [
    "print(\"HUG:  \", n_constr_eval_HUG)\n",
    "print(\"THUG: \", n_constr_eval_THUG)\n",
    "print(\"CHMC: \", n_constr_eval_CHMC)"
   ]
  },
  {
   "cell_type": "code",
   "execution_count": 16,
   "id": "55e8032c",
   "metadata": {},
   "outputs": [
    {
     "name": "stdout",
     "output_type": "stream",
     "text": [
      "HUG:   5000\n",
      "THUG:  6001\n",
      "CHMC:  3593\n"
     ]
    }
   ],
   "source": [
    "print(\"HUG:  \", n_jacob_constr_HUG)\n",
    "print(\"THUG: \", n_jacob_constr_THUG)\n",
    "print(\"CHMC: \", n_jac_constr_CHMC)"
   ]
  },
  {
   "cell_type": "code",
   "execution_count": 17,
   "id": "8cd3634a",
   "metadata": {},
   "outputs": [
    {
     "name": "stdout",
     "output_type": "stream",
     "text": [
      "HUG:   6001\n",
      "THUG:  7002\n",
      "CHMC:  72345\n"
     ]
    }
   ],
   "source": [
    "print(\"HUG:  \", n_constr_eval_HUG + n_jacob_constr_HUG)\n",
    "print(\"THUG: \", n_constr_eval_THUG + n_jacob_constr_THUG)\n",
    "print(\"CHMC: \", n_constr_eval_CHMC + n_jac_constr_CHMC)"
   ]
  },
  {
   "cell_type": "code",
   "execution_count": 19,
   "id": "f5d6da1f",
   "metadata": {},
   "outputs": [
    {
     "name": "stdout",
     "output_type": "stream",
     "text": [
      "--- Constraint ---\n",
      "HUG:   49.97983053271505\n",
      "THUG:  40.396128772068955\n",
      "CHMC:  310.2198884121685\n",
      "\n",
      "\n",
      "--- Constraint + Jacobian ---\n",
      "HUG:   299.6293336931299\n",
      "THUG:  282.5711225394873\n",
      "CHMC:  326.4320721895847\n",
      "\n",
      "\n",
      "--- Constraint + Jacobian + Grad Log Density ---\n",
      "HUG:   299.6293336931299\n",
      "THUG:  282.5711225394873\n",
      "CHMC:  342.64425596700096\n"
     ]
    }
   ],
   "source": [
    "print(\"--- Constraint ---\")\n",
    "print(\"HUG:  \", n_constr_eval_HUG / logpiESS_HUG)\n",
    "print(\"THUG: \", n_constr_eval_THUG / logpiESS_THUG)\n",
    "print(\"CHMC: \", n_constr_eval_CHMC / logpiESS_CHMC)\n",
    "\n",
    "print(\"\\n\")\n",
    "\n",
    "print(\"--- Constraint + Jacobian ---\")\n",
    "print(\"HUG:  \", (n_constr_eval_HUG + n_jacob_constr_HUG) / logpiESS_HUG)\n",
    "print(\"THUG: \", (n_constr_eval_THUG + n_jacob_constr_THUG) / logpiESS_THUG)\n",
    "print(\"CHMC: \", (n_constr_eval_CHMC + n_jac_constr_CHMC) / logpiESS_CHMC)\n",
    "\n",
    "print(\"\\n\")\n",
    "\n",
    "print(\"--- Constraint + Jacobian + Grad Log Density ---\")\n",
    "print(\"HUG:  \", (n_constr_eval_HUG + n_jacob_constr_HUG) / logpiESS_HUG)\n",
    "print(\"THUG: \", (n_constr_eval_THUG + n_jacob_constr_THUG) / logpiESS_THUG)\n",
    "print(\"CHMC: \", (n_constr_eval_CHMC + n_jac_constr_CHMC + n_grad_log_dens_CHMC) / logpiESS_CHMC)"
   ]
  },
  {
   "cell_type": "code",
   "execution_count": null,
   "id": "526d93ed",
   "metadata": {},
   "outputs": [],
   "source": []
  }
 ],
 "metadata": {
  "kernelspec": {
   "display_name": "Python 3 (ipykernel)",
   "language": "python",
   "name": "python3"
  },
  "language_info": {
   "codemirror_mode": {
    "name": "ipython",
    "version": 3
   },
   "file_extension": ".py",
   "mimetype": "text/x-python",
   "name": "python",
   "nbconvert_exporter": "python",
   "pygments_lexer": "ipython3",
   "version": "3.10.4"
  }
 },
 "nbformat": 4,
 "nbformat_minor": 5
}
