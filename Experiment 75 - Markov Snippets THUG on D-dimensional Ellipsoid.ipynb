{
 "cells": [
  {
   "cell_type": "markdown",
   "id": "e8d9c42f",
   "metadata": {},
   "source": [
    "# Markov-Snippets THUG on D-dimensional Ellipsoid"
   ]
  },
  {
   "cell_type": "markdown",
   "id": "9fd20f1c",
   "metadata": {},
   "source": [
    "Basically same as experiment 74, except here we focus on a D-dimensional ellipsoid."
   ]
  },
  {
   "cell_type": "code",
   "execution_count": 1,
   "id": "6f1b5450",
   "metadata": {},
   "outputs": [],
   "source": [
    "import numpy as np\n",
    "from numpy import zeros, eye, array, diag, exp, ones\n",
    "from numpy.linalg import solve, norm\n",
    "from numpy.random import choice\n",
    "from scipy.stats import multivariate_normal as MVN\n",
    "import math\n",
    "import time\n",
    "\n",
    "import matplotlib.pyplot as plt\n",
    "from matplotlib import rc\n",
    "from ipywidgets.widgets import IntSlider\n",
    "from ipywidgets.widgets import interact\n",
    "\n",
    "from Manifolds.GeneralizedEllipse import GeneralizedEllipse\n",
    "from utils import prep_contour\n",
    "from RWM import RWM\n",
    "from tangential_hug_functions import HugTangential"
   ]
  },
  {
   "cell_type": "code",
   "execution_count": 2,
   "id": "f910ee20",
   "metadata": {},
   "outputs": [],
   "source": [
    "p = 10\n",
    "μ  = zeros(p)\n",
    "Σ  = diag(np.r_[0.1, ones(p-1)])\n",
    "level_set_value = -23\n",
    "ellipse = GeneralizedEllipse(μ, Σ, exp(level_set_value))\n",
    "πellipse = MVN(μ, Σ)\n",
    "f = πellipse.logpdf\n",
    "grad_f = lambda ξ: -solve(Σ, ξ - μ)\n",
    "\n",
    "def generate_ηϵ(ϵ):\n",
    "    \"\"\"Generates ηϵ with a uniform kernel.\"\"\"\n",
    "    def ηϵ(x):\n",
    "        if np.linalg.norm(f(x) - level_set_value) <= ϵ:\n",
    "            return 1.0\n",
    "        else: \n",
    "            return 0.0\n",
    "    return ηϵ\n",
    "\n",
    "def generate_logηϵ(ϵ):\n",
    "    \"\"\"As above, this is for the uniform kernel but this computes the log density.\"\"\"\n",
    "    def logηϵ(ξ):\n",
    "        with np.errstate(divide='ignore'):\n",
    "            return np.log(float(norm(f(ξ) - level_set_value) <= ϵ) / ϵ)\n",
    "    return logηϵ"
   ]
  },
  {
   "cell_type": "markdown",
   "id": "505096d3",
   "metadata": {},
   "source": [
    "### Settings for THUG"
   ]
  },
  {
   "cell_type": "code",
   "execution_count": 3,
   "id": "6d5fcb36",
   "metadata": {},
   "outputs": [],
   "source": [
    "def THUGIntegratorUnivariate(z0, B, δ, grad):\n",
    "    \"\"\"THUG Integrator for the 2D example (ie using gradients, not jacobians).\"\"\"\n",
    "    trajectory = zeros((B + 1, len(z0)))\n",
    "    x0, v0 = z0[:len(z0)//2], z0[len(z0)//2:]\n",
    "    x, v = x0, v0\n",
    "    trajectory[0, :] = z0\n",
    "    # Integrate\n",
    "    for b in range(B):\n",
    "        x = x + δ*v/2\n",
    "        g = grad(x)\n",
    "        ghat = g / norm(g)\n",
    "        v = v - 2*ghat*(ghat@v)\n",
    "        x = x + δ*v/2\n",
    "        trajectory[b+1, :] = np.hstack((x, v))\n",
    "    return trajectory\n",
    "\n",
    "def generate_THUGIntegratorUnivariate(B, δ):\n",
    "    \"\"\"Returns a THUG integrator for a given B and δ.\"\"\"\n",
    "    grad = lambda ξ: -solve(Σ, ξ - μ) #ellipse.Q(ξ).T.flatten()\n",
    "    integrator = lambda z: THUGIntegratorUnivariate(z, B, δ, grad)\n",
    "    return integrator\n",
    "\n",
    "\n",
    "#### Metropolis-Hastings version for SMC version\n",
    "def THUG_MH(z0, B, δ, logpi):\n",
    "    \"\"\"Similar to THUGIntegratoUnivariateOnlyEnd but this uses a MH step.\"\"\"\n",
    "    grad = lambda ξ: -solve(Σ, ξ - μ)\n",
    "    x0, v0 = z0[:len(z0)//2], z0[len(z0)//2:]\n",
    "    x, v = x0, v0\n",
    "    logu = np.log(np.random.rand())\n",
    "    for _ in range(B):\n",
    "        x = x + δ*v/2\n",
    "        g = grad(x)\n",
    "        ghat = g / norm(g)\n",
    "        v = v - 2*ghat*(ghat@v)\n",
    "        x = x + δ*v/2\n",
    "    if logu <= logpi(x) - logpi(x0):\n",
    "        # accept new point\n",
    "        return np.concatenate((x, v))\n",
    "    else:\n",
    "        # accept old point\n",
    "        return z0"
   ]
  },
  {
   "cell_type": "markdown",
   "id": "cb808bb5",
   "metadata": {},
   "source": [
    "# Markov Snippets (v1)"
   ]
  },
  {
   "cell_type": "code",
   "execution_count": 4,
   "id": "53938e53",
   "metadata": {},
   "outputs": [],
   "source": [
    "class MarkovSnippetsTHUG:\n",
    "    \n",
    "    def __init__(self, N, B, δ, d, ϵs):\n",
    "        \"\"\"Markov Snippets SMC samplers corresponding exactly to Algorithm 1 in Christophe's notes.\n",
    "        It uses the THUG kernel as its mutation kernel. The sequence of distributions is fixed here \n",
    "        since we provide ϵs, i.e. a list of tolerances which automatically fully specify the posterior \n",
    "        distributions used at each round.\n",
    "        \n",
    "        Parameters\n",
    "        ----------\n",
    "        \n",
    "        :param N: Number of particles\n",
    "        :type N:  int\n",
    "        \n",
    "        :param B: Number of bounces for the THUG integrator. Equivalent to `L` Leapfrog steps in HMC.\n",
    "        :type B: int\n",
    "        \n",
    "        :param δ: Step-size used at each bounce, for the THUG integrator.\n",
    "        :type δ: float\n",
    "        \n",
    "        :param d: Dimensionality of the `x` component of each particle, and equally dimensionality of \n",
    "                  `v` component of each particle. Therefore each particle has dimension `2d`.\n",
    "        \n",
    "        :param ϵs: Tolerances that fully specify the sequence of target filamentary distributions.\n",
    "        :type ϵs: iterable\n",
    "        \"\"\"\n",
    "        # Input variables\n",
    "        self.N  = N       \n",
    "        self.B  = B\n",
    "        self.δ  = δ\n",
    "        self.d  = d\n",
    "        self.ϵs = ϵs       \n",
    "        \n",
    "        # Variables derived from the above\n",
    "        self.P  = len(ϵs) - 1                                       # Number of target distributions\n",
    "        self.ηs = [generate_ηϵ(ϵ) for ϵ in ϵs]                      # List of filamentary distributions \n",
    "        self.ψ = generate_THUGIntegratorUnivariate(B, δ)\n",
    "    \n",
    "    def initialize_particles(self):\n",
    "        \"\"\"Initialize by sampling with RWM on distribution with ϵ0.\"\"\"\n",
    "        # Initialize first position on the manifold\n",
    "        x0 = ellipse.sample(advanced=True)\n",
    "        # Generate log-density for self.η[0]\n",
    "        logηϵ0 = generate_logηϵ(self.ϵs[0])\n",
    "        # Sample using RWM\n",
    "        burn_in = 100\n",
    "        TO_BE_THINNED, _ = RWM(x0, self.δ, burn_in + 10*self.N, logηϵ0)\n",
    "        # Thin the samples to obtain the particles\n",
    "        initialized_particles = TO_BE_THINNED[burn_in:][::10]\n",
    "        # Refresh velocities and form particles\n",
    "        v0 = np.random.normal(loc=0.0, scale=1.0, size=(self.N, self.d))\n",
    "        z0 = np.hstack((initialized_particles, v0))\n",
    "        self.starting_particles = z0\n",
    "        return z0\n",
    "        \n",
    "    def sample(self):\n",
    "        \"\"\"Starts the Markov Snippets sampler.\"\"\"\n",
    "        starting_time = time.time() \n",
    "        N = self.N\n",
    "        B = self.B\n",
    "        ## Storage\n",
    "        #### Store z_n^{(i)}\n",
    "        self.ZN  = np.zeros((self.P+1, N, 2*self.d))\n",
    "        #### Store z_{n, k}^{(i)} so basically all the N(T+1) particles\n",
    "        self.ZNK  = np.zeros((self.P, N*(B+1), 2*self.d))\n",
    "        self.Wbar = np.zeros((self.P, N*(B+1)))\n",
    "        self.ESS  = np.zeros((self.P))\n",
    "        self.K_RESAMPLED = zeros((self.P, self.N))\n",
    "        # Initialize particles\n",
    "        z = self.initialize_particles()   # (N, 2d)\n",
    "        self.ZN[0] = z\n",
    "        # For each target distribution, run the following loop\n",
    "        for n in range(1, self.P+1):\n",
    "            # Compute trajectories\n",
    "            Z = np.apply_along_axis(self.ψ, 1, z) # should have shape (N, B+1, 2d)\n",
    "            self.ZNK[n-1] = Z.reshape(N*(B+1), 2*self.d)\n",
    "            # Compute weights.\n",
    "            #### Denominator: shared for each point in the same trajectory\n",
    "            μnm1_z  = np.apply_along_axis(self.ηs[n-1], 1, Z[:, 0, :self.d])              # (N, )\n",
    "            μnm1_z  = np.repeat(μnm1_z, self.B+1, axis=0).reshape(N, B+1) # (N, B+1)\n",
    "            #### Numerator: different for each point on a trajectory.\n",
    "            μn_ψk_z = np.apply_along_axis(self.ηs[n], 2, Z[:, :, :self.d])                         # (N, B+1)\n",
    "            #### Put weights together\n",
    "            W = μn_ψk_z / μnm1_z #np.exp(log_μn_ψk_z - log_μnm1_z)\n",
    "            #### Normalize weights\n",
    "            W = W / W.sum()\n",
    "            # store weights (remember these are \\bar{w})\n",
    "            self.Wbar[n-1] = W.flatten()\n",
    "            # compute ESS\n",
    "            self.ESS[n-1] = 1 / np.sum(W**2)\n",
    "            # Resample down to N particles\n",
    "            resampling_indeces = choice(a=np.arange(N*(B+1)), size=N, p=W.flatten())\n",
    "            unravelled_indeces = np.unravel_index(resampling_indeces, (N, B+1))\n",
    "            self.K_RESAMPLED[n-1] = unravelled_indeces[1]\n",
    "            indeces = np.dstack(unravelled_indeces).squeeze()\n",
    "            z = np.vstack([Z[tuple(ix)] for ix in indeces])     # (N, 2d)\n",
    "            \n",
    "            # Rejuvenate velocities of N particles\n",
    "            z[:, self.d:] = np.random.normal(loc=0.0, scale=1.0, size=(N, self.d))\n",
    "            self.ZN[n] = z\n",
    "        self.total_time = time.time() - starting_time\n",
    "        return z"
   ]
  },
  {
   "cell_type": "code",
   "execution_count": 19,
   "id": "aa42ca5d",
   "metadata": {},
   "outputs": [],
   "source": [
    "# At this point, doesn't really matter which ϵs we use.\n",
    "ϵs = np.geomspace(start=10, stop=0.01, num=20)\n",
    "B = 20\n",
    "δ = 0.1\n",
    "N  = 5000\n",
    "# Instantitate the algorithm\n",
    "MSTHUG = MarkovSnippetsTHUG(N=N, B=B, δ=δ, d=p, ϵs=ϵs)"
   ]
  },
  {
   "cell_type": "code",
   "execution_count": 20,
   "id": "e8197b47",
   "metadata": {},
   "outputs": [],
   "source": [
    "# Sample\n",
    "zP = MSTHUG.sample()"
   ]
  },
  {
   "cell_type": "markdown",
   "id": "7c5f1fa0",
   "metadata": {},
   "source": [
    "# SMC (Metropolised version)"
   ]
  },
  {
   "cell_type": "code",
   "execution_count": 21,
   "id": "aa2d511e",
   "metadata": {},
   "outputs": [],
   "source": [
    "class MarkovSnippetsTHUGMetropolised:\n",
    "    \n",
    "    def __init__(self, N, B, δ, d, ϵs):\n",
    "        \"\"\"Metropolised version: for each particle compute the endpoint of trajectory and its weight.\n",
    "        If the weight is positive, we accept the final point, otherwise we accept the initial point. \n",
    "        \n",
    "        Parameters\n",
    "        ----------\n",
    "        \n",
    "        :param N: Number of particles\n",
    "        :type N:  int\n",
    "        \n",
    "        :param B: Number of bounces for the THUG integrator. Equivalent to `L` Leapfrog steps in HMC.\n",
    "        :type B: int\n",
    "        \n",
    "        :param δ: Step-size used at each bounce, for the THUG integrator.\n",
    "        :type δ: float\n",
    "        \n",
    "        :param d: Dimensionality of the `x` component of each particle, and equally dimensionality of \n",
    "                  `v` component of each particle. Therefore each particle has dimension `2d`.\n",
    "        \n",
    "        :param ϵs: Tolerances that fully specify the sequence of target filamentary distributions.\n",
    "        :type ϵs: iterable\n",
    "        \"\"\"\n",
    "        # Input variables\n",
    "        self.N  = N       \n",
    "        self.δ  = δ\n",
    "        self.d  = d\n",
    "        self.ϵs = ϵs       \n",
    "        \n",
    "        # Variables derived from the above\n",
    "        self.P  = len(ϵs) - 1                                       # Number of target distributions\n",
    "        self.ϖ  = MVN(zeros(d), eye(d))                             # Distribution of the velocities\n",
    "        self.ηs = [generate_ηϵ(ϵ) for ϵ in ϵs]                      # List of filamentary distributions \n",
    "        \n",
    "        self.B = B\n",
    "    \n",
    "    def initialize_particles(self):\n",
    "        \"\"\"To initialize particles, we sample from a uniform on a large rectangle.\n",
    "        A rectangle of size [-100, 100] should be plenty large.\"\"\"\n",
    "        # Initialize particles by sampling from η_ϵ0 for a large ϵ0 which can be given as an argument.\n",
    "        # Sample a point from the prior\n",
    "        x0 = ellipse.sample(advanced=True) #np.random.uniform(low=-5, high=5, size=(self.d))\n",
    "        # Use RWM starting from x0\n",
    "        logηϵ0 = generate_logηϵ(self.ϵs[0])\n",
    "        burn_in = 100\n",
    "        TO_BE_THINNED, _ = RWM(x0, self.δ, burn_in + 10*self.N, logηϵ0)\n",
    "        # Thin the samples to obtain the particles\n",
    "        initialized_particles = TO_BE_THINNED[burn_in:][::10]\n",
    "        v0 = np.random.normal(loc=0.0, scale=1.0, size=(self.N, self.d))\n",
    "        z0 = np.hstack((initialized_particles, v0))\n",
    "        self.starting_particles = z0\n",
    "        return z0\n",
    "        \n",
    "    def sample(self):\n",
    "        \"\"\"Starts the Markov Snippets sampler.\"\"\"\n",
    "        starting_time = time.time()\n",
    "        # Initialize particles\n",
    "        z = self.initialize_particles()   # (N, 2d)\n",
    "        # Storage\n",
    "        self.PARTICLES    = zeros((self.P+1, self.N, 2*self.d))\n",
    "        self.PARTICLES[0] = z\n",
    "        self.WEIGHTS      = zeros((self.P+1, self.N))\n",
    "        self.WEIGHTS[0]   = 1 / self.N\n",
    "        self.ESS          = zeros(self.P+1)\n",
    "        self.ESS[0]       = 1 / np.sum(self.WEIGHTS[0]**2)\n",
    "        # For each target distribution, run the following loop\n",
    "        for n in range(1, self.P+1):\n",
    "            # Standard SMC sampler, we mutate the particles and then we resample\n",
    "            ### Mutation step: \n",
    "            ###### Refresh velocities\n",
    "            z[:, self.d:] = np.random.normal(loc=0.0, scale=1.0, size=(self.N, self.d))\n",
    "            ###### Mutate positions \n",
    "            M = lambda z: THUG_MH(z, self.B, self.δ, self.ηs[n-1])\n",
    "            Z = np.apply_along_axis(M, 1, z)\n",
    "            ### Compute weights\n",
    "            w = (abs(np.apply_along_axis(f, 1, Z[:, :p]) - level_set_value) <= self.ϵs[n]).astype(float)\n",
    "            w = w / w.sum()\n",
    "            self.WEIGHTS[n] = w\n",
    "            self.ESS[n]     = 1 / np.sum(w**2)\n",
    "            ### Resample\n",
    "            indeces = choice(a=np.arange(self.N), size=self.N, p=w)\n",
    "            z = z[indeces, :]\n",
    "            self.PARTICLES[n] = z\n",
    "        self.total_time = time.time() - starting_time\n",
    "        return z"
   ]
  },
  {
   "cell_type": "code",
   "execution_count": 22,
   "id": "2d494010",
   "metadata": {},
   "outputs": [],
   "source": [
    "MSTHUG_METROP = MarkovSnippetsTHUGMetropolised(N=N, B=B, δ=δ, d=p, ϵs=ϵs)\n",
    "zP_metrop = MSTHUG_METROP.sample()"
   ]
  },
  {
   "cell_type": "markdown",
   "id": "b0d9a280",
   "metadata": {},
   "source": [
    "# Time and Alive Particles"
   ]
  },
  {
   "cell_type": "code",
   "execution_count": 23,
   "id": "14d35749",
   "metadata": {},
   "outputs": [
    {
     "name": "stdout",
     "output_type": "stream",
     "text": [
      "Markov Snippets: 54.43s\n",
      "SMC-THUG       : 34.06s\n"
     ]
    }
   ],
   "source": [
    "print(\"Markov Snippets: {:.2f}s\".format(MSTHUG.total_time))\n",
    "print(\"SMC-THUG       : {:.2f}s\".format(MSTHUG_METROP.total_time))"
   ]
  },
  {
   "cell_type": "code",
   "execution_count": 24,
   "id": "5b1e2b41",
   "metadata": {},
   "outputs": [
    {
     "name": "stdout",
     "output_type": "stream",
     "text": [
      "(Number of particles with non-zero weight for ϵ_P) / total sampling time: \n",
      "MS  : 1023.6\n",
      "SMC : 94.9\n"
     ]
    }
   ],
   "source": [
    "print(\"(Number of particles with non-zero weight for ϵ_P) / total sampling time: \")\n",
    "print(\"MS  : {:.1f}\".format(np.sum(MSTHUG.Wbar[-1] > 0) / MSTHUG.total_time))\n",
    "print(\"SMC : {:.1f}\".format(np.sum(MSTHUG_METROP.WEIGHTS[-1] > 0) / MSTHUG_METROP.total_time))"
   ]
  },
  {
   "cell_type": "markdown",
   "id": "ff11a276",
   "metadata": {},
   "source": [
    "# Mean Functionals"
   ]
  },
  {
   "cell_type": "code",
   "execution_count": 25,
   "id": "8eaa3fd1",
   "metadata": {},
   "outputs": [],
   "source": [
    "# SMC-THUG: Mean Functional\n",
    "def smc_mean(MS):\n",
    "    W = MS.WEIGHTS[-1][..., None]\n",
    "    Z = MS.PARTICLES[-1, :, :p]\n",
    "    return np.sum(W*Z, axis=0)\n",
    "\n",
    "# Markov-Snippets: Mean functional\n",
    "def markov_snippets_mean(MS):\n",
    "    W = MS.Wbar[-1].reshape(N, MS.B+1)[..., None] # (N, B+1, 1)\n",
    "    Z = MS.ZNK[-1, :, :p].reshape(N, MS.B+1, p)   # (N, B+1, p)\n",
    "    return np.sum(np.sum(W*Z, axis=1), axis=0)    # (2, )"
   ]
  },
  {
   "cell_type": "code",
   "execution_count": 30,
   "id": "caf098e5",
   "metadata": {},
   "outputs": [
    {
     "name": "stdout",
     "output_type": "stream",
     "text": [
      "Mean Functional\n",
      "MS  : 3e-03 -3e-02\n",
      "SMC : 4e-01 7e-01\n"
     ]
    }
   ],
   "source": [
    "print(\"Mean Functional\")\n",
    "print(\"MS  : {:.0e} {:.0e}\".format(*markov_snippets_mean(MSTHUG)))\n",
    "print(\"SMC : {:.0e} {:.0e}\".format(*smc_mean(MSTHUG_METROP)))"
   ]
  },
  {
   "cell_type": "markdown",
   "id": "f64ed286",
   "metadata": {},
   "source": [
    "# Effective Sample Size"
   ]
  },
  {
   "cell_type": "code",
   "execution_count": 27,
   "id": "fda1c86b",
   "metadata": {},
   "outputs": [
    {
     "name": "stdout",
     "output_type": "stream",
     "text": [
      "ESS (final round)\n",
      "-----------------\n",
      "MS  : 55714.0\n",
      "SMC : 3231.0\n",
      "\n",
      "\n",
      "ESS/t (final round)\n",
      "-----------------\n",
      "MS  : 1023.6\n",
      "SMC : 94.9\n"
     ]
    }
   ],
   "source": [
    "print(\"ESS (final round)\")\n",
    "print(\"-----------------\")\n",
    "print(\"MS  : {:.1f}\".format(MSTHUG.ESS[-1]))\n",
    "print(\"SMC : {:.1f}\".format(MSTHUG_METROP.ESS[-1]))\n",
    "\n",
    "print(\"\\n\")\n",
    "\n",
    "print(\"ESS/t (final round)\")\n",
    "print(\"-----------------\")\n",
    "print(\"MS  : {:.1f}\".format(MSTHUG.ESS[-1] / MSTHUG.total_time))\n",
    "print(\"SMC : {:.1f}\".format(MSTHUG_METROP.ESS[-1] / MSTHUG_METROP.total_time))"
   ]
  },
  {
   "cell_type": "code",
   "execution_count": 28,
   "id": "d97a017c",
   "metadata": {},
   "outputs": [
    {
     "data": {
      "image/png": "[encoded data removed]",
      "text/plain": [
       "<Figure size 432x288 with 1 Axes>"
      ]
     },
     "metadata": {
      "needs_background": "light"
     },
     "output_type": "display_data"
    }
   ],
   "source": [
    "fig, ax = plt.subplots()\n",
    "ax.plot(MSTHUG.ESS / (N*(B+1)), label='MS')\n",
    "ax.plot(MSTHUG_METROP.ESS[1:] / N, label='SMC')\n",
    "ax.legend()\n",
    "ax.set_title(\"ESS / number of particles \")\n",
    "plt.show()"
   ]
  },
  {
   "cell_type": "code",
   "execution_count": 31,
   "id": "a42a1061",
   "metadata": {},
   "outputs": [
    {
     "data": {
      "application/vnd.jupyter.widget-view+json": {
       "model_id": "b9e48e0be1574b0595ffee1354f9242f",
       "version_major": 2,
       "version_minor": 0
      },
      "text/plain": [
       "interactive(children=(IntSlider(value=9, description='n', max=18), Output()), _dom_classes=('widget-interact',…"
      ]
     },
     "metadata": {},
     "output_type": "display_data"
    },
    {
     "data": {
      "text/plain": [
       "<function __main__.plot_histogram(n)>"
      ]
     },
     "execution_count": 31,
     "metadata": {},
     "output_type": "execute_result"
    }
   ],
   "source": [
    "def plot_histogram(n):\n",
    "    fig, ax = plt.subplots(figsize=(20, 4))\n",
    "    _, bins, _ = ax.hist(MSTHUG.K_RESAMPLED[n, :], density=True, bins=B, edgecolor='k', color='lightsalmon')\n",
    "    ax.set_xticks(bins)\n",
    "    ax.set_xticklabels(bins.astype(int))\n",
    "    return plt.show()\n",
    "    \n",
    "interact(plot_histogram, n=(0, len(ϵs) - 2))"
   ]
  },
  {
   "cell_type": "code",
   "execution_count": null,
   "id": "e35825a5",
   "metadata": {},
   "outputs": [],
   "source": []
  }
 ],
 "metadata": {
  "kernelspec": {
   "display_name": "Python 3 (ipykernel)",
   "language": "python",
   "name": "python3"
  },
  "language_info": {
   "codemirror_mode": {
    "name": "ipython",
    "version": 3
   },
   "file_extension": ".py",
   "mimetype": "text/x-python",
   "name": "python",
   "nbconvert_exporter": "python",
   "pygments_lexer": "ipython3",
   "version": "3.10.4"
  }
 },
 "nbformat": 4,
 "nbformat_minor": 5
}
