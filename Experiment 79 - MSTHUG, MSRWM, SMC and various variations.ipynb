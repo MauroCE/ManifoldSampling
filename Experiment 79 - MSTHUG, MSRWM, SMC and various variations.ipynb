{
 "cells": [
  {
   "cell_type": "markdown",
   "id": "869f94ad",
   "metadata": {},
   "source": [
    "Trying to get some clarity after the most recent experiments."
   ]
  },
  {
   "cell_type": "code",
   "execution_count": 3,
   "id": "e0978825",
   "metadata": {},
   "outputs": [
    {
     "data": {
      "text/plain": [
       "0.0004179864253394172"
      ]
     },
     "execution_count": 3,
     "metadata": {},
     "output_type": "execute_result"
    }
   ],
   "source": [
    "(8.84 - 8.836305) / 8.84"
   ]
  },
  {
   "cell_type": "code",
   "execution_count": null,
   "id": "a39c9d2a",
   "metadata": {},
   "outputs": [],
   "source": []
  }
 ],
 "metadata": {
  "kernelspec": {
   "display_name": "Python 3 (ipykernel)",
   "language": "python",
   "name": "python3"
  },
  "language_info": {
   "codemirror_mode": {
    "name": "ipython",
    "version": 3
   },
   "file_extension": ".py",
   "mimetype": "text/x-python",
   "name": "python",
   "nbconvert_exporter": "python",
   "pygments_lexer": "ipython3",
   "version": "3.10.4"
  }
 },
 "nbformat": 4,
 "nbformat_minor": 5
}
