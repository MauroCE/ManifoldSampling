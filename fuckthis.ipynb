{
 "cells": [
  {
   "cell_type": "code",
   "execution_count": 1,
   "id": "a22fdcdb",
   "metadata": {},
   "outputs": [],
   "source": [
    "import numpy as np\n",
    "from numpy.random import rand, randn\n",
    "from numpy import ones, exp, log, diag, vstack, pi, array, r_, isfinite, logspace, zeros, eye\n",
    "from numpy.linalg import norm, solve\n",
    "from numpy.random import default_rng, choice\n",
    "from scipy.optimize import fsolve\n",
    "from scipy.stats import multivariate_normal as MVN\n",
    "from scipy.special import ndtri, ndtr\n",
    "from scipy.stats import uniform as udist\n",
    "from scipy.stats import norm as ndist\n",
    "from scipy.linalg import block_diag\n",
    "\n",
    "import time\n",
    "from math import prod\n",
    "from warnings import catch_warnings, filterwarnings\n",
    "\n",
    "import matplotlib.pyplot as plt\n",
    "from ipywidgets.widgets import interact"
   ]
  },
  {
   "cell_type": "code",
   "execution_count": 2,
   "id": "618dc271",
   "metadata": {},
   "outputs": [],
   "source": [
    "N = 10000\n",
    "B = 20\n",
    "ϵs = np.arange(10)\n",
    "\n",
    "def generate_fake_resampled_indeces():\n",
    "    resampled_indeces = np.zeros((len(ϵs), N))\n",
    "    for n in range(len(ϵs)):\n",
    "        resampled_indeces[n] = np.random.randint(low=0, high=B, size=N)\n",
    "    return resampled_indeces"
   ]
  },
  {
   "cell_type": "code",
   "execution_count": 3,
   "id": "6c7d4eee",
   "metadata": {},
   "outputs": [],
   "source": [
    "SOMETHING = generate_fake_resampled_indeces()"
   ]
  },
  {
   "cell_type": "code",
   "execution_count": 4,
   "id": "e068be2d",
   "metadata": {},
   "outputs": [
    {
     "data": {
      "application/vnd.jupyter.widget-view+json": {
       "model_id": "b5e6a99e7a8e44cb92dec1b3a92d8cd0",
       "version_major": 2,
       "version_minor": 0
      },
      "text/plain": [
       "interactive(children=(IntSlider(value=4, description='n', max=8), Output()), _dom_classes=('widget-interact',)…"
      ]
     },
     "metadata": {},
     "output_type": "display_data"
    },
    {
     "data": {
      "text/plain": [
       "<function __main__.plot_histogram(n)>"
      ]
     },
     "execution_count": 4,
     "metadata": {},
     "output_type": "execute_result"
    }
   ],
   "source": [
    "def plot_histogram(n):\n",
    "    fig, ax = plt.subplots(figsize=(20, 4))\n",
    "    _, bins, _ = ax.hist(SOMETHING[n, :], density=True, bins=B, edgecolor='k', color='lightsalmon')\n",
    "    ax.set_xticks(bins)\n",
    "    ax.set_xticklabels(bins.astype(int))\n",
    "    return plt.show()\n",
    "    \n",
    "interact(plot_histogram, n=(0, len(ϵs) - 2))"
   ]
  },
  {
   "cell_type": "code",
   "execution_count": null,
   "id": "1f3e6167",
   "metadata": {},
   "outputs": [],
   "source": []
  }
 ],
 "metadata": {
  "kernelspec": {
   "display_name": "Python 3 (ipykernel)",
   "language": "python",
   "name": "python3"
  },
  "language_info": {
   "codemirror_mode": {
    "name": "ipython",
    "version": 3
   },
   "file_extension": ".py",
   "mimetype": "text/x-python",
   "name": "python",
   "nbconvert_exporter": "python",
   "pygments_lexer": "ipython3",
   "version": "3.10.4"
  }
 },
 "nbformat": 4,
 "nbformat_minor": 5
}
