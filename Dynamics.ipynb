{
 "cells": [
  {
   "cell_type": "code",
   "execution_count": 137,
   "id": "e67ff6df",
   "metadata": {},
   "outputs": [],
   "source": [
    "from termcolor import colored\n",
    "from numpy.random import choice, rand"
   ]
  },
  {
   "cell_type": "code",
   "execution_count": 90,
   "id": "4a1b98c4",
   "metadata": {},
   "outputs": [],
   "source": [
    "class Table:\n",
    "    \n",
    "    def __init__(self, colors):\n",
    "        \"\"\"Gathers information that all players have seen on the table.\"\"\"\n",
    "        self.possible_colors = ['green', 'light_blue', 'orange', 'red', 'brown', 'blue']\n",
    "        "
   ]
  },
  {
   "cell_type": "code",
   "execution_count": 138,
   "id": "8fc9ec83",
   "metadata": {},
   "outputs": [],
   "source": [
    "class Player:\n",
    "    \n",
    "    def __init__(self, color):\n",
    "        \"\"\"Skull Player class.\n",
    "        \n",
    "        :param color: Determines the flower associated with the player.\n",
    "        :type color: {'green', 'lightblue', 'orange', 'red', 'brown', 'navy'}\n",
    "        \"\"\"\n",
    "        # Check if color is valid\n",
    "        self.colors = ['green', 'light_blue', 'orange', 'red', 'brown', 'blue']\n",
    "        if color not in self.colors:\n",
    "            raise ValueError(\"Provided color {} is not valid. Acceptable colors are {}\".format(color, colors))\n",
    "        # Store attributes\n",
    "        self.color = color\n",
    "        self.discs = ['flower', 'flower', 'flower', 'skull']\n",
    "        self.mat = 'blank_side_up'\n",
    "        self.discs_on_mat = []\n",
    "        \n",
    "    def __repr__(self):\n",
    "        \"\"\"Display player color.\"\"\"\n",
    "        color = self.color if self.color != 'light_blue' else 'cyan'\n",
    "        return colored(self.color.replace(\"_\", \" \").title() + \" Player\", color)\n",
    "    \n",
    "    def _place_disc_on_mat(self, disc):\n",
    "        \"\"\"Play a disc on the mat, if possible.\"\"\"`\n",
    "        if len(self.discs) > 0:\n",
    "            if disc in self.discs:  \n",
    "                self.discs.remove(disc)  # Remove disc from hand\n",
    "                self.discs_on_mat.append(disc)    # Add disc to mat\n",
    "            else:\n",
    "                raise ValueError(\"Provided disk is not in hand.\")\n",
    "        else:\n",
    "            raise ValueError(\"Hand is empty, can't place disc on mat.\")\n",
    "            \n",
    "    def _place_disc_or_open_bidding(self):\n",
    "        \"\"\"Choose whether to place a disc or open the bidding.\"\"\"\n",
    "        if rand() < 0.5:\n",
    "            pass \n",
    "        else:\n",
    "            pass"
   ]
  },
  {
   "cell_type": "code",
   "execution_count": 139,
   "id": "79a9513b",
   "metadata": {},
   "outputs": [],
   "source": [
    "player_blue = Player('blue')"
   ]
  },
  {
   "cell_type": "code",
   "execution_count": 140,
   "id": "6bbe7298",
   "metadata": {},
   "outputs": [
    {
     "data": {
      "text/plain": [
       "['flower', 'flower', 'flower', 'skull']"
      ]
     },
     "execution_count": 140,
     "metadata": {},
     "output_type": "execute_result"
    }
   ],
   "source": [
    "player_blue.discs"
   ]
  },
  {
   "cell_type": "code",
   "execution_count": 141,
   "id": "714a9325",
   "metadata": {},
   "outputs": [],
   "source": [
    "player_blue._place_disc_on_mat('flower')"
   ]
  },
  {
   "cell_type": "code",
   "execution_count": 142,
   "id": "5be77569",
   "metadata": {},
   "outputs": [
    {
     "data": {
      "text/plain": [
       "['flower', 'flower', 'skull']"
      ]
     },
     "execution_count": 142,
     "metadata": {},
     "output_type": "execute_result"
    }
   ],
   "source": [
    "player_blue.discs"
   ]
  },
  {
   "cell_type": "code",
   "execution_count": 143,
   "id": "33b32d3e",
   "metadata": {},
   "outputs": [
    {
     "data": {
      "text/plain": [
       "['flower']"
      ]
     },
     "execution_count": 143,
     "metadata": {},
     "output_type": "execute_result"
    }
   ],
   "source": [
    "player_blue.discs_on_mat"
   ]
  },
  {
   "cell_type": "code",
   "execution_count": 92,
   "id": "be433745",
   "metadata": {},
   "outputs": [],
   "source": [
    "class Gang:\n",
    "    \n",
    "    def __init__(self, players):\n",
    "        \"\"\"Gang of Players playing the Skull board game.\n",
    "        \n",
    "        :param players: Collections of all the players of the game. The first item must be the player \n",
    "                            starting, and the players in the list are ordered clockwise from the first player.\n",
    "        :type players: list of `Player`\n",
    "        \"\"\"\n",
    "        assert all([isinstance(player, Player) for player in players]), \"Players must be instances of `Player`.\"\n",
    "        # Store all players\n",
    "        self.players = players"
   ]
  },
  {
   "cell_type": "code",
   "execution_count": 101,
   "id": "6d1c824a",
   "metadata": {},
   "outputs": [],
   "source": [
    "player_blue  = Player('blue')\n",
    "player_red   = Player('red')\n",
    "player_green = Player('green')\n",
    "player_lightblue = Player('light_blue')\n",
    "\n",
    "players = [player_blue, player_red, player_green, player_lightblue]"
   ]
  },
  {
   "cell_type": "code",
   "execution_count": 102,
   "id": "03a85c25",
   "metadata": {},
   "outputs": [
    {
     "data": {
      "text/plain": [
       "[\u001b[34mBlue Player\u001b[0m,\n",
       " \u001b[31mRed Player\u001b[0m,\n",
       " \u001b[32mGreen Player\u001b[0m,\n",
       " \u001b[36mLight Blue Player\u001b[0m]"
      ]
     },
     "execution_count": 102,
     "metadata": {},
     "output_type": "execute_result"
    }
   ],
   "source": [
    "players"
   ]
  },
  {
   "cell_type": "code",
   "execution_count": null,
   "id": "271bdd5e",
   "metadata": {},
   "outputs": [],
   "source": []
  }
 ],
 "metadata": {
  "kernelspec": {
   "display_name": "Python 3 (ipykernel)",
   "language": "python",
   "name": "python3"
  },
  "language_info": {
   "codemirror_mode": {
    "name": "ipython",
    "version": 3
   },
   "file_extension": ".py",
   "mimetype": "text/x-python",
   "name": "python",
   "nbconvert_exporter": "python",
   "pygments_lexer": "ipython3",
   "version": "3.10.4"
  }
 },
 "nbformat": 4,
 "nbformat_minor": 5
}
