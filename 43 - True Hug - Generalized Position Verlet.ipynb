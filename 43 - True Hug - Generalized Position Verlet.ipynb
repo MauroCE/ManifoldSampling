{
 "cells": [
  {
   "cell_type": "markdown",
   "id": "a9c3d89b",
   "metadata": {},
   "source": [
    "# Generalized Position Verlet and Other Integrators for Hug"
   ]
  },
  {
   "cell_type": "markdown",
   "id": "8f798f88",
   "metadata": {},
   "source": [
    "##### Hug Dynamic"
   ]
  },
  {
   "cell_type": "markdown",
   "id": "464cdbb1",
   "metadata": {},
   "source": [
    "Initial condition $(x_0, v_0)$ with $v_0 \\perp \\nabla f(x_0)$\n",
    "$$\n",
    "\\begin{align}\n",
    "    \\dot{x} &= v \\\\\n",
    "    \\dot{v} &= F(x, v) \\qquad \\text{where} \\qquad F(x, v) = - \\frac{v^\\top H(x)v}{\\|\\nabla f(x)\\|} \\widehat{\\nabla f}(x)\n",
    "\\end{align}\n",
    "$$\n"
   ]
  },
  {
   "cell_type": "markdown",
   "id": "7c1ee414",
   "metadata": {},
   "source": [
    "##### True Generalized Position Verlet (TGPV)\n",
    "Implicit, second-order, sympletic, reversible. Requires initial condition $v_0 \\perp \\nabla f(x_0)$\n",
    "$$\n",
    "\\begin{align}\n",
    "    x_{n+1/2} &= x_n + \\frac{\\delta}{2}v_n \\\\\n",
    "    v_{n + 1} &= v_n + \\frac{\\delta}{2}\\left[F(x_{n+1/2}, v_n) + F(x_{n+1/2}, v_{n+1})\\right] \\\\\n",
    "    x_{n + 1} &= x_{n + 1/2} + \\frac{\\delta}{2}v_{n+1}\n",
    "\\end{align}\n",
    "$$"
   ]
  },
  {
   "cell_type": "markdown",
   "id": "3d0eb4de",
   "metadata": {},
   "source": [
    "##### Approximate Generalized Position Verlet (AGPV)\n",
    "Explicit, non-reversible, approximately symplectic\n",
    "$$\n",
    "\\begin{align}\n",
    "    x_{n+1/2} &= x_n + \\frac{\\delta}{2}v_n \\\\\n",
    "    v_{n + 1} &= v_n + \\delta F(x_{n+1/2}, v_n) \\\\\n",
    "    x_{n + 1} &= x_{n + 1/2} + \\frac{\\delta}{2}v_{n+1}\n",
    "\\end{align}\n",
    "$$"
   ]
  },
  {
   "cell_type": "markdown",
   "id": "a3e919f2",
   "metadata": {},
   "source": [
    "##### Hug Integrator\n",
    "$$\n",
    "\\begin{align}\n",
    "    x_{n+1/2} &= x_n + \\frac{\\delta}{2}v_n \\\\\n",
    "    v_{n + 1} &= v_n - \\widehat{\\nabla f}(x_{n + 1/2})\\widehat{\\nabla f}(x_{n + 1/2})^\\top v_n \\\\\n",
    "    x_{n + 1} &= x_{n + 1/2} + \\frac{\\delta}{2}v_{n+1}\n",
    "\\end{align}\n",
    "$$"
   ]
  },
  {
   "cell_type": "code",
   "execution_count": 455,
   "id": "4ed8e1b9",
   "metadata": {},
   "outputs": [],
   "source": [
    "import autograd.numpy as anp\n",
    "from autograd.numpy import zeros, array, eye, errstate, log, exp\n",
    "from autograd.numpy.linalg import solve, norm, inv\n",
    "from scipy.stats import multivariate_normal as MVN\n",
    "from autograd import jacobian\n",
    "from scipy.optimize import fsolve\n",
    "import numpy as np\n",
    "from numpy.linalg import det\n",
    "from scipy.integrate import odeint, solve_ivp\n",
    "\n",
    "from Manifolds.GeneralizedEllipse import GeneralizedEllipse\n",
    "\n",
    "import sympy \n",
    "import matplotlib.pyplot as plt\n",
    "from utils import quick_MVN_scatter"
   ]
  },
  {
   "cell_type": "markdown",
   "id": "63fdd371",
   "metadata": {},
   "source": [
    "# Target Manifold and Density"
   ]
  },
  {
   "cell_type": "code",
   "execution_count": 332,
   "id": "7f98cd27",
   "metadata": {},
   "outputs": [],
   "source": [
    "# Manifold\n",
    "μ = zeros(2)\n",
    "Σ = array([[1.0, 0.9], [0.9, 2.0]])\n",
    "target = MVN(μ, Σ)\n",
    "f = lambda x: MVN(μ, Σ).logpdf(x)\n",
    "grad_f = lambda x: - solve(Σ, x - μ)\n",
    "hess_f = lambda x: - inv(Σ)\n",
    "normalize = lambda x: x / norm(x)\n",
    "z0 = log(0.01)\n",
    "ellipse = GeneralizedEllipse(μ, Σ, exp(z0))\n",
    "\n",
    "Jinv = array([[0,   0, 1, 0],\n",
    "              [0,   0, 0, 1],\n",
    "              [-1,  0, 0, 0],\n",
    "              [0,  -1, 0, 0]])\n",
    "\n",
    "# Posterior distribution\n",
    "logprior = lambda x: MVN(zeros(2), eye(2)).logpdf(x)\n",
    "def log_epanechnikov_kernel(xi, epsilon, f, z0):\n",
    "    u = abs(f(xi) - z0)\n",
    "    with errstate(divide='ignore'):\n",
    "        return log((3*(1 - (u**2 / (epsilon**2))) / (4*epsilon)) * float(u <= epsilon))\n",
    "logpost = lambda x: logprior(x) + log_epanechnikov_kernel(x, ϵ, f, z0)"
   ]
  },
  {
   "cell_type": "markdown",
   "id": "13d964f6",
   "metadata": {},
   "source": [
    "# Helper Functions"
   ]
  },
  {
   "cell_type": "code",
   "execution_count": 562,
   "id": "15baea76",
   "metadata": {},
   "outputs": [],
   "source": [
    "def generate_x0v0():\n",
    "    \"\"\"Generates initial position x0 and velocity v0 such that\n",
    "    the velocity is perpendicular to the gradient.\"\"\"\n",
    "    x0 = ellipse.sample()\n",
    "    v0 = q.rvs()\n",
    "    g0 = grad_f(x0)\n",
    "    g0hat = g0 / norm(g0)\n",
    "    v0perp = v0 - (g0hat @ v0) * g0hat\n",
    "    v0perp = (v0perp / norm(v0perp)) * norm(v0)\n",
    "    return np.concatenate((x0, v0perp))\n",
    "\n",
    "def are_linearly_independent(v1, v2):\n",
    "    matrix = np.vstack((v1, v2))\n",
    "    _, indexes = sympy.Matrix(matrix).T.rref() \n",
    "    if len(indexes) == 2:\n",
    "        print(\"linearly independant\")\n",
    "    else:\n",
    "        print(\"linearly dependant\")\n",
    "        \n",
    "def quadratic_formula(a, b, c):\n",
    "    solution_positive = (-b + anp.sqrt(b**2 - 4*a*c)) / (2*a)\n",
    "    solution_negative = (-b - anp.sqrt(b**2 - 4*a*c)) / (2*a)\n",
    "    return solution_negative\n",
    "\n",
    "def is_symmetric(integrator, x0v0):\n",
    "    x1v1 = integrator(x0v0)\n",
    "    x2v2 = np.concatenate((x1v1[:2], -x1v1[2:]))\n",
    "    x3v3 = integrator(x2v2)\n",
    "    return np.all(abs(np.concatenate((x3v3[:2], -x3v3[2:])) - x0v0) <= 1e-6)\n",
    "\n",
    "def check_symplectic(integrator, x0v0, tol=1e-2):\n",
    "    Jϕ = jacobian(integrator)(x0v0)\n",
    "    return np.max(abs(Jϕ.T @ (Jinv @ Jϕ) - Jinv)) < tol\n",
    "\n",
    "def rmse_integrator(integrator, N):\n",
    "    mean_squared_error = 0.0\n",
    "    for i in range(N):\n",
    "        x0v0 = generate_x0v0()\n",
    "        x1v1 = integrator(x0v0)\n",
    "        mean_squared_error += (f(x0v0[:2]) - f(x1v1[:2]))**2 / N\n",
    "    return np.sqrt(mean_squared_error)\n",
    "\n",
    "def iterate_integrator(integrator, N, x0v0):\n",
    "    points = x0v0\n",
    "    current = x0v0\n",
    "    N = 1000\n",
    "    for i in range(N):\n",
    "        current = integrator(current)\n",
    "        points = np.vstack((points, current))\n",
    "    return points"
   ]
  },
  {
   "cell_type": "markdown",
   "id": "fc3130ec",
   "metadata": {},
   "source": [
    "# True Generalized Position Verlet Integrator"
   ]
  },
  {
   "cell_type": "code",
   "execution_count": 341,
   "id": "8f70a80a",
   "metadata": {},
   "outputs": [],
   "source": [
    "def TGPV_integrator(xv):\n",
    "    x, v = xv[:2], xv[2:]\n",
    "    # half position step\n",
    "    x = x + δ*v/2\n",
    "    g = grad_f(x); gn = norm(g); ghat = g / gn;\n",
    "    H = hess_f(x)\n",
    "    a = v - ((δ/2)*(v@(H@v))*ghat/gn)\n",
    "    b = - (δ/2)*ghat/gn\n",
    "    p = a @ (H @ a)\n",
    "    q = b @ (H @ a)\n",
    "    r = b @ (H @ b)\n",
    "    λ = quadratic_formula(a=r, b=(2*q-1), c=p)\n",
    "    v = a + b*λ\n",
    "    x = x + δ * v / 2\n",
    "    return anp.concatenate((x, v))"
   ]
  },
  {
   "cell_type": "code",
   "execution_count": 568,
   "id": "1c382de1",
   "metadata": {},
   "outputs": [
    {
     "data": {
      "text/plain": [
       "True"
      ]
     },
     "execution_count": 568,
     "metadata": {},
     "output_type": "execute_result"
    }
   ],
   "source": [
    "#x0v0 = generate_x0v0()\n",
    "x0v0 = np.concatenate((ellipse.sample(), q.rvs())) \n",
    "δ = 0.1\n",
    "check_symplectic(TGPV_integrator, x0v0, tol=1e-1)"
   ]
  },
  {
   "cell_type": "code",
   "execution_count": 569,
   "id": "ce4cac17",
   "metadata": {},
   "outputs": [
    {
     "data": {
      "text/plain": [
       "True"
      ]
     },
     "execution_count": 569,
     "metadata": {},
     "output_type": "execute_result"
    }
   ],
   "source": [
    "is_symmetric(TGPV_integrator, x0v0)"
   ]
  },
  {
   "cell_type": "code",
   "execution_count": 570,
   "id": "b6b7955e",
   "metadata": {},
   "outputs": [
    {
     "data": {
      "text/plain": [
       "0.0007095860188051026"
      ]
     },
     "execution_count": 570,
     "metadata": {},
     "output_type": "execute_result"
    }
   ],
   "source": [
    "rmse_integrator(TGPV_integrator, 1000)"
   ]
  },
  {
   "cell_type": "code",
   "execution_count": 571,
   "id": "ed725c46",
   "metadata": {},
   "outputs": [
    {
     "data": {
      "text/plain": [
       "0.9282586451365517"
      ]
     },
     "execution_count": 571,
     "metadata": {},
     "output_type": "execute_result"
    }
   ],
   "source": [
    "abs(det(jacobian(TGPV_integrator)(x0v0)))"
   ]
  },
  {
   "cell_type": "code",
   "execution_count": 572,
   "id": "3739af14",
   "metadata": {},
   "outputs": [
    {
     "data": {
      "image/png": "[encoded data removed]",
      "text/plain": [
       "<Figure size 432x432 with 1 Axes>"
      ]
     },
     "metadata": {
      "needs_background": "light"
     },
     "output_type": "display_data"
    }
   ],
   "source": [
    "quick_MVN_scatter(iterate_integrator(TGPV_integrator, 100, x0v0)[:, :2], target, levels=[exp(z0)], figsize=(6, 6), xlims=(-4, 4), ylims=(-4, 4))"
   ]
  },
  {
   "cell_type": "markdown",
   "id": "7f55cac7",
   "metadata": {},
   "source": [
    "# Approximate Generalized Position Verlet Integrator"
   ]
  },
  {
   "cell_type": "code",
   "execution_count": 573,
   "id": "9a2a3be5",
   "metadata": {},
   "outputs": [],
   "source": [
    "def AGPV_integrator(xv):\n",
    "    x, v = xv[:2], xv[2:]\n",
    "    # half position step\n",
    "    x = x + δ*v/2\n",
    "    g = grad_f(x); gn = norm(g); ghat = g / gn;\n",
    "    H = hess_f(x)\n",
    "    v = v - (δ/2)*(v @ (H @ v)) * ghat / gn\n",
    "    x = x + δ * v / 2\n",
    "    return anp.concatenate((x, v))"
   ]
  },
  {
   "cell_type": "code",
   "execution_count": 574,
   "id": "1d29faf6",
   "metadata": {},
   "outputs": [
    {
     "data": {
      "text/plain": [
       "True"
      ]
     },
     "execution_count": 574,
     "metadata": {},
     "output_type": "execute_result"
    }
   ],
   "source": [
    "x0v0 = generate_x0v0()\n",
    "δ = 0.1\n",
    "check_symplectic(AGPV_integrator, x0v0, tol=1e-1)"
   ]
  },
  {
   "cell_type": "code",
   "execution_count": 575,
   "id": "8cf7f432",
   "metadata": {},
   "outputs": [
    {
     "data": {
      "text/plain": [
       "False"
      ]
     },
     "execution_count": 575,
     "metadata": {},
     "output_type": "execute_result"
    }
   ],
   "source": [
    "is_symmetric(AGPV_integrator, x0v0)"
   ]
  },
  {
   "cell_type": "code",
   "execution_count": 576,
   "id": "30b9d368",
   "metadata": {},
   "outputs": [
    {
     "data": {
      "text/plain": [
       "0.00672069183200621"
      ]
     },
     "execution_count": 576,
     "metadata": {},
     "output_type": "execute_result"
    }
   ],
   "source": [
    "rmse_integrator(AGPV_integrator, 200)"
   ]
  },
  {
   "cell_type": "code",
   "execution_count": 577,
   "id": "2b077c70",
   "metadata": {},
   "outputs": [
    {
     "data": {
      "text/plain": [
       "0.9351598402945444"
      ]
     },
     "execution_count": 577,
     "metadata": {},
     "output_type": "execute_result"
    }
   ],
   "source": [
    "abs(det(jacobian(AGPV_integrator)(x0v0)))"
   ]
  },
  {
   "cell_type": "code",
   "execution_count": 578,
   "id": "ec311c42",
   "metadata": {},
   "outputs": [
    {
     "data": {
      "image/png": "[encoded data removed]",
      "text/plain": [
       "<Figure size 432x432 with 1 Axes>"
      ]
     },
     "metadata": {
      "needs_background": "light"
     },
     "output_type": "display_data"
    }
   ],
   "source": [
    "quick_MVN_scatter(iterate_integrator(AGPV_integrator, 100, x0v0)[:, :2], target, levels=[exp(z0)], figsize=(6, 6), xlims=(-4, 4), ylims=(-4, 4))"
   ]
  },
  {
   "cell_type": "markdown",
   "id": "60a49cc0",
   "metadata": {},
   "source": [
    "##### Hug Integrator"
   ]
  },
  {
   "cell_type": "code",
   "execution_count": 579,
   "id": "fb10e2b7",
   "metadata": {},
   "outputs": [],
   "source": [
    "def hug_integrator(xv):\n",
    "    x, v = xv[:2], xv[2:]\n",
    "    # half position step\n",
    "    x = x + δ*v/2\n",
    "    g = grad_f(x); gn = norm(g); ghat = g / gn;\n",
    "    H = hess_f(x)\n",
    "    v = v - 2 * ghat * (ghat @ v)\n",
    "    x = x + δ * v / 2\n",
    "    return anp.concatenate((x, v))"
   ]
  },
  {
   "cell_type": "code",
   "execution_count": 605,
   "id": "7da97522",
   "metadata": {},
   "outputs": [
    {
     "data": {
      "text/plain": [
       "False"
      ]
     },
     "execution_count": 605,
     "metadata": {},
     "output_type": "execute_result"
    }
   ],
   "source": [
    "x0v0 = np.concatenate((ellipse.sample(), q.rvs())) \n",
    "#x0v0 = generate_x0v0()\n",
    "δ = 0.1\n",
    "check_symplectic(hug_integrator, x0v0, tol=1e-1)"
   ]
  },
  {
   "cell_type": "code",
   "execution_count": 606,
   "id": "e193a967",
   "metadata": {},
   "outputs": [
    {
     "data": {
      "text/plain": [
       "True"
      ]
     },
     "execution_count": 606,
     "metadata": {},
     "output_type": "execute_result"
    }
   ],
   "source": [
    "is_symmetric(hug_integrator, x0v0)"
   ]
  },
  {
   "cell_type": "code",
   "execution_count": 607,
   "id": "3ee4bb49",
   "metadata": {},
   "outputs": [
    {
     "data": {
      "text/plain": [
       "0.0006811763172778262"
      ]
     },
     "execution_count": 607,
     "metadata": {},
     "output_type": "execute_result"
    }
   ],
   "source": [
    "rmse_integrator(hug_integrator, 1000)"
   ]
  },
  {
   "cell_type": "code",
   "execution_count": 608,
   "id": "a5b4bec3",
   "metadata": {},
   "outputs": [
    {
     "data": {
      "text/plain": [
       "0.9999999999999999"
      ]
     },
     "execution_count": 608,
     "metadata": {},
     "output_type": "execute_result"
    }
   ],
   "source": [
    "abs(det(jacobian(hug_integrator)(x0v0)))"
   ]
  },
  {
   "cell_type": "code",
   "execution_count": 609,
   "id": "d0ce5d5a",
   "metadata": {},
   "outputs": [
    {
     "data": {
      "image/png": "[encoded data removed]",
      "text/plain": [
       "<Figure size 432x432 with 1 Axes>"
      ]
     },
     "metadata": {
      "needs_background": "light"
     },
     "output_type": "display_data"
    }
   ],
   "source": [
    "quick_MVN_scatter(iterate_integrator(hug_integrator, 100, x0v0)[:, :2], target, levels=[exp(z0)], figsize=(6, 6), xlims=(-4, 4), ylims=(-4, 4))"
   ]
  },
  {
   "cell_type": "code",
   "execution_count": null,
   "id": "a6bdcfc9",
   "metadata": {},
   "outputs": [],
   "source": []
  },
  {
   "cell_type": "code",
   "execution_count": null,
   "id": "b665db3a",
   "metadata": {},
   "outputs": [],
   "source": []
  },
  {
   "cell_type": "code",
   "execution_count": 291,
   "id": "8bf35871",
   "metadata": {},
   "outputs": [],
   "source": [
    "def derivative(t, xv):\n",
    "    x, v = xv[:2], xv[2:]\n",
    "    return np.concatenate((v, -v @ (hess_f(x) @ v) * grad_f(x) / norm(grad_f(x))**2))"
   ]
  },
  {
   "cell_type": "code",
   "execution_count": 230,
   "id": "9271e541",
   "metadata": {},
   "outputs": [],
   "source": [
    "def solve_ivp_integrator(x0v0):\n",
    "    x1v1 = solve_ivp(derivative, (0.0, δ), x0v0).y[:, -1]\n",
    "    return x1v1"
   ]
  },
  {
   "cell_type": "code",
   "execution_count": 317,
   "id": "8915ec26",
   "metadata": {},
   "outputs": [],
   "source": [
    "N = 5000\n",
    "δ = 0.1\n",
    "times = np.linspace(0.0, N*δ, N+1)\n",
    "x0v0 = generate_x0v0()"
   ]
  },
  {
   "cell_type": "code",
   "execution_count": 319,
   "id": "5770d278",
   "metadata": {},
   "outputs": [],
   "source": [
    "def derivative_odeint(xv, t):\n",
    "    x, v = xv[:2], xv[2:]\n",
    "    return np.concatenate((v, -v @ (hess_f(x) @ v) * grad_f(x) / norm(grad_f(x))**2))"
   ]
  },
  {
   "cell_type": "code",
   "execution_count": 320,
   "id": "c2c46945",
   "metadata": {},
   "outputs": [
    {
     "data": {
      "image/png": "[encoded data removed]",
      "text/plain": [
       "<Figure size 1440x576 with 1 Axes>"
      ]
     },
     "metadata": {
      "needs_background": "light"
     },
     "output_type": "display_data"
    }
   ],
   "source": [
    "quick_MVN_scatter(odeint(derivative_odeint, x0v0, times)[:, :2], target, levels=[exp(z0)], step=0.01, xlims=[-5, 5], ylims=[-5, 5])"
   ]
  },
  {
   "cell_type": "code",
   "execution_count": 281,
   "id": "788b82e6",
   "metadata": {},
   "outputs": [],
   "source": [
    "outRK45 = solve_ivp(derivative, (0.0, δ*N), x0v0, t_eval=times, method='RK45')"
   ]
  },
  {
   "cell_type": "code",
   "execution_count": 282,
   "id": "623a9fb3",
   "metadata": {},
   "outputs": [],
   "source": [
    "outDOP853 = solve_ivp(derivative, (0.0, δ*N), x0v0, t_eval=times, method='DOP853')"
   ]
  },
  {
   "cell_type": "code",
   "execution_count": 285,
   "id": "c48c109d",
   "metadata": {},
   "outputs": [],
   "source": [
    "outRadau = solve_ivp(derivative, (0.0, δ*N), x0v0, t_eval=times, method='Radau')"
   ]
  },
  {
   "cell_type": "code",
   "execution_count": 287,
   "id": "6a89253a",
   "metadata": {},
   "outputs": [],
   "source": [
    "outLSODA = solve_ivp(derivative, (0.0, δ*N), x0v0, t_eval=times, method='LSODA')"
   ]
  },
  {
   "cell_type": "code",
   "execution_count": 289,
   "id": "2c2009d3",
   "metadata": {},
   "outputs": [],
   "source": [
    "outBDF = solve_ivp(derivative, (0.0, δ*N), x0v0, t_eval=times, method='BDF')"
   ]
  },
  {
   "cell_type": "code",
   "execution_count": 290,
   "id": "67e64f4b",
   "metadata": {
    "scrolled": true
   },
   "outputs": [
    {
     "data": {
      "text/plain": [
       "<matplotlib.collections.PathCollection at 0x2a0674a60>"
      ]
     },
     "execution_count": 290,
     "metadata": {},
     "output_type": "execute_result"
    },
    {
     "data": {
      "image/png": "[encoded data removed]",
      "text/plain": [
       "<Figure size 432x288 with 1 Axes>"
      ]
     },
     "metadata": {
      "needs_background": "light"
     },
     "output_type": "display_data"
    }
   ],
   "source": [
    "fig, ax = plt.subplots()\n",
    "ax.scatter(*outBDF.y[:2, :])"
   ]
  },
  {
   "cell_type": "code",
   "execution_count": 187,
   "id": "35997237",
   "metadata": {},
   "outputs": [],
   "source": [
    "x0v0 = anp.concatenate((ellipse.sample(), q.rvs()))\n",
    "δ = 0.1\n",
    "\n",
    "Jϕ = jacobian(gpv_hug_true_integrator3)(x0v0)"
   ]
  },
  {
   "cell_type": "code",
   "execution_count": 188,
   "id": "630c0cb8",
   "metadata": {},
   "outputs": [
    {
     "data": {
      "text/plain": [
       "0.762744417286637"
      ]
     },
     "execution_count": 188,
     "metadata": {},
     "output_type": "execute_result"
    }
   ],
   "source": [
    "det(Jϕ)"
   ]
  },
  {
   "cell_type": "code",
   "execution_count": 189,
   "id": "fdddb9fa",
   "metadata": {},
   "outputs": [
    {
     "data": {
      "text/plain": [
       "array([[-0. ,  0.3,  0.9,  0.1],\n",
       "       [-0.3,  0. ,  0.3,  0.8],\n",
       "       [-0.9, -0.3, -0. , -0. ],\n",
       "       [-0.1, -0.8,  0. , -0. ]])"
      ]
     },
     "execution_count": 189,
     "metadata": {},
     "output_type": "execute_result"
    }
   ],
   "source": [
    "((Jϕ.T @ Jinv) @ Jϕ).round(1)"
   ]
  },
  {
   "cell_type": "code",
   "execution_count": 212,
   "id": "ccca29aa",
   "metadata": {},
   "outputs": [
    {
     "data": {
      "text/plain": [
       "True"
      ]
     },
     "execution_count": 212,
     "metadata": {},
     "output_type": "execute_result"
    }
   ],
   "source": [
    "is_symmetric(gpv_hug_true_integrator3, x0v0)"
   ]
  },
  {
   "cell_type": "code",
   "execution_count": 235,
   "id": "e25ea115",
   "metadata": {},
   "outputs": [],
   "source": []
  },
  {
   "cell_type": "code",
   "execution_count": 237,
   "id": "871a2f21",
   "metadata": {},
   "outputs": [
    {
     "data": {
      "text/plain": [
       "(0.20449180425319582, 0.07414982235070858)"
      ]
     },
     "execution_count": 237,
     "metadata": {},
     "output_type": "execute_result"
    }
   ],
   "source": [
    "mse_integrator(gpv_hug_true_integrator3, 100)"
   ]
  },
  {
   "cell_type": "code",
   "execution_count": 240,
   "id": "6104e3ff",
   "metadata": {},
   "outputs": [
    {
     "data": {
      "text/plain": [
       "(0.0014258932489684905, 5.964712984686008e-06)"
      ]
     },
     "execution_count": 240,
     "metadata": {},
     "output_type": "execute_result"
    }
   ],
   "source": [
    "mse_integrator(lambda xv: np.concatenate(approx_hug_integrator(xv[:2], xv[2:], δ, grad_f)), 100)"
   ]
  },
  {
   "cell_type": "code",
   "execution_count": 241,
   "id": "2e95c80d",
   "metadata": {},
   "outputs": [
    {
     "data": {
      "text/plain": [
       "(0.21179892072651996, 0.0823449124052227)"
      ]
     },
     "execution_count": 241,
     "metadata": {},
     "output_type": "execute_result"
    }
   ],
   "source": [
    "mse_integrator(solve_ivp_integrator, 100)"
   ]
  },
  {
   "cell_type": "code",
   "execution_count": 243,
   "id": "8561a8cd",
   "metadata": {},
   "outputs": [
    {
     "data": {
      "text/plain": [
       "array([-1.16592083, -3.3757553 ,  1.1826785 , -1.03954523])"
      ]
     },
     "execution_count": 243,
     "metadata": {},
     "output_type": "execute_result"
    }
   ],
   "source": [
    "solve_ivp_integrator(x0v0)"
   ]
  },
  {
   "cell_type": "code",
   "execution_count": 244,
   "id": "adabf733",
   "metadata": {},
   "outputs": [
    {
     "data": {
      "text/plain": [
       "array([-1.16612547, -3.37682104,  1.18018535, -1.03962921])"
      ]
     },
     "execution_count": 244,
     "metadata": {},
     "output_type": "execute_result"
    }
   ],
   "source": [
    "gpv_hug_true_integrator3(x0v0)"
   ]
  },
  {
   "cell_type": "code",
   "execution_count": 246,
   "id": "d7cff516",
   "metadata": {},
   "outputs": [
    {
     "data": {
      "text/plain": [
       "(array([-1.20032115, -3.2366399 ]), array([0.49627183, 1.76399372]))"
      ]
     },
     "execution_count": 246,
     "metadata": {},
     "output_type": "execute_result"
    }
   ],
   "source": [
    "approx_hug_integrator(x0v0[:2], x0v0[2:], δ, grad_f)"
   ]
  },
  {
   "cell_type": "code",
   "execution_count": 610,
   "id": "24195d57",
   "metadata": {},
   "outputs": [],
   "source": [
    "from scipy.stats import norm as ndist"
   ]
  },
  {
   "cell_type": "code",
   "execution_count": 662,
   "id": "b729c5a6",
   "metadata": {},
   "outputs": [],
   "source": [
    "σ = 0.1\n",
    "μ = 0.0\n",
    "ϵ = 0.01"
   ]
  },
  {
   "cell_type": "code",
   "execution_count": 663,
   "id": "16950508",
   "metadata": {},
   "outputs": [],
   "source": [
    "from math import factorial"
   ]
  },
  {
   "cell_type": "code",
   "execution_count": 664,
   "id": "839c7340",
   "metadata": {},
   "outputs": [],
   "source": [
    "def cdf_approx(x, σ, terms=1):\n",
    "    out = 0.5\n",
    "    x = x / σ\n",
    "    for k in range(terms):\n",
    "        out += ((-1)**k) * (x**(2*k + 1)) / ((2**k) * factorial(k) * (2*k + 1) * np.sqrt(2*np.pi))\n",
    "    return out"
   ]
  },
  {
   "cell_type": "code",
   "execution_count": 665,
   "id": "be12a4b6",
   "metadata": {},
   "outputs": [
    {
     "data": {
      "text/plain": [
       "-2.220446049250313e-16"
      ]
     },
     "execution_count": 665,
     "metadata": {},
     "output_type": "execute_result"
    }
   ],
   "source": [
    "ndist.cdf(ϵ, scale=σ) - cdf_approx(ϵ, σ, terms=5)"
   ]
  },
  {
   "cell_type": "code",
   "execution_count": 666,
   "id": "3c6cdf07",
   "metadata": {},
   "outputs": [
    {
     "data": {
      "text/plain": [
       "5.551115123125783e-17"
      ]
     },
     "execution_count": 666,
     "metadata": {},
     "output_type": "execute_result"
    }
   ],
   "source": [
    "ndist.cdf(-ϵ, scale=σ) - cdf_approx(-ϵ, σ, terms=5)"
   ]
  },
  {
   "cell_type": "code",
   "execution_count": 667,
   "id": "51926a98",
   "metadata": {},
   "outputs": [
    {
     "data": {
      "text/plain": [
       "0.07965567455405798"
      ]
     },
     "execution_count": 667,
     "metadata": {},
     "output_type": "execute_result"
    }
   ],
   "source": [
    "ndist.cdf(ϵ, scale=σ) - ndist.cdf(-ϵ, scale=σ)"
   ]
  },
  {
   "cell_type": "code",
   "execution_count": 668,
   "id": "4c6b3377",
   "metadata": {},
   "outputs": [
    {
     "data": {
      "text/plain": [
       "0.6649038006690545"
      ]
     },
     "execution_count": 668,
     "metadata": {},
     "output_type": "execute_result"
    }
   ],
   "source": [
    "(2 / np.sqrt(2*np.pi)) - 1 / (3*np.sqrt(2*np.pi))"
   ]
  },
  {
   "cell_type": "code",
   "execution_count": 676,
   "id": "16e1b3dc",
   "metadata": {},
   "outputs": [],
   "source": [
    "def prob_within(ϵ, σ, N):\n",
    "    samples = ndist(scale=σ).rvs(N)\n",
    "    return np.sum((-ϵ <= samples) & (samples <= ϵ)) / N"
   ]
  },
  {
   "cell_type": "code",
   "execution_count": 680,
   "id": "1a0cb548",
   "metadata": {},
   "outputs": [
    {
     "data": {
      "text/plain": [
       "0.080003"
      ]
     },
     "execution_count": 680,
     "metadata": {},
     "output_type": "execute_result"
    }
   ],
   "source": [
    "prob_within(0.1, 1.0, 1000000)"
   ]
  },
  {
   "cell_type": "code",
   "execution_count": 681,
   "id": "df3f5c3f",
   "metadata": {},
   "outputs": [
    {
     "data": {
      "text/plain": [
       "0.6649038006690545"
      ]
     },
     "execution_count": 681,
     "metadata": {},
     "output_type": "execute_result"
    }
   ],
   "source": [
    "np.sqrt(2 / np.pi) - (1 / (3*np.sqrt(2*np.pi)))"
   ]
  },
  {
   "cell_type": "code",
   "execution_count": 684,
   "id": "0d17e0ff",
   "metadata": {},
   "outputs": [
    {
     "data": {
      "text/plain": [
       "0.07965547532015273"
      ]
     },
     "execution_count": 684,
     "metadata": {},
     "output_type": "execute_result"
    }
   ],
   "source": [
    "(np.sqrt(2 * ϵ) / np.sqrt(np.pi)) - ϵ**(3/2) / (3*np.sqrt(2*np.pi))"
   ]
  },
  {
   "cell_type": "markdown",
   "id": "1a7075d2",
   "metadata": {},
   "source": [
    "### Trying things out"
   ]
  },
  {
   "cell_type": "code",
   "execution_count": 704,
   "id": "bd119844",
   "metadata": {},
   "outputs": [],
   "source": [
    "from RWM import RWM"
   ]
  },
  {
   "cell_type": "code",
   "execution_count": 731,
   "id": "a9a69a01",
   "metadata": {},
   "outputs": [],
   "source": [
    "def check_idea():\n",
    "    # Parameters\n",
    "    y = 1\n",
    "    σ = 0.1\n",
    "    \n",
    "    # Forward function and its gradient\n",
    "    F    = lambda θ: θ[0] + θ[1]\n",
    "    g    = lambda θ: np.array([1, 1])\n",
    "    ghat = lambda θ: g(θ) / norm(g(θ))\n",
    "    \n",
    "    # Parameters\n",
    "    μ0 = zeros(2)\n",
    "    Σ0 = eye(2)\n",
    "    Σ  = (σ**2) * eye(1)\n",
    "    \n",
    "    # Posterior stuff\n",
    "    posterior_pdf    = lambda θ: MVN(μ0, Σ0).pdf(θ) * MVN(F(θ), Σ).pdf(y)\n",
    "    posterior_logpdf = lambda θ: MVN(μ0, Σ0).logpdf(θ) + MVN(F(θ), Σ).logpdf(y)\n",
    "    posterior_rvs    = lambda:   MVN(F(MVN(μ0, Σ0).rvs()), Σ).rvs()\n",
    "    \n",
    "    θ0 = MVN(μ0, Σ0).rvs()\n",
    "    samples, acceptances = RWM(θ0, σ, 100000, posterior_logpdf)\n",
    "    return samples, np.mean(acceptances)"
   ]
  },
  {
   "cell_type": "code",
   "execution_count": 732,
   "id": "b1664899",
   "metadata": {},
   "outputs": [],
   "source": [
    "samples, acc_prob = check_idea()"
   ]
  },
  {
   "cell_type": "code",
   "execution_count": 733,
   "id": "d6d143c1",
   "metadata": {},
   "outputs": [
    {
     "data": {
      "text/plain": [
       "<matplotlib.collections.PathCollection at 0x2c1e56670>"
      ]
     },
     "execution_count": 733,
     "metadata": {},
     "output_type": "execute_result"
    },
    {
     "data": {
      "image/png": "[encoded data removed]",
      "text/plain": [
       "<Figure size 432x288 with 1 Axes>"
      ]
     },
     "metadata": {
      "needs_background": "light"
     },
     "output_type": "display_data"
    }
   ],
   "source": [
    "plt.scatter(*samples.T)"
   ]
  },
  {
   "cell_type": "code",
   "execution_count": 734,
   "id": "ae3420c7",
   "metadata": {},
   "outputs": [
    {
     "data": {
      "text/plain": [
       "array([[ 0.50360491, -0.49845374],\n",
       "       [-0.49845374,  0.50317643]])"
      ]
     },
     "execution_count": 734,
     "metadata": {},
     "output_type": "execute_result"
    }
   ],
   "source": [
    "np.cov(samples.T)"
   ]
  },
  {
   "cell_type": "code",
   "execution_count": 738,
   "id": "daa20a2d",
   "metadata": {},
   "outputs": [
    {
     "data": {
      "text/plain": [
       "array([0.48464849, 0.51024671])"
      ]
     },
     "execution_count": 738,
     "metadata": {},
     "output_type": "execute_result"
    }
   ],
   "source": [
    "np.mean(samples, axis=0)"
   ]
  },
  {
   "cell_type": "code",
   "execution_count": 735,
   "id": "80d70afd",
   "metadata": {},
   "outputs": [],
   "source": [
    "M = np.array([[1, 1]])"
   ]
  },
  {
   "cell_type": "code",
   "execution_count": 736,
   "id": "2be7f4f0",
   "metadata": {},
   "outputs": [
    {
     "data": {
      "text/plain": [
       "array([[ 0.50248756, -0.49751244],\n",
       "       [-0.49751244,  0.50248756]])"
      ]
     },
     "execution_count": 736,
     "metadata": {},
     "output_type": "execute_result"
    }
   ],
   "source": [
    "np.linalg.inv((1 / σ**2) * M.T @ M + np.eye(2))"
   ]
  },
  {
   "cell_type": "code",
   "execution_count": 740,
   "id": "6bf8b501",
   "metadata": {},
   "outputs": [
    {
     "data": {
      "text/plain": [
       "99.99999999999999"
      ]
     },
     "execution_count": 740,
     "metadata": {},
     "output_type": "execute_result"
    }
   ],
   "source": []
  },
  {
   "cell_type": "code",
   "execution_count": null,
   "id": "097ab2f7",
   "metadata": {},
   "outputs": [],
   "source": []
  }
 ],
 "metadata": {
  "kernelspec": {
   "display_name": "Python 3 (ipykernel)",
   "language": "python",
   "name": "python3"
  },
  "language_info": {
   "codemirror_mode": {
    "name": "ipython",
    "version": 3
   },
   "file_extension": ".py",
   "mimetype": "text/x-python",
   "name": "python",
   "nbconvert_exporter": "python",
   "pygments_lexer": "ipython3",
   "version": "3.8.10"
  }
 },
 "nbformat": 4,
 "nbformat_minor": 5
}
