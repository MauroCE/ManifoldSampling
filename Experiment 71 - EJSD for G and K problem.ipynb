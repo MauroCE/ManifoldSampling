{
 "cells": [
  {
   "cell_type": "markdown",
   "id": "6d93e800",
   "metadata": {},
   "source": [
    "The aim of this Experiment is to run something like Experiment 62 and 67, where we create a grid of ESJD values for different values of $\\delta$ and different values of $\\alpha$, for a series of $\\epsilon$s, to figure out if larger $\\alpha$s are required to explore filamentary distributions with very small $\\epsilon$. We do this in the context of the G and K distribution to see if $\\alpha$ large is still required in high-dimensions and \"non-trivial\" manifolds, where by trivial we mean the ellipse, which seems to have somewhat constant curvature.\n"
   ]
  },
  {
   "cell_type": "code",
   "execution_count": null,
   "id": "971c657b",
   "metadata": {},
   "outputs": [],
   "source": []
  }
 ],
 "metadata": {
  "kernelspec": {
   "display_name": "Python 3 (ipykernel)",
   "language": "python",
   "name": "python3"
  },
  "language_info": {
   "codemirror_mode": {
    "name": "ipython",
    "version": 3
   },
   "file_extension": ".py",
   "mimetype": "text/x-python",
   "name": "python",
   "nbconvert_exporter": "python",
   "pygments_lexer": "ipython3",
   "version": "3.10.4"
  }
 },
 "nbformat": 4,
 "nbformat_minor": 5
}
