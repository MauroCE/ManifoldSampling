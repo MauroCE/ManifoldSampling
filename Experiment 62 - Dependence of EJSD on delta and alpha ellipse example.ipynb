{
 "cells": [
  {
   "cell_type": "code",
   "execution_count": 29,
   "id": "5c273ba1",
   "metadata": {},
   "outputs": [],
   "source": [
    "import numpy as np\n",
    "from numpy import zeros, eye, diag, exp, log\n",
    "from numpy.linalg import norm, solve\n",
    "from numpy.random import randn, rand\n",
    "from scipy.stats import multivariate_normal as MVN\n",
    "from scipy.stats import uniform as udist\n",
    "from itertools import product\n",
    "\n",
    "import matplotlib.pyplot as plt\n",
    "from mpl_toolkits.axes_grid1 import ImageGrid\n",
    "\n",
    "from Manifolds.GeneralizedEllipse import GeneralizedEllipse\n",
    "from utils import prep_contour, generate_powers_of_ten\n",
    "\n",
    "from warnings import catch_warnings, filterwarnings"
   ]
  },
  {
   "cell_type": "code",
   "execution_count": 2,
   "id": "82390c44",
   "metadata": {},
   "outputs": [],
   "source": [
    "# Manifold\n",
    "μ       = zeros(2)\n",
    "Σ       = diag([1, 0.1])\n",
    "target  = MVN(μ, Σ)\n",
    "f = target.logpdf\n",
    "z0      = -2.9513586307684885                # Specifies exactly which ellipse we are interested in (y*).\n",
    "ellipse = GeneralizedEllipse(μ, Σ, exp(z0))\n",
    "\n",
    "# Gradient function\n",
    "grad  = lambda xi: -solve(Σ, xi - μ)\n",
    "q = MVN(zeros(2), eye(2))\n",
    "\n",
    "# Prior function is uniform on a huge square\n",
    "square_side = 10  # SQUARE SIDE\n",
    "logprior  = lambda xi: udist.logpdf(xi, loc=-square_side, scale=2*square_side).sum()"
   ]
  },
  {
   "cell_type": "code",
   "execution_count": 3,
   "id": "980401a7",
   "metadata": {},
   "outputs": [],
   "source": [
    "# fig, ax = plt.subplots(figsize=(5,5))\n",
    "# ax.contour(*prep_contour([-2.5, 2.5], [-2.5, 2.5], 0.01, target.logpdf), levels=[z0])\n",
    "# ax.set_aspect(\"equal\")\n",
    "# plt.show()"
   ]
  },
  {
   "cell_type": "code",
   "execution_count": 15,
   "id": "bbbbc45a",
   "metadata": {},
   "outputs": [],
   "source": [
    "def HugTangential(x0, δ, B, N, α, q, logpi, grad_log_pi):\n",
    "    \"\"\"\n",
    "    Repurposed version of THUG.\n",
    "    \"\"\"\n",
    "    # The following dictionary stores everything we need\n",
    "    OUT = {\n",
    "#         'D' : {f\"{i}\": [] for i in range(N)}, # Distance\n",
    "#         'SD': {f\"{i}\": [] for i in range(N)}, # Square Distance\n",
    "        'AR': [np.nan for i in range(N)],     # Acceptance Ratio\n",
    "        'KE': [np.nan for i in range(N)],     # Kinetic Energy\n",
    "#         'SAMPLES': x0,\n",
    "        'ACCEPTANCES': np.zeros(N),\n",
    "#         'EJSD': [np.nan for i in range(N)],    # Acceptance Ratio * Squared Distance\n",
    "        'EJSD_AP': [np.nan for i in range(N)]    # Acceptance PROBABILITY * Squared Distance\n",
    "    }\n",
    "    for i in range(N):\n",
    "        v0s = q.rvs()                    # Draw velocity spherically\n",
    "        g = grad_log_pi(x0)              # Compute gradient at x0\n",
    "        g = g / norm(g)                  # Normalize\n",
    "        v0 = v0s - α * g * (g @ v0s) # Tilt velocity\n",
    "        v, x = v0, x0                    # Housekeeping\n",
    "        logu = np.log(rand())            # Acceptance ratio\n",
    "        for _ in range(B):\n",
    "            xmid = x + δ*v/2           # Move to midpoint\n",
    "            g = grad_log_pi(xmid)          # Compute gradient at midpoint\n",
    "            ghat = g / norm(g)          # Normalize \n",
    "            v = v - 2*(v @ ghat) * ghat # Reflect velocity using midpoint gradient\n",
    "            x = xmid + δ*v/2           # Move from midpoint to end-point\n",
    "            # Compute metrics\n",
    "#             OUT['D'][f\"{i}\"].append(norm(x - x0))\n",
    "#             OUT['SD'][f\"{i}\"].append(norm(x  -x0)**2)\n",
    "\n",
    "        # Unsqueeze the velocity\n",
    "        g = grad_log_pi(x)\n",
    "        g = g / norm(g)\n",
    "        v = v + (α / (1 - α)) * g * (g @ v)\n",
    "        # In the acceptance ratio must use spherical velocities!! Hence v0s and the unsqueezed v\n",
    "        logar = logpi(x) + q.logpdf(v) - logpi(x0) - q.logpdf(v0s)\n",
    "        ar = exp(logar)\n",
    "        OUT['AR'][i] = ar\n",
    "        OUT['KE'][i] = norm(v)**2 - norm(v0s)**2\n",
    "#         OUT['EJSD'][i] = ar * (norm(x - x0)**2)\n",
    "        OUT['EJSD_AP'][i] = np.clip(ar, a_min=0.0, a_max=1.0) * (norm(x - x0)**2)\n",
    "        if logu <= logar:\n",
    "#             OUT['SAMPLES'] = np.vstack((OUT['SAMPLES'], x))\n",
    "            OUT['ACCEPTANCES'][i] = 1         # Accepted!\n",
    "            x0 = x\n",
    "        else:\n",
    "#             OUT['SAMPLES'] = np.vstack((OUT['SAMPLES'], x0))\n",
    "            OUT['ACCEPTANCES'][i] = 0         # Rejected\n",
    "    return OUT"
   ]
  },
  {
   "cell_type": "code",
   "execution_count": null,
   "id": "27655313",
   "metadata": {},
   "outputs": [],
   "source": [
    "# Settings\n",
    "# ϵ = 0.00001\n",
    "# n_grid = 30\n",
    "\n",
    "def generate_logpi(ϵ):\n",
    "    # Kernel\n",
    "    def logkernel(xi):\n",
    "        with np.errstate(divide='ignore'):\n",
    "            return log(float(norm(f(xi) - z0) < ϵ) / ϵ)\n",
    "    # Logpi\n",
    "    #logpi = lambda xi: logprior(xi) + logkernel(xi)\n",
    "    logpi = lambda xi: logkernel(xi)\n",
    "    return logpi"
   ]
  },
  {
   "cell_type": "code",
   "execution_count": 17,
   "id": "1144a6c6",
   "metadata": {},
   "outputs": [],
   "source": [
    "# msd = lambda out: np.vstack([out['SD'][f\"{i}\"] for i in range(N)]).mean(axis=0)"
   ]
  },
  {
   "cell_type": "code",
   "execution_count": 18,
   "id": "f064573f",
   "metadata": {},
   "outputs": [],
   "source": [
    "# αs = np.linspace(0.0, 1.0, num=n_grid, endpoint=False)\n",
    "# δs = np.logspace(-3, 0, num=n_grid, endpoint=True)\n",
    "# ϵs = np.array([0.1, 0.01, 0.001, 0.0001, 0.00001])"
   ]
  },
  {
   "cell_type": "code",
   "execution_count": 19,
   "id": "1c51e0d5",
   "metadata": {},
   "outputs": [],
   "source": [
    "# EJSD_GRID = np.zeros((len(ϵs), len(αs), len(δs)))\n",
    "# for ϵix, ϵ in enumerate(ϵs):\n",
    "#     for αix, α in enumerate(αs):\n",
    "#         for δix, δ in enumerate(δs):\n",
    "#             x0 = ellipse.sample()\n",
    "#             logpi = generate_logpi(ϵ)\n",
    "#             EJSD_GRID[ϵix, αix, δix] = np.mean(HugTangential(x0, δ, B, N, α, q, logpi, grad)['EJSD'])"
   ]
  },
  {
   "cell_type": "code",
   "execution_count": 20,
   "id": "c6af1358",
   "metadata": {},
   "outputs": [],
   "source": [
    "# EJSD_GRID_AP = np.zeros((len(ϵs), len(αs), len(δs)))\n",
    "# for ϵix, ϵ in enumerate(ϵs):\n",
    "#     for αix, α in enumerate(αs):\n",
    "#         for δix, δ in enumerate(δs):\n",
    "#             x0 = ellipse.sample()\n",
    "#             logpi = generate_logpi(ϵ)\n",
    "#             EJSD_GRID_AP[ϵix, αix, δix] = np.mean(HugTangential(x0, δ, B, N, α, q, logpi, grad)['EJSD_AP'])"
   ]
  },
  {
   "cell_type": "code",
   "execution_count": 21,
   "id": "a95801fd",
   "metadata": {},
   "outputs": [],
   "source": [
    "# from matplotlib.colors import LogNorm\n",
    "# from matplotlib.ticker import LogFormatterMathtext"
   ]
  },
  {
   "cell_type": "code",
   "execution_count": 22,
   "id": "ed00da4e",
   "metadata": {},
   "outputs": [],
   "source": [
    "# fig = plt.figure(figsize=(18, 5))\n",
    "\n",
    "# grid = ImageGrid(fig, 111,          # as in plt.subplot(111)\n",
    "#                  nrows_ncols=(1,5),\n",
    "#                  axes_pad=0.2,\n",
    "#                  share_all=True,\n",
    "#                  cbar_location=\"right\",\n",
    "#                  cbar_mode=\"single\",\n",
    "#                  cbar_size=\"7%\",\n",
    "#                  cbar_pad=0.2,\n",
    "#                  )\n",
    "# # Add data to image grid\n",
    "# for i, ax in enumerate(grid):\n",
    "#     im = ax.imshow(EJSD_GRID[i, :, :], origin='lower', extent=[0.001, 1.0, 0.0, 1.0], norm=LogNorm())\n",
    "#     ax.set_xscale('log')\n",
    "#     # X axis\n",
    "#     ax.set_xticks(δs[::4]) #np.arange(0, 30, 4))\n",
    "#     ax.set_xticklabels([\"{:.2f}\".format(δ) for δ in δs[::4]], fontsize=8)\n",
    "#     ax.set_xlabel(r\"$\\mathregular{\\delta}$\", fontname='STIXGeneral', fontsize=15)\n",
    "#     # Y axis\n",
    "#     ax.set_yticks(αs[::4]) #np.arange(0, 30, 4))\n",
    "#     ax.set_yticklabels([\"{:.1f}\".format(α) for α in αs[::4]], fontsize=8)\n",
    "#     ax.set_ylabel(r\"$\\mathregular{\\alpha}$\", fontname='STIXGeneral', fontsize=15)\n",
    "#     ax.set_title(r\"$\\mathregular{\\epsilon}=$\" + r\"{}\".format(ϵs[i]), fontsize=15, fontname='STIXGeneral')\n",
    "#     ax.set_aspect('auto')\n",
    "# ax.cax.colorbar(im, format=LogFormatterMathtext())\n",
    "# ax.cax.toggle_label(True)\n",
    "# plt.show()"
   ]
  },
  {
   "cell_type": "code",
   "execution_count": 28,
   "id": "3244302a",
   "metadata": {},
   "outputs": [],
   "source": [
    "def generate_grid(ϵs, αs, δs, x0s):\n",
    "    EJSD_GRID_AP = np.zeros((len(ϵs), len(αs), len(δs)))\n",
    "    for ϵix, ϵ in enumerate(ϵs):\n",
    "        for αix, α in enumerate(αs):\n",
    "            for δix, δ in enumerate(δs):\n",
    "                logpi = generate_logpi(ϵ)\n",
    "                EJSD_GRID_AP[ϵix, αix, δix] = np.mean(HugTangential(x0s[ϵix], δ, B, N, α, q, logpi, grad)['EJSD_AP'])\n",
    "    return EJSD_GRID_AP\n",
    "##### SUPER IMPORTANT: EJSD --> EJSD_AP!!!"
   ]
  },
  {
   "cell_type": "code",
   "execution_count": 24,
   "id": "e4b5aa18",
   "metadata": {},
   "outputs": [],
   "source": [
    "##### SUPER IMPORTANT: EJSD --> EJSD_AP!!!\n",
    "# ϵs = np.array([0.1, 0.01, 0.001, 0.0001, 0.00001])\n",
    "# αs = np.geomspace(1, 2, num=n_grid, endpoint=False) - 1\n",
    "# δs = np.geomspace(0.001, 10.0, num=n_grid, endpoint=False)\n",
    "# EJSD_GRID_LOG = generate_grid(\n",
    "#     ϵs = ϵs,\n",
    "#     αs = αs,\n",
    "#     δs = δs\n",
    "# )"
   ]
  },
  {
   "cell_type": "code",
   "execution_count": 25,
   "id": "e2818b7b",
   "metadata": {},
   "outputs": [],
   "source": [
    "# ##### SUPER IMPORTANT: EJSD --> EJSD_AP!!!\n",
    "# αs_log = np.geomspace(1, 2, num=10, endpoint=False) - 1\n",
    "# δs_log = np.geomspace(0.001, 10.0, num=10, endpoint=False)\n",
    "\n",
    "# fig = plt.figure(figsize=(18, 5))\n",
    "\n",
    "# grid = ImageGrid(fig, 111,          # as in plt.subplot(111)\n",
    "#                  nrows_ncols=(1,5),\n",
    "#                  axes_pad=0.2,\n",
    "#                  share_all=True,\n",
    "#                  cbar_location=\"right\",\n",
    "#                  cbar_mode=\"single\",\n",
    "#                  cbar_size=\"7%\",\n",
    "#                  cbar_pad=0.2,\n",
    "#                  )\n",
    "# # Add data to image grid\n",
    "# for i, ax in enumerate(grid):\n",
    "#     im = ax.imshow(EJSD_GRID_LOG[i, :, :], origin='lower')\n",
    "#     # X axis\n",
    "#     ax.set_xticks(δs_log[::4]) #np.arange(0, 30, 4))\n",
    "#     ax.set_xticklabels([\"{:.2f}\".format(δ) for δ in δs_log[::4]], fontsize=8)\n",
    "#     ax.set_xlabel(r\"$\\mathregular{\\delta}$\", fontname='STIXGeneral', fontsize=15)\n",
    "#     ax.set_xscale('log')\n",
    "#     # Y axis\n",
    "#     ax.set_yticks(αs_log[::4]) #np.arange(0, 30, 4)\n",
    "#     ax.set_yticklabels([\"{:.1f}\".format(α) for α in αs_log[::4]], fontsize=8)\n",
    "#     ax.set_ylabel(r\"$\\mathregular{\\alpha}$\", fontname='STIXGeneral', fontsize=15)\n",
    "#     ax.set_title(r\"$\\mathregular{\\epsilon}=$\" + r\"{}\".format(ϵs[i]), fontsize=15, fontname='STIXGeneral')\n",
    "#     ax.set_yscale('log')\n",
    "# ax.cax.colorbar(im)\n",
    "# ax.cax.toggle_label(True)\n",
    "# plt.show()"
   ]
  },
  {
   "cell_type": "code",
   "execution_count": 26,
   "id": "edadda82",
   "metadata": {},
   "outputs": [],
   "source": [
    "# αs_log = np.geomspace(1, 2, num=10, endpoint=False) - 1\n",
    "# δs_log = np.geomspace(0.001, 10.0, num=10, endpoint=False)\n",
    "# δ_grid_log, α_grid_log = np.meshgrid(δs_log, αs_log)\n",
    "\n",
    "# fig, ax = plt.subplots(ncols=5, figsize=(20, 4))\n",
    "\n",
    "# for i in range(5):\n",
    "#     im = ax[i].pcolor(δ_grid_log, α_grid_log, EJSD_GRID_LOG[i, :, :])\n",
    "#     ax[i].set_xscale('log')\n",
    "#     ax[i].set_yscale('log')\n",
    "# plt.colorbar(im)\n",
    "# plt.show()"
   ]
  },
  {
   "cell_type": "code",
   "execution_count": 55,
   "id": "a7146dfc",
   "metadata": {},
   "outputs": [],
   "source": [
    "def generate_starting_points(ϵs, n_tries=10):\n",
    "    x0s = np.zeros((len(ϵs), len(μ)))\n",
    "    for i in range(len(ϵs)):\n",
    "        j = 0\n",
    "        while j <= n_tries:\n",
    "            j += 1\n",
    "            with catch_warnings():\n",
    "                filterwarnings('error')\n",
    "                try: \n",
    "                    x0 = ellipse.sample(advanced=True)\n",
    "                    x0s[i, :] = x0\n",
    "                    break\n",
    "                except RuntimeWarning:\n",
    "                    print(f\"Can't find {i}th point. Trying again.\")\n",
    "                    continue\n",
    "            if j == n_tries:\n",
    "                raise ValueError(\"Couldn't find point.\")\n",
    "    return x0s"
   ]
  },
  {
   "cell_type": "code",
   "execution_count": 58,
   "id": "fc9538da",
   "metadata": {},
   "outputs": [],
   "source": [
    "# Sampling Settings\n",
    "B = 10       # Number of bounces per trajectory\n",
    "N = 1000     # Number of samples\n",
    "\n",
    "# Grid settings\n",
    "n_grid = 20  # Grid size for αs and δs\n",
    "ϵs = generate_powers_of_ten(-1, -6)\n",
    "αs = np.linspace(start=0.0, stop=1.0, num=n_grid, endpoint=False)\n",
    "δs = np.geomspace(start=0.001, stop=10.0, num=n_grid, endpoint=True)\n",
    "\n",
    "# Starting points (one per ϵ)\n",
    "x0s = generate_starting_points(ϵs)"
   ]
  },
  {
   "cell_type": "code",
   "execution_count": 59,
   "id": "3ff50a91",
   "metadata": {},
   "outputs": [],
   "source": [
    "EJSD_GRID = generate_grid(\n",
    "    ϵs = ϵs,\n",
    "    αs = αs,\n",
    "    δs = δs,\n",
    "    x0s = x0s\n",
    ")"
   ]
  },
  {
   "cell_type": "code",
   "execution_count": 60,
   "id": "d743dd7f",
   "metadata": {},
   "outputs": [
    {
     "data": {
      "image/png": "[encoded data removed]",
      "text/plain": [
       "<Figure size 1440x288 with 6 Axes>"
      ]
     },
     "metadata": {
      "needs_background": "light"
     },
     "output_type": "display_data"
    }
   ],
   "source": [
    "δ_grid, α_grid = np.meshgrid(δs, αs)\n",
    "normalize = lambda a: a / np.nanmax(a)\n",
    "fig, ax = plt.subplots(ncols=5, figsize=(20, 4), sharey=True, sharex=True)\n",
    "\n",
    "for i in range(5):\n",
    "    im = ax[i].pcolor(δ_grid, α_grid, normalize(EJSD_GRID[i, :, :]))\n",
    "    ax[i].set_xscale('log')\n",
    "\n",
    "fig.subplots_adjust(right=0.95)\n",
    "cbar_ax = fig.add_axes([0.98, 0.125, 0.01, 0.75])\n",
    "fig.colorbar(im, cax=cbar_ax)\n",
    "plt.show()"
   ]
  },
  {
   "cell_type": "code",
   "execution_count": null,
   "id": "d4a1303f",
   "metadata": {},
   "outputs": [],
   "source": []
  }
 ],
 "metadata": {
  "kernelspec": {
   "display_name": "Python 3 (ipykernel)",
   "language": "python",
   "name": "python3"
  },
  "language_info": {
   "codemirror_mode": {
    "name": "ipython",
    "version": 3
   },
   "file_extension": ".py",
   "mimetype": "text/x-python",
   "name": "python",
   "nbconvert_exporter": "python",
   "pygments_lexer": "ipython3",
   "version": "3.10.4"
  }
 },
 "nbformat": 4,
 "nbformat_minor": 5
}
