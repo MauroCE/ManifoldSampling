{
 "cells": [
  {
   "cell_type": "code",
   "execution_count": 83,
   "id": "13c04300",
   "metadata": {},
   "outputs": [],
   "source": [
    "from scipy.stats import multivariate_normal as MVN\n",
    "from scipy.stats import norm as normal\n",
    "import numpy as np\n",
    "from numpy.random import randn, uniform, randint, choice\n",
    "from numpy import zeros, eye, arange, sort, setdiff1d, log\n",
    "from numpy.linalg import norm\n",
    "from tangential_hug_functions import Hug, HugTangential\n",
    "from utils import ESS, ESS_univariate\n",
    "import time\n",
    "from scipy.optimize import fsolve\n",
    "from utils import rangeof"
   ]
  },
  {
   "cell_type": "markdown",
   "id": "027a83aa",
   "metadata": {},
   "source": [
    "Parameters $\\theta = \\sigma\\in\\mathbb{R}$. Latents $z\\in\\mathbb{R}^n$. Overall $\\xi = (\\theta, z)\\in\\mathbb{R}^{n+1}$. The prior distribution is \n",
    "$$\n",
    "p(\\xi) = p(\\theta) p(z) = \\mathcal{U}(\\theta \\mid 0, 10) \\mathcal{N}(z\\mid0, I_{n})\n",
    "$$\n",
    "We use the Epanechnikov kernel \n",
    "$$\n",
    "k_\\epsilon(\\xi) = \\frac{1}{\\epsilon}\\left[\\frac{3}{4}\\left(1 - \\frac{\\|f(\\xi) - y^*\\|^2}{\\epsilon^2}\\right)\\mathbb{I}\\left\\{\\| f(\\xi) - y^*\\| \\leq \\epsilon\\right\\}\\right]\n",
    "$$\n",
    "The target distribution is then\n",
    "$$\n",
    "\\pi(\\xi) = p(\\xi) k_\\epsilon(\\xi)\n",
    "$$\n",
    "The deterministic function is $f:\\mathbb{R}^{n+1}\\to\\mathbb{R}^n$. Here, however, we consider the modified function\n",
    "$$\n",
    "h(\\xi) = \\| f(\\xi) - y^*\\|\n",
    "$$\n",
    "So that the manifold is\n",
    "$$\n",
    "\\mathcal{M} = \\{\\xi\\in\\mathbb{R}^{n+1}:\\, h(\\xi) = 0\\} = \\{\\xi\\in\\mathbb{R}^{n+1}:\\, \\| f(\\xi) - y^*\\| = 0\\} = \\{\\xi\\in\\mathbb{R}^{n+1}\\,:\\, f(\\xi) = y^*\\}\n",
    "$$\n",
    "The nearby manifolds that we will be considering are\n",
    "$$\n",
    "\\mathcal{M}_\\epsilon = \\{\\xi\\in\\mathbb{R}^{n+1}\\,:\\,h(\\xi) = \\epsilon\\} = \\{\\xi\\in\\mathbb{R}^{n+1}\\,:\\, \\| f(\\xi) - y^*\\| = \\epsilon\\}\n",
    "$$"
   ]
  },
  {
   "cell_type": "markdown",
   "id": "cdc45413",
   "metadata": {},
   "source": [
    "Prior distribution is $p(\\xi) = p(\\sigma) p(z) = \\mathcal{U}(\\sigma\\mid 0, 10) \\mathcal{N}(z\\mid 0, I_n)$. The simulator can be viewed as a deterministic function $f:\\Xi\\to\\mathcal{Y}$ but here we will consider the normalized function $h(\\xi) = \\|f(\\xi) - y^*\\|$. We use an Epanechnikov kernel to measure the distance between $h(\\xi)$ and $0$, so $k_\\epsilon(\\xi) = \\epsilon^{-1} k(h(\\xi) / \\epsilon)$ with\n",
    "$$\n",
    "k_\\epsilon(\\xi) = \\frac{1}{\\epsilon}\\left[\\frac{3}{4}\\left(1 - \\frac{\\|f(\\xi) - y^*\\|^2}{\\epsilon^2}\\right)\\mathbb{I}\\left\\{\\| f(\\xi) - y^*\\| \\leq \\epsilon\\right\\}\\right]\n",
    "$$\n",
    "When moving with Hug/Thug we follow the manifolds\n",
    "$$\n",
    "\\mathcal{M}_\\epsilon = \\{\\xi\\,:\\, h(\\xi) = \\epsilon\\}\n",
    "$$\n",
    "and therefore we use the gradient $h(\\xi)$ which is given by\n",
    "$$\n",
    "\\nabla_\\xi h(\\xi) = \\frac{1}{\\epsilon}J_f(\\xi)^\\top (f(\\xi) - y^*)\n",
    "$$"
   ]
  },
  {
   "cell_type": "code",
   "execution_count": 104,
   "id": "e2efb7bd",
   "metadata": {},
   "outputs": [],
   "source": [
    "import numpy as np\n",
    "from numpy import load, arange, linspace\n",
    "import matplotlib.pyplot as plt\n",
    "from utils import box_plot, num_grad_hug_hop, num_grad_thug_hop\n",
    "np.set_printoptions(suppress=True)"
   ]
  },
  {
   "cell_type": "code",
   "execution_count": 105,
   "id": "63862721",
   "metadata": {},
   "outputs": [],
   "source": [
    "folder = \"experiment31/\" \n",
    "\n",
    "# HUG\n",
    "THETA_ESS_HUG = load(folder + \"THETA_ESS_HUG.npy\")\n",
    "U_ESS_HUG     = load(folder + \"U_ESS_HUG.npy\")\n",
    "ESS_HUG       = load(folder + \"ESS_JOINT_HUG.npy\")\n",
    "ESS_HUG_TOT   = load(folder + \"ESS_JOINT_TOT_HUG.npy\")\n",
    "LOGPI_ESS_HUG = load(folder + \"LOGPI_ESS_HUG.npy\")\n",
    "A_HUG         = load(folder + \"A_HUG.npy\")\n",
    "RMSE_HUG      = load(folder + \"RMSE_HUG.npy\")\n",
    "EJSD_HUG      = load(folder + \"EJSD_HUG.npy\")\n",
    "G_EJSD_HUG    = load(folder + \"G_EJSD_HUG.npy\")\n",
    "T_EJSD_HUG    = load(folder + \"T_EJSD_HUG.npy\")\n",
    "A_HOP_HUG     = load(folder + \"A_HOP_HUG.npy\")\n",
    "N_UNIQUE_HUG  = load(folder + \"N_UNIQUE_HUG.npy\")\n",
    "TIME_HUG      = load(folder + \"TIME_HUG.npy\")\n",
    "\n",
    "\n",
    "# HUG AR\n",
    "THETA_ESS_THUG = load(folder + \"THETA_ESS_THUG.npy\")\n",
    "U_ESS_THUG     = load(folder + \"U_ESS_THUG.npy\")\n",
    "LOGPI_ESS_THUG = load(folder + \"LOGPI_ESS_THUG.npy\")\n",
    "ESS_THUG       = load(folder + \"ESS_JOINT_THUG.npy\")\n",
    "ESS_THUG_TOT   = load(folder + \"ESS_JOINT_TOT_THUG.npy\")\n",
    "A_THUG         = load(folder + \"A_THUG.npy\")\n",
    "RMSE_THUG      = load(folder + \"RMSE_THUG.npy\")\n",
    "EJSD_THUG      = load(folder + \"EJSD_THUG.npy\")\n",
    "G_EJSD_THUG    = load(folder + \"G_EJSD_THUG.npy\")\n",
    "T_EJSD_THUG    = load(folder + \"T_EJSD_THUG.npy\")\n",
    "A_HOP_THUG     = load(folder + \"A_HOP_THUG.npy\")\n",
    "N_UNIQUE_THUG  = load(folder + \"N_UNIQUE_THUG.npy\")\n",
    "DELTA_K        = load(folder + \"DELTA_K.npy\")\n",
    "DELTA_L        = load(folder + \"DELTA_L.npy\")\n",
    "A_FLAG         = load(folder + \"A_FLAG_THUG.npy\")\n",
    "TIME_THUG      = load(folder + \"TIME_THUG.npy\")\n",
    "\n",
    "\n",
    "# COMMON\n",
    "EPSILONS       = load(folder + \"EPSILONS.npy\")\n",
    "TS             = load(folder + \"TS.npy\")\n",
    "time           = load(folder + \"TIME.npy\")\n",
    "ALPHAS         = load(folder + \"ALPHAS.npy\")\n",
    "N              = load(folder + \"N.npy\")"
   ]
  },
  {
   "cell_type": "code",
   "execution_count": 112,
   "id": "0830e17a",
   "metadata": {},
   "outputs": [
    {
     "data": {
      "image/png": "[encoded data removed]",
      "text/plain": [
       "<Figure size 864x720 with 4 Axes>"
      ]
     },
     "metadata": {
      "needs_background": "light"
     },
     "output_type": "display_data"
    }
   ],
   "source": [
    "string_alphas = ['0.0'] + [str(a) for a in ALPHAS]\n",
    "string_ts = [str(T) for T in TS]\n",
    "data_list = [\n",
    "    np.hstack((ESS_HUG[:, i, :].mean(axis=0).reshape(-1, 1), ESS_THUG[:, i, :, :].mean(axis=0))) for i in range(len(EPSILONS))\n",
    "]\n",
    "data_list = [data / np.max(data) for data in data_list]\n",
    "fig, ax = plt.subplots(nrows=2, ncols=2, figsize=(12,10))\n",
    "for i in range(len(EPSILONS)):\n",
    "    ax[i //2, i % 2].imshow(data_list[i], cmap='Reds', vmin=0.0, vmax=1.0)\n",
    "    # draw gridlines\n",
    "    #ax.grid(which='major', axis='both', linestyle='-', color='k', linewidth=2)\n",
    "    ax[i //2, i % 2].set_xticks(np.arange(0.0, len(string_alphas)-0.5, 1));\n",
    "    ax[i //2, i % 2].set_yticks(np.arange(0.0, len(string_ts)-0.5, 1));\n",
    "    ax[i //2, i % 2].set_xticklabels(string_alphas)\n",
    "    ax[i //2, i % 2].set_yticklabels(string_ts)\n",
    "    ax[i //2, i % 2].set_xlabel('$\\\\alpha$', fontsize=20)\n",
    "    ax[i //2, i % 2].set_ylabel('$T$', fontsize=20)\n",
    "    ax[i //2, i % 2].set_title(\"epsilon = {}\".format(EPSILONS[i]))\n",
    "    ax[i //2, i % 2].set_xlim(-0.5, len(string_alphas)-0.5)\n",
    "    ax[i //2, i % 2].set_ylim(len(string_ts)-0.5, -0.5)\n",
    "plt.show()"
   ]
  },
  {
   "cell_type": "code",
   "execution_count": 107,
   "id": "e2a4898e",
   "metadata": {},
   "outputs": [
    {
     "data": {
      "image/png": "[encoded data removed]",
      "text/plain": [
       "<Figure size 864x720 with 4 Axes>"
      ]
     },
     "metadata": {
      "needs_background": "light"
     },
     "output_type": "display_data"
    }
   ],
   "source": [
    "string_alphas = ['0.0'] + [str(a) for a in ALPHAS]\n",
    "string_ts = [str(T) for T in TS]\n",
    "data_list = [\n",
    "    np.hstack((EJSD_HUG[:, i, :].mean(axis=0).reshape(-1, 1), EJSD_THUG[:, i, :, :].mean(axis=0))) for i in range(len(EPSILONS))\n",
    "]\n",
    "data_list = [data / np.max(data) for data in data_list]\n",
    "fig, ax = plt.subplots(nrows=2, ncols=2, figsize=(12,10))\n",
    "for i in range(len(EPSILONS)):\n",
    "    ax[i //2, i % 2].imshow(data_list[i], cmap='Reds', vmin=0.0, vmax=1.0)\n",
    "    # draw gridlines\n",
    "    #ax.grid(which='major', axis='both', linestyle='-', color='k', linewidth=2)\n",
    "    ax[i //2, i % 2].set_xticks(np.arange(0.0, len(string_alphas)-0.5, 1));\n",
    "    ax[i //2, i % 2].set_yticks(np.arange(0.0, len(string_ts)-0.5, 1));\n",
    "    ax[i //2, i % 2].set_xticklabels(string_alphas)\n",
    "    ax[i //2, i % 2].set_yticklabels(string_ts)\n",
    "    ax[i //2, i % 2].set_xlabel('$\\\\alpha$', fontsize=20)\n",
    "    ax[i //2, i % 2].set_ylabel('$T$', fontsize=20)\n",
    "    ax[i //2, i % 2].set_title(\"epsilon = {}\".format(EPSILONS[i]))\n",
    "    ax[i //2, i % 2].set_xlim(-0.5, len(string_alphas)-0.5)\n",
    "    ax[i //2, i % 2].set_ylim(len(string_ts)-0.5, -0.5)\n",
    "plt.show()"
   ]
  },
  {
   "cell_type": "code",
   "execution_count": 108,
   "id": "72821c17",
   "metadata": {},
   "outputs": [
    {
     "data": {
      "image/png": "[encoded data removed]",
      "text/plain": [
       "<Figure size 864x720 with 4 Axes>"
      ]
     },
     "metadata": {
      "needs_background": "light"
     },
     "output_type": "display_data"
    }
   ],
   "source": [
    "string_alphas = ['0.0'] + [str(a) for a in ALPHAS]\n",
    "string_ts = [str(T) for T in TS]\n",
    "data_list = [\n",
    "    np.hstack((A_HUG[:, i, :].mean(axis=0).reshape(-1, 1), A_THUG[:, i, :, :].mean(axis=0))) for i in range(len(EPSILONS))\n",
    "]\n",
    "data_list = [data / np.max(data) for data in data_list]\n",
    "fig, ax = plt.subplots(nrows=2, ncols=2, figsize=(12,10))\n",
    "for i in range(len(EPSILONS)):\n",
    "    ax[i //2, i % 2].imshow(data_list[i], cmap='Reds', vmin=0.0, vmax=1.0)\n",
    "    # draw gridlines\n",
    "    #ax.grid(which='major', axis='both', linestyle='-', color='k', linewidth=2)\n",
    "    ax[i //2, i % 2].set_xticks(np.arange(0.0, len(string_alphas)-0.5, 1));\n",
    "    ax[i //2, i % 2].set_yticks(np.arange(0.0, len(string_ts)-0.5, 1));\n",
    "    ax[i //2, i % 2].set_xticklabels(string_alphas)\n",
    "    ax[i //2, i % 2].set_yticklabels(string_ts)\n",
    "    ax[i //2, i % 2].set_xlabel('$\\\\alpha$', fontsize=20)\n",
    "    ax[i //2, i % 2].set_ylabel('$T$', fontsize=20)\n",
    "    ax[i //2, i % 2].set_title(\"epsilon = {}\".format(EPSILONS[i]))\n",
    "    ax[i //2, i % 2].set_xlim(-0.5, len(string_alphas)-0.5)\n",
    "    ax[i //2, i % 2].set_ylim(len(string_ts)-0.5, -0.5)\n",
    "plt.show()"
   ]
  },
  {
   "cell_type": "code",
   "execution_count": 114,
   "id": "efd991e4",
   "metadata": {},
   "outputs": [
    {
     "data": {
      "image/png": "[encoded data removed]",
      "text/plain": [
       "<Figure size 864x720 with 4 Axes>"
      ]
     },
     "metadata": {
      "needs_background": "light"
     },
     "output_type": "display_data"
    }
   ],
   "source": [
    "string_alphas = ['0.0'] + [str(a) for a in ALPHAS]\n",
    "string_ts = [str(T) for T in TS]\n",
    "data_list = [\n",
    "    np.hstack((LOGPI_ESS_HUG[:, i, :].mean(axis=0).reshape(-1, 1), LOGPI_ESS_THUG[:, i, :, :].mean(axis=0))) for i in range(len(EPSILONS))\n",
    "]\n",
    "data_list = [data / np.max(data) for data in data_list]\n",
    "fig, ax = plt.subplots(nrows=2, ncols=2, figsize=(12,10))\n",
    "for i in range(len(EPSILONS)):\n",
    "    ax[i //2, i % 2].imshow(data_list[i], cmap='Reds', vmin=0.0, vmax=1.0)\n",
    "    # draw gridlines\n",
    "    #ax.grid(which='major', axis='both', linestyle='-', color='k', linewidth=2)\n",
    "    ax[i //2, i % 2].set_xticks(np.arange(0.0, len(string_alphas)-0.5, 1));\n",
    "    ax[i //2, i % 2].set_yticks(np.arange(0.0, len(string_ts)-0.5, 1));\n",
    "    ax[i //2, i % 2].set_xticklabels(string_alphas)\n",
    "    ax[i //2, i % 2].set_yticklabels(string_ts)\n",
    "    ax[i //2, i % 2].set_xlabel('$\\\\alpha$', fontsize=20)\n",
    "    ax[i //2, i % 2].set_ylabel('$T$', fontsize=20)\n",
    "    ax[i //2, i % 2].set_title(\"epsilon = {}\".format(EPSILONS[i]))\n",
    "    ax[i //2, i % 2].set_xlim(-0.5, len(string_alphas)-0.5)\n",
    "    ax[i //2, i % 2].set_ylim(len(string_ts)-0.5, -0.5)\n",
    "plt.show()"
   ]
  },
  {
   "cell_type": "code",
   "execution_count": 123,
   "id": "6ffc3f1a",
   "metadata": {},
   "outputs": [
    {
     "data": {
      "text/plain": [
       "array([14.33787335, 10.59023173, 45.30085734])"
      ]
     },
     "execution_count": 123,
     "metadata": {},
     "output_type": "execute_result"
    }
   ],
   "source": [
    "LOGPI_ESS_HUG[:, 0, :].mean(axis=0)"
   ]
  },
  {
   "cell_type": "code",
   "execution_count": 129,
   "id": "80ba69d7",
   "metadata": {},
   "outputs": [
    {
     "data": {
      "text/plain": [
       "array([[15.89620447, 11.96511621,  8.77012892],\n",
       "       [14.90894086,  6.80553263, 12.01227685],\n",
       "       [35.46832104, 43.69602718, 34.33413602]])"
      ]
     },
     "execution_count": 129,
     "metadata": {},
     "output_type": "execute_result"
    }
   ],
   "source": [
    "LOGPI_ESS_THUG[:, 0, :, :].mean(axis=0)"
   ]
  },
  {
   "cell_type": "code",
   "execution_count": 1025,
   "id": "6ec28f43",
   "metadata": {},
   "outputs": [],
   "source": [
    "rej = (1 - A_FLAG[0, 0, -1, 1]).astype('bool') # True means it has been rejected\n",
    "acc = A_FLAG[0, 0, -1, 1].astype('bool')"
   ]
  },
  {
   "cell_type": "code",
   "execution_count": 1026,
   "id": "05f62e17",
   "metadata": {},
   "outputs": [
    {
     "data": {
      "text/plain": [
       "array([  -7401.95097595, -148823.65764892,  -37176.4091513 , ...,\n",
       "         -2959.92454291,     -26.25543534,      -0.24862463])"
      ]
     },
     "execution_count": 1026,
     "metadata": {},
     "output_type": "execute_result"
    }
   ],
   "source": [
    "DELTA_K[0, 0, -1, 1, rej]"
   ]
  },
  {
   "cell_type": "code",
   "execution_count": 1039,
   "id": "e13d5e2c",
   "metadata": {},
   "outputs": [
    {
     "data": {
      "text/plain": [
       "(-255186.6526596601, 0.4061544570731357)"
      ]
     },
     "execution_count": 1039,
     "metadata": {},
     "output_type": "execute_result"
    }
   ],
   "source": [
    "rangeof(DELTA_K[0, 0, -1, 1, rej])"
   ]
  },
  {
   "cell_type": "code",
   "execution_count": 1040,
   "id": "c4efcbfc",
   "metadata": {},
   "outputs": [
    {
     "data": {
      "text/plain": [
       "(-4.140731464236474, 3.2132003703159313)"
      ]
     },
     "execution_count": 1040,
     "metadata": {},
     "output_type": "execute_result"
    }
   ],
   "source": [
    "rangeof(DELTA_K[0, 0, -1, 1, acc])"
   ]
  },
  {
   "cell_type": "code",
   "execution_count": 1042,
   "id": "a68db567",
   "metadata": {},
   "outputs": [
    {
     "data": {
      "text/plain": [
       "(-255186.7754728883, -0.06811935473103858)"
      ]
     },
     "execution_count": 1042,
     "metadata": {},
     "output_type": "execute_result"
    }
   ],
   "source": [
    "rangeof(DELTA_K[0, 0, -1, 1, rej] + DELTA_L[0, 0, -1, 1, rej])"
   ]
  },
  {
   "cell_type": "code",
   "execution_count": 1043,
   "id": "c3f0a868",
   "metadata": {},
   "outputs": [
    {
     "data": {
      "text/plain": [
       "(-3.773862057043253, 3.797337197863115)"
      ]
     },
     "execution_count": 1043,
     "metadata": {},
     "output_type": "execute_result"
    }
   ],
   "source": [
    "rangeof(DELTA_K[0, 0, -1, 1, acc] + DELTA_L[0, 0, -1, 1, acc])"
   ]
  },
  {
   "cell_type": "code",
   "execution_count": 1052,
   "id": "d0ad1b16",
   "metadata": {},
   "outputs": [
    {
     "data": {
      "text/plain": [
       "<matplotlib.collections.LineCollection at 0x17de80100>"
      ]
     },
     "execution_count": 1052,
     "metadata": {},
     "output_type": "execute_result"
    },
    {
     "data": {
      "image/png": "[encoded data removed]",
      "text/plain": [
       "<Figure size 432x288 with 1 Axes>"
      ]
     },
     "metadata": {
      "needs_background": "light"
     },
     "output_type": "display_data"
    }
   ],
   "source": [
    "_ = plt.hist(DELTA_K[0, 0, -1, 1, rej], bins=100)\n",
    "plt.vlines(-0.69, 0.0, 5000, color='red')"
   ]
  },
  {
   "cell_type": "code",
   "execution_count": 1054,
   "id": "a98b09ff",
   "metadata": {},
   "outputs": [
    {
     "data": {
      "text/plain": [
       "array([  -7401.95097595, -148823.65764892,  -37176.4091513 , ...,\n",
       "         -2959.92454291,     -26.25543534,      -0.24862463])"
      ]
     },
     "execution_count": 1054,
     "metadata": {},
     "output_type": "execute_result"
    }
   ],
   "source": [
    "DELTA_K[0, 0, -1, 1, rej]"
   ]
  },
  {
   "cell_type": "code",
   "execution_count": 1062,
   "id": "6ce3271c",
   "metadata": {},
   "outputs": [
    {
     "data": {
      "text/plain": [
       "9602"
      ]
     },
     "execution_count": 1062,
     "metadata": {},
     "output_type": "execute_result"
    }
   ],
   "source": [
    "((-2 * DELTA_K[0, 0, -1, 1, rej]) > 0).sum()"
   ]
  },
  {
   "cell_type": "code",
   "execution_count": null,
   "id": "53f5f583",
   "metadata": {},
   "outputs": [],
   "source": []
  },
  {
   "cell_type": "code",
   "execution_count": null,
   "id": "21f6c343",
   "metadata": {},
   "outputs": [],
   "source": []
  },
  {
   "cell_type": "code",
   "execution_count": null,
   "id": "4641fc92",
   "metadata": {},
   "outputs": [],
   "source": []
  },
  {
   "cell_type": "code",
   "execution_count": 937,
   "id": "a9be2a9c",
   "metadata": {},
   "outputs": [],
   "source": [
    "perc_delta_k_toobig = lambda ixr, ixe, ixt, ixa: (np.sum((np.sign(RATIOS[ixr,ixe,ixt,ixa, :]) != SIGNS[ixr,ixe,ixt,ixa,:]) & (SIGNS[ixr,ixe,ixt,ixa,:] < 0.0) & (abs(RATIOS[ixr,ixe,ixt,ixa,:]) < 1.0)) * 100 / N)[0]"
   ]
  },
  {
   "cell_type": "code",
   "execution_count": null,
   "id": "14044581",
   "metadata": {},
   "outputs": [],
   "source": []
  },
  {
   "cell_type": "code",
   "execution_count": null,
   "id": "ec64f87b",
   "metadata": {},
   "outputs": [],
   "source": []
  },
  {
   "cell_type": "code",
   "execution_count": 792,
   "id": "37ba3478",
   "metadata": {},
   "outputs": [
    {
     "data": {
      "text/plain": [
       "array([0.5, 0.3, 0.1])"
      ]
     },
     "execution_count": 792,
     "metadata": {},
     "output_type": "execute_result"
    }
   ],
   "source": []
  },
  {
   "cell_type": "code",
   "execution_count": 793,
   "id": "4604e222",
   "metadata": {},
   "outputs": [
    {
     "data": {
      "text/plain": [
       "array([416.56145887, 340.29214782, 155.13432689])"
      ]
     },
     "execution_count": 793,
     "metadata": {},
     "output_type": "execute_result"
    }
   ],
   "source": [
    "run_ix = 0\n",
    "eps_ix = 0\n",
    "t_ix = [0, 1, 2]\n",
    "ESS_HUG[run_ix, eps_ix, t_ix]"
   ]
  },
  {
   "cell_type": "code",
   "execution_count": 794,
   "id": "35691524",
   "metadata": {},
   "outputs": [
    {
     "data": {
      "text/plain": [
       "array([2793.16656267,  155.96054956])"
      ]
     },
     "execution_count": 794,
     "metadata": {},
     "output_type": "execute_result"
    }
   ],
   "source": [
    "run_ix = 0\n",
    "eps_ix = 0\n",
    "t_ix = 2\n",
    "alp_ix = [0, 1]\n",
    "ESS_THUG[run_ix, eps_ix, t_ix, alp_ix]"
   ]
  },
  {
   "cell_type": "code",
   "execution_count": 1158,
   "id": "4bd8aa96",
   "metadata": {},
   "outputs": [
    {
     "data": {
      "text/plain": [
       "array([[24.62, 47.49, 81.48],\n",
       "       [28.95, 49.25, 80.96],\n",
       "       [31.04, 51.95, 80.66],\n",
       "       [31.51, 53.94, 81.3 ]])"
      ]
     },
     "execution_count": 1158,
     "metadata": {},
     "output_type": "execute_result"
    }
   ],
   "source": [
    "A_HUG[0]"
   ]
  },
  {
   "cell_type": "code",
   "execution_count": 1159,
   "id": "e96179bc",
   "metadata": {},
   "outputs": [
    {
     "data": {
      "text/plain": [
       "array([[[24.58, 24.64, 24.61, 24.  , 24.44],\n",
       "        [47.92, 47.81, 47.32, 46.98, 45.81],\n",
       "        [72.63, 67.9 , 56.52, 38.13, 22.18]],\n",
       "\n",
       "       [[27.47, 27.61, 27.23, 25.65, 23.64],\n",
       "        [49.2 , 48.49, 48.72, 47.68, 44.72],\n",
       "        [74.72, 65.61, 52.4 , 43.42, 20.43]],\n",
       "\n",
       "       [[30.27, 29.27, 27.59, 24.6 , 19.11],\n",
       "        [51.29, 51.03, 49.33, 45.34, 40.45],\n",
       "        [74.03, 68.63, 62.23, 44.41, 15.63]],\n",
       "\n",
       "       [[25.74, 22.52, 18.29, 12.49,  7.65],\n",
       "        [51.15, 50.25, 48.04, 41.38, 35.6 ],\n",
       "        [76.67, 73.53, 48.32, 27.28, 16.73]]])"
      ]
     },
     "execution_count": 1159,
     "metadata": {},
     "output_type": "execute_result"
    }
   ],
   "source": [
    "A_THUG[0]"
   ]
  },
  {
   "cell_type": "code",
   "execution_count": 1118,
   "id": "d6a10ad1",
   "metadata": {},
   "outputs": [
    {
     "data": {
      "text/plain": [
       "(2, 4, 3, 4)"
      ]
     },
     "execution_count": 1118,
     "metadata": {},
     "output_type": "execute_result"
    }
   ],
   "source": [
    "A_THUG.shape"
   ]
  },
  {
   "cell_type": "code",
   "execution_count": null,
   "id": "7c6369ed",
   "metadata": {},
   "outputs": [],
   "source": []
  },
  {
   "cell_type": "code",
   "execution_count": null,
   "id": "0605a592",
   "metadata": {},
   "outputs": [],
   "source": []
  },
  {
   "cell_type": "code",
   "execution_count": 953,
   "id": "90172406",
   "metadata": {},
   "outputs": [
    {
     "data": {
      "text/plain": [
       "array([95.85])"
      ]
     },
     "execution_count": 953,
     "metadata": {},
     "output_type": "execute_result"
    }
   ],
   "source": [
    "np.sum(abs(RATIOS[0, 0, -1, -1]) < 1.0) * 100 / N"
   ]
  },
  {
   "cell_type": "code",
   "execution_count": 954,
   "id": "6151e6c6",
   "metadata": {},
   "outputs": [
    {
     "data": {
      "text/plain": [
       "array([86.38])"
      ]
     },
     "execution_count": 954,
     "metadata": {},
     "output_type": "execute_result"
    }
   ],
   "source": [
    "np.sum(abs(RATIOS[0, 0, -1, -1]) < 0.1) * 100 / N"
   ]
  },
  {
   "cell_type": "code",
   "execution_count": 955,
   "id": "54e73f82",
   "metadata": {},
   "outputs": [
    {
     "data": {
      "text/plain": [
       "array([83.7])"
      ]
     },
     "execution_count": 955,
     "metadata": {},
     "output_type": "execute_result"
    }
   ],
   "source": [
    "np.sum(abs(RATIOS[0, 0, -1, 0]) < 1.0) * 100 / N"
   ]
  },
  {
   "cell_type": "code",
   "execution_count": 1,
   "id": "fdd6b45a",
   "metadata": {},
   "outputs": [],
   "source": [
    "# Experiment 31: HUG+HOP vs THUG+HOP. Gaussian example from \"A rare-event approach to high-dimensional ABC\".\n",
    "import numpy as np\n",
    "from numpy import zeros, diag, eye, log, sqrt, vstack, mean, save, exp, linspace, pi\n",
    "from numpy.linalg import solve, norm\n",
    "from scipy.stats import multivariate_normal as MVN\n",
    "from scipy.stats.stats import sigmaclip\n",
    "from scipy.optimize import fsolve\n",
    "from tangential_hug_functions import HugTangentialStepEJSD_Deterministic_Delta, Hop_Deterministic, HugStepEJSD_Deterministic\n",
    "from utils import ESS_univariate, ESS, n_unique\n",
    "from numpy.random import normal, rand, uniform, randn\n",
    "from statsmodels.tsa.stattools import acf\n",
    "from Manifolds.RotatedEllipse import RotatedEllipse\n",
    "import time\n",
    "from warnings import catch_warnings, filterwarnings\n",
    "\n",
    "\n",
    "def f(xi): # Input R^n. Output R^{n-1}.\n",
    "    \"\"\"Simulator. Takes \\\\xi = (\\\\theta, z) and returns y. This is a deterministic function.\"\"\"\n",
    "    return xi[0] * xi[1:]\n",
    "\n",
    "def f_broadcast(xi_matrix):\n",
    "    \"\"\"Computes f(xi) for each row of xi_matrix. Xi_matrix has dimension (N, n).\"\"\"\n",
    "    return f(xi_matrix.T).T\n",
    "\n",
    "def fnorm(xi, ystar): # Input R^n. Output R.\n",
    "    \"\"\"This function is h(\\\\xi) = \\\\|f(\\\\xi) - y*\\\\|. Basically the function defining Chang's manifold.\"\"\"\n",
    "    return norm(f(xi) - ystar)\n",
    "\n",
    "def fnorm_broadcast(xi_matrix, y_star):\n",
    "    \"\"\"Same as fnorm but broadcasted to a whole matrix\"\"\"\n",
    "    return norm(f_broadcast(xi_matrix) - y_star, axis=1)\n",
    "\n",
    "def Jf_transpose(xi): # Input R^n. Output R^{n x m}.\n",
    "    \"\"\"Since f:Rn -> Rm the Jacobian is (m, n). This is the transpose of the Jacobian of f. \"\"\"\n",
    "    return np.vstack((xi[1:], xi[0] * eye(len(xi) - 1)))\n",
    "\n",
    "def grad_fnorm(xi, ystar): # Input R^n. Output R^n.\n",
    "    \"\"\"This is the GRADIENT of h(\\\\xi) i.e. fnorm. Notice that epsilon goes away so it is not important.\"\"\"\n",
    "    return Jf_transpose(xi) @ (f(xi) - ystar)\n",
    "\n",
    "def logprior(xi):\n",
    "    return -log(10) + MVN(zeros(len(xi)-1), eye(len(xi)-1)).logpdf(xi[1:])\n",
    "\n",
    "def logprior_broadcast(xi_matrix):\n",
    "    \"\"\"Same as logprior but broadcasted to a whole matrix.\"\"\"\n",
    "    nz = xi_matrix.shape[1] - 1\n",
    "    return -log(10) + MVN(zeros(nz), eye(nz)).logpdf(xi_matrix[:, 1:])\n",
    "\n",
    "def log_epanechnikov_kernel(xi, epsilon, fnorm, ystar):\n",
    "    u = fnorm(xi, ystar)\n",
    "    with np.errstate(divide='ignore'):\n",
    "        return log((3*(1 - (u**2 / (epsilon**2))) / (4*epsilon)) * float(u <= epsilon))\n",
    "\n",
    "def log_epanechnikov_kernel_broadcast(xi_matrix, epsilon, fnorm_broadcast, y_star):\n",
    "    \"\"\"Same as log_epanechnikov kernel but broadcasted to a matrix.\"\"\"\n",
    "    u = fnorm_broadcast(xi_matrix, y_star)\n",
    "    with np.errstate(divide='ignore'):\n",
    "        return log((3*(1 - (u**2 / (epsilon**2))) / (4*epsilon)) * (u <= epsilon).astype('float')) \n",
    "\n",
    "def log_abc_posterior(xi, epsilon):\n",
    "    \"\"\"Log density of ABC posterior. Product of (param-latent) prior and Epanechnikov kernel.\"\"\"\n",
    "    return logprior(xi) + log_epanechnikov_kernel(xi, epsilon)\n",
    "\n",
    "def log_abc_posterior_broadcast(xi_matrix, epsilon):\n",
    "    \"\"\"Same as log_abc_posterior but broadcasted to a matrix.\"\"\"\n",
    "    return logprior_broadcast(xi_matrix) + log_epanechnikov_kernel_broadcast(xi_matrix, epsilon)\n",
    "\n",
    "def check(x, name):\n",
    "    \"\"\"This way ESS will always work.\"\"\"\n",
    "    if type(x) == float or type(x) == np.float64:\n",
    "        return float(x)   # Works\n",
    "    elif type(x) == np.ndarray:\n",
    "        if np.isnan(x).any():\n",
    "            print(\"NaN found.\")\n",
    "            x[np.isnan(x)] = 0.0\n",
    "        if np.iscomplex(x).any():\n",
    "            print(\"Complex found.\")\n",
    "            x[np.iscomplex(x)] = 0.0\n",
    "        return x\n",
    "    elif type(x) == complex:\n",
    "        print(name, \": \", x)\n",
    "        return 0.0\n",
    "    else:\n",
    "        print(name, \": \", x, \" type: \", type(x))\n",
    "        return 0.0"
   ]
  },
  {
   "cell_type": "code",
   "execution_count": 44,
   "id": "bd7d20d8",
   "metadata": {},
   "outputs": [],
   "source": [
    "\n",
    "def experiment(x00, T, B, N, lam, kappa, epsilon, alphas, q, fnorm, y_star):\n",
    "    \"\"\"Runs Hug+Hop and THUG+HOP using the same velocities and the same random seeds.\n",
    "    We also try to limit the noise in the HOP kernel by sampling the u variables beforehand.\n",
    "    I run THUG for all values of alpha with the randomness fixed. \n",
    "    This is 1 run, for 1 epsilon. It does 1 HUG+HOP and then THUG+HOP for all alphas.\n",
    "    T1: T for HUG\n",
    "    T2: T for THUG\n",
    "    \"\"\"\n",
    "    ### COMMON VARIABLES\n",
    "    d = len(x00)\n",
    "    v = q.rvs(N)\n",
    "    log_uniforms1 = log(rand(N))     # Log uniforms for the HUG kernels\n",
    "    log_uniforms2 = log(rand(N))     # Log uniforms for the HOP kernel\n",
    "    u = MVN(zeros(d), eye(d)).rvs(N) # Original velocities for HOP kernel\n",
    "    n_alphas = len(alphas)\n",
    "    ### STORAGE (HUG + HOP)\n",
    "    hh = x00              # Initial sample\n",
    "    ahh1 = 0.0       # Acceptance probability for HUG kernel\n",
    "    ahh2 = 0.0       # Acceptance probability for HOP kernel (when used with HUG)\n",
    "    ehh = 0.0             # EJSD \n",
    "    eghh = 0.0            # EJSD in Gradient direction \n",
    "    ethh = 0.0            # EJSD in Tangent direction \n",
    "    ### STORAGE (THUG + HOP) I MUST STORE FOR ALL ALPHAS\n",
    "    ath1 = zeros(n_alphas)\n",
    "    ath2 = zeros(n_alphas)\n",
    "    eth  = zeros(n_alphas)\n",
    "    egth = zeros(n_alphas)\n",
    "    etth = zeros(n_alphas)\n",
    "    dkth = zeros((n_alphas, N))  # delta k\n",
    "    dlth = zeros((n_alphas, N))  # delta l\n",
    "    afth = zeros((n_alphas, N))  # acceptance flag for THUG\n",
    "    ### ADDITIONAL STORAGE FOR THUG\n",
    "    th_esst = zeros(n_alphas)\n",
    "    th_essu = zeros(n_alphas)\n",
    "    th_essj = zeros(n_alphas)\n",
    "    th_essjtot = zeros(n_alphas)\n",
    "    th_ess_logpi = zeros(n_alphas)\n",
    "    th_rmse = zeros(n_alphas)\n",
    "    th_uniq = zeros(n_alphas)\n",
    "    th_time = zeros(n_alphas)\n",
    "    th_samples = zeros((n_alphas, 2*N, d))\n",
    "    ### Redefine functions\n",
    "    log_kernel = lambda xi, epsilon: log_epanechnikov_kernel(xi, epsilon, fnorm, y_star)\n",
    "    log_kernel_broadcast = lambda xi, epsilon: log_epanechnikov_kernel_broadcast(xi, epsilon, fnorm_broadcast, y_star)\n",
    "    log_post   = lambda xi: logprior(xi) + log_kernel(xi, epsilon)\n",
    "    log_post_broadcast = lambda xi: logprior_broadcast(xi) + log_kernel_broadcast(xi, epsilon)\n",
    "    grad_log_sim = lambda xi: grad_fnorm(xi, y_star)\n",
    "    ### HUG + HOP\n",
    "    hh_start = time.time()\n",
    "    x = x00\n",
    "    for i in range(N):\n",
    "        y, a1, e, eg, et = HugStepEJSD_Deterministic(x, v[i], log_uniforms1[i], T, B, q, log_post, grad_log_sim)\n",
    "        x, a2 = Hop_Deterministic(y, u[i], log_uniforms2[i], lam, kappa, log_post, grad_log_sim)\n",
    "        hh = vstack((hh, y, x))\n",
    "        ahh1 += a1 * 100 / N\n",
    "        ahh2 += a2 * 100 / N\n",
    "        ehh += e / N\n",
    "        eghh += eg / N \n",
    "        ethh += et / N \n",
    "    # COMPUTE ESS AND OTHER METRICS FOR HUG\n",
    "    hh = hh[1:]\n",
    "    hh_esst = ESS_univariate(hh[::2, 0])     # ESS for theta (Hug)\n",
    "    hh_essu = ESS(hh[::2, 1:])               # ESS for u     (Hug)\n",
    "    hh_essj = ESS(hh[::2])                   # ESS joint     (Hug)\n",
    "    hh_ess_logpi = ESS_univariate(log_post_broadcast(hh[::2])) # ESS on logpi (Hug)\n",
    "    hh_essjtot = ESS(hh)                     # ESS joint     (Hug + Hop)\n",
    "    hh_rmse = sqrt(mean((f_broadcast(hh) - y_star)**2)) # RMSE on energy\n",
    "    hh_uniq = n_unique(hh)                             # Number of unique samples\n",
    "    hh_time = time.time() - hh_start\n",
    "    ### THUG + HOP\n",
    "    for k, alpha in enumerate(alphas):\n",
    "        th_start = time.time()\n",
    "        x = x00\n",
    "        th = x00      # RESTART THE SAMPLES FROM SCRATCH\n",
    "        for i in range(N):\n",
    "            y, a1, e, eg, et, dk, dl = HugTangentialStepEJSD_Deterministic_Delta(x, v[i], log_uniforms1[i], T, B, alpha, q, log_post, grad_log_sim)\n",
    "            x, a2 = Hop_Deterministic(y, u[i], log_uniforms2[i], lam, kappa, log_post, grad_log_sim)\n",
    "            th = vstack((th, y, x))\n",
    "            dkth[k, i] = dk \n",
    "            dlth[k, i] = dl\n",
    "            afth[k, i] = a1\n",
    "            ath1[k] += a1 * 100 / N\n",
    "            ath2[k] += a2 * 100 / N\n",
    "            eth[k]  += e / N\n",
    "            egth[k] += eg / N \n",
    "            etth[k] += et / N \n",
    "        th_time[k] = time.time() - th_start\n",
    "        ### COMPUTE ESS AND OTHER METRISC FOR THUG\n",
    "        th = th[1:]\n",
    "        th_esst[k] = ESS_univariate(th[::2, 0])                      # ESS for theta (Thug)\n",
    "        th_essu[k] = check(ESS(th[::2, 1:]), \"Z ESS TH\")             # ESS for u     (Thug)\n",
    "        th_essj[k] = check(ESS(th[::2]), \"ESS TH\")                   # ESS joint     (Thug)\n",
    "        th_ess_logpi[k] = check(ESS_univariate(log_post_broadcast(th[::2])), \"ESS LOGPI TH\")\n",
    "        th_essjtot[k] = check(ESS(th), \"ESS TOT TH\")                 # ESS joint     (Thug + Hop)\n",
    "        th_rmse[k] = sqrt(mean((f_broadcast(th) - y_star)**2))  # RMSE on energy\n",
    "        th_uniq[k] = n_unique(th)                             # Number of unique samples\n",
    "        th_samples[k, :, :] = th\n",
    "    # RETURN EVERYTHING\n",
    "    out = {\n",
    "        'HH': {\n",
    "            'A1': ahh1,\n",
    "            'A2': ahh2,\n",
    "            'E': ehh,\n",
    "            'EG': eghh, \n",
    "            'ET': ethh,\n",
    "            'ESS_T': hh_esst,\n",
    "            'ESS_U': hh_essu,\n",
    "            'ESS_J': hh_essj,\n",
    "            'ESS_LOGPI': hh_ess_logpi,\n",
    "            'ESS_J_TOT': hh_essjtot,\n",
    "            'RMSE': hh_rmse,\n",
    "            'UNIQUE': hh_uniq,\n",
    "            'SAMPLES': hh,\n",
    "            'TIME': hh_time\n",
    "        },\n",
    "        'TH': {\n",
    "            'A1': ath1,\n",
    "            'A2': ath2,\n",
    "            'AF': afth,\n",
    "            'E': eth,\n",
    "            'EG': egth, \n",
    "            'ET': etth, \n",
    "            'ESS_T': th_esst,\n",
    "            'ESS_U': th_essu,\n",
    "            'ESS_J': th_essj,\n",
    "            'ESS_LOGPI': th_ess_logpi,\n",
    "            'ESS_J_TOT': th_essjtot,\n",
    "            'RMSE': th_rmse,\n",
    "            'UNIQUE': th_uniq,\n",
    "            'SAMPLES': th_samples,\n",
    "            'DELTA_K': dkth,\n",
    "            'DELTA_L': dlth,\n",
    "            'TIME': th_time\n",
    "        }\n",
    "    }\n",
    "    return out"
   ]
  },
  {
   "cell_type": "code",
   "execution_count": 45,
   "id": "b33e0020",
   "metadata": {},
   "outputs": [],
   "source": [
    "# Generate observed data\n",
    "nz = 25                               # Number of latents\n",
    "sigma_star, z_star = 3.0, randn(nz)   # Generate original \\theta and z.\n",
    "xi_star = np.r_[sigma_star, z_star]\n",
    "y_star = f(xi_star)\n",
    "\n",
    "# Total dimensionality of \\xi space is nz+1\n",
    "d = nz + 1\n",
    "\n",
    "# Proposal for velocity in HUG/THUG\n",
    "q = MVN(zeros(d), eye(d)) \n",
    "\n",
    "# Need to find a point near the manifold to start with\n",
    "def new_point(nz, fnorm, y_star, d):\n",
    "    with catch_warnings():\n",
    "        filterwarnings('error')\n",
    "        found = False\n",
    "        while not found:\n",
    "            try:\n",
    "                guess = np.r_[uniform(low=0.0, high=10.0), randn(nz)]  # Construct guess\n",
    "                func = lambda xi: np.r_[fnorm(xi, y_star), zeros(d-1)] # Construct function of which we want to find root\n",
    "                point = fsolve(func, guess)\n",
    "                found = True\n",
    "                return point\n",
    "            except Warning:\n",
    "                continue\n",
    "\n",
    "# Settings\n",
    "B = 5 \n",
    "N = 10000\n",
    "kappa = 0.25    \n",
    "n_runs = 2 #15\n",
    "nlags = 20\n",
    "\n",
    "Ts = [0.5, 0.3, 0.1] #[10, 1, 0.1] #[7, 5, 3, 1, 0.1, 0.01]\n",
    "epsilons = [10.0, 5.0, 3.0, 2.0] #[0.1, 0.0001] #[0.1, 0.001, 0.00001, 0.0000001]\n",
    "alphas = [0.6, 0.7, 0.8, 0.9, 0.95]\n",
    "n_epsilons = len(epsilons)\n",
    "n_alphas = len(alphas)\n",
    "n_T = len(Ts)"
   ]
  },
  {
   "cell_type": "code",
   "execution_count": 46,
   "id": "6cdf2d13",
   "metadata": {},
   "outputs": [],
   "source": [
    "initial_point = new_point(nz, fnorm, y_star, d)"
   ]
  },
  {
   "cell_type": "code",
   "execution_count": 47,
   "id": "a87f21e6",
   "metadata": {},
   "outputs": [],
   "source": [
    "ixe = 0 \n",
    "ixt = -1\n",
    "epsilon = epsilons[ixe]\n",
    "lam = epsilon\n",
    "T = Ts[ixt]\n",
    "kappa = 0.25"
   ]
  },
  {
   "cell_type": "code",
   "execution_count": null,
   "id": "3a40e9d8",
   "metadata": {},
   "outputs": [],
   "source": []
  },
  {
   "cell_type": "code",
   "execution_count": 134,
   "id": "5891a27f",
   "metadata": {},
   "outputs": [],
   "source": [
    "import time"
   ]
  },
  {
   "cell_type": "code",
   "execution_count": 138,
   "id": "1c1fb059",
   "metadata": {},
   "outputs": [],
   "source": [
    "out = experiment(initial_point, 1.0, B, N, lam, kappa, epsilon, [0.8, 0.9, 0.92, 0.99], q, fnorm, y_star)"
   ]
  },
  {
   "cell_type": "markdown",
   "id": "567b117c",
   "metadata": {},
   "source": [
    "# 3.0"
   ]
  },
  {
   "cell_type": "code",
   "execution_count": 137,
   "id": "c2532392",
   "metadata": {},
   "outputs": [
    {
     "data": {
      "text/plain": [
       "(10.15004684394744,\n",
       " array([ 6.09669608,  8.32398107, 11.64206327,  5.6420841 ]),\n",
       " 0.01,\n",
       " array([0.02, 0.01, 0.01, 0.01]))"
      ]
     },
     "execution_count": 137,
     "metadata": {},
     "output_type": "execute_result"
    }
   ],
   "source": [
    "out['HH']['ESS_LOGPI'], out['TH']['ESS_LOGPI'], out['HH']['A1'], out['TH']['A1']"
   ]
  },
  {
   "cell_type": "markdown",
   "id": "1b88df23",
   "metadata": {},
   "source": [
    "# 2.0"
   ]
  },
  {
   "cell_type": "code",
   "execution_count": 100,
   "id": "404f4bcd",
   "metadata": {},
   "outputs": [
    {
     "data": {
      "text/plain": [
       "(15.263975604292776,\n",
       " array([ 6.96316458,  6.33030067, 25.63827278,  4.81197115]),\n",
       " 0.07,\n",
       " array([0.1 , 0.04, 0.06, 0.04]))"
      ]
     },
     "execution_count": 100,
     "metadata": {},
     "output_type": "execute_result"
    }
   ],
   "source": [
    "out['HH']['ESS_LOGPI'], out['TH']['ESS_LOGPI'], out['HH']['A1'], out['TH']['A1']"
   ]
  },
  {
   "cell_type": "markdown",
   "id": "ec6e65a0",
   "metadata": {},
   "source": [
    "# 1.5"
   ]
  },
  {
   "cell_type": "code",
   "execution_count": 87,
   "id": "b2350dfc",
   "metadata": {},
   "outputs": [
    {
     "data": {
      "text/plain": [
       "(16.52366531945776,\n",
       " array([14.83207836, 10.77145547, 22.67010747, 24.68524497, 25.96325307]))"
      ]
     },
     "execution_count": 87,
     "metadata": {},
     "output_type": "execute_result"
    }
   ],
   "source": [
    "out['HH']['ESS_LOGPI'], out['TH']['ESS_LOGPI'], out['HH']['A1'], out['TH']['A1']"
   ]
  },
  {
   "cell_type": "markdown",
   "id": "8943e7f4",
   "metadata": {},
   "source": [
    "# 1.0"
   ]
  },
  {
   "cell_type": "code",
   "execution_count": 139,
   "id": "59bc56a0",
   "metadata": {},
   "outputs": [
    {
     "data": {
      "text/plain": [
       "(58.40560815844118,\n",
       " array([11.94985738, 34.47078102, 38.96937645, 17.11628691]),\n",
       " 3.799999999999963,\n",
       " array([3.27, 3.61, 3.46, 2.  ]))"
      ]
     },
     "execution_count": 139,
     "metadata": {},
     "output_type": "execute_result"
    }
   ],
   "source": [
    "out['HH']['ESS_LOGPI'], out['TH']['ESS_LOGPI'], out['HH']['A1'], out['TH']['A1']"
   ]
  },
  {
   "cell_type": "markdown",
   "id": "496bd440",
   "metadata": {},
   "source": [
    "# 0.5, 0.3, 0.1"
   ]
  },
  {
   "cell_type": "code",
   "execution_count": 76,
   "id": "1bf3f3a9",
   "metadata": {},
   "outputs": [
    {
     "data": {
      "text/plain": [
       "44.1919018690603"
      ]
     },
     "execution_count": 76,
     "metadata": {},
     "output_type": "execute_result"
    }
   ],
   "source": [
    "out['HH']['ESS_LOGPI'], out['TH']['ESS_LOGPI'], out['HH']['A1'], out['TH']['A1']"
   ]
  },
  {
   "cell_type": "code",
   "execution_count": null,
   "id": "5b8039e1",
   "metadata": {},
   "outputs": [],
   "source": []
  },
  {
   "cell_type": "code",
   "execution_count": null,
   "id": "9c9a974a",
   "metadata": {},
   "outputs": [],
   "source": []
  },
  {
   "cell_type": "code",
   "execution_count": null,
   "id": "80c7a718",
   "metadata": {},
   "outputs": [],
   "source": []
  }
 ],
 "metadata": {
  "kernelspec": {
   "display_name": "Python 3 (ipykernel)",
   "language": "python",
   "name": "python3"
  },
  "language_info": {
   "codemirror_mode": {
    "name": "ipython",
    "version": 3
   },
   "file_extension": ".py",
   "mimetype": "text/x-python",
   "name": "python",
   "nbconvert_exporter": "python",
   "pygments_lexer": "ipython3",
   "version": "3.8.10"
  }
 },
 "nbformat": 4,
 "nbformat_minor": 5
}
