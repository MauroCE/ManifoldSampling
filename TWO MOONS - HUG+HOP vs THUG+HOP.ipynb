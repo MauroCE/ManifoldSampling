{
 "cells": [
  {
   "cell_type": "markdown",
   "id": "4e8f5f88",
   "metadata": {},
   "source": [
    "# Two Moons with Hug+HOP"
   ]
  },
  {
   "cell_type": "code",
   "execution_count": 338,
   "id": "d73f6c00",
   "metadata": {},
   "outputs": [],
   "source": [
    "import numpy as np\n",
    "from scipy.linalg import norm, solve\n",
    "import matplotlib.pyplot as plt\n",
    "from scipy.optimize import fsolve\n",
    "from two_moons import tm_deterministic, tm_jacobian, tm_distance_gradient\n",
    "from numpy.random import uniform, normal, rand\n",
    "from scipy.stats import multivariate_normal as MVN\n",
    "from pandas import DataFrame as df\n",
    "from seaborn import pairplot\n",
    "from scipy.stats import uniform as udist\n",
    "from scipy.stats import norm as ndist\n",
    "from numpy import zeros, diag, eye, log, sqrt, vstack, mean, save, exp, linspace, pi\n",
    "from utils import ESS_univariate, ESS, n_unique\n",
    "from statsmodels.tsa.stattools import acf\n",
    "from tangential_hug_functions import HugTangentialStepEJSD_Deterministic, Hop_Deterministic, HugStepEJSD_Deterministic\n",
    "from tangential_hug_functions import Hop"
   ]
  },
  {
   "cell_type": "markdown",
   "id": "b54a4b39",
   "metadata": {},
   "source": [
    "Let $f:\\mathbb{R}^4\\to\\mathbb{R}$"
   ]
  },
  {
   "cell_type": "markdown",
   "id": "4325a9b2",
   "metadata": {},
   "source": [
    "# Settings"
   ]
  },
  {
   "cell_type": "code",
   "execution_count": 19,
   "id": "ab052782",
   "metadata": {},
   "outputs": [],
   "source": [
    "y_star = np.zeros(2)\n",
    "T = 0.05                    # Integration time for Hug\n",
    "B = 5                       # Number of steps\n",
    "delta = T / B               # Step size\n",
    "N = 10000                   # Number of Hug iterations\n",
    "epsilon_spherical = 0.05\n",
    "epsilon_tangential = 0.05\n",
    "scale = 1.0                 # Scale for the MVN in the spherical case. Equiv to changing B and delta\n",
    "alpha = 0.6                 # Proportion of the gradient to remove from spherical to make tangential"
   ]
  },
  {
   "cell_type": "markdown",
   "id": "438d410c",
   "metadata": {},
   "source": [
    "# Initial Point on Manifold"
   ]
  },
  {
   "cell_type": "code",
   "execution_count": 20,
   "id": "675b15a7",
   "metadata": {},
   "outputs": [],
   "source": [
    "# Sample randomly the seeds\n",
    "a0 = uniform(low=-np.pi/2, high=np.pi/2)\n",
    "r0 = normal(loc=0.1, scale=0.01)\n",
    "\n",
    "# Start with a guess\n",
    "guess = np.array([0, 0, a0, r0])\n",
    "\n",
    "# Find point on manifold using optimization\n",
    "func = lambda xi: np.r_[tm_deterministic(xi) - y_star, 0, 0]  # Append 0, 0 to make fsolve work.\n",
    "xi0 = fsolve(func, guess)"
   ]
  },
  {
   "cell_type": "markdown",
   "id": "418df0ff",
   "metadata": {},
   "source": [
    "# Functions for HUG"
   ]
  },
  {
   "cell_type": "markdown",
   "id": "95b31099",
   "metadata": {},
   "source": [
    "Prior distributions"
   ]
  },
  {
   "cell_type": "markdown",
   "id": "c4b14f04",
   "metadata": {},
   "source": [
    "$$\n",
    "u = (a, r) \\qquad \\text{with} \\qquad p(a) = \\mathcal{U}\\left(-\\frac{\\pi}{2}, \\frac{\\pi}{2}\\right)\\qquad \\text{and}\\qquad p(r) = \\mathcal{N}(0.1, 0.01^2) \\qquad \\text{hence} \\qquad p(u) = \\mathcal{U}\\left(-\\frac{\\pi}{2}, \\frac{\\pi}{2}\\right)\\mathcal{N}(0.1, 0.01^2)\n",
    "$$"
   ]
  },
  {
   "cell_type": "markdown",
   "id": "31f6768b",
   "metadata": {},
   "source": [
    "$$\n",
    "p(\\theta) = \\mathcal{U}\\left([-1, 1]\\times [-1, 1]\\right)\n",
    "$$"
   ]
  },
  {
   "cell_type": "markdown",
   "id": "1d7865b8",
   "metadata": {},
   "source": [
    "$$\n",
    "p(\\xi) = p(\\theta) p(u) = \\mathcal{U}\\left([-1, 1]\\times [-1, 1]\\right) \\mathcal{U}\\left(-\\frac{\\pi}{2}, \\frac{\\pi}{2}\\right)\\mathcal{N}(0.1, 0.01^2)\n",
    "$$"
   ]
  },
  {
   "cell_type": "code",
   "execution_count": 9,
   "id": "1746a218",
   "metadata": {},
   "outputs": [],
   "source": [
    "def logprior(xi):\n",
    "    \"\"\"Log prior distribution for Two Moon.\"\"\"\n",
    "    t1, t2, a, r = xi\n",
    "    return udist(loc=-1, scale=2).logpdf(t1) + udist(loc=-1, scale=2).logpdf(t2) + udist(loc=-np.pi/2, scale=np.pi).logpdf(a) + ndist(0.1, 0.01).logpdf(r)"
   ]
  },
  {
   "cell_type": "code",
   "execution_count": 236,
   "id": "90d4f6f3",
   "metadata": {},
   "outputs": [],
   "source": [
    "######### IMPORTANT TO DO ################\n",
    "######### SHOULD CHECK WHETHER TO USE EPSILON OR norm(tm_deterministic(xi) - y_star) here.\n",
    "# NOTICE THAT WE ARE USING THE DISTANCE MANIFOLD!! THIS IS THE KEY DIFFERENCE TO THE MVN EXAMPLES OF BEFORE. \n",
    "# IN MVN EXAMPLES Z0 IS A SCALAR AND SO IS THE OUTPUT OF THE SIMULATOR. HERE, INSTEAD, THE OUTPUT OF THE SIMULATOR \n",
    "# HAS 2 DIMENSIONS. HENCE WE CONSIDER THE DISTANCE MANIFOLD INSTEAD. FOR THIS REASON, THE MANIFOLD IS DEFINED BY \n",
    "# A VALUE OF THE DISTANCE TO Y_STAR (AS OPPOSED TO MVN EXAMPLE, WHERE IT IS DEFIEND DIRECTLY BY Y_STAR).\n",
    "grad_function = lambda xi: tm_distance_gradient(xi, y_star, norm(tm_deterministic(xi) - y_star)).flatten()"
   ]
  },
  {
   "cell_type": "code",
   "execution_count": 237,
   "id": "87d9fe4c",
   "metadata": {},
   "outputs": [],
   "source": [
    "def log_uniform_kernel(xi, epsilon):\n",
    "    \"\"\"Log density of uniform kernel. \"\"\"\n",
    "    with np.errstate(divide='ignore'):\n",
    "        return np.log((norm(tm_deterministic(xi) - y_star) <= epsilon))"
   ]
  },
  {
   "cell_type": "code",
   "execution_count": 238,
   "id": "4e20245f",
   "metadata": {},
   "outputs": [],
   "source": [
    "def log_abc_posterior(xi):\n",
    "    \"\"\"Log density of ABC posterior. Product of (param-latent) prior and uniform kernel.\"\"\"\n",
    "    return logprior(xi) + log_uniform_kernel(xi, epsilon)"
   ]
  },
  {
   "cell_type": "code",
   "execution_count": 242,
   "id": "94b20efb",
   "metadata": {},
   "outputs": [],
   "source": [
    "def experiment(x00, T1, T2, N, alphas, nlags):\n",
    "    \"\"\"Runs Hug+Hop and THUG+HOP using the same velocities and the same random seeds.\"\"\"\n",
    "    ### COMMON VARIABLES\n",
    "    v = q.rvs(N)\n",
    "    log_uniforms1 = log(rand(N))     # Log uniforms for the HUG kernels\n",
    "    log_uniforms2 = log(rand(N))     # Log uniforms for the HOP kernel\n",
    "    u = MVN(zeros(4), eye(4)).rvs(N) # Original velocities for HOP kernel\n",
    "    ### STORAGE (HUG + HOP)\n",
    "    hh = x00              # Initial sample\n",
    "    ahh1 = 0.0            # Acceptance probability for HUG kernel\n",
    "    ahh2 = 0.0            # Acceptance probability for HOP kernel (when used with HUG)\n",
    "    ehh = 0.0             # EJSD\n",
    "    eghh = 0.0            # EJSD in Gradient direction\n",
    "    ethh = 0.0            # EJSD in Tangent direction\n",
    "    ### STORAGE (THUG + HOP) I MUST STORE FOR ALL ALPHAS\n",
    "    ath1 = zeros(n_alphas)\n",
    "    ath2 = zeros(n_alphas)\n",
    "    eth  = zeros(n_alphas)\n",
    "    egth = zeros(n_alphas)\n",
    "    etth = zeros(n_alphas)\n",
    "    ### ADDITIONAL STORAGE FOR THUG\n",
    "    th_esst = zeros(n_alphas)\n",
    "    th_essu = zeros(n_alphas)\n",
    "    th_essj = zeros(n_alphas)\n",
    "    th_uniq = zeros(n_alphas)\n",
    "    th_act  = zeros((n_alphas, nlags))\n",
    "    th_acu  = zeros((n_alphas, nlags))\n",
    "    ### HUG + HOP\n",
    "    x = x00\n",
    "    for i in range(N):\n",
    "        y, a1, e, eg, et = HugStepEJSD_Deterministic(x, v[i], log_uniforms1[i], T1, B, q, log_abc_posterior, grad_function)\n",
    "        x, a2 = Hop_Deterministic(y, u[i], log_uniforms2[i], lam, kappa, log_abc_posterior, grad_function)\n",
    "        hh = vstack((hh, y, x))\n",
    "        ahh1 += a1 * 100 / N\n",
    "        ahh2 += a2 * 100 / N\n",
    "        ehh += e / N\n",
    "        eghh += eg / N \n",
    "        ethh += et / N \n",
    "    # COMPUTE ESS AND OTHER METRICS FOR HUG\n",
    "    hh = hh[1:]\n",
    "    hh_esst = ESS_univariate(hh[::2, 0])     # ESS for theta\n",
    "    hh_essu = ESS_univariate(hh[::2, 1])     # ESS for u\n",
    "    hh_essj = ESS(hh[::2])                   # ESS joint\n",
    "    hh_uniq = n_unique(hh)                             # Number of unique samples\n",
    "    hh_act  = acf(hh[::2, 0], adjusted=True, nlags=nlags, fft=True)[1:]  # Autocorrelation for theta (remove the first 1.0)\n",
    "    hh_acu  = acf(hh[::2, 1], adjusted=True, nlags=nlags, fft=True)[1:]  # Autocorrelation for u\n",
    "    ### THUG + HOP\n",
    "    for k, alpha in enumerate(alphas):\n",
    "        x = x00\n",
    "        th = x00      # RESTART THE SAMPLES FROM SCRATCH\n",
    "        for i in range(N):\n",
    "            y, a1, e, eg, et = HugTangentialStepEJSD_Deterministic(x, v[i], log_uniforms1[i], T2, B, alpha, q, log_abc_posterior, grad_function)\n",
    "            x, a2 = Hop_Deterministic(y, u[i], log_uniforms2[i], lam, kappa, log_abc_posterior, grad_function)\n",
    "            th = vstack((th, y, x))\n",
    "            ath1[k] += a1 * 100 / N\n",
    "            ath2[k] += a2 * 100 / N\n",
    "            eth[k]  += e / N\n",
    "            egth[k] += eg / N \n",
    "            etth[k] += et / N \n",
    "        ### COMPUTE ESS AND OTHER METRISC FOR THUG\n",
    "        th = th[1:]\n",
    "        th_esst[k] = ESS_univariate(th[::2, 0])     # ESS for theta\n",
    "        th_essu[k] = ESS_univariate(th[::2, 1])     # ESS for u\n",
    "        th_essj[k] = ESS(th[::2])                   # ESS joint\n",
    "        th_uniq[k] = n_unique(th)                             # Number of unique samples\n",
    "        th_act[k] = acf(th[::2, 0], adjusted=True, nlags=nlags, fft=True)[1:]  # Autocorrelation for theta\n",
    "        th_acu[k] = acf(th[::2, 1], adjusted=True, nlags=nlags, fft=True)[1:]  # Autocorrelation for u\n",
    "    # RETURN EVERYTHING\n",
    "    out = {\n",
    "        'HH': {\n",
    "            'A1': ahh1,\n",
    "            'A2': ahh2,\n",
    "            'E': ehh,\n",
    "            'EG': eghh, \n",
    "            'ET': ethh,\n",
    "            'ESS_T': hh_esst,\n",
    "            'ESS_U': hh_essu,\n",
    "            'ESS_J': hh_essj,\n",
    "            'UNIQUE': hh_uniq,\n",
    "            'AC_T': hh_act,\n",
    "            'AC_U': hh_acu,\n",
    "            'T': T1,\n",
    "            'SAMPLES': hh\n",
    "        },\n",
    "        'TH': {\n",
    "            'A1': ath1,\n",
    "            'A2': ath2,\n",
    "            'E': eth,\n",
    "            'EG': egth, \n",
    "            'ET': etth, \n",
    "            'ESS_T': th_esst,\n",
    "            'ESS_U': th_essu,\n",
    "            'ESS_J': th_essj,\n",
    "            'UNIQUE': th_uniq,\n",
    "            'AC_T': th_act,\n",
    "            'AC_U': th_acu,\n",
    "            'T': T2,\n",
    "            'SAMPLES': th\n",
    "        }\n",
    "    }\n",
    "    return out"
   ]
  },
  {
   "cell_type": "code",
   "execution_count": 243,
   "id": "3f503228",
   "metadata": {},
   "outputs": [],
   "source": [
    "q = MVN(zeros(4), eye(4))"
   ]
  },
  {
   "cell_type": "code",
   "execution_count": 476,
   "id": "7c4c1cd4",
   "metadata": {},
   "outputs": [],
   "source": [
    "alphas = [0.9]\n",
    "n_alphas = len(alphas)\n",
    "epsilon = 0.05\n",
    "lam = epsilon \n",
    "kappa = 0.0005"
   ]
  },
  {
   "cell_type": "markdown",
   "id": "188f0aa1",
   "metadata": {},
   "source": [
    "- /1000: 23, 10\n",
    "- /500:  16, 15\n",
    "- /5   : 12, 12\n",
    "- /2   : 6, 6\n",
    "- *1  :  2, 2\n",
    "- *10 :  0.06, 0.06  (but both modes achieved by THUG)"
   ]
  },
  {
   "cell_type": "code",
   "execution_count": null,
   "id": "155e2484",
   "metadata": {},
   "outputs": [],
   "source": [
    "out = experiment(xi0, 0.02, 0.02, 50000, alphas, 20)"
   ]
  },
  {
   "cell_type": "code",
   "execution_count": null,
   "id": "d195a11f",
   "metadata": {},
   "outputs": [],
   "source": [
    "fig, ax = plt.subplots(figsize=(20,8), ncols=2)\n",
    "ax[0].scatter(*out['HH']['SAMPLES'][:, :2].T)\n",
    "ax[0].set_aspect(\"equal\")\n",
    "ax[1].scatter(*out['TH']['SAMPLES'][:, :2].T)\n",
    "ax[1].set_aspect(\"equal\")\n",
    "plt.show()"
   ]
  },
  {
   "cell_type": "code",
   "execution_count": null,
   "id": "c6ac9c30",
   "metadata": {},
   "outputs": [],
   "source": [
    "out['HH']['A1'], *out['TH']['A1']"
   ]
  },
  {
   "cell_type": "code",
   "execution_count": null,
   "id": "af94ff9f",
   "metadata": {},
   "outputs": [],
   "source": [
    "out['HH']['UNIQUE'], *out['TH']['UNIQUE']"
   ]
  },
  {
   "cell_type": "code",
   "execution_count": null,
   "id": "18db16db",
   "metadata": {},
   "outputs": [],
   "source": [
    "out['HH']['A2'], *out['TH']['A2']"
   ]
  },
  {
   "cell_type": "code",
   "execution_count": null,
   "id": "a1daffbd",
   "metadata": {},
   "outputs": [],
   "source": [
    "!say FINISHED"
   ]
  },
  {
   "cell_type": "code",
   "execution_count": null,
   "id": "cd3428ac",
   "metadata": {},
   "outputs": [],
   "source": [
    "\"{:.5}, {:.5}, {:.5}, {:.5}\".format(*ESS_univariate(out['HH']['SAMPLES']))"
   ]
  },
  {
   "cell_type": "code",
   "execution_count": null,
   "id": "0e52160a",
   "metadata": {},
   "outputs": [],
   "source": [
    "\"{:.5}, {:.5}, {:.5}, {:.5}\".format(*ESS_univariate(out['TH']['SAMPLES']))"
   ]
  },
  {
   "cell_type": "code",
   "execution_count": null,
   "id": "d2036b79",
   "metadata": {},
   "outputs": [],
   "source": [
    "ESS(out['HH']['SAMPLES']), ESS(out['TH']['SAMPLES'])"
   ]
  },
  {
   "cell_type": "markdown",
   "id": "c73de465",
   "metadata": {},
   "source": [
    "I need to see what the HOP kernel looks like on some samples... Notice that the space is $4$ dimensional. The $\\theta$ space is only the first two coordinates"
   ]
  },
  {
   "cell_type": "code",
   "execution_count": 458,
   "id": "90aba26c",
   "metadata": {},
   "outputs": [],
   "source": [
    "def Hop_Candidates(x, lam, k, logpi, grad_log_pi):\n",
    "    d = len(x)\n",
    "    # Compute matrix square root\n",
    "    mu_sq = k * lam\n",
    "    mu = np.sqrt(mu_sq)\n",
    "    lam_sq = lam**2\n",
    "    # Compute normalized gradient at x\n",
    "    gx = grad_log_pi(x)\n",
    "    ngx = norm(gx)\n",
    "    ghatx = gx / ngx\n",
    "    # Sample from standard MVN\n",
    "    u = multivariate_normal(np.zeros(d), np.eye(d)).rvs()\n",
    "    # Transform to new sample\n",
    "    y = x + ((mu*u + (lam - mu) * ghatx * (ghatx @ u)) / np.sqrt(max(1.0, ngx**2)))\n",
    "    return y, 0.0\n",
    "\n",
    "def hop_samples(x, N):\n",
    "    samples = x\n",
    "    for _ in range(N):\n",
    "        y, _ = Hop_Candidates(x, lam, kappa, log_abc_posterior, grad_function)\n",
    "        samples = vstack((samples, y))\n",
    "    return samples"
   ]
  },
  {
   "cell_type": "code",
   "execution_count": 459,
   "id": "05ffe2ab",
   "metadata": {},
   "outputs": [],
   "source": [
    "lam = epsilon \n",
    "kappa = 0.001\n",
    "initial = out['HH']['SAMPLES'][4000]\n",
    "hop_stuff = hop_samples(initial, 1000)"
   ]
  },
  {
   "cell_type": "code",
   "execution_count": 460,
   "id": "92b80fc1",
   "metadata": {},
   "outputs": [
    {
     "data": {
      "image/png": "[encoded data removed]",
      "text/plain": [
       "<Figure size 1440x576 with 2 Axes>"
      ]
     },
     "metadata": {
      "needs_background": "light"
     },
     "output_type": "display_data"
    }
   ],
   "source": [
    "fig, ax = plt.subplots(figsize=(20,8), ncols=2)\n",
    "ax[0].scatter(*out['HH']['SAMPLES'][:, :2].T)\n",
    "ax[0].set_aspect(\"equal\")\n",
    "ax[0].scatter(*hop_stuff[:, :2].T, color='lightgreen')\n",
    "ax[0].scatter(*initial[:2], s=200, color='red')\n",
    "ax[1].scatter(*out['TH']['SAMPLES'][:, :2].T)\n",
    "ax[1].set_aspect(\"equal\")\n",
    "plt.show()"
   ]
  },
  {
   "cell_type": "code",
   "execution_count": null,
   "id": "684c5fc2",
   "metadata": {},
   "outputs": [],
   "source": []
  }
 ],
 "metadata": {
  "kernelspec": {
   "display_name": "Python 3 (ipykernel)",
   "language": "python",
   "name": "python3"
  },
  "language_info": {
   "codemirror_mode": {
    "name": "ipython",
    "version": 3
   },
   "file_extension": ".py",
   "mimetype": "text/x-python",
   "name": "python",
   "nbconvert_exporter": "python",
   "pygments_lexer": "ipython3",
   "version": "3.8.10"
  }
 },
 "nbformat": 4,
 "nbformat_minor": 5
}
