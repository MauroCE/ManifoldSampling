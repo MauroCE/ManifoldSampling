{
 "cells": [
  {
   "cell_type": "markdown",
   "id": "c6d2e72c",
   "metadata": {},
   "source": [
    "# IS THUG GOOD ENOUGH ON ITS OWN?"
   ]
  },
  {
   "cell_type": "markdown",
   "id": "8bce922c",
   "metadata": {},
   "source": [
    "First, we try to answer whether THUG is good enough on its own. This is unlikely since it doesn't have a way to move much in the gradient direction."
   ]
  },
  {
   "cell_type": "code",
   "execution_count": 5,
   "id": "45d4b78c",
   "metadata": {},
   "outputs": [],
   "source": [
    "import numpy as np\n",
    "from numpy import zeros, eye, array, diag, exp, ones, tanh, cosh, dstack, log, hstack, vstack, sinh\n",
    "from numpy.linalg import solve, norm\n",
    "from numpy.random import choice, default_rng, randint, randn\n",
    "from scipy.stats import multivariate_normal as MVN\n",
    "from scipy.special import logsumexp, ndtr\n",
    "from scipy.stats import uniform as udist\n",
    "import math\n",
    "import time\n",
    "from copy import deepcopy\n",
    "\n",
    "import matplotlib.pyplot as plt\n",
    "from matplotlib import rc\n",
    "from ipywidgets.widgets import IntSlider\n",
    "from ipywidgets.widgets import interact\n",
    "from warnings import resetwarnings, catch_warnings, filterwarnings\n",
    "import seaborn as sns\n",
    "import pickle\n",
    "\n",
    "from Manifolds.GKManifoldNew import GKManifold, data_generator, find_point_on_manifold, find_point_on_manifold_from_θ\n",
    "from markov_snippets import MSAdaptive, SMCAdaptive\n",
    "from tangential_hug_functions import TangentialHugSampler\n",
    "from tangential_hug_functions import HugTangentialMultivariate\n",
    "from RWM import RWM\n",
    "from utils import ESS_univariate"
   ]
  },
  {
   "cell_type": "code",
   "execution_count": 2,
   "id": "6c1de056",
   "metadata": {},
   "outputs": [],
   "source": [
    "seed = 1234\n",
    "m = 20     # number of latent variables\n",
    "d = m + 4  # dimensionality of x-component"
   ]
  },
  {
   "cell_type": "code",
   "execution_count": 3,
   "id": "106ecd8f",
   "metadata": {},
   "outputs": [],
   "source": [
    "def generate_settings(\n",
    "    d=d, \n",
    "    N=2000,\n",
    "    B=20,\n",
    "    δ=0.01,\n",
    "    δmin=1e-3,\n",
    "    δmax=100.0,\n",
    "    εmin=1e-16,\n",
    "    min_pm=1e-4,\n",
    "    maxiter=500,\n",
    "    verbose=False,\n",
    "    εs_fixed=None,\n",
    "    adaptiveε=True,\n",
    "    adaptiveδ=False,\n",
    "    z0_manual=None,\n",
    "    pm_target=0.23,\n",
    "    pd_target=0.4,\n",
    "    dm_target=0.01,\n",
    "    pm_switch=0.1,\n",
    "    prior_seed=seed,\n",
    "    low_memory=True,\n",
    "    integrator='rwm',\n",
    "    εprop_switch=0.01,\n",
    "    ε0_manual=None,\n",
    "    quantile_value=0.9,\n",
    "    initialization='manual',\n",
    "    switch_strategy='pm',\n",
    "    kernel='uniform',\n",
    "    prior_scale=7,\n",
    "    thinning=10,\n",
    "    burnin=100,\n",
    "    use_autograd=False,\n",
    "    stopping_criterion={'εmin', 'pm'},\n",
    "    resampling_seed=1234,\n",
    "    mh_kernel_seed=1234,\n",
    "    resampling_scheme='multinomial',\n",
    "    prop_hug=0.5,\n",
    "    projection_method='qr',\n",
    "    metropolised=False,\n",
    "    δadaptation_method='ap',\n",
    "    prop_esjd=0.95,\n",
    "    adaptiveB=False,\n",
    "    Bmin=5,\n",
    "    Bmax=100,\n",
    "    proxy_ap_metric='dm',\n",
    "    adaptiveN=False,\n",
    "    NBbudget=None,\n",
    "    Badaptation_method=None):\n",
    "    # here d represents m+4\n",
    "    # Generate the manifold\n",
    "    θ0        = array([3.0, 1.0, 2.0, 0.5])       # True parameter value on U(0, 10) scale.\n",
    "    ystar     = data_generator(θ0, m, seed=seed)  # Observed data\n",
    "    q         = MVN(zeros(d), eye(d))             # Proposal distribution for THUG\n",
    "    resetwarnings()\n",
    "    manifold  = GKManifold(ystar, kernel_type=kernel, use_autograd=use_autograd)\n",
    "    # grab arguments\n",
    "    arguments = locals()\n",
    "    return arguments"
   ]
  },
  {
   "cell_type": "code",
   "execution_count": 4,
   "id": "b8b7ff14",
   "metadata": {},
   "outputs": [],
   "source": [
    "N      = 500\n",
    "B      = 30\n",
    "δmin   = 1e-3\n",
    "min_pm = 1e-4\n",
    "pm_switch = 0.1"
   ]
  },
  {
   "cell_type": "markdown",
   "id": "b78a2e42",
   "metadata": {},
   "source": [
    "Fix the same budget $\\Omega=50\\,000$ and see how THUG behaves for different B-N pairs."
   ]
  },
  {
   "cell_type": "markdown",
   "id": "f7bde173",
   "metadata": {},
   "source": [
    "Grab the initial particles"
   ]
  },
  {
   "cell_type": "code",
   "execution_count": 6,
   "id": "c5ef27c5",
   "metadata": {},
   "outputs": [],
   "source": [
    "with open(\"experiment93/second_particles10k.pkl\", \"rb\") as file:\n",
    "    P1_10k = pickle.load(file)\n",
    "\n",
    "with open(\"experiment93/second_particles10k_new.pkl\", \"rb\") as file:\n",
    "    P2_10k = pickle.load(file)\n",
    "    \n",
    "with open(\"experiment93/second_particles10k_new_new.pkl\", \"rb\") as file:\n",
    "    P3_10k = pickle.load(file)"
   ]
  },
  {
   "cell_type": "markdown",
   "id": "f91a1985",
   "metadata": {},
   "source": [
    "Next, run for several settings."
   ]
  },
  {
   "cell_type": "code",
   "execution_count": 9,
   "id": "a7d299ce",
   "metadata": {},
   "outputs": [
    {
     "ename": "NameError",
     "evalue": "name 'PARTICLES_25000' is not defined",
     "output_type": "error",
     "traceback": [
      "\u001b[0;31m---------------------------------------------------------------------------\u001b[0m",
      "\u001b[0;31mNameError\u001b[0m                                 Traceback (most recent call last)",
      "Input \u001b[0;32mIn [9]\u001b[0m, in \u001b[0;36m<cell line: 1>\u001b[0;34m()\u001b[0m\n\u001b[1;32m      1\u001b[0m B2N25k_THUG \u001b[38;5;241m=\u001b[39m MSAdaptive(generate_settings(d\u001b[38;5;241m=\u001b[39md, N\u001b[38;5;241m=\u001b[39m\u001b[38;5;241m25000\u001b[39m, B\u001b[38;5;241m=\u001b[39m\u001b[38;5;241m2\u001b[39m,\n\u001b[1;32m      2\u001b[0m         δ\u001b[38;5;241m=\u001b[39m\u001b[38;5;241m0.01\u001b[39m, δmin\u001b[38;5;241m=\u001b[39mδmin, min_pm\u001b[38;5;241m=\u001b[39m(\u001b[38;5;241m1\u001b[39m\u001b[38;5;241m/\u001b[39m\u001b[38;5;241m25000\u001b[39m), verbose\u001b[38;5;241m=\u001b[39m\u001b[38;5;28;01mTrue\u001b[39;00m, εs_fixed\u001b[38;5;241m=\u001b[39m\u001b[38;5;28;01mNone\u001b[39;00m, adaptiveε\u001b[38;5;241m=\u001b[39m\u001b[38;5;28;01mTrue\u001b[39;00m, adaptiveδ\u001b[38;5;241m=\u001b[39m\u001b[38;5;28;01mFalse\u001b[39;00m,\n\u001b[0;32m----> 3\u001b[0m         z0_manual\u001b[38;5;241m=\u001b[39m\u001b[43mPARTICLES_25000\u001b[49m, pm_target\u001b[38;5;241m=\u001b[39m\u001b[38;5;241m0.23\u001b[39m, pm_switch\u001b[38;5;241m=\u001b[39mpm_switch, low_memory\u001b[38;5;241m=\u001b[39m\u001b[38;5;28;01mTrue\u001b[39;00m, integrator\u001b[38;5;241m=\u001b[39m\u001b[38;5;124m'\u001b[39m\u001b[38;5;124mthug\u001b[39m\u001b[38;5;124m'\u001b[39m,\n\u001b[1;32m      4\u001b[0m         εprop_switch\u001b[38;5;241m=\u001b[39m\u001b[38;5;241m0.01\u001b[39m, ε0_manual\u001b[38;5;241m=\u001b[39m\u001b[38;5;241m200.0\u001b[39m, quantile_value\u001b[38;5;241m=\u001b[39m\u001b[38;5;241m0.5\u001b[39m, initialization\u001b[38;5;241m=\u001b[39m\u001b[38;5;124m'\u001b[39m\u001b[38;5;124mmanual\u001b[39m\u001b[38;5;124m'\u001b[39m,\n\u001b[1;32m      5\u001b[0m         switch_strategy\u001b[38;5;241m=\u001b[39m\u001b[38;5;124m'\u001b[39m\u001b[38;5;124mpm\u001b[39m\u001b[38;5;124m'\u001b[39m, kernel\u001b[38;5;241m=\u001b[39m\u001b[38;5;124m'\u001b[39m\u001b[38;5;124muniform\u001b[39m\u001b[38;5;124m'\u001b[39m,use_autograd\u001b[38;5;241m=\u001b[39m\u001b[38;5;28;01mFalse\u001b[39;00m, stopping_criterion\u001b[38;5;241m=\u001b[39m{\u001b[38;5;124m'\u001b[39m\u001b[38;5;124mεmin\u001b[39m\u001b[38;5;124m'\u001b[39m, \u001b[38;5;124m'\u001b[39m\u001b[38;5;124mpm\u001b[39m\u001b[38;5;124m'\u001b[39m, \u001b[38;5;124m'\u001b[39m\u001b[38;5;124mmaxiter\u001b[39m\u001b[38;5;124m'\u001b[39m},\n\u001b[1;32m      6\u001b[0m         resampling_scheme\u001b[38;5;241m=\u001b[39m\u001b[38;5;124m'\u001b[39m\u001b[38;5;124mmultinomial\u001b[39m\u001b[38;5;124m'\u001b[39m, maxiter\u001b[38;5;241m=\u001b[39m\u001b[38;5;241m500\u001b[39m, δadaptation_method\u001b[38;5;241m=\u001b[39m\u001b[38;5;28;01mNone\u001b[39;00m, adaptiveB\u001b[38;5;241m=\u001b[39m\u001b[38;5;28;01mFalse\u001b[39;00m,\n\u001b[1;32m      7\u001b[0m         Bmin\u001b[38;5;241m=\u001b[39m\u001b[38;5;241m5\u001b[39m, Bmax\u001b[38;5;241m=\u001b[39m\u001b[38;5;241m100\u001b[39m, proxy_ap_metric\u001b[38;5;241m=\u001b[39m\u001b[38;5;124m'\u001b[39m\u001b[38;5;124mpm\u001b[39m\u001b[38;5;124m'\u001b[39m, prop_esjd\u001b[38;5;241m=\u001b[39m\u001b[38;5;241m0.95\u001b[39m, Badaptation_method\u001b[38;5;241m=\u001b[39m\u001b[38;5;28;01mNone\u001b[39;00m))\n\u001b[1;32m      8\u001b[0m B2N25k_THUG_PARTICLES \u001b[38;5;241m=\u001b[39m B2N25k_THUG\u001b[38;5;241m.\u001b[39msample()\n",
      "\u001b[0;31mNameError\u001b[0m: name 'PARTICLES_25000' is not defined"
     ]
    }
   ],
   "source": [
    "B2N25k_THUG = MSAdaptive(generate_settings(d=d, N=25000, B=2,\n",
    "        δ=0.01, δmin=δmin, min_pm=(1/25000), verbose=True, εs_fixed=None, adaptiveε=True, adaptiveδ=False,\n",
    "        z0_manual=vstack, pm_target=0.23, pm_switch=pm_switch, low_memory=True, integrator='thug',\n",
    "        εprop_switch=0.01, ε0_manual=200.0, quantile_value=0.5, initialization='manual',\n",
    "        switch_strategy='pm', kernel='uniform',use_autograd=False, stopping_criterion={'εmin', 'pm', 'maxiter'},\n",
    "        resampling_scheme='multinomial', maxiter=500, δadaptation_method=None, adaptiveB=False,\n",
    "        Bmin=5, Bmax=100, proxy_ap_metric='pm', prop_esjd=0.95, Badaptation_method=None))\n",
    "B2N25k_THUG_PARTICLES = B2N25k_THUG.sample()"
   ]
  },
  {
   "cell_type": "code",
   "execution_count": null,
   "id": "8f964d97",
   "metadata": {},
   "outputs": [],
   "source": []
  }
 ],
 "metadata": {
  "kernelspec": {
   "display_name": "Python 3 (ipykernel)",
   "language": "python",
   "name": "python3"
  },
  "language_info": {
   "codemirror_mode": {
    "name": "ipython",
    "version": 3
   },
   "file_extension": ".py",
   "mimetype": "text/x-python",
   "name": "python",
   "nbconvert_exporter": "python",
   "pygments_lexer": "ipython3",
   "version": "3.10.4"
  }
 },
 "nbformat": 4,
 "nbformat_minor": 5
}
