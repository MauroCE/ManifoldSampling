{
 "cells": [
  {
   "cell_type": "code",
   "execution_count": 1,
   "id": "8cd398d6",
   "metadata": {},
   "outputs": [],
   "source": [
    "import numpy as np\n",
    "from scipy.stats import multivariate_normal as MVN\n",
    "import matplotlib.pyplot as plt\n",
    "from scipy.optimize import root, fsolve, minimize\n",
    "from numpy.linalg import norm, solve, inv, det\n",
    "from numpy import log, zeros, eye, exp, cos, sin, pi, diag\n",
    "from scipy.stats import uniform as udist\n",
    "from numpy.random import rand\n",
    "from matplotlib.colors import ListedColormap\n",
    "from warnings import catch_warnings, filterwarnings\n",
    "from scipy.linalg import qr\n",
    "from copy import deepcopy\n",
    "from matplotlib.colors import LogNorm\n",
    "from matplotlib.ticker import LogFormatterMathtext\n",
    "\n",
    "from utils import prep_contour, generate_powers_of_ten\n",
    "from Manifolds.GeneralizedEllipse import GeneralizedEllipse"
   ]
  },
  {
   "cell_type": "code",
   "execution_count": 2,
   "id": "501695f4",
   "metadata": {},
   "outputs": [],
   "source": [
    "# Define constraint function\n",
    "p = 10\n",
    "μ = zeros(p)\n",
    "diagonal = np.array([0.1, 1, 1, 1, 1, 1, 1, 1, 1, 1]) #np.array([100, 100, *np.ones(p-2)])#np.concatenate((np.full(p//2, 100), np.ones(p - (p//2))))\n",
    "Σ = diag(diagonal)\n",
    "π = MVN(μ, Σ)\n",
    "f = π.logpdf\n",
    "# Ellipsoid\n",
    "z0 = -23\n",
    "ellipse = GeneralizedEllipse(μ, Σ, exp(z0))"
   ]
  },
  {
   "cell_type": "code",
   "execution_count": 3,
   "id": "d7b49660",
   "metadata": {},
   "outputs": [],
   "source": [
    "def HugTangentialMultivariate(x0, T, B, N, α, q, logpi, jac, method='qr'):\n",
    "    \"\"\"Multidimensional Tangential Hug sampler. Two possible methods:\n",
    "    - 'qr': projects onto row space of Jacobian using QR decomposition.\n",
    "    - 'linear': solves a linear system to project.\n",
    "    \"\"\"\n",
    "    OUT = {\n",
    "#     'D' : {f\"{i}\": [] for i in range(N)}, # Distance\n",
    "#     'SD': {f\"{i}\": [] for i in range(N)}, # Square Distance\n",
    "    'AR': [np.nan for i in range(N)],     # Acceptance Ratio\n",
    "    'Δk': [np.nan for i in range(N)],     # Kinetic Energy\n",
    "    'Δℓ': [np.nan for i in range(N)],     # Potential Energy\n",
    "#     'SAMPLES': x0,\n",
    "    'ACCEPTANCES': np.zeros(N),\n",
    "#     'EJSD': [np.nan for i in range(N)],      # Acceptance Ratio * Squared Distance\n",
    "    'EJSD_AP': [np.nan for i in range(N)],    # Acceptance PROBABILITY * Squared Distance\n",
    "    }\n",
    "    assert method == 'qr' or method == 'linear' or method == 'lstsq'\n",
    "    def qr_project(v, J):\n",
    "        \"\"\"Projects using QR decomposition.\"\"\"\n",
    "        Q, _ = qr(J.T, mode='economic')\n",
    "        return Q.dot((Q.T.dot(v)))\n",
    "    def linear_project(v, J):\n",
    "        \"\"\"Projects by solving linear system.\"\"\"\n",
    "        return J.T.dot(solve(J.dot(J.T), J.dot(v)))\n",
    "    def lstsq_project(v, J):\n",
    "        \"\"\"Projects using scipy's Least Squares Routine.\"\"\"\n",
    "        return J.T.dot(lstsq(J.T, v)[0])\n",
    "    if method == 'qr':\n",
    "        project = qr_project\n",
    "    elif method == 'linear':\n",
    "        project = linear_project\n",
    "    else:\n",
    "        project = lstsq_project\n",
    "    # Jacobian function raising an error for RuntimeWarning\n",
    "    def safe_jac(x):\n",
    "        \"\"\"Raises an error when a RuntimeWarning appears.\"\"\"\n",
    "        while catch_warnings():\n",
    "            filterwarnings('error')\n",
    "            try:\n",
    "                return jac(x)\n",
    "            except RuntimeWarning:\n",
    "                raise ValueError(\"Jacobian computation failed due to Runtime Warning.\")\n",
    "    samples, acceptances = x0, np.zeros(N)\n",
    "    # Compute initial Jacobian. \n",
    "    for i in range(N):\n",
    "        v0s = q.rvs()\n",
    "        # Squeeze\n",
    "        v0 = v0s - α * project(v0s, safe_jac(x0)) #jac(x0))\n",
    "        v, x = v0, x0\n",
    "        logu = np.log(rand())\n",
    "        δ = T / B\n",
    "        for _ in range(B):\n",
    "            xmid = x + δ*v/2\n",
    "            v = v - 2 * project(v, safe_jac(xmid)) #jac(x))\n",
    "            x = xmid + δ*v/2\n",
    "            # Compute metrics\n",
    "#             OUT['D'][f\"{i}\"].append(norm(x - x0))\n",
    "#             OUT['SD'][f\"{i}\"].append(norm(x  -x0)**2)\n",
    "        # Unsqueeze\n",
    "        v = v + (α / (1 - α)) * project(v, safe_jac(x)) #jac(x))\n",
    "        # In the acceptance ratio must use spherical velocities!! Hence v0s and the unsqueezed v\n",
    "        logar = logpi(x) + q.logpdf(v) - logpi(x0) - q.logpdf(v0s)\n",
    "        ar = exp(logar)\n",
    "        OUT['AR'][i] = ar\n",
    "        OUT['Δk'][i] = - norm(v)**2 + norm(v0s)**2\n",
    "        OUT['Δℓ'][i] = logpi(x) - logpi(x0)\n",
    "#         OUT['EJSD'][i] = ar * (norm(x - x0)**2)\n",
    "        OUT['EJSD_AP'][i] = np.clip(ar, a_min=0.0, a_max=1.0) * (norm(x - x0)**2)\n",
    "        if logu <= logar:\n",
    "#             OUT['SAMPLES'] = np.vstack((OUT['SAMPLES'], x))\n",
    "            OUT['ACCEPTANCES'][i] = 1         # Accepted!\n",
    "            x0 = x\n",
    "        else:\n",
    "#             OUT['SAMPLES'] = np.vstack((OUT['SAMPLES'], x0))\n",
    "            OUT['ACCEPTANCES'][i] = 0         # Rejected\n",
    "    return OUT"
   ]
  },
  {
   "cell_type": "code",
   "execution_count": 4,
   "id": "837dcc22",
   "metadata": {},
   "outputs": [],
   "source": [
    "q = MVN(zeros(p), eye(p))"
   ]
  },
  {
   "cell_type": "code",
   "execution_count": 5,
   "id": "2e1353f9",
   "metadata": {},
   "outputs": [],
   "source": [
    "def generate_starting_points(ϵs, n_tries=10):\n",
    "    x0s = np.zeros((len(ϵs), p))\n",
    "    for i in range(len(ϵs)):\n",
    "        j = 0\n",
    "        while j <= n_tries:\n",
    "            j += 1\n",
    "            with catch_warnings():\n",
    "                filterwarnings('error')\n",
    "                try: \n",
    "                    x0 = ellipse.sample(advanced=True)\n",
    "                    x0s[i, :] = x0\n",
    "                    break\n",
    "                except RuntimeWarning:\n",
    "                    print(f\"Can't find {i}th point. Trying again.\")\n",
    "                    continue\n",
    "            if j == n_tries:\n",
    "                raise ValueError(\"Couldn't find point.\")\n",
    "    return x0s"
   ]
  },
  {
   "cell_type": "code",
   "execution_count": 6,
   "id": "3d5bda87",
   "metadata": {},
   "outputs": [],
   "source": [
    "def generate_logpi(ϵ):\n",
    "    # Kernel\n",
    "#     def logkernel(xi):\n",
    "#         with np.errstate(divide='ignore'):\n",
    "#             return log(float(norm(f(xi) - z0) < ϵ) / ϵ)\n",
    "    def logkernel(xi):\n",
    "        return -norm(f(xi) - z0)**2/(2*(ϵ**2)) - np.log(ϵ)\n",
    "    # Logpi\n",
    "    logpi = lambda xi: logkernel(xi) #logprior(xi) + logkernel(xi)\n",
    "    return logpi\n",
    "\n",
    "def generate_output(ϵs, αs, δs, x0s, N=1000):\n",
    "    OUTS = []\n",
    "    for ϵix, ϵ in enumerate(ϵs):\n",
    "        for αix, α in enumerate(αs):\n",
    "            for δix, δ in enumerate(δs):\n",
    "                logpi = generate_logpi(ϵ)\n",
    "                jac = lambda xi: ellipse.Q(xi).T\n",
    "                OUTS.append(HugTangentialMultivariate(x0s[ϵix], δ*B, B, N, α, q, logpi, jac))\n",
    "    return OUTS"
   ]
  },
  {
   "cell_type": "code",
   "execution_count": 7,
   "id": "2ec4019d",
   "metadata": {},
   "outputs": [],
   "source": [
    "normalize = lambda a: a / np.nanmax(a)"
   ]
  },
  {
   "cell_type": "code",
   "execution_count": 8,
   "id": "2812ff44",
   "metadata": {},
   "outputs": [],
   "source": [
    "N_GRID = 20\n",
    "B = 10\n",
    "αs_prelim = np.linspace(start=0.0, stop=1.0, num=N_GRID, endpoint=False)"
   ]
  },
  {
   "cell_type": "code",
   "execution_count": 9,
   "id": "31ae597d",
   "metadata": {},
   "outputs": [],
   "source": [
    "x0s = generate_starting_points(np.zeros(1))"
   ]
  },
  {
   "cell_type": "markdown",
   "id": "2e83740a",
   "metadata": {},
   "source": [
    "#### $\\epsilon = 0.1$ but with large range of $\\delta$"
   ]
  },
  {
   "cell_type": "code",
   "execution_count": 10,
   "id": "4c063897",
   "metadata": {},
   "outputs": [],
   "source": [
    "δs_eps01_large = np.geomspace(start=0.01, stop=100.0, num=N_GRID, endpoint=True)\n",
    "OUT_EPS01_large = generate_output(\n",
    "    ϵs=np.array([0.1]),\n",
    "    αs=αs_prelim,\n",
    "    δs=δs_eps01_large,\n",
    "    x0s=x0s,\n",
    "    N=10000\n",
    ")\n",
    "OUT_EJSD_AP_EPS01_large = np.zeros((len(αs_prelim), len(δs_eps01_large)))\n",
    "for i in range(len(OUT_EPS01_large)):\n",
    "    ix = np.unravel_index(i, (len(αs_prelim), len(δs_eps01_large)))\n",
    "    OUT_EJSD_AP_EPS01_large[ix] = np.mean(OUT_EPS01_large[i]['EJSD_AP'])\n",
    "δ_grid_eps01_large, α_grid_eps01_large = np.meshgrid(δs_eps01_large, αs_prelim)"
   ]
  },
  {
   "cell_type": "code",
   "execution_count": 11,
   "id": "2b80719e",
   "metadata": {},
   "outputs": [
    {
     "data": {
      "image/png": "[encoded data removed]",
      "text/plain": [
       "<Figure size 360x288 with 2 Axes>"
      ]
     },
     "metadata": {
      "needs_background": "light"
     },
     "output_type": "display_data"
    }
   ],
   "source": [
    "fig, ax = plt.subplots(figsize=(5, 4))\n",
    "im = ax.pcolor(δ_grid_eps01_large, α_grid_eps01_large, normalize(OUT_EJSD_AP_EPS01_large))\n",
    "ax.set_xscale('log')\n",
    "\n",
    "fig.subplots_adjust(right=0.95)\n",
    "cbar_ax = fig.add_axes([0.98, 0.125, 0.01, 0.75])\n",
    "fig.colorbar(im, cax=cbar_ax)\n",
    "plt.show()"
   ]
  },
  {
   "cell_type": "markdown",
   "id": "b82e01e7",
   "metadata": {},
   "source": [
    "#### $\\epsilon = 0.01$ with  large $\\delta$ range"
   ]
  },
  {
   "cell_type": "code",
   "execution_count": 12,
   "id": "096542af",
   "metadata": {},
   "outputs": [],
   "source": [
    "δs_eps001_large = np.geomspace(start=0.01, stop=100.0, num=N_GRID, endpoint=True)\n",
    "OUT_EPS001_large = generate_output(\n",
    "    ϵs=np.array([0.01]),\n",
    "    αs=αs_prelim,\n",
    "    δs=δs_eps001_large,\n",
    "    x0s=x0s,\n",
    "    N=10000\n",
    ")\n",
    "OUT_EJSD_AP_EPS001_large = np.zeros((len(αs_prelim), len(δs_eps001_large)))\n",
    "for i in range(len(OUT_EPS001_large)):\n",
    "    ix = np.unravel_index(i, (len(αs_prelim), len(δs_eps001_large)))\n",
    "    OUT_EJSD_AP_EPS001_large[ix] = np.mean(OUT_EPS001_large[i]['EJSD_AP'])\n",
    "δ_grid_eps001_large, α_grid_eps001_large = np.meshgrid(δs_eps001_large, αs_prelim)"
   ]
  },
  {
   "cell_type": "code",
   "execution_count": 13,
   "id": "8f4cfe59",
   "metadata": {},
   "outputs": [
    {
     "data": {
      "image/png": "[encoded data removed]",
      "text/plain": [
       "<Figure size 360x288 with 2 Axes>"
      ]
     },
     "metadata": {
      "needs_background": "light"
     },
     "output_type": "display_data"
    }
   ],
   "source": [
    "fig, ax = plt.subplots(figsize=(5, 4))\n",
    "im = ax.pcolor(δ_grid_eps001_large, α_grid_eps001_large, normalize(OUT_EJSD_AP_EPS001_large))\n",
    "ax.set_xscale('log')\n",
    "\n",
    "fig.subplots_adjust(right=0.95)\n",
    "cbar_ax = fig.add_axes([0.98, 0.125, 0.01, 0.75])\n",
    "fig.colorbar(im, cax=cbar_ax)\n",
    "plt.show()"
   ]
  },
  {
   "cell_type": "markdown",
   "id": "aefa301e",
   "metadata": {},
   "source": [
    "#### $\\epsilon = 0.001$ with large range of $\\delta$"
   ]
  },
  {
   "cell_type": "code",
   "execution_count": 15,
   "id": "74fb99bc",
   "metadata": {},
   "outputs": [],
   "source": [
    "δs_eps0001_large = np.geomspace(start=0.01, stop=100.0, num=N_GRID, endpoint=True)\n",
    "OUT_EPS0001_large = generate_output(\n",
    "    ϵs=np.array([0.001]),\n",
    "    αs=αs_prelim,\n",
    "    δs=δs_eps0001_large,\n",
    "    x0s=x0s,\n",
    "    N=10000\n",
    ")\n",
    "OUT_EJSD_AP_EPS0001_large = np.zeros((len(αs_prelim), len(δs_eps0001_large)))\n",
    "for i in range(len(OUT_EPS0001_large)):\n",
    "    ix = np.unravel_index(i, (len(αs_prelim), len(δs_eps0001_large)))\n",
    "    OUT_EJSD_AP_EPS0001_large[ix] = np.mean(OUT_EPS0001_large[i]['EJSD_AP'])\n",
    "δ_grid_eps0001_large, α_grid_eps0001_large = np.meshgrid(δs_eps0001_large, αs_prelim)"
   ]
  },
  {
   "cell_type": "code",
   "execution_count": 16,
   "id": "fa010c3d",
   "metadata": {},
   "outputs": [
    {
     "data": {
      "image/png": "[encoded data removed]",
      "text/plain": [
       "<Figure size 360x288 with 2 Axes>"
      ]
     },
     "metadata": {
      "needs_background": "light"
     },
     "output_type": "display_data"
    }
   ],
   "source": [
    "fig, ax = plt.subplots(figsize=(5, 4))\n",
    "im = ax.pcolor(δ_grid_eps0001_large, α_grid_eps0001_large, normalize(OUT_EJSD_AP_EPS0001_large))\n",
    "ax.set_xscale('log')\n",
    "\n",
    "fig.subplots_adjust(right=0.95)\n",
    "cbar_ax = fig.add_axes([0.98, 0.125, 0.01, 0.75])\n",
    "fig.colorbar(im, cax=cbar_ax)\n",
    "plt.show()"
   ]
  },
  {
   "cell_type": "markdown",
   "id": "72c4f59a",
   "metadata": {},
   "source": [
    "#### $\\epsilon = 0.001$ with smaller range of $\\delta$"
   ]
  },
  {
   "cell_type": "code",
   "execution_count": 17,
   "id": "8c20d272",
   "metadata": {},
   "outputs": [],
   "source": [
    "δs_eps0001_small = np.geomspace(start=0.05, stop=2.0, num=N_GRID, endpoint=True)\n",
    "OUT_EPS0001_small = generate_output(\n",
    "    ϵs=np.array([0.001]),\n",
    "    αs=αs_prelim,\n",
    "    δs=δs_eps0001_small,\n",
    "    x0s=x0s,\n",
    "    N=10000\n",
    ")\n",
    "OUT_EJSD_AP_EPS0001_small = np.zeros((len(αs_prelim), len(δs_eps0001_small)))\n",
    "for i in range(len(OUT_EPS0001_small)):\n",
    "    ix = np.unravel_index(i, (len(αs_prelim), len(δs_eps0001_small)))\n",
    "    OUT_EJSD_AP_EPS0001_small[ix] = np.mean(OUT_EPS0001_small[i]['EJSD_AP'])\n",
    "δ_grid_eps0001_small, α_grid_eps0001_small = np.meshgrid(δs_eps0001_small, αs_prelim)"
   ]
  },
  {
   "cell_type": "code",
   "execution_count": 18,
   "id": "4a49f267",
   "metadata": {},
   "outputs": [
    {
     "data": {
      "image/png": "[encoded data removed]",
      "text/plain": [
       "<Figure size 360x288 with 2 Axes>"
      ]
     },
     "metadata": {
      "needs_background": "light"
     },
     "output_type": "display_data"
    }
   ],
   "source": [
    "fig, ax = plt.subplots(figsize=(5, 4))\n",
    "im = ax.pcolor(δ_grid_eps0001_small, α_grid_eps0001_small, normalize(OUT_EJSD_AP_EPS0001_small))\n",
    "ax.set_xscale('log')\n",
    "\n",
    "fig.subplots_adjust(right=0.95)\n",
    "cbar_ax = fig.add_axes([0.98, 0.125, 0.01, 0.75])\n",
    "fig.colorbar(im, cax=cbar_ax)\n",
    "plt.show()"
   ]
  },
  {
   "cell_type": "markdown",
   "id": "b5bf6ca3",
   "metadata": {},
   "source": [
    "#### $\\epsilon = 0.001$ with smaller range of $\\delta$ and finer grid for both $\\delta$ and $\\alpha$"
   ]
  },
  {
   "cell_type": "code",
   "execution_count": 20,
   "id": "4699de8d",
   "metadata": {},
   "outputs": [],
   "source": [
    "N_GRID_FINER = 30\n",
    "αs_eps0001_finer = np.linspace(start=0.0, stop=1.0, num=N_GRID_FINER, endpoint=False)\n",
    "δs_eps0001_small_finer = np.geomspace(start=0.05, stop=2.0, num=N_GRID_FINER, endpoint=True)\n",
    "OUT_EPS0001_small_finer = generate_output(\n",
    "    ϵs=np.array([0.001]),\n",
    "    αs=αs_eps0001_finer,\n",
    "    δs=δs_eps0001_small_finer,\n",
    "    x0s=x0s,\n",
    "    N=10000\n",
    ")\n",
    "OUT_EJSD_AP_EPS0001_small_finer = np.zeros((len(αs_eps0001_finer), len(δs_eps0001_small_finer)))\n",
    "for i in range(len(OUT_EPS0001_small_finer)):\n",
    "    ix = np.unravel_index(i, (len(αs_eps0001_finer), len(δs_eps0001_small_finer)))\n",
    "    OUT_EJSD_AP_EPS0001_small_finer[ix] = np.mean(OUT_EPS0001_small_finer[i]['EJSD_AP'])\n",
    "δ_grid_eps0001_small_finer, α_grid_eps0001_small_finer = np.meshgrid(δs_eps0001_small_finer, αs_eps0001_finer)"
   ]
  },
  {
   "cell_type": "code",
   "execution_count": 25,
   "id": "523e5178",
   "metadata": {},
   "outputs": [
    {
     "data": {
      "image/png": "[encoded data removed]",
      "text/plain": [
       "<Figure size 360x288 with 2 Axes>"
      ]
     },
     "metadata": {
      "needs_background": "light"
     },
     "output_type": "display_data"
    }
   ],
   "source": [
    "fig, ax = plt.subplots(figsize=(5, 4))\n",
    "im = ax.pcolor(δ_grid_eps0001_small_finer, α_grid_eps0001_small_finer, normalize(OUT_EJSD_AP_EPS0001_small_finer))\n",
    "ax.set_xscale('log')\n",
    "\n",
    "fig.subplots_adjust(right=0.95)\n",
    "cbar_ax = fig.add_axes([0.98, 0.125, 0.01, 0.75])\n",
    "fig.colorbar(im, cax=cbar_ax)\n",
    "plt.show()"
   ]
  },
  {
   "cell_type": "markdown",
   "id": "91354d00",
   "metadata": {},
   "source": [
    "#### same as above, but using a new starting point"
   ]
  },
  {
   "cell_type": "code",
   "execution_count": 26,
   "id": "f12227e2",
   "metadata": {},
   "outputs": [],
   "source": [
    "x0s_new = generate_starting_points(np.zeros(1))"
   ]
  },
  {
   "cell_type": "code",
   "execution_count": 29,
   "id": "5ee5a428",
   "metadata": {},
   "outputs": [],
   "source": [
    "N_GRID_FINER_NEW = 30\n",
    "αs_eps0001_finer_new = np.linspace(start=0.0, stop=1.0, num=N_GRID_FINER_NEW, endpoint=False)\n",
    "δs_eps0001_small_finer_new = np.geomspace(start=0.05, stop=2.0, num=N_GRID_FINER_NEW, endpoint=True)\n",
    "OUT_EPS0001_small_finer_new = generate_output(\n",
    "    ϵs=np.array([0.001]),\n",
    "    αs=αs_eps0001_finer_new,\n",
    "    δs=δs_eps0001_small_finer_new,\n",
    "    x0s=x0s_new,\n",
    "    N=15000\n",
    ")\n",
    "OUT_EJSD_AP_EPS0001_small_finer_new = np.zeros((len(αs_eps0001_finer_new), len(δs_eps0001_small_finer_new)))\n",
    "for i in range(len(OUT_EPS0001_small_finer_new)):\n",
    "    ix = np.unravel_index(i, (len(αs_eps0001_finer_new), len(δs_eps0001_small_finer_new)))\n",
    "    OUT_EJSD_AP_EPS0001_small_finer_new[ix] = np.mean(OUT_EPS0001_small_finer_new[i]['EJSD_AP'])\n",
    "δ_grid_eps0001_small_finer_new, α_grid_eps0001_small_finer_new = np.meshgrid(δs_eps0001_small_finer_new, αs_eps0001_finer_new)"
   ]
  },
  {
   "cell_type": "code",
   "execution_count": 30,
   "id": "0a28255b",
   "metadata": {},
   "outputs": [
    {
     "data": {
      "image/png": "[encoded data removed]",
      "text/plain": [
       "<Figure size 360x288 with 2 Axes>"
      ]
     },
     "metadata": {
      "needs_background": "light"
     },
     "output_type": "display_data"
    }
   ],
   "source": [
    "fig, ax = plt.subplots(figsize=(5, 4))\n",
    "im = ax.pcolor(δ_grid_eps0001_small_finer_new, α_grid_eps0001_small_finer_new, normalize(OUT_EJSD_AP_EPS0001_small_finer_new))\n",
    "ax.set_xscale('log')\n",
    "\n",
    "fig.subplots_adjust(right=0.95)\n",
    "cbar_ax = fig.add_axes([0.98, 0.125, 0.01, 0.75])\n",
    "fig.colorbar(im, cax=cbar_ax)\n",
    "plt.show()"
   ]
  },
  {
   "cell_type": "code",
   "execution_count": null,
   "id": "bec701e2",
   "metadata": {},
   "outputs": [],
   "source": []
  }
 ],
 "metadata": {
  "kernelspec": {
   "display_name": "Python 3 (ipykernel)",
   "language": "python",
   "name": "python3"
  },
  "language_info": {
   "codemirror_mode": {
    "name": "ipython",
    "version": 3
   },
   "file_extension": ".py",
   "mimetype": "text/x-python",
   "name": "python",
   "nbconvert_exporter": "python",
   "pygments_lexer": "ipython3",
   "version": "3.10.4"
  }
 },
 "nbformat": 4,
 "nbformat_minor": 5
}
