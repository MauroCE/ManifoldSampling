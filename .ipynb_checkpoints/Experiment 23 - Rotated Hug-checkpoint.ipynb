{
 "cells": [
  {
   "cell_type": "code",
   "execution_count": 173,
   "id": "a4e909b7",
   "metadata": {},
   "outputs": [],
   "source": [
    "import numpy as np\n",
    "from numpy import zeros, diag, eye, log, sqrt, vstack, mean, save\n",
    "from scipy.stats import multivariate_normal as MVN\n",
    "from numpy.linalg import solve, norm\n",
    "from numpy.random import normal, rand\n",
    "from utils import n_unique, MVN_scatters, quick_MVN_scatter, ESS_univariate"
   ]
  },
  {
   "cell_type": "code",
   "execution_count": 8,
   "id": "c6629568",
   "metadata": {},
   "outputs": [],
   "source": [
    "def log_uniform_kernel(xi, epsilon):\n",
    "    \"\"\"Log density of uniform kernel. \"\"\"\n",
    "    with np.errstate(divide='ignore'):\n",
    "        return log((abs(target.logpdf(xi) - z0) <= epsilon).astype('float64'))\n",
    "    \n",
    "def logprior_uniform(xi):\n",
    "    \"\"\"Log density for uniform prior p(xi) of parameters and latents U([-5,5]x[-5,5]).\"\"\"\n",
    "    with np.errstate(divide='ignore'):\n",
    "        return log((abs(xi) <= 5.0).all().astype('float64'))\n",
    "\n",
    "def logprior_uniform_all(xi):\n",
    "    \"\"\"Log density for uniform prior p(xi) of parameters and latents U([-5,5]x[-5,5]).\"\"\"\n",
    "    with np.errstate(divide='ignore'):\n",
    "        return log((abs(xi) <= 5.0).all(axis=1).astype('float64'))\n",
    "    \n",
    "def log_abc_posterior(xi):\n",
    "    \"\"\"Log density of ABC posterior. Product of (param-latent) prior and uniform kernel.\"\"\"\n",
    "    return logprior_uniform(xi) + log_uniform_kernel(xi, epsilon)\n",
    "\n",
    "def log_abc_posterior_all(xi):\n",
    "    \"\"\"Log density of ABC posterior. Product of (param-latent) prior and uniform kernel.\"\"\"\n",
    "    return logprior_uniform_all(xi) + log_uniform_kernel(xi, epsilon)\n",
    "    \n",
    "def grad_log_simulator(xi):\n",
    "    \"\"\"Gradient of log simulator N(mu, Sigma).\"\"\"\n",
    "    return - solve(Sigma, xi)"
   ]
  },
  {
   "cell_type": "code",
   "execution_count": 21,
   "id": "b44adbd2",
   "metadata": {},
   "outputs": [],
   "source": [
    "# Target distribution is a diagonal MVN\n",
    "Sigma0 = diag([1.0, 5.0])\n",
    "coef = 1.0\n",
    "Sigma = coef * Sigma0\n",
    "target = MVN(zeros(2), Sigma)\n",
    "\n",
    "# Initial point on z0-contour\n",
    "x0 = normal(size=2)                           # Keep initial point the same\n",
    "z0 = target.logpdf(x0)                        # Feed through simulator\n",
    "\n",
    "# Proposal for velocity in HUG/HUG_AR\n",
    "q = MVN(zeros(2), eye(2))\n",
    "\n",
    "\n",
    "# Settings\n",
    "T = 1.5\n",
    "B = 5\n",
    "N = 10000\n",
    "alpha = 0.9\n",
    "epsilon = 0.000001"
   ]
  },
  {
   "cell_type": "code",
   "execution_count": 120,
   "id": "54810c43",
   "metadata": {},
   "outputs": [],
   "source": [
    "def test(x00, T, B, N, alpha, q, logpi, grad_log_pi):\n",
    "    # Sample all spherical velocities\n",
    "    velocities = q.rvs(N)\n",
    "    logus = np.log(rand(N))\n",
    "    # Housekeeping\n",
    "    hug  = x00\n",
    "    thug = x00\n",
    "    rhug = x00\n",
    "    ahug  = zeros(N)\n",
    "    athug = zeros(N)\n",
    "    arhug = zeros(N)\n",
    "    Dpots_hug = zeros(N)\n",
    "    Dkins_hug = zeros(N)\n",
    "    Dpots_thug = zeros(N)\n",
    "    Dkins_thug = zeros(N)\n",
    "    Dpots_rhug = zeros(N)\n",
    "    Dkins_rhug = zeros(N)\n",
    "    Dpdf_hug = zeros(N)\n",
    "    Dpdf_thug = zeros(N)\n",
    "    Dpdf_rhug = zeros(N)\n",
    "    delta = T / B\n",
    "    # HUG\n",
    "    x0 = x00\n",
    "    for i in range(N):\n",
    "        v0 = velocities[i]    # Draw velocity\n",
    "        v, x = v0, x0         # Housekeeping\n",
    "\n",
    "        for _ in range(B):\n",
    "            # Move\n",
    "            x = x + delta*v/2 \n",
    "            # Reflect\n",
    "            g = grad_log_pi(x)\n",
    "            ghat = g / norm(g)\n",
    "            v = v - 2*(v @ ghat) * ghat\n",
    "            # Move\n",
    "            x = x + delta*v/2\n",
    "        Dpot = logpi(x) - logpi(x0) \n",
    "        Dkin = q.logpdf(v) - q.logpdf(v0)\n",
    "        Dpots_hug[i] = Dpot\n",
    "        Dkins_hug[i] = Dkin\n",
    "        Dpdf_hug[i] = abs(target.logpdf(x) - target.logpdf(x0))\n",
    "        loga = Dpot + Dkin\n",
    "        if logus[i] <= loga:\n",
    "            hug = vstack((hug, x))\n",
    "            ahug[i] = 1         # Accepted!\n",
    "            x0 = x\n",
    "        else:\n",
    "            hug = vstack((hug, x0))\n",
    "            ahug[i] = 0         # Rejected\n",
    "        \n",
    "    # THUG\n",
    "    x0 = x00\n",
    "    for i in range(N):\n",
    "        v0s = velocities[i]                   # Draw velocity spherically\n",
    "        g = grad_log_pi(x0)              # Compute gradient at x0\n",
    "        g = g / norm(g)                  # Normalize\n",
    "        v0 = v0s - alpha * g * (g @ v0s) # Tilt velocity\n",
    "        v, x = v0, x0                    # Housekeeping\n",
    "\n",
    "        for _ in range(B):\n",
    "            x = x + delta*v/2           # Move to midpoint\n",
    "            g = grad_log_pi(x)          # Compute gradient at midpoint\n",
    "            ghat = g / norm(g)          # Normalize \n",
    "            v = v - 2*(v @ ghat) * ghat # Reflect velocity using midpoint gradient\n",
    "            x = x + delta*v/2           # Move from midpoint to end-point\n",
    "        # Unsqueeze the velocity\n",
    "        g = grad_log_pi(x)\n",
    "        g = g / norm(g)\n",
    "        v = v + (alpha / (1 - alpha)) * g * (g @ v)\n",
    "        # In the acceptance ratio must use spherical velocities!! Hence v0s and the unsqueezed v\n",
    "        Dpot = logpi(x) - logpi(x0)\n",
    "        Dkin = q.logpdf(v)  - q.logpdf(v0s)\n",
    "        loga = Dpot + Dkin\n",
    "        Dpots_thug[i] = Dpot\n",
    "        Dkins_thug[i] = Dkin\n",
    "        Dpdf_thug[i] = abs(target.logpdf(x) - target.logpdf(x0))\n",
    "        if logus[i] <= loga:\n",
    "            thug = vstack((thug, x))\n",
    "            athug[i] = 1         # Accepted!\n",
    "            x0 = x\n",
    "        else:\n",
    "            thug = vstack((thug, x0))\n",
    "            athug[i] = 0         # Rejected\n",
    "    # ROTATED HUG\n",
    "    x0 = x00\n",
    "    for i in range(N):\n",
    "        v0s = velocities[i]              # Draw velocity spherically\n",
    "        g = grad_log_pi(x0)              # Compute gradient at x0\n",
    "        g = g / norm(g)                  # Normalize\n",
    "        v0 = v0s - alpha * g * (g @ v0s) # Tilt velocity\n",
    "        v0 = v0 * norm(v0s) / norm(v0)  # Rescale.\n",
    "        v, x = v0, x0                    # Housekeeping\n",
    "            \n",
    "        for _ in range(B):\n",
    "            x = x + delta*v/2           # Move to midpoint\n",
    "            g = grad_log_pi(x)          # Compute gradient at midpoint\n",
    "            ghat = g / norm(g)          # Normalize \n",
    "            v = v - 2*(v @ ghat) * ghat # Reflect velocity using midpoint gradient\n",
    "            x = x + delta*v/2           # Move from midpoint to end-point\n",
    "        # Unsqueeze the velocity\n",
    "        g = grad_log_pi(x)\n",
    "        g = g / norm(g)\n",
    "        vs = v + (alpha / (1 - alpha)) * g * (g @ v)\n",
    "        # Rescale\n",
    "        vs = vs * norm(v0s) /norm(vs)\n",
    "        # In the acceptance ratio must use spherical velocities!! Hence v0s and the unsqueezed v\n",
    "        Dpot = logpi(x) - logpi(x0)\n",
    "        Dkin = q.logpdf(vs)  - q.logpdf(v0s)\n",
    "        loga = Dpot + Dkin\n",
    "        Dpots_rhug[i] = Dpot\n",
    "        Dkins_rhug[i] = Dkin\n",
    "        Dpdf_rhug[i] = abs(target.logpdf(x) - target.logpdf(x0))\n",
    "        if logus[i] <= loga:\n",
    "            rhug = vstack((rhug, x))\n",
    "            arhug[i] = 1         # Accepted!\n",
    "            x0 = x\n",
    "        else:\n",
    "            rhug = vstack((rhug, x0))\n",
    "            arhug[i] = 0         # Rejected\n",
    "    return hug[1:], thug[1:], rhug[1:], ahug, athug, arhug, Dpots_hug, Dpots_thug, Dpots_rhug, Dkins_hug, Dkins_thug, Dkins_rhug, Dpdf_hug, Dpdf_thug, Dpdf_rhug,logus"
   ]
  },
  {
   "cell_type": "code",
   "execution_count": 260,
   "id": "ae8741f2",
   "metadata": {},
   "outputs": [],
   "source": [
    "N = 10000\n",
    "epsilon = 0.01\n",
    "alpha = 0.9\n",
    "multiplier = 1.0\n",
    "T = 2.0 * multiplier\n",
    "B = int(5 * multiplier)\n",
    "x0 = normal(size=2)                           # Keep initial point the same\n",
    "z0 = target.logpdf(x0)                        # Feed through simulator\n",
    "hug, thug, rhug, ahug, athug, arhug, Dpots_hug, Dpots_thug, Dpots_rhug, Dkins_hug, Dkins_thug, Dkins_rhug, Dpdf_hug, Dpdf_thug, Dpdf_rhug,logus = test(\n",
    "    x0, T, B, N, alpha, q, log_abc_posterior, grad_log_simulator\n",
    ")"
   ]
  },
  {
   "cell_type": "code",
   "execution_count": 261,
   "id": "2a6b499f",
   "metadata": {},
   "outputs": [
    {
     "name": "stdout",
     "output_type": "stream",
     "text": [
      "EPSILON:  0.01\n",
      "ALPHA:    0.9\n",
      "T:        2.0\n",
      "B:        5\n",
      "delta:    0.4\n",
      "--------------------------------------------------\n",
      "\tABS LOG-PDF\tAP\tUNIQUE\t\tKIN\tPOT\ttheta-ESS\tuESS\n",
      "HUG  \t0.00954\t\t65.87%\t6587\t-1.945e-17\t 6587\t519.66\t\t274.53\n",
      "THUG \t0.00618\t\t69.14%\t6914\t-1.615e+00\t 7591\t119.97\t\t131.97\n",
      "RHUG \t0.01043\t\t64.81%\t6481\t-3.619e-18\t 6481\t434.29\t\t513.92\n"
     ]
    }
   ],
   "source": [
    "print(\"EPSILON: \", epsilon)\n",
    "print(\"ALPHA:   \", alpha)\n",
    "print(\"T:       \", T)\n",
    "print(\"B:       \", B)\n",
    "print(\"delta:   \", T/B)\n",
    "print(\"-\"*50)\n",
    "print(\"\\tABS LOG-PDF\\tAP\\tUNIQUE\\t\\tKIN\\tPOT\\ttheta-ESS\\tuESS\")\n",
    "print(\"HUG  \\t{:.5f}\\t\\t{:.2%}\\t{:4d}\\t{:.3e}\\t{:5d}\\t{:.2f}\\t\\t{:.2f}\".format(mean(Dpdf_hug), mean(ahug), n_unique(hug), mean(Dkins_hug), sum(Dpots_hug == 0), ESS_univariate(hug[:, 0]), ESS_univariate(hug[:, 1])))\n",
    "print(\"THUG \\t{:.5f}\\t\\t{:.2%}\\t{:4d}\\t{:.3e}\\t{:5d}\\t{:.2f}\\t\\t{:.2f}\".format(mean(Dpdf_thug), mean(athug), n_unique(thug), mean(Dkins_thug), sum(Dpots_thug == 0), ESS_univariate(thug[:, 0]), ESS_univariate(thug[:, 1])))\n",
    "print(\"RHUG \\t{:.5f}\\t\\t{:.2%}\\t{:4d}\\t{:.3e}\\t{:5d}\\t{:.2f}\\t\\t{:.2f}\".format(mean(Dpdf_rhug), mean(arhug), n_unique(rhug), mean(Dkins_rhug), sum(Dpots_rhug == 0), ESS_univariate(rhug[:, 0]), ESS_univariate(rhug[:, 1])))"
   ]
  },
  {
   "cell_type": "code",
   "execution_count": null,
   "id": "2e63c398",
   "metadata": {},
   "outputs": [],
   "source": []
  },
  {
   "cell_type": "code",
   "execution_count": 262,
   "id": "25c36891",
   "metadata": {},
   "outputs": [
    {
     "data": {
      "image/png": "[encoded data removed]",
      "text/plain": [
       "<Figure size 1440x576 with 1 Axes>"
      ]
     },
     "metadata": {
      "needs_background": "light"
     },
     "output_type": "display_data"
    }
   ],
   "source": [
    "MVN_scatters([hug+0.1, thug+0.05, rhug], target, labels=['hug', 'thug', 'rhug'], levels=[target.pdf(x0)], lw=1, alpha=0.5,\n",
    "            xlims=[-2,2], ylims=[-4,4])"
   ]
  },
  {
   "cell_type": "code",
   "execution_count": 314,
   "id": "a3b0dd65",
   "metadata": {},
   "outputs": [],
   "source": [
    "def involution_rhug(x0, v0, delta=0.3, alpha=0.9):\n",
    "    x, v = x0, v0\n",
    "    # Rotate\n",
    "    g = grad_log_simulator(x) / norm(grad_log_simulator(x))\n",
    "    v = v - alpha * (v @ g) * g\n",
    "    v = v * norm(v0) / norm(v)\n",
    "    # Move \n",
    "    x = x + delta * v / 2\n",
    "    # Reflect\n",
    "    g = grad_log_simulator(x) / norm(grad_log_simulator(x))\n",
    "    v = v - 2 * (v @ g) * g\n",
    "    # Move\n",
    "    x = x + delta * v / 2\n",
    "    # Unrotate\n",
    "    g = grad_log_simulator(x) / norm(grad_log_simulator(x))\n",
    "    v = v + (alpha / (1-alpha)) * (v @ g) * g\n",
    "    v = v * norm(v0) / norm(v)\n",
    "    return x, -v  # Return negated velocity"
   ]
  },
  {
   "cell_type": "code",
   "execution_count": 315,
   "id": "27ecda19",
   "metadata": {},
   "outputs": [],
   "source": [
    "def involution_newrhug(x0, v0, delta=0.3, alpha=0.9):\n",
    "    x, v = x0, v0\n",
    "    # Squeeze\n",
    "    g = grad_log_simulator(x) / norm(grad_log_simulator(x))\n",
    "    v = v - alpha * (v @ g) * g\n",
    "    normv = norm(v)\n",
    "    v = v / normv\n",
    "    # Move \n",
    "    x = x + delta * v / 2\n",
    "    # Reflect\n",
    "    g = grad_log_simulator(x) / norm(grad_log_simulator(x))\n",
    "    v = v - 2 * (v @ g) * g\n",
    "    # Move\n",
    "    x = x + delta * v / 2\n",
    "    # Unrotate\n",
    "    g = grad_log_simulator(x) / norm(grad_log_simulator(x))\n",
    "    v = v * normv\n",
    "    v = v + (alpha / (1-alpha)) * (v @ g) * g\n",
    "    return x, -v  # Return negated velocity"
   ]
  },
  {
   "cell_type": "code",
   "execution_count": 316,
   "id": "ae63fcf7",
   "metadata": {},
   "outputs": [],
   "source": [
    "def involution_thug(x0, v0, delta=0.3, alpha=0.9):\n",
    "    x, v = x0, v0\n",
    "    # Rotate\n",
    "    g = grad_log_simulator(x) / norm(grad_log_simulator(x))\n",
    "    v = v - alpha * (v @ g) * g\n",
    "    # Move \n",
    "    x = x + delta * v / 2\n",
    "    # Reflect\n",
    "    g = grad_log_simulator(x) / norm(grad_log_simulator(x))\n",
    "    v = v - 2 * (v @ g) * g\n",
    "    # Move\n",
    "    x = x + delta * v / 2\n",
    "    # Unrotate\n",
    "    g = grad_log_simulator(x) / norm(grad_log_simulator(x))\n",
    "    v = v + (alpha / (1-alpha)) * (v @ g) * g\n",
    "    return x, -v  # Return negated velocity"
   ]
  },
  {
   "cell_type": "code",
   "execution_count": 347,
   "id": "f1796247",
   "metadata": {},
   "outputs": [
    {
     "data": {
      "text/plain": [
       "(array([ 1.853805  , -0.18040724]), array([ 0.0079663 , -0.84759351]))"
      ]
     },
     "execution_count": 347,
     "metadata": {},
     "output_type": "execute_result"
    }
   ],
   "source": [
    "v0 = q.rvs()\n",
    "a = 0.999999\n",
    "d = 0.3\n",
    "x0, v0"
   ]
  },
  {
   "cell_type": "code",
   "execution_count": 348,
   "id": "f30665a0",
   "metadata": {},
   "outputs": [],
   "source": [
    "x11, v11 = involution_rhug(x0, v0, alpha=a, delta=d)\n",
    "x12, v12 = involution_thug(x0, v0, alpha=a, delta=d)\n",
    "x13, v13 = involution_newrhug(x0, v0, alpha=a, delta=d)"
   ]
  },
  {
   "cell_type": "code",
   "execution_count": 349,
   "id": "dd3b0fba",
   "metadata": {},
   "outputs": [
    {
     "data": {
      "text/plain": [
       "-2.220446049250313e-16"
      ]
     },
     "execution_count": 349,
     "metadata": {},
     "output_type": "execute_result"
    }
   ],
   "source": [
    "norm(v0) - norm(v11)"
   ]
  },
  {
   "cell_type": "code",
   "execution_count": 350,
   "id": "e22a27fa",
   "metadata": {},
   "outputs": [
    {
     "data": {
      "text/plain": [
       "-84.17660480846806"
      ]
     },
     "execution_count": 350,
     "metadata": {},
     "output_type": "execute_result"
    }
   ],
   "source": [
    "norm(v0) - norm(v12)"
   ]
  },
  {
   "cell_type": "code",
   "execution_count": 351,
   "id": "cf83a4c7",
   "metadata": {},
   "outputs": [
    {
     "data": {
      "text/plain": [
       "-126.57012142114328"
      ]
     },
     "execution_count": 351,
     "metadata": {},
     "output_type": "execute_result"
    }
   ],
   "source": [
    "norm(v0) - norm(v13)"
   ]
  },
  {
   "cell_type": "code",
   "execution_count": null,
   "id": "a068dfb8",
   "metadata": {},
   "outputs": [],
   "source": []
  }
 ],
 "metadata": {
  "kernelspec": {
   "display_name": "Python 3 (ipykernel)",
   "language": "python",
   "name": "python3"
  },
  "language_info": {
   "codemirror_mode": {
    "name": "ipython",
    "version": 3
   },
   "file_extension": ".py",
   "mimetype": "text/x-python",
   "name": "python",
   "nbconvert_exporter": "python",
   "pygments_lexer": "ipython3",
   "version": "3.8.10"
  }
 },
 "nbformat": 4,
 "nbformat_minor": 5
}
