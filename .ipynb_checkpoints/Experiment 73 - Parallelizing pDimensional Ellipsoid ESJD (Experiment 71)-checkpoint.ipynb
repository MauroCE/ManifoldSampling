{
 "cells": [
  {
   "cell_type": "code",
   "execution_count": 41,
   "id": "abc90785",
   "metadata": {},
   "outputs": [],
   "source": [
    "import numpy as np\n",
    "from scipy.stats import multivariate_normal as MVN\n",
    "from numpy import load\n",
    "import matplotlib.pyplot as plt\n",
    "from scipy.optimize import root, fsolve, minimize\n",
    "from numpy.linalg import norm, solve, inv, det\n",
    "from numpy import log, zeros, eye, exp, cos, sin, pi, diag\n",
    "from scipy.stats import uniform as udist\n",
    "from numpy.random import rand\n",
    "from matplotlib.colors import ListedColormap\n",
    "from warnings import catch_warnings, filterwarnings\n",
    "from scipy.linalg import qr\n",
    "from copy import deepcopy\n",
    "from matplotlib.colors import LogNorm\n",
    "from matplotlib.ticker import LogFormatterMathtext\n",
    "\n",
    "from multiprocessing import Pool\n",
    "from itertools import product\n",
    "\n",
    "from utils import prep_contour, generate_powers_of_ten\n",
    "from Manifolds.GeneralizedEllipse import GeneralizedEllipse"
   ]
  },
  {
   "cell_type": "code",
   "execution_count": 44,
   "id": "2c2546da",
   "metadata": {},
   "outputs": [],
   "source": [
    "normalize = lambda a: a / np.nanmax(a)"
   ]
  },
  {
   "cell_type": "code",
   "execution_count": 181,
   "id": "86b74d58",
   "metadata": {},
   "outputs": [],
   "source": [
    "folder  = 'experiment73/'\n",
    "results = load(folder + 'results.npy')\n",
    "alphas  = load(folder + 'alphas.npy')\n",
    "deltas  = load(folder + 'deltas.npy')"
   ]
  },
  {
   "cell_type": "code",
   "execution_count": 182,
   "id": "f7dc07da",
   "metadata": {},
   "outputs": [
    {
     "data": {
      "image/png": "[encoded data removed]",
      "text/plain": [
       "<Figure size 360x288 with 2 Axes>"
      ]
     },
     "metadata": {
      "needs_background": "light"
     },
     "output_type": "display_data"
    }
   ],
   "source": [
    "fig, ax = plt.subplots(figsize=(5, 4))\n",
    "im = ax.pcolor(deltas, alphas, normalize(results))\n",
    "ax.set_xscale('log')\n",
    "\n",
    "fig.subplots_adjust(right=0.95)\n",
    "cbar_ax = fig.add_axes([0.98, 0.125, 0.01, 0.75])\n",
    "fig.colorbar(im, cax=cbar_ax)\n",
    "plt.show()"
   ]
  },
  {
   "cell_type": "markdown",
   "id": "6f4ad281",
   "metadata": {},
   "source": [
    "# Generate Tables like in the 2D case"
   ]
  },
  {
   "cell_type": "code",
   "execution_count": 235,
   "id": "ed2e8059",
   "metadata": {},
   "outputs": [],
   "source": [
    "def HugTangentialMultivariate(x0, T, B, N, α, q, logpi, jac, method='qr'):\n",
    "    \"\"\"Multidimensional Tangential Hug sampler. Two possible methods:\n",
    "    - 'qr': projects onto row space of Jacobian using QR decomposition.\n",
    "    - 'linear': solves a linear system to project.\n",
    "    \"\"\"\n",
    "    OUT = {\n",
    "    'LOGAR': [np.nan for i in range(N)],     # Acceptance Ratio\n",
    "    'Δk': [np.nan for i in range(N)],     # Kinetic Energy\n",
    "    'Δℓ': [np.nan for i in range(N)],     # Potential Energy\n",
    "    'ACCEPTANCES': np.zeros(N),\n",
    "    'EJSD_AP': [np.nan for i in range(N)], # Acceptance PROBABILITY * Squared Distance\n",
    "    }\n",
    "    assert method == 'qr' or method == 'linear' or method == 'lstsq'\n",
    "    def qr_project(v, J):\n",
    "        \"\"\"Projects using QR decomposition.\"\"\"\n",
    "        Q, _ = qr(J.T, mode='economic')\n",
    "        return Q.dot((Q.T.dot(v)))\n",
    "    def linear_project(v, J):\n",
    "        \"\"\"Projects by solving linear system.\"\"\"\n",
    "        return J.T.dot(solve(J.dot(J.T), J.dot(v)))\n",
    "    def lstsq_project(v, J):\n",
    "        \"\"\"Projects using scipy's Least Squares Routine.\"\"\"\n",
    "        return J.T.dot(lstsq(J.T, v)[0])\n",
    "    if method == 'qr':\n",
    "        project = qr_project\n",
    "    elif method == 'linear':\n",
    "        project = linear_project\n",
    "    else:\n",
    "        project = lstsq_project\n",
    "    # Jacobian function raising an error for RuntimeWarning\n",
    "    def safe_jac(x):\n",
    "        \"\"\"Raises an error when a RuntimeWarning appears.\"\"\"\n",
    "        while catch_warnings():\n",
    "            filterwarnings('error')\n",
    "            try:\n",
    "                return jac(x)\n",
    "            except RuntimeWarning:\n",
    "                raise ValueError(\"Jacobian computation failed due to Runtime Warning.\")\n",
    "    samples, acceptances = x0, np.zeros(N)\n",
    "    # Compute initial Jacobian. \n",
    "    for i in range(N):\n",
    "        v0s = q.rvs()\n",
    "        # Squeeze\n",
    "        v0 = v0s - α * project(v0s, safe_jac(x0)) #jac(x0))\n",
    "        v, x = v0, x0\n",
    "        logu = np.log(rand())\n",
    "        δ = T / B\n",
    "        for _ in range(B):\n",
    "            xmid = x + δ*v/2\n",
    "            v = v - 2 * project(v, safe_jac(xmid)) #jac(x))\n",
    "            x = xmid + δ*v/2\n",
    "        # Unsqueeze\n",
    "        v = v + (α / (1 - α)) * project(v, safe_jac(x)) #jac(x))\n",
    "        # In the acceptance ratio must use spherical velocities!! Hence v0s and the unsqueezed v\n",
    "        logar = logpi(x) + q.logpdf(v) - logpi(x0) - q.logpdf(v0s)\n",
    "        ar = exp(logar)\n",
    "        OUT['LOGAR'][i] = logar\n",
    "        OUT['Δk'][i] = - norm(v)**2 + norm(v0s)**2\n",
    "        OUT['Δℓ'][i] = logpi(x) - logpi(x0)\n",
    "        OUT['EJSD_AP'][i] = np.clip(ar, a_min=0.0, a_max=1.0) * (norm(x - x0)**2)\n",
    "        if logu <= logar:\n",
    "            OUT['ACCEPTANCES'][i] = 1         # Accepted!\n",
    "            x0 = x\n",
    "        else:\n",
    "            OUT['ACCEPTANCES'][i] = 0         # Rejected\n",
    "    return OUT"
   ]
  },
  {
   "cell_type": "code",
   "execution_count": 186,
   "id": "2c609f3b",
   "metadata": {},
   "outputs": [],
   "source": [
    "def percentage_in_interval(iterable, left, right):\n",
    "    \"\"\"Counts the number of elements in `iterable` that are contained in the \n",
    "    interval `[left, right]`.\"\"\"\n",
    "    array = np.array(iterable)\n",
    "    flag = (left <= array) & (array <= right)\n",
    "    return (len(array[flag]) / len(array)) * 100"
   ]
  },
  {
   "cell_type": "code",
   "execution_count": 187,
   "id": "7c1cea4f",
   "metadata": {},
   "outputs": [],
   "source": [
    "def find_value_so_prop_Δℓ_larger_new(iterable, p):\n",
    "    N = len(iterable)\n",
    "    return np.sort(np.array(iterable))[int(np.floor(N*np.round(1-p, decimals=2)))]"
   ]
  },
  {
   "cell_type": "code",
   "execution_count": 188,
   "id": "b852e45b",
   "metadata": {},
   "outputs": [],
   "source": [
    "def generate_Δℓ_table_new(outs, props):\n",
    "    \"\"\"This table only works on intervals of the type [L, \\infty).\"\"\"\n",
    "    table = zeros((len(outs), len(props)))\n",
    "    Ls = []\n",
    "    for p_ix, p in enumerate(props):\n",
    "        # Find value L so that a proportion p of samples have Δℓ larger than L\n",
    "        L = find_value_so_prop_Δℓ_larger_new(outs[0]['Δℓ'], p)\n",
    "        Ls.append(L)\n",
    "        # Fill in the first row of the table\n",
    "        table[0, p_ix] = percentage_in_interval(outs[0]['Δℓ'], L, np.inf) # should be p\n",
    "        # Fill in the rest of the rows for other αs\n",
    "        for α_ix in range(1, len(outs)):\n",
    "            table[α_ix, p_ix] = percentage_in_interval(outs[α_ix]['Δℓ'], L, np.inf)\n",
    "    return table, Ls"
   ]
  },
  {
   "cell_type": "code",
   "execution_count": 189,
   "id": "c8c634bb",
   "metadata": {},
   "outputs": [],
   "source": [
    "def generate_latex_table(table, Ls, heading='potential'):\n",
    "    \"\"\"Generate table.\"\"\"\n",
    "    assert heading in ['potential', 'kinetic', 'sum']\n",
    "    s  = r\"\\begin{table}[htp]\"         + \"\\n\"\n",
    "    s += r\"\\begin{tabular}{l|llll}\"    + \"\\n\"\n",
    "    if heading == 'potential':\n",
    "        s += r\"& $\\Delta\\ell \\geq {:.2f}$ & $\\Delta\\ell \\geq {:.2f}$ & $\\Delta\\ell \\geq {:.2f}$ & $\\Delta\\ell \\geq {:.2f}$ \\\\ \\hline\".format(*Ls) + \"\\n\"\n",
    "    elif heading == 'kinetic':\n",
    "        s += r\"& $\\Delta k \\geq {:.2f}$ & $\\Delta k \\geq {:.2f}$ & $\\Delta k \\geq {:.2f}$ & $\\Delta k \\geq {:.2f}$ \\\\ \\hline\".format(*Ls) + \"\\n\"\n",
    "    else:\n",
    "        s += r\"& $\\log a\\geq {:.2f}$ & $\\log a\\geq {:.2f}$ & $\\log a\\geq {:.2f}$ & $\\log a\\geq {:.2f}$ \\\\ \\hline\".format(*Ls) + \"\\n\"\n",
    "    s += r\"$\\alpha = 0$    & {:.0f} & {:.0f} & {:.0f} & {:.0f} \\\\\".format(*table[0, :]) + \"\\n\"\n",
    "    s += r\"$\\alpha = 0.5$  & {:.2f} & {:.2f} & {:.2f} & {:.2f} \\\\\".format(*table[1, :]) + \"\\n\"\n",
    "    s += r\"$\\alpha = 0.9$  & {:.2f} & {:.2f} & {:.2f} & {:.2f} \\\\\".format(*table[2, :]) + \"\\n\"\n",
    "    s += r\"$\\alpha = 0.99$ & {:.2f} & {:.2f} & {:.2f} & {:.2f}\".format(*table[3, :]) + \"\\n\"\n",
    "    s += r\"\\end{tabular}\" + \"\\n\"\n",
    "    s += r\"\\end{table}\"\n",
    "    print(s)"
   ]
  },
  {
   "cell_type": "code",
   "execution_count": 230,
   "id": "ab5f8a5f",
   "metadata": {},
   "outputs": [],
   "source": [
    "def generate_Δk_table(outs, props):\n",
    "    \"\"\"This table only works on intervals of the type [L, infty).\"\"\"\n",
    "    table = zeros((len(outs), len(props)))\n",
    "    Ks = []\n",
    "    for p_ix, p in enumerate(props):\n",
    "        # Find indeces of samples with Δℓ > L\n",
    "        K = find_value_so_prop_Δℓ_larger_new(outs[-1]['Δk'], p)\n",
    "        Ks.append(K)\n",
    "        # Fill in the first row of the table\n",
    "        table[-1, p_ix] = percentage_in_interval(outs[-1]['Δk'], K, np.inf) # should be p\n",
    "        # Fill in the rest of the rows for other αs\n",
    "        for α_ix in range(len(outs)-1, -1, -1):\n",
    "            table[α_ix, p_ix] = percentage_in_interval(outs[α_ix]['Δk'], K, np.inf)\n",
    "    return table, Ks"
   ]
  },
  {
   "cell_type": "code",
   "execution_count": 241,
   "id": "2e1d7364",
   "metadata": {},
   "outputs": [],
   "source": [
    "def generate_logar_table(outs, props):\n",
    "    \"\"\"This table only works on intervals of the type [L, infty).\"\"\"\n",
    "    table = zeros((len(outs), len(props)))\n",
    "    As = []\n",
    "    for p_ix, p in enumerate(props):\n",
    "        # Find value L so that a proportion p of samples have Δℓ larger than L\n",
    "        A = find_value_so_prop_Δℓ_larger_new(outs[0]['LOGAR'], p)\n",
    "        As.append(A)\n",
    "        # Fill in the first row of the table\n",
    "        table[0, p_ix] = percentage_in_interval(outs[0]['LOGAR'], A, np.inf) # should be p\n",
    "        # Fill in the rest of the rows for other αs\n",
    "        for α_ix in range(1, len(outs)):\n",
    "            table[α_ix, p_ix] = percentage_in_interval(outs[α_ix]['LOGAR'], A, np.inf)\n",
    "    return table, As"
   ]
  },
  {
   "cell_type": "code",
   "execution_count": 194,
   "id": "77858ea4",
   "metadata": {},
   "outputs": [],
   "source": [
    "def generate_starting_points(ϵs, n_tries=10):\n",
    "    x0s = np.zeros((len(ϵs), p))\n",
    "    for i in range(len(ϵs)):\n",
    "        j = 0\n",
    "        while j <= n_tries:\n",
    "            j += 1\n",
    "            with catch_warnings():\n",
    "                filterwarnings('error')\n",
    "                try: \n",
    "                    x0 = ellipse.sample(advanced=True)\n",
    "                    x0s[i, :] = x0\n",
    "                    break\n",
    "                except RuntimeWarning:\n",
    "                    print(f\"Can't find {i}th point. Trying again.\")\n",
    "                    continue\n",
    "            if j == n_tries:\n",
    "                raise ValueError(\"Couldn't find point.\")\n",
    "    return x0s"
   ]
  },
  {
   "cell_type": "code",
   "execution_count": 200,
   "id": "b470c650",
   "metadata": {},
   "outputs": [],
   "source": [
    "def generate_logpi(ϵ):\n",
    "    def logkernel(xi):\n",
    "        return -norm(f(xi) - z0)**2/(2*(ϵ**2)) - np.log(ϵ)\n",
    "    # Logpi\n",
    "    logpi = lambda xi: logkernel(xi) \n",
    "    return logpi\n",
    "\n",
    "def generate_output(ϵs, αs, δs, x0s, N=1000):\n",
    "    OUTS = []\n",
    "    for ϵix, ϵ in enumerate(ϵs):\n",
    "        for αix, α in enumerate(αs):\n",
    "            for δix, δ in enumerate(δs):\n",
    "                logpi = generate_logpi(ϵ)\n",
    "                jac = lambda xi: ellipse.Q(xi).T\n",
    "                OUTS.append(HugTangentialMultivariate(x0s[ϵix], δ*B, B, N, α, q, logpi, jac))\n",
    "    return OUTS"
   ]
  },
  {
   "cell_type": "code",
   "execution_count": 201,
   "id": "a594d67b",
   "metadata": {},
   "outputs": [],
   "source": [
    "# Define constraint function\n",
    "p = 10\n",
    "μ = zeros(p)\n",
    "diagonal = np.array([0.1, 1, 1, 1, 1, 1, 1, 1, 1, 1]) #np.array([100, 100, *np.ones(p-2)])#np.concatenate((np.full(p//2, 100), np.ones(p - (p//2))))\n",
    "Σ = diag(diagonal)\n",
    "π = MVN(μ, Σ)\n",
    "f = π.logpdf\n",
    "# Ellipsoid\n",
    "z0 = -23\n",
    "ellipse = GeneralizedEllipse(μ, Σ, exp(z0))"
   ]
  },
  {
   "cell_type": "code",
   "execution_count": 202,
   "id": "1bf93673",
   "metadata": {},
   "outputs": [],
   "source": [
    "x0s = generate_starting_points(np.zeros(1))"
   ]
  },
  {
   "cell_type": "code",
   "execution_count": 219,
   "id": "0bcdffc6",
   "metadata": {},
   "outputs": [],
   "source": [
    "αs = [0.0, 0.5, 0.9, 0.99]"
   ]
  },
  {
   "cell_type": "markdown",
   "id": "fb9c519e",
   "metadata": {},
   "source": [
    "## $\\epsilon=0.001$"
   ]
  },
  {
   "cell_type": "code",
   "execution_count": 263,
   "id": "f7b8f1bd",
   "metadata": {},
   "outputs": [],
   "source": [
    "OUTS_001 = generate_output(\n",
    "    ϵs = [0.001],\n",
    "    αs = αs,\n",
    "    δs = [0.1],\n",
    "    x0s = x0s,\n",
    "    N = 20000\n",
    ")"
   ]
  },
  {
   "cell_type": "markdown",
   "id": "b374fed8",
   "metadata": {},
   "source": [
    "#### Potential Energy table"
   ]
  },
  {
   "cell_type": "code",
   "execution_count": 265,
   "id": "f6c5b785",
   "metadata": {},
   "outputs": [
    {
     "name": "stdout",
     "output_type": "stream",
     "text": [
      "\\begin{table}[htp]\n",
      "\\begin{tabular}{l|llll}\n",
      "& $\\Delta\\ell \\geq -3.64$ & $\\Delta\\ell \\geq -30.73$ & $\\Delta\\ell \\geq -155.60$ & $\\Delta\\ell \\geq -471.50$ \\\\ \\hline\n",
      "$\\alpha = 0$    & 25 & 50 & 75 & 90 \\\\\n",
      "$\\alpha = 0.5$  & 29.84 & 57.89 & 82.31 & 93.61 \\\\\n",
      "$\\alpha = 0.9$  & 35.00 & 62.59 & 83.66 & 93.47 \\\\\n",
      "$\\alpha = 0.99$ & 34.71 & 63.38 & 85.00 & 94.47\n",
      "\\end{tabular}\n",
      "\\end{table}\n"
     ]
    }
   ],
   "source": [
    "generate_latex_table(*generate_Δℓ_table_new(OUTS_001, [0.25, 0.5, 0.75, 0.9]))"
   ]
  },
  {
   "cell_type": "markdown",
   "id": "f34b9ea3",
   "metadata": {},
   "source": [
    "#### Kinetic Energy Table"
   ]
  },
  {
   "cell_type": "code",
   "execution_count": 266,
   "id": "877bbca3",
   "metadata": {},
   "outputs": [
    {
     "name": "stdout",
     "output_type": "stream",
     "text": [
      "\\begin{table}[htp]\n",
      "\\begin{tabular}{l|llll}\n",
      "& $\\Delta k \\geq 0.10$ & $\\Delta k \\geq -0.29$ & $\\Delta k \\geq -2.41$ & $\\Delta k \\geq -10.65$ \\\\ \\hline\n",
      "$\\alpha = 0$    & 0 & 100 & 100 & 100 \\\\\n",
      "$\\alpha = 0.5$  & 20.01 & 82.49 & 98.32 & 99.97 \\\\\n",
      "$\\alpha = 0.9$  & 23.54 & 76.95 & 94.73 & 99.44 \\\\\n",
      "$\\alpha = 0.99$ & 25.00 & 50.00 & 75.00 & 90.00\n",
      "\\end{tabular}\n",
      "\\end{table}\n"
     ]
    }
   ],
   "source": [
    "generate_latex_table(*generate_Δk_table(OUTS_001, [0.25, 0.5, 0.75, 0.9]), heading='kinetic')"
   ]
  },
  {
   "cell_type": "markdown",
   "id": "64f1e55c",
   "metadata": {},
   "source": [
    "#### Log-Acceptance Ratio table"
   ]
  },
  {
   "cell_type": "code",
   "execution_count": 267,
   "id": "eb78b832",
   "metadata": {},
   "outputs": [
    {
     "name": "stdout",
     "output_type": "stream",
     "text": [
      "\\begin{table}[htp]\n",
      "\\begin{tabular}{l|llll}\n",
      "& $\\log a\\geq -3.64$ & $\\log a\\geq -30.73$ & $\\log a\\geq -155.60$ & $\\log a\\geq -471.50$ \\\\ \\hline\n",
      "$\\alpha = 0$    & 25 & 50 & 75 & 90 \\\\\n",
      "$\\alpha = 0.5$  & 29.79 & 57.86 & 82.30 & 93.61 \\\\\n",
      "$\\alpha = 0.9$  & 34.98 & 62.52 & 83.67 & 93.47 \\\\\n",
      "$\\alpha = 0.99$ & 33.78 & 62.97 & 84.64 & 94.31\n",
      "\\end{tabular}\n",
      "\\end{table}\n"
     ]
    }
   ],
   "source": [
    "generate_latex_table(*generate_logar_table(OUTS_001, [0.25, 0.5, 0.75, 0.9]), heading='sum')"
   ]
  },
  {
   "cell_type": "markdown",
   "id": "116f9057",
   "metadata": {},
   "source": [
    "## $\\epsilon = 0.0001$"
   ]
  },
  {
   "cell_type": "code",
   "execution_count": 290,
   "id": "b1e42754",
   "metadata": {},
   "outputs": [],
   "source": [
    "OUTS_0001 = generate_output(\n",
    "    ϵs = [0.0001],\n",
    "    αs = αs,\n",
    "    δs = [0.03],\n",
    "    x0s = x0s,\n",
    "    N = 20000\n",
    ")"
   ]
  },
  {
   "cell_type": "code",
   "execution_count": 291,
   "id": "cb00ed8d",
   "metadata": {},
   "outputs": [
    {
     "data": {
      "text/plain": [
       "[25.624999999999996, 33.83, 40.015, 39.92]"
      ]
     },
     "execution_count": 291,
     "metadata": {},
     "output_type": "execute_result"
    }
   ],
   "source": [
    "[np.mean(OUTS_0001[i]['ACCEPTANCES'])*100 for i in range(len(αs))]"
   ]
  },
  {
   "cell_type": "markdown",
   "id": "a2ad555f",
   "metadata": {},
   "source": [
    "#### potential energy table"
   ]
  },
  {
   "cell_type": "code",
   "execution_count": 292,
   "id": "d34d3c8a",
   "metadata": {},
   "outputs": [
    {
     "name": "stdout",
     "output_type": "stream",
     "text": [
      "\\begin{table}[htp]\n",
      "\\begin{tabular}{l|llll}\n",
      "& $\\Delta\\ell \\geq -0.70$ & $\\Delta\\ell \\geq -6.91$ & $\\Delta\\ell \\geq -37.36$ & $\\Delta\\ell \\geq -150.41$ \\\\ \\hline\n",
      "$\\alpha = 0$    & 25 & 50 & 75 & 90 \\\\\n",
      "$\\alpha = 0.5$  & 33.36 & 62.16 & 83.70 & 94.03 \\\\\n",
      "$\\alpha = 0.9$  & 40.39 & 67.12 & 85.37 & 94.58 \\\\\n",
      "$\\alpha = 0.99$ & 39.70 & 66.14 & 84.45 & 94.58\n",
      "\\end{tabular}\n",
      "\\end{table}\n"
     ]
    }
   ],
   "source": [
    "generate_latex_table(*generate_Δℓ_table_new(OUTS_0001, [0.25, 0.5, 0.75, 0.9]))"
   ]
  },
  {
   "cell_type": "markdown",
   "id": "98398f61",
   "metadata": {},
   "source": [
    "#### kinetic energy"
   ]
  },
  {
   "cell_type": "code",
   "execution_count": 293,
   "id": "6f941954",
   "metadata": {},
   "outputs": [
    {
     "name": "stdout",
     "output_type": "stream",
     "text": [
      "\\begin{table}[htp]\n",
      "\\begin{tabular}{l|llll}\n",
      "& $\\Delta k \\geq 0.04$ & $\\Delta k \\geq -0.00$ & $\\Delta k \\geq -0.10$ & $\\Delta k \\geq -0.51$ \\\\ \\hline\n",
      "$\\alpha = 0$    & 0 & 100 & 100 & 100 \\\\\n",
      "$\\alpha = 0.5$  & 23.75 & 55.96 & 82.10 & 95.12 \\\\\n",
      "$\\alpha = 0.9$  & 24.26 & 52.93 & 77.92 & 92.39 \\\\\n",
      "$\\alpha = 0.99$ & 25.00 & 50.00 & 75.00 & 90.00\n",
      "\\end{tabular}\n",
      "\\end{table}\n"
     ]
    }
   ],
   "source": [
    "generate_latex_table(*generate_Δk_table(OUTS_0001, [0.25, 0.5, 0.75, 0.9]), heading='kinetic')"
   ]
  },
  {
   "cell_type": "markdown",
   "id": "496ca8bd",
   "metadata": {},
   "source": [
    "#### Log-Acceptance-Ratio table"
   ]
  },
  {
   "cell_type": "code",
   "execution_count": 294,
   "id": "a1a3b80d",
   "metadata": {},
   "outputs": [
    {
     "name": "stdout",
     "output_type": "stream",
     "text": [
      "\\begin{table}[htp]\n",
      "\\begin{tabular}{l|llll}\n",
      "& $\\log a\\geq -0.70$ & $\\log a\\geq -6.91$ & $\\log a\\geq -37.36$ & $\\log a\\geq -150.41$ \\\\ \\hline\n",
      "$\\alpha = 0$    & 25 & 50 & 75 & 90 \\\\\n",
      "$\\alpha = 0.5$  & 33.24 & 62.09 & 83.68 & 94.03 \\\\\n",
      "$\\alpha = 0.9$  & 40.23 & 67.09 & 85.36 & 94.56 \\\\\n",
      "$\\alpha = 0.99$ & 39.56 & 66.09 & 84.40 & 94.57\n",
      "\\end{tabular}\n",
      "\\end{table}\n"
     ]
    }
   ],
   "source": [
    "generate_latex_table(*generate_logar_table(OUTS_0001, [0.25, 0.5, 0.75, 0.9]), heading='sum')"
   ]
  },
  {
   "cell_type": "code",
   "execution_count": null,
   "id": "0da4345c",
   "metadata": {},
   "outputs": [],
   "source": []
  },
  {
   "cell_type": "code",
   "execution_count": null,
   "id": "d8c3d20d",
   "metadata": {},
   "outputs": [],
   "source": []
  },
  {
   "cell_type": "code",
   "execution_count": 176,
   "id": "e99763a9",
   "metadata": {},
   "outputs": [],
   "source": [
    "def plot_room():\n",
    "    fig, ax = plt.subplots(figsize=(5,10))\n",
    "    # Left wall\n",
    "    x_lw = np.repeat(0, 100)\n",
    "    y_lw = np.linspace(0, 1.72, 100)\n",
    "    # Top wall\n",
    "    x_tw = np.linspace(0, 1.10, 100)\n",
    "    y_tw = np.repeat(1.72, 100)\n",
    "    # Right wall\n",
    "    x_rw = np.repeat(1.10, 100)\n",
    "    y_rw = np.linspace(0.45, 1.72, 100)\n",
    "    # Door wall\n",
    "    x_dw = np.linspace(0.69, 1.10, 100)\n",
    "    y_dw = np.repeat(0.45, 100)\n",
    "    # Right wall next to door\n",
    "    x_rwnd = np.repeat(0.69, 100)\n",
    "    y_rwnd = np.linspace(0.0, 0.45, 100)\n",
    "    # Bottom wall\n",
    "    x_bw = np.linspace(0.0, 0.69, 100)\n",
    "    y_bw = np.repeat(0.0, 100)\n",
    "    # Plot\n",
    "    ax.plot(x_lw, y_lw, color='k')\n",
    "    ax.plot(x_tw, y_tw, color='k')\n",
    "    ax.plot(x_rw, y_rw, color='k')\n",
    "    ax.plot(x_dw, y_dw, color='k')\n",
    "    ax.plot(x_rwnd, y_rwnd, color='k')\n",
    "    ax.plot(x_bw, y_bw, color='k')\n",
    "    ax.plot(*plot_bed(ax, θ=2*np.pi, xshift=0.5, yshift=0.9), c='red')\n",
    "    ax.plot(*plot_desk(ax, yshift=0.53), c='blue')\n",
    "    ax.plot(*plot_wardrobe(ax, θ=np.pi/2, yshift=-0.69), c='brown')\n",
    "    ax.set_aspect('equal')\n",
    "    plt.show()"
   ]
  },
  {
   "cell_type": "code",
   "execution_count": 177,
   "id": "6641cf2d",
   "metadata": {},
   "outputs": [],
   "source": [
    "def plot_bed(ax, xshift=0.0, yshift=0.0, θ=0.0):\n",
    "    # x-values\n",
    "    x1 = np.repeat(0.0 + xshift, 100)\n",
    "    x2 = np.linspace(0.0 + xshift, 0.53 + xshift, 100)\n",
    "    x3 = x2[::-1]\n",
    "    x4 = np.repeat(0.53 + xshift, 100)\n",
    "    # y-values\n",
    "    y1 = np.linspace(0.0 + yshift, 0.79 + yshift, 100)\n",
    "    y2 = np.repeat(0.0 + yshift, 100)\n",
    "    y3 = np.repeat(0.79 + yshift, 100)\n",
    "    y4 = np.linspace(0.0 + yshift, 0.79 + yshift, 100)\n",
    "    # plot\n",
    "    x = np.concatenate((x1, x2, x4, x3))\n",
    "    y = np.concatenate((y1, y2, y4, y3))\n",
    "    # Rotate\n",
    "    R = np.array([[np.cos(θ), -np.sin(θ)], [np.sin(θ), np.cos(θ)]])\n",
    "    return R @ np.vstack((x, y))\n",
    "\n",
    "\n",
    "def plot_desk(ax, xshift=0.0, yshift=0.0, θ=0.0):\n",
    "    # x-values\n",
    "    x1 = np.repeat(0.0 + xshift, 100)\n",
    "    x2 = np.linspace(0.0 + xshift, 0.32 + xshift, 100)\n",
    "    x3 = x2[::-1]\n",
    "    x4 = np.repeat(0.32 + xshift, 100)\n",
    "    # y-values\n",
    "    y1 = np.linspace(0.0 + yshift, 0.63 + yshift, 100)\n",
    "    y2 = np.repeat(0.0 + yshift, 100)\n",
    "    y3 = np.repeat(0.63 + yshift, 100)\n",
    "    y4 = np.linspace(0.0 + yshift, 0.63 + yshift, 100)\n",
    "    # plot\n",
    "    x = np.concatenate((x1, x2, x4, x3))\n",
    "    y = np.concatenate((y1, y2, y4, y3))\n",
    "    # Rotate\n",
    "    R = np.array([[np.cos(θ), -np.sin(θ)], [np.sin(θ), np.cos(θ)]])\n",
    "    return R @ np.vstack((x, y))\n",
    "\n",
    "def plot_wardrobe(ax, xshift=0.0, yshift=0.0, θ=0.0):\n",
    "    # x-values\n",
    "    x1 = np.repeat(0.0 + xshift, 100)\n",
    "    x2 = np.linspace(0.0 + xshift, 0.18 + xshift, 100)\n",
    "    x3 = x2[::-1]\n",
    "    x4 = np.repeat(0.18 + xshift, 100)\n",
    "    # y-values\n",
    "    y1 = np.linspace(0.0 + yshift, 0.45 + yshift, 100)\n",
    "    y2 = np.repeat(0.0 + yshift, 100)\n",
    "    y3 = np.repeat(0.45 + yshift, 100)\n",
    "    y4 = np.linspace(0.0 + yshift, 0.45 + yshift, 100)\n",
    "    # plot\n",
    "    x = np.concatenate((x1, x2, x4, x3))\n",
    "    y = np.concatenate((y1, y2, y4, y3))\n",
    "    # Rotate\n",
    "    R = np.array([[np.cos(θ), -np.sin(θ)], [np.sin(θ), np.cos(θ)]])\n",
    "    return R @ np.vstack((x, y))"
   ]
  },
  {
   "cell_type": "code",
   "execution_count": 178,
   "id": "b129efa7",
   "metadata": {},
   "outputs": [
    {
     "data": {
      "image/png": "[encoded data removed]",
      "text/plain": [
       "<Figure size 360x720 with 1 Axes>"
      ]
     },
     "metadata": {
      "needs_background": "light"
     },
     "output_type": "display_data"
    }
   ],
   "source": [
    "plot_room()"
   ]
  },
  {
   "cell_type": "code",
   "execution_count": null,
   "id": "7e506644",
   "metadata": {},
   "outputs": [],
   "source": []
  }
 ],
 "metadata": {
  "kernelspec": {
   "display_name": "Python 3 (ipykernel)",
   "language": "python",
   "name": "python3"
  },
  "language_info": {
   "codemirror_mode": {
    "name": "ipython",
    "version": 3
   },
   "file_extension": ".py",
   "mimetype": "text/x-python",
   "name": "python",
   "nbconvert_exporter": "python",
   "pygments_lexer": "ipython3",
   "version": "3.10.4"
  }
 },
 "nbformat": 4,
 "nbformat_minor": 5
}
