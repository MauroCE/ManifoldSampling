{
 "cells": [
  {
   "cell_type": "code",
   "execution_count": 1,
   "id": "5caff841",
   "metadata": {},
   "outputs": [],
   "source": [
    "import numpy as np\n",
    "from numpy import eye, zeros, log, vstack, errstate, exp\n",
    "from numpy.random import rand\n",
    "from numpy.linalg import solve, norm, inv\n",
    "from scipy.stats import multivariate_normal as MVN\n",
    "import matplotlib.pyplot as plt\n",
    "\n",
    "from Manifolds.GeneralizedEllipse import GeneralizedEllipse\n",
    "from utils import quick_MVN_scatter, prep_contour\n",
    "from tangential_hug_functions import Hug\n",
    "from third_order_method import true_ruth_integrator\n",
    "from third_order_method import true_ruth_integrator_gaussian\n",
    "from third_order_method import approx_ruth_integrator\n",
    "from third_order_method import check_involution, mse\n",
    "from third_order_method import true_ruth_sampler, true_ruth_sampler_thug\n",
    "from third_order_method import fourth_order_explicit\n",
    "from third_order_method import true_hug_integrator, concatenate_true_hug_integrators\n",
    "from third_order_method import approx_hug_integrator, concatenate_approx_hug_integrators\n",
    "from third_order_method import new_integrator\n",
    "\n",
    "from warnings import catch_warnings, filterwarnings"
   ]
  },
  {
   "cell_type": "markdown",
   "id": "67cf0e01",
   "metadata": {},
   "source": [
    "Gaussian prior distribution $p(x) = \\mathcal{N}(0, I)$. The deterministic function is \n",
    "$$\n",
    "f(x) = \\log\\mathcal{N}(x\\mid \\mu, \\Sigma)\n",
    "$$\n",
    "The contour we are trying to follow is\n",
    "$$\n",
    "\\left\\{x\\in\\mathbb{R}^2\\,:\\, f(x) = \\log z0\\right\\}.\n",
    "$$\n",
    "Using an epanechnikov kernel $p_\\epsilon(y^* \\mid x)$ for $y^* = \\log(z0)$ the posterior distribution is\n",
    "$$\n",
    "\\log\\pi(x \\mid y^*) \\propto \\log p(x) + \\log p_\\epsilon(y^*\\mid x)\n",
    "$$\n",
    "The gradient of the deterministic function is\n",
    "$$\n",
    "g(x) = \\nabla_x f(x) = -\\Sigma^{-1}(x - \\mu)\n",
    "$$\n",
    "The Hessian of the deterministic function is\n",
    "$$\n",
    "H(x) = -\\Sigma^{-1} \\qquad \\forall x\n",
    "$$\n",
    "One iteration of the true Ruth integrator is\n",
    "- $v_1 = v0 - (7/24)\\delta \\frac{v_0^\\top H_f(x_0) v_0}{\\|g_0\\|} \\hat{g}_0$\n",
    "- $x_1 = x_0 + (2/3)\\delta v_1$\n",
    "- $v_2 = v1 - (3/4)\\delta\\frac{v_1^\\top H_f(x_1)v_1}{\\|g_1\\|}\\hat{g}_1$\n",
    "- $x_2 = x_1 - (2/3)\\delta v_2$\n",
    "- $v_3 = v2 + (1/24)\\delta\\frac{v_2^\\top H_f(x_2)v_2}{\\|g_2\\|}\\hat{g}_2$\n",
    "- $x_3 = x_2 + \\delta v_3$"
   ]
  },
  {
   "cell_type": "markdown",
   "id": "fadde7fb",
   "metadata": {},
   "source": [
    "In this setting, one iteration of the true Ruth integrator becomes\n",
    "- $v_1 = v0 + (7/24)\\delta \\frac{v_0^\\top \\Sigma^{-1} v_0}{\\|g_0\\|} \\hat{g}_0$\n",
    "- $x_1 = x_0 + (2/3)\\delta v_1$\n",
    "- $v_2 = v1 + (3/4)\\delta\\frac{v_1^\\top \\Sigma^{-1}v_1}{\\|g_1\\|}\\hat{g}_1$\n",
    "- $x_2 = x_1 - (2/3)\\delta v_2$\n",
    "- $v_3 = v2 - (1/24)\\delta\\frac{v_2^\\top \\Sigma^{-1}v_2}{\\|g_2\\|}\\hat{g}_2$\n",
    "- $x_3 = x_2 + \\delta v_3$"
   ]
  },
  {
   "cell_type": "markdown",
   "id": "1fe3e2ab",
   "metadata": {},
   "source": [
    "One iteration of the approximate Ruth integrator is"
   ]
  },
  {
   "cell_type": "markdown",
   "id": "5ac3d5d8",
   "metadata": {},
   "source": [
    "# Target "
   ]
  },
  {
   "cell_type": "code",
   "execution_count": 2,
   "id": "f3646afe",
   "metadata": {},
   "outputs": [],
   "source": [
    "# Settings\n",
    "B = 5\n",
    "T = 1.0\n",
    "δ = T / B\n",
    "ϵ = 0.01"
   ]
  },
  {
   "cell_type": "code",
   "execution_count": 3,
   "id": "d8aca00d",
   "metadata": {},
   "outputs": [],
   "source": [
    "# Manifold\n",
    "μ = zeros(2)\n",
    "Σ = np.array([[1.0, 0.9], [0.9, 2.0]])\n",
    "target = MVN(μ, Σ)\n",
    "f = lambda x: MVN(μ, Σ).logpdf(x)\n",
    "grad_f = lambda x: - solve(Σ, x - μ)\n",
    "hess_f = lambda x: - inv(Σ)\n",
    "normalize = lambda x: x / norm(x)\n",
    "z0 = log(0.01)\n",
    "ellipse = GeneralizedEllipse(μ, Σ, exp(z0))\n",
    "\n",
    "# Initial Settings\n",
    "x0 = ellipse.sample()\n",
    "q = MVN(zeros(2), eye(2))\n",
    "v0 = q.rvs()\n",
    "g0 = grad_f(x0)\n",
    "g0hat = normalize(g0)\n",
    "v0perp = normalize(v0 - (v0 @ g0hat * g0hat)) * norm(v0)\n",
    "\n",
    "# Posterior distribution\n",
    "logprior = lambda x: MVN(zeros(2), eye(2)).logpdf(x)\n",
    "def log_epanechnikov_kernel(xi, epsilon, f, z0):\n",
    "    u = abs(f(xi) - z0)\n",
    "    with errstate(divide='ignore'):\n",
    "        return log((3*(1 - (u**2 / (epsilon**2))) / (4*epsilon)) * float(u <= epsilon))\n",
    "logpost = lambda x: logprior(x) + log_epanechnikov_kernel(x, ϵ, f, z0)"
   ]
  },
  {
   "cell_type": "markdown",
   "id": "4cd3506c",
   "metadata": {},
   "source": [
    "# It is sufficient to change the sign of the step size to get the reverse flow"
   ]
  },
  {
   "cell_type": "code",
   "execution_count": 13,
   "id": "be140de0",
   "metadata": {},
   "outputs": [
    {
     "data": {
      "text/plain": [
       "(0.0, 1.8041124150158794e-16)"
      ]
     },
     "execution_count": 13,
     "metadata": {},
     "output_type": "execute_result"
    }
   ],
   "source": [
    "x11, v11 = approx_hug_integrator(x0, v0, T/B, grad_f)\n",
    "x00, v00 = approx_hug_integrator(x11, v11, -T/B, grad_f)\n",
    "np.mean(x0 - x00), np.mean(v0 - v00)"
   ]
  },
  {
   "cell_type": "code",
   "execution_count": 19,
   "id": "53c532c1",
   "metadata": {},
   "outputs": [
    {
     "data": {
      "text/plain": [
       "(0.004134934886969699, -0.04134934886969725)"
      ]
     },
     "execution_count": 19,
     "metadata": {},
     "output_type": "execute_result"
    }
   ],
   "source": [
    "x11, v11 = true_hug_integrator(x0, v0, T/B, grad_f, hess_f)\n",
    "x00, v00 = true_hug_integrator(x11, v11, -T/B, grad_f, hess_f)\n",
    "np.mean(x0 - x00), np.mean(v0 - v00)"
   ]
  },
  {
   "cell_type": "code",
   "execution_count": 40,
   "id": "db887bb1",
   "metadata": {},
   "outputs": [],
   "source": [
    "def true_hug_integrator_speaking(x0, v0, δ, grad_f, hess_f):\n",
    "    \"\"\"True Hug Integrator.\"\"\"\n",
    "    print(\"x0: \", x0, \"v0: \", v0)\n",
    "    x, v = x0, v0\n",
    "    x = x + δ*v/2\n",
    "    print(\"Half-position: \", x)\n",
    "    g = grad_f(x); gn = norm(g); ghat = g / gn;\n",
    "    print(\"Gradient     : \", ghat)\n",
    "    print(\"Hessian      : \", hess_f(x))\n",
    "    v = v - δ * ((v @ (hess_f(x) @ v)) / gn) * ghat\n",
    "    print(\"Full-velocity: \", v)\n",
    "    x = x + δ*v/2\n",
    "    print(\"Half-position: \", x)\n",
    "    return x, v"
   ]
  },
  {
   "cell_type": "code",
   "execution_count": 41,
   "id": "18bab406",
   "metadata": {},
   "outputs": [
    {
     "name": "stdout",
     "output_type": "stream",
     "text": [
      "x0:  [-2.02932309 -3.04234804] v0:  [-1.04384836  0.15933375]\n",
      "Half-position:  [-2.13370793 -3.02641467]\n",
      "Gradient     :  [0.81286692 0.58244946]\n",
      "Hessian      :  [[-1.68067227  0.75630252]\n",
      " [ 0.75630252 -0.84033613]]\n",
      "Full-velocity:  [-0.82948187  0.31293533]\n",
      "Half-position:  [-2.21665611 -2.99512114]\n"
     ]
    }
   ],
   "source": [
    "x11, v11 = true_hug_integrator_speaking(x0, v0, T/B, grad_f, hess_f)"
   ]
  },
  {
   "cell_type": "code",
   "execution_count": 42,
   "id": "77aa6061",
   "metadata": {},
   "outputs": [
    {
     "name": "stdout",
     "output_type": "stream",
     "text": [
      "x0:  [-2.21665611 -2.99512114] v0:  [-0.82948187  0.31293533]\n",
      "Half-position:  [-2.13370793 -3.02641467]\n",
      "Gradient     :  [0.81286692 0.58244946]\n",
      "Hessian      :  [[-1.68067227  0.75630252]\n",
      " [ 0.75630252 -0.84033613]]\n",
      "Full-velocity:  [-0.99567073  0.19385482]\n",
      "Half-position:  [-2.03414085 -3.04580015]\n"
     ]
    },
    {
     "data": {
      "text/plain": [
       "(array([-2.03414085, -3.04580015]), array([-0.99567073,  0.19385482]))"
      ]
     },
     "execution_count": 42,
     "metadata": {},
     "output_type": "execute_result"
    }
   ],
   "source": [
    "true_hug_integrator_speaking(x11, v11, -T/B, grad_f, hess_f)"
   ]
  },
  {
   "cell_type": "code",
   "execution_count": 20,
   "id": "6ecfb62f",
   "metadata": {},
   "outputs": [
    {
     "data": {
      "text/plain": [
       "(array([-2.21665611, -2.99512114]), array([-0.82948187,  0.31293533]))"
      ]
     },
     "execution_count": 20,
     "metadata": {},
     "output_type": "execute_result"
    }
   ],
   "source": [
    "x11, v11"
   ]
  },
  {
   "cell_type": "code",
   "execution_count": 22,
   "id": "de9cf647",
   "metadata": {},
   "outputs": [
    {
     "data": {
      "text/plain": [
       "array([-2.13370793, -3.02641467])"
      ]
     },
     "execution_count": 22,
     "metadata": {},
     "output_type": "execute_result"
    }
   ],
   "source": [
    "x11 - (T/B)*v11/2"
   ]
  },
  {
   "cell_type": "code",
   "execution_count": null,
   "id": "53b7e884",
   "metadata": {},
   "outputs": [],
   "source": [
    "def true_hug_integrator(x0, v0, δ, grad_f, hess_f):\n",
    "    \"\"\"True Hug Integrator.\"\"\"\n",
    "    x, v = x0, v0\n",
    "    x = x + δ*v/2\n",
    "    g = grad_f(x); gn = norm(g); ghat = g / gn;\n",
    "    v = v - δ * ((v @ (hess_f(x) @ v)) / gn) * ghat\n",
    "    x = x + δ*v/2\n",
    "    return x, v"
   ]
  },
  {
   "cell_type": "markdown",
   "id": "1d644b6c",
   "metadata": {},
   "source": [
    "# Check Involutions"
   ]
  },
  {
   "cell_type": "code",
   "execution_count": 6,
   "id": "d1f624b2",
   "metadata": {},
   "outputs": [
    {
     "data": {
      "text/plain": [
       "(0.0010173424519719255, 0.3044649893971596)"
      ]
     },
     "execution_count": 6,
     "metadata": {},
     "output_type": "execute_result"
    }
   ],
   "source": [
    "check_involution(x0, v0, lambda x, v: new_integrator(x0, v0, 0.1, grad_f))"
   ]
  },
  {
   "cell_type": "code",
   "execution_count": 14,
   "id": "3782509a",
   "metadata": {},
   "outputs": [],
   "source": [
    "def new_integrator(x, v, δ, gradf):\n",
    "    x = x + (1/8)*δ*v; g = gradf(x); ghat = g / norm(g);\n",
    "    v = v - 2*(v @ ghat)*ghat\n",
    "    x = x + (3/8)*δ*v; g = gradf(x); ghat = g / norm(g);\n",
    "    v = v - 2*(v @ ghat)*ghat\n",
    "    x = x + (3/8)*δ*v; g = gradf(x); ghat = g / norm(g);\n",
    "    v = v - 2*(v @ ghat)*ghat\n",
    "    x = x + (1/8)*δ*v\n",
    "    return x, v"
   ]
  },
  {
   "cell_type": "code",
   "execution_count": 27,
   "id": "02328863",
   "metadata": {},
   "outputs": [
    {
     "name": "stdout",
     "output_type": "stream",
     "text": [
      "1.1102230246251565e-16 1.3322676295501878e-15\n"
     ]
    }
   ],
   "source": [
    "x11, v11 = new_integrator(x0, v0, 0.1, grad_f)\n",
    "x00, v00 = new_integrator(x11, v11, -0.1, grad_f)\n",
    "print(np.mean(x0 - x00), np.mean(v0 - v00))   # Involution!!"
   ]
  },
  {
   "cell_type": "code",
   "execution_count": 37,
   "id": "65012932",
   "metadata": {},
   "outputs": [
    {
     "name": "stdout",
     "output_type": "stream",
     "text": [
      "MSE CONC: 1e-07\n",
      "MSE HUG:  1e-07\n",
      "MSE NEW:  2e-08\n",
      "δ  = 1e-03\n",
      "δ2 = 1e-06\n",
      "δ3 = 1e-09\n",
      "δ4 = 1e-12\n"
     ]
    }
   ],
   "source": [
    "δ = 1e-3\n",
    "x0list = get_N_x0s(1000)\n",
    "mse1 = avg_distance_hug_conc(x0list, δ=δ)\n",
    "mse2 = avg_distance_hug(x0list, δ=δ)\n",
    "mse3 = avg_distance_new_integrator(x0list, δ=δ)\n",
    "print(\"MSE CONC: {:.0e}\".format(mse1))\n",
    "print(\"MSE HUG:  {:.0e}\".format(mse2))\n",
    "print(\"MSE NEW:  {:.0e}\".format(mse3))  ## More accurate!\n",
    "print(\"δ  = {:.0e}\\nδ2 = {:.0e}\\nδ3 = {:.0e}\\nδ4 = {:.0e}\".format(δ, δ**2, δ**3, δ**4))"
   ]
  },
  {
   "cell_type": "code",
   "execution_count": 49,
   "id": "782c7bb3",
   "metadata": {},
   "outputs": [
    {
     "name": "stdout",
     "output_type": "stream",
     "text": [
      "0.0 6.661338147750939e-16\n"
     ]
    }
   ],
   "source": [
    "x11, v11 = new_general_integrator(x0, v0, 0.1, grad_f, b1=-0.25, b3=-0.25)\n",
    "x00, v00 = new_general_integrator(x11, v11, -0.1, grad_f, b1=-0.25, b3=-0.25)\n",
    "print(np.mean(x0 - x00), np.mean(v0 - v00))   # Involution!!"
   ]
  },
  {
   "cell_type": "code",
   "execution_count": 62,
   "id": "8f09301e",
   "metadata": {},
   "outputs": [
    {
     "name": "stdout",
     "output_type": "stream",
     "text": [
      "MSE CONC: 1e-07\n",
      "MSE HUG:  2e-07\n",
      "MSE NEW:  2e-08\n",
      "MSE GEN:  8e-08\n",
      "δ  = 1e-03\n",
      "δ2 = 1e-06\n",
      "δ3 = 1e-09\n",
      "δ4 = 1e-12\n"
     ]
    }
   ],
   "source": [
    "δ = 1e-3\n",
    "x0list = get_N_x0s(1000)\n",
    "mse1 = avg_distance_hug_conc(x0list, δ=δ)\n",
    "mse2 = avg_distance_hug(x0list, δ=δ)\n",
    "mse3 = avg_distance_new_integrator(x0list, δ=δ)\n",
    "mse4 = avg_distance_new_general_integrator(x0list, δ=δ, b1=1/8, b3=1/8)\n",
    "print(\"MSE CONC: {:.0e}\".format(mse1))\n",
    "print(\"MSE HUG:  {:.0e}\".format(mse2))\n",
    "print(\"MSE NEW:  {:.0e}\".format(mse3))  ## More accurate!\n",
    "print(\"MSE GEN:  {:.0e}\".format(mse4))\n",
    "print(\"δ  = {:.0e}\\nδ2 = {:.0e}\\nδ3 = {:.0e}\\nδ4 = {:.0e}\".format(δ, δ**2, δ**3, δ**4))"
   ]
  },
  {
   "cell_type": "code",
   "execution_count": 64,
   "id": "e96b6c57",
   "metadata": {},
   "outputs": [
    {
     "ename": "ZeroDivisionError",
     "evalue": "float division by zero",
     "output_type": "error",
     "traceback": [
      "\u001b[0;31m---------------------------------------------------------------------------\u001b[0m",
      "\u001b[0;31mZeroDivisionError\u001b[0m                         Traceback (most recent call last)",
      "\u001b[0;32m/var/folders/hy/57_f4xcx08b0ls2_nwwfjscr0000gn/T/ipykernel_38003/3915261036.py\u001b[0m in \u001b[0;36m<module>\u001b[0;34m\u001b[0m\n\u001b[0;32m----> 1\u001b[0;31m \u001b[0mcompute_coefficients\u001b[0m\u001b[0;34m(\u001b[0m\u001b[0;36m1\u001b[0m\u001b[0;34m/\u001b[0m\u001b[0;36m4\u001b[0m\u001b[0;34m,\u001b[0m \u001b[0;34m-\u001b[0m\u001b[0;36m1\u001b[0m\u001b[0;34m/\u001b[0m\u001b[0;36m4\u001b[0m\u001b[0;34m)\u001b[0m\u001b[0;34m\u001b[0m\u001b[0;34m\u001b[0m\u001b[0m\n\u001b[0m",
      "\u001b[0;32m/var/folders/hy/57_f4xcx08b0ls2_nwwfjscr0000gn/T/ipykernel_38003/887115800.py\u001b[0m in \u001b[0;36mcompute_coefficients\u001b[0;34m(b1, b3)\u001b[0m\n\u001b[1;32m      1\u001b[0m \u001b[0;32mdef\u001b[0m \u001b[0mcompute_coefficients\u001b[0m\u001b[0;34m(\u001b[0m\u001b[0mb1\u001b[0m\u001b[0;34m,\u001b[0m \u001b[0mb3\u001b[0m\u001b[0;34m)\u001b[0m\u001b[0;34m:\u001b[0m\u001b[0;34m\u001b[0m\u001b[0;34m\u001b[0m\u001b[0m\n\u001b[1;32m      2\u001b[0m     \u001b[0mb2\u001b[0m \u001b[0;34m=\u001b[0m \u001b[0;36m1\u001b[0m \u001b[0;34m-\u001b[0m \u001b[0mb1\u001b[0m \u001b[0;34m-\u001b[0m \u001b[0mb3\u001b[0m\u001b[0;34m\u001b[0m\u001b[0;34m\u001b[0m\u001b[0m\n\u001b[0;32m----> 3\u001b[0;31m     \u001b[0ma1\u001b[0m \u001b[0;34m=\u001b[0m \u001b[0mb1\u001b[0m \u001b[0;34m*\u001b[0m \u001b[0mb3\u001b[0m \u001b[0;34m/\u001b[0m \u001b[0;34m(\u001b[0m\u001b[0mb1\u001b[0m \u001b[0;34m+\u001b[0m \u001b[0mb3\u001b[0m\u001b[0;34m)\u001b[0m\u001b[0;34m\u001b[0m\u001b[0;34m\u001b[0m\u001b[0m\n\u001b[0m\u001b[1;32m      4\u001b[0m     \u001b[0ma4\u001b[0m \u001b[0;34m=\u001b[0m \u001b[0ma1\u001b[0m\u001b[0;34m\u001b[0m\u001b[0;34m\u001b[0m\u001b[0m\n\u001b[1;32m      5\u001b[0m     \u001b[0ma2\u001b[0m \u001b[0;34m=\u001b[0m \u001b[0;36m0.5\u001b[0m \u001b[0;34m-\u001b[0m \u001b[0ma1\u001b[0m\u001b[0;34m\u001b[0m\u001b[0;34m\u001b[0m\u001b[0m\n",
      "\u001b[0;31mZeroDivisionError\u001b[0m: float division by zero"
     ]
    }
   ],
   "source": [
    "compute_coefficients(1/8, -1/4)"
   ]
  },
  {
   "cell_type": "code",
   "execution_count": null,
   "id": "1118eec9",
   "metadata": {},
   "outputs": [],
   "source": []
  },
  {
   "cell_type": "code",
   "execution_count": null,
   "id": "6107ffef",
   "metadata": {},
   "outputs": [],
   "source": []
  },
  {
   "cell_type": "code",
   "execution_count": 5,
   "id": "8ddc3a7b",
   "metadata": {},
   "outputs": [
    {
     "data": {
      "text/plain": [
       "(array([-2.11523509, -2.92244919]), array([0.18472835, 1.03965479]))"
      ]
     },
     "execution_count": 5,
     "metadata": {},
     "output_type": "execute_result"
    }
   ],
   "source": [
    "x11, v11 = approx_hug_integrator(x0, v0, T/B, grad_f)\n",
    "x11, v11"
   ]
  },
  {
   "cell_type": "code",
   "execution_count": 10,
   "id": "7b28c43d",
   "metadata": {},
   "outputs": [
    {
     "data": {
      "text/plain": [
       "(array([-2.02932309, -3.04234804]), array([-1.04384836,  0.15933375]))"
      ]
     },
     "execution_count": 10,
     "metadata": {},
     "output_type": "execute_result"
    }
   ],
   "source": [
    "approx_hug_integrator(x11, v11, -T/B, grad_f)"
   ]
  },
  {
   "cell_type": "code",
   "execution_count": 8,
   "id": "b10ecb94",
   "metadata": {},
   "outputs": [
    {
     "data": {
      "text/plain": [
       "(array([-2.02932309, -3.04234804]), array([-1.04384836,  0.15933375]))"
      ]
     },
     "execution_count": 8,
     "metadata": {},
     "output_type": "execute_result"
    }
   ],
   "source": [
    "x0, v0"
   ]
  },
  {
   "cell_type": "code",
   "execution_count": null,
   "id": "d279981d",
   "metadata": {},
   "outputs": [],
   "source": []
  },
  {
   "cell_type": "code",
   "execution_count": null,
   "id": "23b8c206",
   "metadata": {},
   "outputs": [],
   "source": []
  },
  {
   "cell_type": "code",
   "execution_count": 14,
   "id": "12897777",
   "metadata": {},
   "outputs": [
    {
     "data": {
      "text/plain": [
       "(0.0, 6.162975822039155e-33)"
      ]
     },
     "execution_count": 14,
     "metadata": {},
     "output_type": "execute_result"
    }
   ],
   "source": [
    "check_involution(x0, v0, lambda x, v: approx_hug_integrator(x, v, T/B, grad_f))"
   ]
  },
  {
   "cell_type": "code",
   "execution_count": 15,
   "id": "1c7b918d",
   "metadata": {},
   "outputs": [
    {
     "data": {
      "text/plain": [
       "(8.011868568650901e-32, 1.7872629883913549e-31)"
      ]
     },
     "execution_count": 15,
     "metadata": {},
     "output_type": "execute_result"
    }
   ],
   "source": [
    "check_involution(x0, v0, lambda x, v: concatenate_approx_hug_integrators(x, v, T/B, grad_f))"
   ]
  },
  {
   "cell_type": "code",
   "execution_count": 50,
   "id": "afa7fb94",
   "metadata": {},
   "outputs": [],
   "source": [
    "def get_N_x0s(N):\n",
    "    x0list = []\n",
    "    i = 0\n",
    "    while i < N:\n",
    "        with catch_warnings():\n",
    "            filterwarnings('error')\n",
    "            try:\n",
    "                x0list.append(ellipse.sample())\n",
    "            except RuntimeWarning:\n",
    "                continue\n",
    "        i += 1\n",
    "    return vstack(x0list)\n",
    "\n",
    "def avg_distance_hug_conc(x0list, δ):\n",
    "    avg = 0.0\n",
    "    N = len(x0list)\n",
    "    for x0 in x0list:\n",
    "        fx0 = f(x0)\n",
    "        v0 = q.rvs()\n",
    "        avg += abs(fx0 - f(concatenate_approx_hug_integrators(x0, v0, δ, grad_f)[0])) / N\n",
    "    return avg\n",
    "\n",
    "def avg_distance_hug(x0list, δ):\n",
    "    avg = 0.0\n",
    "    N = len(x0list)\n",
    "    for x0 in x0list:\n",
    "        fx0 = f(x0)\n",
    "        v0 = q.rvs()\n",
    "        avg += abs(fx0 - f(approx_hug_integrator(x0, v0, δ, grad_f)[0])) / N\n",
    "    return avg\n",
    "\n",
    "def avg_distance_new_integrator(x0list, δ):\n",
    "    avg = 0.0\n",
    "    N = len(x0list)\n",
    "    for x0 in x0list:\n",
    "        fx0 = f(x0)\n",
    "        v0 = q.rvs()\n",
    "        avg += abs(fx0 - f(new_integrator(x0, v0, δ, grad_f)[0])) / N\n",
    "    return avg\n",
    "\n",
    "def avg_distance_new_general_integrator(x0list, δ, b1, b3):\n",
    "    avg = 0.0\n",
    "    N = len(x0list)\n",
    "    for x0 in x0list:\n",
    "        fx0 = f(x0)\n",
    "        v0 = q.rvs()\n",
    "        avg += abs(fx0 - f(new_general_integrator(x0, v0, δ, grad_f, b1, b3)[0])) / N\n",
    "    return avg"
   ]
  },
  {
   "cell_type": "code",
   "execution_count": 113,
   "id": "25247247",
   "metadata": {},
   "outputs": [
    {
     "name": "stdout",
     "output_type": "stream",
     "text": [
      "MSE CONC: 1e-05\n",
      "MSE HUG:  2e-05\n"
     ]
    }
   ],
   "source": [
    "δ = 1e-2\n",
    "x0list = get_N_x0s(1000)\n",
    "mse1 = avg_distance_hug_conc(x0list, δ=δ)\n",
    "mse2 = avg_distance_hug(x0list, δ=δ)\n",
    "print(\"MSE CONC: {:.0e}\".format(mse1))\n",
    "print(\"MSE HUG:  {:.0e}\".format(mse2))"
   ]
  },
  {
   "cell_type": "code",
   "execution_count": null,
   "id": "40684bc7",
   "metadata": {},
   "outputs": [],
   "source": []
  },
  {
   "cell_type": "code",
   "execution_count": null,
   "id": "775cb5e5",
   "metadata": {},
   "outputs": [],
   "source": []
  },
  {
   "cell_type": "code",
   "execution_count": 39,
   "id": "36c4a27d",
   "metadata": {},
   "outputs": [
    {
     "name": "stdout",
     "output_type": "stream",
     "text": [
      "δ = 1e-01\n",
      "δ2 = 1e-02\n",
      "δ3 = 1e-03\n",
      "δ4 = 1e-04\n"
     ]
    }
   ],
   "source": [
    "print(\"δ = {:.0e}\".format(0.1))\n",
    "print(\"δ2 = {:.0e}\".format(0.1**2))\n",
    "print(\"δ3 = {:.0e}\".format(0.1**3))\n",
    "print(\"δ4 = {:.0e}\".format(0.1**4))"
   ]
  },
  {
   "cell_type": "code",
   "execution_count": null,
   "id": "09aa2759",
   "metadata": {},
   "outputs": [],
   "source": []
  },
  {
   "cell_type": "code",
   "execution_count": null,
   "id": "b2c6e6fc",
   "metadata": {},
   "outputs": [],
   "source": []
  },
  {
   "cell_type": "code",
   "execution_count": null,
   "id": "37392c62",
   "metadata": {},
   "outputs": [],
   "source": []
  },
  {
   "cell_type": "code",
   "execution_count": null,
   "id": "4726f800",
   "metadata": {},
   "outputs": [],
   "source": []
  },
  {
   "cell_type": "code",
   "execution_count": null,
   "id": "313354a3",
   "metadata": {},
   "outputs": [],
   "source": []
  },
  {
   "cell_type": "code",
   "execution_count": 6,
   "id": "cdd2755a",
   "metadata": {},
   "outputs": [
    {
     "data": {
      "text/plain": [
       "(8.61640318583557e-05, 0.008616403185835305)"
      ]
     },
     "execution_count": 6,
     "metadata": {},
     "output_type": "execute_result"
    }
   ],
   "source": [
    "check_involution(x0, v0, lambda x, v: true_hug_integrator(x, v, T/B, grad_f, hess_f))"
   ]
  },
  {
   "cell_type": "code",
   "execution_count": 6,
   "id": "13bf95ad",
   "metadata": {},
   "outputs": [],
   "source": [
    "x11, v11 = hug_integrator(x0, v0, T/B, grad_f, hess_f)"
   ]
  },
  {
   "cell_type": "code",
   "execution_count": 7,
   "id": "6dc0058a",
   "metadata": {},
   "outputs": [
    {
     "data": {
      "text/plain": [
       "(array([2.05553638, 0.69084339]), array([ 0.54397922, -0.28646929]))"
      ]
     },
     "execution_count": 7,
     "metadata": {},
     "output_type": "execute_result"
    }
   ],
   "source": [
    "hug_integrator(x11, -v11, T/B, grad_f, hess_f)"
   ]
  },
  {
   "cell_type": "code",
   "execution_count": 10,
   "id": "404ef8ce",
   "metadata": {},
   "outputs": [],
   "source": [
    "x11, v11 = concatenate_hug_integrators(x0, v0, T, B, grad_f, hess_f)"
   ]
  },
  {
   "cell_type": "code",
   "execution_count": 11,
   "id": "c088cf00",
   "metadata": {},
   "outputs": [
    {
     "data": {
      "text/plain": [
       "(array([2.05108276, 0.69228479]), array([ 0.49616941, -0.27098467]))"
      ]
     },
     "execution_count": 11,
     "metadata": {},
     "output_type": "execute_result"
    }
   ],
   "source": [
    "concatenate_hug_integrators(x11, -v11, T, B, grad_f, hess_f)"
   ]
  },
  {
   "cell_type": "code",
   "execution_count": null,
   "id": "1da2368c",
   "metadata": {},
   "outputs": [],
   "source": []
  },
  {
   "cell_type": "code",
   "execution_count": null,
   "id": "4cd0895b",
   "metadata": {},
   "outputs": [],
   "source": []
  },
  {
   "cell_type": "code",
   "execution_count": 5,
   "id": "c5262c66",
   "metadata": {},
   "outputs": [
    {
     "data": {
      "text/plain": [
       "(0.021349100111392218, 0.12420819417912281)"
      ]
     },
     "execution_count": 5,
     "metadata": {},
     "output_type": "execute_result"
    }
   ],
   "source": [
    "check_involution(x0, v0, lambda x, v: fourth_order_explicit(x, v, 1.0, 1, grad_f, hess_f))"
   ]
  },
  {
   "cell_type": "code",
   "execution_count": 9,
   "id": "b569113b",
   "metadata": {},
   "outputs": [],
   "source": [
    "x11, v11 = fourth_order_explicit(x0, v0, 1.0, 1, grad_f, hess_f)"
   ]
  },
  {
   "cell_type": "code",
   "execution_count": 14,
   "id": "f731eb17",
   "metadata": {},
   "outputs": [
    {
     "data": {
      "text/plain": [
       "(array([-0.25033791,  2.46869532]), array([1.30915839, 1.15422088]))"
      ]
     },
     "execution_count": 14,
     "metadata": {},
     "output_type": "execute_result"
    }
   ],
   "source": [
    "fourth_order_explicit(x11, -v11, 1.0, 1, grad_f, hess_f)"
   ]
  },
  {
   "cell_type": "code",
   "execution_count": 13,
   "id": "8f2cc664",
   "metadata": {},
   "outputs": [
    {
     "data": {
      "text/plain": [
       "(array([-0.14716943,  2.38813855]), array([-1.56611563, -0.94325492]))"
      ]
     },
     "execution_count": 13,
     "metadata": {},
     "output_type": "execute_result"
    }
   ],
   "source": [
    "x0, v0"
   ]
  },
  {
   "cell_type": "code",
   "execution_count": 18,
   "id": "8684d3d5",
   "metadata": {},
   "outputs": [
    {
     "data": {
      "text/plain": [
       "2.0000000000000004"
      ]
     },
     "execution_count": 18,
     "metadata": {},
     "output_type": "execute_result"
    }
   ],
   "source": [
    "-1/24 + 3/4 + 7/12 + 3/4 - 1/24"
   ]
  },
  {
   "cell_type": "code",
   "execution_count": null,
   "id": "08449888",
   "metadata": {},
   "outputs": [],
   "source": []
  },
  {
   "cell_type": "code",
   "execution_count": 92,
   "id": "f2a12c6f",
   "metadata": {},
   "outputs": [
    {
     "data": {
      "text/plain": [
       "(0.11677324173733909, 0.35489487946463244)"
      ]
     },
     "execution_count": 92,
     "metadata": {},
     "output_type": "execute_result"
    }
   ],
   "source": [
    "check_involution(x0, v0perp, lambda x, v: true_ruth_integrator_gaussian(x, v, T, B, Σ, μ))"
   ]
  },
  {
   "cell_type": "code",
   "execution_count": 4,
   "id": "6e2f10af",
   "metadata": {},
   "outputs": [
    {
     "data": {
      "text/plain": [
       "(0.008656965682529884, 0.03121735532842868)"
      ]
     },
     "execution_count": 4,
     "metadata": {},
     "output_type": "execute_result"
    }
   ],
   "source": [
    "check_involution(x0, v0perp, lambda x, v: true_ruth_integrator(x, v, T, B, grad_f, hess_f))"
   ]
  },
  {
   "cell_type": "code",
   "execution_count": 6,
   "id": "ebc379f5",
   "metadata": {},
   "outputs": [
    {
     "data": {
      "text/plain": [
       "(0.0035330807095912582, 0.0015627472613221065)"
      ]
     },
     "execution_count": 6,
     "metadata": {},
     "output_type": "execute_result"
    }
   ],
   "source": [
    "check_involution(x0, v0perp, lambda x, v: approx_ruth_integrator(x, v, T, B, grad_f))"
   ]
  },
  {
   "cell_type": "code",
   "execution_count": 7,
   "id": "1815a87c",
   "metadata": {},
   "outputs": [],
   "source": [
    "x0tr, v0tr = true_ruth_integrator(x0, v0perp, T, B, grad_f, hess_f)\n",
    "x0ar, v0ar = approx_ruth_integrator(x0, v0perp, T, B, grad_f)"
   ]
  },
  {
   "cell_type": "code",
   "execution_count": 8,
   "id": "a3734010",
   "metadata": {},
   "outputs": [
    {
     "data": {
      "text/plain": [
       "(0.7022406225411124, 0.009682381770910038)"
      ]
     },
     "execution_count": 8,
     "metadata": {},
     "output_type": "execute_result"
    }
   ],
   "source": [
    "mse(x0tr, x0ar), mse(v0tr, v0ar)"
   ]
  },
  {
   "cell_type": "code",
   "execution_count": 13,
   "id": "46717b35",
   "metadata": {},
   "outputs": [],
   "source": [
    "samplesR, acceptancesR = true_ruth_sampler(x0, 0.1, 5, 1000, q, logpost, grad_f, hess_f)"
   ]
  },
  {
   "cell_type": "code",
   "execution_count": 14,
   "id": "0934351b",
   "metadata": {},
   "outputs": [
    {
     "data": {
      "image/png": "[encoded data removed]",
      "text/plain": [
       "<Figure size 1440x576 with 1 Axes>"
      ]
     },
     "metadata": {
      "needs_background": "light"
     },
     "output_type": "display_data"
    }
   ],
   "source": [
    "quick_MVN_scatter(samplesR, target, levels=[exp(z0)], xlims=[-3, 3], ylims=[-3, 3], lw=1)"
   ]
  },
  {
   "cell_type": "code",
   "execution_count": 74,
   "id": "4d06e733",
   "metadata": {},
   "outputs": [],
   "source": [
    "ϵ = 0.1\n",
    "T = 5.0\n",
    "B = 5\n",
    "def rotate_v(v0, x0, gradf):\n",
    "    g0 = gradf(x0)\n",
    "    g0 = g0 / norm(g0)\n",
    "    v0r = v0 - (v0 @ g0) * g0\n",
    "    return (v0r / norm(v0r)) * norm(v0)\n",
    "v0 = q.rvs()\n",
    "v0perp = rotate_v(v0, x0, grad_f)\n",
    "x11ruth, _ = true_ruth_integrator(x0, v0perp, T, B, grad_f, hess_f)\n",
    "x11hug     = HugDeterministic(x0, T, B, q, grad_f)"
   ]
  },
  {
   "cell_type": "code",
   "execution_count": 75,
   "id": "e2151bd7",
   "metadata": {},
   "outputs": [
    {
     "data": {
      "image/png": "[encoded data removed]",
      "text/plain": [
       "<Figure size 864x432 with 1 Axes>"
      ]
     },
     "metadata": {
      "needs_background": "light"
     },
     "output_type": "display_data"
    }
   ],
   "source": [
    "fig, ax = plt.subplots(figsize=(12, 6))\n",
    "contour_vals = prep_contour([-4, 4], [-4, 4], 0.01, target.logpdf)\n",
    "ax.contour(*contour_vals, levels=[z0], linewidths=1, colors='gray', linestyles='solid')\n",
    "ax.contour(*contour_vals, levels=[z0-ϵ, z0+ϵ], linewidths=1, colors='lightgray', linestyles='--')\n",
    "ax.scatter(*x0, label='x0')\n",
    "ax.scatter(*x11ruth, label='x1 RUTH δ={}'.format(T/B))\n",
    "ax.scatter(*x11hug, label='x1 HUG δ={}'.format(T/B))\n",
    "plt.legend()\n",
    "plt.show()"
   ]
  },
  {
   "cell_type": "code",
   "execution_count": 23,
   "id": "69ed198f",
   "metadata": {},
   "outputs": [
    {
     "data": {
      "text/plain": [
       "0.0"
      ]
     },
     "execution_count": 23,
     "metadata": {},
     "output_type": "execute_result"
    }
   ],
   "source": [
    "acceptancesR.mean() * 100"
   ]
  },
  {
   "cell_type": "code",
   "execution_count": 34,
   "id": "efcff238",
   "metadata": {},
   "outputs": [],
   "source": [
    "samplesH, acceptancesH = Hug(x0, 2.0, 5, 1000, q, logpost, grad_f)"
   ]
  },
  {
   "cell_type": "code",
   "execution_count": 35,
   "id": "2647d8d2",
   "metadata": {},
   "outputs": [
    {
     "data": {
      "image/png": "[encoded data removed]",
      "text/plain": [
       "<Figure size 1440x576 with 1 Axes>"
      ]
     },
     "metadata": {
      "needs_background": "light"
     },
     "output_type": "display_data"
    }
   ],
   "source": [
    "quick_MVN_scatter(samplesH, target, levels=[z0], xlims=[-3, 3], ylims=[-3, 3])"
   ]
  },
  {
   "cell_type": "code",
   "execution_count": 36,
   "id": "592d15dd",
   "metadata": {},
   "outputs": [
    {
     "data": {
      "text/plain": [
       "43.2"
      ]
     },
     "execution_count": 36,
     "metadata": {},
     "output_type": "execute_result"
    }
   ],
   "source": [
    "acceptancesH.mean() * 100"
   ]
  },
  {
   "cell_type": "code",
   "execution_count": 37,
   "id": "862215f0",
   "metadata": {},
   "outputs": [
    {
     "ename": "NameError",
     "evalue": "name 'approx_ruth_sampler' is not defined",
     "output_type": "error",
     "traceback": [
      "\u001b[0;31m---------------------------------------------------------------------------\u001b[0m",
      "\u001b[0;31mNameError\u001b[0m                                 Traceback (most recent call last)",
      "\u001b[0;32m/var/folders/hy/57_f4xcx08b0ls2_nwwfjscr0000gn/T/ipykernel_28783/3409971721.py\u001b[0m in \u001b[0;36m<module>\u001b[0;34m\u001b[0m\n\u001b[0;32m----> 1\u001b[0;31m \u001b[0msamplesRA\u001b[0m\u001b[0;34m,\u001b[0m \u001b[0macceptancesRA\u001b[0m \u001b[0;34m=\u001b[0m \u001b[0mapprox_ruth_sampler\u001b[0m\u001b[0;34m(\u001b[0m\u001b[0mx0\u001b[0m\u001b[0;34m,\u001b[0m \u001b[0;36m0.1\u001b[0m\u001b[0;34m,\u001b[0m \u001b[0;36m5\u001b[0m\u001b[0;34m,\u001b[0m \u001b[0;36m1000\u001b[0m\u001b[0;34m,\u001b[0m \u001b[0mq\u001b[0m\u001b[0;34m,\u001b[0m \u001b[0mlogpost\u001b[0m\u001b[0;34m,\u001b[0m \u001b[0mgrad_f\u001b[0m\u001b[0;34m)\u001b[0m\u001b[0;34m\u001b[0m\u001b[0;34m\u001b[0m\u001b[0m\n\u001b[0m",
      "\u001b[0;31mNameError\u001b[0m: name 'approx_ruth_sampler' is not defined"
     ]
    }
   ],
   "source": [
    "samplesRA, acceptancesRA = approx_ruth_sampler(x0, 0.1, 5, 1000, q, logpost, grad_f)"
   ]
  },
  {
   "cell_type": "code",
   "execution_count": 216,
   "id": "04c8d2f1",
   "metadata": {},
   "outputs": [
    {
     "data": {
      "image/png": "[encoded data removed]",
      "text/plain": [
       "<Figure size 1440x576 with 1 Axes>"
      ]
     },
     "metadata": {
      "needs_background": "light"
     },
     "output_type": "display_data"
    }
   ],
   "source": [
    "quick_MVN_scatter(samplesRA, target, levels=[z0], xlims=[-3, 3], ylims=[-3, 3])"
   ]
  },
  {
   "cell_type": "code",
   "execution_count": 217,
   "id": "454a0b11",
   "metadata": {},
   "outputs": [
    {
     "data": {
      "text/plain": [
       "39.900000000000006"
      ]
     },
     "execution_count": 217,
     "metadata": {},
     "output_type": "execute_result"
    }
   ],
   "source": [
    "acceptancesRA.mean() * 100"
   ]
  },
  {
   "cell_type": "code",
   "execution_count": 218,
   "id": "f16e3a1d",
   "metadata": {},
   "outputs": [],
   "source": [
    "samplesRAT, acceptancesRAT = approx_ruth_sampler_thug(x0, 0.1, 5, 1000, 0.99, q, logpost, grad_f)"
   ]
  },
  {
   "cell_type": "code",
   "execution_count": 219,
   "id": "3872d50e",
   "metadata": {},
   "outputs": [
    {
     "data": {
      "image/png": "[encoded data removed]",
      "text/plain": [
       "<Figure size 1440x576 with 1 Axes>"
      ]
     },
     "metadata": {
      "needs_background": "light"
     },
     "output_type": "display_data"
    }
   ],
   "source": [
    "quick_MVN_scatter(samplesRAT, target, levels=[z0], xlims=[-3, 3], ylims=[-3, 3])"
   ]
  },
  {
   "cell_type": "code",
   "execution_count": 220,
   "id": "ba0ccaf3",
   "metadata": {},
   "outputs": [
    {
     "data": {
      "text/plain": [
       "70.3"
      ]
     },
     "execution_count": 220,
     "metadata": {},
     "output_type": "execute_result"
    }
   ],
   "source": [
    "acceptancesRAT.mean() * 100"
   ]
  },
  {
   "cell_type": "markdown",
   "id": "1326d552",
   "metadata": {},
   "source": [
    "##### Hug is of order $\\delta^2$"
   ]
  },
  {
   "cell_type": "code",
   "execution_count": 76,
   "id": "ac0b8d12",
   "metadata": {},
   "outputs": [],
   "source": [
    "def HugDeterministic(x0, T, B, q, grad_log_pi):\n",
    "    # Draw velocity\n",
    "    v0 = q.rvs()\n",
    "    # Housekeeping\n",
    "    v, x = v0, x0\n",
    "    # Acceptance ratio\n",
    "    logu = np.log(rand())\n",
    "    # Compute step size\n",
    "    delta = T / B\n",
    "\n",
    "    for _ in range(B):\n",
    "        # Move\n",
    "        x = x + delta*v/2 \n",
    "        # Reflect\n",
    "        g = grad_log_pi(x)\n",
    "        ghat = g / norm(g)\n",
    "        v = v - 2*(v @ ghat) * ghat\n",
    "        # Move\n",
    "        x = x + delta*v/2\n",
    "    return x"
   ]
  },
  {
   "cell_type": "code",
   "execution_count": 11,
   "id": "ebb25059",
   "metadata": {},
   "outputs": [],
   "source": [
    "def hug_integrator(x0, v0, T, B, q, grad_log_pi):\n",
    "    # Housekeeping\n",
    "    v, x = v0, x0\n",
    "    # Acceptance ratio\n",
    "    logu = np.log(rand())\n",
    "    # Compute step size\n",
    "    delta = T / B\n",
    "\n",
    "    for _ in range(B):\n",
    "        # Move\n",
    "        x = x + delta*v/2 \n",
    "        # Reflect\n",
    "        g = grad_log_pi(x)\n",
    "        ghat = g / norm(g)\n",
    "        v = v - 2*(v @ ghat) * ghat\n",
    "        # Move\n",
    "        x = x + delta*v/2\n",
    "    return x, v"
   ]
  },
  {
   "cell_type": "code",
   "execution_count": 20,
   "id": "3f80a646",
   "metadata": {},
   "outputs": [
    {
     "data": {
      "text/plain": [
       "(0.0, 4.113365064035801e-31)"
      ]
     },
     "execution_count": 20,
     "metadata": {},
     "output_type": "execute_result"
    }
   ],
   "source": [
    "check_involution(x0, v0, lambda x, v: hug_integrator(x, v, T, B, q, grad_f))"
   ]
  },
  {
   "cell_type": "code",
   "execution_count": 81,
   "id": "93f31f7b",
   "metadata": {},
   "outputs": [],
   "source": [
    "def true_ruth_integrator(x0, v0, T, B, gradf, hessf):\n",
    "    x, v = x0, v0 \n",
    "    delta = T / B\n",
    "    for _ in range(B):\n",
    "        g = gradf(x); ng = norm(g); ghat = g / ng\n",
    "        v1 = v - (7/24) * delta * ((v @ (hessf(x) @ v)) / ng) * ghat\n",
    "        x1 = x + (2/3) * delta * v1\n",
    "\n",
    "        g1 = gradf(x1); ng1 = norm(g1); ghat1 = g1 / ng1\n",
    "        v2 = v1 - (3/4) * delta * ((v1 @ (hessf(x1) @ v1)) / ng1) * ghat1\n",
    "        x2 = x1 - (2/3) * delta * v2\n",
    "\n",
    "        g2 = gradf(x2); ng2 = norm(g2); ghat2 = g2 / ng2\n",
    "        v  = v2 + (1/24) * delta * ((v2 @ (hessf(x2) @ v2)) / ng2) * ghat2\n",
    "        x  = x2 + delta * v\n",
    "    return x, v\n"
   ]
  },
  {
   "cell_type": "code",
   "execution_count": 79,
   "id": "f730eaff",
   "metadata": {},
   "outputs": [],
   "source": [
    "g0 = grad_f(x0)\n",
    "g0hat = normalize(g0)\n",
    "v0perp = normalize(v0 - (v0 @ g0hat * g0hat)) * norm(v0)"
   ]
  },
  {
   "cell_type": "code",
   "execution_count": 80,
   "id": "ca769b41",
   "metadata": {},
   "outputs": [
    {
     "data": {
      "text/plain": [
       "(0.005548214244117492, 0.02057270062053753)"
      ]
     },
     "execution_count": 80,
     "metadata": {},
     "output_type": "execute_result"
    }
   ],
   "source": [
    "check_involution(x0, v0, lambda x, v: true_ruth_integrator(x, v, T, B, grad_f, hess_f))"
   ]
  },
  {
   "cell_type": "code",
   "execution_count": 24,
   "id": "d8d07abf",
   "metadata": {},
   "outputs": [],
   "source": [
    "### IT IS NOT AN INVOLUTION"
   ]
  },
  {
   "cell_type": "code",
   "execution_count": null,
   "id": "b225c96f",
   "metadata": {},
   "outputs": [],
   "source": []
  },
  {
   "cell_type": "code",
   "execution_count": null,
   "id": "0fdec0cc",
   "metadata": {},
   "outputs": [],
   "source": []
  },
  {
   "cell_type": "code",
   "execution_count": null,
   "id": "7b2ffbae",
   "metadata": {},
   "outputs": [],
   "source": []
  },
  {
   "cell_type": "code",
   "execution_count": null,
   "id": "300ed896",
   "metadata": {},
   "outputs": [],
   "source": []
  },
  {
   "cell_type": "code",
   "execution_count": 77,
   "id": "94d3c792",
   "metadata": {},
   "outputs": [],
   "source": [
    "def mse_hug(x0, N):\n",
    "    fx0 = f(x0)\n",
    "    diffs = []\n",
    "    for i in range(N):\n",
    "        diffs.append(fx0 - f(HugDeterministic(x0, 1.0, 5, q, grad_f)))\n",
    "    return np.mean(np.array(diffs)**2)"
   ]
  },
  {
   "cell_type": "code",
   "execution_count": 78,
   "id": "bfb61bda",
   "metadata": {},
   "outputs": [
    {
     "data": {
      "text/plain": [
       "(0.04000000000000001, 8.618662666868532e-05)"
      ]
     },
     "execution_count": 78,
     "metadata": {},
     "output_type": "execute_result"
    }
   ],
   "source": [
    "δ**2, mse_hug(x0, 1000)"
   ]
  },
  {
   "cell_type": "markdown",
   "id": "d1d85952",
   "metadata": {},
   "source": [
    "# True Ruth is of order $\\delta^3$"
   ]
  },
  {
   "cell_type": "code",
   "execution_count": 79,
   "id": "d6b2f19c",
   "metadata": {},
   "outputs": [],
   "source": [
    "def mse_ruth_true(x0, N):\n",
    "    fx0 = f(x0)\n",
    "    diffs = []\n",
    "    for i in range(N):\n",
    "        diffs.append(fx0 - f(true_ruth_integrator(x0, v0, T, B, grad_f, hess_f)[0]))\n",
    "    return np.mean(np.array(diffs)**2)"
   ]
  },
  {
   "cell_type": "code",
   "execution_count": 80,
   "id": "a1521f6c",
   "metadata": {},
   "outputs": [
    {
     "data": {
      "text/plain": [
       "(0.008000000000000002, 8.380002941908261)"
      ]
     },
     "execution_count": 80,
     "metadata": {},
     "output_type": "execute_result"
    }
   ],
   "source": [
    "δ**3, mse_ruth_true(x0, 1000)"
   ]
  },
  {
   "cell_type": "markdown",
   "id": "e7c6f1dc",
   "metadata": {},
   "source": [
    "# Approx Ruth is of order $\\delta^3$"
   ]
  },
  {
   "cell_type": "code",
   "execution_count": 81,
   "id": "c4eef824",
   "metadata": {},
   "outputs": [],
   "source": [
    "def mse_ruth_approx(x0, N):\n",
    "    fx0 = f(x0)\n",
    "    diffs = []\n",
    "    for i in range(N):\n",
    "        diffs.append(fx0 - f(approx_ruth_integrator(x0, v0, T, B, grad_f)[0]))\n",
    "    return np.mean(np.array(diffs)**2)"
   ]
  },
  {
   "cell_type": "code",
   "execution_count": 82,
   "id": "e8ce85ae",
   "metadata": {},
   "outputs": [
    {
     "data": {
      "text/plain": [
       "(0.008000000000000002, 11.320382108450534)"
      ]
     },
     "execution_count": 82,
     "metadata": {},
     "output_type": "execute_result"
    }
   ],
   "source": [
    "δ**3, mse_ruth_approx(x0, 1000)"
   ]
  },
  {
   "cell_type": "code",
   "execution_count": null,
   "id": "5848e6b7",
   "metadata": {},
   "outputs": [],
   "source": []
  },
  {
   "cell_type": "code",
   "execution_count": null,
   "id": "257fa55c",
   "metadata": {},
   "outputs": [],
   "source": []
  },
  {
   "cell_type": "code",
   "execution_count": null,
   "id": "65d54fcd",
   "metadata": {},
   "outputs": [],
   "source": []
  },
  {
   "cell_type": "code",
   "execution_count": 219,
   "id": "119fd51b",
   "metadata": {},
   "outputs": [],
   "source": [
    "###### True Velocity Steps\n",
    "def true_first_velocity_step(x0, v0):\n",
    "    return v0 - (7/24) * delta * ((v0 @ solve(Σ, v0)) / norm(grad_f(x0))) * gnorm(x0)\n",
    "\n",
    "def true_second_velocity_step(x1, v1):\n",
    "    return v1 - (3/4)*delta*((v1 @ solve(Σ, v1)) / norm(grad_f(x1))) * gnorm(x1) \n",
    "\n",
    "def true_third_velocity_step(x2, v2):\n",
    "    return v2 + (1/24)*delta*((v2 @ solve(Σ, v2)) / norm(grad_f(x2))) * gnorm(x2)\n",
    "\n",
    "###### True Position Steps\n",
    "def true_first_position_step(x0, v1):\n",
    "    return x0 + (2/3)*delta*v1\n",
    "\n",
    "def true_second_position_step(x1, v2):\n",
    "    return x1 - (2/3) * delta * v2\n",
    "\n",
    "###### True First and Second\n",
    "def true_full_second_velocity(x0, v0):\n",
    "    v1 = true_first_velocity_step(x0, v0)\n",
    "    x1 = true_first_position_step(x0, v1)\n",
    "    v2 = true_second_velocity_step(x1, v1)\n",
    "    return v2\n",
    "\n",
    "def true_full_third_velocity(x0, v0):\n",
    "    v1 = true_first_velocity_step(x0, v0)\n",
    "    x1 = true_first_position_step(x0, v1)\n",
    "    v2 = true_second_velocity_step(x1, v1)\n",
    "    x2 = true_second_position_step(x1, v2)\n",
    "    return true_third_velocity_step(x2, v2)\n",
    "\n",
    "###### Approximate Velocity Steps\n",
    "def approx_first_velocity_step(x0, x1, v0):\n",
    "    return v0 - gnorm(x0) * (gnorm(x1) @ v0)\n",
    "\n",
    "def approx_second_velocity_step(x2, v1):\n",
    "    return v1 - (9/8) * (v1 @ gnorm(x2)) * gnorm(x2)\n",
    "\n",
    "def approx_full_second_velocity(x0, v0):\n",
    "    x1 = approx_first_position_step(x0, v0)\n",
    "    v1 = approx_first_velocity_step(x0, x1, v0)\n",
    "    x2 = approx_second_position_step(x1, v1)    #### could use x0 here!!\n",
    "    return approx_second_velocity_step(x2, v1)\n",
    "\n",
    "def approx_full_second_velocity2(x0, v0):\n",
    "    x1 = approx_first_position_step(x0, v0)\n",
    "    v1 = approx_first_velocity_step(x0, x1, v0)\n",
    "    x2 = approx_second_position_step(x0, v1)   ##### x0 here!!!!!\n",
    "    return approx_second_velocity_step(x2, v1)\n",
    "\n",
    "###### Approximate Position Steps\n",
    "def approx_first_position_step(x0, v0):\n",
    "    return x0 + (7/24) * delta * v0\n",
    "\n",
    "def approx_second_position_step(x1, v1):\n",
    "    return x1 + (2/3) * delta * v1\n",
    "\n",
    "def approx_third_position_step():\n",
    "    return "
   ]
  },
  {
   "cell_type": "code",
   "execution_count": 212,
   "id": "14b44a55",
   "metadata": {},
   "outputs": [
    {
     "data": {
      "text/plain": [
       "array([-0.00467015, -0.00807351])"
      ]
     },
     "execution_count": 212,
     "metadata": {},
     "output_type": "execute_result"
    }
   ],
   "source": [
    "true_first_velocity_step(x0, v0perp) - approx_first_velocity_step(x0, approx_first_position_step(x0, v0perp), v0perp)"
   ]
  },
  {
   "cell_type": "code",
   "execution_count": 213,
   "id": "c3888dde",
   "metadata": {},
   "outputs": [
    {
     "data": {
      "text/plain": [
       "array([-0.01681771, -0.02875272])"
      ]
     },
     "execution_count": 213,
     "metadata": {},
     "output_type": "execute_result"
    }
   ],
   "source": [
    "true_full_second_velocity(x0, v0perp) - approx_full_second_velocity(x0, v0perp)"
   ]
  },
  {
   "cell_type": "code",
   "execution_count": 220,
   "id": "c2f056a5",
   "metadata": {},
   "outputs": [
    {
     "data": {
      "text/plain": [
       "array([-0.01414106, -0.02424065])"
      ]
     },
     "execution_count": 220,
     "metadata": {},
     "output_type": "execute_result"
    }
   ],
   "source": [
    "true_full_second_velocity(x0, v0perp) - approx_full_second_velocity2(x0, v0perp)"
   ]
  },
  {
   "cell_type": "code",
   "execution_count": 214,
   "id": "21d37b61",
   "metadata": {},
   "outputs": [
    {
     "data": {
      "text/plain": [
       "array([-1.68688933,  0.95731697])"
      ]
     },
     "execution_count": 214,
     "metadata": {},
     "output_type": "execute_result"
    }
   ],
   "source": [
    "true_full_third_velocity(x0, v0perp)"
   ]
  },
  {
   "cell_type": "code",
   "execution_count": null,
   "id": "74b4bcc4",
   "metadata": {},
   "outputs": [],
   "source": []
  },
  {
   "cell_type": "code",
   "execution_count": null,
   "id": "68db9f5f",
   "metadata": {},
   "outputs": [],
   "source": []
  },
  {
   "cell_type": "code",
   "execution_count": null,
   "id": "21871b26",
   "metadata": {},
   "outputs": [],
   "source": []
  },
  {
   "cell_type": "code",
   "execution_count": null,
   "id": "139a3a6c",
   "metadata": {},
   "outputs": [],
   "source": []
  },
  {
   "cell_type": "code",
   "execution_count": 271,
   "id": "9cb70600",
   "metadata": {},
   "outputs": [],
   "source": []
  },
  {
   "cell_type": "code",
   "execution_count": null,
   "id": "5fdd9a71",
   "metadata": {},
   "outputs": [],
   "source": []
  }
 ],
 "metadata": {
  "kernelspec": {
   "display_name": "Python 3 (ipykernel)",
   "language": "python",
   "name": "python3"
  },
  "language_info": {
   "codemirror_mode": {
    "name": "ipython",
    "version": 3
   },
   "file_extension": ".py",
   "mimetype": "text/x-python",
   "name": "python",
   "nbconvert_exporter": "python",
   "pygments_lexer": "ipython3",
   "version": "3.8.10"
  }
 },
 "nbformat": 4,
 "nbformat_minor": 5
}
