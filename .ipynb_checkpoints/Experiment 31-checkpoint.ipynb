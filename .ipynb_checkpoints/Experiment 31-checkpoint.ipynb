{
 "cells": [
  {
   "cell_type": "code",
   "execution_count": 512,
   "id": "f2f7b39c",
   "metadata": {},
   "outputs": [],
   "source": [
    "from scipy.stats import multivariate_normal as MVN\n",
    "from scipy.stats import norm as normal\n",
    "import numpy as np\n",
    "from numpy.random import randn, uniform, randint, choice\n",
    "from numpy import zeros, eye, arange, sort, setdiff1d, log\n",
    "from numpy.linalg import norm\n",
    "from tangential_hug_functions import Hug, HugTangential\n",
    "from utils import ESS, ESS_univariate\n",
    "from time import time\n",
    "from scipy.optimize import fsolve"
   ]
  },
  {
   "cell_type": "markdown",
   "id": "b3b8d1c5",
   "metadata": {},
   "source": [
    "Parameters $\\theta = \\sigma\\in\\mathbb{R}$. Latents $z\\in\\mathbb{R}^n$. Overall $\\xi = (\\theta, z)\\in\\mathbb{R}^{n+1}$. The prior distribution is \n",
    "$$\n",
    "p(\\xi) = p(\\theta) p(z) = \\mathcal{U}(\\theta \\mid 0, 10) \\mathcal{N}(z\\mid0, I_{n})\n",
    "$$\n",
    "We use the Epanechnikov kernel \n",
    "$$\n",
    "k_\\epsilon(\\xi) = \\frac{1}{\\epsilon}\\left[\\frac{3}{4}\\left(1 - \\frac{\\|f(\\xi) - y^*\\|^2}{\\epsilon^2}\\right)\\mathbb{I}\\left\\{\\| f(\\xi) - y^*\\| \\leq \\epsilon\\right\\}\\right]\n",
    "$$\n",
    "The target distribution is then\n",
    "$$\n",
    "\\pi(\\xi) = p(\\xi) k_\\epsilon(\\xi)\n",
    "$$\n",
    "The deterministic function is $f:\\mathbb{R}^{n+1}\\to\\mathbb{R}^n$. Here, however, we consider the modified function\n",
    "$$\n",
    "h(\\xi) = \\| f(\\xi) - y^*\\|\n",
    "$$\n",
    "So that the manifold is\n",
    "$$\n",
    "\\mathcal{M} = \\{\\xi\\in\\mathbb{R}^{n+1}:\\, h(\\xi) = 0\\} = \\{\\xi\\in\\mathbb{R}^{n+1}:\\, \\| f(\\xi) - y^*\\| = 0\\} = \\{\\xi\\in\\mathbb{R}^{n+1}\\,:\\, f(\\xi) = y^*\\}\n",
    "$$\n",
    "The nearby manifolds that we will be considering are\n",
    "$$\n",
    "\\mathcal{M}_\\epsilon = \\{\\xi\\in\\mathbb{R}^{n+1}\\,:\\,h(\\xi) = \\epsilon\\} = \\{\\xi\\in\\mathbb{R}^{n+1}\\,:\\, \\| f(\\xi) - y^*\\| = \\epsilon\\}\n",
    "$$"
   ]
  },
  {
   "cell_type": "code",
   "execution_count": 577,
   "id": "d9c877f8",
   "metadata": {},
   "outputs": [],
   "source": [
    "import numpy as np\n",
    "from numpy import load, arange, linspace\n",
    "import matplotlib.pyplot as plt\n",
    "from utils import box_plot, num_grad_hug_hop, num_grad_thug_hop\n",
    "np.set_printoptions(suppress=True)"
   ]
  },
  {
   "cell_type": "code",
   "execution_count": 1107,
   "id": "53e85adb",
   "metadata": {},
   "outputs": [],
   "source": [
    "folder = \"experiment31/\" \n",
    "\n",
    "# HUG\n",
    "THETA_ESS_HUG = load(folder + \"THETA_ESS_HUG.npy\")\n",
    "U_ESS_HUG     = load(folder + \"U_ESS_HUG.npy\")\n",
    "ESS_HUG       = load(folder + \"ESS_JOINT_HUG.npy\")\n",
    "ESS_HUG_TOT   = load(folder + \"ESS_JOINT_TOT_HUG.npy\")\n",
    "LOGPI_ESS_HUG = load(folder + \"LOGPI_ESS_HUG.npy\")\n",
    "A_HUG         = load(folder + \"A_HUG.npy\")\n",
    "RMSE_HUG      = load(folder + \"RMSE_HUG.npy\")\n",
    "EJSD_HUG      = load(folder + \"EJSD_HUG.npy\")\n",
    "G_EJSD_HUG    = load(folder + \"G_EJSD_HUG.npy\")\n",
    "T_EJSD_HUG    = load(folder + \"T_EJSD_HUG.npy\")\n",
    "A_HOP_HUG     = load(folder + \"A_HOP_HUG.npy\")\n",
    "N_UNIQUE_HUG  = load(folder + \"N_UNIQUE_HUG.npy\")\n",
    "TIME_HUG      = load(folder + \"TIME_HUG.npy\")\n",
    "\n",
    "\n",
    "# HUG AR\n",
    "THETA_ESS_THUG = load(folder + \"THETA_ESS_THUG.npy\")\n",
    "U_ESS_THUG     = load(folder + \"U_ESS_THUG.npy\")\n",
    "LOGPI_ESS_THUG = load(folder + \"LOGPI_ESS_THUG.npy\")\n",
    "ESS_THUG       = load(folder + \"ESS_JOINT_THUG.npy\")\n",
    "ESS_THUG_TOT   = load(folder + \"ESS_JOINT_TOT_THUG.npy\")\n",
    "A_THUG         = load(folder + \"A_THUG.npy\")\n",
    "RMSE_THUG      = load(folder + \"RMSE_THUG.npy\")\n",
    "EJSD_THUG      = load(folder + \"EJSD_THUG.npy\")\n",
    "G_EJSD_THUG    = load(folder + \"G_EJSD_THUG.npy\")\n",
    "T_EJSD_THUG    = load(folder + \"T_EJSD_THUG.npy\")\n",
    "A_HOP_THUG     = load(folder + \"A_HOP_THUG.npy\")\n",
    "N_UNIQUE_THUG  = load(folder + \"N_UNIQUE_THUG.npy\")\n",
    "DELTA_K        = load(folder + \"DELTA_K.npy\")\n",
    "DELTA_L        = load(folder + \"DELTA_L.npy\")\n",
    "A_FLAG         = load(folder + \"A_FLAG_THUG.npy\")\n",
    "TIME_THUG      = load(folder + \"TIME_THUG.npy\")\n",
    "\n",
    "\n",
    "# COMMON\n",
    "EPSILONS       = load(folder + \"EPSILONS.npy\")\n",
    "TS             = load(folder + \"TS.npy\")\n",
    "time           = load(folder + \"TIME.npy\")\n",
    "ALPHAS         = load(folder + \"ALPHAS.npy\")\n",
    "N              = load(folder + \"N.npy\")"
   ]
  },
  {
   "cell_type": "code",
   "execution_count": 1108,
   "id": "fc552b9a",
   "metadata": {},
   "outputs": [
    {
     "data": {
      "image/png": "[encoded data removed]",
      "text/plain": [
       "<Figure size 864x720 with 4 Axes>"
      ]
     },
     "metadata": {
      "needs_background": "light"
     },
     "output_type": "display_data"
    }
   ],
   "source": [
    "string_alphas = ['0.0'] + [str(a) for a in ALPHAS]\n",
    "string_ts = [str(T) for T in TS]\n",
    "data_list = [\n",
    "    np.hstack((ESS_HUG[:, i, :].mean(axis=0).reshape(-1, 1), ESS_THUG[:, i, :, :].mean(axis=0))) for i in range(len(EPSILONS))\n",
    "]\n",
    "data_list = [data / np.max(data) for data in data_list]\n",
    "fig, ax = plt.subplots(nrows=2, ncols=2, figsize=(12,10))\n",
    "for i in range(len(EPSILONS)):\n",
    "    ax[i //2, i % 2].imshow(data_list[i], cmap='Reds', vmin=0.0, vmax=1.0)\n",
    "    # draw gridlines\n",
    "    #ax.grid(which='major', axis='both', linestyle='-', color='k', linewidth=2)\n",
    "    ax[i //2, i % 2].set_xticks(np.arange(0.0, len(string_alphas)-0.5, 1));\n",
    "    ax[i //2, i % 2].set_yticks(np.arange(0.0, len(string_ts)-0.5, 1));\n",
    "    ax[i //2, i % 2].set_xticklabels(string_alphas)\n",
    "    ax[i //2, i % 2].set_yticklabels(string_ts)\n",
    "    ax[i //2, i % 2].set_xlabel('$\\\\alpha$', fontsize=20)\n",
    "    ax[i //2, i % 2].set_ylabel('$T$', fontsize=20)\n",
    "    ax[i //2, i % 2].set_title(\"epsilon = {}\".format(EPSILONS[i]))\n",
    "    ax[i //2, i % 2].set_xlim(-0.5, len(string_alphas)-0.5)\n",
    "    ax[i //2, i % 2].set_ylim(len(string_ts)-0.5, -0.5)\n",
    "plt.show()"
   ]
  },
  {
   "cell_type": "code",
   "execution_count": 1109,
   "id": "81b608dc",
   "metadata": {},
   "outputs": [
    {
     "data": {
      "image/png": "[encoded data removed]",
      "text/plain": [
       "<Figure size 864x720 with 4 Axes>"
      ]
     },
     "metadata": {
      "needs_background": "light"
     },
     "output_type": "display_data"
    }
   ],
   "source": [
    "string_alphas = ['0.0'] + [str(a) for a in ALPHAS]\n",
    "string_ts = [str(T) for T in TS]\n",
    "data_list = [\n",
    "    np.hstack((EJSD_HUG[:, i, :].mean(axis=0).reshape(-1, 1), EJSD_THUG[:, i, :, :].mean(axis=0))) for i in range(len(EPSILONS))\n",
    "]\n",
    "data_list = [data / np.max(data) for data in data_list]\n",
    "fig, ax = plt.subplots(nrows=2, ncols=2, figsize=(12,10))\n",
    "for i in range(len(EPSILONS)):\n",
    "    ax[i //2, i % 2].imshow(data_list[i], cmap='Reds', vmin=0.0, vmax=1.0)\n",
    "    # draw gridlines\n",
    "    #ax.grid(which='major', axis='both', linestyle='-', color='k', linewidth=2)\n",
    "    ax[i //2, i % 2].set_xticks(np.arange(0.0, len(string_alphas)-0.5, 1));\n",
    "    ax[i //2, i % 2].set_yticks(np.arange(0.0, len(string_ts)-0.5, 1));\n",
    "    ax[i //2, i % 2].set_xticklabels(string_alphas)\n",
    "    ax[i //2, i % 2].set_yticklabels(string_ts)\n",
    "    ax[i //2, i % 2].set_xlabel('$\\\\alpha$', fontsize=20)\n",
    "    ax[i //2, i % 2].set_ylabel('$T$', fontsize=20)\n",
    "    ax[i //2, i % 2].set_title(\"epsilon = {}\".format(EPSILONS[i]))\n",
    "    ax[i //2, i % 2].set_xlim(-0.5, len(string_alphas)-0.5)\n",
    "    ax[i //2, i % 2].set_ylim(len(string_ts)-0.5, -0.5)\n",
    "plt.show()"
   ]
  },
  {
   "cell_type": "code",
   "execution_count": 1110,
   "id": "ce326e2f",
   "metadata": {},
   "outputs": [
    {
     "data": {
      "image/png": "[encoded data removed]",
      "text/plain": [
       "<Figure size 864x720 with 4 Axes>"
      ]
     },
     "metadata": {
      "needs_background": "light"
     },
     "output_type": "display_data"
    }
   ],
   "source": [
    "string_alphas = ['0.0'] + [str(a) for a in ALPHAS]\n",
    "string_ts = [str(T) for T in TS]\n",
    "data_list = [\n",
    "    np.hstack((A_HUG[:, i, :].mean(axis=0).reshape(-1, 1), A_THUG[:, i, :, :].mean(axis=0))) for i in range(len(EPSILONS))\n",
    "]\n",
    "data_list = [data / np.max(data) for data in data_list]\n",
    "fig, ax = plt.subplots(nrows=2, ncols=2, figsize=(12,10))\n",
    "for i in range(len(EPSILONS)):\n",
    "    ax[i //2, i % 2].imshow(data_list[i], cmap='Reds', vmin=0.0, vmax=1.0)\n",
    "    # draw gridlines\n",
    "    #ax.grid(which='major', axis='both', linestyle='-', color='k', linewidth=2)\n",
    "    ax[i //2, i % 2].set_xticks(np.arange(0.0, len(string_alphas)-0.5, 1));\n",
    "    ax[i //2, i % 2].set_yticks(np.arange(0.0, len(string_ts)-0.5, 1));\n",
    "    ax[i //2, i % 2].set_xticklabels(string_alphas)\n",
    "    ax[i //2, i % 2].set_yticklabels(string_ts)\n",
    "    ax[i //2, i % 2].set_xlabel('$\\\\alpha$', fontsize=20)\n",
    "    ax[i //2, i % 2].set_ylabel('$T$', fontsize=20)\n",
    "    ax[i //2, i % 2].set_title(\"epsilon = {}\".format(EPSILONS[i]))\n",
    "    ax[i //2, i % 2].set_xlim(-0.5, len(string_alphas)-0.5)\n",
    "    ax[i //2, i % 2].set_ylim(len(string_ts)-0.5, -0.5)\n",
    "plt.show()"
   ]
  },
  {
   "cell_type": "code",
   "execution_count": 1111,
   "id": "8e9b9fff",
   "metadata": {},
   "outputs": [
    {
     "data": {
      "image/png": "[encoded data removed]",
      "text/plain": [
       "<Figure size 864x720 with 4 Axes>"
      ]
     },
     "metadata": {
      "needs_background": "light"
     },
     "output_type": "display_data"
    }
   ],
   "source": [
    "string_alphas = ['0.0'] + [str(a) for a in ALPHAS]\n",
    "string_ts = [str(T) for T in TS]\n",
    "data_list = [\n",
    "    np.hstack((LOGPI_ESS_HUG[:, i, :].mean(axis=0).reshape(-1, 1), LOGPI_ESS_THUG[:, i, :, :].mean(axis=0))) for i in range(len(EPSILONS))\n",
    "]\n",
    "data_list = [data / np.max(data) for data in data_list]\n",
    "fig, ax = plt.subplots(nrows=2, ncols=2, figsize=(12,10))\n",
    "for i in range(len(EPSILONS)):\n",
    "    ax[i //2, i % 2].imshow(data_list[i], cmap='Reds', vmin=0.0, vmax=1.0)\n",
    "    # draw gridlines\n",
    "    #ax.grid(which='major', axis='both', linestyle='-', color='k', linewidth=2)\n",
    "    ax[i //2, i % 2].set_xticks(np.arange(0.0, len(string_alphas)-0.5, 1));\n",
    "    ax[i //2, i % 2].set_yticks(np.arange(0.0, len(string_ts)-0.5, 1));\n",
    "    ax[i //2, i % 2].set_xticklabels(string_alphas)\n",
    "    ax[i //2, i % 2].set_yticklabels(string_ts)\n",
    "    ax[i //2, i % 2].set_xlabel('$\\\\alpha$', fontsize=20)\n",
    "    ax[i //2, i % 2].set_ylabel('$T$', fontsize=20)\n",
    "    ax[i //2, i % 2].set_title(\"epsilon = {}\".format(EPSILONS[i]))\n",
    "    ax[i //2, i % 2].set_xlim(-0.5, len(string_alphas)-0.5)\n",
    "    ax[i //2, i % 2].set_ylim(len(string_ts)-0.5, -0.5)\n",
    "plt.show()"
   ]
  },
  {
   "cell_type": "code",
   "execution_count": 1112,
   "id": "e8d894be",
   "metadata": {},
   "outputs": [
    {
     "data": {
      "text/plain": [
       "array([471.88033188, 381.78604187, 161.49161762])"
      ]
     },
     "execution_count": 1112,
     "metadata": {},
     "output_type": "execute_result"
    }
   ],
   "source": [
    "ESS_HUG[:, :, :].mean(axis=0)[0]"
   ]
  },
  {
   "cell_type": "code",
   "execution_count": 1113,
   "id": "47a2250d",
   "metadata": {},
   "outputs": [
    {
     "data": {
      "text/plain": [
       "array([[ 483.10951953,  474.30767036,  463.28147433,  447.36533244],\n",
       "       [ 372.24702379,  374.95377072,  375.363687  ,  380.33880294],\n",
       "       [1904.52498382, 1335.56929571, 1260.39071479, 1341.27376256]])"
      ]
     },
     "execution_count": 1113,
     "metadata": {},
     "output_type": "execute_result"
    }
   ],
   "source": [
    "ESS_THUG.mean(axis=0)[0]"
   ]
  },
  {
   "cell_type": "code",
   "execution_count": 1025,
   "id": "723189dc",
   "metadata": {},
   "outputs": [],
   "source": [
    "rej = (1 - A_FLAG[0, 0, -1, 1]).astype('bool') # True means it has been rejected\n",
    "acc = A_FLAG[0, 0, -1, 1].astype('bool')"
   ]
  },
  {
   "cell_type": "code",
   "execution_count": 1026,
   "id": "acb1d61d",
   "metadata": {},
   "outputs": [
    {
     "data": {
      "text/plain": [
       "array([  -7401.95097595, -148823.65764892,  -37176.4091513 , ...,\n",
       "         -2959.92454291,     -26.25543534,      -0.24862463])"
      ]
     },
     "execution_count": 1026,
     "metadata": {},
     "output_type": "execute_result"
    }
   ],
   "source": [
    "DELTA_K[0, 0, -1, 1, rej]"
   ]
  },
  {
   "cell_type": "code",
   "execution_count": 1039,
   "id": "5d7a8a1f",
   "metadata": {},
   "outputs": [
    {
     "data": {
      "text/plain": [
       "(-255186.6526596601, 0.4061544570731357)"
      ]
     },
     "execution_count": 1039,
     "metadata": {},
     "output_type": "execute_result"
    }
   ],
   "source": [
    "rangeof(DELTA_K[0, 0, -1, 1, rej])"
   ]
  },
  {
   "cell_type": "code",
   "execution_count": 1040,
   "id": "02a77134",
   "metadata": {},
   "outputs": [
    {
     "data": {
      "text/plain": [
       "(-4.140731464236474, 3.2132003703159313)"
      ]
     },
     "execution_count": 1040,
     "metadata": {},
     "output_type": "execute_result"
    }
   ],
   "source": [
    "rangeof(DELTA_K[0, 0, -1, 1, acc])"
   ]
  },
  {
   "cell_type": "code",
   "execution_count": 1042,
   "id": "7921df51",
   "metadata": {},
   "outputs": [
    {
     "data": {
      "text/plain": [
       "(-255186.7754728883, -0.06811935473103858)"
      ]
     },
     "execution_count": 1042,
     "metadata": {},
     "output_type": "execute_result"
    }
   ],
   "source": [
    "rangeof(DELTA_K[0, 0, -1, 1, rej] + DELTA_L[0, 0, -1, 1, rej])"
   ]
  },
  {
   "cell_type": "code",
   "execution_count": 1043,
   "id": "ddbce462",
   "metadata": {},
   "outputs": [
    {
     "data": {
      "text/plain": [
       "(-3.773862057043253, 3.797337197863115)"
      ]
     },
     "execution_count": 1043,
     "metadata": {},
     "output_type": "execute_result"
    }
   ],
   "source": [
    "rangeof(DELTA_K[0, 0, -1, 1, acc] + DELTA_L[0, 0, -1, 1, acc])"
   ]
  },
  {
   "cell_type": "code",
   "execution_count": 1052,
   "id": "f0198e7f",
   "metadata": {},
   "outputs": [
    {
     "data": {
      "text/plain": [
       "<matplotlib.collections.LineCollection at 0x17de80100>"
      ]
     },
     "execution_count": 1052,
     "metadata": {},
     "output_type": "execute_result"
    },
    {
     "data": {
      "image/png": "[encoded data removed]",
      "text/plain": [
       "<Figure size 432x288 with 1 Axes>"
      ]
     },
     "metadata": {
      "needs_background": "light"
     },
     "output_type": "display_data"
    }
   ],
   "source": [
    "_ = plt.hist(DELTA_K[0, 0, -1, 1, rej], bins=100)\n",
    "plt.vlines(-0.69, 0.0, 5000, color='red')"
   ]
  },
  {
   "cell_type": "code",
   "execution_count": 1054,
   "id": "2be5e6e1",
   "metadata": {},
   "outputs": [
    {
     "data": {
      "text/plain": [
       "array([  -7401.95097595, -148823.65764892,  -37176.4091513 , ...,\n",
       "         -2959.92454291,     -26.25543534,      -0.24862463])"
      ]
     },
     "execution_count": 1054,
     "metadata": {},
     "output_type": "execute_result"
    }
   ],
   "source": [
    "DELTA_K[0, 0, -1, 1, rej]"
   ]
  },
  {
   "cell_type": "code",
   "execution_count": 1062,
   "id": "fed59e9f",
   "metadata": {},
   "outputs": [
    {
     "data": {
      "text/plain": [
       "9602"
      ]
     },
     "execution_count": 1062,
     "metadata": {},
     "output_type": "execute_result"
    }
   ],
   "source": [
    "((-2 * DELTA_K[0, 0, -1, 1, rej]) > 0).sum()"
   ]
  },
  {
   "cell_type": "code",
   "execution_count": null,
   "id": "748e6468",
   "metadata": {},
   "outputs": [],
   "source": []
  },
  {
   "cell_type": "code",
   "execution_count": null,
   "id": "738a66cc",
   "metadata": {},
   "outputs": [],
   "source": []
  },
  {
   "cell_type": "code",
   "execution_count": null,
   "id": "4ac11a77",
   "metadata": {},
   "outputs": [],
   "source": []
  },
  {
   "cell_type": "code",
   "execution_count": 937,
   "id": "7c9f6328",
   "metadata": {},
   "outputs": [],
   "source": [
    "perc_delta_k_toobig = lambda ixr, ixe, ixt, ixa: (np.sum((np.sign(RATIOS[ixr,ixe,ixt,ixa, :]) != SIGNS[ixr,ixe,ixt,ixa,:]) & (SIGNS[ixr,ixe,ixt,ixa,:] < 0.0) & (abs(RATIOS[ixr,ixe,ixt,ixa,:]) < 1.0)) * 100 / N)[0]"
   ]
  },
  {
   "cell_type": "code",
   "execution_count": null,
   "id": "d5f3202b",
   "metadata": {},
   "outputs": [],
   "source": []
  },
  {
   "cell_type": "code",
   "execution_count": null,
   "id": "a12ea9de",
   "metadata": {},
   "outputs": [],
   "source": []
  },
  {
   "cell_type": "code",
   "execution_count": 792,
   "id": "f5547002",
   "metadata": {},
   "outputs": [
    {
     "data": {
      "text/plain": [
       "array([0.5, 0.3, 0.1])"
      ]
     },
     "execution_count": 792,
     "metadata": {},
     "output_type": "execute_result"
    }
   ],
   "source": []
  },
  {
   "cell_type": "code",
   "execution_count": 793,
   "id": "d2e37437",
   "metadata": {},
   "outputs": [
    {
     "data": {
      "text/plain": [
       "array([416.56145887, 340.29214782, 155.13432689])"
      ]
     },
     "execution_count": 793,
     "metadata": {},
     "output_type": "execute_result"
    }
   ],
   "source": [
    "run_ix = 0\n",
    "eps_ix = 0\n",
    "t_ix = [0, 1, 2]\n",
    "ESS_HUG[run_ix, eps_ix, t_ix]"
   ]
  },
  {
   "cell_type": "code",
   "execution_count": 794,
   "id": "052178eb",
   "metadata": {},
   "outputs": [
    {
     "data": {
      "text/plain": [
       "array([2793.16656267,  155.96054956])"
      ]
     },
     "execution_count": 794,
     "metadata": {},
     "output_type": "execute_result"
    }
   ],
   "source": [
    "run_ix = 0\n",
    "eps_ix = 0\n",
    "t_ix = 2\n",
    "alp_ix = [0, 1]\n",
    "ESS_THUG[run_ix, eps_ix, t_ix, alp_ix]"
   ]
  },
  {
   "cell_type": "code",
   "execution_count": 1114,
   "id": "b2b5b61d",
   "metadata": {},
   "outputs": [
    {
     "data": {
      "text/plain": [
       "array([[24.8 , 48.08, 81.95],\n",
       "       [28.69, 50.28, 81.39],\n",
       "       [30.65, 50.53, 84.17],\n",
       "       [30.52, 53.86, 83.52]])"
      ]
     },
     "execution_count": 1114,
     "metadata": {},
     "output_type": "execute_result"
    }
   ],
   "source": [
    "A_HUG[0]"
   ]
  },
  {
   "cell_type": "code",
   "execution_count": 1115,
   "id": "167d72d1",
   "metadata": {},
   "outputs": [
    {
     "data": {
      "text/plain": [
       "array([[[24.85, 25.1 , 24.5 , 23.79],\n",
       "        [47.49, 46.9 , 47.28, 37.02],\n",
       "        [43.49, 41.88, 31.31, 21.56]],\n",
       "\n",
       "       [[27.23, 27.2 , 25.61, 22.15],\n",
       "        [49.6 , 48.98, 46.85, 46.19],\n",
       "        [52.36, 44.38, 31.82, 22.86]],\n",
       "\n",
       "       [[26.55, 25.34, 23.19, 18.55],\n",
       "        [46.55, 45.04, 42.32, 31.69],\n",
       "        [45.83, 39.86, 30.98, 27.33]],\n",
       "\n",
       "       [[17.74, 15.59, 11.76,  7.88],\n",
       "        [42.58, 42.9 , 39.55, 27.29],\n",
       "        [56.83, 45.27, 33.33, 21.59]]])"
      ]
     },
     "execution_count": 1115,
     "metadata": {},
     "output_type": "execute_result"
    }
   ],
   "source": [
    "A_THUG[0]"
   ]
  },
  {
   "cell_type": "code",
   "execution_count": 1118,
   "id": "82fc44d9",
   "metadata": {},
   "outputs": [
    {
     "data": {
      "text/plain": [
       "(2, 4, 3, 4)"
      ]
     },
     "execution_count": 1118,
     "metadata": {},
     "output_type": "execute_result"
    }
   ],
   "source": [
    "A_THUG.shape"
   ]
  },
  {
   "cell_type": "code",
   "execution_count": null,
   "id": "390440f5",
   "metadata": {},
   "outputs": [],
   "source": []
  },
  {
   "cell_type": "code",
   "execution_count": null,
   "id": "52a62daa",
   "metadata": {},
   "outputs": [],
   "source": []
  },
  {
   "cell_type": "code",
   "execution_count": 953,
   "id": "79cd2bbd",
   "metadata": {},
   "outputs": [
    {
     "data": {
      "text/plain": [
       "array([95.85])"
      ]
     },
     "execution_count": 953,
     "metadata": {},
     "output_type": "execute_result"
    }
   ],
   "source": [
    "np.sum(abs(RATIOS[0, 0, -1, -1]) < 1.0) * 100 / N"
   ]
  },
  {
   "cell_type": "code",
   "execution_count": 954,
   "id": "2d7cb811",
   "metadata": {},
   "outputs": [
    {
     "data": {
      "text/plain": [
       "array([86.38])"
      ]
     },
     "execution_count": 954,
     "metadata": {},
     "output_type": "execute_result"
    }
   ],
   "source": [
    "np.sum(abs(RATIOS[0, 0, -1, -1]) < 0.1) * 100 / N"
   ]
  },
  {
   "cell_type": "code",
   "execution_count": 955,
   "id": "69678df3",
   "metadata": {},
   "outputs": [
    {
     "data": {
      "text/plain": [
       "array([83.7])"
      ]
     },
     "execution_count": 955,
     "metadata": {},
     "output_type": "execute_result"
    }
   ],
   "source": [
    "np.sum(abs(RATIOS[0, 0, -1, 0]) < 1.0) * 100 / N"
   ]
  },
  {
   "cell_type": "code",
   "execution_count": null,
   "id": "f3bece3f",
   "metadata": {},
   "outputs": [],
   "source": []
  },
  {
   "cell_type": "code",
   "execution_count": null,
   "id": "2399b7be",
   "metadata": {},
   "outputs": [],
   "source": []
  },
  {
   "cell_type": "code",
   "execution_count": null,
   "id": "12564246",
   "metadata": {},
   "outputs": [],
   "source": []
  },
  {
   "cell_type": "code",
   "execution_count": null,
   "id": "6fdde0ed",
   "metadata": {},
   "outputs": [],
   "source": []
  },
  {
   "cell_type": "code",
   "execution_count": null,
   "id": "24624f30",
   "metadata": {},
   "outputs": [],
   "source": []
  },
  {
   "cell_type": "code",
   "execution_count": null,
   "id": "7551c325",
   "metadata": {},
   "outputs": [],
   "source": []
  },
  {
   "cell_type": "code",
   "execution_count": 725,
   "id": "9376d21f",
   "metadata": {},
   "outputs": [
    {
     "data": {
      "text/plain": [
       "array([[35.06, 35.85, 31.66],\n",
       "       [28.5 , 27.34, 26.14],\n",
       "       [16.78, 17.12, 16.62],\n",
       "       [ 0.  ,  0.  ,  0.  ]])"
      ]
     },
     "execution_count": 725,
     "metadata": {},
     "output_type": "execute_result"
    }
   ],
   "source": [
    "A_HOP_HUG[0]"
   ]
  },
  {
   "cell_type": "code",
   "execution_count": 726,
   "id": "e1d67d61",
   "metadata": {},
   "outputs": [
    {
     "data": {
      "text/plain": [
       "array([[[33.39, 33.52],\n",
       "        [35.11, 34.16],\n",
       "        [31.64, 32.12]],\n",
       "\n",
       "       [[27.96, 26.11],\n",
       "        [25.83, 25.68],\n",
       "        [24.18, 25.18]],\n",
       "\n",
       "       [[17.4 , 13.17],\n",
       "        [15.38, 14.25],\n",
       "        [ 0.  ,  0.  ]],\n",
       "\n",
       "       [[ 0.01,  0.02],\n",
       "        [ 0.05,  0.05],\n",
       "        [ 0.  ,  0.  ]]])"
      ]
     },
     "execution_count": 726,
     "metadata": {},
     "output_type": "execute_result"
    }
   ],
   "source": [
    "A_HOP_THUG[0]"
   ]
  },
  {
   "cell_type": "code",
   "execution_count": 958,
   "id": "647eae28",
   "metadata": {},
   "outputs": [
    {
     "data": {
      "text/plain": [
       "'ZESSTH'"
      ]
     },
     "execution_count": 958,
     "metadata": {},
     "output_type": "execute_result"
    }
   ],
   "source": [
    "\"Z ESS TH\".replace(\" \", \"\")"
   ]
  },
  {
   "cell_type": "code",
   "execution_count": null,
   "id": "bdeece39",
   "metadata": {},
   "outputs": [],
   "source": []
  }
 ],
 "metadata": {
  "kernelspec": {
   "display_name": "Python 3 (ipykernel)",
   "language": "python",
   "name": "python3"
  },
  "language_info": {
   "codemirror_mode": {
    "name": "ipython",
    "version": 3
   },
   "file_extension": ".py",
   "mimetype": "text/x-python",
   "name": "python",
   "nbconvert_exporter": "python",
   "pygments_lexer": "ipython3",
   "version": "3.8.10"
  }
 },
 "nbformat": 4,
 "nbformat_minor": 5
}
