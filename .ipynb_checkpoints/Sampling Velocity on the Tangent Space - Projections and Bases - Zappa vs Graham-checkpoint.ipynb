{
 "cells": [
  {
   "cell_type": "code",
   "execution_count": 66,
   "id": "a2eb2fd6",
   "metadata": {},
   "outputs": [],
   "source": [
    "import numpy as np\n",
    "from numpy import eye\n",
    "from numpy.random import default_rng, randn, randint\n",
    "from scipy.linalg import qr, solve"
   ]
  },
  {
   "cell_type": "code",
   "execution_count": 77,
   "id": "eb1cc5a9",
   "metadata": {},
   "outputs": [],
   "source": [
    "np.random.seed(1234)\n",
    "n = 10\n",
    "m = 6\n",
    "d = n - m\n",
    "J = randint(low=0, high=10, size=(m,n))\n",
    "JT = J.T\n",
    "T = eye(n) - JT@solve(J@JT, J) # Projection matrix onto tangent space"
   ]
  },
  {
   "cell_type": "code",
   "execution_count": 78,
   "id": "3b3a843e",
   "metadata": {},
   "outputs": [],
   "source": [
    "Q, R = qr(JT, mode='full')"
   ]
  },
  {
   "cell_type": "code",
   "execution_count": 79,
   "id": "1096dbb1",
   "metadata": {},
   "outputs": [],
   "source": [
    "# Sample a d-dimensional velocity (n-m, )\n",
    "w = randn(d)\n",
    "\n",
    "# Rewrite using the ON basis for the tangent space (n, )\n",
    "wON = Q[:, -d:] @ w"
   ]
  },
  {
   "cell_type": "code",
   "execution_count": 80,
   "id": "20dba2d7",
   "metadata": {},
   "outputs": [
    {
     "data": {
      "text/plain": [
       "0.0"
      ]
     },
     "execution_count": 80,
     "metadata": {},
     "output_type": "execute_result"
    }
   ],
   "source": [
    "w@w - wON@wON"
   ]
  },
  {
   "cell_type": "code",
   "execution_count": 111,
   "id": "9a77b634",
   "metadata": {},
   "outputs": [],
   "source": [
    "# Now start by sampling v on the ambient space\n",
    "v  = randn(n)\n",
    "\n",
    "# Project onto tangent space\n",
    "vT = T@v\n",
    "\n",
    "# Find the d-dimensional vector that would have given the same\n",
    "wnew = solve(Q, vT)[-d:]"
   ]
  },
  {
   "cell_type": "code",
   "execution_count": 117,
   "id": "79e764a1",
   "metadata": {},
   "outputs": [
    {
     "data": {
      "text/plain": [
       "0.0"
      ]
     },
     "execution_count": 117,
     "metadata": {},
     "output_type": "execute_result"
    }
   ],
   "source": [
    "wnew@wnew - vT@vT"
   ]
  },
  {
   "cell_type": "code",
   "execution_count": 118,
   "id": "511ff571",
   "metadata": {},
   "outputs": [
    {
     "data": {
      "text/plain": [
       "-1.1102230246251565e-16"
      ]
     },
     "execution_count": 118,
     "metadata": {},
     "output_type": "execute_result"
    }
   ],
   "source": [
    "vT@vT - (Q[:, -d:]@wnew)@(Q[:, -d:]@wnew)"
   ]
  },
  {
   "cell_type": "code",
   "execution_count": null,
   "id": "eefa394c",
   "metadata": {},
   "outputs": [],
   "source": []
  }
 ],
 "metadata": {
  "kernelspec": {
   "display_name": "Python 3 (ipykernel)",
   "language": "python",
   "name": "python3"
  },
  "language_info": {
   "codemirror_mode": {
    "name": "ipython",
    "version": 3
   },
   "file_extension": ".py",
   "mimetype": "text/x-python",
   "name": "python",
   "nbconvert_exporter": "python",
   "pygments_lexer": "ipython3",
   "version": "3.10.4"
  }
 },
 "nbformat": 4,
 "nbformat_minor": 5
}
