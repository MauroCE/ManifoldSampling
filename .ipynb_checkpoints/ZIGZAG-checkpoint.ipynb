{
 "cells": [
  {
   "cell_type": "code",
   "execution_count": 14,
   "metadata": {},
   "outputs": [],
   "source": [
    "from HMC.gaussian_hmc import GaussianTargetHMC\n",
    "import numpy as np\n",
    "from scipy.stats import multivariate_normal\n",
    "from utils import quick_MVN_marginals, quick_MVN_scatter"
   ]
  },
  {
   "cell_type": "code",
   "execution_count": 2,
   "metadata": {},
   "outputs": [],
   "source": [
    "mu = np.zeros(2)\n",
    "Sigma = np.array([[1.0, 0.99], [0.99, 2.0]])\n",
    "target = multivariate_normal(mu, Sigma)"
   ]
  },
  {
   "cell_type": "code",
   "execution_count": 12,
   "metadata": {},
   "outputs": [],
   "source": [
    "n = 100\n",
    "M = np.eye(2)\n",
    "T = 1\n",
    "epsilon = 0.05"
   ]
  },
  {
   "cell_type": "code",
   "execution_count": 13,
   "metadata": {},
   "outputs": [],
   "source": [
    "x = target.rvs()\n",
    "samples = GaussianTargetHMC(x, n, M, T, epsilon, Sigma, mu).sample()"
   ]
  },
  {
   "cell_type": "markdown",
   "metadata": {},
   "source": [
    "Let $x\\in\\mathbb{R}^d$ and $u\\in\\mathbb{R}$. Define $q = (x, u)\\in\\mathbb{R}^{d+1}$. The the target density is\n",
    "$$\n",
    "\\pi(q) = \\pi(x, u) = \\frac{1}{Z_\\pi}\\mathbb{I}\\left\\{(x, u) \\, :\\, 0 < u < \\gamma(x)\\right\\}\n",
    "$$\n",
    "Introduce a new variable $p\\in\\mathbb{R}^{d+1}$ and define the joint\n",
    "$$\n",
    "\\pi(q, p) = \\pi(p \\mid q) \\pi(q)\n",
    "$$\n",
    "Hamilton's equations are\n",
    "\\begin{align}\n",
    "\\partial_t q &= \\partial_p K \\\\\n",
    "\\partial_t p &= - \\partial_q K - \\partial_q V\n",
    "\\end{align}\n",
    "If we take $\\pi(p \\mid q) = N(0, M)$ then we have\n",
    "\\begin{align}\n",
    "\\partial_p K &= M^{-1} p \\\\\n",
    "\\partial_q K &= 0\n",
    "\\end{align}\n",
    "Now we only need to compute $-\\partial_q V$.\n",
    "\\begin{align}\n",
    "    \\partial_q V(q) \n",
    "    &= -\\partial_{q} \\log \\pi(q) \\\\\n",
    "    &= -\\nabla_{(x, u)} \\left[- \\log Z_\\pi + \\log \\mathbb{I}\\left\\{(x, u)\\, :\\, 0 < u < \\gamma(x)\\right\\}\\right]\n",
    "\\end{align}"
   ]
  },
  {
   "cell_type": "markdown",
   "metadata": {},
   "source": [
    "Now for the first term\n",
    "$$\n",
    "\\nabla_{(x, u)} \\log \\int_{\\mathcal{X}} \\gamma(x) dx = 0\n",
    "$$"
   ]
  },
  {
   "cell_type": "markdown",
   "metadata": {},
   "source": [
    "The second term\n",
    "\\begin{align}\n",
    "- \\nabla_{(x, u)} \\log \\mathbb{I}\\left\\{(x, u)\\, :\\, 0 < u < \\gamma(x)\\right\\}\n",
    "&= - \\nabla_{(x, u)} \\log \\begin{cases}\n",
    "1 & 0 < u < \\gamma(x) \\\\\n",
    "0 & \\text{otherwise}\n",
    "\\end{cases}  \\\\\n",
    "&= - \\nabla_{(x, u)} \\begin{cases}\n",
    "    0 & 0 < u < \\gamma(x) \\\\ \n",
    "    -\\infty & \\text{otherwise}\n",
    "\\end{cases}\n",
    "\\end{align}"
   ]
  },
  {
   "cell_type": "markdown",
   "metadata": {},
   "source": [
    "Now clearly the function we are taking the gradient of is constant everywhere except where it changes value. It changes value only when $u = \\gamma(x)$ so its derivative is\n",
    "$$\n",
    "\\delta_{(x, \\gamma^{-1}(u))} = \\delta_{(x, \\gamma(x))}(x, u)\n",
    "$$"
   ]
  },
  {
   "cell_type": "markdown",
   "metadata": {},
   "source": [
    "Therefore the dynamics becomes\n",
    "\\begin{align}\n",
    "    \\partial_t q &= M^{-1} p \\\\\n",
    "    \\partial_t p &= - \\delta_{(x, \\gamma(x))}(x, u)\n",
    "\\end{align}"
   ]
  },
  {
   "cell_type": "markdown",
   "metadata": {},
   "source": [
    "# Zig Zag"
   ]
  },
  {
   "cell_type": "code",
   "execution_count": 17,
   "metadata": {},
   "outputs": [
    {
     "data": {
      "text/plain": [
       "2"
      ]
     },
     "execution_count": 17,
     "metadata": {},
     "output_type": "execute_result"
    }
   ],
   "source": [
    "np.max((0, 1, 2))"
   ]
  },
  {
   "cell_type": "code",
   "execution_count": null,
   "metadata": {},
   "outputs": [],
   "source": []
  },
  {
   "cell_type": "code",
   "execution_count": null,
   "metadata": {},
   "outputs": [],
   "source": [
    "def pot(xi, sigma=1.0):\n",
    "    \"\"\"Potential of a 1D Gaussian.\"\"\"\n",
    "    return (xi**2)/(2*sigma**2)\n",
    "\n",
    "def gradpot(xi, sigma=1.0):\n",
    "    \"\"\"Gradient of Potential of a 1D Gaussian\"\"\"\n",
    "    return xi / (sigma**2)\n",
    "\n",
    "def gamma(xi):\n",
    "    \"\"\"Used to compute switch rate. Here it is constant\"\"\"\n",
    "    return 1\n",
    "\n",
    "def M_generator(t, xi, theta, gammafunc=gamma, sigma=1.0):\n",
    "    \"\"\"Bound on switch rate.\"\"\"\n",
    "    return (np.abs(theta*xi)/(sigma**2)) + gammafunc(xi) + t/(sigma**2)\n",
    "\n",
    "def switchrate(xi, theta, gammafunc=gamma, sigma=1.0):\n",
    "    \"\"\"Lambda function. Switching rate.\"\"\"\n",
    "    np.max((0, theta*xi/(sigma**2))) +  gammafunc(xi)"
   ]
  },
  {
   "cell_type": "code",
   "execution_count": null,
   "metadata": {},
   "outputs": [],
   "source": [
    "def zigzag(xi0, theta0):\n",
    "    pass\n"
   ]
  }
 ],
 "metadata": {
  "kernelspec": {
   "display_name": "Python 3",
   "language": "python",
   "name": "python3"
  },
  "language_info": {
   "codemirror_mode": {
    "name": "ipython",
    "version": 3
   },
   "file_extension": ".py",
   "mimetype": "text/x-python",
   "name": "python",
   "nbconvert_exporter": "python",
   "pygments_lexer": "ipython3",
   "version": "3.7.4"
  }
 },
 "nbformat": 4,
 "nbformat_minor": 2
}
