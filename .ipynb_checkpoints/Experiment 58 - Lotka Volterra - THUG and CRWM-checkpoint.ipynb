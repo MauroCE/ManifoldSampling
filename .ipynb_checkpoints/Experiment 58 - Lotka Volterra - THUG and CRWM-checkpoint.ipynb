{
 "cells": [
  {
   "cell_type": "markdown",
   "id": "63277e42",
   "metadata": {},
   "source": [
    "# Lotka-Volterra Theory"
   ]
  },
  {
   "cell_type": "markdown",
   "id": "f78a0727",
   "metadata": {},
   "source": [
    "### Continuous-Time Dynamic"
   ]
  },
  {
   "cell_type": "markdown",
   "id": "42ffb9dc",
   "metadata": {},
   "source": [
    "$$\n",
    "\\begin{align}\n",
    "    dr &= (z_1 r - z_2 r f)dt + dn_r \\\\\n",
    "    df &= (z_4 r f - z_3 f)dt + dn_f\n",
    "\\end{align}\n",
    "$$\n",
    "where:\n",
    "- $r$: preys\n",
    "- $f$: predators\n",
    "- $\\{z_1, \\ldots, z_4\\}$ parameters\n",
    "- $n_r\\sim \\mathcal{N}(0, \\sigma_r^2)$ and $n_f\\sim\\mathcal{N}(0, \\sigma_f^2)$"
   ]
  },
  {
   "cell_type": "markdown",
   "id": "b943863d",
   "metadata": {},
   "source": [
    "### Discretization (Euler-Marayama)"
   ]
  },
  {
   "cell_type": "markdown",
   "id": "90f9d561",
   "metadata": {},
   "source": [
    "Discretize for $N_s$ time steps of step size $\\delta t$ starting from $r_0, f_0$. Given a vector $u_2$ of standard normal variates we do:\n",
    "- For $s\\in\\{1, \\ldots, N_s\\}$:\n",
    "    - $r_s \\longleftarrow r_{s-1} + \\delta t(z_1 r_{s-1} - z_2 r_{s-1} f_{s-1}) + \\sqrt{\\delta t}\\sigma_r u_{2, 2s-1}$\n",
    "    - $f_s \\longleftarrow f_{s-1} + \\delta t(z_4 r_{s-1} f_{s-1} - z_3 f_{s-1}) + \\sqrt{\\delta t} \\sigma_f u_{2, 2s}$\n",
    "- Return $x = [r_1, f_1, \\ldots, r_{N_s}, f_{N_s}]$"
   ]
  },
  {
   "cell_type": "markdown",
   "id": "f1544ec6",
   "metadata": {},
   "source": [
    "### Extra Details"
   ]
  },
  {
   "cell_type": "markdown",
   "id": "d40a64fb",
   "metadata": {},
   "source": [
    "- $z$ required to be positive, hence put a Log-Normal prior\n",
    "$$\n",
    "p_z(z) = \\prod_{i=1}^4 \\text{LogNormal}(z_i \\mid m_i, s_i)\n",
    "$$\n",
    "and $z$ can be generated as $z=\\exp(s \\odot u_1 + m)$ where $s=(s_1, \\ldots, s_4)$ and $m = (m_1, \\ldots, m_4)$ and $u_1\\sim\\mathcal{N}(0, I_4)$. In practice use location $m_i=-2$ and scale $s_i=1$.\n",
    "- $N_s = 50$\n",
    "- $\\delta t = 1$\n",
    "- $\\sigma_r=\\sigma_f=1$\n",
    "- $r_0=f_0=100$\n",
    "- $z = (0.4, 0.005, 0.05, 0.001)$\n",
    "\n",
    "Basically I want my input space to be $u = [u_1, u_2]$. Clearly $u_1\\in\\mathbb{R}^4$ and $u_2\\in\\mathbb{R}^{2N_s}$, which means overall $u\\in\\mathbb{R}^{4 + 2N_s}$."
   ]
  },
  {
   "cell_type": "markdown",
   "id": "6fd91bcb",
   "metadata": {},
   "source": [
    "### Jacobian"
   ]
  },
  {
   "cell_type": "markdown",
   "id": "9086d411",
   "metadata": {},
   "source": [
    "Let $d=4+2N_s$ be the dimensionality of the input space, and $p=2N_s$ the dimensionality of the output space. Consider $f:\\mathbb{R}^{d}\\to\\mathbb{R}^{p}$ to be the function mapping parameters and latents to the data, i.e. $[z, u_2]\\longrightarrow x$ and let its Jacobian be $J_f$. In practice we want to transform $u_1$ to $z$, hence we are interested in the Jacobian $J_h$ of the function $h:\\mathbb{R}^d\\to\\mathbb{R}^{p}$ defined as\n",
    "$$\n",
    "h = f \\circ g\n",
    "$$\n",
    "where $g:\\mathbb{R}^d\\to\\mathbb{R}^{p}$ maps $u_1$ to $z$ and $u_2$ to itself\n",
    "$$\n",
    "[u_1, u_2] \\longrightarrow [\\exp(s\\odot u_1 + m), u_2].\n",
    "$$\n",
    "By the chain rule for Jacobians one has\n",
    "$$\n",
    "    J_h(\\xi) = J_{f\\circ g}(\\xi) = J_f(g(\\xi)) J_g(\\xi).\n",
    "$$\n",
    "The term on the right is easy enough to compute and one has\n",
    "$$\n",
    "J_g(\\xi) = \n",
    "\\begin{pmatrix}\n",
    "    \\text{diag}(s \\odot \\exp(s\\odot u_1 + m)) & 0_{4\\times p} \\\\\n",
    "    0_{p\\times 4} & I_{p\\times p}\n",
    "\\end{pmatrix} \\in\\mathbb{R}^{d\\times d}\n",
    "$$\n",
    "The harder thing to do is to compute $J_f(g(\\xi))$.\n",
    "$$\n",
    "J_f(g(\\xi))\n",
    "= \\begin{pmatrix}\n",
    "    \\partial_{z} r_1 & \\partial_{u_2} r_1 \\\\\n",
    "    \\partial_{z} f_1 & \\partial_{u_2} f_1 \\\\\n",
    "    \\vdots & \\vdots \\\\\n",
    "    \\partial_{z} r_s & \\partial_{u_2} r_s \\\\\n",
    "    \\partial_{z} f_s & \\partial_{u_2} f_s \\\\\n",
    "    \\vdots & \\vdots \\\\\n",
    "    \\partial_{z} r_{N_s} & \\partial_{u_2} r_{N_s} \\\\\n",
    "    \\partial_{z} f_{N_s} & \\partial_{u_2} f_{N_s}\n",
    "\\end{pmatrix} \\in\\mathbb{R}^{p\\times d} = \\mathbb{R}^{2N_s \\times (4 + 2N_s)}\n",
    "$$"
   ]
  },
  {
   "cell_type": "markdown",
   "id": "880f73cb",
   "metadata": {},
   "source": [
    "It is therefore important to compute four quantities: $\\partial_z r_s$, $\\partial_{u_2} r_s$, $\\partial_z f_s$ and $\\partial_{u_2} f_s$. Given that the updates are\n",
    "$$\n",
    "\\begin{align}\n",
    "r_s \n",
    "&\\longleftarrow r_{s-1} + \\delta t(z_1 r_{s-1} - z_2 r_{s-1} f_{s-1}) + \\sqrt{\\delta t}\\sigma_r u_{2, 2s-1} \\\\\n",
    "f_s \n",
    "&\\longleftarrow f_{s-1} + \\delta t(z_4 r_{s-1} f_{s-1} - z_3 f_{s-1}) + \\sqrt{\\delta t} \\sigma_f u_{2, 2s}\n",
    "\\end{align}\n",
    "$$"
   ]
  },
  {
   "cell_type": "markdown",
   "id": "aba4a1d7",
   "metadata": {},
   "source": [
    "The derivatives are given by\n",
    "$$\n",
    "\\begin{align}\n",
    "    \\frac{\\partial r_s}{\\partial z}\n",
    "    &= \\frac{\\partial r_{s-1}}{\\partial z} + \\delta\\left( (1, 0, 0, 0)\\frac{\\partial r_{s-1}}{\\partial z} - (0, 1, 0, 0)\\left[\\frac{\\partial r_{s-1}}{\\partial z}f_{s-1} + r_{s-1} \\frac{\\partial f_{s-1}}{\\partial z}\\right]\\right) \\\\\n",
    "    \\frac{\\partial r_s}{\\partial u_2} \n",
    "    &= \\frac{\\partial r_{s-1}}{\\partial u_2} + \\delta\\left(z_1 \\frac{\\partial r_{s-1}}{\\partial u_2} - z_2\\left[\\frac{\\partial r_{s-1}}{\\partial u_2} f_{s-1} + r_{s-1}\\frac{\\partial f_{s-1}}{\\partial u_2}\\right]\\right) + \\sqrt{\\delta}\\sigma_r \\mathbb{1}_{p}(2s-1) \\\\\n",
    "    \\frac{\\partial f_s}{\\partial z}\n",
    "    &= \\frac{\\partial f_{s-1}}{\\partial z} + \\delta\\left((0,0,0,1)\\left[\\frac{\\partial r_{s-1}}{\\partial z}f_{s-1} + r_{s-1}\\frac{\\partial f_{s-1}}{\\partial z}\\right] - (0,0,1,0)\\frac{\\partial f_{s-1}}{\\partial z}\\right) \\\\\n",
    "    \\frac{\\partial f_s}{\\partial u_2}\n",
    "    &= \\frac{\\partial f_{s-1}}{\\partial u_2} + \\delta\\left(z_4\\left[\\frac{\\partial r_{s-1}}{\\partial u_2}f_{s-1} + r_{s-1}\\frac{\\partial f_{s-1}}{\\partial u_2}\\right] - z_3 \\frac{\\partial f_{s-1}}{\\partial u_2}\\right) + \\sqrt{\\delta}\\sigma_f\\mathbb{1}_p(2s)\n",
    "\\end{align}\n",
    "$$"
   ]
  },
  {
   "cell_type": "markdown",
   "id": "397e050b",
   "metadata": {},
   "source": [
    "These can actually be condensed into rows as follows (here we use $\\xi=[z, u_2]$):\n",
    "$$\n",
    "\\begin{align}\n",
    "        \\frac{\\partial r_s}{\\partial \\xi} \n",
    "        &= \\frac{\\partial r_{s-1}}{\\partial \\xi} + \\delta\\left(\\mathbb{1}_{d}(1)r_{s-1} + z_1 \\frac{\\partial r_{s-1}}{\\partial \\xi} - \\left[\\mathbb{1}_d(2) r_{s-1} f_{s-1} + z_2 \\frac{\\partial r_{s-1}}{\\partial \\xi}f_{s-1} + z_2 r_{s-1}\\frac{\\partial f_{s-1}}{\\partial \\xi}\\right]\\right) + \\sqrt{\\delta}\\sigma_r \\mathbb{1}_{d}(4 + 2s - 1) \\\\\n",
    "        \\frac{\\partial f_s}{\\partial \\xi} \n",
    "        &= \\frac{\\partial f_{s-1}}{\\partial \\xi} + \\delta\\left(\\left[\\mathbb{1}_d(4) r_{s-1}f_{s-1} + z_4 \\frac{\\partial r_{s-1}}{\\partial \\xi}f_{s-1} + z_4 r_{s-1}\\frac{\\partial f_{s-1}}{\\partial \\xi}\\right] - \\mathbb{1}_d(3)f_{s-1} - z_3 \\frac{\\partial f_{s-1}}{\\partial \\xi}\\right) + \\sqrt{\\delta}\\sigma_f \\mathbb{1}_d(4 + 2s)\n",
    "\\end{align}\n",
    "$$"
   ]
  },
  {
   "cell_type": "code",
   "execution_count": 1,
   "id": "82c48e3c",
   "metadata": {},
   "outputs": [],
   "source": [
    "import numpy as np\n",
    "from numpy import eye, zeros, ones, exp, sqrt, log, r_, concatenate, diag, pi\n",
    "from numpy.linalg import norm\n",
    "from numpy.random import randn \n",
    "from numpy.random import default_rng\n",
    "from scipy.linalg import block_diag\n",
    "from scipy.optimize import fsolve\n",
    "from scipy.stats import multivariate_normal as MVN\n",
    "\n",
    "from warnings import catch_warnings, filterwarnings, resetwarnings\n",
    "\n",
    "import matplotlib.pyplot as plt\n",
    "from matplotlib import rc\n",
    "\n",
    "from autograd import jacobian, grad\n",
    "import autograd.numpy as anp\n",
    "\n",
    "from tangential_hug_functions import HugTangentialMultivariateSafe\n",
    "from RWM import RWM\n",
    "from Manifolds.Manifold import Manifold\n",
    "from utils import ESS_univariate\n",
    "\n",
    "import math\n",
    "from scipy.linalg import qr\n",
    "import scipy.linalg as la\n",
    "from numpy.random import rand\n",
    "from numpy.linalg import solve\n",
    "import time\n",
    "import pandas as pd\n",
    "from arviz import convert_to_dataset\n",
    "from arviz import ess as ess_arviz\n",
    "\n",
    "from copy import deepcopy"
   ]
  },
  {
   "cell_type": "code",
   "execution_count": 2,
   "id": "dd13b4c5",
   "metadata": {},
   "outputs": [],
   "source": [
    "def compute_arviz_miness_runtime(chains, times):\n",
    "    \"\"\"Computes minESS/runtime. Expects chains=[samples, samples, ...] and times = [time, time, ...].\"\"\"\n",
    "    assert np.all([chain.shape == chains[0].shape for chain in chains]), \"Chains must have same dimensions.\"\n",
    "    n_samples = len(chains[0])\n",
    "    stacked = np.vstack([chain.reshape(1, n_samples, -1) for chain in chains])\n",
    "    dataset = convert_to_dataset(stacked)\n",
    "    return min(np.array(ess_arviz(dataset).to_array()).flatten()) / np.mean(times)"
   ]
  },
  {
   "cell_type": "code",
   "execution_count": 3,
   "id": "f36c3252",
   "metadata": {},
   "outputs": [],
   "source": [
    "_ = compute_arviz_miness_runtime([randn(4, 3), randn(4, 3)], [1, 1])"
   ]
  },
  {
   "cell_type": "code",
   "execution_count": 4,
   "id": "c2071559",
   "metadata": {},
   "outputs": [],
   "source": [
    "z_true = (0.4, 0.005, 0.05, 0.001)"
   ]
  },
  {
   "cell_type": "code",
   "execution_count": 3,
   "id": "828d642d",
   "metadata": {},
   "outputs": [],
   "source": [
    "# def z_to_u1(z, m=-2*ones(4), s=ones(4)):\n",
    "#     \"\"\"Transforms a parameter z into u1 (standard normal variables).\"\"\"\n",
    "#     return (log(z) - m) / s\n",
    "\n",
    "# def u1_to_z(u1, m=-2*ones(4), s=ones(4)):\n",
    "#     \"\"\"Given u1, it maps it to z.\"\"\"\n",
    "#     assert len(u1) == 4, \"u1 should have length 4, but found {}\".format(len(u1))\n",
    "#     return exp(s*u1 + m)\n",
    "\n",
    "# def g(u):\n",
    "#     \"\"\"Takes [u1, u2] and returns [z, u2]\"\"\"\n",
    "#     return r_[u1_to_z(u[:4]), u[4:]]\n",
    "    \n",
    "# def zu2_to_x(zu2):\n",
    "#     \"\"\"Same as u_to_x but this takes as input [z, u2].\"\"\"\n",
    "#     z1, z2, z3, z4 = zu2[:4]\n",
    "#     u2 = zu2[4:]\n",
    "#     u2_r = u2[::2]\n",
    "#     u2_f = u2[1::2]\n",
    "#     r = np.full(Ns + 1, fill_value=np.nan)\n",
    "#     f = np.full(Ns + 1, fill_value=np.nan)\n",
    "#     r[0] = r0\n",
    "#     f[0] = f0\n",
    "#     for s in range(1, Ns+1):\n",
    "#         r[s] = r[s-1] + δ*(z1*r[s-1] - z2*r[s-1]*f[s-1]) + sqrt(δ)*σr*u2_r[s-1]\n",
    "#         f[s] = f[s-1] + δ*(z4*r[s-1]*f[s-1] - z3*f[s-1]) + sqrt(δ)*σf*u2_f[s-1]\n",
    "#     return np.ravel([r[1:], f[1:]], 'F')\n",
    "    \n",
    "\n",
    "# def u_to_x(u, r0=100, f0=100, Ns=50, δ=1, σr=1, σf=1):\n",
    "#     \"\"\"Maps u=[u1, u2] to z.\"\"\"\n",
    "#     u1, u2 = u[:4], u[4:]\n",
    "#     u2_r   = u2[::2]\n",
    "#     u2_f   = u2[1::2]\n",
    "#     z1, z2, z3, z4 = u1_to_z(u1)\n",
    "#     r = np.full(Ns + 1, fill_value=np.nan)\n",
    "#     f = np.full(Ns + 1, fill_value=np.nan)\n",
    "#     r[0] = r0\n",
    "#     f[0] = f0\n",
    "#     for s in range(1, Ns+1):\n",
    "#         r[s] = r[s-1] + δ*(z1*r[s-1] - z2*r[s-1]*f[s-1]) + sqrt(δ)*σr*u2_r[s-1]\n",
    "#         f[s] = f[s-1] + δ*(z4*r[s-1]*f[s-1] - z3*f[s-1]) + sqrt(δ)*σf*u2_f[s-1]\n",
    "#     return np.ravel([r[1:], f[1:]], 'F')\n",
    "\n",
    "# def Jg(ξ):\n",
    "#     \"\"\"Jacobian of the function g:[u_1, u_2] --> [z, u_2].\"\"\"\n",
    "#     m = -2*ones(4)\n",
    "#     s = ones(4)\n",
    "#     return diag(r_[s*exp(s*ξ[:4] + m), ones(2*Ns)])\n",
    "\n",
    "# def oneat(ix, length=(2*Ns + 4)):\n",
    "#     \"\"\"Generates a vector of zeros of length `length` with a one at index ix.\"\"\"\n",
    "#     output = zeros(length)\n",
    "#     output[ix] = 1\n",
    "#     return output\n",
    "\n",
    "# def Jf(ξ, return_data=False):\n",
    "#     \"\"\"Jacobian of the function f:[z, u_2] --> x.\n",
    "#     Assume r and f contains r0 and f0 at the start.\"\"\"\n",
    "#     J = zeros((2*Ns, 4 + 2*Ns))\n",
    "#     # Sete first two rows: dr1_dξ and df1_dξ\n",
    "#     J[0, :] = np.concatenate(([δ*r0, -δ*r0*f0, 0, 0], sqrt(δ)*σr*oneat(0, length=2*Ns)))\n",
    "#     J[1, :] = np.concatenate(([0, 0, -δ*f0, δ*r0*f0], sqrt(δ)*σf*oneat(1, length=2*Ns)))\n",
    "#     # Evaluate function at the ξ to find r and f at this ξ.\n",
    "#     x = zu2_to_x(ξ)\n",
    "#     r = np.concatenate(([r0], x[::2]))\n",
    "#     f = np.concatenate(([f0], x[1::2]))\n",
    "#     # Grab the parameters\n",
    "#     z1, z2, z3, z4 = ξ[:4]\n",
    "#     # Loops through the time steps and compute the Markovian rows\n",
    "#     for s in range(1, Ns):\n",
    "#         J[2*s, :]     = J[2*s-2, :] + δ*(oneat(0)*r[s] + z1*J[2*s-2, :] -(oneat(1)*r[s]*f[s] + z2*J[2*s-2, :]*f[s] + z2*r[s]*J[2*s-1, :])) + sqrt(δ)*σr*oneat(2*s+4)\n",
    "#         J[2*s + 1, :] = J[2*s-1, :] + δ*(oneat(3)*r[s]*f[s] + z4*J[2*s-2, :]*f[s] + z4*r[s]*J[2*s-1, :] - oneat(2)*f[s] - z3*J[2*s-1, :]) + sqrt(δ)*σf*oneat(2*s+5)\n",
    "#     if return_data:\n",
    "#         return J, x\n",
    "#     else:\n",
    "#         return J\n",
    "    \n",
    "# def J(u):\n",
    "#     \"\"\"Total jacobian. Here u=[u1, u2].\"\"\"\n",
    "#     return Jf(g(u)) @ Jg(u)\n",
    "\n",
    "# def constraint(u):\n",
    "#     \"\"\"Constraint function taking u=[u1, u2] and comparing against true data.\"\"\"\n",
    "#     return u_to_x(u) - data"
   ]
  },
  {
   "cell_type": "code",
   "execution_count": 4,
   "id": "8d0a18fb",
   "metadata": {},
   "outputs": [],
   "source": [
    "# Ns = 50\n",
    "# d = 2*Ns + 4"
   ]
  },
  {
   "cell_type": "code",
   "execution_count": 5,
   "id": "85412418",
   "metadata": {},
   "outputs": [],
   "source": [
    "# u_true = r_[z_to_u1(z_true), randn(2*Ns)]"
   ]
  },
  {
   "cell_type": "code",
   "execution_count": 6,
   "id": "b70c78e6",
   "metadata": {},
   "outputs": [],
   "source": [
    "# data = u_to_x(u_true)"
   ]
  },
  {
   "cell_type": "code",
   "execution_count": 7,
   "id": "a6fa12dc",
   "metadata": {},
   "outputs": [],
   "source": [
    "# rc('font',**{'family':'STIXGeneral'})\n",
    "# fig, ax = plt.subplots()\n",
    "# ax.plot(data[::2], label='Preys')\n",
    "# ax.plot(data[1::2], label='Predators')\n",
    "# plt.legend()\n",
    "# plt.show()"
   ]
  },
  {
   "cell_type": "code",
   "execution_count": 8,
   "id": "680c73a8",
   "metadata": {},
   "outputs": [],
   "source": [
    "# def find_point_on_manifold(data, Ns=50, maxiter=2000, tol=1e-14):\n",
    "#     \"\"\"Finds a point on the Manifold with input u=[u1, u2].\"\"\"\n",
    "#     constraint = lambda ξ: u_to_x(ξ, Ns=Ns) - data\n",
    "#     i = 0\n",
    "#     with catch_warnings():\n",
    "#         filterwarnings('error')\n",
    "#         while i <= maxiter:\n",
    "#             i += 1\n",
    "#             try:\n",
    "#                 u1_init  = randn(4)*0.1 - 4 #u_true[:4] #randn(4)*0.1 - 4\n",
    "#                 u2_guess = zeros(2*Ns) #randn(2*Ns)\n",
    "#                 function = lambda u2: constraint(np.concatenate((u1_init, u2)))\n",
    "#                 u2_found = fsolve(function, u2_guess, xtol=tol)\n",
    "#                 u_found = np.concatenate((u1_init, u2_found))\n",
    "#                 return u_found\n",
    "#             except RuntimeWarning:\n",
    "#                 continue\n",
    "#         raise ValueError(\"Couldn't find a point, try again.\")\n",
    "        \n",
    "# def find_point_on_manifold_given_u1(u1, data, Ns=50, maxiter=2000, tol=1e-14):\n",
    "#     \"\"\"Finds a point on the Manifold with input u=[u1, u2].\"\"\"\n",
    "#     constraint = lambda ξ: u_to_x(ξ, Ns=Ns) - data\n",
    "#     i = 0\n",
    "#     with catch_warnings():\n",
    "#         filterwarnings('error')\n",
    "#         while i <= maxiter:\n",
    "#             i += 1\n",
    "#             try:\n",
    "#                 u2_guess = zeros(2*Ns)  # randn(2*Ns)\n",
    "#                 function = lambda u2: constraint(np.concatenate((u1, u2)))\n",
    "#                 u2_found = fsolve(function, u2_guess, xtol=tol)\n",
    "#                 u_found = np.concatenate((u1, u2_found))\n",
    "#                 return u_found\n",
    "#             except RuntimeWarning:\n",
    "#                 continue\n",
    "#         raise ValueError(\"Couldn't find a point, try again.\")"
   ]
  },
  {
   "cell_type": "code",
   "execution_count": 9,
   "id": "a058c071",
   "metadata": {},
   "outputs": [],
   "source": [
    "# def transform_usamples_to_zsamples(samples):\n",
    "#     \"\"\"Given samples of size (N, 4 + 2*Ns) it takes the first 4 columns and transforms them.\"\"\"\n",
    "#     n_samples, input_dim = samples.shape\n",
    "#     assert samples.shape[1] == 4 + 2*Ns, \"Wrong dim.\".format(4 + 2*Ns, samples.shape[1])\n",
    "#     return np.apply_along_axis(u1_to_z, 1, samples[:, :4])"
   ]
  },
  {
   "cell_type": "code",
   "execution_count": 10,
   "id": "5ed3c02f",
   "metadata": {},
   "outputs": [],
   "source": [
    "# u0 = find_point_on_manifold(tol=1e-15)"
   ]
  },
  {
   "cell_type": "code",
   "execution_count": 11,
   "id": "9ab9d9a7",
   "metadata": {},
   "outputs": [],
   "source": [
    "# u0_with_u1true = find_point_on_manifold_given_u1(z_to_u1(z_true), tol=1e-15)"
   ]
  },
  {
   "cell_type": "code",
   "execution_count": 12,
   "id": "1f49cbbe",
   "metadata": {},
   "outputs": [],
   "source": [
    "# q = MVN(zeros(d), eye(d))"
   ]
  },
  {
   "cell_type": "code",
   "execution_count": 13,
   "id": "a7251d83",
   "metadata": {},
   "outputs": [],
   "source": [
    "# def log_normal_kernel(ξ, ϵ):\n",
    "#     \"\"\"Log normal kernel density.\"\"\"\n",
    "#     u = norm(constraint(ξ))   ##### THIS IS NOT THE USUAL u\n",
    "#     return -u**2/(2*(ϵ**2)) -0.5*log(2*pi*(ϵ**2))\n",
    "\n",
    "# def generate_logpi(ϵ):\n",
    "#     \"\"\"Generates ABC posterior using a certain epsilon value. Uses a Gaussian kernel. \"\"\"\n",
    "#     logηϵ = lambda ξ: log_normal_kernel(ξ, ϵ) - ξ@ξ/2\n",
    "#     return logηϵ"
   ]
  },
  {
   "cell_type": "code",
   "execution_count": 14,
   "id": "dafc49f7",
   "metadata": {},
   "outputs": [],
   "source": [
    "# N = 20000\n",
    "# T = 0.3\n",
    "# B = 5"
   ]
  },
  {
   "cell_type": "markdown",
   "id": "4bc8ba6b",
   "metadata": {},
   "source": [
    "#### C-RWM"
   ]
  },
  {
   "cell_type": "code",
   "execution_count": 30,
   "id": "594958d8",
   "metadata": {},
   "outputs": [],
   "source": [
    "class LVManifold(Manifold):\n",
    "    def __init__(self, Ns=50, step_size=1.0, σr=1, σf=1, r0=100, f0=100, z_true=(0.4, 0.005, 0.05, 0.001), seed=1111):\n",
    "        self.Ns = Ns              # Number of steps used in integrating LV SDE\n",
    "        self.m = 2*self.Ns        # Number of constraints = dimensionality of data\n",
    "        self.d = 4                # Dimensionality of parameter\n",
    "        self.n = self.d + self.m  # Dimensionality of ambient space\n",
    "        self.δ = step_size        # Step size for discretization (not for sampling!)\n",
    "        self.σr = σr              # Scale for noise in prey step\n",
    "        self.σf = σf              # Scale for noise in predator step\n",
    "        self.r0 = r0              # Initial prey population\n",
    "        self.f0 = f0              # Initial predator population\n",
    "        self.z_true = np.array(z_true)  # True parameter\n",
    "        self.q_dist = MVN(zeros(self.n), eye(self.n))   # proposal for THUG\n",
    "        # generate data\n",
    "        self.random_seed = seed\n",
    "        self.rng = default_rng(self.random_seed)\n",
    "        self.u1_true = self.z_to_u1(self.z_true)\n",
    "        self.u2_true = self.rng.normal(loc=0.0, scale=1.0, size=2*self.Ns)\n",
    "        self.u_true = np.concatenate((self.u1_true, self.u2_true))\n",
    "        self.ystar  = self.u_to_x(self.u_true)\n",
    "        \n",
    "    def z_to_u1(self, z):\n",
    "        \"\"\"Transforms a parameter z into u1 (standard normal variables).\"\"\"\n",
    "        assert len(z) == 4, \"z should have length 4, but found {}\".format(len(z))\n",
    "        m_param = -2*ones(4)\n",
    "        s_param = ones(4)\n",
    "        return (log(z) - m_param) / s_param\n",
    "    \n",
    "    def u1_to_z(self, u1):\n",
    "        \"\"\"Given u1, it maps it to z.\"\"\"\n",
    "        assert len(u1) == 4, \"u1 should have length 4, but found {}\".format(len(u1))\n",
    "        m_param = -2*ones(4)\n",
    "        s_param = ones(4)\n",
    "        return exp(s_param*u1 + m_param)\n",
    "    \n",
    "    def g(self, u):\n",
    "        \"\"\"Takes [u1, u2] and returns [z, u2]\"\"\"\n",
    "        assert len(u) == self.n, \"u should have length {}, but found {}\".format(self.n, len(u))\n",
    "        return np.concatenate((self.u1_to_z(u[:4]), u[4:]))\n",
    "    \n",
    "    def u_to_x(self, u):\n",
    "        \"\"\"Maps u=[u1, u2] to z.\"\"\"\n",
    "        assert len(u) == self.n, \"u should have length {}, but found {}.\".format(self.n, len(u))\n",
    "        u1, u2 = u[:4], u[4:]\n",
    "        u2_r   = u2[::2]\n",
    "        u2_f   = u2[1::2]\n",
    "        z1, z2, z3, z4 = self.u1_to_z(u1)\n",
    "        r = np.full(self.Ns + 1, fill_value=np.nan)\n",
    "        f = np.full(self.Ns + 1, fill_value=np.nan)\n",
    "        r[0] = self.r0\n",
    "        f[0] = self.f0\n",
    "        for s in range(1, self.Ns+1):\n",
    "            r[s] = r[s-1] + self.δ*(z1*r[s-1] - z2*r[s-1]*f[s-1]) + sqrt(self.δ)*self.σr*u2_r[s-1]\n",
    "            f[s] = f[s-1] + self.δ*(z4*r[s-1]*f[s-1] - z3*f[s-1]) + sqrt(self.δ)*self.σf*u2_f[s-1]\n",
    "        return np.ravel([r[1:], f[1:]], 'F')\n",
    "    \n",
    "    def zu2_to_x(self, zu2):\n",
    "        \"\"\"Same as u_to_x but this takes as input [z, u2].\"\"\"\n",
    "        assert len(zu2) == self.n, \"zu2 should have length {}, but found {}\".format(self.n, len(zu2))\n",
    "        z1, z2, z3, z4 = zu2[:4]\n",
    "        u2 = zu2[4:]\n",
    "        u2_r = u2[::2]\n",
    "        u2_f = u2[1::2]\n",
    "        r = np.full(self.Ns + 1, fill_value=np.nan)\n",
    "        f = np.full(self.Ns + 1, fill_value=np.nan)\n",
    "        r[0] = self.r0\n",
    "        f[0] = self.f0\n",
    "        for s in range(1, self.Ns+1):\n",
    "            r[s] = r[s-1] + self.δ*(z1*r[s-1] - z2*r[s-1]*f[s-1]) + sqrt(self.δ)*self.σr*u2_r[s-1]\n",
    "            f[s] = f[s-1] + self.δ*(z4*r[s-1]*f[s-1] - z3*f[s-1]) + sqrt(self.δ)*self.σf*u2_f[s-1]\n",
    "        return np.ravel([r[1:], f[1:]], 'F')\n",
    "    \n",
    "    def Jg(self, ξ):\n",
    "        \"\"\"Jacobian of the function g:[u_1, u_2] --> [z, u_2].\"\"\"\n",
    "        assert len(ξ) == self.n, \"ξ should have length {}, but found {}.\".format(self.n, len(ξ))\n",
    "        m_param = -2*ones(4)\n",
    "        s_param = ones(4)\n",
    "        return diag(np.concatenate((s_param*exp(s_param*ξ[:4] + m_param), ones(2*self.Ns))))\n",
    "    \n",
    "    def oneat(self, ix, length=None):\n",
    "        \"\"\"Generates a vector of zeros of length `length` with a one at index ix.\"\"\"\n",
    "        assert type(ix) == int, \"index for oneat() should be integer but found {}\".format(type(ix))\n",
    "        if length is None:\n",
    "            length = self.n\n",
    "        output = zeros(length)\n",
    "        output[ix] = 1\n",
    "        return output\n",
    "    \n",
    "    def Jf(self, ξ):\n",
    "        \"\"\"Jacobian of the function f:[z, u_2] --> x.\n",
    "        Assume r and f contains r0 and f0 at the start.\"\"\"\n",
    "        assert len(ξ) == self.n, \"ξ should have length {}, but found {}.\".format(self.n, len(ξ))\n",
    "        J = zeros((self.m, self.n))\n",
    "        δ  = self.δ\n",
    "        r0 = self.r0\n",
    "        f0 = self.f0 \n",
    "        σr = self.σr\n",
    "        σf = self.σf\n",
    "        # Sete first two rows: dr1_dξ and df1_dξ\n",
    "        J[0, :] = np.concatenate(([δ*r0, -δ*r0*f0, 0, 0], sqrt(δ)*σr*self.oneat(0, length=self.m)))\n",
    "        J[1, :] = np.concatenate(([0, 0, -δ*f0, δ*r0*f0], sqrt(δ)*σf*self.oneat(1, length=self.m)))\n",
    "        # Evaluate function at the ξ to find r and f at this ξ.\n",
    "        x = self.zu2_to_x(ξ)\n",
    "        r = np.concatenate(([r0], x[::2]))\n",
    "        f = np.concatenate(([f0], x[1::2]))\n",
    "        # Grab the parameters\n",
    "        z1, z2, z3, z4 = ξ[:4]\n",
    "        # Loops through the time steps and compute the Markovian rows\n",
    "        for s in range(1, self.Ns):\n",
    "            J[2*s, :]     = J[2*s-2, :] + δ*(self.oneat(0)*r[s] + z1*J[2*s-2, :] -(self.oneat(1)*r[s]*f[s] + z2*J[2*s-2, :]*f[s] + z2*r[s]*J[2*s-1, :])) + sqrt(δ)*σr*self.oneat(2*s+4)\n",
    "            J[2*s + 1, :] = J[2*s-1, :] + δ*(self.oneat(3)*r[s]*f[s] + z4*J[2*s-2, :]*f[s] + z4*r[s]*J[2*s-1, :] - self.oneat(2)*f[s] - z3*J[2*s-1, :]) + sqrt(δ)*σf*self.oneat(2*s+5)\n",
    "        return J\n",
    "\n",
    "    def q(self, ξ):\n",
    "        \"\"\"Constraint function taking u=[u1, u2] and comparing against true data.\"\"\"\n",
    "        assert len(ξ) == self.n, \"ξ should have length {}, but found {}.\".format(self.n, len(ξ))\n",
    "        return self.u_to_x(ξ) - self.ystar\n",
    "    \n",
    "    def J(self, ξ):\n",
    "        \"\"\"Jacobian. Here u=[u1, u2].\"\"\"\n",
    "        assert len(ξ) == self.n, \"ξ should have length {}, but found {}.\".format(self.n, len(ξ))\n",
    "        return self.Jf(self.g(ξ)).dot(self.Jg(ξ))\n",
    "    \n",
    "    def Q(self, ξ):\n",
    "        \"\"\"Transpose of Jacobian.\"\"\"\n",
    "        assert len(ξ) == self.n, \"ξ should have length {}, but found {}.\".format(self.n, len(ξ))\n",
    "        return self.J(ξ).T\n",
    "    \n",
    "    def logη(self, ξ):\n",
    "        \"\"\"Density on Manifold wrt Hausdorff measure.\"\"\"\n",
    "        assert len(ξ) == self.n, \"ξ should have length {}, but found {}.\".format(self.n, len(ξ))\n",
    "        try:\n",
    "            J = self.J(ξ)\n",
    "            logprior = -ξ@ξ/2\n",
    "            correction_term  = - math.prod(np.linalg.slogdet(J@J.T))/2 \n",
    "            return  logprior + correction_term\n",
    "        except ValueError as e:\n",
    "            return -np.inf\n",
    "        \n",
    "    def find_point_on_manifold(self, maxiter=2000, tol=1e-14, random_u2_guess=False):\n",
    "        \"\"\"Finds a point on the Manifold with input u=[u1, u2].\"\"\"\n",
    "        u2_guess = randn(self.m) if random_u2_guess else zeros(self.m)\n",
    "        i = 0\n",
    "        with catch_warnings():\n",
    "            filterwarnings('error')\n",
    "            while i <= maxiter:\n",
    "                i += 1\n",
    "                try: \n",
    "                    u1_init  = randn(self.d)*0.1 - 4\n",
    "                    function = lambda u2: self.q(np.concatenate((u1_init, u2)))\n",
    "                    fprime   = lambda u2: self.J(np.concatenate((u1_init, u2)))[:, self.d:]\n",
    "                    u2_found = fsolve(function, u2_guess, xtol=tol, fprime=fprime)\n",
    "                    u_found = np.concatenate((u1_init, u2_found))\n",
    "                    return u_found\n",
    "                except RuntimeWarning:\n",
    "                    continue\n",
    "        raise ValueError(\"Couldn't find a point, try again.\")\n",
    "        \n",
    "    def find_point_on_manifold_given_u1true(self, maxiter=2000, tol=1e-14, random_u2_guess=False):\n",
    "        \"\"\"Finds a point on the Manifold starting from u1_true.\"\"\"\n",
    "        i = 0\n",
    "        with catch_warnings():\n",
    "            filterwarnings('error')\n",
    "            while i <= maxiter:\n",
    "                i += 1\n",
    "                try:\n",
    "                    u2_guess = randn(self.m) if random_u2_guess else zeros(self.m)\n",
    "                    function = lambda u2: self.q(np.concatenate((self.u1_true, u2)))\n",
    "                    u2_found = fsolve(function, u2_guess, xtol=tol)\n",
    "                    u_found = np.concatenate((self.u1_true, u2_found))\n",
    "                    return u_found\n",
    "                except RuntimeWarning:\n",
    "                    continue\n",
    "        raise ValueError(\"Couldn't find a point, try again.\")\n",
    "            \n",
    "    def transform_usamples_to_zsamples(self, samples):\n",
    "        \"\"\"Given samples of size (N, 4 + 2*Ns) it takes the first 4 columns and transforms them.\"\"\"\n",
    "        n_samples, input_dim = samples.shape\n",
    "        assert input_dim == self.n, \"Wrong dim. Expected {} , found {}\".format(self.n, input_dim)\n",
    "        return np.apply_along_axis(self.u1_to_z, 1, samples[:, :4])\n",
    "    \n",
    "    def log_normal_kernel(self, ξ, ϵ):\n",
    "        \"\"\"Log normal kernel density.\"\"\"\n",
    "        assert len(ξ) == self.n, \"ξ should have length {}, but found {}.\".format(self.n, len(ξ))\n",
    "        u = norm(self.q(ξ))   ##### THIS IS NOT THE USUAL u\n",
    "        return -u**2/(2*(ϵ**2)) -0.5*log(2*pi*(ϵ**2))\n",
    "\n",
    "    def generate_logpi(self, ϵ):\n",
    "        \"\"\"Generates ABC posterior using a certain epsilon value. Uses a Gaussian kernel. \"\"\"\n",
    "        logηϵ = lambda ξ: self.log_normal_kernel(ξ, ϵ) - ξ@ξ/2\n",
    "        return logηϵ\n",
    "    \n",
    "    def is_on_manifold(self, ξ, tol=1e-14):\n",
    "        \"\"\"Checks if a point is on the manifold.\"\"\"\n",
    "        return max(abs(self.q(ξ))) <= tol"
   ]
  },
  {
   "cell_type": "code",
   "execution_count": 6,
   "id": "0ba96812",
   "metadata": {},
   "outputs": [],
   "source": [
    "def zappa_sampling_storecomps_rattle(x0, manifold, n, T, B, tol, rev_tol, maxiter=50, norm_ord=2):\n",
    "    \"\"\"C-RWM Rattle.\"\"\"\n",
    "    assert type(B) == int, \"B should be int, but found {}\".format(type(B))\n",
    "    assert norm_ord in [2, np.inf], \"Invalid norm provided.\"\n",
    "    assert len(x0) == manifold.n, \"Initial point has wrong dimension.\"\n",
    "    # Check arguments\n",
    "    n = int(n)   # Number of samples\n",
    "    B = int(B)   # Number of leapfrog steps\n",
    "    δ = T / B    # Step size\n",
    "    d, m = manifold.get_dimension(), manifold.get_codimension()   # Here d should be manifold.n, and m manifold.m \n",
    "\n",
    "    # Initial point on the manifold\n",
    "    x = x0\n",
    "    compute_J = manifold.J\n",
    "\n",
    "    # House-keeping\n",
    "    samples = zeros((n, d + m))    # Store n samples on the manifold\n",
    "    samples[0, :] = x\n",
    "    i = 1\n",
    "    N_EVALS = {'jacobian': 0, 'density': 0}\n",
    "    ACCEPTED = zeros(n)\n",
    "    # Define function to compute density\n",
    "    def logη(x):\n",
    "        \"\"\"Computes log density on Manifold but makes sure everything is behaving nicely.\"\"\"\n",
    "        return manifold.logη(x)\n",
    "\n",
    "    # Log-uniforms for MH accept-reject step\n",
    "    logu = log(rand(n))\n",
    "\n",
    "    # Compute jacobian & density value\n",
    "    Jx    = compute_J(x) #manifold.Q(x).T\n",
    "    logηx = logη(x)\n",
    "    N_EVALS['jacobian'] += 1\n",
    "    N_EVALS['density'] += 1\n",
    "\n",
    "    # Function to project onto tangent space\n",
    "    def qr_project(v, J):\n",
    "        \"\"\"Projects using QR decomposition.\"\"\"\n",
    "        Q, _ = qr(J.T, mode='economic')\n",
    "        return Q @ (Q.T @ v)\n",
    "    \n",
    "    def linear_project(v, J):\n",
    "        \"\"\"Projects by solving linear system.\"\"\"\n",
    "        return J.T @ solve(J@J.T, J@v)\n",
    "\n",
    "    # Constrained Step Function\n",
    "    def constrained_rwm_step(x, v, tol, maxiter, Jx, norm_ord=norm_ord):\n",
    "        \"\"\"Used for both forward and backward. See Manifold-Lifting paper.\"\"\"\n",
    "        # Project momentum\n",
    "        v_projected = v - linear_project(v, Jx) \n",
    "        # Unconstrained position step\n",
    "        x_unconstr = x + v_projected\n",
    "        # Position Projection\n",
    "        a, flag, n_grad = project_zappa(manifold, x_unconstr, Jx.T, tol, maxiter, norm_ord=norm_ord)\n",
    "        y = x_unconstr - Jx.T @ a \n",
    "        try:\n",
    "            Jy = compute_J(y) \n",
    "        except ValueError as e:\n",
    "            print(\"Jacobian computation at projected point failed. \", e)\n",
    "            return x, v, Jx, 0, n_grad + 1\n",
    "        # backward velocity\n",
    "        v_would_have = y - x\n",
    "        # Find backward momentum & project it to tangent space at new position\n",
    "        v_projected_endposition = v_would_have - linear_project(v_would_have, Jy) #qr_project(v_would_have, Jy) #qr_project((y - x) / δ, Jy)\n",
    "        # Return projected position, projected momentum and flag\n",
    "        return y, v_projected_endposition, Jy, flag, n_grad + 1\n",
    "    \n",
    "    def constrained_leapfrog(x0, v0, J0, B, tol, rev_tol, maxiter, norm_ord=norm_ord):\n",
    "        \"\"\"Constrained Leapfrog/RATTLE.\"\"\"\n",
    "        successful = True\n",
    "        n_jacobian_evaluations = 0\n",
    "        x, v, J = x0, v0, J0\n",
    "        for _ in range(B):\n",
    "            xf, vf, Jf, converged_fw, n_fw = constrained_rwm_step(x, v, tol, maxiter, J, norm_ord=norm_ord)\n",
    "            xr, vr , Jr, converged_bw, n_bw = constrained_rwm_step(xf, -vf, tol, maxiter, Jf, norm_ord=norm_ord)\n",
    "            n_jacobian_evaluations += (n_fw + n_bw)  # +2 due to the line Jy = manifold.Q(y).T\n",
    "#             print(\"\\t\\tLeapfrog {} fw: {}, bw: {}, ||x-xnew||:{}\".format(_, converged_fw, converged_bw, norm(xr - x, ord=norm_ord)))\n",
    "            if (not converged_fw) or (not converged_bw) or (norm(xr - x, ord=norm_ord) >= rev_tol):\n",
    "                successful = False\n",
    "                return x0, v0, J0, successful, n_jacobian_evaluations\n",
    "            else:\n",
    "                x = xf\n",
    "                v = vf\n",
    "                J = Jf\n",
    "        return x, v, J, successful, n_jacobian_evaluations\n",
    "\n",
    "    for i in range(n):\n",
    "#         print(\"Iteration: \", i)\n",
    "        v = δ*randn(m + d) # Sample in the ambient space.\n",
    "        xp, vp, Jp, LEAPFROG_SUCCESSFUL, n_jac_evals = constrained_leapfrog(x, v, Jx, B, tol=tol, rev_tol=rev_tol, maxiter=maxiter)\n",
    "        N_EVALS['jacobian'] += n_jac_evals\n",
    "        if LEAPFROG_SUCCESSFUL:\n",
    "            logηp = logη(xp)\n",
    "            N_EVALS['density'] += 1\n",
    "#             print(logηp, logηx, (vp@vp)/2, (v@v)/2, \"logu: \", logu[i], \"loga: \", logηp - logηx - (vp@vp)/2 + (v@v)/2)\n",
    "            if logu[i] <= logηp - logηx - (vp@vp)/2 + (v@v)/2: \n",
    "                # Accept\n",
    "                ACCEPTED[i - 1] = 1\n",
    "                x, logηx, Jx = xp, logηp, Jp\n",
    "                samples[i, :] = xp\n",
    "            else:\n",
    "                # Reject\n",
    "                samples[i, :] = x\n",
    "                ACCEPTED[i - 1] = 0\n",
    "        else:\n",
    "            # Reject\n",
    "            samples[i, :] = x\n",
    "            ACCEPTED[i - 1] = 0\n",
    "    return samples, N_EVALS, ACCEPTED\n",
    "\n",
    "\n",
    "def project_zappa(manifold, z, Q, tol = 1.48e-08 , maxiter = 50, atol=1e-8, norm_ord=2):\n",
    "    '''\n",
    "    This version is the version of Miranda & Zappa. It retuns i, the number of iterations\n",
    "    i.e. the number of gradient evaluations used.\n",
    "    '''\n",
    "    a, flag, i = np.zeros(Q.shape[1]), 1, 0\n",
    "\n",
    "    # Compute the constrained at z - Q@a. If it fails due to overflow error, return a rejection altogether.\n",
    "    try:\n",
    "        projected_value = manifold.q(z - Q@a)\n",
    "    except ValueError as e:\n",
    "        return a, 0, i\n",
    "    # While loop\n",
    "    while la.norm(projected_value, ord=norm_ord) >= tol:\n",
    "        try:\n",
    "            Jproj = manifold.J(z - Q@a)\n",
    "        except ValueError as e:\n",
    "            print(\"Jproj failed. \", e)\n",
    "            return zeros(Q.shape[1]), 0, i\n",
    "        # Check that Jproj@Q is invertible. Do this by checking condition number \n",
    "        # see https://stackoverflow.com/questions/13249108/efficient-pythonic-check-for-singular-matrix\n",
    "        GramMatrix = Jproj@Q\n",
    "        if np.linalg.cond(GramMatrix) < 1/np.finfo(z.dtype).eps:\n",
    "            Δa = la.solve(GramMatrix, projected_value)\n",
    "            a += Δa\n",
    "            i += 1\n",
    "            if i > maxiter:\n",
    "                return zeros(Q.shape[1]), 0, i\n",
    "            # If we are not at maxiter iteration, compute new projected value\n",
    "            try:\n",
    "                projected_value = manifold.q(z - Q@a)\n",
    "            except ValueError as e:\n",
    "                return zeros(Q.shape[1]), 0, i\n",
    "        else:\n",
    "            # Fail\n",
    "            return zeros(Q.shape[1]), 0, i\n",
    "    # At the end, check that the found a is not too small.\n",
    "#     if la.norm(a, ord=norm_ord) <= atol:\n",
    "#         return zeros(Q.shape[1]), 0, i\n",
    "#     else:\n",
    "#         return a, 1, i\n",
    "    return a, 1, i"
   ]
  },
  {
   "cell_type": "markdown",
   "id": "32640290",
   "metadata": {},
   "source": [
    "#### C-RWM"
   ]
  },
  {
   "cell_type": "code",
   "execution_count": 442,
   "id": "e07ae292",
   "metadata": {},
   "outputs": [],
   "source": [
    "manifold = LVManifold(ystar=data)"
   ]
  },
  {
   "cell_type": "code",
   "execution_count": 456,
   "id": "a2988274",
   "metadata": {},
   "outputs": [],
   "source": [
    "start_crwm = time.time()\n",
    "sCRWM, eCRWM, aCRWM = zappa_sampling_storecomps_rattle(u0, manifold, N, T, B, tol=1e-11, rev_tol=1e-8)\n",
    "runtime_crwm = time.time() - start_crwm"
   ]
  },
  {
   "cell_type": "markdown",
   "id": "c4257350",
   "metadata": {},
   "source": [
    "#### RWM"
   ]
  },
  {
   "cell_type": "code",
   "execution_count": 495,
   "id": "972b04ed",
   "metadata": {},
   "outputs": [],
   "source": [
    "logηϵ_1ep2 = generate_logpi(100.0)\n",
    "sRWM_1ep2, aRWM_1ep2 = RWM(u0, T, N, logηϵ_1ep2)"
   ]
  },
  {
   "cell_type": "code",
   "execution_count": 492,
   "id": "9b7051bc",
   "metadata": {},
   "outputs": [],
   "source": [
    "logηϵ_1ep1 = generate_logpi(10.0)\n",
    "sRWM_1ep1, aRWM_1ep1 = RWM(u0, T, N, logηϵ_1ep1)"
   ]
  },
  {
   "cell_type": "code",
   "execution_count": 507,
   "id": "89921357",
   "metadata": {},
   "outputs": [],
   "source": [
    "sRWM_1e0, aRWM_1e0 = RWM(u0, T, N, logηϵ_1e0)"
   ]
  },
  {
   "cell_type": "markdown",
   "id": "9aea4f46",
   "metadata": {},
   "source": [
    "#### HUG"
   ]
  },
  {
   "cell_type": "code",
   "execution_count": 461,
   "id": "e05fad35",
   "metadata": {},
   "outputs": [],
   "source": [
    "logηϵ_1e0 = generate_logpi(1.0)\n",
    "start_hug_1e0_5 = time.time()\n",
    "sHUG_1e0_5, aHUG_1e0_5 = HugTangentialMultivariate(u0, T, B, N, 0.0, q, logηϵ_1e0, J)\n",
    "runtime_hug_1e0_5 = time.time() - start_hug_1e0_5"
   ]
  },
  {
   "cell_type": "code",
   "execution_count": 343,
   "id": "f6ce35fc",
   "metadata": {},
   "outputs": [],
   "source": [
    "logηϵ_1em1 = generate_logpi(1e-1)\n",
    "sHUG_1em1_5, aHUG_1em1_5 = HugTangentialMultivariate(u0, T, B, N, 0.0, q, logηϵ_1em1, J)"
   ]
  },
  {
   "cell_type": "code",
   "execution_count": 344,
   "id": "e4348124",
   "metadata": {},
   "outputs": [],
   "source": [
    "logηϵ_1em2 = generate_logpi(1e-2)\n",
    "sHUG_1em2_5, aHUG_1em2_5 = HugTangentialMultivariate(u0, T, B, N, 0.0, q, logηϵ_1em2, J)"
   ]
  },
  {
   "cell_type": "code",
   "execution_count": 345,
   "id": "52d007c9",
   "metadata": {},
   "outputs": [],
   "source": [
    "logηϵ_1em3 = generate_logpi(1e-3)\n",
    "sHUG_1em3_5, aHUG_1em3_5 = HugTangentialMultivariate(u0, T, B, N, 0.0, q, logηϵ_1em3, J)"
   ]
  },
  {
   "cell_type": "markdown",
   "id": "78c2b820",
   "metadata": {},
   "source": [
    "#### THUG"
   ]
  },
  {
   "cell_type": "code",
   "execution_count": 351,
   "id": "7932c663",
   "metadata": {},
   "outputs": [],
   "source": [
    "sTHUG_1em2_5_09, aTHUG_1em2_5_09 = HugTangentialMultivariate(u0, T, B, N, 0.9, q, logηϵ_1em2, J)"
   ]
  },
  {
   "cell_type": "code",
   "execution_count": 347,
   "id": "89d55709",
   "metadata": {},
   "outputs": [],
   "source": [
    "sTHUG_1em3_5_09, aTHUG_1em3_5_09 = HugTangentialMultivariate(u0, T, B, N, 0.9, q, logηϵ_1em3, J)"
   ]
  },
  {
   "cell_type": "code",
   "execution_count": 355,
   "id": "9d108a4b",
   "metadata": {},
   "outputs": [],
   "source": [
    "sTHUG_1em3_5_099, aTHUG_1em3_5_099 = HugTangentialMultivariate(u0, T, B, N, 0.99, q, logηϵ_1em3, J)"
   ]
  },
  {
   "cell_type": "code",
   "execution_count": 520,
   "id": "c56c0abb",
   "metadata": {},
   "outputs": [
    {
     "data": {
      "image/png": "[encoded data removed]",
      "text/plain": [
       "<Figure size 720x720 with 16 Axes>"
      ]
     },
     "metadata": {
      "needs_background": "light"
     },
     "output_type": "display_data"
    }
   ],
   "source": [
    "# Remember to transform the samples. At the moment they are on the u=[u1, u2] space, but we want them on\n",
    "# the [z, u2] space really so that we can do a KDE plot on the histogram for z_true. Although one could also\n",
    "# do it with u_true.\n",
    "FROM = 10000\n",
    "fig, ax = plt.subplots(nrows=4, ncols=4, figsize=(10, 10), sharex='col')\n",
    "# ϵ = 1.0\n",
    "_ = pd.DataFrame(sHUG_1e0_5[FROM:, :4]).plot(kind='kde', subplots=True, ax=ax[0, :], lw=3, color='orange', legend=False)\n",
    "_ = pd.DataFrame(sCRWM[FROM:, :4]).plot(kind='kde', subplots=True, ax=ax[0, :], lw=3, color='red', legend=False)\n",
    "for i in range(4):\n",
    "#     _ = ax[0, i].hist(sHUG_1e0_5[FROM:, i], bins=50)\n",
    "    ax[0, i].axvline(u_true[i], c='k', ls='--')\n",
    "    ax[0, 0].set_ylabel(r'$\\mathregular{\\epsilon=1.0}$', fontsize=20)\n",
    "    ax[0, -1].legend(['THUG', 'CRWM'])\n",
    "# ϵ = 0.1\n",
    "_ = pd.DataFrame(sHUG_1em1_5[FROM:, :4]).plot(kind='kde', subplots=True, ax=ax[1, :], lw=3, color='orange', legend=False)\n",
    "_ = pd.DataFrame(sCRWM[FROM:, :4]).plot(kind='kde', subplots=True, ax=ax[1, :], lw=3, color='red', legend=False)\n",
    "for i in range(4):\n",
    "#     _ = ax[1, i].hist(sHUG_1em1_5[FROM:, i], bins=50, density=True)\n",
    "    ax[1, i].axvline(u_true[i], c='k', ls='--')\n",
    "    ax[1, 0].set_ylabel(r'$\\mathregular{\\epsilon=0.1}$', fontsize=20)\n",
    "    ax[1, -1].legend(['THUG'])\n",
    "\n",
    "# ϵ = 0.01\n",
    "_ = pd.DataFrame(sTHUG_1em2_5_09[FROM:, :4]).plot(kind='kde', subplots=True, ax=ax[2, :], lw=3, color='orange', legend=False)\n",
    "_ = pd.DataFrame(sCRWM[FROM:, :4]).plot(kind='kde', subplots=True, ax=ax[2, :], lw=3, color='red', legend=False)\n",
    "for i in range(4):\n",
    "#     _ = ax[2, i].hist(sHUG_1em2_5[FROM:, i], bins=50)\n",
    "#     _ = ax[2, i].hist(sTHUG_1em2_5_09[FROM:, i], bins=50)\n",
    "    ax[2, i].axvline(u_true[i], c='k', ls='--')\n",
    "    ax[2, 0].set_ylabel(r'$\\mathregular{\\epsilon=0.01}$', fontsize=20)\n",
    "    ax[2, -1].legend([r'THUG $\\mathregular{\\alpha=0.9}$'])\n",
    "# ϵ = 0.001\n",
    "_ = pd.DataFrame(sTHUG_1em3_5_099[FROM:, :4]).plot(kind='kde', subplots=True, ax=ax[3, :], lw=3, color='orange', legend=False)\n",
    "_ = pd.DataFrame(sCRWM[FROM:, :4]).plot(kind='kde', subplots=True, ax=ax[3, :], lw=3, color='red', legend=False)\n",
    "for i in range(4):\n",
    "#     _ = ax[3, i].hist(sHUG_1em3_5[FROM:, i], bins=50)\n",
    "#     _ = ax[3, i].hist(sTHUG_1em3_5_09[FROM:, i], bins=50)\n",
    "#     _ = ax[3, i].hist(sTHUG_1em3_5_099[FROM:, i], bins=50, density=True)\n",
    "    ax[3, i].axvline(u_true[i], c='k', ls='--')\n",
    "    ax[3, 0].set_ylabel(r'$\\mathregular{\\epsilon=0.001}$', fontsize=20)\n",
    "    ax[3, -1].legend([r'THUG $\\mathregular{\\alpha=0.99}$'])\n",
    "\n",
    "for i in range(4):\n",
    "    ax[3, i].set_xlabel(r\"$\\mathregular{z_1}$\", fontsize=20)\n",
    "    ax[3, i].set_xticks([])\n",
    "for i in range(4):\n",
    "    for j in range(1, 4):\n",
    "        ax[i, j].set_ylabel(\"\")\n",
    "        ax[i, j].set_yticks([])\n",
    "plt.tight_layout()\n",
    "# plt.savefig(\"figures/lv_thug_posteriors_various_epsilons.png\")"
   ]
  },
  {
   "cell_type": "markdown",
   "id": "454b16a6",
   "metadata": {},
   "source": [
    "#### minESS/runtime"
   ]
  },
  {
   "cell_type": "code",
   "execution_count": 465,
   "id": "41adaea2",
   "metadata": {},
   "outputs": [],
   "source": [
    "from utils import ESS_univariate\n",
    "from warnings import resetwarnings"
   ]
  },
  {
   "cell_type": "code",
   "execution_count": 466,
   "id": "89f620ee",
   "metadata": {},
   "outputs": [],
   "source": [
    "resetwarnings()"
   ]
  },
  {
   "cell_type": "markdown",
   "id": "6d951b3f",
   "metadata": {},
   "source": [
    "### Computational Cost Experiment"
   ]
  },
  {
   "cell_type": "markdown",
   "id": "d715f627",
   "metadata": {},
   "source": [
    "Starting from convergence, I want to see if THUG is computationally cheaper than C-RWM."
   ]
  },
  {
   "cell_type": "code",
   "execution_count": 585,
   "id": "0d21e288",
   "metadata": {},
   "outputs": [],
   "source": [
    "def cc_experiment_thug(u0, δ, N, Bs, ϵs, α=0.0):\n",
    "    \"\"\"Computational Cost of THUG and C-RWM.\"\"\"\n",
    "    ESS_TABLE = zeros((len(ϵs), len(Bs)))\n",
    "    AP_TABLE  = zeros((len(ϵs), len(Bs)))\n",
    "    for ϵ_ix, ϵ in enumerate(ϵs):\n",
    "        logηϵ = generate_logpi(ϵ)\n",
    "        for B_ix, B in enumerate(Bs):\n",
    "            start_time = time.time()\n",
    "            s, a = HugTangentialMultivariate(u0, B*δ, B, N, α, q, logηϵ, J)\n",
    "            runtime = time.time() - start_time\n",
    "            ESS_TABLE[ϵ_ix, B_ix] = min(ESS_univariate(s)) / runtime\n",
    "            AP_TABLE[ϵ_ix, B_ix]  = a.mean()\n",
    "    return ESS_TABLE, AP_TABLE\n",
    "\n",
    "def cc_experiment_crwm(u0, δ, N, Bs, tol=1e-11, rev_tol=1e-8):\n",
    "    \"\"\"Same as above but for C-RWM.\"\"\"\n",
    "    ESS_TABLE = zeros(len(Bs))\n",
    "    AP_TABLE  = zeros(len(Bs))\n",
    "    for B_ix, B in enumerate(Bs):\n",
    "        start_time = time.time()\n",
    "        s, e, a = zappa_sampling_storecomps_rattle(u0, manifold, N, δ*B, B, tol=tol, rev_tol=rev_tol)\n",
    "        runtime = time.time() - start_time\n",
    "        print(\"B={} time={} a={}\".format(B, runtime, a.mean()))\n",
    "        ESS_TABLE[B_ix] = min(ESS_univariate(s)) / runtime\n",
    "        AP_TABLE[B_ix]  = a.mean()\n",
    "    return ESS_TABLE, AP_TABLE"
   ]
  },
  {
   "cell_type": "markdown",
   "id": "5cba6116",
   "metadata": {},
   "source": [
    "##### USING U0 WITH TRUE U1"
   ]
  },
  {
   "cell_type": "code",
   "execution_count": 606,
   "id": "be0a28d0",
   "metadata": {},
   "outputs": [],
   "source": [
    "OUT1, OUT2 = cc_experiment_thug(u0_with_u1true, 0.01, 1000, [1, 5, 10], [1.0, 0.1, 0.01, 0.001])"
   ]
  },
  {
   "cell_type": "code",
   "execution_count": 607,
   "id": "8e0be6bc",
   "metadata": {},
   "outputs": [],
   "source": [
    "OUT3, OUT4 = cc_experiment_thug(u0_with_u1true, 0.01, 1000, [1, 5, 10], [1.0, 0.1, 0.01, 0.001], α=0.9)"
   ]
  },
  {
   "cell_type": "code",
   "execution_count": 608,
   "id": "eb4d1b85",
   "metadata": {},
   "outputs": [],
   "source": [
    "OUT5, OUT6 = cc_experiment_thug(u0_with_u1true, 0.01, 1000, [1, 5, 10], [1.0, 0.1, 0.01, 0.001], α=0.99)"
   ]
  },
  {
   "cell_type": "code",
   "execution_count": 609,
   "id": "7ddff42e",
   "metadata": {},
   "outputs": [
    {
     "name": "stdout",
     "output_type": "stream",
     "text": [
      "B=1 time=42.13290023803711 a=0.995\n",
      "B=5 time=207.67396998405457 a=0.94\n",
      "B=10 time=504.71916484832764 a=0.904\n"
     ]
    }
   ],
   "source": [
    "OUT7, OUT8 = cc_experiment_crwm(u0_with_u1true, 0.01, 1000, [1, 5, 10], tol=1e-12)"
   ]
  },
  {
   "cell_type": "markdown",
   "id": "9d76f587",
   "metadata": {},
   "source": [
    "##### USING U0 FOUND BY OPTIMIZATION"
   ]
  },
  {
   "cell_type": "code",
   "execution_count": 611,
   "id": "a649548f",
   "metadata": {},
   "outputs": [],
   "source": [
    "OUT9, OUT10 = cc_experiment_thug(u0, 0.01, 1000, [1, 5, 10], [1.0, 0.1, 0.01, 0.001])"
   ]
  },
  {
   "cell_type": "code",
   "execution_count": 612,
   "id": "7f1a3598",
   "metadata": {},
   "outputs": [],
   "source": [
    "OUT11, OUT12 = cc_experiment_thug(u0, 0.01, 1000, [1, 5, 10], [1.0, 0.1, 0.01, 0.001], α=0.9)"
   ]
  },
  {
   "cell_type": "code",
   "execution_count": 613,
   "id": "eef9cf20",
   "metadata": {},
   "outputs": [],
   "source": [
    "OUT13, OUT14 = cc_experiment_thug(u0, 0.01, 1000, [1, 5, 10], [1.0, 0.1, 0.01, 0.001], α=0.99)"
   ]
  },
  {
   "cell_type": "code",
   "execution_count": 614,
   "id": "1eeee4fc",
   "metadata": {},
   "outputs": [
    {
     "name": "stdout",
     "output_type": "stream",
     "text": [
      "B=1 time=231.71947073936462 a=0.38\n",
      "B=5 time=467.25784611701965 a=0.033\n",
      "B=10 time=424.2762830257416 a=0.003\n"
     ]
    }
   ],
   "source": [
    "OUT15, OUT16 = cc_experiment_crwm(u0, 0.01, 1000, [1, 5, 10], tol=1e-12)"
   ]
  },
  {
   "cell_type": "markdown",
   "id": "5cc6eea2",
   "metadata": {},
   "source": [
    "!!! NEED TO OUTPUT ALSO THE ACCEPTANCE PROBABILITY SO I CAN FILTER OUT WHEN IT BECOMES ZEROS"
   ]
  },
  {
   "cell_type": "code",
   "execution_count": 15,
   "id": "eaadfd7d",
   "metadata": {},
   "outputs": [],
   "source": [
    "def show_only_positive_ap(cc, ap, ix):\n",
    "    \"\"\"USED FOR PLOTTING ONLY ESS WHERE WE HAD POSITIVE ACCEPTANCE PROBABILITY.\"\"\"\n",
    "    cc_copy = cc.copy()\n",
    "    ap_copy = ap.copy()\n",
    "    flag = ap_copy[:, ix] < 1e-8\n",
    "    values = cc_copy[:, ix]\n",
    "    values[flag] = np.nan\n",
    "    return values\n",
    "\n",
    "def show_only_positive_ap_crwm(out_cc, out_ap, ϵs, ix):\n",
    "    \"\"\"Same as above but for C-RWM.\"\"\"\n",
    "    cc_copy = deepcopy(out_cc.copy())\n",
    "    ap_copy = deepcopy(out_ap.copy())\n",
    "    flag = ap_copy < 1e-8\n",
    "    cc_copy[flag] = np.nan\n",
    "    return np.repeat(cc_copy[ix], len(ϵs))"
   ]
  },
  {
   "cell_type": "code",
   "execution_count": 622,
   "id": "ae0a0abe",
   "metadata": {},
   "outputs": [
    {
     "data": {
      "image/png": "[encoded data removed]",
      "text/plain": [
       "<Figure size 1080x576 with 1 Axes>"
      ]
     },
     "metadata": {
      "needs_background": "light"
     },
     "output_type": "display_data"
    }
   ],
   "source": [
    "ϵs = [1.0, 0.1, 0.01, 0.001]\n",
    "Bs = [1, 5, 10]\n",
    "greys = ['lightgray', 'grey', 'black']\n",
    "greens = ['lightgreen', 'green', 'darkgreen']\n",
    "violets = ['thistle', 'violet', 'purple']\n",
    "reds = ['navajowhite', 'orange', 'red']\n",
    "# Plot computational costs\n",
    "fig, ax = plt.subplots(figsize=(15, 8))\n",
    "# alpha = 0.0\n",
    "for i in range(len(Bs)):\n",
    "    ax.plot(ϵs, show_only_positive_ap(OUT1, OUT2, i), color=greys[i], label='THUG B={}'.format(Bs[i]), marker='*')\n",
    "    ax.plot(ϵs, show_only_positive_ap(OUT3, OUT4, i), color=greens[i], label='THUG 0.9 B={}'.format(Bs[i]), marker='*')\n",
    "    ax.plot(ϵs, show_only_positive_ap(OUT5, OUT6, i), color=violets[i], label='THUG 0.99 B={}'.format(Bs[i]), marker='*')\n",
    "    ax.plot(ϵs, show_only_positive_ap_crwm(OUT7, OUT8, ϵs, i), label='CRWM B={}'.format(Bs[i]), marker='^', color=reds[i])\n",
    "ax.loglog()\n",
    "plt.legend()\n",
    "plt.show()"
   ]
  },
  {
   "cell_type": "code",
   "execution_count": 625,
   "id": "a47bd65d",
   "metadata": {},
   "outputs": [
    {
     "data": {
      "image/png": "[encoded data removed]",
      "text/plain": [
       "<Figure size 1080x576 with 1 Axes>"
      ]
     },
     "metadata": {
      "needs_background": "light"
     },
     "output_type": "display_data"
    }
   ],
   "source": [
    "ϵs = [1.0, 0.1, 0.01, 0.001]\n",
    "Bs = [1, 5, 10]\n",
    "greys = ['lightgray', 'grey', 'black']\n",
    "greens = ['lightgreen', 'green', 'darkgreen']\n",
    "violets = ['thistle', 'violet', 'purple']\n",
    "reds = ['navajowhite', 'orange', 'red']\n",
    "# Plot computational costs\n",
    "fig, ax = plt.subplots(figsize=(15, 8))\n",
    "# alpha = 0.0\n",
    "for i in range(len(Bs)):\n",
    "    ax.plot(ϵs, show_only_positive_ap(OUT9, OUT10, i), color=greys[i], label='THUG B={}'.format(Bs[i]), marker='*')\n",
    "    ax.plot(ϵs, show_only_positive_ap(OUT11, OUT12, i), color=greens[i], label='THUG 0.9 B={}'.format(Bs[i]), marker='*')\n",
    "    ax.plot(ϵs, show_only_positive_ap(OUT13, OUT14, i), color=violets[i], label='THUG 0.99 B={}'.format(Bs[i]), marker='*')\n",
    "    ax.plot(ϵs, show_only_positive_ap_crwm(OUT15, OUT16, ϵs, i), label='CRWM B={}'.format(Bs[i]), marker='^', color=reds[i])\n",
    "ax.loglog()\n",
    "plt.legend()\n",
    "plt.show()"
   ]
  },
  {
   "cell_type": "markdown",
   "id": "6e0f2725",
   "metadata": {},
   "source": [
    "# Using Settings"
   ]
  },
  {
   "cell_type": "code",
   "execution_count": 17,
   "id": "e386bbb9",
   "metadata": {},
   "outputs": [],
   "source": [
    "import matplotlib.lines as mlines"
   ]
  },
  {
   "cell_type": "code",
   "execution_count": 7,
   "id": "bb95cac3",
   "metadata": {},
   "outputs": [],
   "source": [
    "# resetwarnings()"
   ]
  },
  {
   "cell_type": "code",
   "execution_count": 8,
   "id": "9ed77914",
   "metadata": {},
   "outputs": [],
   "source": [
    "# def compute_arviz_miness_runtime(chains, times):\n",
    "#     \"\"\"Computes minESS/runtime. Expects chains=[samples, samples, ...] and times = [time, time, ...].\"\"\"\n",
    "#     assert np.all([chain.shape == chains[0].shape for chain in chains]), \"Chains must have same dimensions.\"\n",
    "#     n_samples = len(chains[0])\n",
    "#     stacked = np.vstack([chain.reshape(1, n_samples, -1) for chain in chains])\n",
    "#     dataset = arviz.convert_to_dataset(stacked)\n",
    "#     return min(np.array(arviz.ess(dataset).to_array()).flatten()) / np.mean(times)"
   ]
  },
  {
   "cell_type": "code",
   "execution_count": 7,
   "id": "3a00574c",
   "metadata": {},
   "outputs": [],
   "source": [
    "def generate_settings(N, δ, Ns, Bs, ϵs, n_chains=4, u1_true=True, tol=1e-15, maxiter=5000):\n",
    "    \"\"\"Generates variables for the experiment.\"\"\"\n",
    "    manifold = LVManifold(Ns=Ns)\n",
    "    u0s = zeros((n_chains, 2*Ns + 4))\n",
    "    for i in range(n_chains):\n",
    "        if u1_true:\n",
    "            u0s[i, :] = manifold.find_point_on_manifold_given_u1true(maxiter=maxiter, tol=tol)\n",
    "        else:\n",
    "            u0s[i, :] = manifold.find_point_on_manifold(maxiter=maxiter, tol=tol)\n",
    "    return {\n",
    "        'N': N,\n",
    "        'δ': δ,\n",
    "        'Ns': Ns,\n",
    "        'Bs': Bs,\n",
    "        'ϵs': ϵs,\n",
    "        'u0s': u0s,\n",
    "        'manifold': manifold,\n",
    "        'n_chains': n_chains\n",
    "    }"
   ]
  },
  {
   "cell_type": "code",
   "execution_count": 8,
   "id": "b5a125d1",
   "metadata": {},
   "outputs": [],
   "source": [
    "SETTINGS100 = generate_settings(\n",
    "    N=200, \n",
    "    δ=0.01, \n",
    "    Ns=100, \n",
    "    Bs=[1, 10, 20], \n",
    "    ϵs=[1.0, 0.1, 0.01, 0.001, 0.0001, 0.00001, 0.000001], \n",
    "    u1_true=False,\n",
    "    tol=1e-14,\n",
    "    n_chains=4\n",
    ")"
   ]
  },
  {
   "cell_type": "code",
   "execution_count": 9,
   "id": "14cd6107",
   "metadata": {},
   "outputs": [],
   "source": [
    "# SETTINGS100_new = generate_settings(\n",
    "#     N=100, \n",
    "#     δ=0.5, \n",
    "#     Ns=100, \n",
    "#     Bs=[1, 10, 20], \n",
    "#     ϵs=[1.0, 0.1, 0.01, 0.001, 0.0001, 0.00001, 0.000001], \n",
    "#     u1_true=True,\n",
    "#     tol=1e-14\n",
    "# )"
   ]
  },
  {
   "cell_type": "code",
   "execution_count": 9,
   "id": "36a27629",
   "metadata": {},
   "outputs": [],
   "source": [
    "def cc_experiment_thug(settings, α=0.0):\n",
    "    \"\"\"Computational Cost of THUG and C-RWM.\"\"\"\n",
    "    ϵs, Bs = settings['ϵs'], settings['Bs']\n",
    "    u0s = settings['u0s']\n",
    "    δ = settings['δ']\n",
    "    N = settings['N']\n",
    "    q = settings['manifold'].q_dist\n",
    "    J = settings['manifold'].J\n",
    "    n_chains = settings['n_chains']\n",
    "    ESS_TABLE = zeros((len(ϵs), len(Bs)))\n",
    "    AP_TABLE  = zeros((len(ϵs), len(Bs)))\n",
    "    for ϵ_ix, ϵ in enumerate(ϵs):\n",
    "        logηϵ = settings['manifold'].generate_logpi(ϵ)\n",
    "        for B_ix, B in enumerate(Bs):\n",
    "            chains = []\n",
    "            times  = []\n",
    "            avg_ap = 0.0\n",
    "            for chain_ix in range(n_chains):\n",
    "                start_time = time.time()\n",
    "                s, a = HugTangentialMultivariateSafe(u0s[chain_ix, :], B*δ, B, N, α, q, logηϵ, J)\n",
    "                runtime = time.time() - start_time\n",
    "                print(\"B={} time={} a={}\".format(B, runtime, a.mean()))\n",
    "                chains.append(s)\n",
    "                times.append(runtime)\n",
    "                avg_ap += (a.mean() / n_chains)\n",
    "            ESS_TABLE[ϵ_ix, B_ix] = compute_arviz_miness_runtime(chains, times)\n",
    "            AP_TABLE[ϵ_ix, B_ix]  = avg_ap\n",
    "    return ESS_TABLE, AP_TABLE\n",
    "\n",
    "def cc_experiment_crwm(settings, tol=1e-11, rev_tol=1e-8):\n",
    "    \"\"\"Same as above but for C-RWM.\"\"\"\n",
    "    Bs = settings['Bs']\n",
    "    u0s = settings['u0s']\n",
    "    manifold = settings['manifold']\n",
    "    N = settings['N']\n",
    "    δ = settings['δ']\n",
    "    n_chains = settings['n_chains']\n",
    "    ESS_TABLE = zeros(len(Bs))\n",
    "    AP_TABLE  = zeros(len(Bs))\n",
    "    for B_ix, B in enumerate(Bs):\n",
    "        chains = []\n",
    "        times  = []\n",
    "        avg_ap = 0.0\n",
    "        for chain_ix in range(n_chains):\n",
    "            start_time = time.time()\n",
    "            s, e, a = zappa_sampling_storecomps_rattle(u0s[chain_ix, :], manifold, N, δ*B, B, tol=tol, rev_tol=rev_tol)\n",
    "            runtime = time.time() - start_time\n",
    "            print(\"B={} time={} a={}\".format(B, runtime, a.mean()))\n",
    "            chains.append(s)\n",
    "            times.append(runtime)\n",
    "            avg_ap += (a.mean() / n_chains)\n",
    "        ESS_TABLE[B_ix] = compute_arviz_miness_runtime(chains, times)\n",
    "        AP_TABLE[B_ix]  = avg_ap\n",
    "    return ESS_TABLE, AP_TABLE"
   ]
  },
  {
   "cell_type": "code",
   "execution_count": 10,
   "id": "ce23f6c1",
   "metadata": {
    "scrolled": true
   },
   "outputs": [
    {
     "name": "stdout",
     "output_type": "stream",
     "text": [
      "B=1 time=4.982898950576782 a=0.655\n",
      "B=1 time=8.672307014465332 a=0.69\n",
      "B=1 time=8.766931295394897 a=0.6\n",
      "B=1 time=5.466220855712891 a=0.585\n",
      "B=10 time=29.44235396385193 a=0.515\n",
      "B=10 time=15.623735189437866 a=0.505\n",
      "B=10 time=16.823177099227905 a=0.525\n",
      "B=10 time=15.932811975479126 a=0.495\n",
      "B=20 time=27.60176420211792 a=0.485\n",
      "B=20 time=49.22216606140137 a=0.5\n",
      "B=20 time=29.177570104599 a=0.51\n",
      "B=20 time=32.28210377693176 a=0.47\n",
      "B=1 time=6.146720886230469 a=0.525\n",
      "B=1 time=6.630964279174805 a=0.455\n",
      "B=1 time=5.130951166152954 a=0.46\n",
      "B=1 time=4.815608263015747 a=0.395\n",
      "B=10 time=33.07058310508728 a=0.59\n",
      "B=10 time=22.096439838409424 a=0.495\n",
      "B=10 time=18.575992822647095 a=0.465\n",
      "B=10 time=16.842164993286133 a=0.445\n",
      "B=20 time=26.881713151931763 a=0.445\n",
      "B=20 time=35.74122166633606 a=0.485\n",
      "B=20 time=24.981472969055176 a=0.495\n",
      "B=20 time=25.144022941589355 a=0.435\n",
      "B=1 time=4.804898977279663 a=0.105\n",
      "B=1 time=5.046171188354492 a=0.095\n",
      "B=1 time=4.808424949645996 a=0.1\n",
      "B=1 time=4.810570001602173 a=0.115\n",
      "B=10 time=14.250442028045654 a=0.29\n",
      "B=10 time=25.26464319229126 a=0.185\n",
      "B=10 time=14.510877132415771 a=0.175\n",
      "B=10 time=14.228727102279663 a=0.185\n",
      "B=20 time=24.821141004562378 a=0.3\n",
      "B=20 time=26.59114694595337 a=0.225\n",
      "B=20 time=35.68812799453735 a=0.255\n",
      "B=20 time=31.640028953552246 a=0.175\n",
      "B=1 time=4.965130805969238 a=0.015\n",
      "B=1 time=8.1073579788208 a=0.005\n",
      "B=1 time=7.362555980682373 a=0.005\n",
      "B=1 time=7.2603771686553955 a=0.005\n",
      "B=10 time=21.0869402885437 a=0.065\n",
      "B=10 time=19.597607374191284 a=0.03\n",
      "B=10 time=31.525678157806396 a=0.025\n",
      "B=10 time=18.95835590362549 a=0.02\n",
      "B=20 time=38.733219146728516 a=0.05\n",
      "B=20 time=33.741454124450684 a=0.05\n",
      "B=20 time=47.44225096702576 a=0.02\n",
      "B=20 time=37.53577184677124 a=0.045\n",
      "B=1 time=7.82721471786499 a=0.0\n",
      "B=1 time=10.198230028152466 a=0.0\n",
      "B=1 time=6.027371883392334 a=0.0\n",
      "B=1 time=7.06496000289917 a=0.0\n",
      "B=10 time=29.250306129455566 a=0.005\n",
      "B=10 time=24.094279289245605 a=0.0\n",
      "B=10 time=18.013224124908447 a=0.0\n",
      "B=10 time=20.1218478679657 a=0.005\n",
      "B=20 time=30.823883771896362 a=0.005\n",
      "B=20 time=47.718918323516846 a=0.0\n",
      "B=20 time=35.194711208343506 a=0.0\n",
      "B=20 time=30.323731899261475 a=0.0\n",
      "B=1 time=7.2405829429626465 a=0.0\n",
      "B=1 time=7.052494049072266 a=0.0\n",
      "B=1 time=16.68117094039917 a=0.0\n",
      "B=1 time=5.546044111251831 a=0.0\n",
      "B=10 time=15.715265989303589 a=0.0\n",
      "B=10 time=17.872793674468994 a=0.0\n",
      "B=10 time=16.522420167922974 a=0.0\n",
      "B=10 time=17.24587392807007 a=0.0\n",
      "B=20 time=38.53767919540405 a=0.0\n",
      "B=20 time=32.30205798149109 a=0.0\n",
      "B=20 time=31.27806067466736 a=0.0\n",
      "B=20 time=25.561518669128418 a=0.0\n",
      "B=1 time=5.75749135017395 a=0.0\n",
      "B=1 time=5.788964033126831 a=0.0\n",
      "B=1 time=5.192731857299805 a=0.0\n",
      "B=1 time=14.232823848724365 a=0.0\n",
      "B=10 time=19.62044906616211 a=0.0\n",
      "B=10 time=18.520735025405884 a=0.0\n",
      "B=10 time=15.476408004760742 a=0.0\n",
      "B=10 time=14.692573308944702 a=0.0\n",
      "B=20 time=25.71448016166687 a=0.0\n",
      "B=20 time=36.08604311943054 a=0.0\n",
      "B=20 time=25.19729995727539 a=0.0\n",
      "B=20 time=24.945266008377075 a=0.0\n"
     ]
    }
   ],
   "source": [
    "O1, O2 = cc_experiment_thug(SETTINGS100, 0.0)"
   ]
  },
  {
   "cell_type": "code",
   "execution_count": 11,
   "id": "3edc5e1a",
   "metadata": {
    "scrolled": true
   },
   "outputs": [
    {
     "name": "stdout",
     "output_type": "stream",
     "text": [
      "B=1 time=5.273634195327759 a=0.63\n",
      "B=1 time=5.068956136703491 a=0.67\n",
      "B=1 time=4.82545804977417 a=0.605\n",
      "B=1 time=5.833405256271362 a=0.585\n",
      "B=10 time=14.329761028289795 a=0.34\n",
      "B=10 time=26.571820974349976 a=0.32\n",
      "B=10 time=14.320935726165771 a=0.325\n",
      "B=10 time=25.2553129196167 a=0.235\n",
      "B=20 time=25.275677919387817 a=0.39\n",
      "B=20 time=24.699582815170288 a=0.325\n",
      "B=20 time=35.35545587539673 a=0.285\n",
      "B=20 time=24.346460103988647 a=0.26\n",
      "B=1 time=4.808258056640625 a=0.59\n",
      "B=1 time=4.955396890640259 a=0.62\n",
      "B=1 time=10.799851894378662 a=0.535\n",
      "B=1 time=4.7261340618133545 a=0.555\n",
      "B=10 time=14.41301703453064 a=0.39\n",
      "B=10 time=14.474496126174927 a=0.34\n",
      "B=10 time=14.522173881530762 a=0.335\n",
      "B=10 time=25.289725065231323 a=0.32\n",
      "B=20 time=27.92332100868225 a=0.365\n",
      "B=20 time=26.864853143692017 a=0.29\n",
      "B=20 time=26.012489318847656 a=0.235\n",
      "B=20 time=35.65489196777344 a=0.305\n",
      "B=1 time=4.79234504699707 a=0.43\n",
      "B=1 time=4.9784040451049805 a=0.475\n",
      "B=1 time=4.913084983825684 a=0.41\n",
      "B=1 time=4.89562201499939 a=0.445\n",
      "B=10 time=16.43193507194519 a=0.34\n",
      "B=10 time=14.337199926376343 a=0.265\n",
      "B=10 time=19.53557300567627 a=0.42\n",
      "B=10 time=14.196412801742554 a=0.26\n",
      "B=20 time=36.61565327644348 a=0.33\n",
      "B=20 time=26.214579820632935 a=0.37\n",
      "B=20 time=25.520243167877197 a=0.325\n",
      "B=20 time=25.6212899684906 a=0.285\n",
      "B=1 time=4.728575944900513 a=0.1\n",
      "B=1 time=5.114452838897705 a=0.095\n",
      "B=1 time=4.795012950897217 a=0.045\n",
      "B=1 time=5.013366937637329 a=0.11\n",
      "B=10 time=24.410484075546265 a=0.29\n",
      "B=10 time=14.280163288116455 a=0.365\n",
      "B=10 time=15.667977094650269 a=0.245\n",
      "B=10 time=14.497398138046265 a=0.3\n",
      "B=20 time=25.44962215423584 a=0.26\n",
      "B=20 time=25.120296955108643 a=0.24\n",
      "B=20 time=36.59471607208252 a=0.29\n",
      "B=20 time=25.211161136627197 a=0.245\n",
      "B=1 time=4.753749132156372 a=0.0\n",
      "B=1 time=4.841789960861206 a=0.0\n",
      "B=1 time=4.987027883529663 a=0.0\n",
      "B=1 time=4.879745960235596 a=0.0\n",
      "B=10 time=14.886492252349854 a=0.175\n",
      "B=10 time=18.602983236312866 a=0.145\n",
      "B=10 time=26.407868146896362 a=0.175\n",
      "B=10 time=14.242780923843384 a=0.165\n",
      "B=20 time=25.35477590560913 a=0.165\n",
      "B=20 time=24.94335103034973 a=0.13\n",
      "B=20 time=24.729713201522827 a=0.105\n",
      "B=20 time=39.990161180496216 a=0.115\n",
      "B=1 time=7.27200984954834 a=0.0\n",
      "B=1 time=6.316122055053711 a=0.0\n",
      "B=1 time=5.497052907943726 a=0.0\n",
      "B=1 time=5.137807846069336 a=0.0\n",
      "B=10 time=14.926244974136353 a=0.05\n",
      "B=10 time=21.059091806411743 a=0.03\n",
      "B=10 time=14.738722085952759 a=0.02\n",
      "B=10 time=14.692574977874756 a=0.035\n",
      "B=20 time=36.08585500717163 a=0.05\n",
      "B=20 time=25.22112488746643 a=0.01\n",
      "B=20 time=25.772685050964355 a=0.015\n",
      "B=20 time=26.060266971588135 a=0.01\n",
      "B=1 time=7.0557701587677 a=0.0\n",
      "B=1 time=15.813057899475098 a=0.0\n",
      "B=1 time=4.713985919952393 a=0.0\n",
      "B=1 time=4.721076011657715 a=0.0\n",
      "B=10 time=14.324159860610962 a=0.005\n",
      "B=10 time=14.10964584350586 a=0.0\n",
      "B=10 time=14.055834293365479 a=0.005\n",
      "B=10 time=14.208423852920532 a=0.0\n",
      "B=20 time=24.938327074050903 a=0.0\n",
      "B=20 time=34.34190106391907 a=0.005\n",
      "B=20 time=25.275312900543213 a=0.0\n",
      "B=20 time=25.94002366065979 a=0.0\n"
     ]
    }
   ],
   "source": [
    "O3, O4 = cc_experiment_thug(SETTINGS100, 0.9)"
   ]
  },
  {
   "cell_type": "code",
   "execution_count": 12,
   "id": "2a96b223",
   "metadata": {
    "scrolled": true
   },
   "outputs": [
    {
     "name": "stdout",
     "output_type": "stream",
     "text": [
      "B=1 time=5.082049131393433 a=0.66\n",
      "B=1 time=4.765897989273071 a=0.64\n",
      "B=1 time=4.873033046722412 a=0.645\n",
      "B=1 time=4.799253940582275 a=0.575\n",
      "B=10 time=16.688638925552368 a=0.44\n",
      "B=10 time=25.449942111968994 a=0.345\n",
      "B=10 time=14.126194953918457 a=0.245\n",
      "B=10 time=14.572490930557251 a=0.29\n",
      "B=20 time=24.787847995758057 a=0.29\n",
      "B=20 time=24.713252067565918 a=0.265\n",
      "B=20 time=24.903028964996338 a=0.23\n",
      "B=20 time=37.36439394950867 a=0.215\n",
      "B=1 time=5.402407884597778 a=0.645\n",
      "B=1 time=5.4327733516693115 a=0.585\n",
      "B=1 time=5.273711681365967 a=0.605\n",
      "B=1 time=5.3539440631866455 a=0.615\n",
      "B=10 time=14.188500881195068 a=0.36\n",
      "B=10 time=14.674664974212646 a=0.315\n",
      "B=10 time=14.4862802028656 a=0.245\n",
      "B=10 time=14.447405099868774 a=0.255\n",
      "B=20 time=37.76209807395935 a=0.285\n",
      "B=20 time=25.17599606513977 a=0.26\n",
      "B=20 time=24.734012842178345 a=0.24\n",
      "B=20 time=25.592484712600708 a=0.275\n",
      "B=1 time=5.0753161907196045 a=0.555\n",
      "B=1 time=5.871057987213135 a=0.635\n",
      "B=1 time=15.00111985206604 a=0.59\n",
      "B=1 time=4.8955018520355225 a=0.575\n",
      "B=10 time=14.152449131011963 a=0.325\n",
      "B=10 time=14.186481952667236 a=0.335\n",
      "B=10 time=14.576196670532227 a=0.285\n",
      "B=10 time=14.115977048873901 a=0.245\n",
      "B=20 time=25.269119024276733 a=0.26\n",
      "B=20 time=35.882137060165405 a=0.28\n",
      "B=20 time=25.8086998462677 a=0.23\n",
      "B=20 time=24.697221040725708 a=0.205\n",
      "B=1 time=4.7302939891815186 a=0.5\n",
      "B=1 time=5.0947840213775635 a=0.43\n",
      "B=1 time=4.740168809890747 a=0.425\n",
      "B=1 time=4.865161895751953 a=0.385\n",
      "B=10 time=14.122817039489746 a=0.395\n",
      "B=10 time=14.334041118621826 a=0.265\n",
      "B=10 time=24.385509967803955 a=0.265\n",
      "B=10 time=14.501541137695312 a=0.26\n",
      "B=20 time=24.600425004959106 a=0.285\n",
      "B=20 time=29.497395277023315 a=0.275\n",
      "B=20 time=25.127450942993164 a=0.275\n",
      "B=20 time=35.62962222099304 a=0.2\n",
      "B=1 time=4.78544282913208 a=0.155\n",
      "B=1 time=4.978823900222778 a=0.12\n",
      "B=1 time=5.004265069961548 a=0.075\n",
      "B=1 time=4.775179862976074 a=0.07\n",
      "B=10 time=16.38766074180603 a=0.345\n",
      "B=10 time=14.568855047225952 a=0.305\n",
      "B=10 time=14.531118869781494 a=0.28\n",
      "B=10 time=14.925510168075562 a=0.225\n",
      "B=20 time=35.900426149368286 a=0.315\n",
      "B=20 time=25.45021104812622 a=0.285\n",
      "B=20 time=25.40706205368042 a=0.14\n",
      "B=20 time=25.42485785484314 a=0.205\n",
      "B=1 time=5.02104115486145 a=0.01\n",
      "B=1 time=4.74962306022644 a=0.005\n",
      "B=1 time=5.542427062988281 a=0.0\n",
      "B=1 time=16.44929003715515 a=0.0\n",
      "B=10 time=15.492183923721313 a=0.105\n",
      "B=10 time=15.513697147369385 a=0.09\n",
      "B=10 time=15.046814918518066 a=0.115\n",
      "B=10 time=14.756158113479614 a=0.14\n",
      "B=20 time=28.473086833953857 a=0.1\n",
      "B=20 time=35.22993206977844 a=0.05\n",
      "B=20 time=26.029386043548584 a=0.07\n",
      "B=20 time=24.822261095046997 a=0.06\n",
      "B=1 time=4.6953208446502686 a=0.0\n",
      "B=1 time=5.028272867202759 a=0.0\n",
      "B=1 time=4.8386759757995605 a=0.0\n",
      "B=1 time=4.766447067260742 a=0.0\n",
      "B=10 time=14.229582786560059 a=0.04\n",
      "B=10 time=14.780508041381836 a=0.015\n",
      "B=10 time=25.726611852645874 a=0.025\n",
      "B=10 time=14.554650068283081 a=0.03\n",
      "B=20 time=25.941731214523315 a=0.01\n",
      "B=20 time=28.58921194076538 a=0.025\n",
      "B=20 time=24.78561520576477 a=0.01\n",
      "B=20 time=35.94393301010132 a=0.01\n"
     ]
    }
   ],
   "source": [
    "O5, O6 = cc_experiment_thug(SETTINGS100, 0.99)"
   ]
  },
  {
   "cell_type": "code",
   "execution_count": 13,
   "id": "04a926ba",
   "metadata": {},
   "outputs": [
    {
     "name": "stdout",
     "output_type": "stream",
     "text": [
      "B=1 time=18.84973907470703 a=0.63\n",
      "B=1 time=18.193825006484985 a=0.655\n",
      "B=1 time=25.359930992126465 a=0.64\n",
      "B=1 time=28.081562280654907 a=0.655\n",
      "B=10 time=233.68424701690674 a=0.515\n",
      "B=10 time=158.9300000667572 a=0.515\n",
      "B=10 time=221.99089908599854 a=0.545\n",
      "B=10 time=236.59208011627197 a=0.495\n",
      "B=20 time=281.6195812225342 a=0.48\n",
      "B=20 time=288.04181694984436 a=0.475\n",
      "B=20 time=406.0023310184479 a=0.55\n",
      "B=20 time=318.90921807289124 a=0.56\n"
     ]
    }
   ],
   "source": [
    "O7, O8 = cc_experiment_crwm(SETTINGS100, tol=1e-11)"
   ]
  },
  {
   "cell_type": "code",
   "execution_count": 20,
   "id": "ff91c1f4",
   "metadata": {},
   "outputs": [
    {
     "name": "stdout",
     "output_type": "stream",
     "text": [
      "B=1 time=24.813613176345825 a=0.655\n",
      "B=1 time=18.27516794204712 a=0.72\n",
      "B=1 time=26.323943853378296 a=0.615\n",
      "B=1 time=28.005775928497314 a=0.685\n",
      "B=10 time=172.72553491592407 a=0.485\n",
      "B=10 time=159.87774419784546 a=0.5\n",
      "B=10 time=192.61282205581665 a=0.495\n",
      "B=10 time=258.16016483306885 a=0.455\n",
      "B=20 time=261.7607469558716 a=0.56\n",
      "B=20 time=269.9868893623352 a=0.51\n",
      "B=20 time=365.9685649871826 a=0.535\n",
      "B=20 time=400.35249376296997 a=0.48\n"
     ]
    }
   ],
   "source": [
    "O7_1em12, O8_1em12 = cc_experiment_crwm(SETTINGS100, tol=1e-11, rev_tol=1e-11)"
   ]
  },
  {
   "cell_type": "markdown",
   "id": "af8729cf",
   "metadata": {},
   "source": [
    "#### SMALLER STEP SIZE"
   ]
  },
  {
   "cell_type": "code",
   "execution_count": 208,
   "id": "90b606d5",
   "metadata": {},
   "outputs": [],
   "source": [
    "O1new, O2new = cc_experiment_thug(SETTINGS100_new, 0.0)"
   ]
  },
  {
   "cell_type": "code",
   "execution_count": 212,
   "id": "21dea977",
   "metadata": {},
   "outputs": [],
   "source": [
    "O3new, O4new = cc_experiment_thug(SETTINGS100_new, 0.9)"
   ]
  },
  {
   "cell_type": "code",
   "execution_count": 213,
   "id": "c57c6c91",
   "metadata": {},
   "outputs": [],
   "source": [
    "O5new, O6new = cc_experiment_thug(SETTINGS100_new, 0.99)"
   ]
  },
  {
   "cell_type": "code",
   "execution_count": 217,
   "id": "631f438f",
   "metadata": {},
   "outputs": [
    {
     "name": "stdout",
     "output_type": "stream",
     "text": [
      "B=1 time=41.97546696662903 a=0.91\n",
      "B=10 time=225.4380168914795 a=0.09\n",
      "B=20 time=362.59835386276245 a=0.06\n"
     ]
    }
   ],
   "source": [
    "O7new, O8new = cc_experiment_crwm(SETTINGS100_new, tol=1e-12, rev_tol=1e-12)"
   ]
  },
  {
   "cell_type": "code",
   "execution_count": 45,
   "id": "38c5ced6",
   "metadata": {},
   "outputs": [],
   "source": [
    "import matplotlib.lines as mlines\n",
    "from matplotlib import rc"
   ]
  },
  {
   "cell_type": "code",
   "execution_count": 18,
   "id": "8b6b191b",
   "metadata": {},
   "outputs": [
    {
     "data": {
      "image/png": "[encoded data removed]",
      "text/plain": [
       "<Figure size 1080x432 with 1 Axes>"
      ]
     },
     "metadata": {
      "needs_background": "light"
     },
     "output_type": "display_data"
    }
   ],
   "source": [
    "ϵs_100 = SETTINGS100['ϵs']\n",
    "Bs_100 = SETTINGS100['Bs']\n",
    "greys = ['lightgray', 'darkgrey', 'dimgrey']\n",
    "greens = ['lightgreen', 'green', 'darkgreen']\n",
    "violets = ['thistle', 'violet', 'purple']\n",
    "reds = ['navajowhite', 'orange', 'red']\n",
    "MARKERSIZE = 12\n",
    "LINEWIDTH  = 2\n",
    "MARKEREDGEWIDTH = 1.5\n",
    "CRWM_LINEWIDTH=2\n",
    "rc('font',**{'family':'STIXGeneral'})\n",
    "# Plot computational costs\n",
    "fig, ax = plt.subplots(figsize=(15, 6))\n",
    "# alpha = 0.0\n",
    "for i in range(len(Bs_100)):\n",
    "    ax.plot(ϵs_100, show_only_positive_ap(O1, O2, i), color=greys[i], marker='o', markersize=MARKERSIZE, markeredgewidth=MARKEREDGEWIDTH, lw=LINEWIDTH, markeredgecolor='k')\n",
    "    ax.plot(ϵs_100, show_only_positive_ap(O3, O4, i), color=greys[i], marker='*', markersize=MARKERSIZE, markeredgewidth=MARKEREDGEWIDTH, lw=LINEWIDTH, markeredgecolor='k')\n",
    "    ax.plot(ϵs_100, show_only_positive_ap(O5, O6, i), color=greys[i], marker='^', markersize=MARKERSIZE, markeredgewidth=MARKEREDGEWIDTH, lw=LINEWIDTH, markeredgecolor='k')\n",
    "    ax.plot(ϵs_100, show_only_positive_ap_crwm(O7, O8, ϵs_100, i), marker='x', color=greys[i], markersize=MARKERSIZE, markeredgewidth=MARKEREDGEWIDTH, lw=LINEWIDTH, markeredgecolor='k')\n",
    "#     ax.plot(ϵs_100, show_only_positive_ap_crwm(_257[0], _257[1], ϵs_100, i), marker='x', color=greys[i], markersize=MARKERSIZE, markeredgewidth=MARKEREDGEWIDTH, lw=LINEWIDTH, markeredgecolor='k')\n",
    "\n",
    "# Legend\n",
    "triangle = mlines.Line2D([], [], markeredgecolor='k', color='white', marker='^', linestyle='None', markersize=10, label='α=0.99')\n",
    "star     = mlines.Line2D([], [], markeredgecolor='k', color='white', marker='*', linestyle='None', markersize=10, label='α=0.9')\n",
    "circle   = mlines.Line2D([], [], markeredgecolor='k', color='white', marker='o', linestyle='None', markersize=10, label='α=0')\n",
    "cross    = mlines.Line2D([], [], markeredgecolor='k', color='white', marker='x', linestyle='None', markersize=10, label='C-RWM')\n",
    "lightline  = mlines.Line2D([], [], color='lightgray', linestyle='-', label='B={}'.format(Bs_100[0]))\n",
    "mediumline = mlines.Line2D([], [], color='darkgrey', linestyle='-', label='B={}'.format(Bs_100[1]))\n",
    "darkline   = mlines.Line2D([], [], color='dimgrey', linestyle='-', label='B={}'.format(Bs_100[2]))\n",
    "ax.legend(handles=[circle, star, triangle, cross, lightline, mediumline, darkline], loc='lower right')\n",
    "ax.tick_params(axis='both', which='major', labelsize=15)\n",
    "ax.set_xlabel(r\"$\\mathregular{\\epsilon}$\", fontsize=20)\n",
    "ax.set_ylabel(\"minESS/runtime\", fontsize=20)\n",
    "ax.loglog()\n",
    "# plt.savefig('figures/lv_computational_cost_100.png')\n",
    "plt.show()"
   ]
  },
  {
   "cell_type": "code",
   "execution_count": 206,
   "id": "93b5bde7",
   "metadata": {},
   "outputs": [
    {
     "data": {
      "image/png": "[encoded data removed]",
      "text/plain": [
       "<Figure size 1080x432 with 1 Axes>"
      ]
     },
     "metadata": {
      "needs_background": "light"
     },
     "output_type": "display_data"
    }
   ],
   "source": [
    "ϵs_100 = SETTINGS100['ϵs']\n",
    "Bs_100 = SETTINGS100['Bs']\n",
    "greys = ['lightgray', 'darkgrey', 'dimgrey']\n",
    "greens = ['lightgreen', 'green', 'darkgreen']\n",
    "violets = ['thistle', 'violet', 'purple']\n",
    "reds = ['navajowhite', 'orange', 'red']\n",
    "MARKERSIZE = 12\n",
    "LINEWIDTH  = 2\n",
    "MARKEREDGEWIDTH = 1.5\n",
    "CRWM_LINEWIDTH=2\n",
    "rc('font',**{'family':'STIXGeneral'})\n",
    "# Plot computational costs\n",
    "fig, ax = plt.subplots(figsize=(15, 6))\n",
    "# alpha = 0.0\n",
    "for i in range(len(Bs_100)):\n",
    "    ax.plot(ϵs_100, show_only_positive_ap(O1, O2, i), color=greys[i], marker='o', markersize=MARKERSIZE, markeredgewidth=MARKEREDGEWIDTH, lw=LINEWIDTH, markeredgecolor='k')\n",
    "    ax.plot(ϵs_100, show_only_positive_ap(O3, O4, i), color=greys[i], marker='*', markersize=MARKERSIZE, markeredgewidth=MARKEREDGEWIDTH, lw=LINEWIDTH, markeredgecolor='k')\n",
    "    ax.plot(ϵs_100, show_only_positive_ap(O5, O6, i), color=greys[i], marker='^', markersize=MARKERSIZE, markeredgewidth=MARKEREDGEWIDTH, lw=LINEWIDTH, markeredgecolor='k')\n",
    "    ax.plot(ϵs_100, show_only_positive_ap_crwm(O7, O8, ϵs_100, i), marker='x', color=greys[i], markersize=MARKERSIZE, markeredgewidth=MARKEREDGEWIDTH, lw=LINEWIDTH, markeredgecolor='k')\n",
    "# Legend\n",
    "triangle = mlines.Line2D([], [], markeredgecolor='k', color='white', marker='^', linestyle='None', markersize=10, label='α=0.99')\n",
    "star     = mlines.Line2D([], [], markeredgecolor='k', color='white', marker='*', linestyle='None', markersize=10, label='α=0.9')\n",
    "circle   = mlines.Line2D([], [], markeredgecolor='k', color='white', marker='o', linestyle='None', markersize=10, label='α=0')\n",
    "cross    = mlines.Line2D([], [], markeredgecolor='k', color='white', marker='x', linestyle='None', markersize=10, label='C-RWM')\n",
    "lightline  = mlines.Line2D([], [], color='lightgray', linestyle='-', label='B={}'.format(Bs_100[0]))\n",
    "mediumline = mlines.Line2D([], [], color='darkgrey', linestyle='-', label='B={}'.format(Bs_100[1]))\n",
    "darkline   = mlines.Line2D([], [], color='dimgrey', linestyle='-', label='B={}'.format(Bs_100[2]))\n",
    "ax.legend(handles=[circle, star, triangle, cross, lightline, mediumline, darkline], loc='lower right')\n",
    "ax.tick_params(axis='both', which='major', labelsize=15)\n",
    "ax.set_xlabel(r\"$\\mathregular{\\epsilon}$\", fontsize=20)\n",
    "ax.set_ylabel(\"minESS/runtime\", fontsize=20)\n",
    "ax.loglog()\n",
    "# plt.savefig('figures/lv_computational_cost_100.png')\n",
    "plt.show()"
   ]
  },
  {
   "cell_type": "markdown",
   "id": "a061b821",
   "metadata": {},
   "source": [
    "# 120"
   ]
  },
  {
   "cell_type": "code",
   "execution_count": 44,
   "id": "67617ec4",
   "metadata": {},
   "outputs": [],
   "source": [
    "SETTINGS120 = generate_settings(\n",
    "    N=200, \n",
    "    δ=0.01,\n",
    "    Ns=120, \n",
    "    Bs=[1, 10, 20], \n",
    "    ϵs=[1.0, 0.1, 0.01, 0.001, 0.0001, 0.00001, 0.000001], \n",
    "    u1_true=False,\n",
    "    tol=1e-14,\n",
    "    n_chains=4\n",
    ")"
   ]
  },
  {
   "cell_type": "code",
   "execution_count": 45,
   "id": "5b879a9d",
   "metadata": {},
   "outputs": [
    {
     "name": "stdout",
     "output_type": "stream",
     "text": [
      "B=1 time=21.7250816822052 a=0.725\n",
      "B=1 time=30.176949977874756 a=0.635\n",
      "B=1 time=29.02499508857727 a=0.6\n",
      "B=1 time=74.81748700141907 a=0.0\n",
      "B=10 time=213.7419571876526 a=0.5\n",
      "B=10 time=231.11781072616577 a=0.545\n",
      "B=10 time=212.57090616226196 a=0.565\n",
      "B=10 time=69.03816413879395 a=0.0\n",
      "B=20 time=409.40584683418274 a=0.48\n",
      "B=20 time=485.9107460975647 a=0.48\n",
      "B=20 time=467.8759732246399 a=0.485\n",
      "B=20 time=70.53127694129944 a=0.0\n"
     ]
    }
   ],
   "source": [
    "O7_120, O8_120 = cc_experiment_crwm(SETTINGS120, tol=1e-11, rev_tol=1e-11)"
   ]
  },
  {
   "cell_type": "code",
   "execution_count": 46,
   "id": "dbc390d9",
   "metadata": {
    "scrolled": true
   },
   "outputs": [
    {
     "name": "stdout",
     "output_type": "stream",
     "text": [
      "B=1 time=6.734117746353149 a=0.595\n",
      "B=1 time=6.679836988449097 a=0.55\n",
      "B=1 time=6.541531085968018 a=0.6\n",
      "B=1 time=6.042707920074463 a=0.46\n",
      "B=10 time=19.030061721801758 a=0.425\n",
      "B=10 time=15.132596015930176 a=0.335\n",
      "B=10 time=20.35660481452942 a=0.515\n",
      "B=10 time=15.72331714630127 a=0.15\n",
      "B=20 time=34.18264293670654 a=0.455\n",
      "B=20 time=30.159321069717407 a=0.46\n",
      "B=20 time=32.81982898712158 a=0.435\n",
      "B=20 time=24.87251305580139 a=0.2\n",
      "B=1 time=6.688805818557739 a=0.56\n",
      "B=1 time=6.434142827987671 a=0.425\n",
      "B=1 time=6.537933826446533 a=0.505\n",
      "B=1 time=5.8831117153167725 a=0.27\n",
      "B=10 time=18.898907899856567 a=0.48\n",
      "B=10 time=17.442596197128296 a=0.34\n",
      "B=10 time=18.090174913406372 a=0.37\n",
      "B=10 time=10.140480995178223 a=0.17\n",
      "B=20 time=41.69087100028992 a=0.45\n",
      "B=20 time=28.147167921066284 a=0.365\n",
      "B=20 time=33.52038097381592 a=0.495\n",
      "B=20 time=14.950129747390747 a=0.14\n",
      "B=1 time=7.014118909835815 a=0.155\n",
      "B=1 time=8.626101970672607 a=0.14\n",
      "B=1 time=7.346239805221558 a=0.08\n",
      "B=1 time=6.00099515914917 a=0.03\n",
      "B=10 time=24.345813989639282 a=0.295\n",
      "B=10 time=18.271854877471924 a=0.185\n",
      "B=10 time=17.870744943618774 a=0.18\n",
      "B=10 time=9.829762935638428 a=0.07\n",
      "B=20 time=40.218193769454956 a=0.285\n",
      "B=20 time=28.31541395187378 a=0.16\n",
      "B=20 time=29.40031409263611 a=0.195\n",
      "B=20 time=15.29156494140625 a=0.08\n",
      "B=1 time=6.787785053253174 a=0.01\n",
      "B=1 time=7.103874206542969 a=0.0\n",
      "B=1 time=6.69528603553772 a=0.02\n",
      "B=1 time=5.874454975128174 a=0.0\n",
      "B=10 time=27.779611110687256 a=0.07\n",
      "B=10 time=15.869753122329712 a=0.035\n",
      "B=10 time=16.783797025680542 a=0.06\n",
      "B=10 time=9.366201162338257 a=0.005\n",
      "B=20 time=33.426740884780884 a=0.06\n",
      "B=20 time=30.50268316268921 a=0.02\n",
      "B=20 time=36.04202580451965 a=0.05\n",
      "B=20 time=14.289192914962769 a=0.005\n",
      "B=1 time=6.926299333572388 a=0.0\n",
      "B=1 time=6.721750974655151 a=0.0\n",
      "B=1 time=7.494494199752808 a=0.0\n",
      "B=1 time=6.129513263702393 a=0.0\n",
      "B=10 time=18.754569053649902 a=0.025\n",
      "B=10 time=22.382117986679077 a=0.01\n",
      "B=10 time=20.719786167144775 a=0.01\n",
      "B=10 time=9.687095165252686 a=0.0\n",
      "B=20 time=32.50225520133972 a=0.01\n",
      "B=20 time=24.554301023483276 a=0.0\n",
      "B=20 time=38.78589367866516 a=0.01\n",
      "B=20 time=14.28555703163147 a=0.0\n",
      "B=1 time=6.705061912536621 a=0.0\n",
      "B=1 time=6.4427649974823 a=0.0\n",
      "B=1 time=6.614387035369873 a=0.0\n",
      "B=1 time=5.65658974647522 a=0.0\n",
      "B=10 time=18.583116054534912 a=0.0\n",
      "B=10 time=15.662196159362793 a=0.0\n",
      "B=10 time=16.635240077972412 a=0.0\n",
      "B=10 time=9.626816987991333 a=0.0\n",
      "B=20 time=43.26457691192627 a=0.0\n",
      "B=20 time=26.346616983413696 a=0.0\n",
      "B=20 time=28.113203048706055 a=0.0\n",
      "B=20 time=16.32681894302368 a=0.0\n",
      "B=1 time=7.048441171646118 a=0.0\n",
      "B=1 time=17.513012886047363 a=0.0\n",
      "B=1 time=6.858745098114014 a=0.0\n",
      "B=1 time=6.3299641609191895 a=0.0\n",
      "B=10 time=18.82013702392578 a=0.0\n",
      "B=10 time=16.23883605003357 a=0.0\n",
      "B=10 time=16.5386700630188 a=0.0\n",
      "B=10 time=12.877668857574463 a=0.0\n",
      "B=20 time=40.581133127212524 a=0.0\n",
      "B=20 time=26.384788990020752 a=0.0\n",
      "B=20 time=28.127621173858643 a=0.0\n",
      "B=20 time=15.105772972106934 a=0.0\n"
     ]
    }
   ],
   "source": [
    "O1_120, O2_120 = cc_experiment_thug(SETTINGS120, 0.0)"
   ]
  },
  {
   "cell_type": "code",
   "execution_count": 47,
   "id": "62c9f19b",
   "metadata": {},
   "outputs": [
    {
     "data": {
      "image/png": "[encoded data removed]",
      "text/plain": [
       "<Figure size 1080x432 with 1 Axes>"
      ]
     },
     "metadata": {
      "needs_background": "light"
     },
     "output_type": "display_data"
    }
   ],
   "source": [
    "ϵs_120 = SETTINGS120['ϵs']\n",
    "Bs_120 = SETTINGS120['Bs']\n",
    "greys = ['lightgray', 'darkgrey', 'dimgrey']\n",
    "greens = ['lightgreen', 'green', 'darkgreen']\n",
    "violets = ['thistle', 'violet', 'purple']\n",
    "reds = ['navajowhite', 'orange', 'red']\n",
    "MARKERSIZE = 12\n",
    "LINEWIDTH  = 2\n",
    "MARKEREDGEWIDTH = 1.5\n",
    "CRWM_LINEWIDTH=2\n",
    "rc('font',**{'family':'STIXGeneral'})\n",
    "# Plot computational costs\n",
    "fig, ax = plt.subplots(figsize=(15, 6))\n",
    "# alpha = 0.0\n",
    "for i in range(len(Bs_100)):\n",
    "    ax.plot(ϵs_120, show_only_positive_ap(O1_120, O2_120, i), color=greys[i], marker='o', markersize=MARKERSIZE, markeredgewidth=MARKEREDGEWIDTH, lw=LINEWIDTH, markeredgecolor='k')\n",
    "#     ax.plot(ϵs_100, show_only_positive_ap(O3, O4, i), color=greys[i], marker='*', markersize=MARKERSIZE, markeredgewidth=MARKEREDGEWIDTH, lw=LINEWIDTH, markeredgecolor='k')\n",
    "#     ax.plot(ϵs_100, show_only_positive_ap(O5, O6, i), color=greys[i], marker='^', markersize=MARKERSIZE, markeredgewidth=MARKEREDGEWIDTH, lw=LINEWIDTH, markeredgecolor='k')\n",
    "    ax.plot(ϵs_120, show_only_positive_ap_crwm(O7_120, O8_120, ϵs_120, i), marker='x', color=greys[i], markersize=MARKERSIZE, markeredgewidth=MARKEREDGEWIDTH, lw=LINEWIDTH, markeredgecolor='k')\n",
    "#     ax.plot(ϵs_100, show_only_positive_ap_crwm(_257[0], _257[1], ϵs_100, i), marker='x', color=greys[i], markersize=MARKERSIZE, markeredgewidth=MARKEREDGEWIDTH, lw=LINEWIDTH, markeredgecolor='k')\n",
    "\n",
    "# Legend\n",
    "triangle = mlines.Line2D([], [], markeredgecolor='k', color='white', marker='^', linestyle='None', markersize=10, label='α=0.99')\n",
    "star     = mlines.Line2D([], [], markeredgecolor='k', color='white', marker='*', linestyle='None', markersize=10, label='α=0.9')\n",
    "circle   = mlines.Line2D([], [], markeredgecolor='k', color='white', marker='o', linestyle='None', markersize=10, label='α=0')\n",
    "cross    = mlines.Line2D([], [], markeredgecolor='k', color='white', marker='x', linestyle='None', markersize=10, label='C-RWM')\n",
    "lightline  = mlines.Line2D([], [], color='lightgray', linestyle='-', label='B={}'.format(Bs_120[0]))\n",
    "mediumline = mlines.Line2D([], [], color='darkgrey', linestyle='-', label='B={}'.format(Bs_120[1]))\n",
    "darkline   = mlines.Line2D([], [], color='dimgrey', linestyle='-', label='B={}'.format(Bs_120[2]))\n",
    "ax.legend(handles=[circle, star, triangle, cross, lightline, mediumline, darkline], loc='lower right')\n",
    "ax.tick_params(axis='both', which='major', labelsize=15)\n",
    "ax.set_xlabel(r\"$\\mathregular{\\epsilon}$\", fontsize=20)\n",
    "ax.set_ylabel(\"minESS/runtime\", fontsize=20)\n",
    "ax.loglog()\n",
    "# plt.savefig('figures/lv_computational_cost_100.png')\n",
    "plt.show()"
   ]
  },
  {
   "cell_type": "markdown",
   "id": "550510f9",
   "metadata": {},
   "source": [
    "# 200"
   ]
  },
  {
   "cell_type": "code",
   "execution_count": 22,
   "id": "8b03d9ee",
   "metadata": {},
   "outputs": [
    {
     "ename": "KeyboardInterrupt",
     "evalue": "",
     "output_type": "error",
     "traceback": [
      "\u001b[0;31m---------------------------------------------------------------------------\u001b[0m",
      "\u001b[0;31mKeyboardInterrupt\u001b[0m                         Traceback (most recent call last)",
      "Input \u001b[0;32mIn [22]\u001b[0m, in \u001b[0;36m<cell line: 1>\u001b[0;34m()\u001b[0m\n\u001b[0;32m----> 1\u001b[0m SETTINGS200 \u001b[38;5;241m=\u001b[39m \u001b[43mgenerate_settings\u001b[49m\u001b[43m(\u001b[49m\n\u001b[1;32m      2\u001b[0m \u001b[43m    \u001b[49m\u001b[43mN\u001b[49m\u001b[38;5;241;43m=\u001b[39;49m\u001b[38;5;241;43m200\u001b[39;49m\u001b[43m,\u001b[49m\u001b[43m \u001b[49m\n\u001b[1;32m      3\u001b[0m \u001b[43m    \u001b[49m\u001b[43mδ\u001b[49m\u001b[38;5;241;43m=\u001b[39;49m\u001b[38;5;241;43m0.01\u001b[39;49m\u001b[43m,\u001b[49m\n\u001b[1;32m      4\u001b[0m \u001b[43m    \u001b[49m\u001b[43mNs\u001b[49m\u001b[38;5;241;43m=\u001b[39;49m\u001b[38;5;241;43m200\u001b[39;49m\u001b[43m,\u001b[49m\u001b[43m \u001b[49m\n\u001b[1;32m      5\u001b[0m \u001b[43m    \u001b[49m\u001b[43mBs\u001b[49m\u001b[38;5;241;43m=\u001b[39;49m\u001b[43m[\u001b[49m\u001b[38;5;241;43m1\u001b[39;49m\u001b[43m,\u001b[49m\u001b[43m \u001b[49m\u001b[38;5;241;43m10\u001b[39;49m\u001b[43m,\u001b[49m\u001b[43m \u001b[49m\u001b[38;5;241;43m20\u001b[39;49m\u001b[43m]\u001b[49m\u001b[43m,\u001b[49m\u001b[43m \u001b[49m\n\u001b[1;32m      6\u001b[0m \u001b[43m    \u001b[49m\u001b[43mϵs\u001b[49m\u001b[38;5;241;43m=\u001b[39;49m\u001b[43m[\u001b[49m\u001b[38;5;241;43m1.0\u001b[39;49m\u001b[43m,\u001b[49m\u001b[43m \u001b[49m\u001b[38;5;241;43m0.1\u001b[39;49m\u001b[43m,\u001b[49m\u001b[43m \u001b[49m\u001b[38;5;241;43m0.01\u001b[39;49m\u001b[43m,\u001b[49m\u001b[43m \u001b[49m\u001b[38;5;241;43m0.001\u001b[39;49m\u001b[43m,\u001b[49m\u001b[43m \u001b[49m\u001b[38;5;241;43m0.0001\u001b[39;49m\u001b[43m,\u001b[49m\u001b[43m \u001b[49m\u001b[38;5;241;43m0.00001\u001b[39;49m\u001b[43m,\u001b[49m\u001b[43m \u001b[49m\u001b[38;5;241;43m0.000001\u001b[39;49m\u001b[43m]\u001b[49m\u001b[43m,\u001b[49m\u001b[43m \u001b[49m\n\u001b[1;32m      7\u001b[0m \u001b[43m    \u001b[49m\u001b[43mu1_true\u001b[49m\u001b[38;5;241;43m=\u001b[39;49m\u001b[38;5;28;43;01mFalse\u001b[39;49;00m\u001b[43m,\u001b[49m\n\u001b[1;32m      8\u001b[0m \u001b[43m    \u001b[49m\u001b[43mtol\u001b[49m\u001b[38;5;241;43m=\u001b[39;49m\u001b[38;5;241;43m1e-13\u001b[39;49m\u001b[43m,\u001b[49m\n\u001b[1;32m      9\u001b[0m \u001b[43m    \u001b[49m\u001b[43mn_chains\u001b[49m\u001b[38;5;241;43m=\u001b[39;49m\u001b[38;5;241;43m4\u001b[39;49m\n\u001b[1;32m     10\u001b[0m \u001b[43m)\u001b[49m\n",
      "Input \u001b[0;32mIn [7]\u001b[0m, in \u001b[0;36mgenerate_settings\u001b[0;34m(N, δ, Ns, Bs, εs, n_chains, u1_true, tol, maxiter)\u001b[0m\n\u001b[1;32m      7\u001b[0m         u0s[i, :] \u001b[38;5;241m=\u001b[39m manifold\u001b[38;5;241m.\u001b[39mfind_point_on_manifold_given_u1true(maxiter\u001b[38;5;241m=\u001b[39mmaxiter, tol\u001b[38;5;241m=\u001b[39mtol)\n\u001b[1;32m      8\u001b[0m     \u001b[38;5;28;01melse\u001b[39;00m:\n\u001b[0;32m----> 9\u001b[0m         u0s[i, :] \u001b[38;5;241m=\u001b[39m \u001b[43mmanifold\u001b[49m\u001b[38;5;241;43m.\u001b[39;49m\u001b[43mfind_point_on_manifold\u001b[49m\u001b[43m(\u001b[49m\u001b[43mmaxiter\u001b[49m\u001b[38;5;241;43m=\u001b[39;49m\u001b[43mmaxiter\u001b[49m\u001b[43m,\u001b[49m\u001b[43m \u001b[49m\u001b[43mtol\u001b[49m\u001b[38;5;241;43m=\u001b[39;49m\u001b[43mtol\u001b[49m\u001b[43m)\u001b[49m\n\u001b[1;32m     10\u001b[0m \u001b[38;5;28;01mreturn\u001b[39;00m {\n\u001b[1;32m     11\u001b[0m     \u001b[38;5;124m'\u001b[39m\u001b[38;5;124mN\u001b[39m\u001b[38;5;124m'\u001b[39m: N,\n\u001b[1;32m     12\u001b[0m     \u001b[38;5;124m'\u001b[39m\u001b[38;5;124mδ\u001b[39m\u001b[38;5;124m'\u001b[39m: δ,\n\u001b[0;32m   (...)\u001b[0m\n\u001b[1;32m     18\u001b[0m     \u001b[38;5;124m'\u001b[39m\u001b[38;5;124mn_chains\u001b[39m\u001b[38;5;124m'\u001b[39m: n_chains\n\u001b[1;32m     19\u001b[0m }\n",
      "Input \u001b[0;32mIn [5]\u001b[0m, in \u001b[0;36mLVManifold.find_point_on_manifold\u001b[0;34m(self, maxiter, tol)\u001b[0m\n\u001b[1;32m    149\u001b[0m function \u001b[38;5;241m=\u001b[39m \u001b[38;5;28;01mlambda\u001b[39;00m u2: \u001b[38;5;28mself\u001b[39m\u001b[38;5;241m.\u001b[39mq(np\u001b[38;5;241m.\u001b[39mconcatenate((u1_init, u2)))\n\u001b[1;32m    150\u001b[0m fprime   \u001b[38;5;241m=\u001b[39m \u001b[38;5;28;01mlambda\u001b[39;00m u2: \u001b[38;5;28mself\u001b[39m\u001b[38;5;241m.\u001b[39mJ(np\u001b[38;5;241m.\u001b[39mconcatenate((u1_init, u2)))[:, \u001b[38;5;28mself\u001b[39m\u001b[38;5;241m.\u001b[39md:]\n\u001b[0;32m--> 151\u001b[0m u2_found \u001b[38;5;241m=\u001b[39m \u001b[43mfsolve\u001b[49m\u001b[43m(\u001b[49m\u001b[43mfunction\u001b[49m\u001b[43m,\u001b[49m\u001b[43m \u001b[49m\u001b[43mzeros\u001b[49m\u001b[43m(\u001b[49m\u001b[38;5;28;43mself\u001b[39;49m\u001b[38;5;241;43m.\u001b[39;49m\u001b[43mm\u001b[49m\u001b[43m)\u001b[49m\u001b[43m,\u001b[49m\u001b[43m \u001b[49m\u001b[43mxtol\u001b[49m\u001b[38;5;241;43m=\u001b[39;49m\u001b[43mtol\u001b[49m\u001b[43m,\u001b[49m\u001b[43m \u001b[49m\u001b[43mfprime\u001b[49m\u001b[38;5;241;43m=\u001b[39;49m\u001b[43mfprime\u001b[49m\u001b[43m)\u001b[49m\n\u001b[1;32m    152\u001b[0m u_found \u001b[38;5;241m=\u001b[39m np\u001b[38;5;241m.\u001b[39mconcatenate((u1_init, u2_found))\n\u001b[1;32m    153\u001b[0m \u001b[38;5;28;01mreturn\u001b[39;00m u_found\n",
      "File \u001b[0;32m/opt/anaconda3/envs/manifold-sampling/lib/python3.10/site-packages/scipy/optimize/_minpack_py.py:160\u001b[0m, in \u001b[0;36mfsolve\u001b[0;34m(func, x0, args, fprime, full_output, col_deriv, xtol, maxfev, band, epsfcn, factor, diag)\u001b[0m\n\u001b[1;32m     49\u001b[0m \u001b[38;5;124;03m\"\"\"\u001b[39;00m\n\u001b[1;32m     50\u001b[0m \u001b[38;5;124;03mFind the roots of a function.\u001b[39;00m\n\u001b[1;32m     51\u001b[0m \n\u001b[0;32m   (...)\u001b[0m\n\u001b[1;32m    150\u001b[0m \n\u001b[1;32m    151\u001b[0m \u001b[38;5;124;03m\"\"\"\u001b[39;00m\n\u001b[1;32m    152\u001b[0m options \u001b[38;5;241m=\u001b[39m {\u001b[38;5;124m'\u001b[39m\u001b[38;5;124mcol_deriv\u001b[39m\u001b[38;5;124m'\u001b[39m: col_deriv,\n\u001b[1;32m    153\u001b[0m            \u001b[38;5;124m'\u001b[39m\u001b[38;5;124mxtol\u001b[39m\u001b[38;5;124m'\u001b[39m: xtol,\n\u001b[1;32m    154\u001b[0m            \u001b[38;5;124m'\u001b[39m\u001b[38;5;124mmaxfev\u001b[39m\u001b[38;5;124m'\u001b[39m: maxfev,\n\u001b[0;32m   (...)\u001b[0m\n\u001b[1;32m    157\u001b[0m            \u001b[38;5;124m'\u001b[39m\u001b[38;5;124mfactor\u001b[39m\u001b[38;5;124m'\u001b[39m: factor,\n\u001b[1;32m    158\u001b[0m            \u001b[38;5;124m'\u001b[39m\u001b[38;5;124mdiag\u001b[39m\u001b[38;5;124m'\u001b[39m: diag}\n\u001b[0;32m--> 160\u001b[0m res \u001b[38;5;241m=\u001b[39m \u001b[43m_root_hybr\u001b[49m\u001b[43m(\u001b[49m\u001b[43mfunc\u001b[49m\u001b[43m,\u001b[49m\u001b[43m \u001b[49m\u001b[43mx0\u001b[49m\u001b[43m,\u001b[49m\u001b[43m \u001b[49m\u001b[43margs\u001b[49m\u001b[43m,\u001b[49m\u001b[43m \u001b[49m\u001b[43mjac\u001b[49m\u001b[38;5;241;43m=\u001b[39;49m\u001b[43mfprime\u001b[49m\u001b[43m,\u001b[49m\u001b[43m \u001b[49m\u001b[38;5;241;43m*\u001b[39;49m\u001b[38;5;241;43m*\u001b[39;49m\u001b[43moptions\u001b[49m\u001b[43m)\u001b[49m\n\u001b[1;32m    161\u001b[0m \u001b[38;5;28;01mif\u001b[39;00m full_output:\n\u001b[1;32m    162\u001b[0m     x \u001b[38;5;241m=\u001b[39m res[\u001b[38;5;124m'\u001b[39m\u001b[38;5;124mx\u001b[39m\u001b[38;5;124m'\u001b[39m]\n",
      "File \u001b[0;32m/opt/anaconda3/envs/manifold-sampling/lib/python3.10/site-packages/scipy/optimize/_minpack_py.py:226\u001b[0m, in \u001b[0;36m_root_hybr\u001b[0;34m(func, x0, args, jac, col_deriv, xtol, maxfev, band, eps, factor, diag, **unknown_options)\u001b[0m\n\u001b[1;32m    224\u001b[0m \u001b[38;5;28;01mif\u001b[39;00m \u001b[38;5;129;01mnot\u001b[39;00m \u001b[38;5;28misinstance\u001b[39m(args, \u001b[38;5;28mtuple\u001b[39m):\n\u001b[1;32m    225\u001b[0m     args \u001b[38;5;241m=\u001b[39m (args,)\n\u001b[0;32m--> 226\u001b[0m shape, dtype \u001b[38;5;241m=\u001b[39m \u001b[43m_check_func\u001b[49m\u001b[43m(\u001b[49m\u001b[38;5;124;43m'\u001b[39;49m\u001b[38;5;124;43mfsolve\u001b[39;49m\u001b[38;5;124;43m'\u001b[39;49m\u001b[43m,\u001b[49m\u001b[43m \u001b[49m\u001b[38;5;124;43m'\u001b[39;49m\u001b[38;5;124;43mfunc\u001b[39;49m\u001b[38;5;124;43m'\u001b[39;49m\u001b[43m,\u001b[49m\u001b[43m \u001b[49m\u001b[43mfunc\u001b[49m\u001b[43m,\u001b[49m\u001b[43m \u001b[49m\u001b[43mx0\u001b[49m\u001b[43m,\u001b[49m\u001b[43m \u001b[49m\u001b[43margs\u001b[49m\u001b[43m,\u001b[49m\u001b[43m \u001b[49m\u001b[43mn\u001b[49m\u001b[43m,\u001b[49m\u001b[43m \u001b[49m\u001b[43m(\u001b[49m\u001b[43mn\u001b[49m\u001b[43m,\u001b[49m\u001b[43m)\u001b[49m\u001b[43m)\u001b[49m\n\u001b[1;32m    227\u001b[0m \u001b[38;5;28;01mif\u001b[39;00m epsfcn \u001b[38;5;129;01mis\u001b[39;00m \u001b[38;5;28;01mNone\u001b[39;00m:\n\u001b[1;32m    228\u001b[0m     epsfcn \u001b[38;5;241m=\u001b[39m finfo(dtype)\u001b[38;5;241m.\u001b[39meps\n",
      "File \u001b[0;32m/opt/anaconda3/envs/manifold-sampling/lib/python3.10/site-packages/scipy/optimize/_minpack_py.py:24\u001b[0m, in \u001b[0;36m_check_func\u001b[0;34m(checker, argname, thefunc, x0, args, numinputs, output_shape)\u001b[0m\n\u001b[1;32m     22\u001b[0m \u001b[38;5;28;01mdef\u001b[39;00m \u001b[38;5;21m_check_func\u001b[39m(checker, argname, thefunc, x0, args, numinputs,\n\u001b[1;32m     23\u001b[0m                 output_shape\u001b[38;5;241m=\u001b[39m\u001b[38;5;28;01mNone\u001b[39;00m):\n\u001b[0;32m---> 24\u001b[0m     res \u001b[38;5;241m=\u001b[39m atleast_1d(\u001b[43mthefunc\u001b[49m\u001b[43m(\u001b[49m\u001b[38;5;241;43m*\u001b[39;49m\u001b[43m(\u001b[49m\u001b[43m(\u001b[49m\u001b[43mx0\u001b[49m\u001b[43m[\u001b[49m\u001b[43m:\u001b[49m\u001b[43mnuminputs\u001b[49m\u001b[43m]\u001b[49m\u001b[43m,\u001b[49m\u001b[43m)\u001b[49m\u001b[43m \u001b[49m\u001b[38;5;241;43m+\u001b[39;49m\u001b[43m \u001b[49m\u001b[43margs\u001b[49m\u001b[43m)\u001b[49m\u001b[43m)\u001b[49m)\n\u001b[1;32m     25\u001b[0m     \u001b[38;5;28;01mif\u001b[39;00m (output_shape \u001b[38;5;129;01mis\u001b[39;00m \u001b[38;5;129;01mnot\u001b[39;00m \u001b[38;5;28;01mNone\u001b[39;00m) \u001b[38;5;129;01mand\u001b[39;00m (shape(res) \u001b[38;5;241m!=\u001b[39m output_shape):\n\u001b[1;32m     26\u001b[0m         \u001b[38;5;28;01mif\u001b[39;00m (output_shape[\u001b[38;5;241m0\u001b[39m] \u001b[38;5;241m!=\u001b[39m \u001b[38;5;241m1\u001b[39m):\n",
      "Input \u001b[0;32mIn [5]\u001b[0m, in \u001b[0;36mLVManifold.find_point_on_manifold.<locals>.<lambda>\u001b[0;34m(u2)\u001b[0m\n\u001b[1;32m    147\u001b[0m \u001b[38;5;28;01mtry\u001b[39;00m: \n\u001b[1;32m    148\u001b[0m     u1_init  \u001b[38;5;241m=\u001b[39m randn(\u001b[38;5;28mself\u001b[39m\u001b[38;5;241m.\u001b[39md)\u001b[38;5;241m*\u001b[39m\u001b[38;5;241m0.1\u001b[39m \u001b[38;5;241m-\u001b[39m \u001b[38;5;241m4\u001b[39m\n\u001b[0;32m--> 149\u001b[0m     function \u001b[38;5;241m=\u001b[39m \u001b[38;5;28;01mlambda\u001b[39;00m u2: \u001b[38;5;28;43mself\u001b[39;49m\u001b[38;5;241;43m.\u001b[39;49m\u001b[43mq\u001b[49m\u001b[43m(\u001b[49m\u001b[43mnp\u001b[49m\u001b[38;5;241;43m.\u001b[39;49m\u001b[43mconcatenate\u001b[49m\u001b[43m(\u001b[49m\u001b[43m(\u001b[49m\u001b[43mu1_init\u001b[49m\u001b[43m,\u001b[49m\u001b[43m \u001b[49m\u001b[43mu2\u001b[49m\u001b[43m)\u001b[49m\u001b[43m)\u001b[49m\u001b[43m)\u001b[49m\n\u001b[1;32m    150\u001b[0m     fprime   \u001b[38;5;241m=\u001b[39m \u001b[38;5;28;01mlambda\u001b[39;00m u2: \u001b[38;5;28mself\u001b[39m\u001b[38;5;241m.\u001b[39mJ(np\u001b[38;5;241m.\u001b[39mconcatenate((u1_init, u2)))[:, \u001b[38;5;28mself\u001b[39m\u001b[38;5;241m.\u001b[39md:]\n\u001b[1;32m    151\u001b[0m     u2_found \u001b[38;5;241m=\u001b[39m fsolve(function, zeros(\u001b[38;5;28mself\u001b[39m\u001b[38;5;241m.\u001b[39mm), xtol\u001b[38;5;241m=\u001b[39mtol, fprime\u001b[38;5;241m=\u001b[39mfprime)\n",
      "Input \u001b[0;32mIn [5]\u001b[0m, in \u001b[0;36mLVManifold.q\u001b[0;34m(self, ξ)\u001b[0m\n\u001b[1;32m    115\u001b[0m \u001b[38;5;124;03m\"\"\"Constraint function taking u=[u1, u2] and comparing against true data.\"\"\"\u001b[39;00m\n\u001b[1;32m    116\u001b[0m \u001b[38;5;28;01massert\u001b[39;00m \u001b[38;5;28mlen\u001b[39m(ξ) \u001b[38;5;241m==\u001b[39m \u001b[38;5;28mself\u001b[39m\u001b[38;5;241m.\u001b[39mn, \u001b[38;5;124m\"\u001b[39m\u001b[38;5;124mξ should have length \u001b[39m\u001b[38;5;132;01m{}\u001b[39;00m\u001b[38;5;124m, but found \u001b[39m\u001b[38;5;132;01m{}\u001b[39;00m\u001b[38;5;124m.\u001b[39m\u001b[38;5;124m\"\u001b[39m\u001b[38;5;241m.\u001b[39mformat(\u001b[38;5;28mself\u001b[39m\u001b[38;5;241m.\u001b[39mn, \u001b[38;5;28mlen\u001b[39m(ξ))\n\u001b[0;32m--> 117\u001b[0m \u001b[38;5;28;01mreturn\u001b[39;00m \u001b[38;5;28;43mself\u001b[39;49m\u001b[38;5;241;43m.\u001b[39;49m\u001b[43mu_to_x\u001b[49m\u001b[43m(\u001b[49m\u001b[43mξ\u001b[49m\u001b[43m)\u001b[49m \u001b[38;5;241m-\u001b[39m \u001b[38;5;28mself\u001b[39m\u001b[38;5;241m.\u001b[39mystar\n",
      "Input \u001b[0;32mIn [5]\u001b[0m, in \u001b[0;36mLVManifold.u_to_x\u001b[0;34m(self, u)\u001b[0m\n\u001b[1;32m     51\u001b[0m f[\u001b[38;5;241m0\u001b[39m] \u001b[38;5;241m=\u001b[39m \u001b[38;5;28mself\u001b[39m\u001b[38;5;241m.\u001b[39mf0\n\u001b[1;32m     52\u001b[0m \u001b[38;5;28;01mfor\u001b[39;00m s \u001b[38;5;129;01min\u001b[39;00m \u001b[38;5;28mrange\u001b[39m(\u001b[38;5;241m1\u001b[39m, \u001b[38;5;28mself\u001b[39m\u001b[38;5;241m.\u001b[39mNs\u001b[38;5;241m+\u001b[39m\u001b[38;5;241m1\u001b[39m):\n\u001b[0;32m---> 53\u001b[0m     r[s] \u001b[38;5;241m=\u001b[39m r[s\u001b[38;5;241m-\u001b[39m\u001b[38;5;241m1\u001b[39m] \u001b[38;5;241m+\u001b[39m \u001b[38;5;28mself\u001b[39m\u001b[38;5;241m.\u001b[39mδ\u001b[38;5;241m*\u001b[39m(z1\u001b[38;5;241m*\u001b[39mr[s\u001b[38;5;241m-\u001b[39m\u001b[38;5;241m1\u001b[39m] \u001b[38;5;241m-\u001b[39m z2\u001b[38;5;241m*\u001b[39mr[s\u001b[38;5;241m-\u001b[39m\u001b[38;5;241m1\u001b[39m]\u001b[38;5;241m*\u001b[39mf[s\u001b[38;5;241m-\u001b[39m\u001b[38;5;241m1\u001b[39m]) \u001b[38;5;241m+\u001b[39m \u001b[43msqrt\u001b[49m\u001b[43m(\u001b[49m\u001b[38;5;28;43mself\u001b[39;49m\u001b[38;5;241;43m.\u001b[39;49m\u001b[43mδ\u001b[49m\u001b[43m)\u001b[49m\u001b[38;5;241m*\u001b[39m\u001b[38;5;28mself\u001b[39m\u001b[38;5;241m.\u001b[39mσr\u001b[38;5;241m*\u001b[39mu2_r[s\u001b[38;5;241m-\u001b[39m\u001b[38;5;241m1\u001b[39m]\n\u001b[1;32m     54\u001b[0m     f[s] \u001b[38;5;241m=\u001b[39m f[s\u001b[38;5;241m-\u001b[39m\u001b[38;5;241m1\u001b[39m] \u001b[38;5;241m+\u001b[39m \u001b[38;5;28mself\u001b[39m\u001b[38;5;241m.\u001b[39mδ\u001b[38;5;241m*\u001b[39m(z4\u001b[38;5;241m*\u001b[39mr[s\u001b[38;5;241m-\u001b[39m\u001b[38;5;241m1\u001b[39m]\u001b[38;5;241m*\u001b[39mf[s\u001b[38;5;241m-\u001b[39m\u001b[38;5;241m1\u001b[39m] \u001b[38;5;241m-\u001b[39m z3\u001b[38;5;241m*\u001b[39mf[s\u001b[38;5;241m-\u001b[39m\u001b[38;5;241m1\u001b[39m]) \u001b[38;5;241m+\u001b[39m sqrt(\u001b[38;5;28mself\u001b[39m\u001b[38;5;241m.\u001b[39mδ)\u001b[38;5;241m*\u001b[39m\u001b[38;5;28mself\u001b[39m\u001b[38;5;241m.\u001b[39mσf\u001b[38;5;241m*\u001b[39mu2_f[s\u001b[38;5;241m-\u001b[39m\u001b[38;5;241m1\u001b[39m]\n\u001b[1;32m     55\u001b[0m \u001b[38;5;28;01mreturn\u001b[39;00m np\u001b[38;5;241m.\u001b[39mravel([r[\u001b[38;5;241m1\u001b[39m:], f[\u001b[38;5;241m1\u001b[39m:]], \u001b[38;5;124m'\u001b[39m\u001b[38;5;124mF\u001b[39m\u001b[38;5;124m'\u001b[39m)\n",
      "\u001b[0;31mKeyboardInterrupt\u001b[0m: "
     ]
    }
   ],
   "source": [
    "SETTINGS200 = generate_settings(\n",
    "    N=200, \n",
    "    δ=0.01,\n",
    "    Ns=200, \n",
    "    Bs=[1, 10, 20], \n",
    "    ϵs=[1.0, 0.1, 0.01, 0.001, 0.0001, 0.00001, 0.000001], \n",
    "    u1_true=False,\n",
    "    tol=1e-13,\n",
    "    n_chains=4\n",
    ")"
   ]
  },
  {
   "cell_type": "code",
   "execution_count": 189,
   "id": "01152174",
   "metadata": {},
   "outputs": [],
   "source": [
    "O9, O10 = cc_experiment_thug(SETTINGS200, 0.0)"
   ]
  },
  {
   "cell_type": "code",
   "execution_count": 190,
   "id": "0e6a8a1d",
   "metadata": {},
   "outputs": [],
   "source": [
    "O11, O12 = cc_experiment_thug(SETTINGS200, 0.9)"
   ]
  },
  {
   "cell_type": "code",
   "execution_count": 191,
   "id": "3aced5e6",
   "metadata": {},
   "outputs": [],
   "source": [
    "O13, O14 = cc_experiment_thug(SETTINGS200, 0.99)"
   ]
  },
  {
   "cell_type": "code",
   "execution_count": 187,
   "id": "e38c30e0",
   "metadata": {},
   "outputs": [
    {
     "name": "stdout",
     "output_type": "stream",
     "text": [
      "B=1 time=13.503690004348755 a=1.0\n",
      "B=10 time=121.710440158844 a=0.69\n",
      "B=20 time=285.4747169017792 a=0.47\n"
     ]
    }
   ],
   "source": [
    "O15, O16 = cc_experiment_crwm(SETTINGS200, tol=1e-11)"
   ]
  },
  {
   "cell_type": "code",
   "execution_count": 196,
   "id": "0779972d",
   "metadata": {},
   "outputs": [
    {
     "name": "stdout",
     "output_type": "stream",
     "text": [
      "B=1 time=37.89690804481506 a=1.0\n",
      "B=10 time=380.7576689720154 a=0.72\n",
      "B=20 time=805.223620891571 a=0.46\n"
     ]
    }
   ],
   "source": [
    "O17, O18 = cc_experiment_crwm(SETTINGS200, tol=0.2e-11)"
   ]
  },
  {
   "cell_type": "code",
   "execution_count": 204,
   "id": "8c943835",
   "metadata": {},
   "outputs": [
    {
     "name": "stdout",
     "output_type": "stream",
     "text": [
      "B=1 time=14.456012964248657 a=1.0\n",
      "B=10 time=128.87804198265076 a=0.73\n",
      "B=20 time=254.70561981201172 a=0.54\n"
     ]
    }
   ],
   "source": [
    "O19, O20 = cc_experiment_crwm(SETTINGS200, tol=1e-11, rev_tol=1e-11)"
   ]
  },
  {
   "cell_type": "code",
   "execution_count": 203,
   "id": "2ded7105",
   "metadata": {},
   "outputs": [
    {
     "data": {
      "image/png": "[encoded data removed]",
      "text/plain": [
       "<Figure size 1080x576 with 1 Axes>"
      ]
     },
     "metadata": {
      "needs_background": "light"
     },
     "output_type": "display_data"
    }
   ],
   "source": [
    "ϵs_200 = SETTINGS200['ϵs']\n",
    "Bs_200 = SETTINGS200['Bs']\n",
    "greys = ['lightgray', 'darkgrey', 'dimgrey']\n",
    "greens = ['lightgreen', 'green', 'darkgreen']\n",
    "violets = ['thistle', 'violet', 'purple']\n",
    "reds = ['navajowhite', 'orange', 'red']\n",
    "MARKERSIZE = 12\n",
    "LINEWIDTH  = 2\n",
    "MARKEREDGEWIDTH = 1.5\n",
    "CRWM_LINEWIDTH=2\n",
    "rc('font',**{'family':'STIXGeneral'})\n",
    "# Plot computational costs\n",
    "fig, ax = plt.subplots(figsize=(15, 8))\n",
    "# alpha = 0.0\n",
    "for i in range(len(Bs_200)):\n",
    "    ax.plot(ϵs_200, show_only_positive_ap(O9, O10, i), color=greys[i], marker='o', markersize=MARKERSIZE, markeredgewidth=MARKEREDGEWIDTH, lw=LINEWIDTH, markeredgecolor='k')\n",
    "    ax.plot(ϵs_200, show_only_positive_ap(O11, O12, i), color=greys[i], marker='*', markersize=MARKERSIZE, markeredgewidth=MARKEREDGEWIDTH, lw=LINEWIDTH, markeredgecolor='k')\n",
    "    ax.plot(ϵs_200, show_only_positive_ap(O13, O14, i), color=greys[i], marker='^', markersize=MARKERSIZE, markeredgewidth=MARKEREDGEWIDTH, lw=LINEWIDTH, markeredgecolor='k')\n",
    "    ax.plot(ϵs_200, show_only_positive_ap_crwm(O19, O20, ϵs_200, i), marker='x', color=greys[i], markersize=MARKERSIZE, markeredgewidth=MARKEREDGEWIDTH, lw=LINEWIDTH, markeredgecolor='k')\n",
    "# Legend\n",
    "triangle = mlines.Line2D([], [], markeredgecolor='k', color='white', marker='^', linestyle='None', markersize=10, label='α=0.99')\n",
    "star     = mlines.Line2D([], [], markeredgecolor='k', color='white', marker='*', linestyle='None', markersize=10, label='α=0.9')\n",
    "circle   = mlines.Line2D([], [], markeredgecolor='k', color='white', marker='o', linestyle='None', markersize=10, label='α=0')\n",
    "cross    = mlines.Line2D([], [], markeredgecolor='k', color='white', marker='x', linestyle='None', markersize=10, label='C-RWM')\n",
    "lightline  = mlines.Line2D([], [], color='lightgray', linestyle='-', label='B={}'.format(Bs_200[0]))\n",
    "mediumline = mlines.Line2D([], [], color='darkgrey', linestyle='-', label='B={}'.format(Bs_200[1]))\n",
    "darkline   = mlines.Line2D([], [], color='dimgrey', linestyle='-', label='B={}'.format(Bs_200[2]))\n",
    "ax.legend(handles=[circle, star, triangle, cross, lightline, mediumline, darkline], loc='lower right')\n",
    "ax.tick_params(axis='both', which='major', labelsize=15)\n",
    "ax.set_xlabel(r\"$\\mathregular{\\epsilon}$\", fontsize=20)\n",
    "ax.set_ylabel(\"minESS/runtime\", fontsize=20)\n",
    "ax.loglog()\n",
    "plt.show()"
   ]
  },
  {
   "cell_type": "code",
   "execution_count": null,
   "id": "673533e7",
   "metadata": {},
   "outputs": [],
   "source": []
  },
  {
   "cell_type": "code",
   "execution_count": null,
   "id": "e5dba0da",
   "metadata": {},
   "outputs": [],
   "source": []
  },
  {
   "cell_type": "code",
   "execution_count": null,
   "id": "94b5fe37",
   "metadata": {},
   "outputs": [],
   "source": []
  },
  {
   "cell_type": "code",
   "execution_count": null,
   "id": "d230097d",
   "metadata": {},
   "outputs": [],
   "source": [
    "def cc_experiment_thug(u0, δ, N, Bs, ϵs, α=0.0):\n",
    "    \"\"\"Computational Cost of THUG and C-RWM.\"\"\"\n",
    "    ESS_TABLE = zeros((len(ϵs), len(Bs)))\n",
    "    AP_TABLE  = zeros((len(ϵs), len(Bs)))\n",
    "    for ϵ_ix, ϵ in enumerate(ϵs):\n",
    "        logηϵ = generate_logpi(ϵ)\n",
    "        for B_ix, B in enumerate(Bs):\n",
    "            start_time = time.time()\n",
    "            s, a = HugTangentialMultivariate(u0, B*δ, B, N, α, q, logηϵ, J)\n",
    "            runtime = time.time() - start_time\n",
    "            ESS_TABLE[ϵ_ix, B_ix] = min(ESS_univariate(s)) / runtime\n",
    "            AP_TABLE[ϵ_ix, B_ix]  = a.mean()\n",
    "    return ESS_TABLE, AP_TABLE\n",
    "\n",
    "def cc_experiment_crwm(u0, δ, N, Bs, tol=1e-11, rev_tol=1e-8):\n",
    "    \"\"\"Same as above but for C-RWM.\"\"\"\n",
    "    ESS_TABLE = zeros(len(Bs))\n",
    "    AP_TABLE  = zeros(len(Bs))\n",
    "    for B_ix, B in enumerate(Bs):\n",
    "        start_time = time.time()\n",
    "        s, e, a = zappa_sampling_storecomps_rattle(u0, manifold, N, δ*B, B, tol=tol, rev_tol=rev_tol)\n",
    "        runtime = time.time() - start_time\n",
    "        print(\"B={} time={} a={}\".format(B, runtime, a.mean()))\n",
    "        ESS_TABLE[B_ix] = min(ESS_univariate(s)) / runtime\n",
    "        AP_TABLE[B_ix]  = a.mean()\n",
    "    return ESS_TABLE, AP_TABLE"
   ]
  }
 ],
 "metadata": {
  "kernelspec": {
   "display_name": "Python 3 (ipykernel)",
   "language": "python",
   "name": "python3"
  },
  "language_info": {
   "codemirror_mode": {
    "name": "ipython",
    "version": 3
   },
   "file_extension": ".py",
   "mimetype": "text/x-python",
   "name": "python",
   "nbconvert_exporter": "python",
   "pygments_lexer": "ipython3",
   "version": "3.10.4"
  }
 },
 "nbformat": 4,
 "nbformat_minor": 5
}
