{
 "cells": [
  {
   "cell_type": "code",
   "execution_count": 1,
   "id": "530e7174",
   "metadata": {},
   "outputs": [],
   "source": [
    "import numpy as np\n",
    "from numpy import zeros, eye, array, diag, exp, ones, tanh, cosh, dstack, log, hstack, vstack, sinh\n",
    "from numpy.linalg import solve, norm\n",
    "from numpy.random import choice, default_rng, randint, randn\n",
    "from scipy.stats import multivariate_normal as MVN\n",
    "from scipy.special import logsumexp, ndtr\n",
    "from scipy.stats import uniform as udist\n",
    "import math\n",
    "import time\n",
    "from copy import deepcopy\n",
    "\n",
    "import matplotlib.pyplot as plt\n",
    "from matplotlib import rc\n",
    "from ipywidgets.widgets import IntSlider\n",
    "from ipywidgets.widgets import interact\n",
    "from warnings import resetwarnings, catch_warnings, filterwarnings\n",
    "import seaborn as sns\n",
    "\n",
    "from Manifolds.GKManifoldNew import GKManifold, data_generator, find_point_on_manifold, find_point_on_manifold_from_θ\n",
    "from markov_snippets import MSAdaptive, SMCAdaptive\n",
    "from tangential_hug_functions import TangentialHugSampler\n",
    "from tangential_hug_functions import HugTangentialMultivariate\n",
    "from RWM import RWM\n",
    "from utils import ESS_univariate"
   ]
  },
  {
   "cell_type": "code",
   "execution_count": 2,
   "id": "00f629db",
   "metadata": {},
   "outputs": [],
   "source": [
    "seed = 1234\n",
    "m = 20     # number of latent variables\n",
    "d = m + 4  # dimensionality of x-component"
   ]
  },
  {
   "cell_type": "code",
   "execution_count": 3,
   "id": "41bef638",
   "metadata": {},
   "outputs": [],
   "source": [
    "def generate_settings(\n",
    "    d=d, \n",
    "    N=2000,\n",
    "    B=20,\n",
    "    δ=0.01,\n",
    "    δmin=1e-3,\n",
    "    δmax=100.0,\n",
    "    εmin=1e-16,\n",
    "    min_pm=1e-4,\n",
    "    maxiter=500,\n",
    "    verbose=False,\n",
    "    εs_fixed=None,\n",
    "    adaptiveε=True,\n",
    "    adaptiveδ=False,\n",
    "    z0_manual=None,\n",
    "    pm_target=0.23,\n",
    "    pm_switch=0.1,\n",
    "    prior_seed=seed,\n",
    "    low_memory=True,\n",
    "    integrator='rwm',\n",
    "    εprop_switch=0.01,\n",
    "    ε0_manual=None,\n",
    "    quantile_value=0.9,\n",
    "    initialization='manual',\n",
    "    switch_strategy='pm',\n",
    "    kernel='uniform',\n",
    "    prior_scale=7,\n",
    "    thinning=10,\n",
    "    burnin=100,\n",
    "    use_autograd=False,\n",
    "    stopping_criterion={'εmin', 'pm'},\n",
    "    resampling_seed=1234,\n",
    "    mh_kernel_seed=1234,\n",
    "    resampling_scheme='multinomial',\n",
    "    prop_hug=0.5,\n",
    "    projection_method='qr',\n",
    "    metropolised=False):\n",
    "    # here d represents m+4\n",
    "    # Generate the manifold\n",
    "    θ0        = array([3.0, 1.0, 2.0, 0.5])       # True parameter value on U(0, 10) scale.\n",
    "    ystar     = data_generator(θ0, m, seed=seed)  # Observed data\n",
    "    q         = MVN(zeros(d), eye(d))             # Proposal distribution for THUG\n",
    "    resetwarnings()\n",
    "    manifold  = GKManifold(ystar, kernel_type=kernel, use_autograd=use_autograd)\n",
    "    # grab arguments\n",
    "    arguments = locals()\n",
    "    return arguments"
   ]
  },
  {
   "cell_type": "code",
   "execution_count": 5,
   "id": "efe7d25b",
   "metadata": {},
   "outputs": [],
   "source": [
    "N      = 5000\n",
    "B      = 20\n",
    "δmin   = 1e-3\n",
    "min_pm = 1e-4\n",
    "pm_switch = 0.1"
   ]
  },
  {
   "cell_type": "markdown",
   "id": "8a1cc62b",
   "metadata": {},
   "source": [
    "##### GRAB PARTICLES"
   ]
  },
  {
   "cell_type": "code",
   "execution_count": 6,
   "id": "19eb2bbd",
   "metadata": {
    "scrolled": true
   },
   "outputs": [
    {
     "name": "stdout",
     "output_type": "stream",
     "text": [
      "Integrator: RWM.\n",
      "Stopping criterion:  maxiter, εmin, pm.\n",
      "Resampling: MULTINOMIAL.\n",
      "Setting initial epsilon to εmax = 2530215592974.9248046875000000\n",
      "Iteration:  1\n",
      "\tQuantile Value:  0.5\n",
      "\tTrajectories constructed.\n",
      "\tEpsilon: 26533.7574199330774718\n",
      "\tWeights computed and normalized.\n",
      "\tParticles Resampled.\n",
      "\tVelocities refreshed.\n",
      "\tProp Moved: 0.9452000000000000\n",
      "\tStep-size kept fixed at: 0.0010000000000000\n",
      "Iteration:  2\n",
      "\tQuantile Value:  0.5\n",
      "\tTrajectories constructed.\n",
      "\tEpsilon: 565.3519731500406351\n",
      "\tWeights computed and normalized.\n",
      "\tParticles Resampled.\n",
      "\tVelocities refreshed.\n",
      "\tProp Moved: 0.9526000000000000\n",
      "\tStep-size kept fixed at: 0.0010000000000000\n",
      "Iteration:  3\n",
      "\tQuantile Value:  0.5\n",
      "\tTrajectories constructed.\n",
      "\tEpsilon: 104.7930773544047440\n",
      "\tWeights computed and normalized.\n",
      "\tParticles Resampled.\n",
      "\tVelocities refreshed.\n",
      "\tProp Moved: 0.9530000000000000\n",
      "\tStep-size kept fixed at: 0.0010000000000000\n"
     ]
    }
   ],
   "source": [
    "DOES_NOT_MATTER = MSAdaptive(generate_settings(\n",
    "        d=d, \n",
    "        N=N,\n",
    "        B=B,\n",
    "        δ=0.001,\n",
    "        δmin=δmin,\n",
    "        εmin=200.0,\n",
    "        min_pm=min_pm,\n",
    "        verbose=True,\n",
    "        εs_fixed=None,\n",
    "        adaptiveε=True,\n",
    "        adaptiveδ=False,\n",
    "        z0_manual=None,\n",
    "        pm_target=0.23,\n",
    "        pm_switch=pm_switch,\n",
    "        prior_seed=1111,\n",
    "        low_memory=True,\n",
    "        integrator='rwm',\n",
    "        εprop_switch=0.01,\n",
    "        ε0_manual=None,\n",
    "        quantile_value=0.5,\n",
    "        initialization='prior',\n",
    "        switch_strategy='pm',\n",
    "        kernel='uniform',\n",
    "        use_autograd=False,\n",
    "        stopping_criterion={'εmin', 'pm', 'maxiter'},\n",
    "        resampling_seed=1234,\n",
    "        mh_kernel_seed=1234,\n",
    "        resampling_scheme='multinomial',\n",
    "        maxiter=100)) #### notice maxiter=1\n",
    "PARTICLES = DOES_NOT_MATTER.sample()"
   ]
  },
  {
   "cell_type": "markdown",
   "id": "32db6208",
   "metadata": {},
   "source": [
    "##### RUN MS-RWM TO CHECK THAT HISTOGRAM IS FLAT FOR THE FIRST 10 OR SO ITERATIONS - RUN IT IN FULL MEMORY"
   ]
  },
  {
   "cell_type": "code",
   "execution_count": 185,
   "id": "1741cb03",
   "metadata": {},
   "outputs": [],
   "source": [
    "BAZ11 = MSAdaptive(generate_settings(d=d, N=N, B=B,\n",
    "        δ=0.1, δmin=δmin, min_pm=min_pm, verbose=False, εs_fixed=None, adaptiveε=True, adaptiveδ=False,\n",
    "        z0_manual=PARTICLES, pm_target=0.23, pm_switch=pm_switch, low_memory=True, integrator='rwm',\n",
    "        εprop_switch=0.01, ε0_manual=DOES_NOT_MATTER.εs[-1], quantile_value=0.5, initialization='manual',\n",
    "        switch_strategy='pm', kernel='uniform',use_autograd=False, stopping_criterion={'εmin', 'pm', 'maxiter'},\n",
    "        resampling_scheme='multinomial', maxiter=500))\n",
    "_ = BAZ11.sample()"
   ]
  },
  {
   "cell_type": "code",
   "execution_count": 184,
   "id": "c0856c5f",
   "metadata": {},
   "outputs": [],
   "source": [
    "BAZ12 = MSAdaptive(generate_settings(d=d, N=N, B=B,\n",
    "        δ=0.05, δmin=δmin, min_pm=min_pm, verbose=False, εs_fixed=None, adaptiveε=True, adaptiveδ=False,\n",
    "        z0_manual=PARTICLES, pm_target=0.23, pm_switch=pm_switch, low_memory=True, integrator='rwm',\n",
    "        εprop_switch=0.01, ε0_manual=DOES_NOT_MATTER.εs[-1], quantile_value=0.5, initialization='manual',\n",
    "        switch_strategy='pm', kernel='uniform',use_autograd=False, stopping_criterion={'εmin', 'pm', 'maxiter'},\n",
    "        resampling_scheme='multinomial', maxiter=500))\n",
    "_ = BAZ12.sample()"
   ]
  },
  {
   "cell_type": "code",
   "execution_count": 199,
   "id": "b9775866",
   "metadata": {},
   "outputs": [],
   "source": [
    "BAZ13 = MSAdaptive(generate_settings(d=d, N=N, B=B,\n",
    "        δ=0.01, δmin=δmin, min_pm=min_pm, verbose=False, εs_fixed=None, adaptiveε=True, adaptiveδ=False,\n",
    "        z0_manual=PARTICLES, pm_target=0.23, pm_switch=pm_switch, low_memory=False, integrator='rwm',\n",
    "        εprop_switch=0.01, ε0_manual=DOES_NOT_MATTER.εs[-1], quantile_value=0.5, initialization='manual',\n",
    "        switch_strategy='pm', kernel='uniform',use_autograd=False, stopping_criterion={'εmin', 'pm', 'maxiter'},\n",
    "        resampling_scheme='multinomial', maxiter=500))\n",
    "_ = BAZ13.sample()"
   ]
  },
  {
   "cell_type": "code",
   "execution_count": 200,
   "id": "750e7685",
   "metadata": {},
   "outputs": [
    {
     "data": {
      "image/png": "[encoded data removed]",
      "text/plain": [
       "<Figure size 1296x288 with 2 Axes>"
      ]
     },
     "metadata": {
      "needs_background": "light"
     },
     "output_type": "display_data"
    }
   ],
   "source": [
    "# At this point, we would like to plot this\n",
    "fig, ax = plt.subplots(figsize=(18, 4), ncols=2, sharex=True, sharey=True)\n",
    "# BAZ11\n",
    "bins = np.arange(start=-0.5, stop=(BAZ11.B+1), step=1)\n",
    "_ = ax[0].hist(BAZ11.K_RESAMPLED[2], bins=bins, edgecolor='k', color='lightsalmon', density=True, label=r'$\\mathregular{\\delta}=0.1$')\n",
    "ax[0].set_xticks(np.arange(BAZ11.B+1))\n",
    "ax[0].legend()\n",
    "# BAZ13 \n",
    "bins = np.arange(start=-0.5, stop=(BAZ13.B+1), step=1)\n",
    "_ = ax[1].hist(BAZ13.K_RESAMPLED[2], bins=bins, edgecolor='k', color='lightsalmon', density=True, label=r'$\\mathregular{\\delta}=0.01$')\n",
    "ax[1].set_xticks(np.arange(BAZ13.B+1))\n",
    "ax[1].legend()\n",
    "plt.tight_layout()\n",
    "plt.savefig('figures/gk20_msrwm_khistogram_two_stepsizes.png')\n",
    "plt.show()"
   ]
  },
  {
   "cell_type": "code",
   "execution_count": 37,
   "id": "b14ae4c2",
   "metadata": {},
   "outputs": [],
   "source": [
    "def plot_histogram(indeces, n):\n",
    "    fig, ax = plt.subplots(figsize=(20, 4))\n",
    "    bins = np.arange(start=-0.5, stop=(20+1), step=1)\n",
    "    _ = ax.hist(indeces[n, :], bins=bins, edgecolor='k', color='lightsalmon')\n",
    "    ax.set_xticks(np.arange(20+1))\n",
    "    return plt.show()\n",
    "resetwarnings()"
   ]
  },
  {
   "cell_type": "code",
   "execution_count": 38,
   "id": "3f13ed34",
   "metadata": {
    "scrolled": true
   },
   "outputs": [
    {
     "data": {
      "application/vnd.jupyter.widget-view+json": {
       "model_id": "a26ac7c1f18d4ca5956ced0f439d4e4a",
       "version_major": 2,
       "version_minor": 0
      },
      "text/plain": [
       "interactive(children=(IntSlider(value=4, description='n', max=9), Output()), _dom_classes=('widget-interact',)…"
      ]
     },
     "metadata": {},
     "output_type": "display_data"
    },
    {
     "data": {
      "text/plain": [
       "<function __main__.<lambda>(n)>"
      ]
     },
     "execution_count": 38,
     "metadata": {},
     "output_type": "execute_result"
    }
   ],
   "source": [
    "interact(lambda n: plot_histogram(BAZ13.K_RESAMPLED[1:, ], n) , n=(0, len(BAZ13.ϵs) - 2))"
   ]
  },
  {
   "cell_type": "markdown",
   "id": "6cdccf70",
   "metadata": {},
   "source": [
    "For $\\delta=0.01$ show the histogram at 3 different time steps."
   ]
  },
  {
   "cell_type": "code",
   "execution_count": 208,
   "id": "57634ece",
   "metadata": {},
   "outputs": [
    {
     "data": {
      "image/png": "[encoded data removed]",
      "text/plain": [
       "<Figure size 1440x288 with 3 Axes>"
      ]
     },
     "metadata": {
      "needs_background": "light"
     },
     "output_type": "display_data"
    }
   ],
   "source": [
    "# At this point, we would like to plot this\n",
    "fig, ax = plt.subplots(figsize=(20, 4), ncols=3, sharex=True, sharey=True)\n",
    "# n=1\n",
    "bins = np.arange(start=-0.5, stop=(BAZ11.B+1), step=1)\n",
    "_ = ax[0].hist(BAZ13.K_RESAMPLED[2], bins=bins, edgecolor='k', color='lightsalmon', density=True, label=r'$n=1$')\n",
    "ax[0].set_xticks(np.arange(BAZ11.B+1))\n",
    "ax[0].legend()\n",
    "# n=10\n",
    "bins = np.arange(start=-0.5, stop=(BAZ13.B+1), step=1)\n",
    "_ = ax[1].hist(BAZ13.K_RESAMPLED[26], bins=bins, edgecolor='k', color='lightsalmon', density=True, label=r'$n=25$')\n",
    "ax[1].set_xticks(np.arange(BAZ13.B+1))\n",
    "ax[1].legend()\n",
    "# n=100\n",
    "bins = np.arange(start=-0.5, stop=(BAZ13.B+1), step=1)\n",
    "_ = ax[2].hist(BAZ13.K_RESAMPLED[51], bins=bins, edgecolor='k', color='lightsalmon', density=True, label=r'$n=50$')\n",
    "ax[2].set_xticks(np.arange(BAZ13.B+1))\n",
    "ax[2].legend()\n",
    "plt.tight_layout()\n",
    "plt.savefig('figures/gk20_msrwm_khistograms_1_25_50.png')\n",
    "plt.show()"
   ]
  },
  {
   "cell_type": "markdown",
   "id": "d5ef9cab",
   "metadata": {},
   "source": [
    "##### TRY AND REPLICATE THIS BUT ONLY RUN IT UNTIL THE SECOND ITERATION OR SO"
   ]
  },
  {
   "cell_type": "markdown",
   "id": "ffeb18e5",
   "metadata": {},
   "source": [
    "It seems that already at the first iteration, the indeces are \"flat\" meaning that the particles have been resampled more or less uniformly. I want to change T for the successive iteration and see how the two histograms differ, that is the histogram from BAZ13 and the histogram from the new resampled particles (if we replicate the entire machanism). "
   ]
  },
  {
   "cell_type": "code",
   "execution_count": null,
   "id": "771e532c",
   "metadata": {},
   "outputs": [],
   "source": [
    "# Since `np.array_equal(BAZ13.ZN[0], BAZ13.starting_particles)` returns True we know the first element of \n",
    "# BAZ13.ZN is indeed the starting particles. \n",
    "# The first elemenet of K resampled is all zeros, because of the `starting_particles` have not been resampled.\n",
    "# However element 1 of K_RESAMPLED corresponds to the resampling indeces used to resample these starting particles"
   ]
  },
  {
   "cell_type": "code",
   "execution_count": 211,
   "id": "d4bb1384",
   "metadata": {},
   "outputs": [
    {
     "data": {
      "image/png": "[encoded data removed]",
      "text/plain": [
       "<Figure size 1440x288 with 1 Axes>"
      ]
     },
     "metadata": {
      "needs_background": "light"
     },
     "output_type": "display_data"
    }
   ],
   "source": [
    "fig, ax = plt.subplots(figsize=(20, 4))\n",
    "bins = np.arange(start=-0.5, stop=(20+1), step=1)\n",
    "_ = ax.hist(BAZ13.K_RESAMPLED[1], bins=bins, edgecolor='k', color='lightsalmon')\n",
    "ax.set_xticks(np.arange(20+1))\n",
    "plt.show()"
   ]
  },
  {
   "cell_type": "code",
   "execution_count": 58,
   "id": "284d3233",
   "metadata": {},
   "outputs": [],
   "source": [
    "# Indeed we can see the histogram is mostly flat. Hence, we now try and see what happens if we were to increase B\n",
    "# but keeping everything else the same. Would it become left-skewed?\n",
    "# BAZ13.ZN[1] are the particles that are the result of the resampling operation in the histogram above"
   ]
  },
  {
   "cell_type": "code",
   "execution_count": 235,
   "id": "c4639ac8",
   "metadata": {},
   "outputs": [],
   "source": [
    "def compute_resampling_indeces(B, δ):\n",
    "    # Construct integrator and trajectory\n",
    "    ψ = BAZ13.ψ_generator(B, δ)\n",
    "    z = BAZ13.ZN[1]\n",
    "    Z = np.apply_along_axis(ψ, 1, z)\n",
    "    # Compute next tolerance (should always be the same: independent of B or δ)\n",
    "    distances = norm(np.apply_along_axis(BAZ13.manifold.q, 1, z[:, :BAZ13.d]), axis=1)\n",
    "    ε      = min(BAZ13.εs[1], np.quantile(np.unique(distances), 0.5))\n",
    "    log_ηε_n   = FilamentaryDistribution(BAZ13.manifold.generate_logηε, ε)\n",
    "    log_ηε_nm1 = BAZ13.log_ηs[1]\n",
    "    # Compute weights \n",
    "    log_μnm1_z  = np.apply_along_axis(log_ηε_nm1, 1, Z[:, 0, :BAZ13.d])         # (N, )\n",
    "    log_μnm1_z  = np.repeat(log_μnm1_z, B+1, axis=0).reshape(BAZ13.N, B+1) # (N, B+1)\n",
    "    log_μn_ψk_z = np.apply_along_axis(log_ηε_n, 2, Z[:, :, :BAZ13.d])\n",
    "    W  = BAZ13._compute_weights(log_μnm1_z, log_μn_ψk_z)\n",
    "    # Print ESS\n",
    "    ESS_MS = 1 / np.sum(W**2)\n",
    "    # Resample\n",
    "    resampling_indeces = BAZ13.resampling_rng.choice(a=np.arange(BAZ13.N*(B+1)), size=BAZ13.N, p=W.flatten())\n",
    "    unravelled_indeces = np.unravel_index(resampling_indeces, (BAZ13.N, B+1))\n",
    "    k_resampled = unravelled_indeces[1]\n",
    "    indeces = np.dstack(unravelled_indeces).squeeze()\n",
    "    # Compute ESS of underlying SMC\n",
    "    smc_weights = []\n",
    "    for ix in indeces[:2]:\n",
    "        mean_weight = W[ix[0], :].mean()\n",
    "        smc_weights.append(mean_weight*exp(log_ηε_n(Z[ix[0], 0, :BAZ13.d]) - log_ηε_nm1(Z[ix[0], 0, :BAZ13.d])))\n",
    "    ESS_SMC = 1 / np.sum(np.array(smc_weights)**2)\n",
    "    # Compute jump squared distance (?) compute it only on the x component\n",
    "    z_new = vstack([Z[tuple(ix)] for ix in indeces]) \n",
    "    SJD = np.mean(norm(z_new[:, :BAZ13.d] - z[:, :BAZ13.d], axis=1)**2)\n",
    "    return k_resampled, ESS_MS, ESS_SMC, SJD"
   ]
  },
  {
   "cell_type": "code",
   "execution_count": 236,
   "id": "67e0b7f1",
   "metadata": {},
   "outputs": [],
   "source": [
    "indeces_B100_δfixed, ESS_B100_δfixed, ESS_SMC_B100_δfixed, SJD_B100_δfixed = compute_resampling_indeces(100, BAZ13.δ)"
   ]
  },
  {
   "cell_type": "code",
   "execution_count": 237,
   "id": "e67b51f3",
   "metadata": {},
   "outputs": [],
   "source": [
    "indeces_Bfixed_δ5, ESS_Bfixed_δ5, ESS_SMC_Bfixed_δ5, SJD_Bfixed_δ5 = compute_resampling_indeces(BAZ13.B, BAZ13.δ*5)"
   ]
  },
  {
   "cell_type": "code",
   "execution_count": 238,
   "id": "4a3db04f",
   "metadata": {},
   "outputs": [],
   "source": [
    "indeces_same, ESS_same, ESS_SMC_same, SJD_same = compute_resampling_indeces(BAZ13.B, BAZ13.δ)"
   ]
  },
  {
   "cell_type": "code",
   "execution_count": 239,
   "id": "1dd35422",
   "metadata": {},
   "outputs": [
    {
     "data": {
      "image/png": "[encoded data removed]",
      "text/plain": [
       "<Figure size 1440x720 with 3 Axes>"
      ]
     },
     "metadata": {
      "needs_background": "light"
     },
     "output_type": "display_data"
    }
   ],
   "source": [
    "# At this point, we would like to plot this\n",
    "fig, ax = plt.subplots(figsize=(20, 10), nrows=3, sharex=True, sharey=True)\n",
    "# WHAT WE WOULD HAVE GOT\n",
    "bins = np.arange(start=-0.5, stop=(BAZ13.B+1), step=1)\n",
    "_ = ax[0].hist(BAZ13.K_RESAMPLED[2], bins=bins, edgecolor='k', color='lightsalmon', density=True, label='B=20, δ=0.01')\n",
    "ax[0].set_xticks(np.arange(BAZ13.B+1))\n",
    "ax[0].legend(fontsize=20)\n",
    "# KEEP B FIXED, INCREASED DELTA\n",
    "bins = np.arange(start=-0.5, stop=(BAZ13.B+1), step=1)\n",
    "_ = ax[1].hist(indeces_Bfixed_δ5, bins=bins, edgecolor='k', color='lightsalmon', density=True, label='B=20, δ=0.05')\n",
    "ax[1].set_xticks(np.arange(BAZ13.B+1)[::2])\n",
    "ax[1].legend(fontsize=20)\n",
    "# INCREASE B, KEEP DELTA FIXED\n",
    "bins = np.arange(start=-0.5, stop=(BAZ13.B*5+1), step=1)\n",
    "_ = ax[2].hist(indeces_B100_δfixed, bins=bins, edgecolor='k', color='lightsalmon', density=True, label='B=100, δ=0.01')\n",
    "ax[2].set_xticks(np.arange(BAZ13.B*5+1)[::2])\n",
    "ax[2].legend(fontsize=20)\n",
    "plt.tight_layout()\n",
    "plt.savefig('figures/gk20_msrwm_histogram_increaseB_or_delta.png')\n",
    "plt.show()"
   ]
  },
  {
   "cell_type": "markdown",
   "id": "de8a989a",
   "metadata": {},
   "source": [
    "The question now is, which one of the two behaviors is better? Ideally, if we have fixed $B$ then we would like to keep that fixed and only change $\\delta$. Here, in particular, it is much faster to perform $20$ steps with a step size five times larger, rather than keep the step size the same and increase $B$ by $5$ times. If we can show that somehow we travel the same distance through the ESS or AP, then we are game."
   ]
  },
  {
   "cell_type": "code",
   "execution_count": 123,
   "id": "1bd5a619",
   "metadata": {},
   "outputs": [
    {
     "data": {
      "text/plain": [
       "(True, 37588.54911495799)"
      ]
     },
     "execution_count": 123,
     "metadata": {},
     "output_type": "execute_result"
    }
   ],
   "source": [
    "BAZ13.ESS[2] == ESS_same, ESS_same"
   ]
  },
  {
   "cell_type": "code",
   "execution_count": 115,
   "id": "42691e29",
   "metadata": {},
   "outputs": [
    {
     "data": {
      "text/plain": [
       "4117.7513028323665"
      ]
     },
     "execution_count": 115,
     "metadata": {},
     "output_type": "execute_result"
    }
   ],
   "source": [
    "ESS_B100_δfixed"
   ]
  },
  {
   "cell_type": "code",
   "execution_count": 116,
   "id": "5d948a0e",
   "metadata": {},
   "outputs": [
    {
     "data": {
      "text/plain": [
       "877.2219216376595"
      ]
     },
     "execution_count": 116,
     "metadata": {},
     "output_type": "execute_result"
    }
   ],
   "source": [
    "ESS_Bfixed_δ5"
   ]
  },
  {
   "cell_type": "markdown",
   "id": "672b0980",
   "metadata": {},
   "source": [
    "Why are ESS so drastically different? What is going wrong? Let's have a look at the acceptance probabilities"
   ]
  },
  {
   "cell_type": "code",
   "execution_count": 120,
   "id": "27c0e4fb",
   "metadata": {},
   "outputs": [
    {
     "data": {
      "text/plain": [
       "94.86"
      ]
     },
     "execution_count": 120,
     "metadata": {},
     "output_type": "execute_result"
    }
   ],
   "source": [
    "(sum(indeces_same >= 1) / BAZ13.N) * 100"
   ]
  },
  {
   "cell_type": "code",
   "execution_count": 121,
   "id": "65ff1e8d",
   "metadata": {},
   "outputs": [
    {
     "data": {
      "text/plain": [
       "98.08"
      ]
     },
     "execution_count": 121,
     "metadata": {},
     "output_type": "execute_result"
    }
   ],
   "source": [
    "(sum(indeces_B100_δfixed >= 1) / BAZ13.N) * 100"
   ]
  },
  {
   "cell_type": "code",
   "execution_count": 122,
   "id": "3368ad28",
   "metadata": {},
   "outputs": [
    {
     "data": {
      "text/plain": [
       "91.2"
      ]
     },
     "execution_count": 122,
     "metadata": {},
     "output_type": "execute_result"
    }
   ],
   "source": [
    "(sum(indeces_Bfixed_δ5 >= 1) / BAZ13.N) * 100"
   ]
  },
  {
   "cell_type": "markdown",
   "id": "1c98dffb",
   "metadata": {},
   "source": [
    "These also look good. Could it be there is something wrong with the weights? I seem to get MUCH MUCH better ess when the histogram is flat?? let's try with a smaller multiplier for $\\delta$"
   ]
  },
  {
   "cell_type": "code",
   "execution_count": 124,
   "id": "8cacb490",
   "metadata": {},
   "outputs": [
    {
     "data": {
      "text/plain": [
       "8879.60685638379"
      ]
     },
     "execution_count": 124,
     "metadata": {},
     "output_type": "execute_result"
    }
   ],
   "source": [
    "compute_resampling_indeces(BAZ13.B, BAZ13.δ*2)[1] # mmm.. I am decreasing the multiplier and get larger ESS?"
   ]
  },
  {
   "cell_type": "code",
   "execution_count": 125,
   "id": "8c4577e0",
   "metadata": {},
   "outputs": [
    {
     "data": {
      "text/plain": [
       "37588.54911495799"
      ]
     },
     "execution_count": 125,
     "metadata": {},
     "output_type": "execute_result"
    }
   ],
   "source": [
    "compute_resampling_indeces(BAZ13.B, BAZ13.δ)[1] # this makes sense, I am getting the same result, it is deterministic afterall"
   ]
  },
  {
   "cell_type": "markdown",
   "id": "fa98dcd8",
   "metadata": {},
   "source": [
    "Let's try an altogether smaller step size then..."
   ]
  },
  {
   "cell_type": "code",
   "execution_count": 127,
   "id": "9fe8c675",
   "metadata": {},
   "outputs": [
    {
     "data": {
      "text/plain": [
       "48446.65203016309"
      ]
     },
     "execution_count": 127,
     "metadata": {},
     "output_type": "execute_result"
    }
   ],
   "source": [
    "compute_resampling_indeces(BAZ13.B, BAZ13.δ*0.5)[1] # WHAT??? how is this higher??"
   ]
  },
  {
   "cell_type": "code",
   "execution_count": 128,
   "id": "5a9481b0",
   "metadata": {},
   "outputs": [
    {
     "data": {
      "text/plain": [
       "52709.1560706304"
      ]
     },
     "execution_count": 128,
     "metadata": {},
     "output_type": "execute_result"
    }
   ],
   "source": [
    "compute_resampling_indeces(BAZ13.B, BAZ13.δ*0.1)[1] # fuck off"
   ]
  },
  {
   "cell_type": "code",
   "execution_count": 129,
   "id": "353b152b",
   "metadata": {},
   "outputs": [
    {
     "data": {
      "text/plain": [
       "52837.32213757799"
      ]
     },
     "execution_count": 129,
     "metadata": {},
     "output_type": "execute_result"
    }
   ],
   "source": [
    "compute_resampling_indeces(BAZ13.B, BAZ13.δ*0.01)[1] # okay so we are reaching a limit. eventually should become smaller?"
   ]
  },
  {
   "cell_type": "code",
   "execution_count": 130,
   "id": "181952c7",
   "metadata": {},
   "outputs": [
    {
     "data": {
      "text/plain": [
       "52849.98325015439"
      ]
     },
     "execution_count": 130,
     "metadata": {},
     "output_type": "execute_result"
    }
   ],
   "source": [
    "compute_resampling_indeces(BAZ13.B, BAZ13.δ*0.001)[1] "
   ]
  },
  {
   "cell_type": "markdown",
   "id": "e440ec06",
   "metadata": {},
   "source": [
    "Maybe ESS is not the best metric.. although here we are not even in the filamentary regime yet, epsilon is relatively large (around $28$).\n",
    "\n",
    "> IDEA: The weights I am using to compute the ESS are actually the Markov-Snippets weights. It is not clear to me\n",
    "that the notion of ESS is well-defined on these weights. Perhaps I should try and compute the SMC-related weights\n",
    "that we see from the theory and compute the ESS on those instead. Basically on the weights of the particles that get actually resampled, except we need to transform the weights to be the SMC ones."
   ]
  },
  {
   "cell_type": "code",
   "execution_count": 179,
   "id": "f456aaee",
   "metadata": {},
   "outputs": [
    {
     "data": {
      "text/plain": [
       "26.73139295533418"
      ]
     },
     "execution_count": 179,
     "metadata": {},
     "output_type": "execute_result"
    }
   ],
   "source": [
    "compute_resampling_indeces(BAZ13.B, BAZ13.δ*2)[2] "
   ]
  },
  {
   "cell_type": "code",
   "execution_count": 180,
   "id": "46be340b",
   "metadata": {},
   "outputs": [
    {
     "data": {
      "text/plain": [
       "1.377543809368532"
      ]
     },
     "execution_count": 180,
     "metadata": {},
     "output_type": "execute_result"
    }
   ],
   "source": [
    "compute_resampling_indeces(BAZ13.B, BAZ13.δ)[2] "
   ]
  },
  {
   "cell_type": "code",
   "execution_count": 181,
   "id": "3159192c",
   "metadata": {},
   "outputs": [
    {
     "data": {
      "text/plain": [
       "32.36653171125359"
      ]
     },
     "execution_count": 181,
     "metadata": {},
     "output_type": "execute_result"
    }
   ],
   "source": [
    "compute_resampling_indeces(BAZ13.B, BAZ13.δ*0.5)[2] "
   ]
  },
  {
   "cell_type": "markdown",
   "id": "0c2cfd0e",
   "metadata": {},
   "source": [
    "### Mean Squared Jump Distance"
   ]
  },
  {
   "cell_type": "markdown",
   "id": "6b726119",
   "metadata": {},
   "source": [
    "Let's test the difference in terms of Mean Squared Jump Distance"
   ]
  },
  {
   "cell_type": "code",
   "execution_count": 411,
   "id": "37c23b18",
   "metadata": {},
   "outputs": [],
   "source": [
    "def something(B, δ):\n",
    "    # Construct integrator and trajectory\n",
    "    ψ = BAZ13.ψ_generator(B, δ)\n",
    "    z = BAZ13.ZN[1]\n",
    "    Z = np.apply_along_axis(ψ, 1, z)\n",
    "    # Compute next tolerance (should always be the same: independent of B or δ)\n",
    "    distances = norm(np.apply_along_axis(BAZ13.manifold.q, 1, z[:, :BAZ13.d]), axis=1)\n",
    "    ε      = min(BAZ13.εs[1], np.quantile(np.unique(distances), 0.5))\n",
    "    log_ηε_n   = FilamentaryDistribution(BAZ13.manifold.generate_logηε, ε)\n",
    "    log_ηε_nm1 = BAZ13.log_ηs[1]\n",
    "    # Compute weights \n",
    "    log_μnm1_z  = np.apply_along_axis(log_ηε_nm1, 1, Z[:, 0, :BAZ13.d])         # (N, )\n",
    "    log_μnm1_z  = np.repeat(log_μnm1_z, B+1, axis=0).reshape(BAZ13.N, B+1) # (N, B+1)\n",
    "    log_μn_ψk_z = np.apply_along_axis(log_ηε_n, 2, Z[:, :, :BAZ13.d])\n",
    "    W  = BAZ13._compute_weights(log_μnm1_z, log_μn_ψk_z)\n",
    "    # Print ESS\n",
    "    ESS_MS = 1 / np.sum(W**2)\n",
    "    # Resample\n",
    "    resampling_indeces = BAZ13.resampling_rng.choice(a=np.arange(BAZ13.N*(B+1)), size=BAZ13.N, p=W.flatten())\n",
    "    unravelled_indeces = np.unravel_index(resampling_indeces, (BAZ13.N, B+1))\n",
    "    k_resampled = unravelled_indeces[1]\n",
    "    indeces = np.dstack(unravelled_indeces).squeeze()\n",
    "    # Compute ESS of underlying SMC\n",
    "    smc_weights = []\n",
    "    for ix in indeces[:2]:\n",
    "        mean_weight = W[ix[0], :].mean()\n",
    "        smc_weights.append(mean_weight*exp(log_ηε_n(Z[ix[0], 0, :BAZ13.d]) - log_ηε_nm1(Z[ix[0], 0, :BAZ13.d])))\n",
    "    ESS_SMC = 1 / np.sum(np.array(smc_weights)**2)\n",
    "    # Compute jump squared distance (?) compute it only on the x component\n",
    "    z_new = vstack([Z[tuple(ix)] for ix in indeces]) \n",
    "    MSJD = np.mean(norm(unravelled_indeces[1].reshape(-1, 1)*z[unravelled_indeces[0], BAZ13.d:]*δ, axis=1)**2)\n",
    "    return unravelled_indeces, z, z_new, MSJD"
   ]
  },
  {
   "cell_type": "code",
   "execution_count": 395,
   "id": "632602ff",
   "metadata": {},
   "outputs": [],
   "source": [
    "_, _, _, MSJD = something(B, δ)"
   ]
  },
  {
   "cell_type": "code",
   "execution_count": 396,
   "id": "d21b1621",
   "metadata": {},
   "outputs": [],
   "source": [
    "_, _, _, MSJD_B5 = something(int(B*5), δ)"
   ]
  },
  {
   "cell_type": "code",
   "execution_count": 397,
   "id": "cf9a3048",
   "metadata": {},
   "outputs": [],
   "source": [
    "_, _, _, MSJD_δ5 = something(B, δ*5)"
   ]
  },
  {
   "cell_type": "code",
   "execution_count": 401,
   "id": "4f576157",
   "metadata": {},
   "outputs": [
    {
     "data": {
      "text/plain": [
       "(0.3276016851129446, 4.742943377441939, 4.549299670491783)"
      ]
     },
     "execution_count": 401,
     "metadata": {},
     "output_type": "execute_result"
    }
   ],
   "source": [
    "np.mean(MSJD), np.mean(MSJD_B5), np.mean(MSJD_δ5)"
   ]
  },
  {
   "cell_type": "markdown",
   "id": "f313bfbc",
   "metadata": {},
   "source": [
    "By how much should we increase $\\delta$? Let's have a look in this example. "
   ]
  },
  {
   "cell_type": "code",
   "execution_count": 416,
   "id": "3fe67af8",
   "metadata": {},
   "outputs": [],
   "source": [
    "δs = np.linspace(start=δ, stop=100*δ, num=100)"
   ]
  },
  {
   "cell_type": "code",
   "execution_count": 417,
   "id": "a7a81d61",
   "metadata": {},
   "outputs": [],
   "source": [
    "MSJDs = [something(B, δδδ)[3] for δδδ in δs]"
   ]
  },
  {
   "cell_type": "code",
   "execution_count": 425,
   "id": "fb4bf00b",
   "metadata": {},
   "outputs": [
    {
     "data": {
      "image/png": "[encoded data removed]",
      "text/plain": [
       "<Figure size 576x288 with 1 Axes>"
      ]
     },
     "metadata": {
      "needs_background": "light"
     },
     "output_type": "display_data"
    }
   ],
   "source": [
    "fig, ax = plt.subplots(figsize=(8, 4))\n",
    "ax.plot(δs, MSJDs)\n",
    "ax.set_xlabel(r\"$\\mathregular{\\delta}$\", fontsize=15)\n",
    "ax.set_ylabel(\"MSJD\", fontsize=15)\n",
    "ax.set_xscale('log')\n",
    "plt.savefig(\"figures/gk20_msrwm_msjd_over_deltas.png\")\n",
    "plt.show()"
   ]
  },
  {
   "cell_type": "code",
   "execution_count": 445,
   "id": "f98e2c9f",
   "metadata": {},
   "outputs": [],
   "source": [
    "some_function       = lambda k, δ: np.exp(-k*δ*d*(1 + k*δ))\n",
    "some_other_function = lambda k: some_function(k, 1)"
   ]
  },
  {
   "cell_type": "code",
   "execution_count": 452,
   "id": "bb1b1a4f",
   "metadata": {},
   "outputs": [
    {
     "data": {
      "image/png": "[encoded data removed]",
      "text/plain": [
       "<Figure size 1440x288 with 5 Axes>"
      ]
     },
     "metadata": {
      "needs_background": "light"
     },
     "output_type": "display_data"
    }
   ],
   "source": [
    "k_values = np.arange(B)\n",
    "δ_values = [0.05, 0.1, 0.5, 1.0, 2.0]\n",
    "fig, ax = plt.subplots(figsize=(20, 4), ncols=len(δ_values))\n",
    "for δix, δ in enumerate(δ_values):\n",
    "    some_function       = lambda k, δ: np.exp(k*δ*d*(1 - k*δ))\n",
    "    some_other_function = lambda k: some_function(k, δ)\n",
    "    ax[δix].plot(k_values, some_other_function(k_values)*k_values*δ)"
   ]
  },
  {
   "cell_type": "markdown",
   "id": "8843606b",
   "metadata": {},
   "source": [
    "Let's have a look at how the median changes."
   ]
  },
  {
   "cell_type": "code",
   "execution_count": 472,
   "id": "1ffa5952",
   "metadata": {},
   "outputs": [
    {
     "data": {
      "image/png": "[encoded data removed]",
      "text/plain": [
       "<Figure size 1152x288 with 2 Axes>"
      ]
     },
     "metadata": {
      "needs_background": "light"
     },
     "output_type": "display_data"
    }
   ],
   "source": [
    "fig, ax = plt.subplots(ncols=2, figsize=(16, 4))\n",
    "ax[0].plot(BAZ13.εs[1:], np.quantile(BAZ13.K_RESAMPLED[1:], q=0.5, axis=1))\n",
    "ax[0].set_xscale('log')\n",
    "ax[1].plot(BAZ13.εs[1:], BAZ13.ESS[1:])\n",
    "ax[1].set_xscale('log')"
   ]
  },
  {
   "cell_type": "markdown",
   "id": "e0f0e3d7",
   "metadata": {},
   "source": [
    "Let's see ESS and AP in terms of the median"
   ]
  },
  {
   "cell_type": "code",
   "execution_count": 486,
   "id": "de5767a4",
   "metadata": {},
   "outputs": [
    {
     "data": {
      "image/png": "[encoded data removed]",
      "text/plain": [
       "<Figure size 1440x288 with 3 Axes>"
      ]
     },
     "metadata": {
      "needs_background": "light"
     },
     "output_type": "display_data"
    }
   ],
   "source": [
    "medians = np.quantile(BAZ13.K_RESAMPLED[1:], q=0.5, axis=1)\n",
    "fig, ax = plt.subplots(ncols=3, figsize=(20, 4), sharex=True)\n",
    "ax[0].plot(medians, BAZ13.ESS[1:])\n",
    "ax[1].plot(medians, BAZ13.PROP_MOVED[1:])\n",
    "ax[2].plot(medians, BAZ13.εs[1:])\n",
    "ax[1].set_xlabel(\"Median of Resampled Indeces\", fontsize=15)\n",
    "ax[0].set_ylabel(\"ESS\", fontsize=15)\n",
    "ax[1].set_ylabel(\"PROP MOVED\", fontsize=15)\n",
    "ax[2].set_ylabel(r\"$\\mathregular{\\epsilon}$\", fontsize=15)\n",
    "plt.tight_layout()\n",
    "plt.savefig(\"figures/metrics_over_median_indeces.png\")\n",
    "plt.show()"
   ]
  },
  {
   "cell_type": "code",
   "execution_count": 491,
   "id": "e1176685",
   "metadata": {},
   "outputs": [
    {
     "data": {
      "image/png": "[encoded data removed]",
      "text/plain": [
       "<Figure size 432x288 with 1 Axes>"
      ]
     },
     "metadata": {
      "needs_background": "light"
     },
     "output_type": "display_data"
    }
   ],
   "source": [
    "plt.plot(medians)\n",
    "plt.show()"
   ]
  },
  {
   "cell_type": "markdown",
   "id": "c426d859",
   "metadata": {},
   "source": [
    "The steepest change in the median happens in an interval in the middle. Could always try and aim to be within\n",
    "$$\n",
    "\\tau^{(0.5)}\\in\\left[\\frac{B}{2}\\rho, \\frac{B}{2}(1-\\rho)\\right]\n",
    "$$\n",
    "for $\\rho\\in[0,1]$ and more concretely $\\rho \\approx 0.2$.\n"
   ]
  },
  {
   "cell_type": "code",
   "execution_count": null,
   "id": "f45fa656",
   "metadata": {},
   "outputs": [],
   "source": []
  }
 ],
 "metadata": {
  "kernelspec": {
   "display_name": "Python 3 (ipykernel)",
   "language": "python",
   "name": "python3"
  },
  "language_info": {
   "codemirror_mode": {
    "name": "ipython",
    "version": 3
   },
   "file_extension": ".py",
   "mimetype": "text/x-python",
   "name": "python",
   "nbconvert_exporter": "python",
   "pygments_lexer": "ipython3",
   "version": "3.10.4"
  }
 },
 "nbformat": 4,
 "nbformat_minor": 5
}
