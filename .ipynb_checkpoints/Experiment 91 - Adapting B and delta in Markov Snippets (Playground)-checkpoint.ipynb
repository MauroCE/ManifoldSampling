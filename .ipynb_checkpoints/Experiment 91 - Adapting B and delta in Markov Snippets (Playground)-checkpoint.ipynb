{
 "cells": [
  {
   "cell_type": "markdown",
   "id": "bf24dea1",
   "metadata": {},
   "source": [
    "# Adapting B and $\\delta$ based on Histograms"
   ]
  },
  {
   "cell_type": "code",
   "execution_count": 19,
   "id": "4ec66675",
   "metadata": {},
   "outputs": [],
   "source": [
    "import numpy as np\n",
    "from numpy import zeros, eye, array, diag, exp, ones, tanh, cosh, dstack, log, hstack, vstack, sinh\n",
    "from numpy.linalg import solve, norm\n",
    "from numpy.random import choice, default_rng, randint, randn\n",
    "from scipy.stats import multivariate_normal as MVN\n",
    "from scipy.special import logsumexp, ndtr\n",
    "from scipy.stats import uniform as udist\n",
    "import math\n",
    "import time\n",
    "from copy import deepcopy\n",
    "\n",
    "import matplotlib.pyplot as plt\n",
    "from matplotlib import rc\n",
    "from ipywidgets.widgets import IntSlider\n",
    "from ipywidgets.widgets import interact\n",
    "from warnings import resetwarnings, catch_warnings, filterwarnings\n",
    "import seaborn as sns\n",
    "\n",
    "from Manifolds.GKManifoldNew import GKManifold, data_generator, find_point_on_manifold, find_point_on_manifold_from_θ\n",
    "from markov_snippets import MSAdaptive, SMCAdaptive, FilamentaryDistribution\n",
    "from tangential_hug_functions import TangentialHugSampler\n",
    "from tangential_hug_functions import HugTangentialMultivariate\n",
    "from RWM import RWM\n",
    "from utils import ESS_univariate"
   ]
  },
  {
   "cell_type": "code",
   "execution_count": 2,
   "id": "75b971da",
   "metadata": {},
   "outputs": [],
   "source": [
    "seed = 1234\n",
    "m = 20     # number of latent variables\n",
    "d = m + 4  # dimensionality of x-component"
   ]
  },
  {
   "cell_type": "code",
   "execution_count": 280,
   "id": "ec2bd488",
   "metadata": {},
   "outputs": [],
   "source": [
    "def generate_settings(\n",
    "    d=d, \n",
    "    N=2000,\n",
    "    B=20,\n",
    "    δ=0.01,\n",
    "    δmin=1e-3,\n",
    "    δmax=100.0,\n",
    "    εmin=1e-16,\n",
    "    min_pm=1e-4,\n",
    "    maxiter=500,\n",
    "    verbose=False,\n",
    "    εs_fixed=None,\n",
    "    adaptiveε=True,\n",
    "    adaptiveδ=False,\n",
    "    z0_manual=None,\n",
    "    pm_target=0.23,\n",
    "    pm_switch=0.1,\n",
    "    prior_seed=seed,\n",
    "    low_memory=True,\n",
    "    integrator='rwm',\n",
    "    εprop_switch=0.01,\n",
    "    ε0_manual=None,\n",
    "    quantile_value=0.9,\n",
    "    initialization='manual',\n",
    "    switch_strategy='pm',\n",
    "    kernel='uniform',\n",
    "    prior_scale=7,\n",
    "    thinning=10,\n",
    "    burnin=100,\n",
    "    use_autograd=False,\n",
    "    stopping_criterion={'εmin', 'pm'},\n",
    "    resampling_seed=1234,\n",
    "    mh_kernel_seed=1234,\n",
    "    resampling_scheme='multinomial',\n",
    "    prop_hug=0.5,\n",
    "    projection_method='qr',\n",
    "    metropolised=False,\n",
    "    δadaptation_method='ap',\n",
    "    prop_esjd=0.95):\n",
    "    # here d represents m+4\n",
    "    # Generate the manifold\n",
    "    θ0        = array([3.0, 1.0, 2.0, 0.5])       # True parameter value on U(0, 10) scale.\n",
    "    ystar     = data_generator(θ0, m, seed=seed)  # Observed data\n",
    "    q         = MVN(zeros(d), eye(d))             # Proposal distribution for THUG\n",
    "    resetwarnings()\n",
    "    manifold  = GKManifold(ystar, kernel_type=kernel, use_autograd=use_autograd)\n",
    "    # grab arguments\n",
    "    arguments = locals()\n",
    "    return arguments"
   ]
  },
  {
   "cell_type": "code",
   "execution_count": 4,
   "id": "a75f50b0",
   "metadata": {},
   "outputs": [],
   "source": [
    "N      = 5000\n",
    "B      = 20\n",
    "δmin   = 1e-3\n",
    "min_pm = 1e-4\n",
    "pm_switch = 0.1"
   ]
  },
  {
   "cell_type": "markdown",
   "id": "5716a412",
   "metadata": {},
   "source": [
    "# GRAB PARTICLES"
   ]
  },
  {
   "cell_type": "code",
   "execution_count": 5,
   "id": "5059f3d1",
   "metadata": {
    "scrolled": true
   },
   "outputs": [
    {
     "name": "stdout",
     "output_type": "stream",
     "text": [
      "Integrator: RWM.\n",
      "Stopping criterion:  maxiter, εmin, pm.\n",
      "Resampling: MULTINOMIAL.\n",
      "Setting initial epsilon to εmax = 2530215592974.9248046875000000\n",
      "Iteration:  1\n",
      "\tQuantile Value:  0.5\n",
      "\tTrajectories constructed.\n",
      "\tEpsilon: 26533.7574199330774718\n",
      "\tWeights computed and normalized.\n",
      "\tParticles Resampled.\n",
      "\tVelocities refreshed.\n",
      "\tProp Moved: 0.9452000000000000\n",
      "\tStep-size kept fixed at: 0.0010000000000000\n",
      "Iteration:  2\n",
      "\tQuantile Value:  0.5\n",
      "\tTrajectories constructed.\n",
      "\tEpsilon: 565.3519731500406351\n",
      "\tWeights computed and normalized.\n",
      "\tParticles Resampled.\n",
      "\tVelocities refreshed.\n",
      "\tProp Moved: 0.9516000000000000\n",
      "\tStep-size kept fixed at: 0.0010000000000000\n",
      "Iteration:  3\n",
      "\tQuantile Value:  0.5\n",
      "\tTrajectories constructed.\n",
      "\tEpsilon: 102.9408692591415644\n",
      "\tWeights computed and normalized.\n",
      "\tParticles Resampled.\n",
      "\tVelocities refreshed.\n",
      "\tProp Moved: 0.9514000000000000\n",
      "\tStep-size kept fixed at: 0.0010000000000000\n"
     ]
    }
   ],
   "source": [
    "DOES_NOT_MATTER = MSAdaptive(generate_settings(\n",
    "        d=d, \n",
    "        N=N,\n",
    "        B=B,\n",
    "        δ=0.001,\n",
    "        δmin=δmin,\n",
    "        εmin=200.0,\n",
    "        min_pm=min_pm,\n",
    "        verbose=True,\n",
    "        εs_fixed=None,\n",
    "        adaptiveε=True,\n",
    "        adaptiveδ=False,\n",
    "        z0_manual=None,\n",
    "        pm_target=0.23,\n",
    "        pm_switch=pm_switch,\n",
    "        prior_seed=1111,\n",
    "        low_memory=True,\n",
    "        integrator='rwm',\n",
    "        εprop_switch=0.01,\n",
    "        ε0_manual=None,\n",
    "        quantile_value=0.5,\n",
    "        initialization='prior',\n",
    "        switch_strategy='pm',\n",
    "        kernel='uniform',\n",
    "        use_autograd=False,\n",
    "        stopping_criterion={'εmin', 'pm', 'maxiter'},\n",
    "        resampling_seed=1234,\n",
    "        mh_kernel_seed=1234,\n",
    "        resampling_scheme='multinomial',\n",
    "        maxiter=100)) #### notice maxiter=1\n",
    "PARTICLES = DOES_NOT_MATTER.sample()"
   ]
  },
  {
   "cell_type": "markdown",
   "id": "7750b6e2",
   "metadata": {},
   "source": [
    "# RUN MS-RWM TO CHECK THAT HISTOGRAM IS FLAT FOR THE FIRST FEW - RUN IT IN FULL MEMORY"
   ]
  },
  {
   "cell_type": "markdown",
   "id": "ee33fd43",
   "metadata": {},
   "source": [
    "Also run $\\delta=0.1, 0.05$ for reference."
   ]
  },
  {
   "cell_type": "code",
   "execution_count": 6,
   "id": "0d22c442",
   "metadata": {},
   "outputs": [],
   "source": [
    "BAZ11 = MSAdaptive(generate_settings(d=d, N=N, B=B,\n",
    "        δ=0.1, δmin=δmin, min_pm=min_pm, verbose=False, εs_fixed=None, adaptiveε=True, adaptiveδ=False,\n",
    "        z0_manual=PARTICLES, pm_target=0.23, pm_switch=pm_switch, low_memory=True, integrator='rwm',\n",
    "        εprop_switch=0.01, ε0_manual=DOES_NOT_MATTER.εs[-1], quantile_value=0.5, initialization='manual',\n",
    "        switch_strategy='pm', kernel='uniform',use_autograd=False, stopping_criterion={'εmin', 'pm', 'maxiter'},\n",
    "        resampling_scheme='multinomial', maxiter=500))\n",
    "_ = BAZ11.sample()"
   ]
  },
  {
   "cell_type": "code",
   "execution_count": 7,
   "id": "64095ff5",
   "metadata": {},
   "outputs": [],
   "source": [
    "BAZ12 = MSAdaptive(generate_settings(d=d, N=N, B=B,\n",
    "        δ=0.05, δmin=δmin, min_pm=min_pm, verbose=False, εs_fixed=None, adaptiveε=True, adaptiveδ=False,\n",
    "        z0_manual=PARTICLES, pm_target=0.23, pm_switch=pm_switch, low_memory=True, integrator='rwm',\n",
    "        εprop_switch=0.01, ε0_manual=DOES_NOT_MATTER.εs[-1], quantile_value=0.5, initialization='manual',\n",
    "        switch_strategy='pm', kernel='uniform',use_autograd=False, stopping_criterion={'εmin', 'pm', 'maxiter'},\n",
    "        resampling_scheme='multinomial', maxiter=500))\n",
    "_ = BAZ12.sample()"
   ]
  },
  {
   "cell_type": "markdown",
   "id": "8d2a0f4c",
   "metadata": {},
   "source": [
    "This is the one in full memory, and the one of interest."
   ]
  },
  {
   "cell_type": "code",
   "execution_count": 8,
   "id": "74346136",
   "metadata": {},
   "outputs": [],
   "source": [
    "BAZ13 = MSAdaptive(generate_settings(d=d, N=N, B=B,\n",
    "        δ=0.01, δmin=δmin, min_pm=min_pm, verbose=False, εs_fixed=None, adaptiveε=True, adaptiveδ=False,\n",
    "        z0_manual=PARTICLES, pm_target=0.23, pm_switch=pm_switch, low_memory=False, integrator='rwm',\n",
    "        εprop_switch=0.01, ε0_manual=DOES_NOT_MATTER.εs[-1], quantile_value=0.5, initialization='manual',\n",
    "        switch_strategy='pm', kernel='uniform',use_autograd=False, stopping_criterion={'εmin', 'pm', 'maxiter'},\n",
    "        resampling_scheme='multinomial', maxiter=500))\n",
    "_ = BAZ13.sample()"
   ]
  },
  {
   "cell_type": "code",
   "execution_count": 9,
   "id": "f28ae22d",
   "metadata": {},
   "outputs": [
    {
     "data": {
      "image/png": "[encoded data removed]",
      "text/plain": [
       "<Figure size 1296x288 with 2 Axes>"
      ]
     },
     "metadata": {
      "needs_background": "light"
     },
     "output_type": "display_data"
    }
   ],
   "source": [
    "# At this point, we would like to plot this\n",
    "fig, ax = plt.subplots(figsize=(18, 4), ncols=2, sharex=True, sharey=True)\n",
    "# BAZ11\n",
    "bins = np.arange(start=-0.5, stop=(BAZ11.B+1), step=1)\n",
    "_ = ax[0].hist(BAZ11.K_RESAMPLED[2], bins=bins, edgecolor='k', color='lightsalmon', density=True, label=r'$\\mathregular{\\delta}=0.1$')\n",
    "ax[0].set_xticks(np.arange(BAZ11.B+1))\n",
    "ax[0].legend()\n",
    "# BAZ13 \n",
    "bins = np.arange(start=-0.5, stop=(BAZ13.B+1), step=1)\n",
    "_ = ax[1].hist(BAZ13.K_RESAMPLED[2], bins=bins, edgecolor='k', color='lightsalmon', density=True, label=r'$\\mathregular{\\delta}=0.01$')\n",
    "ax[1].set_xticks(np.arange(BAZ13.B+1))\n",
    "ax[1].legend()\n",
    "plt.tight_layout()\n",
    "# plt.savefig('figures/gk20_msrwm_khistogram_two_stepsizes.png')\n",
    "plt.show()"
   ]
  },
  {
   "cell_type": "code",
   "execution_count": 10,
   "id": "574d3de6",
   "metadata": {},
   "outputs": [],
   "source": [
    "def plot_histogram(indeces, n):\n",
    "    fig, ax = plt.subplots(figsize=(20, 4))\n",
    "    bins = np.arange(start=-0.5, stop=(20+1), step=1)\n",
    "    _ = ax.hist(indeces[n, :], bins=bins, edgecolor='k', color='lightsalmon')\n",
    "    ax.set_xticks(np.arange(20+1))\n",
    "    return plt.show()\n",
    "resetwarnings()"
   ]
  },
  {
   "cell_type": "code",
   "execution_count": 11,
   "id": "0ee7af07",
   "metadata": {
    "scrolled": true
   },
   "outputs": [],
   "source": [
    "# interact(lambda n: plot_histogram(BAZ13.K_RESAMPLED[1:, ], n) , n=(0, len(BAZ13.ϵs) - 2))"
   ]
  },
  {
   "cell_type": "markdown",
   "id": "52ad9f98",
   "metadata": {},
   "source": [
    "For $\\delta=0.01$ show the histogram at 3 different time steps."
   ]
  },
  {
   "cell_type": "code",
   "execution_count": 12,
   "id": "4f3ebe40",
   "metadata": {},
   "outputs": [
    {
     "data": {
      "image/png": "[encoded data removed]",
      "text/plain": [
       "<Figure size 1440x288 with 3 Axes>"
      ]
     },
     "metadata": {
      "needs_background": "light"
     },
     "output_type": "display_data"
    }
   ],
   "source": [
    "# At this point, we would like to plot this\n",
    "fig, ax = plt.subplots(figsize=(20, 4), ncols=3, sharex=True, sharey=True)\n",
    "# n=1\n",
    "bins = np.arange(start=-0.5, stop=(BAZ11.B+1), step=1)\n",
    "_ = ax[0].hist(BAZ13.K_RESAMPLED[2], bins=bins, edgecolor='k', color='lightsalmon', density=True, label=r'$n=1$')\n",
    "ax[0].set_xticks(np.arange(BAZ11.B+1))\n",
    "ax[0].legend()\n",
    "# n=10\n",
    "bins = np.arange(start=-0.5, stop=(BAZ13.B+1), step=1)\n",
    "_ = ax[1].hist(BAZ13.K_RESAMPLED[26], bins=bins, edgecolor='k', color='lightsalmon', density=True, label=r'$n=25$')\n",
    "ax[1].set_xticks(np.arange(BAZ13.B+1))\n",
    "ax[1].legend()\n",
    "# n=100\n",
    "bins = np.arange(start=-0.5, stop=(BAZ13.B+1), step=1)\n",
    "_ = ax[2].hist(BAZ13.K_RESAMPLED[51], bins=bins, edgecolor='k', color='lightsalmon', density=True, label=r'$n=50$')\n",
    "ax[2].set_xticks(np.arange(BAZ13.B+1))\n",
    "ax[2].legend()\n",
    "plt.tight_layout()\n",
    "# plt.savefig('figures/gk20_msrwm_khistograms_1_25_50.png')\n",
    "plt.show()"
   ]
  },
  {
   "cell_type": "markdown",
   "id": "1dc6f3e9",
   "metadata": {},
   "source": [
    "##### TRY AND REPLICATE THIS BUT ONLY RUN IT UNTIL THE SECOND ITERATION OR SO"
   ]
  },
  {
   "cell_type": "markdown",
   "id": "f1994b1f",
   "metadata": {},
   "source": [
    "It seems that already at the first iteration, the indeces are \"flat\" meaning that the particles have been resampled more or less uniformly. I want to change T for the successive iteration and see how the two histograms differ, that is the histogram from BAZ13 and the histogram from the new resampled particles (if we replicate the entire machanism). "
   ]
  },
  {
   "cell_type": "code",
   "execution_count": 13,
   "id": "3d4005a5",
   "metadata": {},
   "outputs": [],
   "source": [
    "# Since `np.array_equal(BAZ13.ZN[0], BAZ13.starting_particles)` returns True we know the first element of \n",
    "# BAZ13.ZN is indeed the starting particles. \n",
    "# The first elemenet of K resampled is all zeros, because of the `starting_particles` have not been resampled.\n",
    "# However element 1 of K_RESAMPLED corresponds to the resampling indeces used to resample these starting particles"
   ]
  },
  {
   "cell_type": "code",
   "execution_count": 14,
   "id": "f38fc77b",
   "metadata": {},
   "outputs": [
    {
     "data": {
      "image/png": "[encoded data removed]",
      "text/plain": [
       "<Figure size 1440x288 with 1 Axes>"
      ]
     },
     "metadata": {
      "needs_background": "light"
     },
     "output_type": "display_data"
    }
   ],
   "source": [
    "fig, ax = plt.subplots(figsize=(20, 4))\n",
    "bins = np.arange(start=-0.5, stop=(20+1), step=1)\n",
    "_ = ax.hist(BAZ13.K_RESAMPLED[1], bins=bins, edgecolor='k', color='lightsalmon')\n",
    "ax.set_xticks(np.arange(20+1))\n",
    "plt.show()"
   ]
  },
  {
   "cell_type": "code",
   "execution_count": 15,
   "id": "74457775",
   "metadata": {},
   "outputs": [],
   "source": [
    "# Indeed we can see the histogram is mostly flat. Hence, we now try and see what happens if we were to increase B\n",
    "# but keeping everything else the same. Would it become left-skewed?\n",
    "# BAZ13.ZN[1] are the particles that are the result of the resampling operation in the histogram above"
   ]
  },
  {
   "cell_type": "code",
   "execution_count": 60,
   "id": "78a37797",
   "metadata": {},
   "outputs": [],
   "source": [
    "def compute_resampling_indeces(B, δ):\n",
    "    # Construct integrator and trajectory\n",
    "    ψ = BAZ13.ψ_generator(B, δ)\n",
    "    z = BAZ13.ZN[1]\n",
    "    Z = np.apply_along_axis(ψ, 1, z)\n",
    "    # Compute next tolerance (should always be the same: independent of B or δ)\n",
    "    distances = norm(np.apply_along_axis(BAZ13.manifold.q, 1, z[:, :BAZ13.d]), axis=1)\n",
    "    ε      = min(BAZ13.εs[1], np.quantile(np.unique(distances), 0.5))\n",
    "    log_ηε_n   = FilamentaryDistribution(BAZ13.manifold.generate_logηε, ε)\n",
    "    log_ηε_nm1 = BAZ13.log_ηs[1]\n",
    "    # Compute weights \n",
    "    log_μnm1_z  = np.apply_along_axis(log_ηε_nm1, 1, Z[:, 0, :BAZ13.d])         # (N, )\n",
    "    log_μnm1_z  = np.repeat(log_μnm1_z, B+1, axis=0).reshape(BAZ13.N, B+1) # (N, B+1)\n",
    "    log_μn_ψk_z = np.apply_along_axis(log_ηε_n, 2, Z[:, :, :BAZ13.d])\n",
    "    W  = BAZ13._compute_weights(log_μnm1_z, log_μn_ψk_z)\n",
    "    # Print ESS\n",
    "    ESS_MS = 1 / np.sum(W**2)\n",
    "    # Resample\n",
    "    resampling_indeces = BAZ13.resampling_rng.choice(a=np.arange(BAZ13.N*(B+1)), size=BAZ13.N, p=W.flatten())\n",
    "    unravelled_indeces = np.unravel_index(resampling_indeces, (BAZ13.N, B+1))\n",
    "    k_resampled = unravelled_indeces[1]\n",
    "    indeces = np.dstack(unravelled_indeces).squeeze()\n",
    "    # Compute ESS of underlying SMC\n",
    "    unnormalized_SMC_weights = np.mean(W, axis=1)  # these are unnormalized\n",
    "    normalized_SMC_weights = unnormalized_SMC_weights / unnormalized_SMC_weights.sum() # these are normalized!\n",
    "    ESS_SMC = 1 / np.sum(normalized_SMC_weights**2)\n",
    "    # Compute jump squared distance (?) compute it only on the x component\n",
    "    z_new = vstack([Z[tuple(ix)] for ix in indeces]) \n",
    "#     SJD = np.mean(norm(z_new[:, :BAZ13.d] - z[:, :BAZ13.d], axis=1)**2)\n",
    "    MSJD = np.mean(norm(unravelled_indeces[1].reshape(-1, 1)*z[unravelled_indeces[0], BAZ13.d:]*δ, axis=1)**2)\n",
    "    return k_resampled, ESS_MS, ESS_SMC, MSJD"
   ]
  },
  {
   "cell_type": "code",
   "execution_count": 61,
   "id": "e3b3d9da",
   "metadata": {},
   "outputs": [],
   "source": [
    "indeces_B100_δfixed, ESS_B100_δfixed, ESS_SMC_B100_δfixed, MSJD_B100_δfixed = compute_resampling_indeces(100, BAZ13.δ)"
   ]
  },
  {
   "cell_type": "code",
   "execution_count": 62,
   "id": "e2d6d99f",
   "metadata": {},
   "outputs": [],
   "source": [
    "indeces_Bfixed_δ5, ESS_Bfixed_δ5, ESS_SMC_Bfixed_δ5, MSJD_Bfixed_δ5 = compute_resampling_indeces(BAZ13.B, BAZ13.δ*5)"
   ]
  },
  {
   "cell_type": "code",
   "execution_count": 63,
   "id": "dd3c0ab5",
   "metadata": {},
   "outputs": [],
   "source": [
    "indeces_same, ESS_same, ESS_SMC_same, MSJD_same = compute_resampling_indeces(BAZ13.B, BAZ13.δ)"
   ]
  },
  {
   "cell_type": "code",
   "execution_count": 64,
   "id": "02d13399",
   "metadata": {},
   "outputs": [
    {
     "data": {
      "image/png": "[encoded data removed]",
      "text/plain": [
       "<Figure size 1440x720 with 3 Axes>"
      ]
     },
     "metadata": {
      "needs_background": "light"
     },
     "output_type": "display_data"
    }
   ],
   "source": [
    "# At this point, we would like to plot this\n",
    "fig, ax = plt.subplots(figsize=(20, 10), nrows=3, sharex=True, sharey=True)\n",
    "# WHAT WE WOULD HAVE GOT\n",
    "bins = np.arange(start=-0.5, stop=(BAZ13.B+1), step=1)\n",
    "_ = ax[0].hist(BAZ13.K_RESAMPLED[2], bins=bins, edgecolor='k', color='lightsalmon', density=True, label='B=20, δ=0.01')\n",
    "ax[0].set_xticks(np.arange(BAZ13.B+1))\n",
    "ax[0].legend(fontsize=20)\n",
    "# KEEP B FIXED, INCREASED DELTA\n",
    "bins = np.arange(start=-0.5, stop=(BAZ13.B+1), step=1)\n",
    "_ = ax[1].hist(indeces_Bfixed_δ5, bins=bins, edgecolor='k', color='lightsalmon', density=True, label='B=20, δ=0.05')\n",
    "ax[1].set_xticks(np.arange(BAZ13.B+1)[::2])\n",
    "ax[1].legend(fontsize=20)\n",
    "# INCREASE B, KEEP DELTA FIXED\n",
    "bins = np.arange(start=-0.5, stop=(BAZ13.B*5+1), step=1)\n",
    "_ = ax[2].hist(indeces_B100_δfixed, bins=bins, edgecolor='k', color='lightsalmon', density=True, label='B=100, δ=0.01')\n",
    "ax[2].set_xticks(np.arange(BAZ13.B*5+1)[::2])\n",
    "ax[2].legend(fontsize=20)\n",
    "plt.tight_layout()\n",
    "# plt.savefig('figures/gk20_msrwm_histogram_increaseB_or_delta.png')\n",
    "plt.show()"
   ]
  },
  {
   "cell_type": "markdown",
   "id": "fbbfccae",
   "metadata": {},
   "source": [
    "The question now is, which one of the two behaviors is better? Ideally, if we have fixed $B$ then we would like to keep that fixed and only change $\\delta$. Here, in particular, it is much faster to perform $20$ steps with a step size five times larger, rather than keep the step size the same and increase $B$ by $5$ times. If we can show that somehow we travel the same distance through the ESS or AP, then we are game."
   ]
  },
  {
   "cell_type": "code",
   "execution_count": 65,
   "id": "87d47f75",
   "metadata": {},
   "outputs": [
    {
     "name": "stdout",
     "output_type": "stream",
     "text": [
      "#### ESS on Markov Snippets weights: ####\n",
      "ESS(B, δ)  = 37837.88\n",
      "ESS(5B, δ) = 823.63\n",
      "ESS(B, 5δ) = 170.94\n",
      "#### ESS on underlying SMC weights:  ####\n",
      "ESS(B, δ)  = 2084.79\n",
      "ESS(5B, δ) = 15.32\n",
      "ESS(B, 5δ) = 15.34\n",
      "#### Proportion of Particles moved:  ####\n",
      "PM(B, δ)  = 95.36\n",
      "PM(5B, δ) = 98.60\n",
      "PM(B, 5δ) = 92.86\n"
     ]
    }
   ],
   "source": [
    "print(\"#### ESS on Markov Snippets weights: ####\")\n",
    "print(\"ESS(B, δ)  = {:.2f}\".format(ESS_same))             # same as BAZ13.ESS[2]\n",
    "print(\"ESS(5B, δ) = {:.2f}\".format(ESS_B100_δfixed))\n",
    "print(\"ESS(B, 5δ) = {:.2f}\".format(ESS_Bfixed_δ5))\n",
    "print(\"#### ESS on underlying SMC weights:  ####\")\n",
    "print(\"ESS(B, δ)  = {:.2f}\".format(ESS_SMC_same))         # same as BAZ13.ESS_SMC[2]\n",
    "print(\"ESS(5B, δ) = {:.2f}\".format(ESS_SMC_B100_δfixed))\n",
    "print(\"ESS(B, 5δ) = {:.2f}\".format(ESS_SMC_Bfixed_δ5))\n",
    "print(\"#### Proportion of Particles moved:  ####\")\n",
    "print(\"PM(B, δ)  = {:.2f}\".format((sum(indeces_same >= 1) / BAZ13.N) * 100))\n",
    "print(\"PM(5B, δ) = {:.2f}\".format((sum(indeces_B100_δfixed >= 1) / BAZ13.N) * 100))\n",
    "print(\"PM(B, 5δ) = {:.2f}\".format((sum(indeces_Bfixed_δ5 >= 1) / BAZ13.N) * 100))"
   ]
  },
  {
   "cell_type": "markdown",
   "id": "3fa4b623",
   "metadata": {},
   "source": [
    "The pattern seem to appear in both ESS, ESS_SMC and in the proportion of particles moved. Could it be there is something wrong with the weights? I seem to get MUCH MUCH better ess when the histogram is flat?? let's try with a smaller multiplier for $\\delta$"
   ]
  },
  {
   "cell_type": "code",
   "execution_count": 66,
   "id": "3646f736",
   "metadata": {},
   "outputs": [
    {
     "data": {
      "text/plain": [
       "12499.365594722727"
      ]
     },
     "execution_count": 66,
     "metadata": {},
     "output_type": "execute_result"
    }
   ],
   "source": [
    "compute_resampling_indeces(BAZ13.B, BAZ13.δ*2)[1] # mmm.. I am decreasing the multiplier and get larger ESS?"
   ]
  },
  {
   "cell_type": "code",
   "execution_count": 67,
   "id": "a4b42da4",
   "metadata": {},
   "outputs": [
    {
     "data": {
      "text/plain": [
       "37837.87570892015"
      ]
     },
     "execution_count": 67,
     "metadata": {},
     "output_type": "execute_result"
    }
   ],
   "source": [
    "compute_resampling_indeces(BAZ13.B, BAZ13.δ)[1] # this makes sense, I am getting the same result, it is deterministic afterall"
   ]
  },
  {
   "cell_type": "markdown",
   "id": "e4ba5e8a",
   "metadata": {},
   "source": [
    "Let's try an altogether smaller step size then..."
   ]
  },
  {
   "cell_type": "code",
   "execution_count": 68,
   "id": "eacb6d1a",
   "metadata": {},
   "outputs": [
    {
     "data": {
      "text/plain": [
       "48380.47849806464"
      ]
     },
     "execution_count": 68,
     "metadata": {},
     "output_type": "execute_result"
    }
   ],
   "source": [
    "compute_resampling_indeces(BAZ13.B, BAZ13.δ*0.5)[1] # WHAT??? how is this higher??"
   ]
  },
  {
   "cell_type": "code",
   "execution_count": 69,
   "id": "888b9c36",
   "metadata": {},
   "outputs": [
    {
     "data": {
      "text/plain": [
       "52037.747225679566"
      ]
     },
     "execution_count": 69,
     "metadata": {},
     "output_type": "execute_result"
    }
   ],
   "source": [
    "compute_resampling_indeces(BAZ13.B, BAZ13.δ*0.1)[1] # fuck off"
   ]
  },
  {
   "cell_type": "code",
   "execution_count": 70,
   "id": "3ff8efcc",
   "metadata": {},
   "outputs": [
    {
     "data": {
      "text/plain": [
       "52106.3007433032"
      ]
     },
     "execution_count": 70,
     "metadata": {},
     "output_type": "execute_result"
    }
   ],
   "source": [
    "compute_resampling_indeces(BAZ13.B, BAZ13.δ*0.01)[1] # okay so we are reaching a limit. eventually should become smaller?"
   ]
  },
  {
   "cell_type": "code",
   "execution_count": 71,
   "id": "2071d550",
   "metadata": {},
   "outputs": [
    {
     "data": {
      "text/plain": [
       "52079.98299785983"
      ]
     },
     "execution_count": 71,
     "metadata": {},
     "output_type": "execute_result"
    }
   ],
   "source": [
    "compute_resampling_indeces(BAZ13.B, BAZ13.δ*0.001)[1] "
   ]
  },
  {
   "cell_type": "markdown",
   "id": "bbc740e9",
   "metadata": {},
   "source": [
    "Maybe ESS is not the best metric.. although here we are not even in the filamentary regime yet, epsilon is relatively large (around $28$).\n",
    "\n",
    "> IDEA: The weights I am using to compute the ESS are actually the Markov-Snippets weights. It is not clear to me\n",
    "that the notion of ESS is well-defined on these weights. Perhaps I should try and compute the SMC-related weights\n",
    "that we see from the theory and compute the ESS on those instead. Basically on the weights of the particles that get actually resampled, except we need to transform the weights to be the SMC ones."
   ]
  },
  {
   "cell_type": "code",
   "execution_count": 72,
   "id": "7a85d798",
   "metadata": {},
   "outputs": [
    {
     "data": {
      "text/plain": [
       "959.6244149563374"
      ]
     },
     "execution_count": 72,
     "metadata": {},
     "output_type": "execute_result"
    }
   ],
   "source": [
    "compute_resampling_indeces(BAZ13.B, BAZ13.δ*2)[2] "
   ]
  },
  {
   "cell_type": "code",
   "execution_count": 73,
   "id": "5ef06490",
   "metadata": {},
   "outputs": [
    {
     "data": {
      "text/plain": [
       "2084.7888937285566"
      ]
     },
     "execution_count": 73,
     "metadata": {},
     "output_type": "execute_result"
    }
   ],
   "source": [
    "compute_resampling_indeces(BAZ13.B, BAZ13.δ)[2] "
   ]
  },
  {
   "cell_type": "code",
   "execution_count": 74,
   "id": "65898111",
   "metadata": {},
   "outputs": [
    {
     "data": {
      "text/plain": [
       "2433.005978597576"
      ]
     },
     "execution_count": 74,
     "metadata": {},
     "output_type": "execute_result"
    }
   ],
   "source": [
    "compute_resampling_indeces(BAZ13.B, BAZ13.δ*0.5)[2] "
   ]
  },
  {
   "cell_type": "markdown",
   "id": "00bd95df",
   "metadata": {},
   "source": [
    "### Mean Squared Jump Distance"
   ]
  },
  {
   "cell_type": "markdown",
   "id": "8dfa423d",
   "metadata": {},
   "source": [
    "Let's test the difference in terms of Mean Squared Jump Distance"
   ]
  },
  {
   "cell_type": "code",
   "execution_count": 75,
   "id": "e595b534",
   "metadata": {},
   "outputs": [],
   "source": [
    "# def something(B, δ):\n",
    "#     # Construct integrator and trajectory\n",
    "#     ψ = BAZ13.ψ_generator(B, δ)\n",
    "#     z = BAZ13.ZN[1]\n",
    "#     Z = np.apply_along_axis(ψ, 1, z)\n",
    "#     # Compute next tolerance (should always be the same: independent of B or δ)\n",
    "#     distances = norm(np.apply_along_axis(BAZ13.manifold.q, 1, z[:, :BAZ13.d]), axis=1)\n",
    "#     ε      = min(BAZ13.εs[1], np.quantile(np.unique(distances), 0.5))\n",
    "#     log_ηε_n   = FilamentaryDistribution(BAZ13.manifold.generate_logηε, ε)\n",
    "#     log_ηε_nm1 = BAZ13.log_ηs[1]\n",
    "#     # Compute weights \n",
    "#     log_μnm1_z  = np.apply_along_axis(log_ηε_nm1, 1, Z[:, 0, :BAZ13.d])         # (N, )\n",
    "#     log_μnm1_z  = np.repeat(log_μnm1_z, B+1, axis=0).reshape(BAZ13.N, B+1) # (N, B+1)\n",
    "#     log_μn_ψk_z = np.apply_along_axis(log_ηε_n, 2, Z[:, :, :BAZ13.d])\n",
    "#     W  = BAZ13._compute_weights(log_μnm1_z, log_μn_ψk_z)\n",
    "#     # Print ESS\n",
    "#     ESS_MS = 1 / np.sum(W**2)\n",
    "#     # Resample\n",
    "#     resampling_indeces = BAZ13.resampling_rng.choice(a=np.arange(BAZ13.N*(B+1)), size=BAZ13.N, p=W.flatten())\n",
    "#     unravelled_indeces = np.unravel_index(resampling_indeces, (BAZ13.N, B+1))\n",
    "#     k_resampled = unravelled_indeces[1]\n",
    "#     indeces = np.dstack(unravelled_indeces).squeeze()\n",
    "#     # Compute ESS of underlying SMC\n",
    "#     smc_weights = []\n",
    "#     for ix in indeces[:2]:\n",
    "#         mean_weight = W[ix[0], :].mean()\n",
    "#         smc_weights.append(mean_weight*exp(log_ηε_n(Z[ix[0], 0, :BAZ13.d]) - log_ηε_nm1(Z[ix[0], 0, :BAZ13.d])))\n",
    "#     ESS_SMC = 1 / np.sum(np.array(smc_weights)**2)\n",
    "#     # Compute jump squared distance (?) compute it only on the x component\n",
    "#     z_new = vstack([Z[tuple(ix)] for ix in indeces]) \n",
    "#     MSJD = np.mean(norm(unravelled_indeces[1].reshape(-1, 1)*z[unravelled_indeces[0], BAZ13.d:]*δ, axis=1)**2)\n",
    "#     return unravelled_indeces, z, z_new, MSJD"
   ]
  },
  {
   "cell_type": "code",
   "execution_count": 77,
   "id": "ccd1fe61",
   "metadata": {},
   "outputs": [],
   "source": [
    "B = 20\n",
    "δ = 0.01"
   ]
  },
  {
   "cell_type": "code",
   "execution_count": 78,
   "id": "aa53015a",
   "metadata": {},
   "outputs": [],
   "source": [
    "_, _, _, MSJD = compute_resampling_indeces(B, δ)"
   ]
  },
  {
   "cell_type": "code",
   "execution_count": 79,
   "id": "2f34e118",
   "metadata": {},
   "outputs": [],
   "source": [
    "_, _, _, MSJD_B5 = compute_resampling_indeces(int(B*5), δ)"
   ]
  },
  {
   "cell_type": "code",
   "execution_count": 80,
   "id": "fe71abde",
   "metadata": {},
   "outputs": [],
   "source": [
    "_, _, _, MSJD_δ5 = compute_resampling_indeces(B, δ*5)"
   ]
  },
  {
   "cell_type": "code",
   "execution_count": 103,
   "id": "e096d64d",
   "metadata": {},
   "outputs": [
    {
     "data": {
      "text/plain": [
       "(0.31605936170290005, 4.903531758545871, 4.908658824404289)"
      ]
     },
     "execution_count": 103,
     "metadata": {},
     "output_type": "execute_result"
    }
   ],
   "source": [
    "np.mean(MSJD), np.mean(MSJD_B5), np.mean(MSJD_δ5)"
   ]
  },
  {
   "cell_type": "markdown",
   "id": "21f20df2",
   "metadata": {},
   "source": [
    "By how much should we increase $\\delta$? Let's have a look in this example. "
   ]
  },
  {
   "cell_type": "code",
   "execution_count": 82,
   "id": "d243d583",
   "metadata": {},
   "outputs": [],
   "source": [
    "δs = np.linspace(start=δ, stop=100*δ, num=100)"
   ]
  },
  {
   "cell_type": "code",
   "execution_count": 83,
   "id": "764ef677",
   "metadata": {},
   "outputs": [],
   "source": [
    "ESSs     = []\n",
    "ESS_SMCs = []\n",
    "MSJDs    = []\n",
    "\n",
    "for δδδ in δs:\n",
    "    _, ess_vals, ess_smc_vals, msjd_vals = compute_resampling_indeces(B, δδδ)\n",
    "    ESSs.append(ess_vals)\n",
    "    ESS_SMCs.append(ess_smc_vals)\n",
    "    MSJDs.append(msjd_vals)"
   ]
  },
  {
   "cell_type": "code",
   "execution_count": 85,
   "id": "541de4d2",
   "metadata": {},
   "outputs": [
    {
     "data": {
      "image/png": "[encoded data removed]",
      "text/plain": [
       "<Figure size 1440x288 with 3 Axes>"
      ]
     },
     "metadata": {
      "needs_background": "light"
     },
     "output_type": "display_data"
    }
   ],
   "source": [
    "fig, ax = plt.subplots(figsize=(20, 4), ncols=3, sharex=True)\n",
    "# ESS\n",
    "ax[0].plot(δs, ESSs)\n",
    "ax[0].set_xlabel(r\"$\\mathregular{\\delta}$\", fontsize=15)\n",
    "ax[0].set_ylabel(\"ESS\", fontsize=15)\n",
    "ax[0].set_xscale('log')\n",
    "# ESS-SMC (ESS of underlying SMC sampler of MS)\n",
    "ax[1].plot(δs, ESS_SMCs)\n",
    "ax[1].set_xlabel(r\"$\\mathregular{\\delta}$\", fontsize=15)\n",
    "ax[1].set_ylabel(\"ESS-SMC\", fontsize=15)\n",
    "ax[1].set_xscale('log')\n",
    "# Mean Squared Jump Distance\n",
    "ax[2].plot(δs, MSJDs)\n",
    "ax[2].set_xlabel(r\"$\\mathregular{\\delta}$\", fontsize=15)\n",
    "ax[2].set_ylabel(\"MSJD\", fontsize=15)\n",
    "ax[2].set_xscale('log')\n",
    "# Prettify\n",
    "plt.tight_layout()\n",
    "plt.show()"
   ]
  },
  {
   "cell_type": "markdown",
   "id": "187449a0",
   "metadata": {},
   "source": [
    "Notice that ESS/B+1 and ESS-SMC are almost the same thing"
   ]
  },
  {
   "cell_type": "code",
   "execution_count": 92,
   "id": "aa074ec8",
   "metadata": {},
   "outputs": [
    {
     "data": {
      "image/png": "[encoded data removed]",
      "text/plain": [
       "<Figure size 576x288 with 1 Axes>"
      ]
     },
     "metadata": {
      "needs_background": "light"
     },
     "output_type": "display_data"
    }
   ],
   "source": [
    "fig, ax = plt.subplots(figsize=(8, 4))\n",
    "ax.plot(δs, np.array(ESSs) / (B+1), label='ESS/(B+1)')\n",
    "ax.plot(δs, ESS_SMCs, label='ESS-SMC')\n",
    "ax.set_xlabel(r\"$\\mathregular{\\delta}$\", fontsize=15)\n",
    "ax.set_xscale('log')\n",
    "plt.legend()\n",
    "plt.show()"
   ]
  },
  {
   "cell_type": "code",
   "execution_count": 93,
   "id": "e2515884",
   "metadata": {},
   "outputs": [],
   "source": [
    "# fig, ax = plt.subplots(figsize=(8, 4))\n",
    "# ax.plot(δs, MSJDs)\n",
    "# ax.set_xlabel(r\"$\\mathregular{\\delta}$\", fontsize=15)\n",
    "# ax.set_ylabel(\"MSJD\", fontsize=15)\n",
    "# ax.set_xscale('log')\n",
    "# # plt.savefig(\"figures/gk20_msrwm_msjd_over_deltas.png\")\n",
    "# plt.show()"
   ]
  },
  {
   "cell_type": "markdown",
   "id": "63798b5f",
   "metadata": {},
   "source": [
    "Can we show a similar plot but for ESS?"
   ]
  },
  {
   "cell_type": "code",
   "execution_count": 94,
   "id": "f8196b6b",
   "metadata": {},
   "outputs": [],
   "source": [
    "# ESSs = [compute_resampling_indeces(B, δδδ)[1] for δδδ in δs]"
   ]
  },
  {
   "cell_type": "code",
   "execution_count": 95,
   "id": "d5723a5d",
   "metadata": {},
   "outputs": [],
   "source": [
    "# fig, ax = plt.subplots(figsize=(8, 4))\n",
    "# ax.plot(δs, ESSs)\n",
    "# ax.set_xlabel(r\"$\\mathregular{\\delta}$\", fontsize=15)\n",
    "# ax.set_ylabel(\"ESS\", fontsize=15)\n",
    "# ax.set_xscale('log')\n",
    "# # plt.savefig(\"figures/gk20_msrwm_msjd_over_deltas.png\")\n",
    "# plt.show()"
   ]
  },
  {
   "cell_type": "markdown",
   "id": "4af565b5",
   "metadata": {},
   "source": [
    "The following is trying the super approximation I have in the notes. Doesn't work"
   ]
  },
  {
   "cell_type": "code",
   "execution_count": 97,
   "id": "8526e158",
   "metadata": {},
   "outputs": [],
   "source": [
    "# some_function       = lambda k, δ: np.exp(-k*δ*d*(1 + k*δ))\n",
    "# some_other_function = lambda k: some_function(k, 1)"
   ]
  },
  {
   "cell_type": "code",
   "execution_count": 98,
   "id": "ceed3bf6",
   "metadata": {},
   "outputs": [],
   "source": [
    "# k_values = np.arange(B)\n",
    "# δ_values = [0.05, 0.1, 0.5, 1.0, 2.0]\n",
    "# fig, ax = plt.subplots(figsize=(20, 4), ncols=len(δ_values))\n",
    "# for δix, δ in enumerate(δ_values):\n",
    "#     some_function       = lambda k, δ: np.exp(k*δ*d*(1 - k*δ))\n",
    "#     some_other_function = lambda k: some_function(k, δ)\n",
    "#     ax[δix].plot(k_values, some_other_function(k_values)*k_values*δ)"
   ]
  },
  {
   "cell_type": "markdown",
   "id": "e3618196",
   "metadata": {},
   "source": [
    "Let's have a look at how the median changes."
   ]
  },
  {
   "cell_type": "code",
   "execution_count": 100,
   "id": "721b3516",
   "metadata": {},
   "outputs": [
    {
     "data": {
      "image/png": "[encoded data removed]",
      "text/plain": [
       "<Figure size 1440x288 with 3 Axes>"
      ]
     },
     "metadata": {
      "needs_background": "light"
     },
     "output_type": "display_data"
    }
   ],
   "source": [
    "fig, ax = plt.subplots(ncols=3, figsize=(20, 4))\n",
    "# Epsilons over median\n",
    "ax[0].plot(np.quantile(BAZ13.K_RESAMPLED[1:], q=0.5, axis=1), BAZ13.εs[1:])\n",
    "ax[0].set_yscale('log')\n",
    "# ESS over median\n",
    "ax[1].plot(np.quantile(BAZ13.K_RESAMPLED[1:], q=0.5, axis=1), BAZ13.ESS[1:])\n",
    "ax[1].set_yscale('log')\n",
    "# ESS-SMC over median \n",
    "ax[2].plot(np.quantile(BAZ13.K_RESAMPLED[1:], q=0.5, axis=1), BAZ13.ESS_SMC[1:])\n",
    "ax[2].set_yscale('log')"
   ]
  },
  {
   "cell_type": "markdown",
   "id": "64c18d1e",
   "metadata": {},
   "source": [
    "Let's see ESS and AP in terms of the median"
   ]
  },
  {
   "cell_type": "code",
   "execution_count": 101,
   "id": "daf34b55",
   "metadata": {},
   "outputs": [
    {
     "data": {
      "image/png": "[encoded data removed]",
      "text/plain": [
       "<Figure size 1440x288 with 3 Axes>"
      ]
     },
     "metadata": {
      "needs_background": "light"
     },
     "output_type": "display_data"
    }
   ],
   "source": [
    "medians = np.quantile(BAZ13.K_RESAMPLED[1:], q=0.5, axis=1)\n",
    "fig, ax = plt.subplots(ncols=3, figsize=(20, 4), sharex=True)\n",
    "ax[0].plot(medians, BAZ13.ESS[1:])\n",
    "ax[1].plot(medians, BAZ13.PROP_MOVED[1:])\n",
    "ax[2].plot(medians, BAZ13.εs[1:])\n",
    "ax[1].set_xlabel(\"Median of Resampled Indeces\", fontsize=15)\n",
    "ax[0].set_ylabel(\"ESS\", fontsize=15)\n",
    "ax[1].set_ylabel(\"PROP MOVED\", fontsize=15)\n",
    "ax[2].set_ylabel(r\"$\\mathregular{\\epsilon}$\", fontsize=15)\n",
    "plt.tight_layout()\n",
    "# plt.savefig(\"figures/metrics_over_median_indeces.png\")\n",
    "plt.show()"
   ]
  },
  {
   "cell_type": "code",
   "execution_count": 102,
   "id": "2ebf8861",
   "metadata": {},
   "outputs": [
    {
     "data": {
      "image/png": "[encoded data removed]",
      "text/plain": [
       "<Figure size 432x288 with 1 Axes>"
      ]
     },
     "metadata": {
      "needs_background": "light"
     },
     "output_type": "display_data"
    }
   ],
   "source": [
    "plt.plot(medians)\n",
    "plt.show()"
   ]
  },
  {
   "cell_type": "markdown",
   "id": "978c7713",
   "metadata": {},
   "source": [
    "The steepest change in the median happens in an interval in the middle. Could always try and aim to be within\n",
    "$$\n",
    "\\tau^{(0.5)}\\in\\left[\\frac{B}{2}\\rho, \\frac{B}{2}(1-\\rho)\\right]\n",
    "$$\n",
    "for $\\rho\\in[0,1]$ and more concretely $\\rho \\approx 0.2$.\n"
   ]
  },
  {
   "cell_type": "markdown",
   "id": "96249864",
   "metadata": {},
   "source": [
    "# Test ideas"
   ]
  },
  {
   "cell_type": "markdown",
   "id": "7ab040f9",
   "metadata": {},
   "source": [
    "I quickly want to check if\n",
    "$$\n",
    "h_\\kappa \\approx \\sum_{i=1}^N \\bar{W}_{n, \\kappa}^{(i)} \\qquad \\text{where} \\qquad h_\\kappa = \\frac{|\\{k_j = \\kappa\\,:\\, k_j\\in\\tau_n\\}|}{N}\n",
    "$$\n",
    "I will check this by testing that $|\\{k_j = \\kappa\\,:\\, k_j\\in\\tau_n\\}| \\approx N \\sum_{i=1}^N \\bar{W}_{n, \\kappa}^{(i)}$"
   ]
  },
  {
   "cell_type": "code",
   "execution_count": 174,
   "id": "ee174e2a",
   "metadata": {},
   "outputs": [],
   "source": [
    "index=100"
   ]
  },
  {
   "cell_type": "code",
   "execution_count": 175,
   "id": "01cc3630",
   "metadata": {
    "scrolled": true
   },
   "outputs": [],
   "source": [
    "h = np.r_[np.unique(BAZ13.K_RESAMPLED[index], return_counts=True)[1], [0, 0, 0, 0]]"
   ]
  },
  {
   "cell_type": "code",
   "execution_count": 176,
   "id": "e694495b",
   "metadata": {},
   "outputs": [],
   "source": [
    "NW = (BAZ13.Wbar[index].reshape(N, B+1).sum(axis=0) * N).astype('int')"
   ]
  },
  {
   "cell_type": "code",
   "execution_count": 177,
   "id": "4f5d1969",
   "metadata": {},
   "outputs": [
    {
     "data": {
      "text/plain": [
       "(array([4522,  474,    4,    0,    0,    0,    0]),\n",
       " array([4543,  450,    5,    0,    0,    0,    0,    0,    0,    0,    0,\n",
       "           0,    0,    0,    0,    0,    0,    0,    0,    0,    0]))"
      ]
     },
     "execution_count": 177,
     "metadata": {},
     "output_type": "execute_result"
    }
   ],
   "source": [
    "h, NW # very similar indeed"
   ]
  },
  {
   "cell_type": "markdown",
   "id": "b54d2a4f",
   "metadata": {},
   "source": [
    "Next, we test whether \n",
    "$$\n",
    "\\text{pm}_n = 1 - h_0 = \\sum_{k=1}^B h_k \\approx \\sum_{k=1}^B \\sum_{i=1}^N \\bar{W}_{n, k}^{(i)}  \\,\\,\\,\\left(\\text{or alternatively } 1 - \\sum_{i=1}^N \\bar{W}_{n, 0}^{(i)}\\right)\n",
    "$$"
   ]
  },
  {
   "cell_type": "code",
   "execution_count": 178,
   "id": "b36e2219",
   "metadata": {},
   "outputs": [
    {
     "data": {
      "text/plain": [
       "0.0956"
      ]
     },
     "execution_count": 178,
     "metadata": {},
     "output_type": "execute_result"
    }
   ],
   "source": [
    "BAZ13.PROP_MOVED[index]"
   ]
  },
  {
   "cell_type": "code",
   "execution_count": 179,
   "id": "323b5b61",
   "metadata": {},
   "outputs": [
    {
     "data": {
      "text/plain": [
       "0.09134019344876487"
      ]
     },
     "execution_count": 179,
     "metadata": {},
     "output_type": "execute_result"
    }
   ],
   "source": [
    "BAZ13.Wbar[index].reshape(N, B+1).sum(axis=0)[1:].sum()"
   ]
  },
  {
   "cell_type": "markdown",
   "id": "94fbfee0",
   "metadata": {},
   "source": [
    "# test chang's ESJD"
   ]
  },
  {
   "cell_type": "code",
   "execution_count": 195,
   "id": "1bd74be1",
   "metadata": {},
   "outputs": [],
   "source": [
    "XMAS = MSAdaptive(generate_settings(d=d, N=N, B=B,\n",
    "        δ=0.01, δmin=δmin, min_pm=min_pm, verbose=False, εs_fixed=None, adaptiveε=True, adaptiveδ=False,\n",
    "        z0_manual=PARTICLES, pm_target=0.23, pm_switch=pm_switch, low_memory=False, integrator='rwm',\n",
    "        εprop_switch=0.01, ε0_manual=DOES_NOT_MATTER.εs[-1], quantile_value=0.5, initialization='manual',\n",
    "        switch_strategy='pm', kernel='uniform',use_autograd=False, stopping_criterion={'εmin', 'pm', 'maxiter'},\n",
    "        resampling_scheme='multinomial', maxiter=500))\n",
    "_ = XMAS.sample()"
   ]
  },
  {
   "cell_type": "code",
   "execution_count": 254,
   "id": "90bc7308",
   "metadata": {},
   "outputs": [
    {
     "data": {
      "image/png": "[encoded data removed]",
      "text/plain": [
       "<Figure size 1152x576 with 4 Axes>"
      ]
     },
     "metadata": {
      "needs_background": "light"
     },
     "output_type": "display_data"
    }
   ],
   "source": [
    "fig, ax = plt.subplots(nrows=2, ncols=2, figsize=(16, 8), sharex=True)\n",
    "# (0, 0) iteration 1\n",
    "ax[0, 0].plot(np.arange(B+1), XMAS.ESJD_CHANG[1], marker='o', label=\"iteration 1\")\n",
    "bins = np.arange(start=-0.5, stop=(XMAS.B+1), step=1)\n",
    "_ = ax[0, 0].hist(XMAS.K_RESAMPLED[1], density=True, edgecolor='k', color='lightsalmon')\n",
    "ax[0, 0].set_xticks(np.arange(XMAS.B+1))\n",
    "ax[0, 0].legend()\n",
    "# (0, 1) iteration 25\n",
    "ax[0, 1].plot(np.arange(B+1), XMAS.ESJD_CHANG[10], marker='o', label='iteration 10')\n",
    "bins = np.arange(start=-0.5, stop=(XMAS.B+1), step=1)\n",
    "_ = ax[0, 1].hist(XMAS.K_RESAMPLED[10], density=True, edgecolor='k', color='lightsalmon')\n",
    "ax[0, 1].set_xticks(np.arange(XMAS.B+1))\n",
    "ax[0, 1].legend()\n",
    "# (1, 0) iteration 75\n",
    "ax[1, 0].plot(np.arange(B+1), XMAS.ESJD_CHANG[20], marker='o', label='iteration 20')\n",
    "bins = np.arange(start=-0.5, stop=(XMAS.B+1), step=1)\n",
    "_ = ax[1, 0].hist(XMAS.K_RESAMPLED[20], density=True, edgecolor='k', color='lightsalmon')\n",
    "ax[1, 0].set_xticks(np.arange(XMAS.B+1))\n",
    "ax[1, 0].legend()\n",
    "# (1, 1) iteration 100\n",
    "ax[1, 1].plot(np.arange(B+1), XMAS.ESJD_CHANG[30], marker='o', label='iteration 30')\n",
    "bins = np.arange(start=-0.5, stop=(XMAS.B+1), step=1)\n",
    "_ = ax[1, 1].hist(XMAS.K_RESAMPLED[30], density=True, edgecolor='k', color='lightsalmon')\n",
    "ax[1, 1].set_xticks(np.arange(XMAS.B+1))\n",
    "ax[1, 1].legend()\n",
    "plt.show()"
   ]
  },
  {
   "cell_type": "code",
   "execution_count": 255,
   "id": "40ec546b",
   "metadata": {},
   "outputs": [
    {
     "data": {
      "text/plain": [
       "[<matplotlib.lines.Line2D at 0x17efe8fd0>]"
      ]
     },
     "execution_count": 255,
     "metadata": {},
     "output_type": "execute_result"
    },
    {
     "data": {
      "image/png": "[encoded data removed]",
      "text/plain": [
       "<Figure size 432x288 with 1 Axes>"
      ]
     },
     "metadata": {
      "needs_background": "light"
     },
     "output_type": "display_data"
    }
   ],
   "source": [
    "DIVERSITY_MOVED = lambda i: (sum(XMAS.K_RESAMPLED[i] >= 1) / XMAS.N) * (len(np.unique(XMAS.N_RESAMPLED[i])) / XMAS.N)\n",
    "X_VALUES = np.arange(1, 50)\n",
    "Y_VALUES = np.array([DIVERSITY_MOVED(x) for x in X_VALUES])\n",
    "plt.plot(X_VALUES, Y_VALUES)"
   ]
  },
  {
   "cell_type": "code",
   "execution_count": 226,
   "id": "72b0243d",
   "metadata": {
    "scrolled": true
   },
   "outputs": [
    {
     "name": "stdout",
     "output_type": "stream",
     "text": [
      "Integrator: RWM.\n",
      "Stopping criterion:  maxiter, εmin, pm.\n",
      "Resampling: MULTINOMIAL.\n",
      "Iteration:  1\n",
      "\tQuantile Value:  0.5\n",
      "\tTrajectories constructed.\n",
      "\tEpsilon: 45.9286395815496036\n",
      "\tWeights computed and normalized.\n",
      "\tParticles Resampled.\n",
      "\tVelocities refreshed.\n",
      "\tProp Moved: 0.9324000000000000\n",
      "\tStep-size kept fixed at: 0.0500000000000000\n",
      "Iteration:  2\n",
      "\tQuantile Value:  0.5\n",
      "\tTrajectories constructed.\n",
      "\tEpsilon: 28.3583519688358727\n",
      "\tWeights computed and normalized.\n",
      "\tParticles Resampled.\n",
      "\tVelocities refreshed.\n",
      "\tProp Moved: 0.9028000000000000\n",
      "\tStep-size kept fixed at: 0.0500000000000000\n",
      "Iteration:  3\n",
      "\tQuantile Value:  0.5\n",
      "\tTrajectories constructed.\n",
      "\tEpsilon: 22.5968581145300540\n",
      "\tWeights computed and normalized.\n",
      "\tParticles Resampled.\n",
      "\tVelocities refreshed.\n",
      "\tProp Moved: 0.9182000000000000\n",
      "\tStep-size kept fixed at: 0.0500000000000000\n",
      "Iteration:  4\n",
      "\tQuantile Value:  0.5\n",
      "\tTrajectories constructed.\n",
      "\tEpsilon: 19.3199514430628803\n",
      "\tWeights computed and normalized.\n",
      "\tParticles Resampled.\n",
      "\tVelocities refreshed.\n",
      "\tProp Moved: 0.8874000000000000\n",
      "\tStep-size kept fixed at: 0.0500000000000000\n",
      "Iteration:  5\n",
      "\tQuantile Value:  0.5\n",
      "\tTrajectories constructed.\n",
      "\tEpsilon: 17.8938953921214257\n",
      "\tWeights computed and normalized.\n",
      "\tParticles Resampled.\n",
      "\tVelocities refreshed.\n",
      "\tProp Moved: 0.8984000000000000\n",
      "\tStep-size kept fixed at: 0.0500000000000000\n",
      "Iteration:  6\n",
      "\tQuantile Value:  0.5\n",
      "\tTrajectories constructed.\n",
      "\tEpsilon: 16.9505447730503178\n",
      "\tWeights computed and normalized.\n",
      "\tParticles Resampled.\n",
      "\tVelocities refreshed.\n",
      "\tProp Moved: 0.8984000000000000\n",
      "\tStep-size kept fixed at: 0.0500000000000000\n",
      "Iteration:  7\n",
      "\tQuantile Value:  0.5\n",
      "\tTrajectories constructed.\n",
      "\tEpsilon: 15.9184433084354406\n",
      "\tWeights computed and normalized.\n",
      "\tParticles Resampled.\n",
      "\tVelocities refreshed.\n",
      "\tProp Moved: 0.8892000000000000\n",
      "\tStep-size kept fixed at: 0.0500000000000000\n",
      "Iteration:  8\n",
      "\tQuantile Value:  0.5\n",
      "\tTrajectories constructed.\n",
      "\tEpsilon: 14.5298120723134527\n",
      "\tWeights computed and normalized.\n",
      "\tParticles Resampled.\n",
      "\tVelocities refreshed.\n",
      "\tProp Moved: 0.8902000000000000\n",
      "\tStep-size kept fixed at: 0.0500000000000000\n",
      "Iteration:  9\n",
      "\tQuantile Value:  0.5\n",
      "\tTrajectories constructed.\n",
      "\tEpsilon: 13.2187705454309850\n",
      "\tWeights computed and normalized.\n",
      "\tParticles Resampled.\n",
      "\tVelocities refreshed.\n",
      "\tProp Moved: 0.8346000000000000\n",
      "\tStep-size kept fixed at: 0.0500000000000000\n",
      "Iteration:  10\n",
      "\tQuantile Value:  0.5\n",
      "\tTrajectories constructed.\n",
      "\tEpsilon: 11.9267389756818556\n",
      "\tWeights computed and normalized.\n",
      "\tParticles Resampled.\n",
      "\tVelocities refreshed.\n",
      "\tProp Moved: 0.8214000000000000\n",
      "\tStep-size kept fixed at: 0.0500000000000000\n",
      "Iteration:  11\n",
      "\tQuantile Value:  0.5\n",
      "\tTrajectories constructed.\n",
      "\tEpsilon: 10.8227488278946460\n",
      "\tWeights computed and normalized.\n",
      "\tParticles Resampled.\n",
      "\tVelocities refreshed.\n",
      "\tProp Moved: 0.8036000000000000\n",
      "\tStep-size kept fixed at: 0.0500000000000000\n",
      "Iteration:  12\n",
      "\tQuantile Value:  0.5\n",
      "\tTrajectories constructed.\n",
      "\tEpsilon: 9.8048804705460846\n",
      "\tWeights computed and normalized.\n",
      "\tParticles Resampled.\n",
      "\tVelocities refreshed.\n",
      "\tProp Moved: 0.7456000000000000\n",
      "\tStep-size kept fixed at: 0.0500000000000000\n",
      "Iteration:  13\n",
      "\tQuantile Value:  0.5\n",
      "\tTrajectories constructed.\n",
      "\tEpsilon: 8.9728904632044149\n",
      "\tWeights computed and normalized.\n",
      "\tParticles Resampled.\n",
      "\tVelocities refreshed.\n",
      "\tProp Moved: 0.7104000000000000\n",
      "\tStep-size kept fixed at: 0.0500000000000000\n",
      "Iteration:  14\n",
      "\tQuantile Value:  0.5\n",
      "\tTrajectories constructed.\n",
      "\tEpsilon: 8.2509353368006675\n",
      "\tWeights computed and normalized.\n",
      "\tParticles Resampled.\n",
      "\tVelocities refreshed.\n",
      "\tProp Moved: 0.6922000000000000\n",
      "\tStep-size kept fixed at: 0.0500000000000000\n",
      "Iteration:  15\n",
      "\tQuantile Value:  0.5\n",
      "\tTrajectories constructed.\n",
      "\tEpsilon: 7.5695157984334225\n",
      "\tWeights computed and normalized.\n",
      "\tParticles Resampled.\n",
      "\tVelocities refreshed.\n",
      "\tProp Moved: 0.6662000000000000\n",
      "\tStep-size kept fixed at: 0.0500000000000000\n",
      "Iteration:  16\n",
      "\tQuantile Value:  0.5\n",
      "\tTrajectories constructed.\n",
      "\tEpsilon: 6.9490051068209002\n",
      "\tWeights computed and normalized.\n",
      "\tParticles Resampled.\n",
      "\tVelocities refreshed.\n",
      "\tProp Moved: 0.6250000000000000\n",
      "\tStep-size kept fixed at: 0.0500000000000000\n",
      "Iteration:  17\n",
      "\tQuantile Value:  0.5\n",
      "\tTrajectories constructed.\n",
      "\tEpsilon: 6.4266412827875508\n",
      "\tWeights computed and normalized.\n",
      "\tParticles Resampled.\n",
      "\tVelocities refreshed.\n",
      "\tProp Moved: 0.5848000000000000\n",
      "\tStep-size kept fixed at: 0.0500000000000000\n",
      "Iteration:  18\n",
      "\tQuantile Value:  0.5\n",
      "\tTrajectories constructed.\n",
      "\tEpsilon: 5.9616813588705542\n",
      "\tWeights computed and normalized.\n",
      "\tParticles Resampled.\n",
      "\tVelocities refreshed.\n",
      "\tProp Moved: 0.5698000000000000\n",
      "\tStep-size kept fixed at: 0.0500000000000000\n",
      "Iteration:  19\n",
      "\tQuantile Value:  0.5\n",
      "\tTrajectories constructed.\n",
      "\tEpsilon: 5.5669658877909116\n",
      "\tWeights computed and normalized.\n",
      "\tParticles Resampled.\n",
      "\tVelocities refreshed.\n",
      "\tProp Moved: 0.5560000000000000\n",
      "\tStep-size kept fixed at: 0.0500000000000000\n",
      "Iteration:  20\n",
      "\tQuantile Value:  0.5\n",
      "\tTrajectories constructed.\n",
      "\tEpsilon: 5.1801082492424051\n",
      "\tWeights computed and normalized.\n",
      "\tParticles Resampled.\n",
      "\tVelocities refreshed.\n",
      "\tProp Moved: 0.5082000000000000\n",
      "\tStep-size kept fixed at: 0.0500000000000000\n",
      "Iteration:  21\n",
      "\tQuantile Value:  0.5\n",
      "\tTrajectories constructed.\n",
      "\tEpsilon: 4.8536232252715781\n",
      "\tWeights computed and normalized.\n",
      "\tParticles Resampled.\n",
      "\tVelocities refreshed.\n",
      "\tProp Moved: 0.4966000000000000\n",
      "\tStep-size kept fixed at: 0.0500000000000000\n",
      "Iteration:  22\n",
      "\tQuantile Value:  0.5\n",
      "\tTrajectories constructed.\n",
      "\tEpsilon: 4.5709519924059778\n",
      "\tWeights computed and normalized.\n",
      "\tParticles Resampled.\n",
      "\tVelocities refreshed.\n",
      "\tProp Moved: 0.4394000000000000\n",
      "\tStep-size kept fixed at: 0.0500000000000000\n",
      "Iteration:  23\n",
      "\tQuantile Value:  0.5\n",
      "\tTrajectories constructed.\n",
      "\tEpsilon: 4.3260317327635160\n",
      "\tWeights computed and normalized.\n",
      "\tParticles Resampled.\n",
      "\tVelocities refreshed.\n",
      "\tProp Moved: 0.4218000000000000\n",
      "\tStep-size kept fixed at: 0.0500000000000000\n",
      "Iteration:  24\n",
      "\tQuantile Value:  0.5\n",
      "\tTrajectories constructed.\n",
      "\tEpsilon: 4.1187775630150343\n",
      "\tWeights computed and normalized.\n",
      "\tParticles Resampled.\n",
      "\tVelocities refreshed.\n",
      "\tProp Moved: 0.4026000000000000\n",
      "\tStep-size kept fixed at: 0.0500000000000000\n",
      "Iteration:  25\n",
      "\tQuantile Value:  0.5\n",
      "\tTrajectories constructed.\n",
      "\tEpsilon: 3.9206333283145782\n",
      "\tWeights computed and normalized.\n",
      "\tParticles Resampled.\n",
      "\tVelocities refreshed.\n",
      "\tProp Moved: 0.3820000000000000\n",
      "\tStep-size kept fixed at: 0.0500000000000000\n",
      "Iteration:  26\n",
      "\tQuantile Value:  0.5\n",
      "\tTrajectories constructed.\n",
      "\tEpsilon: 3.7389751998461254\n",
      "\tWeights computed and normalized.\n",
      "\tParticles Resampled.\n",
      "\tVelocities refreshed.\n",
      "\tProp Moved: 0.3606000000000000\n",
      "\tStep-size kept fixed at: 0.0500000000000000\n",
      "Iteration:  27\n",
      "\tQuantile Value:  0.5\n",
      "\tTrajectories constructed.\n",
      "\tEpsilon: 3.5578666845385212\n",
      "\tWeights computed and normalized.\n",
      "\tParticles Resampled.\n",
      "\tVelocities refreshed.\n",
      "\tProp Moved: 0.3552000000000000\n",
      "\tStep-size kept fixed at: 0.0500000000000000\n",
      "Iteration:  28\n",
      "\tQuantile Value:  0.5\n",
      "\tTrajectories constructed.\n",
      "\tEpsilon: 3.4022010077600298\n",
      "\tWeights computed and normalized.\n",
      "\tParticles Resampled.\n",
      "\tVelocities refreshed.\n",
      "\tProp Moved: 0.3648000000000000\n",
      "\tStep-size kept fixed at: 0.0500000000000000\n",
      "Iteration:  29\n",
      "\tQuantile Value:  0.5\n",
      "\tTrajectories constructed.\n",
      "\tEpsilon: 3.2373440751936968\n",
      "\tWeights computed and normalized.\n",
      "\tParticles Resampled.\n",
      "\tVelocities refreshed.\n",
      "\tProp Moved: 0.3096000000000000\n",
      "\tStep-size kept fixed at: 0.0500000000000000\n",
      "Iteration:  30\n",
      "\tQuantile Value:  0.5\n",
      "\tTrajectories constructed.\n",
      "\tEpsilon: 3.0877734627636437\n",
      "\tWeights computed and normalized.\n",
      "\tParticles Resampled.\n",
      "\tVelocities refreshed.\n",
      "\tProp Moved: 0.2960000000000000\n",
      "\tStep-size kept fixed at: 0.0500000000000000\n",
      "Iteration:  31\n",
      "\tQuantile Value:  0.5\n",
      "\tTrajectories constructed.\n",
      "\tEpsilon: 2.9541360448989291\n",
      "\tWeights computed and normalized.\n",
      "\tParticles Resampled.\n",
      "\tVelocities refreshed.\n",
      "\tProp Moved: 0.2558000000000000\n",
      "\tStep-size kept fixed at: 0.0500000000000000\n",
      "Iteration:  32\n",
      "\tQuantile Value:  0.5\n",
      "\tTrajectories constructed.\n",
      "\tEpsilon: 2.8298094410032397\n",
      "\tWeights computed and normalized.\n",
      "\tParticles Resampled.\n",
      "\tVelocities refreshed.\n",
      "\tProp Moved: 0.2250000000000000\n",
      "\tStep-size kept fixed at: 0.0500000000000000\n",
      "Iteration:  33\n",
      "\tQuantile Value:  0.5\n",
      "\tTrajectories constructed.\n",
      "\tEpsilon: 2.7287438083914179\n",
      "\tWeights computed and normalized.\n",
      "\tParticles Resampled.\n",
      "\tVelocities refreshed.\n",
      "\tProp Moved: 0.2176000000000000\n",
      "\tStep-size kept fixed at: 0.0500000000000000\n",
      "Iteration:  34\n",
      "\tQuantile Value:  0.5\n"
     ]
    },
    {
     "name": "stdout",
     "output_type": "stream",
     "text": [
      "\tTrajectories constructed.\n",
      "\tEpsilon: 2.6362497855905151\n",
      "\tWeights computed and normalized.\n",
      "\tParticles Resampled.\n",
      "\tVelocities refreshed.\n",
      "\tProp Moved: 0.2104000000000000\n",
      "\tStep-size kept fixed at: 0.0500000000000000\n",
      "Iteration:  35\n",
      "\tQuantile Value:  0.5\n",
      "\tTrajectories constructed.\n",
      "\tEpsilon: 2.5472602227998391\n",
      "\tWeights computed and normalized.\n",
      "\tParticles Resampled.\n",
      "\tVelocities refreshed.\n",
      "\tProp Moved: 0.1802000000000000\n",
      "\tStep-size kept fixed at: 0.0500000000000000\n",
      "Iteration:  36\n",
      "\tQuantile Value:  0.5\n",
      "\tTrajectories constructed.\n",
      "\tEpsilon: 2.4560410706223994\n",
      "\tWeights computed and normalized.\n",
      "\tParticles Resampled.\n",
      "\tVelocities refreshed.\n",
      "\tProp Moved: 0.1804000000000000\n",
      "\tStep-size kept fixed at: 0.0500000000000000\n",
      "Iteration:  37\n",
      "\tQuantile Value:  0.5\n",
      "\tTrajectories constructed.\n",
      "\tEpsilon: 2.3724464679545125\n",
      "\tWeights computed and normalized.\n",
      "\tParticles Resampled.\n",
      "\tVelocities refreshed.\n",
      "\tProp Moved: 0.1684000000000000\n",
      "\tStep-size kept fixed at: 0.0500000000000000\n",
      "Iteration:  38\n",
      "\tQuantile Value:  0.5\n",
      "\tTrajectories constructed.\n",
      "\tEpsilon: 2.2931567290540404\n",
      "\tWeights computed and normalized.\n",
      "\tParticles Resampled.\n",
      "\tVelocities refreshed.\n",
      "\tProp Moved: 0.1284000000000000\n",
      "\tStep-size kept fixed at: 0.0500000000000000\n",
      "Iteration:  39\n",
      "\tQuantile Value:  0.5\n",
      "\tTrajectories constructed.\n",
      "\tEpsilon: 2.2171432563201279\n",
      "\tWeights computed and normalized.\n",
      "\tParticles Resampled.\n",
      "\tVelocities refreshed.\n",
      "\tProp Moved: 0.1078000000000000\n",
      "\tStep-size kept fixed at: 0.0500000000000000\n",
      "Iteration:  40\n",
      "\tQuantile Value:  0.5\n",
      "\tTrajectories constructed.\n",
      "\tEpsilon: 2.1463556298705417\n",
      "\tWeights computed and normalized.\n",
      "\tParticles Resampled.\n",
      "\tVelocities refreshed.\n",
      "\tProp Moved: 0.0812000000000000\n",
      "\tStep-size kept fixed at: 0.0500000000000000\n",
      "Iteration:  41\n",
      "\tQuantile Value:  0.5\n",
      "\tTrajectories constructed.\n",
      "\tEpsilon: 2.0786532827497775\n",
      "\tWeights computed and normalized.\n",
      "\tParticles Resampled.\n",
      "\tVelocities refreshed.\n",
      "\tProp Moved: 0.0736000000000000\n",
      "\tStep-size kept fixed at: 0.0500000000000000\n",
      "Iteration:  42\n",
      "\tQuantile Value:  0.5\n",
      "\tTrajectories constructed.\n",
      "\tEpsilon: 2.0203623139937092\n",
      "\tWeights computed and normalized.\n",
      "\tParticles Resampled.\n",
      "\tVelocities refreshed.\n",
      "\tProp Moved: 0.0624000000000000\n",
      "\tStep-size kept fixed at: 0.0500000000000000\n",
      "Iteration:  43\n",
      "\tQuantile Value:  0.5\n",
      "\tTrajectories constructed.\n",
      "\tEpsilon: 1.9715073937229559\n",
      "\tWeights computed and normalized.\n",
      "\tParticles Resampled.\n",
      "\tVelocities refreshed.\n",
      "\tProp Moved: 0.0762000000000000\n",
      "\tStep-size kept fixed at: 0.0500000000000000\n",
      "Iteration:  44\n",
      "\tQuantile Value:  0.5\n",
      "\tTrajectories constructed.\n",
      "\tEpsilon: 1.9096799973883476\n",
      "\tWeights computed and normalized.\n",
      "\tParticles Resampled.\n",
      "\tVelocities refreshed.\n",
      "\tProp Moved: 0.0660000000000000\n",
      "\tStep-size kept fixed at: 0.0500000000000000\n",
      "Iteration:  45\n",
      "\tQuantile Value:  0.5\n",
      "\tTrajectories constructed.\n",
      "\tEpsilon: 1.8517156583650767\n",
      "\tWeights computed and normalized.\n",
      "\tParticles Resampled.\n",
      "\tVelocities refreshed.\n",
      "\tProp Moved: 0.0480000000000000\n",
      "\tStep-size kept fixed at: 0.0500000000000000\n",
      "Iteration:  46\n",
      "\tQuantile Value:  0.5\n",
      "\tTrajectories constructed.\n",
      "\tEpsilon: 1.8076149844936189\n",
      "\tWeights computed and normalized.\n",
      "\tParticles Resampled.\n",
      "\tVelocities refreshed.\n",
      "\tProp Moved: 0.0402000000000000\n",
      "\tStep-size kept fixed at: 0.0500000000000000\n",
      "Iteration:  47\n",
      "\tQuantile Value:  0.5\n",
      "\tTrajectories constructed.\n",
      "\tEpsilon: 1.7527571680475691\n",
      "\tWeights computed and normalized.\n",
      "\tParticles Resampled.\n",
      "\tVelocities refreshed.\n",
      "\tProp Moved: 0.0272000000000000\n",
      "\tStep-size kept fixed at: 0.0500000000000000\n",
      "Iteration:  48\n",
      "\tQuantile Value:  0.5\n",
      "\tTrajectories constructed.\n",
      "\tEpsilon: 1.7117621134760292\n",
      "\tWeights computed and normalized.\n",
      "\tParticles Resampled.\n",
      "\tVelocities refreshed.\n",
      "\tProp Moved: 0.0700000000000000\n",
      "\tStep-size kept fixed at: 0.0500000000000000\n",
      "Iteration:  49\n",
      "\tQuantile Value:  0.5\n",
      "\tTrajectories constructed.\n",
      "\tEpsilon: 1.6759728963887779\n",
      "\tWeights computed and normalized.\n",
      "\tParticles Resampled.\n",
      "\tVelocities refreshed.\n",
      "\tProp Moved: 0.0398000000000000\n",
      "\tStep-size kept fixed at: 0.0500000000000000\n",
      "Iteration:  50\n",
      "\tQuantile Value:  0.5\n",
      "\tTrajectories constructed.\n",
      "\tEpsilon: 1.6340897202449076\n",
      "\tWeights computed and normalized.\n",
      "\tParticles Resampled.\n",
      "\tVelocities refreshed.\n",
      "\tProp Moved: 0.0328000000000000\n",
      "\tStep-size kept fixed at: 0.0500000000000000\n",
      "Iteration:  51\n",
      "\tQuantile Value:  0.5\n",
      "\tTrajectories constructed.\n",
      "\tEpsilon: 1.5818446817600067\n",
      "\tWeights computed and normalized.\n",
      "\tParticles Resampled.\n",
      "\tVelocities refreshed.\n",
      "\tProp Moved: 0.0380000000000000\n",
      "\tStep-size kept fixed at: 0.0500000000000000\n",
      "Iteration:  52\n",
      "\tQuantile Value:  0.5\n",
      "\tTrajectories constructed.\n",
      "\tEpsilon: 1.5336520205403292\n",
      "\tWeights computed and normalized.\n",
      "\tParticles Resampled.\n",
      "\tVelocities refreshed.\n",
      "\tProp Moved: 0.0244000000000000\n",
      "\tStep-size kept fixed at: 0.0500000000000000\n",
      "Iteration:  53\n",
      "\tQuantile Value:  0.5\n",
      "\tTrajectories constructed.\n",
      "\tEpsilon: 1.4881050345400135\n",
      "\tWeights computed and normalized.\n",
      "\tParticles Resampled.\n",
      "\tVelocities refreshed.\n",
      "\tProp Moved: 0.0132000000000000\n",
      "\tStep-size kept fixed at: 0.0500000000000000\n",
      "Iteration:  54\n",
      "\tQuantile Value:  0.5\n",
      "\tTrajectories constructed.\n",
      "\tEpsilon: 1.4533227672951334\n",
      "\tWeights computed and normalized.\n",
      "\tParticles Resampled.\n",
      "\tVelocities refreshed.\n",
      "\tProp Moved: 0.0062000000000000\n",
      "\tStep-size kept fixed at: 0.0500000000000000\n",
      "Iteration:  55\n",
      "\tQuantile Value:  0.5\n",
      "\tTrajectories constructed.\n",
      "\tEpsilon: 1.4145031821107039\n",
      "\tWeights computed and normalized.\n",
      "\tParticles Resampled.\n",
      "\tVelocities refreshed.\n",
      "\tProp Moved: 0.0164000000000000\n",
      "\tStep-size kept fixed at: 0.0500000000000000\n",
      "Iteration:  56\n",
      "\tQuantile Value:  0.5\n",
      "\tTrajectories constructed.\n",
      "\tEpsilon: 1.3900634565622469\n",
      "\tWeights computed and normalized.\n",
      "\tParticles Resampled.\n",
      "\tVelocities refreshed.\n",
      "\tProp Moved: 0.0176000000000000\n",
      "\tStep-size kept fixed at: 0.0500000000000000\n",
      "Iteration:  57\n",
      "\tQuantile Value:  0.5\n",
      "\tTrajectories constructed.\n",
      "\tEpsilon: 1.3611454023040961\n",
      "\tWeights computed and normalized.\n",
      "\tParticles Resampled.\n",
      "\tVelocities refreshed.\n",
      "\tProp Moved: 0.0042000000000000\n",
      "\tStep-size kept fixed at: 0.0500000000000000\n",
      "Iteration:  58\n",
      "\tQuantile Value:  0.5\n",
      "\tTrajectories constructed.\n",
      "\tEpsilon: 1.3369366615057954\n",
      "\tWeights computed and normalized.\n",
      "\tParticles Resampled.\n",
      "\tVelocities refreshed.\n",
      "\tProp Moved: 0.0016000000000000\n",
      "\tStep-size kept fixed at: 0.0500000000000000\n",
      "Iteration:  59\n",
      "\tQuantile Value:  0.5\n",
      "\tTrajectories constructed.\n",
      "\tEpsilon: 1.3215796465900165\n",
      "\tWeights computed and normalized.\n",
      "\tParticles Resampled.\n",
      "\tVelocities refreshed.\n",
      "\tProp Moved: 0.0014000000000000\n",
      "\tStep-size kept fixed at: 0.0500000000000000\n",
      "Iteration:  60\n",
      "\tQuantile Value:  0.5\n",
      "\tTrajectories constructed.\n",
      "\tEpsilon: 1.3059865723395627\n",
      "\tWeights computed and normalized.\n",
      "\tParticles Resampled.\n",
      "\tVelocities refreshed.\n",
      "\tProp Moved: 0.0000000000000000\n",
      "\tStep-size kept fixed at: 0.0500000000000000\n"
     ]
    }
   ],
   "source": [
    "XMAS2 = MSAdaptive(generate_settings(d=d, N=N, B=50,\n",
    "        δ=0.05, δmin=δmin, min_pm=1/N, verbose=True, εs_fixed=None, adaptiveε=True, adaptiveδ=False,\n",
    "        z0_manual=PARTICLES, pm_target=0.23, pm_switch=pm_switch, low_memory=False, integrator='rwm',\n",
    "        εprop_switch=0.01, ε0_manual=DOES_NOT_MATTER.εs[-1], quantile_value=0.5, initialization='manual',\n",
    "        switch_strategy='pm', kernel='uniform',use_autograd=False, stopping_criterion={'εmin', 'pm', 'maxiter'},\n",
    "        resampling_scheme='multinomial', maxiter=500))\n",
    "_ = XMAS2.sample()"
   ]
  },
  {
   "cell_type": "code",
   "execution_count": 233,
   "id": "4bc748a2",
   "metadata": {},
   "outputs": [
    {
     "data": {
      "image/png": "[encoded data removed]",
      "text/plain": [
       "<Figure size 1152x576 with 4 Axes>"
      ]
     },
     "metadata": {
      "needs_background": "light"
     },
     "output_type": "display_data"
    }
   ],
   "source": [
    "fig, ax = plt.subplots(nrows=2, ncols=2, figsize=(16, 8), sharex=True)\n",
    "# (0, 0) iteration 1\n",
    "ax[0, 0].plot(np.arange(XMAS2.B+1), XMAS2.ESJD_CHANG[1], marker='o', label=\"iteration 1\")\n",
    "ax[0, 0].set_xticks(np.arange(XMAS2.B+1)[::2])\n",
    "_ = ax[0, 0].hist(XMAS2.K_RESAMPLED[1], density=True)\n",
    "ax[0, 0].legend()\n",
    "# (0, 1) iteration 25\n",
    "ax[0, 1].plot(np.arange(XMAS2.B+1), XMAS2.ESJD_CHANG[10], marker='o', label='iteration 10')\n",
    "ax[0, 1].set_xticks(np.arange(XMAS2.B+1)[::2])\n",
    "_ = ax[0, 1].hist(XMAS2.K_RESAMPLED[10], density=True)\n",
    "ax[0, 1].legend()\n",
    "# (1, 0) iteration 75\n",
    "ax[1, 0].plot(np.arange(XMAS2.B+1), XMAS2.ESJD_CHANG[20], marker='o', label='iteration 20')\n",
    "ax[1, 0].set_xticks(np.arange(XMAS2.B+1)[::2])\n",
    "_ = ax[1, 0].hist(XMAS2.K_RESAMPLED[20], density=True)\n",
    "ax[1, 0].legend()\n",
    "# (1, 1) iteration 100\n",
    "ax[1, 1].plot(np.arange(XMAS2.B+1), XMAS2.ESJD_CHANG[30], marker='o', label='iteration 30')\n",
    "ax[1, 1].set_xticks(np.arange(XMAS2.B+1)[::2])\n",
    "_ = ax[1, 1].hist(XMAS2.K_RESAMPLED[30], density=True)\n",
    "ax[1, 1].legend()\n",
    "plt.show()"
   ]
  },
  {
   "cell_type": "code",
   "execution_count": 248,
   "id": "ae2b9c57",
   "metadata": {},
   "outputs": [
    {
     "data": {
      "text/plain": [
       "[<matplotlib.lines.Line2D at 0x17eeda0b0>]"
      ]
     },
     "execution_count": 248,
     "metadata": {},
     "output_type": "execute_result"
    },
    {
     "data": {
      "image/png": "[encoded data removed]",
      "text/plain": [
       "<Figure size 432x288 with 1 Axes>"
      ]
     },
     "metadata": {
      "needs_background": "light"
     },
     "output_type": "display_data"
    }
   ],
   "source": [
    "DIVERSITY_MOVED = lambda i: (sum(XMAS2.K_RESAMPLED[i] >= 1) / XMAS2.N) * (len(np.unique(XMAS2.N_RESAMPLED[i])) / XMAS2.N)\n",
    "X_VALUES = np.arange(1, 50)\n",
    "Y_VALUES = np.array([DIVERSITY_MOVED(x) for x in X_VALUES])\n",
    "plt.plot(X_VALUES, Y_VALUES)"
   ]
  },
  {
   "cell_type": "markdown",
   "id": "4f373c00",
   "metadata": {},
   "source": [
    "# try running the delta adaptation to match the integration time"
   ]
  },
  {
   "cell_type": "code",
   "execution_count": null,
   "id": "a19a723e",
   "metadata": {
    "scrolled": true
   },
   "outputs": [
    {
     "name": "stdout",
     "output_type": "stream",
     "text": [
      "Integrator: RWM.\n",
      "Stopping criterion:  maxiter, εmin, pm.\n",
      "Resampling: MULTINOMIAL.\n",
      "Iteration:  1\n",
      "\tQuantile Value:  0.5\n",
      "\tTrajectories constructed.\n",
      "\tEpsilon: 45.9286395815496036\n",
      "\tWeights computed and normalized.\n",
      "\tParticles Resampled.\n",
      "\tVelocities refreshed.\n",
      "\tProp Moved: 0.9324000000000000\n",
      "\tStep-size adapted to: 0.3800000000000000 with strategy esjd\n",
      "Iteration:  2\n",
      "\tQuantile Value:  0.5\n",
      "\tTrajectories constructed.\n",
      "\tEpsilon: 28.3583519688358727\n",
      "\tWeights computed and normalized.\n",
      "\tParticles Resampled.\n",
      "\tVelocities refreshed.\n",
      "\tProp Moved: 0.3892000000000000\n",
      "\tStep-size adapted to: 0.0400000000000000 with strategy esjd\n",
      "Iteration:  3\n",
      "\tQuantile Value:  0.5\n",
      "\tTrajectories constructed.\n",
      "\tEpsilon: 22.6086198239339637\n",
      "\tWeights computed and normalized.\n",
      "\tParticles Resampled.\n",
      "\tVelocities refreshed.\n",
      "\tProp Moved: 0.9177999999999999\n",
      "\tStep-size adapted to: 0.4400000000000000 with strategy esjd\n",
      "Iteration:  4\n",
      "\tQuantile Value:  0.5\n",
      "\tTrajectories constructed.\n",
      "\tEpsilon: 19.7938519097362615\n",
      "\tWeights computed and normalized.\n",
      "\tParticles Resampled.\n",
      "\tVelocities refreshed.\n",
      "\tProp Moved: 0.3642000000000000\n",
      "\tStep-size adapted to: 0.0400000000000000 with strategy esjd\n",
      "Iteration:  5\n",
      "\tQuantile Value:  0.5\n",
      "\tTrajectories constructed.\n",
      "\tEpsilon: 18.0853042263161399\n",
      "\tWeights computed and normalized.\n",
      "\tParticles Resampled.\n",
      "\tVelocities refreshed.\n",
      "\tProp Moved: 0.9147999999999999\n",
      "\tStep-size adapted to: 0.4600000000000000 with strategy esjd\n",
      "Iteration:  6\n",
      "\tQuantile Value:  0.5\n",
      "\tTrajectories constructed.\n",
      "\tEpsilon: 17.1183517748438163\n",
      "\tWeights computed and normalized.\n",
      "\tParticles Resampled.\n",
      "\tVelocities refreshed.\n",
      "\tProp Moved: 0.3120000000000000\n",
      "\tStep-size adapted to: 0.0400000000000000 with strategy esjd\n",
      "Iteration:  7\n",
      "\tQuantile Value:  0.5\n",
      "\tTrajectories constructed.\n",
      "\tEpsilon: 16.1453066710174191\n",
      "\tWeights computed and normalized.\n",
      "\tParticles Resampled.\n",
      "\tVelocities refreshed.\n",
      "\tProp Moved: 0.9134000000000000\n",
      "\tStep-size adapted to: 0.4800000000000000 with strategy esjd\n",
      "Iteration:  8\n",
      "\tQuantile Value:  0.5\n",
      "\tTrajectories constructed.\n",
      "\tEpsilon: 14.9817992121962078\n"
     ]
    }
   ],
   "source": [
    "XMAS3_ESJD = MSAdaptive(generate_settings(d=d, N=N, B=50,\n",
    "        δ=0.05, δmin=1e-4, min_pm=1/N, verbose=True, εs_fixed=None, adaptiveε=True, adaptiveδ=True,\n",
    "        z0_manual=PARTICLES, pm_target=0.23, pm_switch=pm_switch, low_memory=False, integrator='rwm',\n",
    "        εprop_switch=0.01, ε0_manual=DOES_NOT_MATTER.εs[-1], quantile_value=0.5, initialization='manual',\n",
    "        switch_strategy='pm', kernel='uniform',use_autograd=False, stopping_criterion={'εmin', 'pm', 'maxiter'},\n",
    "        resampling_scheme='multinomial', maxiter=500, δadaptation_method='esjd', prop_esjd=0.95))\n",
    "_ = XMAS3_ESJD.sample()"
   ]
  },
  {
   "cell_type": "code",
   "execution_count": null,
   "id": "4d0a9129",
   "metadata": {},
   "outputs": [],
   "source": []
  }
 ],
 "metadata": {
  "kernelspec": {
   "display_name": "Python 3 (ipykernel)",
   "language": "python",
   "name": "python3"
  },
  "language_info": {
   "codemirror_mode": {
    "name": "ipython",
    "version": 3
   },
   "file_extension": ".py",
   "mimetype": "text/x-python",
   "name": "python",
   "nbconvert_exporter": "python",
   "pygments_lexer": "ipython3",
   "version": "3.10.4"
  }
 },
 "nbformat": 4,
 "nbformat_minor": 5
}
