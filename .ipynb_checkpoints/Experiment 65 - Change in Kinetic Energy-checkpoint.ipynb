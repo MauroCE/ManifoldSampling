{
 "cells": [
  {
   "cell_type": "markdown",
   "id": "f3582848",
   "metadata": {},
   "source": [
    "# Ellipse Example"
   ]
  },
  {
   "cell_type": "markdown",
   "id": "468f9d66",
   "metadata": {},
   "source": [
    "### Settings\n",
    "- **Prior**: Uniform on $\\mathcal{U}([-10, 10]\\times [-10, 10])$\n",
    "- **Manifold**: Ellipse corresponding to $\\mathcal{M} = \\{x\\in\\mathbb{R}^2\\,:\\, f(x) = 0\\}$ where $f(x) = \\log \\mathcal{N}(x \\mid 0, \\Sigma) - z_0$ where $\\Sigma = \\text{diag}(1.0, 0.1)$ and $z_0 = 0.04$.\n",
    "- **Kernel**: Uniform\n",
    "- **Target Posterior**: \n",
    "$$\n",
    "\\eta_\\epsilon(x) \\propto \\mathbb{I}_{f^{-1}(\\mathbb{B}(z_0, \\epsilon))}(x)\n",
    "$$\n",
    "\n",
    "### Aim and Scope\n",
    "I want to see how the change in kinetic energy changes as $\\delta$ changes. Ideally I would like to check this for two values of $\\epsilon$, one quite large and one quite small."
   ]
  },
  {
   "cell_type": "code",
   "execution_count": 1,
   "id": "8fd1b517",
   "metadata": {},
   "outputs": [],
   "source": [
    "import numpy as np\n",
    "from numpy import zeros, eye, diag, exp, log\n",
    "from numpy.linalg import norm, solve\n",
    "from numpy.random import randn, rand\n",
    "from scipy.stats import multivariate_normal as MVN\n",
    "from scipy.stats import uniform as udist\n",
    "from itertools import product\n",
    "\n",
    "import matplotlib.pyplot as plt\n",
    "from mpl_toolkits.axes_grid1 import ImageGrid\n",
    "\n",
    "from Manifolds.GeneralizedEllipse import GeneralizedEllipse\n",
    "from utils import prep_contour, generate_powers_of_ten"
   ]
  },
  {
   "cell_type": "code",
   "execution_count": 2,
   "id": "cb5a85e2",
   "metadata": {},
   "outputs": [],
   "source": [
    "# Manifold\n",
    "μ       = zeros(2)\n",
    "Σ       = diag([1, 0.1])\n",
    "target  = MVN(μ, Σ)\n",
    "f = target.logpdf\n",
    "z0      = -2.9513586307684885                # Specifies exactly which ellipse we are interested in (y*).\n",
    "ellipse = GeneralizedEllipse(μ, Σ, exp(z0))\n",
    "\n",
    "# Gradient function\n",
    "grad  = lambda xi: -solve(Σ, xi - μ)\n",
    "q = MVN(zeros(2), eye(2))\n",
    "\n",
    "# Prior function is uniform on a huge square\n",
    "square_side = 10  # SQUARE SIDE\n",
    "logprior  = lambda xi: udist.logpdf(xi, loc=-square_side, scale=2*square_side).sum()"
   ]
  },
  {
   "cell_type": "code",
   "execution_count": 3,
   "id": "cf423020",
   "metadata": {},
   "outputs": [],
   "source": [
    "def HugTangential(x0, δ, B, N, α, q, logpi, grad_log_pi):\n",
    "    \"\"\"\n",
    "    Repurposed version of THUG.\n",
    "    \"\"\"\n",
    "    # The following dictionary stores everything we need\n",
    "    OUT = {\n",
    "        'D' : {f\"{i}\": [] for i in range(N)}, # Distance\n",
    "        'SD': {f\"{i}\": [] for i in range(N)}, # Square Distance\n",
    "        'AR': [np.nan for i in range(N)],     # Acceptance Ratio\n",
    "        'KE': [np.nan for i in range(N)],     # Kinetic Energy\n",
    "        'SAMPLES': x0,\n",
    "        'ACCEPTANCES': np.zeros(N),\n",
    "        'EJSD': [np.nan for i in range(N)]    # Acceptance Ratio * Squared Distance\n",
    "    }\n",
    "    for i in range(N):\n",
    "        v0s = q.rvs()                    # Draw velocity spherically\n",
    "        g = grad_log_pi(x0)              # Compute gradient at x0\n",
    "        g = g / norm(g)                  # Normalize\n",
    "        v0 = v0s - α * g * (g @ v0s) # Tilt velocity\n",
    "        v, x = v0, x0                    # Housekeeping\n",
    "        logu = np.log(rand())            # Acceptance ratio\n",
    "        for _ in range(B):\n",
    "            xmid = x + δ*v/2           # Move to midpoint\n",
    "            g = grad_log_pi(xmid)          # Compute gradient at midpoint\n",
    "            ghat = g / norm(g)          # Normalize \n",
    "            v = v - 2*(v @ ghat) * ghat # Reflect velocity using midpoint gradient\n",
    "            x = xmid + δ*v/2           # Move from midpoint to end-point\n",
    "            # Compute metrics\n",
    "            OUT['D'][f\"{i}\"].append(norm(x - x0))\n",
    "            OUT['SD'][f\"{i}\"].append(norm(x  -x0)**2)\n",
    "\n",
    "        # Unsqueeze the velocity\n",
    "        g = grad_log_pi(x)\n",
    "        g = g / norm(g)\n",
    "        v = v + (α / (1 - α)) * g * (g @ v)\n",
    "        # In the acceptance ratio must use spherical velocities!! Hence v0s and the unsqueezed v\n",
    "        logar = logpi(x) + q.logpdf(v) - logpi(x0) - q.logpdf(v0s)\n",
    "        ar = exp(logar)\n",
    "        OUT['AR'][i] = ar\n",
    "        OUT['KE'][i] = norm(v)**2 - norm(v0s)**2\n",
    "        OUT['EJSD'][i] = ar * (norm(x - x0)**2)\n",
    "        if logu <= logar:\n",
    "            OUT['SAMPLES'] = np.vstack((OUT['SAMPLES'], x))\n",
    "            OUT['ACCEPTANCES'][i] = 1         # Accepted!\n",
    "            x0 = x\n",
    "        else:\n",
    "            OUT['SAMPLES'] = np.vstack((OUT['SAMPLES'], x0))\n",
    "            OUT['ACCEPTANCES'][i] = 0         # Rejected\n",
    "    return OUT"
   ]
  },
  {
   "cell_type": "code",
   "execution_count": 4,
   "id": "983dfa89",
   "metadata": {},
   "outputs": [],
   "source": [
    "# Settings\n",
    "B = 20\n",
    "N = 1000\n",
    "n_grid = 30\n",
    "\n",
    "def generate_logpi(ϵ):\n",
    "    # Kernel\n",
    "    def logkernel(xi):\n",
    "        with np.errstate(divide='ignore'):\n",
    "            return log(float(norm(f(xi) - z0) < ϵ) / ϵ)\n",
    "    # Logpi\n",
    "    logpi = lambda xi: logprior(xi) + logkernel(xi)\n",
    "    return logpi"
   ]
  },
  {
   "cell_type": "code",
   "execution_count": 5,
   "id": "45d02031",
   "metadata": {},
   "outputs": [],
   "source": [
    "def generate_output(ϵs, αs, δs):\n",
    "    OUTS = []\n",
    "    for ϵix, ϵ in enumerate(ϵs):\n",
    "        for αix, α in enumerate(αs):\n",
    "            for δix, δ in enumerate(δs):\n",
    "                x0 = ellipse.sample()\n",
    "                logpi = generate_logpi(ϵ)\n",
    "                OUTS.append(HugTangential(x0, δ, B, N, α, q, logpi, grad))\n",
    "    return OUTS"
   ]
  },
  {
   "cell_type": "code",
   "execution_count": 6,
   "id": "760c5092",
   "metadata": {},
   "outputs": [],
   "source": [
    "outs = generate_output(\n",
    "    [1.0, 0.0001],\n",
    "    [0.0, 0.5, 0.9, 0.99, 0.999],\n",
    "    [10.0, 1.0, 0.1, 0.01, 0.001]\n",
    ")"
   ]
  },
  {
   "cell_type": "code",
   "execution_count": 7,
   "id": "ccef0668",
   "metadata": {},
   "outputs": [],
   "source": [
    "outs"
   ]
  },
  {
   "cell_type": "code",
   "execution_count": null,
   "id": "606eef5b",
   "metadata": {},
   "outputs": [],
   "source": []
  }
 ],
 "metadata": {
  "kernelspec": {
   "display_name": "Python 3 (ipykernel)",
   "language": "python",
   "name": "python3"
  },
  "language_info": {
   "codemirror_mode": {
    "name": "ipython",
    "version": 3
   },
   "file_extension": ".py",
   "mimetype": "text/x-python",
   "name": "python",
   "nbconvert_exporter": "python",
   "pygments_lexer": "ipython3",
   "version": "3.10.4"
  }
 },
 "nbformat": 4,
 "nbformat_minor": 5
}
