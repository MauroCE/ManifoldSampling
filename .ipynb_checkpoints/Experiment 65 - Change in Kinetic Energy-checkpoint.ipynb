{
 "cells": [
  {
   "cell_type": "markdown",
   "id": "f3582848",
   "metadata": {},
   "source": [
    "# Ellipse Example"
   ]
  },
  {
   "cell_type": "markdown",
   "id": "468f9d66",
   "metadata": {},
   "source": [
    "### Settings\n",
    "- **Prior**: Uniform on $\\mathcal{U}([-10, 10]\\times [-10, 10])$\n",
    "- **Manifold**: Ellipse corresponding to $\\mathcal{M} = \\{x\\in\\mathbb{R}^2\\,:\\, f(x) = 0\\}$ where $f(x) = \\log \\mathcal{N}(x \\mid 0, \\Sigma) - z_0$ where $\\Sigma = \\text{diag}(1.0, 0.1)$ and $z_0 = 0.04$.\n",
    "- **Kernel**: Uniform\n",
    "- **Target Posterior**: \n",
    "$$\n",
    "\\eta_\\epsilon(x) \\propto \\mathbb{I}_{f^{-1}(\\mathbb{B}(z_0, \\epsilon))}(x)\n",
    "$$\n",
    "\n",
    "### Aim and Scope\n",
    "- Pick a good $\\epsilon$\n",
    "- Pick a good $\\delta$\n",
    "- For a range of $\\alpha$s compute $\\Delta_\\ell$ and $\\Delta_v$ and plot histograms for each $\\alpha$.\n"
   ]
  },
  {
   "cell_type": "code",
   "execution_count": 257,
   "id": "8fd1b517",
   "metadata": {},
   "outputs": [],
   "source": [
    "import numpy as np\n",
    "from numpy import zeros, eye, diag, exp, log\n",
    "from numpy.linalg import norm, solve\n",
    "from numpy.random import randn, rand\n",
    "from scipy.stats import multivariate_normal as MVN\n",
    "from scipy.stats import uniform as udist\n",
    "from scipy.stats import norm as ndist\n",
    "from itertools import product\n",
    "from IPython.display import display\n",
    "\n",
    "import matplotlib.pyplot as plt\n",
    "from mpl_toolkits.axes_grid1 import ImageGrid\n",
    "\n",
    "from Manifolds.GeneralizedEllipse import GeneralizedEllipse\n",
    "from utils import prep_contour, generate_powers_of_ten"
   ]
  },
  {
   "cell_type": "markdown",
   "id": "fe71e163",
   "metadata": {},
   "source": [
    "### Functions and Setup"
   ]
  },
  {
   "cell_type": "code",
   "execution_count": 258,
   "id": "cb5a85e2",
   "metadata": {},
   "outputs": [],
   "source": [
    "# Manifold\n",
    "μ       = zeros(2)\n",
    "Σ       = diag([1, 0.1])\n",
    "target  = MVN(μ, Σ)\n",
    "f = target.logpdf\n",
    "z0      = -2.9513586307684885                # Specifies exactly which ellipse we are interested in (y*).\n",
    "ellipse = GeneralizedEllipse(μ, Σ, exp(z0))\n",
    "\n",
    "# Gradient function\n",
    "grad  = lambda xi: -solve(Σ, xi - μ)\n",
    "q = MVN(zeros(2), eye(2))\n",
    "\n",
    "# Prior function is uniform on a huge square\n",
    "square_side = 10  # SQUARE SIDE\n",
    "logprior  = lambda xi: udist.logpdf(xi, loc=-square_side, scale=2*square_side).sum()\n",
    "# logprior  = lambda xi: ndist.logpdf(xi, loc=0.0, scale=2.0).sum()\n",
    "\n",
    "def generate_logpi(ϵ):\n",
    "    # Kernel\n",
    "#     def logkernel(xi):\n",
    "#         with np.errstate(divide='ignore'):\n",
    "#             return log(float(norm(f(xi) - z0) < ϵ) / ϵ)\n",
    "    def logkernel(xi):\n",
    "        return -norm(f(xi) - z0)**2/(2*(ϵ**2)) - np.log(ϵ)\n",
    "    # Logpi\n",
    "    logpi = lambda xi: logprior(xi) + logkernel(xi)\n",
    "    return logpi"
   ]
  },
  {
   "cell_type": "code",
   "execution_count": 259,
   "id": "cf423020",
   "metadata": {},
   "outputs": [],
   "source": [
    "def HugTangential(x0, δ, B, N, α, q, logpi, grad_log_pi):\n",
    "    \"\"\"\n",
    "    Repurposed version of THUG.\n",
    "    \"\"\"\n",
    "    # The following dictionary stores everything we need\n",
    "    OUT = {\n",
    "        'D' : {f\"{i}\": [] for i in range(N)}, # Distance\n",
    "        'SD': {f\"{i}\": [] for i in range(N)}, # Square Distance\n",
    "        'AR': [np.nan for i in range(N)],     # Acceptance Ratio\n",
    "        'Δk': [np.nan for i in range(N)],     # Kinetic Energy\n",
    "        'Δℓ': [np.nan for i in range(N)],     # Potential Energy\n",
    "        'SAMPLES': x0,\n",
    "        'ACCEPTANCES': np.zeros(N),\n",
    "        'EJSD': [np.nan for i in range(N)]    # Acceptance Ratio * Squared Distance\n",
    "    }\n",
    "    for i in range(N):\n",
    "        v0s = q.rvs()                    # Draw velocity spherically\n",
    "        g = grad_log_pi(x0)              # Compute gradient at x0\n",
    "        g = g / norm(g)                  # Normalize\n",
    "        v0 = v0s - α * g * (g @ v0s) # Tilt velocity\n",
    "        v, x = v0, x0                    # Housekeeping\n",
    "        logu = np.log(rand())            # Acceptance ratio\n",
    "        for _ in range(B):\n",
    "            xmid = x + δ*v/2           # Move to midpoint\n",
    "            g = grad_log_pi(xmid)          # Compute gradient at midpoint\n",
    "            ghat = g / norm(g)          # Normalize \n",
    "            v = v - 2*(v @ ghat) * ghat # Reflect velocity using midpoint gradient\n",
    "            x = xmid + δ*v/2           # Move from midpoint to end-point\n",
    "            # Compute metrics\n",
    "            OUT['D'][f\"{i}\"].append(norm(x - x0))\n",
    "            OUT['SD'][f\"{i}\"].append(norm(x  -x0)**2)\n",
    "\n",
    "        # Unsqueeze the velocity\n",
    "        g = grad_log_pi(x)\n",
    "        g = g / norm(g)\n",
    "        v = v + (α / (1 - α)) * g * (g @ v)\n",
    "        # In the acceptance ratio must use spherical velocities!! Hence v0s and the unsqueezed v\n",
    "        logar = logpi(x) + q.logpdf(v) - logpi(x0) - q.logpdf(v0s)\n",
    "        ar = exp(logar)\n",
    "        OUT['AR'][i] = ar\n",
    "        OUT['Δk'][i] = - norm(v)**2 + norm(v0s)**2\n",
    "        OUT['Δℓ'][i] = logpi(x) - logpi(x0)\n",
    "        OUT['EJSD'][i] = ar * (norm(x - x0)**2)\n",
    "        if logu <= logar:\n",
    "            OUT['SAMPLES'] = np.vstack((OUT['SAMPLES'], x))\n",
    "            OUT['ACCEPTANCES'][i] = 1         # Accepted!\n",
    "            x0 = x\n",
    "        else:\n",
    "            OUT['SAMPLES'] = np.vstack((OUT['SAMPLES'], x0))\n",
    "            OUT['ACCEPTANCES'][i] = 0         # Rejected\n",
    "    return OUT"
   ]
  },
  {
   "cell_type": "code",
   "execution_count": 260,
   "id": "dd73fc91",
   "metadata": {},
   "outputs": [],
   "source": [
    "def generate_output(ϵs, αs, δs):\n",
    "    OUTS = []\n",
    "    for ϵix, ϵ in enumerate(ϵs):\n",
    "        for αix, α in enumerate(αs):\n",
    "            for δix, δ in enumerate(δs):\n",
    "                x0 = ellipse.sample()\n",
    "                logpi = generate_logpi(ϵ)\n",
    "                OUTS.append(HugTangential(x0, δ, B, N, α, q, logpi, grad))\n",
    "    return OUTS"
   ]
  },
  {
   "cell_type": "code",
   "execution_count": 261,
   "id": "983dfa89",
   "metadata": {},
   "outputs": [],
   "source": [
    "# Settings\n",
    "ϵ = 0.001\n",
    "δ = 0.1\n",
    "B = 20\n",
    "N = 10000"
   ]
  },
  {
   "cell_type": "code",
   "execution_count": 262,
   "id": "5640d96a",
   "metadata": {},
   "outputs": [],
   "source": [
    "ϵs = [ϵ]\n",
    "δs = [δ]\n",
    "αs = [0.0, 0.5, 0.9, 0.99]"
   ]
  },
  {
   "cell_type": "code",
   "execution_count": 263,
   "id": "760c5092",
   "metadata": {},
   "outputs": [],
   "source": [
    "OUTS = generate_output(\n",
    "    ϵs=ϵs,\n",
    "    αs=αs,\n",
    "    δs=δs\n",
    ")"
   ]
  },
  {
   "cell_type": "code",
   "execution_count": 264,
   "id": "606eef5b",
   "metadata": {},
   "outputs": [
    {
     "data": {
      "image/png": "[encoded data removed]",
      "text/plain": [
       "<Figure size 720x864 with 8 Axes>"
      ]
     },
     "metadata": {
      "needs_background": "light"
     },
     "output_type": "display_data"
    }
   ],
   "source": [
    "fig, ax = plt.subplots(nrows=len(αs), ncols=2, figsize=(10, int(3*len(αs))))\n",
    "for α_ix, α in enumerate(αs):\n",
    "    _ = ax[α_ix, 0].hist(np.exp(OUTS[α_ix]['Δk']), bins=20)\n",
    "    _ = ax[α_ix, 1].hist(np.exp(OUTS[α_ix]['Δℓ']), bins=20)\n",
    "    ax[α_ix, 0].set_ylabel(r\"$\\mathregular{\\alpha}=$\" + f\"{α}\", fontsize=20, fontname='STIXGeneral')\n",
    "ax[0, 0].set_title(r\"$\\mathregular{\\exp(- \\|v\\|^2 + \\|v_0\\|^2)}$\", fontsize=20, fontname='STIXGeneral')\n",
    "ax[0, 1].set_title(r\"$\\mathregular{\\exp(\\ell(x) - \\ell(x_0))}$\", fontsize=20, fontname='STIXGeneral')\n",
    "plt.show()"
   ]
  },
  {
   "cell_type": "code",
   "execution_count": 265,
   "id": "76955714",
   "metadata": {},
   "outputs": [],
   "source": [
    "from matplotlib.colors import ListedColormap"
   ]
  },
  {
   "cell_type": "code",
   "execution_count": 266,
   "id": "f600635f",
   "metadata": {},
   "outputs": [
    {
     "data": {
      "image/png": "[encoded data removed]",
      "text/plain": [
       "<Figure size 720x864 with 4 Axes>"
      ]
     },
     "metadata": {
      "needs_background": "light"
     },
     "output_type": "display_data"
    }
   ],
   "source": [
    "fig, ax = plt.subplots(nrows=len(αs), figsize=(10, int(3*len(αs))), sharey=True, sharex=True)\n",
    "for α_ix, α in enumerate(αs):\n",
    "    scatter = ax[α_ix].scatter(np.exp(OUTS[α_ix]['Δℓ']), np.exp(OUTS[α_ix]['Δk']), c=OUTS[α_ix]['ACCEPTANCES'], cmap=ListedColormap(['r','b','g']))\n",
    "#     plt.legend(handles=scatter.legend_elements()[0], labels=[1, 0],\n",
    "#            title=\"ar\")\n",
    "    ax[α_ix].legend(*scatter.legend_elements())\n",
    "# ax[-1].set_ylim(-0.1, 10)\n",
    "# ax[-1].set_xlim(-0.1, 100)\n",
    "# ax[0, 0].set_title(r\"$\\mathregular{\\exp(- \\|v\\|^2 + \\|v_0\\|^2)}$\", fontsize=20, fontname='STIXGeneral')\n",
    "# ax[0, 1].set_title(r\"$\\mathregular{\\exp(\\ell(x) - \\ell(x_0))}$\", fontsize=20, fontname='STIXGeneral')\n",
    "plt.show()"
   ]
  },
  {
   "cell_type": "code",
   "execution_count": 182,
   "id": "7730a287",
   "metadata": {},
   "outputs": [
    {
     "data": {
      "text/plain": [
       "(-0.009133115768229685, -0.045143802242102765, -0.19769407137004202)"
      ]
     },
     "execution_count": 182,
     "metadata": {},
     "output_type": "execute_result"
    }
   ],
   "source": [
    "np.median(OUTS[1]['Δk']), np.median(OUTS[2]['Δk']), np.median(OUTS[3]['Δk'])"
   ]
  },
  {
   "cell_type": "code",
   "execution_count": 183,
   "id": "0f6f840e",
   "metadata": {},
   "outputs": [
    {
     "data": {
      "text/plain": [
       "(-1.489892817614745, -0.19932308202615, -0.16009950716028154)"
      ]
     },
     "execution_count": 183,
     "metadata": {},
     "output_type": "execute_result"
    }
   ],
   "source": [
    "np.median(OUTS[1]['Δℓ']), np.median(OUTS[2]['Δℓ']), np.median(OUTS[3]['Δℓ'])"
   ]
  },
  {
   "cell_type": "code",
   "execution_count": 186,
   "id": "c71ef189",
   "metadata": {},
   "outputs": [
    {
     "data": {
      "text/plain": [
       "(1.0, 0.9909084650275177, 0.9558600690690136, 0.8206208793386524)"
      ]
     },
     "execution_count": 186,
     "metadata": {},
     "output_type": "execute_result"
    }
   ],
   "source": [
    "np.median(np.exp(OUTS[0]['Δk'])), np.median(np.exp(OUTS[1]['Δk'])), np.median(np.exp(OUTS[2]['Δk'])), np.median(np.exp(OUTS[3]['Δk']))"
   ]
  },
  {
   "cell_type": "code",
   "execution_count": 187,
   "id": "335dbb7d",
   "metadata": {},
   "outputs": [
    {
     "data": {
      "text/plain": [
       "(0.0066305657409287564,\n",
       " 0.22539809424972396,\n",
       " 0.8192851544978443,\n",
       " 0.8520597647944054)"
      ]
     },
     "execution_count": 187,
     "metadata": {},
     "output_type": "execute_result"
    }
   ],
   "source": [
    "np.median(np.exp(OUTS[0]['Δℓ'])), np.median(np.exp(OUTS[1]['Δℓ'])), np.median(np.exp(OUTS[2]['Δℓ'])), np.median(np.exp(OUTS[3]['Δℓ']))"
   ]
  },
  {
   "cell_type": "code",
   "execution_count": 188,
   "id": "f4bc3c75",
   "metadata": {},
   "outputs": [
    {
     "data": {
      "text/plain": [
       "(1.006652596632966, 1.2113270821947866, 1.754840709560584, 1.7417990464149518)"
      ]
     },
     "execution_count": 188,
     "metadata": {},
     "output_type": "execute_result"
    }
   ],
   "source": [
    "np.median(np.exp(OUTS[0]['AR'])), np.median(np.exp(OUTS[1]['AR'])), np.median(np.exp(OUTS[2]['AR'])), np.median(np.exp(OUTS[3]['AR']))"
   ]
  },
  {
   "cell_type": "code",
   "execution_count": 191,
   "id": "a3aaf3ad",
   "metadata": {},
   "outputs": [
    {
     "data": {
      "text/plain": [
       "array([1.        , 0.99090847, 0.95586007, 0.82062088])"
      ]
     },
     "execution_count": 191,
     "metadata": {},
     "output_type": "execute_result"
    }
   ],
   "source": [
    "np.array([np.median(np.exp(OUTS[0]['Δk'])), np.median(np.exp(OUTS[1]['Δk'])), np.median(np.exp(OUTS[2]['Δk'])), np.median(np.exp(OUTS[3]['Δk']))])"
   ]
  },
  {
   "cell_type": "code",
   "execution_count": 192,
   "id": "747c3d28",
   "metadata": {},
   "outputs": [
    {
     "data": {
      "text/plain": [
       "array([0.00663057, 0.22539809, 0.81928515, 0.85205976])"
      ]
     },
     "execution_count": 192,
     "metadata": {},
     "output_type": "execute_result"
    }
   ],
   "source": [
    "np.array([np.median(np.exp(OUTS[0]['Δℓ'])), np.median(np.exp(OUTS[1]['Δℓ'])), np.median(np.exp(OUTS[2]['Δℓ'])), np.median(np.exp(OUTS[3]['Δℓ']))])"
   ]
  },
  {
   "cell_type": "code",
   "execution_count": 193,
   "id": "af6b56e9",
   "metadata": {},
   "outputs": [
    {
     "data": {
      "text/plain": [
       "array([0.00663057, 0.22334888, 0.78312196, 0.69921803])"
      ]
     },
     "execution_count": 193,
     "metadata": {},
     "output_type": "execute_result"
    }
   ],
   "source": [
    "np.array([np.median(np.exp(OUTS[0]['Δk'])), np.median(np.exp(OUTS[1]['Δk'])), np.median(np.exp(OUTS[2]['Δk'])), np.median(np.exp(OUTS[3]['Δk']))]) * np.array([np.median(np.exp(OUTS[0]['Δℓ'])), np.median(np.exp(OUTS[1]['Δℓ'])), np.median(np.exp(OUTS[2]['Δℓ'])), np.median(np.exp(OUTS[3]['Δℓ']))]) "
   ]
  },
  {
   "cell_type": "code",
   "execution_count": 194,
   "id": "28e728be",
   "metadata": {},
   "outputs": [
    {
     "data": {
      "text/plain": [
       "0.7646226203723631"
      ]
     },
     "execution_count": 194,
     "metadata": {},
     "output_type": "execute_result"
    }
   ],
   "source": [
    "OUTS[0]['AR'][0]"
   ]
  },
  {
   "cell_type": "code",
   "execution_count": 196,
   "id": "5bb6fdbd",
   "metadata": {},
   "outputs": [
    {
     "data": {
      "text/plain": [
       "0.7646226203723632"
      ]
     },
     "execution_count": 196,
     "metadata": {},
     "output_type": "execute_result"
    }
   ],
   "source": [
    "exp(OUTS[0]['Δk'][0]) * exp(OUTS[0]['Δℓ'][0])"
   ]
  },
  {
   "cell_type": "markdown",
   "id": "4c113fca",
   "metadata": {},
   "source": [
    "# Moving Interval"
   ]
  },
  {
   "cell_type": "code",
   "execution_count": 267,
   "id": "f2e74d05",
   "metadata": {},
   "outputs": [],
   "source": [
    "def percentage_in_interval(iterable, left, right):\n",
    "    \"\"\"Counts the number of elements in `iterable` that are contained in the \n",
    "    interval `[left, right]`.\"\"\"\n",
    "    array = np.array(iterable)\n",
    "    flag = (left <= array) & (array <= right)\n",
    "    return (len(array[flag]) / len(array)) * 100\n",
    "\n",
    "def prop_to_quantile_interval(p):\n",
    "    \"\"\"Transforms a proportion `p` into a quantile interval.\"\"\"\n",
    "    assert (0 <= p) and (p <= 1), \"Proportion must be between 0 and 1.\"\n",
    "    slack = (1.0 - p) / 2\n",
    "    return np.array([slack, 1.0 - slack])\n",
    "\n",
    "def generate_Δℓ_table(outs, props):\n",
    "    table = zeros((len(outs), len(props)))\n",
    "    for p_ix, p in enumerate(props):\n",
    "        # Transform `p` into a quantile interval\n",
    "        q_interval = prop_to_quantile_interval(p)\n",
    "        # Find interval within which for α=0 we get p% of Δℓ in\n",
    "        left, right = np.quantile(a=outs[0]['Δℓ'], q=q_interval)\n",
    "        # Fill in the first row of the table\n",
    "        table[0, p_ix] = percentage_in_interval(outs[0]['Δℓ'], left, right) # should be p\n",
    "        # Fill in the rest of the rows for other αs\n",
    "        for α_ix in range(1, len(outs)):\n",
    "            table[α_ix, p_ix] = percentage_in_interval(outs[α_ix]['Δℓ'], left, right)\n",
    "    return table"
   ]
  },
  {
   "cell_type": "code",
   "execution_count": 273,
   "id": "8db06d32",
   "metadata": {},
   "outputs": [
    {
     "data": {
      "text/plain": [
       "array([[25.  , 50.  , 75.  , 90.  ],\n",
       "       [26.72, 52.29, 79.65, 92.54],\n",
       "       [20.47, 42.36, 79.74, 92.7 ],\n",
       "       [19.77, 41.48, 80.42, 93.46]])"
      ]
     },
     "execution_count": 273,
     "metadata": {},
     "output_type": "execute_result"
    }
   ],
   "source": [
    "generate_Δℓ_table(OUTS, [0.25, 0.5, 0.75, 0.9])"
   ]
  },
  {
   "cell_type": "code",
   "execution_count": 438,
   "id": "b22f0699",
   "metadata": {},
   "outputs": [],
   "source": [
    "def proportion_lessthan(iterable, value):\n",
    "    \"\"\"Proportion of elements in iterable that are less than value.\"\"\"\n",
    "    array = np.array(iterable)\n",
    "    flag = array <= value\n",
    "    return (sum(flag) / len(array))"
   ]
  },
  {
   "cell_type": "code",
   "execution_count": 443,
   "id": "f644a515",
   "metadata": {},
   "outputs": [],
   "source": [
    "def find_value_so_prop_Δℓ_larger(iterable, p, tol=0.01):\n",
    "    \"\"\"Finds a value L such that the proportion of samples with Δℓ in [L, \\infty) is p.\"\"\"\n",
    "    assert (0 <= p) & (p <= 1), \"Must be between 0 and 1.\"\n",
    "    array, sorted_array = np.array(iterable), np.sort(np.array(iterable))\n",
    "    iteration = 0\n",
    "    N = len(array)\n",
    "    # Start with N*(1-p) as an index\n",
    "    L = sorted_array[int(np.floor(N*(1-p)))]\n",
    "    is_prop_lessthan_within_tol_of_1_minus_p = lambda L: abs(proportion_lessthan(array, L) - (1 - p)) <= tol\n",
    "    while is_prop_lessthan_within_tol_of_1_minus_p(L) and (iteration < len(array) - 1):\n",
    "        iteration += 1\n",
    "        L = sorted_array[iteration]\n",
    "    return L\n",
    "\n",
    "def generate_Δℓ_table_new(outs, props):\n",
    "    \"\"\"This table only works on intervals of the type [L, \\infty).\"\"\"\n",
    "    table = zeros((len(outs), len(props)))\n",
    "    for p_ix, p in enumerate(props):\n",
    "        # Find value L so that a proportion p of samples have Δℓ larger than L\n",
    "        L = find_value_so_prop_Δℓ_larger_new(outs[0]['Δℓ'], p)\n",
    "        # Fill in the first row of the table\n",
    "        table[0, p_ix] = percentage_in_interval(outs[0]['Δℓ'], L, np.inf) # should be p\n",
    "        # Fill in the rest of the rows for other αs\n",
    "        for α_ix in range(1, len(outs)):\n",
    "            table[α_ix, p_ix] = percentage_in_interval(outs[α_ix]['Δℓ'], L, np.inf)\n",
    "    return table"
   ]
  },
  {
   "cell_type": "code",
   "execution_count": 454,
   "id": "26fa9046",
   "metadata": {},
   "outputs": [],
   "source": [
    "def find_value_so_prop_Δℓ_larger_new(iterable, p):\n",
    "    N = len(iterable)\n",
    "    \n",
    "    return np.sort(np.array(iterable))[int(np.floor(N*np.round(1-p, decimals=2)))]"
   ]
  },
  {
   "cell_type": "code",
   "execution_count": 455,
   "id": "dbb8cdcc",
   "metadata": {},
   "outputs": [
    {
     "data": {
      "text/plain": [
       "array([[25.  , 50.  , 75.  , 90.  ],\n",
       "       [33.7 , 62.12, 86.08, 95.81],\n",
       "       [46.32, 72.34, 88.74, 96.55],\n",
       "       [46.11, 71.69, 87.7 , 96.08]])"
      ]
     },
     "execution_count": 455,
     "metadata": {},
     "output_type": "execute_result"
    }
   ],
   "source": [
    "generate_Δℓ_table_new(OUTS, [0.25, 0.5, 0.75, 0.9])"
   ]
  },
  {
   "cell_type": "markdown",
   "id": "1f8c6f85",
   "metadata": {},
   "source": [
    "### Relationship between $\\Delta \\ell$ and $\\Delta k$"
   ]
  },
  {
   "cell_type": "code",
   "execution_count": 511,
   "id": "eab0a0d5",
   "metadata": {},
   "outputs": [
    {
     "data": {
      "text/plain": [
       "array([-8480.52,  -270.1 ,   -65.28,    -5.06,    -0.19])"
      ]
     },
     "metadata": {},
     "output_type": "display_data"
    },
    {
     "data": {
      "text/plain": [
       "array([-3195.09,    -3.47,    -0.13,     0.  ,     0.15])"
      ]
     },
     "metadata": {},
     "output_type": "display_data"
    }
   ],
   "source": [
    "α_index = 3\n",
    "k_prop = 0.9\n",
    "K = find_value_so_prop_Δℓ_larger_new(OUTS[α_index]['Δk'], k_prop)\n",
    "less_than_K_flag = np.array(OUTS[α_index]['Δk']) <= K\n",
    "with np.printoptions(precision=2, suppress=True):\n",
    "    display(np.quantile(np.array(OUTS[α_index]['Δℓ'])[less_than_K_flag], q=[0.0, 0.25, 0.5, 0.75, 0.9]))\n",
    "    display(np.quantile(np.array(OUTS[α_index]['Δℓ'])[~less_than_K_flag], q=[0.0, 0.25, 0.5, 0.75, 0.9]))"
   ]
  },
  {
   "cell_type": "code",
   "execution_count": null,
   "id": "12c8c632",
   "metadata": {},
   "outputs": [],
   "source": []
  }
 ],
 "metadata": {
  "kernelspec": {
   "display_name": "Python 3 (ipykernel)",
   "language": "python",
   "name": "python3"
  },
  "language_info": {
   "codemirror_mode": {
    "name": "ipython",
    "version": 3
   },
   "file_extension": ".py",
   "mimetype": "text/x-python",
   "name": "python",
   "nbconvert_exporter": "python",
   "pygments_lexer": "ipython3",
   "version": "3.10.4"
  }
 },
 "nbformat": 4,
 "nbformat_minor": 5
}
