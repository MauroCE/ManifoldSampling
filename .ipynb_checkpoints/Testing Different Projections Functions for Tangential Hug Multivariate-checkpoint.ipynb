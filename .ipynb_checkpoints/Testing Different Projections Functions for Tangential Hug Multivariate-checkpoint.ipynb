{
 "cells": [
  {
   "cell_type": "code",
   "execution_count": 49,
   "id": "ccc3603d",
   "metadata": {},
   "outputs": [],
   "source": [
    "import numpy as np\n",
    "from numpy.random import randn\n",
    "\n",
    "from scipy.linalg import qr, cho_factor, cho_solve, svd, solve, lu_factor, lu_solve\n",
    "from scipy.linalg import svd"
   ]
  },
  {
   "cell_type": "code",
   "execution_count": 21,
   "id": "a56ee7bd",
   "metadata": {},
   "outputs": [],
   "source": [
    "n = 1000\n",
    "m = 50\n",
    "J = randn(m, n)\n",
    "v = randn(n)"
   ]
  },
  {
   "cell_type": "code",
   "execution_count": 52,
   "id": "53d2d60d",
   "metadata": {},
   "outputs": [],
   "source": [
    "def func1(J, v):\n",
    "    return v - 2 * J.T @ solve(J@J.T, J@v)\n",
    "\n",
    "def func2(J, v):\n",
    "    Q = qr(J.T, mode='economic')[0]\n",
    "    return v - 2*Q@(Q.T@v)\n",
    "\n",
    "def func3(J, v):\n",
    "    return v - 2*J.T @ cho_solve(cho_factor(J@J.T, lower=True), J@v)\n",
    "\n",
    "def func4(J, v):\n",
    "    return v - 2*J.T @ lu_solve(lu_factor(J@J.T), J@v)"
   ]
  },
  {
   "cell_type": "code",
   "execution_count": 53,
   "id": "f461ab55",
   "metadata": {},
   "outputs": [
    {
     "data": {
      "text/plain": [
       "1.7763568394002505e-15"
      ]
     },
     "execution_count": 53,
     "metadata": {},
     "output_type": "execute_result"
    }
   ],
   "source": [
    "max(abs(func1(J, v) - func2(J, v)))"
   ]
  },
  {
   "cell_type": "code",
   "execution_count": 54,
   "id": "1415c2bf",
   "metadata": {},
   "outputs": [
    {
     "data": {
      "text/plain": [
       "1.1102230246251565e-15"
      ]
     },
     "execution_count": 54,
     "metadata": {},
     "output_type": "execute_result"
    }
   ],
   "source": [
    "max(abs(func1(J, v) - func3(J, v)))"
   ]
  },
  {
   "cell_type": "code",
   "execution_count": 55,
   "id": "ad874474",
   "metadata": {},
   "outputs": [
    {
     "data": {
      "text/plain": [
       "0.0"
      ]
     },
     "execution_count": 55,
     "metadata": {},
     "output_type": "execute_result"
    }
   ],
   "source": [
    "max(abs(func1(J, v) - func4(J, v)))"
   ]
  },
  {
   "cell_type": "code",
   "execution_count": 60,
   "id": "46a9fc09",
   "metadata": {},
   "outputs": [
    {
     "name": "stdout",
     "output_type": "stream",
     "text": [
      "282 µs ± 43.6 µs per loop (mean ± std. dev. of 10 runs, 1,000 loops each)\n"
     ]
    }
   ],
   "source": [
    "%timeit -n 1000 -r 10 func1(J, v)"
   ]
  },
  {
   "cell_type": "code",
   "execution_count": 61,
   "id": "77944d00",
   "metadata": {},
   "outputs": [
    {
     "name": "stdout",
     "output_type": "stream",
     "text": [
      "2.32 ms ± 507 µs per loop (mean ± std. dev. of 10 runs, 1,000 loops each)\n"
     ]
    }
   ],
   "source": [
    "%timeit -n 1000 -r 10 func2(J, v)"
   ]
  },
  {
   "cell_type": "code",
   "execution_count": 62,
   "id": "a2037914",
   "metadata": {},
   "outputs": [
    {
     "name": "stdout",
     "output_type": "stream",
     "text": [
      "220 µs ± 18.8 µs per loop (mean ± std. dev. of 10 runs, 1,000 loops each)\n"
     ]
    }
   ],
   "source": [
    "%timeit -n 1000 -r 10 func3(J, v)"
   ]
  },
  {
   "cell_type": "code",
   "execution_count": 63,
   "id": "fd862ea5",
   "metadata": {},
   "outputs": [
    {
     "name": "stdout",
     "output_type": "stream",
     "text": [
      "227 µs ± 7.55 µs per loop (mean ± std. dev. of 10 runs, 1,000 loops each)\n"
     ]
    }
   ],
   "source": [
    "%timeit -n 1000 -r 10 func4(J, v)"
   ]
  },
  {
   "cell_type": "code",
   "execution_count": null,
   "id": "229867cd",
   "metadata": {},
   "outputs": [],
   "source": []
  }
 ],
 "metadata": {
  "kernelspec": {
   "display_name": "Python 3 (ipykernel)",
   "language": "python",
   "name": "python3"
  },
  "language_info": {
   "codemirror_mode": {
    "name": "ipython",
    "version": 3
   },
   "file_extension": ".py",
   "mimetype": "text/x-python",
   "name": "python",
   "nbconvert_exporter": "python",
   "pygments_lexer": "ipython3",
   "version": "3.10.4"
  }
 },
 "nbformat": 4,
 "nbformat_minor": 5
}
