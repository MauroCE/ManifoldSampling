{
 "cells": [
  {
   "cell_type": "markdown",
   "metadata": {},
   "source": [
    "# Mixture Manifold HMC"
   ]
  },
  {
   "cell_type": "markdown",
   "metadata": {},
   "source": [
    "This is not working because Zappa's algorithm leaves the distribution ON THE MANIFOLD invariant, not the true target distribution. Hence we are not targeting the correct distribution."
   ]
  },
  {
   "cell_type": "code",
   "execution_count": 1,
   "metadata": {},
   "outputs": [],
   "source": [
    "import numpy as np\n",
    "import matplotlib.pyplot as plt\n",
    "from scipy.stats import multivariate_normal, norm\n",
    "from ManifoldHMCAlgorithms.mixture_manifoldhmc import MixtureManifoldHMC"
   ]
  },
  {
   "cell_type": "code",
   "execution_count": null,
   "metadata": {},
   "outputs": [],
   "source": [
    "# Target Distribution \n",
    "Sigma = np.array([[1.0, 0.6], [0.6, 2.0]])        # Covariance Matrix of Target Distribution\n",
    "mu = np.zeros(2)                                  # Mean of target distribution\n",
    "target = multivariate_normal(mean=mu, cov=Sigma)\n",
    "\n",
    "# Settings for sampling\n",
    "n = 1            # Number of HMC samples per iteration\n",
    "m = 30             # Number of Zappa samples per iteration\n",
    "T = 2            # Total integration time\n",
    "epsilon = 0.05    # Step size\n",
    "M = np.eye(2)     # Coviariance Matrix for momentum distribution\n",
    "alpha = 0.1       # Probability of using HMC\n",
    "N = 200000         # Total number of samples\n",
    "\n",
    "# Data for contour plot\n",
    "xmin, xmax, xstep = -3, 3, 0.05\n",
    "ymin, ymax, ystep = -3, 3, 0.05\n",
    "x_grid, y_grid = np.mgrid[xmin:xmax:xstep, ymin:ymax:ystep]\n",
    "contour_values = target.pdf(np.dstack((x_grid, y_grid)))\n",
    "\n",
    "# Sample and plot\n",
    "x0 = target.rvs()\n",
    "samples = MixtureManifoldHMC(x0, alpha=alpha, N=N, n=n, m=m, Sigma=Sigma, mu=mu, T=T, epsilon=epsilon, M=M)"
   ]
  },
  {
   "cell_type": "code",
   "execution_count": null,
   "metadata": {},
   "outputs": [],
   "source": [
    "fig, ax = plt.subplots(figsize=(10, 8))\n",
    "ax.scatter(samples[:, 0], samples[:,1])\n",
    "ax.contour(x_grid, y_grid, contour_values, colors=\"lightblue\")\n",
    "ax.set_xlabel(r\"$x$\", fontsize=20)\n",
    "ax.set_ylabel(r\"$y$\", fontsize=20)\n",
    "plt.show()"
   ]
  },
  {
   "cell_type": "code",
   "execution_count": null,
   "metadata": {},
   "outputs": [],
   "source": [
    "# marginals\n",
    "marginal_x = norm(loc=mu[0], scale=np.sqrt(Sigma[0,0]))\n",
    "marginal_y = norm(loc=mu[1], scale=np.sqrt(Sigma[1,1]))\n",
    "\n",
    "# Plotting vars\n",
    "xs = np.linspace(-3, 3)\n",
    "ys = np.linspace(-5, 5)\n",
    "\n",
    "fig, ax = plt.subplots(ncols=2, figsize=(20, 8))\n",
    "\n",
    "# X space\n",
    "_ = ax[0].hist(samples[:, 0], bins=50, density=True)\n",
    "ax[0].plot(xs, marginal_x.pdf(xs))\n",
    "\n",
    "# Y space\n",
    "_ = ax[1].hist(samples[:, 1], bins=50, density=True)\n",
    "ax[1].plot(ys, marginal_y.pdf(ys))\n",
    "\n",
    "plt.show()"
   ]
  },
  {
   "cell_type": "code",
   "execution_count": null,
   "metadata": {},
   "outputs": [],
   "source": []
  },
  {
   "cell_type": "code",
   "execution_count": null,
   "metadata": {},
   "outputs": [],
   "source": []
  }
 ],
 "metadata": {
  "@webio": {
   "lastCommId": null,
   "lastKernelId": null
  },
  "kernelspec": {
   "display_name": "Python 3",
   "language": "python",
   "name": "python3"
  },
  "language_info": {
   "codemirror_mode": {
    "name": "ipython",
    "version": 3
   },
   "file_extension": ".py",
   "mimetype": "text/x-python",
   "name": "python",
   "nbconvert_exporter": "python",
   "pygments_lexer": "ipython3",
   "version": "3.7.4"
  }
 },
 "nbformat": 4,
 "nbformat_minor": 2
}
