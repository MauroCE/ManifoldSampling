{
 "cells": [
  {
   "cell_type": "code",
   "execution_count": 218,
   "id": "718a2bd8",
   "metadata": {},
   "outputs": [],
   "source": [
    "import numpy as np\n",
    "from scipy.stats import multivariate_normal as MVN\n",
    "import matplotlib.pyplot as plt\n",
    "from scipy.optimize import root, fsolve, minimize\n",
    "from numpy.linalg import norm\n",
    "from numpy import log, zeros, eye\n",
    "from scipy.stats import uniform as udist\n",
    "\n",
    "from utils import prep_contour\n",
    "from Manifolds.GeneralizedEllipse import GeneralizedEllipse"
   ]
  },
  {
   "cell_type": "code",
   "execution_count": 214,
   "id": "787991a1",
   "metadata": {},
   "outputs": [],
   "source": [
    "μ1 = np.array([0, 0])\n",
    "Σ1 = np.array([[10.0, 0.0], [0.0, 0.1]])\n",
    "π1 = MVN(μ1, Σ1)\n",
    "\n",
    "μ2 = np.array([0, 0])\n",
    "Σ2 = np.array([[0.1, 0.0], [0.0, 10.0]])\n",
    "π2 = MVN(μ2, Σ2)\n",
    "\n",
    "z0 = 0.04\n",
    "\n",
    "pdf = lambda x: 0.5*π1.pdf(x) + 0.5*π2.pdf(x)\n",
    "logpdf = lambda x: np.log(0.5*π1.pdf(x) + 0.5*π2.pdf(x))"
   ]
  },
  {
   "cell_type": "code",
   "execution_count": 209,
   "id": "8ae5e65a",
   "metadata": {},
   "outputs": [
    {
     "data": {
      "image/png": "[encoded data removed]",
      "text/plain": [
       "<Figure size 432x288 with 1 Axes>"
      ]
     },
     "metadata": {
      "needs_background": "light"
     },
     "output_type": "display_data"
    }
   ],
   "source": [
    "fig, ax = plt.subplots()\n",
    "xlim = [-4, 4]\n",
    "ylim = [-4, 4]\n",
    "\n",
    "ax.contour(*prep_contour(xlim, ylim, 0.01, logpdf), levels=[log(z0)])\n",
    "ax.scatter(*sample_on_manifold())\n",
    "plt.show()"
   ]
  },
  {
   "cell_type": "code",
   "execution_count": 210,
   "id": "1a50e03e",
   "metadata": {},
   "outputs": [],
   "source": [
    "def sample_near_manifold(maxiter=100):\n",
    "    u = np.random.rand()\n",
    "    ellipse1 = GeneralizedEllipse(μ1, Σ1, 0.08)\n",
    "    ellipse2 = GeneralizedEllipse(μ2, Σ2, 0.08)\n",
    "    if u < 0.5:\n",
    "        return ellipse1.sample()\n",
    "    else:\n",
    "        return ellipse2.sample()\n",
    "\n",
    "def sample_on_manifold(tol=1e-8):\n",
    "    start = sample_near_manifold() #np.random.uniform(low=-1, high=1, size=2)\n",
    "    function = lambda xy: np.array([abs(pdf(xy) - z0), 0.0])\n",
    "    return fsolve(function, start, xtol=tol)"
   ]
  },
  {
   "cell_type": "code",
   "execution_count": 212,
   "id": "24d1458a",
   "metadata": {},
   "outputs": [],
   "source": [
    "def HugTangential(x0, δ, B, N, α, q, logpi, grad_log_pi):\n",
    "    \"\"\"\n",
    "    Repurposed version of THUG.\n",
    "    \"\"\"\n",
    "    # The following dictionary stores everything we need\n",
    "    OUT = {\n",
    "        'D' : {f\"{i}\": [] for i in range(N)}, # Distance\n",
    "        'SD': {f\"{i}\": [] for i in range(N)}, # Square Distance\n",
    "        'AR': [np.nan for i in range(N)],     # Acceptance Ratio\n",
    "        'KE': [np.nan for i in range(N)],     # Kinetic Energy\n",
    "        'SAMPLES': x0,\n",
    "        'ACCEPTANCES': np.zeros(N),\n",
    "        'EJSD': [np.nan for i in range(N)]    # Acceptance Ratio * Squared Distance\n",
    "    }\n",
    "    for i in range(N):\n",
    "        v0s = q.rvs()                    # Draw velocity spherically\n",
    "        g = grad_log_pi(x0)              # Compute gradient at x0\n",
    "        g = g / norm(g)                  # Normalize\n",
    "        v0 = v0s - α * g * (g @ v0s) # Tilt velocity\n",
    "        v, x = v0, x0                    # Housekeeping\n",
    "        logu = np.log(rand())            # Acceptance ratio\n",
    "        for _ in range(B):\n",
    "            xmid = x + δ*v/2           # Move to midpoint\n",
    "            g = grad_log_pi(xmid)          # Compute gradient at midpoint\n",
    "            ghat = g / norm(g)          # Normalize \n",
    "            v = v - 2*(v @ ghat) * ghat # Reflect velocity using midpoint gradient\n",
    "            x = xmid + δ*v/2           # Move from midpoint to end-point\n",
    "            # Compute metrics\n",
    "            OUT['D'][f\"{i}\"].append(norm(x - x0))\n",
    "            OUT['SD'][f\"{i}\"].append(norm(x  -x0)**2)\n",
    "\n",
    "        # Unsqueeze the velocity\n",
    "        g = grad_log_pi(x)\n",
    "        g = g / norm(g)\n",
    "        v = v + (α / (1 - α)) * g * (g @ v)\n",
    "        # In the acceptance ratio must use spherical velocities!! Hence v0s and the unsqueezed v\n",
    "        logar = logpi(x) + q.logpdf(v) - logpi(x0) - q.logpdf(v0s)\n",
    "        ar = exp(logar)\n",
    "        OUT['AR'][i] = ar\n",
    "        OUT['KE'][i] = norm(v)**2 - norm(v0s)**2\n",
    "        OUT['EJSD'][i] = ar * (norm(x - x0)**2)\n",
    "        if logu <= logar:\n",
    "            OUT['SAMPLES'] = np.vstack((OUT['SAMPLES'], x))\n",
    "            OUT['ACCEPTANCES'][i] = 1         # Accepted!\n",
    "            x0 = x\n",
    "        else:\n",
    "            OUT['SAMPLES'] = np.vstack((OUT['SAMPLES'], x0))\n",
    "            OUT['ACCEPTANCES'][i] = 0         # Rejected\n",
    "    return OUT"
   ]
  },
  {
   "cell_type": "code",
   "execution_count": 219,
   "id": "e2ca74fb",
   "metadata": {},
   "outputs": [],
   "source": [
    "# Proposal for velocity\n",
    "q = MVN(zeros(2), eye(2))\n",
    "\n",
    "# Prior function is uniform on a huge square\n",
    "square_side = 10  # SQUARE SIDE\n",
    "logprior  = lambda xi: udist.logpdf(xi, loc=-square_side, scale=2*square_side).sum()"
   ]
  },
  {
   "cell_type": "code",
   "execution_count": null,
   "id": "0d859424",
   "metadata": {},
   "outputs": [],
   "source": [
    "# Settings\n",
    "# ϵ = 0.00001\n",
    "B = 20\n",
    "N = 1000\n",
    "n_grid = 20\n",
    "\n",
    "def generate_logpi(ϵ):\n",
    "    # Kernel\n",
    "    def logkernel(xi):\n",
    "        with np.errstate(divide='ignore'):\n",
    "            return log(float(abs(pdf(xi) - z0) < ϵ) / ϵ)\n",
    "    # Logpi\n",
    "    logpi = lambda xi: logprior(xi) + logkernel(xi)\n",
    "    return logpi"
   ]
  }
 ],
 "metadata": {
  "kernelspec": {
   "display_name": "Python 3 (ipykernel)",
   "language": "python",
   "name": "python3"
  },
  "language_info": {
   "codemirror_mode": {
    "name": "ipython",
    "version": 3
   },
   "file_extension": ".py",
   "mimetype": "text/x-python",
   "name": "python",
   "nbconvert_exporter": "python",
   "pygments_lexer": "ipython3",
   "version": "3.10.4"
  }
 },
 "nbformat": 4,
 "nbformat_minor": 5
}
