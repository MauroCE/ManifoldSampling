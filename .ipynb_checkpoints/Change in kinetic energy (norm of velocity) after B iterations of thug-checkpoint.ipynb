{
 "cells": [
  {
   "cell_type": "code",
   "execution_count": 566,
   "id": "c4e17c5d",
   "metadata": {},
   "outputs": [],
   "source": [
    "import numpy as np\n",
    "from numpy import zeros, eye, array, exp, zeros_like, vstack, outer\n",
    "from numpy.linalg import norm, solve, inv\n",
    "from autograd import jacobian\n",
    "import autograd.numpy as anp\n",
    "from autograd.numpy.linalg import solve as asolve\n",
    "from math import log10, floor\n",
    "\n",
    "from scipy.stats import multivariate_normal as MVN\n",
    "\n",
    "from Manifolds.GeneralizedEllipse import GeneralizedEllipse"
   ]
  },
  {
   "cell_type": "markdown",
   "id": "0091c914",
   "metadata": {},
   "source": [
    "- Density of a multivariate normal centered at $\\mu=(0, 0)$ with covariance matrix $\\Sigma$ is\n",
    "$$\n",
    "p(x) = (2\\pi)^{-1}\\det(\\Sigma)^{-1/2}\\exp\\left(-\\frac{1}{2}x^\\top\\Sigma^{-1} x\\right)\n",
    "$$\n",
    "- Function is the log density $f:\\mathbb{R}^n\\to\\mathbb{R}$\n",
    "$$\n",
    "f(x) = \\log p(x) = -\\log(2\\pi) - \\frac{1}{2}\\log\\det(\\Sigma) - \\frac{1}{2}x^\\top\\Sigma^{-1}x\n",
    "$$\n",
    "- Gradient \n",
    "$$\n",
    "\\nabla f(x) = -\\Sigma^{-1}x\n",
    "$$\n",
    "- Jacobian function $J_f:\\mathbb{R}^n\\to\\mathbb{R}^{1\\times n}$\n",
    "$$\n",
    "J_f(x) = - x^\\top \\Sigma^{-1}\n",
    "$$\n",
    "- Nabla squared and Hessian matrix\n",
    "$$\n",
    "H_f(x) = \\nabla^2 f(x) = -\\Sigma^{-1}\n",
    "$$"
   ]
  },
  {
   "cell_type": "code",
   "execution_count": 619,
   "id": "8e4b0e9c",
   "metadata": {},
   "outputs": [],
   "source": [
    "μ = zeros(2)\n",
    "Σ = array([[3.0, 0.0], [0.0, 1.0]])\n",
    "Σinv = inv(Σ)\n",
    "π = MVN(μ, Σ)\n",
    "f = π.logpdf\n",
    "z0 = -4\n",
    "ellipse = GeneralizedEllipse(μ, Σ, exp(z0))\n",
    "grad_f = lambda x: - solve(Σ, x - μ)\n",
    "hess_f = lambda x: - inv(Σ)\n",
    "q = MVN(zeros(2), eye(2))"
   ]
  },
  {
   "cell_type": "code",
   "execution_count": 620,
   "id": "7592435c",
   "metadata": {},
   "outputs": [],
   "source": [
    "x0 = ellipse.sample()\n",
    "v0 = q.rvs()"
   ]
  },
  {
   "cell_type": "code",
   "execution_count": 621,
   "id": "af347f4a",
   "metadata": {},
   "outputs": [],
   "source": [
    "def thug_dynamic(x0, v0, T, B, α, grad_log_pi):\n",
    "    positions = x0\n",
    "    velocities = v0\n",
    "    g = grad_log_pi(x0)              # Compute gradient at x0\n",
    "    g = g / norm(g)                  # Normalize\n",
    "    w0 = v0 - α * g * (g @ v0)       # Tilt velocity\n",
    "    velocities = vstack((velocities, w0))\n",
    "    w, x = w0, x0                    # Housekeeping\n",
    "    δ = T / B                    # Compute step size\n",
    "    for _ in range(B):\n",
    "        x = x + δ*w/2           # Move to midpoint\n",
    "        positions = vstack((positions, x))\n",
    "        g = grad_log_pi(x)          # Compute gradient at midpoint\n",
    "        ghat = g / norm(g)          # Normalize \n",
    "        w = w - 2*(w @ ghat) * ghat # Reflect velocity using midpoint gradient\n",
    "        velocities = vstack((velocities, w))\n",
    "        x = x + δ*w/2           # Move from midpoint to end-point\n",
    "        positions = vstack((positions, x))\n",
    "    # Unsqueeze the velocity\n",
    "    g = grad_log_pi(x)\n",
    "    g = g / norm(g)\n",
    "    v = w + (α / (1 - α)) * g * (g @ w)\n",
    "    velocities = vstack((velocities, v))\n",
    "    return positions, velocities"
   ]
  },
  {
   "cell_type": "code",
   "execution_count": 622,
   "id": "769486e0",
   "metadata": {},
   "outputs": [],
   "source": [
    "T = 10.0\n",
    "B = 10\n",
    "δ = T / B"
   ]
  },
  {
   "cell_type": "code",
   "execution_count": 623,
   "id": "8fa37fd2",
   "metadata": {},
   "outputs": [],
   "source": [
    "α = 0.5\n",
    "γ = α*(2-α) / ((1-α)**2)"
   ]
  },
  {
   "cell_type": "code",
   "execution_count": 624,
   "id": "6f250bed",
   "metadata": {},
   "outputs": [],
   "source": [
    "positions, velocities = thug_dynamic(x0, v0, T, B, α, grad_f)"
   ]
  },
  {
   "cell_type": "code",
   "execution_count": 625,
   "id": "bfce370e",
   "metadata": {},
   "outputs": [],
   "source": [
    "assert len(positions)  == 2*B + 1\n",
    "assert len(velocities) == 3 + B"
   ]
  },
  {
   "cell_type": "code",
   "execution_count": 626,
   "id": "c06d5062",
   "metadata": {},
   "outputs": [],
   "source": [
    "N = lambda x: (outer(grad_f(x), grad_f(x))) / (grad_f(x) @ grad_f(x))"
   ]
  },
  {
   "cell_type": "code",
   "execution_count": 627,
   "id": "bac3f879",
   "metadata": {},
   "outputs": [],
   "source": [
    "def interwave_arrays(a, b):\n",
    "    c = np.empty((len(a) + len(b),), dtype='object')\n",
    "    c[0::2] = a\n",
    "    c[1::2] = b\n",
    "    return c"
   ]
  },
  {
   "cell_type": "code",
   "execution_count": 628,
   "id": "75b04f22",
   "metadata": {},
   "outputs": [],
   "source": [
    "xindeces = interwave_arrays(['{}'.format(i) for i in range(B+1)], ['{}o2'.format(i) for i in range(1, 2*B, 2)])"
   ]
  },
  {
   "cell_type": "code",
   "execution_count": 629,
   "id": "17252d92",
   "metadata": {},
   "outputs": [],
   "source": [
    "def construct_velocities_dictionary(velocities, B):\n",
    "    vdict = {'w{}'.format(i): velocities[i+1] for i in range(B+1)}\n",
    "    vdict['v0'] = velocities[0]\n",
    "    vdict['vB'] = velocities[-1]\n",
    "    return vdict"
   ]
  },
  {
   "cell_type": "code",
   "execution_count": 630,
   "id": "50e68bb3",
   "metadata": {},
   "outputs": [],
   "source": [
    "def construct_positions_dictionary(positions, xindeces):\n",
    "    xdict = {'x{}'.format(xindeces[i]): x for (i, x) in enumerate(positions)}\n",
    "    return xdict"
   ]
  },
  {
   "cell_type": "code",
   "execution_count": 631,
   "id": "443afae9",
   "metadata": {},
   "outputs": [],
   "source": [
    "xdict = construct_positions_dictionary(positions, xindeces)"
   ]
  },
  {
   "cell_type": "code",
   "execution_count": 632,
   "id": "d2d81344",
   "metadata": {},
   "outputs": [],
   "source": [
    "vdict = construct_velocities_dictionary(velocities, B)"
   ]
  },
  {
   "cell_type": "code",
   "execution_count": 633,
   "id": "ee7b6863",
   "metadata": {},
   "outputs": [],
   "source": [
    "def get_x(b):\n",
    "    assert type(b) == str or type(b) == int\n",
    "    if type(b) == int:\n",
    "        if b in [int(ind) for ind in xindeces if ind.isdigit()]:\n",
    "            return positions[::2][b]\n",
    "        else:\n",
    "            raise ValueError(\"b is integer but not within range.\")\n",
    "    elif type(b) == str:\n",
    "        if b in xindeces:\n",
    "            return positions[np.where(xindeces == b)[0][0]]\n",
    "        else:\n",
    "            raise ValueError(\"b is string but not in xindeces.\")\n",
    "    else:\n",
    "        raise ValueError('b must be either string or integer')\n",
    "    \n",
    "    \n",
    "def get_w(b):\n",
    "    assert (type(b) == str and b.isdigit()) or type(b) == int\n",
    "    b = int(b)\n",
    "    assert int(b) >= 0 and int(b) <= B\n",
    "    return velocities[1:-1][int(b)]"
   ]
  },
  {
   "cell_type": "code",
   "execution_count": 634,
   "id": "4c7dcd5c",
   "metadata": {},
   "outputs": [],
   "source": [
    "# Grab all x's\n",
    "x1o2 = get_x('1o2')\n",
    "x1   = get_x(1)\n",
    "x3o2 = get_x('3o2')\n",
    "x2   = get_x(2)\n",
    "x5o2 = get_x('5o2')\n",
    "x3   = get_x(3)\n",
    "x7o2 = get_x('7o2')\n",
    "x4   = get_x(4)\n",
    "x9o2 = get_x('9o2')\n",
    "x5   = get_x(5)\n",
    "\n",
    "# Grab all vs and ws\n",
    "w0 = get_w(0)\n",
    "w1 = get_w(1)\n",
    "w2 = get_w(2)\n",
    "w3 = get_w(3)\n",
    "w4 = get_w(4)\n",
    "w5 = get_w(5)\n",
    "v5 = velocities[-1]\n",
    "vB = v5\n",
    "\n",
    "# Grab w with reference to B\n",
    "wBm1 = get_w(B-1)\n",
    "wB   = get_w(B)\n",
    "\n",
    "# Grab position with reference to B\n",
    "xB   = get_x(B)\n",
    "xBm1 = get_x(B-1)\n",
    "\n",
    "Δ = vB@vB - v0@v0"
   ]
  },
  {
   "cell_type": "code",
   "execution_count": 635,
   "id": "f82e2fb4",
   "metadata": {},
   "outputs": [],
   "source": [
    "N0    = N(x0)\n",
    "N_1o2 = N(get_x('1o2'))\n",
    "N_9o2 = N(get_x('9o2'))\n",
    "N1    = N(x1)\n",
    "N5    = N(x5)\n",
    "NB    = N(xB)"
   ]
  },
  {
   "cell_type": "code",
   "execution_count": 636,
   "id": "8cfc24c9",
   "metadata": {},
   "outputs": [],
   "source": [
    "# Correct, gives v5@v5\n",
    "# w5 @ (I + ((α*(2-α)) / ((1-α)**2)) * N(x5)) @ w5"
   ]
  },
  {
   "cell_type": "code",
   "execution_count": 637,
   "id": "b2a2240b",
   "metadata": {},
   "outputs": [],
   "source": [
    "# Correct, gives v5@v5 - v0@v0\n",
    "#-α*(2-α)*(v0@N0@v0) + (α*(2-α)/((1-α)**2))*w4@(I - 2*N_9o2)@N5@(I - 2*N_9o2)@w4"
   ]
  },
  {
   "cell_type": "code",
   "execution_count": 638,
   "id": "6671dd9b",
   "metadata": {},
   "outputs": [],
   "source": [
    "def N_autograd(x):\n",
    "    gx = asolve(Σ, x - μ)\n",
    "    return anp.outer(gx, gx) / (gx @ gx)"
   ]
  },
  {
   "cell_type": "code",
   "execution_count": 639,
   "id": "7bb0fc5d",
   "metadata": {},
   "outputs": [],
   "source": [
    "Tfunc = lambda x: I - N(x)\n",
    "J = lambda x: grad_f(x).reshape(1, -1)\n",
    "Jplus = lambda x: J(x).T @ inv(J(x)@J(x).T)\n",
    "DNa = jacobian(N_autograd)\n",
    "DN = lambda x: sum_to_transpose(np.outer(Jplus(x), hess_f(x)).reshape(2, 2, 2) @ Tfunc(x))\n",
    "DNexplicit = lambda x, w: ((Σinv@(outer(w, x) + outer(x, w))@Σinv)/(x@Σinv@Σinv@x)) - 2*((w@Σinv@Σinv@x)/((x@Σinv@Σinv@x)**2))*Σinv@outer(x, x)@Σinv\n",
    "I = eye(2)"
   ]
  },
  {
   "cell_type": "code",
   "execution_count": 640,
   "id": "3968c3d5",
   "metadata": {},
   "outputs": [],
   "source": [
    "sum_to_transpose = lambda A: A + A.T"
   ]
  },
  {
   "cell_type": "code",
   "execution_count": 641,
   "id": "a095780f",
   "metadata": {},
   "outputs": [],
   "source": [
    "def Γ(b):\n",
    "    xb = get_x(b)\n",
    "    xbm1o2 = get_x('{}o2'.format(2*b-1))\n",
    "    Nb = N(xb)\n",
    "    Nbm1o2 = N(xbm1o2)\n",
    "    return Nb - 2*Nb@Nbm1o2 -2*Nbm1o2@Nb + 4*Nbm1o2@Nb@Nbm1o2\n",
    "\n",
    "\n",
    "def Γ̂(b):\n",
    "    xbm1   = get_x(b-1)\n",
    "    xbm1o2 = get_x('{}o2'.format(2*b-1))\n",
    "    Nbm1 = N(xbm1)\n",
    "    Nbm1o2 = N(xbm1o2)\n",
    "    return Nbm1 + δ*DNa(xbm1)@Nbm1o2@get_w(b-1)"
   ]
  },
  {
   "cell_type": "code",
   "execution_count": 642,
   "id": "90d7279a",
   "metadata": {},
   "outputs": [],
   "source": [
    "def Λ(b):\n",
    "    wb = get_w(b)\n",
    "    xb = get_x(b)\n",
    "    xbp1o2 = get_x('{}o2'.format(2*b+1))\n",
    "    return wb@DNa(xb)@N(xbp1o2)@wb@wb"
   ]
  },
  {
   "cell_type": "code",
   "execution_count": 643,
   "id": "8927beaa",
   "metadata": {},
   "outputs": [],
   "source": [
    "# There are three elements Jplus(x0), hess_f(x0), and T(x0)"
   ]
  },
  {
   "cell_type": "code",
   "execution_count": 644,
   "id": "00b77993",
   "metadata": {},
   "outputs": [],
   "source": [
    "#v @ DNa(x0)@ v"
   ]
  },
  {
   "cell_type": "code",
   "execution_count": 645,
   "id": "70d301b6",
   "metadata": {},
   "outputs": [],
   "source": [
    "#np.kron(Jplus(x0), hess_f(x0).reshape(2,1,2)) @ T(x0)"
   ]
  },
  {
   "cell_type": "code",
   "execution_count": 281,
   "id": "a6ef6ad5",
   "metadata": {},
   "outputs": [],
   "source": [
    "#np.outer(Jplus(x), hess_f(x)).shape"
   ]
  },
  {
   "cell_type": "markdown",
   "id": "fc4a5b83",
   "metadata": {},
   "source": [
    "$$\n",
    "N_{b-1/2} = N_{b-1} + \\frac{\\delta}{2} DN_{b-1}(\\cdot, \\cdot) w_{b-1} + \\mathcal{O}(\\delta^2)\n",
    "$$"
   ]
  },
  {
   "cell_type": "code",
   "execution_count": 282,
   "id": "45c7eed8",
   "metadata": {},
   "outputs": [],
   "source": [
    "#norm(N_1o2 - (N0 + (δ/2)*DNa(x0) @ w0))"
   ]
  },
  {
   "cell_type": "markdown",
   "id": "85ebe540",
   "metadata": {},
   "source": [
    "$$\n",
    "N_{b-1/2}N_b N_{b-1/2} = N_{b-1} + \\frac{\\delta}{2} DN_{b-1}(\\cdot, \\cdot) w_{b-1} + \\mathcal{O}(\\delta^2)\n",
    "$$"
   ]
  },
  {
   "cell_type": "code",
   "execution_count": 283,
   "id": "05583a27",
   "metadata": {},
   "outputs": [],
   "source": [
    "#norm(N_1o2@N1@N_1o2 - (N0 + (δ/2)*DNa(x0)@w0))"
   ]
  },
  {
   "cell_type": "code",
   "execution_count": 284,
   "id": "0c18915c",
   "metadata": {},
   "outputs": [],
   "source": [
    "#norm(Γ(B) - Γ̂(B))"
   ]
  },
  {
   "cell_type": "code",
   "execution_count": 285,
   "id": "6a7e89a1",
   "metadata": {},
   "outputs": [],
   "source": [
    "######### Compute delta"
   ]
  },
  {
   "cell_type": "code",
   "execution_count": 286,
   "id": "1f1ea0c5",
   "metadata": {},
   "outputs": [],
   "source": [
    "#Δ = v5@v5 - v0@v0"
   ]
  },
  {
   "cell_type": "code",
   "execution_count": 287,
   "id": "a18d5c10",
   "metadata": {},
   "outputs": [],
   "source": [
    "#Δcorrect = -α*(2-α)*v0@N0@v0 + ((α*(2-α))/((1-α)**2))*wBm1@Γ(B)@wBm1"
   ]
  },
  {
   "cell_type": "code",
   "execution_count": 288,
   "id": "d55c59b8",
   "metadata": {},
   "outputs": [],
   "source": [
    "#Δ - Δcorrect"
   ]
  },
  {
   "cell_type": "code",
   "execution_count": 289,
   "id": "5b81b5bf",
   "metadata": {},
   "outputs": [],
   "source": [
    "#Δexpand = -α*(2-α)*v0@N0@v0 + ((α*(2-α))/((1-α)**2))*wBm1@Γ̂(B)@wBm1"
   ]
  },
  {
   "cell_type": "code",
   "execution_count": 290,
   "id": "ddb135ee",
   "metadata": {},
   "outputs": [],
   "source": [
    "#Δ - Δexpand"
   ]
  },
  {
   "cell_type": "code",
   "execution_count": 291,
   "id": "4e9daf07",
   "metadata": {},
   "outputs": [],
   "source": [
    "# check if \n",
    "#wBm1@DNa(xBm1)@wBm1"
   ]
  },
  {
   "cell_type": "code",
   "execution_count": 292,
   "id": "4f730eca",
   "metadata": {},
   "outputs": [],
   "source": [
    "#wBm1 @ (DNa(xBm1)@NBm1o2@wBm1) @ wBm1"
   ]
  },
  {
   "cell_type": "code",
   "execution_count": 293,
   "id": "94abf657",
   "metadata": {},
   "outputs": [],
   "source": [
    "#wB@DNa(xB)@wB"
   ]
  },
  {
   "cell_type": "code",
   "execution_count": 294,
   "id": "88bc3067",
   "metadata": {},
   "outputs": [],
   "source": [
    "#δ*α*(2-α)*np.sum([Λ(b) for b in range(B)])"
   ]
  },
  {
   "cell_type": "code",
   "execution_count": 295,
   "id": "0c53483b",
   "metadata": {},
   "outputs": [],
   "source": [
    "#wB@wB + ((α*(2-α))/((1-α)**2))*(w0@N0@w0 + δ*np.sum([Λ(b) for b in range(B)]))"
   ]
  },
  {
   "cell_type": "code",
   "execution_count": 296,
   "id": "c39c94f3",
   "metadata": {},
   "outputs": [],
   "source": [
    "#min([norm(Γ(b) - Γ̂(b)) for b in range(1, B+1)]) < δ**2"
   ]
  },
  {
   "cell_type": "markdown",
   "id": "3b9306dc",
   "metadata": {},
   "source": [
    "At some point we get to\n",
    "$$\n",
    "\\begin{align}\n",
    "    \\Delta \n",
    "    &= -\\alpha(2-\\alpha)v_0^\\top N_0 v_0 + \\frac{\\alpha(2-\\alpha)}{(1-\\alpha)^2}w_{B}^\\top N_B w_{B} \\\\\n",
    "    &= -\\alpha(2-\\alpha)v_0^\\top N_0 v_0 + \\frac{\\alpha(2-\\alpha)}{(1-\\alpha)^2}w_{B-1}^\\top\\Gamma_B w_{B-1}\\\\\n",
    "    &= -\\alpha(2-\\alpha)v_0^\\top N_0 v_0 + \\gamma w_{B-1}^\\top\\Gamma_B w_{B-1}\n",
    "\\end{align}\n",
    "$$\n",
    "where we have defined $\\gamma = \\frac{\\alpha(2-\\alpha)}{(1-\\alpha)^2}$ for simplicity."
   ]
  },
  {
   "cell_type": "code",
   "execution_count": 297,
   "id": "866efc17",
   "metadata": {},
   "outputs": [],
   "source": [
    "#γ = α*(2-α) / ((1-α)**2)"
   ]
  },
  {
   "cell_type": "code",
   "execution_count": 298,
   "id": "070e176f",
   "metadata": {},
   "outputs": [],
   "source": [
    "# Indeed we can check this\n",
    "#Δ - (-α*(2-α)*v0@N0@v0 + γ*wBm1@Γ(B)@wBm1)"
   ]
  },
  {
   "cell_type": "markdown",
   "id": "86f0d69b",
   "metadata": {},
   "source": [
    "At this point we would like to check our various approximations. For instance, it is still true that one can use the approximation to $\\Gamma$"
   ]
  },
  {
   "cell_type": "code",
   "execution_count": 299,
   "id": "3bf3f702",
   "metadata": {},
   "outputs": [],
   "source": [
    "#abs(Δ - (-α*(2-α)*v0@N0@v0 + γ*wBm1@Γ̂(B)@wBm1))"
   ]
  },
  {
   "cell_type": "markdown",
   "id": "6d9a0595",
   "metadata": {},
   "source": [
    "This means that the approximation works. Our approximation is \n",
    "$$\n",
    "\\hat{\\Gamma}_B = N_{B-1} + \\delta DN_{B-1}(\\cdot, \\cdot)N_{B-1/2}w_{B-1} + \\mathcal{O}(\\delta^2)\n",
    "$$"
   ]
  },
  {
   "cell_type": "markdown",
   "id": "36f2f853",
   "metadata": {},
   "source": [
    "This fundamentally means that our approximate $\\Delta$ is\n",
    "$$\n",
    "\\hat{\\Delta} = -\\alpha(2-\\alpha)v_0^\\top N_0 v_0 + \\gamma w_{B-1}^\\top N_{B-1} w_{B-1} + \\gamma \\delta w_{B-1}^\\top DN_{B-1}(\\cdot, \\cdot)N_{B-1/2}w_{B-1} w_{B-1} + \\mathcal{O}(\\delta^2)\n",
    "$$"
   ]
  },
  {
   "cell_type": "markdown",
   "id": "3827dfad",
   "metadata": {},
   "source": [
    "Now we can apply the same to $w_{B-1}^\\top N_{B-1} w_{B-1}$ giving\n",
    "$$\n",
    "\\begin{align}\n",
    "    w_{B-1}^\\top N_{B-1} w_{B-1}\n",
    "    &= w_{B-2}^\\top \\Gamma_{B-1} w_{B-2} \\\\\n",
    "    &= w_{B-2}^\\top N_{B-2}w_{B-2} + \\delta w_{B-2}^\\top DN_{B-2}(\\cdot, \\cdot) N_{B-3/2} w_{B-2}w_{B-2} + \\mathcal{O}(\\delta^2)\n",
    "\\end{align}\n",
    "$$"
   ]
  },
  {
   "cell_type": "markdown",
   "id": "7b43c4cb",
   "metadata": {},
   "source": [
    "If one denotes\n",
    "$$\n",
    "\\Lambda_b = w_b^\\top DN_b(\\cdot, \\cdot) N_{b+1/2} w_{b} w_b\n",
    "$$\n",
    "then basically this tells us\n",
    "$$\n",
    "\\begin{align}\n",
    "    \\hat{\\Delta}\n",
    "    &= -\\alpha(2-\\alpha)\\|v_0^\\perp\\|^2\n",
    "\\end{align}\n",
    "$$"
   ]
  },
  {
   "cell_type": "markdown",
   "id": "ff6bef78",
   "metadata": {},
   "source": [
    "Can we check that\n",
    "$$\n",
    "\\gamma w_B^\\top N_B w_B = \\gamma w_0^\\top N_0 w_0 + \\delta\\gamma \\sum_{b=0}^{B-1} \\Lambda_{b}\n",
    "$$"
   ]
  },
  {
   "cell_type": "code",
   "execution_count": 300,
   "id": "c4d99e45",
   "metadata": {},
   "outputs": [],
   "source": [
    "#wB = get_w(B)"
   ]
  },
  {
   "cell_type": "code",
   "execution_count": 301,
   "id": "32334578",
   "metadata": {},
   "outputs": [],
   "source": [
    "#NB = N(get_x(B))"
   ]
  },
  {
   "cell_type": "code",
   "execution_count": 302,
   "id": "d9c76769",
   "metadata": {},
   "outputs": [],
   "source": [
    "#γ*wB@NB@wB"
   ]
  },
  {
   "cell_type": "code",
   "execution_count": 303,
   "id": "0987d26d",
   "metadata": {},
   "outputs": [],
   "source": [
    "#γ*w0@N0@w0 + δ*γ*sum([Λ(b) for b in range(B)])"
   ]
  },
  {
   "cell_type": "markdown",
   "id": "54e62c1f",
   "metadata": {},
   "source": [
    "Therefore one should also have"
   ]
  },
  {
   "cell_type": "code",
   "execution_count": 304,
   "id": "94a2ef10",
   "metadata": {},
   "outputs": [],
   "source": [
    "#vB@vB - (w0@w0 + γ*wB@NB@wB)"
   ]
  },
  {
   "cell_type": "code",
   "execution_count": 305,
   "id": "8e916ac6",
   "metadata": {},
   "outputs": [],
   "source": [
    "#abs(vB@vB - (w0@w0 + γ*w0@N0@w0 + δ*γ*sum([Λ(b) for b in range(B)])))"
   ]
  },
  {
   "cell_type": "markdown",
   "id": "00e1cc4e",
   "metadata": {},
   "source": [
    "And so also $\\Delta$ should be close enough"
   ]
  },
  {
   "cell_type": "code",
   "execution_count": 306,
   "id": "993c42f4",
   "metadata": {},
   "outputs": [],
   "source": [
    "#vB@vB - v0@v0"
   ]
  },
  {
   "cell_type": "code",
   "execution_count": 307,
   "id": "dfaaba26",
   "metadata": {},
   "outputs": [],
   "source": [
    "#-α*(2-α)*v0@N0@v0 + δ*γ*sum([Λ(b) for b in range(B)])"
   ]
  },
  {
   "cell_type": "code",
   "execution_count": 308,
   "id": "81682f13",
   "metadata": {},
   "outputs": [],
   "source": [
    "#Δ"
   ]
  },
  {
   "cell_type": "code",
   "execution_count": 309,
   "id": "06d37fe8",
   "metadata": {},
   "outputs": [],
   "source": [
    "#w0@w0- (v0@v0 - α*(2-α)*v0@N0@v0)"
   ]
  },
  {
   "cell_type": "code",
   "execution_count": 495,
   "id": "850c6e18",
   "metadata": {},
   "outputs": [
    {
     "data": {
      "text/plain": [
       "0.0013539139848017523"
      ]
     },
     "execution_count": 495,
     "metadata": {},
     "output_type": "execute_result"
    }
   ],
   "source": [
    "abs(Δ - δ*γ*sum([Λ(b) for b in range(B)]))"
   ]
  },
  {
   "cell_type": "markdown",
   "id": "715d01c7",
   "metadata": {},
   "source": [
    "Test that\n",
    "$$\n",
    "N_{b+3/2}w_{b+1} = -N_{b+1/2}w_b + \\mathcal{O}(\\delta)\n",
    "$$"
   ]
  },
  {
   "cell_type": "code",
   "execution_count": 311,
   "id": "7acf93a5",
   "metadata": {},
   "outputs": [],
   "source": [
    "#norm(N(get_x('3o2'))@get_w(1) + N(get_x('1o2'))@get_w(0))"
   ]
  },
  {
   "cell_type": "markdown",
   "id": "a6774ced",
   "metadata": {},
   "source": [
    "Check whether\n",
    "$$\n",
    "w_{b+1}^\\top J_{b+1}^+ = -w_b J_b^+ + \\mathcal{O}(\\delta)\n",
    "$$"
   ]
  },
  {
   "cell_type": "code",
   "execution_count": 312,
   "id": "a5fd8f8d",
   "metadata": {},
   "outputs": [],
   "source": [
    "#abs((get_w(1)@Jplus(get_x(1)) + get_w(0)@Jplus(get_x(0)))[0])"
   ]
  },
  {
   "cell_type": "markdown",
   "id": "b875392e",
   "metadata": {},
   "source": [
    "Check that\n",
    "$$\n",
    "DN_{b+1}(\\cdot, \\cdot) = DN_b(\\cdot, \\cdot) + \\mathcal{O}(\\delta)\n",
    "$$"
   ]
  },
  {
   "cell_type": "code",
   "execution_count": 313,
   "id": "f79da4bf",
   "metadata": {},
   "outputs": [],
   "source": [
    "#norm(DNa(get_x(1)) - DNa(get_x(0)))"
   ]
  },
  {
   "cell_type": "code",
   "execution_count": 314,
   "id": "49ffbac6",
   "metadata": {},
   "outputs": [],
   "source": [
    "#Λ(1) - Λ(0)"
   ]
  },
  {
   "cell_type": "markdown",
   "id": "f67cc0df",
   "metadata": {},
   "source": [
    "At this point, it might be possible to approximate the whole sum (up to order $\\delta$) using $B\\Lambda(0)$"
   ]
  },
  {
   "cell_type": "markdown",
   "id": "6b9e8abd",
   "metadata": {},
   "source": [
    "$$\n",
    "\\sum_{b=0}^{B-1} \\Lambda_b = B\\Lambda_0\n",
    "$$"
   ]
  },
  {
   "cell_type": "code",
   "execution_count": 315,
   "id": "b783af8f",
   "metadata": {},
   "outputs": [],
   "source": [
    "#sum([Λ(b) for b in range(B)]) - B*Λ(0)"
   ]
  },
  {
   "cell_type": "markdown",
   "id": "3e2ddce4",
   "metadata": {},
   "source": [
    "And therefore we can then approximate\n",
    "$$\n",
    "\\Delta = \\gamma T \\Lambda_0 + \\mathcal{O}(\\delta^2)\n",
    "$$"
   ]
  },
  {
   "cell_type": "code",
   "execution_count": 496,
   "id": "e5a13749",
   "metadata": {},
   "outputs": [
    {
     "data": {
      "text/plain": [
       "0.12255434385028963"
      ]
     },
     "execution_count": 496,
     "metadata": {},
     "output_type": "execute_result"
    }
   ],
   "source": [
    "abs(Δ - γ*(B*δ)*Λ(0))"
   ]
  },
  {
   "cell_type": "code",
   "execution_count": 370,
   "id": "970c3053",
   "metadata": {},
   "outputs": [
    {
     "data": {
      "text/plain": [
       "array([-0.05436017,  0.43205513])"
      ]
     },
     "execution_count": 370,
     "metadata": {},
     "output_type": "execute_result"
    }
   ],
   "source": [
    "w0@DNa(x0)@wB"
   ]
  },
  {
   "cell_type": "code",
   "execution_count": 377,
   "id": "eb867966",
   "metadata": {},
   "outputs": [
    {
     "data": {
      "text/plain": [
       "array([[ 0.05930491,  0.23332837],\n",
       "       [-0.01507349, -0.05930491]])"
      ]
     },
     "execution_count": 377,
     "metadata": {},
     "output_type": "execute_result"
    }
   ],
   "source": [
    "N(get_x(1))@DNa(get_x(1))@get_w(1)@N(get_x(1))"
   ]
  },
  {
   "cell_type": "code",
   "execution_count": 380,
   "id": "52ffd830",
   "metadata": {},
   "outputs": [
    {
     "data": {
      "text/plain": [
       "array([[-0.01056784, -0.04157795],\n",
       "       [ 0.00268602,  0.01056784]])"
      ]
     },
     "execution_count": 380,
     "metadata": {},
     "output_type": "execute_result"
    }
   ],
   "source": [
    "DNexplicit(get_x(1), get_w(1)@N(get_x(1)))@N(get_x(1))"
   ]
  },
  {
   "cell_type": "code",
   "execution_count": 383,
   "id": "d87283f5",
   "metadata": {},
   "outputs": [
    {
     "data": {
      "text/plain": [
       "array([[2.19492018e-18, 1.04367431e-17],\n",
       "       [9.82086275e-18, 4.42679497e-17]])"
      ]
     },
     "execution_count": 383,
     "metadata": {},
     "output_type": "execute_result"
    }
   ],
   "source": [
    "N(get_x(1))@DNexplicit(get_x(1), get_w(1))@N(get_x(1))"
   ]
  },
  {
   "cell_type": "code",
   "execution_count": 373,
   "id": "3cb2ec70",
   "metadata": {},
   "outputs": [
    {
     "data": {
      "text/plain": [
       "array([-0.05436017,  0.43205513])"
      ]
     },
     "execution_count": 373,
     "metadata": {},
     "output_type": "execute_result"
    }
   ],
   "source": [
    "DNexplicit(x0, wB) @ w0"
   ]
  },
  {
   "cell_type": "code",
   "execution_count": 361,
   "id": "f45cdc11",
   "metadata": {},
   "outputs": [],
   "source": []
  },
  {
   "cell_type": "code",
   "execution_count": 356,
   "id": "b0c89c8c",
   "metadata": {},
   "outputs": [
    {
     "data": {
      "text/plain": [
       "array([[ 0.13164051,  0.27961329],\n",
       "       [ 0.27961329, -0.13164051]])"
      ]
     },
     "execution_count": 356,
     "metadata": {},
     "output_type": "execute_result"
    }
   ],
   "source": [
    "((A@(outer(wB, x0) + outer(x0, wB))@A)/(x0@A@A@x0)) - 2*((wB@A@A@x0)/((x0@A@A@x0)**2))*A@outer(x0, x0)@A"
   ]
  },
  {
   "cell_type": "code",
   "execution_count": 350,
   "id": "cac7c0fd",
   "metadata": {},
   "outputs": [
    {
     "data": {
      "text/plain": [
       "array([1.12356085, 1.67476483])"
      ]
     },
     "execution_count": 350,
     "metadata": {},
     "output_type": "execute_result"
    }
   ],
   "source": []
  },
  {
   "cell_type": "code",
   "execution_count": null,
   "id": "b7b2e60d",
   "metadata": {},
   "outputs": [],
   "source": []
  },
  {
   "cell_type": "code",
   "execution_count": 345,
   "id": "f96ebdc4",
   "metadata": {},
   "outputs": [
    {
     "data": {
      "text/plain": [
       "array([[[ 0.08074039,  0.17149802],\n",
       "        [-0.05416686, -0.11505404]],\n",
       "\n",
       "       [[ 0.17149802, -0.08074039],\n",
       "        [-0.11505404,  0.05416686]]])"
      ]
     },
     "execution_count": 345,
     "metadata": {},
     "output_type": "execute_result"
    }
   ],
   "source": [
    "(np.outer(Jplus(x0), hess_f(x0)).reshape(2, 2, 2) @ Tfunc(x0)) + ((np.outer(Jplus(x0), hess_f(x0)).reshape(2, 2, 2) @ Tfunc(x0))).T"
   ]
  },
  {
   "cell_type": "code",
   "execution_count": null,
   "id": "7f65223d",
   "metadata": {},
   "outputs": [],
   "source": [
    "(np.outer(Jplus(x0), hess_f(x0)).reshape(2, 2, 2) @ Tfunc(x0))"
   ]
  },
  {
   "cell_type": "code",
   "execution_count": null,
   "id": "17165a36",
   "metadata": {},
   "outputs": [],
   "source": []
  },
  {
   "cell_type": "code",
   "execution_count": null,
   "id": "5ad7dd1a",
   "metadata": {},
   "outputs": [],
   "source": []
  },
  {
   "cell_type": "code",
   "execution_count": null,
   "id": "a8193ff3",
   "metadata": {},
   "outputs": [],
   "source": []
  },
  {
   "cell_type": "code",
   "execution_count": null,
   "id": "c68c5853",
   "metadata": {},
   "outputs": [],
   "source": []
  },
  {
   "cell_type": "code",
   "execution_count": 329,
   "id": "e404a4d8",
   "metadata": {},
   "outputs": [
    {
     "data": {
      "text/plain": [
       "array([[[-0.00769079, -0.01633576],\n",
       "        [-0.03439138, -0.0730496 ]],\n",
       "\n",
       "       [[-0.01633576,  0.00769079],\n",
       "        [-0.0730496 ,  0.03439138]]])"
      ]
     },
     "execution_count": 329,
     "metadata": {},
     "output_type": "execute_result"
    }
   ],
   "source": [
    "N(x0)@np.outer(Jplus(x0), hess_f(x0)).reshape(2, 2, 2) @ Tfunc(x0) + N(x0)@(np.outer(Jplus(x0), hess_f(x0)).reshape(2, 2, 2) @ Tfunc(x0)).T"
   ]
  },
  {
   "cell_type": "code",
   "execution_count": null,
   "id": "9e72dbc6",
   "metadata": {},
   "outputs": [],
   "source": []
  },
  {
   "cell_type": "code",
   "execution_count": 337,
   "id": "72b41661",
   "metadata": {},
   "outputs": [
    {
     "data": {
      "text/plain": [
       "array([[[ 2.22220723e-19, -5.75374674e-19],\n",
       "        [-2.82912313e-18, -6.08295129e-18]],\n",
       "\n",
       "       [[ 9.93717744e-19, -2.57293747e-18],\n",
       "        [-1.26511597e-17, -2.72014984e-17]]])"
      ]
     },
     "execution_count": 337,
     "metadata": {},
     "output_type": "execute_result"
    }
   ],
   "source": [
    "np.outer(Jplus(x0), hess_f(x0)).reshape(2, 2, 2) @ (N(x0)@ Tfunc(x0))"
   ]
  },
  {
   "cell_type": "code",
   "execution_count": 334,
   "id": "e246fa69",
   "metadata": {},
   "outputs": [
    {
     "data": {
      "text/plain": [
       "array([[[ 0.0403702 ,  0.18052583],\n",
       "        [-0.02708343, -0.12111059]],\n",
       "\n",
       "       [[-0.00902781, -0.0403702 ],\n",
       "        [ 0.00605655,  0.02708343]]])"
      ]
     },
     "execution_count": 334,
     "metadata": {},
     "output_type": "execute_result"
    }
   ],
   "source": [
    "(np.outer(N(x0)@Jplus(x0), hess_f(x0)).reshape(2, 2, 2) @ Tfunc(x0)).T"
   ]
  },
  {
   "cell_type": "code",
   "execution_count": 386,
   "id": "5d523f48",
   "metadata": {},
   "outputs": [
    {
     "data": {
      "text/plain": [
       "array([[0.05483872, 0.22764634],\n",
       "       [0.22764634, 0.94500483]])"
      ]
     },
     "execution_count": 386,
     "metadata": {},
     "output_type": "execute_result"
    }
   ],
   "source": [
    "N(get_x('1o2'))@N(get_x(1))@N(get_x('1o2'))"
   ]
  },
  {
   "cell_type": "code",
   "execution_count": 389,
   "id": "ec739c1c",
   "metadata": {},
   "outputs": [
    {
     "data": {
      "text/plain": [
       "array([[0.05105042, 0.21220942],\n",
       "       [0.22828521, 0.94894958]])"
      ]
     },
     "execution_count": 389,
     "metadata": {},
     "output_type": "execute_result"
    }
   ],
   "source": [
    "N(get_x(0)) + (δ/2)*N(get_x(0))@DNexplicit(get_x(0), get_w(0))"
   ]
  },
  {
   "cell_type": "code",
   "execution_count": 391,
   "id": "7a63c98c",
   "metadata": {},
   "outputs": [
    {
     "data": {
      "text/plain": [
       "array([[ 1.08385034e-18,  8.59775728e-19],\n",
       "       [-2.60216149e-19, -1.35934175e-17]])"
      ]
     },
     "execution_count": 391,
     "metadata": {},
     "output_type": "execute_result"
    }
   ],
   "source": [
    "N(get_x(0)) @ DNexplicit(get_x(0), get_w(0)) @ N(get_x(0))"
   ]
  },
  {
   "cell_type": "code",
   "execution_count": 395,
   "id": "d36bbf68",
   "metadata": {},
   "outputs": [
    {
     "data": {
      "text/plain": [
       "array([[1.41702195e-18, 5.87227221e-18],\n",
       "       [5.87205805e-18, 2.49577964e-17]])"
      ]
     },
     "execution_count": 395,
     "metadata": {},
     "output_type": "execute_result"
    }
   ],
   "source": [
    "N(get_x(0))@DNexplicit(get_x(0), N(get_x('1o2'))@get_w(0))@N(get_x(0))"
   ]
  },
  {
   "cell_type": "code",
   "execution_count": 397,
   "id": "e9646d9c",
   "metadata": {},
   "outputs": [
    {
     "data": {
      "text/plain": [
       "array([[ 0.06847487,  0.30620317],\n",
       "       [-0.01531273, -0.06847487]])"
      ]
     },
     "execution_count": 397,
     "metadata": {},
     "output_type": "execute_result"
    }
   ],
   "source": [
    "DNexplicit(get_x(0), get_w(0))@N(get_x(0))"
   ]
  },
  {
   "cell_type": "code",
   "execution_count": 403,
   "id": "305adac2",
   "metadata": {},
   "outputs": [
    {
     "data": {
      "text/plain": [
       "array([[ 0.06847487, -0.01531273],\n",
       "       [ 0.30620317, -0.06847487]])"
      ]
     },
     "execution_count": 403,
     "metadata": {},
     "output_type": "execute_result"
    }
   ],
   "source": [
    "N(get_x(0))@DNexplicit(get_x(0), get_w(0))"
   ]
  },
  {
   "cell_type": "code",
   "execution_count": 407,
   "id": "ffa2335e",
   "metadata": {},
   "outputs": [
    {
     "data": {
      "text/plain": [
       "array([[ 0.13694973,  0.29089044],\n",
       "       [ 0.29089044, -0.13694973]])"
      ]
     },
     "execution_count": 407,
     "metadata": {},
     "output_type": "execute_result"
    }
   ],
   "source": [
    "DNexplicit(get_x(0), get_w(0))@N(get_x(0)) + N(get_x(0))@DNexplicit(get_x(0), get_w(0))"
   ]
  },
  {
   "cell_type": "code",
   "execution_count": 406,
   "id": "89b186e9",
   "metadata": {},
   "outputs": [
    {
     "data": {
      "text/plain": [
       "array([[ 0.13694973,  0.29089044],\n",
       "       [ 0.29089044, -0.13694973]])"
      ]
     },
     "execution_count": 406,
     "metadata": {},
     "output_type": "execute_result"
    }
   ],
   "source": [
    "DNexplicit(get_x(0), get_w(0))"
   ]
  },
  {
   "cell_type": "markdown",
   "id": "486f4891",
   "metadata": {},
   "source": [
    "# Checking everything"
   ]
  },
  {
   "cell_type": "code",
   "execution_count": 646,
   "id": "148f03b0",
   "metadata": {},
   "outputs": [],
   "source": [
    "def check_if_at_least_same_order(number, reference=δ**2) -> int:\n",
    "    base10_number = log10(abs(number))\n",
    "    base10_reference      = log10(abs(reference))\n",
    "    return abs(floor(base10_number)) >= abs(floor(base10_reference))"
   ]
  },
  {
   "cell_type": "code",
   "execution_count": 647,
   "id": "3db5a6cd",
   "metadata": {},
   "outputs": [],
   "source": [
    "def Λ2(b):\n",
    "    wb = get_w(b)\n",
    "    xb = get_x(b)\n",
    "    xbp1o2 = get_x('{}o2'.format(2*b+1))\n",
    "    return -wb@DNexplicit(xb, (I - 3*N(xbp1o2))@wb)@wb"
   ]
  },
  {
   "cell_type": "code",
   "execution_count": 648,
   "id": "d13181a5",
   "metadata": {},
   "outputs": [],
   "source": [
    "b     = 3\n",
    "bm1o2 = '{}o2'.format(2*b - 1)"
   ]
  },
  {
   "cell_type": "markdown",
   "id": "184eb852",
   "metadata": {},
   "source": [
    "$$\n",
    "    N_b = N_{b-1} + \\delta DN_{b-1}(I - N_{b-1/2})w_{b-1}\n",
    "$$"
   ]
  },
  {
   "cell_type": "code",
   "execution_count": 649,
   "id": "a71efa37",
   "metadata": {},
   "outputs": [
    {
     "data": {
      "text/plain": [
       "True"
      ]
     },
     "execution_count": 649,
     "metadata": {},
     "output_type": "execute_result"
    }
   ],
   "source": [
    "check_if_at_least_same_order(\n",
    "    norm(\n",
    "        N(get_x(b)) - (N(get_x(b-1)) + δ*DNexplicit(get_x(b-1), (I - N(get_x(bm1o2)))@get_w(b-1)))\n",
    "    )\n",
    ")"
   ]
  },
  {
   "cell_type": "markdown",
   "id": "ac7a25f8",
   "metadata": {},
   "source": [
    "$$\n",
    "N_{b-1/2} = N_{b-1} + \\frac{\\delta}{2} DN_{b-1} w_{b-1} + \\mathcal{O}(\\delta^2)\n",
    "$$"
   ]
  },
  {
   "cell_type": "code",
   "execution_count": 650,
   "id": "5b5668b0",
   "metadata": {},
   "outputs": [
    {
     "data": {
      "text/plain": [
       "True"
      ]
     },
     "execution_count": 650,
     "metadata": {},
     "output_type": "execute_result"
    }
   ],
   "source": [
    "check_if_at_least_same_order(\n",
    "    norm(\n",
    "        N(get_x(bm1o2)) - (N(get_x(b-1)) + δ*DNexplicit(get_x(b-1), get_w(b-1)))\n",
    "    )\n",
    ")"
   ]
  },
  {
   "cell_type": "markdown",
   "id": "cf141c41",
   "metadata": {},
   "source": [
    "$$\n",
    "N_b N_{b-1/2} = N_{b-1} + \\frac{\\delta}{2}N_{b-1}DN_{b-1} w_{b-1} + \\delta DN_{b-1} T_{b-1/2} w_{b-1} N_{b-1} + \\mathcal{O}(\\delta^2)\n",
    "$$"
   ]
  },
  {
   "cell_type": "code",
   "execution_count": 651,
   "id": "42598d80",
   "metadata": {},
   "outputs": [
    {
     "data": {
      "text/plain": [
       "True"
      ]
     },
     "execution_count": 651,
     "metadata": {},
     "output_type": "execute_result"
    }
   ],
   "source": [
    "check_if_at_least_same_order(\n",
    "    norm(\n",
    "        N(get_x(b))@N(get_x(bm1o2)) - (N(get_x(b-1)) + (δ/2)*N(get_x(b-1))@DNexplicit(get_x(b-1), get_w(b-1)) + δ*DNexplicit(get_x(b-1), Tfunc(get_x(bm1o2))@get_w(b-1)))\n",
    "    )\n",
    ")"
   ]
  },
  {
   "cell_type": "markdown",
   "id": "0dd1113f",
   "metadata": {},
   "source": [
    "$$\n",
    "N_{b-1/2} N_b = N_{b-1} + \\delta N_{b-1} DN_{b-1} T_{b-1/2} w_{b-1} + \\frac{\\delta}{2} DN_{b-1} w_{b-1} N_{b-1} + \\mathcal{O}(\\delta^2)\n",
    "$$"
   ]
  },
  {
   "cell_type": "code",
   "execution_count": 652,
   "id": "4faab08f",
   "metadata": {},
   "outputs": [
    {
     "data": {
      "text/plain": [
       "True"
      ]
     },
     "execution_count": 652,
     "metadata": {},
     "output_type": "execute_result"
    }
   ],
   "source": [
    "check_if_at_least_same_order(\n",
    "    norm(\n",
    "        N(get_x(bm1o2))@N(get_x(b)) - (N(get_x(b-1)) + δ*N(get_x(b-1))@DNexplicit(get_x(b-1), Tfunc(get_x(bm1o2))@get_w(b-1)) + (δ/2)*DNexplicit(get_x(b-1), get_w(b-1))@N(get_x(b-1)))\n",
    "    )\n",
    ")"
   ]
  },
  {
   "cell_type": "markdown",
   "id": "eb695fcc",
   "metadata": {},
   "source": [
    "$$\n",
    "N_{b-1/2}N_b N_{b-1/2} = N_{b-1} + \\delta DN_{b-1} w_{b-1} + \\mathcal{O}(\\delta^2)\n",
    "$$"
   ]
  },
  {
   "cell_type": "code",
   "execution_count": 653,
   "id": "0b89ae17",
   "metadata": {},
   "outputs": [
    {
     "data": {
      "text/plain": [
       "True"
      ]
     },
     "execution_count": 653,
     "metadata": {},
     "output_type": "execute_result"
    }
   ],
   "source": [
    "check_if_at_least_same_order(\n",
    "    norm(\n",
    "        N(get_x(bm1o2))@N(get_x(b))@N(get_x(bm1o2)) - (N(get_x(b-1)) + δ*DNexplicit(get_x(b-1), get_w(b-1)))\n",
    "    )\n",
    ")"
   ]
  },
  {
   "cell_type": "markdown",
   "id": "9fdb9979",
   "metadata": {},
   "source": [
    "$$\n",
    "\\Gamma_b = N_{b-1} - \\delta DN_{b-1} (I - 3N_{b-1/2})w_{b-1} + \\mathcal{O}(\\delta^2)\n",
    "$$"
   ]
  },
  {
   "cell_type": "code",
   "execution_count": 654,
   "id": "aba606b6",
   "metadata": {},
   "outputs": [
    {
     "data": {
      "text/plain": [
       "True"
      ]
     },
     "execution_count": 654,
     "metadata": {},
     "output_type": "execute_result"
    }
   ],
   "source": [
    "check_if_at_least_same_order(\n",
    "    norm(\n",
    "        Γ(b) - (N(get_x(b-1)) - δ*DNexplicit(get_x(b-1), (I - 3*N(get_x(bm1o2)))@get_w(b-1)))\n",
    "    )\n",
    ")"
   ]
  },
  {
   "cell_type": "markdown",
   "id": "e50b4bd1",
   "metadata": {},
   "source": [
    "$$\n",
    "\\Delta = -\\alpha(2-\\alpha) v_0^\\top N_0 v_0 + \\gamma w_{B-1}^\\top \\left(N_{B-1} - \\delta DN_{B-1}(I-3N_{B-1/2})w_{B-1} \\right) w_{B-1} + \\mathcal{O}(\\delta^2)\n",
    "$$"
   ]
  },
  {
   "cell_type": "code",
   "execution_count": 655,
   "id": "ec5299eb",
   "metadata": {},
   "outputs": [
    {
     "data": {
      "text/plain": [
       "True"
      ]
     },
     "execution_count": 655,
     "metadata": {},
     "output_type": "execute_result"
    }
   ],
   "source": [
    "check_if_at_least_same_order(\n",
    "    norm(\n",
    "        Δ - (-α*(2-α)*v0@N0@v0 + γ*get_w(B-1)@N(get_x(B-1))@get_w(B-1) + γ*δ*Λ2(B-1))\n",
    "    )\n",
    ")"
   ]
  },
  {
   "cell_type": "markdown",
   "id": "e6aa45a8",
   "metadata": {},
   "source": [
    "$$\n",
    "\\begin{align}\n",
    "\\Delta = &-\\alpha(2-\\alpha)\\|v_0^\\perp\\|^2 \\\\\n",
    "         &+ \\gamma w_{B-2}^\\top N_{B-2} w_{B-2} \\\\\n",
    "         &- \\gamma\\delta w_{B-2}^\\top DN_{B-2}(I - 3N_{B-3/2})w_{B-2}w_{B-2}\\\\\n",
    "         &- \\gamma\\delta w_{B-1}^\\top DN_{B-1}(I - 3N_{B-1/2})w_{B-1}w_{B-1} + \\mathcal{O}(\\delta^2)\n",
    "\\end{align}\n",
    "$$"
   ]
  },
  {
   "cell_type": "code",
   "execution_count": 656,
   "id": "933de41d",
   "metadata": {},
   "outputs": [
    {
     "data": {
      "text/plain": [
       "True"
      ]
     },
     "execution_count": 656,
     "metadata": {},
     "output_type": "execute_result"
    }
   ],
   "source": [
    "check_if_at_least_same_order(\n",
    "    norm(\n",
    "        Δ - (-α*(2-α)*v0@N0@v0 + γ*get_w(B-2)@N(get_x(B-2))@get_w(B-2) + γ*δ*Λ2(B-2) + γ*δ*Λ2(B-1))\n",
    "    )\n",
    ")"
   ]
  },
  {
   "cell_type": "markdown",
   "id": "339ce214",
   "metadata": {},
   "source": [
    "$$\n",
    "\\begin{align}\n",
    "\\Delta = &-\\alpha(2-\\alpha)\\|v_0^\\perp\\|^2 \\\\\n",
    "         &+ \\gamma w_{B-3}^\\top N_{B-3} w_{B-3} \\\\\n",
    "         &- \\gamma\\delta w_{B-3}^\\top DN_{B-3}(I - 3N_{B-5/2})w_{B-3}w_{B-3} \\\\\n",
    "         &- \\gamma\\delta w_{B-2}^\\top DN_{B-2}(I - 3N_{B-3/2})w_{B-2}w_{B-2}\\\\\n",
    "         &- \\gamma\\delta w_{B-1}^\\top DN_{B-1}(I - 3N_{B-1/2})w_{B-1}w_{B-1} + \\mathcal{O}(\\delta^2)\n",
    "\\end{align}\n",
    "$$"
   ]
  },
  {
   "cell_type": "code",
   "execution_count": 657,
   "id": "ca3794b6",
   "metadata": {},
   "outputs": [
    {
     "data": {
      "text/plain": [
       "True"
      ]
     },
     "execution_count": 657,
     "metadata": {},
     "output_type": "execute_result"
    }
   ],
   "source": [
    "check_if_at_least_same_order(\n",
    "    norm(\n",
    "        Δ - (-α*(2-α)*v0@N0@v0 + γ*get_w(B-3)@N(get_x(B-3))@get_w(B-3) + γ*δ*Λ2(B-3) + γ*δ*Λ2(B-2) + γ*δ*Λ2(B-1))\n",
    "    )\n",
    ")"
   ]
  },
  {
   "cell_type": "markdown",
   "id": "23c1a2c8",
   "metadata": {},
   "source": [
    "$$\n",
    "\\begin{align}\n",
    "\\Delta = &-\\alpha(2-\\alpha)\\|v_0^\\perp\\|^2 \\\\\n",
    "         &+ \\gamma w_{B-4}^\\top N_{B-4} w_{B-4} \\\\\n",
    "         &- \\gamma\\delta w_{B-4}^\\top DN_{B-4}(I - 3N_{B-7/2})w_{B-4}w_{B-4} \\\\ \n",
    "         &- \\gamma\\delta w_{B-3}^\\top DN_{B-3}(I - 3N_{B-5/2})w_{B-3}w_{B-3} \\\\\n",
    "         &- \\gamma\\delta w_{B-2}^\\top DN_{B-2}(I - 3N_{B-3/2})w_{B-2}w_{B-2}\\\\\n",
    "         &- \\gamma\\delta w_{B-1}^\\top DN_{B-1}(I - 3N_{B-1/2})w_{B-1}w_{B-1} + \\mathcal{O}(\\delta^2)\n",
    "\\end{align}\n",
    "$$"
   ]
  },
  {
   "cell_type": "code",
   "execution_count": 658,
   "id": "3c8817f8",
   "metadata": {},
   "outputs": [
    {
     "data": {
      "text/plain": [
       "True"
      ]
     },
     "execution_count": 658,
     "metadata": {},
     "output_type": "execute_result"
    }
   ],
   "source": [
    "check_if_at_least_same_order(\n",
    "    norm(\n",
    "        Δ - (-α*(2-α)*v0@N0@v0 + γ*get_w(B-4)@N(get_x(B-4))@get_w(B-4) + γ*δ*Λ2(B-4) + γ*δ*Λ2(B-3) + γ*δ*Λ2(B-2) + γ*δ*Λ2(B-1))\n",
    "    )\n",
    ")"
   ]
  },
  {
   "cell_type": "markdown",
   "id": "05eb6e61",
   "metadata": {},
   "source": [
    "$$\n",
    "\\Delta = -\\gamma\\delta \\sum_{b=0}^{B-1}w_b^\\top DN_{b}(I - 3N_{b+1/2})w_b w_b + \\mathcal{O}(\\delta^2)\n",
    "$$"
   ]
  },
  {
   "cell_type": "code",
   "execution_count": 683,
   "id": "be4cf716",
   "metadata": {},
   "outputs": [
    {
     "data": {
      "text/plain": [
       "True"
      ]
     },
     "execution_count": 683,
     "metadata": {},
     "output_type": "execute_result"
    }
   ],
   "source": [
    "check_if_at_least_same_order(\n",
    "    norm(\n",
    "        Δ - (-γ*δ*sum([Λ2(b) for b in range(B)]))\n",
    "    )\n",
    ")"
   ]
  },
  {
   "cell_type": "code",
   "execution_count": 684,
   "id": "9181a6cf",
   "metadata": {},
   "outputs": [
    {
     "data": {
      "text/plain": [
       "True"
      ]
     },
     "execution_count": 684,
     "metadata": {},
     "output_type": "execute_result"
    }
   ],
   "source": [
    "check_if_at_least_same_order(Δ)"
   ]
  },
  {
   "cell_type": "markdown",
   "id": "5dde72b4",
   "metadata": {},
   "source": [
    "$$\n",
    "\\Delta = 4\\gamma\\delta \\sum_{b=0}^{B/2 - 1}w_{2b}^\\top DN_{2b} N_{2b+1/2}w_{2b}w_{2b} + \\mathcal{O}(\\delta^2)\n",
    "$$"
   ]
  },
  {
   "cell_type": "code",
   "execution_count": 687,
   "id": "f35ebc73",
   "metadata": {},
   "outputs": [
    {
     "name": "stdout",
     "output_type": "stream",
     "text": [
      "True\n"
     ]
    }
   ],
   "source": [
    "if B % 2 == 0:\n",
    "    print(check_if_at_least_same_order(\n",
    "        norm(\n",
    "            Δ - (-4*γ*δ*sum([get_w(b)@DNexplicit(get_x(b), N(get_x('{}o2'.format(2*b+1)))@get_w(b))@get_w(b) for b in range(0, B, 2)]))\n",
    "        )\n",
    "    ))"
   ]
  },
  {
   "cell_type": "code",
   "execution_count": 702,
   "id": "31411be4",
   "metadata": {},
   "outputs": [
    {
     "data": {
      "text/plain": [
       "array([[ 0.03220269,  0.03554794],\n",
       "       [ 0.03554794, -0.03220269]])"
      ]
     },
     "execution_count": 702,
     "metadata": {},
     "output_type": "execute_result"
    }
   ],
   "source": [
    "DNexplicit(get_x(0), N(get_x(0))@v0)"
   ]
  },
  {
   "cell_type": "code",
   "execution_count": 705,
   "id": "afbf54eb",
   "metadata": {},
   "outputs": [
    {
     "data": {
      "text/plain": [
       "array([[ 0.03220269,  0.03554794],\n",
       "       [ 0.03554794, -0.03220269]])"
      ]
     },
     "execution_count": 705,
     "metadata": {},
     "output_type": "execute_result"
    }
   ],
   "source": [
    "DNa(get_x(0))@N(get_x(0))@v0"
   ]
  },
  {
   "cell_type": "code",
   "execution_count": 701,
   "id": "f787be96",
   "metadata": {},
   "outputs": [
    {
     "data": {
      "text/plain": [
       "array([-0.0661564, -0.095169 ])"
      ]
     },
     "execution_count": 701,
     "metadata": {},
     "output_type": "execute_result"
    }
   ],
   "source": [
    "DNexplicit(get_x(0), get_w(0))@get_w(0)"
   ]
  },
  {
   "cell_type": "code",
   "execution_count": null,
   "id": "6bed71e7",
   "metadata": {},
   "outputs": [],
   "source": []
  },
  {
   "cell_type": "code",
   "execution_count": null,
   "id": "ab3bffc5",
   "metadata": {},
   "outputs": [],
   "source": []
  },
  {
   "cell_type": "markdown",
   "id": "79b176fd",
   "metadata": {},
   "source": [
    "$$\n",
    "w_{b-1}^\\top\\Gamma_b w_{b-1} = w_{b-1}^\\top N_{b-1} w_{b-1} - \\delta w_{b-1}^\\top DN_{b-1}(I-3 N_{b-1/2})w_{b-1} w_{b-1} + \\mathcal{O}(\\delta^2)\n",
    "$$"
   ]
  },
  {
   "cell_type": "code",
   "execution_count": 538,
   "id": "a4eb5082",
   "metadata": {},
   "outputs": [
    {
     "data": {
      "text/plain": [
       "-0.006126008799801175"
      ]
     },
     "execution_count": 538,
     "metadata": {},
     "output_type": "execute_result"
    }
   ],
   "source": [
    "get_w(b-1)@DNexplicit(get_x(b-1), (I-3*N(get_x(bm1o2)))@get_w(b-1))@get_w(b-1)"
   ]
  },
  {
   "cell_type": "code",
   "execution_count": 539,
   "id": "5b0233c7",
   "metadata": {},
   "outputs": [
    {
     "data": {
      "text/plain": [
       "True"
      ]
     },
     "execution_count": 539,
     "metadata": {},
     "output_type": "execute_result"
    }
   ],
   "source": [
    "check_if_at_least_same_order(\n",
    "    norm(\n",
    "        get_w(b-1)@Γ(b)@get_w(b-1) - (get_w(b-1)@N(get_x(b-1))@get_w(b-1) - δ*get_w(b-1)@DNexplicit(get_x(b-1), (I-3*N(get_x(bm1o2)))@get_w(b-1))@get_w(b-1))\n",
    "    )\n",
    ")"
   ]
  },
  {
   "cell_type": "markdown",
   "id": "94432bff",
   "metadata": {},
   "source": [
    "$$\n",
    "\\Delta = \\gamma\\delta\\sum_{b=0}^{B-1}\\Lambda_b + \\mathcal{O}(\\delta^2)\n",
    "$$\n",
    "where the new terms $\\Lambda_b$ are given by\n",
    "$$\n",
    "\\Lambda_b = - w_b^\\top DN_b (I-3N_{b+1/2})w_b w_b\n",
    "$$"
   ]
  },
  {
   "cell_type": "code",
   "execution_count": 517,
   "id": "390e1f61",
   "metadata": {},
   "outputs": [
    {
     "data": {
      "text/plain": [
       "0.007372304101414429"
      ]
     },
     "execution_count": 517,
     "metadata": {},
     "output_type": "execute_result"
    }
   ],
   "source": [
    "Δ"
   ]
  },
  {
   "cell_type": "code",
   "execution_count": 543,
   "id": "2d5b3305",
   "metadata": {},
   "outputs": [
    {
     "data": {
      "text/plain": [
       "0.01749910578667169"
      ]
     },
     "execution_count": 543,
     "metadata": {},
     "output_type": "execute_result"
    }
   ],
   "source": [
    "γ*δ*sum([-get_w(b)@DNexplicit(get_x(b), (I-3*N(get_x('{}o2'.format(2*b+1))))@get_w(b))@get_w(b) for b in range(B)])"
   ]
  },
  {
   "cell_type": "code",
   "execution_count": 521,
   "id": "912eed25",
   "metadata": {},
   "outputs": [
    {
     "data": {
      "text/plain": [
       "0.01749910578667169"
      ]
     },
     "execution_count": 521,
     "metadata": {},
     "output_type": "execute_result"
    }
   ],
   "source": [
    "γ*δ*sum([Λ2(b) for b in range(B)])"
   ]
  },
  {
   "cell_type": "code",
   "execution_count": 525,
   "id": "74e1c045",
   "metadata": {},
   "outputs": [
    {
     "data": {
      "text/plain": [
       "0.3193231808074642"
      ]
     },
     "execution_count": 525,
     "metadata": {},
     "output_type": "execute_result"
    }
   ],
   "source": [
    "γ*get_w(B)@N(get_x(B))@get_w(B)"
   ]
  },
  {
   "cell_type": "code",
   "execution_count": 532,
   "id": "2ceadbad",
   "metadata": {},
   "outputs": [
    {
     "data": {
      "text/plain": [
       "0.3294499824927218"
      ]
     },
     "execution_count": 532,
     "metadata": {},
     "output_type": "execute_result"
    }
   ],
   "source": [
    "γ*get_w(0)@N(get_x(0))@get_w(0) + γ*δ*sum([Λ2(b) for b in range(B)])"
   ]
  },
  {
   "cell_type": "code",
   "execution_count": 530,
   "id": "b6d3e191",
   "metadata": {},
   "outputs": [
    {
     "data": {
      "text/plain": [
       "0.0073723041014140955"
      ]
     },
     "execution_count": 530,
     "metadata": {},
     "output_type": "execute_result"
    }
   ],
   "source": [
    "γ*get_w(B)@N(get_x(B))@get_w(B) - γ*get_w(0)@N(get_x(0))@get_w(0)"
   ]
  },
  {
   "cell_type": "code",
   "execution_count": 533,
   "id": "a22486a0",
   "metadata": {},
   "outputs": [
    {
     "data": {
      "text/plain": [
       "-0.010126801685257592"
      ]
     },
     "execution_count": 533,
     "metadata": {},
     "output_type": "execute_result"
    }
   ],
   "source": [
    "γ*get_w(B)@N(get_x(B))@get_w(B) - (γ*get_w(0)@N(get_x(0))@get_w(0) + γ*δ*sum([Λ2(b) for b in range(B)]))"
   ]
  },
  {
   "cell_type": "code",
   "execution_count": null,
   "id": "5d3688cc",
   "metadata": {},
   "outputs": [],
   "source": []
  },
  {
   "cell_type": "code",
   "execution_count": null,
   "id": "ef824380",
   "metadata": {},
   "outputs": [],
   "source": []
  }
 ],
 "metadata": {
  "kernelspec": {
   "display_name": "Python 3 (ipykernel)",
   "language": "python",
   "name": "python3"
  },
  "language_info": {
   "codemirror_mode": {
    "name": "ipython",
    "version": 3
   },
   "file_extension": ".py",
   "mimetype": "text/x-python",
   "name": "python",
   "nbconvert_exporter": "python",
   "pygments_lexer": "ipython3",
   "version": "3.10.4"
  }
 },
 "nbformat": 4,
 "nbformat_minor": 5
}
