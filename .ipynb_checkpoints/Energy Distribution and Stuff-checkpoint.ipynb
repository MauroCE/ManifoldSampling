{
 "cells": [
  {
   "cell_type": "markdown",
   "metadata": {},
   "source": [
    "# Importance Sampling & RWM for Energy Density"
   ]
  },
  {
   "cell_type": "markdown",
   "metadata": {},
   "source": [
    "### Imports"
   ]
  },
  {
   "cell_type": "code",
   "execution_count": 1,
   "metadata": {},
   "outputs": [],
   "source": [
    "import numpy as np\n",
    "from numpy.linalg import inv\n",
    "from Manifolds.RotatedEllipse import RotatedEllipse\n",
    "from Zappa.zappa import zappa_sampling\n",
    "from scipy.stats import multivariate_normal\n",
    "import matplotlib.pyplot as plt\n",
    "from Zappa.ZappaAdaptive import ZappaAdaptive\n",
    "from utils import logf_Jacobian\n",
    "from utils import logp as logp_scale\n",
    "from scipy.interpolate import interp1d\n",
    "from scipy.optimize import root\n",
    "from utils import quick_MVN_marginals, quick_MVN_scatter\n",
    "from rwm_energy import rwm_energy, get_scaling_function, rwm_energy_reversecheck\n",
    "from HMC.gaussian_hmc import GaussianTargetHMC\n",
    "from HugHop.HessianHugHop import HugHopPC\n",
    "from HugHop.StandardHugHop import HugHop\n",
    "from ManifoldHMCAlgorithms.mixture_manifoldhmc import MixtureManifoldHMC\n",
    "from rwm_energy import RWEnergy\n",
    "\n",
    "import importlib"
   ]
  },
  {
   "cell_type": "markdown",
   "metadata": {},
   "source": [
    "### Settings"
   ]
  },
  {
   "cell_type": "code",
   "execution_count": 65,
   "metadata": {},
   "outputs": [],
   "source": [
    "# Target Distribution\n",
    "mu = np.array([1, 2]) #np.zeros(2)\n",
    "Sigma = np.array([[1.0, 0.99], [0.99, 2.0]])\n",
    "target = multivariate_normal(mu, Sigma)\n",
    "\n",
    "# Parameters\n",
    "s = 0.5\n",
    "n = 200    \n",
    "tol = 1.48e-08\n",
    "N = 100000\n",
    "a_guess = 1.0\n",
    "niter = int(N / n)  \n",
    "clip = 2.0\n",
    "lbval=1e-1\n",
    "nscaling = int(50000/n)   \n",
    "\n",
    "# Functions\n",
    "ellipse = lambda z: RotatedEllipse(mu, Sigma, z)\n",
    "grad_log_target = lambda xy: (xy - mu) @ inv(Sigma).T"
   ]
  },
  {
   "cell_type": "markdown",
   "metadata": {},
   "source": [
    "### Learn Correct Scaling"
   ]
  },
  {
   "cell_type": "code",
   "execution_count": 3,
   "metadata": {},
   "outputs": [
    {
     "data": {
      "image/png": "[encoded data removed]",
      "text/plain": [
       "<Figure size 432x288 with 1 Axes>"
      ]
     },
     "metadata": {
      "needs_background": "light"
     },
     "output_type": "display_data"
    }
   ],
   "source": [
    "func = get_scaling_function(nscaling, target, logf = lambda xy: 0, n=n)\n",
    "xxx = np.linspace(0, target.pdf(mu))\n",
    "fig, ax = plt.subplots()\n",
    "ax.plot(xxx, func(xxx))\n",
    "ax.set_xlabel(r\"$z$\", fontsize=20)\n",
    "ax.set_ylabel(r\"$s$\", fontsize=20)\n",
    "plt.show()"
   ]
  },
  {
   "cell_type": "markdown",
   "metadata": {},
   "source": [
    "# Importance Sampling - Reverse Check - Weight Clipping"
   ]
  },
  {
   "cell_type": "code",
   "execution_count": 33,
   "metadata": {},
   "outputs": [],
   "source": [
    "x = target.rvs()\n",
    "ISRCWC = RWEnergy(x, target, ellipse, func, grad_log_target, niter, n, 1.0, clipval=clip, reversecheck=True)"
   ]
  },
  {
   "cell_type": "code",
   "execution_count": 34,
   "metadata": {},
   "outputs": [],
   "source": [
    "s1, e1, w1, nw1, frf1, nc1, re1, el1, frrf1 = ISRCWC.sample()"
   ]
  },
  {
   "cell_type": "code",
   "execution_count": 35,
   "metadata": {},
   "outputs": [
    {
     "data": {
      "text/plain": [
       "array([0.99734465, 2.0053157 ])"
      ]
     },
     "execution_count": 35,
     "metadata": {},
     "output_type": "execute_result"
    }
   ],
   "source": [
    "ISRCWC.approx_expectation(lambda x: x)"
   ]
  },
  {
   "cell_type": "code",
   "execution_count": 36,
   "metadata": {},
   "outputs": [
    {
     "data": {
      "image/png": "[encoded data removed]",
      "text/plain": [
       "<Figure size 432x288 with 1 Axes>"
      ]
     },
     "metadata": {
      "needs_background": "light"
     },
     "output_type": "display_data"
    }
   ],
   "source": [
    "fig, ax = plt.subplots()\n",
    "_ = ax.hist(e1, density=True, bins=50)\n",
    "plt.show()"
   ]
  },
  {
   "cell_type": "markdown",
   "metadata": {},
   "source": [
    "# Importance Sampling - Reverse Check - Norm Gradient Lower Bounding"
   ]
  },
  {
   "cell_type": "code",
   "execution_count": 66,
   "metadata": {},
   "outputs": [],
   "source": [
    "x = target.rvs()\n",
    "ISRCLB = RWEnergy(x, target, ellipse, func, grad_log_target, niter, n, 1.0, \n",
    "                  lbval=lbval, clip=False, reversecheck=True)"
   ]
  },
  {
   "cell_type": "code",
   "execution_count": 67,
   "metadata": {},
   "outputs": [],
   "source": [
    "s2, e2, w2, nw2, frf2, nc2, re2, el2, frrf2 = ISRCLB.sample()"
   ]
  },
  {
   "cell_type": "code",
   "execution_count": 69,
   "metadata": {},
   "outputs": [
    {
     "data": {
      "text/plain": [
       "array([1.01852334, 2.00509691])"
      ]
     },
     "execution_count": 69,
     "metadata": {},
     "output_type": "execute_result"
    }
   ],
   "source": [
    "ISRCLB.approx_expectation(lambda x: x)"
   ]
  },
  {
   "cell_type": "code",
   "execution_count": 68,
   "metadata": {},
   "outputs": [
    {
     "data": {
      "image/png": "[encoded data removed]",
      "text/plain": [
       "<Figure size 432x288 with 1 Axes>"
      ]
     },
     "metadata": {
      "needs_background": "light"
     },
     "output_type": "display_data"
    }
   ],
   "source": [
    "fig, ax = plt.subplots()\n",
    "_ = ax.hist(e2, density=True, bins=50)\n",
    "plt.show()"
   ]
  },
  {
   "cell_type": "markdown",
   "metadata": {},
   "source": [
    "# Standard HMC & perfect sampling"
   ]
  },
  {
   "cell_type": "code",
   "execution_count": 133,
   "metadata": {},
   "outputs": [],
   "source": [
    "mhmc_samples = MixtureManifoldHMC(target.rvs(), 0.1, n*niter, n, 1, Sigma, mu, 1.0, 0.05, np.eye(2))"
   ]
  },
  {
   "cell_type": "code",
   "execution_count": 120,
   "metadata": {},
   "outputs": [],
   "source": [
    "def apply_func(func, samples, nw, n, niter):\n",
    "    means = []\n",
    "    for ii in range(niter):\n",
    "        means.append(\n",
    "            np.sum(func(samples[ii*n:(ii*n + n)]) * nw[ii*n:(ii*n + n)][:, None], axis=0)\n",
    "        )\n",
    "    return np.mean(np.vstack(means), axis=0)"
   ]
  },
  {
   "cell_type": "code",
   "execution_count": 48,
   "metadata": {},
   "outputs": [],
   "source": [
    "perfect_samples = target.rvs(niter*n)\n",
    "hmc_samples = GaussianTargetHMC(target.rvs(), n*niter, np.eye(2), 1.0, 0.05, Sigma, mu).sample()"
   ]
  },
  {
   "cell_type": "code",
   "execution_count": 54,
   "metadata": {},
   "outputs": [],
   "source": [
    "# Hug and Hop\n",
    "grad_log_pi = lambda xy: - inv(Sigma) @ xy\n",
    "scale_q = 0.5\n",
    "q = multivariate_normal(np.zeros(2), (scale_q**2)*np.eye(2))\n",
    "T = 0.1 \n",
    "B = 5 \n",
    "l = 2.0     \n",
    "k = 1.0\n",
    "hh_samples, _, _ = HugHop(T, B, target.rvs(), q, target.logpdf, grad_log_pi, l, k).sample(n*niter)"
   ]
  },
  {
   "cell_type": "code",
   "execution_count": 66,
   "metadata": {},
   "outputs": [],
   "source": [
    "burnin = 50000\n",
    "hhpc_samples, _, _ = HugHopPC(T, B, target.rvs(), q, target.logpdf, grad_log_pi, \n",
    "                              l, k, burnin=burnin).sample(n*niter)"
   ]
  },
  {
   "cell_type": "code",
   "execution_count": 200,
   "metadata": {},
   "outputs": [
    {
     "name": "stdout",
     "output_type": "stream",
     "text": [
      "Perfect Sampling: 0.011057196590257078\n",
      "HMC: 0.008408181967124015\n",
      "RWIS: 0.005186525821495204\n",
      "RWIS Reverse Check: 0.008593000952508006\n",
      "HH: 0.1139818414119458\n",
      "HHPC: 0.004632516224997227\n",
      "M-HMC: 0.012830801560153725\n",
      "RWIS Still: 0.01347685147739572\n"
     ]
    }
   ],
   "source": [
    "print(\"Perfect Sampling: {}\".format(np.linalg.norm(np.mean(perfect_samples, axis=0) - mu)))\n",
    "print(\"HMC: {}\".format(np.linalg.norm(np.mean(hmc_samples, axis=0)-mu)))\n",
    "print(\"RWIS: {}\".format(np.linalg.norm(np.mean(np.vstack(means1), axis=0) - mu)))\n",
    "print(\"RWIS Reverse Check: {}\".format(np.linalg.norm(np.mean(np.vstack(means2), axis=0) - mu)))\n",
    "print(\"HH: {}\".format(np.linalg.norm(np.mean(hh_samples, axis=0) - mu)))\n",
    "print(\"HHPC: {}\".format(np.linalg.norm(np.mean(hhpc_samples, axis=0) - mu)))\n",
    "print(\"M-HMC: {}\".format(np.linalg.norm(np.mean(mhmc_samples, axis=0) - mu)))\n",
    "print(\"RWIS Still: {}\".format(np.linalg.norm(np.mean(np.vstack(means3), axis=0) - mu)))"
   ]
  },
  {
   "cell_type": "code",
   "execution_count": 154,
   "metadata": {},
   "outputs": [
    {
     "data": {
      "text/plain": [
       "array([0.57717662, 0.42991263])"
      ]
     },
     "execution_count": 154,
     "metadata": {},
     "output_type": "execute_result"
    }
   ],
   "source": [
    "apply_func(np.sin, s1, nw1, n, niter)"
   ]
  },
  {
   "cell_type": "code",
   "execution_count": 155,
   "metadata": {},
   "outputs": [
    {
     "data": {
      "text/plain": [
       "array([0.48701429, 0.3234232 ])"
      ]
     },
     "execution_count": 155,
     "metadata": {},
     "output_type": "execute_result"
    }
   ],
   "source": [
    "np.mean(np.sin(hh_samples), axis=0)"
   ]
  },
  {
   "cell_type": "code",
   "execution_count": 156,
   "metadata": {},
   "outputs": [
    {
     "data": {
      "text/plain": [
       "array([0.50699575, 0.33549899])"
      ]
     },
     "execution_count": 156,
     "metadata": {},
     "output_type": "execute_result"
    }
   ],
   "source": [
    "np.mean(np.sin(perfect_samples), axis=0)"
   ]
  },
  {
   "cell_type": "code",
   "execution_count": 157,
   "metadata": {},
   "outputs": [
    {
     "data": {
      "text/plain": [
       "array([0.51079131, 0.33111925])"
      ]
     },
     "execution_count": 157,
     "metadata": {},
     "output_type": "execute_result"
    }
   ],
   "source": [
    "np.mean(np.sin(hmc_samples), axis=0)"
   ]
  },
  {
   "cell_type": "code",
   "execution_count": 158,
   "metadata": {},
   "outputs": [
    {
     "data": {
      "text/plain": [
       "array([0.51742216, 0.34385556])"
      ]
     },
     "execution_count": 158,
     "metadata": {},
     "output_type": "execute_result"
    }
   ],
   "source": [
    "np.mean(np.sin(hhpc_samples), axis=0)"
   ]
  },
  {
   "cell_type": "code",
   "execution_count": 159,
   "metadata": {},
   "outputs": [
    {
     "data": {
      "text/plain": [
       "array([0.5391717 , 0.42832074])"
      ]
     },
     "execution_count": 159,
     "metadata": {},
     "output_type": "execute_result"
    }
   ],
   "source": [
    "apply_func(np.sin, s2, nw2, n, niter)"
   ]
  },
  {
   "cell_type": "code",
   "execution_count": 160,
   "metadata": {},
   "outputs": [
    {
     "data": {
      "text/plain": [
       "array([0.51465478, 0.33825813])"
      ]
     },
     "execution_count": 160,
     "metadata": {},
     "output_type": "execute_result"
    }
   ],
   "source": [
    "np.mean(np.sin(mhmc_samples), axis=0)"
   ]
  }
 ],
 "metadata": {
  "@webio": {
   "lastCommId": null,
   "lastKernelId": null
  },
  "kernelspec": {
   "display_name": "Python 3",
   "language": "python",
   "name": "python3"
  },
  "language_info": {
   "codemirror_mode": {
    "name": "ipython",
    "version": 3
   },
   "file_extension": ".py",
   "mimetype": "text/x-python",
   "name": "python",
   "nbconvert_exporter": "python",
   "pygments_lexer": "ipython3",
   "version": "3.7.4"
  }
 },
 "nbformat": 4,
 "nbformat_minor": 2
}
