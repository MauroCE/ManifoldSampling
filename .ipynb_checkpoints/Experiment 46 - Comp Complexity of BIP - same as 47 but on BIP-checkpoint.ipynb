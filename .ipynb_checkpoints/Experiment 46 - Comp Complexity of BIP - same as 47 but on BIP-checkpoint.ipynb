{
 "cells": [
  {
   "cell_type": "code",
   "execution_count": 413,
   "id": "49e64a01",
   "metadata": {},
   "outputs": [],
   "source": [
    "import numpy as np\n",
    "from numpy.linalg import norm, solve, det\n",
    "from numpy.random import default_rng\n",
    "from numpy.random import randn\n",
    "from numpy import log, exp, zeros, eye, pi, array, diag\n",
    "from scipy.stats import multivariate_normal as MVN\n",
    "import matplotlib.pyplot as plt\n",
    "\n",
    "from mici.samplers import ChainState\n",
    "from mici.systems import DenseConstrainedEuclideanMetricSystem as DCEMS\n",
    "from mici.systems import EuclideanMetricSystem as EMS\n",
    "from mici.integrators import ConstrainedLeapfrogIntegrator as CLI\n",
    "from mici.integrators import LeapfrogIntegrator as LI\n",
    "from mici.samplers import DynamicMultinomialHMC as DMHMC\n",
    "from mici.samplers import StaticMetropolisHMC as SMHMC\n",
    "\n",
    "from tangential_hug_functions import Hug, HugTangential\n",
    "from utils import ESS_univariate, prep_contour"
   ]
  },
  {
   "cell_type": "code",
   "execution_count": 502,
   "id": "46fe700d",
   "metadata": {},
   "outputs": [],
   "source": [
    "σ = 0.02\n",
    "y = 1.0"
   ]
  },
  {
   "cell_type": "code",
   "execution_count": 503,
   "id": "dbc52680",
   "metadata": {},
   "outputs": [],
   "source": [
    "# Settings\n",
    "N_CHMC = 1000  # Number of samples for C-HMC\n",
    "δ_CHMC = 0.05   # Step-size for C-HMC\n",
    "n_CHMC = 5     # Number of integrator steps to simulate in each transition \n",
    "T_CHMC = δ_CHMC * n_CHMC\n",
    "\n",
    "ϵ_HUG = 0.001\n",
    "N_HUG = N_CHMC\n",
    "T_HUG = T_CHMC\n",
    "B_HUG = n_CHMC\n",
    "\n",
    "ϵ_THUG = ϵ_HUG\n",
    "N_THUG = N_HUG\n",
    "T_THUG = T_HUG\n",
    "B_THUG = B_HUG"
   ]
  },
  {
   "cell_type": "markdown",
   "id": "ff8fcbaf",
   "metadata": {},
   "source": [
    "- Log prior\n",
    "$$\n",
    "\\log p(\\xi) = -\\frac{3}{2}\\log(2\\pi) - \\frac{1}{2}\\xi^\\top\\xi\n",
    "$$\n",
    "- Gradient of Log Prior\n",
    "$$\n",
    "\\nabla_\\xi \\log p(\\xi) = -\\xi\n",
    "$$\n",
    "- Constraint function\n",
    "$$\n",
    "f(\\xi) = \\xi_1^2 + 3\\xi_0^2(\\xi_0^2 - 1) + \\sigma\\xi_2\n",
    "$$\n",
    "- Gradient of constraint function\n",
    "$$\n",
    "\\nabla_\\xi f(\\xi) = (12\\xi_0^3 - 6\\xi_0, 2\\xi_1, \\sigma)^\\top\\qquad \\in\\mathbb{R}^{3\\times 1}\n",
    "$$\n",
    "- Jacobian of constraint function\n",
    "$$\n",
    "J_f(\\xi) = (12\\xi_0^3 - 6\\xi_0, 2\\xi_1, \\sigma) \\qquad \\in\\mathbb{R}^{1\\times 3}\n",
    "$$\n",
    "- Gram Jacobian matrix of constraint function\n",
    "$$\n",
    "J_f(\\xi) J_f(\\xi)^\\top = \\|\\nabla_\\xi f(\\xi)\\|^2 = 144\\xi_0^6 + 36\\xi_0^2 - 72\\xi_0^4 + 4\\xi_1^2 + \\sigma^2\n",
    "$$\n",
    "- Hessian of Constraint function\n",
    "$$\n",
    "\\nabla_\\xi^2 f(\\xi) = \\begin{pmatrix}\n",
    "    36\\xi_0^2 - 6 & 0 & 0 \\\\\n",
    "    0             & 2 & 0 \\\\\n",
    "    0             & 0 & 0\n",
    "\\end{pmatrix}\n",
    "$$\n",
    "- Posterior density\n",
    "$$\n",
    "p(\\xi\\mid y)\\propto p(\\xi) |\\det J_f(\\xi) J_f(\\xi)^\\top|^{-1/2}\n",
    "$$\n",
    "- Log Posterior Density\n",
    "$$\n",
    "\\log p(\\xi\\mid y)\\propto - \\frac{1}{2}\\xi^\\top\\xi -\\log \\|\\nabla_\\xi f(\\xi)\\| = - \\frac{1}{2}\\xi^\\top\\xi -\\frac{1}{2}\\log \\|\\nabla_\\xi f(\\xi)\\|^2\n",
    "$$\n",
    "- Negative log posterior density\n",
    "$$\n",
    "-\\log p(\\xi\\mid y)\\propto \\frac{1}{2}\\xi^\\top\\xi + \\log \\|\\nabla_\\xi f(\\xi)\\| = \\frac{1}{2}\\xi^\\top\\xi + \\frac{1}{2}\\log \\|\\nabla_\\xi f(\\xi)\\|^2\n",
    "$$"
   ]
  },
  {
   "cell_type": "markdown",
   "id": "a47d67d5",
   "metadata": {},
   "source": [
    "- Gradient of Gram Jacobian Matrix\n",
    "$$\n",
    "\\nabla_\\xi \\|\\nabla_\\xi f(\\xi)\\|^2 = \\begin{pmatrix}\n",
    "    864\\xi_0^5 + 72\\xi_0 - 288\\xi_0^3 \\\\\n",
    "    8\\xi_1 \\\\\n",
    "    0\n",
    "\\end{pmatrix}\n",
    "$$\n",
    "- Gradient Negative Log Posterior Density\n",
    "$$\n",
    "-\\nabla_\\xi \\log p(\\xi\\mid y) \\propto \\xi + \\frac{\\nabla_\\xi \\|\\nabla_\\xi f(\\xi)\\|}{\\|\\nabla_\\xi f(\\xi)\\|^2}\n",
    "$$"
   ]
  },
  {
   "cell_type": "code",
   "execution_count": 504,
   "id": "65a3166a",
   "metadata": {},
   "outputs": [],
   "source": [
    "### Functions for C-HMC\n",
    "logprior      = lambda ξ: MVN(zeros(3), eye(3)).logpdf(ξ)\n",
    "grad_logprior = lambda ξ: -ξ\n",
    "constr        = lambda ξ: array([ξ[1]**2 + 3*(ξ[0]**2)*(ξ[0]**2 - 1) + σ*ξ[2]]) - y\n",
    "jacob_constr  = lambda ξ: array([[12*ξ[0]**3 - 6*ξ[0], 2*ξ[1], σ]])\n",
    "neg_log_dens  = lambda ξ: 0.5*(ξ@ξ) + log(norm(array([12*ξ[0]**3 - 6*ξ[0], 2*ξ[1], σ])))\n",
    "\n",
    "def grad_neg_log_density(ξ):\n",
    "    denominator = norm(array([12*ξ[0]**3 - 6*ξ[0], 2*ξ[1], σ]))**2\n",
    "    numerator   = array([864*ξ[0]**5 + 72*ξ[0] - 288*ξ[0]**3, 8*ξ[1], 0])\n",
    "    return ξ + numerator / denominator\n",
    "\n",
    "def trace_func(state):\n",
    "    x, y, z = state.pos\n",
    "    return {'x': x, 'y': y, 'z': z}\n",
    "\n",
    "# h  = lambda θ: θ[1]**2 + 3*(θ[0]**2)*(θ[0]**2 - 1)\n",
    "# fσ = lambda ξ: h(ξ[:2]) + σ*ξ[2]\n",
    "\n",
    "def find_point_on_lifted_manifold():\n",
    "    θ = MVN(zeros(2), eye(2)).rvs()\n",
    "    η = (y - (θ[1]**2 + 3*(θ[0]**2)*(θ[0]**2 - 1))) / σ\n",
    "    return np.array([*θ, η])"
   ]
  },
  {
   "cell_type": "code",
   "execution_count": 505,
   "id": "52032764",
   "metadata": {},
   "outputs": [
    {
     "data": {
      "text/html": [
       "\n",
       "        <div style=\"line-height: 28px; width: 100%; display: flex;\n",
       "                    flex-flow: row wrap; align-items: center;\n",
       "                    position: relative; margin: 2px;\">\n",
       "          <label style=\"margin-right: 8px; flex-shrink: 0;\n",
       "                        font-size: var(--jp-code-font-size, 13px);\n",
       "                        font-family: var(--jp-code-font-family, monospace);\">\n",
       "            Chain&nbsp;1/1:&nbsp;100%\n",
       "          </label>\n",
       "          <div role=\"progressbar\" aria-valuenow=\"1.0\"\n",
       "               aria-valuemin=\"0\" aria-valuemax=\"1\"\n",
       "               style=\"position: relative; flex-grow: 1; align-self: stretch;\n",
       "                      margin-top: 4px; margin-bottom: 4px;  height: initial;\n",
       "                      background-color: #eee;\">\n",
       "            <div style=\"background-color: var(--jp-success-color1, #4caf50); position: absolute;\n",
       "                        bottom: 0; left: 0; width: 100%;\n",
       "                        height: 100%;\"></div>\n",
       "          </div>\n",
       "          <div style=\"margin-left: 8px; flex-shrink: 0;\n",
       "                      font-family: var(--jp-code-font-family, monospace);\n",
       "                      font-size: var(--jp-code-font-size, 13px);\">\n",
       "            1000/1000 [00:02&lt;00:00, 490.40it/s, accept_stat=0.723]\n",
       "          </div>\n",
       "        </div>\n",
       "        "
      ],
      "text/plain": [
       "Chain 1/1: 100%|██████████|1000/1000 [00:02<00:00, 490.40it/s, accept_stat=0.723]"
      ]
     },
     "metadata": {},
     "output_type": "display_data"
    }
   ],
   "source": [
    "system          = DCEMS(neg_log_dens, constr, jacob_constr=jacob_constr, grad_neg_log_dens=grad_neg_log_density)\n",
    "integrator      = CLI(system, step_size=δ_CHMC)\n",
    "sampler         = SMHMC(system, integrator, default_rng(seed=1234), n_step=n_CHMC)\n",
    "init_state      = find_point_on_lifted_manifold()\n",
    "init_state_CHMC = ChainState(pos=init_state, mom=None, dir=1, _call_counts={})\n",
    "final_state, trace, stat = sampler.sample_chain(n_iter=N_CHMC, init_state=init_state_CHMC, trace_funcs=[trace_func])"
   ]
  },
  {
   "cell_type": "markdown",
   "id": "8aa0aeeb",
   "metadata": {},
   "source": [
    "### Standard HMC on approximate lifted distribution (gaussian kernel)"
   ]
  },
  {
   "cell_type": "markdown",
   "id": "38a55fc4",
   "metadata": {},
   "source": [
    "Try using a Gaussian kernel\n",
    "$$\n",
    "k_\\epsilon(u) = \\frac{1}{\\sqrt{2\\pi}\\epsilon}\\exp\\left(-\\frac{1}{2}\\frac{u^2}{\\epsilon^2}\\right)\n",
    "$$\n",
    "where $u = \\|f_\\sigma(\\xi) - y\\| = |f_\\sigma(\\xi) - y|$ \n",
    "The prior is still\n",
    "$$\n",
    "logp(\\xi) = log N(\\xi\\mid 0, I) = -\\frac{3}{2}\\log (2\\pi) - \\frac{1}{2}\\xi^\\top\\xi\n",
    "$$\n",
    "The posterior the is\n",
    "$$\n",
    "\\log p_\\epsilon(\\xi\\mid y) \\propto -\\frac{1}{2}\\xi^\\top\\xi -\\frac{(f_\\sigma(\\xi) - y)^2}{2\\epsilon^2}\n",
    "$$\n",
    "It's gradient is\n",
    "$$\n",
    "\\nabla_\\xi \\log p_\\epsilon(\\xi\\mid y) \\propto -\\xi - \\left(\\frac{f_\\sigma(\\xi) - y}{\\epsilon^2}\\right)\\nabla_\\xi f_\\sigma(\\xi)\n",
    "$$"
   ]
  },
  {
   "cell_type": "code",
   "execution_count": 506,
   "id": "627d695d",
   "metadata": {},
   "outputs": [],
   "source": [
    "ϵ_HMC = ϵ_HUG\n",
    "n_HMC = n_CHMC\n",
    "δ_HMC = δ_CHMC\n",
    "N_HMC = N_CHMC"
   ]
  },
  {
   "cell_type": "code",
   "execution_count": 507,
   "id": "af983d7f",
   "metadata": {},
   "outputs": [],
   "source": [
    "def initial_point_lifted(n_tries=10000):\n",
    "    for i in range(n_tries):\n",
    "        # Sample from prior (ish)\n",
    "        θ = MVN(zeros(2), eye(2)).rvs()\n",
    "        η = randn() * σ\n",
    "        ξ = np.array([*θ, η])\n",
    "        if exp(log_approximate_lifted(ξ)) > 1e-5:\n",
    "            return ξ\n",
    "    print('Not found')\n",
    "    return None"
   ]
  },
  {
   "cell_type": "code",
   "execution_count": 508,
   "id": "4c693998",
   "metadata": {},
   "outputs": [],
   "source": [
    "def log_approximate_lifted(ξ):\n",
    "    return -0.5*(ξ@ξ) - (constr(ξ)**2) / (2*(ϵ_HMC**2))\n",
    "\n",
    "def neg_log_approximate_lifted(ξ):\n",
    "    return 0.5*(ξ@ξ) + (constr(ξ)**2) / (2*(ϵ_HMC**2))\n",
    "\n",
    "# def grad_neg_log_approximate_lifted(ξ):\n",
    "#     return ξ + (constr(ξ) / (ϵ_HUG**2)) * jacob_constr(ξ).flatten()\n",
    "\n",
    "from autograd import grad as grad_autograd\n",
    "grad_neg_log_approximate_lifted = grad_autograd(neg_log_approximate_lifted)"
   ]
  },
  {
   "cell_type": "code",
   "execution_count": 509,
   "id": "7a81e07e",
   "metadata": {},
   "outputs": [],
   "source": [
    "init_state_lifted_gauss      = initial_point_lifted()"
   ]
  },
  {
   "cell_type": "code",
   "execution_count": 510,
   "id": "48f52652",
   "metadata": {},
   "outputs": [
    {
     "data": {
      "text/html": [
       "\n",
       "        <div style=\"line-height: 28px; width: 100%; display: flex;\n",
       "                    flex-flow: row wrap; align-items: center;\n",
       "                    position: relative; margin: 2px;\">\n",
       "          <label style=\"margin-right: 8px; flex-shrink: 0;\n",
       "                        font-size: var(--jp-code-font-size, 13px);\n",
       "                        font-family: var(--jp-code-font-family, monospace);\">\n",
       "            Chain&nbsp;1/1:&nbsp;100%\n",
       "          </label>\n",
       "          <div role=\"progressbar\" aria-valuenow=\"1.0\"\n",
       "               aria-valuemin=\"0\" aria-valuemax=\"1\"\n",
       "               style=\"position: relative; flex-grow: 1; align-self: stretch;\n",
       "                      margin-top: 4px; margin-bottom: 4px;  height: initial;\n",
       "                      background-color: #eee;\">\n",
       "            <div style=\"background-color: var(--jp-success-color1, #4caf50); position: absolute;\n",
       "                        bottom: 0; left: 0; width: 100%;\n",
       "                        height: 100%;\"></div>\n",
       "          </div>\n",
       "          <div style=\"margin-left: 8px; flex-shrink: 0;\n",
       "                      font-family: var(--jp-code-font-family, monospace);\n",
       "                      font-size: var(--jp-code-font-size, 13px);\">\n",
       "            1000/1000 [00:01&lt;00:00, 938.83it/s, accept_stat=0.000706]\n",
       "          </div>\n",
       "        </div>\n",
       "        "
      ],
      "text/plain": [
       "Chain 1/1: 100%|██████████|1000/1000 [00:01<00:00, 938.83it/s, accept_stat=0.000706]"
      ]
     },
     "metadata": {},
     "output_type": "display_data"
    }
   ],
   "source": [
    "system_HMC                   = EMS(neg_log_approximate_lifted, grad_neg_log_dens=grad_neg_log_approximate_lifted)\n",
    "integrator_HMC               = LI(system_HMC, step_size=δ_HMC)\n",
    "sampler_HMC                  = SMHMC(system_HMC, integrator_HMC, default_rng(seed=1234), n_step=n_HMC)\n",
    "init_state_HMC               = ChainState(pos=init_state_lifted_gauss, mom=None, dir=1, _call_counts={})\n",
    "final_HMC, trace_HMC, stat_HMC = sampler_HMC.sample_chain(n_iter=N_HMC, init_state=init_state_HMC, trace_funcs=[trace_func])"
   ]
  },
  {
   "cell_type": "code",
   "execution_count": 511,
   "id": "cd46328b",
   "metadata": {},
   "outputs": [],
   "source": [
    "HMC_stats           = {key[0].split('.', 1)[1]: value for (key, value) in final_HMC._call_counts.items()}\n",
    "n_grad_log_dens_HMC = HMC_stats['grad_neg_log_dens']\n",
    "n_neg_log_dens_HMC  = HMC_stats['neg_log_dens']\n",
    "samples_HMC         = np.vstack((trace_HMC['x'], trace_HMC['y'], trace_HMC['z'])).T\n",
    "dens_values_HMC     = exp(-np.apply_along_axis(neg_log_approximate_lifted, 1, samples_HMC))\n",
    "logpiESS_HMC        = ESS_univariate(dens_values_HMC)"
   ]
  },
  {
   "cell_type": "markdown",
   "id": "bfd89c72",
   "metadata": {},
   "source": [
    "### Hug and Thug"
   ]
  },
  {
   "cell_type": "code",
   "execution_count": 512,
   "id": "a022fd60",
   "metadata": {},
   "outputs": [],
   "source": [
    "#### Functions for HUG\n",
    "q = MVN(zeros(3), eye(3))\n",
    "\n",
    "# def log_epanechnikov_kernel(ξ, ϵ):\n",
    "#     u = norm(constr(ξ))\n",
    "#     with np.errstate(divide='ignore'):\n",
    "#         return log((3*(1 - (u**2 / (ϵ**2))) / (4*ϵ)) * float(u <= ϵ))\n",
    "\n",
    "# logpi_HUG = lambda ξ: logprior(ξ) + log_epanechnikov_kernel(ξ, ϵ_HUG)\n",
    "logpi_HUG = lambda ξ: log_approximate_lifted(ξ)\n",
    "grad_HUG  = lambda ξ: jacob_constr(ξ).flatten()\n",
    "\n",
    "\n",
    "### Functions for THUG\n",
    "# logpi_THUG = lambda ξ: logprior(ξ) + log_epanechnikov_kernel(ξ, ϵ_THUG)\n",
    "logpi_THUG = lambda ξ: log_approximate_lifted(ξ)\n",
    "grad_THUG  = lambda ξ: jacob_constr(ξ).flatten()\n",
    "\n",
    "hug_samples, acceptance_hug = Hug(init_state_lifted_gauss, T_HUG, B_HUG, N_HUG, q, logpi_HUG, grad_HUG)\n",
    "thug_samples, acceptance_thug = HugTangential(init_state_lifted_gauss, T_THUG, B_THUG, N_THUG, 0.99, q, logpi_THUG, grad_THUG)"
   ]
  },
  {
   "cell_type": "markdown",
   "id": "26d76f3e",
   "metadata": {},
   "source": [
    "### Results"
   ]
  },
  {
   "cell_type": "code",
   "execution_count": 513,
   "id": "5f20f666",
   "metadata": {},
   "outputs": [],
   "source": [
    "rmse = lambda x: np.sqrt(np.mean(x**2))\n",
    "\n",
    "\n",
    "### Computations for CHMC\n",
    "CHMC_stats           = {key[0].split('.', 1)[1]: value for (key, value) in final_state._call_counts.items()}\n",
    "n_constr_eval_CHMC   = CHMC_stats['constr']\n",
    "n_jac_constr_CHMC    = CHMC_stats['jacob_constr']\n",
    "n_grad_log_dens_CHMC = CHMC_stats['grad_neg_log_dens']\n",
    "samples_CHMC         = np.vstack((trace['x'], trace['y'], trace['z'])).T\n",
    "\n",
    "\n",
    "dens_values_CHMC     = np.exp(-np.apply_along_axis(neg_log_dens, 1, samples_CHMC))\n",
    "logpiESS_CHMC        = ESS_univariate(dens_values_CHMC)\n",
    "constr_per_ess_chmc  = n_constr_eval_CHMC / logpiESS_CHMC\n",
    "c_and_j_per_ess_chmc = (n_constr_eval_CHMC + n_jac_constr_CHMC) / logpiESS_CHMC\n",
    "rmse_CHMC            = rmse(np.apply_along_axis(constr, 1, samples_CHMC) - y)\n",
    "\n",
    "### Computations for HUG\n",
    "dens_values_HUG     = np.exp(np.apply_along_axis(logpi_HUG, 1, hug_samples))\n",
    "logpiESS_HUG        = ESS_univariate(dens_values_HUG)\n",
    "n_constr_eval_HUG   = N_HUG + 1\n",
    "n_jacob_constr_HUG  = B_HUG * N_HUG\n",
    "eval_per_ess_hug    = n_constr_eval_HUG / logpiESS_HUG\n",
    "c_and_j_per_ess_hug = (n_constr_eval_HUG + n_jacob_constr_HUG) / logpiESS_HUG\n",
    "rmse_HUG            = rmse(np.apply_along_axis(constr, 1, hug_samples) - y)\n",
    "\n",
    "\n",
    "### Computations for THUG\n",
    "dens_values_THUG     = np.exp(np.apply_along_axis(logpi_THUG, 1, thug_samples))\n",
    "logpiESS_THUG        = ESS_univariate(dens_values_THUG)\n",
    "n_constr_eval_THUG   = N_THUG + 1\n",
    "n_jacob_constr_THUG  = 1 + (B_THUG + 1) * N_THUG\n",
    "eval_per_ess_thug    = n_constr_eval_THUG / logpiESS_THUG\n",
    "c_and_j_per_ess_thug = (n_constr_eval_THUG + n_jacob_constr_THUG) / logpiESS_THUG\n",
    "rmse_THUG            = rmse(np.apply_along_axis(constr, 1, thug_samples) - y)"
   ]
  },
  {
   "cell_type": "code",
   "execution_count": 514,
   "id": "e4e9eaaa",
   "metadata": {},
   "outputs": [
    {
     "name": "stdout",
     "output_type": "stream",
     "text": [
      "Mean Acceptance Probability HUG:  52.0\n",
      "Mean Acceptance Probability THUG: 71.5\n",
      "Mean Acceptance Probability CHMC: 72.3\n",
      "Mean Acceptance Probability HMC:  0.0706\n"
     ]
    }
   ],
   "source": [
    "print(\"Mean Acceptance Probability HUG:  {:.3}\".format(acceptance_hug.mean() * 100))\n",
    "print(\"Mean Acceptance Probability THUG: {:.3}\".format(acceptance_thug.mean() * 100))\n",
    "print(\"Mean Acceptance Probability CHMC: {:.3}\".format(stat['accept_stat'].mean() * 100))\n",
    "print(\"Mean Acceptance Probability HMC:  {:.3}\".format(stat_HMC['accept_stat'].mean() * 100))"
   ]
  },
  {
   "cell_type": "code",
   "execution_count": 515,
   "id": "4c0b3185",
   "metadata": {},
   "outputs": [
    {
     "name": "stdout",
     "output_type": "stream",
     "text": [
      "HUG:   1001\n",
      "THUG:  1001\n",
      "CHMC:  55438\n",
      "HMC:   1001\n"
     ]
    }
   ],
   "source": [
    "print(\"HUG:  \", n_constr_eval_HUG)\n",
    "print(\"THUG: \", n_constr_eval_THUG)\n",
    "print(\"CHMC: \", n_constr_eval_CHMC)\n",
    "print(\"HMC:  \", n_neg_log_dens_HMC)"
   ]
  },
  {
   "cell_type": "code",
   "execution_count": 516,
   "id": "05ad8b5d",
   "metadata": {},
   "outputs": [
    {
     "name": "stdout",
     "output_type": "stream",
     "text": [
      "HUG:   5000\n",
      "THUG:  6001\n",
      "CHMC:  5001\n",
      "HMC:   5461\n"
     ]
    }
   ],
   "source": [
    "print(\"HUG:  \", n_jacob_constr_HUG)\n",
    "print(\"THUG: \", n_jacob_constr_THUG)\n",
    "print(\"CHMC: \", n_jac_constr_CHMC)\n",
    "print(\"HMC:  \", n_grad_log_dens_HMC)"
   ]
  },
  {
   "cell_type": "code",
   "execution_count": 517,
   "id": "43c75d84",
   "metadata": {},
   "outputs": [
    {
     "name": "stdout",
     "output_type": "stream",
     "text": [
      "HUG:   6001\n",
      "THUG:  7002\n",
      "CHMC:  60439\n",
      "HMC:   6462\n"
     ]
    }
   ],
   "source": [
    "print(\"HUG:  \", n_constr_eval_HUG + n_jacob_constr_HUG)\n",
    "print(\"THUG: \", n_constr_eval_THUG + n_jacob_constr_THUG)\n",
    "print(\"CHMC: \", n_constr_eval_CHMC + n_jac_constr_CHMC)\n",
    "print(\"HMC:  \", n_neg_log_dens_HMC + n_grad_log_dens_HMC)"
   ]
  },
  {
   "cell_type": "code",
   "execution_count": 518,
   "id": "c759caa2",
   "metadata": {},
   "outputs": [
    {
     "name": "stdout",
     "output_type": "stream",
     "text": [
      "ESS HUG:   54.86668022835083\n",
      "ESS THUG:  74.67643612028222\n",
      "ESS HMC:   3.0257579706431352\n"
     ]
    }
   ],
   "source": [
    "print('ESS HUG:  ', *logpiESS_HUG)\n",
    "print('ESS THUG: ', *logpiESS_THUG)\n",
    "print('ESS HMC:  ', *logpiESS_HMC)"
   ]
  },
  {
   "cell_type": "code",
   "execution_count": 519,
   "id": "d8290ba1",
   "metadata": {},
   "outputs": [
    {
     "name": "stdout",
     "output_type": "stream",
     "text": [
      "--- Constraint ---\n",
      "HUG:   18.24422392304248\n",
      "THUG:  13.404496143705591\n",
      "CHMC:  1412.8415786029252\n",
      "HMC:   330.82619618357444\n",
      "\n",
      "\n",
      "--- Constraint + Jacobian ---\n",
      "HUG:   109.37421354862929\n",
      "THUG:  93.76451748074581\n",
      "CHMC:  1540.2924378437567\n",
      "HMC:   2135.6632165217366\n",
      "\n",
      "\n",
      "--- Constraint + Jacobian + Grad Log Density ---\n",
      "HUG:   109.37421354862929\n",
      "THUG:  93.76451748074581\n",
      "CHMC:  1667.8197523090882\n"
     ]
    }
   ],
   "source": [
    "print(\"--- Constraint ---\")\n",
    "print(\"HUG:  \", (n_constr_eval_HUG / logpiESS_HUG)[0])\n",
    "print(\"THUG: \", (n_constr_eval_THUG / logpiESS_THUG)[0])\n",
    "print(\"CHMC: \", n_constr_eval_CHMC / logpiESS_CHMC)\n",
    "print(\"HMC:  \", (n_neg_log_dens_HMC / logpiESS_HMC)[0])\n",
    "\n",
    "print(\"\\n\")\n",
    "\n",
    "print(\"--- Constraint + Jacobian ---\")\n",
    "print(\"HUG:  \", ((n_constr_eval_HUG + n_jacob_constr_HUG) / logpiESS_HUG)[0])\n",
    "print(\"THUG: \", ((n_constr_eval_THUG + n_jacob_constr_THUG) / logpiESS_THUG)[0])\n",
    "print(\"CHMC: \", (n_constr_eval_CHMC + n_jac_constr_CHMC) / logpiESS_CHMC)\n",
    "print(\"HMC:  \", ((n_neg_log_dens_HMC + n_grad_log_dens_HMC) / logpiESS_HMC)[0])\n",
    "\n",
    "print(\"\\n\")\n",
    "\n",
    "print(\"--- Constraint + Jacobian + Grad Log Density ---\")\n",
    "print(\"HUG:  \", ((n_constr_eval_HUG + n_jacob_constr_HUG) / logpiESS_HUG)[0])\n",
    "print(\"THUG: \", ((n_constr_eval_THUG + n_jacob_constr_THUG) / logpiESS_THUG)[0])\n",
    "print(\"CHMC: \", (n_constr_eval_CHMC + n_jac_constr_CHMC + n_grad_log_dens_CHMC) / logpiESS_CHMC)"
   ]
  },
  {
   "cell_type": "code",
   "execution_count": 530,
   "id": "e54738bc",
   "metadata": {},
   "outputs": [
    {
     "data": {
      "text/plain": [
       "<matplotlib.collections.PathCollection at 0x283dd91e0>"
      ]
     },
     "execution_count": 530,
     "metadata": {},
     "output_type": "execute_result"
    },
    {
     "data": {
      "image/png": "[encoded data removed]",
      "text/plain": [
       "<Figure size 432x288 with 1 Axes>"
      ]
     },
     "metadata": {
      "needs_background": "light"
     },
     "output_type": "display_data"
    }
   ],
   "source": [
    "COST = array([n_constr_eval_HUG, n_constr_eval_THUG, n_neg_log_dens_HMC, n_constr_eval_CHMC])\n",
    "ESS  = array([*logpiESS_HUG, *logpiESS_THUG, *logpiESS_HMC, logpiESS_CHMC])\n",
    "\n",
    "# Let's make Andrea's plot\n",
    "fig, ax = plt.subplots()\n",
    "ax.scatter(COST, ESS)\n"
   ]
  },
  {
   "cell_type": "code",
   "execution_count": 582,
   "id": "b2aa3e70",
   "metadata": {},
   "outputs": [],
   "source": [
    "logpiESS_CHMC_filamentary = ESS_univariate(np.exp(-np.apply_along_axis(logpi_HUG, 1, samples_CHMC)))[0]"
   ]
  },
  {
   "cell_type": "code",
   "execution_count": 587,
   "id": "3810be89",
   "metadata": {},
   "outputs": [],
   "source": [
    "def create_latex_table_for_linz():\n",
    "    string  = r'\\begin{center}'\n",
    "    string += \"\\n\\t\" + r'\\begin{tabular}{ | l | l | l | l | l |}'\n",
    "    string += \"\\n\\t\" + r'\\hline'\n",
    "    string += \"\\n\\t\" + \"Algorithm & Target & $f + \\\\nabla f$ & ESS & Cost per ESS\\\\\\ \\hline\"\n",
    "    string += \"\\n\\t\" + \"HUG  & $p$ & {} & {:.2f} & {:.2f} \\\\\\ \\hline\".format(n_constr_eval_HUG + n_jacob_constr_HUG, *logpiESS_HUG, (n_constr_eval_HUG + n_jacob_constr_HUG) / logpiESS_HUG[0])\n",
    "    string += \"\\n\\t\" + \"THUG & $p$ & {} & {:.2f} & {:.2f} \\\\\\ \\hline\".format(n_constr_eval_THUG + n_jacob_constr_THUG, *logpiESS_THUG, (n_constr_eval_THUG + n_jacob_constr_THUG) / logpiESS_THUG[0])\n",
    "    string += \"\\n\\t\" + \"HMC  & $p$ & {} & {:.2f} & {:.2f} \\\\\\ \\hline\".format(n_neg_log_dens_HMC + n_grad_log_dens_HMC, *logpiESS_HMC, (n_neg_log_dens_HMC + n_grad_log_dens_HMC) / logpiESS_HMC[0])\n",
    "    # C-HMC where ESS computed on manifold density\n",
    "    string += \"\\n\\t\" + \"CHMC & $p$ & {} & {:.2f} & {:.2f} \\\\\\ \\hline\".format(n_constr_eval_CHMC + n_grad_log_dens_CHMC, logpiESS_CHMC, (n_constr_eval_CHMC + n_grad_log_dens_CHMC) / logpiESS_CHMC)\n",
    "    # C-HMC where ESS computed on filamentary density\n",
    "    string += \"\\n\\t\" + \"CHMC & $p$ & {} & {:.2f} & {:.2f} \\\\\\ \\hline\".format(n_constr_eval_CHMC + n_grad_log_dens_CHMC, logpiESS_CHMC_filamentary, (n_constr_eval_CHMC + n_grad_log_dens_CHMC) / logpiESS_CHMC_filamentary)\n",
    "    string += \"\\n\\t\" + r'\\end{tabular}'\n",
    "    string += \"\\n\" + r'\\end{center}'\n",
    "    return string\n",
    "\n",
    "# def create_latex_table(ϵs, αs):\n",
    "#     ϵs_string = [sub('(?<=-)0+', '', '{:.0e}'.format(ϵ)) for ϵ in ϵs]\n",
    "#     string = r'\\begin{center}'\n",
    "#     string += \"\\n\\t\" + r'\\begin{tabular}{ | l | l | l | l | l | l | l | l | l | l |}'\n",
    "#     string += \"\\n\\t\" + r'\\hline'\n",
    "#     string += \"\\n\\t\" + \"Algorithm & RMSE & $J_f$ & $f$ & $J_f J_f^\\\\top$ & $\\\\nabla\\log\\overline{\\pi}$ & ESS & C-ESS & CJ-ESS & AP \\\\\\ \\hline\"\n",
    "#     string += \"\\n\\t\" + \"C-HMC & {:.1} & {} & {} & {} & {} & {} & {} & {} & {:.2f}  \\\\\\ \\hline\".format(RMSE_CHMC.mean(), int(N_JAC_CONSTR_CHMC.mean()), int(N_CONSTR_EVAL_CHMC.mean()), int(N_GRAM_CHMC.mean()), int(N_GRAD_LOG_DENS_CHMC.mean()), int(LOGPI_ESS_CHMC.mean()), int(CONSTR_PER_ESS_CHMC.mean()), int(C_AND_J_PER_ESS_CHMC.mean()), ACCEPT_STAT_CHMC.mean())\n",
    "#     for i in range(len(ϵs)):\n",
    "#         string += \"\\n\\t\" + \"Hug ($\\epsilon = \\\\num{{{}}}$) & {:.1} & {} & {} & {} & {} & {} & {} & {} & {:.2f} \\\\\\ \\hline\".format(ϵs_string[i], RMSE_HUG.mean(axis=0)[i], int(N_JAC_CONSTR_HUG.mean(axis=0)[i]), int(N_CONSTR_EVAL_HUG.mean(axis=0)[i]), 0, 0, int(LOGPI_ESS_HUG.mean(axis=0)[i]), int(CONSTR_PER_ESS_HUG.mean(axis=0)[i]), int(C_AND_J_PER_ESS_HUG.mean(axis=0)[i]), ACCEPT_STAT_HUG.mean(axis=0)[i])\n",
    "#     for i, ϵ in enumerate(ϵs):\n",
    "#         string += \"\\n\\t\" + \"Thug ($\\\\alpha={},\\epsilon = \\\\num{{{}}}$) & {:.1} & {} & {} & {} & {} & {} & {} & {} & {:.2f} \\\\\\ \\hline\".format(αs[i], ϵs_string[i], RMSE_THUG.mean(axis=0)[i], int(N_JAC_CONSTR_THUG.mean(axis=0)[i]), int(N_CONSTR_EVAL_THUG.mean(axis=0)[i]), 0, 0, int(LOGPI_ESS_THUG.mean(axis=0)[i]), int(CONSTR_PER_ESS_THUG.mean(axis=0)[i]), int(C_AND_J_PER_ESS_THUG.mean(axis=0)[i]), ACCEPT_STAT_THUG.mean(axis=0)[i])\n",
    "#     string = string[:-6] # remove last \\\\hline\n",
    "#     string += \"\\n\\t\" + r'\\hline'\n",
    "#     string += \"\\n\\t\" + r'\\end{tabular}'\n",
    "#     string += \"\\n\" + r'\\end{center}'\n",
    "#     return string"
   ]
  },
  {
   "cell_type": "code",
   "execution_count": 588,
   "id": "595d0381",
   "metadata": {},
   "outputs": [
    {
     "name": "stdout",
     "output_type": "stream",
     "text": [
      "\\begin{center}\n",
      "\t\\begin{tabular}{ | l | l | l | l | l |}\n",
      "\t\\hline\n",
      "\tAlgorithm & Target & $f + \\nabla f$ & ESS & Cost per ESS\\\\ \\hline\n",
      "\tHUG  & $p$ & 6001 & 54.87 & 109.37 \\\\ \\hline\n",
      "\tTHUG & $p$ & 7002 & 74.68 & 93.76 \\\\ \\hline\n",
      "\tHMC  & $p$ & 6462 & 3.03 & 2135.66 \\\\ \\hline\n",
      "\tCHMC & $p$ & 60442 & 39.24 & 1540.37 \\\\ \\hline\n",
      "\tCHMC & $p$ & 60442 & 332.29 & 181.90 \\\\ \\hline\n",
      "\t\\end{tabular}\n",
      "\\end{center}\n"
     ]
    }
   ],
   "source": [
    "print(create_latex_table_for_linz())"
   ]
  },
  {
   "cell_type": "code",
   "execution_count": 534,
   "id": "bd7f592a",
   "metadata": {},
   "outputs": [
    {
     "data": {
      "text/plain": [
       "array([181.88623535])"
      ]
     },
     "execution_count": 534,
     "metadata": {},
     "output_type": "execute_result"
    }
   ],
   "source": []
  },
  {
   "cell_type": "code",
   "execution_count": null,
   "id": "1d0585b3",
   "metadata": {},
   "outputs": [],
   "source": []
  }
 ],
 "metadata": {
  "kernelspec": {
   "display_name": "Python 3 (ipykernel)",
   "language": "python",
   "name": "python3"
  },
  "language_info": {
   "codemirror_mode": {
    "name": "ipython",
    "version": 3
   },
   "file_extension": ".py",
   "mimetype": "text/x-python",
   "name": "python",
   "nbconvert_exporter": "python",
   "pygments_lexer": "ipython3",
   "version": "3.10.4"
  }
 },
 "nbformat": 4,
 "nbformat_minor": 5
}
