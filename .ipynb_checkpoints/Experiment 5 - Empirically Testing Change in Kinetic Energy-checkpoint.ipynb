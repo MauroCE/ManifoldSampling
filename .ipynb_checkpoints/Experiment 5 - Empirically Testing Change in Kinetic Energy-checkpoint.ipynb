{
 "cells": [
  {
   "cell_type": "markdown",
   "id": "b415d976",
   "metadata": {},
   "source": [
    "# Change in Kinetic Energy - THUG"
   ]
  },
  {
   "cell_type": "markdown",
   "id": "db956e09",
   "metadata": {},
   "source": [
    "### Imports"
   ]
  },
  {
   "cell_type": "code",
   "execution_count": 1,
   "id": "d2aa2141",
   "metadata": {},
   "outputs": [],
   "source": [
    "import numpy as np\n",
    "from scipy.stats import multivariate_normal\n",
    "import matplotlib.pyplot as plt\n",
    "from utils import logp as logp_scale\n",
    "from Zappa.zappa import zappa_sampling_multivariate, zappa_sampling\n",
    "from Zappa.ZappaStore import Zappa\n",
    "from Manifolds.RotatedEllipse import RotatedEllipse\n",
    "from utils import quick_MVN_scatter, MVN_scatters, prep_contour\n",
    "from numpy.random import rand\n",
    "from numpy.linalg import norm, solve, inv, det\n",
    "from scipy.optimize import fsolve, root\n",
    "from Manifolds.Manifold import Manifold\n",
    "from tangential_hug_functions import Hug, HugTangential, NoAR\n",
    "from utils import quick_3d_scatter, quick_3d_scatters, quick_MVN_marginals\n",
    "import plotly.graph_objects as go\n",
    "from sklearn.linear_model import LinearRegression"
   ]
  },
  {
   "cell_type": "markdown",
   "id": "22eeae45",
   "metadata": {},
   "source": [
    "### Target Distribution"
   ]
  },
  {
   "cell_type": "code",
   "execution_count": 2,
   "id": "5f61c1fe",
   "metadata": {},
   "outputs": [],
   "source": [
    "# Target is a MVN with mean `mu` and covariance `Sigma`\n",
    "mu = np.zeros(2)                        \n",
    "Sigma = np.array([[1.0, 0.99], [0.99, 2.0]])\n",
    "target = multivariate_normal(mu, Sigma)\n",
    "\n",
    "# Functions for log pdf and **normalized** gradient of log pdf\n",
    "logpi = target.logpdf\n",
    "grad_log_pi = lambda xy: - solve(Sigma, xy)\n",
    "def norm_grad_log_pi(xy):\n",
    "    gradient = grad_log_pi(xy)\n",
    "    return gradient / norm(gradient)\n",
    "\n",
    "# Proposal distribution is a standard MVN\n",
    "q = multivariate_normal(np.zeros(2), np.eye(2))"
   ]
  },
  {
   "cell_type": "markdown",
   "id": "f0a7ac94",
   "metadata": {},
   "source": [
    "### THUG Function"
   ]
  },
  {
   "cell_type": "code",
   "execution_count": 3,
   "id": "11347cdf",
   "metadata": {},
   "outputs": [],
   "source": [
    "def THUG(x0, v0s, delta, alpha, q, logpi, norm_grad_log_pi):\n",
    "    g = norm_grad_log_pi(x0)         # Compute normalized gradient at x0\n",
    "    v0 = v0s - alpha * g * (g @ v0s) # Tilt velocity\n",
    "    v, x = v0, x0                    # Housekeeping\n",
    "\n",
    "    # B = 1 to check what happens in 1 step\n",
    "    x = x + delta*v/2           # Move to midpoint\n",
    "    g = norm_grad_log_pi(x)     # Compute gradient at midpoint\n",
    "    v = v - 2*(v @ g) * g       # Reflect velocity using midpoint gradient\n",
    "    x = x + delta*v/2           # Move from midpoint to end-point\n",
    "        \n",
    "    # Unsqueeze the velocity\n",
    "    g = norm_grad_log_pi(x)\n",
    "    v = v + (alpha / (1 - alpha)) * g * (g @ v)\n",
    "    return x, v   # Return SPHERICAL velocities"
   ]
  },
  {
   "cell_type": "code",
   "execution_count": 4,
   "id": "7d30307d",
   "metadata": {},
   "outputs": [],
   "source": [
    "# Initial position and spherical velocity\n",
    "x0 = target.rvs()\n",
    "v0s = q.rvs()\n",
    "\n",
    "# Settings\n",
    "M = 50                                     # Number of times to average each run over\n",
    "alphas = np.array([0.0, 0.3, 0.6, 0.9])    # Squeezing factors\n",
    "deltas = np.array([1.0, 0.1, 0.01, 0.001, 0.0001]) # Step size\n",
    "\n",
    "# Store absolute value of difference of logq. Rows are different deltas, columns are different alphas.\n",
    "logpdf_diff = np.zeros((len(deltas), len(alphas)))\n",
    "\n",
    "for ix, delta in enumerate(deltas):\n",
    "    for jx, alpha in enumerate(alphas):\n",
    "        avg = 0.0\n",
    "        for i in range(M):\n",
    "            _, v1 = THUG(x0, v0s, delta, alpha, q, logpi, norm_grad_log_pi)\n",
    "            avg += np.abs(q.logpdf(v0s) - q.logpdf(v1)) / M\n",
    "        logpdf_diff[ix, jx] = avg"
   ]
  },
  {
   "cell_type": "code",
   "execution_count": 25,
   "id": "edd835c9",
   "metadata": {},
   "outputs": [
    {
     "data": {
      "image/png": "[encoded data removed]",
      "text/plain": [
       "<Figure size 432x288 with 1 Axes>"
      ]
     },
     "metadata": {
      "needs_background": "light"
     },
     "output_type": "display_data"
    }
   ],
   "source": [
    "fig, ax = plt.subplots()\n",
    "lines = ax.plot(deltas, logpdf_diff[:, 1:], marker='.')\n",
    "ax.set_xlabel(r'Log Scale $\\delta$', fontsize=20)\n",
    "ax.set_ylabel(\"Log Scale \" + r'$|\\log q(v_0) - \\log q(v_1)|$', fontsize=12)\n",
    "ax.set_xscale('log')\n",
    "ax.set_yscale('log')\n",
    "ax.set_title(\"Change in Kinetic Energy \", fontsize=20)\n",
    "ax.legend(lines, alphas)\n",
    "plt.show()"
   ]
  },
  {
   "cell_type": "markdown",
   "id": "7680e9d6",
   "metadata": {},
   "source": [
    "### Formula"
   ]
  },
  {
   "cell_type": "markdown",
   "id": "2fc45db1",
   "metadata": {},
   "source": [
    "Want to check wheather the formula below is correct."
   ]
  },
  {
   "cell_type": "markdown",
   "id": "6500bd69",
   "metadata": {},
   "source": [
    "$$\n",
    "||v_1||^2 = ||v_0||^2 + \\alpha(2-\\alpha)\\left(\\left(\\eta_\\perp^1\\right)^2 - \\left(\\eta_\\perp^0\\right)^2\\right)\n",
    "$$"
   ]
  },
  {
   "cell_type": "markdown",
   "id": "4b075a06",
   "metadata": {},
   "source": [
    "$$\n",
    "\\eta_\\perp^1 = {\\gamma_\\perp^1 \\over (1 - \\alpha)}\n",
    "$$"
   ]
  },
  {
   "cell_type": "markdown",
   "id": "ebcb53ee",
   "metadata": {},
   "source": [
    "$$\n",
    "(a + \\mathcal{O}(\\delta))^2\n",
    "$$"
   ]
  },
  {
   "cell_type": "markdown",
   "id": "783a7ee0",
   "metadata": {},
   "source": [
    "The only term above that depends on $\\delta$ is $\\eta_\\perp^1$"
   ]
  },
  {
   "cell_type": "code",
   "execution_count": 6,
   "id": "e8925c59",
   "metadata": {},
   "outputs": [],
   "source": [
    "a = 0.9   # alpha\n",
    "d = 0.01  # delta\n",
    "x, v = THUG(x0, v0s, d, a, q, logpi, norm_grad_log_pi)"
   ]
  },
  {
   "cell_type": "code",
   "execution_count": 7,
   "id": "ab26f084",
   "metadata": {},
   "outputs": [],
   "source": [
    "def formula(v0s, alpha, eta_perp_0, eta_perp_1):\n",
    "    \"\"\"Uses the formula above to compute the norm of the new velocity after 1 step.\"\"\"\n",
    "    return norm(v0s)**2 + alpha*(2-alpha)*(eta_perp_1**2 - eta_perp_0**2)"
   ]
  },
  {
   "cell_type": "code",
   "execution_count": 8,
   "id": "3dca75aa",
   "metadata": {},
   "outputs": [],
   "source": [
    "def J(x):\n",
    "    g = grad_log_pi(x)\n",
    "    ghat = g / norm(g)\n",
    "    return (np.eye(2) - np.outer(ghat, ghat)) @ H / norm(g)"
   ]
  },
  {
   "cell_type": "code",
   "execution_count": 9,
   "id": "d6ceb76c",
   "metadata": {},
   "outputs": [],
   "source": [
    "# Gradient at x0\n",
    "g0 = norm_grad_log_pi(x0)\n",
    "# Components of v0 along g0\n",
    "eta_perp_0 = g0 @ v0s\n",
    "eta_para_0 = np.sqrt(norm(v0s)**2 - eta_perp_0**2)\n",
    "# Tangent vector at x0\n",
    "t0 = (v0s - eta_perp_0 * g0) / eta_para_0\n",
    "\n",
    "# Gradient at x1\n",
    "g1 = norm_grad_log_pi(x)\n",
    "# Components of unsqueezed velocity\n",
    "eta_perp_1 = g1 @ v\n",
    "eta_para_1 = np.sqrt(norm(v)**2 - eta_perp_1**2)\n",
    "# Tangent at x1\n",
    "t1 = (v - eta_perp_1*g1) / eta_para_1\n",
    "\n",
    "# Compute squeezed velocity\n",
    "w0 = v0s - a * eta_perp_0 * g0\n",
    "# Compute midpoint\n",
    "x_half = x0 + (d/2)*w0\n",
    "# Midpoint gradient\n",
    "g_half = norm_grad_log_pi(x_half)\n",
    "g_half_unnormalized = grad_log_pi(x_half)\n",
    "g_half_norm = norm(g_half_unnormalized)\n",
    "\n",
    "# Reflect squeezed velocity\n",
    "w1 = w0 - 2*g_half * (g_half @ w0)\n",
    "# Hessian\n",
    "H = -inv(Sigma)\n",
    "# Gamma at endpoint\n",
    "gamma_perp_1 = eta_perp_1 * (1-a)"
   ]
  },
  {
   "cell_type": "code",
   "execution_count": 15,
   "id": "2ffb3b27",
   "metadata": {},
   "outputs": [
    {
     "data": {
      "text/plain": [
       "0.0"
      ]
     },
     "execution_count": 15,
     "metadata": {},
     "output_type": "execute_result"
    }
   ],
   "source": [
    "formula(v0s, a, eta_perp_0, eta_perp_1) - norm(v)**2"
   ]
  },
  {
   "cell_type": "code",
   "execution_count": 11,
   "id": "96e502d8",
   "metadata": {},
   "outputs": [],
   "source": [
    "approx1 = - w0 @ g_half + (d / (2 * g_half_norm)) * w0 @ [H + np.outer(g_half, g_half) @ H *[-3*np.eye(2) + np.outer(g_half, g_half)]] @ w0"
   ]
  },
  {
   "cell_type": "code",
   "execution_count": 12,
   "id": "6f50dd29",
   "metadata": {},
   "outputs": [
    {
     "data": {
      "text/plain": [
       "0.006182017417568471"
      ]
     },
     "execution_count": 12,
     "metadata": {},
     "output_type": "execute_result"
    }
   ],
   "source": [
    "approx1[0,0] - gamma_perp_1"
   ]
  },
  {
   "cell_type": "code",
   "execution_count": 13,
   "id": "6ae8e9e7",
   "metadata": {},
   "outputs": [
    {
     "data": {
      "text/plain": [
       "1.1080151037769215e-05"
      ]
     },
     "execution_count": 13,
     "metadata": {},
     "output_type": "execute_result"
    }
   ],
   "source": [
    "(- w0 @ g_half + (d/2)* w0 @ J(x_half) @ w1) #- gamma_perp_1"
   ]
  },
  {
   "cell_type": "code",
   "execution_count": 22,
   "id": "9dc85d6a",
   "metadata": {},
   "outputs": [
    {
     "data": {
      "text/plain": [
       "array([ 0.41596229, -0.64885621])"
      ]
     },
     "execution_count": 22,
     "metadata": {},
     "output_type": "execute_result"
    }
   ],
   "source": [
    "v0s @ J(x0)"
   ]
  },
  {
   "cell_type": "code",
   "execution_count": 23,
   "id": "b52ce5c9",
   "metadata": {},
   "outputs": [
    {
     "data": {
      "text/plain": [
       "array([-0.00559144, -0.41580254])"
      ]
     },
     "execution_count": 23,
     "metadata": {},
     "output_type": "execute_result"
    }
   ],
   "source": [
    "v0s @ (-inv(Sigma)) / norm(grad_log_pi(x0))"
   ]
  },
  {
   "cell_type": "markdown",
   "id": "dc81475f",
   "metadata": {},
   "source": [
    "# Testing if third order term disappears (HUG)"
   ]
  },
  {
   "cell_type": "code",
   "execution_count": 67,
   "id": "96d3bc87",
   "metadata": {},
   "outputs": [],
   "source": [
    "delta = 0.1"
   ]
  },
  {
   "cell_type": "code",
   "execution_count": 68,
   "id": "14f54165",
   "metadata": {},
   "outputs": [],
   "source": [
    "g0 = norm_grad_log_pi(x0)\n",
    "v0 = multivariate_normal(np.zeros(2), np.eye(2)).rvs()\n",
    "x_half = x0 + (delta/2) * v0\n",
    "g_half = norm_grad_log_pi(x_half)"
   ]
  },
  {
   "cell_type": "code",
   "execution_count": 74,
   "id": "b287f4d9",
   "metadata": {},
   "outputs": [
    {
     "data": {
      "text/plain": [
       "0.9988899205120584"
      ]
     },
     "execution_count": 74,
     "metadata": {},
     "output_type": "execute_result"
    }
   ],
   "source": [
    "g_half @ g0"
   ]
  },
  {
   "cell_type": "code",
   "execution_count": 70,
   "id": "7a08b609",
   "metadata": {},
   "outputs": [
    {
     "data": {
      "text/plain": [
       "0.999"
      ]
     },
     "execution_count": 70,
     "metadata": {},
     "output_type": "execute_result"
    }
   ],
   "source": [
    "1 - delta**3"
   ]
  },
  {
   "cell_type": "code",
   "execution_count": 79,
   "id": "d1dfac2e",
   "metadata": {},
   "outputs": [
    {
     "data": {
      "image/png": "[encoded data removed]",
      "text/plain": [
       "<Figure size 432x288 with 1 Axes>"
      ]
     },
     "metadata": {
      "needs_background": "light"
     },
     "output_type": "display_data"
    }
   ],
   "source": [
    "### Parameters of Mixture\n",
    "# Means\n",
    "mus = np.array([\n",
    "    [0, 0],\n",
    "    [2, 0],\n",
    "    [0, 2],\n",
    "    [-2, 0],\n",
    "    [0, -2],\n",
    "    [1, 1]\n",
    "])\n",
    "# Covariances\n",
    "Sigmas = np.stack([\n",
    "    3.0 * np.eye(2),\n",
    "    1.0 * np.eye(2),\n",
    "    0.05 * np.eye(2),\n",
    "    0.5 * np.eye(2),\n",
    "    2.0 * np.eye(2),\n",
    "    0.05 * np.eye(2)\n",
    "])\n",
    "# Mixture coefficients are all the same\n",
    "d = mus.shape[0]\n",
    "coefs = np.repeat(1/d, d)\n",
    "\n",
    "# Gaussian Components\n",
    "distributions = [multivariate_normal(mu, Sigma) for (mu, Sigma) in zip(mus, Sigmas)]\n",
    "\n",
    "# Mixture, log mixture, grad of log mixture\n",
    "MG = lambda xy: np.sum(np.vstack([c * MVN.pdf(xy)  for (c, MVN) in zip(coefs, distributions)]), axis=0)\n",
    "logpi = lambda xy: np.log(MG(xy))\n",
    "grad_log_pi = lambda xy: (1 / MG(xy)) * np.sum(np.vstack([- c * multivariate_normal(mu, Sigma).pdf(xy) * solve(Sigma, xy - mu) for (c, mu, Sigma) in zip(coefs, mus, Sigmas)]), axis=0)\n",
    "def norm_grad_log_pi(xy):\n",
    "    g = grad_log_pi(xy)\n",
    "    return g / norm(g)\n",
    "\n",
    "# Find an odd contour\n",
    "z = 0.016   # Sharp Turn: 0.016, Softer Turn: 0.004\n",
    "plt.contour(*prep_contour([-4, 4], [-4, 4], 0.01, MG), levels=[z])\n",
    "plt.show()"
   ]
  },
  {
   "cell_type": "code",
   "execution_count": 80,
   "id": "8d456704",
   "metadata": {},
   "outputs": [],
   "source": [
    "# Find starting point on contour\n",
    "starting_guess = np.array([0.0, -2.5]) # Near Hook: np.array([-0.1, 2.5])\n",
    "x0 = fsolve(lambda xy: np.append(MG(xy) - z, 0), starting_guess)"
   ]
  },
  {
   "cell_type": "code",
   "execution_count": 81,
   "id": "f40f12b7",
   "metadata": {},
   "outputs": [],
   "source": [
    "delta = 0.1\n",
    "g0 = norm_grad_log_pi(x0)\n",
    "v0 = multivariate_normal(np.zeros(2), np.eye(2)).rvs()\n",
    "x_half = x0 + (delta/2) * v0\n",
    "g_half = norm_grad_log_pi(x_half)"
   ]
  },
  {
   "cell_type": "code",
   "execution_count": 87,
   "id": "9f8f08eb",
   "metadata": {},
   "outputs": [
    {
     "data": {
      "text/plain": [
       "0.9999660347713344"
      ]
     },
     "execution_count": 87,
     "metadata": {},
     "output_type": "execute_result"
    }
   ],
   "source": [
    "g_half @ g0"
   ]
  },
  {
   "cell_type": "code",
   "execution_count": 88,
   "id": "4623303a",
   "metadata": {},
   "outputs": [
    {
     "data": {
      "text/plain": [
       "0.9999"
      ]
     },
     "execution_count": 88,
     "metadata": {},
     "output_type": "execute_result"
    }
   ],
   "source": [
    "1 -delta**4"
   ]
  },
  {
   "cell_type": "code",
   "execution_count": null,
   "id": "ea130c2f",
   "metadata": {},
   "outputs": [],
   "source": []
  }
 ],
 "metadata": {
  "kernelspec": {
   "display_name": "Python 3",
   "language": "python",
   "name": "python3"
  },
  "language_info": {
   "codemirror_mode": {
    "name": "ipython",
    "version": 3
   },
   "file_extension": ".py",
   "mimetype": "text/x-python",
   "name": "python",
   "nbconvert_exporter": "python",
   "pygments_lexer": "ipython3",
   "version": "3.8.8"
  }
 },
 "nbformat": 4,
 "nbformat_minor": 5
}
