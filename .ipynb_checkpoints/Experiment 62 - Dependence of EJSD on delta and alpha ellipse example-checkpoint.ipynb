{
 "cells": [
  {
   "cell_type": "code",
   "execution_count": 223,
   "id": "6b24062c",
   "metadata": {},
   "outputs": [],
   "source": [
    "import numpy as np\n",
    "from numpy import zeros, eye, diag, exp, log\n",
    "from numpy.linalg import norm, solve\n",
    "from numpy.random import randn, rand\n",
    "from scipy.stats import multivariate_normal as MVN\n",
    "from scipy.stats import uniform as udist\n",
    "from itertools import product\n",
    "\n",
    "import matplotlib.pyplot as plt\n",
    "from mpl_toolkits.axes_grid1 import ImageGrid\n",
    "\n",
    "from Manifolds.GeneralizedEllipse import GeneralizedEllipse\n",
    "from utils import prep_contour, generate_powers_of_ten"
   ]
  },
  {
   "cell_type": "code",
   "execution_count": 33,
   "id": "9f4f8fa6",
   "metadata": {},
   "outputs": [],
   "source": [
    "# Manifold\n",
    "μ       = zeros(2)\n",
    "Σ       = diag([1, 0.1])\n",
    "target  = MVN(μ, Σ)\n",
    "f = target.logpdf\n",
    "z0      = -2.9513586307684885                # Specifies exactly which ellipse we are interested in (y*).\n",
    "ellipse = GeneralizedEllipse(μ, Σ, exp(z0))\n",
    "\n",
    "# Gradient function\n",
    "grad  = lambda xi: -solve(Σ, xi - μ)\n",
    "q = MVN(zeros(2), eye(2))\n",
    "\n",
    "# Prior function is uniform on a huge square\n",
    "square_side = 10  # SQUARE SIDE\n",
    "logprior  = lambda xi: udist.logpdf(xi, loc=-square_side, scale=2*square_side).sum()"
   ]
  },
  {
   "cell_type": "code",
   "execution_count": 3,
   "id": "35581ae0",
   "metadata": {},
   "outputs": [
    {
     "data": {
      "image/png": "[encoded data removed]",
      "text/plain": [
       "<Figure size 360x360 with 1 Axes>"
      ]
     },
     "metadata": {
      "needs_background": "light"
     },
     "output_type": "display_data"
    }
   ],
   "source": [
    "fig, ax = plt.subplots(figsize=(5,5))\n",
    "ax.contour(*prep_contour([-2.5, 2.5], [-2.5, 2.5], 0.01, target.logpdf), levels=[z0])\n",
    "ax.set_aspect(\"equal\")\n",
    "plt.show()"
   ]
  },
  {
   "cell_type": "code",
   "execution_count": 86,
   "id": "4541a97d",
   "metadata": {},
   "outputs": [],
   "source": [
    "def HugTangential(x0, δ, B, N, α, q, logpi, grad_log_pi):\n",
    "    \"\"\"\n",
    "    Repurposed version of THUG.\n",
    "    \"\"\"\n",
    "    # The following dictionary stores everything we need\n",
    "    OUT = {\n",
    "        'D' : {f\"{i}\": [] for i in range(N)}, # Distance\n",
    "        'SD': {f\"{i}\": [] for i in range(N)}, # Square Distance\n",
    "        'AR': [np.nan for i in range(N)],     # Acceptance Ratio\n",
    "        'KE': [np.nan for i in range(N)],     # Kinetic Energy\n",
    "        'SAMPLES': x0,\n",
    "        'ACCEPTANCES': np.zeros(N),\n",
    "        'EJSD': [np.nan for i in range(N)]    # Acceptance Ratio * Squared Distance\n",
    "    }\n",
    "    for i in range(N):\n",
    "        v0s = q.rvs()                    # Draw velocity spherically\n",
    "        g = grad_log_pi(x0)              # Compute gradient at x0\n",
    "        g = g / norm(g)                  # Normalize\n",
    "        v0 = v0s - α * g * (g @ v0s) # Tilt velocity\n",
    "        v, x = v0, x0                    # Housekeeping\n",
    "        logu = np.log(rand())            # Acceptance ratio\n",
    "        for _ in range(B):\n",
    "            xmid = x + δ*v/2           # Move to midpoint\n",
    "            g = grad_log_pi(xmid)          # Compute gradient at midpoint\n",
    "            ghat = g / norm(g)          # Normalize \n",
    "            v = v - 2*(v @ ghat) * ghat # Reflect velocity using midpoint gradient\n",
    "            x = xmid + δ*v/2           # Move from midpoint to end-point\n",
    "            # Compute metrics\n",
    "            OUT['D'][f\"{i}\"].append(norm(x - x0))\n",
    "            OUT['SD'][f\"{i}\"].append(norm(x  -x0)**2)\n",
    "\n",
    "        # Unsqueeze the velocity\n",
    "        g = grad_log_pi(x)\n",
    "        g = g / norm(g)\n",
    "        v = v + (α / (1 - α)) * g * (g @ v)\n",
    "        # In the acceptance ratio must use spherical velocities!! Hence v0s and the unsqueezed v\n",
    "        logar = logpi(x) + q.logpdf(v) - logpi(x0) - q.logpdf(v0s)\n",
    "        ar = exp(logar)\n",
    "        OUT['AR'][i] = ar\n",
    "        OUT['KE'][i] = norm(v)**2 - norm(v0s)**2\n",
    "        OUT['EJSD'][i] = ar * (norm(x - x0)**2)\n",
    "        if logu <= logar:\n",
    "            OUT['SAMPLES'] = np.vstack((OUT['SAMPLES'], x))\n",
    "            OUT['ACCEPTANCES'][i] = 1         # Accepted!\n",
    "            x0 = x\n",
    "        else:\n",
    "            OUT['SAMPLES'] = np.vstack((OUT['SAMPLES'], x0))\n",
    "            OUT['ACCEPTANCES'][i] = 0         # Rejected\n",
    "    return OUT"
   ]
  },
  {
   "cell_type": "code",
   "execution_count": 348,
   "id": "4d344d0c",
   "metadata": {},
   "outputs": [],
   "source": [
    "# Settings\n",
    "# ϵ = 0.00001\n",
    "B = 20\n",
    "N = 5000\n",
    "n_grid = 30\n",
    "\n",
    "def generate_logpi(ϵ):\n",
    "    # Kernel\n",
    "    def logkernel(xi):\n",
    "        with np.errstate(divide='ignore'):\n",
    "            return log(float(norm(f(xi) - z0) < ϵ) / ϵ)\n",
    "    # Logpi\n",
    "    logpi = lambda xi: logprior(xi) + logkernel(xi)\n",
    "    return logpi"
   ]
  },
  {
   "cell_type": "code",
   "execution_count": 349,
   "id": "e1f0d386",
   "metadata": {},
   "outputs": [],
   "source": [
    "msd = lambda out: np.vstack([out['SD'][f\"{i}\"] for i in range(N)]).mean(axis=0)"
   ]
  },
  {
   "cell_type": "code",
   "execution_count": 350,
   "id": "844c3b73",
   "metadata": {},
   "outputs": [],
   "source": [
    "αs = np.linspace(0.0, 1.0, num=n_grid, endpoint=False)\n",
    "δs = np.logspace(-3, 0, num=n_grid, endpoint=True)\n",
    "ϵs = np.array([0.1, 0.01, 0.001, 0.0001, 0.00001])"
   ]
  },
  {
   "cell_type": "code",
   "execution_count": 351,
   "id": "c13865f5",
   "metadata": {},
   "outputs": [
    {
     "name": "stderr",
     "output_type": "stream",
     "text": [
      "/opt/anaconda3/envs/manifold-sampling/lib/python3.10/site-packages/scipy/optimize/_minpack_py.py:175: RuntimeWarning: The iteration is not making good progress, as measured by the \n",
      "  improvement from the last ten iterations.\n",
      "  warnings.warn(msg, RuntimeWarning)\n",
      "/var/folders/31/dthljx8x5mldm2ll5_zz7xrr0000gn/T/ipykernel_34353/227199414.py:37: RuntimeWarning: invalid value encountered in double_scalars\n",
      "  logar = logpi(x) + q.logpdf(v) - logpi(x0) - q.logpdf(v0s)\n"
     ]
    }
   ],
   "source": [
    "EJSD_GRID = np.zeros((len(ϵs), len(αs), len(δs)))\n",
    "for ϵix, ϵ in enumerate(ϵs):\n",
    "    for αix, α in enumerate(αs):\n",
    "        for δix, δ in enumerate(δs):\n",
    "            x0 = ellipse.sample()\n",
    "            logpi = generate_logpi(ϵ)\n",
    "            EJSD_GRID[ϵix, αix, δix] = np.mean(HugTangential(x0, δ, B, N, α, q, logpi, grad)['EJSD'])"
   ]
  },
  {
   "cell_type": "code",
   "execution_count": 408,
   "id": "ddd96853",
   "metadata": {},
   "outputs": [],
   "source": [
    "from matplotlib.colors import LogNorm\n",
    "from matplotlib.ticker import LogFormatterMathtext"
   ]
  },
  {
   "cell_type": "code",
   "execution_count": 437,
   "id": "958eb118",
   "metadata": {},
   "outputs": [
    {
     "data": {
      "image/png": "[encoded data removed]",
      "text/plain": [
       "<Figure size 1296x360 with 10 Axes>"
      ]
     },
     "metadata": {
      "needs_background": "light"
     },
     "output_type": "display_data"
    }
   ],
   "source": [
    "fig = plt.figure(figsize=(18, 5))\n",
    "\n",
    "grid = ImageGrid(fig, 111,          # as in plt.subplot(111)\n",
    "                 nrows_ncols=(1,5),\n",
    "                 axes_pad=0.2,\n",
    "                 share_all=True,\n",
    "                 cbar_location=\"right\",\n",
    "                 cbar_mode=\"single\",\n",
    "                 cbar_size=\"7%\",\n",
    "                 cbar_pad=0.2,\n",
    "                 )\n",
    "# Add data to image grid\n",
    "for i, ax in enumerate(grid):\n",
    "    im = ax.imshow(EJSD_GRID[i, :, :], origin='lower', extent=[0.001, 1.0, 0.0, 1.0], norm=LogNorm())\n",
    "    ax.set_xscale('log')\n",
    "    # X axis\n",
    "    ax.set_xticks(δs[::4]) #np.arange(0, 30, 4))\n",
    "    ax.set_xticklabels([\"{:.2f}\".format(δ) for δ in δs[::4]], fontsize=8)\n",
    "    ax.set_xlabel(r\"$\\mathregular{\\delta}$\", fontname='STIXGeneral', fontsize=15)\n",
    "    # Y axis\n",
    "    ax.set_yticks(αs[::4]) #np.arange(0, 30, 4))\n",
    "    ax.set_yticklabels([\"{:.1f}\".format(α) for α in αs[::4]], fontsize=8)\n",
    "    ax.set_ylabel(r\"$\\mathregular{\\alpha}$\", fontname='STIXGeneral', fontsize=15)\n",
    "    ax.set_title(r\"$\\mathregular{\\epsilon}=$\" + r\"{}\".format(ϵs[i]), fontsize=15, fontname='STIXGeneral')\n",
    "    ax.set_aspect('auto')\n",
    "ax.cax.colorbar(im, format=LogFormatterMathtext())\n",
    "ax.cax.toggle_label(True)\n",
    "plt.show()"
   ]
  },
  {
   "cell_type": "code",
   "execution_count": 438,
   "id": "53d0db76",
   "metadata": {},
   "outputs": [],
   "source": [
    "def generate_grid(ϵs, αs, δs):\n",
    "    EJSD_GRID = np.zeros((len(ϵs), len(αs), len(δs)))\n",
    "    for ϵix, ϵ in enumerate(ϵs):\n",
    "        for αix, α in enumerate(αs):\n",
    "            for δix, δ in enumerate(δs):\n",
    "                x0 = ellipse.sample()\n",
    "                logpi = generate_logpi(ϵ)\n",
    "                EJSD_GRID[ϵix, αix, δix] = np.mean(HugTangential(x0, δ, B, N, α, q, logpi, grad)['EJSD'])\n",
    "    return EJSD_GRID"
   ]
  },
  {
   "cell_type": "code",
   "execution_count": null,
   "id": "3ea80488",
   "metadata": {},
   "outputs": [],
   "source": [
    "EJSD_GRID_LOG = generate_grid(\n",
    "    ϵs = np.array([0.1, 0.01, 0.001, 0.0001, 0.00001]),\n",
    "    αs = np.geomspace(1, 2, num=10, endpoint=False) - 1,\n",
    "    δs = np.geomspace(0.001, 10.0, num=10, endpoint=False)\n",
    ")"
   ]
  },
  {
   "cell_type": "code",
   "execution_count": null,
   "id": "9b7df180",
   "metadata": {},
   "outputs": [],
   "source": []
  },
  {
   "cell_type": "code",
   "execution_count": null,
   "id": "b4269f17",
   "metadata": {},
   "outputs": [],
   "source": []
  },
  {
   "cell_type": "code",
   "execution_count": null,
   "id": "c49376f6",
   "metadata": {},
   "outputs": [],
   "source": []
  }
 ],
 "metadata": {
  "kernelspec": {
   "display_name": "Python 3 (ipykernel)",
   "language": "python",
   "name": "python3"
  },
  "language_info": {
   "codemirror_mode": {
    "name": "ipython",
    "version": 3
   },
   "file_extension": ".py",
   "mimetype": "text/x-python",
   "name": "python",
   "nbconvert_exporter": "python",
   "pygments_lexer": "ipython3",
   "version": "3.10.4"
  }
 },
 "nbformat": 4,
 "nbformat_minor": 5
}
