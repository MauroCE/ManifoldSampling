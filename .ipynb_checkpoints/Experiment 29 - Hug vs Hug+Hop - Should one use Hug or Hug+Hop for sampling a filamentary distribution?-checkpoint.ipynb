{
 "cells": [
  {
   "cell_type": "markdown",
   "id": "b0bc620c",
   "metadata": {},
   "source": [
    "The aim of this notebook is to see how using Hug alone compares to using Hug and Hop. Will look at the following scenarios: \n",
    "\n",
    "- Uniform kernel, Uniform prior              (Hug > HH)\n",
    "- Uniform kernel, Normal prior               (Hug > HH for large ϵ. HH > Hug for small ϵ)\n",
    "- Normal kernel, Normal prior                (Hug > HH in ESS. HH > Hug in EJSD for ϵ=1e-7 only)\n",
    "- Epanechnikov kernel, Normal prior          (Hug > HH in ESS. HH > Hug in EJSD)\n",
    "- Epanechnikov kernel, Mixture normal prior  (Hug > HH but very similar)\n",
    "\n",
    "Seems that they are pretty much the same. "
   ]
  },
  {
   "cell_type": "code",
   "execution_count": 202,
   "id": "45e46a18",
   "metadata": {},
   "outputs": [],
   "source": [
    "import numpy as np\n",
    "from numpy import load, arange, linspace\n",
    "import matplotlib.pyplot as plt\n",
    "from utils import box_plot, num_grad_hug_hop, num_grad_thug_hop\n",
    "np.set_printoptions(suppress=True)"
   ]
  },
  {
   "cell_type": "markdown",
   "id": "9da7332a",
   "metadata": {},
   "source": [
    "# Uniform kernel, Uniform prior"
   ]
  },
  {
   "cell_type": "markdown",
   "id": "ebe11ee2",
   "metadata": {},
   "source": [
    "**Conclusion**: Hug slightly better than Hug and Hop."
   ]
  },
  {
   "cell_type": "code",
   "execution_count": 203,
   "id": "440f1162",
   "metadata": {},
   "outputs": [],
   "source": [
    "folder = \"experiment29/\" #\"dumper2/\"\n",
    "\n",
    "# HUG\n",
    "THETA_ESS_HH = load(folder + \"THETA_ESS_HH.npy\")\n",
    "U_ESS_HH     = load(folder + \"U_ESS_HH.npy\")\n",
    "ESS_HH       = load(folder + \"ESS_JOINT_HH.npy\")\n",
    "A_HH         = load(folder + \"A_HH.npy\")\n",
    "RMSE_HH      = load(folder + \"RMSE_HH.npy\")\n",
    "EJSD_HH      = load(folder + \"EJSD_HH.npy\")\n",
    "G_EJSD_HH    = load(folder + \"G_EJSD_HH.npy\")\n",
    "T_EJSD_HH    = load(folder + \"T_EJSD_HH.npy\")\n",
    "A_HOP_HH     = load(folder + \"A_HOP_HH.npy\")\n",
    "N_UNIQUE_HH  = load(folder + \"N_UNIQUE_HH.npy\")\n",
    "THETA_AC_HH  = load(folder + \"THETA_AC_HH.npy\")\n",
    "U_AC_HH      = load(folder + \"U_AC_HH.npy\")\n",
    "\n",
    "# HUG AR\n",
    "THETA_ESS_HO = load(folder + \"THETA_ESS_HO.npy\")\n",
    "U_ESS_HO     = load(folder + \"U_ESS_HO.npy\")\n",
    "ESS_HO       = load(folder + \"ESS_JOINT_HO.npy\")\n",
    "A_HO         = load(folder + \"A_HO.npy\")\n",
    "RMSE_HO      = load(folder + \"RMSE_HO.npy\")\n",
    "EJSD_HO      = load(folder + \"EJSD_HO.npy\")\n",
    "G_EJSD_HO    = load(folder + \"G_EJSD_HO.npy\")\n",
    "T_EJSD_HO    = load(folder + \"T_EJSD_HO.npy\")\n",
    "N_UNIQUE_HO  = load(folder + \"N_UNIQUE_HO.npy\")\n",
    "THETA_AC_HO  = load(folder + \"THETA_AC_HO.npy\")\n",
    "U_AC_HO      = load(folder + \"U_AC_HO.npy\")\n",
    "\n",
    "# COMMON\n",
    "EPSILONS       = load(folder + \"EPSILONS.npy\")\n",
    "TS             = load(folder + \"TS.npy\")\n",
    "time           = load(folder + \"TIME.npy\")\n",
    "N              = load(folder + \"N.npy\")\n",
    "N_RUNS         = load(folder + \"N_RUNS.npy\")"
   ]
  },
  {
   "cell_type": "code",
   "execution_count": 204,
   "id": "f8a6c175",
   "metadata": {},
   "outputs": [
    {
     "data": {
      "image/png": "[encoded data removed]",
      "text/plain": [
       "<Figure size 1224x720 with 3 Axes>"
      ]
     },
     "metadata": {
      "needs_background": "light"
     },
     "output_type": "display_data"
    }
   ],
   "source": [
    "# Get the ESS data. Do not use T=0.01\n",
    "data_list = [\n",
    "    np.hstack((THETA_ESS_HH[:, i, :].mean(axis=0).reshape(-1, 1), THETA_ESS_HO[:, i, :].mean(axis=0).reshape(-1, 1))) for i in range(len(EPSILONS))\n",
    "]\n",
    "string_ts = [str(T) for T in TS]\n",
    "# Normalize data\n",
    "data_list = [data / np.max(data) for data in data_list]\n",
    "fig, ax = plt.subplots(ncols=len(EPSILONS), figsize=(17,10))\n",
    "for i in range(len(EPSILONS)):\n",
    "    ax[i].imshow(data_list[i].T, cmap='Reds', vmin=0.0, vmax=1.0)\n",
    "    # draw gridlines\n",
    "    ax[i].set_yticks(np.arange(0.0, 1.5, 1));\n",
    "    ax[i].set_xticks(np.arange(0.0, len(string_ts), 1));\n",
    "    ax[i].set_yticklabels(['HH', 'HO'])\n",
    "    ax[i].set_xticklabels(string_ts)\n",
    "    ax[i].set_ylabel('Algorithm', fontsize=18)\n",
    "    ax[i].set_xlabel('$T$', fontsize=20)\n",
    "    ax[i].set_title(\"epsilon = {}\".format(EPSILONS[i]))\n",
    "    ax[i].set_ylim(-0.5, 1.5)\n",
    "    ax[i].set_xlim(len(string_ts)-0.5, -0.5)\n",
    "plt.show()"
   ]
  },
  {
   "cell_type": "code",
   "execution_count": 205,
   "id": "1249c69d",
   "metadata": {},
   "outputs": [
    {
     "data": {
      "image/png": "[encoded data removed]",
      "text/plain": [
       "<Figure size 1224x720 with 3 Axes>"
      ]
     },
     "metadata": {
      "needs_background": "light"
     },
     "output_type": "display_data"
    }
   ],
   "source": [
    "# Get the ESS data. Do not use T=0.01\n",
    "data_list = [\n",
    "    np.hstack((U_ESS_HH[:, i, :].mean(axis=0).reshape(-1, 1), U_ESS_HO[:, i, :].mean(axis=0).reshape(-1, 1))) for i in range(len(EPSILONS))\n",
    "]\n",
    "string_ts = [str(T) for T in TS]\n",
    "# Normalize data\n",
    "data_list = [data / np.max(data) for data in data_list]\n",
    "fig, ax = plt.subplots(ncols=len(EPSILONS), figsize=(17,10))\n",
    "for i in range(len(EPSILONS)):\n",
    "    ax[i].imshow(data_list[i].T, cmap='Reds')\n",
    "    # draw gridlines\n",
    "    ax[i].set_yticks(np.arange(0.0, 1.5, 1));\n",
    "    ax[i].set_xticks(np.arange(0.0, len(string_ts), 1));\n",
    "    ax[i].set_yticklabels(['HH', 'HO'])\n",
    "    ax[i].set_xticklabels(string_ts)\n",
    "    ax[i].set_ylabel('Algorithm', fontsize=18)\n",
    "    ax[i].set_xlabel('$T$', fontsize=20)\n",
    "    ax[i].set_title(\"epsilon = {}\".format(EPSILONS[i]))\n",
    "    ax[i].set_ylim(-0.5, 1.5)\n",
    "    ax[i].set_xlim(len(string_ts)-0.5, -0.5)\n",
    "plt.show()"
   ]
  },
  {
   "cell_type": "code",
   "execution_count": 206,
   "id": "c13ca74f",
   "metadata": {},
   "outputs": [
    {
     "data": {
      "image/png": "[encoded data removed]",
      "text/plain": [
       "<Figure size 1224x720 with 3 Axes>"
      ]
     },
     "metadata": {
      "needs_background": "light"
     },
     "output_type": "display_data"
    }
   ],
   "source": [
    "# Get the ESS data. Do not use T=0.01\n",
    "data_list = [\n",
    "    np.hstack((ESS_HH[:, i, :].mean(axis=0).reshape(-1, 1), ESS_HO[:, i, :].mean(axis=0).reshape(-1, 1))) for i in range(len(EPSILONS))\n",
    "]\n",
    "string_ts = [str(T) for T in TS]\n",
    "# Normalize data\n",
    "data_list = [data / np.max(data) for data in data_list]\n",
    "fig, ax = plt.subplots(ncols=len(EPSILONS), figsize=(17,10))\n",
    "for i in range(len(EPSILONS)):\n",
    "    ax[i].imshow(data_list[i].T, cmap='Reds', vmin=0.0, vmax=1.0)\n",
    "    # draw gridlines\n",
    "    ax[i].set_yticks(np.arange(0.0, 1.5, 1));\n",
    "    ax[i].set_xticks(np.arange(0.0, len(string_ts), 1));\n",
    "    ax[i].set_yticklabels(['HH', 'HO'])\n",
    "    ax[i].set_xticklabels(string_ts)\n",
    "    ax[i].set_ylabel('Algorithm', fontsize=18)\n",
    "    ax[i].set_xlabel('$T$', fontsize=20)\n",
    "    ax[i].set_title(\"epsilon = {}\".format(EPSILONS[i]))\n",
    "    ax[i].set_ylim(-0.5, 1.5)\n",
    "    ax[i].set_xlim(len(string_ts)-0.5, -0.5)\n",
    "plt.show()"
   ]
  },
  {
   "cell_type": "code",
   "execution_count": 207,
   "id": "f690c7b6",
   "metadata": {},
   "outputs": [
    {
     "data": {
      "image/png": "[encoded data removed]",
      "text/plain": [
       "<Figure size 1224x720 with 3 Axes>"
      ]
     },
     "metadata": {
      "needs_background": "light"
     },
     "output_type": "display_data"
    }
   ],
   "source": [
    "# Get the ESS data. Do not use T=0.01\n",
    "data_list = [\n",
    "    np.hstack((EJSD_HH[:, i, :].mean(axis=0).reshape(-1, 1), EJSD_HO[:, i, :].mean(axis=0).reshape(-1, 1))) for i in range(len(EPSILONS))\n",
    "]\n",
    "string_ts = [str(T) for T in TS]\n",
    "# Normalize data\n",
    "data_list = [data / np.max(data) for data in data_list]\n",
    "fig, ax = plt.subplots(ncols=len(EPSILONS), figsize=(17,10))\n",
    "for i in range(len(EPSILONS)):\n",
    "    ax[i].imshow(data_list[i].T, cmap='Reds', vmin=0.0, vmax=1.0)\n",
    "    # draw gridlines\n",
    "    ax[i].set_yticks(np.arange(0.0, 1.5, 1));\n",
    "    ax[i].set_xticks(np.arange(0.0, len(string_ts), 1));\n",
    "    ax[i].set_yticklabels(['HH', 'HO'])\n",
    "    ax[i].set_xticklabels(string_ts)\n",
    "    ax[i].set_ylabel('Algorithm', fontsize=18)\n",
    "    ax[i].set_xlabel('$T$', fontsize=20)\n",
    "    ax[i].set_title(\"epsilon = {}\".format(EPSILONS[i]))\n",
    "    ax[i].set_ylim(-0.5, 1.5)\n",
    "    ax[i].set_xlim(len(string_ts)-0.5, -0.5)\n",
    "plt.show()"
   ]
  },
  {
   "cell_type": "markdown",
   "id": "589ead4a",
   "metadata": {},
   "source": [
    "# Uniform kernel, Normal prior"
   ]
  },
  {
   "cell_type": "code",
   "execution_count": 266,
   "id": "567b77b0",
   "metadata": {},
   "outputs": [],
   "source": [
    "folder = \"experiment29b/\" # 29b Uniform kernel, normal prior\n",
    "\n",
    "# HUG\n",
    "THETA_ESS_HH = load(folder + \"THETA_ESS_HH.npy\")\n",
    "U_ESS_HH     = load(folder + \"U_ESS_HH.npy\")\n",
    "ESS_HH       = load(folder + \"ESS_JOINT_HH.npy\")\n",
    "A_HH         = load(folder + \"A_HH.npy\")\n",
    "RMSE_HH      = load(folder + \"RMSE_HH.npy\")\n",
    "EJSD_HH      = load(folder + \"EJSD_HH.npy\")\n",
    "G_EJSD_HH    = load(folder + \"G_EJSD_HH.npy\")\n",
    "T_EJSD_HH    = load(folder + \"T_EJSD_HH.npy\")\n",
    "A_HOP_HH     = load(folder + \"A_HOP_HH.npy\")\n",
    "N_UNIQUE_HH  = load(folder + \"N_UNIQUE_HH.npy\")\n",
    "THETA_AC_HH  = load(folder + \"THETA_AC_HH.npy\")\n",
    "U_AC_HH      = load(folder + \"U_AC_HH.npy\")\n",
    "\n",
    "# HUG AR\n",
    "THETA_ESS_HO = load(folder + \"THETA_ESS_HO.npy\")\n",
    "U_ESS_HO     = load(folder + \"U_ESS_HO.npy\")\n",
    "ESS_HO       = load(folder + \"ESS_JOINT_HO.npy\")\n",
    "A_HO         = load(folder + \"A_HO.npy\")\n",
    "RMSE_HO      = load(folder + \"RMSE_HO.npy\")\n",
    "EJSD_HO      = load(folder + \"EJSD_HO.npy\")\n",
    "G_EJSD_HO    = load(folder + \"G_EJSD_HO.npy\")\n",
    "T_EJSD_HO    = load(folder + \"T_EJSD_HO.npy\")\n",
    "N_UNIQUE_HO  = load(folder + \"N_UNIQUE_HO.npy\")\n",
    "THETA_AC_HO  = load(folder + \"THETA_AC_HO.npy\")\n",
    "U_AC_HO      = load(folder + \"U_AC_HO.npy\")\n",
    "\n",
    "# COMMON\n",
    "EPSILONS       = load(folder + \"EPSILONS.npy\")\n",
    "TS             = load(folder + \"TS.npy\")\n",
    "time           = load(folder + \"TIME.npy\")\n",
    "N              = load(folder + \"N.npy\")\n",
    "N_RUNS         = load(folder + \"N_RUNS.npy\")"
   ]
  },
  {
   "cell_type": "code",
   "execution_count": 267,
   "id": "a65a17c9",
   "metadata": {},
   "outputs": [
    {
     "data": {
      "image/png": "[encoded data removed]",
      "text/plain": [
       "<Figure size 1224x576 with 8 Axes>"
      ]
     },
     "metadata": {
      "needs_background": "light"
     },
     "output_type": "display_data"
    }
   ],
   "source": [
    "fig, ax = plt.subplots(nrows=2, ncols=len(EPSILONS), figsize=(17,8))\n",
    "\n",
    "# Joint ESS Do not use T=0.01\n",
    "data_list1 = [\n",
    "    np.hstack((ESS_HH[:, i, :].mean(axis=0).reshape(-1, 1), ESS_HO[:, i, :].mean(axis=0).reshape(-1, 1))) for i in range(len(EPSILONS))\n",
    "]\n",
    "string_ts = [str(T) for T in TS]\n",
    "data_list1 = [data / np.max(data) for data in data_list1]\n",
    "# EJSD\n",
    "data_list2 = [\n",
    "    np.hstack((EJSD_HH[:, i, :].mean(axis=0).reshape(-1, 1), EJSD_HO[:, i, :].mean(axis=0).reshape(-1, 1))) for i in range(len(EPSILONS))\n",
    "]\n",
    "string_ts = [str(T) for T in TS]\n",
    "data_list2 = [data / np.max(data) for data in data_list2]\n",
    "\n",
    "for i in range(len(EPSILONS)):\n",
    "    # jointESS\n",
    "    ax[0, i].imshow(data_list1[i].T, cmap='Reds', vmin=0.0, vmax=1.0)\n",
    "    ax[0, i].set_yticks(np.arange(0.0, 1.5, 1));\n",
    "    ax[0, i].set_xticks(np.arange(0.0, len(string_ts), 1));\n",
    "    ax[0, i].set_yticklabels(['HH', 'HO'])\n",
    "    ax[0, i].set_xticklabels(string_ts)\n",
    "    ax[0, i].set_ylabel('jointESS', fontsize=12)\n",
    "    ax[0, i].set_xlabel('$T$', fontsize=12)\n",
    "    ax[0, i].set_title(\"epsilon = {}\".format(EPSILONS[i]))\n",
    "    ax[0, i].set_ylim(-0.5, 1.5)\n",
    "    ax[0, i].set_xlim(len(string_ts)-0.5, -0.5)\n",
    "    # EJSD\n",
    "    ax[1, i].imshow(data_list2[i].T, cmap='Reds', vmin=0.0, vmax=1.0)\n",
    "    ax[1, i].set_yticks(np.arange(0.0, 1.5, 1));\n",
    "    ax[1, i].set_xticks(np.arange(0.0, len(string_ts), 1));\n",
    "    ax[1, i].set_yticklabels(['HH', 'HO'])\n",
    "    ax[1, i].set_xticklabels(string_ts)\n",
    "    ax[1, i].set_ylabel('EJSD', fontsize=12)\n",
    "    ax[1, i].set_xlabel('$T$', fontsize=12)\n",
    "    ax[1, i].set_title(\"epsilon = {}\".format(EPSILONS[i]))\n",
    "    ax[1, i].set_ylim(-0.5, 1.5)\n",
    "    ax[1, i].set_xlim(len(string_ts)-0.5, -0.5)\n",
    "plt.show()"
   ]
  },
  {
   "cell_type": "markdown",
   "id": "4beab132",
   "metadata": {},
   "source": [
    "# Normal kernel, Normal prior"
   ]
  },
  {
   "cell_type": "code",
   "execution_count": 334,
   "id": "ab4bf773",
   "metadata": {},
   "outputs": [],
   "source": [
    "folder = \"experiment29c/\" # 29b Uniform kernel, normal prior\n",
    "\n",
    "# HUG\n",
    "THETA_ESS_HH = load(folder + \"THETA_ESS_HH.npy\")\n",
    "U_ESS_HH     = load(folder + \"U_ESS_HH.npy\")\n",
    "ESS_HH       = load(folder + \"ESS_JOINT_HH.npy\")\n",
    "A_HH         = load(folder + \"A_HH.npy\")\n",
    "RMSE_HH      = load(folder + \"RMSE_HH.npy\")\n",
    "EJSD_HH      = load(folder + \"EJSD_HH.npy\")\n",
    "G_EJSD_HH    = load(folder + \"G_EJSD_HH.npy\")\n",
    "T_EJSD_HH    = load(folder + \"T_EJSD_HH.npy\")\n",
    "A_HOP_HH     = load(folder + \"A_HOP_HH.npy\")\n",
    "N_UNIQUE_HH  = load(folder + \"N_UNIQUE_HH.npy\")\n",
    "THETA_AC_HH  = load(folder + \"THETA_AC_HH.npy\")\n",
    "U_AC_HH      = load(folder + \"U_AC_HH.npy\")\n",
    "\n",
    "# HUG AR\n",
    "THETA_ESS_HO = load(folder + \"THETA_ESS_HO.npy\")\n",
    "U_ESS_HO     = load(folder + \"U_ESS_HO.npy\")\n",
    "ESS_HO       = load(folder + \"ESS_JOINT_HO.npy\")\n",
    "A_HO         = load(folder + \"A_HO.npy\")\n",
    "RMSE_HO      = load(folder + \"RMSE_HO.npy\")\n",
    "EJSD_HO      = load(folder + \"EJSD_HO.npy\")\n",
    "G_EJSD_HO    = load(folder + \"G_EJSD_HO.npy\")\n",
    "T_EJSD_HO    = load(folder + \"T_EJSD_HO.npy\")\n",
    "N_UNIQUE_HO  = load(folder + \"N_UNIQUE_HO.npy\")\n",
    "THETA_AC_HO  = load(folder + \"THETA_AC_HO.npy\")\n",
    "U_AC_HO      = load(folder + \"U_AC_HO.npy\")\n",
    "\n",
    "# COMMON\n",
    "EPSILONS       = load(folder + \"EPSILONS.npy\")\n",
    "TS             = load(folder + \"TS.npy\")\n",
    "time           = load(folder + \"TIME.npy\")\n",
    "N              = load(folder + \"N.npy\")\n",
    "N_RUNS         = load(folder + \"N_RUNS.npy\")"
   ]
  },
  {
   "cell_type": "code",
   "execution_count": 272,
   "id": "a5d9e397",
   "metadata": {},
   "outputs": [
    {
     "data": {
      "image/png": "[encoded data removed]",
      "text/plain": [
       "<Figure size 1224x576 with 8 Axes>"
      ]
     },
     "metadata": {
      "needs_background": "light"
     },
     "output_type": "display_data"
    }
   ],
   "source": [
    "fig, ax = plt.subplots(nrows=2, ncols=len(EPSILONS), figsize=(17,8))\n",
    "\n",
    "# Joint ESS Do not use T=0.01\n",
    "data_list1 = [\n",
    "    np.hstack((ESS_HH[:, i, :].mean(axis=0).reshape(-1, 1), ESS_HO[:, i, :].mean(axis=0).reshape(-1, 1))) for i in range(len(EPSILONS))\n",
    "]\n",
    "string_ts = [str(T) for T in TS]\n",
    "data_list1 = [data / np.max(data) for data in data_list1]\n",
    "# EJSD\n",
    "data_list2 = [\n",
    "    np.hstack((EJSD_HH[:, i, :].mean(axis=0).reshape(-1, 1), EJSD_HO[:, i, :].mean(axis=0).reshape(-1, 1))) for i in range(len(EPSILONS))\n",
    "]\n",
    "string_ts = [str(T) for T in TS]\n",
    "data_list2 = [data / np.max(data) for data in data_list2]\n",
    "\n",
    "for i in range(len(EPSILONS)):\n",
    "    # jointESS\n",
    "    ax[0, i].imshow(data_list1[i].T, cmap='Reds', vmin=0.0, vmax=1.0)\n",
    "    ax[0, i].set_yticks(np.arange(0.0, 1.5, 1));\n",
    "    ax[0, i].set_xticks(np.arange(0.0, len(string_ts), 1));\n",
    "    ax[0, i].set_yticklabels(['HH', 'HO'])\n",
    "    ax[0, i].set_xticklabels(string_ts)\n",
    "    ax[0, i].set_ylabel('jointESS', fontsize=12)\n",
    "    ax[0, i].set_xlabel('$T$', fontsize=12)\n",
    "    ax[0, i].set_title(\"epsilon = {}\".format(EPSILONS[i]))\n",
    "    ax[0, i].set_ylim(-0.5, 1.5)\n",
    "    ax[0, i].set_xlim(len(string_ts)-0.5, -0.5)\n",
    "    # EJSD\n",
    "    ax[1, i].imshow(data_list2[i].T, cmap='Reds', vmin=0.0, vmax=1.0)\n",
    "    ax[1, i].set_yticks(np.arange(0.0, 1.5, 1));\n",
    "    ax[1, i].set_xticks(np.arange(0.0, len(string_ts), 1));\n",
    "    ax[1, i].set_yticklabels(['HH', 'HO'])\n",
    "    ax[1, i].set_xticklabels(string_ts)\n",
    "    ax[1, i].set_ylabel('EJSD', fontsize=12)\n",
    "    ax[1, i].set_xlabel('$T$', fontsize=12)\n",
    "    ax[1, i].set_title(\"epsilon = {}\".format(EPSILONS[i]))\n",
    "    ax[1, i].set_ylim(-0.5, 1.5)\n",
    "    ax[1, i].set_xlim(len(string_ts)-0.5, -0.5)\n",
    "plt.show()"
   ]
  },
  {
   "cell_type": "markdown",
   "id": "b6006542",
   "metadata": {},
   "source": [
    "# Epanechnikov kernel, Normal prior"
   ]
  },
  {
   "cell_type": "code",
   "execution_count": 336,
   "id": "b99b2bd6",
   "metadata": {},
   "outputs": [],
   "source": [
    "folder = \"experiment29d/\" # 29d Epanechnikov kernel, normal prior\n",
    "\n",
    "# HUG\n",
    "THETA_ESS_HH = load(folder + \"THETA_ESS_HH.npy\")\n",
    "U_ESS_HH     = load(folder + \"U_ESS_HH.npy\")\n",
    "ESS_HH       = load(folder + \"ESS_JOINT_HH.npy\")\n",
    "A_HH         = load(folder + \"A_HH.npy\")\n",
    "RMSE_HH      = load(folder + \"RMSE_HH.npy\")\n",
    "EJSD_HH      = load(folder + \"EJSD_HH.npy\")\n",
    "G_EJSD_HH    = load(folder + \"G_EJSD_HH.npy\")\n",
    "T_EJSD_HH    = load(folder + \"T_EJSD_HH.npy\")\n",
    "A_HOP_HH     = load(folder + \"A_HOP_HH.npy\")\n",
    "N_UNIQUE_HH  = load(folder + \"N_UNIQUE_HH.npy\")\n",
    "\n",
    "# HUG AR\n",
    "THETA_ESS_HO = load(folder + \"THETA_ESS_HO.npy\")\n",
    "U_ESS_HO     = load(folder + \"U_ESS_HO.npy\")\n",
    "ESS_HO       = load(folder + \"ESS_JOINT_HO.npy\")\n",
    "A_HO         = load(folder + \"A_HO.npy\")\n",
    "RMSE_HO      = load(folder + \"RMSE_HO.npy\")\n",
    "EJSD_HO      = load(folder + \"EJSD_HO.npy\")\n",
    "G_EJSD_HO    = load(folder + \"G_EJSD_HO.npy\")\n",
    "T_EJSD_HO    = load(folder + \"T_EJSD_HO.npy\")\n",
    "N_UNIQUE_HO  = load(folder + \"N_UNIQUE_HO.npy\")\n",
    "\n",
    "# COMMON\n",
    "EPSILONS       = load(folder + \"EPSILONS.npy\")\n",
    "TS             = load(folder + \"TS.npy\")\n",
    "time           = load(folder + \"TIME.npy\")\n",
    "N              = load(folder + \"N.npy\")\n",
    "N_RUNS         = load(folder + \"N_RUNS.npy\")"
   ]
  },
  {
   "cell_type": "code",
   "execution_count": 337,
   "id": "8ad76e6e",
   "metadata": {},
   "outputs": [
    {
     "data": {
      "image/png": "[encoded data removed]",
      "text/plain": [
       "<Figure size 1224x576 with 8 Axes>"
      ]
     },
     "metadata": {
      "needs_background": "light"
     },
     "output_type": "display_data"
    }
   ],
   "source": [
    "fig, ax = plt.subplots(nrows=2, ncols=len(EPSILONS), figsize=(17,8))\n",
    "\n",
    "# Joint ESS Do not use T=0.01\n",
    "data_list1 = [\n",
    "    np.hstack((ESS_HH[:, i, :].mean(axis=0).reshape(-1, 1), ESS_HO[:, i, :].mean(axis=0).reshape(-1, 1))) for i in range(len(EPSILONS))\n",
    "]\n",
    "string_ts = [str(T) for T in TS]\n",
    "data_list1 = [data / np.max(data) for data in data_list1]\n",
    "# EJSD\n",
    "data_list2 = [\n",
    "    np.hstack((EJSD_HH[:, i, :].mean(axis=0).reshape(-1, 1), EJSD_HO[:, i, :].mean(axis=0).reshape(-1, 1))) for i in range(len(EPSILONS))\n",
    "]\n",
    "string_ts = [str(T) for T in TS]\n",
    "data_list2 = [data / np.max(data) for data in data_list2]\n",
    "\n",
    "for i in range(len(EPSILONS)):\n",
    "    # jointESS\n",
    "    ax[0, i].imshow(data_list1[i].T, cmap='Reds', vmin=0.0, vmax=1.0)\n",
    "    ax[0, i].set_yticks(np.arange(0.0, 1.5, 1));\n",
    "    ax[0, i].set_xticks(np.arange(0.0, len(string_ts), 1));\n",
    "    ax[0, i].set_yticklabels(['HH', 'HO'])\n",
    "    ax[0, i].set_xticklabels(string_ts)\n",
    "    ax[0, i].set_ylabel('jointESS', fontsize=12)\n",
    "    ax[0, i].set_xlabel('$T$', fontsize=12)\n",
    "    ax[0, i].set_title(\"epsilon = {}\".format(EPSILONS[i]))\n",
    "    ax[0, i].set_ylim(-0.5, 1.5)\n",
    "    ax[0, i].set_xlim(len(string_ts)-0.5, -0.5)\n",
    "    # EJSD\n",
    "    ax[1, i].imshow(data_list2[i].T, cmap='Reds', vmin=0.0, vmax=1.0)\n",
    "    ax[1, i].set_yticks(np.arange(0.0, 1.5, 1));\n",
    "    ax[1, i].set_xticks(np.arange(0.0, len(string_ts), 1));\n",
    "    ax[1, i].set_yticklabels(['HH', 'HO'])\n",
    "    ax[1, i].set_xticklabels(string_ts)\n",
    "    ax[1, i].set_ylabel('EJSD', fontsize=12)\n",
    "    ax[1, i].set_xlabel('$T$', fontsize=12)\n",
    "    ax[1, i].set_title(\"epsilon = {}\".format(EPSILONS[i]))\n",
    "    ax[1, i].set_ylim(-0.5, 1.5)\n",
    "    ax[1, i].set_xlim(len(string_ts)-0.5, -0.5)\n",
    "plt.show()"
   ]
  },
  {
   "cell_type": "markdown",
   "id": "8b57f0ef",
   "metadata": {},
   "source": [
    "# Epanechnikov kernel, Mixture of Gaussians prior"
   ]
  },
  {
   "cell_type": "code",
   "execution_count": 338,
   "id": "e834efeb",
   "metadata": {},
   "outputs": [],
   "source": [
    "folder = \"experiment29e/\" \n",
    "\n",
    "# HUG\n",
    "THETA_ESS_HH = load(folder + \"THETA_ESS_HH.npy\")\n",
    "U_ESS_HH     = load(folder + \"U_ESS_HH.npy\")\n",
    "ESS_HH       = load(folder + \"ESS_JOINT_HH.npy\")\n",
    "A_HH         = load(folder + \"A_HH.npy\")\n",
    "RMSE_HH      = load(folder + \"RMSE_HH.npy\")\n",
    "EJSD_HH      = load(folder + \"EJSD_HH.npy\")\n",
    "G_EJSD_HH    = load(folder + \"G_EJSD_HH.npy\")\n",
    "T_EJSD_HH    = load(folder + \"T_EJSD_HH.npy\")\n",
    "A_HOP_HH     = load(folder + \"A_HOP_HH.npy\")\n",
    "N_UNIQUE_HH  = load(folder + \"N_UNIQUE_HH.npy\")\n",
    "\n",
    "# HUG AR\n",
    "THETA_ESS_HO = load(folder + \"THETA_ESS_HO.npy\")\n",
    "U_ESS_HO     = load(folder + \"U_ESS_HO.npy\")\n",
    "ESS_HO       = load(folder + \"ESS_JOINT_HO.npy\")\n",
    "A_HO         = load(folder + \"A_HO.npy\")\n",
    "RMSE_HO      = load(folder + \"RMSE_HO.npy\")\n",
    "EJSD_HO      = load(folder + \"EJSD_HO.npy\")\n",
    "G_EJSD_HO    = load(folder + \"G_EJSD_HO.npy\")\n",
    "T_EJSD_HO    = load(folder + \"T_EJSD_HO.npy\")\n",
    "N_UNIQUE_HO  = load(folder + \"N_UNIQUE_HO.npy\")\n",
    "\n",
    "# COMMON\n",
    "EPSILONS       = load(folder + \"EPSILONS.npy\")\n",
    "TS             = load(folder + \"TS.npy\")\n",
    "time           = load(folder + \"TIME.npy\")\n",
    "N              = load(folder + \"N.npy\")\n",
    "N_RUNS         = load(folder + \"N_RUNS.npy\")"
   ]
  },
  {
   "cell_type": "code",
   "execution_count": 339,
   "id": "a58b5831",
   "metadata": {},
   "outputs": [
    {
     "data": {
      "image/png": "[encoded data removed]",
      "text/plain": [
       "<Figure size 1224x576 with 6 Axes>"
      ]
     },
     "metadata": {
      "needs_background": "light"
     },
     "output_type": "display_data"
    }
   ],
   "source": [
    "fig, ax = plt.subplots(nrows=2, ncols=len(EPSILONS), figsize=(17,8))\n",
    "\n",
    "# Joint ESS Do not use T=0.01\n",
    "data_list1 = [\n",
    "    np.hstack((ESS_HH[:, i, :].mean(axis=0).reshape(-1, 1), ESS_HO[:, i, :].mean(axis=0).reshape(-1, 1))) for i in range(len(EPSILONS))\n",
    "]\n",
    "string_ts = [str(T) for T in TS]\n",
    "data_list1 = [data / np.max(data) for data in data_list1]\n",
    "# EJSD\n",
    "data_list2 = [\n",
    "    np.hstack((EJSD_HH[:, i, :].mean(axis=0).reshape(-1, 1), EJSD_HO[:, i, :].mean(axis=0).reshape(-1, 1))) for i in range(len(EPSILONS))\n",
    "]\n",
    "string_ts = [str(T) for T in TS]\n",
    "data_list2 = [data / np.max(data) for data in data_list2]\n",
    "\n",
    "for i in range(len(EPSILONS)):\n",
    "    # jointESS\n",
    "    ax[0, i].imshow(data_list1[i].T, cmap='Reds', vmin=0.0, vmax=1.0)\n",
    "    ax[0, i].set_yticks(np.arange(0.0, 1.5, 1));\n",
    "    ax[0, i].set_xticks(np.arange(0.0, len(string_ts), 1));\n",
    "    ax[0, i].set_yticklabels(['HH', 'HO'])\n",
    "    ax[0, i].set_xticklabels(string_ts)\n",
    "    ax[0, i].set_ylabel('jointESS', fontsize=12)\n",
    "    ax[0, i].set_xlabel('$T$', fontsize=12)\n",
    "    ax[0, i].set_title(\"epsilon = {}\".format(EPSILONS[i]))\n",
    "    ax[0, i].set_ylim(-0.5, 1.5)\n",
    "    ax[0, i].set_xlim(len(string_ts)-0.5, -0.5)\n",
    "    # EJSD\n",
    "    ax[1, i].imshow(data_list2[i].T, cmap='Reds', vmin=0.0, vmax=1.0)\n",
    "    ax[1, i].set_yticks(np.arange(0.0, 1.5, 1));\n",
    "    ax[1, i].set_xticks(np.arange(0.0, len(string_ts), 1));\n",
    "    ax[1, i].set_yticklabels(['HH', 'HO'])\n",
    "    ax[1, i].set_xticklabels(string_ts)\n",
    "    ax[1, i].set_ylabel('EJSD', fontsize=12)\n",
    "    ax[1, i].set_xlabel('$T$', fontsize=12)\n",
    "    ax[1, i].set_title(\"epsilon = {}\".format(EPSILONS[i]))\n",
    "    ax[1, i].set_ylim(-0.5, 1.5)\n",
    "    ax[1, i].set_xlim(len(string_ts)-0.5, -0.5)\n",
    "plt.show()"
   ]
  },
  {
   "cell_type": "code",
   "execution_count": 341,
   "id": "6fa4c34d",
   "metadata": {},
   "outputs": [
    {
     "data": {
      "text/plain": [
       "array([[ 33.86633247, 125.30986723, 126.296217  ],\n",
       "       [239.94591687, 127.41309078, 123.98185958],\n",
       "       [  0.        , 125.57755848, 126.0198338 ],\n",
       "       [  0.        , 125.06642452, 126.13182745],\n",
       "       [  0.        , 130.80854823, 126.98695238],\n",
       "       [  0.        ,   0.        , 123.1213225 ],\n",
       "       [  0.        , 142.93887109, 126.16014519],\n",
       "       [  0.        , 138.94750685, 127.42848114],\n",
       "       [  0.        , 125.30231215, 125.9984564 ],\n",
       "       [  0.        , 122.95076747, 127.95367724]])"
      ]
     },
     "execution_count": 341,
     "metadata": {},
     "output_type": "execute_result"
    }
   ],
   "source": [
    "ESS_HO[:, -1, :]"
   ]
  },
  {
   "cell_type": "code",
   "execution_count": 342,
   "id": "91700dbb",
   "metadata": {},
   "outputs": [
    {
     "data": {
      "text/plain": [
       "array([[   2.,   21.,  281.],\n",
       "       [   1.,   15.,  366.],\n",
       "       [   1.,   27.,  387.],\n",
       "       [   2.,    9.,  769.],\n",
       "       [   2.,   31., 1002.],\n",
       "       [   1.,    2.,  216.],\n",
       "       [   1.,   29.,  350.],\n",
       "       [   1.,   45.,  441.],\n",
       "       [   1.,    8.,  210.],\n",
       "       [   1.,    6.,  248.]])"
      ]
     },
     "execution_count": 342,
     "metadata": {},
     "output_type": "execute_result"
    }
   ],
   "source": [
    "N_UNIQUE_HO[:, -1, ]"
   ]
  },
  {
   "cell_type": "code",
   "execution_count": null,
   "id": "26c69d20",
   "metadata": {},
   "outputs": [],
   "source": []
  }
 ],
 "metadata": {
  "kernelspec": {
   "display_name": "Python 3 (ipykernel)",
   "language": "python",
   "name": "python3"
  },
  "language_info": {
   "codemirror_mode": {
    "name": "ipython",
    "version": 3
   },
   "file_extension": ".py",
   "mimetype": "text/x-python",
   "name": "python",
   "nbconvert_exporter": "python",
   "pygments_lexer": "ipython3",
   "version": "3.8.10"
  }
 },
 "nbformat": 4,
 "nbformat_minor": 5
}
