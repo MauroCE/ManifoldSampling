{
 "cells": [
  {
   "cell_type": "code",
   "execution_count": 77,
   "id": "6505121e",
   "metadata": {},
   "outputs": [],
   "source": [
    "import numpy as np\n",
    "from numpy import load, arange, linspace\n",
    "import matplotlib.pyplot as plt\n",
    "from utils import box_plot"
   ]
  },
  {
   "cell_type": "code",
   "execution_count": 79,
   "id": "a23e00da",
   "metadata": {},
   "outputs": [],
   "source": [
    "folder = \"experiment13full/\"\n",
    "\n",
    "# HUG\n",
    "THETA_ESS_HUG = load(folder + \"THETA_ESS_HUG.npy\")\n",
    "U_ESS_HUG     = load(folder + \"U_ESS_HUG.npy\")\n",
    "ESS_HUG       = load(folder + \"ESS_JOINT_HUG.npy\")\n",
    "A_HUG         = load(folder + \"A_HUG.npy\")\n",
    "RMSE_HUG      = load(folder + \"RMSE_HUG.npy\")\n",
    "EJSD_HUG      = load(folder + \"EJSD_HUG.npy\")\n",
    "G_EJSD_HUG    = load(folder + \"G_EJSD_HUG.npy\")\n",
    "T_EJSD_HUG    = load(folder + \"T_EJSD_HUG.npy\")\n",
    "A_HOP_HUG     = load(folder + \"A_HOP_HUG.npy\")\n",
    "N_UNIQUE_HUG  = load(folder + \"N_UNIQUE_HUG.npy\")\n",
    "THETA_AC_HUG  = load(folder + \"THETA_AC_HUG.npy\")\n",
    "U_AC_HUG      = load(folder + \"U_AC_HUG.npy\")\n",
    "\n",
    "# THUG\n",
    "THETA_ESS_THUG = load(folder + \"THETA_ESS_THUG.npy\")\n",
    "U_ESS_THUG     = load(folder + \"U_ESS_THUG.npy\")\n",
    "ESS_THUG       = load(folder + \"ESS_JOINT_THUG.npy\")\n",
    "A_THUG         = load(folder + \"A_THUG.npy\")\n",
    "RMSE_THUG      = load(folder + \"RMSE_THUG.npy\")\n",
    "EJSD_THUG      = load(folder + \"EJSD_THUG.npy\")\n",
    "G_EJSD_THUG    = load(folder + \"G_EJSD_THUG.npy\")\n",
    "T_EJSD_THUG    = load(folder + \"T_EJSD_THUG.npy\")\n",
    "A_HOP_THUG     = load(folder + \"A_HOP_THUG.npy\")\n",
    "N_UNIQUE_THUG  = load(folder + \"N_UNIQUE_THUG.npy\")\n",
    "THETA_AC_THUG  = load(folder + \"THETA_AC_THUG.npy\")\n",
    "U_AC_THUG      = load(folder + \"U_AC_THUG.npy\")\n",
    "\n",
    "# COMMON\n",
    "EPSILONS       = load(folder + \"EPSILONS.npy\")\n",
    "ALPHAS         = load(folder + \"ALPHAS.npy\")\n",
    "TS             = load(folder + \"TS.npy\")"
   ]
  },
  {
   "cell_type": "code",
   "execution_count": 94,
   "id": "81cf7060",
   "metadata": {},
   "outputs": [],
   "source": [
    "import time"
   ]
  },
  {
   "cell_type": "code",
   "execution_count": 95,
   "id": "fb7c3513",
   "metadata": {},
   "outputs": [
    {
     "data": {
      "text/plain": [
       "1629308685.262008"
      ]
     },
     "execution_count": 95,
     "metadata": {},
     "output_type": "execute_result"
    }
   ],
   "source": [
    "time.time()"
   ]
  },
  {
   "cell_type": "code",
   "execution_count": null,
   "id": "a85a7bfa",
   "metadata": {},
   "outputs": [],
   "source": []
  },
  {
   "cell_type": "code",
   "execution_count": 93,
   "id": "44923f7c",
   "metadata": {},
   "outputs": [
    {
     "data": {
      "image/png": "[encoded data removed]",
      "text/plain": [
       "<Figure size 432x1728 with 4 Axes>"
      ]
     },
     "metadata": {
      "needs_background": "light"
     },
     "output_type": "display_data"
    }
   ],
   "source": [
    "data_list = [\n",
    "    np.hstack((THETA_ESS_HUG[:, i, :].mean(axis=0).reshape(-1, 1), THETA_ESS_THUG[:, i, :, :].mean(axis=0))) for i in range(len(EPSILONS))\n",
    "]\n",
    "data_list = [data / np.max(data) for data in data_list]\n",
    "fig, ax = plt.subplots(nrows=len(EPSILONS), figsize=(6,6*len(EPSILONS)))\n",
    "for i in range(len(EPSILONS)):\n",
    "    ax[i].imshow(data_list[i], cmap='Reds')\n",
    "    # draw gridlines\n",
    "    #ax.grid(which='major', axis='both', linestyle='-', color='k', linewidth=2)\n",
    "    ax[i].set_xticks(np.arange(0.0, 5.5, 1));\n",
    "    ax[i].set_yticks(np.arange(0.0, 5.5, 1));\n",
    "    ax[i].set_xticklabels(['0.0', '0.1', '0.5', '0.9', '0.99', '0.999'])\n",
    "    ax[i].set_yticklabels(['7', '5', '3', '1', '0.1', '0.01'])\n",
    "    ax[i].set_xlabel('$\\\\alpha$', fontsize=20)\n",
    "    ax[i].set_ylabel('$T$', fontsize=20)\n",
    "    ax[i].set_title(\"epsilon = {}\".format(EPSILONS[i]))\n",
    "plt.show()"
   ]
  },
  {
   "cell_type": "code",
   "execution_count": null,
   "id": "ba8380b7",
   "metadata": {},
   "outputs": [],
   "source": []
  },
  {
   "cell_type": "code",
   "execution_count": null,
   "id": "376f1d5a",
   "metadata": {},
   "outputs": [],
   "source": []
  },
  {
   "cell_type": "code",
   "execution_count": null,
   "id": "fa164bf2",
   "metadata": {},
   "outputs": [],
   "source": []
  },
  {
   "cell_type": "code",
   "execution_count": null,
   "id": "8d045c06",
   "metadata": {},
   "outputs": [],
   "source": []
  },
  {
   "cell_type": "code",
   "execution_count": null,
   "id": "807bd95b",
   "metadata": {},
   "outputs": [],
   "source": [
    "columns = EPSILONS\n",
    "width = 0.21\n",
    "thing_that_changes = ALPHAS\n",
    "n_alphas = len(thing_that_changes)\n",
    "ticks = arange(start=1, stop=len(columns)*2, step=2)\n",
    "n_boxes = n_alphas + 1\n",
    "disp = linspace(-width * (n_boxes-1) / 2, width * (n_boxes-1) / 2, n_boxes, endpoint=True)\n",
    "positions = disp.reshape(-1, 1) + ticks\n",
    "colors1 = ['red', 'blue', 'green', 'orange', 'purple', 'brown', 'black']\n",
    "colors2 = ['tan', 'cyan', 'lightgreen', 'yellow', 'violet', 'orange', 'lightgray']\n",
    "labels = ['HUG'] + ['THUG $\\\\alpha$={}'.format(thing) for thing in thing_that_changes]\n",
    "\n",
    "ARRAYS = [\n",
    "    (THETA_ESS_HUG, THETA_ESS_THUG),\n",
    "    (U_ESS_HUG, U_ESS_THUG),\n",
    "    (A_HUG, A_THUG),\n",
    "    (EJSD_HUG, EJSD_THUG),\n",
    "    (ESS_HUG, ESS_THUG),\n",
    "    (G_EJSD_HUG, G_EJSD_THUG),\n",
    "    (T_EJSD_HUG, T_EJSD_THUG),\n",
    "    (A_HOP_HUG, A_HOP_THUG),\n",
    "    (N_UNIQUE_HUG, N_UNIQUE_THUG)\n",
    "]\n",
    "YLABELS = [\n",
    "    'ESS $\\\\theta$', \n",
    "    'ESS $u$',\n",
    "    'AP',\n",
    "    'EJSD',\n",
    "    'multiESS',\n",
    "    'RMSE',\n",
    "    'Gradient EJSD',\n",
    "    'Tangent EJSD',\n",
    "    'AP-HOP',\n",
    "    'Number Unique Samples'\n",
    "]\n",
    "n_plots = len(ARRAYS)\n",
    "fig, ax = plt.subplots(nrows=n_plots, figsize=(20, 8 * n_plots))\n",
    "for ix, (array1, array2) in enumerate(ARRAYS):\n",
    "    bp1 = box_plot(ax[ix], array1.T.tolist(), 'red', 'tan', positions[0])\n",
    "    bps = []\n",
    "    for i in range(n_alphas):\n",
    "        bps.append(box_plot(ax[ix], array2[:,:,i].T.tolist(), colors1[i+1], colors2[i+1], positions[i+1]))\n",
    "    handles = [bp1[\"boxes\"][0]] + [bp[\"boxes\"][0] for bp in bps]\n",
    "    ax[ix].legend(\n",
    "        handles, \n",
    "        labels, \n",
    "        loc='lower left')\n",
    "    ax[ix].set_xticks(ticks)\n",
    "    ax[ix].set_xticklabels(columns)\n",
    "    ax[ix].set_xlabel(\"$\\\\epsilon$\", fontsize=20)\n",
    "    ax[ix].set_ylabel(YLABELS[ix], fontsize=20)\n",
    "    ax[ix].semilogy()\n",
    "\n",
    "plt.show()"
   ]
  }
 ],
 "metadata": {
  "kernelspec": {
   "display_name": "Python 3 (ipykernel)",
   "language": "python",
   "name": "python3"
  },
  "language_info": {
   "codemirror_mode": {
    "name": "ipython",
    "version": 3
   },
   "file_extension": ".py",
   "mimetype": "text/x-python",
   "name": "python",
   "nbconvert_exporter": "python",
   "pygments_lexer": "ipython3",
   "version": "3.8.10"
  }
 },
 "nbformat": 4,
 "nbformat_minor": 5
}
