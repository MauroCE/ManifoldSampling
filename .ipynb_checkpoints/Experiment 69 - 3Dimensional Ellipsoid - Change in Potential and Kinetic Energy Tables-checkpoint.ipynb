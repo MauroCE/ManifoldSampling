{
 "cells": [
  {
   "cell_type": "code",
   "execution_count": 8,
   "id": "93f1f01f",
   "metadata": {},
   "outputs": [],
   "source": [
    "import numpy as np\n",
    "from scipy.stats import multivariate_normal as MVN\n",
    "import matplotlib.pyplot as plt\n",
    "from scipy.optimize import root, fsolve, minimize\n",
    "from numpy.linalg import norm, solve, inv, det\n",
    "from numpy import log, zeros, eye, exp, cos, sin, pi, diag\n",
    "from scipy.stats import uniform as udist\n",
    "from numpy.random import rand\n",
    "from matplotlib.colors import ListedColormap\n",
    "from warnings import catch_warnings, filterwarnings\n",
    "from scipy.linalg import qr\n",
    "from copy import deepcopy\n",
    "from matplotlib.colors import LogNorm\n",
    "from matplotlib.ticker import LogFormatterMathtext\n",
    "\n",
    "from utils import prep_contour, generate_powers_of_ten\n",
    "from Manifolds.GeneralizedEllipse import GeneralizedEllipse"
   ]
  },
  {
   "cell_type": "code",
   "execution_count": 2,
   "id": "2eba9432",
   "metadata": {},
   "outputs": [],
   "source": [
    "# Define constraint function\n",
    "p = 3\n",
    "μ = zeros(p)\n",
    "diagonal = np.array([1, 0.1, 0.1]) #np.array([100, 100, *np.ones(p-2)])#np.concatenate((np.full(p//2, 100), np.ones(p - (p//2))))\n",
    "Σ = diag(diagonal)\n",
    "π = MVN(μ, Σ)\n",
    "f = π.logpdf\n",
    "# Ellipsoid\n",
    "z0 = -23\n",
    "ellipse = GeneralizedEllipse(μ, Σ, exp(z0))"
   ]
  },
  {
   "cell_type": "code",
   "execution_count": 3,
   "id": "ccc4c32f",
   "metadata": {},
   "outputs": [],
   "source": [
    "def HugTangentialMultivariate(x0, T, B, N, α, q, logpi, jac, method='qr'):\n",
    "    \"\"\"Multidimensional Tangential Hug sampler. Two possible methods:\n",
    "    - 'qr': projects onto row space of Jacobian using QR decomposition.\n",
    "    - 'linear': solves a linear system to project.\n",
    "    \"\"\"\n",
    "    OUT = {\n",
    "#     'D' : {f\"{i}\": [] for i in range(N)}, # Distance\n",
    "#     'SD': {f\"{i}\": [] for i in range(N)}, # Square Distance\n",
    "    'AR': [np.nan for i in range(N)],     # Acceptance Ratio\n",
    "    'Δk': [np.nan for i in range(N)],     # Kinetic Energy\n",
    "    'Δℓ': [np.nan for i in range(N)],     # Potential Energy\n",
    "#     'SAMPLES': x0,\n",
    "    'ACCEPTANCES': np.zeros(N),\n",
    "#     'EJSD': [np.nan for i in range(N)],      # Acceptance Ratio * Squared Distance\n",
    "    'EJSD_AP': [np.nan for i in range(N)],    # Acceptance PROBABILITY * Squared Distance\n",
    "    }\n",
    "    assert method == 'qr' or method == 'linear' or method == 'lstsq'\n",
    "    def qr_project(v, J):\n",
    "        \"\"\"Projects using QR decomposition.\"\"\"\n",
    "        Q, _ = qr(J.T, mode='economic')\n",
    "        return Q.dot((Q.T.dot(v)))\n",
    "    def linear_project(v, J):\n",
    "        \"\"\"Projects by solving linear system.\"\"\"\n",
    "        return J.T.dot(solve(J.dot(J.T), J.dot(v)))\n",
    "    def lstsq_project(v, J):\n",
    "        \"\"\"Projects using scipy's Least Squares Routine.\"\"\"\n",
    "        return J.T.dot(lstsq(J.T, v)[0])\n",
    "    if method == 'qr':\n",
    "        project = qr_project\n",
    "    elif method == 'linear':\n",
    "        project = linear_project\n",
    "    else:\n",
    "        project = lstsq_project\n",
    "    # Jacobian function raising an error for RuntimeWarning\n",
    "    def safe_jac(x):\n",
    "        \"\"\"Raises an error when a RuntimeWarning appears.\"\"\"\n",
    "        while catch_warnings():\n",
    "            filterwarnings('error')\n",
    "            try:\n",
    "                return jac(x)\n",
    "            except RuntimeWarning:\n",
    "                raise ValueError(\"Jacobian computation failed due to Runtime Warning.\")\n",
    "    samples, acceptances = x0, np.zeros(N)\n",
    "    # Compute initial Jacobian. \n",
    "    for i in range(N):\n",
    "        v0s = q.rvs()\n",
    "        # Squeeze\n",
    "        v0 = v0s - α * project(v0s, safe_jac(x0)) #jac(x0))\n",
    "        v, x = v0, x0\n",
    "        logu = np.log(rand())\n",
    "        δ = T / B\n",
    "        for _ in range(B):\n",
    "            xmid = x + δ*v/2\n",
    "            v = v - 2 * project(v, safe_jac(xmid)) #jac(x))\n",
    "            x = xmid + δ*v/2\n",
    "            # Compute metrics\n",
    "#             OUT['D'][f\"{i}\"].append(norm(x - x0))\n",
    "#             OUT['SD'][f\"{i}\"].append(norm(x  -x0)**2)\n",
    "        # Unsqueeze\n",
    "        v = v + (α / (1 - α)) * project(v, safe_jac(x)) #jac(x))\n",
    "        # In the acceptance ratio must use spherical velocities!! Hence v0s and the unsqueezed v\n",
    "        logar = logpi(x) + q.logpdf(v) - logpi(x0) - q.logpdf(v0s)\n",
    "        ar = exp(logar)\n",
    "        OUT['AR'][i] = ar\n",
    "        OUT['Δk'][i] = - norm(v)**2 + norm(v0s)**2\n",
    "        OUT['Δℓ'][i] = logpi(x) - logpi(x0)\n",
    "#         OUT['EJSD'][i] = ar * (norm(x - x0)**2)\n",
    "        OUT['EJSD_AP'][i] = np.clip(ar, a_min=0.0, a_max=1.0) * (norm(x - x0)**2)\n",
    "        if logu <= logar:\n",
    "#             OUT['SAMPLES'] = np.vstack((OUT['SAMPLES'], x))\n",
    "            OUT['ACCEPTANCES'][i] = 1         # Accepted!\n",
    "            x0 = x\n",
    "        else:\n",
    "#             OUT['SAMPLES'] = np.vstack((OUT['SAMPLES'], x0))\n",
    "            OUT['ACCEPTANCES'][i] = 0         # Rejected\n",
    "    return OUT"
   ]
  },
  {
   "cell_type": "code",
   "execution_count": 4,
   "id": "cc6ae9e8",
   "metadata": {},
   "outputs": [],
   "source": [
    "# Proposal for velocity\n",
    "q = MVN(zeros(p), eye(p))\n",
    "\n",
    "# Prior function is uniform on a huge square\n",
    "# square_side = 1000  # SQUARE SIDE\n",
    "# logprior  = lambda xi: udist.logpdf(xi, loc=-square_side, scale=2*square_side).sum()"
   ]
  },
  {
   "cell_type": "code",
   "execution_count": 5,
   "id": "4a6ef3e8",
   "metadata": {},
   "outputs": [],
   "source": [
    "def generate_starting_points(ϵs, n_tries=10):\n",
    "    x0s = np.zeros((len(ϵs), p))\n",
    "    for i in range(len(ϵs)):\n",
    "        j = 0\n",
    "        while j <= n_tries:\n",
    "            j += 1\n",
    "            with catch_warnings():\n",
    "                filterwarnings('error')\n",
    "                try: \n",
    "                    x0 = ellipse.sample(advanced=True)\n",
    "                    x0s[i, :] = x0\n",
    "                    break\n",
    "                except RuntimeWarning:\n",
    "                    print(f\"Can't find {i}th point. Trying again.\")\n",
    "                    continue\n",
    "            if j == n_tries:\n",
    "                raise ValueError(\"Couldn't find point.\")\n",
    "    return x0s"
   ]
  },
  {
   "cell_type": "code",
   "execution_count": 7,
   "id": "da551253",
   "metadata": {},
   "outputs": [],
   "source": [
    "def generate_logpi(ϵ):\n",
    "    # Kernel\n",
    "#     def logkernel(xi):\n",
    "#         with np.errstate(divide='ignore'):\n",
    "#             return log(float(norm(f(xi) - z0) < ϵ) / ϵ)\n",
    "    def logkernel(xi):\n",
    "        return -norm(f(xi) - z0)**2/(2*(ϵ**2)) - np.log(ϵ)\n",
    "    # Logpi\n",
    "    logpi = lambda xi: logkernel(xi) #logprior(xi) + logkernel(xi)\n",
    "    return logpi\n",
    "\n",
    "def generate_output(ϵs, αs, δs, x0s, N=1000):\n",
    "    OUTS = []\n",
    "    for ϵix, ϵ in enumerate(ϵs):\n",
    "        for αix, α in enumerate(αs):\n",
    "            for δix, δ in enumerate(δs):\n",
    "                logpi = generate_logpi(ϵ)\n",
    "                jac = lambda xi: ellipse.Q(xi).T\n",
    "                OUTS.append(HugTangentialMultivariate(x0s[ϵix], δ*B, B, N, α, q, logpi, jac))\n",
    "    return OUTS"
   ]
  },
  {
   "cell_type": "markdown",
   "id": "83b89e47",
   "metadata": {},
   "source": [
    "# Figure out a good $\\delta$ and $\\epsilon$"
   ]
  },
  {
   "cell_type": "code",
   "execution_count": 436,
   "id": "d3afb3d6",
   "metadata": {},
   "outputs": [],
   "source": [
    "# indeces_prelim = []\n",
    "# for ϵix in range(len(ϵs_prelim)):\n",
    "#     for αix in range(len(αs_prelim)):\n",
    "#         for δix in range(len(δs_prelim)):\n",
    "#             indeces_prelim.append((ϵix, αix, δix))"
   ]
  },
  {
   "cell_type": "code",
   "execution_count": 17,
   "id": "45b200c2",
   "metadata": {},
   "outputs": [],
   "source": [
    "N_GRID = 20\n",
    "ϵs_prelim = generate_powers_of_ten(-2, -5) #[0.1, 0.01, 0.001, 0.0001]\n",
    "αs_prelim = np.linspace(start=0.0, stop=1.0, num=N_GRID, endpoint=False)\n",
    "δs_prelim = np.geomspace(start=0.01, stop=1.0, num=N_GRID, endpoint=True)\n",
    "B = 10\n",
    "x0s = generate_starting_points(ϵs_prelim)"
   ]
  },
  {
   "cell_type": "code",
   "execution_count": 18,
   "id": "7bc5e37a",
   "metadata": {},
   "outputs": [],
   "source": [
    "# TODO: B might not be large enough for each integration to diverge, and hence not much difference is shown\n",
    "# between alpha=0.0 and alpha > 0.\n",
    "OUTS_PRELIM = generate_output(\n",
    "    ϵs=ϵs_prelim,\n",
    "    αs=αs_prelim,\n",
    "    δs=δs_prelim,\n",
    "    x0s=x0s,\n",
    "    N=1000\n",
    ")"
   ]
  },
  {
   "cell_type": "code",
   "execution_count": 19,
   "id": "8130767e",
   "metadata": {},
   "outputs": [],
   "source": [
    "OUT_EJSD_AP_PRELIM = np.zeros((len(ϵs_prelim), len(αs_prelim), len(δs_prelim)))\n",
    "for i in range(len(OUTS_PRELIM)):\n",
    "    ix = np.unravel_index(i, (len(ϵs_prelim), len(αs_prelim), len(δs_prelim)))\n",
    "    OUT_EJSD_AP_PRELIM[ix] = np.mean(OUTS_PRELIM[i]['EJSD_AP'])"
   ]
  },
  {
   "cell_type": "code",
   "execution_count": 427,
   "id": "a183a36a",
   "metadata": {},
   "outputs": [],
   "source": [
    "# OUT_EJSD_PRELIM = np.zeros((len(ϵs_prelim), len(αs_prelim), len(δs_prelim)))\n",
    "# OUT_EJSD_AP_PRELIM = np.zeros((len(ϵs_prelim), len(αs_prelim), len(δs_prelim)))\n",
    "# OUT_AP_PRELIM   = np.zeros((len(ϵs_prelim), len(αs_prelim), len(δs_prelim)))\n",
    "# OUT_SD_PRELIM   = np.zeros((len(ϵs_prelim), len(αs_prelim), len(δs_prelim)))\n",
    "# for i in range(len(OUTS_PRELIM)):\n",
    "#     ix = np.unravel_index(i, (len(ϵs_prelim), len(αs_prelim), len(δs_prelim)))\n",
    "#     OUT_EJSD_PRELIM[ix] = np.mean(OUTS_PRELIM[i]['EJSD'])\n",
    "#     OUT_AP_PRELIM[ix] = OUTS_PRELIM[i]['ACCEPTANCES'].mean()*100\n",
    "#     OUT_SD_PRELIM[ix] = np.mean([OUTS_PRELIM[i]['SD'][f\"{j}\"][-1] for j in range(len(OUTS_PRELIM[0]['ACCEPTANCES']))])"
   ]
  },
  {
   "cell_type": "code",
   "execution_count": 20,
   "id": "664115e8",
   "metadata": {},
   "outputs": [
    {
     "data": {
      "image/png": "[encoded data removed]",
      "text/plain": [
       "<Figure size 1440x288 with 5 Axes>"
      ]
     },
     "metadata": {
      "needs_background": "light"
     },
     "output_type": "display_data"
    }
   ],
   "source": [
    "δ_grid_prelim, α_grid_prelim = np.meshgrid(δs_prelim, αs_prelim)\n",
    "normalize = lambda a: a / np.nanmax(a)\n",
    "fig, ax = plt.subplots(ncols=len(ϵs_prelim), figsize=(20, 4), sharey=True, sharex=True)\n",
    "\n",
    "def normalize_without_maximum(a, n=1):\n",
    "    # N is the number of maximums you want to remove\n",
    "    a_copy = deepcopy(a)\n",
    "    for i in range(n):\n",
    "        a_copy[np.unravel_index(np.nanargmax(a_copy), (N_GRID,N_GRID))] = np.nan\n",
    "    return normalize(a_copy)\n",
    "\n",
    "for i in range(len(ϵs_prelim)):\n",
    "    SOME = normalize(OUT_EJSD_AP_PRELIM[i, :, :]) #normalize_without_maximum(OUT_EJSD_PRELIM[i, :, :])\n",
    "    im = ax[i].pcolor(δ_grid_prelim, α_grid_prelim, SOME)   # normalize(OUT_EJSD_PRELIM[i, :, :]))\n",
    "    ax[i].set_xscale('log')\n",
    "\n",
    "fig.subplots_adjust(right=0.95)\n",
    "cbar_ax = fig.add_axes([0.98, 0.125, 0.01, 0.75])\n",
    "fig.colorbar(im, cax=cbar_ax)\n",
    "plt.show()"
   ]
  },
  {
   "cell_type": "code",
   "execution_count": null,
   "id": "4fb85faf",
   "metadata": {},
   "outputs": [],
   "source": [
    "δs_eps0001 = np.geomspace(start=0.5, stop=5.0, num=N_GRID, endpoint=True)\n",
    "OUT_EPS0001 = generate_output(\n",
    "    ϵs=np.array([0.001]),\n",
    "    αs=αs_prelim,\n",
    "    δs=δs_eps0001,\n",
    "    x0s=x0s,\n",
    "    N=5000\n",
    ")\n",
    "OUT_EJSD_AP_EPS0001 = np.zeros((len(αs_prelim), len(δs_eps0001)))\n",
    "for i in range(len(OUT_EPS0001)):\n",
    "    ix = np.unravel_index(i, (len(αs_prelim), len(δs_eps0001)))\n",
    "    OUT_EJSD_AP_EPS0001[ix] = np.mean(OUT_EPS0001[i]['EJSD_AP'])\n",
    "δ_grid_eps0001, α_grid_eps0001 = np.meshgrid(δs_eps0001, αs_prelim)"
   ]
  },
  {
   "cell_type": "code",
   "execution_count": null,
   "id": "d3b67e7b",
   "metadata": {},
   "outputs": [],
   "source": [
    "fig, ax = plt.subplots(figsize=(5, 4))\n",
    "SOME = normalize(OUT_EJSD_AP_EPS001)\n",
    "im = ax.pcolor(δ_grid_eps0001, α_grid_eps0001, SOME)\n",
    "ax.set_xscale('log')\n",
    "\n",
    "fig.subplots_adjust(right=0.95)\n",
    "cbar_ax = fig.add_axes([0.98, 0.125, 0.01, 0.75])\n",
    "fig.colorbar(im, cax=cbar_ax)\n",
    "plt.show()"
   ]
  },
  {
   "cell_type": "code",
   "execution_count": null,
   "id": "a4744882",
   "metadata": {},
   "outputs": [],
   "source": []
  },
  {
   "cell_type": "code",
   "execution_count": null,
   "id": "98877d0a",
   "metadata": {},
   "outputs": [],
   "source": [
    "δs_eps001 = np.geomspace(start=0.5, stop=5.0, num=N_GRID, endpoint=True)\n",
    "OUT_EPS001 = generate_output(\n",
    "    ϵs=np.array([0.01]),\n",
    "    αs=αs_prelim,\n",
    "    δs=δs_eps001,\n",
    "    x0s=x0s,\n",
    "    N=5000\n",
    ")"
   ]
  },
  {
   "cell_type": "code",
   "execution_count": null,
   "id": "4cd1e8e4",
   "metadata": {},
   "outputs": [],
   "source": [
    "OUT_EJSD_AP_EPS001 = np.zeros((len(αs_prelim), len(δs_eps001)))\n",
    "for i in range(len(OUT_EPS001)):\n",
    "    ix = np.unravel_index(i, (len(αs_prelim), len(δs_eps001)))\n",
    "    OUT_EJSD_AP_EPS001[ix] = np.mean(OUT_EPS001[i]['EJSD_AP'])"
   ]
  },
  {
   "cell_type": "code",
   "execution_count": null,
   "id": "5ee0fbc2",
   "metadata": {},
   "outputs": [],
   "source": [
    "δ_grid_eps001, α_grid_eps001 = np.meshgrid(δs_eps001, αs_prelim)"
   ]
  },
  {
   "cell_type": "code",
   "execution_count": null,
   "id": "39e8054c",
   "metadata": {},
   "outputs": [],
   "source": [
    "fig, ax = plt.subplots(figsize=(5, 4))\n",
    "SOME = normalize(OUT_EJSD_AP_EPS001)\n",
    "im = ax.pcolor(δ_grid_eps001, α_grid_eps001, SOME)\n",
    "ax.set_xscale('log')\n",
    "\n",
    "fig.subplots_adjust(right=0.95)\n",
    "cbar_ax = fig.add_axes([0.98, 0.125, 0.01, 0.75])\n",
    "fig.colorbar(im, cax=cbar_ax)\n",
    "plt.show()"
   ]
  },
  {
   "cell_type": "code",
   "execution_count": null,
   "id": "24eba21e",
   "metadata": {},
   "outputs": [],
   "source": []
  },
  {
   "cell_type": "code",
   "execution_count": null,
   "id": "a2b3e164",
   "metadata": {},
   "outputs": [],
   "source": []
  },
  {
   "cell_type": "code",
   "execution_count": 37,
   "id": "bd11fcb0",
   "metadata": {},
   "outputs": [],
   "source": [
    "δs_eps01 = np.geomspace(start=0.1, stop=10.0, num=N_GRID, endpoint=True)\n",
    "OUT_EPS01 = generate_output(\n",
    "    ϵs=np.array([0.1]),\n",
    "    αs=αs_prelim,\n",
    "    δs=δs_eps01,\n",
    "    x0s=x0s,\n",
    "    N=5000\n",
    ")"
   ]
  },
  {
   "cell_type": "code",
   "execution_count": 38,
   "id": "31f97743",
   "metadata": {},
   "outputs": [],
   "source": [
    "OUT_EJSD_AP_EPS01 = np.zeros((len(αs_prelim), len(δs_prelim)))\n",
    "for i in range(len(OUT_EPS01)):\n",
    "    ix = np.unravel_index(i, (len(αs_prelim), len(δs_prelim)))\n",
    "    OUT_EJSD_AP_EPS01[ix] = np.mean(OUT_EPS01[i]['EJSD_AP'])"
   ]
  },
  {
   "cell_type": "code",
   "execution_count": 39,
   "id": "c1cdee3c",
   "metadata": {},
   "outputs": [],
   "source": [
    "δ_grid_eps01, α_grid_eps01 = np.meshgrid(δs_eps01, αs_prelim)"
   ]
  },
  {
   "cell_type": "code",
   "execution_count": 40,
   "id": "e528fe86",
   "metadata": {},
   "outputs": [
    {
     "data": {
      "image/png": "[encoded data removed]",
      "text/plain": [
       "<Figure size 360x288 with 2 Axes>"
      ]
     },
     "metadata": {
      "needs_background": "light"
     },
     "output_type": "display_data"
    }
   ],
   "source": [
    "fig, ax = plt.subplots(figsize=(5, 4))\n",
    "SOME = normalize(OUT_EJSD_AP_EPS01)\n",
    "im = ax.pcolor(δ_grid_eps01, α_grid_eps01, SOME)\n",
    "ax.set_xscale('log')\n",
    "\n",
    "fig.subplots_adjust(right=0.95)\n",
    "cbar_ax = fig.add_axes([0.98, 0.125, 0.01, 0.75])\n",
    "fig.colorbar(im, cax=cbar_ax)\n",
    "plt.show()"
   ]
  },
  {
   "cell_type": "code",
   "execution_count": 41,
   "id": "6f7dfea4",
   "metadata": {},
   "outputs": [],
   "source": [
    "δs_eps1 = np.geomspace(start=0.1, stop=10.0, num=N_GRID, endpoint=True)\n",
    "OUT_EPS1 = generate_output(\n",
    "    ϵs=np.array([1.0]),\n",
    "    αs=αs_prelim,\n",
    "    δs=δs_eps1,\n",
    "    x0s=x0s,\n",
    "    N=5000\n",
    ")"
   ]
  },
  {
   "cell_type": "code",
   "execution_count": 44,
   "id": "3d53ffa8",
   "metadata": {},
   "outputs": [],
   "source": [
    "OUT_EJSD_AP_EPS1 = np.zeros((len(αs_prelim), len(δs_eps1)))\n",
    "for i in range(len(OUT_EPS1)):\n",
    "    ix = np.unravel_index(i, (len(αs_prelim), len(δs_eps1)))\n",
    "    OUT_EJSD_AP_EPS1[ix] = np.mean(OUT_EPS1[i]['EJSD_AP'])"
   ]
  },
  {
   "cell_type": "code",
   "execution_count": 45,
   "id": "7ebad0bb",
   "metadata": {},
   "outputs": [],
   "source": [
    "δ_grid_eps1, α_grid_eps1 = np.meshgrid(δs_eps1, αs_prelim)"
   ]
  },
  {
   "cell_type": "code",
   "execution_count": 46,
   "id": "0cd6dc5f",
   "metadata": {},
   "outputs": [
    {
     "data": {
      "image/png": "[encoded data removed]",
      "text/plain": [
       "<Figure size 360x288 with 2 Axes>"
      ]
     },
     "metadata": {
      "needs_background": "light"
     },
     "output_type": "display_data"
    }
   ],
   "source": [
    "fig, ax = plt.subplots(figsize=(5, 4))\n",
    "SOME = normalize(OUT_EJSD_AP_EPS1)\n",
    "im = ax.pcolor(δ_grid_eps1, α_grid_eps1, SOME)\n",
    "ax.set_xscale('log')\n",
    "\n",
    "fig.subplots_adjust(right=0.95)\n",
    "cbar_ax = fig.add_axes([0.98, 0.125, 0.01, 0.75])\n",
    "fig.colorbar(im, cax=cbar_ax)\n",
    "plt.show()"
   ]
  },
  {
   "cell_type": "code",
   "execution_count": null,
   "id": "be6247a8",
   "metadata": {},
   "outputs": [],
   "source": []
  },
  {
   "cell_type": "code",
   "execution_count": null,
   "id": "711de5f4",
   "metadata": {},
   "outputs": [],
   "source": []
  },
  {
   "cell_type": "code",
   "execution_count": null,
   "id": "1e27c7b1",
   "metadata": {},
   "outputs": [],
   "source": []
  },
  {
   "cell_type": "code",
   "execution_count": 258,
   "id": "744da954",
   "metadata": {
    "scrolled": true
   },
   "outputs": [
    {
     "data": {
      "text/plain": [
       "[(32.19154582962519, 3.777844504497627, 1.9305901887609558),\n",
       " (2256.144219154119, 3.6697242673026915, 0.591830196610267),\n",
       " (129.53791049146318, 0.4794935177876724, 0.14259254976586075),\n",
       " (1.8753145692236242, 0.06618409575734871, 0.014631317801883672)]"
      ]
     },
     "execution_count": 258,
     "metadata": {},
     "output_type": "execute_result"
    }
   ],
   "source": [
    "[(np.max(OUT_EJSD_PRELIM[i, :, :]), np.mean(OUT_EJSD_PRELIM[i, :, :]), np.median(OUT_EJSD_PRELIM[i, :, :])) for i in range(len(ϵs_prelim))]"
   ]
  },
  {
   "cell_type": "code",
   "execution_count": 287,
   "id": "8fe117b0",
   "metadata": {},
   "outputs": [
    {
     "data": {
      "text/plain": [
       "[0.08035933577098295,\n",
       " 0.08053791129613608,\n",
       " 0.08034733560804455,\n",
       " 0.07488862673564027]"
      ]
     },
     "execution_count": 287,
     "metadata": {},
     "output_type": "execute_result"
    }
   ],
   "source": [
    "[OUT_EJSD_PRELIM[i][np.unravel_index(np.argmax(OUT_AP_PRELIM[i, :, :]), (N_GRID, N_GRID))] for i in range(len(ϵs_prelim))]"
   ]
  },
  {
   "cell_type": "code",
   "execution_count": 336,
   "id": "8c391de6",
   "metadata": {},
   "outputs": [],
   "source": [
    "# I want to figure out what makes some points have a very high EJSD compared to the rest.\n",
    "# Consider the second plot, i.e. ϵ_ix = 1.\n",
    "max_index_2 = np.unravel_index(np.argmax(OUT_EJSD_PRELIM[1, :, :]), (N_GRID, N_GRID))\n",
    "max_index_2_unraveled = np.ravel_multi_index(max_index_2, (N_GRID, N_GRID))"
   ]
  },
  {
   "cell_type": "code",
   "execution_count": 299,
   "id": "f0270cf8",
   "metadata": {},
   "outputs": [
    {
     "data": {
      "text/plain": [
       "2256.144219154119"
      ]
     },
     "execution_count": 299,
     "metadata": {},
     "output_type": "execute_result"
    }
   ],
   "source": [
    "OUT_EJSD_PRELIM[1, max_index_2[0], max_index_2[1]]"
   ]
  },
  {
   "cell_type": "code",
   "execution_count": 348,
   "id": "4c2dadee",
   "metadata": {},
   "outputs": [],
   "source": [
    "# Square distances for each sample of this scenario\n",
    "SQUARED_DISTANCES = np.array([OUTS_PRELIM[max_index_2_unraveled]['SD'][f\"{i}\"][-1] for i in range(5000)])"
   ]
  },
  {
   "cell_type": "code",
   "execution_count": 350,
   "id": "25be593e",
   "metadata": {},
   "outputs": [],
   "source": [
    "# Acceptance Ratios for each sample of this scenario\n",
    "ACCEPTANCE_RATIOS = np.array(OUTS_PRELIM[max_index_2_unraveled]['AR'])"
   ]
  },
  {
   "cell_type": "code",
   "execution_count": 364,
   "id": "19e7cb31",
   "metadata": {},
   "outputs": [],
   "source": [
    "# INDEX OF EJSD WHICH MAKES MEAN EJSD GO AWRY\n",
    "index_awry = np.argmax(SQUARED_DISTANCES * ACCEPTANCE_RATIOS)"
   ]
  },
  {
   "cell_type": "code",
   "execution_count": 365,
   "id": "70ae2842",
   "metadata": {},
   "outputs": [
    {
     "data": {
      "text/plain": [
       "17.685554965075948"
      ]
     },
     "execution_count": 365,
     "metadata": {},
     "output_type": "execute_result"
    }
   ],
   "source": [
    "# Problem does not reside in the squared distance, but in the acceptance ratio\n",
    "ACCEPTANCE_RATIOS[index_awry]"
   ]
  },
  {
   "cell_type": "code",
   "execution_count": 373,
   "id": "0b8d8277",
   "metadata": {},
   "outputs": [
    {
     "data": {
      "text/plain": [
       "-0.091704676191255"
      ]
     },
     "execution_count": 373,
     "metadata": {},
     "output_type": "execute_result"
    }
   ],
   "source": [
    "# the acceptance ratio is really high. Need to understand what is making it that high.\n",
    "# Check the kinetic energy\n",
    "OUTS_PRELIM[max_index_2_unraveled]['Δk'][index_awry] # this seems okay, close to median"
   ]
  },
  {
   "cell_type": "code",
   "execution_count": 391,
   "id": "bfd3af7a",
   "metadata": {},
   "outputs": [
    {
     "data": {
      "text/plain": [
       "2.918600540813494"
      ]
     },
     "execution_count": 391,
     "metadata": {},
     "output_type": "execute_result"
    }
   ],
   "source": [
    "# Check potential energy\n",
    "# min=-300k, mean=-2044, median=-51, max=5\n",
    "# This is where things go wrong, its after the 99.8% percentile.\n",
    "OUTS_PRELIM[max_index_2_unraveled]['Δℓ'][index_awry]"
   ]
  },
  {
   "cell_type": "code",
   "execution_count": 395,
   "id": "dd032c4a",
   "metadata": {},
   "outputs": [
    {
     "data": {
      "text/plain": [
       "array([-9.17046762e-02, -2.77532931e-01, -9.31533693e-03, -1.20702266e-01,\n",
       "       -1.04280376e-01, -2.46184827e+01, -6.64448839e-01, -1.05109379e+01])"
      ]
     },
     "execution_count": 395,
     "metadata": {},
     "output_type": "execute_result"
    }
   ],
   "source": [
    "np.array(OUTS_PRELIM[max_index_2_unraveled]['Δk'])[OUTS_PRELIM[max_index_2_unraveled]['Δℓ'] >= OUTS_PRELIM[max_index_2_unraveled]['Δℓ'][index_awry]]"
   ]
  },
  {
   "cell_type": "code",
   "execution_count": 396,
   "id": "df8ed177",
   "metadata": {},
   "outputs": [
    {
     "data": {
      "text/plain": [
       "0.26764931752692317"
      ]
     },
     "execution_count": 396,
     "metadata": {},
     "output_type": "execute_result"
    }
   ],
   "source": [
    "0.091704676191255 * 2.918600540813494"
   ]
  },
  {
   "cell_type": "code",
   "execution_count": 400,
   "id": "fdee955b",
   "metadata": {},
   "outputs": [
    {
     "data": {
      "text/plain": [
       "2058.114019869681"
      ]
     },
     "execution_count": 400,
     "metadata": {},
     "output_type": "execute_result"
    }
   ],
   "source": [
    "OUTS_PRELIM[max_index_2_unraveled]['EJSD'][index_awry]"
   ]
  },
  {
   "cell_type": "code",
   "execution_count": 403,
   "id": "d8c1ae97",
   "metadata": {},
   "outputs": [
    {
     "data": {
      "text/plain": [
       "(17.685554965075948, 116.37260034722597)"
      ]
     },
     "execution_count": 403,
     "metadata": {},
     "output_type": "execute_result"
    }
   ],
   "source": [
    "OUTS_PRELIM[max_index_2_unraveled]['AR'][index_awry], SQUARED_DISTANCES[index_awry]"
   ]
  },
  {
   "cell_type": "code",
   "execution_count": null,
   "id": "da9dfe8d",
   "metadata": {},
   "outputs": [],
   "source": []
  },
  {
   "cell_type": "code",
   "execution_count": 355,
   "id": "bf989da8",
   "metadata": {},
   "outputs": [
    {
     "data": {
      "text/plain": [
       "5.763921110642056"
      ]
     },
     "execution_count": 355,
     "metadata": {},
     "output_type": "execute_result"
    }
   ],
   "source": [
    "np.mean(SQUARED_DISTANCES * ACCEPTANCE_RATIOS)"
   ]
  },
  {
   "cell_type": "code",
   "execution_count": 356,
   "id": "0698f07b",
   "metadata": {},
   "outputs": [
    {
     "data": {
      "text/plain": [
       "2.6908496837610113e-22"
      ]
     },
     "execution_count": 356,
     "metadata": {},
     "output_type": "execute_result"
    }
   ],
   "source": [
    "np.median(SQUARED_DISTANCES * ACCEPTANCE_RATIOS)"
   ]
  },
  {
   "cell_type": "code",
   "execution_count": null,
   "id": "2aa34aa0",
   "metadata": {},
   "outputs": [],
   "source": []
  },
  {
   "cell_type": "markdown",
   "id": "7be1f5e6",
   "metadata": {},
   "source": [
    "# Tables"
   ]
  },
  {
   "cell_type": "code",
   "execution_count": 127,
   "id": "4e763c96",
   "metadata": {},
   "outputs": [],
   "source": [
    "# Settings\n",
    "ϵ = 0.00001\n",
    "δ = 0.1\n",
    "B = 10\n",
    "N = 10000\n",
    "\n",
    "ϵs = [ϵ]\n",
    "δs = [δ]\n",
    "αs = [0.0, 0.5, 0.9, 0.99]"
   ]
  },
  {
   "cell_type": "code",
   "execution_count": 128,
   "id": "7fe28c43",
   "metadata": {},
   "outputs": [],
   "source": [
    "OUTS = generate_output(\n",
    "    ϵs=ϵs,\n",
    "    αs=αs,\n",
    "    δs=δs\n",
    ")"
   ]
  },
  {
   "cell_type": "code",
   "execution_count": 129,
   "id": "c88a6ee0",
   "metadata": {},
   "outputs": [
    {
     "name": "stdout",
     "output_type": "stream",
     "text": [
      "8.58\n",
      "6.97\n",
      "8.03\n",
      "8.17\n"
     ]
    }
   ],
   "source": [
    "for i in range(len(αs)):\n",
    "    print(OUTS[i]['ACCEPTANCES'].mean()*100)"
   ]
  },
  {
   "cell_type": "code",
   "execution_count": 91,
   "id": "d45c39ec",
   "metadata": {},
   "outputs": [],
   "source": [
    "def percentage_in_interval(iterable, left, right):\n",
    "    \"\"\"Counts the number of elements in `iterable` that are contained in the \n",
    "    interval `[left, right]`.\"\"\"\n",
    "    array = np.array(iterable)\n",
    "    flag = (left <= array) & (array <= right)\n",
    "    return (len(array[flag]) / len(array)) * 100\n",
    "\n",
    "def proportion_lessthan(iterable, value):\n",
    "    \"\"\"Proportion of elements in iterable that are less than value.\"\"\"\n",
    "    array = np.array(iterable)\n",
    "    flag = array <= value\n",
    "    return (sum(flag) / len(array))\n",
    "\n",
    "def find_value_so_prop_Δℓ_larger_new(iterable, p):\n",
    "    N = len(iterable)\n",
    "    return np.sort(np.array(iterable))[int(np.floor(N*np.round(1-p, decimals=2)))]\n",
    "\n",
    "def generate_Δℓ_table_new(outs, props):\n",
    "    \"\"\"This table only works on intervals of the type [L, infty).\"\"\"\n",
    "    table = zeros((len(outs), len(props)))\n",
    "    Ls = []\n",
    "    for p_ix, p in enumerate(props):\n",
    "        # Find value L so that a proportion p of samples have Δℓ larger than L\n",
    "        L = find_value_so_prop_Δℓ_larger_new(outs[0]['Δℓ'], p)\n",
    "        Ls.append(L)\n",
    "        # Fill in the first row of the table\n",
    "        table[0, p_ix] = percentage_in_interval(outs[0]['Δℓ'], L, np.inf) # should be p\n",
    "        # Fill in the rest of the rows for other αs\n",
    "        for α_ix in range(1, len(outs)):\n",
    "            table[α_ix, p_ix] = percentage_in_interval(outs[α_ix]['Δℓ'], L, np.inf)\n",
    "    return table, Ls\n",
    "\n",
    "def generate_latex_table(table, Ls):\n",
    "    \"\"\"Generate table.\"\"\"\n",
    "    s  = r\"\\begin{table}[htp]\"         + \"\\n\"\n",
    "    s += r\"\\begin{tabular}{l|llll}\"    + \"\\n\"\n",
    "    s += r\"& $\\Delta\\ell \\geq {:.2f}$ & $\\Delta\\ell \\geq {:.2f}$ & $\\Delta\\ell \\geq {:.2f}$ & $\\Delta\\ell \\geq {:.2f}$ \\\\ \\hline\".format(*Ls) + \"\\n\"\n",
    "    s += r\"$\\alpha = 0$    & {:.0f} & {:.0f} & {:.0f} & {:.0f} \\\\\".format(*table[0, :]) + \"\\n\"\n",
    "    s += r\"$\\alpha = 0.5$  & {:.2f} & {:.2f} & {:.2f} & {:.2f} \\\\\".format(*table[1, :]) + \"\\n\"\n",
    "    s += r\"$\\alpha = 0.9$  & {:.2f} & {:.2f} & {:.2f} & {:.2f} \\\\\".format(*table[2, :]) + \"\\n\"\n",
    "    s += r\"$\\alpha = 0.99$ & {:.2f} & {:.2f} & {:.2f} & {:.2f}\".format(*table[3, :]) + \"\\n\"\n",
    "    s += r\"\\end{tabular}\" + \"\\n\"\n",
    "    s += r\"\\end{table}\"\n",
    "    print(s)"
   ]
  },
  {
   "cell_type": "code",
   "execution_count": 92,
   "id": "16a11316",
   "metadata": {},
   "outputs": [
    {
     "name": "stdout",
     "output_type": "stream",
     "text": [
      "\\begin{table}[htp]\n",
      "\\begin{tabular}{l|llll}\n",
      "& $\\Delta\\ell \\geq 0.05$ & $\\Delta\\ell \\geq -0.23$ & $\\Delta\\ell \\geq -1.47$ & $\\Delta\\ell \\geq -4.66$ \\\\ \\hline\n",
      "$\\alpha = 0$    & 25 & 50 & 75 & 90 \\\\\n",
      "$\\alpha = 0.5$  & 26.58 & 54.03 & 79.98 & 92.69 \\\\\n",
      "$\\alpha = 0.9$  & 27.68 & 57.70 & 82.23 & 94.06 \\\\\n",
      "$\\alpha = 0.99$ & 26.46 & 58.05 & 82.29 & 93.61\n",
      "\\end{tabular}\n",
      "\\end{table}\n"
     ]
    }
   ],
   "source": [
    "generate_latex_table(*generate_Δℓ_table_new(OUTS, [0.25, 0.5, 0.75, 0.9]))"
   ]
  },
  {
   "cell_type": "code",
   "execution_count": 86,
   "id": "9864d1b4",
   "metadata": {},
   "outputs": [],
   "source": [
    "### CAREFUL! NEED TO MAKE SURE STEP SIZE IS LARGE ENOUGH"
   ]
  },
  {
   "cell_type": "code",
   "execution_count": 87,
   "id": "7086b0a1",
   "metadata": {},
   "outputs": [
    {
     "name": "stdout",
     "output_type": "stream",
     "text": [
      "61.56\n",
      "62.370000000000005\n",
      "61.72\n",
      "61.480000000000004\n"
     ]
    }
   ],
   "source": []
  },
  {
   "cell_type": "code",
   "execution_count": null,
   "id": "7abcfb79",
   "metadata": {},
   "outputs": [],
   "source": []
  }
 ],
 "metadata": {
  "kernelspec": {
   "display_name": "Python 3 (ipykernel)",
   "language": "python",
   "name": "python3"
  },
  "language_info": {
   "codemirror_mode": {
    "name": "ipython",
    "version": 3
   },
   "file_extension": ".py",
   "mimetype": "text/x-python",
   "name": "python",
   "nbconvert_exporter": "python",
   "pygments_lexer": "ipython3",
   "version": "3.10.4"
  }
 },
 "nbformat": 4,
 "nbformat_minor": 5
}
