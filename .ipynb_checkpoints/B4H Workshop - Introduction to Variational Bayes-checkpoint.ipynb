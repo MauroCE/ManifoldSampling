{
 "cells": [
  {
   "cell_type": "code",
   "execution_count": 162,
   "id": "17ee0e89",
   "metadata": {},
   "outputs": [],
   "source": [
    "import numpy as np\n",
    "from numpy.random import randn, choice\n",
    "from numpy import ones, zeros, eye, exp, log, array\n",
    "import matplotlib.pyplot as plt\n",
    "import seaborn as sns"
   ]
  },
  {
   "cell_type": "code",
   "execution_count": 181,
   "id": "091017fa",
   "metadata": {},
   "outputs": [
    {
     "data": {
      "image/png": "[encoded data removed]",
      "text/plain": [
       "<Figure size 432x288 with 1 Axes>"
      ]
     },
     "metadata": {
      "needs_background": "light"
     },
     "output_type": "display_data"
    }
   ],
   "source": [
    "# Settings\n",
    "K = 3\n",
    "μ = array([-1, 1, 3])\n",
    "n = 300\n",
    "σsq = 1\n",
    "tolerance = 1e-16\n",
    "\n",
    "# Load data from github\n",
    "y = np.loadtxt(\"data.txt\").flatten()\n",
    "sns.kdeplot(y)\n",
    "plt.show()"
   ]
  },
  {
   "cell_type": "code",
   "execution_count": 210,
   "id": "e676324b",
   "metadata": {},
   "outputs": [],
   "source": [
    "# Initialization\n",
    "ϕ = ones((n, K)) / K\n",
    "m = array([1., 2., 3.])\n",
    "s = 0.5*ones(3)"
   ]
  },
  {
   "cell_type": "code",
   "execution_count": 211,
   "id": "4ec38d40",
   "metadata": {},
   "outputs": [],
   "source": [
    "def ELBO(m, s, ϕ):\n",
    "    \"\"\"Computes the elbo given the three parameters.\"\"\"\n",
    "    second_term = 0.0\n",
    "    for i in range(n):\n",
    "        for k in range(K):\n",
    "            second_term += ϕ[i, k]*(y[i]*m[k] - 0.5*s[k] - 0.5*m[k]**2)\n",
    "    return - np.sum(s + m**2)/(2*σsq) + second_term - np.sum(ϕ*log(ϕ)) + 0.5*log(s).sum()"
   ]
  },
  {
   "cell_type": "code",
   "execution_count": 212,
   "id": "a5436a27",
   "metadata": {},
   "outputs": [
    {
     "name": "stdout",
     "output_type": "stream",
     "text": [
      "Iteration:  1  ELBO:  486.3414013753423 ΔELBO:  318.8825821217486\n",
      "Iteration:  2  ELBO:  626.2630785651431 ΔELBO:  139.92167718980085\n",
      "Iteration:  3  ELBO:  664.9662721981488 ΔELBO:  38.70319363300564\n",
      "Iteration:  4  ELBO:  673.3480142898469 ΔELBO:  8.38174209169813\n",
      "Iteration:  5  ELBO:  680.7471211438042 ΔELBO:  7.399106853957278\n",
      "Iteration:  6  ELBO:  683.9159627538379 ΔELBO:  3.1688416100337236\n",
      "Iteration:  7  ELBO:  685.0971420632948 ΔELBO:  1.1811793094568657\n",
      "Iteration:  8  ELBO:  685.5467440192334 ΔELBO:  0.4496019559386468\n",
      "Iteration:  9  ELBO:  685.7182834514575 ΔELBO:  0.17153943222410817\n",
      "Iteration:  10  ELBO:  685.7835134262197 ΔELBO:  0.06522997476213277\n",
      "Iteration:  11  ELBO:  685.8082565377355 ΔELBO:  0.024743111515817873\n",
      "Iteration:  12  ELBO:  685.8176312849947 ΔELBO:  0.009374747259244032\n",
      "Iteration:  13  ELBO:  685.8211816360812 ΔELBO:  0.0035503510864600685\n",
      "Iteration:  14  ELBO:  685.822525987195 ΔELBO:  0.001344351113857556\n",
      "Iteration:  15  ELBO:  685.823034998637 ΔELBO:  0.0005090114419772362\n",
      "Iteration:  16  ELBO:  685.8232277205992 ΔELBO:  0.00019272196220754267\n",
      "Iteration:  17  ELBO:  685.8233006881101 ΔELBO:  7.296751084595599e-05\n",
      "Iteration:  18  ELBO:  685.8233283145573 ΔELBO:  2.762644726317376e-05\n",
      "Iteration:  19  ELBO:  685.8233387742492 ΔELBO:  1.0459691907271917e-05\n",
      "Iteration:  20  ELBO:  685.8233427344016 ΔELBO:  3.960152412219031e-06\n",
      "Iteration:  21  ELBO:  685.8233442337555 ΔELBO:  1.4993538570706733e-06\n",
      "Iteration:  22  ELBO:  685.823344801425 ΔELBO:  5.676695309375646e-07\n",
      "Iteration:  23  ELBO:  685.8233450163513 ΔELBO:  2.1492621726793004e-07\n",
      "Iteration:  24  ELBO:  685.8233450977244 ΔELBO:  8.137317308865022e-08\n",
      "Iteration:  25  ELBO:  685.8233451285323 ΔELBO:  3.0807882467343006e-08\n",
      "Iteration:  26  ELBO:  685.8233451401968 ΔELBO:  1.1664496923913248e-08\n",
      "Iteration:  27  ELBO:  685.823345144613 ΔELBO:  4.416165211296175e-09\n",
      "Iteration:  28  ELBO:  685.8233451462858 ΔELBO:  1.6727881302358583e-09\n",
      "Iteration:  29  ELBO:  685.8233451469184 ΔELBO:  6.326672519207932e-10\n",
      "Iteration:  30  ELBO:  685.8233451471581 ΔELBO:  2.396518539171666e-10\n",
      "Iteration:  31  ELBO:  685.8233451472489 ΔELBO:  9.083578333957121e-11\n",
      "Iteration:  32  ELBO:  685.8233451472829 ΔELBO:  3.399236447876319e-11\n",
      "Iteration:  33  ELBO:  685.8233451472963 ΔELBO:  1.3415046851150692e-11\n",
      "Iteration:  34  ELBO:  685.823345147301 ΔELBO:  4.661160346586257e-12\n",
      "Iteration:  35  ELBO:  685.8233451473028 ΔELBO:  1.8189894035458565e-12\n",
      "Iteration:  36  ELBO:  685.8233451473039 ΔELBO:  1.1368683772161603e-12\n",
      "Iteration:  37  ELBO:  685.8233451473042 ΔELBO:  2.2737367544323206e-13\n",
      "Iteration:  38  ELBO:  685.823345147304 ΔELBO:  -1.1368683772161603e-13\n"
     ]
    }
   ],
   "source": [
    "ELBO_previous, ELBO_current = ELBO(m ,s, ϕ), ELBO(m ,s, ϕ) + 1\n",
    "iteration = 0\n",
    "while ELBO_current - ELBO_previous > tolerance:\n",
    "    ELBO_previous = ELBO_current\n",
    "    iteration += 1\n",
    "    # Update the whole matrix ϕ\n",
    "    for i in range(n):\n",
    "        ϕ[i, :] = exp(y[i]*m - 0.5*s - 0.5*m**2)\n",
    "        ϕ[i, :] = ϕ[i, :] / np.sum(ϕ[i, :])\n",
    "        for k in range(K):\n",
    "            m[k] = np.sum(ϕ[:, k]*y) / ((1/σsq) + ϕ[:, k].sum())\n",
    "            s[k] = 1 / (σsq + ϕ[:, k].sum())\n",
    "    ELBO_current = ELBO(m, s, ϕ)    \n",
    "    print(\"Iteration: \", iteration, \" ELBO: \", ELBO_current, \"ΔELBO: \", ELBO_current - ELBO_previous)"
   ]
  },
  {
   "cell_type": "code",
   "execution_count": null,
   "id": "9c1a1f11",
   "metadata": {},
   "outputs": [],
   "source": []
  }
 ],
 "metadata": {
  "kernelspec": {
   "display_name": "Python 3 (ipykernel)",
   "language": "python",
   "name": "python3"
  },
  "language_info": {
   "codemirror_mode": {
    "name": "ipython",
    "version": 3
   },
   "file_extension": ".py",
   "mimetype": "text/x-python",
   "name": "python",
   "nbconvert_exporter": "python",
   "pygments_lexer": "ipython3",
   "version": "3.10.4"
  }
 },
 "nbformat": 4,
 "nbformat_minor": 5
}
