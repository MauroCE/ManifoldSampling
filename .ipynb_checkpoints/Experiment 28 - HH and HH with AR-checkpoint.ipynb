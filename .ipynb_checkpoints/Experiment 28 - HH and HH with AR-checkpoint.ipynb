{
 "cells": [
  {
   "cell_type": "code",
   "execution_count": 1,
   "id": "0a39b8b3",
   "metadata": {},
   "outputs": [],
   "source": [
    "import numpy as np\n",
    "from numpy import load, arange, linspace\n",
    "import matplotlib.pyplot as plt\n",
    "from utils import box_plot, num_grad_hug_hop, num_grad_thug_hop"
   ]
  },
  {
   "cell_type": "code",
   "execution_count": 3,
   "id": "bd7b2c42",
   "metadata": {},
   "outputs": [],
   "source": [
    "folder = \"experiment28/\"\n",
    "\n",
    "# HUG\n",
    "THETA_ESS_HUG = load(folder + \"THETA_ESS_HUG.npy\")\n",
    "U_ESS_HUG     = load(folder + \"U_ESS_HUG.npy\")\n",
    "ESS_HUG       = load(folder + \"ESS_JOINT_HUG.npy\")\n",
    "A_HUG         = load(folder + \"A_HUG.npy\")\n",
    "RMSE_HUG      = load(folder + \"RMSE_HUG.npy\")\n",
    "EJSD_HUG      = load(folder + \"EJSD_HUG.npy\")\n",
    "G_EJSD_HUG    = load(folder + \"G_EJSD_HUG.npy\")\n",
    "T_EJSD_HUG    = load(folder + \"T_EJSD_HUG.npy\")\n",
    "A_HOP_HUG     = load(folder + \"A_HOP_HUG.npy\")\n",
    "N_UNIQUE_HUG  = load(folder + \"N_UNIQUE_HUG.npy\")\n",
    "THETA_AC_HUG  = load(folder + \"THETA_AC_HUG.npy\")\n",
    "U_AC_HUG      = load(folder + \"U_AC_HUG.npy\")\n",
    "\n",
    "# HUG AR\n",
    "THETA_ESS_AR = load(folder + \"THETA_ESS_AR.npy\")\n",
    "U_ESS_AR     = load(folder + \"U_ESS_AR.npy\")\n",
    "ESS_AR       = load(folder + \"ESS_JOINT_AR.npy\")\n",
    "A_AR         = load(folder + \"A_AR.npy\")\n",
    "RMSE_AR      = load(folder + \"RMSE_AR.npy\")\n",
    "EJSD_AR      = load(folder + \"EJSD_AR.npy\")\n",
    "G_EJSD_AR    = load(folder + \"G_EJSD_AR.npy\")\n",
    "T_EJSD_AR    = load(folder + \"T_EJSD_AR.npy\")\n",
    "A_HOP_AR     = load(folder + \"A_HOP_AR.npy\")\n",
    "N_UNIQUE_AR  = load(folder + \"N_UNIQUE_AR.npy\")\n",
    "THETA_AC_AR  = load(folder + \"THETA_AC_AR.npy\")\n",
    "U_AC_AR      = load(folder + \"U_AC_AR.npy\")\n",
    "\n",
    "# COMMON\n",
    "EPSILONS       = load(folder + \"EPSILONS.npy\")\n",
    "TS             = load(folder + \"TS.npy\")\n",
    "time           = load(folder + \"TIME.npy\")"
   ]
  },
  {
   "cell_type": "code",
   "execution_count": 17,
   "id": "579f13d7",
   "metadata": {},
   "outputs": [
    {
     "data": {
      "image/png": "[encoded data removed]",
      "text/plain": [
       "<Figure size 864x720 with 4 Axes>"
      ]
     },
     "metadata": {
      "needs_background": "light"
     },
     "output_type": "display_data"
    }
   ],
   "source": [
    "# Get the ESS data. Do not use T=0.01\n",
    "data_list = [\n",
    "    np.hstack((THETA_ESS_HUG[:, i, :].mean(axis=0).reshape(-1, 1), THETA_ESS_AR[:, i, :].mean(axis=0).reshape(-1, 1))) for i in range(len(EPSILONS))\n",
    "]\n",
    "string_ts = [str(T) for T in TS]\n",
    "# Normalize data\n",
    "data_list = [data / np.max(data) for data in data_list]\n",
    "fig, ax = plt.subplots(nrows=2, ncols=2, figsize=(12,10))\n",
    "for i in range(len(EPSILONS)):\n",
    "    ax[i //2, i % 2].imshow(data_list[i].T, cmap='Reds')\n",
    "    # draw gridlines\n",
    "    #ax.grid(which='major', axis='both', linestyle='-', color='k', linewidth=2)\n",
    "    ax[i //2, i % 2].set_yticks(np.arange(0.0, 1.5, 1));\n",
    "    ax[i //2, i % 2].set_xticks(np.arange(0.0, len(string_ts), 1));\n",
    "    ax[i //2, i % 2].set_yticklabels(['HUG', 'HUG-AR'])\n",
    "    ax[i //2, i % 2].set_xticklabels(string_ts)\n",
    "    ax[i //2, i % 2].set_ylabel('$\\\\alpha$', fontsize=20)\n",
    "    ax[i //2, i % 2].set_xlabel('$T$', fontsize=20)\n",
    "    ax[i //2, i % 2].set_title(\"epsilon = {}\".format(EPSILONS[i]))\n",
    "    ax[i //2, i % 2].set_ylim(-0.5, 1.5)\n",
    "    ax[i //2, i % 2].set_xlim(len(string_ts)-0.5, -0.5)\n",
    "plt.show()"
   ]
  }
 ],
 "metadata": {
  "kernelspec": {
   "display_name": "Python 3 (ipykernel)",
   "language": "python",
   "name": "python3"
  },
  "language_info": {
   "codemirror_mode": {
    "name": "ipython",
    "version": 3
   },
   "file_extension": ".py",
   "mimetype": "text/x-python",
   "name": "python",
   "nbconvert_exporter": "python",
   "pygments_lexer": "ipython3",
   "version": "3.8.10"
  }
 },
 "nbformat": 4,
 "nbformat_minor": 5
}
