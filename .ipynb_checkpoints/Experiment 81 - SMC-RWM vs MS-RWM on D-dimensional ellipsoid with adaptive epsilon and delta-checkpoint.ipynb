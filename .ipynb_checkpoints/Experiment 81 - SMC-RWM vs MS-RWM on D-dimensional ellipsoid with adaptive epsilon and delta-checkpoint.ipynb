{
 "cells": [
  {
   "cell_type": "markdown",
   "id": "db6e0512",
   "metadata": {},
   "source": [
    "Similar to Experiment 75, but here we use the version of SMC-RWM and MS-RWM that is in the python script. In particular:\n",
    "\n",
    "- Weights are computed and normalized using the log-sum-exp trick.\n",
    "- Sequence of tolerances is chosen adaptively based on quantile of distances.\n",
    "- Particles are initially sampled from the prior but then we set $\\epsilon_0 = \\max d_{i}$ where $d_i$ are the distances between the particle $i$ and the manifold.\n",
    "- Step size is adapted based on the proxy-acceptance-probability"
   ]
  },
  {
   "cell_type": "code",
   "execution_count": 1,
   "id": "5c99ad02",
   "metadata": {},
   "outputs": [],
   "source": [
    "import numpy as np\n",
    "from numpy import zeros, eye, array, diag, exp, ones\n",
    "from numpy.linalg import solve, norm\n",
    "from numpy.random import choice\n",
    "from scipy.stats import multivariate_normal as MVN\n",
    "from scipy.special import logsumexp\n",
    "import math\n",
    "import time\n",
    "from copy import deepcopy\n",
    "\n",
    "import matplotlib.pyplot as plt\n",
    "from matplotlib import rc\n",
    "from ipywidgets.widgets import IntSlider\n",
    "from ipywidgets.widgets import interact\n",
    "from warnings import resetwarnings\n",
    "\n",
    "from Manifolds.GeneralizedEllipseNew import GeneralizedEllipse\n",
    "from utils import prep_contour\n",
    "from RWM import RWM\n",
    "from tangential_hug_functions import HugTangential\n",
    "from markov_snippets import MSAdaptiveTolerancesAdaptiveδUni\n",
    "from markov_snippets import SMCAdaptiveTolerancesAdaptiveδUni"
   ]
  },
  {
   "cell_type": "code",
   "execution_count": 2,
   "id": "e8a0c2c7",
   "metadata": {},
   "outputs": [],
   "source": [
    "p = 10\n",
    "μ  = zeros(p)\n",
    "Σ  = diag(np.r_[0.1, ones(p-1)])\n",
    "level_set_value = -23\n",
    "ellipse = GeneralizedEllipse(μ, Σ, exp(level_set_value))\n",
    "πellipse = MVN(μ, Σ)\n",
    "f = πellipse.logpdf\n",
    "grad_f = lambda ξ: -solve(Σ, ξ - μ)\n",
    "\n",
    "def generate_ηϵ(ϵ):\n",
    "    \"\"\"Generates ηϵ with a uniform kernel.\"\"\"\n",
    "    def ηϵ(x):\n",
    "        if np.linalg.norm(f(x) - level_set_value) <= ϵ:\n",
    "            return 1.0\n",
    "        else: \n",
    "            return 0.0\n",
    "    return ηϵ\n",
    "\n",
    "def generate_logηϵ(ϵ):\n",
    "    \"\"\"As above, this is for the uniform kernel but this computes the log density.\"\"\"\n",
    "    def logηϵ(ξ):\n",
    "        with np.errstate(divide='ignore'):\n",
    "            return np.log(float(norm(f(ξ) - level_set_value) <= ϵ)) - np.log(ϵ)\n",
    "    return logηϵ"
   ]
  },
  {
   "cell_type": "code",
   "execution_count": 3,
   "id": "96dbdd10",
   "metadata": {},
   "outputs": [],
   "source": [
    "def generate_setting(p, B, δ, N, ϵ0=20, thinning=10, thug=True, verbose=True, initialization='init_RWMϵ0', burnin=100, δ0=0.01, kernel_type='uniform', ϵmin=1e-4, quantile_value=0.01, maxiter=50, ϵprop_switch=0.05, pmoved_switch=0.15, switch_strategy='ap', δmin=1e-4, δmax=100.0, ap_target=0.3, use_autograd=False, init_manifold_prior=True, min_prop_moved=1e-3, seed_for_prior_initialization=1234):\n",
    "    \"\"\"Generates an object from which one can grab the settings. This allows one to run multiple scenarios.\"\"\"\n",
    "    μ  = zeros(p)\n",
    "    Σ  = diag(np.r_[0.1, ones(p-1)])             \n",
    "    level_set_value = -23    \n",
    "    ellipse = GeneralizedEllipse(μ, Σ, exp(level_set_value))\n",
    "    πellipse = MVN(μ, Σ)\n",
    "    f = πellipse.logpdf\n",
    "    grad_f = lambda ξ: -solve(Σ, ξ - μ)\n",
    "    ξ0 = ellipse.sample(advanced=True)\n",
    "    #### Need to make sure that the manifold has all the proper attributes\n",
    "    # 1. Function to generate the log-targets\n",
    "    ellipse.generate_logηϵ = generate_logηε\n",
    "    # 2. Gradient function\n",
    "    ellipse.fullJacobian = grad_f\n",
    "    resetwarnings()\n",
    "    if δ0 is None:\n",
    "        δ0 = δ\n",
    "    return {\n",
    "        'd' : p,\n",
    "        'ystar': level_set_value,\n",
    "        'ξ0': ξ0,\n",
    "        'B': B,\n",
    "        'δ': δ,\n",
    "        'N': N,\n",
    "        'manifold': ellipse,\n",
    "        'thinning': thinning,\n",
    "        'thug': thug,\n",
    "        'verbose': verbose,\n",
    "        'initialization': initialization,\n",
    "        'burnin': burnin,\n",
    "        'δ0': δ0,\n",
    "        'kernel_type': kernel_type,\n",
    "        'ϵmin': ϵmin,\n",
    "        'quantile_value': quantile_value,\n",
    "        'maxiter': maxiter,\n",
    "        'ϵprop_switch': ϵprop_switch,\n",
    "        'pmoved_switch': pmoved_switch,\n",
    "        'switch_strategy': switch_strategy,\n",
    "        'δmin': δmin,\n",
    "        'δmax': δmax,\n",
    "        'ap_target': ap_target,\n",
    "        'ϵ0': ϵ0,\n",
    "        'use_autograd': use_autograd,\n",
    "        'init_manifold_prior': init_manifold_prior,\n",
    "        'min_prop_moved': 1e-3,\n",
    "        'seed_for_prior_initialization': seed_for_prior_initialization\n",
    "    }"
   ]
  },
  {
   "cell_type": "code",
   "execution_count": 4,
   "id": "878fcef3",
   "metadata": {},
   "outputs": [],
   "source": [
    "SETTINGS = generate_setting(\n",
    "    p=10,\n",
    "    B=20, \n",
    "    δ=0.01, \n",
    "    N=5000, \n",
    "    thinning=10, \n",
    "    δ0=0.01, \n",
    "    kernel_type='uniform', \n",
    "    thug=False, \n",
    "    verbose=True, \n",
    "    initialization='init_prior', \n",
    "    burnin=100, \n",
    "    maxiter=100, \n",
    "    ϵmin=1e-8, \n",
    "    quantile_value=0.5,\n",
    "    δmin=1e-3, \n",
    "    δmax=100.0, \n",
    "    ap_target=0.23,\n",
    "    min_prop_moved=1e-3,\n",
    "    seed_for_prior_initialization=1234\n",
    ")"
   ]
  },
  {
   "cell_type": "markdown",
   "id": "df6efe42",
   "metadata": {},
   "source": [
    "# SMC"
   ]
  },
  {
   "cell_type": "code",
   "execution_count": 5,
   "id": "cfbbd567",
   "metadata": {
    "scrolled": true
   },
   "outputs": [
    {
     "name": "stdout",
     "output_type": "stream",
     "text": [
      "Kernel: RWM.\n",
      "Initializing particles from prior.\n",
      "Initial Epsilon: {:.3f} 57.55860730961821\n",
      "Iteration:  1\n",
      "\tParticles resampled.\n",
      "\tEpsilon: 8.312429\n",
      "\tWeights computed and normalised.\n",
      "\tMutation step done.\n",
      "\tApprox AP: 0.39440000\n",
      "\tStep-size adapted to: 0.01085673\n",
      "Iteration:  2\n",
      "\tParticles resampled.\n",
      "\tEpsilon: 4.315152\n",
      "\tWeights computed and normalised.\n",
      "\tMutation step done.\n",
      "\tApprox AP: 0.26580000\n",
      "\tStep-size adapted to: 0.01105281\n",
      "Iteration:  3\n",
      "\tParticles resampled.\n",
      "\tEpsilon: 2.097549\n",
      "\tWeights computed and normalised.\n",
      "\tMutation step done.\n",
      "\tApprox AP: 0.13680000\n",
      "\tStep-size adapted to: 0.01054957\n",
      "Iteration:  4\n",
      "\tParticles resampled.\n",
      "\tEpsilon: 1.040007\n",
      "\tWeights computed and normalised.\n",
      "\tMutation step done.\n",
      "\tApprox AP: 0.07680000\n",
      "\tStep-size adapted to: 0.00977165\n",
      "Iteration:  5\n",
      "\tParticles resampled.\n",
      "\tEpsilon: 0.533748\n",
      "\tWeights computed and normalised.\n",
      "\tMutation step done.\n",
      "\tApprox AP: 0.04240000\n",
      "\tStep-size adapted to: 0.00889674\n",
      "Iteration:  6\n",
      "\tParticles resampled.\n",
      "\tEpsilon: 0.281734\n",
      "\tWeights computed and normalised.\n",
      "\tMutation step done.\n",
      "\tApprox AP: 0.02600000\n",
      "\tStep-size adapted to: 0.00803402\n",
      "Iteration:  7\n",
      "\tParticles resampled.\n",
      "\tEpsilon: 0.115835\n",
      "\tWeights computed and normalised.\n",
      "\tMutation step done.\n",
      "\tApprox AP: 0.00980000\n",
      "\tStep-size adapted to: 0.00719643\n",
      "Iteration:  8\n",
      "\tParticles resampled.\n",
      "\tEpsilon: 0.062169\n",
      "\tWeights computed and normalised.\n",
      "\tMutation step done.\n",
      "\tApprox AP: 0.00460000\n",
      "\tStep-size adapted to: 0.00642942\n",
      "Iteration:  9\n",
      "\tParticles resampled.\n",
      "\tEpsilon: 0.026542\n",
      "\tWeights computed and normalised.\n",
      "\tMutation step done.\n",
      "\tApprox AP: 0.00260000\n",
      "\tStep-size adapted to: 0.00573843\n",
      "Iteration:  10\n",
      "\tParticles resampled.\n",
      "\tEpsilon: 0.018007\n",
      "\tWeights computed and normalised.\n",
      "\tMutation step done.\n",
      "\tApprox AP: 0.00160000\n",
      "\tStep-size adapted to: 0.00511913\n",
      "Iteration:  11\n",
      "\tParticles resampled.\n",
      "\tEpsilon: 0.011799\n",
      "\tWeights computed and normalised.\n",
      "\tMutation step done.\n",
      "\tApprox AP: 0.00140000\n",
      "\tStep-size adapted to: 0.00456622\n",
      "Iteration:  12\n",
      "\tParticles resampled.\n",
      "\tEpsilon: 0.008311\n",
      "\tWeights computed and normalised.\n",
      "\tMutation step done.\n",
      "\tApprox AP: 0.00080000\n",
      "\tStep-size adapted to: 0.00407180\n"
     ]
    }
   ],
   "source": [
    "SMC_RWM = SMCAdaptiveTolerancesAdaptiveδUni(SETTINGS)\n",
    "_ = SMC_RWM.sample()"
   ]
  },
  {
   "cell_type": "markdown",
   "id": "7d002efc",
   "metadata": {},
   "source": [
    "# MS"
   ]
  },
  {
   "cell_type": "code",
   "execution_count": 6,
   "id": "d1539e0c",
   "metadata": {
    "scrolled": true
   },
   "outputs": [
    {
     "name": "stdout",
     "output_type": "stream",
     "text": [
      "Integrator: RWM.\n",
      "Initializing particles from prior.\n",
      "Setting initial epsilon to ϵmax = 57.5586073096\n",
      "Iteration:  1  n<=maxiter:  True ϵ >= ϵmin:  True\n",
      "\tTrajectories constructed.\n",
      "\tEpsilon: 8.294254\n",
      "\tWeights computed and normalized.\n",
      "\tParticles Resampled.\n",
      "\tVelocities refreshed.\n",
      "\tProp Moved: 0.953\n",
      "\tStep-size adapted to: 0.01435625\n",
      "Iteration:  2  n<=maxiter:  True ϵ >= ϵmin:  True\n",
      "\tTrajectories constructed.\n",
      "\tEpsilon: 4.977597\n",
      "\tWeights computed and normalized.\n",
      "\tParticles Resampled.\n",
      "\tVelocities refreshed.\n",
      "\tProp Moved: 0.955\n",
      "\tStep-size adapted to: 0.02062874\n",
      "Iteration:  3  n<=maxiter:  True ϵ >= ϵmin:  True\n",
      "\tTrajectories constructed.\n",
      "\tEpsilon: 2.781331\n",
      "\tWeights computed and normalized.\n",
      "\tParticles Resampled.\n",
      "\tVelocities refreshed.\n",
      "\tProp Moved: 0.949\n",
      "\tStep-size adapted to: 0.02955595\n",
      "Iteration:  4  n<=maxiter:  True ϵ >= ϵmin:  True\n",
      "\tTrajectories constructed.\n",
      "\tEpsilon: 1.404210\n",
      "\tWeights computed and normalized.\n",
      "\tParticles Resampled.\n",
      "\tVelocities refreshed.\n",
      "\tProp Moved: 0.925\n",
      "\tStep-size adapted to: 0.04184553\n",
      "Iteration:  5  n<=maxiter:  True ϵ >= ϵmin:  True\n",
      "\tTrajectories constructed.\n",
      "\tEpsilon: 0.700035\n",
      "\tWeights computed and normalized.\n",
      "\tParticles Resampled.\n",
      "\tVelocities refreshed.\n",
      "\tProp Moved: 0.864\n",
      "\tStep-size adapted to: 0.05744254\n",
      "Iteration:  6  n<=maxiter:  True ϵ >= ϵmin:  True\n",
      "\tTrajectories constructed.\n",
      "\tEpsilon: 0.342418\n",
      "\tWeights computed and normalized.\n",
      "\tParticles Resampled.\n",
      "\tVelocities refreshed.\n",
      "\tProp Moved: 0.740\n",
      "\tStep-size adapted to: 0.07412739\n",
      "Iteration:  7  n<=maxiter:  True ϵ >= ϵmin:  True\n",
      "\tTrajectories constructed.\n",
      "\tEpsilon: 0.172841\n",
      "\tWeights computed and normalized.\n",
      "\tParticles Resampled.\n",
      "\tVelocities refreshed.\n",
      "\tProp Moved: 0.589\n",
      "\tStep-size adapted to: 0.08868450\n",
      "Iteration:  8  n<=maxiter:  True ϵ >= ϵmin:  True\n",
      "\tTrajectories constructed.\n",
      "\tEpsilon: 0.084289\n",
      "\tWeights computed and normalized.\n",
      "\tParticles Resampled.\n",
      "\tVelocities refreshed.\n",
      "\tProp Moved: 0.376\n",
      "\tStep-size adapted to: 0.09541016\n",
      "Iteration:  9  n<=maxiter:  True ϵ >= ϵmin:  True\n",
      "\tTrajectories constructed.\n",
      "\tEpsilon: 0.042179\n",
      "\tWeights computed and normalized.\n",
      "\tParticles Resampled.\n",
      "\tVelocities refreshed.\n",
      "\tProp Moved: 0.206\n",
      "\tStep-size adapted to: 0.09429094\n",
      "Iteration:  10  n<=maxiter:  True ϵ >= ϵmin:  True\n",
      "\tTrajectories constructed.\n",
      "\tEpsilon: 0.021334\n",
      "\tWeights computed and normalized.\n",
      "\tParticles Resampled.\n",
      "\tVelocities refreshed.\n",
      "\tProp Moved: 0.131\n",
      "\tStep-size adapted to: 0.08975512\n",
      "Iteration:  11  n<=maxiter:  True ϵ >= ϵmin:  True\n",
      "\tTrajectories constructed.\n",
      "\tEpsilon: 0.010355\n",
      "\tWeights computed and normalized.\n",
      "\tParticles Resampled.\n",
      "\tVelocities refreshed.\n",
      "\tProp Moved: 0.065\n",
      "\tStep-size adapted to: 0.08265581\n",
      "Iteration:  12  n<=maxiter:  True ϵ >= ϵmin:  True\n",
      "\tTrajectories constructed.\n",
      "\tEpsilon: 0.005310\n",
      "\tWeights computed and normalized.\n",
      "\tParticles Resampled.\n",
      "\tVelocities refreshed.\n",
      "\tProp Moved: 0.036\n",
      "\tStep-size adapted to: 0.07500727\n",
      "Iteration:  13  n<=maxiter:  True ϵ >= ϵmin:  True\n",
      "\tTrajectories constructed.\n",
      "\tEpsilon: 0.002652\n",
      "\tWeights computed and normalized.\n",
      "\tParticles Resampled.\n",
      "\tVelocities refreshed.\n",
      "\tProp Moved: 0.025\n",
      "\tStep-size adapted to: 0.06769993\n",
      "Iteration:  14  n<=maxiter:  True ϵ >= ϵmin:  True\n",
      "\tTrajectories constructed.\n",
      "\tEpsilon: 0.001368\n",
      "\tWeights computed and normalized.\n",
      "\tParticles Resampled.\n",
      "\tVelocities refreshed.\n",
      "\tProp Moved: 0.017\n",
      "\tStep-size adapted to: 0.06086663\n",
      "Iteration:  15  n<=maxiter:  True ϵ >= ϵmin:  True\n",
      "\tTrajectories constructed.\n",
      "\tEpsilon: 0.000759\n",
      "\tWeights computed and normalized.\n",
      "\tParticles Resampled.\n",
      "\tVelocities refreshed.\n",
      "\tProp Moved: 0.007\n",
      "\tStep-size adapted to: 0.05443923\n",
      "Iteration:  16  n<=maxiter:  True ϵ >= ϵmin:  True\n",
      "\tTrajectories constructed.\n",
      "\tEpsilon: 0.000347\n",
      "\tWeights computed and normalized.\n",
      "\tParticles Resampled.\n",
      "\tVelocities refreshed.\n",
      "\tProp Moved: 0.004\n",
      "\tStep-size adapted to: 0.04863216\n",
      "Iteration:  17  n<=maxiter:  True ϵ >= ϵmin:  True\n",
      "\tTrajectories constructed.\n",
      "\tEpsilon: 0.000185\n",
      "\tWeights computed and normalized.\n",
      "\tParticles Resampled.\n",
      "\tVelocities refreshed.\n",
      "\tProp Moved: 0.001\n",
      "\tStep-size adapted to: 0.04337508\n",
      "Iteration:  18  n<=maxiter:  True ϵ >= ϵmin:  True\n",
      "\tTrajectories constructed.\n",
      "\tEpsilon: 0.000067\n",
      "\tWeights computed and normalized.\n",
      "\tParticles Resampled.\n",
      "\tVelocities refreshed.\n",
      "\tProp Moved: 0.001\n",
      "\tStep-size adapted to: 0.03868241\n",
      "Iteration:  19  n<=maxiter:  True ϵ >= ϵmin:  True\n",
      "\tTrajectories constructed.\n",
      "\tEpsilon: 0.000037\n",
      "\tWeights computed and normalized.\n",
      "\tParticles Resampled.\n",
      "\tVelocities refreshed.\n",
      "\tProp Moved: 0.000\n",
      "\tStep-size adapted to: 0.03448019\n"
     ]
    }
   ],
   "source": [
    "MS_RWM = MSAdaptiveTolerancesAdaptiveδUni(SETTINGS)\n",
    "_ = MS_RWM.sample()"
   ]
  },
  {
   "cell_type": "markdown",
   "id": "f74a9872",
   "metadata": {},
   "source": [
    "# Comparison"
   ]
  },
  {
   "cell_type": "code",
   "execution_count": 7,
   "id": "835d05d4",
   "metadata": {},
   "outputs": [
    {
     "data": {
      "image/png": "[encoded data removed]",
      "text/plain": [
       "<Figure size 432x288 with 1 Axes>"
      ]
     },
     "metadata": {
      "needs_background": "light"
     },
     "output_type": "display_data"
    }
   ],
   "source": [
    "fig, ax = plt.subplots()\n",
    "ax.set_title(\"ϵ\")\n",
    "ax.plot(SMC_RWM.ϵs, label='SMC-RWM')\n",
    "ax.plot(MS_RWM.ϵs, label='MS-RWM')\n",
    "ax.set_yscale('log')\n",
    "ax.legend()\n",
    "plt.show()"
   ]
  },
  {
   "cell_type": "code",
   "execution_count": 8,
   "id": "e866995a",
   "metadata": {},
   "outputs": [
    {
     "data": {
      "image/png": "[encoded data removed]",
      "text/plain": [
       "<Figure size 432x288 with 1 Axes>"
      ]
     },
     "metadata": {
      "needs_background": "light"
     },
     "output_type": "display_data"
    }
   ],
   "source": [
    "fig, ax = plt.subplots()\n",
    "ax.set_title(\"ESS per particle\")\n",
    "ax.plot(np.array(SMC_RWM.ESS)/SMC_RWM.N, label='SMC-RWM')\n",
    "ax.plot(np.array(MS_RWM.ESS)/(MS_RWM.N*(MS_RWM.B+1)), label='MS-RWM')\n",
    "ax.legend()\n",
    "plt.show()"
   ]
  },
  {
   "cell_type": "code",
   "execution_count": 9,
   "id": "2b18aa5b",
   "metadata": {},
   "outputs": [
    {
     "data": {
      "image/png": "[encoded data removed]",
      "text/plain": [
       "<Figure size 432x288 with 1 Axes>"
      ]
     },
     "metadata": {
      "needs_background": "light"
     },
     "output_type": "display_data"
    }
   ],
   "source": [
    "fig, ax = plt.subplots()\n",
    "ax.set_title(\"Step-size\")\n",
    "ax.plot(SMC_RWM.δs, label='SMC-RWM')\n",
    "ax.plot(MS_RWM.δs, label='MS-RWM')\n",
    "ax.legend()\n",
    "plt.show()"
   ]
  },
  {
   "cell_type": "code",
   "execution_count": 10,
   "id": "f570b19d",
   "metadata": {},
   "outputs": [
    {
     "data": {
      "image/png": "[encoded data removed]",
      "text/plain": [
       "<Figure size 432x288 with 1 Axes>"
      ]
     },
     "metadata": {
      "needs_background": "light"
     },
     "output_type": "display_data"
    }
   ],
   "source": [
    "fig, ax = plt.subplots()\n",
    "ax.set_title(\"AP\")\n",
    "ax.plot(SMC_RWM.aps, label='SMC-RWM')\n",
    "ax.plot(MS_RWM.prop_moved, label='MS-RWM')\n",
    "ax.legend()\n",
    "plt.show()"
   ]
  },
  {
   "cell_type": "code",
   "execution_count": null,
   "id": "e7f9c759",
   "metadata": {},
   "outputs": [],
   "source": []
  }
 ],
 "metadata": {
  "kernelspec": {
   "display_name": "Python 3 (ipykernel)",
   "language": "python",
   "name": "python3"
  },
  "language_info": {
   "codemirror_mode": {
    "name": "ipython",
    "version": 3
   },
   "file_extension": ".py",
   "mimetype": "text/x-python",
   "name": "python",
   "nbconvert_exporter": "python",
   "pygments_lexer": "ipython3",
   "version": "3.10.4"
  }
 },
 "nbformat": 4,
 "nbformat_minor": 5
}
