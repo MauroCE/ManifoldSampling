{
 "cells": [
  {
   "cell_type": "code",
   "execution_count": 215,
   "id": "e464eed6",
   "metadata": {},
   "outputs": [],
   "source": [
    "import numpy as np\n",
    "from numpy import zeros, eye, diag, exp, trace, log\n",
    "from numpy.random import randn, default_rng\n",
    "from numpy.linalg import norm, inv, solve\n",
    "from scipy.stats import multivariate_normal as MVN\n",
    "from scipy.optimize import root\n",
    "import matplotlib.pyplot as plt\n",
    "from matplotlib import rc\n",
    "\n",
    "from Manifolds.GeneralizedEllipseNew import GeneralizedEllipse\n",
    "from utils import prep_contour, lighten_color"
   ]
  },
  {
   "cell_type": "code",
   "execution_count": 54,
   "id": "830cb859",
   "metadata": {},
   "outputs": [],
   "source": [
    "μ = zeros(2)\n",
    "Σ = diag([7, 0.1])\n",
    "ellipse = GeneralizedEllipse(μ, Σ, exp(-2.95), prior='uniform', prior_loc=0.0, prior_scale=10, kernel='uniform')"
   ]
  },
  {
   "cell_type": "code",
   "execution_count": 114,
   "id": "7a3e899a",
   "metadata": {},
   "outputs": [],
   "source": [
    "# keep sampling points until one is good enough\n",
    "x = ellipse.sample(advanced=True)\n",
    "# Compute jacobian\n",
    "Jx = ellipse.fullJacobian(x)\n",
    "Qx = Jx.reshape(-1, 1)\n",
    "# Grab tangent basis\n",
    "tx_basis = ellipse.tangent_basis(Qx)"
   ]
  },
  {
   "cell_type": "code",
   "execution_count": 126,
   "id": "e463e1a4",
   "metadata": {},
   "outputs": [],
   "source": [
    "# Sample unrestricted velocity\n",
    "seed = 1234\n",
    "rng = default_rng(seed=seed)\n",
    "scale = 0.6\n",
    "v_sample = scale*rng.normal(size=1)"
   ]
  },
  {
   "cell_type": "code",
   "execution_count": 127,
   "id": "e8a0bf3d",
   "metadata": {},
   "outputs": [],
   "source": [
    "v = tx_basis @ v_sample\n",
    "output = root(lambda a: ellipse.q(x + v + Qx@a), np.zeros(1), tol=1e-8)\n",
    "y = x + v + Qx @ output.x"
   ]
  },
  {
   "cell_type": "code",
   "execution_count": 161,
   "id": "3779c0a5",
   "metadata": {},
   "outputs": [
    {
     "data": {
      "text/plain": [
       "array([ 0.53689112, -2.37309141])"
      ]
     },
     "execution_count": 161,
     "metadata": {},
     "output_type": "execute_result"
    }
   ],
   "source": [
    "Jx"
   ]
  },
  {
   "cell_type": "code",
   "execution_count": 223,
   "id": "fb5bb6f6",
   "metadata": {},
   "outputs": [
    {
     "data": {
      "image/png": "[encoded data removed]",
      "text/plain": [
       "<Figure size 432x288 with 2 Axes>"
      ]
     },
     "metadata": {
      "needs_background": "light"
     },
     "output_type": "display_data"
    }
   ],
   "source": [
    "rc('font',**{'family':'STIXGeneral'})\n",
    "fig, ax = plt.subplots()\n",
    "ax.contour(*prep_contour([-5, 5], [-5, 5], 0.01, MVN(μ, Σ).logpdf), levels=[-2.95], colors=[lighten_color('black', 0.2)], linestyles='-')\n",
    "ax.scatter(*x, zorder=10, edgecolor='black', color='lightcoral', s=80, linewidth=1.5)\n",
    "ax.scatter(*y, zorder=10, edgecolor='black', color='gold', s=80, linewidth=1.5)\n",
    "ax.arrow(*y, *Jx, width=0.01, length_includes_head=True, head_width=0.2)\n",
    "scatterplot = ax.scatter(*ellipse_samples.T, c=log(curvature_values), s=2, cmap='Greys', zorder=9)\n",
    "plt.colorbar(scatterplot)\n",
    "ax.set_xlim([-5, 0])\n",
    "# ax.set_xticks([])\n",
    "# ax.set_yticks([])\n",
    "plt.savefig('figures/failed_projection_for_markov_snippets.png')\n",
    "plt.show()"
   ]
  },
  {
   "cell_type": "code",
   "execution_count": 178,
   "id": "eebc2d29",
   "metadata": {},
   "outputs": [],
   "source": [
    "ellipse_samples = np.vstack([ellipse.sample(advanced=True) for _ in range(50000)])"
   ]
  },
  {
   "cell_type": "code",
   "execution_count": 210,
   "id": "58934930",
   "metadata": {},
   "outputs": [
    {
     "data": {
      "image/png": "[encoded data removed]",
      "text/plain": [
       "<Figure size 1152x288 with 2 Axes>"
      ]
     },
     "metadata": {
      "needs_background": "light"
     },
     "output_type": "display_data"
    }
   ],
   "source": [
    "fig, ax = plt.subplots(figsize=(16, 4))\n",
    "scatterplot = ax.scatter(*ellipse_samples.T, c=curvature_values)\n",
    "ax.set_aspect('equal')\n",
    "plt.colorbar(scatterplot)\n",
    "plt.show()"
   ]
  },
  {
   "cell_type": "code",
   "execution_count": 208,
   "id": "0298cd22",
   "metadata": {},
   "outputs": [],
   "source": [
    "def curvature(x):\n",
    "    Σinvx = solve(Σ, x)\n",
    "    return abs(Σinvx.dot(solve(Σ**2, x)) / (norm(Σinvx)**3) - (trace(inv(Σ)) / norm(Σinvx)))"
   ]
  },
  {
   "cell_type": "code",
   "execution_count": 209,
   "id": "4a3cf03d",
   "metadata": {},
   "outputs": [],
   "source": [
    "curvature_values = np.apply_along_axis(curvature, 1, ellipse_samples)"
   ]
  },
  {
   "cell_type": "code",
   "execution_count": 230,
   "id": "0e733335",
   "metadata": {},
   "outputs": [
    {
     "data": {
      "text/plain": [
       "0.031533259977125194"
      ]
     },
     "execution_count": 230,
     "metadata": {},
     "output_type": "execute_result"
    }
   ],
   "source": [
    "curvature(ellipse_samples[0])"
   ]
  },
  {
   "cell_type": "code",
   "execution_count": 234,
   "id": "67a8de45",
   "metadata": {},
   "outputs": [],
   "source": [
    "asq, bsq = np.diag(Σ)"
   ]
  },
  {
   "cell_type": "code",
   "execution_count": 321,
   "id": "578e86d2",
   "metadata": {},
   "outputs": [],
   "source": [
    "a2_b2 = diag(Σ)\n",
    "b2_a2 = a2_b2[::-1]\n",
    "a4_b4 = a2_b2**2\n",
    "b4_a4 = b2_a2**2\n",
    "a6_b6 = a2_b2**3\n",
    "x_y   = ellipse_samples[0]\n",
    "x2_y2 = x_y**2\n",
    "a = np.sqrt(asq)\n",
    "b = np.sqrt(bsq)"
   ]
  },
  {
   "cell_type": "code",
   "execution_count": 285,
   "id": "b15be1f6",
   "metadata": {},
   "outputs": [
    {
     "data": {
      "text/plain": [
       "-0.03153325997712475"
      ]
     },
     "execution_count": 285,
     "metadata": {},
     "output_type": "execute_result"
    }
   ],
   "source": [
    "(x2_y2@(1/a6_b6)) / ((x2_y2@(1/a4_b4))**(3/2)) - ((asq+bsq) / (asq*bsq)) / (np.sqrt(x2_y2@(1/a4_b4)))"
   ]
  },
  {
   "cell_type": "code",
   "execution_count": 289,
   "id": "2e34c552",
   "metadata": {},
   "outputs": [
    {
     "data": {
      "text/plain": [
       "0.03153325997712485"
      ]
     },
     "execution_count": 289,
     "metadata": {},
     "output_type": "execute_result"
    }
   ],
   "source": [
    "(x2_y2@np.array([1 / ((asq**2)*bsq), 1/(asq*(bsq**2))])) / ((x2_y2@(1/a4_b4))**(3/2))"
   ]
  },
  {
   "cell_type": "code",
   "execution_count": 294,
   "id": "7d0e2869",
   "metadata": {},
   "outputs": [
    {
     "data": {
      "text/plain": [
       "0.03153325997712485"
      ]
     },
     "execution_count": 294,
     "metadata": {},
     "output_type": "execute_result"
    }
   ],
   "source": [
    "(b2_a2@x2_y2)/((b4_a4@x2_y2)**(3/2)/(asq*bsq))"
   ]
  },
  {
   "cell_type": "code",
   "execution_count": 297,
   "id": "c74f14df",
   "metadata": {},
   "outputs": [
    {
     "data": {
      "text/plain": [
       "2.5809208111199293"
      ]
     },
     "execution_count": 297,
     "metadata": {},
     "output_type": "execute_result"
    }
   ],
   "source": [
    "x2_y2@(1/a2_b2)"
   ]
  },
  {
   "cell_type": "code",
   "execution_count": 324,
   "id": "74001efe",
   "metadata": {},
   "outputs": [
    {
     "data": {
      "text/plain": [
       "2.5809208111200417"
      ]
     },
     "execution_count": 324,
     "metadata": {},
     "output_type": "execute_result"
    }
   ],
   "source": [
    "-2*(-2.95 + np.log(2*np.pi*a*b))"
   ]
  },
  {
   "cell_type": "code",
   "execution_count": 322,
   "id": "fbffcd20",
   "metadata": {},
   "outputs": [
    {
     "data": {
      "text/plain": [
       "-1.6595395944399793"
      ]
     },
     "execution_count": 322,
     "metadata": {},
     "output_type": "execute_result"
    }
   ],
   "source": []
  },
  {
   "cell_type": "code",
   "execution_count": null,
   "id": "af0ec124",
   "metadata": {},
   "outputs": [],
   "source": []
  }
 ],
 "metadata": {
  "kernelspec": {
   "display_name": "Python 3 (ipykernel)",
   "language": "python",
   "name": "python3"
  },
  "language_info": {
   "codemirror_mode": {
    "name": "ipython",
    "version": 3
   },
   "file_extension": ".py",
   "mimetype": "text/x-python",
   "name": "python",
   "nbconvert_exporter": "python",
   "pygments_lexer": "ipython3",
   "version": "3.10.4"
  }
 },
 "nbformat": 4,
 "nbformat_minor": 5
}
