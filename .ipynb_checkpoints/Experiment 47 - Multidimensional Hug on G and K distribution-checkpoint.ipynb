{
 "cells": [
  {
   "cell_type": "markdown",
   "id": "75960dd2",
   "metadata": {},
   "source": [
    "# Sampling from G and K distribution using Multivariate Thug"
   ]
  },
  {
   "cell_type": "code",
   "execution_count": 1,
   "id": "4eccf0d0",
   "metadata": {},
   "outputs": [],
   "source": [
    "import numpy as np\n",
    "from numpy import zeros, eye, array, r_, diag, ones, log, zeros_like, pi, exp, log10, sort, quantile, linspace, vstack\n",
    "from numpy import save\n",
    "from numpy.random import randn, rand, randint, default_rng\n",
    "from numpy.random import normal\n",
    "from numpy import isfinite\n",
    "from numpy.linalg import solve, det, inv, norm\n",
    "\n",
    "import matplotlib.pyplot as plt\n",
    "import seaborn as sns\n",
    "\n",
    "from collections import OrderedDict\n",
    "import copy\n",
    "\n",
    "from warnings import catch_warnings, filterwarnings\n",
    "\n",
    "from autograd import jacobian, grad\n",
    "import autograd.numpy as anp\n",
    "from autograd.numpy.linalg import norm as norm_a\n",
    "import autograd.scipy as asp\n",
    "from autograd.scipy.stats import norm as ndist_a\n",
    "import autograd as ag\n",
    "\n",
    "from scipy.stats import multivariate_normal as MVN\n",
    "from scipy.optimize import fsolve, bisect\n",
    "from scipy.stats import norm as ndist\n",
    "from scipy.stats import uniform as udist\n",
    "from scipy.stats import beta as betadist\n",
    "from scipy.linalg import qr\n",
    "from scipy.special import gamma\n",
    "\n",
    "from g_and_k_functions import GandK\n",
    "from tangential_hug_functions import HugTangentialMultivariate\n",
    "from RWM import RWM\n",
    "from HMC.static_hmc import HMC\n",
    "from utils import ESS_univariate, ESS"
   ]
  },
  {
   "cell_type": "code",
   "execution_count": 235,
   "id": "3534b3ba",
   "metadata": {},
   "outputs": [],
   "source": [
    "# True parameter\n",
    "θ0 = np.array([3.0, 1.0, 2.0, 0.5])\n",
    "n_latents = 50\n",
    "nps = 3.0 # Scale of normal prior for G and K when using HMC (for differtiability)\n",
    "ϵ = 1.0 #0.0001 #0.0001 #0.07 #2.0\n",
    "d = 4 + n_latents\n",
    "\n",
    "# Generate observed data y\n",
    "GK = GandK(m=n_latents, epsilon=ϵ, parameter_prior='beta', kernel='normal', normal_prior_scale=nps)\n",
    "ystar = GK.data_generator(θ0)\n",
    "GK.set_ystar(ystar)\n",
    "\n",
    "# Find initial point on manifold\n",
    "ξ0 = GK.find_point_on_manifold(max_iter=2000)"
   ]
  },
  {
   "cell_type": "code",
   "execution_count": 225,
   "id": "88cb1f56",
   "metadata": {},
   "outputs": [],
   "source": [
    "# def try_hug(ϵ, α=0.0, return_samples=False):\n",
    "#     # Set up data\n",
    "#     GK = GandK(m=n_latents, epsilon=ϵ, parameter_prior='normal', kernel='normal', normal_prior_scale=nps)\n",
    "#     ystar = GK.data_generator(θ0)\n",
    "#     GK.set_ystar(ystar)\n",
    "#     # Run HUG\n",
    "#     s, a, ng = HugTangentialMultivariate(ξ0, T, B, N, α, q, GK.log_abc_posterior, GK.Jf, method='qr', return_n_grad=True)\n",
    "#     if return_samples:\n",
    "#         return a.mean() * 100, s\n",
    "#     else:\n",
    "#         return a.mean() * 100"
   ]
  },
  {
   "cell_type": "code",
   "execution_count": 33,
   "id": "ec07da27",
   "metadata": {},
   "outputs": [],
   "source": [
    "# def try_hmc(ϵ, seed=1234, return_samples=False):\n",
    "#     # Set up data\n",
    "#     GK = GandK(m=n_latents, epsilon=ϵ, parameter_prior='normal', kernel='normal', normal_prior_scale=nps)\n",
    "#     ystar = GK.data_generator(θ0, seed=seed)\n",
    "#     GK.set_ystar(ystar)\n",
    "#     ξ0 = GK.find_point_on_manifold(max_iter=5000)\n",
    "#     # Run HMC\n",
    "# #     def dVdξ(ξ, μ= 5*ones(4), Σ=(nps**2)*eye(4), ystar=ystar, ϵ=ϵ):\n",
    "# #         θ, z = ξ[:4], ξ[4:]\n",
    "# #         dpdξ = r_[solve(Σ, θ - μ), z]\n",
    "# #         dkdξ = GK.Jf_transpose(ξ) @ (GK.f(ξ) - ystar) / (ϵ**2)\n",
    "# #         return dpdξ + dkdξ\n",
    "# #     def V(ξ, μ= 5*ones(4), Σ=(nps**2)*eye(4), ystar=ystar, ϵ=ϵ):\n",
    "# #         θ, z = ξ[:4], ξ[4:]\n",
    "# #         m    = len(z)\n",
    "# #         neg_log_prior  = -MVN(mean=μ, cov=Σ).logpdf(θ) -MVN(mean=zeros(m), cov=eye(m)).logpdf(z) \n",
    "# #         neg_log_kernel = 0.5*log(2*pi*(ϵ**2)) + norm(GK.f(ξ) - ystar)**2 / (2*(ϵ**2))\n",
    "# #         return neg_log_prior + neg_log_kernel\n",
    "#     HMCsampler                = HMC(ξ0, N, eye(d), T, T/B)\n",
    "#     HMCsampler.neg_log_target = GK.V #V\n",
    "#     HMCsampler.dVdq           = GK.dVdξ #dVdξ\n",
    "#     sHMC, aHMC                = HMCsampler.sample()\n",
    "#     if return_samples:\n",
    "#         return aHMC.mean() * 100, sHMC\n",
    "#     else:\n",
    "#         return aHMC.mean() * 100"
   ]
  },
  {
   "cell_type": "code",
   "execution_count": 34,
   "id": "cc97f0d6",
   "metadata": {},
   "outputs": [],
   "source": [
    "# AP099, S099 = try_hug(0.0001, 0.99, return_samples=True)"
   ]
  },
  {
   "cell_type": "code",
   "execution_count": 236,
   "id": "f1165451",
   "metadata": {},
   "outputs": [],
   "source": [
    "# Settings for Thug\n",
    "T = 0.2\n",
    "B = 5\n",
    "N = 10000\n",
    "α = 0.99\n",
    "\n",
    "# print('HUG: Integration time: ', T, ' Stepsize: ', T / B)\n",
    "# T_HMC = T\n",
    "# ϵ_HMC = T / (100 * B)\n",
    "# print('HMC: Integration time: ', T_HMC, ' Stepsize: ', ϵ_HMC)\n",
    "\n",
    "q = MVN(zeros(d), eye(d))"
   ]
  },
  {
   "cell_type": "code",
   "execution_count": 268,
   "id": "1eaae977",
   "metadata": {},
   "outputs": [],
   "source": [
    "prangle_mcmc_samples = np.loadtxt('ManifoldSamplingR/gk_mcmc_samples2.txt', skiprows=1, usecols=range(1, 5))[1:, :]"
   ]
  },
  {
   "cell_type": "code",
   "execution_count": 238,
   "id": "b38234e4",
   "metadata": {},
   "outputs": [],
   "source": [
    "# Pure HUG, QR projection\n",
    "samples1, acceptances1, ng1 = HugTangentialMultivariate(ξ0, T, B, N, 0.0, q, GK.log_abc_posterior, GK.Jf, method='qr', return_n_grad=True)\n",
    "# Pure HUG, Linear Solver projection\n",
    "# samples2, acceptances2 = HugTangentialMultivariate(ξ0, T, B, N, 0.0, q, GK.log_abc_posterior, GK.Jf, method='linear')"
   ]
  },
  {
   "cell_type": "code",
   "execution_count": 239,
   "id": "1b4cc952",
   "metadata": {},
   "outputs": [],
   "source": [
    "# Random Walk Metropolis\n",
    "samples3, acceptances3 = RWM(ξ0, T/B, N, GK.log_abc_posterior)"
   ]
  },
  {
   "cell_type": "code",
   "execution_count": 39,
   "id": "3b56d99e",
   "metadata": {},
   "outputs": [],
   "source": [
    "# # static Hamiltonian Monte Carlo\n",
    "# HMCsampler                = HMC(ξ0, N, eye(d), T_HMC, ϵ_HMC)\n",
    "# HMCsampler.neg_log_target = lambda ξ: -GK.log_abc_posterior(ξ)\n",
    "# μ                         = r_[[5.]*4, zeros(n_latents)]\n",
    "# Σ                         = diag(r_[[nps**2]*4, ones(n_latents)])\n",
    "# HMCsampler.dVdq           = lambda ξ: solve(Σ, ξ - μ) + GK.Jf(ξ).T @ (GK.f(ξ) - GK.ystar)\n",
    "# samples4, acceptances4    = HMCsampler.sample()\n",
    "# print(\"Acceptance Rate of HMC: {:.2%}\".format(acceptances4.mean()))"
   ]
  },
  {
   "cell_type": "code",
   "execution_count": 40,
   "id": "aa8e990a",
   "metadata": {},
   "outputs": [],
   "source": [
    "# # Try and write the negative log posterior using autograd numpy\n",
    "# def f_a(ξ):\n",
    "#     return ξ[0] + ξ[1]*(1 + 0.8 * (1 - anp.exp(-ξ[2] * ξ[4:])) / (1 + anp.exp(-ξ[2] * ξ[4:]))) * ((1 + ξ[4:]**2)**ξ[3]) * ξ[4:]\n",
    "\n",
    "# def logprior_a(ξ):\n",
    "#     return ndist_a.logpdf(ξ[:4], loc=5.0, scale=nps).sum() + ndist_a.logpdf(ξ[4:]).sum()\n",
    "\n",
    "# def logkernel_a(ξ):\n",
    "#     #return anp.exp(-norm_a(f_a(ξ) - ystar)**2 / 2) / anp.sqrt(2*anp.pi)\n",
    "#     return -norm_a(f_a(ξ) - ystar)**2 / 2 - 0.5*anp.log(2*anp.pi)\n",
    "\n",
    "# def neg_log_post_a(ξ):\n",
    "#     return -logprior_a(ξ) -logkernel_a(ξ)\n",
    "\n",
    "# grad_neg_log_post_a = grad(neg_log_post_a)"
   ]
  },
  {
   "cell_type": "code",
   "execution_count": 41,
   "id": "ed45605d",
   "metadata": {},
   "outputs": [],
   "source": [
    "# def dVdξ(ξ, μ= 5*ones(4), Σ=(nps**2)*eye(4), ystar=ystar, ϵ=ϵ):\n",
    "#     θ, z = ξ[:4], ξ[4:]\n",
    "#     dpdξ = r_[solve(Σ, θ - μ), z]\n",
    "#     dkdξ = GK.Jf_transpose(ξ) @ (GK.f(ξ) - ystar) / (ϵ**2)\n",
    "#     return dpdξ + dkdξ\n",
    "\n",
    "# def V(ξ, μ= 5*ones(4), Σ=(nps**2)*eye(4), ystar=ystar, ϵ=ϵ):\n",
    "#     θ, z = ξ[:4], ξ[4:]\n",
    "#     m    = len(z)\n",
    "#     neg_log_prior  = -MVN(mean=μ, cov=Σ).logpdf(θ) -MVN(mean=zeros(m), cov=eye(m)).logpdf(z) \n",
    "#     neg_log_kernel = 0.5*log(2*pi*(ϵ**2)) + norm(GK.f(ξ) - ystar)**2 / (2*(ϵ**2))\n",
    "#     return neg_log_prior + neg_log_kernel "
   ]
  },
  {
   "cell_type": "code",
   "execution_count": 42,
   "id": "fe327a9e",
   "metadata": {},
   "outputs": [],
   "source": [
    "# HMCsampler_a                = HMC(ξ0, N, eye(d), T, T/B)  # 0.2, 0.04\n",
    "# HMCsampler_a.neg_log_target = neg_log_post_a\n",
    "# HMCsampler_a.dVdq           = grad_neg_log_post_a\n",
    "# samples4a, acceptances4a = HMCsampler_a.sample()\n",
    "# print(\"Acceptance Rate of HMCa: {:.2%}\".format(acceptances4a.mean()))"
   ]
  },
  {
   "cell_type": "code",
   "execution_count": 240,
   "id": "4b5bffa9",
   "metadata": {
    "scrolled": true
   },
   "outputs": [],
   "source": [
    "# Try HMC on filamentary distribution again\n",
    "HMCsampler2                = HMC(ξ0, N, eye(d), T, T / B)\n",
    "HMCsampler2.neg_log_target = GK.V #V\n",
    "HMCsampler2.dVdq           = GK.dVdξ #dVdξ\n",
    "samples4_2, acceptances4_2 = HMCsampler2.sample()"
   ]
  },
  {
   "cell_type": "code",
   "execution_count": 241,
   "id": "76180c17",
   "metadata": {},
   "outputs": [],
   "source": [
    "# THUG, QR projection\n",
    "samples5, acceptances5 = HugTangentialMultivariate(ξ0, T, B, N, α, q, GK.log_abc_posterior, GK.Jf, method='qr')"
   ]
  },
  {
   "cell_type": "code",
   "execution_count": 257,
   "id": "d36badc0",
   "metadata": {},
   "outputs": [],
   "source": [
    "# I WANT TO PLOT EACH ONE OF THEM AT THEIR BEST ϵ.\n",
    "def plot_at_best_ϵ(N):\n",
    "    ϵ_HUG  = 0.01\n",
    "    ϵ_THUG = 0.0001\n",
    "    ϵ_HMC  = 1.0\n",
    "    ϵ_RWM  = 5.0\n",
    "    \n",
    "    # For HUG use 0.01\n",
    "    GK = GandK(m=n_latents, epsilon=ϵ_HUG, parameter_prior='beta', kernel='normal', normal_prior_scale=nps)\n",
    "    ystar = GK.data_generator(θ0)\n",
    "    GK.set_ystar(ystar)\n",
    "    ξ0 = GK.find_point_on_manifold(max_iter=8000)\n",
    "    sHUG, aHUG = HugTangentialMultivariate(ξ0, T, B, N, 0.0, q, GK.log_abc_posterior, GK.Jf, method='qr')\n",
    "    print(\"Acceptance HUG: {:.2%}\".format(aHUG.mean()))\n",
    "    \n",
    "    # For THUG use 0.0001\n",
    "    GK = GandK(m=n_latents, epsilon=ϵ_THUG, parameter_prior='beta', kernel='normal', normal_prior_scale=nps)\n",
    "    ystar = GK.data_generator(θ0)\n",
    "    GK.set_ystar(ystar)\n",
    "    ξ0 = GK.find_point_on_manifold(max_iter=2000)\n",
    "    sTHUG, aTHUG = HugTangentialMultivariate(ξ0, T, B, N, 0.99, q, GK.log_abc_posterior, GK.Jf, method='qr')\n",
    "    print(\"Acceptance THUG: {:.2%}\".format(aTHUG.mean()))\n",
    "    \n",
    "    # For HMC use 1.0\n",
    "    GK = GandK(m=n_latents, epsilon=ϵ_HMC, parameter_prior='beta', kernel='normal', normal_prior_scale=nps)\n",
    "    ystar = GK.data_generator(θ0)\n",
    "    GK.set_ystar(ystar)\n",
    "    ξ0 = GK.find_point_on_manifold(max_iter=2000)\n",
    "    HMCsampler                 = HMC(ξ0, N, eye(d), T, T / B)\n",
    "    HMCsampler.neg_log_target  = GK.V \n",
    "    HMCsampler.dVdq            = GK.dVdξ \n",
    "    sHMC, aHMC                 = HMCsampler.sample()\n",
    "    print(\"Acceptance HMC: {:.2%}\".format(aHMC.mean()))\n",
    "    \n",
    "    # For RWM use \n",
    "    GK = GandK(m=n_latents, epsilon=ϵ_RWM, parameter_prior='beta', kernel='normal', normal_prior_scale=nps)\n",
    "    ystar = GK.data_generator(θ0)\n",
    "    GK.set_ystar(ystar)\n",
    "    ξ0 = GK.find_point_on_manifold(max_iter=2000)\n",
    "    sRWM, aRWM = RWM(ξ0, T/B, N, GK.log_abc_posterior)\n",
    "    print(\"Acceptance RWM: {:.2%}\".format(aRWM.mean()))\n",
    "    return sHUG, sTHUG, sHMC, sRWM"
   ]
  },
  {
   "cell_type": "code",
   "execution_count": 260,
   "id": "4865cff1",
   "metadata": {},
   "outputs": [
    {
     "name": "stdout",
     "output_type": "stream",
     "text": [
      "Acceptance HUG: 44.47%\n",
      "Acceptance THUG: 43.10%\n"
     ]
    },
    {
     "name": "stderr",
     "output_type": "stream",
     "text": [
      "/Users/maurocamara/Documents/University/ManifoldSampling/g_and_k_functions.py:176: RuntimeWarning: overflow encountered in exp\n",
      "  8 * b * (z**2) * ((1 + z**2)**k) * exp(g*z) / (5 * (1 + exp(g*z))**2),\n",
      "/Users/maurocamara/Documents/University/ManifoldSampling/g_and_k_functions.py:176: RuntimeWarning: invalid value encountered in multiply\n",
      "  8 * b * (z**2) * ((1 + z**2)**k) * exp(g*z) / (5 * (1 + exp(g*z))**2),\n",
      "/Users/maurocamara/Documents/University/ManifoldSampling/g_and_k_functions.py:177: RuntimeWarning: overflow encountered in exp\n",
      "  b*z*((1+z**2)**k)*(1 + 9*exp(g*z))*log(1 + z**2) / (5*(1 + exp(g*z))),\n",
      "/Users/maurocamara/Documents/University/ManifoldSampling/g_and_k_functions.py:177: RuntimeWarning: invalid value encountered in multiply\n",
      "  b*z*((1+z**2)**k)*(1 + 9*exp(g*z))*log(1 + z**2) / (5*(1 + exp(g*z))),\n",
      "/Users/maurocamara/Documents/University/ManifoldSampling/g_and_k_functions.py:178: RuntimeWarning: overflow encountered in exp\n",
      "  diag(b*((1+z**2)**(k-1))*(((18*k + 9)*(z**2) + 9)*exp(2*g*z) + (8*g*z**3 + (20*k + 10)*z**2 + 8*g*z + 10)*exp(g*z) + (2*k + 1)*z**2 + 1) / (5*(1 + exp(g*z))**2))\n",
      "/Users/maurocamara/Documents/University/ManifoldSampling/g_and_k_functions.py:178: RuntimeWarning: invalid value encountered in add\n",
      "  diag(b*((1+z**2)**(k-1))*(((18*k + 9)*(z**2) + 9)*exp(2*g*z) + (8*g*z**3 + (20*k + 10)*z**2 + 8*g*z + 10)*exp(g*z) + (2*k + 1)*z**2 + 1) / (5*(1 + exp(g*z))**2))\n",
      "/Users/maurocamara/Documents/University/ManifoldSampling/g_and_k_functions.py:175: RuntimeWarning: overflow encountered in exp\n",
      "  (1 + 0.8 * (1 - exp(-g * z)) / (1 + exp(-g * z))) * ((1 + z**2)**k) * z,\n",
      "/Users/maurocamara/Documents/University/ManifoldSampling/g_and_k_functions.py:175: RuntimeWarning: invalid value encountered in true_divide\n",
      "  (1 + 0.8 * (1 - exp(-g * z)) / (1 + exp(-g * z))) * ((1 + z**2)**k) * z,\n",
      "/Users/maurocamara/Documents/University/ManifoldSampling/g_and_k_functions.py:178: RuntimeWarning: invalid value encountered in multiply\n",
      "  diag(b*((1+z**2)**(k-1))*(((18*k + 9)*(z**2) + 9)*exp(2*g*z) + (8*g*z**3 + (20*k + 10)*z**2 + 8*g*z + 10)*exp(g*z) + (2*k + 1)*z**2 + 1) / (5*(1 + exp(g*z))**2))\n",
      "/Users/maurocamara/Documents/University/ManifoldSampling/g_and_k_functions.py:157: RuntimeWarning: overflow encountered in exp\n",
      "  return a + b*(1 + 0.8 * (1 - exp(-g * z)) / (1 + exp(-g * z))) * ((1 + z**2)**k) * z\n",
      "/Users/maurocamara/Documents/University/ManifoldSampling/g_and_k_functions.py:157: RuntimeWarning: invalid value encountered in true_divide\n",
      "  return a + b*(1 + 0.8 * (1 - exp(-g * z)) / (1 + exp(-g * z))) * ((1 + z**2)**k) * z\n"
     ]
    },
    {
     "name": "stdout",
     "output_type": "stream",
     "text": [
      "Acceptance HMC: 36.90%\n",
      "Acceptance RWM: 29.52%\n"
     ]
    }
   ],
   "source": [
    "sHUG, sTHUG, sHMC, sRWM = plot_at_best_ε(N=50000)"
   ]
  },
  {
   "cell_type": "code",
   "execution_count": 271,
   "id": "fb64df0b",
   "metadata": {},
   "outputs": [
    {
     "data": {
      "image/png": "[encoded data removed]",
      "text/plain": [
       "<Figure size 576x576 with 4 Axes>"
      ]
     },
     "metadata": {},
     "output_type": "display_data"
    }
   ],
   "source": [
    "SMOOTH = 0.3\n",
    "LABELS = ['a', 'b', 'g', 'k']\n",
    "LW = 2\n",
    "FROM = 0\n",
    "fig, ax = plt.subplots(nrows=2, ncols=2, figsize=(8, 8))\n",
    "for i in range(4):\n",
    "    # Pure Hug, QR projection\n",
    "    _ = sns.kdeplot(sHUG[FROM:, i], ax=ax[i // 2, i % 2], bw_method=SMOOTH, label='HUG'.format(acceptances1.mean()), lw=LW)\n",
    "    # Pure Hug, Linear Solver projection\n",
    "    #_ = sns.kdeplot(samples2[:, i], ax=ax[i // 2, i % 2], bw_method=SMOOTH, label='Hug LN {:.1%}'.format(acceptances2.mean()))\n",
    "    # RWM\n",
    "    _ = sns.kdeplot(sRWM[FROM:, i], ax=ax[i // 2, i % 2], bw_method=SMOOTH, label='RWM'.format(acceptances3.mean()), lw=LW)\n",
    "    # HMC \n",
    "    #_ = sns.kdeplot(samples4a[:, i], ax=ax[i // 2, i % 2], bw_method=SMOOTH, label='HMC {:.1%}'.format(acceptances4a.mean()))\n",
    "    _ = sns.kdeplot(sHMC[FROM:, i], ax=ax[i // 2, i % 2], bw_method=SMOOTH, label='HMC'.format(acceptances4_2.mean()), lw=LW)\n",
    "    # THUG, QR projection\n",
    "    _ = sns.kdeplot(sTHUG[FROM:, i], ax=ax[i // 2, i % 2], bw_method=SMOOTH, label='THUG'.format(acceptances5.mean()), lw=LW)\n",
    "    # True\n",
    "    #_ = sns.kdeplot(strueI[:, i], ax=ax[i // 2, i % 2], bw_method=SMOOTH, label='MCMC I {:.1%}'.format(atrueI))\n",
    "    #_ = sns.kdeplot(strueΣ[:, i], ax=ax[i // 2, i % 2], bw_method=SMOOTH, label='MCMC Σ {:.1%}'.format(atrueΣ))\n",
    "    # THUG 0.99 ON TINY EPSILON\n",
    "    #_ = sns.kdeplot(S099[:, i], ax=ax[i // 2, i % 2], bw_method=SMOOTH, label='THUG'.format(AP099/100))\n",
    "    # Prangle samples\n",
    "    _ = sns.kdeplot(prangle_mcmc_samples[:, i], ax=ax[i // 2, i % 2], bw_method=SMOOTH, label='MCMC', lw=LW)\n",
    "    \n",
    "    # Prettify\n",
    "    ax[i // 2, i % 2].axvline(θ0[i], c='k', ls='--')\n",
    "#     ax[i // 2, i % 2].set_xlabel(r'${}$'.format(LABELS[i]), fontsize=20)\n",
    "    # Remove the xlabel if (0, 1) or (1, 1)\n",
    "    if i % 2 == 1:\n",
    "        ax[i // 2, i % 2].set_ylabel(\"\")\n",
    "    \n",
    "    # Set axes limits to the min, max of HUG/THUG\n",
    "    ax[i // 2, i % 2].set_xlim([min(samples1[:, i].min(), samples5[:, i].min())-0.1, max(samples1[:, i].max(), samples5[:, i].max()) + 0.1])\n",
    "    ax[i // 2, i % 2].set_ylabel(\"\")\n",
    "    ax[i // 2, i % 2].set_yticks([])\n",
    "    ax[i // 2, i % 2].set_xticks([])\n",
    "    x_pos = 0.1 if (i // 2 == i % 2) else 0.9\n",
    "    ax[i // 2, i % 2].text(x_pos, 0.9, \"{}\".format(LABELS[i]), transform=ax[i //2, i % 2].transAxes, fontsize=25, fontfamily='STIXGeneral')\n",
    "#fig.suptitle(r'$\\epsilon$ = {}'.format(ϵ), fontsize=20)\n",
    "plt.tight_layout()\n",
    "plt.legend(prop={'family':'STIXGeneral', 'size':18})\n",
    "#plt.savefig(\"figures/gk_eps10m3.png\", dpi=300)\n",
    "plt.savefig(\"figures/gk_best_epsilon.png\", dpi=300)\n",
    "plt.show()"
   ]
  },
  {
   "cell_type": "markdown",
   "id": "fc3f4c84",
   "metadata": {},
   "source": [
    "# Derivative of G and K logposterior for HMC"
   ]
  },
  {
   "cell_type": "markdown",
   "id": "6e7df34f",
   "metadata": {},
   "source": [
    "Let's compute the dV/dq needed for HMC. We assume normal parameter prior and normal kernel. First, we need to write\n",
    "$$\n",
    "V(\\xi) = -\\log p_\\epsilon(\\xi\\mid y)\n",
    "$$\n",
    "where $p_\\epsilon(\\xi\\mid y)$ is the augmented ABC posterior. Like all ABC problems, this can be written as\n",
    "$$\n",
    "        V(\\xi) = -\\log p(\\xi) - \\log k_\\epsilon(f(\\xi), y^*)\n",
    "$$\n",
    "In our case the kernel is normal, that is\n",
    "$$\n",
    "    k_\\epsilon(f(\\xi), y^*) = \\frac{1}{\\sqrt{2\\pi}}\\exp\\left\\{-\\frac{1}{2}(f(\\xi) - y^*)^\\top(f(\\xi) - y^*)\\right\\}\n",
    "$$\n",
    "the negative log kernel is therefore\n",
    "$$\n",
    "-\\log k_\\epsilon(f(\\xi), y^*) = \\frac{1}{2}(f(\\xi) - y^*)^\\top(f(\\xi) - y^*)\n",
    "$$\n",
    "and its gradient with respect to $\\xi$ is\n",
    "$$\n",
    "    \\nabla_\\xi \\left[-\\log k_\\epsilon(f(\\xi), y^*)\\right] = (f(\\xi) - y^*) J_f(\\xi)\n",
    "$$\n",
    "well actually, the one above is the Jacobian, we'd likely need the transpose of this (ish)\n",
    "$$\n",
    "J_f(\\xi)^\\top (f(\\xi) - y^*) \\in\\mathbb{R}^{d\\times 1}\n",
    "$$\n",
    "If we have set `normal_prior_scale=s` and centered at `5.0` then the prior is essentially a `d`-dimensional MVN with these parameters\n",
    "$$\n",
    "\\mu = ([5., 5., 5., 5., 0.0, \\ldots, 0.0])\n",
    "$$\n",
    "$$\n",
    "\\Sigma = \\begin{pmatrix}\n",
    "    s^2 I_4 & 0_{4\\times m} \\\\\n",
    "    0_{m\\times 4} & I_m \\\\\n",
    "\\end{pmatrix}\\in\\mathbb{R}^{d\\times d}\n",
    "$$\n",
    "the negative log-density is therefore\n",
    "$$\n",
    "\\frac{1}{2}(\\xi - \\mu)^\\top \\Sigma^{-1} (\\xi - \\mu)\n",
    "$$\n",
    "Its derivative with respect to $\\xi$ is the usual\n",
    "$$\n",
    "\\Sigma^{-1}(\\xi - \\mu)\n",
    "$$"
   ]
  },
  {
   "cell_type": "markdown",
   "id": "71f5a7f6",
   "metadata": {},
   "source": [
    "# Reparametrization of G and K without uniform on $\\theta$"
   ]
  },
  {
   "cell_type": "markdown",
   "id": "ec92c580",
   "metadata": {},
   "source": [
    "The prior over the g-and-k parameters is\n",
    "$$\n",
    "p(\\theta) = \\mathcal{U}([0, 10]^4).\n",
    "$$\n",
    "I would like to instead reparametrize the g-and-k distribution using some new parameters $\\vartheta$ which have a standard normal prior\n",
    "$$\n",
    "p(\\vartheta) = \\mathcal{N}(0, I_4).\n",
    "$$\n",
    "The change of variable formula says that the new prior will be\n",
    "$$\n",
    "p_\\vartheta(\\vartheta) = p_\\theta(F^{-1}(\\vartheta))|J_{F^{-1}}(\\vartheta)|\n",
    "$$\n",
    "where $\\vartheta = F(\\theta)$. The new posterior then will be \n",
    "$$\n",
    "p(\\vartheta, z \\mid y) \\propto \\delta_{\\overline{f}(\\vartheta, z)}(y) p(z) p_\\theta(F^{-1}(\\vartheta))|J_{F^{-1}}(\\vartheta)|\n",
    "$$\n",
    "where $\\overline{f}(\\vartheta, z) = f(F^{-1}(\\vartheta), z)$. The ABC posterior then will be\n",
    "$$\n",
    "p_\\epsilon(\\vartheta, z \\mid y) \\propto k_\\epsilon(\\|f(F^{-1}(\\vartheta), z) - y\\|) p(z) p_\\theta(F^{-1}(\\vartheta))|J_{F^{-1}}(\\vartheta)|.\n",
    "$$\n",
    "From the inverse transform sampling theorem we know that if $\\theta_i\\sim \\mathcal{U}([0, 10])$ then\n",
    "$$\n",
    "\\Phi^{-1}\\left(\\frac{\\theta_i}{10}\\right) = \\vartheta_i \\sim \\mathcal{N}(0, I)\n",
    "$$\n",
    "where $\\Phi$ is the CDF of a standard normal distribution. This tells us that\n",
    "$$\n",
    "\\theta_i = F^{-1}(\\vartheta_i) = 10 \\Phi(\\vartheta_i).\n",
    "$$\n",
    "Since all the components of $\\theta$ are IID then we know that \n",
    "$$\n",
    "\\theta = 10\\cdot (\\Phi(\\vartheta_1), \\Phi(\\vartheta_2), \\Phi(\\vartheta_3), \\Phi(\\vartheta_4))^\\top,\n",
    "$$\n",
    "which we write in vectorized form as\n",
    "$$\n",
    "\\theta = 10\\mathbf{\\Phi}(\\vartheta)\n",
    "$$\n",
    "Now the Jacobian of this transformation is\n",
    "$$\n",
    "J_{F^{-1}}(\\vartheta) = \n",
    "10 \\begin{pmatrix}\n",
    "    \\partial_{\\vartheta_1} \\Phi(\\vartheta_1) & 0 & 0 & 0 \\\\\n",
    "    0 & \\partial_{\\vartheta_2} \\Phi(\\vartheta_2) & 0 & 0 \\\\\n",
    "    0 & 0 & \\partial_{\\vartheta_3} \\Phi(\\vartheta_3) & 0 \\\\\n",
    "    0 & 0 & 0 & \\partial_{\\vartheta_4} \\Phi(\\vartheta_4) \\\\\n",
    "\\end{pmatrix} = \n",
    "10 \\begin{pmatrix}\n",
    "    \\mathcal{N}(\\vartheta_1 \\mid 0, 1) & 0 & 0 & 0 \\\\\n",
    "    0 & \\mathcal{N}(\\vartheta_2 \\mid 0, 1) & 0 & 0 \\\\\n",
    "    0 & 0 & \\mathcal{N}(\\vartheta_3 \\mid 0, 1) & 0 \\\\\n",
    "    0 & 0 & 0 & \\mathcal{N}(\\vartheta_4 \\mid 0, 1) \\\\\n",
    "\\end{pmatrix}\n",
    "$$\n",
    "Now the determinant of this matrix is \n",
    "$$\n",
    "\\text{det}(J_{F^{-1}}(\\vartheta)) = 10^4 \\cdot \\prod_{i=1}^4 \\mathcal{N}(\\vartheta_i \\mid 0, 1)\n",
    "$$\n",
    "- $f:\\mathbb{R}^{m + 4}\\to\\mathbb{R}^{m}$\n",
    "- $J_f\\in\\mathbb{R}^{m\\times (m + 4)}$\n",
    "- $f_r:\\mathbb{R}^{m + 4}\\to\\mathbb{R}^m$\n",
    "- $J_{f_r}\\in\\mathbb{R}^{m\\times (m+4)}$\n",
    "- $F^{-1}:\\mathbb{R}^4\\to\\mathbb{R}^4$\n",
    "- $J_{F^{-1}}\\in\\mathbb{R}^{4\\times 4}$\n",
    "All we gotta do is to pad\n",
    "$$\n",
    "\\overline{J}_{F^{-1}} = \n",
    "\\begin{bmatrix}\n",
    "    J_{F^{-1}} & 0_{4\\times m} \\\\\n",
    "    0_{m\\times 4} & I_{m\\times m}\n",
    "\\end{bmatrix}\n",
    "\\in\\mathbb{R}^{(m+4)\\times(m+4)}\n",
    "$$\n",
    "Then the Jacobian of $f_r$ is\n",
    "$$\n",
    "J_{f_r} = J_f \\overline{J}_{F^{-1}}\n",
    "$$\n",
    "and the transpose jacobian is\n",
    "$$\n",
    "J_{f_r}^\\top = \\overline{J}_{F^{-1}}^\\top J_f^\\top\n",
    "$$"
   ]
  },
  {
   "cell_type": "markdown",
   "id": "c63e2ce0",
   "metadata": {},
   "source": [
    "# Computational Cost"
   ]
  },
  {
   "cell_type": "markdown",
   "id": "40fc5925",
   "metadata": {},
   "source": [
    "- HUG: $N + 1 + BN$\n",
    "- HMC: $N$\n",
    "- RWM: "
   ]
  },
  {
   "cell_type": "code",
   "execution_count": 129,
   "id": "f0bf87ae",
   "metadata": {},
   "outputs": [
    {
     "name": "stdout",
     "output_type": "stream",
     "text": [
      "Seeds:  [6217 4067 2300 3903 2951]\n"
     ]
    }
   ],
   "source": [
    "# Set P random seeds\n",
    "P = 5\n",
    "seeds = randint(low=1000, high=9999, size=P)\n",
    "print('Seeds: ', seeds)\n",
    "prior_to_generate_data = 'uniform'\n",
    "\n",
    "# Generate datasets (ϵ is not important here)\n",
    "def generate_p_datasets(seeds):\n",
    "    \"\"\"Generates M dataset. ϵ used is not important.\"\"\"\n",
    "    ystars = zeros((len(seeds), n_latents))\n",
    "    for p, seed in enumerate(seeds):\n",
    "        GK     = GandK(m=n_latents, parameter_prior=prior_to_generate_data, kernel='normal', normal_prior_scale=nps)\n",
    "        y_star = GK.data_generator(θ0, seed=seed)\n",
    "        ystars[p, :] = y_star\n",
    "    return ystars\n",
    "ystars = generate_p_datasets(seeds)\n",
    "\n",
    "# Write datasets to a file\n",
    "if prior_to_generate_data == 'normal':\n",
    "    file_name = 'ystars_gk_normal.npy'\n",
    "elif prior_to_generate_data == 'beta': \n",
    "    file_name = 'ystars_gk_beta.npy'\n",
    "elif prior_to_generate_data == 'uniform':\n",
    "    file_name = 'ystars_gk_uniform.npy'\n",
    "save(file_name, ystars)"
   ]
  },
  {
   "cell_type": "code",
   "execution_count": 130,
   "id": "f39d82e5",
   "metadata": {},
   "outputs": [],
   "source": [
    "# Load saved datasets\n",
    "ystars = np.load(file_name)"
   ]
  },
  {
   "cell_type": "code",
   "execution_count": 131,
   "id": "c6320a5a",
   "metadata": {},
   "outputs": [],
   "source": [
    "# List of ϵ for which we want to compute the computational cost\n",
    "ϵ_list = [10.0, 0.1, 0.0001] #[10.0, 1.0, 0.1, 0.01, 0.001, 0.0001]"
   ]
  },
  {
   "cell_type": "code",
   "execution_count": 138,
   "id": "4cc6e228",
   "metadata": {},
   "outputs": [],
   "source": [
    "θ_prangle = prangle_mcmc_samples.mean(axis=0)\n",
    "# Function to run THUG P times, where P is the number of random seeds\n",
    "def run_p_times(ϵ_list, ystars, alg='THUG', α=0.0, T=T, B=B, N=N, q=q, prior='normal', tol=1e-7, θ0=θ_prangle):\n",
    "    \"\"\"Runs THUG for p=len(seeds) times.\"\"\"\n",
    "    assert alg in ['THUG', 'RWM', 'HMC']\n",
    "    assert prior in ['normal', 'uniform', 'beta']\n",
    "    P = ystars.shape[0]\n",
    "    OUT = {p: {ϵ: {'ESS': 0, 'CC': 0, 'AP': 0} for ϵ in ϵ_list} for p in range(P)}\n",
    "    # I need an average computational cost for each ϵ\n",
    "    AVG_CC  = {ϵ: 0.0 for ϵ in ϵ_list}\n",
    "    N_VALID = {ϵ: 0.0 for ϵ in ϵ_list}\n",
    "    VAR_CC  = {ϵ: 0.0 for ϵ in ϵ_list}\n",
    "    # MSE, RMSE\n",
    "    MODES   = {p: {ϵ: 0.0 for ϵ in ϵ_list} for p in range(P)}\n",
    "    SQERR   = {p: {ϵ: 0.0 for ϵ in ϵ_list} for p in range(P)}\n",
    "    MSE     = {ϵ: 0.0 for ϵ in ϵ_list}\n",
    "    RMSE    = {ϵ: 0.0 for ϵ in ϵ_list}\n",
    "    VAR_SE  = {ϵ: 0.0 for ϵ in ϵ_list}\n",
    "    # For each dataset, go through each tolerance\n",
    "    for p in range(P):\n",
    "        for ϵ_ix, ϵ in enumerate(ϵ_list):\n",
    "            # Generate GK object\n",
    "            GK = GandK(m=n_latents, epsilon=ϵ, parameter_prior=prior, kernel='normal', normal_prior_scale=nps)\n",
    "            GK.set_ystar(ystars[p, :])\n",
    "            # Find a point on the manifold for ystar only for the first epsilon, to save time.\n",
    "            if ϵ_ix == 0:\n",
    "                ξ0 = GK.find_point_on_manifold(max_iter=10000)\n",
    "            if alg == 'THUG':\n",
    "                # Sample HUG/THUG\n",
    "                SAMPLES, AP, NG = HugTangentialMultivariate(ξ0, T, B, N, α, q, GK.log_abc_posterior, GK.Jf, method='qr', return_n_grad=True)\n",
    "            elif alg == 'RWM':\n",
    "                SAMPLES, AP = RWM(ξ0, T/B, N, GK.log_abc_posterior)\n",
    "            elif alg == 'HMC':\n",
    "                HMCsampler                = HMC(ξ0, N, eye(d), T, T/B)\n",
    "                HMCsampler.neg_log_target = GK.V\n",
    "                HMCsampler.dVdq          = GK.dVdξ\n",
    "                SAMPLES, AP = HMCsampler.sample()\n",
    "                NG          = HMCsampler.Ngrad\n",
    "            # Compute RMSE\n",
    "            MODES[p][ϵ] = SAMPLES[:, :4].mean(axis=0)\n",
    "            SQERR[p][ϵ] = (MODES[p][ϵ] - θ0)**2\n",
    "            MSE[ϵ]     += SQERR[p][ϵ] / P # For now, this is just MSE\n",
    "            # Compute ESS and Computational Cost\n",
    "            ESS  = ESS_univariate(np.apply_along_axis(GK.log_abc_posterior, 1, SAMPLES))\n",
    "            if alg == 'RWM':\n",
    "                COMP_COST = log10((N + 1) / ESS)\n",
    "            elif alg == 'THUG' or alg == 'HMC':\n",
    "                COMP_COST = log10((NG + N + 1) / ESS)\n",
    "            # Store results\n",
    "            OUT[p][ϵ]['ESS'] = ESS\n",
    "            OUT[p][ϵ]['CC']  = COMP_COST\n",
    "            print('Epsilon: ', ϵ, ' AP: ', AP.mean() * 100)\n",
    "            OUT[p][ϵ]['AP']  = AP.mean() * 100\n",
    "            if OUT[p][ϵ]['AP'] == 0.0:\n",
    "                print('Run: ', p, ' Epsilon: ', ϵ, ' AP zero.')\n",
    "            AVG_CC[ϵ]        += OUT[p][ϵ]['CC'] / P\n",
    "    # Transform MSE to RMSE\n",
    "    RMSE = {ϵ: np.sqrt(MSE[ϵ]) for ϵ in ϵ_list}\n",
    "    # Now compute the variance \n",
    "    for p in range(P):\n",
    "        for ϵ in ϵ_list:\n",
    "            # Compute Variance of Computational Cost\n",
    "            VAR_CC[ϵ] += (AVG_CC[ϵ] - OUT[p][ϵ]['CC'])**2 / (P - 1) \n",
    "            # Compute Variance of squared error\n",
    "            VAR_SE[ϵ] += (MSE[ϵ] - SQERR[p][ϵ])**2 / (P - 1)\n",
    "            \n",
    "    # If the variance is zero, then we set the computational cost to nan\n",
    "    for ϵ in ϵ_list:\n",
    "        if VAR_CC[ϵ] < tol:\n",
    "            VAR_CC[ϵ] = np.nan\n",
    "            AVG_CC[ϵ] = np.nan\n",
    "            \n",
    "    return OUT, AVG_CC, VAR_CC, RMSE, MSE, VAR_SE"
   ]
  },
  {
   "cell_type": "code",
   "execution_count": 146,
   "id": "fda9b0fa",
   "metadata": {},
   "outputs": [],
   "source": [
    "N_SAMPLES = 10000"
   ]
  },
  {
   "cell_type": "code",
   "execution_count": 147,
   "id": "7a93b07c",
   "metadata": {
    "scrolled": true
   },
   "outputs": [
    {
     "name": "stdout",
     "output_type": "stream",
     "text": [
      "Epsilon:  10.0  AP:  50.949999999999996\n",
      "Epsilon:  0.1  AP:  51.15\n",
      "Epsilon:  0.0001  AP:  0.0\n",
      "Run:  0  Epsilon:  0.0001  AP zero.\n",
      "Epsilon:  10.0  AP:  0.04\n",
      "Epsilon:  0.1  AP:  0.0\n",
      "Run:  1  Epsilon:  0.1  AP zero.\n",
      "Epsilon:  0.0001  AP:  0.0\n",
      "Run:  1  Epsilon:  0.0001  AP zero.\n",
      "Epsilon:  10.0  AP:  50.89\n",
      "Epsilon:  0.1  AP:  50.91\n",
      "Epsilon:  0.0001  AP:  0.03\n",
      "Epsilon:  10.0  AP:  50.94\n",
      "Epsilon:  0.1  AP:  51.43\n",
      "Epsilon:  0.0001  AP:  0.0\n",
      "Run:  3  Epsilon:  0.0001  AP zero.\n",
      "Epsilon:  10.0  AP:  50.4\n",
      "Epsilon:  0.1  AP:  49.86\n",
      "Epsilon:  0.0001  AP:  0.0\n",
      "Run:  4  Epsilon:  0.0001  AP zero.\n"
     ]
    }
   ],
   "source": [
    "out_hug, avg_cc_hug, var_cc_hug, rmse_hug, mse_hug, varse_hug = run_p_times(ϵ_list, ystars, N=N_SAMPLES, prior=prior_to_generate_data)"
   ]
  },
  {
   "cell_type": "code",
   "execution_count": 148,
   "id": "7448778f",
   "metadata": {},
   "outputs": [
    {
     "name": "stdout",
     "output_type": "stream",
     "text": [
      "Epsilon:  10.0  AP:  63.88\n",
      "Epsilon:  0.1  AP:  63.949999999999996\n",
      "Epsilon:  0.0001  AP:  41.13\n",
      "Epsilon:  10.0  AP:  62.99\n",
      "Epsilon:  0.1  AP:  64.89\n",
      "Epsilon:  0.0001  AP:  50.17\n",
      "Epsilon:  10.0  AP:  64.27000000000001\n",
      "Epsilon:  0.1  AP:  64.81\n",
      "Epsilon:  0.0001  AP:  48.6\n",
      "Epsilon:  10.0  AP:  61.370000000000005\n",
      "Epsilon:  0.1  AP:  66.3\n",
      "Epsilon:  0.0001  AP:  41.959999999999994\n",
      "Epsilon:  10.0  AP:  61.38\n",
      "Epsilon:  0.1  AP:  61.8\n",
      "Epsilon:  0.0001  AP:  43.7\n"
     ]
    }
   ],
   "source": [
    "out_thug, avg_cc_thug, var_cc_thug, rmse_thug, mse_thug, varse_thug = run_p_times(ϵ_list, ystars, α=0.99, N=N_SAMPLES, prior=prior_to_generate_data)"
   ]
  },
  {
   "cell_type": "code",
   "execution_count": 149,
   "id": "2de0313d",
   "metadata": {},
   "outputs": [
    {
     "data": {
      "text/plain": [
       "{10.0: array([ 1.91310205,  0.40879572,  0.50396733, 15.23445685]),\n",
       " 0.1: array([ 1.92480046,  0.42994726,  1.80631414, 14.52752031]),\n",
       " 0.0001: array([ 2.76065512,  0.74411495,  1.33110922, 14.7617452 ])}"
      ]
     },
     "execution_count": 149,
     "metadata": {},
     "output_type": "execute_result"
    }
   ],
   "source": [
    "mse_hug"
   ]
  },
  {
   "cell_type": "code",
   "execution_count": 142,
   "id": "54628529",
   "metadata": {},
   "outputs": [
    {
     "data": {
      "text/plain": [
       "{10.0: array([0.00033027, 0.00406299, 0.11137944, 0.00030416]),\n",
       " 0.1: array([0.01498547, 0.01894903, 0.00856053, 0.00044763]),\n",
       " 0.0001: array([2.18819860e-03, 3.06173290e-01, 9.11856862e+00, 1.81237979e+01])}"
      ]
     },
     "execution_count": 142,
     "metadata": {},
     "output_type": "execute_result"
    }
   ],
   "source": [
    "varse_hug"
   ]
  },
  {
   "cell_type": "code",
   "execution_count": 150,
   "id": "309cd756",
   "metadata": {},
   "outputs": [
    {
     "data": {
      "text/plain": [
       "{10.0: array([0.03016501, 0.10887419, 0.93984378, 0.01331072]),\n",
       " 0.1: array([0.02462383, 0.09127773, 0.17661549, 0.00826219]),\n",
       " 0.0001: array([0.04110095, 0.12240964, 0.22146822, 0.01138671])}"
      ]
     },
     "execution_count": 150,
     "metadata": {},
     "output_type": "execute_result"
    }
   ],
   "source": [
    "mse_thug"
   ]
  },
  {
   "cell_type": "code",
   "execution_count": 151,
   "id": "2ae457e5",
   "metadata": {},
   "outputs": [
    {
     "data": {
      "text/plain": [
       "{10.0: array([3.45724576e-03, 5.95223321e-03, 5.74425912e-01, 2.33479025e-04]),\n",
       " 0.1: array([2.23563536e-03, 4.04359221e-03, 1.30607827e-02, 8.94479302e-05]),\n",
       " 0.0001: array([0.00771542, 0.00496668, 0.04913902, 0.00020659])}"
      ]
     },
     "execution_count": 151,
     "metadata": {},
     "output_type": "execute_result"
    }
   ],
   "source": [
    "varse_thug"
   ]
  },
  {
   "cell_type": "code",
   "execution_count": 128,
   "id": "650bf702",
   "metadata": {},
   "outputs": [
    {
     "name": "stdout",
     "output_type": "stream",
     "text": [
      "48.699999999999996\n",
      "51.0\n",
      "49.2\n",
      "51.2\n",
      "50.9\n",
      "38.2\n",
      "48.9\n",
      "48.1\n",
      "50.4\n",
      "51.800000000000004\n",
      "50.0\n",
      "51.5\n",
      "52.5\n",
      "49.9\n",
      "50.0\n",
      "53.7\n",
      "48.4\n",
      "49.9\n",
      "0.0\n",
      "49.9\n"
     ]
    }
   ],
   "source": [
    "for p in range(P):\n",
    "    print(out_hug[p][10.0]['AP'])"
   ]
  },
  {
   "cell_type": "code",
   "execution_count": 121,
   "id": "723704db",
   "metadata": {},
   "outputs": [
    {
     "data": {
      "text/plain": [
       "{10.0: array([1.54715916e-01, 2.02594361e-01, 3.71282604e+01, 5.87266145e+02]),\n",
       " 0.1: array([8.89772306e-02, 2.14016621e-01, 3.18397706e+00, 5.90228490e+02]),\n",
       " 0.001: array([8.69387927e-02, 2.16557141e-01, 4.16758736e+01, 6.04639703e+02]),\n",
       " 0.0001: array([1.27887794e-01, 3.86940483e-01, 4.28788614e+01, 6.70651031e+02])}"
      ]
     },
     "execution_count": 121,
     "metadata": {},
     "output_type": "execute_result"
    }
   ],
   "source": [
    "varse_thug"
   ]
  },
  {
   "cell_type": "code",
   "execution_count": null,
   "id": "cb816cf7",
   "metadata": {},
   "outputs": [],
   "source": []
  },
  {
   "cell_type": "code",
   "execution_count": null,
   "id": "c0d31f3c",
   "metadata": {},
   "outputs": [],
   "source": []
  },
  {
   "cell_type": "code",
   "execution_count": 241,
   "id": "0d2a09ed",
   "metadata": {},
   "outputs": [],
   "source": [
    "out_rwm, avg_cc_rwm, var_cc_rwm, rmse_rwm = run_p_times(ϵ_list, ystars, alg='RWM', N=N_SAMPLES, prior=prior_to_generate_data)"
   ]
  },
  {
   "cell_type": "code",
   "execution_count": 222,
   "id": "163e38ce",
   "metadata": {
    "scrolled": true
   },
   "outputs": [
    {
     "name": "stderr",
     "output_type": "stream",
     "text": [
      "/Users/maurocamara/Documents/University/ManifoldSampling/g_and_k_functions.py:170: RuntimeWarning: overflow encountered in exp\n",
      "  (1 + 0.8 * (1 - exp(-g * z)) / (1 + exp(-g * z))) * ((1 + z**2)**k) * z,\n",
      "/Users/maurocamara/Documents/University/ManifoldSampling/g_and_k_functions.py:170: RuntimeWarning: invalid value encountered in true_divide\n",
      "  (1 + 0.8 * (1 - exp(-g * z)) / (1 + exp(-g * z))) * ((1 + z**2)**k) * z,\n",
      "/Users/maurocamara/Documents/University/ManifoldSampling/g_and_k_functions.py:171: RuntimeWarning: overflow encountered in exp\n",
      "  8 * b * (z**2) * ((1 + z**2)**k) * exp(g*z) / (5 * (1 + exp(g*z))**2),\n",
      "/Users/maurocamara/Documents/University/ManifoldSampling/g_and_k_functions.py:171: RuntimeWarning: invalid value encountered in multiply\n",
      "  8 * b * (z**2) * ((1 + z**2)**k) * exp(g*z) / (5 * (1 + exp(g*z))**2),\n",
      "/Users/maurocamara/Documents/University/ManifoldSampling/g_and_k_functions.py:172: RuntimeWarning: overflow encountered in exp\n",
      "  b*z*((1+z**2)**k)*(1 + 9*exp(g*z))*log(1 + z**2) / (5*(1 + exp(g*z))),\n",
      "/Users/maurocamara/Documents/University/ManifoldSampling/g_and_k_functions.py:172: RuntimeWarning: invalid value encountered in multiply\n",
      "  b*z*((1+z**2)**k)*(1 + 9*exp(g*z))*log(1 + z**2) / (5*(1 + exp(g*z))),\n",
      "/Users/maurocamara/Documents/University/ManifoldSampling/g_and_k_functions.py:173: RuntimeWarning: overflow encountered in exp\n",
      "  diag(b*((1+z**2)**(k-1))*(((18*k + 9)*(z**2) + 9)*exp(2*g*z) + (8*g*z**3 + (20*k + 10)*z**2 + 8*g*z + 10)*exp(g*z) + (2*k + 1)*z**2 + 1) / (5*(1 + exp(g*z))**2))\n",
      "/Users/maurocamara/Documents/University/ManifoldSampling/g_and_k_functions.py:173: RuntimeWarning: invalid value encountered in add\n",
      "  diag(b*((1+z**2)**(k-1))*(((18*k + 9)*(z**2) + 9)*exp(2*g*z) + (8*g*z**3 + (20*k + 10)*z**2 + 8*g*z + 10)*exp(g*z) + (2*k + 1)*z**2 + 1) / (5*(1 + exp(g*z))**2))\n",
      "/Users/maurocamara/Documents/University/ManifoldSampling/g_and_k_functions.py:173: RuntimeWarning: invalid value encountered in multiply\n",
      "  diag(b*((1+z**2)**(k-1))*(((18*k + 9)*(z**2) + 9)*exp(2*g*z) + (8*g*z**3 + (20*k + 10)*z**2 + 8*g*z + 10)*exp(g*z) + (2*k + 1)*z**2 + 1) / (5*(1 + exp(g*z))**2))\n",
      "/Users/maurocamara/Documents/University/ManifoldSampling/g_and_k_functions.py:152: RuntimeWarning: overflow encountered in exp\n",
      "  return a + b*(1 + 0.8 * (1 - exp(-g * z)) / (1 + exp(-g * z))) * ((1 + z**2)**k) * z\n",
      "/Users/maurocamara/Documents/University/ManifoldSampling/g_and_k_functions.py:152: RuntimeWarning: invalid value encountered in true_divide\n",
      "  return a + b*(1 + 0.8 * (1 - exp(-g * z)) / (1 + exp(-g * z))) * ((1 + z**2)**k) * z\n",
      "/Users/maurocamara/Documents/University/ManifoldSampling/g_and_k_functions.py:171: RuntimeWarning: overflow encountered in square\n",
      "  8 * b * (z**2) * ((1 + z**2)**k) * exp(g*z) / (5 * (1 + exp(g*z))**2),\n",
      "/Users/maurocamara/Documents/University/ManifoldSampling/g_and_k_functions.py:173: RuntimeWarning: overflow encountered in square\n",
      "  diag(b*((1+z**2)**(k-1))*(((18*k + 9)*(z**2) + 9)*exp(2*g*z) + (8*g*z**3 + (20*k + 10)*z**2 + 8*g*z + 10)*exp(g*z) + (2*k + 1)*z**2 + 1) / (5*(1 + exp(g*z))**2))\n",
      "/Users/maurocamara/Documents/University/ManifoldSampling/g_and_k_functions.py:173: RuntimeWarning: invalid value encountered in true_divide\n",
      "  diag(b*((1+z**2)**(k-1))*(((18*k + 9)*(z**2) + 9)*exp(2*g*z) + (8*g*z**3 + (20*k + 10)*z**2 + 8*g*z + 10)*exp(g*z) + (2*k + 1)*z**2 + 1) / (5*(1 + exp(g*z))**2))\n",
      "/Users/maurocamara/Documents/University/ManifoldSampling/g_and_k_functions.py:171: RuntimeWarning: invalid value encountered in true_divide\n",
      "  8 * b * (z**2) * ((1 + z**2)**k) * exp(g*z) / (5 * (1 + exp(g*z))**2),\n",
      "/Users/maurocamara/Documents/University/ManifoldSampling/g_and_k_functions.py:172: RuntimeWarning: invalid value encountered in true_divide\n",
      "  b*z*((1+z**2)**k)*(1 + 9*exp(g*z))*log(1 + z**2) / (5*(1 + exp(g*z))),\n",
      "/Users/maurocamara/Documents/University/ManifoldSampling/g_and_k_functions.py:173: RuntimeWarning: overflow encountered in multiply\n",
      "  diag(b*((1+z**2)**(k-1))*(((18*k + 9)*(z**2) + 9)*exp(2*g*z) + (8*g*z**3 + (20*k + 10)*z**2 + 8*g*z + 10)*exp(g*z) + (2*k + 1)*z**2 + 1) / (5*(1 + exp(g*z))**2))\n",
      "/Users/maurocamara/Documents/University/ManifoldSampling/g_and_k_functions.py:172: RuntimeWarning: overflow encountered in multiply\n",
      "  b*z*((1+z**2)**k)*(1 + 9*exp(g*z))*log(1 + z**2) / (5*(1 + exp(g*z))),\n",
      "/Users/maurocamara/Documents/University/ManifoldSampling/g_and_k_functions.py:171: RuntimeWarning: overflow encountered in multiply\n",
      "  8 * b * (z**2) * ((1 + z**2)**k) * exp(g*z) / (5 * (1 + exp(g*z))**2),\n",
      "/Users/maurocamara/Documents/University/ManifoldSampling/HMC/static_hmc.py:73: RuntimeWarning: invalid value encountered in matmul\n",
      "  q = q + self.epsilon * (self.Minv @ p)\n",
      "/Users/maurocamara/Documents/University/ManifoldSampling/g_and_k_functions.py:170: RuntimeWarning: overflow encountered in power\n",
      "  (1 + 0.8 * (1 - exp(-g * z)) / (1 + exp(-g * z))) * ((1 + z**2)**k) * z,\n",
      "/Users/maurocamara/Documents/University/ManifoldSampling/g_and_k_functions.py:171: RuntimeWarning: overflow encountered in power\n",
      "  8 * b * (z**2) * ((1 + z**2)**k) * exp(g*z) / (5 * (1 + exp(g*z))**2),\n",
      "/Users/maurocamara/Documents/University/ManifoldSampling/g_and_k_functions.py:172: RuntimeWarning: overflow encountered in power\n",
      "  b*z*((1+z**2)**k)*(1 + 9*exp(g*z))*log(1 + z**2) / (5*(1 + exp(g*z))),\n",
      "/Users/maurocamara/Documents/University/ManifoldSampling/g_and_k_functions.py:173: RuntimeWarning: overflow encountered in power\n",
      "  diag(b*((1+z**2)**(k-1))*(((18*k + 9)*(z**2) + 9)*exp(2*g*z) + (8*g*z**3 + (20*k + 10)*z**2 + 8*g*z + 10)*exp(g*z) + (2*k + 1)*z**2 + 1) / (5*(1 + exp(g*z))**2))\n",
      "/Users/maurocamara/Documents/University/ManifoldSampling/g_and_k_functions.py:152: RuntimeWarning: overflow encountered in power\n",
      "  return a + b*(1 + 0.8 * (1 - exp(-g * z)) / (1 + exp(-g * z))) * ((1 + z**2)**k) * z\n",
      "/Users/maurocamara/Documents/University/ManifoldSampling/g_and_k_functions.py:229: RuntimeWarning: overflow encountered in matmul\n",
      "  dkdξ = self.Jf_transpose(ξ) @ (self.f(ξ) - self.ystar) / (self.epsilon**2)\n",
      "/Users/maurocamara/Documents/University/ManifoldSampling/g_and_k_functions.py:229: RuntimeWarning: invalid value encountered in matmul\n",
      "  dkdξ = self.Jf_transpose(ξ) @ (self.f(ξ) - self.ystar) / (self.epsilon**2)\n",
      "/Users/maurocamara/Documents/University/ManifoldSampling/HMC/static_hmc.py:68: RuntimeWarning: invalid value encountered in matmul\n",
      "  q = q + self.epsilon * (self.Minv @ p)\n",
      "/Users/maurocamara/Documents/University/ManifoldSampling/g_and_k_functions.py:170: RuntimeWarning: overflow encountered in multiply\n",
      "  (1 + 0.8 * (1 - exp(-g * z)) / (1 + exp(-g * z))) * ((1 + z**2)**k) * z,\n",
      "/Users/maurocamara/Documents/University/ManifoldSampling/g_and_k_functions.py:152: RuntimeWarning: overflow encountered in multiply\n",
      "  return a + b*(1 + 0.8 * (1 - exp(-g * z)) / (1 + exp(-g * z))) * ((1 + z**2)**k) * z\n",
      "/Users/maurocamara/Documents/University/ManifoldSampling/g_and_k_functions.py:170: RuntimeWarning: overflow encountered in square\n",
      "  (1 + 0.8 * (1 - exp(-g * z)) / (1 + exp(-g * z))) * ((1 + z**2)**k) * z,\n",
      "/Users/maurocamara/Documents/University/ManifoldSampling/g_and_k_functions.py:172: RuntimeWarning: overflow encountered in square\n",
      "  b*z*((1+z**2)**k)*(1 + 9*exp(g*z))*log(1 + z**2) / (5*(1 + exp(g*z))),\n",
      "/Users/maurocamara/Documents/University/ManifoldSampling/g_and_k_functions.py:152: RuntimeWarning: overflow encountered in square\n",
      "  return a + b*(1 + 0.8 * (1 - exp(-g * z)) / (1 + exp(-g * z))) * ((1 + z**2)**k) * z\n",
      "/Users/maurocamara/Documents/University/ManifoldSampling/g_and_k_functions.py:229: RuntimeWarning: overflow encountered in true_divide\n",
      "  dkdξ = self.Jf_transpose(ξ) @ (self.f(ξ) - self.ystar) / (self.epsilon**2)\n",
      "/Users/maurocamara/Documents/University/ManifoldSampling/g_and_k_functions.py:171: RuntimeWarning: overflow encountered in square\n",
      "  8 * b * (z**2) * ((1 + z**2)**k) * exp(g*z) / (5 * (1 + exp(g*z))**2),\n",
      "/Users/maurocamara/Documents/University/ManifoldSampling/g_and_k_functions.py:173: RuntimeWarning: overflow encountered in exp\n",
      "  diag(b*((1+z**2)**(k-1))*(((18*k + 9)*(z**2) + 9)*exp(2*g*z) + (8*g*z**3 + (20*k + 10)*z**2 + 8*g*z + 10)*exp(g*z) + (2*k + 1)*z**2 + 1) / (5*(1 + exp(g*z))**2))\n",
      "/Users/maurocamara/Documents/University/ManifoldSampling/g_and_k_functions.py:173: RuntimeWarning: overflow encountered in square\n",
      "  diag(b*((1+z**2)**(k-1))*(((18*k + 9)*(z**2) + 9)*exp(2*g*z) + (8*g*z**3 + (20*k + 10)*z**2 + 8*g*z + 10)*exp(g*z) + (2*k + 1)*z**2 + 1) / (5*(1 + exp(g*z))**2))\n",
      "/Users/maurocamara/Documents/University/ManifoldSampling/g_and_k_functions.py:173: RuntimeWarning: invalid value encountered in true_divide\n",
      "  diag(b*((1+z**2)**(k-1))*(((18*k + 9)*(z**2) + 9)*exp(2*g*z) + (8*g*z**3 + (20*k + 10)*z**2 + 8*g*z + 10)*exp(g*z) + (2*k + 1)*z**2 + 1) / (5*(1 + exp(g*z))**2))\n",
      "/Users/maurocamara/Documents/University/ManifoldSampling/g_and_k_functions.py:170: RuntimeWarning: overflow encountered in exp\n",
      "  (1 + 0.8 * (1 - exp(-g * z)) / (1 + exp(-g * z))) * ((1 + z**2)**k) * z,\n",
      "/Users/maurocamara/Documents/University/ManifoldSampling/g_and_k_functions.py:170: RuntimeWarning: invalid value encountered in true_divide\n",
      "  (1 + 0.8 * (1 - exp(-g * z)) / (1 + exp(-g * z))) * ((1 + z**2)**k) * z,\n",
      "/Users/maurocamara/Documents/University/ManifoldSampling/g_and_k_functions.py:171: RuntimeWarning: overflow encountered in exp\n",
      "  8 * b * (z**2) * ((1 + z**2)**k) * exp(g*z) / (5 * (1 + exp(g*z))**2),\n",
      "/Users/maurocamara/Documents/University/ManifoldSampling/g_and_k_functions.py:171: RuntimeWarning: invalid value encountered in multiply\n",
      "  8 * b * (z**2) * ((1 + z**2)**k) * exp(g*z) / (5 * (1 + exp(g*z))**2),\n",
      "/Users/maurocamara/Documents/University/ManifoldSampling/g_and_k_functions.py:172: RuntimeWarning: overflow encountered in exp\n",
      "  b*z*((1+z**2)**k)*(1 + 9*exp(g*z))*log(1 + z**2) / (5*(1 + exp(g*z))),\n",
      "/Users/maurocamara/Documents/University/ManifoldSampling/g_and_k_functions.py:172: RuntimeWarning: invalid value encountered in multiply\n",
      "  b*z*((1+z**2)**k)*(1 + 9*exp(g*z))*log(1 + z**2) / (5*(1 + exp(g*z))),\n",
      "/Users/maurocamara/Documents/University/ManifoldSampling/g_and_k_functions.py:173: RuntimeWarning: invalid value encountered in add\n",
      "  diag(b*((1+z**2)**(k-1))*(((18*k + 9)*(z**2) + 9)*exp(2*g*z) + (8*g*z**3 + (20*k + 10)*z**2 + 8*g*z + 10)*exp(g*z) + (2*k + 1)*z**2 + 1) / (5*(1 + exp(g*z))**2))\n",
      "/Users/maurocamara/Documents/University/ManifoldSampling/g_and_k_functions.py:173: RuntimeWarning: invalid value encountered in multiply\n",
      "  diag(b*((1+z**2)**(k-1))*(((18*k + 9)*(z**2) + 9)*exp(2*g*z) + (8*g*z**3 + (20*k + 10)*z**2 + 8*g*z + 10)*exp(g*z) + (2*k + 1)*z**2 + 1) / (5*(1 + exp(g*z))**2))\n",
      "/Users/maurocamara/Documents/University/ManifoldSampling/g_and_k_functions.py:152: RuntimeWarning: overflow encountered in exp\n",
      "  return a + b*(1 + 0.8 * (1 - exp(-g * z)) / (1 + exp(-g * z))) * ((1 + z**2)**k) * z\n",
      "/Users/maurocamara/Documents/University/ManifoldSampling/g_and_k_functions.py:152: RuntimeWarning: invalid value encountered in true_divide\n",
      "  return a + b*(1 + 0.8 * (1 - exp(-g * z)) / (1 + exp(-g * z))) * ((1 + z**2)**k) * z\n",
      "/Users/maurocamara/Documents/University/ManifoldSampling/g_and_k_functions.py:171: RuntimeWarning: invalid value encountered in true_divide\n",
      "  8 * b * (z**2) * ((1 + z**2)**k) * exp(g*z) / (5 * (1 + exp(g*z))**2),\n",
      "/Users/maurocamara/Documents/University/ManifoldSampling/g_and_k_functions.py:172: RuntimeWarning: invalid value encountered in true_divide\n",
      "  b*z*((1+z**2)**k)*(1 + 9*exp(g*z))*log(1 + z**2) / (5*(1 + exp(g*z))),\n",
      "/Users/maurocamara/Documents/University/ManifoldSampling/g_and_k_functions.py:173: RuntimeWarning: overflow encountered in multiply\n",
      "  diag(b*((1+z**2)**(k-1))*(((18*k + 9)*(z**2) + 9)*exp(2*g*z) + (8*g*z**3 + (20*k + 10)*z**2 + 8*g*z + 10)*exp(g*z) + (2*k + 1)*z**2 + 1) / (5*(1 + exp(g*z))**2))\n",
      "/Users/maurocamara/Documents/University/ManifoldSampling/g_and_k_functions.py:171: RuntimeWarning: overflow encountered in multiply\n",
      "  8 * b * (z**2) * ((1 + z**2)**k) * exp(g*z) / (5 * (1 + exp(g*z))**2),\n",
      "/Users/maurocamara/Documents/University/ManifoldSampling/g_and_k_functions.py:172: RuntimeWarning: overflow encountered in multiply\n",
      "  b*z*((1+z**2)**k)*(1 + 9*exp(g*z))*log(1 + z**2) / (5*(1 + exp(g*z))),\n",
      "/Users/maurocamara/Documents/University/ManifoldSampling/HMC/static_hmc.py:68: RuntimeWarning: invalid value encountered in matmul\n",
      "  q = q + self.epsilon * (self.Minv @ p)\n"
     ]
    },
    {
     "name": "stderr",
     "output_type": "stream",
     "text": [
      "/Users/maurocamara/Documents/University/ManifoldSampling/g_and_k_functions.py:170: RuntimeWarning: overflow encountered in power\n",
      "  (1 + 0.8 * (1 - exp(-g * z)) / (1 + exp(-g * z))) * ((1 + z**2)**k) * z,\n",
      "/Users/maurocamara/Documents/University/ManifoldSampling/g_and_k_functions.py:171: RuntimeWarning: overflow encountered in power\n",
      "  8 * b * (z**2) * ((1 + z**2)**k) * exp(g*z) / (5 * (1 + exp(g*z))**2),\n",
      "/Users/maurocamara/Documents/University/ManifoldSampling/g_and_k_functions.py:172: RuntimeWarning: overflow encountered in power\n",
      "  b*z*((1+z**2)**k)*(1 + 9*exp(g*z))*log(1 + z**2) / (5*(1 + exp(g*z))),\n",
      "/Users/maurocamara/Documents/University/ManifoldSampling/g_and_k_functions.py:173: RuntimeWarning: overflow encountered in power\n",
      "  diag(b*((1+z**2)**(k-1))*(((18*k + 9)*(z**2) + 9)*exp(2*g*z) + (8*g*z**3 + (20*k + 10)*z**2 + 8*g*z + 10)*exp(g*z) + (2*k + 1)*z**2 + 1) / (5*(1 + exp(g*z))**2))\n",
      "/Users/maurocamara/Documents/University/ManifoldSampling/g_and_k_functions.py:152: RuntimeWarning: overflow encountered in power\n",
      "  return a + b*(1 + 0.8 * (1 - exp(-g * z)) / (1 + exp(-g * z))) * ((1 + z**2)**k) * z\n",
      "/Users/maurocamara/Documents/University/ManifoldSampling/g_and_k_functions.py:152: RuntimeWarning: overflow encountered in multiply\n",
      "  return a + b*(1 + 0.8 * (1 - exp(-g * z)) / (1 + exp(-g * z))) * ((1 + z**2)**k) * z\n",
      "/Users/maurocamara/Documents/University/ManifoldSampling/g_and_k_functions.py:229: RuntimeWarning: overflow encountered in matmul\n",
      "  dkdξ = self.Jf_transpose(ξ) @ (self.f(ξ) - self.ystar) / (self.epsilon**2)\n",
      "/Users/maurocamara/Documents/University/ManifoldSampling/g_and_k_functions.py:229: RuntimeWarning: invalid value encountered in matmul\n",
      "  dkdξ = self.Jf_transpose(ξ) @ (self.f(ξ) - self.ystar) / (self.epsilon**2)\n",
      "/Users/maurocamara/Documents/University/ManifoldSampling/g_and_k_functions.py:170: RuntimeWarning: overflow encountered in multiply\n",
      "  (1 + 0.8 * (1 - exp(-g * z)) / (1 + exp(-g * z))) * ((1 + z**2)**k) * z,\n",
      "/Users/maurocamara/Documents/University/ManifoldSampling/g_and_k_functions.py:170: RuntimeWarning: overflow encountered in square\n",
      "  (1 + 0.8 * (1 - exp(-g * z)) / (1 + exp(-g * z))) * ((1 + z**2)**k) * z,\n",
      "/Users/maurocamara/Documents/University/ManifoldSampling/g_and_k_functions.py:172: RuntimeWarning: overflow encountered in square\n",
      "  b*z*((1+z**2)**k)*(1 + 9*exp(g*z))*log(1 + z**2) / (5*(1 + exp(g*z))),\n",
      "/Users/maurocamara/Documents/University/ManifoldSampling/g_and_k_functions.py:152: RuntimeWarning: overflow encountered in square\n",
      "  return a + b*(1 + 0.8 * (1 - exp(-g * z)) / (1 + exp(-g * z))) * ((1 + z**2)**k) * z\n",
      "/Users/maurocamara/Documents/University/ManifoldSampling/g_and_k_functions.py:229: RuntimeWarning: overflow encountered in true_divide\n",
      "  dkdξ = self.Jf_transpose(ξ) @ (self.f(ξ) - self.ystar) / (self.epsilon**2)\n",
      "/Users/maurocamara/Documents/University/ManifoldSampling/g_and_k_functions.py:170: RuntimeWarning: overflow encountered in exp\n",
      "  (1 + 0.8 * (1 - exp(-g * z)) / (1 + exp(-g * z))) * ((1 + z**2)**k) * z,\n",
      "/Users/maurocamara/Documents/University/ManifoldSampling/g_and_k_functions.py:170: RuntimeWarning: invalid value encountered in true_divide\n",
      "  (1 + 0.8 * (1 - exp(-g * z)) / (1 + exp(-g * z))) * ((1 + z**2)**k) * z,\n",
      "/Users/maurocamara/Documents/University/ManifoldSampling/g_and_k_functions.py:171: RuntimeWarning: overflow encountered in exp\n",
      "  8 * b * (z**2) * ((1 + z**2)**k) * exp(g*z) / (5 * (1 + exp(g*z))**2),\n",
      "/Users/maurocamara/Documents/University/ManifoldSampling/g_and_k_functions.py:171: RuntimeWarning: invalid value encountered in multiply\n",
      "  8 * b * (z**2) * ((1 + z**2)**k) * exp(g*z) / (5 * (1 + exp(g*z))**2),\n",
      "/Users/maurocamara/Documents/University/ManifoldSampling/g_and_k_functions.py:171: RuntimeWarning: overflow encountered in square\n",
      "  8 * b * (z**2) * ((1 + z**2)**k) * exp(g*z) / (5 * (1 + exp(g*z))**2),\n",
      "/Users/maurocamara/Documents/University/ManifoldSampling/g_and_k_functions.py:172: RuntimeWarning: overflow encountered in exp\n",
      "  b*z*((1+z**2)**k)*(1 + 9*exp(g*z))*log(1 + z**2) / (5*(1 + exp(g*z))),\n",
      "/Users/maurocamara/Documents/University/ManifoldSampling/g_and_k_functions.py:172: RuntimeWarning: invalid value encountered in multiply\n",
      "  b*z*((1+z**2)**k)*(1 + 9*exp(g*z))*log(1 + z**2) / (5*(1 + exp(g*z))),\n",
      "/Users/maurocamara/Documents/University/ManifoldSampling/g_and_k_functions.py:173: RuntimeWarning: overflow encountered in exp\n",
      "  diag(b*((1+z**2)**(k-1))*(((18*k + 9)*(z**2) + 9)*exp(2*g*z) + (8*g*z**3 + (20*k + 10)*z**2 + 8*g*z + 10)*exp(g*z) + (2*k + 1)*z**2 + 1) / (5*(1 + exp(g*z))**2))\n",
      "/Users/maurocamara/Documents/University/ManifoldSampling/g_and_k_functions.py:173: RuntimeWarning: invalid value encountered in multiply\n",
      "  diag(b*((1+z**2)**(k-1))*(((18*k + 9)*(z**2) + 9)*exp(2*g*z) + (8*g*z**3 + (20*k + 10)*z**2 + 8*g*z + 10)*exp(g*z) + (2*k + 1)*z**2 + 1) / (5*(1 + exp(g*z))**2))\n",
      "/Users/maurocamara/Documents/University/ManifoldSampling/g_and_k_functions.py:173: RuntimeWarning: overflow encountered in square\n",
      "  diag(b*((1+z**2)**(k-1))*(((18*k + 9)*(z**2) + 9)*exp(2*g*z) + (8*g*z**3 + (20*k + 10)*z**2 + 8*g*z + 10)*exp(g*z) + (2*k + 1)*z**2 + 1) / (5*(1 + exp(g*z))**2))\n",
      "/Users/maurocamara/Documents/University/ManifoldSampling/g_and_k_functions.py:152: RuntimeWarning: overflow encountered in exp\n",
      "  return a + b*(1 + 0.8 * (1 - exp(-g * z)) / (1 + exp(-g * z))) * ((1 + z**2)**k) * z\n",
      "/Users/maurocamara/Documents/University/ManifoldSampling/g_and_k_functions.py:152: RuntimeWarning: invalid value encountered in true_divide\n",
      "  return a + b*(1 + 0.8 * (1 - exp(-g * z)) / (1 + exp(-g * z))) * ((1 + z**2)**k) * z\n",
      "/Users/maurocamara/Documents/University/ManifoldSampling/g_and_k_functions.py:172: RuntimeWarning: overflow encountered in multiply\n",
      "  b*z*((1+z**2)**k)*(1 + 9*exp(g*z))*log(1 + z**2) / (5*(1 + exp(g*z))),\n",
      "/Users/maurocamara/Documents/University/ManifoldSampling/g_and_k_functions.py:173: RuntimeWarning: overflow encountered in multiply\n",
      "  diag(b*((1+z**2)**(k-1))*(((18*k + 9)*(z**2) + 9)*exp(2*g*z) + (8*g*z**3 + (20*k + 10)*z**2 + 8*g*z + 10)*exp(g*z) + (2*k + 1)*z**2 + 1) / (5*(1 + exp(g*z))**2))\n",
      "/Users/maurocamara/Documents/University/ManifoldSampling/g_and_k_functions.py:173: RuntimeWarning: invalid value encountered in add\n",
      "  diag(b*((1+z**2)**(k-1))*(((18*k + 9)*(z**2) + 9)*exp(2*g*z) + (8*g*z**3 + (20*k + 10)*z**2 + 8*g*z + 10)*exp(g*z) + (2*k + 1)*z**2 + 1) / (5*(1 + exp(g*z))**2))\n",
      "/Users/maurocamara/Documents/University/ManifoldSampling/g_and_k_functions.py:171: RuntimeWarning: overflow encountered in square\n",
      "  8 * b * (z**2) * ((1 + z**2)**k) * exp(g*z) / (5 * (1 + exp(g*z))**2),\n",
      "/Users/maurocamara/Documents/University/ManifoldSampling/g_and_k_functions.py:173: RuntimeWarning: overflow encountered in exp\n",
      "  diag(b*((1+z**2)**(k-1))*(((18*k + 9)*(z**2) + 9)*exp(2*g*z) + (8*g*z**3 + (20*k + 10)*z**2 + 8*g*z + 10)*exp(g*z) + (2*k + 1)*z**2 + 1) / (5*(1 + exp(g*z))**2))\n",
      "/Users/maurocamara/Documents/University/ManifoldSampling/g_and_k_functions.py:173: RuntimeWarning: invalid value encountered in multiply\n",
      "  diag(b*((1+z**2)**(k-1))*(((18*k + 9)*(z**2) + 9)*exp(2*g*z) + (8*g*z**3 + (20*k + 10)*z**2 + 8*g*z + 10)*exp(g*z) + (2*k + 1)*z**2 + 1) / (5*(1 + exp(g*z))**2))\n",
      "/Users/maurocamara/Documents/University/ManifoldSampling/g_and_k_functions.py:173: RuntimeWarning: overflow encountered in square\n",
      "  diag(b*((1+z**2)**(k-1))*(((18*k + 9)*(z**2) + 9)*exp(2*g*z) + (8*g*z**3 + (20*k + 10)*z**2 + 8*g*z + 10)*exp(g*z) + (2*k + 1)*z**2 + 1) / (5*(1 + exp(g*z))**2))\n",
      "/Users/maurocamara/Documents/University/ManifoldSampling/g_and_k_functions.py:170: RuntimeWarning: overflow encountered in exp\n",
      "  (1 + 0.8 * (1 - exp(-g * z)) / (1 + exp(-g * z))) * ((1 + z**2)**k) * z,\n",
      "/Users/maurocamara/Documents/University/ManifoldSampling/g_and_k_functions.py:170: RuntimeWarning: invalid value encountered in true_divide\n",
      "  (1 + 0.8 * (1 - exp(-g * z)) / (1 + exp(-g * z))) * ((1 + z**2)**k) * z,\n",
      "/Users/maurocamara/Documents/University/ManifoldSampling/g_and_k_functions.py:171: RuntimeWarning: overflow encountered in exp\n",
      "  8 * b * (z**2) * ((1 + z**2)**k) * exp(g*z) / (5 * (1 + exp(g*z))**2),\n",
      "/Users/maurocamara/Documents/University/ManifoldSampling/g_and_k_functions.py:171: RuntimeWarning: invalid value encountered in multiply\n",
      "  8 * b * (z**2) * ((1 + z**2)**k) * exp(g*z) / (5 * (1 + exp(g*z))**2),\n",
      "/Users/maurocamara/Documents/University/ManifoldSampling/g_and_k_functions.py:172: RuntimeWarning: overflow encountered in exp\n",
      "  b*z*((1+z**2)**k)*(1 + 9*exp(g*z))*log(1 + z**2) / (5*(1 + exp(g*z))),\n",
      "/Users/maurocamara/Documents/University/ManifoldSampling/g_and_k_functions.py:172: RuntimeWarning: invalid value encountered in multiply\n",
      "  b*z*((1+z**2)**k)*(1 + 9*exp(g*z))*log(1 + z**2) / (5*(1 + exp(g*z))),\n",
      "/Users/maurocamara/Documents/University/ManifoldSampling/g_and_k_functions.py:173: RuntimeWarning: invalid value encountered in add\n",
      "  diag(b*((1+z**2)**(k-1))*(((18*k + 9)*(z**2) + 9)*exp(2*g*z) + (8*g*z**3 + (20*k + 10)*z**2 + 8*g*z + 10)*exp(g*z) + (2*k + 1)*z**2 + 1) / (5*(1 + exp(g*z))**2))\n",
      "/Users/maurocamara/Documents/University/ManifoldSampling/g_and_k_functions.py:152: RuntimeWarning: overflow encountered in exp\n",
      "  return a + b*(1 + 0.8 * (1 - exp(-g * z)) / (1 + exp(-g * z))) * ((1 + z**2)**k) * z\n",
      "/Users/maurocamara/Documents/University/ManifoldSampling/g_and_k_functions.py:152: RuntimeWarning: invalid value encountered in true_divide\n",
      "  return a + b*(1 + 0.8 * (1 - exp(-g * z)) / (1 + exp(-g * z))) * ((1 + z**2)**k) * z\n"
     ]
    },
    {
     "name": "stderr",
     "output_type": "stream",
     "text": [
      "/Users/maurocamara/Documents/University/ManifoldSampling/g_and_k_functions.py:173: RuntimeWarning: overflow encountered in multiply\n",
      "  diag(b*((1+z**2)**(k-1))*(((18*k + 9)*(z**2) + 9)*exp(2*g*z) + (8*g*z**3 + (20*k + 10)*z**2 + 8*g*z + 10)*exp(g*z) + (2*k + 1)*z**2 + 1) / (5*(1 + exp(g*z))**2))\n",
      "/Users/maurocamara/Documents/University/ManifoldSampling/g_and_k_functions.py:172: RuntimeWarning: overflow encountered in multiply\n",
      "  b*z*((1+z**2)**k)*(1 + 9*exp(g*z))*log(1 + z**2) / (5*(1 + exp(g*z))),\n",
      "/Users/maurocamara/Documents/University/ManifoldSampling/g_and_k_functions.py:171: RuntimeWarning: overflow encountered in multiply\n",
      "  8 * b * (z**2) * ((1 + z**2)**k) * exp(g*z) / (5 * (1 + exp(g*z))**2),\n",
      "/Users/maurocamara/Documents/University/ManifoldSampling/g_and_k_functions.py:171: RuntimeWarning: overflow encountered in exp\n",
      "  8 * b * (z**2) * ((1 + z**2)**k) * exp(g*z) / (5 * (1 + exp(g*z))**2),\n",
      "/Users/maurocamara/Documents/University/ManifoldSampling/g_and_k_functions.py:171: RuntimeWarning: invalid value encountered in multiply\n",
      "  8 * b * (z**2) * ((1 + z**2)**k) * exp(g*z) / (5 * (1 + exp(g*z))**2),\n",
      "/Users/maurocamara/Documents/University/ManifoldSampling/g_and_k_functions.py:172: RuntimeWarning: overflow encountered in exp\n",
      "  b*z*((1+z**2)**k)*(1 + 9*exp(g*z))*log(1 + z**2) / (5*(1 + exp(g*z))),\n",
      "/Users/maurocamara/Documents/University/ManifoldSampling/g_and_k_functions.py:172: RuntimeWarning: invalid value encountered in multiply\n",
      "  b*z*((1+z**2)**k)*(1 + 9*exp(g*z))*log(1 + z**2) / (5*(1 + exp(g*z))),\n",
      "/Users/maurocamara/Documents/University/ManifoldSampling/g_and_k_functions.py:173: RuntimeWarning: overflow encountered in exp\n",
      "  diag(b*((1+z**2)**(k-1))*(((18*k + 9)*(z**2) + 9)*exp(2*g*z) + (8*g*z**3 + (20*k + 10)*z**2 + 8*g*z + 10)*exp(g*z) + (2*k + 1)*z**2 + 1) / (5*(1 + exp(g*z))**2))\n",
      "/Users/maurocamara/Documents/University/ManifoldSampling/g_and_k_functions.py:173: RuntimeWarning: invalid value encountered in add\n",
      "  diag(b*((1+z**2)**(k-1))*(((18*k + 9)*(z**2) + 9)*exp(2*g*z) + (8*g*z**3 + (20*k + 10)*z**2 + 8*g*z + 10)*exp(g*z) + (2*k + 1)*z**2 + 1) / (5*(1 + exp(g*z))**2))\n",
      "/Users/maurocamara/Documents/University/ManifoldSampling/g_and_k_functions.py:173: RuntimeWarning: invalid value encountered in multiply\n",
      "  diag(b*((1+z**2)**(k-1))*(((18*k + 9)*(z**2) + 9)*exp(2*g*z) + (8*g*z**3 + (20*k + 10)*z**2 + 8*g*z + 10)*exp(g*z) + (2*k + 1)*z**2 + 1) / (5*(1 + exp(g*z))**2))\n",
      "/Users/maurocamara/Documents/University/ManifoldSampling/g_and_k_functions.py:170: RuntimeWarning: overflow encountered in exp\n",
      "  (1 + 0.8 * (1 - exp(-g * z)) / (1 + exp(-g * z))) * ((1 + z**2)**k) * z,\n",
      "/Users/maurocamara/Documents/University/ManifoldSampling/g_and_k_functions.py:170: RuntimeWarning: invalid value encountered in true_divide\n",
      "  (1 + 0.8 * (1 - exp(-g * z)) / (1 + exp(-g * z))) * ((1 + z**2)**k) * z,\n",
      "/Users/maurocamara/Documents/University/ManifoldSampling/g_and_k_functions.py:171: RuntimeWarning: overflow encountered in square\n",
      "  8 * b * (z**2) * ((1 + z**2)**k) * exp(g*z) / (5 * (1 + exp(g*z))**2),\n",
      "/Users/maurocamara/Documents/University/ManifoldSampling/g_and_k_functions.py:173: RuntimeWarning: overflow encountered in square\n",
      "  diag(b*((1+z**2)**(k-1))*(((18*k + 9)*(z**2) + 9)*exp(2*g*z) + (8*g*z**3 + (20*k + 10)*z**2 + 8*g*z + 10)*exp(g*z) + (2*k + 1)*z**2 + 1) / (5*(1 + exp(g*z))**2))\n",
      "/Users/maurocamara/Documents/University/ManifoldSampling/g_and_k_functions.py:173: RuntimeWarning: invalid value encountered in true_divide\n",
      "  diag(b*((1+z**2)**(k-1))*(((18*k + 9)*(z**2) + 9)*exp(2*g*z) + (8*g*z**3 + (20*k + 10)*z**2 + 8*g*z + 10)*exp(g*z) + (2*k + 1)*z**2 + 1) / (5*(1 + exp(g*z))**2))\n",
      "/Users/maurocamara/Documents/University/ManifoldSampling/g_and_k_functions.py:152: RuntimeWarning: overflow encountered in exp\n",
      "  return a + b*(1 + 0.8 * (1 - exp(-g * z)) / (1 + exp(-g * z))) * ((1 + z**2)**k) * z\n",
      "/Users/maurocamara/Documents/University/ManifoldSampling/g_and_k_functions.py:152: RuntimeWarning: invalid value encountered in true_divide\n",
      "  return a + b*(1 + 0.8 * (1 - exp(-g * z)) / (1 + exp(-g * z))) * ((1 + z**2)**k) * z\n",
      "/Users/maurocamara/Documents/University/ManifoldSampling/g_and_k_functions.py:171: RuntimeWarning: invalid value encountered in true_divide\n",
      "  8 * b * (z**2) * ((1 + z**2)**k) * exp(g*z) / (5 * (1 + exp(g*z))**2),\n",
      "/Users/maurocamara/Documents/University/ManifoldSampling/g_and_k_functions.py:172: RuntimeWarning: invalid value encountered in true_divide\n",
      "  b*z*((1+z**2)**k)*(1 + 9*exp(g*z))*log(1 + z**2) / (5*(1 + exp(g*z))),\n",
      "/Users/maurocamara/Documents/University/ManifoldSampling/g_and_k_functions.py:173: RuntimeWarning: overflow encountered in multiply\n",
      "  diag(b*((1+z**2)**(k-1))*(((18*k + 9)*(z**2) + 9)*exp(2*g*z) + (8*g*z**3 + (20*k + 10)*z**2 + 8*g*z + 10)*exp(g*z) + (2*k + 1)*z**2 + 1) / (5*(1 + exp(g*z))**2))\n",
      "/Users/maurocamara/Documents/University/ManifoldSampling/HMC/static_hmc.py:73: RuntimeWarning: invalid value encountered in matmul\n",
      "  q = q + self.epsilon * (self.Minv @ p)\n",
      "/Users/maurocamara/Documents/University/ManifoldSampling/g_and_k_functions.py:172: RuntimeWarning: overflow encountered in multiply\n",
      "  b*z*((1+z**2)**k)*(1 + 9*exp(g*z))*log(1 + z**2) / (5*(1 + exp(g*z))),\n",
      "/Users/maurocamara/Documents/University/ManifoldSampling/g_and_k_functions.py:171: RuntimeWarning: overflow encountered in multiply\n",
      "  8 * b * (z**2) * ((1 + z**2)**k) * exp(g*z) / (5 * (1 + exp(g*z))**2),\n",
      "/Users/maurocamara/Documents/University/ManifoldSampling/g_and_k_functions.py:173: RuntimeWarning: overflow encountered in power\n",
      "  diag(b*((1+z**2)**(k-1))*(((18*k + 9)*(z**2) + 9)*exp(2*g*z) + (8*g*z**3 + (20*k + 10)*z**2 + 8*g*z + 10)*exp(g*z) + (2*k + 1)*z**2 + 1) / (5*(1 + exp(g*z))**2))\n",
      "/Users/maurocamara/Documents/University/ManifoldSampling/HMC/static_hmc.py:68: RuntimeWarning: invalid value encountered in matmul\n",
      "  q = q + self.epsilon * (self.Minv @ p)\n",
      "/Users/maurocamara/Documents/University/ManifoldSampling/g_and_k_functions.py:170: RuntimeWarning: overflow encountered in power\n",
      "  (1 + 0.8 * (1 - exp(-g * z)) / (1 + exp(-g * z))) * ((1 + z**2)**k) * z,\n",
      "/Users/maurocamara/Documents/University/ManifoldSampling/g_and_k_functions.py:171: RuntimeWarning: overflow encountered in power\n",
      "  8 * b * (z**2) * ((1 + z**2)**k) * exp(g*z) / (5 * (1 + exp(g*z))**2),\n",
      "/Users/maurocamara/Documents/University/ManifoldSampling/g_and_k_functions.py:172: RuntimeWarning: overflow encountered in power\n",
      "  b*z*((1+z**2)**k)*(1 + 9*exp(g*z))*log(1 + z**2) / (5*(1 + exp(g*z))),\n",
      "/Users/maurocamara/Documents/University/ManifoldSampling/g_and_k_functions.py:152: RuntimeWarning: overflow encountered in power\n",
      "  return a + b*(1 + 0.8 * (1 - exp(-g * z)) / (1 + exp(-g * z))) * ((1 + z**2)**k) * z\n",
      "/Users/maurocamara/Documents/University/ManifoldSampling/g_and_k_functions.py:229: RuntimeWarning: overflow encountered in matmul\n",
      "  dkdξ = self.Jf_transpose(ξ) @ (self.f(ξ) - self.ystar) / (self.epsilon**2)\n",
      "/Users/maurocamara/Documents/University/ManifoldSampling/g_and_k_functions.py:229: RuntimeWarning: invalid value encountered in matmul\n",
      "  dkdξ = self.Jf_transpose(ξ) @ (self.f(ξ) - self.ystar) / (self.epsilon**2)\n",
      "/Users/maurocamara/Documents/University/ManifoldSampling/g_and_k_functions.py:152: RuntimeWarning: overflow encountered in multiply\n",
      "  return a + b*(1 + 0.8 * (1 - exp(-g * z)) / (1 + exp(-g * z))) * ((1 + z**2)**k) * z\n",
      "/Users/maurocamara/Documents/University/ManifoldSampling/g_and_k_functions.py:170: RuntimeWarning: overflow encountered in multiply\n",
      "  (1 + 0.8 * (1 - exp(-g * z)) / (1 + exp(-g * z))) * ((1 + z**2)**k) * z,\n",
      "/Users/maurocamara/Documents/University/ManifoldSampling/g_and_k_functions.py:170: RuntimeWarning: overflow encountered in exp\n",
      "  (1 + 0.8 * (1 - exp(-g * z)) / (1 + exp(-g * z))) * ((1 + z**2)**k) * z,\n",
      "/Users/maurocamara/Documents/University/ManifoldSampling/g_and_k_functions.py:170: RuntimeWarning: invalid value encountered in true_divide\n",
      "  (1 + 0.8 * (1 - exp(-g * z)) / (1 + exp(-g * z))) * ((1 + z**2)**k) * z,\n",
      "/Users/maurocamara/Documents/University/ManifoldSampling/g_and_k_functions.py:152: RuntimeWarning: overflow encountered in exp\n",
      "  return a + b*(1 + 0.8 * (1 - exp(-g * z)) / (1 + exp(-g * z))) * ((1 + z**2)**k) * z\n",
      "/Users/maurocamara/Documents/University/ManifoldSampling/g_and_k_functions.py:152: RuntimeWarning: invalid value encountered in true_divide\n",
      "  return a + b*(1 + 0.8 * (1 - exp(-g * z)) / (1 + exp(-g * z))) * ((1 + z**2)**k) * z\n"
     ]
    },
    {
     "name": "stderr",
     "output_type": "stream",
     "text": [
      "/Users/maurocamara/Documents/University/ManifoldSampling/g_and_k_functions.py:171: RuntimeWarning: overflow encountered in square\n",
      "  8 * b * (z**2) * ((1 + z**2)**k) * exp(g*z) / (5 * (1 + exp(g*z))**2),\n",
      "/Users/maurocamara/Documents/University/ManifoldSampling/g_and_k_functions.py:173: RuntimeWarning: overflow encountered in exp\n",
      "  diag(b*((1+z**2)**(k-1))*(((18*k + 9)*(z**2) + 9)*exp(2*g*z) + (8*g*z**3 + (20*k + 10)*z**2 + 8*g*z + 10)*exp(g*z) + (2*k + 1)*z**2 + 1) / (5*(1 + exp(g*z))**2))\n",
      "/Users/maurocamara/Documents/University/ManifoldSampling/g_and_k_functions.py:173: RuntimeWarning: invalid value encountered in multiply\n",
      "  diag(b*((1+z**2)**(k-1))*(((18*k + 9)*(z**2) + 9)*exp(2*g*z) + (8*g*z**3 + (20*k + 10)*z**2 + 8*g*z + 10)*exp(g*z) + (2*k + 1)*z**2 + 1) / (5*(1 + exp(g*z))**2))\n",
      "/Users/maurocamara/Documents/University/ManifoldSampling/g_and_k_functions.py:173: RuntimeWarning: overflow encountered in square\n",
      "  diag(b*((1+z**2)**(k-1))*(((18*k + 9)*(z**2) + 9)*exp(2*g*z) + (8*g*z**3 + (20*k + 10)*z**2 + 8*g*z + 10)*exp(g*z) + (2*k + 1)*z**2 + 1) / (5*(1 + exp(g*z))**2))\n",
      "/Users/maurocamara/Documents/University/ManifoldSampling/g_and_k_functions.py:173: RuntimeWarning: invalid value encountered in true_divide\n",
      "  diag(b*((1+z**2)**(k-1))*(((18*k + 9)*(z**2) + 9)*exp(2*g*z) + (8*g*z**3 + (20*k + 10)*z**2 + 8*g*z + 10)*exp(g*z) + (2*k + 1)*z**2 + 1) / (5*(1 + exp(g*z))**2))\n",
      "/Users/maurocamara/Documents/University/ManifoldSampling/g_and_k_functions.py:171: RuntimeWarning: overflow encountered in exp\n",
      "  8 * b * (z**2) * ((1 + z**2)**k) * exp(g*z) / (5 * (1 + exp(g*z))**2),\n",
      "/Users/maurocamara/Documents/University/ManifoldSampling/g_and_k_functions.py:171: RuntimeWarning: invalid value encountered in true_divide\n",
      "  8 * b * (z**2) * ((1 + z**2)**k) * exp(g*z) / (5 * (1 + exp(g*z))**2),\n",
      "/Users/maurocamara/Documents/University/ManifoldSampling/g_and_k_functions.py:172: RuntimeWarning: overflow encountered in exp\n",
      "  b*z*((1+z**2)**k)*(1 + 9*exp(g*z))*log(1 + z**2) / (5*(1 + exp(g*z))),\n",
      "/Users/maurocamara/Documents/University/ManifoldSampling/g_and_k_functions.py:172: RuntimeWarning: invalid value encountered in true_divide\n",
      "  b*z*((1+z**2)**k)*(1 + 9*exp(g*z))*log(1 + z**2) / (5*(1 + exp(g*z))),\n",
      "/Users/maurocamara/Documents/University/ManifoldSampling/g_and_k_functions.py:173: RuntimeWarning: invalid value encountered in add\n",
      "  diag(b*((1+z**2)**(k-1))*(((18*k + 9)*(z**2) + 9)*exp(2*g*z) + (8*g*z**3 + (20*k + 10)*z**2 + 8*g*z + 10)*exp(g*z) + (2*k + 1)*z**2 + 1) / (5*(1 + exp(g*z))**2))\n",
      "/Users/maurocamara/Documents/University/ManifoldSampling/g_and_k_functions.py:171: RuntimeWarning: overflow encountered in multiply\n",
      "  8 * b * (z**2) * ((1 + z**2)**k) * exp(g*z) / (5 * (1 + exp(g*z))**2),\n",
      "/Users/maurocamara/Documents/University/ManifoldSampling/g_and_k_functions.py:172: RuntimeWarning: overflow encountered in multiply\n",
      "  b*z*((1+z**2)**k)*(1 + 9*exp(g*z))*log(1 + z**2) / (5*(1 + exp(g*z))),\n",
      "/Users/maurocamara/Documents/University/ManifoldSampling/g_and_k_functions.py:173: RuntimeWarning: overflow encountered in multiply\n",
      "  diag(b*((1+z**2)**(k-1))*(((18*k + 9)*(z**2) + 9)*exp(2*g*z) + (8*g*z**3 + (20*k + 10)*z**2 + 8*g*z + 10)*exp(g*z) + (2*k + 1)*z**2 + 1) / (5*(1 + exp(g*z))**2))\n",
      "/Users/maurocamara/Documents/University/ManifoldSampling/HMC/static_hmc.py:68: RuntimeWarning: invalid value encountered in matmul\n",
      "  q = q + self.epsilon * (self.Minv @ p)\n",
      "/Users/maurocamara/Documents/University/ManifoldSampling/g_and_k_functions.py:171: RuntimeWarning: invalid value encountered in multiply\n",
      "  8 * b * (z**2) * ((1 + z**2)**k) * exp(g*z) / (5 * (1 + exp(g*z))**2),\n",
      "/Users/maurocamara/Documents/University/ManifoldSampling/g_and_k_functions.py:172: RuntimeWarning: invalid value encountered in multiply\n",
      "  b*z*((1+z**2)**k)*(1 + 9*exp(g*z))*log(1 + z**2) / (5*(1 + exp(g*z))),\n",
      "/Users/maurocamara/Documents/University/ManifoldSampling/g_and_k_functions.py:170: RuntimeWarning: overflow encountered in power\n",
      "  (1 + 0.8 * (1 - exp(-g * z)) / (1 + exp(-g * z))) * ((1 + z**2)**k) * z,\n",
      "/Users/maurocamara/Documents/University/ManifoldSampling/g_and_k_functions.py:171: RuntimeWarning: overflow encountered in power\n",
      "  8 * b * (z**2) * ((1 + z**2)**k) * exp(g*z) / (5 * (1 + exp(g*z))**2),\n",
      "/Users/maurocamara/Documents/University/ManifoldSampling/g_and_k_functions.py:172: RuntimeWarning: overflow encountered in power\n",
      "  b*z*((1+z**2)**k)*(1 + 9*exp(g*z))*log(1 + z**2) / (5*(1 + exp(g*z))),\n",
      "/Users/maurocamara/Documents/University/ManifoldSampling/g_and_k_functions.py:173: RuntimeWarning: overflow encountered in power\n",
      "  diag(b*((1+z**2)**(k-1))*(((18*k + 9)*(z**2) + 9)*exp(2*g*z) + (8*g*z**3 + (20*k + 10)*z**2 + 8*g*z + 10)*exp(g*z) + (2*k + 1)*z**2 + 1) / (5*(1 + exp(g*z))**2))\n",
      "/Users/maurocamara/Documents/University/ManifoldSampling/g_and_k_functions.py:152: RuntimeWarning: overflow encountered in power\n",
      "  return a + b*(1 + 0.8 * (1 - exp(-g * z)) / (1 + exp(-g * z))) * ((1 + z**2)**k) * z\n",
      "/Users/maurocamara/Documents/University/ManifoldSampling/g_and_k_functions.py:229: RuntimeWarning: invalid value encountered in matmul\n",
      "  dkdξ = self.Jf_transpose(ξ) @ (self.f(ξ) - self.ystar) / (self.epsilon**2)\n",
      "/Users/maurocamara/Documents/University/ManifoldSampling/g_and_k_functions.py:229: RuntimeWarning: overflow encountered in matmul\n",
      "  dkdξ = self.Jf_transpose(ξ) @ (self.f(ξ) - self.ystar) / (self.epsilon**2)\n",
      "/Users/maurocamara/Documents/University/ManifoldSampling/g_and_k_functions.py:152: RuntimeWarning: overflow encountered in multiply\n",
      "  return a + b*(1 + 0.8 * (1 - exp(-g * z)) / (1 + exp(-g * z))) * ((1 + z**2)**k) * z\n",
      "/Users/maurocamara/Documents/University/ManifoldSampling/g_and_k_functions.py:170: RuntimeWarning: overflow encountered in multiply\n",
      "  (1 + 0.8 * (1 - exp(-g * z)) / (1 + exp(-g * z))) * ((1 + z**2)**k) * z,\n",
      "/Users/maurocamara/Documents/University/ManifoldSampling/g_and_k_functions.py:171: RuntimeWarning: overflow encountered in exp\n",
      "  8 * b * (z**2) * ((1 + z**2)**k) * exp(g*z) / (5 * (1 + exp(g*z))**2),\n",
      "/Users/maurocamara/Documents/University/ManifoldSampling/g_and_k_functions.py:171: RuntimeWarning: invalid value encountered in multiply\n",
      "  8 * b * (z**2) * ((1 + z**2)**k) * exp(g*z) / (5 * (1 + exp(g*z))**2),\n",
      "/Users/maurocamara/Documents/University/ManifoldSampling/g_and_k_functions.py:172: RuntimeWarning: overflow encountered in exp\n",
      "  b*z*((1+z**2)**k)*(1 + 9*exp(g*z))*log(1 + z**2) / (5*(1 + exp(g*z))),\n",
      "/Users/maurocamara/Documents/University/ManifoldSampling/g_and_k_functions.py:172: RuntimeWarning: invalid value encountered in multiply\n",
      "  b*z*((1+z**2)**k)*(1 + 9*exp(g*z))*log(1 + z**2) / (5*(1 + exp(g*z))),\n",
      "/Users/maurocamara/Documents/University/ManifoldSampling/g_and_k_functions.py:173: RuntimeWarning: overflow encountered in exp\n",
      "  diag(b*((1+z**2)**(k-1))*(((18*k + 9)*(z**2) + 9)*exp(2*g*z) + (8*g*z**3 + (20*k + 10)*z**2 + 8*g*z + 10)*exp(g*z) + (2*k + 1)*z**2 + 1) / (5*(1 + exp(g*z))**2))\n",
      "/Users/maurocamara/Documents/University/ManifoldSampling/g_and_k_functions.py:173: RuntimeWarning: invalid value encountered in add\n",
      "  diag(b*((1+z**2)**(k-1))*(((18*k + 9)*(z**2) + 9)*exp(2*g*z) + (8*g*z**3 + (20*k + 10)*z**2 + 8*g*z + 10)*exp(g*z) + (2*k + 1)*z**2 + 1) / (5*(1 + exp(g*z))**2))\n",
      "/Users/maurocamara/Documents/University/ManifoldSampling/g_and_k_functions.py:170: RuntimeWarning: overflow encountered in exp\n",
      "  (1 + 0.8 * (1 - exp(-g * z)) / (1 + exp(-g * z))) * ((1 + z**2)**k) * z,\n",
      "/Users/maurocamara/Documents/University/ManifoldSampling/g_and_k_functions.py:170: RuntimeWarning: invalid value encountered in true_divide\n",
      "  (1 + 0.8 * (1 - exp(-g * z)) / (1 + exp(-g * z))) * ((1 + z**2)**k) * z,\n",
      "/Users/maurocamara/Documents/University/ManifoldSampling/g_and_k_functions.py:171: RuntimeWarning: overflow encountered in square\n",
      "  8 * b * (z**2) * ((1 + z**2)**k) * exp(g*z) / (5 * (1 + exp(g*z))**2),\n",
      "/Users/maurocamara/Documents/University/ManifoldSampling/g_and_k_functions.py:171: RuntimeWarning: invalid value encountered in true_divide\n",
      "  8 * b * (z**2) * ((1 + z**2)**k) * exp(g*z) / (5 * (1 + exp(g*z))**2),\n",
      "/Users/maurocamara/Documents/University/ManifoldSampling/g_and_k_functions.py:172: RuntimeWarning: invalid value encountered in true_divide\n",
      "  b*z*((1+z**2)**k)*(1 + 9*exp(g*z))*log(1 + z**2) / (5*(1 + exp(g*z))),\n",
      "/Users/maurocamara/Documents/University/ManifoldSampling/g_and_k_functions.py:173: RuntimeWarning: invalid value encountered in multiply\n",
      "  diag(b*((1+z**2)**(k-1))*(((18*k + 9)*(z**2) + 9)*exp(2*g*z) + (8*g*z**3 + (20*k + 10)*z**2 + 8*g*z + 10)*exp(g*z) + (2*k + 1)*z**2 + 1) / (5*(1 + exp(g*z))**2))\n",
      "/Users/maurocamara/Documents/University/ManifoldSampling/g_and_k_functions.py:173: RuntimeWarning: overflow encountered in square\n",
      "  diag(b*((1+z**2)**(k-1))*(((18*k + 9)*(z**2) + 9)*exp(2*g*z) + (8*g*z**3 + (20*k + 10)*z**2 + 8*g*z + 10)*exp(g*z) + (2*k + 1)*z**2 + 1) / (5*(1 + exp(g*z))**2))\n",
      "/Users/maurocamara/Documents/University/ManifoldSampling/g_and_k_functions.py:173: RuntimeWarning: invalid value encountered in true_divide\n",
      "  diag(b*((1+z**2)**(k-1))*(((18*k + 9)*(z**2) + 9)*exp(2*g*z) + (8*g*z**3 + (20*k + 10)*z**2 + 8*g*z + 10)*exp(g*z) + (2*k + 1)*z**2 + 1) / (5*(1 + exp(g*z))**2))\n",
      "/Users/maurocamara/Documents/University/ManifoldSampling/g_and_k_functions.py:152: RuntimeWarning: overflow encountered in exp\n",
      "  return a + b*(1 + 0.8 * (1 - exp(-g * z)) / (1 + exp(-g * z))) * ((1 + z**2)**k) * z\n",
      "/Users/maurocamara/Documents/University/ManifoldSampling/g_and_k_functions.py:152: RuntimeWarning: invalid value encountered in true_divide\n",
      "  return a + b*(1 + 0.8 * (1 - exp(-g * z)) / (1 + exp(-g * z))) * ((1 + z**2)**k) * z\n",
      "/Users/maurocamara/Documents/University/ManifoldSampling/g_and_k_functions.py:173: RuntimeWarning: overflow encountered in multiply\n",
      "  diag(b*((1+z**2)**(k-1))*(((18*k + 9)*(z**2) + 9)*exp(2*g*z) + (8*g*z**3 + (20*k + 10)*z**2 + 8*g*z + 10)*exp(g*z) + (2*k + 1)*z**2 + 1) / (5*(1 + exp(g*z))**2))\n"
     ]
    },
    {
     "name": "stderr",
     "output_type": "stream",
     "text": [
      "/Users/maurocamara/Documents/University/ManifoldSampling/g_and_k_functions.py:172: RuntimeWarning: overflow encountered in multiply\n",
      "  b*z*((1+z**2)**k)*(1 + 9*exp(g*z))*log(1 + z**2) / (5*(1 + exp(g*z))),\n",
      "/Users/maurocamara/Documents/University/ManifoldSampling/g_and_k_functions.py:170: RuntimeWarning: overflow encountered in exp\n",
      "  (1 + 0.8 * (1 - exp(-g * z)) / (1 + exp(-g * z))) * ((1 + z**2)**k) * z,\n",
      "/Users/maurocamara/Documents/University/ManifoldSampling/g_and_k_functions.py:170: RuntimeWarning: invalid value encountered in true_divide\n",
      "  (1 + 0.8 * (1 - exp(-g * z)) / (1 + exp(-g * z))) * ((1 + z**2)**k) * z,\n",
      "/Users/maurocamara/Documents/University/ManifoldSampling/g_and_k_functions.py:171: RuntimeWarning: overflow encountered in exp\n",
      "  8 * b * (z**2) * ((1 + z**2)**k) * exp(g*z) / (5 * (1 + exp(g*z))**2),\n",
      "/Users/maurocamara/Documents/University/ManifoldSampling/g_and_k_functions.py:171: RuntimeWarning: invalid value encountered in multiply\n",
      "  8 * b * (z**2) * ((1 + z**2)**k) * exp(g*z) / (5 * (1 + exp(g*z))**2),\n",
      "/Users/maurocamara/Documents/University/ManifoldSampling/g_and_k_functions.py:172: RuntimeWarning: overflow encountered in exp\n",
      "  b*z*((1+z**2)**k)*(1 + 9*exp(g*z))*log(1 + z**2) / (5*(1 + exp(g*z))),\n",
      "/Users/maurocamara/Documents/University/ManifoldSampling/g_and_k_functions.py:172: RuntimeWarning: invalid value encountered in multiply\n",
      "  b*z*((1+z**2)**k)*(1 + 9*exp(g*z))*log(1 + z**2) / (5*(1 + exp(g*z))),\n",
      "/Users/maurocamara/Documents/University/ManifoldSampling/g_and_k_functions.py:173: RuntimeWarning: overflow encountered in exp\n",
      "  diag(b*((1+z**2)**(k-1))*(((18*k + 9)*(z**2) + 9)*exp(2*g*z) + (8*g*z**3 + (20*k + 10)*z**2 + 8*g*z + 10)*exp(g*z) + (2*k + 1)*z**2 + 1) / (5*(1 + exp(g*z))**2))\n",
      "/Users/maurocamara/Documents/University/ManifoldSampling/g_and_k_functions.py:173: RuntimeWarning: invalid value encountered in add\n",
      "  diag(b*((1+z**2)**(k-1))*(((18*k + 9)*(z**2) + 9)*exp(2*g*z) + (8*g*z**3 + (20*k + 10)*z**2 + 8*g*z + 10)*exp(g*z) + (2*k + 1)*z**2 + 1) / (5*(1 + exp(g*z))**2))\n",
      "/Users/maurocamara/Documents/University/ManifoldSampling/g_and_k_functions.py:152: RuntimeWarning: overflow encountered in exp\n",
      "  return a + b*(1 + 0.8 * (1 - exp(-g * z)) / (1 + exp(-g * z))) * ((1 + z**2)**k) * z\n",
      "/Users/maurocamara/Documents/University/ManifoldSampling/g_and_k_functions.py:152: RuntimeWarning: invalid value encountered in true_divide\n",
      "  return a + b*(1 + 0.8 * (1 - exp(-g * z)) / (1 + exp(-g * z))) * ((1 + z**2)**k) * z\n",
      "/Users/maurocamara/Documents/University/ManifoldSampling/g_and_k_functions.py:170: RuntimeWarning: overflow encountered in exp\n",
      "  (1 + 0.8 * (1 - exp(-g * z)) / (1 + exp(-g * z))) * ((1 + z**2)**k) * z,\n",
      "/Users/maurocamara/Documents/University/ManifoldSampling/g_and_k_functions.py:170: RuntimeWarning: invalid value encountered in true_divide\n",
      "  (1 + 0.8 * (1 - exp(-g * z)) / (1 + exp(-g * z))) * ((1 + z**2)**k) * z,\n",
      "/Users/maurocamara/Documents/University/ManifoldSampling/g_and_k_functions.py:171: RuntimeWarning: overflow encountered in exp\n",
      "  8 * b * (z**2) * ((1 + z**2)**k) * exp(g*z) / (5 * (1 + exp(g*z))**2),\n",
      "/Users/maurocamara/Documents/University/ManifoldSampling/g_and_k_functions.py:171: RuntimeWarning: invalid value encountered in multiply\n",
      "  8 * b * (z**2) * ((1 + z**2)**k) * exp(g*z) / (5 * (1 + exp(g*z))**2),\n",
      "/Users/maurocamara/Documents/University/ManifoldSampling/g_and_k_functions.py:172: RuntimeWarning: overflow encountered in exp\n",
      "  b*z*((1+z**2)**k)*(1 + 9*exp(g*z))*log(1 + z**2) / (5*(1 + exp(g*z))),\n",
      "/Users/maurocamara/Documents/University/ManifoldSampling/g_and_k_functions.py:172: RuntimeWarning: invalid value encountered in multiply\n",
      "  b*z*((1+z**2)**k)*(1 + 9*exp(g*z))*log(1 + z**2) / (5*(1 + exp(g*z))),\n",
      "/Users/maurocamara/Documents/University/ManifoldSampling/g_and_k_functions.py:173: RuntimeWarning: overflow encountered in exp\n",
      "  diag(b*((1+z**2)**(k-1))*(((18*k + 9)*(z**2) + 9)*exp(2*g*z) + (8*g*z**3 + (20*k + 10)*z**2 + 8*g*z + 10)*exp(g*z) + (2*k + 1)*z**2 + 1) / (5*(1 + exp(g*z))**2))\n",
      "/Users/maurocamara/Documents/University/ManifoldSampling/g_and_k_functions.py:173: RuntimeWarning: invalid value encountered in add\n",
      "  diag(b*((1+z**2)**(k-1))*(((18*k + 9)*(z**2) + 9)*exp(2*g*z) + (8*g*z**3 + (20*k + 10)*z**2 + 8*g*z + 10)*exp(g*z) + (2*k + 1)*z**2 + 1) / (5*(1 + exp(g*z))**2))\n",
      "/Users/maurocamara/Documents/University/ManifoldSampling/g_and_k_functions.py:152: RuntimeWarning: overflow encountered in exp\n",
      "  return a + b*(1 + 0.8 * (1 - exp(-g * z)) / (1 + exp(-g * z))) * ((1 + z**2)**k) * z\n",
      "/Users/maurocamara/Documents/University/ManifoldSampling/g_and_k_functions.py:152: RuntimeWarning: invalid value encountered in true_divide\n",
      "  return a + b*(1 + 0.8 * (1 - exp(-g * z)) / (1 + exp(-g * z))) * ((1 + z**2)**k) * z\n",
      "/Users/maurocamara/Documents/University/ManifoldSampling/g_and_k_functions.py:171: RuntimeWarning: invalid value encountered in true_divide\n",
      "  8 * b * (z**2) * ((1 + z**2)**k) * exp(g*z) / (5 * (1 + exp(g*z))**2),\n",
      "/Users/maurocamara/Documents/University/ManifoldSampling/g_and_k_functions.py:172: RuntimeWarning: invalid value encountered in true_divide\n",
      "  b*z*((1+z**2)**k)*(1 + 9*exp(g*z))*log(1 + z**2) / (5*(1 + exp(g*z))),\n",
      "/Users/maurocamara/Documents/University/ManifoldSampling/g_and_k_functions.py:171: RuntimeWarning: overflow encountered in square\n",
      "  8 * b * (z**2) * ((1 + z**2)**k) * exp(g*z) / (5 * (1 + exp(g*z))**2),\n",
      "/Users/maurocamara/Documents/University/ManifoldSampling/g_and_k_functions.py:173: RuntimeWarning: overflow encountered in square\n",
      "  diag(b*((1+z**2)**(k-1))*(((18*k + 9)*(z**2) + 9)*exp(2*g*z) + (8*g*z**3 + (20*k + 10)*z**2 + 8*g*z + 10)*exp(g*z) + (2*k + 1)*z**2 + 1) / (5*(1 + exp(g*z))**2))\n",
      "/Users/maurocamara/Documents/University/ManifoldSampling/g_and_k_functions.py:173: RuntimeWarning: invalid value encountered in true_divide\n",
      "  diag(b*((1+z**2)**(k-1))*(((18*k + 9)*(z**2) + 9)*exp(2*g*z) + (8*g*z**3 + (20*k + 10)*z**2 + 8*g*z + 10)*exp(g*z) + (2*k + 1)*z**2 + 1) / (5*(1 + exp(g*z))**2))\n",
      "/Users/maurocamara/Documents/University/ManifoldSampling/g_and_k_functions.py:170: RuntimeWarning: overflow encountered in exp\n",
      "  (1 + 0.8 * (1 - exp(-g * z)) / (1 + exp(-g * z))) * ((1 + z**2)**k) * z,\n",
      "/Users/maurocamara/Documents/University/ManifoldSampling/g_and_k_functions.py:170: RuntimeWarning: invalid value encountered in true_divide\n",
      "  (1 + 0.8 * (1 - exp(-g * z)) / (1 + exp(-g * z))) * ((1 + z**2)**k) * z,\n",
      "/Users/maurocamara/Documents/University/ManifoldSampling/g_and_k_functions.py:171: RuntimeWarning: overflow encountered in exp\n",
      "  8 * b * (z**2) * ((1 + z**2)**k) * exp(g*z) / (5 * (1 + exp(g*z))**2),\n",
      "/Users/maurocamara/Documents/University/ManifoldSampling/g_and_k_functions.py:171: RuntimeWarning: invalid value encountered in multiply\n",
      "  8 * b * (z**2) * ((1 + z**2)**k) * exp(g*z) / (5 * (1 + exp(g*z))**2),\n",
      "/Users/maurocamara/Documents/University/ManifoldSampling/g_and_k_functions.py:171: RuntimeWarning: overflow encountered in square\n",
      "  8 * b * (z**2) * ((1 + z**2)**k) * exp(g*z) / (5 * (1 + exp(g*z))**2),\n",
      "/Users/maurocamara/Documents/University/ManifoldSampling/g_and_k_functions.py:171: RuntimeWarning: invalid value encountered in true_divide\n",
      "  8 * b * (z**2) * ((1 + z**2)**k) * exp(g*z) / (5 * (1 + exp(g*z))**2),\n",
      "/Users/maurocamara/Documents/University/ManifoldSampling/g_and_k_functions.py:172: RuntimeWarning: overflow encountered in exp\n",
      "  b*z*((1+z**2)**k)*(1 + 9*exp(g*z))*log(1 + z**2) / (5*(1 + exp(g*z))),\n",
      "/Users/maurocamara/Documents/University/ManifoldSampling/g_and_k_functions.py:172: RuntimeWarning: invalid value encountered in multiply\n",
      "  b*z*((1+z**2)**k)*(1 + 9*exp(g*z))*log(1 + z**2) / (5*(1 + exp(g*z))),\n",
      "/Users/maurocamara/Documents/University/ManifoldSampling/g_and_k_functions.py:172: RuntimeWarning: invalid value encountered in true_divide\n",
      "  b*z*((1+z**2)**k)*(1 + 9*exp(g*z))*log(1 + z**2) / (5*(1 + exp(g*z))),\n",
      "/Users/maurocamara/Documents/University/ManifoldSampling/g_and_k_functions.py:173: RuntimeWarning: overflow encountered in exp\n",
      "  diag(b*((1+z**2)**(k-1))*(((18*k + 9)*(z**2) + 9)*exp(2*g*z) + (8*g*z**3 + (20*k + 10)*z**2 + 8*g*z + 10)*exp(g*z) + (2*k + 1)*z**2 + 1) / (5*(1 + exp(g*z))**2))\n",
      "/Users/maurocamara/Documents/University/ManifoldSampling/g_and_k_functions.py:173: RuntimeWarning: invalid value encountered in add\n",
      "  diag(b*((1+z**2)**(k-1))*(((18*k + 9)*(z**2) + 9)*exp(2*g*z) + (8*g*z**3 + (20*k + 10)*z**2 + 8*g*z + 10)*exp(g*z) + (2*k + 1)*z**2 + 1) / (5*(1 + exp(g*z))**2))\n",
      "/Users/maurocamara/Documents/University/ManifoldSampling/g_and_k_functions.py:173: RuntimeWarning: invalid value encountered in multiply\n",
      "  diag(b*((1+z**2)**(k-1))*(((18*k + 9)*(z**2) + 9)*exp(2*g*z) + (8*g*z**3 + (20*k + 10)*z**2 + 8*g*z + 10)*exp(g*z) + (2*k + 1)*z**2 + 1) / (5*(1 + exp(g*z))**2))\n",
      "/Users/maurocamara/Documents/University/ManifoldSampling/g_and_k_functions.py:173: RuntimeWarning: overflow encountered in square\n",
      "  diag(b*((1+z**2)**(k-1))*(((18*k + 9)*(z**2) + 9)*exp(2*g*z) + (8*g*z**3 + (20*k + 10)*z**2 + 8*g*z + 10)*exp(g*z) + (2*k + 1)*z**2 + 1) / (5*(1 + exp(g*z))**2))\n",
      "/Users/maurocamara/Documents/University/ManifoldSampling/g_and_k_functions.py:173: RuntimeWarning: invalid value encountered in true_divide\n",
      "  diag(b*((1+z**2)**(k-1))*(((18*k + 9)*(z**2) + 9)*exp(2*g*z) + (8*g*z**3 + (20*k + 10)*z**2 + 8*g*z + 10)*exp(g*z) + (2*k + 1)*z**2 + 1) / (5*(1 + exp(g*z))**2))\n",
      "/Users/maurocamara/Documents/University/ManifoldSampling/g_and_k_functions.py:152: RuntimeWarning: overflow encountered in exp\n",
      "  return a + b*(1 + 0.8 * (1 - exp(-g * z)) / (1 + exp(-g * z))) * ((1 + z**2)**k) * z\n",
      "/Users/maurocamara/Documents/University/ManifoldSampling/g_and_k_functions.py:152: RuntimeWarning: invalid value encountered in true_divide\n",
      "  return a + b*(1 + 0.8 * (1 - exp(-g * z)) / (1 + exp(-g * z))) * ((1 + z**2)**k) * z\n",
      "/Users/maurocamara/Documents/University/ManifoldSampling/g_and_k_functions.py:173: RuntimeWarning: overflow encountered in multiply\n",
      "  diag(b*((1+z**2)**(k-1))*(((18*k + 9)*(z**2) + 9)*exp(2*g*z) + (8*g*z**3 + (20*k + 10)*z**2 + 8*g*z + 10)*exp(g*z) + (2*k + 1)*z**2 + 1) / (5*(1 + exp(g*z))**2))\n",
      "/Users/maurocamara/Documents/University/ManifoldSampling/HMC/static_hmc.py:68: RuntimeWarning: invalid value encountered in matmul\n",
      "  q = q + self.epsilon * (self.Minv @ p)\n",
      "/Users/maurocamara/Documents/University/ManifoldSampling/g_and_k_functions.py:172: RuntimeWarning: overflow encountered in multiply\n",
      "  b*z*((1+z**2)**k)*(1 + 9*exp(g*z))*log(1 + z**2) / (5*(1 + exp(g*z))),\n",
      "/Users/maurocamara/Documents/University/ManifoldSampling/g_and_k_functions.py:171: RuntimeWarning: overflow encountered in multiply\n",
      "  8 * b * (z**2) * ((1 + z**2)**k) * exp(g*z) / (5 * (1 + exp(g*z))**2),\n",
      "/Users/maurocamara/Documents/University/ManifoldSampling/HMC/static_hmc.py:73: RuntimeWarning: invalid value encountered in matmul\n",
      "  q = q + self.epsilon * (self.Minv @ p)\n"
     ]
    },
    {
     "name": "stderr",
     "output_type": "stream",
     "text": [
      "/Users/maurocamara/Documents/University/ManifoldSampling/g_and_k_functions.py:170: RuntimeWarning: overflow encountered in power\n",
      "  (1 + 0.8 * (1 - exp(-g * z)) / (1 + exp(-g * z))) * ((1 + z**2)**k) * z,\n",
      "/Users/maurocamara/Documents/University/ManifoldSampling/g_and_k_functions.py:171: RuntimeWarning: overflow encountered in power\n",
      "  8 * b * (z**2) * ((1 + z**2)**k) * exp(g*z) / (5 * (1 + exp(g*z))**2),\n",
      "/Users/maurocamara/Documents/University/ManifoldSampling/g_and_k_functions.py:172: RuntimeWarning: overflow encountered in power\n",
      "  b*z*((1+z**2)**k)*(1 + 9*exp(g*z))*log(1 + z**2) / (5*(1 + exp(g*z))),\n",
      "/Users/maurocamara/Documents/University/ManifoldSampling/g_and_k_functions.py:173: RuntimeWarning: overflow encountered in power\n",
      "  diag(b*((1+z**2)**(k-1))*(((18*k + 9)*(z**2) + 9)*exp(2*g*z) + (8*g*z**3 + (20*k + 10)*z**2 + 8*g*z + 10)*exp(g*z) + (2*k + 1)*z**2 + 1) / (5*(1 + exp(g*z))**2))\n",
      "/Users/maurocamara/Documents/University/ManifoldSampling/g_and_k_functions.py:152: RuntimeWarning: overflow encountered in power\n",
      "  return a + b*(1 + 0.8 * (1 - exp(-g * z)) / (1 + exp(-g * z))) * ((1 + z**2)**k) * z\n",
      "/Users/maurocamara/Documents/University/ManifoldSampling/g_and_k_functions.py:229: RuntimeWarning: invalid value encountered in matmul\n",
      "  dkdξ = self.Jf_transpose(ξ) @ (self.f(ξ) - self.ystar) / (self.epsilon**2)\n",
      "/Users/maurocamara/Documents/University/ManifoldSampling/g_and_k_functions.py:229: RuntimeWarning: overflow encountered in matmul\n",
      "  dkdξ = self.Jf_transpose(ξ) @ (self.f(ξ) - self.ystar) / (self.epsilon**2)\n",
      "/Users/maurocamara/Documents/University/ManifoldSampling/g_and_k_functions.py:229: RuntimeWarning: overflow encountered in true_divide\n",
      "  dkdξ = self.Jf_transpose(ξ) @ (self.f(ξ) - self.ystar) / (self.epsilon**2)\n",
      "/Users/maurocamara/Documents/University/ManifoldSampling/g_and_k_functions.py:152: RuntimeWarning: overflow encountered in multiply\n",
      "  return a + b*(1 + 0.8 * (1 - exp(-g * z)) / (1 + exp(-g * z))) * ((1 + z**2)**k) * z\n"
     ]
    }
   ],
   "source": [
    "out_hmc, avg_cc_hmc, var_cc_hmc, rmse_hmc = run_p_times(ϵ_list, ystars, alg='HMC', N=N_SAMPLES, prior=prior_to_generate_data)"
   ]
  },
  {
   "cell_type": "code",
   "execution_count": 245,
   "id": "2f1e06ec",
   "metadata": {},
   "outputs": [],
   "source": [
    "caption = \"Computational cost per effective sample in log10 scale. Total computational cost for RWM is the total number of $f$ evaluations, for all other algorithms we sum to it the number of Jacobian computations. ESS was computed on the log posterior density of samples.\"\n",
    "\n",
    "# Generate latex table with the results\n",
    "def generate_latex_table_with_mean_and_var(AVG, VAR, ϵ_list=ϵ_list, caption=caption):\n",
    "    \"\"\"Generates Chang's latex table.\n",
    "    Algorithm order is HUG, THUG, HMC, RWM\"\"\"                \n",
    "    # Generate table\n",
    "    string  = r'\\begin{table}'\n",
    "    string += \"\\n\\t\" + r'\\begin{tabular}{ | l | l | l | l | l |}'\n",
    "    string += \"\\n\\t\" + r'\\hline'\n",
    "    string += \"\\n\\t\" + \"Tolerances & HUG & THUG & HMC & RWM \\\\\\ \\hline\"\n",
    "    for i, ϵ in enumerate(ϵ_list):\n",
    "        row = \"\\n\\t\" + \"{}  & {:.2f} ($\\pm$ {:.2f}) & {:.2f} ($\\pm$ {:.2f}) & {:.2f} ($\\pm$ {:.2f}) & {:.2f} ($\\pm$ {:.2f}) \\\\\\ \\hline\".format(ϵ, AVG[0][ϵ], VAR[0][ϵ], AVG[1][ϵ], VAR[1][ϵ], AVG[2][ϵ], VAR[2][ϵ], AVG[3][ϵ], VAR[3][ϵ])\n",
    "        string += row.replace('nan', '-') \n",
    "    string += \"\\n\\t\" + r'\\end{tabular}'\n",
    "    string += \"\\n\\t \\caption{\" + caption + \"}\"\n",
    "    string += \"\\n\" + r'\\end{table}'\n",
    "    return string\n",
    "\n",
    "\n",
    "# Generate latex table with the results\n",
    "def generate_latex_table_with_mean_and_var_no_hmc(AVG, VAR, ϵ_list=ϵ_list, caption=caption):\n",
    "    \"\"\"Generates Chang's latex table. NO HMC!!!!\n",
    "    Algorithm order is HUG, THUG, RWM\"\"\"                \n",
    "    # Generate table\n",
    "    string  = r'\\begin{table}'\n",
    "    string += \"\\n\\t\" + r'\\begin{tabular}{ | l | l | l | l | l |}'\n",
    "    string += \"\\n\\t\" + r'\\hline'\n",
    "    string += \"\\n\\t\" + \"Tolerances & HUG & THUG & RWM \\\\\\ \\hline\"\n",
    "    for i, ϵ in enumerate(ϵ_list):\n",
    "        row = \"\\n\\t\" + \"{}  & {:.2f} ($\\pm$ {:.2f}) & {:.2f} ($\\pm$ {:.2f}) & {:.2f} ($\\pm$ {:.2f}) \\\\\\ \\hline\".format(ϵ, AVG[0][ϵ], VAR[0][ϵ], AVG[1][ϵ], VAR[1][ϵ], AVG[2][ϵ], VAR[2][ϵ])\n",
    "        string += row.replace('nan', '-') \n",
    "    string += \"\\n\\t\" + r'\\end{tabular}'\n",
    "    string += \"\\n\\t \\caption{\" + caption + \"}\"\n",
    "    string += \"\\n\" + r'\\end{table}'\n",
    "    return string"
   ]
  },
  {
   "cell_type": "code",
   "execution_count": 227,
   "id": "7ae52d1d",
   "metadata": {},
   "outputs": [],
   "source": [
    "VAR = copy.deepcopy(np.array([var_cc_hug, var_cc_thug, var_cc_hmc, var_cc_rwm]))\n",
    "AVG = copy.deepcopy(np.array([avg_cc_hug, avg_cc_thug, avg_cc_hmc, avg_cc_rwm]))"
   ]
  },
  {
   "cell_type": "code",
   "execution_count": 228,
   "id": "916eef61",
   "metadata": {},
   "outputs": [
    {
     "name": "stdout",
     "output_type": "stream",
     "text": [
      "\\begin{table}\n",
      "\t\\begin{tabular}{ | l | l | l | l | l |}\n",
      "\t\\hline\n",
      "\tTolerances & HUG & THUG & HMC & RWM \\\\ \\hline\n",
      "\t10.0  & 2.99 ($\\pm$ 0.05) & 3.09 ($\\pm$ 0.11) & 3.13 ($\\pm$ 0.43) & 1.92 ($\\pm$ 0.38) \\\\ \\hline\n",
      "\t1.0  & 2.99 ($\\pm$ 0.04) & 2.96 ($\\pm$ 0.40) & 3.53 ($\\pm$ 0.29) & - ($\\pm$ -) \\\\ \\hline\n",
      "\t0.1  & 2.92 ($\\pm$ 0.06) & 3.15 ($\\pm$ 0.10) & - ($\\pm$ -) & 2.58 ($\\pm$ 0.82) \\\\ \\hline\n",
      "\t0.01  & 2.83 ($\\pm$ 0.08) & 3.11 ($\\pm$ 0.11) & - ($\\pm$ -) & 2.63 ($\\pm$ 0.64) \\\\ \\hline\n",
      "\t0.001  & 3.23 ($\\pm$ 0.05) & 3.10 ($\\pm$ 0.11) & - ($\\pm$ -) & 2.59 ($\\pm$ 0.75) \\\\ \\hline\n",
      "\t0.0001  & 3.50 ($\\pm$ 0.16) & 3.08 ($\\pm$ 0.16) & - ($\\pm$ -) & - ($\\pm$ -) \\\\ \\hline\n",
      "\t\\end{tabular}\n",
      "\t \\caption{Computational cost per effective sample in log10 scale. Total computational cost for RWM is the total number of $f$ evaluations, for all other algorithms we sum to it the number of Jacobian computations. ESS was computed on the log posterior density of samples.}\n",
      "\\end{table}\n"
     ]
    }
   ],
   "source": [
    "print(generate_latex_table_with_mean_and_var(AVG, VAR))"
   ]
  },
  {
   "cell_type": "code",
   "execution_count": 246,
   "id": "7817fc0c",
   "metadata": {},
   "outputs": [],
   "source": [
    "VAR_NO_HMC = copy.deepcopy(np.array([var_cc_hug, var_cc_thug, var_cc_rwm]))\n",
    "AVG_NO_HMC = copy.deepcopy(np.array([avg_cc_hug, avg_cc_thug, avg_cc_rwm]))"
   ]
  },
  {
   "cell_type": "code",
   "execution_count": 247,
   "id": "c7a004d6",
   "metadata": {},
   "outputs": [
    {
     "name": "stdout",
     "output_type": "stream",
     "text": [
      "\\begin{table}\n",
      "\t\\begin{tabular}{ | l | l | l | l | l |}\n",
      "\t\\hline\n",
      "\tTolerances & HUG & THUG & RWM \\\\ \\hline\n",
      "\t10.0  & 3.19 ($\\pm$ 0.26) & 2.97 ($\\pm$ 0.06) & 2.53 ($\\pm$ 0.19) \\\\ \\hline\n",
      "\t1.0  & 3.22 ($\\pm$ 0.30) & 2.88 ($\\pm$ 0.02) & 3.30 ($\\pm$ 0.29) \\\\ \\hline\n",
      "\t0.1  & 3.31 ($\\pm$ 0.24) & 2.95 ($\\pm$ 0.04) & - ($\\pm$ -) \\\\ \\hline\n",
      "\t0.01  & 3.62 ($\\pm$ 0.16) & 2.99 ($\\pm$ 0.04) & - ($\\pm$ -) \\\\ \\hline\n",
      "\t0.001  & 3.89 ($\\pm$ 0.07) & 3.08 ($\\pm$ 0.11) & - ($\\pm$ -) \\\\ \\hline\n",
      "\t0.0001  & - ($\\pm$ -) & 3.61 ($\\pm$ 0.05) & - ($\\pm$ -) \\\\ \\hline\n",
      "\t\\end{tabular}\n",
      "\t \\caption{Computational cost per effective sample in log10 scale. Total computational cost for RWM is the total number of $f$ evaluations, for all other algorithms we sum to it the number of Jacobian computations. ESS was computed on the log posterior density of samples.}\n",
      "\\end{table}\n"
     ]
    }
   ],
   "source": [
    "print(generate_latex_table_with_mean_and_var_no_hmc(AVG_NO_HMC, VAR_NO_HMC))"
   ]
  },
  {
   "cell_type": "code",
   "execution_count": null,
   "id": "dcae4ba1",
   "metadata": {},
   "outputs": [],
   "source": []
  },
  {
   "cell_type": "code",
   "execution_count": null,
   "id": "2dae0c55",
   "metadata": {},
   "outputs": [],
   "source": []
  },
  {
   "cell_type": "code",
   "execution_count": null,
   "id": "1f32192e",
   "metadata": {},
   "outputs": [],
   "source": []
  },
  {
   "cell_type": "code",
   "execution_count": 74,
   "id": "ee65b0bf",
   "metadata": {},
   "outputs": [],
   "source": [
    "def compare_computational_costs(ϵ_list, N, n_independent_runs):\n",
    "    \"\"\"Given a list of ϵ and a number of samples, it will aim to generate a similar table to Chang's.\"\"\"\n",
    "    # Now nest them based on the data points generated\n",
    "    computational_cost     = {i: {\n",
    "        'HUG': zeros_like(ϵ_list),\n",
    "        'THUG': zeros_like(ϵ_list),\n",
    "        'HMC': zeros_like(ϵ_list),\n",
    "        'RWM': zeros_like(ϵ_list)\n",
    "    } for i in range(n_independent_runs)}\n",
    "    acceptance_probability = {i: {\n",
    "        'HUG': zeros_like(ϵ_list),\n",
    "        'THUG': zeros_like(ϵ_list),\n",
    "        'HMC': zeros_like(ϵ_list),\n",
    "        'RWM': zeros_like(ϵ_list)\n",
    "    } for i in range(n_independent_runs)}\n",
    "    ess                    = {i: {\n",
    "        'HUG': zeros_like(ϵ_list),\n",
    "        'THUG': zeros_like(ϵ_list),\n",
    "        'HMC': zeros_like(ϵ_list),\n",
    "        'RWM': zeros_like(ϵ_list)\n",
    "    } for i in range(n_independent_runs)}\n",
    "    # Set some seeds\n",
    "    seeds  = {i: randint(1111, 9999) for i in range(n_independent_runs)}\n",
    "    for j in range(n_independent_runs):\n",
    "        for i, ϵ in enumerate(ϵ_list):\n",
    "            # Create the correct set up\n",
    "            GK = GandK(m=n_latents, epsilon=ϵ, parameter_prior='normal', kernel='normal', normal_prior_scale=nps)\n",
    "            if i == 0:\n",
    "                ystar = GK.data_generator(θ0, seed=seeds[j])\n",
    "            GK.set_ystar(ystar)\n",
    "            if i == 0:\n",
    "                ξ0 = GK.find_point_on_manifold(max_iter=5000)\n",
    "            print('Run {}, ϵ = {}, ystar mean = {}'.format(j, ϵ, ystar.mean()))\n",
    "            # Sample HUG\n",
    "            print('\\t Sampling HUG')\n",
    "            sHUG, aHUG, ngHUG = HugTangentialMultivariate(ξ0, T, B, N, 0.0, q, GK.log_abc_posterior, GK.Jf, method='qr', return_n_grad=True)\n",
    "            # Sample THUG α=0.9\n",
    "            print('\\t Sampling THUG')\n",
    "            sTHUG, aTHUG, ngTHUG = HugTangentialMultivariate(ξ0, T, B, N, 0.99, q, GK.log_abc_posterior, GK.Jf, method='qr', return_n_grad=True)\n",
    "            # Prep HMC\n",
    "            def dVdξ(ξ, μ= 5*ones(4), Σ=(nps**2)*eye(4), ystar=ystar, ϵ=ϵ, GK=GK):\n",
    "                θ, z = ξ[:4], ξ[4:]\n",
    "                dpdξ = r_[solve(Σ, θ - μ), z]\n",
    "                dkdξ = GK.Jf_transpose(ξ) @ (GK.f(ξ) - ystar) / (ϵ**2)\n",
    "                return dpdξ + dkdξ\n",
    "            def V(ξ, μ= 5*ones(4), Σ=(nps**2)*eye(4), ystar=ystar, ϵ=ϵ, GK=GK):\n",
    "                θ, z = ξ[:4], ξ[4:]\n",
    "                m    = len(z)\n",
    "                neg_log_prior  = -MVN(mean=μ, cov=Σ).logpdf(θ) -MVN(mean=zeros(m), cov=eye(m)).logpdf(z) \n",
    "                neg_log_kernel = 0.5*log(2*pi*(ϵ**2)) + norm(GK.f(ξ) - ystar)**2 / (2*(ϵ**2))\n",
    "                return neg_log_prior + neg_log_kernel \n",
    "            # Sample HMC\n",
    "            print(\"\\t Sampling HMC\")\n",
    "            HMCsampler                = HMC(ξ0, N, eye(d), T, T/B)\n",
    "            HMCsampler.neg_log_target = lambda ξ: V(ξ, ystar=ystar, ϵ=ϵ, GK=GK)\n",
    "            HMCsampler.dVdq           = lambda ξ: dVdξ(ξ, ystar=ystar, ϵ=ϵ, GK=GK)\n",
    "            sHMC, aHMC                = HMCsampler.sample()\n",
    "            # Sample RWM\n",
    "            print(\"\\t Sampling RWM\")\n",
    "            sRWM, aRWM = RWM(ξ0, T/B, N, GK.log_abc_posterior)\n",
    "            # Compute density values and ESS\n",
    "            hug_density_values  = np.apply_along_axis(GK.log_abc_posterior, 1, sHUG)\n",
    "            thug_density_values = np.apply_along_axis(GK.log_abc_posterior, 1, sTHUG)\n",
    "            hmc_density_values  = np.apply_along_axis(GK.log_abc_posterior, 1, sHMC)\n",
    "            rwm_density_values  = np.apply_along_axis(GK.log_abc_posterior, 1, sRWM)\n",
    "            ess_hug             = ESS_univariate(hug_density_values)\n",
    "            ess_thug            = ESS_univariate(thug_density_values)\n",
    "            ess_hmc             = ESS_univariate(hmc_density_values)\n",
    "            ess_rwm             = ESS_univariate(rwm_density_values)\n",
    "            # Store computational cost\n",
    "            computational_cost[j]['HUG'][i]  = log10((ngHUG + N + 1) / ess_hug)\n",
    "            computational_cost[j]['THUG'][i] = log10((ngTHUG + N + 1) / ess_thug)\n",
    "            computational_cost[j]['HMC'][i]  = log10((HMCsampler.Ngrad + N + 1) / ess_hmc)\n",
    "            computational_cost[j]['RWM'][i]  = log10((N + 1) / ess_rwm)\n",
    "            # Store acceptance probabilities\n",
    "            acceptance_probability[j]['HUG'][i]  = aHUG.mean() * 100\n",
    "            acceptance_probability[j]['THUG'][i] = aTHUG.mean() * 100\n",
    "            acceptance_probability[j]['HMC'][i]  = aHMC.mean() * 100 \n",
    "            acceptance_probability[j]['RWM'][i]  = aRWM.mean() * 100\n",
    "            # Store ESS\n",
    "            ess[j]['HUG'][i] = ess_hug\n",
    "            ess[j]['THUG'][i] = ess_thug\n",
    "            ess[j]['HMC'][i]  = ess_hmc\n",
    "            ess[j]['RWM'][i]  = ess_rwm\n",
    "    return computational_cost, acceptance_probability, ess\n"
   ]
  },
  {
   "cell_type": "code",
   "execution_count": 209,
   "id": "465ae573",
   "metadata": {},
   "outputs": [
    {
     "name": "stdout",
     "output_type": "stream",
     "text": [
      "ϵ =  10.0  completed.\n",
      "ϵ =  5.0  completed.\n",
      "ϵ =  1.0  completed.\n"
     ]
    },
    {
     "name": "stderr",
     "output_type": "stream",
     "text": [
      "/Users/maurocamara/Documents/University/ManifoldSampling/g_and_k_functions.py:153: RuntimeWarning: overflow encountered in exp\n",
      "  8 * b * (z**2) * ((1 + z**2)**k) * exp(g*z) / (5 * (1 + exp(g*z))**2),\n",
      "/Users/maurocamara/Documents/University/ManifoldSampling/g_and_k_functions.py:153: RuntimeWarning: invalid value encountered in true_divide\n",
      "  8 * b * (z**2) * ((1 + z**2)**k) * exp(g*z) / (5 * (1 + exp(g*z))**2),\n",
      "/Users/maurocamara/Documents/University/ManifoldSampling/g_and_k_functions.py:154: RuntimeWarning: overflow encountered in exp\n",
      "  b*z*((1+z**2)**k)*(1 + 9*exp(g*z))*log(1 + z**2) / (5*(1 + exp(g*z))),\n",
      "/Users/maurocamara/Documents/University/ManifoldSampling/g_and_k_functions.py:154: RuntimeWarning: invalid value encountered in true_divide\n",
      "  b*z*((1+z**2)**k)*(1 + 9*exp(g*z))*log(1 + z**2) / (5*(1 + exp(g*z))),\n",
      "/Users/maurocamara/Documents/University/ManifoldSampling/g_and_k_functions.py:155: RuntimeWarning: overflow encountered in exp\n",
      "  diag(b*((1+z**2)**(k-1))*(((18*k + 9)*(z**2) + 9)*exp(2*g*z) + (8*g*z**3 + (20*k + 10)*z**2 + 8*g*z + 10)*exp(g*z) + (2*k + 1)*z**2 + 1) / (5*(1 + exp(g*z))**2))\n",
      "/Users/maurocamara/Documents/University/ManifoldSampling/g_and_k_functions.py:155: RuntimeWarning: invalid value encountered in add\n",
      "  diag(b*((1+z**2)**(k-1))*(((18*k + 9)*(z**2) + 9)*exp(2*g*z) + (8*g*z**3 + (20*k + 10)*z**2 + 8*g*z + 10)*exp(g*z) + (2*k + 1)*z**2 + 1) / (5*(1 + exp(g*z))**2))\n",
      "/Users/maurocamara/Documents/University/ManifoldSampling/g_and_k_functions.py:155: RuntimeWarning: overflow encountered in multiply\n",
      "  diag(b*((1+z**2)**(k-1))*(((18*k + 9)*(z**2) + 9)*exp(2*g*z) + (8*g*z**3 + (20*k + 10)*z**2 + 8*g*z + 10)*exp(g*z) + (2*k + 1)*z**2 + 1) / (5*(1 + exp(g*z))**2))\n",
      "/Users/maurocamara/Documents/University/ManifoldSampling/HMC/static_hmc.py:73: RuntimeWarning: invalid value encountered in matmul\n",
      "  q = q + self.epsilon * (self.Minv @ p)\n",
      "/Users/maurocamara/Documents/University/ManifoldSampling/g_and_k_functions.py:152: RuntimeWarning: overflow encountered in exp\n",
      "  (1 + 0.8 * (1 - exp(-g * z)) / (1 + exp(-g * z))) * ((1 + z**2)**k) * z,\n",
      "/Users/maurocamara/Documents/University/ManifoldSampling/g_and_k_functions.py:152: RuntimeWarning: invalid value encountered in true_divide\n",
      "  (1 + 0.8 * (1 - exp(-g * z)) / (1 + exp(-g * z))) * ((1 + z**2)**k) * z,\n",
      "/Users/maurocamara/Documents/University/ManifoldSampling/g_and_k_functions.py:153: RuntimeWarning: invalid value encountered in multiply\n",
      "  8 * b * (z**2) * ((1 + z**2)**k) * exp(g*z) / (5 * (1 + exp(g*z))**2),\n",
      "/Users/maurocamara/Documents/University/ManifoldSampling/g_and_k_functions.py:154: RuntimeWarning: invalid value encountered in multiply\n",
      "  b*z*((1+z**2)**k)*(1 + 9*exp(g*z))*log(1 + z**2) / (5*(1 + exp(g*z))),\n",
      "/Users/maurocamara/Documents/University/ManifoldSampling/g_and_k_functions.py:155: RuntimeWarning: invalid value encountered in multiply\n",
      "  diag(b*((1+z**2)**(k-1))*(((18*k + 9)*(z**2) + 9)*exp(2*g*z) + (8*g*z**3 + (20*k + 10)*z**2 + 8*g*z + 10)*exp(g*z) + (2*k + 1)*z**2 + 1) / (5*(1 + exp(g*z))**2))\n",
      "/Users/maurocamara/Documents/University/ManifoldSampling/g_and_k_functions.py:134: RuntimeWarning: overflow encountered in exp\n",
      "  return a + b*(1 + 0.8 * (1 - exp(-g * z)) / (1 + exp(-g * z))) * ((1 + z**2)**k) * z\n",
      "/Users/maurocamara/Documents/University/ManifoldSampling/g_and_k_functions.py:134: RuntimeWarning: invalid value encountered in true_divide\n",
      "  return a + b*(1 + 0.8 * (1 - exp(-g * z)) / (1 + exp(-g * z))) * ((1 + z**2)**k) * z\n",
      "/Users/maurocamara/Documents/University/ManifoldSampling/g_and_k_functions.py:153: RuntimeWarning: overflow encountered in square\n",
      "  8 * b * (z**2) * ((1 + z**2)**k) * exp(g*z) / (5 * (1 + exp(g*z))**2),\n",
      "/Users/maurocamara/Documents/University/ManifoldSampling/g_and_k_functions.py:155: RuntimeWarning: overflow encountered in square\n",
      "  diag(b*((1+z**2)**(k-1))*(((18*k + 9)*(z**2) + 9)*exp(2*g*z) + (8*g*z**3 + (20*k + 10)*z**2 + 8*g*z + 10)*exp(g*z) + (2*k + 1)*z**2 + 1) / (5*(1 + exp(g*z))**2))\n",
      "/Users/maurocamara/Documents/University/ManifoldSampling/g_and_k_functions.py:155: RuntimeWarning: invalid value encountered in true_divide\n",
      "  diag(b*((1+z**2)**(k-1))*(((18*k + 9)*(z**2) + 9)*exp(2*g*z) + (8*g*z**3 + (20*k + 10)*z**2 + 8*g*z + 10)*exp(g*z) + (2*k + 1)*z**2 + 1) / (5*(1 + exp(g*z))**2))\n",
      "/Users/maurocamara/Documents/University/ManifoldSampling/HMC/static_hmc.py:68: RuntimeWarning: invalid value encountered in matmul\n",
      "  q = q + self.epsilon * (self.Minv @ p)\n",
      "/Users/maurocamara/Documents/University/ManifoldSampling/g_and_k_functions.py:154: RuntimeWarning: overflow encountered in multiply\n",
      "  b*z*((1+z**2)**k)*(1 + 9*exp(g*z))*log(1 + z**2) / (5*(1 + exp(g*z))),\n",
      "/Users/maurocamara/Documents/University/ManifoldSampling/g_and_k_functions.py:153: RuntimeWarning: overflow encountered in multiply\n",
      "  8 * b * (z**2) * ((1 + z**2)**k) * exp(g*z) / (5 * (1 + exp(g*z))**2),\n",
      "/Users/maurocamara/Documents/University/ManifoldSampling/g_and_k_functions.py:155: RuntimeWarning: overflow encountered in power\n",
      "  diag(b*((1+z**2)**(k-1))*(((18*k + 9)*(z**2) + 9)*exp(2*g*z) + (8*g*z**3 + (20*k + 10)*z**2 + 8*g*z + 10)*exp(g*z) + (2*k + 1)*z**2 + 1) / (5*(1 + exp(g*z))**2))\n"
     ]
    },
    {
     "name": "stdout",
     "output_type": "stream",
     "text": [
      "ϵ =  0.1  completed.\n"
     ]
    },
    {
     "name": "stderr",
     "output_type": "stream",
     "text": [
      "/var/folders/31/dthljx8x5mldm2ll5_zz7xrr0000gn/T/ipykernel_42169/4052174234.py:34: RuntimeWarning: overflow encountered in matmul\n",
      "  dkdξ = GK.Jf_transpose(ξ) @ (GK.f(ξ) - ystar) / (ϵ**2)\n",
      "/Users/maurocamara/Documents/University/ManifoldSampling/g_and_k_functions.py:152: RuntimeWarning: overflow encountered in power\n",
      "  (1 + 0.8 * (1 - exp(-g * z)) / (1 + exp(-g * z))) * ((1 + z**2)**k) * z,\n",
      "/Users/maurocamara/Documents/University/ManifoldSampling/g_and_k_functions.py:153: RuntimeWarning: overflow encountered in power\n",
      "  8 * b * (z**2) * ((1 + z**2)**k) * exp(g*z) / (5 * (1 + exp(g*z))**2),\n",
      "/Users/maurocamara/Documents/University/ManifoldSampling/g_and_k_functions.py:154: RuntimeWarning: overflow encountered in power\n",
      "  b*z*((1+z**2)**k)*(1 + 9*exp(g*z))*log(1 + z**2) / (5*(1 + exp(g*z))),\n",
      "/Users/maurocamara/Documents/University/ManifoldSampling/g_and_k_functions.py:134: RuntimeWarning: overflow encountered in power\n",
      "  return a + b*(1 + 0.8 * (1 - exp(-g * z)) / (1 + exp(-g * z))) * ((1 + z**2)**k) * z\n",
      "/var/folders/31/dthljx8x5mldm2ll5_zz7xrr0000gn/T/ipykernel_42169/4052174234.py:34: RuntimeWarning: invalid value encountered in matmul\n",
      "  dkdξ = GK.Jf_transpose(ξ) @ (GK.f(ξ) - ystar) / (ϵ**2)\n",
      "/Users/maurocamara/Documents/University/ManifoldSampling/g_and_k_functions.py:134: RuntimeWarning: overflow encountered in multiply\n",
      "  return a + b*(1 + 0.8 * (1 - exp(-g * z)) / (1 + exp(-g * z))) * ((1 + z**2)**k) * z\n",
      "/Users/maurocamara/Documents/University/ManifoldSampling/g_and_k_functions.py:152: RuntimeWarning: overflow encountered in multiply\n",
      "  (1 + 0.8 * (1 - exp(-g * z)) / (1 + exp(-g * z))) * ((1 + z**2)**k) * z,\n",
      "/Users/maurocamara/Documents/University/ManifoldSampling/g_and_k_functions.py:152: RuntimeWarning: overflow encountered in square\n",
      "  (1 + 0.8 * (1 - exp(-g * z)) / (1 + exp(-g * z))) * ((1 + z**2)**k) * z,\n",
      "/Users/maurocamara/Documents/University/ManifoldSampling/g_and_k_functions.py:154: RuntimeWarning: overflow encountered in square\n",
      "  b*z*((1+z**2)**k)*(1 + 9*exp(g*z))*log(1 + z**2) / (5*(1 + exp(g*z))),\n",
      "/Users/maurocamara/Documents/University/ManifoldSampling/g_and_k_functions.py:134: RuntimeWarning: overflow encountered in square\n",
      "  return a + b*(1 + 0.8 * (1 - exp(-g * z)) / (1 + exp(-g * z))) * ((1 + z**2)**k) * z\n",
      "/var/folders/31/dthljx8x5mldm2ll5_zz7xrr0000gn/T/ipykernel_42169/4052174234.py:34: RuntimeWarning: overflow encountered in true_divide\n",
      "  dkdξ = GK.Jf_transpose(ξ) @ (GK.f(ξ) - ystar) / (ϵ**2)\n"
     ]
    },
    {
     "name": "stdout",
     "output_type": "stream",
     "text": [
      "ϵ =  0.01  completed.\n",
      "ϵ =  0.001  completed.\n",
      "ϵ =  0.0001  completed.\n"
     ]
    }
   ],
   "source": [
    "ϵ_list = [10.0, 5.0, 1.0, 0.1, 0.01, 0.001, 0.0001]\n",
    "cc, ap, ess = compare_computational_costs(ϵ_list, 10000)"
   ]
  },
  {
   "cell_type": "code",
   "execution_count": 218,
   "id": "19971c78",
   "metadata": {},
   "outputs": [],
   "source": [
    "caption = \"Computational cost per effective sample in log10 scale. Total computational cost for RWM is the total number of $f$ evaluations, for all other algorithms we sum to it the number of Jacobian computations. ESS was computed on the log posterior density of samples.\""
   ]
  },
  {
   "cell_type": "code",
   "execution_count": 219,
   "id": "ec7c1734",
   "metadata": {},
   "outputs": [],
   "source": [
    "# Generate Latex Table\n",
    "def generate_latex_table(cc, ap, ϵ_list, caption=caption):\n",
    "    \"\"\"Generates Chang's latex table.\"\"\"\n",
    "    # Check that `cc` and `ap` have the same keys\n",
    "    assert set(cc.keys()) == set(ap.keys())\n",
    "    # Set ordered dictionary for comp cost\n",
    "    cco = OrderedDict(cc)\n",
    "    cco.update({'Tolerances': ϵ_list})\n",
    "    cco.move_to_end('Tolerances', last=False)\n",
    "    for alg in cc.keys():\n",
    "        cco[alg] *= np.array(ap[alg] != 0, dtype=float)\n",
    "    func = lambda alg, i: cco[alg][i] if cco[alg][i] != 0.0 else np.nan\n",
    "    # Generate table\n",
    "    string  = r'\\begin{table}'\n",
    "    string += \"\\n\\t\" + r'\\begin{tabular}{ | l | l | l | l | l |}'\n",
    "    string += \"\\n\\t\" + r'\\hline'\n",
    "    string += \"\\n\\t\" + \"Tolerances & HUG & THUG & HMC & RWM \\\\\\ \\hline\"\n",
    "    for i, ϵ in enumerate(ϵ_list):\n",
    "        row = \"\\n\\t\" + \"{}  & {:.2f} & {:.2f} & {:.2f} & {:.2f} \\\\\\ \\hline\".format(ϵ, func('HUG', i), func('THUG', i), func('HMC', i), func('RWM', i))\n",
    "        string += row.replace('nan', '-')\n",
    "    string += \"\\n\\t\" + r'\\end{tabular}'\n",
    "    string += \"\\n\\t \\caption{\" + caption + \"}\"\n",
    "    string += \"\\n\" + r'\\end{table}'\n",
    "    return string"
   ]
  },
  {
   "cell_type": "code",
   "execution_count": 220,
   "id": "040645a9",
   "metadata": {},
   "outputs": [
    {
     "name": "stdout",
     "output_type": "stream",
     "text": [
      "\\begin{table}\n",
      "\t\\begin{tabular}{ | l | l | l | l | l |}\n",
      "\t\\hline\n",
      "\tTolerances & HUG & THUG & HMC & RWM \\\\ \\hline\n",
      "\t10.0  & 3.38 & 3.30 & 2.91 & 2.36 \\\\ \\hline\n",
      "\t5.0  & 2.95 & 3.24 & 2.54 & 2.29 \\\\ \\hline\n",
      "\t1.0  & 2.81 & 2.80 & 3.08 & - \\\\ \\hline\n",
      "\t0.1  & 2.91 & 2.74 & - & - \\\\ \\hline\n",
      "\t0.01  & 3.69 & 2.98 & - & - \\\\ \\hline\n",
      "\t0.001  & 4.25 & 3.33 & - & - \\\\ \\hline\n",
      "\t0.0001  & - & 4.13 & - & - \\\\ \\hline\n",
      "\t\\end{tabular}\n",
      "\t \\caption{Computational cost per effective sample in log10 scale. Total computational cost for RWM is the total number of $f$ evaluations, for all other algorithms we sum to it the number of Jacobian computations. ESS was computed on the log posterior density of samples.}\n",
      "\\end{table}\n"
     ]
    }
   ],
   "source": [
    "print(generate_latex_table(cc, ap, ϵ_list))"
   ]
  },
  {
   "cell_type": "markdown",
   "id": "b4f06605",
   "metadata": {},
   "source": [
    "#### Short Break: C-HMC"
   ]
  },
  {
   "cell_type": "markdown",
   "id": "d0fa69b8",
   "metadata": {},
   "source": [
    "To avoid messing up environment variables I shall do everything into a function. Notice that at some point I will need to integrate this into the functions above so that I can use the same seeds etc. But for now I don't care too much, I just want to make sure it works."
   ]
  },
  {
   "cell_type": "code",
   "execution_count": 12,
   "id": "cb734f65",
   "metadata": {},
   "outputs": [],
   "source": [
    "from mici.systems import DenseConstrainedEuclideanMetricSystem as DCEMS\n",
    "from mici.integrators import ConstrainedLeapfrogIntegrator as CLI\n",
    "from mici.samplers import StaticMetropolisHMC as SMHMC\n",
    "from mici.samplers import ChainState\n",
    "from numpy.linalg import det\n",
    "import autograd.numpy as anp\n",
    "from autograd.numpy.linalg import det as adet\n",
    "from autograd.numpy.linalg import solve as asolve\n",
    "import autograd"
   ]
  },
  {
   "cell_type": "markdown",
   "id": "867d9dd6",
   "metadata": {},
   "source": [
    "Prior for theta is\n",
    "$$\n",
    "p(\\theta) = \\mathcal{N}(\\theta \\mid \\mu_\\theta, \\Sigma_\\theta)\n",
    "$$\n",
    "which means the density is\n",
    "$$\n",
    "p(\\theta) = (2\\pi)^{-2}\\det(\\Sigma_\\theta)^{-1/2} \\exp\\left(-\\frac{1}{2}(\\theta-\\mu_\\theta)^\\top \\Sigma_\\theta^{-1} (\\theta - \\mu_\\theta)\\right)\n",
    "$$\n",
    "the negative log density is\n",
    "$$\n",
    "-\\log p(\\theta) = 2\\log(2\\pi) + \\frac{1}{2}\\log\\det(\\Sigma_{\\theta}) + \\frac{1}{2}(\\theta-\\mu_\\theta)^\\top \\Sigma_{\\theta}^{-1} (\\theta - \\mu_\\theta)\n",
    "$$"
   ]
  },
  {
   "cell_type": "code",
   "execution_count": 1,
   "id": "bd2a3ab0",
   "metadata": {},
   "outputs": [],
   "source": [
    "def chmc_on_gk(ϵ, nps=3, m=50):\n",
    "    # Generate Data and prepare GK object\n",
    "    seed = randint(1111, 9999)\n",
    "    GK = GandK(m=m, epsilon=ϵ, parameter_prior='normal', kernel='normal', normal_prior_scale=nps)\n",
    "    ystar = GK.data_generator(θ0, seed=seed)\n",
    "    GK.set_ystar(ystar)\n",
    "    \n",
    "    # Find starting point on the manifold\n",
    "    ξ0 = GK.find_point_on_manifold(max_iter=5000)\n",
    "    \n",
    "    #### NEED TO USE AUTOGRAD TO COMPUTE GRADIENT OF NEGATIVE LOG DENSITY\n",
    "    # Prep density and jacobian for C-HMC\n",
    "    def f(xi):\n",
    "        \"\"\"Function of parameters and latent variables. xi has dimension 4 + m.\"\"\"\n",
    "        a, b, g, k, *z = xi\n",
    "        z = anp.array(z)\n",
    "        return a + b*(1 + 0.8 * (1 - anp.exp(-g * z)) / (1 + anp.exp(-g * z))) * ((1 + z**2)**k) * z\n",
    "    def Jf_transpose_autograd(xi):\n",
    "        \"\"\"Returns the transpose of the Jacobian of f.\"\"\"\n",
    "        _, b, g, k, *z = xi\n",
    "        z = anp.array(z)\n",
    "        return anp.vstack((\n",
    "            anp.ones(len(z)),\n",
    "            (1 + 0.8 * (1 - anp.exp(-g * z)) / (1 + anp.exp(-g * z))) * ((1 + z**2)**k) * z,\n",
    "            8 * b * (z**2) * ((1 + z**2)**k) * anp.exp(g*z) / (5 * (1 + anp.exp(g*z))**2),\n",
    "            b*z*((1+z**2)**k)*(1 + 9*anp.exp(g*z))*anp.log(1 + z**2) / (5*(1 + anp.exp(g*z))),\n",
    "            anp.diag(b*((1+z**2)**(k-1))*(((18*k + 9)*(z**2) + 9)*anp.exp(2*g*z) + (8*g*z**3 + (20*k + 10)*z**2 + 8*g*z + 10)*anp.exp(g*z) + (2*k + 1)*z**2 + 1) / (5*(1 + anp.exp(g*z))**2))\n",
    "        ))\n",
    "    def neg_log_prior_theta_autograd(θ):\n",
    "        \"\"\"Negative log prior for the parameters.\"\"\"\n",
    "        μθ = anp.array([5, 5, 5, 5])\n",
    "        Σθ = (nps**2)*anp.eye(2)\n",
    "        return 2*anp.log(2*anp.pi) + 0.5*anp.log(adet(Σθ)) + 0.5*(θ-μθ)@(asolve(Σθ, θ-μθ))\n",
    "    def neg_log_prior_latents_autograd(z):\n",
    "        \"\"\"Negative Log prior for the latent variables.\"\"\"\n",
    "        return (m/2)*anp.log(2*anp.pi) + 0.5*z@z\n",
    "    def neg_log_dens_autograd(ξ):\n",
    "        \"\"\"Negative log density on the manifold. Therefore it has the correction term.\"\"\"\n",
    "        return neg_log_prior_theta_autograd(ξ[:4]) + neg_log_prior_latents_autograd(ξ[4:]) + 0.5*anp.log(adet(Jf_transpose_autograd(ξ)@Jf_transpose_autograd(ξ).T))\n",
    "    grad_neg_log_dens_autograd = grad(neg_log_dens_autograd)\n",
    "        \n",
    "    \n",
    "    # Prep C-HMC\n",
    "    system          = DCEMS(neg_log_dens_autograd, constr, jacob_constr=jacob_constr, grad_neg_log_dens=grad_neg_log_density)\n",
    "    integrator      = CLI(system, step_size=δ_CHMC)\n",
    "    sampler         = SMHMC(system, integrator, default_rng(seed=1234), n_step=n_CHMC)\n",
    "    init_state      = find_poiant_on_lifted_manifold()\n",
    "    init_state_CHMC = ChainState(pos=init_state, mom=None, dir=1, _call_counts={})\n",
    "    final_state, trace, stat = sampler.sample_chain(n_iter=N_CHMC, init_state=init_state_CHMC, trace_funcs=[trace_func])\n",
    "    pass"
   ]
  },
  {
   "cell_type": "code",
   "execution_count": null,
   "id": "9ac97e25",
   "metadata": {},
   "outputs": [],
   "source": []
  },
  {
   "cell_type": "code",
   "execution_count": null,
   "id": "ac422648",
   "metadata": {},
   "outputs": [],
   "source": []
  },
  {
   "cell_type": "code",
   "execution_count": 80,
   "id": "80c80e60",
   "metadata": {
    "scrolled": true
   },
   "outputs": [
    {
     "name": "stdout",
     "output_type": "stream",
     "text": [
      "Run 0, ϵ = 10.0, ystar mean = 4.114556173336061\n",
      "\t Sampling HUG\n",
      "\t Sampling THUG\n",
      "\t Sampling HMC\n",
      "\t Sampling RWM\n",
      "Run 0, ϵ = 1.0, ystar mean = 4.114556173336061\n",
      "\t Sampling HUG\n",
      "\t Sampling THUG\n",
      "\t Sampling HMC\n"
     ]
    },
    {
     "name": "stderr",
     "output_type": "stream",
     "text": [
      "/Users/maurocamara/Documents/University/ManifoldSampling/g_and_k_functions.py:170: RuntimeWarning: overflow encountered in exp\n",
      "  (1 + 0.8 * (1 - exp(-g * z)) / (1 + exp(-g * z))) * ((1 + z**2)**k) * z,\n",
      "/Users/maurocamara/Documents/University/ManifoldSampling/g_and_k_functions.py:170: RuntimeWarning: invalid value encountered in true_divide\n",
      "  (1 + 0.8 * (1 - exp(-g * z)) / (1 + exp(-g * z))) * ((1 + z**2)**k) * z,\n",
      "/Users/maurocamara/Documents/University/ManifoldSampling/g_and_k_functions.py:152: RuntimeWarning: overflow encountered in exp\n",
      "  return a + b*(1 + 0.8 * (1 - exp(-g * z)) / (1 + exp(-g * z))) * ((1 + z**2)**k) * z\n",
      "/Users/maurocamara/Documents/University/ManifoldSampling/g_and_k_functions.py:152: RuntimeWarning: invalid value encountered in true_divide\n",
      "  return a + b*(1 + 0.8 * (1 - exp(-g * z)) / (1 + exp(-g * z))) * ((1 + z**2)**k) * z\n"
     ]
    },
    {
     "name": "stdout",
     "output_type": "stream",
     "text": [
      "\t Sampling RWM\n",
      "Run 0, ϵ = 0.1, ystar mean = 4.114556173336061\n",
      "\t Sampling HUG\n",
      "\t Sampling THUG\n",
      "\t Sampling HMC\n"
     ]
    },
    {
     "name": "stderr",
     "output_type": "stream",
     "text": [
      "/Users/maurocamara/Documents/University/ManifoldSampling/g_and_k_functions.py:171: RuntimeWarning: overflow encountered in exp\n",
      "  8 * b * (z**2) * ((1 + z**2)**k) * exp(g*z) / (5 * (1 + exp(g*z))**2),\n",
      "/Users/maurocamara/Documents/University/ManifoldSampling/g_and_k_functions.py:171: RuntimeWarning: invalid value encountered in multiply\n",
      "  8 * b * (z**2) * ((1 + z**2)**k) * exp(g*z) / (5 * (1 + exp(g*z))**2),\n",
      "/Users/maurocamara/Documents/University/ManifoldSampling/g_and_k_functions.py:172: RuntimeWarning: overflow encountered in exp\n",
      "  b*z*((1+z**2)**k)*(1 + 9*exp(g*z))*log(1 + z**2) / (5*(1 + exp(g*z))),\n",
      "/Users/maurocamara/Documents/University/ManifoldSampling/g_and_k_functions.py:172: RuntimeWarning: invalid value encountered in multiply\n",
      "  b*z*((1+z**2)**k)*(1 + 9*exp(g*z))*log(1 + z**2) / (5*(1 + exp(g*z))),\n",
      "/Users/maurocamara/Documents/University/ManifoldSampling/g_and_k_functions.py:173: RuntimeWarning: overflow encountered in exp\n",
      "  diag(b*((1+z**2)**(k-1))*(((18*k + 9)*(z**2) + 9)*exp(2*g*z) + (8*g*z**3 + (20*k + 10)*z**2 + 8*g*z + 10)*exp(g*z) + (2*k + 1)*z**2 + 1) / (5*(1 + exp(g*z))**2))\n",
      "/Users/maurocamara/Documents/University/ManifoldSampling/g_and_k_functions.py:173: RuntimeWarning: invalid value encountered in add\n",
      "  diag(b*((1+z**2)**(k-1))*(((18*k + 9)*(z**2) + 9)*exp(2*g*z) + (8*g*z**3 + (20*k + 10)*z**2 + 8*g*z + 10)*exp(g*z) + (2*k + 1)*z**2 + 1) / (5*(1 + exp(g*z))**2))\n",
      "/Users/maurocamara/Documents/University/ManifoldSampling/g_and_k_functions.py:173: RuntimeWarning: invalid value encountered in multiply\n",
      "  diag(b*((1+z**2)**(k-1))*(((18*k + 9)*(z**2) + 9)*exp(2*g*z) + (8*g*z**3 + (20*k + 10)*z**2 + 8*g*z + 10)*exp(g*z) + (2*k + 1)*z**2 + 1) / (5*(1 + exp(g*z))**2))\n",
      "/Users/maurocamara/Documents/University/ManifoldSampling/g_and_k_functions.py:173: RuntimeWarning: overflow encountered in multiply\n",
      "  diag(b*((1+z**2)**(k-1))*(((18*k + 9)*(z**2) + 9)*exp(2*g*z) + (8*g*z**3 + (20*k + 10)*z**2 + 8*g*z + 10)*exp(g*z) + (2*k + 1)*z**2 + 1) / (5*(1 + exp(g*z))**2))\n",
      "/Users/maurocamara/Documents/University/ManifoldSampling/g_and_k_functions.py:171: RuntimeWarning: overflow encountered in square\n",
      "  8 * b * (z**2) * ((1 + z**2)**k) * exp(g*z) / (5 * (1 + exp(g*z))**2),\n",
      "/Users/maurocamara/Documents/University/ManifoldSampling/g_and_k_functions.py:173: RuntimeWarning: overflow encountered in square\n",
      "  diag(b*((1+z**2)**(k-1))*(((18*k + 9)*(z**2) + 9)*exp(2*g*z) + (8*g*z**3 + (20*k + 10)*z**2 + 8*g*z + 10)*exp(g*z) + (2*k + 1)*z**2 + 1) / (5*(1 + exp(g*z))**2))\n",
      "/Users/maurocamara/Documents/University/ManifoldSampling/g_and_k_functions.py:173: RuntimeWarning: invalid value encountered in true_divide\n",
      "  diag(b*((1+z**2)**(k-1))*(((18*k + 9)*(z**2) + 9)*exp(2*g*z) + (8*g*z**3 + (20*k + 10)*z**2 + 8*g*z + 10)*exp(g*z) + (2*k + 1)*z**2 + 1) / (5*(1 + exp(g*z))**2))\n",
      "/Users/maurocamara/Documents/University/ManifoldSampling/g_and_k_functions.py:171: RuntimeWarning: invalid value encountered in true_divide\n",
      "  8 * b * (z**2) * ((1 + z**2)**k) * exp(g*z) / (5 * (1 + exp(g*z))**2),\n",
      "/Users/maurocamara/Documents/University/ManifoldSampling/g_and_k_functions.py:172: RuntimeWarning: invalid value encountered in true_divide\n",
      "  b*z*((1+z**2)**k)*(1 + 9*exp(g*z))*log(1 + z**2) / (5*(1 + exp(g*z))),\n",
      "/Users/maurocamara/Documents/University/ManifoldSampling/g_and_k_functions.py:171: RuntimeWarning: overflow encountered in multiply\n",
      "  8 * b * (z**2) * ((1 + z**2)**k) * exp(g*z) / (5 * (1 + exp(g*z))**2),\n",
      "/Users/maurocamara/Documents/University/ManifoldSampling/g_and_k_functions.py:172: RuntimeWarning: overflow encountered in multiply\n",
      "  b*z*((1+z**2)**k)*(1 + 9*exp(g*z))*log(1 + z**2) / (5*(1 + exp(g*z))),\n",
      "/Users/maurocamara/Documents/University/ManifoldSampling/g_and_k_functions.py:170: RuntimeWarning: overflow encountered in power\n",
      "  (1 + 0.8 * (1 - exp(-g * z)) / (1 + exp(-g * z))) * ((1 + z**2)**k) * z,\n",
      "/Users/maurocamara/Documents/University/ManifoldSampling/g_and_k_functions.py:170: RuntimeWarning: overflow encountered in multiply\n",
      "  (1 + 0.8 * (1 - exp(-g * z)) / (1 + exp(-g * z))) * ((1 + z**2)**k) * z,\n",
      "/Users/maurocamara/Documents/University/ManifoldSampling/g_and_k_functions.py:171: RuntimeWarning: overflow encountered in power\n",
      "  8 * b * (z**2) * ((1 + z**2)**k) * exp(g*z) / (5 * (1 + exp(g*z))**2),\n",
      "/Users/maurocamara/Documents/University/ManifoldSampling/g_and_k_functions.py:172: RuntimeWarning: overflow encountered in power\n",
      "  b*z*((1+z**2)**k)*(1 + 9*exp(g*z))*log(1 + z**2) / (5*(1 + exp(g*z))),\n",
      "/Users/maurocamara/Documents/University/ManifoldSampling/g_and_k_functions.py:173: RuntimeWarning: overflow encountered in power\n",
      "  diag(b*((1+z**2)**(k-1))*(((18*k + 9)*(z**2) + 9)*exp(2*g*z) + (8*g*z**3 + (20*k + 10)*z**2 + 8*g*z + 10)*exp(g*z) + (2*k + 1)*z**2 + 1) / (5*(1 + exp(g*z))**2))\n",
      "/Users/maurocamara/Documents/University/ManifoldSampling/g_and_k_functions.py:152: RuntimeWarning: overflow encountered in power\n",
      "  return a + b*(1 + 0.8 * (1 - exp(-g * z)) / (1 + exp(-g * z))) * ((1 + z**2)**k) * z\n",
      "/Users/maurocamara/Documents/University/ManifoldSampling/g_and_k_functions.py:152: RuntimeWarning: overflow encountered in multiply\n",
      "  return a + b*(1 + 0.8 * (1 - exp(-g * z)) / (1 + exp(-g * z))) * ((1 + z**2)**k) * z\n",
      "/var/folders/31/dthljx8x5mldm2ll5_zz7xrr0000gn/T/ipykernel_58954/2208553029.py:44: RuntimeWarning: overflow encountered in matmul\n",
      "  dkdξ = GK.Jf_transpose(ξ) @ (GK.f(ξ) - ystar) / (ϵ**2)\n",
      "/var/folders/31/dthljx8x5mldm2ll5_zz7xrr0000gn/T/ipykernel_58954/2208553029.py:44: RuntimeWarning: invalid value encountered in matmul\n",
      "  dkdξ = GK.Jf_transpose(ξ) @ (GK.f(ξ) - ystar) / (ϵ**2)\n",
      "/Users/maurocamara/Documents/University/ManifoldSampling/HMC/static_hmc.py:73: RuntimeWarning: invalid value encountered in matmul\n",
      "  q = q + self.epsilon * (self.Minv @ p)\n",
      "/Users/maurocamara/Documents/University/ManifoldSampling/g_and_k_functions.py:170: RuntimeWarning: overflow encountered in square\n",
      "  (1 + 0.8 * (1 - exp(-g * z)) / (1 + exp(-g * z))) * ((1 + z**2)**k) * z,\n",
      "/Users/maurocamara/Documents/University/ManifoldSampling/g_and_k_functions.py:172: RuntimeWarning: overflow encountered in square\n",
      "  b*z*((1+z**2)**k)*(1 + 9*exp(g*z))*log(1 + z**2) / (5*(1 + exp(g*z))),\n",
      "/Users/maurocamara/Documents/University/ManifoldSampling/g_and_k_functions.py:152: RuntimeWarning: overflow encountered in square\n",
      "  return a + b*(1 + 0.8 * (1 - exp(-g * z)) / (1 + exp(-g * z))) * ((1 + z**2)**k) * z\n",
      "/var/folders/31/dthljx8x5mldm2ll5_zz7xrr0000gn/T/ipykernel_58954/2208553029.py:44: RuntimeWarning: overflow encountered in true_divide\n",
      "  dkdξ = GK.Jf_transpose(ξ) @ (GK.f(ξ) - ystar) / (ϵ**2)\n"
     ]
    },
    {
     "name": "stdout",
     "output_type": "stream",
     "text": [
      "\t Sampling RWM\n",
      "Run 0, ϵ = 0.01, ystar mean = 4.114556173336061\n",
      "\t Sampling HUG\n",
      "\t Sampling THUG\n",
      "\t Sampling HMC\n"
     ]
    },
    {
     "name": "stderr",
     "output_type": "stream",
     "text": [
      "/Users/maurocamara/Documents/University/ManifoldSampling/HMC/static_hmc.py:68: RuntimeWarning: invalid value encountered in matmul\n",
      "  q = q + self.epsilon * (self.Minv @ p)\n"
     ]
    },
    {
     "name": "stdout",
     "output_type": "stream",
     "text": [
      "\t Sampling RWM\n",
      "Run 0, ϵ = 0.001, ystar mean = 4.114556173336061\n",
      "\t Sampling HUG\n",
      "\t Sampling THUG\n",
      "\t Sampling HMC\n",
      "\t Sampling RWM\n",
      "Run 0, ϵ = 0.0001, ystar mean = 4.114556173336061\n",
      "\t Sampling HUG\n",
      "\t Sampling THUG\n",
      "\t Sampling HMC\n",
      "\t Sampling RWM\n",
      "Run 1, ϵ = 10.0, ystar mean = 3.8556476077094985\n",
      "\t Sampling HUG\n",
      "\t Sampling THUG\n",
      "\t Sampling HMC\n",
      "\t Sampling RWM\n",
      "Run 1, ϵ = 1.0, ystar mean = 3.8556476077094985\n",
      "\t Sampling HUG\n",
      "\t Sampling THUG\n",
      "\t Sampling HMC\n",
      "\t Sampling RWM\n",
      "Run 1, ϵ = 0.1, ystar mean = 3.8556476077094985\n",
      "\t Sampling HUG\n",
      "\t Sampling THUG\n",
      "\t Sampling HMC\n"
     ]
    },
    {
     "name": "stderr",
     "output_type": "stream",
     "text": [
      "/Users/maurocamara/Documents/University/ManifoldSampling/g_and_k_functions.py:170: RuntimeWarning: overflow encountered in exp\n",
      "  (1 + 0.8 * (1 - exp(-g * z)) / (1 + exp(-g * z))) * ((1 + z**2)**k) * z,\n",
      "/Users/maurocamara/Documents/University/ManifoldSampling/g_and_k_functions.py:170: RuntimeWarning: invalid value encountered in true_divide\n",
      "  (1 + 0.8 * (1 - exp(-g * z)) / (1 + exp(-g * z))) * ((1 + z**2)**k) * z,\n",
      "/Users/maurocamara/Documents/University/ManifoldSampling/g_and_k_functions.py:171: RuntimeWarning: overflow encountered in exp\n",
      "  8 * b * (z**2) * ((1 + z**2)**k) * exp(g*z) / (5 * (1 + exp(g*z))**2),\n",
      "/Users/maurocamara/Documents/University/ManifoldSampling/g_and_k_functions.py:171: RuntimeWarning: invalid value encountered in multiply\n",
      "  8 * b * (z**2) * ((1 + z**2)**k) * exp(g*z) / (5 * (1 + exp(g*z))**2),\n",
      "/Users/maurocamara/Documents/University/ManifoldSampling/g_and_k_functions.py:172: RuntimeWarning: overflow encountered in exp\n",
      "  b*z*((1+z**2)**k)*(1 + 9*exp(g*z))*log(1 + z**2) / (5*(1 + exp(g*z))),\n",
      "/Users/maurocamara/Documents/University/ManifoldSampling/g_and_k_functions.py:172: RuntimeWarning: invalid value encountered in multiply\n",
      "  b*z*((1+z**2)**k)*(1 + 9*exp(g*z))*log(1 + z**2) / (5*(1 + exp(g*z))),\n",
      "/Users/maurocamara/Documents/University/ManifoldSampling/g_and_k_functions.py:173: RuntimeWarning: overflow encountered in exp\n",
      "  diag(b*((1+z**2)**(k-1))*(((18*k + 9)*(z**2) + 9)*exp(2*g*z) + (8*g*z**3 + (20*k + 10)*z**2 + 8*g*z + 10)*exp(g*z) + (2*k + 1)*z**2 + 1) / (5*(1 + exp(g*z))**2))\n",
      "/Users/maurocamara/Documents/University/ManifoldSampling/g_and_k_functions.py:173: RuntimeWarning: overflow encountered in multiply\n",
      "  diag(b*((1+z**2)**(k-1))*(((18*k + 9)*(z**2) + 9)*exp(2*g*z) + (8*g*z**3 + (20*k + 10)*z**2 + 8*g*z + 10)*exp(g*z) + (2*k + 1)*z**2 + 1) / (5*(1 + exp(g*z))**2))\n",
      "/Users/maurocamara/Documents/University/ManifoldSampling/g_and_k_functions.py:173: RuntimeWarning: invalid value encountered in add\n",
      "  diag(b*((1+z**2)**(k-1))*(((18*k + 9)*(z**2) + 9)*exp(2*g*z) + (8*g*z**3 + (20*k + 10)*z**2 + 8*g*z + 10)*exp(g*z) + (2*k + 1)*z**2 + 1) / (5*(1 + exp(g*z))**2))\n",
      "/Users/maurocamara/Documents/University/ManifoldSampling/g_and_k_functions.py:173: RuntimeWarning: invalid value encountered in multiply\n",
      "  diag(b*((1+z**2)**(k-1))*(((18*k + 9)*(z**2) + 9)*exp(2*g*z) + (8*g*z**3 + (20*k + 10)*z**2 + 8*g*z + 10)*exp(g*z) + (2*k + 1)*z**2 + 1) / (5*(1 + exp(g*z))**2))\n",
      "/Users/maurocamara/Documents/University/ManifoldSampling/g_and_k_functions.py:152: RuntimeWarning: overflow encountered in exp\n",
      "  return a + b*(1 + 0.8 * (1 - exp(-g * z)) / (1 + exp(-g * z))) * ((1 + z**2)**k) * z\n",
      "/Users/maurocamara/Documents/University/ManifoldSampling/g_and_k_functions.py:152: RuntimeWarning: invalid value encountered in true_divide\n",
      "  return a + b*(1 + 0.8 * (1 - exp(-g * z)) / (1 + exp(-g * z))) * ((1 + z**2)**k) * z\n",
      "/Users/maurocamara/Documents/University/ManifoldSampling/g_and_k_functions.py:171: RuntimeWarning: overflow encountered in multiply\n",
      "  8 * b * (z**2) * ((1 + z**2)**k) * exp(g*z) / (5 * (1 + exp(g*z))**2),\n",
      "/Users/maurocamara/Documents/University/ManifoldSampling/g_and_k_functions.py:173: RuntimeWarning: overflow encountered in power\n",
      "  diag(b*((1+z**2)**(k-1))*(((18*k + 9)*(z**2) + 9)*exp(2*g*z) + (8*g*z**3 + (20*k + 10)*z**2 + 8*g*z + 10)*exp(g*z) + (2*k + 1)*z**2 + 1) / (5*(1 + exp(g*z))**2))\n",
      "/Users/maurocamara/Documents/University/ManifoldSampling/g_and_k_functions.py:171: RuntimeWarning: overflow encountered in square\n",
      "  8 * b * (z**2) * ((1 + z**2)**k) * exp(g*z) / (5 * (1 + exp(g*z))**2),\n",
      "/Users/maurocamara/Documents/University/ManifoldSampling/g_and_k_functions.py:173: RuntimeWarning: overflow encountered in square\n",
      "  diag(b*((1+z**2)**(k-1))*(((18*k + 9)*(z**2) + 9)*exp(2*g*z) + (8*g*z**3 + (20*k + 10)*z**2 + 8*g*z + 10)*exp(g*z) + (2*k + 1)*z**2 + 1) / (5*(1 + exp(g*z))**2))\n",
      "/Users/maurocamara/Documents/University/ManifoldSampling/g_and_k_functions.py:170: RuntimeWarning: overflow encountered in multiply\n",
      "  (1 + 0.8 * (1 - exp(-g * z)) / (1 + exp(-g * z))) * ((1 + z**2)**k) * z,\n",
      "/Users/maurocamara/Documents/University/ManifoldSampling/g_and_k_functions.py:170: RuntimeWarning: overflow encountered in square\n",
      "  (1 + 0.8 * (1 - exp(-g * z)) / (1 + exp(-g * z))) * ((1 + z**2)**k) * z,\n",
      "/Users/maurocamara/Documents/University/ManifoldSampling/g_and_k_functions.py:172: RuntimeWarning: overflow encountered in multiply\n",
      "  b*z*((1+z**2)**k)*(1 + 9*exp(g*z))*log(1 + z**2) / (5*(1 + exp(g*z))),\n",
      "/Users/maurocamara/Documents/University/ManifoldSampling/g_and_k_functions.py:172: RuntimeWarning: overflow encountered in square\n",
      "  b*z*((1+z**2)**k)*(1 + 9*exp(g*z))*log(1 + z**2) / (5*(1 + exp(g*z))),\n",
      "/Users/maurocamara/Documents/University/ManifoldSampling/g_and_k_functions.py:152: RuntimeWarning: overflow encountered in multiply\n",
      "  return a + b*(1 + 0.8 * (1 - exp(-g * z)) / (1 + exp(-g * z))) * ((1 + z**2)**k) * z\n",
      "/Users/maurocamara/Documents/University/ManifoldSampling/g_and_k_functions.py:152: RuntimeWarning: overflow encountered in square\n",
      "  return a + b*(1 + 0.8 * (1 - exp(-g * z)) / (1 + exp(-g * z))) * ((1 + z**2)**k) * z\n",
      "/Users/maurocamara/Documents/University/ManifoldSampling/g_and_k_functions.py:173: RuntimeWarning: invalid value encountered in true_divide\n",
      "  diag(b*((1+z**2)**(k-1))*(((18*k + 9)*(z**2) + 9)*exp(2*g*z) + (8*g*z**3 + (20*k + 10)*z**2 + 8*g*z + 10)*exp(g*z) + (2*k + 1)*z**2 + 1) / (5*(1 + exp(g*z))**2))\n",
      "/Users/maurocamara/Documents/University/ManifoldSampling/g_and_k_functions.py:171: RuntimeWarning: invalid value encountered in true_divide\n",
      "  8 * b * (z**2) * ((1 + z**2)**k) * exp(g*z) / (5 * (1 + exp(g*z))**2),\n",
      "/Users/maurocamara/Documents/University/ManifoldSampling/g_and_k_functions.py:172: RuntimeWarning: invalid value encountered in true_divide\n",
      "  b*z*((1+z**2)**k)*(1 + 9*exp(g*z))*log(1 + z**2) / (5*(1 + exp(g*z))),\n"
     ]
    },
    {
     "name": "stdout",
     "output_type": "stream",
     "text": [
      "\t Sampling RWM\n",
      "Run 1, ϵ = 0.01, ystar mean = 3.8556476077094985\n",
      "\t Sampling HUG\n",
      "\t Sampling THUG\n",
      "\t Sampling HMC\n"
     ]
    },
    {
     "name": "stderr",
     "output_type": "stream",
     "text": [
      "/Users/maurocamara/Documents/University/ManifoldSampling/g_and_k_functions.py:170: RuntimeWarning: overflow encountered in power\n",
      "  (1 + 0.8 * (1 - exp(-g * z)) / (1 + exp(-g * z))) * ((1 + z**2)**k) * z,\n",
      "/Users/maurocamara/Documents/University/ManifoldSampling/g_and_k_functions.py:171: RuntimeWarning: overflow encountered in power\n",
      "  8 * b * (z**2) * ((1 + z**2)**k) * exp(g*z) / (5 * (1 + exp(g*z))**2),\n",
      "/Users/maurocamara/Documents/University/ManifoldSampling/g_and_k_functions.py:172: RuntimeWarning: overflow encountered in power\n",
      "  b*z*((1+z**2)**k)*(1 + 9*exp(g*z))*log(1 + z**2) / (5*(1 + exp(g*z))),\n",
      "/Users/maurocamara/Documents/University/ManifoldSampling/g_and_k_functions.py:152: RuntimeWarning: overflow encountered in power\n",
      "  return a + b*(1 + 0.8 * (1 - exp(-g * z)) / (1 + exp(-g * z))) * ((1 + z**2)**k) * z\n",
      "/var/folders/31/dthljx8x5mldm2ll5_zz7xrr0000gn/T/ipykernel_58954/2208553029.py:44: RuntimeWarning: invalid value encountered in matmul\n",
      "  dkdξ = GK.Jf_transpose(ξ) @ (GK.f(ξ) - ystar) / (ϵ**2)\n",
      "/Users/maurocamara/Documents/University/ManifoldSampling/HMC/static_hmc.py:68: RuntimeWarning: invalid value encountered in matmul\n",
      "  q = q + self.epsilon * (self.Minv @ p)\n",
      "/var/folders/31/dthljx8x5mldm2ll5_zz7xrr0000gn/T/ipykernel_58954/2208553029.py:44: RuntimeWarning: overflow encountered in matmul\n",
      "  dkdξ = GK.Jf_transpose(ξ) @ (GK.f(ξ) - ystar) / (ϵ**2)\n",
      "/var/folders/31/dthljx8x5mldm2ll5_zz7xrr0000gn/T/ipykernel_58954/2208553029.py:44: RuntimeWarning: overflow encountered in true_divide\n",
      "  dkdξ = GK.Jf_transpose(ξ) @ (GK.f(ξ) - ystar) / (ϵ**2)\n"
     ]
    },
    {
     "name": "stdout",
     "output_type": "stream",
     "text": [
      "\t Sampling RWM\n",
      "Run 1, ϵ = 0.001, ystar mean = 3.8556476077094985\n",
      "\t Sampling HUG\n",
      "\t Sampling THUG\n",
      "\t Sampling HMC\n",
      "\t Sampling RWM\n",
      "Run 1, ϵ = 0.0001, ystar mean = 3.8556476077094985\n",
      "\t Sampling HUG\n",
      "\t Sampling THUG\n",
      "\t Sampling HMC\n",
      "\t Sampling RWM\n",
      "Run 2, ϵ = 10.0, ystar mean = 3.4447286685146565\n",
      "\t Sampling HUG\n",
      "\t Sampling THUG\n",
      "\t Sampling HMC\n",
      "\t Sampling RWM\n",
      "Run 2, ϵ = 1.0, ystar mean = 3.4447286685146565\n",
      "\t Sampling HUG\n",
      "\t Sampling THUG\n",
      "\t Sampling HMC\n",
      "\t Sampling RWM\n",
      "Run 2, ϵ = 0.1, ystar mean = 3.4447286685146565\n",
      "\t Sampling HUG\n",
      "\t Sampling THUG\n",
      "\t Sampling HMC\n"
     ]
    },
    {
     "name": "stderr",
     "output_type": "stream",
     "text": [
      "/Users/maurocamara/Documents/University/ManifoldSampling/g_and_k_functions.py:170: RuntimeWarning: overflow encountered in exp\n",
      "  (1 + 0.8 * (1 - exp(-g * z)) / (1 + exp(-g * z))) * ((1 + z**2)**k) * z,\n",
      "/Users/maurocamara/Documents/University/ManifoldSampling/g_and_k_functions.py:170: RuntimeWarning: invalid value encountered in true_divide\n",
      "  (1 + 0.8 * (1 - exp(-g * z)) / (1 + exp(-g * z))) * ((1 + z**2)**k) * z,\n",
      "/Users/maurocamara/Documents/University/ManifoldSampling/g_and_k_functions.py:171: RuntimeWarning: overflow encountered in exp\n",
      "  8 * b * (z**2) * ((1 + z**2)**k) * exp(g*z) / (5 * (1 + exp(g*z))**2),\n",
      "/Users/maurocamara/Documents/University/ManifoldSampling/g_and_k_functions.py:171: RuntimeWarning: invalid value encountered in multiply\n",
      "  8 * b * (z**2) * ((1 + z**2)**k) * exp(g*z) / (5 * (1 + exp(g*z))**2),\n",
      "/Users/maurocamara/Documents/University/ManifoldSampling/g_and_k_functions.py:172: RuntimeWarning: overflow encountered in exp\n",
      "  b*z*((1+z**2)**k)*(1 + 9*exp(g*z))*log(1 + z**2) / (5*(1 + exp(g*z))),\n",
      "/Users/maurocamara/Documents/University/ManifoldSampling/g_and_k_functions.py:172: RuntimeWarning: invalid value encountered in multiply\n",
      "  b*z*((1+z**2)**k)*(1 + 9*exp(g*z))*log(1 + z**2) / (5*(1 + exp(g*z))),\n",
      "/Users/maurocamara/Documents/University/ManifoldSampling/g_and_k_functions.py:173: RuntimeWarning: overflow encountered in exp\n",
      "  diag(b*((1+z**2)**(k-1))*(((18*k + 9)*(z**2) + 9)*exp(2*g*z) + (8*g*z**3 + (20*k + 10)*z**2 + 8*g*z + 10)*exp(g*z) + (2*k + 1)*z**2 + 1) / (5*(1 + exp(g*z))**2))\n",
      "/Users/maurocamara/Documents/University/ManifoldSampling/g_and_k_functions.py:173: RuntimeWarning: invalid value encountered in add\n",
      "  diag(b*((1+z**2)**(k-1))*(((18*k + 9)*(z**2) + 9)*exp(2*g*z) + (8*g*z**3 + (20*k + 10)*z**2 + 8*g*z + 10)*exp(g*z) + (2*k + 1)*z**2 + 1) / (5*(1 + exp(g*z))**2))\n",
      "/Users/maurocamara/Documents/University/ManifoldSampling/g_and_k_functions.py:173: RuntimeWarning: invalid value encountered in multiply\n",
      "  diag(b*((1+z**2)**(k-1))*(((18*k + 9)*(z**2) + 9)*exp(2*g*z) + (8*g*z**3 + (20*k + 10)*z**2 + 8*g*z + 10)*exp(g*z) + (2*k + 1)*z**2 + 1) / (5*(1 + exp(g*z))**2))\n",
      "/Users/maurocamara/Documents/University/ManifoldSampling/g_and_k_functions.py:152: RuntimeWarning: overflow encountered in exp\n",
      "  return a + b*(1 + 0.8 * (1 - exp(-g * z)) / (1 + exp(-g * z))) * ((1 + z**2)**k) * z\n",
      "/Users/maurocamara/Documents/University/ManifoldSampling/g_and_k_functions.py:152: RuntimeWarning: invalid value encountered in true_divide\n",
      "  return a + b*(1 + 0.8 * (1 - exp(-g * z)) / (1 + exp(-g * z))) * ((1 + z**2)**k) * z\n",
      "/Users/maurocamara/Documents/University/ManifoldSampling/g_and_k_functions.py:171: RuntimeWarning: overflow encountered in square\n",
      "  8 * b * (z**2) * ((1 + z**2)**k) * exp(g*z) / (5 * (1 + exp(g*z))**2),\n",
      "/Users/maurocamara/Documents/University/ManifoldSampling/g_and_k_functions.py:173: RuntimeWarning: overflow encountered in square\n",
      "  diag(b*((1+z**2)**(k-1))*(((18*k + 9)*(z**2) + 9)*exp(2*g*z) + (8*g*z**3 + (20*k + 10)*z**2 + 8*g*z + 10)*exp(g*z) + (2*k + 1)*z**2 + 1) / (5*(1 + exp(g*z))**2))\n",
      "/Users/maurocamara/Documents/University/ManifoldSampling/g_and_k_functions.py:173: RuntimeWarning: overflow encountered in multiply\n",
      "  diag(b*((1+z**2)**(k-1))*(((18*k + 9)*(z**2) + 9)*exp(2*g*z) + (8*g*z**3 + (20*k + 10)*z**2 + 8*g*z + 10)*exp(g*z) + (2*k + 1)*z**2 + 1) / (5*(1 + exp(g*z))**2))\n",
      "/Users/maurocamara/Documents/University/ManifoldSampling/g_and_k_functions.py:171: RuntimeWarning: invalid value encountered in true_divide\n",
      "  8 * b * (z**2) * ((1 + z**2)**k) * exp(g*z) / (5 * (1 + exp(g*z))**2),\n",
      "/Users/maurocamara/Documents/University/ManifoldSampling/g_and_k_functions.py:172: RuntimeWarning: invalid value encountered in true_divide\n",
      "  b*z*((1+z**2)**k)*(1 + 9*exp(g*z))*log(1 + z**2) / (5*(1 + exp(g*z))),\n",
      "/Users/maurocamara/Documents/University/ManifoldSampling/g_and_k_functions.py:173: RuntimeWarning: invalid value encountered in true_divide\n",
      "  diag(b*((1+z**2)**(k-1))*(((18*k + 9)*(z**2) + 9)*exp(2*g*z) + (8*g*z**3 + (20*k + 10)*z**2 + 8*g*z + 10)*exp(g*z) + (2*k + 1)*z**2 + 1) / (5*(1 + exp(g*z))**2))\n",
      "/Users/maurocamara/Documents/University/ManifoldSampling/g_and_k_functions.py:171: RuntimeWarning: overflow encountered in multiply\n",
      "  8 * b * (z**2) * ((1 + z**2)**k) * exp(g*z) / (5 * (1 + exp(g*z))**2),\n",
      "/Users/maurocamara/Documents/University/ManifoldSampling/g_and_k_functions.py:172: RuntimeWarning: overflow encountered in multiply\n",
      "  b*z*((1+z**2)**k)*(1 + 9*exp(g*z))*log(1 + z**2) / (5*(1 + exp(g*z))),\n",
      "/Users/maurocamara/Documents/University/ManifoldSampling/HMC/static_hmc.py:73: RuntimeWarning: invalid value encountered in matmul\n",
      "  q = q + self.epsilon * (self.Minv @ p)\n",
      "/Users/maurocamara/Documents/University/ManifoldSampling/HMC/static_hmc.py:68: RuntimeWarning: invalid value encountered in matmul\n",
      "  q = q + self.epsilon * (self.Minv @ p)\n",
      "/var/folders/31/dthljx8x5mldm2ll5_zz7xrr0000gn/T/ipykernel_58954/2208553029.py:44: RuntimeWarning: overflow encountered in matmul\n",
      "  dkdξ = GK.Jf_transpose(ξ) @ (GK.f(ξ) - ystar) / (ϵ**2)\n",
      "/opt/anaconda3/envs/manifold-sampling/lib/python3.10/site-packages/scipy/stats/_multivariate.py:467: RuntimeWarning: overflow encountered in square\n",
      "  maha = np.sum(np.square(np.dot(dev, prec_U)), axis=-1)\n"
     ]
    },
    {
     "name": "stdout",
     "output_type": "stream",
     "text": [
      "\t Sampling RWM\n",
      "Run 2, ϵ = 0.01, ystar mean = 3.4447286685146565\n",
      "\t Sampling HUG\n",
      "\t Sampling THUG\n",
      "\t Sampling HMC\n"
     ]
    },
    {
     "name": "stderr",
     "output_type": "stream",
     "text": [
      "/Users/maurocamara/Documents/University/ManifoldSampling/g_and_k_functions.py:170: RuntimeWarning: overflow encountered in power\n",
      "  (1 + 0.8 * (1 - exp(-g * z)) / (1 + exp(-g * z))) * ((1 + z**2)**k) * z,\n",
      "/Users/maurocamara/Documents/University/ManifoldSampling/g_and_k_functions.py:171: RuntimeWarning: overflow encountered in power\n",
      "  8 * b * (z**2) * ((1 + z**2)**k) * exp(g*z) / (5 * (1 + exp(g*z))**2),\n",
      "/Users/maurocamara/Documents/University/ManifoldSampling/g_and_k_functions.py:172: RuntimeWarning: overflow encountered in power\n",
      "  b*z*((1+z**2)**k)*(1 + 9*exp(g*z))*log(1 + z**2) / (5*(1 + exp(g*z))),\n",
      "/Users/maurocamara/Documents/University/ManifoldSampling/g_and_k_functions.py:173: RuntimeWarning: overflow encountered in power\n",
      "  diag(b*((1+z**2)**(k-1))*(((18*k + 9)*(z**2) + 9)*exp(2*g*z) + (8*g*z**3 + (20*k + 10)*z**2 + 8*g*z + 10)*exp(g*z) + (2*k + 1)*z**2 + 1) / (5*(1 + exp(g*z))**2))\n",
      "/Users/maurocamara/Documents/University/ManifoldSampling/g_and_k_functions.py:152: RuntimeWarning: overflow encountered in power\n",
      "  return a + b*(1 + 0.8 * (1 - exp(-g * z)) / (1 + exp(-g * z))) * ((1 + z**2)**k) * z\n",
      "/var/folders/31/dthljx8x5mldm2ll5_zz7xrr0000gn/T/ipykernel_58954/2208553029.py:44: RuntimeWarning: invalid value encountered in matmul\n",
      "  dkdξ = GK.Jf_transpose(ξ) @ (GK.f(ξ) - ystar) / (ϵ**2)\n",
      "/Users/maurocamara/Documents/University/ManifoldSampling/g_and_k_functions.py:170: RuntimeWarning: overflow encountered in multiply\n",
      "  (1 + 0.8 * (1 - exp(-g * z)) / (1 + exp(-g * z))) * ((1 + z**2)**k) * z,\n",
      "/Users/maurocamara/Documents/University/ManifoldSampling/g_and_k_functions.py:170: RuntimeWarning: overflow encountered in square\n",
      "  (1 + 0.8 * (1 - exp(-g * z)) / (1 + exp(-g * z))) * ((1 + z**2)**k) * z,\n",
      "/Users/maurocamara/Documents/University/ManifoldSampling/g_and_k_functions.py:172: RuntimeWarning: overflow encountered in square\n",
      "  b*z*((1+z**2)**k)*(1 + 9*exp(g*z))*log(1 + z**2) / (5*(1 + exp(g*z))),\n",
      "/Users/maurocamara/Documents/University/ManifoldSampling/g_and_k_functions.py:152: RuntimeWarning: overflow encountered in multiply\n",
      "  return a + b*(1 + 0.8 * (1 - exp(-g * z)) / (1 + exp(-g * z))) * ((1 + z**2)**k) * z\n",
      "/Users/maurocamara/Documents/University/ManifoldSampling/g_and_k_functions.py:152: RuntimeWarning: overflow encountered in square\n",
      "  return a + b*(1 + 0.8 * (1 - exp(-g * z)) / (1 + exp(-g * z))) * ((1 + z**2)**k) * z\n",
      "/var/folders/31/dthljx8x5mldm2ll5_zz7xrr0000gn/T/ipykernel_58954/2208553029.py:44: RuntimeWarning: overflow encountered in true_divide\n",
      "  dkdξ = GK.Jf_transpose(ξ) @ (GK.f(ξ) - ystar) / (ϵ**2)\n",
      "/Users/maurocamara/Documents/University/ManifoldSampling/g_and_k_functions.py:173: RuntimeWarning: overflow encountered in add\n",
      "  diag(b*((1+z**2)**(k-1))*(((18*k + 9)*(z**2) + 9)*exp(2*g*z) + (8*g*z**3 + (20*k + 10)*z**2 + 8*g*z + 10)*exp(g*z) + (2*k + 1)*z**2 + 1) / (5*(1 + exp(g*z))**2))\n"
     ]
    },
    {
     "name": "stdout",
     "output_type": "stream",
     "text": [
      "\t Sampling RWM\n",
      "Run 2, ϵ = 0.001, ystar mean = 3.4447286685146565\n",
      "\t Sampling HUG\n",
      "\t Sampling THUG\n",
      "\t Sampling HMC\n",
      "\t Sampling RWM\n",
      "Run 2, ϵ = 0.0001, ystar mean = 3.4447286685146565\n",
      "\t Sampling HUG\n",
      "\t Sampling THUG\n",
      "\t Sampling HMC\n",
      "\t Sampling RWM\n",
      "Run 3, ϵ = 10.0, ystar mean = 3.6825030605059523\n",
      "\t Sampling HUG\n",
      "\t Sampling THUG\n",
      "\t Sampling HMC\n",
      "\t Sampling RWM\n",
      "Run 3, ϵ = 1.0, ystar mean = 3.6825030605059523\n",
      "\t Sampling HUG\n",
      "\t Sampling THUG\n",
      "\t Sampling HMC\n",
      "\t Sampling RWM\n",
      "Run 3, ϵ = 0.1, ystar mean = 3.6825030605059523\n",
      "\t Sampling HUG\n",
      "\t Sampling THUG\n",
      "\t Sampling HMC\n"
     ]
    },
    {
     "name": "stderr",
     "output_type": "stream",
     "text": [
      "/Users/maurocamara/Documents/University/ManifoldSampling/g_and_k_functions.py:170: RuntimeWarning: overflow encountered in exp\n",
      "  (1 + 0.8 * (1 - exp(-g * z)) / (1 + exp(-g * z))) * ((1 + z**2)**k) * z,\n",
      "/Users/maurocamara/Documents/University/ManifoldSampling/g_and_k_functions.py:170: RuntimeWarning: invalid value encountered in true_divide\n",
      "  (1 + 0.8 * (1 - exp(-g * z)) / (1 + exp(-g * z))) * ((1 + z**2)**k) * z,\n",
      "/Users/maurocamara/Documents/University/ManifoldSampling/g_and_k_functions.py:171: RuntimeWarning: overflow encountered in exp\n",
      "  8 * b * (z**2) * ((1 + z**2)**k) * exp(g*z) / (5 * (1 + exp(g*z))**2),\n",
      "/Users/maurocamara/Documents/University/ManifoldSampling/g_and_k_functions.py:171: RuntimeWarning: invalid value encountered in multiply\n",
      "  8 * b * (z**2) * ((1 + z**2)**k) * exp(g*z) / (5 * (1 + exp(g*z))**2),\n",
      "/Users/maurocamara/Documents/University/ManifoldSampling/g_and_k_functions.py:172: RuntimeWarning: overflow encountered in exp\n",
      "  b*z*((1+z**2)**k)*(1 + 9*exp(g*z))*log(1 + z**2) / (5*(1 + exp(g*z))),\n",
      "/Users/maurocamara/Documents/University/ManifoldSampling/g_and_k_functions.py:172: RuntimeWarning: invalid value encountered in multiply\n",
      "  b*z*((1+z**2)**k)*(1 + 9*exp(g*z))*log(1 + z**2) / (5*(1 + exp(g*z))),\n",
      "/Users/maurocamara/Documents/University/ManifoldSampling/g_and_k_functions.py:173: RuntimeWarning: overflow encountered in exp\n",
      "  diag(b*((1+z**2)**(k-1))*(((18*k + 9)*(z**2) + 9)*exp(2*g*z) + (8*g*z**3 + (20*k + 10)*z**2 + 8*g*z + 10)*exp(g*z) + (2*k + 1)*z**2 + 1) / (5*(1 + exp(g*z))**2))\n",
      "/Users/maurocamara/Documents/University/ManifoldSampling/g_and_k_functions.py:173: RuntimeWarning: invalid value encountered in add\n",
      "  diag(b*((1+z**2)**(k-1))*(((18*k + 9)*(z**2) + 9)*exp(2*g*z) + (8*g*z**3 + (20*k + 10)*z**2 + 8*g*z + 10)*exp(g*z) + (2*k + 1)*z**2 + 1) / (5*(1 + exp(g*z))**2))\n",
      "/Users/maurocamara/Documents/University/ManifoldSampling/g_and_k_functions.py:173: RuntimeWarning: invalid value encountered in multiply\n",
      "  diag(b*((1+z**2)**(k-1))*(((18*k + 9)*(z**2) + 9)*exp(2*g*z) + (8*g*z**3 + (20*k + 10)*z**2 + 8*g*z + 10)*exp(g*z) + (2*k + 1)*z**2 + 1) / (5*(1 + exp(g*z))**2))\n",
      "/Users/maurocamara/Documents/University/ManifoldSampling/g_and_k_functions.py:152: RuntimeWarning: overflow encountered in exp\n",
      "  return a + b*(1 + 0.8 * (1 - exp(-g * z)) / (1 + exp(-g * z))) * ((1 + z**2)**k) * z\n",
      "/Users/maurocamara/Documents/University/ManifoldSampling/g_and_k_functions.py:152: RuntimeWarning: invalid value encountered in true_divide\n",
      "  return a + b*(1 + 0.8 * (1 - exp(-g * z)) / (1 + exp(-g * z))) * ((1 + z**2)**k) * z\n",
      "/Users/maurocamara/Documents/University/ManifoldSampling/g_and_k_functions.py:171: RuntimeWarning: overflow encountered in square\n",
      "  8 * b * (z**2) * ((1 + z**2)**k) * exp(g*z) / (5 * (1 + exp(g*z))**2),\n",
      "/Users/maurocamara/Documents/University/ManifoldSampling/g_and_k_functions.py:171: RuntimeWarning: invalid value encountered in true_divide\n",
      "  8 * b * (z**2) * ((1 + z**2)**k) * exp(g*z) / (5 * (1 + exp(g*z))**2),\n",
      "/Users/maurocamara/Documents/University/ManifoldSampling/g_and_k_functions.py:172: RuntimeWarning: invalid value encountered in true_divide\n",
      "  b*z*((1+z**2)**k)*(1 + 9*exp(g*z))*log(1 + z**2) / (5*(1 + exp(g*z))),\n",
      "/Users/maurocamara/Documents/University/ManifoldSampling/g_and_k_functions.py:173: RuntimeWarning: overflow encountered in multiply\n",
      "  diag(b*((1+z**2)**(k-1))*(((18*k + 9)*(z**2) + 9)*exp(2*g*z) + (8*g*z**3 + (20*k + 10)*z**2 + 8*g*z + 10)*exp(g*z) + (2*k + 1)*z**2 + 1) / (5*(1 + exp(g*z))**2))\n",
      "/Users/maurocamara/Documents/University/ManifoldSampling/g_and_k_functions.py:173: RuntimeWarning: overflow encountered in square\n",
      "  diag(b*((1+z**2)**(k-1))*(((18*k + 9)*(z**2) + 9)*exp(2*g*z) + (8*g*z**3 + (20*k + 10)*z**2 + 8*g*z + 10)*exp(g*z) + (2*k + 1)*z**2 + 1) / (5*(1 + exp(g*z))**2))\n",
      "/Users/maurocamara/Documents/University/ManifoldSampling/g_and_k_functions.py:173: RuntimeWarning: invalid value encountered in true_divide\n",
      "  diag(b*((1+z**2)**(k-1))*(((18*k + 9)*(z**2) + 9)*exp(2*g*z) + (8*g*z**3 + (20*k + 10)*z**2 + 8*g*z + 10)*exp(g*z) + (2*k + 1)*z**2 + 1) / (5*(1 + exp(g*z))**2))\n",
      "/Users/maurocamara/Documents/University/ManifoldSampling/HMC/static_hmc.py:68: RuntimeWarning: invalid value encountered in matmul\n",
      "  q = q + self.epsilon * (self.Minv @ p)\n",
      "/Users/maurocamara/Documents/University/ManifoldSampling/g_and_k_functions.py:171: RuntimeWarning: overflow encountered in multiply\n",
      "  8 * b * (z**2) * ((1 + z**2)**k) * exp(g*z) / (5 * (1 + exp(g*z))**2),\n",
      "/Users/maurocamara/Documents/University/ManifoldSampling/g_and_k_functions.py:170: RuntimeWarning: overflow encountered in square\n",
      "  (1 + 0.8 * (1 - exp(-g * z)) / (1 + exp(-g * z))) * ((1 + z**2)**k) * z,\n",
      "/Users/maurocamara/Documents/University/ManifoldSampling/g_and_k_functions.py:172: RuntimeWarning: overflow encountered in multiply\n",
      "  b*z*((1+z**2)**k)*(1 + 9*exp(g*z))*log(1 + z**2) / (5*(1 + exp(g*z))),\n",
      "/Users/maurocamara/Documents/University/ManifoldSampling/g_and_k_functions.py:172: RuntimeWarning: overflow encountered in square\n",
      "  b*z*((1+z**2)**k)*(1 + 9*exp(g*z))*log(1 + z**2) / (5*(1 + exp(g*z))),\n",
      "/Users/maurocamara/Documents/University/ManifoldSampling/g_and_k_functions.py:173: RuntimeWarning: overflow encountered in power\n",
      "  diag(b*((1+z**2)**(k-1))*(((18*k + 9)*(z**2) + 9)*exp(2*g*z) + (8*g*z**3 + (20*k + 10)*z**2 + 8*g*z + 10)*exp(g*z) + (2*k + 1)*z**2 + 1) / (5*(1 + exp(g*z))**2))\n",
      "/Users/maurocamara/Documents/University/ManifoldSampling/g_and_k_functions.py:152: RuntimeWarning: overflow encountered in square\n",
      "  return a + b*(1 + 0.8 * (1 - exp(-g * z)) / (1 + exp(-g * z))) * ((1 + z**2)**k) * z\n",
      "/opt/anaconda3/envs/manifold-sampling/lib/python3.10/site-packages/scipy/stats/_multivariate.py:467: RuntimeWarning: overflow encountered in square\n",
      "  maha = np.sum(np.square(np.dot(dev, prec_U)), axis=-1)\n",
      "/var/folders/31/dthljx8x5mldm2ll5_zz7xrr0000gn/T/ipykernel_58954/2208553029.py:44: RuntimeWarning: overflow encountered in matmul\n",
      "  dkdξ = GK.Jf_transpose(ξ) @ (GK.f(ξ) - ystar) / (ϵ**2)\n",
      "/Users/maurocamara/Documents/University/ManifoldSampling/HMC/static_hmc.py:73: RuntimeWarning: invalid value encountered in matmul\n",
      "  q = q + self.epsilon * (self.Minv @ p)\n",
      "/Users/maurocamara/Documents/University/ManifoldSampling/g_and_k_functions.py:170: RuntimeWarning: overflow encountered in multiply\n",
      "  (1 + 0.8 * (1 - exp(-g * z)) / (1 + exp(-g * z))) * ((1 + z**2)**k) * z,\n",
      "/Users/maurocamara/Documents/University/ManifoldSampling/g_and_k_functions.py:152: RuntimeWarning: overflow encountered in multiply\n",
      "  return a + b*(1 + 0.8 * (1 - exp(-g * z)) / (1 + exp(-g * z))) * ((1 + z**2)**k) * z\n",
      "/Users/maurocamara/Documents/University/ManifoldSampling/g_and_k_functions.py:170: RuntimeWarning: overflow encountered in power\n",
      "  (1 + 0.8 * (1 - exp(-g * z)) / (1 + exp(-g * z))) * ((1 + z**2)**k) * z,\n",
      "/Users/maurocamara/Documents/University/ManifoldSampling/g_and_k_functions.py:171: RuntimeWarning: overflow encountered in power\n",
      "  8 * b * (z**2) * ((1 + z**2)**k) * exp(g*z) / (5 * (1 + exp(g*z))**2),\n",
      "/Users/maurocamara/Documents/University/ManifoldSampling/g_and_k_functions.py:172: RuntimeWarning: overflow encountered in power\n",
      "  b*z*((1+z**2)**k)*(1 + 9*exp(g*z))*log(1 + z**2) / (5*(1 + exp(g*z))),\n",
      "/Users/maurocamara/Documents/University/ManifoldSampling/g_and_k_functions.py:152: RuntimeWarning: overflow encountered in power\n",
      "  return a + b*(1 + 0.8 * (1 - exp(-g * z)) / (1 + exp(-g * z))) * ((1 + z**2)**k) * z\n",
      "/var/folders/31/dthljx8x5mldm2ll5_zz7xrr0000gn/T/ipykernel_58954/2208553029.py:44: RuntimeWarning: invalid value encountered in matmul\n",
      "  dkdξ = GK.Jf_transpose(ξ) @ (GK.f(ξ) - ystar) / (ϵ**2)\n"
     ]
    },
    {
     "name": "stdout",
     "output_type": "stream",
     "text": [
      "\t Sampling RWM\n",
      "Run 3, ϵ = 0.01, ystar mean = 3.6825030605059523\n",
      "\t Sampling HUG\n",
      "\t Sampling THUG\n",
      "\t Sampling HMC\n"
     ]
    },
    {
     "name": "stderr",
     "output_type": "stream",
     "text": [
      "/var/folders/31/dthljx8x5mldm2ll5_zz7xrr0000gn/T/ipykernel_58954/2208553029.py:44: RuntimeWarning: overflow encountered in true_divide\n",
      "  dkdξ = GK.Jf_transpose(ξ) @ (GK.f(ξ) - ystar) / (ϵ**2)\n"
     ]
    },
    {
     "name": "stdout",
     "output_type": "stream",
     "text": [
      "\t Sampling RWM\n",
      "Run 3, ϵ = 0.001, ystar mean = 3.6825030605059523\n",
      "\t Sampling HUG\n",
      "\t Sampling THUG\n",
      "\t Sampling HMC\n",
      "\t Sampling RWM\n",
      "Run 3, ϵ = 0.0001, ystar mean = 3.6825030605059523\n",
      "\t Sampling HUG\n",
      "\t Sampling THUG\n",
      "\t Sampling HMC\n",
      "\t Sampling RWM\n",
      "Run 4, ϵ = 10.0, ystar mean = 3.643905513142256\n",
      "\t Sampling HUG\n",
      "\t Sampling THUG\n",
      "\t Sampling HMC\n",
      "\t Sampling RWM\n",
      "Run 4, ϵ = 1.0, ystar mean = 3.643905513142256\n",
      "\t Sampling HUG\n",
      "\t Sampling THUG\n",
      "\t Sampling HMC\n",
      "\t Sampling RWM\n",
      "Run 4, ϵ = 0.1, ystar mean = 3.643905513142256\n",
      "\t Sampling HUG\n",
      "\t Sampling THUG\n",
      "\t Sampling HMC\n"
     ]
    },
    {
     "name": "stderr",
     "output_type": "stream",
     "text": [
      "/Users/maurocamara/Documents/University/ManifoldSampling/g_and_k_functions.py:171: RuntimeWarning: overflow encountered in exp\n",
      "  8 * b * (z**2) * ((1 + z**2)**k) * exp(g*z) / (5 * (1 + exp(g*z))**2),\n",
      "/Users/maurocamara/Documents/University/ManifoldSampling/g_and_k_functions.py:171: RuntimeWarning: invalid value encountered in multiply\n",
      "  8 * b * (z**2) * ((1 + z**2)**k) * exp(g*z) / (5 * (1 + exp(g*z))**2),\n",
      "/Users/maurocamara/Documents/University/ManifoldSampling/g_and_k_functions.py:172: RuntimeWarning: overflow encountered in exp\n",
      "  b*z*((1+z**2)**k)*(1 + 9*exp(g*z))*log(1 + z**2) / (5*(1 + exp(g*z))),\n",
      "/Users/maurocamara/Documents/University/ManifoldSampling/g_and_k_functions.py:172: RuntimeWarning: invalid value encountered in multiply\n",
      "  b*z*((1+z**2)**k)*(1 + 9*exp(g*z))*log(1 + z**2) / (5*(1 + exp(g*z))),\n",
      "/Users/maurocamara/Documents/University/ManifoldSampling/g_and_k_functions.py:173: RuntimeWarning: overflow encountered in exp\n",
      "  diag(b*((1+z**2)**(k-1))*(((18*k + 9)*(z**2) + 9)*exp(2*g*z) + (8*g*z**3 + (20*k + 10)*z**2 + 8*g*z + 10)*exp(g*z) + (2*k + 1)*z**2 + 1) / (5*(1 + exp(g*z))**2))\n",
      "/Users/maurocamara/Documents/University/ManifoldSampling/g_and_k_functions.py:173: RuntimeWarning: invalid value encountered in add\n",
      "  diag(b*((1+z**2)**(k-1))*(((18*k + 9)*(z**2) + 9)*exp(2*g*z) + (8*g*z**3 + (20*k + 10)*z**2 + 8*g*z + 10)*exp(g*z) + (2*k + 1)*z**2 + 1) / (5*(1 + exp(g*z))**2))\n",
      "/Users/maurocamara/Documents/University/ManifoldSampling/g_and_k_functions.py:173: RuntimeWarning: invalid value encountered in multiply\n",
      "  diag(b*((1+z**2)**(k-1))*(((18*k + 9)*(z**2) + 9)*exp(2*g*z) + (8*g*z**3 + (20*k + 10)*z**2 + 8*g*z + 10)*exp(g*z) + (2*k + 1)*z**2 + 1) / (5*(1 + exp(g*z))**2))\n",
      "/Users/maurocamara/Documents/University/ManifoldSampling/g_and_k_functions.py:171: RuntimeWarning: overflow encountered in square\n",
      "  8 * b * (z**2) * ((1 + z**2)**k) * exp(g*z) / (5 * (1 + exp(g*z))**2),\n",
      "/Users/maurocamara/Documents/University/ManifoldSampling/g_and_k_functions.py:173: RuntimeWarning: overflow encountered in square\n",
      "  diag(b*((1+z**2)**(k-1))*(((18*k + 9)*(z**2) + 9)*exp(2*g*z) + (8*g*z**3 + (20*k + 10)*z**2 + 8*g*z + 10)*exp(g*z) + (2*k + 1)*z**2 + 1) / (5*(1 + exp(g*z))**2))\n",
      "/Users/maurocamara/Documents/University/ManifoldSampling/g_and_k_functions.py:170: RuntimeWarning: overflow encountered in exp\n",
      "  (1 + 0.8 * (1 - exp(-g * z)) / (1 + exp(-g * z))) * ((1 + z**2)**k) * z,\n",
      "/Users/maurocamara/Documents/University/ManifoldSampling/g_and_k_functions.py:170: RuntimeWarning: invalid value encountered in true_divide\n",
      "  (1 + 0.8 * (1 - exp(-g * z)) / (1 + exp(-g * z))) * ((1 + z**2)**k) * z,\n",
      "/Users/maurocamara/Documents/University/ManifoldSampling/g_and_k_functions.py:152: RuntimeWarning: overflow encountered in exp\n",
      "  return a + b*(1 + 0.8 * (1 - exp(-g * z)) / (1 + exp(-g * z))) * ((1 + z**2)**k) * z\n",
      "/Users/maurocamara/Documents/University/ManifoldSampling/g_and_k_functions.py:152: RuntimeWarning: invalid value encountered in true_divide\n",
      "  return a + b*(1 + 0.8 * (1 - exp(-g * z)) / (1 + exp(-g * z))) * ((1 + z**2)**k) * z\n",
      "/Users/maurocamara/Documents/University/ManifoldSampling/g_and_k_functions.py:171: RuntimeWarning: invalid value encountered in true_divide\n",
      "  8 * b * (z**2) * ((1 + z**2)**k) * exp(g*z) / (5 * (1 + exp(g*z))**2),\n",
      "/Users/maurocamara/Documents/University/ManifoldSampling/g_and_k_functions.py:172: RuntimeWarning: invalid value encountered in true_divide\n",
      "  b*z*((1+z**2)**k)*(1 + 9*exp(g*z))*log(1 + z**2) / (5*(1 + exp(g*z))),\n",
      "/Users/maurocamara/Documents/University/ManifoldSampling/g_and_k_functions.py:173: RuntimeWarning: invalid value encountered in true_divide\n",
      "  diag(b*((1+z**2)**(k-1))*(((18*k + 9)*(z**2) + 9)*exp(2*g*z) + (8*g*z**3 + (20*k + 10)*z**2 + 8*g*z + 10)*exp(g*z) + (2*k + 1)*z**2 + 1) / (5*(1 + exp(g*z))**2))\n",
      "/Users/maurocamara/Documents/University/ManifoldSampling/g_and_k_functions.py:173: RuntimeWarning: overflow encountered in multiply\n",
      "  diag(b*((1+z**2)**(k-1))*(((18*k + 9)*(z**2) + 9)*exp(2*g*z) + (8*g*z**3 + (20*k + 10)*z**2 + 8*g*z + 10)*exp(g*z) + (2*k + 1)*z**2 + 1) / (5*(1 + exp(g*z))**2))\n",
      "/Users/maurocamara/Documents/University/ManifoldSampling/HMC/static_hmc.py:73: RuntimeWarning: invalid value encountered in matmul\n",
      "  q = q + self.epsilon * (self.Minv @ p)\n",
      "/Users/maurocamara/Documents/University/ManifoldSampling/HMC/static_hmc.py:68: RuntimeWarning: invalid value encountered in matmul\n",
      "  q = q + self.epsilon * (self.Minv @ p)\n",
      "/Users/maurocamara/Documents/University/ManifoldSampling/g_and_k_functions.py:171: RuntimeWarning: overflow encountered in multiply\n",
      "  8 * b * (z**2) * ((1 + z**2)**k) * exp(g*z) / (5 * (1 + exp(g*z))**2),\n",
      "/Users/maurocamara/Documents/University/ManifoldSampling/g_and_k_functions.py:172: RuntimeWarning: overflow encountered in multiply\n",
      "  b*z*((1+z**2)**k)*(1 + 9*exp(g*z))*log(1 + z**2) / (5*(1 + exp(g*z))),\n"
     ]
    },
    {
     "name": "stdout",
     "output_type": "stream",
     "text": [
      "\t Sampling RWM\n",
      "Run 4, ϵ = 0.01, ystar mean = 3.643905513142256\n",
      "\t Sampling HUG\n",
      "\t Sampling THUG\n",
      "\t Sampling HMC\n"
     ]
    },
    {
     "name": "stderr",
     "output_type": "stream",
     "text": [
      "/var/folders/31/dthljx8x5mldm2ll5_zz7xrr0000gn/T/ipykernel_58954/2208553029.py:44: RuntimeWarning: overflow encountered in matmul\n",
      "  dkdξ = GK.Jf_transpose(ξ) @ (GK.f(ξ) - ystar) / (ϵ**2)\n",
      "/Users/maurocamara/Documents/University/ManifoldSampling/g_and_k_functions.py:170: RuntimeWarning: overflow encountered in power\n",
      "  (1 + 0.8 * (1 - exp(-g * z)) / (1 + exp(-g * z))) * ((1 + z**2)**k) * z,\n",
      "/Users/maurocamara/Documents/University/ManifoldSampling/g_and_k_functions.py:171: RuntimeWarning: overflow encountered in power\n",
      "  8 * b * (z**2) * ((1 + z**2)**k) * exp(g*z) / (5 * (1 + exp(g*z))**2),\n",
      "/Users/maurocamara/Documents/University/ManifoldSampling/g_and_k_functions.py:172: RuntimeWarning: overflow encountered in power\n",
      "  b*z*((1+z**2)**k)*(1 + 9*exp(g*z))*log(1 + z**2) / (5*(1 + exp(g*z))),\n",
      "/Users/maurocamara/Documents/University/ManifoldSampling/g_and_k_functions.py:173: RuntimeWarning: overflow encountered in power\n",
      "  diag(b*((1+z**2)**(k-1))*(((18*k + 9)*(z**2) + 9)*exp(2*g*z) + (8*g*z**3 + (20*k + 10)*z**2 + 8*g*z + 10)*exp(g*z) + (2*k + 1)*z**2 + 1) / (5*(1 + exp(g*z))**2))\n",
      "/Users/maurocamara/Documents/University/ManifoldSampling/g_and_k_functions.py:152: RuntimeWarning: overflow encountered in power\n",
      "  return a + b*(1 + 0.8 * (1 - exp(-g * z)) / (1 + exp(-g * z))) * ((1 + z**2)**k) * z\n",
      "/var/folders/31/dthljx8x5mldm2ll5_zz7xrr0000gn/T/ipykernel_58954/2208553029.py:44: RuntimeWarning: invalid value encountered in matmul\n",
      "  dkdξ = GK.Jf_transpose(ξ) @ (GK.f(ξ) - ystar) / (ϵ**2)\n",
      "/Users/maurocamara/Documents/University/ManifoldSampling/g_and_k_functions.py:152: RuntimeWarning: overflow encountered in multiply\n",
      "  return a + b*(1 + 0.8 * (1 - exp(-g * z)) / (1 + exp(-g * z))) * ((1 + z**2)**k) * z\n",
      "/Users/maurocamara/Documents/University/ManifoldSampling/g_and_k_functions.py:170: RuntimeWarning: overflow encountered in multiply\n",
      "  (1 + 0.8 * (1 - exp(-g * z)) / (1 + exp(-g * z))) * ((1 + z**2)**k) * z,\n",
      "/Users/maurocamara/Documents/University/ManifoldSampling/g_and_k_functions.py:170: RuntimeWarning: overflow encountered in square\n",
      "  (1 + 0.8 * (1 - exp(-g * z)) / (1 + exp(-g * z))) * ((1 + z**2)**k) * z,\n",
      "/Users/maurocamara/Documents/University/ManifoldSampling/g_and_k_functions.py:172: RuntimeWarning: overflow encountered in square\n",
      "  b*z*((1+z**2)**k)*(1 + 9*exp(g*z))*log(1 + z**2) / (5*(1 + exp(g*z))),\n",
      "/Users/maurocamara/Documents/University/ManifoldSampling/g_and_k_functions.py:152: RuntimeWarning: overflow encountered in square\n",
      "  return a + b*(1 + 0.8 * (1 - exp(-g * z)) / (1 + exp(-g * z))) * ((1 + z**2)**k) * z\n",
      "/var/folders/31/dthljx8x5mldm2ll5_zz7xrr0000gn/T/ipykernel_58954/2208553029.py:44: RuntimeWarning: overflow encountered in true_divide\n",
      "  dkdξ = GK.Jf_transpose(ξ) @ (GK.f(ξ) - ystar) / (ϵ**2)\n"
     ]
    },
    {
     "name": "stdout",
     "output_type": "stream",
     "text": [
      "\t Sampling RWM\n",
      "Run 4, ϵ = 0.001, ystar mean = 3.643905513142256\n",
      "\t Sampling HUG\n",
      "\t Sampling THUG\n",
      "\t Sampling HMC\n",
      "\t Sampling RWM\n",
      "Run 4, ϵ = 0.0001, ystar mean = 3.643905513142256\n",
      "\t Sampling HUG\n",
      "\t Sampling THUG\n",
      "\t Sampling HMC\n",
      "\t Sampling RWM\n"
     ]
    }
   ],
   "source": [
    "ϵ_list = [10.0, 1.0, 0.1, 0.01, 0.001, 0.0001]\n",
    "cc2, ap2, ess2 = compare_computational_costs(ϵ_list, 10000, 5)"
   ]
  },
  {
   "cell_type": "markdown",
   "id": "d8963d51",
   "metadata": {},
   "source": [
    "**What I need to understand is why HMC seems to be doing amazing with 98% AP and then suddenly, it fails for slightly smaller epsilons.**"
   ]
  },
  {
   "cell_type": "code",
   "execution_count": 77,
   "id": "18cdc9a1",
   "metadata": {},
   "outputs": [],
   "source": [
    "# where AP is 0 (and ESS is 1) I want to not count the efficiency calculation. \n",
    "algs = ['HUG', 'THUG', 'HMC', 'RWM']\n",
    "avg_cc = {alg: zeros_like(ϵ_list) for alg in algs}\n",
    "n_valid_runs = {alg: {eps_ix: 0 for eps_ix in range(len(ϵ_list))} for alg in algs}\n",
    "\n",
    "for run_ix in range(2):\n",
    "    for alg in algs:\n",
    "        for eps_ix in range(len(ϵ_list)):\n",
    "            # If Acceptance Probability is not null, add computational cost\n",
    "            if ap2[run_ix][alg][eps_ix] != 0:\n",
    "                avg_cc[alg][eps_ix] += cc2[run_ix][alg][eps_ix]\n",
    "                n_valid_runs[alg][eps_ix]   += 1\n",
    "                \n",
    "# Average computational cost by dividing by correct number of valid runs\n",
    "for alg in algs:\n",
    "    for eps_ix in range(len(ϵ_list)):\n",
    "        if n_valid_runs[alg][eps_ix] != 0:\n",
    "            avg_cc[alg][eps_ix] /= n_valid_runs[alg][eps_ix] "
   ]
  },
  {
   "cell_type": "code",
   "execution_count": 78,
   "id": "31e81500",
   "metadata": {},
   "outputs": [
    {
     "data": {
      "text/plain": [
       "{'HUG': array([3.647144  , 3.58761399, 3.5426592 , 3.51010307, 3.79153765,\n",
       "        4.04274119]),\n",
       " 'THUG': array([3.81855141, 3.82245999, 3.82249775, 3.82749842, 3.78140318,\n",
       "        3.82613633]),\n",
       " 'HMC': array([2.56568507, 2.72941336, 0.        , 0.        , 0.        ,\n",
       "        0.        ]),\n",
       " 'RWM': array([1.73612832, 2.38998836, 1.73340464, 1.12293936, 1.07700853,\n",
       "        1.30795113])}"
      ]
     },
     "execution_count": 78,
     "metadata": {},
     "output_type": "execute_result"
    }
   ],
   "source": [
    "avg_cc"
   ]
  },
  {
   "cell_type": "code",
   "execution_count": null,
   "id": "a2cce7a4",
   "metadata": {},
   "outputs": [],
   "source": []
  },
  {
   "cell_type": "code",
   "execution_count": null,
   "id": "cd014e6c",
   "metadata": {},
   "outputs": [],
   "source": []
  },
  {
   "cell_type": "code",
   "execution_count": 343,
   "id": "1afd1990",
   "metadata": {},
   "outputs": [],
   "source": [
    "# Before averaging we need to replace zeros with nans\n",
    "\n",
    "# Average computational costs\n",
    "algs    = ['HUG', 'THUG', 'HMC', 'RWM']\n",
    "cc2_avg = {alg: zeros(len(ϵ_list)) for alg in algs}\n",
    "for i in range(5):\n",
    "    for alg in algs:\n",
    "        cc2_avg[alg] += cc2[i][alg] / 5"
   ]
  },
  {
   "cell_type": "code",
   "execution_count": 344,
   "id": "e5067d07",
   "metadata": {},
   "outputs": [
    {
     "data": {
      "text/plain": [
       "{'HUG': array([3.28606749, 3.27744826, 3.34213159, 3.35387   , 3.30023798,\n",
       "        3.34874819, 3.29205162]),\n",
       " 'THUG': array([3.4252763 , 3.43111707, 3.43085788, 3.45376181, 3.42832545,\n",
       "        3.42031053, 3.42525956]),\n",
       " 'HMC': array([3.84516008, 3.84516008, 3.84516008, 3.84516008, 3.84516008,\n",
       "               nan, 3.84516008]),\n",
       " 'RWM': array([1.28627233, 1.60550696, 2.39503611, 2.25138621, 1.84716458,\n",
       "        2.35721446, 1.4738117 ])}"
      ]
     },
     "execution_count": 344,
     "metadata": {},
     "output_type": "execute_result"
    }
   ],
   "source": [
    "cc2_avg"
   ]
  },
  {
   "cell_type": "code",
   "execution_count": null,
   "id": "7aadb5c5",
   "metadata": {},
   "outputs": [],
   "source": []
  },
  {
   "cell_type": "code",
   "execution_count": 212,
   "id": "fcbeae1b",
   "metadata": {},
   "outputs": [],
   "source": [
    "# def check_chang():\n",
    "#     # Sample a z\n",
    "#     z = randn(n_latents)\n",
    "#     # feed ξ = r_[θ0, z] into the transformation to obtain \"x\"\n",
    "#     x = GK.f(r_[θ0, z])\n",
    "#     # Given x, I want to find z again. Try fsolve.\n",
    "#     # First define function whose root we want to find\n",
    "#     function_for_rootfinding = lambda z: GK.f(r_[θ0, z]) - x\n",
    "#     # First, initialize z\n",
    "#     z0 = randn(n_latents)\n",
    "#     return z, x, fsolve(function_for_rootfinding, z0)"
   ]
  },
  {
   "cell_type": "code",
   "execution_count": 214,
   "id": "b7a1149f",
   "metadata": {},
   "outputs": [],
   "source": [
    "# _, xinit, out = check_chang()"
   ]
  },
  {
   "cell_type": "code",
   "execution_count": 219,
   "id": "35533a6e",
   "metadata": {},
   "outputs": [],
   "source": [
    "# def find_latent_given_data_and_parameter(y, θ):\n",
    "#     \"\"\"Given a parameter θ and observed data y, it returns the latent variables z such that f(θ, z) = y.\"\"\"\n",
    "#     function = lambda z: GK.f(r_[θ, z]) - y\n",
    "#     z0 = randn(len(y))\n",
    "#     return fsolve(function, z0)\n",
    "\n",
    "# def gk_likelihood(y, θ):\n",
    "#     \"\"\"Computes likelihood for G and K problem.\"\"\"\n",
    "#     z = find_latent_given_data_and_parameter(y, θ)\n",
    "#     GK.Jf\n",
    "#     ndist(z).prod()"
   ]
  },
  {
   "cell_type": "code",
   "execution_count": 230,
   "id": "8e46ef86",
   "metadata": {},
   "outputs": [],
   "source": [
    "# #### Function f but works for a single latent variable z\n",
    "# def f_one_z(ξ):\n",
    "#     if len(ξ) > 5:\n",
    "#         raise ValueError(\"This works for only one motherfucker.\")\n",
    "#     return ξ[0] + ξ[1]*(1 + 0.8 * (1 - anp.exp(-ξ[2] * ξ[4])) / (1 + anp.exp(-ξ[2] * ξ[4]))) * ((1 + ξ[4]**2)**ξ[3]) * ξ[4]\n",
    "# #### Inverse function but for one y. Here y is only one of the observed data points.\n",
    "# def inverse_one_y(y, θ, maxiter=10):\n",
    "#     function = lambda z: f_one_z(anp.concatenate((θ, array(z)))) - y\n",
    "#     i = 0\n",
    "#     out = None\n",
    "#     with catch_warnings():\n",
    "#         filterwarnings('error')\n",
    "#         while i <= maxiter:\n",
    "#             i += 1\n",
    "#             try:\n",
    "#                 out = fsolve(function, randn())\n",
    "#             except RuntimeWarning:\n",
    "#                 #print(i, \"th Runtime Warning\")\n",
    "#                 continue\n",
    "#     if out is not None:\n",
    "#         return out\n",
    "#     else:\n",
    "#         raise ValueError(\"Couldn't invert.\")\n",
    "# #### Log likelihood for a single data point\n",
    "# def loglike_one_y(y, θ):\n",
    "#     z = inverse_one_y(y, θ)\n",
    "#     function = lambda z: f_one_z(anp.concatenate((θ, anp.array(z))))\n",
    "#     log_grad = log(abs(grad(function)(z)))\n",
    "#     return ndist.logpdf(z) - log_grad\n",
    "# #### Log prior function\n",
    "# def RWM_logprior(θ):\n",
    "#     return udist(loc=0.0, scale=10.0).logpdf(θ).sum()\n",
    "# #### RWM true MCMC function\n",
    "# def MCMC_RWM(N, s, Σ, y, θ0):\n",
    "#     samples       = zeros((N+1, 4))\n",
    "#     samples[0, :] = θ0\n",
    "#     AP            = 0.0\n",
    "#     for t in range(1, N+1):\n",
    "#         θp = MVN(samples[t-1, :], s*Σ).rvs()\n",
    "#         if RWM_logprior(θp) == -np.inf:\n",
    "#             samples[t, :] = samples[t-1, :]\n",
    "#         else:\n",
    "#             llθp  = lambda y: loglike_one_y(y, θp)[0]\n",
    "#             llθ0  = lambda y: loglike_one_y(y, samples[t-1, :])[0]\n",
    "#             apply = lambda function, array: list(map(function, array)) \n",
    "#             log_α = min(0, RWM_logprior(θp) - RWM_logprior(samples[t-1, :]) + sum(apply(llθp, y)) - sum(apply(llθ0, y)))\n",
    "#             logu  = log(rand())\n",
    "#             if logu < log_α:\n",
    "#                 samples[t, :] = θp\n",
    "#                 AP += 1\n",
    "#             else:\n",
    "#                  samples[t, :] = samples[t - 1, :]\n",
    "#     return samples, AP/N\n",
    "\n",
    "\n",
    "# def MCMC_RWM_NEW(N, s, Σ, y, θ0):\n",
    "#     \"\"\"I need to make sure that I am stopping when I need to stop. For instance, if my optimization fails, \n",
    "#     I should probably try again 10 times, and the reject the sample and try with a new theta. \"\"\"\n",
    "#     samples       = zeros((N+1, 4))\n",
    "#     samples[0, :] = θ0\n",
    "#     AP            = 0.0\n",
    "#     for t in range(1, N+1):\n",
    "#         θp = MVN(samples[t-1, :], s*Σ).rvs()\n",
    "#         if RWM_logprior(θp) == -np.inf:\n",
    "#             samples[t, :] = samples[t-1, :]\n",
    "#         else:\n",
    "#             llθp  = lambda y: loglike_one_y(y, θp)[0]\n",
    "#             llθ0  = lambda y: loglike_one_y(y, samples[t-1, :])[0]\n",
    "#             apply = lambda function, array: list(map(function, array)) \n",
    "#             log_α = min(0, RWM_logprior(θp) - RWM_logprior(samples[t-1, :]) + sum(apply(llθp, y)) - sum(apply(llθ0, y)))\n",
    "#             logu  = log(rand())\n",
    "#             if logu < log_α:\n",
    "#                 samples[t, :] = θp\n",
    "#                 AP += 1\n",
    "#             else:\n",
    "#                  samples[t, :] = samples[t - 1, :]\n",
    "#     return samples, AP/N\n",
    "    \n",
    "    "
   ]
  },
  {
   "cell_type": "code",
   "execution_count": 16,
   "id": "eb840f5f",
   "metadata": {},
   "outputs": [],
   "source": [
    "# Get a shit ton of samples first using Hug\n",
    "# Pure HUG, QR projection\n",
    "# sHUG, aHUG = HugTangentialMultivariate(ξ0, T, B, 200000, 0.0, q, GK.log_abc_posterior, GK.Jf, method='qr')"
   ]
  },
  {
   "cell_type": "code",
   "execution_count": 17,
   "id": "55142f7e",
   "metadata": {},
   "outputs": [],
   "source": [
    "# # First estimate covariance matrix from samples obtained with Hug\n",
    "# Σhat = np.cov(sHUG[100000:, :4].T)\n",
    "\n",
    "# # Find an initial starting point\n",
    "# θstart = udist(loc=0.0, scale=10.0).rvs(4)"
   ]
  },
  {
   "cell_type": "code",
   "execution_count": 18,
   "id": "13a03d5f",
   "metadata": {},
   "outputs": [],
   "source": [
    "# # Use estimated covariance matrixin MCMC_RWM with stepsize 0.2 as Chang found\n",
    "# ########### IMPORTANT!!! I AM USING θ0 AS MY STARTING POINT\n",
    "# strue, atrue = MCMC_RWM(100000, 0.2, Σhat, ystar, θ0)"
   ]
  },
  {
   "cell_type": "code",
   "execution_count": 19,
   "id": "1d9c4658",
   "metadata": {},
   "outputs": [],
   "source": [
    "# SAMPLES_TO_PLOT = strue\n",
    "# fig, ax = plt.subplots(ncols=4, figsize=(15,4))\n",
    "# for i in range(4):\n",
    "#     #_ = ax[i].hist(SAMPLES_TO_PLOT[:, i], bins=30)\n",
    "#     _ = sns.kdeplot(SAMPLES_TO_PLOT[:, i], ax=ax[i], bw_method=SMOOTH)\n",
    "#     ax[i].axvline(θ0[i], c='k', ls='--')"
   ]
  },
  {
   "cell_type": "markdown",
   "id": "3b9d3c93",
   "metadata": {},
   "source": [
    "# Run True MCMC for fewer samples (and without printing) but with Identity Matrix, to see if the problem was indeed the failing of the optimization procedure. Also start from a randomly sampled $\\theta$"
   ]
  },
  {
   "cell_type": "code",
   "execution_count": 25,
   "id": "ff5c4395",
   "metadata": {},
   "outputs": [],
   "source": [
    "# First run uses an identity covariance matrix\n",
    "strueI, atrueI = MCMC_RWM(10000, 0.2, eye(4), ystar, θ0)"
   ]
  },
  {
   "cell_type": "code",
   "execution_count": 26,
   "id": "d1afa261",
   "metadata": {},
   "outputs": [],
   "source": [
    "# Compute approximate covariance matrix from the samples\n",
    "ΣhatI = np.cov(strueI.T)"
   ]
  },
  {
   "cell_type": "code",
   "execution_count": 27,
   "id": "7701bf77",
   "metadata": {},
   "outputs": [],
   "source": [
    "# Second run, with correct covariance matrix (again, starting from θ0)\n",
    "strueΣ, atrueΣ = MCMC_RWM(10000, 0.2, ΣhatI, ystar, θ0)"
   ]
  },
  {
   "cell_type": "code",
   "execution_count": null,
   "id": "87514cb0",
   "metadata": {},
   "outputs": [],
   "source": [
    "# #SAMPLES_TO_PLOT = strueI\n",
    "# fig, ax = plt.subplots(ncols=4, figsize=(15,4))\n",
    "# for i in range(4):\n",
    "#     _ = sns.kdeplot(strueI[:, i], ax=ax[i], bw_method=SMOOTH, label='Strue I')\n",
    "#     _ = sns.kdeplot(strueΣ[:, i], ax=ax[i], bw_method=SMOOTH, label='Strue Σ')\n",
    "#     ax[i].axvline(θ0[i], c='k', ls='--')\n",
    "# plt.legend()\n",
    "# plt.show()"
   ]
  },
  {
   "cell_type": "code",
   "execution_count": 443,
   "id": "f199c535",
   "metadata": {},
   "outputs": [],
   "source": [
    "# from scipy.stats import expon\n",
    "# from numpy import cumsum\n",
    "\n",
    "# def generate_uniform_order_statistics(n):\n",
    "#     \"\"\"Generates n uniform random variables that are already ordered. We use the Exponential Spacing method\n",
    "#     described in Ripley 1987, page 98.\"\"\"\n",
    "#     E = expon().rvs(n+1)   # E_1, ...  E_{n+1} ~ Exp(1)\n",
    "#     S = cumsum(E)          # S_k = E_1 + ... + E_k\n",
    "#     U = S[:-1] / S[-1]     # U_k = S_k / S_{n+1}\n",
    "#     return U"
   ]
  },
  {
   "cell_type": "markdown",
   "id": "11916c7c",
   "metadata": {},
   "source": [
    "# RMSE and Variance"
   ]
  },
  {
   "cell_type": "code",
   "execution_count": 452,
   "id": "d425b58a",
   "metadata": {},
   "outputs": [],
   "source": [
    "from numpy import mean, sqrt"
   ]
  },
  {
   "cell_type": "code",
   "execution_count": 453,
   "id": "583f20cf",
   "metadata": {},
   "outputs": [],
   "source": [
    "rmse = lambda x, y: sqrt(mean((x - y)**2))\n",
    "mse  = lambda x, y: mean((x - y)**2)"
   ]
  },
  {
   "cell_type": "code",
   "execution_count": 454,
   "id": "c997b688",
   "metadata": {},
   "outputs": [
    {
     "data": {
      "text/plain": [
       "0.2460922883345506"
      ]
     },
     "execution_count": 454,
     "metadata": {},
     "output_type": "execute_result"
    }
   ],
   "source": [
    "rmse(θ0, samples1[:, :4].mean(axis=0))"
   ]
  },
  {
   "cell_type": "code",
   "execution_count": 455,
   "id": "83cb89bf",
   "metadata": {},
   "outputs": [
    {
     "data": {
      "text/plain": [
       "3.1074553412402524"
      ]
     },
     "execution_count": 455,
     "metadata": {},
     "output_type": "execute_result"
    }
   ],
   "source": [
    "rmse(θ0, samples3[:, :4].mean(axis=0))"
   ]
  },
  {
   "cell_type": "code",
   "execution_count": 456,
   "id": "0cb6d544",
   "metadata": {},
   "outputs": [
    {
     "data": {
      "text/plain": [
       "0.26572109705890623"
      ]
     },
     "execution_count": 456,
     "metadata": {},
     "output_type": "execute_result"
    }
   ],
   "source": [
    "rmse(θ0, samples5[:, :4].mean(axis=0))"
   ]
  },
  {
   "cell_type": "code",
   "execution_count": 458,
   "id": "60420a2b",
   "metadata": {},
   "outputs": [
    {
     "data": {
      "text/plain": [
       "0.22439442296836024"
      ]
     },
     "execution_count": 458,
     "metadata": {},
     "output_type": "execute_result"
    }
   ],
   "source": [
    "rmse(θ0, strueΣ.mean(axis=0))"
   ]
  },
  {
   "cell_type": "code",
   "execution_count": 396,
   "id": "3065f2e0",
   "metadata": {},
   "outputs": [],
   "source": [
    "# need to check that using a non uniform prior is not causing issues somehow."
   ]
  },
  {
   "cell_type": "code",
   "execution_count": 285,
   "id": "9998357a",
   "metadata": {},
   "outputs": [],
   "source": [
    "def get_p_equally_spaced_order_statistics(y, p=8):\n",
    "    \"\"\"Given data y, returns p equally spaced ordered statistics.\"\"\"\n",
    "    return anp.quantile(anp.sort(y), anp.linspace(0.0, 1.0, num=p, endpoint=True))"
   ]
  },
  {
   "cell_type": "code",
   "execution_count": 288,
   "id": "d206ea68",
   "metadata": {},
   "outputs": [],
   "source": [
    "n_quantiles = 8\n",
    "ϕ = lambda y: get_p_equally_spaced_order_statistics(y, p=n_quantiles)"
   ]
  },
  {
   "cell_type": "code",
   "execution_count": 291,
   "id": "665d23c0",
   "metadata": {},
   "outputs": [],
   "source": [
    "Jϕ  = jacobian(ϕ)"
   ]
  },
  {
   "cell_type": "code",
   "execution_count": 292,
   "id": "74b2363c",
   "metadata": {
    "scrolled": true
   },
   "outputs": [
    {
     "ename": "NotImplementedError",
     "evalue": "VJP of quantile wrt argnums (0,) not defined",
     "output_type": "error",
     "traceback": [
      "\u001b[0;31m---------------------------------------------------------------------------\u001b[0m",
      "\u001b[0;31mKeyError\u001b[0m                                  Traceback (most recent call last)",
      "File \u001b[0;32m/opt/anaconda3/envs/manifold-sampling/lib/python3.10/site-packages/autograd/core.py:31\u001b[0m, in \u001b[0;36mVJPNode.__init__\u001b[0;34m(self, value, fun, args, kwargs, parent_argnums, parents)\u001b[0m\n\u001b[1;32m     30\u001b[0m \u001b[38;5;28;01mtry\u001b[39;00m:\n\u001b[0;32m---> 31\u001b[0m     vjpmaker \u001b[38;5;241m=\u001b[39m \u001b[43mprimitive_vjps\u001b[49m\u001b[43m[\u001b[49m\u001b[43mfun\u001b[49m\u001b[43m]\u001b[49m\n\u001b[1;32m     32\u001b[0m \u001b[38;5;28;01mexcept\u001b[39;00m \u001b[38;5;167;01mKeyError\u001b[39;00m:\n",
      "\u001b[0;31mKeyError\u001b[0m: <function primitive.<locals>.f_wrapped at 0x155aa7640>",
      "\nDuring handling of the above exception, another exception occurred:\n",
      "\u001b[0;31mNotImplementedError\u001b[0m                       Traceback (most recent call last)",
      "Input \u001b[0;32mIn [292]\u001b[0m, in \u001b[0;36m<cell line: 1>\u001b[0;34m()\u001b[0m\n\u001b[0;32m----> 1\u001b[0m \u001b[43mJϕ\u001b[49m\u001b[43m(\u001b[49m\u001b[43mystar\u001b[49m\u001b[43m)\u001b[49m\n",
      "File \u001b[0;32m/opt/anaconda3/envs/manifold-sampling/lib/python3.10/site-packages/autograd/wrap_util.py:20\u001b[0m, in \u001b[0;36munary_to_nary.<locals>.nary_operator.<locals>.nary_f\u001b[0;34m(*args, **kwargs)\u001b[0m\n\u001b[1;32m     18\u001b[0m \u001b[38;5;28;01melse\u001b[39;00m:\n\u001b[1;32m     19\u001b[0m     x \u001b[38;5;241m=\u001b[39m \u001b[38;5;28mtuple\u001b[39m(args[i] \u001b[38;5;28;01mfor\u001b[39;00m i \u001b[38;5;129;01min\u001b[39;00m argnum)\n\u001b[0;32m---> 20\u001b[0m \u001b[38;5;28;01mreturn\u001b[39;00m \u001b[43munary_operator\u001b[49m\u001b[43m(\u001b[49m\u001b[43munary_f\u001b[49m\u001b[43m,\u001b[49m\u001b[43m \u001b[49m\u001b[43mx\u001b[49m\u001b[43m,\u001b[49m\u001b[43m \u001b[49m\u001b[38;5;241;43m*\u001b[39;49m\u001b[43mnary_op_args\u001b[49m\u001b[43m,\u001b[49m\u001b[43m \u001b[49m\u001b[38;5;241;43m*\u001b[39;49m\u001b[38;5;241;43m*\u001b[39;49m\u001b[43mnary_op_kwargs\u001b[49m\u001b[43m)\u001b[49m\n",
      "File \u001b[0;32m/opt/anaconda3/envs/manifold-sampling/lib/python3.10/site-packages/autograd/differential_operators.py:57\u001b[0m, in \u001b[0;36mjacobian\u001b[0;34m(fun, x)\u001b[0m\n\u001b[1;32m     47\u001b[0m \u001b[38;5;129m@unary_to_nary\u001b[39m\n\u001b[1;32m     48\u001b[0m \u001b[38;5;28;01mdef\u001b[39;00m \u001b[38;5;21mjacobian\u001b[39m(fun, x):\n\u001b[1;32m     49\u001b[0m     \u001b[38;5;124;03m\"\"\"\u001b[39;00m\n\u001b[1;32m     50\u001b[0m \u001b[38;5;124;03m    Returns a function which computes the Jacobian of `fun` with respect to\u001b[39;00m\n\u001b[1;32m     51\u001b[0m \u001b[38;5;124;03m    positional argument number `argnum`, which must be a scalar or array. Unlike\u001b[39;00m\n\u001b[0;32m   (...)\u001b[0m\n\u001b[1;32m     55\u001b[0m \u001b[38;5;124;03m    (out1, out2, ...) then the Jacobian has shape (out1, out2, ..., in1, in2, ...).\u001b[39;00m\n\u001b[1;32m     56\u001b[0m \u001b[38;5;124;03m    \"\"\"\u001b[39;00m\n\u001b[0;32m---> 57\u001b[0m     vjp, ans \u001b[38;5;241m=\u001b[39m \u001b[43m_make_vjp\u001b[49m\u001b[43m(\u001b[49m\u001b[43mfun\u001b[49m\u001b[43m,\u001b[49m\u001b[43m \u001b[49m\u001b[43mx\u001b[49m\u001b[43m)\u001b[49m\n\u001b[1;32m     58\u001b[0m     ans_vspace \u001b[38;5;241m=\u001b[39m vspace(ans)\n\u001b[1;32m     59\u001b[0m     jacobian_shape \u001b[38;5;241m=\u001b[39m ans_vspace\u001b[38;5;241m.\u001b[39mshape \u001b[38;5;241m+\u001b[39m vspace(x)\u001b[38;5;241m.\u001b[39mshape\n",
      "File \u001b[0;32m/opt/anaconda3/envs/manifold-sampling/lib/python3.10/site-packages/autograd/core.py:10\u001b[0m, in \u001b[0;36mmake_vjp\u001b[0;34m(fun, x)\u001b[0m\n\u001b[1;32m      8\u001b[0m \u001b[38;5;28;01mdef\u001b[39;00m \u001b[38;5;21mmake_vjp\u001b[39m(fun, x):\n\u001b[1;32m      9\u001b[0m     start_node \u001b[38;5;241m=\u001b[39m VJPNode\u001b[38;5;241m.\u001b[39mnew_root()\n\u001b[0;32m---> 10\u001b[0m     end_value, end_node \u001b[38;5;241m=\u001b[39m  \u001b[43mtrace\u001b[49m\u001b[43m(\u001b[49m\u001b[43mstart_node\u001b[49m\u001b[43m,\u001b[49m\u001b[43m \u001b[49m\u001b[43mfun\u001b[49m\u001b[43m,\u001b[49m\u001b[43m \u001b[49m\u001b[43mx\u001b[49m\u001b[43m)\u001b[49m\n\u001b[1;32m     11\u001b[0m     \u001b[38;5;28;01mif\u001b[39;00m end_node \u001b[38;5;129;01mis\u001b[39;00m \u001b[38;5;28;01mNone\u001b[39;00m:\n\u001b[1;32m     12\u001b[0m         \u001b[38;5;28;01mdef\u001b[39;00m \u001b[38;5;21mvjp\u001b[39m(g): \u001b[38;5;28;01mreturn\u001b[39;00m vspace(x)\u001b[38;5;241m.\u001b[39mzeros()\n",
      "File \u001b[0;32m/opt/anaconda3/envs/manifold-sampling/lib/python3.10/site-packages/autograd/tracer.py:10\u001b[0m, in \u001b[0;36mtrace\u001b[0;34m(start_node, fun, x)\u001b[0m\n\u001b[1;32m      8\u001b[0m \u001b[38;5;28;01mwith\u001b[39;00m trace_stack\u001b[38;5;241m.\u001b[39mnew_trace() \u001b[38;5;28;01mas\u001b[39;00m t:\n\u001b[1;32m      9\u001b[0m     start_box \u001b[38;5;241m=\u001b[39m new_box(x, t, start_node)\n\u001b[0;32m---> 10\u001b[0m     end_box \u001b[38;5;241m=\u001b[39m \u001b[43mfun\u001b[49m\u001b[43m(\u001b[49m\u001b[43mstart_box\u001b[49m\u001b[43m)\u001b[49m\n\u001b[1;32m     11\u001b[0m     \u001b[38;5;28;01mif\u001b[39;00m isbox(end_box) \u001b[38;5;129;01mand\u001b[39;00m end_box\u001b[38;5;241m.\u001b[39m_trace \u001b[38;5;241m==\u001b[39m start_box\u001b[38;5;241m.\u001b[39m_trace:\n\u001b[1;32m     12\u001b[0m         \u001b[38;5;28;01mreturn\u001b[39;00m end_box\u001b[38;5;241m.\u001b[39m_value, end_box\u001b[38;5;241m.\u001b[39m_node\n",
      "File \u001b[0;32m/opt/anaconda3/envs/manifold-sampling/lib/python3.10/site-packages/autograd/wrap_util.py:15\u001b[0m, in \u001b[0;36munary_to_nary.<locals>.nary_operator.<locals>.nary_f.<locals>.unary_f\u001b[0;34m(x)\u001b[0m\n\u001b[1;32m     13\u001b[0m \u001b[38;5;28;01melse\u001b[39;00m:\n\u001b[1;32m     14\u001b[0m     subargs \u001b[38;5;241m=\u001b[39m subvals(args, \u001b[38;5;28mzip\u001b[39m(argnum, x))\n\u001b[0;32m---> 15\u001b[0m \u001b[38;5;28;01mreturn\u001b[39;00m \u001b[43mfun\u001b[49m\u001b[43m(\u001b[49m\u001b[38;5;241;43m*\u001b[39;49m\u001b[43msubargs\u001b[49m\u001b[43m,\u001b[49m\u001b[43m \u001b[49m\u001b[38;5;241;43m*\u001b[39;49m\u001b[38;5;241;43m*\u001b[39;49m\u001b[43mkwargs\u001b[49m\u001b[43m)\u001b[49m\n",
      "Input \u001b[0;32mIn [288]\u001b[0m, in \u001b[0;36m<lambda>\u001b[0;34m(y)\u001b[0m\n\u001b[1;32m      1\u001b[0m n_quantiles \u001b[38;5;241m=\u001b[39m \u001b[38;5;241m8\u001b[39m\n\u001b[0;32m----> 2\u001b[0m ϕ \u001b[38;5;241m=\u001b[39m \u001b[38;5;28;01mlambda\u001b[39;00m y: \u001b[43mget_p_equally_spaced_order_statistics\u001b[49m\u001b[43m(\u001b[49m\u001b[43my\u001b[49m\u001b[43m,\u001b[49m\u001b[43m \u001b[49m\u001b[43mp\u001b[49m\u001b[38;5;241;43m=\u001b[39;49m\u001b[43mn_quantiles\u001b[49m\u001b[43m)\u001b[49m\n",
      "Input \u001b[0;32mIn [285]\u001b[0m, in \u001b[0;36mget_p_equally_spaced_order_statistics\u001b[0;34m(y, p)\u001b[0m\n\u001b[1;32m      1\u001b[0m \u001b[38;5;28;01mdef\u001b[39;00m \u001b[38;5;21mget_p_equally_spaced_order_statistics\u001b[39m(y, p\u001b[38;5;241m=\u001b[39m\u001b[38;5;241m8\u001b[39m):\n\u001b[1;32m      2\u001b[0m     \u001b[38;5;124;03m\"\"\"Given data y, returns p equally spaced ordered statistics.\"\"\"\u001b[39;00m\n\u001b[0;32m----> 3\u001b[0m     \u001b[38;5;28;01mreturn\u001b[39;00m \u001b[43manp\u001b[49m\u001b[38;5;241;43m.\u001b[39;49m\u001b[43mquantile\u001b[49m\u001b[43m(\u001b[49m\u001b[43manp\u001b[49m\u001b[38;5;241;43m.\u001b[39;49m\u001b[43msort\u001b[49m\u001b[43m(\u001b[49m\u001b[43my\u001b[49m\u001b[43m)\u001b[49m\u001b[43m,\u001b[49m\u001b[43m \u001b[49m\u001b[43manp\u001b[49m\u001b[38;5;241;43m.\u001b[39;49m\u001b[43mlinspace\u001b[49m\u001b[43m(\u001b[49m\u001b[38;5;241;43m0.0\u001b[39;49m\u001b[43m,\u001b[49m\u001b[43m \u001b[49m\u001b[38;5;241;43m1.0\u001b[39;49m\u001b[43m,\u001b[49m\u001b[43m \u001b[49m\u001b[43mnum\u001b[49m\u001b[38;5;241;43m=\u001b[39;49m\u001b[43mp\u001b[49m\u001b[43m,\u001b[49m\u001b[43m \u001b[49m\u001b[43mendpoint\u001b[49m\u001b[38;5;241;43m=\u001b[39;49m\u001b[38;5;28;43;01mTrue\u001b[39;49;00m\u001b[43m)\u001b[49m\u001b[43m)\u001b[49m\n",
      "File \u001b[0;32m/opt/anaconda3/envs/manifold-sampling/lib/python3.10/site-packages/autograd/tracer.py:45\u001b[0m, in \u001b[0;36mprimitive.<locals>.f_wrapped\u001b[0;34m(*args, **kwargs)\u001b[0m\n\u001b[1;32m     43\u001b[0m     argnums \u001b[38;5;241m=\u001b[39m \u001b[38;5;28mtuple\u001b[39m(argnum    \u001b[38;5;28;01mfor\u001b[39;00m argnum, _   \u001b[38;5;129;01min\u001b[39;00m boxed_args)\n\u001b[1;32m     44\u001b[0m     ans \u001b[38;5;241m=\u001b[39m f_wrapped(\u001b[38;5;241m*\u001b[39margvals, \u001b[38;5;241m*\u001b[39m\u001b[38;5;241m*\u001b[39mkwargs)\n\u001b[0;32m---> 45\u001b[0m     node \u001b[38;5;241m=\u001b[39m \u001b[43mnode_constructor\u001b[49m\u001b[43m(\u001b[49m\u001b[43mans\u001b[49m\u001b[43m,\u001b[49m\u001b[43m \u001b[49m\u001b[43mf_wrapped\u001b[49m\u001b[43m,\u001b[49m\u001b[43m \u001b[49m\u001b[43margvals\u001b[49m\u001b[43m,\u001b[49m\u001b[43m \u001b[49m\u001b[43mkwargs\u001b[49m\u001b[43m,\u001b[49m\u001b[43m \u001b[49m\u001b[43margnums\u001b[49m\u001b[43m,\u001b[49m\u001b[43m \u001b[49m\u001b[43mparents\u001b[49m\u001b[43m)\u001b[49m\n\u001b[1;32m     46\u001b[0m     \u001b[38;5;28;01mreturn\u001b[39;00m new_box(ans, trace, node)\n\u001b[1;32m     47\u001b[0m \u001b[38;5;28;01melse\u001b[39;00m:\n",
      "File \u001b[0;32m/opt/anaconda3/envs/manifold-sampling/lib/python3.10/site-packages/autograd/core.py:34\u001b[0m, in \u001b[0;36mVJPNode.__init__\u001b[0;34m(self, value, fun, args, kwargs, parent_argnums, parents)\u001b[0m\n\u001b[1;32m     32\u001b[0m \u001b[38;5;28;01mexcept\u001b[39;00m \u001b[38;5;167;01mKeyError\u001b[39;00m:\n\u001b[1;32m     33\u001b[0m     fun_name \u001b[38;5;241m=\u001b[39m \u001b[38;5;28mgetattr\u001b[39m(fun, \u001b[38;5;124m'\u001b[39m\u001b[38;5;124m__name__\u001b[39m\u001b[38;5;124m'\u001b[39m, fun)\n\u001b[0;32m---> 34\u001b[0m     \u001b[38;5;28;01mraise\u001b[39;00m \u001b[38;5;167;01mNotImplementedError\u001b[39;00m(\u001b[38;5;124m\"\u001b[39m\u001b[38;5;124mVJP of \u001b[39m\u001b[38;5;132;01m{}\u001b[39;00m\u001b[38;5;124m wrt argnums \u001b[39m\u001b[38;5;132;01m{}\u001b[39;00m\u001b[38;5;124m not defined\u001b[39m\u001b[38;5;124m\"\u001b[39m\n\u001b[1;32m     35\u001b[0m                               \u001b[38;5;241m.\u001b[39mformat(fun_name, parent_argnums))\n\u001b[1;32m     36\u001b[0m \u001b[38;5;28mself\u001b[39m\u001b[38;5;241m.\u001b[39mvjp \u001b[38;5;241m=\u001b[39m vjpmaker(parent_argnums, value, args, kwargs)\n",
      "\u001b[0;31mNotImplementedError\u001b[0m: VJP of quantile wrt argnums (0,) not defined"
     ]
    }
   ],
   "source": [
    "Jϕ(ystar)"
   ]
  },
  {
   "cell_type": "code",
   "execution_count": 295,
   "id": "4cc5b308",
   "metadata": {},
   "outputs": [],
   "source": [
    "func = lambda y: anp.quantile(y, 0.5)"
   ]
  },
  {
   "cell_type": "code",
   "execution_count": 300,
   "id": "b6360fff",
   "metadata": {},
   "outputs": [
    {
     "ename": "NotImplementedError",
     "evalue": "VJP of quantile wrt argnums (0,) not defined",
     "output_type": "error",
     "traceback": [
      "\u001b[0;31m---------------------------------------------------------------------------\u001b[0m",
      "\u001b[0;31mKeyError\u001b[0m                                  Traceback (most recent call last)",
      "File \u001b[0;32m/opt/anaconda3/envs/manifold-sampling/lib/python3.10/site-packages/autograd/core.py:31\u001b[0m, in \u001b[0;36mVJPNode.__init__\u001b[0;34m(self, value, fun, args, kwargs, parent_argnums, parents)\u001b[0m\n\u001b[1;32m     30\u001b[0m \u001b[38;5;28;01mtry\u001b[39;00m:\n\u001b[0;32m---> 31\u001b[0m     vjpmaker \u001b[38;5;241m=\u001b[39m \u001b[43mprimitive_vjps\u001b[49m\u001b[43m[\u001b[49m\u001b[43mfun\u001b[49m\u001b[43m]\u001b[49m\n\u001b[1;32m     32\u001b[0m \u001b[38;5;28;01mexcept\u001b[39;00m \u001b[38;5;167;01mKeyError\u001b[39;00m:\n",
      "\u001b[0;31mKeyError\u001b[0m: <function primitive.<locals>.f_wrapped at 0x155aa7640>",
      "\nDuring handling of the above exception, another exception occurred:\n",
      "\u001b[0;31mNotImplementedError\u001b[0m                       Traceback (most recent call last)",
      "Input \u001b[0;32mIn [300]\u001b[0m, in \u001b[0;36m<cell line: 1>\u001b[0;34m()\u001b[0m\n\u001b[0;32m----> 1\u001b[0m \u001b[43mjacobian\u001b[49m\u001b[43m(\u001b[49m\u001b[43mfunc\u001b[49m\u001b[43m,\u001b[49m\u001b[43m \u001b[49m\u001b[43margnum\u001b[49m\u001b[38;5;241;43m=\u001b[39;49m\u001b[38;5;241;43m0\u001b[39;49m\u001b[43m)\u001b[49m\u001b[43m(\u001b[49m\u001b[43mystar\u001b[49m\u001b[43m)\u001b[49m\n",
      "File \u001b[0;32m/opt/anaconda3/envs/manifold-sampling/lib/python3.10/site-packages/autograd/wrap_util.py:20\u001b[0m, in \u001b[0;36munary_to_nary.<locals>.nary_operator.<locals>.nary_f\u001b[0;34m(*args, **kwargs)\u001b[0m\n\u001b[1;32m     18\u001b[0m \u001b[38;5;28;01melse\u001b[39;00m:\n\u001b[1;32m     19\u001b[0m     x \u001b[38;5;241m=\u001b[39m \u001b[38;5;28mtuple\u001b[39m(args[i] \u001b[38;5;28;01mfor\u001b[39;00m i \u001b[38;5;129;01min\u001b[39;00m argnum)\n\u001b[0;32m---> 20\u001b[0m \u001b[38;5;28;01mreturn\u001b[39;00m \u001b[43munary_operator\u001b[49m\u001b[43m(\u001b[49m\u001b[43munary_f\u001b[49m\u001b[43m,\u001b[49m\u001b[43m \u001b[49m\u001b[43mx\u001b[49m\u001b[43m,\u001b[49m\u001b[43m \u001b[49m\u001b[38;5;241;43m*\u001b[39;49m\u001b[43mnary_op_args\u001b[49m\u001b[43m,\u001b[49m\u001b[43m \u001b[49m\u001b[38;5;241;43m*\u001b[39;49m\u001b[38;5;241;43m*\u001b[39;49m\u001b[43mnary_op_kwargs\u001b[49m\u001b[43m)\u001b[49m\n",
      "File \u001b[0;32m/opt/anaconda3/envs/manifold-sampling/lib/python3.10/site-packages/autograd/differential_operators.py:57\u001b[0m, in \u001b[0;36mjacobian\u001b[0;34m(fun, x)\u001b[0m\n\u001b[1;32m     47\u001b[0m \u001b[38;5;129m@unary_to_nary\u001b[39m\n\u001b[1;32m     48\u001b[0m \u001b[38;5;28;01mdef\u001b[39;00m \u001b[38;5;21mjacobian\u001b[39m(fun, x):\n\u001b[1;32m     49\u001b[0m     \u001b[38;5;124;03m\"\"\"\u001b[39;00m\n\u001b[1;32m     50\u001b[0m \u001b[38;5;124;03m    Returns a function which computes the Jacobian of `fun` with respect to\u001b[39;00m\n\u001b[1;32m     51\u001b[0m \u001b[38;5;124;03m    positional argument number `argnum`, which must be a scalar or array. Unlike\u001b[39;00m\n\u001b[0;32m   (...)\u001b[0m\n\u001b[1;32m     55\u001b[0m \u001b[38;5;124;03m    (out1, out2, ...) then the Jacobian has shape (out1, out2, ..., in1, in2, ...).\u001b[39;00m\n\u001b[1;32m     56\u001b[0m \u001b[38;5;124;03m    \"\"\"\u001b[39;00m\n\u001b[0;32m---> 57\u001b[0m     vjp, ans \u001b[38;5;241m=\u001b[39m \u001b[43m_make_vjp\u001b[49m\u001b[43m(\u001b[49m\u001b[43mfun\u001b[49m\u001b[43m,\u001b[49m\u001b[43m \u001b[49m\u001b[43mx\u001b[49m\u001b[43m)\u001b[49m\n\u001b[1;32m     58\u001b[0m     ans_vspace \u001b[38;5;241m=\u001b[39m vspace(ans)\n\u001b[1;32m     59\u001b[0m     jacobian_shape \u001b[38;5;241m=\u001b[39m ans_vspace\u001b[38;5;241m.\u001b[39mshape \u001b[38;5;241m+\u001b[39m vspace(x)\u001b[38;5;241m.\u001b[39mshape\n",
      "File \u001b[0;32m/opt/anaconda3/envs/manifold-sampling/lib/python3.10/site-packages/autograd/core.py:10\u001b[0m, in \u001b[0;36mmake_vjp\u001b[0;34m(fun, x)\u001b[0m\n\u001b[1;32m      8\u001b[0m \u001b[38;5;28;01mdef\u001b[39;00m \u001b[38;5;21mmake_vjp\u001b[39m(fun, x):\n\u001b[1;32m      9\u001b[0m     start_node \u001b[38;5;241m=\u001b[39m VJPNode\u001b[38;5;241m.\u001b[39mnew_root()\n\u001b[0;32m---> 10\u001b[0m     end_value, end_node \u001b[38;5;241m=\u001b[39m  \u001b[43mtrace\u001b[49m\u001b[43m(\u001b[49m\u001b[43mstart_node\u001b[49m\u001b[43m,\u001b[49m\u001b[43m \u001b[49m\u001b[43mfun\u001b[49m\u001b[43m,\u001b[49m\u001b[43m \u001b[49m\u001b[43mx\u001b[49m\u001b[43m)\u001b[49m\n\u001b[1;32m     11\u001b[0m     \u001b[38;5;28;01mif\u001b[39;00m end_node \u001b[38;5;129;01mis\u001b[39;00m \u001b[38;5;28;01mNone\u001b[39;00m:\n\u001b[1;32m     12\u001b[0m         \u001b[38;5;28;01mdef\u001b[39;00m \u001b[38;5;21mvjp\u001b[39m(g): \u001b[38;5;28;01mreturn\u001b[39;00m vspace(x)\u001b[38;5;241m.\u001b[39mzeros()\n",
      "File \u001b[0;32m/opt/anaconda3/envs/manifold-sampling/lib/python3.10/site-packages/autograd/tracer.py:10\u001b[0m, in \u001b[0;36mtrace\u001b[0;34m(start_node, fun, x)\u001b[0m\n\u001b[1;32m      8\u001b[0m \u001b[38;5;28;01mwith\u001b[39;00m trace_stack\u001b[38;5;241m.\u001b[39mnew_trace() \u001b[38;5;28;01mas\u001b[39;00m t:\n\u001b[1;32m      9\u001b[0m     start_box \u001b[38;5;241m=\u001b[39m new_box(x, t, start_node)\n\u001b[0;32m---> 10\u001b[0m     end_box \u001b[38;5;241m=\u001b[39m \u001b[43mfun\u001b[49m\u001b[43m(\u001b[49m\u001b[43mstart_box\u001b[49m\u001b[43m)\u001b[49m\n\u001b[1;32m     11\u001b[0m     \u001b[38;5;28;01mif\u001b[39;00m isbox(end_box) \u001b[38;5;129;01mand\u001b[39;00m end_box\u001b[38;5;241m.\u001b[39m_trace \u001b[38;5;241m==\u001b[39m start_box\u001b[38;5;241m.\u001b[39m_trace:\n\u001b[1;32m     12\u001b[0m         \u001b[38;5;28;01mreturn\u001b[39;00m end_box\u001b[38;5;241m.\u001b[39m_value, end_box\u001b[38;5;241m.\u001b[39m_node\n",
      "File \u001b[0;32m/opt/anaconda3/envs/manifold-sampling/lib/python3.10/site-packages/autograd/wrap_util.py:15\u001b[0m, in \u001b[0;36munary_to_nary.<locals>.nary_operator.<locals>.nary_f.<locals>.unary_f\u001b[0;34m(x)\u001b[0m\n\u001b[1;32m     13\u001b[0m \u001b[38;5;28;01melse\u001b[39;00m:\n\u001b[1;32m     14\u001b[0m     subargs \u001b[38;5;241m=\u001b[39m subvals(args, \u001b[38;5;28mzip\u001b[39m(argnum, x))\n\u001b[0;32m---> 15\u001b[0m \u001b[38;5;28;01mreturn\u001b[39;00m \u001b[43mfun\u001b[49m\u001b[43m(\u001b[49m\u001b[38;5;241;43m*\u001b[39;49m\u001b[43msubargs\u001b[49m\u001b[43m,\u001b[49m\u001b[43m \u001b[49m\u001b[38;5;241;43m*\u001b[39;49m\u001b[38;5;241;43m*\u001b[39;49m\u001b[43mkwargs\u001b[49m\u001b[43m)\u001b[49m\n",
      "Input \u001b[0;32mIn [295]\u001b[0m, in \u001b[0;36m<lambda>\u001b[0;34m(y)\u001b[0m\n\u001b[0;32m----> 1\u001b[0m func \u001b[38;5;241m=\u001b[39m \u001b[38;5;28;01mlambda\u001b[39;00m y: \u001b[43manp\u001b[49m\u001b[38;5;241;43m.\u001b[39;49m\u001b[43mquantile\u001b[49m\u001b[43m(\u001b[49m\u001b[43my\u001b[49m\u001b[43m,\u001b[49m\u001b[43m \u001b[49m\u001b[38;5;241;43m0.5\u001b[39;49m\u001b[43m)\u001b[49m\n",
      "File \u001b[0;32m/opt/anaconda3/envs/manifold-sampling/lib/python3.10/site-packages/autograd/tracer.py:45\u001b[0m, in \u001b[0;36mprimitive.<locals>.f_wrapped\u001b[0;34m(*args, **kwargs)\u001b[0m\n\u001b[1;32m     43\u001b[0m     argnums \u001b[38;5;241m=\u001b[39m \u001b[38;5;28mtuple\u001b[39m(argnum    \u001b[38;5;28;01mfor\u001b[39;00m argnum, _   \u001b[38;5;129;01min\u001b[39;00m boxed_args)\n\u001b[1;32m     44\u001b[0m     ans \u001b[38;5;241m=\u001b[39m f_wrapped(\u001b[38;5;241m*\u001b[39margvals, \u001b[38;5;241m*\u001b[39m\u001b[38;5;241m*\u001b[39mkwargs)\n\u001b[0;32m---> 45\u001b[0m     node \u001b[38;5;241m=\u001b[39m \u001b[43mnode_constructor\u001b[49m\u001b[43m(\u001b[49m\u001b[43mans\u001b[49m\u001b[43m,\u001b[49m\u001b[43m \u001b[49m\u001b[43mf_wrapped\u001b[49m\u001b[43m,\u001b[49m\u001b[43m \u001b[49m\u001b[43margvals\u001b[49m\u001b[43m,\u001b[49m\u001b[43m \u001b[49m\u001b[43mkwargs\u001b[49m\u001b[43m,\u001b[49m\u001b[43m \u001b[49m\u001b[43margnums\u001b[49m\u001b[43m,\u001b[49m\u001b[43m \u001b[49m\u001b[43mparents\u001b[49m\u001b[43m)\u001b[49m\n\u001b[1;32m     46\u001b[0m     \u001b[38;5;28;01mreturn\u001b[39;00m new_box(ans, trace, node)\n\u001b[1;32m     47\u001b[0m \u001b[38;5;28;01melse\u001b[39;00m:\n",
      "File \u001b[0;32m/opt/anaconda3/envs/manifold-sampling/lib/python3.10/site-packages/autograd/core.py:34\u001b[0m, in \u001b[0;36mVJPNode.__init__\u001b[0;34m(self, value, fun, args, kwargs, parent_argnums, parents)\u001b[0m\n\u001b[1;32m     32\u001b[0m \u001b[38;5;28;01mexcept\u001b[39;00m \u001b[38;5;167;01mKeyError\u001b[39;00m:\n\u001b[1;32m     33\u001b[0m     fun_name \u001b[38;5;241m=\u001b[39m \u001b[38;5;28mgetattr\u001b[39m(fun, \u001b[38;5;124m'\u001b[39m\u001b[38;5;124m__name__\u001b[39m\u001b[38;5;124m'\u001b[39m, fun)\n\u001b[0;32m---> 34\u001b[0m     \u001b[38;5;28;01mraise\u001b[39;00m \u001b[38;5;167;01mNotImplementedError\u001b[39;00m(\u001b[38;5;124m\"\u001b[39m\u001b[38;5;124mVJP of \u001b[39m\u001b[38;5;132;01m{}\u001b[39;00m\u001b[38;5;124m wrt argnums \u001b[39m\u001b[38;5;132;01m{}\u001b[39;00m\u001b[38;5;124m not defined\u001b[39m\u001b[38;5;124m\"\u001b[39m\n\u001b[1;32m     35\u001b[0m                               \u001b[38;5;241m.\u001b[39mformat(fun_name, parent_argnums))\n\u001b[1;32m     36\u001b[0m \u001b[38;5;28mself\u001b[39m\u001b[38;5;241m.\u001b[39mvjp \u001b[38;5;241m=\u001b[39m vjpmaker(parent_argnums, value, args, kwargs)\n",
      "\u001b[0;31mNotImplementedError\u001b[0m: VJP of quantile wrt argnums (0,) not defined"
     ]
    }
   ],
   "source": [
    "jacobian(func, argnum=0)(ystar)"
   ]
  },
  {
   "cell_type": "code",
   "execution_count": 310,
   "id": "171429ce",
   "metadata": {},
   "outputs": [],
   "source": [
    "from jax import jacobian as jacobian_jax"
   ]
  },
  {
   "cell_type": "code",
   "execution_count": 309,
   "id": "6904e3f8",
   "metadata": {},
   "outputs": [],
   "source": [
    "def get_p_equally_spaced_order_statistics_jax(y, p=8):\n",
    "    \"\"\"Given data y, returns p equally spaced ordered statistics.\"\"\"\n",
    "    return jnp.quantile(jnp.sort(y), jnp.linspace(0.0, 1.0, num=p, endpoint=True))"
   ]
  },
  {
   "cell_type": "code",
   "execution_count": 312,
   "id": "f416c7e9",
   "metadata": {},
   "outputs": [
    {
     "data": {
      "text/plain": [
       "DeviceArray([[0.0000000e+00, 0.0000000e+00, 0.0000000e+00, 0.0000000e+00,\n",
       "              0.0000000e+00, 0.0000000e+00, 0.0000000e+00, 0.0000000e+00,\n",
       "              0.0000000e+00, 0.0000000e+00, 0.0000000e+00, 0.0000000e+00,\n",
       "              0.0000000e+00, 0.0000000e+00, 0.0000000e+00, 0.0000000e+00,\n",
       "              0.0000000e+00, 0.0000000e+00, 0.0000000e+00, 0.0000000e+00,\n",
       "              0.0000000e+00, 0.0000000e+00, 0.0000000e+00, 0.0000000e+00,\n",
       "              0.0000000e+00, 0.0000000e+00, 0.0000000e+00, 0.0000000e+00,\n",
       "              0.0000000e+00, 0.0000000e+00, 0.0000000e+00, 0.0000000e+00,\n",
       "              0.0000000e+00, 1.0000000e+00, 0.0000000e+00, 0.0000000e+00,\n",
       "              0.0000000e+00, 0.0000000e+00, 0.0000000e+00, 0.0000000e+00,\n",
       "              0.0000000e+00, 0.0000000e+00, 0.0000000e+00, 0.0000000e+00,\n",
       "              0.0000000e+00, 0.0000000e+00, 0.0000000e+00, 0.0000000e+00,\n",
       "              0.0000000e+00, 0.0000000e+00],\n",
       "             [0.0000000e+00, 0.0000000e+00, 0.0000000e+00, 0.0000000e+00,\n",
       "              0.0000000e+00, 0.0000000e+00, 9.9999952e-01, 0.0000000e+00,\n",
       "              0.0000000e+00, 0.0000000e+00, 0.0000000e+00, 0.0000000e+00,\n",
       "              0.0000000e+00, 0.0000000e+00, 0.0000000e+00, 0.0000000e+00,\n",
       "              0.0000000e+00, 0.0000000e+00, 0.0000000e+00, 0.0000000e+00,\n",
       "              0.0000000e+00, 0.0000000e+00, 0.0000000e+00, 0.0000000e+00,\n",
       "              0.0000000e+00, 0.0000000e+00, 0.0000000e+00, 0.0000000e+00,\n",
       "              0.0000000e+00, 0.0000000e+00, 0.0000000e+00, 0.0000000e+00,\n",
       "              0.0000000e+00, 0.0000000e+00, 0.0000000e+00, 0.0000000e+00,\n",
       "              0.0000000e+00, 0.0000000e+00, 0.0000000e+00, 0.0000000e+00,\n",
       "              0.0000000e+00, 4.7683716e-07, 0.0000000e+00, 0.0000000e+00,\n",
       "              0.0000000e+00, 0.0000000e+00, 0.0000000e+00, 0.0000000e+00,\n",
       "              0.0000000e+00, 0.0000000e+00],\n",
       "             [0.0000000e+00, 0.0000000e+00, 0.0000000e+00, 0.0000000e+00,\n",
       "              0.0000000e+00, 0.0000000e+00, 0.0000000e+00, 0.0000000e+00,\n",
       "              0.0000000e+00, 0.0000000e+00, 0.0000000e+00, 0.0000000e+00,\n",
       "              9.5367432e-07, 0.0000000e+00, 0.0000000e+00, 0.0000000e+00,\n",
       "              0.0000000e+00, 0.0000000e+00, 0.0000000e+00, 0.0000000e+00,\n",
       "              0.0000000e+00, 0.0000000e+00, 0.0000000e+00, 0.0000000e+00,\n",
       "              0.0000000e+00, 0.0000000e+00, 0.0000000e+00, 0.0000000e+00,\n",
       "              0.0000000e+00, 0.0000000e+00, 0.0000000e+00, 0.0000000e+00,\n",
       "              0.0000000e+00, 0.0000000e+00, 9.9999905e-01, 0.0000000e+00,\n",
       "              0.0000000e+00, 0.0000000e+00, 0.0000000e+00, 0.0000000e+00,\n",
       "              0.0000000e+00, 0.0000000e+00, 0.0000000e+00, 0.0000000e+00,\n",
       "              0.0000000e+00, 0.0000000e+00, 0.0000000e+00, 0.0000000e+00,\n",
       "              0.0000000e+00, 0.0000000e+00],\n",
       "             [0.0000000e+00, 0.0000000e+00, 0.0000000e+00, 0.0000000e+00,\n",
       "              0.0000000e+00, 0.0000000e+00, 0.0000000e+00, 0.0000000e+00,\n",
       "              0.0000000e+00, 0.0000000e+00, 0.0000000e+00, 0.0000000e+00,\n",
       "              0.0000000e+00, 0.0000000e+00, 0.0000000e+00, 0.0000000e+00,\n",
       "              0.0000000e+00, 0.0000000e+00, 0.0000000e+00, 0.0000000e+00,\n",
       "              0.0000000e+00, 0.0000000e+00, 0.0000000e+00, 0.0000000e+00,\n",
       "              0.0000000e+00, 0.0000000e+00, 0.0000000e+00, 0.0000000e+00,\n",
       "              0.0000000e+00, 0.0000000e+00, 0.0000000e+00, 0.0000000e+00,\n",
       "              9.9999809e-01, 0.0000000e+00, 0.0000000e+00, 0.0000000e+00,\n",
       "              0.0000000e+00, 0.0000000e+00, 0.0000000e+00, 0.0000000e+00,\n",
       "              0.0000000e+00, 0.0000000e+00, 1.9073486e-06, 0.0000000e+00,\n",
       "              0.0000000e+00, 0.0000000e+00, 0.0000000e+00, 0.0000000e+00,\n",
       "              0.0000000e+00, 0.0000000e+00],\n",
       "             [0.0000000e+00, 0.0000000e+00, 0.0000000e+00, 0.0000000e+00,\n",
       "              0.0000000e+00, 0.0000000e+00, 0.0000000e+00, 0.0000000e+00,\n",
       "              0.0000000e+00, 0.0000000e+00, 0.0000000e+00, 0.0000000e+00,\n",
       "              0.0000000e+00, 0.0000000e+00, 0.0000000e+00, 0.0000000e+00,\n",
       "              0.0000000e+00, 0.0000000e+00, 0.0000000e+00, 0.0000000e+00,\n",
       "              1.9073486e-06, 0.0000000e+00, 0.0000000e+00, 0.0000000e+00,\n",
       "              0.0000000e+00, 0.0000000e+00, 0.0000000e+00, 0.0000000e+00,\n",
       "              0.0000000e+00, 0.0000000e+00, 0.0000000e+00, 9.9999809e-01,\n",
       "              0.0000000e+00, 0.0000000e+00, 0.0000000e+00, 0.0000000e+00,\n",
       "              0.0000000e+00, 0.0000000e+00, 0.0000000e+00, 0.0000000e+00,\n",
       "              0.0000000e+00, 0.0000000e+00, 0.0000000e+00, 0.0000000e+00,\n",
       "              0.0000000e+00, 0.0000000e+00, 0.0000000e+00, 0.0000000e+00,\n",
       "              0.0000000e+00, 0.0000000e+00],\n",
       "             [0.0000000e+00, 0.0000000e+00, 0.0000000e+00, 0.0000000e+00,\n",
       "              0.0000000e+00, 0.0000000e+00, 0.0000000e+00, 0.0000000e+00,\n",
       "              0.0000000e+00, 0.0000000e+00, 0.0000000e+00, 0.0000000e+00,\n",
       "              0.0000000e+00, 0.0000000e+00, 0.0000000e+00, 0.0000000e+00,\n",
       "              0.0000000e+00, 0.0000000e+00, 1.0000000e+00, 0.0000000e+00,\n",
       "              0.0000000e+00, 0.0000000e+00, 0.0000000e+00, 0.0000000e+00,\n",
       "              0.0000000e+00, 0.0000000e+00, 0.0000000e+00, 0.0000000e+00,\n",
       "              0.0000000e+00, 0.0000000e+00, 0.0000000e+00, 0.0000000e+00,\n",
       "              0.0000000e+00, 0.0000000e+00, 0.0000000e+00, 0.0000000e+00,\n",
       "              0.0000000e+00, 0.0000000e+00, 0.0000000e+00, 0.0000000e+00,\n",
       "              0.0000000e+00, 0.0000000e+00, 0.0000000e+00, 0.0000000e+00,\n",
       "              0.0000000e+00, 0.0000000e+00, 0.0000000e+00, 0.0000000e+00,\n",
       "              0.0000000e+00, 0.0000000e+00],\n",
       "             [0.0000000e+00, 0.0000000e+00, 0.0000000e+00, 0.0000000e+00,\n",
       "              0.0000000e+00, 0.0000000e+00, 0.0000000e+00, 0.0000000e+00,\n",
       "              0.0000000e+00, 0.0000000e+00, 0.0000000e+00, 0.0000000e+00,\n",
       "              0.0000000e+00, 0.0000000e+00, 0.0000000e+00, 0.0000000e+00,\n",
       "              0.0000000e+00, 0.0000000e+00, 0.0000000e+00, 0.0000000e+00,\n",
       "              0.0000000e+00, 0.0000000e+00, 3.8146973e-06, 0.0000000e+00,\n",
       "              0.0000000e+00, 0.0000000e+00, 0.0000000e+00, 0.0000000e+00,\n",
       "              0.0000000e+00, 0.0000000e+00, 0.0000000e+00, 0.0000000e+00,\n",
       "              0.0000000e+00, 0.0000000e+00, 0.0000000e+00, 0.0000000e+00,\n",
       "              0.0000000e+00, 0.0000000e+00, 0.0000000e+00, 0.0000000e+00,\n",
       "              0.0000000e+00, 0.0000000e+00, 0.0000000e+00, 9.9999619e-01,\n",
       "              0.0000000e+00, 0.0000000e+00, 0.0000000e+00, 0.0000000e+00,\n",
       "              0.0000000e+00, 0.0000000e+00],\n",
       "             [0.0000000e+00, 0.0000000e+00, 0.0000000e+00, 0.0000000e+00,\n",
       "              0.0000000e+00, 1.0000000e+00, 0.0000000e+00, 0.0000000e+00,\n",
       "              0.0000000e+00, 0.0000000e+00, 0.0000000e+00, 0.0000000e+00,\n",
       "              0.0000000e+00, 0.0000000e+00, 0.0000000e+00, 0.0000000e+00,\n",
       "              0.0000000e+00, 0.0000000e+00, 0.0000000e+00, 0.0000000e+00,\n",
       "              0.0000000e+00, 0.0000000e+00, 0.0000000e+00, 0.0000000e+00,\n",
       "              0.0000000e+00, 0.0000000e+00, 0.0000000e+00, 0.0000000e+00,\n",
       "              0.0000000e+00, 0.0000000e+00, 0.0000000e+00, 0.0000000e+00,\n",
       "              0.0000000e+00, 0.0000000e+00, 0.0000000e+00, 0.0000000e+00,\n",
       "              0.0000000e+00, 0.0000000e+00, 0.0000000e+00, 0.0000000e+00,\n",
       "              0.0000000e+00, 0.0000000e+00, 0.0000000e+00, 0.0000000e+00,\n",
       "              0.0000000e+00, 0.0000000e+00, 0.0000000e+00, 0.0000000e+00,\n",
       "              0.0000000e+00, 0.0000000e+00]], dtype=float32)"
      ]
     },
     "execution_count": 312,
     "metadata": {},
     "output_type": "execute_result"
    }
   ],
   "source": [
    "jacobian_jax(get_p_equally_spaced_order_statistics_jax)(ystar)"
   ]
  },
  {
   "cell_type": "markdown",
   "id": "82d76c0e",
   "metadata": {},
   "source": [
    "# Different Prior for $\\theta$"
   ]
  },
  {
   "cell_type": "code",
   "execution_count": 488,
   "id": "cdc111c4",
   "metadata": {},
   "outputs": [
    {
     "data": {
      "image/png": "[encoded data removed]",
      "text/plain": [
       "<Figure size 432x288 with 1 Axes>"
      ]
     },
     "metadata": {
      "needs_background": "light"
     },
     "output_type": "display_data"
    }
   ],
   "source": [
    "UNIFORM_COLOR = 'lightgray'\n",
    "NORMAL_COLOR  = 'royalblue'\n",
    "BETA_COLOR = 'orange'\n",
    "X_MIN = -5\n",
    "X_MAX = 15\n",
    "Y_MIN = -0.1\n",
    "Y_MAX = 0.2\n",
    "\n",
    "fig, ax = plt.subplots()\n",
    "# X and Y axes\n",
    "x_axis = linspace(X_MIN, X_MAX)\n",
    "ax.plot(x_axis, zeros_like(x_axis), color='black')\n",
    "# Uniform(0, 10)\n",
    "ax.hlines(y=1/10, xmin=0, xmax=10, color=UNIFORM_COLOR)\n",
    "ax.vlines(x=0, ymin=0, ymax=1/10, ls='--', color=UNIFORM_COLOR)\n",
    "ax.vlines(x=10, ymin=0, ymax=1/10, ls='--', color=UNIFORM_COLOR)\n",
    "# Normal(5, 3)\n",
    "normal_y = ndist(loc=5, scale=3).pdf(x_axis)\n",
    "ax.plot(normal_x, normal_y, color=NORMAL_COLOR)\n",
    "# Transformed Beta\n",
    "beta_y = betadist(a=2, b=2, loc=0, scale=10).pdf(x_axis)\n",
    "ax.plot(x_axis, beta_y, color=BETA_COLOR)\n",
    "ax.set_xlim([X_MIN, X_MAX])\n",
    "ax.set_ylim([Y_MIN, Y_MAX])\n",
    "plt.show()"
   ]
  },
  {
   "cell_type": "code",
   "execution_count": 494,
   "id": "bdbf74ef",
   "metadata": {},
   "outputs": [],
   "source": [
    "from autograd.scipy.special import gamma as gamma_a\n",
    "from autograd.scipy.stats import beta as betadist_a"
   ]
  },
  {
   "cell_type": "code",
   "execution_count": 508,
   "id": "4bd50d78",
   "metadata": {},
   "outputs": [],
   "source": [
    "Vbeta = lambda θ: -betadist_a.logpdf(θ, a=2, b=2, scale=10)\n",
    "Vbeta_manual = lambda θ: -(2-1)*np.log(θ) - (2-1)*np.log(10-θ) + (2+2-1)*np.log(10.0) + np.log(gamma(2)*gamma(2) / gamma(2+2))"
   ]
  },
  {
   "cell_type": "code",
   "execution_count": 509,
   "id": "251dc53c",
   "metadata": {},
   "outputs": [
    {
     "data": {
      "text/plain": [
       "-6.661338147750939e-16"
      ]
     },
     "execution_count": 509,
     "metadata": {},
     "output_type": "execute_result"
    }
   ],
   "source": [
    "Vbeta(5) - Vbeta_manual(5)"
   ]
  },
  {
   "cell_type": "code",
   "execution_count": 512,
   "id": "4934c241",
   "metadata": {},
   "outputs": [],
   "source": [
    "dVdθ_beta = lambda θ: -(2-1)/θ + (2-1)/(10-θ)"
   ]
  },
  {
   "cell_type": "code",
   "execution_count": 515,
   "id": "7d19e1de",
   "metadata": {},
   "outputs": [],
   "source": [
    "from jax.scipy.stats import beta as betadist_j\n",
    "from jax import grad as grad_jax"
   ]
  },
  {
   "cell_type": "code",
   "execution_count": 514,
   "id": "f6a4d042",
   "metadata": {},
   "outputs": [],
   "source": [
    "Vbeta_jax = lambda θ: -betadist_j.logpdf(θ, a=2, b=2, scale=10)"
   ]
  },
  {
   "cell_type": "code",
   "execution_count": 521,
   "id": "5d0dddbc",
   "metadata": {},
   "outputs": [],
   "source": [
    "some = lambda θ: -1/θ + 1/(10 - θ)"
   ]
  },
  {
   "cell_type": "code",
   "execution_count": 522,
   "id": "2461c751",
   "metadata": {},
   "outputs": [
    {
     "data": {
      "text/plain": [
       "array([-0.19047619, -0.88888889, -0.375     , -1.89473684])"
      ]
     },
     "execution_count": 522,
     "metadata": {},
     "output_type": "execute_result"
    }
   ],
   "source": [
    "some(θ0)"
   ]
  },
  {
   "cell_type": "markdown",
   "id": "1395657d",
   "metadata": {},
   "source": []
  },
  {
   "cell_type": "code",
   "execution_count": 569,
   "id": "5b9fafc0",
   "metadata": {},
   "outputs": [],
   "source": [
    "\n",
    "class GandK:\n",
    "    \"\"\"This does not use fnorm.\"\"\"\n",
    "    def __init__(self, m=20, epsilon=2.0, parameter_prior='uniform', kernel='epanechnikov', normal_prior_scale=1.0):\n",
    "        \"\"\"Encapsulates various G and K functions. We always use all 4 parameters theta=(a,b,g,k).\n",
    "        m : Number of latent variables\n",
    "        \"\"\"\n",
    "        self.m = m \n",
    "        self.epsilon = epsilon\n",
    "        self.ystar = None\n",
    "        self.nps = normal_prior_scale\n",
    "        # Check that `parameter_prior` and `kernel` have valid values\n",
    "        if parameter_prior not in ['uniform', 'normal', 'beta']:\n",
    "            raise NotImplementedError('Parameter prior must be uniform, normal or beta.')\n",
    "        if kernel not in ['epanechnikov', 'normal']:\n",
    "            raise NotImplementedError('Kernel must be epanechnikov or normal.')\n",
    "\n",
    "        # Set correct function to sample parameter prior\n",
    "        sample_theta_uniform = lambda: uniform(low=0.0, high=10.0, size=4)\n",
    "        sample_theta_normal  = lambda: normal(loc=5.0, scale=self.nps, size=4)\n",
    "        sample_theta_beta    = lambda: betadist.rvs(a=2, b=2, scale=10, size=4)\n",
    "        self.sample_theta = sample_theta_uniform\n",
    "        if parameter_prior == 'normal':\n",
    "            self.sample_theta = sample_theta_normal\n",
    "        if parameter_prior == 'beta':\n",
    "            self.sample_theta = sample_theta_beta\n",
    "\n",
    "        # Set correct logprior function for parameters\n",
    "        if parameter_prior == 'normal':\n",
    "            self.logprior = lambda xi: ndist.logpdf(xi[:4], loc=5.0, scale=self.nps).sum() + ndist.logpdf(xi[4:]).sum()\n",
    "            self.logprior_broadcast = lambda xi_mat: ndist.logpdf(xi_mat[:, :4], loc=5.0, scale=self.nps).sum() + ndist.logpdf(xi_mat[:, 4:]).sum()\n",
    "        elif parameter_prior == 'beta':\n",
    "            self.logprior = lambda xi: betadist.logpdf(xi[:4], a=2, b=2, scale=10).sum() + ndist.logpdf(xi[4:]).sum()\n",
    "            self.logprior_broadcast = lambda xi_mat: betadist.logpdf(xi_mat[:, :4], a=2, b=2, scale=10).sum() + ndist.logpdf(xi_mat[:, 4:]).sum()\n",
    "        # Set correct kernel\n",
    "        self.logkernel = self.log_epanechnikov_kernel\n",
    "        if kernel == 'normal':\n",
    "            self.logkernel = self.log_normal_kernel\n",
    "\n",
    "        # Set correct dVdξ for HMC\n",
    "        self.dVdξ = lambda ξ: (_ for _ in ()).throw(NotImplementedError('No dVdξ for uniform prior or non-normal kernel'))\n",
    "        if parameter_prior == 'normal' and kernel == 'normal':\n",
    "            self.dVdξ = self.dVdξ_normal_prior\n",
    "        elif parameter_prior == 'beta' and kernel == 'normal':\n",
    "            self.dVdξ = self.dVdξ_beta_prior \n",
    "\n",
    "    def f(self, xi):\n",
    "        \"\"\"Function of parameters and latent variables. xi has dimension 4 + m.\"\"\"\n",
    "        a, b, g, k, *z = xi\n",
    "        z = array(z)\n",
    "        return a + b*(1 + 0.8 * (1 - exp(-g * z)) / (1 + exp(-g * z))) * ((1 + z**2)**k) * z\n",
    "\n",
    "    def f_broadcast(self, xi_matrix):\n",
    "        \"\"\"Same as GandK.f() but this is broadcasted for a matrix of xi's.\"\"\"\n",
    "        return apply_along_axis(self.f, 1, xi_matrix)\n",
    "\n",
    "    def data_generator(self, theta, seed=1234):\n",
    "        \"\"\"Given an original theta vector, it generates z and hence produces observed data y.\"\"\"\n",
    "        rng = default_rng(seed)\n",
    "        z = rng.normal(size=self.m)\n",
    "        return self.f(r_[theta, z])\n",
    "\n",
    "    def Jf_transpose(self, xi):\n",
    "        \"\"\"Returns the transpose of the Jacobian of f.\"\"\"\n",
    "        _, b, g, k, *z = xi\n",
    "        z = array(z)\n",
    "        return vstack((\n",
    "            ones(len(z)),\n",
    "            (1 + 0.8 * (1 - exp(-g * z)) / (1 + exp(-g * z))) * ((1 + z**2)**k) * z,\n",
    "            8 * b * (z**2) * ((1 + z**2)**k) * exp(g*z) / (5 * (1 + exp(g*z))**2),\n",
    "            b*z*((1+z**2)**k)*(1 + 9*exp(g*z))*log(1 + z**2) / (5*(1 + exp(g*z))),\n",
    "            diag(b*((1+z**2)**(k-1))*(((18*k + 9)*(z**2) + 9)*exp(2*g*z) + (8*g*z**3 + (20*k + 10)*z**2 + 8*g*z + 10)*exp(g*z) + (2*k + 1)*z**2 + 1) / (5*(1 + exp(g*z))**2))\n",
    "        ))\n",
    "\n",
    "    def Jf(self, xi):\n",
    "        \"\"\"Returns Jacobian of f.\"\"\"\n",
    "        return self.Jf_transpose(xi).T\n",
    "\n",
    "    # def logprior(self, xi):\n",
    "    #     \"\"\"Computes log prior at xi. We assume a uniform(0, 10) prior on each parameter and a standard normal on z.\"\"\"\n",
    "    #     theta, z = xi[:4], xi[4:]\n",
    "    #     with errstate(divide='ignore'):\n",
    "    #         return log(((0 <= theta) & (theta <= 10)).all().astype('float64')) + ndist.logpdf(z).sum()\n",
    "\n",
    "    # def logprior_broadcast(xi_matrix):\n",
    "    #     \"\"\"Same as GandK.logprior() but works on a matrix of xi's.\"\"\"\n",
    "    #     with errstate(divide='ignore'):\n",
    "    #         return ((0 <= xi_matrix[:, :4]) & (xi_matrix[:, :4] <= 10)).all(axis=1).astype('float64') + ndist.logpdf(xi_matrix[:, 4:]).sum(axis=1)\n",
    "\n",
    "    def sample_prior(self):\n",
    "        \"\"\"Samples from the prior. Again uniform on theta, standard normal on z.\"\"\"\n",
    "        return r_[self.sample_theta(), randn(self.m)]\n",
    "\n",
    "    def set_ystar(self, ystar):\n",
    "        \"\"\"Saves ystar.\"\"\"\n",
    "        self.ystar = ystar\n",
    "\n",
    "    def log_epanechnikov_kernel(self, xi):\n",
    "        \"\"\"Log Epanechnikov kernel applied to a xi, using observed data and provided tolerance epsilon.\"\"\"\n",
    "        if self.ystar is None:\n",
    "            raise ValueError(\"Set the bloody ystar, you pig.\")\n",
    "        u = norm(self.f(xi) - self.ystar)\n",
    "        with errstate(divide='ignore'):\n",
    "            return log((3*(1 - (u**2 / (self.epsilon**2))) / (4*self.epsilon)) * float(u <= self.epsilon))\n",
    "\n",
    "    def log_normal_kernel(self, xi):\n",
    "        \"\"\"Log Gaussian kernel.\n",
    "        For info on kernels see \"Overview of ABC\" in Handbook of ABC by Sisson.\"\"\"\n",
    "        if self.ystar is None:\n",
    "            raise ValueError(\"Set the bloody ystar, you pig.\")\n",
    "        u = norm(self.f(xi) - self.ystar)\n",
    "        return -u**2/(2*(self.epsilon**2)) -0.5*log(2*pi*(self.epsilon**2))\n",
    "\n",
    "    def log_abc_posterior(self, xi):\n",
    "        \"\"\"Computes the ABC posterior log density.\"\"\"\n",
    "        return self.logprior(xi) + self.logkernel(xi)\n",
    "\n",
    "    def V(self, xi):\n",
    "        \"\"\"Wrapper function for HMC.\"\"\"\n",
    "        return - self.log_abc_posterior(xi)\n",
    "\n",
    "    def dVdξ_normal_prior(self, ξ):\n",
    "        \"\"\"Derivative for HMC for a normal prior.\"\"\"\n",
    "        θ, z = ξ[:4], ξ[4:]\n",
    "        μ = 5*ones(4)\n",
    "        Σ = (self.nps**2)*eye(4)\n",
    "        dpdξ = r_[solve(Σ, θ - μ), z]\n",
    "        dkdξ = self.Jf_transpose(ξ) @ (self.f(ξ) - self.ystar) / (self.epsilon**2)\n",
    "        return dpdξ + dkdξ\n",
    "\n",
    "    def dVdξ_beta_prior(self, ξ):\n",
    "        \"\"\"Derivative for HMC for a beta prior.\"\"\"\n",
    "        θ, z = ξ[:4], ξ[4:]\n",
    "        dpdξ = r_[-1/θ + 1/(10 - θ), z]\n",
    "        dkdξ = self.Jf_transpose(ξ) @ (self.f(ξ) - self.ystar) / (self.epsilon**2)\n",
    "        return dpdξ + dkdξ\n",
    "\n",
    "    def find_point_on_manifold(self, max_iter=1000):\n",
    "        # try to find a point that makes the constraint function zero..?\n",
    "        i = 0\n",
    "        with catch_warnings():\n",
    "            filterwarnings('error')\n",
    "            while i <= max_iter:\n",
    "                i += 1\n",
    "                try: \n",
    "                    ξ_guess = self.sample_prior()\n",
    "                    ξ_found = fsolve(lambda ξ: r_[f(ξ) - self.ystar, zeros(4)], ξ_guess)\n",
    "                    if not isfinite([self.log_abc_posterior(ξ_found)]):\n",
    "                        pass\n",
    "                    else:\n",
    "                        return ξ_found\n",
    "                        \n",
    "                except RuntimeWarning:\n",
    "                    continue\n",
    "            raise ValueError(\"Couldn't find a point, try again.\")\n",
    "\n",
    "    def _find_z_given_y(self, z):\n",
    "        \"\"\"Instead of using the Bisection algorithm like Chang suggested, we can use `fsolve`.\n",
    "        Basically given data y, we aim to find the original latent variables that gave rise to it.\"\"\"\n",
    "        pass\n",
    "\n",
    "    def _bisection(self, a, b, f, tol=1e-8):\n",
    "        \"\"\"Bisection algorithm as devised by Chang.\"\"\"\n",
    "        assert a < b, \"a must be smaller than b\"\n",
    "        assert f(a) * f(b) < 0, \"f(a)f(b) must be negative\"\n",
    "        x = (a + b) / 2\n",
    "        while abs(f(x)) >= tol:\n",
    "            if f(x) * f(b) < 0:\n",
    "                a = x\n",
    "                x = (a + b) / 2 \n",
    "            elif f(x) * f(a) < 0:\n",
    "                b = x\n",
    "                x = (a + b) / 2\n",
    "        return x \n",
    "    \n",
    "    \n",
    "def f(xi): \n",
    "    \"\"\"Simulator. This is a deterministic function.\"\"\"\n",
    "    a, b, g, k, *z = xi\n",
    "    z = array(z)\n",
    "    return a + b*(1 + 0.8 * (1 - exp(-g * z)) / (1 + exp(-g * z))) * ((1 + z**2)**k) * z"
   ]
  },
  {
   "cell_type": "code",
   "execution_count": 572,
   "id": "bab89417",
   "metadata": {},
   "outputs": [],
   "source": [
    "def try_hmc_with_beta(ϵ, seed=1234, return_samples=False):\n",
    "    # Set up data\n",
    "    GK = GandK(m=n_latents, epsilon=ϵ, parameter_prior='beta', kernel='normal', normal_prior_scale=nps)\n",
    "    ystar = GK.data_generator(θ0, seed=seed)\n",
    "    GK.set_ystar(ystar)\n",
    "    ξ0 = GK.find_point_on_manifold(max_iter=5000)\n",
    "    # Run HMC\n",
    "#     def dVdξ(ξ, ystar=ystar, ϵ=ϵ):\n",
    "#         θ, z = ξ[:4], ξ[4:]\n",
    "#         beta_grad = lambda θ: -1/θ + 1/(10 - θ) # Works for 1d\n",
    "#         dpdξ = r_[beta_grad(θ), z]\n",
    "#         dkdξ = GK.Jf_transpose(ξ) @ (GK.f(ξ) - ystar) / (ϵ**2)\n",
    "#         return dpdξ + dkdξ\n",
    "#     def V(ξ, ystar=ystar, ϵ=ϵ):\n",
    "#         θ, z = ξ[:4], ξ[4:]\n",
    "#         m    = len(z)\n",
    "#         #neg_log_prior  = -MVN(mean=μ, cov=Σ).logpdf(θ) -MVN(mean=zeros(m), cov=eye(m)).logpdf(z) \n",
    "#         neg_log_prior = -betadist(a=2, b=2, scale=10).logpdf(θ).sum() -MVN(mean=zeros(m), cov=eye(m)).logpdf(z) \n",
    "#         neg_log_kernel = 0.5*log(2*pi*(ϵ**2)) + norm(GK.f(ξ) - ystar)**2 / (2*(ϵ**2))\n",
    "#         return neg_log_prior + neg_log_kernel\n",
    "    HMCsampler                = HMC(ξ0, N, eye(d), T, T/B)\n",
    "    HMCsampler.neg_log_target = GK.V\n",
    "    HMCsampler.dVdq           = GK.dVdξ\n",
    "    sHMC, aHMC                = HMCsampler.sample()\n",
    "    if return_samples:\n",
    "        return aHMC.mean() * 100, sHMC\n",
    "    else:\n",
    "        return aHMC.mean() * 100"
   ]
  },
  {
   "cell_type": "markdown",
   "id": "183023d4",
   "metadata": {},
   "source": [
    "# C-HMC on G and K problem"
   ]
  },
  {
   "cell_type": "code",
   "execution_count": null,
   "id": "a92190de",
   "metadata": {},
   "outputs": [],
   "source": []
  }
 ],
 "metadata": {
  "kernelspec": {
   "display_name": "Python 3 (ipykernel)",
   "language": "python",
   "name": "python3"
  },
  "language_info": {
   "codemirror_mode": {
    "name": "ipython",
    "version": 3
   },
   "file_extension": ".py",
   "mimetype": "text/x-python",
   "name": "python",
   "nbconvert_exporter": "python",
   "pygments_lexer": "ipython3",
   "version": "3.10.4"
  }
 },
 "nbformat": 4,
 "nbformat_minor": 5
}
