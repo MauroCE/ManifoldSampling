{
 "cells": [
  {
   "cell_type": "code",
   "execution_count": 8,
   "id": "677097f2",
   "metadata": {},
   "outputs": [],
   "source": [
    "import numpy as np\n",
    "from numpy import load\n",
    "import matplotlib.pyplot as plt\n",
    "from re import sub"
   ]
  },
  {
   "cell_type": "code",
   "execution_count": 9,
   "id": "ab304544",
   "metadata": {},
   "outputs": [],
   "source": [
    "folder = \"experiment40/\"\n",
    "\n",
    "N_CONSTR_EVAL_CHMC   = load(folder + \"N_CONSTR_EVAL_CHMC.npy\")\n",
    "N_JAC_CONSTR_CHMC    = load(folder + \"N_JAC_CONSTR_CHMC.npy\")\n",
    "N_GRAD_LOG_DENS_CHMC = load(folder + \"N_GRAD_LOG_DENS_CHMC.npy\")\n",
    "N_GRAM_CHMC          = load(folder + \"N_GRAM_CHMC.npy\")\n",
    "N_LOG_DENS_CHMC      = load(folder + \"N_LOG_DENS_CHMC.npy\")\n",
    "LOGPI_ESS_CHMC       = load(folder + \"LOGPI_ESS_CHMC.npy\")\n",
    "CONSTR_PER_ESS_CHMC  = load(folder + \"CONSTR_PER_ESS_CHMC.npy\")\n",
    "C_AND_J_PER_ESS_CHMC = load(folder + \"C_AND_J_PER_ESS_CHMC.npy\")\n",
    "C_J_GLD_PER_ESS_CHMC = load(folder + \"C_J_GLD_PER_ESS_CHMC.npy\")\n",
    "ACCEPT_STAT_CHMC     = load(folder + \"ACCEPT_STAT_CHMC.npy\")\n",
    "RMSE_CHMC            = load(folder + \"RMSE_CHMC.npy\")\n",
    "\n",
    "N_CONSTR_EVAL_HUG   = load(folder + \"N_CONSTR_EVAL_HUG.npy\")\n",
    "N_JAC_CONSTR_HUG    = load(folder + \"N_JAC_CONSTR_HUG.npy\")\n",
    "LOGPI_ESS_HUG       = load(folder + \"LOGPI_ESS_HUG.npy\")\n",
    "CONSTR_PER_ESS_HUG  = load(folder + \"CONSTR_PER_ESS_HUG.npy\")\n",
    "C_AND_J_PER_ESS_HUG = load(folder + \"C_AND_J_PER_ESS_HUG.npy\")\n",
    "ACCEPT_STAT_HUG     = load(folder + \"ACCEPT_STAT_HUG.npy\")\n",
    "RMSE_HUG            = load(folder + \"RMSE_HUG.npy\")\n",
    "\n",
    "N_CONSTR_EVAL_THUG   = load(folder + \"N_CONSTR_EVAL_THUG.npy\")\n",
    "N_JAC_CONSTR_THUG    = load(folder + \"N_JAC_CONSTR_THUG.npy\")\n",
    "LOGPI_ESS_THUG       = load(folder + \"LOGPI_ESS_THUG.npy\")\n",
    "CONSTR_PER_ESS_THUG  = load(folder + \"CONSTR_PER_ESS_THUG.npy\")\n",
    "C_AND_J_PER_ESS_THUG = load(folder + \"C_AND_J_PER_ESS_THUG.npy\")\n",
    "ACCEPT_STAT_THUG     = load(folder + \"ACCEPT_STAT_THUG.npy\")\n",
    "RMSE_THUG            = load(folder + \"RMSE_THUG.npy\")\n",
    "\n",
    "EPSILONS = load(folder + \"EPSILONS.npy\")\n",
    "ALPHAS   = load(folder + \"ALPHAS.npy\")"
   ]
  },
  {
   "cell_type": "code",
   "execution_count": 10,
   "id": "df094e40",
   "metadata": {},
   "outputs": [],
   "source": [
    "def create_latex_table(ϵs, αs):\n",
    "    ϵs_string = [sub('(?<=-)0+', '', '{:.0e}'.format(ϵ)) for ϵ in ϵs]\n",
    "    string = r'\\begin{center}'\n",
    "    string += \"\\n\\t\" + r'\\begin{tabular}{ | l | l | l | l | l | l | l | l | l | l |}'\n",
    "    string += \"\\n\\t\" + r'\\hline'\n",
    "    string += \"\\n\\t\" + \"Algorithm & RMSE & $J_f$ & $f$ & $J_f J_f^\\\\top$ & $\\\\nabla\\log\\overline{\\pi}$ & ESS & C-ESS & CJ-ESS & AP \\\\\\ \\hline\"\n",
    "    string += \"\\n\\t\" + \"C-HMC & {:.1} & {} & {} & {} & {} & {} & {} & {} & {:.2f}  \\\\\\ \\hline\".format(RMSE_CHMC.mean(), int(N_JAC_CONSTR_CHMC.mean()), int(N_CONSTR_EVAL_CHMC.mean()), int(N_GRAM_CHMC.mean()), int(N_GRAD_LOG_DENS_CHMC.mean()), int(LOGPI_ESS_CHMC.mean()), int(CONSTR_PER_ESS_CHMC.mean()), int(C_AND_J_PER_ESS_CHMC.mean()), ACCEPT_STAT_CHMC.mean())\n",
    "    for i in range(len(ϵs)):\n",
    "        string += \"\\n\\t\" + \"HAR ($\\epsilon = \\\\num{{{}}}$) & {:.1} & {} & {} & {} & {} & {} & {} & {} & {:.2f} \\\\\\ \\hline\".format(ϵs_string[i], RMSE_HUG.mean(axis=0)[i], int(N_JAC_CONSTR_HUG.mean(axis=0)[i]), int(N_CONSTR_EVAL_HUG.mean(axis=0)[i]), 0, 0, int(LOGPI_ESS_HUG.mean(axis=0)[i]), int(CONSTR_PER_ESS_HUG.mean(axis=0)[i]), int(C_AND_J_PER_ESS_HUG.mean(axis=0)[i]), ACCEPT_STAT_HUG.mean(axis=0)[i])\n",
    "    for i, ϵ in enumerate(ϵs):\n",
    "        string += \"\\n\\t\" + \"TAR ($\\\\alpha={},\\epsilon = \\\\num{{{}}}$) & {:.1} & {} & {} & {} & {} & {} & {} & {} & {:.2f} \\\\\\ \\hline\".format(αs[i], ϵs_string[i], RMSE_THUG.mean(axis=0)[i], int(N_JAC_CONSTR_THUG.mean(axis=0)[i]), int(N_CONSTR_EVAL_THUG.mean(axis=0)[i]), 0, 0, int(LOGPI_ESS_THUG.mean(axis=0)[i]), int(CONSTR_PER_ESS_THUG.mean(axis=0)[i]), int(C_AND_J_PER_ESS_THUG.mean(axis=0)[i]), ACCEPT_STAT_THUG.mean(axis=0)[i])\n",
    "    string = string[:-6] # remove last \\\\hline\n",
    "    string += \"\\n\\t\" + r'\\hline'\n",
    "    string += \"\\n\\t\" + r'\\end{tabular}'\n",
    "    string += \"\\n\" + r'\\end{center}'\n",
    "    return string"
   ]
  },
  {
   "cell_type": "code",
   "execution_count": 11,
   "id": "85004806",
   "metadata": {},
   "outputs": [
    {
     "name": "stdout",
     "output_type": "stream",
     "text": [
      "\\begin{center}\n",
      "\t\\begin{tabular}{ | l | l | l | l | l | l | l | l | l | l |}\n",
      "\t\\hline\n",
      "\tAlgorithm & RMSE & $J_f$ & $f$ & $J_f J_f^\\top$ & $\\nabla\\log\\overline{\\pi}$ & ESS & C-ESS & CJ-ESS & AP \\\\ \\hline\n",
      "\tC-HMC & 4e-11 & 4974 & 46742 & 4974 & 4974 & 14 & 3231 & 3575 & 0.50  \\\\ \\hline\n",
      "\tHAR ($\\epsilon = \\num{1e-3}$) & 0.0004 & 5000 & 1001 & 0 & 0 & 12 & 79 & 475 & 0.53 \\\\ \\hline\n",
      "\tHAR ($\\epsilon = \\num{1e-7}$) & 5e-08 & 5000 & 1001 & 0 & 0 & 30 & 32 & 196 & 0.12 \\\\ \\hline\n",
      "\tHAR ($\\epsilon = \\num{1e-10}$) & 2e-18 & 5000 & 1001 & 0 & 0 & 1 & 1000 & 6000 & 0.00 \\\\ \\hline\n",
      "\tTAR ($\\alpha=0.9,\\epsilon = \\num{1e-3}$) & 0.0004 & 6001 & 1001 & 0 & 0 & 23 & 42 & 295 & 0.41 \\\\ \\hline\n",
      "\tTAR ($\\alpha=0.99,\\epsilon = \\num{1e-7}$) & 5e-08 & 6001 & 1001 & 0 & 0 & 7 & 136 & 953 & 0.17 \\\\ \\hline\n",
      "\tTAR ($\\alpha=0.999,\\epsilon = \\num{1e-10}$) & 5e-11 & 6001 & 1001 & 0 & 0 & 16 & 61 & 428 & 0.04 \\\\ \n",
      "\t\\hline\n",
      "\t\\end{tabular}\n",
      "\\end{center}\n"
     ]
    }
   ],
   "source": [
    "print(create_latex_table(EPSILONS, ALPHAS))"
   ]
  },
  {
   "cell_type": "code",
   "execution_count": null,
   "id": "537618a7",
   "metadata": {},
   "outputs": [],
   "source": []
  }
 ],
 "metadata": {
  "kernelspec": {
   "display_name": "Python 3 (ipykernel)",
   "language": "python",
   "name": "python3"
  },
  "language_info": {
   "codemirror_mode": {
    "name": "ipython",
    "version": 3
   },
   "file_extension": ".py",
   "mimetype": "text/x-python",
   "name": "python",
   "nbconvert_exporter": "python",
   "pygments_lexer": "ipython3",
   "version": "3.8.10"
  }
 },
 "nbformat": 4,
 "nbformat_minor": 5
}
