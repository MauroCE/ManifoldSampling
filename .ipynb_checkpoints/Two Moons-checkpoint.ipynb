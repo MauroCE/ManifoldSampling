{
 "cells": [
  {
   "cell_type": "markdown",
   "metadata": {},
   "source": [
    "# Imports"
   ]
  },
  {
   "cell_type": "code",
   "execution_count": 46,
   "metadata": {},
   "outputs": [],
   "source": [
    "import numpy as np\n",
    "import matplotlib.pyplot as plt\n",
    "from numpy.linalg import norm\n",
    "from math import sqrt, cos, sin\n",
    "from numpy.random import uniform, normal\n",
    "from Manifolds.Manifold import Manifold\n",
    "from Zappa.zappa import zappa_sampling_multivariate, project_multivariate\n",
    "from scipy.optimize import fsolve\n",
    "from scipy.optimize import root\n",
    "import scipy.stats\n",
    "from scipy.stats import uniform as udist\n",
    "from scipy.stats import norm as ndist\n",
    "from scipy.linalg import qr\n",
    "from scipy.stats import multivariate_normal"
   ]
  },
  {
   "cell_type": "markdown",
   "metadata": {},
   "source": [
    "$$\n",
    "J_f = \\begin{pmatrix}\n",
    "    -\\frac{1}{\\sqrt{2}} \\frac{\\theta_1 + \\theta_2}{|\\theta_1 + \\theta_2|} & -\\frac{1}{\\sqrt{2}} \\frac{\\theta_1 + \\theta_2}{|\\theta_1 + \\theta_2|} & -r\\sin(a) & \\cos(a) \\\\\n",
    "    -\\frac{1}{\\sqrt{2}} & \\frac{1}{\\sqrt{2}} & r\\cos(a) & \\sin(a)\n",
    "\\end{pmatrix} \\in \\mathbb{R}^{2 \\times 4}\n",
    "$$"
   ]
  },
  {
   "cell_type": "markdown",
   "metadata": {},
   "source": [
    "# Log Prior and Simulator"
   ]
  },
  {
   "cell_type": "code",
   "execution_count": 2,
   "metadata": {},
   "outputs": [],
   "source": [
    "def TM_deterministic(theta, u):\n",
    "    \"\"\"Deterministic Function\"\"\"\n",
    "    a, r = u\n",
    "    p = np.array([r * np.cos(a) + 0.25, r * np.sin(a)])\n",
    "    return p + np.array([-np.abs(theta[0] + theta[1])/sqrt(2), (-theta[0]+theta[1])/sqrt(2)])\n",
    "\n",
    "def TM_simulator(theta):\n",
    "    \"\"\"Two Moons simulator for ABC. Details taken from 'APT for Likelihood-free Inference'.\"\"\"\n",
    "    a = np.random.uniform(low=-np.pi/2, high=np.pi/2)\n",
    "    r = np.random.normal(loc=0.1, scale=0.01)\n",
    "    return TM_deterministic(theta, [a, r])\n",
    "\n",
    "def logprior(theta):\n",
    "    \"\"\"Computes log prior uniform\"\"\"\n",
    "    if np.all(np.abs(theta) < np.pi/2):\n",
    "        return np.log(0.25)\n",
    "    else:\n",
    "        return -np.inf"
   ]
  },
  {
   "cell_type": "code",
   "execution_count": 3,
   "metadata": {},
   "outputs": [],
   "source": [
    "def TM_simulator(theta):\n",
    "    \"\"\"Two Moons simulator for ABC.\"\"\"\n",
    "    t0, t1 = theta[0], theta[1]\n",
    "    a = uniform(low=-np.pi/2, high=np.pi/2)\n",
    "    r = normal(loc=0.1, scale=0.01)\n",
    "    p = np.array([r * np.cos(a) + 0.25, r * np.sin(a)])\n",
    "    return p + np.array([-np.abs(t0 + t1), (-t0 + t1)]) / sqrt(2)\n",
    "\n",
    "def TM_prior():\n",
    "    \"\"\"Prior for Two Moons simulator. Uniform on [-1, 1]x[-1, 1].\"\"\"\n",
    "    return uniform(low=-1, high=1, size=(2,))"
   ]
  },
  {
   "cell_type": "markdown",
   "metadata": {},
   "source": [
    "# Two Moon Manifold"
   ]
  },
  {
   "cell_type": "code",
   "execution_count": 4,
   "metadata": {},
   "outputs": [],
   "source": [
    "from Manifolds.Manifold import Manifold"
   ]
  },
  {
   "cell_type": "code",
   "execution_count": 5,
   "metadata": {},
   "outputs": [],
   "source": [
    "class TwoMoonManifold(Manifold):\n",
    "    def __init__(self):\n",
    "        \"\"\"\n",
    "        TwoMoon Deterministic Function.\n",
    "        \"\"\"\n",
    "        super().__init__(m=2, d=2)\n",
    "\n",
    "    def Q(self, thetau):\n",
    "        \"\"\"Q\"\"\"\n",
    "        t1, t2, a, r = thetau\n",
    "        val = - (t1 + t2) / (abs(t1 + t2) * sqrt(2))\n",
    "        return np.array([\n",
    "            [val, val, -r * sin(a), cos(a)],\n",
    "            [-1/sqrt(2), 1/sqrt(2), r * cos(a), sin(a)]\n",
    "        ]).T\n",
    "    \n",
    "    def q(self, thetau):\n",
    "        \"\"\"Constraint function for the sphere\"\"\"\n",
    "        t1, t2, a, r = thetau\n",
    "        return np.array([r*cos(a)+0.25-abs(t1+t2)/sqrt(2), r*sin(a) + (-t1+t2)/sqrt(2)])"
   ]
  },
  {
   "cell_type": "code",
   "execution_count": 6,
   "metadata": {},
   "outputs": [],
   "source": [
    "TwoMoon = TwoMoonManifold()\n",
    "y_star = np.zeros(2)"
   ]
  },
  {
   "cell_type": "markdown",
   "metadata": {},
   "source": [
    "### Initial Point on Manifold"
   ]
  },
  {
   "cell_type": "code",
   "execution_count": 7,
   "metadata": {},
   "outputs": [],
   "source": [
    "a0 = uniform(low=-np.pi/2, high=np.pi/2)\n",
    "r0 = normal(loc=0.1, scale=0.01)\n",
    "guess = np.array([0, 0, a0, r0])"
   ]
  },
  {
   "cell_type": "code",
   "execution_count": 8,
   "metadata": {},
   "outputs": [],
   "source": [
    "func = lambda thetau: np.r_[TwoMoon.q(thetau) - y_star, 0, 0]  # Append 0, 0 to make fsolve work."
   ]
  },
  {
   "cell_type": "code",
   "execution_count": 9,
   "metadata": {},
   "outputs": [],
   "source": [
    "x0 = fsolve(func, guess)"
   ]
  },
  {
   "cell_type": "markdown",
   "metadata": {},
   "source": [
    "### Log f"
   ]
  },
  {
   "cell_type": "markdown",
   "metadata": {},
   "source": [
    "Remember $\\log p(u, \\theta) = \\log p(\\theta) + \\log p(u \\mid \\theta)$ where $p(\\theta)$ is the prior and $p(u \\mid \\theta)$ should be able to infer it from the simulator definition."
   ]
  },
  {
   "cell_type": "code",
   "execution_count": 88,
   "metadata": {},
   "outputs": [],
   "source": [
    "def logf(thetau):\n",
    "    \"\"\"log target on the manifold\"\"\"\n",
    "    a, r = thetau[2], thetau[3]\n",
    "    logpu = udist(loc=-np.pi/2, scale=np.pi).logpdf(a) + ndist(loc=0.1, scale=0.01).logpdf(r)\n",
    "    logptheta = logprior(thetau[:2])\n",
    "    Q = TwoMoon.Q(thetau)\n",
    "    return logpu -0.5 * np.log(np.linalg.det(Q.T @ Q))"
   ]
  },
  {
   "cell_type": "markdown",
   "metadata": {},
   "source": [
    "### Log p"
   ]
  },
  {
   "cell_type": "code",
   "execution_count": 47,
   "metadata": {},
   "outputs": [],
   "source": [
    "logp = lambda xy: multivariate_normal(mean=np.zeros(2), cov=np.eye(2)).logpdf(xy)"
   ]
  },
  {
   "cell_type": "code",
   "execution_count": 11,
   "metadata": {},
   "outputs": [],
   "source": [
    "Q = TwoMoon.Q(x0)"
   ]
  },
  {
   "cell_type": "code",
   "execution_count": 53,
   "metadata": {},
   "outputs": [],
   "source": [
    "vsample = 0.01 * np.random.randn(2)"
   ]
  },
  {
   "cell_type": "code",
   "execution_count": 54,
   "metadata": {},
   "outputs": [
    {
     "data": {
      "text/plain": [
       "array([ 0.00271424, -0.01012461])"
      ]
     },
     "execution_count": 54,
     "metadata": {},
     "output_type": "execute_result"
    }
   ],
   "source": [
    "vsample"
   ]
  },
  {
   "cell_type": "code",
   "execution_count": 55,
   "metadata": {},
   "outputs": [],
   "source": [
    "tx_basis = TwoMoon.tangent_basis(Q)"
   ]
  },
  {
   "cell_type": "code",
   "execution_count": 56,
   "metadata": {},
   "outputs": [
    {
     "data": {
      "text/plain": [
       "array([[ 0.06255705,  0.53663074],\n",
       "       [-0.0925601 ,  0.46028258],\n",
       "       [ 0.99365367,  0.01841247],\n",
       "       [-0.01310048,  0.70698542]])"
      ]
     },
     "execution_count": 56,
     "metadata": {},
     "output_type": "execute_result"
    }
   ],
   "source": [
    "tx_basis"
   ]
  },
  {
   "cell_type": "code",
   "execution_count": 57,
   "metadata": {},
   "outputs": [],
   "source": [
    "v = tx_basis @ vsample"
   ]
  },
  {
   "cell_type": "code",
   "execution_count": 58,
   "metadata": {},
   "outputs": [
    {
     "data": {
      "text/plain": [
       "array([-0.00526338, -0.00491141,  0.00251059, -0.00719351])"
      ]
     },
     "execution_count": 58,
     "metadata": {},
     "output_type": "execute_result"
    }
   ],
   "source": [
    "v"
   ]
  },
  {
   "cell_type": "code",
   "execution_count": 59,
   "metadata": {},
   "outputs": [],
   "source": [
    "a_guess = np.zeros(2)"
   ]
  },
  {
   "cell_type": "code",
   "execution_count": 60,
   "metadata": {},
   "outputs": [
    {
     "data": {
      "text/plain": [
       "True"
      ]
     },
     "execution_count": 60,
     "metadata": {},
     "output_type": "execute_result"
    }
   ],
   "source": [
    "out = root(lambda a: TwoMoon.q(x0 + v + Q @ a), a_guess, options={'maxfev':50})\n",
    "out.success"
   ]
  },
  {
   "cell_type": "code",
   "execution_count": 61,
   "metadata": {},
   "outputs": [
    {
     "data": {
      "text/plain": [
       "array([-1.14697701e-06,  1.78154812e-05])"
      ]
     },
     "execution_count": 61,
     "metadata": {},
     "output_type": "execute_result"
    }
   ],
   "source": [
    "out.x"
   ]
  },
  {
   "cell_type": "code",
   "execution_count": 62,
   "metadata": {},
   "outputs": [
    {
     "data": {
      "text/plain": [
       "array([0.25605201, 0.24480415, 0.07603804, 0.10446163])"
      ]
     },
     "execution_count": 62,
     "metadata": {},
     "output_type": "execute_result"
    }
   ],
   "source": [
    "x0 + v"
   ]
  },
  {
   "cell_type": "code",
   "execution_count": 63,
   "metadata": {},
   "outputs": [
    {
     "data": {
      "text/plain": [
       "array([-1.17864123e-05,  1.34084828e-05,  1.99322317e-06,  1.64868866e-07])"
      ]
     },
     "execution_count": 63,
     "metadata": {},
     "output_type": "execute_result"
    }
   ],
   "source": [
    "Q @ out.x"
   ]
  },
  {
   "cell_type": "code",
   "execution_count": 64,
   "metadata": {},
   "outputs": [],
   "source": [
    "y = x0 + v + Q @ out.x"
   ]
  },
  {
   "cell_type": "code",
   "execution_count": 65,
   "metadata": {},
   "outputs": [],
   "source": [
    "Qy = TwoMoon.Q(y)"
   ]
  },
  {
   "cell_type": "code",
   "execution_count": 66,
   "metadata": {},
   "outputs": [],
   "source": [
    "ty_basis = TwoMoon.tangent_basis(Qy)"
   ]
  },
  {
   "cell_type": "code",
   "execution_count": 67,
   "metadata": {},
   "outputs": [
    {
     "data": {
      "text/plain": [
       "array([[ 0.05836905,  0.53763023],\n",
       "       [-0.08680034,  0.45913719],\n",
       "       [ 0.99443891,  0.01722734],\n",
       "       [-0.01224786,  0.7070007 ]])"
      ]
     },
     "execution_count": 67,
     "metadata": {},
     "output_type": "execute_result"
    }
   ],
   "source": [
    "ty_basis"
   ]
  },
  {
   "cell_type": "code",
   "execution_count": 68,
   "metadata": {},
   "outputs": [],
   "source": [
    "v_prime_sample = (x0 - y) @ ty_basis"
   ]
  },
  {
   "cell_type": "code",
   "execution_count": 89,
   "metadata": {},
   "outputs": [
    {
     "data": {
      "text/plain": [
       "-0.9142221583863698"
      ]
     },
     "execution_count": 89,
     "metadata": {},
     "output_type": "execute_result"
    }
   ],
   "source": [
    "logu = np.log(np.random.rand())\n",
    "logu"
   ]
  },
  {
   "cell_type": "code",
   "execution_count": 90,
   "metadata": {},
   "outputs": [
    {
     "data": {
      "text/plain": [
       "False"
      ]
     },
     "execution_count": 90,
     "metadata": {},
     "output_type": "execute_result"
    }
   ],
   "source": [
    "logu > logf(y) - logf(x0) + logp(v_prime_sample) - logp(vsample)"
   ]
  },
  {
   "cell_type": "code",
   "execution_count": 94,
   "metadata": {},
   "outputs": [],
   "source": [
    "v_prime = v_prime_sample @ ty_basis.T"
   ]
  },
  {
   "cell_type": "code",
   "execution_count": 96,
   "metadata": {},
   "outputs": [],
   "source": [
    "out2 = project_multivariate(y, v_prime, Qy, TwoMoon.q, a_guess=np.zeros(2), maxiter=50)"
   ]
  },
  {
   "cell_type": "code",
   "execution_count": null,
   "metadata": {},
   "outputs": [],
   "source": []
  },
  {
   "cell_type": "code",
   "execution_count": null,
   "metadata": {},
   "outputs": [],
   "source": [
    "zappa_sampling_multivariate()"
   ]
  },
  {
   "cell_type": "code",
   "execution_count": null,
   "metadata": {},
   "outputs": [],
   "source": []
  },
  {
   "cell_type": "code",
   "execution_count": null,
   "metadata": {},
   "outputs": [],
   "source": []
  },
  {
   "cell_type": "code",
   "execution_count": 153,
   "metadata": {},
   "outputs": [
    {
     "data": {
      "text/plain": [
       "array([0.28060127, 0.20736408, 0.49889696, 0.10823645])"
      ]
     },
     "execution_count": 153,
     "metadata": {},
     "output_type": "execute_result"
    }
   ],
   "source": []
  },
  {
   "cell_type": "code",
   "execution_count": 133,
   "metadata": {},
   "outputs": [],
   "source": [
    "def func1(x0):\n",
    "    Q = TwoMoon.Q(x0)\n",
    "    return -0.5 * np.log(np.linalg.det(Q @ Q.T))\n",
    "\n",
    "def func2(x0):\n",
    "    Q = TwoMoon.Q(x0)\n",
    "    return - np.log(np.linalg.det(np.linalg.cholesky(Q @ Q.T)))"
   ]
  },
  {
   "cell_type": "code",
   "execution_count": 134,
   "metadata": {},
   "outputs": [
    {
     "name": "stdout",
     "output_type": "stream",
     "text": [
      "18.9 µs ± 165 ns per loop (mean ± std. dev. of 7 runs, 100000 loops each)\n"
     ]
    }
   ],
   "source": [
    "%timeit func1(x0)"
   ]
  },
  {
   "cell_type": "code",
   "execution_count": 135,
   "metadata": {},
   "outputs": [
    {
     "name": "stdout",
     "output_type": "stream",
     "text": [
      "26.5 µs ± 291 ns per loop (mean ± std. dev. of 7 runs, 10000 loops each)\n"
     ]
    }
   ],
   "source": [
    "%timeit func2(x0)"
   ]
  },
  {
   "cell_type": "code",
   "execution_count": null,
   "metadata": {},
   "outputs": [],
   "source": []
  },
  {
   "cell_type": "code",
   "execution_count": 90,
   "metadata": {},
   "outputs": [
    {
     "data": {
      "text/plain": [
       "array([ 0.32692417, -0.06707261])"
      ]
     },
     "execution_count": 90,
     "metadata": {},
     "output_type": "execute_result"
    }
   ],
   "source": [
    "TwoMoon.q(guess)"
   ]
  },
  {
   "cell_type": "code",
   "execution_count": 89,
   "metadata": {},
   "outputs": [
    {
     "data": {
      "text/plain": [
       "array([ 0.00000000e+00, -1.38777878e-17])"
      ]
     },
     "execution_count": 89,
     "metadata": {},
     "output_type": "execute_result"
    }
   ],
   "source": [
    "TwoMoon.q(x0)"
   ]
  },
  {
   "cell_type": "code",
   "execution_count": null,
   "metadata": {},
   "outputs": [],
   "source": [
    "zappa_sampling(x0, TwoMoon, )"
   ]
  }
 ],
 "metadata": {
  "@webio": {
   "lastCommId": null,
   "lastKernelId": null
  },
  "kernelspec": {
   "display_name": "Python 3",
   "language": "python",
   "name": "python3"
  },
  "language_info": {
   "codemirror_mode": {
    "name": "ipython",
    "version": 3
   },
   "file_extension": ".py",
   "mimetype": "text/x-python",
   "name": "python",
   "nbconvert_exporter": "python",
   "pygments_lexer": "ipython3",
   "version": "3.7.4"
  }
 },
 "nbformat": 4,
 "nbformat_minor": 2
}
