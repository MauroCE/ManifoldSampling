{
 "cells": [
  {
   "cell_type": "code",
   "execution_count": 576,
   "id": "3850fead",
   "metadata": {},
   "outputs": [],
   "source": [
    "## Autograd\n",
    "import autograd.numpy as np\n",
    "from autograd.numpy.random import seed, randn, rand\n",
    "from autograd.numpy import exp, hstack, log\n",
    "from autograd import grad, jacobian\n",
    "from autograd.numpy.linalg import norm\n",
    "from autograd.scipy.stats import norm as ag_norm\n",
    "from autograd.extend import primitive, defvjp\n",
    "from autograd.numpy.numpy_vjps import unbroadcast_f\n",
    "\n",
    "# Standard Python Imports\n",
    "from scipy.stats import norm as ndist\n",
    "from scipy.stats import uniform as udist\n",
    "from numpy import zeros, eye, vstack, sqrt, mean\n",
    "from scipy.stats import multivariate_normal as MVN\n",
    "from numpy.random import uniform\n",
    "from scipy.optimize import fsolve\n",
    "from statsmodels.tsa.stattools import acf\n",
    "\n",
    "# Custom functions\n",
    "from tangential_hug_functions import HugTangentialStepEJSD_Deterministic, Hop_Deterministic, HugStepEJSD_Deterministic, HugRotatedStepEJSD_AR_Deterministic, HugRotatedStepEJSD_Deterministic\n",
    "from utils import ESS_univariate, ESS, n_unique\n",
    "\n",
    "import matplotlib.pyplot as plt\n",
    "from scipy.stats import gaussian_kde"
   ]
  },
  {
   "cell_type": "code",
   "execution_count": 858,
   "id": "ba491912",
   "metadata": {},
   "outputs": [],
   "source": [
    "m = 2"
   ]
  },
  {
   "cell_type": "code",
   "execution_count": 859,
   "id": "06ed27d3",
   "metadata": {},
   "outputs": [],
   "source": [
    "def f(thetau):\n",
    "    \"\"\"Deterministic function for distance manifold. f:R^5 -> R \"\"\"\n",
    "    a_param, b_param, k_param, *z = thetau  # Latents are standard normal variables\n",
    "    z = np.array(z)\n",
    "    out = a_param + b_param*(1 + 0.8 * (1 - exp(-g_param * z)) / (1+exp(-g_param * z))) * ((1 + z**2)**k_param) * z\n",
    "    return norm(out - y_star)"
   ]
  },
  {
   "cell_type": "code",
   "execution_count": 860,
   "id": "436b4ba0",
   "metadata": {},
   "outputs": [],
   "source": [
    "def data_generator(theta, N=m):\n",
    "    \"\"\"Generates initial observed data y_star.\"\"\"\n",
    "    z = randn(N)         # Get N samples from N(0, 1) for G&K simulation.\n",
    "    a_param, b_param, k_param = theta   # Grab parameters\n",
    "    return a_param + b_param*(1 + 0.8 * (1 - exp(-g_param * z)) / (1+exp(-g_param * z))) * ((1 + z**2)**k_param) * z"
   ]
  },
  {
   "cell_type": "code",
   "execution_count": 861,
   "id": "012c8e04",
   "metadata": {},
   "outputs": [],
   "source": [
    "theta0 = np.array([3.0, 1.0, 0.5])\n",
    "g_param = 2.0\n",
    "y_star = data_generator(theta0, N=m)"
   ]
  },
  {
   "cell_type": "code",
   "execution_count": 862,
   "id": "00e101ad",
   "metadata": {},
   "outputs": [],
   "source": [
    "grad_function = grad(f)"
   ]
  },
  {
   "cell_type": "code",
   "execution_count": 863,
   "id": "ad7c4e88",
   "metadata": {},
   "outputs": [],
   "source": [
    "d = 3 + m"
   ]
  },
  {
   "cell_type": "code",
   "execution_count": 864,
   "id": "d7463148",
   "metadata": {},
   "outputs": [],
   "source": [
    "def logprior(thetau):\n",
    "    \"\"\"Log prior distribution.\"\"\"\n",
    "    with np.errstate(divide='ignore'):\n",
    "        return log((abs(thetau[:3]) <= 10).all().astype('float64')) + ndist.logpdf(thetau[3:]).sum()\n",
    "    \n",
    "def log_uniform_kernel(xi, epsilon):\n",
    "    \"\"\"Log density of uniform kernel. \"\"\"\n",
    "    with np.errstate(divide='ignore'):\n",
    "        return log((f(xi) <= epsilon).astype('float64'))\n",
    "    \n",
    "def log_abc_posterior(xi):\n",
    "    \"\"\"Log density of ABC posterior. Product of (param-latent) prior and uniform kernel.\"\"\"\n",
    "    return logprior(xi) + log_uniform_kernel(xi, epsilon)"
   ]
  },
  {
   "cell_type": "code",
   "execution_count": 865,
   "id": "4dabf51e",
   "metadata": {},
   "outputs": [],
   "source": [
    "##### rhug\n",
    "def experiment_rhug(x00, T, N, alphas, nlags):\n",
    "    \"\"\"Runs Hug+Hop and RotatedHUG+HOP using the same velocities and the same random seeds.\n",
    "    We also try to limit the noise in the HOP kernel by sampling the u variables beforehand.\n",
    "    I run RotatedHUG for all values of alpha with the randomness fixed. \n",
    "    This is 1 run, for 1 epsilon. It does 1 HUG+HOP and then THUG+HOP for all alphas.\n",
    "    T1: T for HUG\n",
    "    T2: T for RotatedHUG\n",
    "    \"\"\"\n",
    "    ### COMMON VARIABLES\n",
    "    v = q.rvs(N)\n",
    "    log_uniforms1 = log(rand(N))     # Log uniforms for the HUG kernels\n",
    "    log_uniforms2 = log(rand(N))     # Log uniforms for the HOP kernel\n",
    "    u = MVN(zeros(d), eye(d)).rvs(N) # Original velocities for HOP kernel\n",
    "    ### STORAGE (HUG + HOP)\n",
    "    hh = x00              # Initial sample\n",
    "    ahh1 = 0.0            # Acceptance probability for HUG kernel\n",
    "    ahh2 = 0.0            # Acceptance probability for HOP kernel (when used with HUG)\n",
    "    ehh = 0.0             # EJSD\n",
    "    eghh = 0.0            # EJSD in Gradient direction\n",
    "    ethh = 0.0            # EJSD in Tangent direction\n",
    "    ### STORAGE (RotatedHUG + HOP) I MUST STORE FOR ALL ALPHAS\n",
    "    arh1 = zeros(n_alphas)\n",
    "    arh2 = zeros(n_alphas)\n",
    "    erh  = zeros(n_alphas)\n",
    "    egrh = zeros(n_alphas)\n",
    "    etrh = zeros(n_alphas)\n",
    "    ### ADDITIONAL STORAGE FOR RotatedHUG\n",
    "    rh_esst = zeros(n_alphas)\n",
    "    rh_essu = zeros(n_alphas)\n",
    "    rh_essj = zeros(n_alphas)\n",
    "    rh_uniq = zeros(n_alphas)\n",
    "    rh_act  = zeros((n_alphas, nlags))\n",
    "    rh_acu  = zeros((n_alphas, nlags))\n",
    "    ### HUG + HOP\n",
    "    x = x00\n",
    "    for i in range(N):\n",
    "        y, a1, e, eg, et = HugStepEJSD_Deterministic(x, v[i], log_uniforms1[i], T, B, q, log_abc_posterior, grad_function)\n",
    "        x, a2 = Hop_Deterministic(y, u[i], log_uniforms2[i], lam, kappa, log_abc_posterior, grad_function)\n",
    "        hh = vstack((hh, y, x))\n",
    "        ahh1 += a1 * 100 / N\n",
    "        ahh2 += a2 * 100 / N\n",
    "        ehh += e / N\n",
    "        eghh += eg / N \n",
    "        ethh += et / N \n",
    "    # COMPUTE ESS AND OTHER METRICS FOR HUG\n",
    "    hh = hh[1:]\n",
    "    hh_esst = ESS_univariate(hh[::2, 0])     # ESS for theta\n",
    "    hh_essu = ESS_univariate(hh[::2, 1])     # ESS for u\n",
    "    hh_essj = ESS(hh[::2])                   # ESS joint\n",
    "    hh_uniq = n_unique(hh)                             # Number of unique samples\n",
    "    hh_act  = acf(hh[::2, 0], adjusted=True, nlags=nlags, fft=True)[1:]  # Autocorrelation for theta (remove the first 1.0)\n",
    "    hh_acu  = acf(hh[::2, 1], adjusted=True, nlags=nlags, fft=True)[1:]  # Autocorrelation for u\n",
    "    ### RotatedHUG + HOP\n",
    "    for k, alpha in enumerate(alphas):\n",
    "        x = x00\n",
    "        rh = x00      # RESTART THE SAMPLES FROM SCRATCH\n",
    "        for i in range(N):\n",
    "            y, a1, e, eg, et = HugRotatedStepEJSD_Deterministic(x, v[i], log_uniforms1[i], T, B, alpha, q, log_abc_posterior, grad_function)\n",
    "            x, a2 = Hop_Deterministic(y, u[i], log_uniforms2[i], lam, kappa, log_abc_posterior, grad_function)\n",
    "            rh = vstack((rh, y, x))\n",
    "            arh1[k] += a1 * 100 / N\n",
    "            arh2[k] += a2 * 100 / N\n",
    "            erh[k]  += e / N\n",
    "            egrh[k] += eg / N \n",
    "            etrh[k] += et / N \n",
    "        ### COMPUTE ESS AND OTHER METRISC FOR RotatedHUG\n",
    "        rh = rh[1:]\n",
    "        rh_esst[k] = ESS_univariate(rh[::2, 0])     # ESS for theta\n",
    "        rh_essu[k] = ESS_univariate(rh[::2, 1])     # ESS for u\n",
    "        rh_essj[k] = ESS(rh[::2])                   # ESS joint\n",
    "        rh_uniq[k] = n_unique(rh)                             # Number of unique samples\n",
    "        rh_act[k] = acf(rh[::2, 0], adjusted=True, nlags=nlags, fft=True)[1:]  # Autocorrelation for theta\n",
    "        rh_acu[k] = acf(rh[::2, 1], adjusted=True, nlags=nlags, fft=True)[1:]  # Autocorrelation for u\n",
    "    # RETURN EVERYTHING\n",
    "    out = {\n",
    "        'HH': {\n",
    "            'A1': ahh1,\n",
    "            'A2': ahh2,\n",
    "            'E': ehh,\n",
    "            'EG': eghh, \n",
    "            'ET': ethh,\n",
    "            'ESS_T': hh_esst,\n",
    "            'ESS_U': hh_essu,\n",
    "            'ESS_J': hh_essj,\n",
    "            'UNIQUE': hh_uniq,\n",
    "            'AC_T': hh_act,\n",
    "            'AC_U': hh_acu,\n",
    "            'SAMPLES': hh\n",
    "        },\n",
    "        'RH': {\n",
    "            'A1': arh1,\n",
    "            'A2': arh2,\n",
    "            'E': erh,\n",
    "            'EG': egrh, \n",
    "            'ET': etrh, \n",
    "            'ESS_T': rh_esst,\n",
    "            'ESS_U': rh_essu,\n",
    "            'ESS_J': rh_essj,\n",
    "            'UNIQUE': rh_uniq,\n",
    "            'AC_T': rh_act,\n",
    "            'AC_U': rh_acu,\n",
    "            'SAMPLES': rh\n",
    "        }\n",
    "    }\n",
    "    return out"
   ]
  },
  {
   "cell_type": "code",
   "execution_count": 866,
   "id": "d74f7fa7",
   "metadata": {},
   "outputs": [],
   "source": [
    "#### thug\n",
    "def experiment_thug(x00, T, N, alphas, nlags):\n",
    "    \"\"\"Runs Hug+Hop and THUG+HOP using the same velocities and the same random seeds.\n",
    "    We also try to limit the noise in the HOP kernel by sampling the u variables beforehand.\n",
    "    I run THUG for all values of alpha with the randomness fixed. \n",
    "    This is 1 run, for 1 epsilon. It does 1 HUG+HOP and then THUG+HOP for all alphas.\n",
    "    T1: T for HUG\n",
    "    T2: T for THUG\n",
    "    \"\"\"\n",
    "    ### COMMON VARIABLES\n",
    "    v = q.rvs(N)\n",
    "    log_uniforms1 = log(rand(N))     # Log uniforms for the HUG kernels\n",
    "    log_uniforms2 = log(rand(N))     # Log uniforms for the HOP kernel\n",
    "    u = MVN(zeros(d), eye(d)).rvs(N) # Original velocities for HOP kernel\n",
    "    ### STORAGE (HUG + HOP)\n",
    "    hh = x00              # Initial sample\n",
    "    ahh1 = 0.0       # Acceptance probability for HUG kernel\n",
    "    ahh2 = 0.0       # Acceptance probability for HOP kernel (when used with HUG)\n",
    "    ehh = 0.0             # EJSD\n",
    "    eghh = 0.0            # EJSD in Gradient direction\n",
    "    ethh = 0.0            # EJSD in Tangent direction\n",
    "    ### STORAGE (THUG + HOP) I MUST STORE FOR ALL ALPHAS\n",
    "    ath1 = zeros(n_alphas)\n",
    "    ath2 = zeros(n_alphas)\n",
    "    eth  = zeros(n_alphas)\n",
    "    egth = zeros(n_alphas)\n",
    "    etth = zeros(n_alphas)\n",
    "    ### ADDITIONAL STORAGE FOR THUG\n",
    "    th_esst = zeros(n_alphas)\n",
    "    th_essu = zeros(n_alphas)\n",
    "    th_essj = zeros(n_alphas)\n",
    "    th_uniq = zeros(n_alphas)\n",
    "    th_act  = zeros((n_alphas, nlags))\n",
    "    th_acu  = zeros((n_alphas, nlags))\n",
    "    ### HUG + HOP\n",
    "    x = x00\n",
    "    for i in range(N):\n",
    "        y, a1, e, eg, et = HugStepEJSD_Deterministic(x, v[i], log_uniforms1[i], T, B, q, log_abc_posterior, grad_function)\n",
    "        x, a2 = Hop_Deterministic(y, u[i], log_uniforms2[i], lam, kappa, log_abc_posterior, grad_function)\n",
    "        hh = vstack((hh, y, x))\n",
    "        ahh1 += a1 * 100 / N\n",
    "        ahh2 += a2 * 100 / N\n",
    "        ehh += e / N\n",
    "        eghh += eg / N \n",
    "        ethh += et / N \n",
    "    # COMPUTE ESS AND OTHER METRICS FOR HUG\n",
    "    hh = hh[1:]\n",
    "    hh_esst = ESS_univariate(hh[::2, 0])     # ESS for theta\n",
    "    hh_essu = ESS_univariate(hh[::2, 1])     # ESS for u\n",
    "    hh_essj = ESS(hh[::2])                   # ESS joint\n",
    "    hh_uniq = n_unique(hh)                             # Number of unique samples\n",
    "    hh_act  = acf(hh[::2, 0], adjusted=True, nlags=nlags, fft=True)[1:]  # Autocorrelation for theta (remove the first 1.0)\n",
    "    hh_acu  = acf(hh[::2, 1], adjusted=True, nlags=nlags, fft=True)[1:]  # Autocorrelation for u\n",
    "    ### THUG + HOP\n",
    "    for k, alpha in enumerate(alphas):\n",
    "        x = x00\n",
    "        th = x00      # RESTART THE SAMPLES FROM SCRATCH\n",
    "        for i in range(N):\n",
    "            y, a1, e, eg, et = HugTangentialStepEJSD_Deterministic(x, v[i], log_uniforms1[i], T, B, alpha, q, log_abc_posterior, grad_function)\n",
    "            x, a2 = Hop_Deterministic(y, u[i], log_uniforms2[i], lam, kappa, log_abc_posterior, grad_function)\n",
    "            th = vstack((th, y, x))\n",
    "            ath1[k] += a1 * 100 / N\n",
    "            ath2[k] += a2 * 100 / N\n",
    "            eth[k]  += e / N\n",
    "            egth[k] += eg / N \n",
    "            etth[k] += et / N \n",
    "        ### COMPUTE ESS AND OTHER METRISC FOR THUG\n",
    "        th = th[1:]\n",
    "        th_esst[k] = ESS_univariate(th[::2, 0])     # ESS for theta\n",
    "        th_essu[k] = ESS_univariate(th[::2, 1])     # ESS for u\n",
    "        th_essj[k] = ESS(th[::2])                   # ESS joint\n",
    "        th_uniq[k] = n_unique(th)                             # Number of unique samples\n",
    "        th_act[k] = acf(th[::2, 0], adjusted=True, nlags=nlags, fft=True)[1:]  # Autocorrelation for theta\n",
    "        th_acu[k] = acf(th[::2, 1], adjusted=True, nlags=nlags, fft=True)[1:]  # Autocorrelation for u\n",
    "    # RETURN EVERYTHING\n",
    "    out = {\n",
    "        'HH': {\n",
    "            'A1': ahh1,\n",
    "            'A2': ahh2,\n",
    "            'E': ehh,\n",
    "            'EG': eghh, \n",
    "            'ET': ethh,\n",
    "            'ESS_T': hh_esst,\n",
    "            'ESS_U': hh_essu,\n",
    "            'ESS_J': hh_essj,\n",
    "            'UNIQUE': hh_uniq,\n",
    "            'AC_T': hh_act,\n",
    "            'AC_U': hh_acu,\n",
    "            'SAMPLES': hh\n",
    "        },\n",
    "        'TH': {\n",
    "            'A1': ath1,\n",
    "            'A2': ath2,\n",
    "            'E': eth,\n",
    "            'EG': egth, \n",
    "            'ET': etth, \n",
    "            'ESS_T': th_esst,\n",
    "            'ESS_U': th_essu,\n",
    "            'ESS_J': th_essj,\n",
    "            'UNIQUE': th_uniq,\n",
    "            'AC_T': th_act,\n",
    "            'AC_U': th_acu,\n",
    "            'SAMPLES': th\n",
    "        }\n",
    "    }\n",
    "    return out"
   ]
  },
  {
   "cell_type": "code",
   "execution_count": 867,
   "id": "5c14c43b",
   "metadata": {},
   "outputs": [],
   "source": [
    "q = MVN(zeros(d), eye(d))"
   ]
  },
  {
   "cell_type": "code",
   "execution_count": 1412,
   "id": "4c3aef92",
   "metadata": {},
   "outputs": [],
   "source": [
    "alphas = [0.99]\n",
    "n_alphas = len(alphas)\n",
    "epsilon = 0.000001\n",
    "T1 = T2 = 0.003      # 0.3\n",
    "B = 5\n",
    "N = 30000\n",
    "nlags = 2\n",
    "lam = epsilon / 30\n",
    "kappa = 0.001"
   ]
  },
  {
   "cell_type": "code",
   "execution_count": 1413,
   "id": "221ef4d3",
   "metadata": {},
   "outputs": [
    {
     "name": "stdout",
     "output_type": "stream",
     "text": [
      "[ 2.59788949  1.05353569  1.00476645 -0.46024686  0.24281118]\n"
     ]
    }
   ],
   "source": [
    "# Start with a guess\n",
    "guess = hstack((np.array([1.0, 1.0, 1.0]), zeros(m)))\n",
    "\n",
    "# Find point on manifold using optimization\n",
    "func = lambda xi: np.r_[f(xi), zeros(d-1)]  # Append 0, 0 to make fsolve work.\n",
    "xi0 = fsolve(func, guess)\n",
    "print(xi0)"
   ]
  },
  {
   "cell_type": "code",
   "execution_count": 1414,
   "id": "e22a8bf6",
   "metadata": {},
   "outputs": [
    {
     "name": "stdout",
     "output_type": "stream",
     "text": [
      "[ 2.38096376  3.02253956  3.00081191 -0.05795841  0.14935078]\n"
     ]
    }
   ],
   "source": [
    "# Start with a guess\n",
    "guess = hstack((np.array([3.0, 3.0, 3.0]), zeros(m)))\n",
    "\n",
    "# Find point on manifold using optimization\n",
    "func = lambda xi: np.r_[f(xi), zeros(d-1)]  # Append 0, 0 to make fsolve work.\n",
    "xi0 = fsolve(func, guess)\n",
    "print(xi0)"
   ]
  },
  {
   "cell_type": "code",
   "execution_count": 1415,
   "id": "8a801859",
   "metadata": {},
   "outputs": [],
   "source": [
    "out = experiment_thug(xi0, T1, N, alphas, 20)\n",
    "alg = 'TH'\n",
    "alg_name = 'thug'"
   ]
  },
  {
   "cell_type": "code",
   "execution_count": 1416,
   "id": "b009479b",
   "metadata": {},
   "outputs": [
    {
     "data": {
      "text/plain": [
       "(0.06333333333333334,\n",
       " 2.406666666666695,\n",
       " 1.8197467487740908e-08,\n",
       " 0.005883740349569586)"
      ]
     },
     "execution_count": 1416,
     "metadata": {},
     "output_type": "execute_result"
    }
   ],
   "source": [
    "out['HH']['A1'], out['HH']['A2'], out['HH']['E'], out['HH']['ESS_J'] / N"
   ]
  },
  {
   "cell_type": "code",
   "execution_count": 1417,
   "id": "e59a758e",
   "metadata": {
    "scrolled": true
   },
   "outputs": [
    {
     "data": {
      "text/plain": [
       "(array([0.18666667]),\n",
       " array([2.45333333]),\n",
       " array([4.71520613e-08]),\n",
       " array([0.00605555]))"
      ]
     },
     "execution_count": 1417,
     "metadata": {},
     "output_type": "execute_result"
    }
   ],
   "source": [
    "out[alg]['A1'], out[alg]['A2'], out[alg]['E'], out[alg]['ESS_J'] / N"
   ]
  },
  {
   "cell_type": "code",
   "execution_count": 1418,
   "id": "c0852a54",
   "metadata": {},
   "outputs": [
    {
     "data": {
      "text/plain": [
       "2.947368421052628"
      ]
     },
     "execution_count": 1418,
     "metadata": {},
     "output_type": "execute_result"
    }
   ],
   "source": [
    "out[alg]['A1'][0] / out['HH']['A1']"
   ]
  },
  {
   "cell_type": "markdown",
   "id": "0a95f63a",
   "metadata": {},
   "source": [
    "##### $m = 2$, $\\epsilon = 0.00001$, $T=0.003$, $N=2000$ gives 6 AP for HUG and 7.5 AP for THUG with $\\alpha=0.85$. Ratio 1.35, 0.8, 0.5"
   ]
  },
  {
   "cell_type": "markdown",
   "id": "175fe56f",
   "metadata": {},
   "source": [
    "$\\alpha=0.8$ I get 0.78, 1.42, 0.8, 0.9, 1.05"
   ]
  },
  {
   "cell_type": "markdown",
   "id": "0e5b5670",
   "metadata": {},
   "source": [
    "$\\alpha = 0.75$  1.05, 0.91"
   ]
  },
  {
   "cell_type": "markdown",
   "id": "65e51bb4",
   "metadata": {},
   "source": [
    "$\\alpha=0.65$ $N=2000$ 1.3, 1.16, 1.16, 1.45, 1.28"
   ]
  },
  {
   "cell_type": "markdown",
   "id": "c4c89098",
   "metadata": {},
   "source": [
    "$\\alpha=0.65$ but with $N=10000$: 0.6, 0.95, 0.48, 0.6 mean = 0.65"
   ]
  },
  {
   "cell_type": "markdown",
   "id": "9f59cc05",
   "metadata": {},
   "source": [
    "$\\alpha=0.5$ but with $N=10000$: 1.07, 1.98, 1.33, 1.65, 1.16 mean = 1.438"
   ]
  },
  {
   "cell_type": "markdown",
   "id": "ce49339b",
   "metadata": {},
   "source": [
    "$\\alpha=0.5$ but with $N=30000$: 0.78, 1.28, 0.73, 3.5, 1.92, 1.82, 1.07 mean = 1.58 \n",
    "\n",
    "$\\alpha=0.7$ but with $N=30000$: 1.19, 0.59, 0.95, 0.5 mean=0.8"
   ]
  },
  {
   "cell_type": "markdown",
   "id": "5f556e47",
   "metadata": {},
   "source": [
    "$\\epsilon = 0.000001$ with $N=30000$ and $\\alpha = 0.7$: 0.68, 0.8, 0.29, 1.34 mean=0.77\n",
    "\n",
    "$\\epsilon = 0.000001$ with $N=30000$ and $\\alpha = 0.9$: 1.30, 3.0, 1.56, 1.04, 4.7 mean=2.32\n",
    "\n",
    "$\\epsilon = 0.000001$ with $N=30000$ and $\\alpha = 0.95$: 1.5, 0.54, 0.41, 1.19, 2.26 mean=1.18\n",
    "\n",
    "$\\epsilon = 0.000001$ with $N=30000$ and $\\alpha = 0.99$: 2.02, 2.48, 2.33, 2.18, 2.94 mean=2.38\n",
    "\n",
    "$\\epsilon = 0.000001$ with $N=30000$ and $\\alpha = 0.999$: 1.74, 1.92, 1.78, 1.28, 1.43 mean=1.63"
   ]
  },
  {
   "cell_type": "code",
   "execution_count": 1419,
   "id": "a57c0764",
   "metadata": {},
   "outputs": [],
   "source": [
    "!say done"
   ]
  },
  {
   "cell_type": "code",
   "execution_count": null,
   "id": "ba46c40f",
   "metadata": {},
   "outputs": [],
   "source": []
  },
  {
   "cell_type": "code",
   "execution_count": 1420,
   "id": "4348dc8d",
   "metadata": {},
   "outputs": [
    {
     "data": {
      "text/plain": [
       "2.3899999999999997"
      ]
     },
     "execution_count": 1420,
     "metadata": {},
     "output_type": "execute_result"
    }
   ],
   "source": [
    "(2.02 + 2.48 + 2.33 + 2.18 + 2.94) / 5"
   ]
  },
  {
   "cell_type": "code",
   "execution_count": null,
   "id": "06b894fe",
   "metadata": {},
   "outputs": [],
   "source": []
  },
  {
   "cell_type": "code",
   "execution_count": null,
   "id": "424d18f9",
   "metadata": {},
   "outputs": [],
   "source": []
  },
  {
   "cell_type": "code",
   "execution_count": null,
   "id": "733dc84a",
   "metadata": {},
   "outputs": [],
   "source": []
  },
  {
   "cell_type": "code",
   "execution_count": 1266,
   "id": "7b8db295",
   "metadata": {},
   "outputs": [],
   "source": [
    "TS = [10, 1, 0.1]\n",
    "alphas = [0.9, 0.99]\n",
    "epsilons = [0.1, 0.01, 0.001, 0.0001]\n",
    "n_runs = 5\n",
    "runs = list(range(n_runs))"
   ]
  },
  {
   "cell_type": "code",
   "execution_count": 1267,
   "id": "68af0e10",
   "metadata": {},
   "outputs": [],
   "source": [
    "from itertools import product"
   ]
  },
  {
   "cell_type": "code",
   "execution_count": 1271,
   "id": "ea661e98",
   "metadata": {},
   "outputs": [
    {
     "data": {
      "text/plain": [
       "[(10, 0.1),\n",
       " (10, 0.01),\n",
       " (10, 0.001),\n",
       " (10, 0.0001),\n",
       " (1, 0.1),\n",
       " (1, 0.01),\n",
       " (1, 0.001),\n",
       " (1, 0.0001),\n",
       " (0.1, 0.1),\n",
       " (0.1, 0.01),\n",
       " (0.1, 0.001),\n",
       " (0.1, 0.0001)]"
      ]
     },
     "execution_count": 1271,
     "metadata": {},
     "output_type": "execute_result"
    }
   ],
   "source": [
    "list(product(*[TS, epsilons]))"
   ]
  },
  {
   "cell_type": "code",
   "execution_count": 1275,
   "id": "bd8a602f",
   "metadata": {},
   "outputs": [
    {
     "data": {
      "text/plain": [
       "(10, 0.1)"
      ]
     },
     "execution_count": 1275,
     "metadata": {},
     "output_type": "execute_result"
    }
   ],
   "source": [
    "list(product(*[TS, epsilons]))[0]"
   ]
  },
  {
   "cell_type": "code",
   "execution_count": 1336,
   "id": "048f17ab",
   "metadata": {},
   "outputs": [
    {
     "data": {
      "text/plain": [
       "array([[ 2.58351621,  2.56652777,  0.97424638, -0.16185032,  0.11836733],\n",
       "       [ 2.46012061,  2.76341858,  1.76965839, -0.09556525,  0.14413256],\n",
       "       [ 2.54521601,  1.10902825,  2.38040447, -0.31684965,  0.24643879]])"
      ]
     },
     "execution_count": 1336,
     "metadata": {},
     "output_type": "execute_result"
    }
   ],
   "source": [
    "find_initial_points(3)"
   ]
  },
  {
   "cell_type": "code",
   "execution_count": null,
   "id": "6b1e1054",
   "metadata": {},
   "outputs": [],
   "source": []
  },
  {
   "cell_type": "code",
   "execution_count": null,
   "id": "267e00fd",
   "metadata": {},
   "outputs": [],
   "source": []
  },
  {
   "cell_type": "code",
   "execution_count": null,
   "id": "9744ff20",
   "metadata": {},
   "outputs": [],
   "source": []
  },
  {
   "cell_type": "code",
   "execution_count": 1332,
   "id": "282913d4",
   "metadata": {},
   "outputs": [
    {
     "data": {
      "text/plain": [
       "array([1.37110743, 0.60423699, 2.92966846])"
      ]
     },
     "execution_count": 1332,
     "metadata": {},
     "output_type": "execute_result"
    }
   ],
   "source": [
    "uniform(0.0, 3.0, size=3)"
   ]
  },
  {
   "cell_type": "code",
   "execution_count": null,
   "id": "0d20f7a6",
   "metadata": {},
   "outputs": [],
   "source": []
  },
  {
   "cell_type": "code",
   "execution_count": 732,
   "id": "e6524d27",
   "metadata": {},
   "outputs": [
    {
     "data": {
      "image/png": "[encoded data removed]",
      "text/plain": [
       "<Figure size 1440x360 with 3 Axes>"
      ]
     },
     "metadata": {
      "needs_background": "light"
     },
     "output_type": "display_data"
    }
   ],
   "source": [
    "# HUG KDES\n",
    "akde_hug = gaussian_kde(out['HH']['SAMPLES'][:, 0])\n",
    "bkde_hug = gaussian_kde(out['HH']['SAMPLES'][:, 1])\n",
    "kkde_hug = gaussian_kde(out['HH']['SAMPLES'][:, 2])\n",
    "# HUG linspaces\n",
    "xa_hug = np.linspace(np.min(out['HH']['SAMPLES'][:, 0]), np.max(out['HH']['SAMPLES'][:, 0]))\n",
    "xb_hug = np.linspace(np.min(out['HH']['SAMPLES'][:, 1]), np.max(out['HH']['SAMPLES'][:, 1]))\n",
    "xk_hug = np.linspace(np.min(out['HH']['SAMPLES'][:, 2]), np.max(out['HH']['SAMPLES'][:, 2]))\n",
    "# THUG KDES\n",
    "akde_thug = gaussian_kde(out[alg]['SAMPLES'][:, 0])\n",
    "bkde_thug = gaussian_kde(out[alg]['SAMPLES'][:, 1])\n",
    "kkde_thug = gaussian_kde(out[alg]['SAMPLES'][:, 2])\n",
    "# THUG linspaces\n",
    "xa_thug = np.linspace(np.min(out[alg]['SAMPLES'][:, 0]), np.max(out[alg]['SAMPLES'][:, 0]))\n",
    "xb_thug = np.linspace(np.min(out[alg]['SAMPLES'][:, 1]), np.max(out[alg]['SAMPLES'][:, 1]))\n",
    "xk_thug = np.linspace(np.min(out[alg]['SAMPLES'][:, 2]), np.max(out[alg]['SAMPLES'][:, 2]))\n",
    "\n",
    "\n",
    "fig, ax = plt.subplots(ncols=3, figsize=(20, 5))\n",
    "# First parameter (a)\n",
    "ax[0].plot(xa_hug, akde_hug(xa_hug), label='hug')\n",
    "ax[0].plot(xa_thug, akde_thug(xa_thug), label=alg_name)\n",
    "ax[0].vlines(theta0[0], ymin=0, ymax=2, colors='red')\n",
    "ax[0].set_title(\"a\", fontsize=20)\n",
    "# Second parameter (b)\n",
    "ax[1].plot(xb_hug, bkde_hug(xb_hug), label='hug')\n",
    "ax[1].plot(xb_thug, bkde_thug(xb_thug), label=alg_name)\n",
    "ax[1].vlines(theta0[1], ymin=0, ymax=2, colors='red')\n",
    "ax[1].set_title(\"b\", fontsize=20)\n",
    "# Third parameter (k)\n",
    "ax[2].plot(xk_hug, kkde_hug(xk_hug), label='hug')\n",
    "ax[2].plot(xk_thug, kkde_thug(xk_thug), label=alg_name)\n",
    "ax[2].vlines(theta0[2], ymin=0, ymax=2, colors='red')\n",
    "ax[2].set_title(\"k\", fontsize=20)\n",
    "plt.legend()\n",
    "plt.show()"
   ]
  },
  {
   "cell_type": "code",
   "execution_count": 668,
   "id": "283cbee0",
   "metadata": {},
   "outputs": [],
   "source": [
    "!say EXPERIMENT FINISHED"
   ]
  },
  {
   "cell_type": "code",
   "execution_count": null,
   "id": "9595ec30",
   "metadata": {},
   "outputs": [],
   "source": []
  },
  {
   "cell_type": "code",
   "execution_count": null,
   "id": "2404f0d0",
   "metadata": {},
   "outputs": [],
   "source": []
  },
  {
   "cell_type": "markdown",
   "id": "00aed4c3",
   "metadata": {},
   "source": [
    "At the very least, using THUG I should be able to get a better acceptance probability. If not, perhaps there is a bug in the problem formulation? Should change to THUG experiment and see if there is an improvement there. If there is no improvement in AP and if there is no bug, what could be causing this? Perhaps the manifold has very high curvature and so following the tangent is not desirable?"
   ]
  },
  {
   "cell_type": "code",
   "execution_count": 1565,
   "id": "dcf8b94d",
   "metadata": {},
   "outputs": [],
   "source": [
    "Sigma = np.array([[5.0, 2.0], [3.0, 1.0]])\n",
    "\n",
    "def move(xv):\n",
    "    n = int(len(xv) / 2)\n",
    "    x, v = xv[:n], xv[n:]\n",
    "    return np.concatenate((x + 5.0 * v, v))\n",
    "\n",
    "def reflect(xv):\n",
    "    n = int(len(xv) / 2)\n",
    "    x, v = xv[:n], xv[n:]\n",
    "    ghat = - Sigma @ x\n",
    "    ghat = ghat / np.linalg.norm(ghat)\n",
    "    return np.concatenate((x, v - 2*ghat*(ghat@v)))"
   ]
  },
  {
   "cell_type": "code",
   "execution_count": 1566,
   "id": "a4bf79d6",
   "metadata": {},
   "outputs": [],
   "source": [
    "x = np.array([1.0, 2.0])\n",
    "v = np.array([3.0, 4.0])\n",
    "xv = np.concatenate((x, v))"
   ]
  },
  {
   "cell_type": "code",
   "execution_count": 1567,
   "id": "cd7a5362",
   "metadata": {},
   "outputs": [
    {
     "data": {
      "text/plain": [
       "(array([[1., 0., 5., 0.],\n",
       "        [0., 1., 0., 5.],\n",
       "        [0., 0., 1., 0.],\n",
       "        [0., 0., 0., 1.]]),\n",
       " 1.0)"
      ]
     },
     "execution_count": 1567,
     "metadata": {},
     "output_type": "execute_result"
    }
   ],
   "source": [
    "jacobian(move)(xv), np.linalg.det(jacobian(move)(xv))"
   ]
  },
  {
   "cell_type": "code",
   "execution_count": 1568,
   "id": "32d444b6",
   "metadata": {},
   "outputs": [
    {
     "data": {
      "text/plain": [
       "(array([[ 1.        ,  0.        ,  0.        ,  0.        ],\n",
       "        [ 0.        ,  1.        ,  0.        ,  0.        ],\n",
       "        [ 0.01637593, -0.00818797, -0.52830189, -0.8490566 ],\n",
       "        [-0.18796725,  0.09398362, -0.8490566 ,  0.52830189]]),\n",
       " -1.0)"
      ]
     },
     "execution_count": 1568,
     "metadata": {},
     "output_type": "execute_result"
    }
   ],
   "source": [
    "jacobian(reflect)(xv), np.linalg.det(jacobian(reflect)(xv))"
   ]
  },
  {
   "cell_type": "code",
   "execution_count": 1569,
   "id": "e58452dc",
   "metadata": {},
   "outputs": [],
   "source": [
    "g = - Sigma @ x"
   ]
  },
  {
   "cell_type": "code",
   "execution_count": 1570,
   "id": "1771dfdf",
   "metadata": {},
   "outputs": [],
   "source": [
    "ghat = g / np.linalg.norm(g)"
   ]
  },
  {
   "cell_type": "code",
   "execution_count": 1590,
   "id": "a3dd5c35",
   "metadata": {},
   "outputs": [],
   "source": [
    "JJ = (np.eye(2) - np.outer(ghat, ghat)) @ (-Sigma) / np.linalg.norm(g)"
   ]
  },
  {
   "cell_type": "code",
   "execution_count": 1645,
   "id": "2f6c095b",
   "metadata": {},
   "outputs": [
    {
     "data": {
      "text/plain": [
       "array([[ 0.03364187, -0.01682093],\n",
       "       [ 0.01868993, -0.00934496]])"
      ]
     },
     "execution_count": 1645,
     "metadata": {},
     "output_type": "execute_result"
    }
   ],
   "source": [
    "# amount left\n",
    "(jacobian(reflect)(xv)[2:, :2] + 2*JJ*(ghat @ v)) / (-2)"
   ]
  },
  {
   "cell_type": "code",
   "execution_count": null,
   "id": "03d9bc95",
   "metadata": {},
   "outputs": [],
   "source": []
  },
  {
   "cell_type": "code",
   "execution_count": 1651,
   "id": "2ad73ea3",
   "metadata": {},
   "outputs": [
    {
     "data": {
      "text/plain": [
       "array([[-0.00800997,  0.01441794],\n",
       "       [-0.00444998,  0.00800997]])"
      ]
     },
     "execution_count": 1651,
     "metadata": {},
     "output_type": "execute_result"
    }
   ],
   "source": [
    "np.outer(ghat, JJ @ v)"
   ]
  },
  {
   "cell_type": "code",
   "execution_count": 1665,
   "id": "c35b8293",
   "metadata": {},
   "outputs": [
    {
     "data": {
      "text/plain": [
       "array([ 0.00916307, -0.01649353])"
      ]
     },
     "execution_count": 1665,
     "metadata": {},
     "output_type": "execute_result"
    }
   ],
   "source": [
    "JJ @ v"
   ]
  },
  {
   "cell_type": "code",
   "execution_count": null,
   "id": "edad6928",
   "metadata": {},
   "outputs": [],
   "source": []
  },
  {
   "cell_type": "code",
   "execution_count": 1621,
   "id": "6cfdb4e1",
   "metadata": {},
   "outputs": [
    {
     "data": {
      "text/plain": [
       "array([[ 0.08365967, -0.04182983],\n",
       "       [-0.1505874 ,  0.0752937 ]])"
      ]
     },
     "execution_count": 1621,
     "metadata": {},
     "output_type": "execute_result"
    }
   ],
   "source": []
  },
  {
   "cell_type": "code",
   "execution_count": 1625,
   "id": "97e16c5b",
   "metadata": {},
   "outputs": [
    {
     "data": {
      "text/plain": [
       "array([[ 0.01601994, -0.02883588],\n",
       "       [ 0.00889996, -0.01601994]])"
      ]
     },
     "execution_count": 1625,
     "metadata": {},
     "output_type": "execute_result"
    }
   ],
   "source": [
    "-2 * np.outer(ghat, JJ @ v)"
   ]
  },
  {
   "cell_type": "code",
   "execution_count": 1647,
   "id": "901dff81",
   "metadata": {},
   "outputs": [
    {
     "data": {
      "text/plain": [
       "array([[ 0.08365967, -0.04182983],\n",
       "       [-0.1505874 ,  0.0752937 ]])"
      ]
     },
     "execution_count": 1647,
     "metadata": {},
     "output_type": "execute_result"
    }
   ],
   "source": [
    "-2 * (JJ*(ghat@v))"
   ]
  },
  {
   "cell_type": "code",
   "execution_count": 1638,
   "id": "6893592c",
   "metadata": {},
   "outputs": [
    {
     "data": {
      "text/plain": [
       "array([[-0.00800997, -0.00444998],\n",
       "       [ 0.01441794,  0.00800997]])"
      ]
     },
     "execution_count": 1638,
     "metadata": {},
     "output_type": "execute_result"
    }
   ],
   "source": [
    "np.outer(JJ@v, ghat)"
   ]
  },
  {
   "cell_type": "code",
   "execution_count": 1639,
   "id": "d8d2bca5",
   "metadata": {},
   "outputs": [
    {
     "data": {
      "text/plain": [
       "array([[-0.00800997,  0.01441794],\n",
       "       [-0.00444998,  0.00800997]])"
      ]
     },
     "execution_count": 1639,
     "metadata": {},
     "output_type": "execute_result"
    }
   ],
   "source": [
    "np.outer(ghat, JJ@v)"
   ]
  },
  {
   "cell_type": "code",
   "execution_count": 1606,
   "id": "6dc00fb0",
   "metadata": {},
   "outputs": [],
   "source": [
    "def g_hat(x):\n",
    "    g = -Sigma @ x\n",
    "    ghat = g / np.linalg.norm(g)\n",
    "    return ghat"
   ]
  },
  {
   "cell_type": "code",
   "execution_count": 1607,
   "id": "c84f59d2",
   "metadata": {},
   "outputs": [
    {
     "data": {
      "text/plain": [
       "array([[ 0.00916307, -0.00458154],\n",
       "       [-0.01649353,  0.00824677]])"
      ]
     },
     "execution_count": 1607,
     "metadata": {},
     "output_type": "execute_result"
    }
   ],
   "source": [
    "jacobian(g_hat)(x)"
   ]
  },
  {
   "cell_type": "code",
   "execution_count": 1969,
   "id": "5ed12ede",
   "metadata": {},
   "outputs": [],
   "source": [
    "alpha = 0.99\n",
    "\n",
    "def negate(xv):\n",
    "    n = int(len(xv) / 2)\n",
    "    x, v = xv[:n], xv[n:]\n",
    "    return np.concatenate((x, -v))\n",
    "\n",
    "def squeeze(xv):\n",
    "    n = int(len(xv) / 2)\n",
    "    x, v = xv[:n], xv[n:]\n",
    "    g = -Sigma @ x\n",
    "    ghat = g / np.linalg.norm(g)\n",
    "    return np.concatenate((x, v - alpha * ghat * (ghat @ v)))\n",
    "\n",
    "def unsqueeze(xv):\n",
    "    n = int(len(xv) / 2)\n",
    "    x, v = xv[:n], xv[n:]\n",
    "    g = -Sigma @ x\n",
    "    ghat = g / np.linalg.norm(g)\n",
    "    return np.concatenate((x, v + (alpha/(1-alpha)) * ghat * (ghat @ v)))\n",
    "\n",
    "\n",
    "def rotate(xv):    \n",
    "    n = int(len(xv) / 2)\n",
    "    x, v = xv[:n], xv[n:]\n",
    "    g = -Sigma @ x\n",
    "    ghat = g / np.linalg.norm(g)\n",
    "    s = v - alpha * ghat * (ghat @ v)\n",
    "    return np.concatenate((x, s * np.linalg.norm(v) / np.linalg.norm(s)))\n",
    "\n",
    "def unrotate(xv):    \n",
    "    n = int(len(xv) / 2)\n",
    "    x, v = xv[:n], xv[n:]\n",
    "    g = -Sigma @ x\n",
    "    ghat = g / np.linalg.norm(g)\n",
    "    s = v + (alpha / (1 - alpha)) * ghat * (ghat @ v)\n",
    "    return np.concatenate((x, s * np.linalg.norm(v) / np.linalg.norm(s)))"
   ]
  },
  {
   "cell_type": "code",
   "execution_count": 1970,
   "id": "15e36556",
   "metadata": {},
   "outputs": [],
   "source": [
    "det_rotate = np.linalg.det(jacobian(rotate)(xv))\n",
    "det_unrotate = np.linalg.det(jacobian(unrotate)(xv))"
   ]
  },
  {
   "cell_type": "code",
   "execution_count": 1971,
   "id": "cf444635",
   "metadata": {},
   "outputs": [
    {
     "data": {
      "text/plain": [
       "array([1., 2., 3., 4.])"
      ]
     },
     "execution_count": 1971,
     "metadata": {},
     "output_type": "execute_result"
    }
   ],
   "source": [
    "## HUG involution works\n",
    "negate(move(reflect(move(negate(move(reflect(move(xv))))))))"
   ]
  },
  {
   "cell_type": "code",
   "execution_count": 1972,
   "id": "8ed16caf",
   "metadata": {},
   "outputs": [
    {
     "data": {
      "text/plain": [
       "array([1., 2., 3., 4.])"
      ]
     },
     "execution_count": 1972,
     "metadata": {},
     "output_type": "execute_result"
    }
   ],
   "source": [
    "## THUG involution works\n",
    "negate(unsqueeze(move(reflect(move(squeeze(negate(unsqueeze(move(reflect(move(squeeze(xv))))))))))))"
   ]
  },
  {
   "cell_type": "code",
   "execution_count": 1973,
   "id": "ebb18ee7",
   "metadata": {},
   "outputs": [
    {
     "data": {
      "text/plain": [
       "array([1., 2., 3., 4.])"
      ]
     },
     "execution_count": 1973,
     "metadata": {},
     "output_type": "execute_result"
    }
   ],
   "source": [
    "## RHUG involution works\n",
    "negate(unrotate(move(reflect(move(rotate(negate(unrotate(move(reflect(move(rotate(xv))))))))))))"
   ]
  },
  {
   "cell_type": "code",
   "execution_count": 1974,
   "id": "d769af05",
   "metadata": {},
   "outputs": [],
   "source": [
    "norm_v = np.linalg.norm(v)\n",
    "S = np.eye(2) - alpha * np.outer(ghat, ghat)\n",
    "Sv = S @ v\n",
    "norm_Sv = np.linalg.norm(Sv)\n",
    "Ssq = np.eye(2) + alpha * (alpha - 2) * np.outer(ghat, ghat)"
   ]
  },
  {
   "cell_type": "code",
   "execution_count": 1975,
   "id": "71cb60b0",
   "metadata": {},
   "outputs": [],
   "source": [
    "Q1 = (S/norm_Sv) @ (np.outer(v, v) / norm_v  - (norm_v * np.outer(v, v) @ Ssq / (norm_Sv**2)) + np.eye(2) * norm_v)"
   ]
  },
  {
   "cell_type": "code",
   "execution_count": 1976,
   "id": "698527b3",
   "metadata": {},
   "outputs": [],
   "source": [
    "A1 = np.outer(v, v) / norm_v + np.eye(2) * norm_v"
   ]
  },
  {
   "cell_type": "code",
   "execution_count": 1977,
   "id": "e0dee0cc",
   "metadata": {},
   "outputs": [
    {
     "data": {
      "text/plain": [
       "array([[ 0.164, -0.048],\n",
       "       [-0.048,  0.136]])"
      ]
     },
     "execution_count": 1977,
     "metadata": {},
     "output_type": "execute_result"
    }
   ],
   "source": [
    "np.linalg.inv(A1)"
   ]
  },
  {
   "cell_type": "code",
   "execution_count": 1978,
   "id": "4e2f6774",
   "metadata": {},
   "outputs": [
    {
     "data": {
      "text/plain": [
       "array([[ 0.164, -0.048],\n",
       "       [-0.048,  0.136]])"
      ]
     },
     "execution_count": 1978,
     "metadata": {},
     "output_type": "execute_result"
    }
   ],
   "source": [
    "(np.eye(2)/norm_v) - np.outer(v, v) / (2*norm_v**3)"
   ]
  },
  {
   "cell_type": "code",
   "execution_count": 1979,
   "id": "f25cae45",
   "metadata": {},
   "outputs": [],
   "source": [
    "A2 = A1 - (norm_v * np.outer(v, v) @ Ssq / (norm_Sv**2))"
   ]
  },
  {
   "cell_type": "code",
   "execution_count": 1980,
   "id": "230a1113",
   "metadata": {},
   "outputs": [],
   "source": [
    "A2 = np.outer(v, v) / norm_v  - (norm_v * np.outer(v, v) @ Ssq / (norm_Sv**2)) + np.eye(2) * norm_v"
   ]
  },
  {
   "cell_type": "code",
   "execution_count": 1981,
   "id": "247ae666",
   "metadata": {},
   "outputs": [
    {
     "data": {
      "text/plain": [
       "24.999999999999986"
      ]
     },
     "execution_count": 1981,
     "metadata": {},
     "output_type": "execute_result"
    }
   ],
   "source": [
    "np.linalg.det(A2)"
   ]
  },
  {
   "cell_type": "code",
   "execution_count": 1982,
   "id": "c1a275cf",
   "metadata": {},
   "outputs": [
    {
     "data": {
      "text/plain": [
       "24.999999999999993"
      ]
     },
     "execution_count": 1982,
     "metadata": {},
     "output_type": "execute_result"
    }
   ],
   "source": [
    "(2 - (v @ Ssq @ v / (norm_Sv**2))) * ((norm_v)**2)"
   ]
  },
  {
   "cell_type": "code",
   "execution_count": 1983,
   "id": "71db1839",
   "metadata": {},
   "outputs": [
    {
     "data": {
      "text/plain": [
       "1.0000000000000002"
      ]
     },
     "execution_count": 1983,
     "metadata": {},
     "output_type": "execute_result"
    }
   ],
   "source": [
    "v @ Ssq @ v / norm_Sv**2"
   ]
  },
  {
   "cell_type": "code",
   "execution_count": 1984,
   "id": "a79318e3",
   "metadata": {},
   "outputs": [],
   "source": [
    "def r_hug(xv):\n",
    "    return negate(unrotate(move(reflect(move(rotate(xv))))))"
   ]
  },
  {
   "cell_type": "code",
   "execution_count": 1985,
   "id": "c3793524",
   "metadata": {},
   "outputs": [
    {
     "data": {
      "text/plain": [
       "-0.0009080209486499176"
      ]
     },
     "execution_count": 1985,
     "metadata": {},
     "output_type": "execute_result"
    }
   ],
   "source": [
    "np.linalg.det(jacobian(r_hug)(xv))"
   ]
  },
  {
   "cell_type": "code",
   "execution_count": 1986,
   "id": "ea978ee1",
   "metadata": {},
   "outputs": [
    {
     "data": {
      "text/plain": [
       "0.060060618162014086"
      ]
     },
     "execution_count": 1986,
     "metadata": {},
     "output_type": "execute_result"
    }
   ],
   "source": [
    "np.linalg.det(Q1)"
   ]
  },
  {
   "cell_type": "code",
   "execution_count": 1987,
   "id": "9519fe6a",
   "metadata": {},
   "outputs": [
    {
     "data": {
      "text/plain": [
       "0.060060618162013676"
      ]
     },
     "execution_count": 1987,
     "metadata": {},
     "output_type": "execute_result"
    }
   ],
   "source": [
    "((norm_v**2 / norm_Sv**2)) * (1-alpha)"
   ]
  },
  {
   "cell_type": "code",
   "execution_count": 1988,
   "id": "14115816",
   "metadata": {},
   "outputs": [],
   "source": [
    "## I must take w, the reflected one for a proper jacobian!\n",
    "aaaaa = reflect(move(rotate(xv)))\n",
    "w = aaaaa[int(len(aaaaa) / 2):]\n",
    "x1 = move(aaaaa)[:int(len(aaaaa) / 2)]\n",
    "x1w = np.concatenate((x1, w))\n",
    "norm_w = np.linalg.norm(w)\n",
    "g1 = -Sigma @ x1\n",
    "g1hat = g1 / np.linalg.norm(g1)\n",
    "U = np.eye(2) + (alpha/(1-alpha)) * np.outer(g1hat, g1hat)\n",
    "Uw = U @ w\n",
    "norm_Uw = np.linalg.norm(Uw)\n",
    "Usq = np.eye(2) + (alpha * (2-alpha)/(1-alpha)**2) * np.outer(g1hat, g1hat)\n",
    "Q2 = (U/norm_Uw) @ (np.outer(w, w) / norm_w  - (norm_w * np.outer(w, w) @ Usq / (norm_Uw**2)) + np.eye(2) * norm_w)"
   ]
  },
  {
   "cell_type": "code",
   "execution_count": 1989,
   "id": "ebc9a99a",
   "metadata": {},
   "outputs": [
    {
     "data": {
      "text/plain": [
       "0.015118408308750931"
      ]
     },
     "execution_count": 1989,
     "metadata": {},
     "output_type": "execute_result"
    }
   ],
   "source": [
    "np.linalg.det(Q2)"
   ]
  },
  {
   "cell_type": "code",
   "execution_count": 1990,
   "id": "27400388",
   "metadata": {},
   "outputs": [
    {
     "data": {
      "text/plain": [
       "0.015118408308750943"
      ]
     },
     "execution_count": 1990,
     "metadata": {},
     "output_type": "execute_result"
    }
   ],
   "source": [
    "((norm_w**2 / norm_Uw**2)) * (1 / (1-alpha))"
   ]
  },
  {
   "cell_type": "code",
   "execution_count": 1991,
   "id": "df272c85",
   "metadata": {},
   "outputs": [
    {
     "data": {
      "text/plain": [
       "array([[ 2.49800181e-16, -1.11022302e-16],\n",
       "       [ 2.22044605e-16, -7.77156117e-16]])"
      ]
     },
     "execution_count": 1991,
     "metadata": {},
     "output_type": "execute_result"
    }
   ],
   "source": [
    "Q1 - jacobian(rotate)(xv)[2:, 2:]   # correct!"
   ]
  },
  {
   "cell_type": "code",
   "execution_count": 1992,
   "id": "6f2f4369",
   "metadata": {},
   "outputs": [
    {
     "data": {
      "text/plain": [
       "array([[-1.11022302e-16, -1.52655666e-16],\n",
       "       [ 0.00000000e+00, -8.15320034e-17]])"
      ]
     },
     "execution_count": 1992,
     "metadata": {},
     "output_type": "execute_result"
    }
   ],
   "source": [
    "Q2 - jacobian(unrotate)(x1w)[2:, 2:]  # correct!"
   ]
  },
  {
   "cell_type": "code",
   "execution_count": 1993,
   "id": "9a64d779",
   "metadata": {},
   "outputs": [
    {
     "data": {
      "text/plain": [
       "-6.063942750711426e-16"
      ]
     },
     "execution_count": 1993,
     "metadata": {},
     "output_type": "execute_result"
    }
   ],
   "source": [
    "abs(np.linalg.det(Q1 @ Q2)) - abs(np.linalg.det(jacobian(r_hug)(xv)))  ## Perfect!"
   ]
  },
  {
   "cell_type": "code",
   "execution_count": 1994,
   "id": "0603c082",
   "metadata": {},
   "outputs": [
    {
     "data": {
      "text/plain": [
       "6.123573870198129e-16"
      ]
     },
     "execution_count": 1994,
     "metadata": {},
     "output_type": "execute_result"
    }
   ],
   "source": [
    "abs(np.linalg.det(jacobian(r_hug)(xv)))  - (norm_v**4) / ((norm_Sv**2) * (norm_Uw**2))  ## Perfect!!"
   ]
  },
  {
   "cell_type": "code",
   "execution_count": 1995,
   "id": "8633ff16",
   "metadata": {},
   "outputs": [
    {
     "data": {
      "text/plain": [
       "0.0009080209486499176"
      ]
     },
     "execution_count": 1995,
     "metadata": {},
     "output_type": "execute_result"
    }
   ],
   "source": [
    "abs(np.linalg.det(jacobian(r_hug)(xv)))"
   ]
  },
  {
   "cell_type": "code",
   "execution_count": null,
   "id": "644ec3e8",
   "metadata": {},
   "outputs": [],
   "source": []
  },
  {
   "cell_type": "code",
   "execution_count": null,
   "id": "c5ee67f9",
   "metadata": {},
   "outputs": [],
   "source": []
  },
  {
   "cell_type": "code",
   "execution_count": null,
   "id": "2d4b73b6",
   "metadata": {},
   "outputs": [],
   "source": []
  },
  {
   "cell_type": "code",
   "execution_count": 1799,
   "id": "b2a0c3d3",
   "metadata": {},
   "outputs": [
    {
     "data": {
      "text/plain": [
       "1.0693676607078"
      ]
     },
     "execution_count": 1799,
     "metadata": {},
     "output_type": "execute_result"
    }
   ],
   "source": [
    "det_rotate"
   ]
  },
  {
   "cell_type": "code",
   "execution_count": 1800,
   "id": "d9f7bf5f",
   "metadata": {},
   "outputs": [
    {
     "data": {
      "text/plain": [
       "1.0693676607078004"
      ]
     },
     "execution_count": 1800,
     "metadata": {},
     "output_type": "execute_result"
    }
   ],
   "source": [
    "np.linalg.det(Q)"
   ]
  },
  {
   "cell_type": "code",
   "execution_count": 1801,
   "id": "795c3e25",
   "metadata": {},
   "outputs": [
    {
     "data": {
      "text/plain": [
       "1.0693676607078"
      ]
     },
     "execution_count": 1801,
     "metadata": {},
     "output_type": "execute_result"
    }
   ],
   "source": [
    "np.linalg.det(S * norm_v / norm_Sv)"
   ]
  },
  {
   "cell_type": "code",
   "execution_count": 1802,
   "id": "bb4eb332",
   "metadata": {},
   "outputs": [
    {
     "data": {
      "text/plain": [
       "1.0693676607078002"
      ]
     },
     "execution_count": 1802,
     "metadata": {},
     "output_type": "execute_result"
    }
   ],
   "source": [
    "(1 - alpha) * (norm_v / norm_Sv)**2"
   ]
  },
  {
   "cell_type": "code",
   "execution_count": 1811,
   "id": "d08d5828",
   "metadata": {},
   "outputs": [
    {
     "data": {
      "text/plain": [
       "0.042774706428312013"
      ]
     },
     "execution_count": 1811,
     "metadata": {},
     "output_type": "execute_result"
    }
   ],
   "source": [
    "(1-alpha)/(norm_Sv**2)"
   ]
  },
  {
   "cell_type": "code",
   "execution_count": null,
   "id": "fb8c9ca5",
   "metadata": {},
   "outputs": [],
   "source": []
  },
  {
   "cell_type": "code",
   "execution_count": null,
   "id": "ae03e0ee",
   "metadata": {},
   "outputs": [],
   "source": []
  },
  {
   "cell_type": "code",
   "execution_count": 1747,
   "id": "d24f7bb5",
   "metadata": {},
   "outputs": [
    {
     "data": {
      "text/plain": [
       "array([[ 1.        ,  0.        ,  0.        ,  0.        ],\n",
       "       [ 0.        ,  1.        ,  0.        ,  0.        ],\n",
       "       [ 0.02976424, -0.01488212,  1.20501435, -0.49348354],\n",
       "       [-0.01034222,  0.00517111,  0.21648095,  1.01839015]])"
      ]
     },
     "execution_count": 1747,
     "metadata": {},
     "output_type": "execute_result"
    }
   ],
   "source": [
    "jacobian(rotate)(xv)"
   ]
  },
  {
   "cell_type": "code",
   "execution_count": 1672,
   "id": "08b6d7c5",
   "metadata": {},
   "outputs": [
    {
     "data": {
      "text/plain": [
       "1.3340045305814239"
      ]
     },
     "execution_count": 1672,
     "metadata": {},
     "output_type": "execute_result"
    }
   ],
   "source": [
    "np.linalg.det(jacobian(rotate)(xv))"
   ]
  },
  {
   "cell_type": "code",
   "execution_count": 1681,
   "id": "6d9e1e0b",
   "metadata": {},
   "outputs": [],
   "source": [
    "S = np.eye(2) - alpha * np.outer(ghat, ghat)\n",
    "norm_v = np.linalg.norm(v)\n",
    "norm_Sv = np.linalg.norm(S @ v)"
   ]
  },
  {
   "cell_type": "code",
   "execution_count": 1680,
   "id": "020f09c9",
   "metadata": {},
   "outputs": [
    {
     "data": {
      "text/plain": [
       "0.9526136178478029"
      ]
     },
     "execution_count": 1680,
     "metadata": {},
     "output_type": "execute_result"
    }
   ],
   "source": [
    "v @ S @ v / (norm_v * norm_Sv)"
   ]
  },
  {
   "cell_type": "code",
   "execution_count": 1682,
   "id": "09edcdb9",
   "metadata": {},
   "outputs": [
    {
     "data": {
      "text/plain": [
       "array([[ 1.00932048, -0.34671314],\n",
       "       [-0.34671314,  1.44078572]])"
      ]
     },
     "execution_count": 1682,
     "metadata": {},
     "output_type": "execute_result"
    }
   ],
   "source": [
    "norm_v * (S / norm_Sv)"
   ]
  },
  {
   "cell_type": "code",
   "execution_count": null,
   "id": "04661666",
   "metadata": {},
   "outputs": [],
   "source": []
  },
  {
   "cell_type": "code",
   "execution_count": null,
   "id": "560d3a01",
   "metadata": {},
   "outputs": [],
   "source": []
  },
  {
   "cell_type": "code",
   "execution_count": null,
   "id": "8620370d",
   "metadata": {},
   "outputs": [],
   "source": []
  }
 ],
 "metadata": {
  "kernelspec": {
   "display_name": "Python 3 (ipykernel)",
   "language": "python",
   "name": "python3"
  },
  "language_info": {
   "codemirror_mode": {
    "name": "ipython",
    "version": 3
   },
   "file_extension": ".py",
   "mimetype": "text/x-python",
   "name": "python",
   "nbconvert_exporter": "python",
   "pygments_lexer": "ipython3",
   "version": "3.8.10"
  }
 },
 "nbformat": 4,
 "nbformat_minor": 5
}
