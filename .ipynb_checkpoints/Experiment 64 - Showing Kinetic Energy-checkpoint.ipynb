{
 "cells": [
  {
   "cell_type": "code",
   "execution_count": 1,
   "id": "374d173b",
   "metadata": {},
   "outputs": [],
   "source": [
    "import numpy as np\n",
    "from numpy import zeros, eye, diag, exp, log\n",
    "from numpy.linalg import norm, solve\n",
    "from numpy.random import randn, rand\n",
    "from scipy.stats import multivariate_normal as MVN\n",
    "from scipy.stats import uniform as udist\n",
    "from itertools import product\n",
    "\n",
    "import matplotlib.pyplot as plt\n",
    "from mpl_toolkits.axes_grid1 import ImageGrid\n",
    "\n",
    "from Manifolds.GeneralizedEllipse import GeneralizedEllipse\n",
    "from utils import prep_contour, generate_powers_of_ten"
   ]
  },
  {
   "cell_type": "code",
   "execution_count": 2,
   "id": "6b52a7f9",
   "metadata": {},
   "outputs": [],
   "source": [
    "import numpy as np\n",
    "from numpy import zeros, eye, diag, exp, log\n",
    "from numpy.linalg import norm, solve\n",
    "from numpy.random import randn, rand\n",
    "from scipy.stats import multivariate_normal as MVN\n",
    "from scipy.stats import uniform as udist\n",
    "from itertools import product\n",
    "\n",
    "import matplotlib.pyplot as plt\n",
    "from mpl_toolkits.axes_grid1 import ImageGrid\n",
    "\n",
    "from Manifolds.GeneralizedEllipse import GeneralizedEllipse\n",
    "from utils import prep_contour, generate_powers_of_ten"
   ]
  },
  {
   "cell_type": "code",
   "execution_count": 13,
   "id": "c79b4b01",
   "metadata": {},
   "outputs": [],
   "source": [
    "# Manifold\n",
    "μ       = zeros(2)\n",
    "Σ       = diag([1, 0.1])\n",
    "target  = MVN(μ, Σ)\n",
    "f = target.logpdf\n",
    "z0      = -2.9513586307684885                # Specifies exactly which ellipse we are interested in (y*).\n",
    "ellipse = GeneralizedEllipse(μ, Σ, exp(z0))\n",
    "\n",
    "# Gradient function\n",
    "grad  = lambda xi: -solve(Σ, xi - μ)\n",
    "q = MVN(zeros(2), eye(2))\n",
    "\n",
    "# Prior function is uniform on a huge square\n",
    "square_side = 10  # SQUARE SIDE\n",
    "logprior  = lambda xi: udist.logpdf(xi, loc=-square_side, scale=2*square_side).sum()"
   ]
  },
  {
   "cell_type": "code",
   "execution_count": 14,
   "id": "0dea8835",
   "metadata": {},
   "outputs": [],
   "source": [
    "def HugTangential(x0, δ, B, N, α, q, logpi, grad_log_pi):\n",
    "    \"\"\"\n",
    "    Repurposed version of THUG.\n",
    "    \"\"\"\n",
    "    # The following dictionary stores everything we need\n",
    "    OUT = {\n",
    "        'D' : {f\"{i}\": [] for i in range(N)}, # Distance\n",
    "        'SD': {f\"{i}\": [] for i in range(N)}, # Square Distance\n",
    "        'AR': [np.nan for i in range(N)],     # Acceptance Ratio\n",
    "        'KE': [np.nan for i in range(N)],     # Kinetic Energy\n",
    "        'SAMPLES': x0,\n",
    "        'ACCEPTANCES': np.zeros(N),\n",
    "        'EJSD': [np.nan for i in range(N)]    # Acceptance Ratio * Squared Distance\n",
    "    }\n",
    "    for i in range(N):\n",
    "        v0s = q.rvs()                    # Draw velocity spherically\n",
    "        g = grad_log_pi(x0)              # Compute gradient at x0\n",
    "        g = g / norm(g)                  # Normalize\n",
    "        v0 = v0s - α * g * (g @ v0s) # Tilt velocity\n",
    "        v, x = v0, x0                    # Housekeeping\n",
    "        logu = np.log(rand())            # Acceptance ratio\n",
    "        for _ in range(B):\n",
    "            xmid = x + δ*v/2           # Move to midpoint\n",
    "            g = grad_log_pi(xmid)          # Compute gradient at midpoint\n",
    "            ghat = g / norm(g)          # Normalize \n",
    "            v = v - 2*(v @ ghat) * ghat # Reflect velocity using midpoint gradient\n",
    "            x = xmid + δ*v/2           # Move from midpoint to end-point\n",
    "            # Compute metrics\n",
    "            OUT['D'][f\"{i}\"].append(norm(x - x0))\n",
    "            OUT['SD'][f\"{i}\"].append(norm(x  -x0)**2)\n",
    "\n",
    "        # Unsqueeze the velocity\n",
    "        g = grad_log_pi(x)\n",
    "        g = g / norm(g)\n",
    "        v = v + (α / (1 - α)) * g * (g @ v)\n",
    "        # In the acceptance ratio must use spherical velocities!! Hence v0s and the unsqueezed v\n",
    "        logar = logpi(x) + q.logpdf(v) - logpi(x0) - q.logpdf(v0s)\n",
    "        ar = exp(logar)\n",
    "        OUT['AR'][i] = ar\n",
    "        OUT['KE'][i] = norm(v)**2 - norm(v0s)**2\n",
    "        OUT['EJSD'][i] = ar * (norm(x - x0)**2)\n",
    "        if logu <= logar:\n",
    "            OUT['SAMPLES'] = np.vstack((OUT['SAMPLES'], x))\n",
    "            OUT['ACCEPTANCES'][i] = 1         # Accepted!\n",
    "            x0 = x\n",
    "        else:\n",
    "            OUT['SAMPLES'] = np.vstack((OUT['SAMPLES'], x0))\n",
    "            OUT['ACCEPTANCES'][i] = 0         # Rejected\n",
    "    return OUT"
   ]
  },
  {
   "cell_type": "code",
   "execution_count": 15,
   "id": "ba59e72c",
   "metadata": {},
   "outputs": [],
   "source": [
    "# Settings\n",
    "# ϵ = 0.00001\n",
    "B = 20\n",
    "N = 5000\n",
    "n_grid = 30\n",
    "\n",
    "def generate_logpi(ϵ):\n",
    "    # Kernel\n",
    "    def logkernel(xi):\n",
    "        with np.errstate(divide='ignore'):\n",
    "            return log(float(norm(f(xi) - z0) < ϵ) / ϵ)\n",
    "    # Logpi\n",
    "    logpi = lambda xi: logprior(xi) + logkernel(xi)\n",
    "    return logpi"
   ]
  },
  {
   "cell_type": "code",
   "execution_count": 16,
   "id": "608ea8a2",
   "metadata": {},
   "outputs": [],
   "source": [
    "msd = lambda out: np.vstack([out['SD'][f\"{i}\"] for i in range(N)]).mean(axis=0)"
   ]
  },
  {
   "cell_type": "code",
   "execution_count": 17,
   "id": "c1522731",
   "metadata": {},
   "outputs": [],
   "source": [
    "def generate_output(ϵs, αs, δs):\n",
    "    OUTS = []\n",
    "    for ϵix, ϵ in enumerate(ϵs):\n",
    "        for αix, α in enumerate(αs):\n",
    "            for δix, δ in enumerate(δs):\n",
    "                x0 = ellipse.sample()\n",
    "                logpi = generate_logpi(ϵ)\n",
    "                OUTS.append(HugTangential(x0, δ, B, N, α, q, logpi, grad))\n",
    "    return OUTS"
   ]
  },
  {
   "cell_type": "code",
   "execution_count": 18,
   "id": "80088300",
   "metadata": {},
   "outputs": [],
   "source": [
    "n_grid = 20\n",
    "ϵs = np.array([0.1, 0.01, 0.001, 0.0001, 0.00001])\n",
    "αs = np.linspace(0, 1, num=n_grid, endpoint=False)\n",
    "δs = np.geomspace(0.005, 1.0, num=n_grid, endpoint=True)"
   ]
  },
  {
   "cell_type": "code",
   "execution_count": 19,
   "id": "dc8442d7",
   "metadata": {},
   "outputs": [
    {
     "name": "stderr",
     "output_type": "stream",
     "text": [
      "/opt/anaconda3/envs/manifold-sampling/lib/python3.10/site-packages/scipy/optimize/_minpack_py.py:175: RuntimeWarning: The iteration is not making good progress, as measured by the \n",
      "  improvement from the last ten iterations.\n",
      "  warnings.warn(msg, RuntimeWarning)\n",
      "/var/folders/31/dthljx8x5mldm2ll5_zz7xrr0000gn/T/ipykernel_97906/227199414.py:37: RuntimeWarning: invalid value encountered in double_scalars\n",
      "  logar = logpi(x) + q.logpdf(v) - logpi(x0) - q.logpdf(v0s)\n"
     ]
    }
   ],
   "source": [
    "OUTS = generate_output(\n",
    "    ϵs = ϵs,\n",
    "    αs = αs,\n",
    "    δs = δs\n",
    ")"
   ]
  },
  {
   "cell_type": "code",
   "execution_count": 34,
   "id": "5dd4648b",
   "metadata": {},
   "outputs": [],
   "source": [
    "OUT_EJSD = np.zeros((len(ϵs), len(αs), len(δs)))\n",
    "OUT_KE = np.zeros((len(ϵs), len(αs), len(δs)))\n",
    "OUT_AR = np.zeros((len(ϵs), len(αs), len(δs)))\n",
    "# for ϵix, ϵ in enumerate(ϵs):\n",
    "#     for αix, α in enumerate(αs):\n",
    "#         for δix, δ in enumerate(δs):\n",
    "for i in range(len(OUTS)):\n",
    "    ix = np.unravel_index(i, (len(ϵs), len(αs), len(δs)))\n",
    "    OUT_EJSD[ix] = np.mean(OUTS[i]['EJSD'])\n",
    "    OUT_KE[ix] = np.mean(OUTS[i]['KE'])\n",
    "    OUT_AR[ix] = np.mean(OUTS[i]['AR'])"
   ]
  },
  {
   "cell_type": "code",
   "execution_count": 37,
   "id": "40fd5529",
   "metadata": {},
   "outputs": [
    {
     "data": {
      "image/png": "[encoded data removed]",
      "text/plain": [
       "<Figure size 1440x288 with 6 Axes>"
      ]
     },
     "metadata": {
      "needs_background": "light"
     },
     "output_type": "display_data"
    }
   ],
   "source": [
    "δ_grid, α_grid = np.meshgrid(δs, αs)\n",
    "normalize = lambda a: a / np.nanmax(a)\n",
    "fig, ax = plt.subplots(ncols=5, figsize=(20, 4), sharey=True, sharex=True)\n",
    "\n",
    "for i in range(5):\n",
    "    im = ax[i].pcolor(δ_grid, α_grid, normalize(OUT_KE[i, :, :]))\n",
    "    ax[i].set_xscale('log')\n",
    "\n",
    "fig.subplots_adjust(right=0.95)\n",
    "cbar_ax = fig.add_axes([0.98, 0.125, 0.01, 0.75])\n",
    "fig.colorbar(im, cax=cbar_ax)\n",
    "plt.show()"
   ]
  },
  {
   "cell_type": "markdown",
   "id": "0e92210f",
   "metadata": {},
   "source": [
    "# Only between 0.7 and 1.0"
   ]
  },
  {
   "cell_type": "code",
   "execution_count": 42,
   "id": "c51477f7",
   "metadata": {},
   "outputs": [
    {
     "name": "stderr",
     "output_type": "stream",
     "text": [
      "/opt/anaconda3/envs/manifold-sampling/lib/python3.10/site-packages/scipy/optimize/_minpack_py.py:175: RuntimeWarning: The iteration is not making good progress, as measured by the \n",
      "  improvement from the last ten iterations.\n",
      "  warnings.warn(msg, RuntimeWarning)\n",
      "/var/folders/31/dthljx8x5mldm2ll5_zz7xrr0000gn/T/ipykernel_97906/227199414.py:37: RuntimeWarning: invalid value encountered in double_scalars\n",
      "  logar = logpi(x) + q.logpdf(v) - logpi(x0) - q.logpdf(v0s)\n"
     ]
    }
   ],
   "source": [
    "n_grid_2 = 20\n",
    "ϵs_2 = np.array([0.1, 0.01, 0.001, 0.0001, 0.00001])\n",
    "αs_2 = np.linspace(0.7, 1, num=n_grid, endpoint=False)\n",
    "δs_2 = np.geomspace(0.005, 1.0, num=n_grid, endpoint=True)\n",
    "OUTS_2 = generate_output(\n",
    "    ϵs = ϵs_2,\n",
    "    αs = αs_2,\n",
    "    δs = δs_2\n",
    ")"
   ]
  },
  {
   "cell_type": "code",
   "execution_count": 44,
   "id": "8ec6ac37",
   "metadata": {},
   "outputs": [],
   "source": [
    "OUT_EJSD_2 = np.zeros((len(ϵs_2), len(αs_2), len(δs_2)))\n",
    "OUT_KE_2 = np.zeros((len(ϵs_2), len(αs_2), len(δs_2)))\n",
    "OUT_AR_2 = np.zeros((len(ϵs_2), len(αs_2), len(δs_2)))\n",
    "# for ϵix, ϵ in enumerate(ϵs):\n",
    "#     for αix, α in enumerate(αs):\n",
    "#         for δix, δ in enumerate(δs):\n",
    "for i in range(len(OUTS_2)):\n",
    "    ix = np.unravel_index(i, (len(ϵs_2), len(αs_2), len(δs_2)))\n",
    "    OUT_EJSD_2[ix] = np.mean(OUTS_2[i]['EJSD'])\n",
    "    OUT_KE_2[ix] = np.mean(OUTS_2[i]['KE'])\n",
    "    OUT_AR_2[ix] = np.mean(OUTS_2[i]['AR'])"
   ]
  },
  {
   "cell_type": "code",
   "execution_count": 48,
   "id": "d19e9827",
   "metadata": {},
   "outputs": [
    {
     "data": {
      "image/png": "[encoded data removed]",
      "text/plain": [
       "<Figure size 1440x288 with 6 Axes>"
      ]
     },
     "metadata": {
      "needs_background": "light"
     },
     "output_type": "display_data"
    }
   ],
   "source": [
    "δ_grid_2, α_grid_2 = np.meshgrid(δs_2, αs_2)\n",
    "normalize = lambda a: a / np.nanmax(a)\n",
    "fig, ax = plt.subplots(ncols=5, figsize=(20, 4), sharey=True, sharex=True)\n",
    "\n",
    "for i in range(5):\n",
    "    im = ax[i].pcolor(δ_grid_2, α_grid_2, OUT_KE_2[i, :, :])\n",
    "    ax[i].set_xscale('log')\n",
    "\n",
    "fig.subplots_adjust(right=0.95)\n",
    "cbar_ax = fig.add_axes([0.98, 0.125, 0.01, 0.75])\n",
    "fig.colorbar(im, cax=cbar_ax)\n",
    "plt.show()"
   ]
  },
  {
   "cell_type": "code",
   "execution_count": null,
   "id": "e8132274",
   "metadata": {},
   "outputs": [],
   "source": []
  }
 ],
 "metadata": {
  "kernelspec": {
   "display_name": "Python 3 (ipykernel)",
   "language": "python",
   "name": "python3"
  },
  "language_info": {
   "codemirror_mode": {
    "name": "ipython",
    "version": 3
   },
   "file_extension": ".py",
   "mimetype": "text/x-python",
   "name": "python",
   "nbconvert_exporter": "python",
   "pygments_lexer": "ipython3",
   "version": "3.10.4"
  }
 },
 "nbformat": 4,
 "nbformat_minor": 5
}
