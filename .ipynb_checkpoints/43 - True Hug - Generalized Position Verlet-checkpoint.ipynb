{
 "cells": [
  {
   "cell_type": "code",
   "execution_count": 154,
   "id": "76382627",
   "metadata": {},
   "outputs": [],
   "source": [
    "import autograd.numpy as anp\n",
    "from autograd.numpy import zeros, array, eye, errstate, log, exp\n",
    "from autograd.numpy.linalg import solve, norm, inv\n",
    "from scipy.stats import multivariate_normal as MVN\n",
    "from autograd import jacobian\n",
    "from scipy.optimize import fsolve\n",
    "import numpy as np\n",
    "from numpy.linalg import det\n",
    "\n",
    "from Manifolds.GeneralizedEllipse import GeneralizedEllipse\n",
    "from third_order_method import approx_hug_integrator\n",
    "\n",
    "import sympy "
   ]
  },
  {
   "cell_type": "markdown",
   "id": "72835152",
   "metadata": {},
   "source": [
    "# target"
   ]
  },
  {
   "cell_type": "code",
   "execution_count": 93,
   "id": "76cfbbf3",
   "metadata": {},
   "outputs": [],
   "source": [
    "# Manifold\n",
    "μ = zeros(2)\n",
    "Σ = array([[1.0, 0.9], [0.9, 2.0]])\n",
    "target = MVN(μ, Σ)\n",
    "f = lambda x: MVN(μ, Σ).logpdf(x)\n",
    "grad_f = lambda x: - solve(Σ, x - μ)\n",
    "hess_f = lambda x: - inv(Σ)\n",
    "normalize = lambda x: x / norm(x)\n",
    "z0 = log(0.01)\n",
    "ellipse = GeneralizedEllipse(μ, Σ, exp(z0))\n",
    "\n",
    "# Initial Settings\n",
    "x0 = ellipse.sample()\n",
    "q = MVN(zeros(2), eye(2))\n",
    "v0 = q.rvs()\n",
    "g0 = grad_f(x0)\n",
    "g0hat = normalize(g0)\n",
    "v0perp = normalize(v0 - (v0 @ g0hat * g0hat)) * norm(v0)\n",
    "\n",
    "# Posterior distribution\n",
    "logprior = lambda x: MVN(zeros(2), eye(2)).logpdf(x)\n",
    "def log_epanechnikov_kernel(xi, epsilon, f, z0):\n",
    "    u = abs(f(xi) - z0)\n",
    "    with errstate(divide='ignore'):\n",
    "        return log((3*(1 - (u**2 / (epsilon**2))) / (4*epsilon)) * float(u <= epsilon))\n",
    "logpost = lambda x: logprior(x) + log_epanechnikov_kernel(x, ϵ, f, z0)"
   ]
  },
  {
   "cell_type": "markdown",
   "id": "345159d4",
   "metadata": {},
   "source": [
    "# True Hug Integrator (GPV)"
   ]
  },
  {
   "cell_type": "code",
   "execution_count": 157,
   "id": "89a0fabb",
   "metadata": {},
   "outputs": [],
   "source": [
    "def are_linearly_independent(v1, v2):\n",
    "    matrix = np.vstack((v1, v2))\n",
    "    _, indexes = sympy.Matrix(matrix).T.rref() \n",
    "    if len(indexes) == 2:\n",
    "        print(\"linearly independant\")\n",
    "    else:\n",
    "        print(\"linearly dependant\")"
   ]
  },
  {
   "cell_type": "code",
   "execution_count": 139,
   "id": "cd688dbd",
   "metadata": {},
   "outputs": [],
   "source": [
    "def quadratic_formula(a, b, c):\n",
    "    solution_positive = (-b + anp.sqrt(b**2 - 4*a*c)) / (2*a)\n",
    "    solution_negative = (-b - anp.sqrt(b**2 - 4*a*c)) / (2*a)\n",
    "    return solution_negative"
   ]
  },
  {
   "cell_type": "code",
   "execution_count": 210,
   "id": "46b59a13",
   "metadata": {},
   "outputs": [],
   "source": [
    "def is_symmetric(integrator, x0v0):\n",
    "    x1v1 = integrator(x0v0)\n",
    "    x2v2 = np.concatenate((x1v1[:2], -x1v1[2:]))\n",
    "    x3v3 = integrator(x2v2)\n",
    "    return np.all(abs(np.concatenate((x3v3[:2], -x3v3[2:])) - x0v0) <= 1e-6)"
   ]
  },
  {
   "cell_type": "code",
   "execution_count": 168,
   "id": "e89b8cf4",
   "metadata": {},
   "outputs": [],
   "source": [
    "def gpv_hug_true_integrator3(xv):\n",
    "    x, v = xv[:2], xv[2:]\n",
    "    # half position step\n",
    "    x = x + δ*v/2\n",
    "    g = grad_f(x); gn = norm(g); ghat = g / gn;\n",
    "    H = hess_f(x)\n",
    "    a = v - ((δ/2)*(v@(H@v))*ghat/gn)\n",
    "    b = - (δ/2)*ghat/gn\n",
    "    p = a @ (H @ a)\n",
    "    q = b @ (H @ a)\n",
    "    r = b @ (H @ b)\n",
    "    λ = quadratic_formula(a=r, b=(2*q-1), c=p) #(-2*q + 1 - anp.sqrt((2*q - 1)**2 - 4*r*p)) / (2*r)\n",
    "    v = a + b*λ\n",
    "    x = x + δ * v / 2\n",
    "    return anp.concatenate((x, v))"
   ]
  },
  {
   "cell_type": "code",
   "execution_count": 218,
   "id": "20baf791",
   "metadata": {},
   "outputs": [],
   "source": [
    "from scipy.integrate import odeint, solve_ivp"
   ]
  },
  {
   "cell_type": "code",
   "execution_count": 230,
   "id": "36a38d32",
   "metadata": {},
   "outputs": [],
   "source": [
    "def solve_ivp_integrator(x0v0):\n",
    "    x1v1 = solve_ivp(derivative, (0.0, δ), x0v0).y[:, -1]\n",
    "    return x1v1"
   ]
  },
  {
   "cell_type": "code",
   "execution_count": 247,
   "id": "7f89a85c",
   "metadata": {},
   "outputs": [
    {
     "data": {
      "text/plain": [
       "array([0.        , 0.11111111, 0.22222222, 0.33333333, 0.44444444,\n",
       "       0.55555556, 0.66666667, 0.77777778, 0.88888889, 1.        ])"
      ]
     },
     "execution_count": 247,
     "metadata": {},
     "output_type": "execute_result"
    }
   ],
   "source": [
    "np.linspace(0.0, 10*δ, 10)"
   ]
  },
  {
   "cell_type": "code",
   "execution_count": null,
   "id": "637ee6ce",
   "metadata": {},
   "outputs": [],
   "source": [
    "solve_ivp(derivative, (0.0, δ), x0v0).y"
   ]
  },
  {
   "cell_type": "code",
   "execution_count": 220,
   "id": "2eaf7e5e",
   "metadata": {},
   "outputs": [],
   "source": [
    "def derivative(t, xv):\n",
    "    x, v = xv[:2], xv[2:]\n",
    "    return np.concatenate((v, -v @ (hess_f(x) @ v) * grad_f(x) / norm(grad_f(x))**2))"
   ]
  },
  {
   "cell_type": "code",
   "execution_count": 187,
   "id": "bb060fda",
   "metadata": {},
   "outputs": [],
   "source": [
    "x0v0 = anp.concatenate((ellipse.sample(), q.rvs()))\n",
    "δ = 0.1\n",
    "Jinv = array([[0,   0, 1, 0],\n",
    "              [0,   0, 0, 1],\n",
    "              [-1,  0, 0, 0],\n",
    "              [0,  -1, 0, 0]])\n",
    "Jϕ = jacobian(gpv_hug_true_integrator3)(x0v0)"
   ]
  },
  {
   "cell_type": "code",
   "execution_count": 188,
   "id": "3eb38752",
   "metadata": {},
   "outputs": [
    {
     "data": {
      "text/plain": [
       "0.762744417286637"
      ]
     },
     "execution_count": 188,
     "metadata": {},
     "output_type": "execute_result"
    }
   ],
   "source": [
    "det(Jϕ)"
   ]
  },
  {
   "cell_type": "code",
   "execution_count": 189,
   "id": "936071e0",
   "metadata": {},
   "outputs": [
    {
     "data": {
      "text/plain": [
       "array([[-0. ,  0.3,  0.9,  0.1],\n",
       "       [-0.3,  0. ,  0.3,  0.8],\n",
       "       [-0.9, -0.3, -0. , -0. ],\n",
       "       [-0.1, -0.8,  0. , -0. ]])"
      ]
     },
     "execution_count": 189,
     "metadata": {},
     "output_type": "execute_result"
    }
   ],
   "source": [
    "((Jϕ.T @ Jinv) @ Jϕ).round(1)"
   ]
  },
  {
   "cell_type": "code",
   "execution_count": 212,
   "id": "9030bc18",
   "metadata": {},
   "outputs": [
    {
     "data": {
      "text/plain": [
       "True"
      ]
     },
     "execution_count": 212,
     "metadata": {},
     "output_type": "execute_result"
    }
   ],
   "source": [
    "is_symmetric(gpv_hug_true_integrator3, x0v0)"
   ]
  },
  {
   "cell_type": "code",
   "execution_count": 235,
   "id": "bb7742f1",
   "metadata": {},
   "outputs": [],
   "source": [
    "def mse_integrator(integrator, N):\n",
    "    absolute_differences = []\n",
    "    mean_squared_error = 0.0\n",
    "    for i in range(N):\n",
    "        x0v0 = np.concatenate((ellipse.sample(), q.rvs()))\n",
    "        x1v1 = integrator(x0v0)\n",
    "        absolute_differences.append( abs(  f(x0v0[:2]) - f(x1v1[:2])  ) )\n",
    "        mean_squared_error += (f(x0v0[:2]) - f(x1v1[:2]))**2 / N\n",
    "    return np.mean(absolute_differences), mean_squared_error"
   ]
  },
  {
   "cell_type": "code",
   "execution_count": 237,
   "id": "f09298de",
   "metadata": {},
   "outputs": [
    {
     "data": {
      "text/plain": [
       "(0.20449180425319582, 0.07414982235070858)"
      ]
     },
     "execution_count": 237,
     "metadata": {},
     "output_type": "execute_result"
    }
   ],
   "source": [
    "mse_integrator(gpv_hug_true_integrator3, 100)"
   ]
  },
  {
   "cell_type": "code",
   "execution_count": 240,
   "id": "fc783991",
   "metadata": {},
   "outputs": [
    {
     "data": {
      "text/plain": [
       "(0.0014258932489684905, 5.964712984686008e-06)"
      ]
     },
     "execution_count": 240,
     "metadata": {},
     "output_type": "execute_result"
    }
   ],
   "source": [
    "mse_integrator(lambda xv: np.concatenate(approx_hug_integrator(xv[:2], xv[2:], δ, grad_f)), 100)"
   ]
  },
  {
   "cell_type": "code",
   "execution_count": 241,
   "id": "7e2d1c7e",
   "metadata": {},
   "outputs": [
    {
     "data": {
      "text/plain": [
       "(0.21179892072651996, 0.0823449124052227)"
      ]
     },
     "execution_count": 241,
     "metadata": {},
     "output_type": "execute_result"
    }
   ],
   "source": [
    "mse_integrator(solve_ivp_integrator, 100)"
   ]
  },
  {
   "cell_type": "code",
   "execution_count": 243,
   "id": "c371057a",
   "metadata": {},
   "outputs": [
    {
     "data": {
      "text/plain": [
       "array([-1.16592083, -3.3757553 ,  1.1826785 , -1.03954523])"
      ]
     },
     "execution_count": 243,
     "metadata": {},
     "output_type": "execute_result"
    }
   ],
   "source": [
    "solve_ivp_integrator(x0v0)"
   ]
  },
  {
   "cell_type": "code",
   "execution_count": 244,
   "id": "cf78f3f8",
   "metadata": {},
   "outputs": [
    {
     "data": {
      "text/plain": [
       "array([-1.16612547, -3.37682104,  1.18018535, -1.03962921])"
      ]
     },
     "execution_count": 244,
     "metadata": {},
     "output_type": "execute_result"
    }
   ],
   "source": [
    "gpv_hug_true_integrator3(x0v0)"
   ]
  },
  {
   "cell_type": "code",
   "execution_count": 246,
   "id": "99587aa6",
   "metadata": {},
   "outputs": [
    {
     "data": {
      "text/plain": [
       "(array([-1.20032115, -3.2366399 ]), array([0.49627183, 1.76399372]))"
      ]
     },
     "execution_count": 246,
     "metadata": {},
     "output_type": "execute_result"
    }
   ],
   "source": [
    "approx_hug_integrator(x0v0[:2], x0v0[2:], δ, grad_f)"
   ]
  },
  {
   "cell_type": "code",
   "execution_count": null,
   "id": "13fffebb",
   "metadata": {},
   "outputs": [],
   "source": []
  }
 ],
 "metadata": {
  "kernelspec": {
   "display_name": "Python 3 (ipykernel)",
   "language": "python",
   "name": "python3"
  },
  "language_info": {
   "codemirror_mode": {
    "name": "ipython",
    "version": 3
   },
   "file_extension": ".py",
   "mimetype": "text/x-python",
   "name": "python",
   "nbconvert_exporter": "python",
   "pygments_lexer": "ipython3",
   "version": "3.8.10"
  }
 },
 "nbformat": 4,
 "nbformat_minor": 5
}
