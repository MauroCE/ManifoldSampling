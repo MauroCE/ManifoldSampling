{
 "cells": [
  {
   "cell_type": "markdown",
   "id": "7ceb580f",
   "metadata": {},
   "source": [
    "# Markov Snippets THUG vs SMC-THUG on 2D Ellipse Example"
   ]
  },
  {
   "cell_type": "markdown",
   "id": "8db49f4a",
   "metadata": {},
   "source": [
    "### Problem Statement"
   ]
  },
  {
   "cell_type": "markdown",
   "id": "151ce056",
   "metadata": {},
   "source": [
    "Classic 2D ellipse example, $f(x) = \\log\\mathcal{N}(x\\mid 0, \\Sigma)$ where $\\Sigma = \\text{diag}(0.1, 1)$. We focus on a uniform prior on an ellipse, and use a uniform kernel leading to filamentary distributions of the type\n",
    "$$\n",
    "\\eta_{\\epsilon}(x) \\propto \\mathbb{I}(\\|f(x) - y\\| \\leq \\epsilon)\n",
    "$$"
   ]
  },
  {
   "cell_type": "markdown",
   "id": "8d2f2bb4",
   "metadata": {},
   "source": [
    "### Markov-Snippets THUG (version 1)"
   ]
  },
  {
   "cell_type": "markdown",
   "id": "6b77fe62",
   "metadata": {},
   "source": [
    "Version one corresponds to Algorithm 1 in the manuscript and, given $\\epsilon s = [\\epsilon_0, \\epsilon_1, \\ldots, \\epsilon_P]$, the number of bounces $B$, the number of particles $N$, and the step size $\\delta$, proceeds as follows. Below $\\psi(z)$ corresponds to using the THUG integrator with parameters $B$ and $\\delta$ using the gradient $\\nabla f$ and outputting the trajectory $\\psi(z_0) = [z_0, z_1, \\ldots, z_B]$.\n",
    "\n",
    "- **Initialization**\n",
    "    - Sample $x_0$ on the ellipse $\\mathcal{M}$ up to numerical accuracy using geometric arguments.\n",
    "    - Use RWM with step-size $\\delta$ to sample from $\\eta_{\\epsilon_0}$ starting from $x_0$. Use a burn-in (of $100$ in this case) and thinning (of $10$ in this case). This gives us samples $x_0^{(1:N)}$ from $\\eta_{\\epsilon_0}$.\n",
    "    - Sample velocities $v_0^{(1:N)}\\sim \\mathcal{N}(0, I)$.\n",
    "    - Form initial particles $z_0^{(i)} = (x_0^{(i)}, v_0^{(i)})$ for each $i=1, \\ldots, N$.\n",
    "- **Main Loop**:\n",
    "    - For each iteration $n=1, \\ldots, P$:\n",
    "        - Apply $\\psi$: $Z^{(i)}_{n-1} = \\psi(z_{n-1}^{(i)})$ this has dimension $(N, B + 1, 4)$.\n",
    "        - Compute weights (and normalize them)\n",
    "            $$\n",
    "            \\bar{w}_{n, k}^{(i)} = \\frac{\\eta_{\\epsilon_n}(\\psi^k(z_{n-1}^{(i)}))}{\\eta_{\\epsilon_{n-1}}(z_{n-1}^{(i)})} = \\mathbb{I}(\\|f(x_{n-1, k}^{(i)}) - y\\| \\leq \\epsilon_n)\n",
    "            $$\n",
    "        - Resample particles using (normalized) weights $\\bar{w}_{n, k}$\n",
    "        - Refresh velocities"
   ]
  },
  {
   "cell_type": "markdown",
   "id": "8fa15db5",
   "metadata": {},
   "source": [
    "### Markov-Snippets THUG (version 2)"
   ]
  },
  {
   "cell_type": "markdown",
   "id": "c45c9da0",
   "metadata": {},
   "source": [
    "This version is pretty much identical to Version 1. The only difference is that here we use $\\tilde{\\psi}(z)$ which again performs THUG with $B$ bounces with step size $\\delta$, however it only outputs the beginning and end of the trajectory, i.e. $\\tilde{\\psi}(z_0) = [z_0, z_B]$. The initialization is the samem, so we skip to the main loop.\n",
    "\n",
    "- **Main Loop**:\n",
    "    - For each iteration $n=1, \\ldots, P$:\n",
    "        - Apply $\\tilde{\\psi}$: $Z_{n-1}^{(i)} = \\tilde{\\psi}(z_{n-1}^{(i)})$. This has dimension $(N, 2, 4)$.\n",
    "        - Compute weights the same way as version 1.\n",
    "        - Resample particles using the weights.\n",
    "        - Refresh velocities."
   ]
  },
  {
   "cell_type": "markdown",
   "id": "cb37de62",
   "metadata": {},
   "source": [
    "### SMC-THUG"
   ]
  },
  {
   "cell_type": "markdown",
   "id": "b15940b9",
   "metadata": {},
   "source": [
    "This is pretty much a standard SMC sampler targeting the sequence of filamentary distributions. The initialization is the same as for the two algorithms above.\n",
    "\n",
    "\n",
    "- **Main Loop**:\n",
    "    - For each iteration $n = 1, \\ldots, P$:\n",
    "        - Refresh Velocities: $v_{n-1}^{(1:N)}\\sim \\mathcal{N}(0, I)$ and re-form particles $z_{n-1}^{(i)} = (x_{n-1}^{(i)}, v_{n-1}^{(i)})$.\n",
    "        - Run THUG sampler (not just the integrator, this has a Metropolis-Hastings step in it) with $B$ bounces and step size $\\delta$ for each of the starting particles and targeting $\\eta_{\\epsilon_{n-1}}$, thus obtaining $z_{n}^{(i)} = \\text{THUG}_{B, \\delta}(z_{n-1}^{(i)})$. Notice that here we do not output the whole trajectory, but we either output the initial point or the final point of the trajectory based on the MH step.\n",
    "        - Compute weights\n",
    "            $$\n",
    "            w_n^{(i)} \\propto \\frac{\\eta_{\\epsilon_n}(x_{n-1}^{(i)})\\varpi(v_{n-1}^{(i)})}{\\eta_{\\epsilon_{n-1}}(x_{n-1}^{(i)})\\varpi(v_{n-1}^{(i)})} \\propto \\frac{\\mathbb{I}(\\|f(x_{n-1}^{(i)}) - y\\| \\leq \\epsilon_n)}{\\mathbb{I}(\\|f(x_{n-1}^{(i)}) - y\\| \\leq \\epsilon_{n-1}} \\propto \\mathbb{I}(\\|f(x_{n-1}^{(i)}) - y\\| \\leq \\epsilon_n)\n",
    "            $$\n",
    "        - Resample particles using weights."
   ]
  },
  {
   "cell_type": "markdown",
   "id": "ed8ebe74",
   "metadata": {},
   "source": [
    "### Old comments"
   ]
  },
  {
   "cell_type": "markdown",
   "id": "9a08887d",
   "metadata": {},
   "source": [
    "- Aim: first attempt at coding the Markov Snippets SMC sampler with THUG mutation kernel, as described by Algorithm 1 in Christophe's notes. \n",
    "- Application: Here we apply it to the ellipse problem.\n",
    "- Important: here we focus on $\\alpha = 0$"
   ]
  },
  {
   "cell_type": "markdown",
   "id": "bd940d81",
   "metadata": {},
   "source": [
    "A simplified version of Algorithm 1 is basically this:\n",
    "\n",
    "- Initialize particles $z_0^{(1:N)}\\sim \\mu_0$.\n",
    "- For each iteration $n=1, \\ldots, P$: \n",
    "    1. Construct trajectories $z_{n-1, k}^{(1:N)}$ \n",
    "    2. Resample trajectory points down to $N$ particles using weights\n",
    "    $$\n",
    "    \\bar{w}_{n, k} = \\frac{\\mu_n(z_{n-1, k}^{(i)})}{\\mu_n(z_{n-1}^{(i)})}\n",
    "    $$\n",
    "    3. Rejuvenate velocities for the $N$ particles"
   ]
  },
  {
   "cell_type": "code",
   "execution_count": 134,
   "id": "10f9c0c5",
   "metadata": {},
   "outputs": [],
   "source": [
    "import numpy as np\n",
    "from numpy import zeros, eye, array, diag, exp\n",
    "from numpy.linalg import solve, norm\n",
    "from numpy.random import choice\n",
    "from scipy.stats import multivariate_normal as MVN\n",
    "import math\n",
    "import time\n",
    "\n",
    "import matplotlib.pyplot as plt\n",
    "from matplotlib import rc\n",
    "\n",
    "from Manifolds.GeneralizedEllipse import GeneralizedEllipse\n",
    "from utils import prep_contour\n",
    "from RWM import RWM\n",
    "from tangential_hug_functions import HugTangential"
   ]
  },
  {
   "cell_type": "markdown",
   "id": "3d258786",
   "metadata": {},
   "source": [
    "#### Settings for the Ellipse and Filamentary Distributions"
   ]
  },
  {
   "cell_type": "code",
   "execution_count": 151,
   "id": "59ae9014",
   "metadata": {},
   "outputs": [],
   "source": [
    "μ  = zeros(2)\n",
    "Σ  = diag(array([0.1, 1]))\n",
    "level_set_value = -2.9513586307684885\n",
    "ellipse = GeneralizedEllipse(μ, Σ, exp(level_set_value))\n",
    "πellipse = MVN(μ, Σ)\n",
    "f = πellipse.logpdf\n",
    "grad_f = lambda ξ: -solve(Σ, ξ - μ)\n",
    "\n",
    "def generate_ηϵ(ϵ):\n",
    "    \"\"\"Generates ηϵ with a uniform kernel.\"\"\"\n",
    "    def ηϵ(x):\n",
    "        if np.linalg.norm(f(x) - level_set_value) <= ϵ:\n",
    "            return 1.0\n",
    "        else: \n",
    "            return 0.0\n",
    "    return ηϵ\n",
    "\n",
    "def generate_logηϵ(ϵ):\n",
    "    \"\"\"As above, this is for the uniform kernel but this computes the log density.\"\"\"\n",
    "    def logηϵ(ξ):\n",
    "        with np.errstate(divide='ignore'):\n",
    "            return np.log(float(norm(f(ξ) - level_set_value) <= ϵ) / ϵ)\n",
    "    return logηϵ"
   ]
  },
  {
   "cell_type": "code",
   "execution_count": 152,
   "id": "74ea4265",
   "metadata": {},
   "outputs": [],
   "source": [
    "def find_bounding_box_for_ellipse(n):\n",
    "    \"\"\"Computes lots of samples of the ellipse to try and find a bounding box for it.\"\"\"\n",
    "    overall_minimum = 0.0\n",
    "    overall_maximum = 0.0\n",
    "    \n",
    "    for i in range(n):\n",
    "        point = ellipse.sample(advanced=True)\n",
    "        minimum, maximum = np.min(point), np.max(point)\n",
    "        if minimum < overall_minimum:\n",
    "            overall_minimum = minimum\n",
    "        if maximum > overall_maximum:\n",
    "            overall_maximum = maximum\n",
    "    \n",
    "    return overall_minimum, overall_maximum"
   ]
  },
  {
   "cell_type": "markdown",
   "id": "69806fbb",
   "metadata": {},
   "source": [
    "#### Settings for the THUG kernel"
   ]
  },
  {
   "cell_type": "code",
   "execution_count": 153,
   "id": "3982755b",
   "metadata": {},
   "outputs": [],
   "source": [
    "def THUGIntegratorUnivariate(z0, B, δ, grad):\n",
    "    \"\"\"THUG Integrator for the 2D example (ie using gradients, not jacobians).\"\"\"\n",
    "    trajectory = zeros((B + 1, len(z0)))\n",
    "    x0, v0 = z0[:len(z0)//2], z0[len(z0)//2:]\n",
    "    x, v = x0, v0\n",
    "    trajectory[0, :] = z0\n",
    "    # Integrate\n",
    "    for b in range(B):\n",
    "        x = x + δ*v/2\n",
    "        g = grad(x)\n",
    "        ghat = g / norm(g)\n",
    "        v = v - 2*ghat*(ghat@v)\n",
    "        x = x + δ*v/2\n",
    "        trajectory[b+1, :] = np.hstack((x, v))\n",
    "    return trajectory\n",
    "\n",
    "def generate_THUGIntegratorUnivariate(B, δ):\n",
    "    \"\"\"Returns a THUG integrator for a given B and δ.\"\"\"\n",
    "    grad = lambda ξ: -solve(Σ, ξ - μ) #ellipse.Q(ξ).T.flatten()\n",
    "    integrator = lambda z: THUGIntegratorUnivariate(z, B, δ, grad)\n",
    "    return integrator\n",
    "\n",
    "###############################\n",
    "#### this is for \\tilde{ψ}.\n",
    "###############################\n",
    "def THUGIntegratorUnivariateOnlyEnd(z0, B, δ, grad):\n",
    "    \"\"\"Similar to THUG integrator but one step does B bounces.\"\"\"\n",
    "    trajectory = zeros((2, len(z0)))\n",
    "    x0, v0 = z0[:len(z0)//2], z0[len(z0)//2:]\n",
    "    x, v = x0, v0\n",
    "    trajectory[0, :] = z0\n",
    "    # Integrate\n",
    "    for _ in range(B):\n",
    "        x = x + δ*v/2\n",
    "        g = grad(x)\n",
    "        ghat = g / norm(g)\n",
    "        v = v - 2*ghat*(ghat@v)\n",
    "        x = x + δ*v/2\n",
    "    trajectory[1, :] = np.hstack((x, v))\n",
    "    return trajectory\n",
    "\n",
    "def generate_THUGIntegratorUnivariateOnlyEnd(B, δ):\n",
    "    \"\"\"Returns a THUG integratorOnlyEnd for a given B and δ.\"\"\"\n",
    "    grad = lambda ξ: -solve(Σ, ξ - μ) #ellipse.Q(ξ).T.flatten()\n",
    "    integrator = lambda z: THUGIntegratorUnivariateOnlyEnd(z, B, δ, grad)\n",
    "    return integrator\n",
    "\n",
    "\n",
    "#### Metropolis-Hastings version for SMC version\n",
    "def THUG_MH(z0, B, δ, logpi):\n",
    "    \"\"\"Similar to THUGIntegratoUnivariateOnlyEnd but this uses a MH step.\"\"\"\n",
    "    grad = lambda ξ: -solve(Σ, ξ - μ)\n",
    "    x0, v0 = z0[:len(z0)//2], z0[len(z0)//2:]\n",
    "    x, v = x0, v0\n",
    "    logu = np.log(np.random.rand())\n",
    "    for _ in range(B):\n",
    "        x = x + δ*v/2\n",
    "        g = grad(x)\n",
    "        ghat = g / norm(g)\n",
    "        v = v - 2*ghat*(ghat@v)\n",
    "        x = x + δ*v/2\n",
    "    if logu <= logpi(x) - logpi(x0):\n",
    "        # accept new point\n",
    "        return np.concatenate((x, v))\n",
    "    else:\n",
    "        # accept old point\n",
    "        return z0"
   ]
  },
  {
   "cell_type": "markdown",
   "id": "c071c3ae",
   "metadata": {},
   "source": [
    "# Markov Snippets THUG (version 1)"
   ]
  },
  {
   "cell_type": "code",
   "execution_count": 244,
   "id": "32c03ae8",
   "metadata": {},
   "outputs": [],
   "source": [
    "class MarkovSnippetsTHUG:\n",
    "    \n",
    "    def __init__(self, N, B, δ, d, ϵs, onlyend=False):\n",
    "        \"\"\"Markov Snippets SMC samplers corresponding exactly to Algorithm 1 in Christophe's notes.\n",
    "        It uses the THUG kernel as its mutation kernel. The sequence of distributions is fixed here \n",
    "        since we provide ϵs, i.e. a list of tolerances which automatically fully specify the posterior \n",
    "        distributions used at each round.\n",
    "        \n",
    "        Parameters\n",
    "        ----------\n",
    "        \n",
    "        :param N: Number of particles\n",
    "        :type N:  int\n",
    "        \n",
    "        :param B: Number of bounces for the THUG integrator. Equivalent to `L` Leapfrog steps in HMC.\n",
    "        :type B: int\n",
    "        \n",
    "        :param δ: Step-size used at each bounce, for the THUG integrator.\n",
    "        :type δ: float\n",
    "        \n",
    "        :param d: Dimensionality of the `x` component of each particle, and equally dimensionality of \n",
    "                  `v` component of each particle. Therefore each particle has dimension `2d`.\n",
    "        \n",
    "        :param ϵs: Tolerances that fully specify the sequence of target filamentary distributions.\n",
    "        :type ϵs: iterable\n",
    "        \n",
    "        :param onlyend: If False, we just run MS-SMC with the THUG integrator as kernel. If True, the THUG \n",
    "                        integrator is pretty much the same, but it only outputs the initial and final point, \n",
    "                        as part of the trajectory. Inside the integrator, it still performs B bounces, but \n",
    "                        basically we are changing \\psi to \\tilde{\\psi} which performs B steps at once, and we \n",
    "                        run it only once.\n",
    "        :type onlyend: bool\n",
    "        \"\"\"\n",
    "        # Input variables\n",
    "        self.N  = N       \n",
    "        self.B  = B\n",
    "        self.δ  = δ\n",
    "        self.d  = d\n",
    "        self.ϵs = ϵs       \n",
    "        \n",
    "        # Variables derived from the above\n",
    "        self.P  = len(ϵs) - 1                                       # Number of target distributions\n",
    "        self.ϖ  = MVN(zeros(d), eye(d))                             # Distribution of the velocities\n",
    "        self.ηs = [generate_ηϵ(ϵ) for ϵ in ϵs]                      # List of filamentary distributions \n",
    "#         self.μs = [lambda z: ηϵ(z[:self.d]) for ηϵ in self.ηs]\n",
    "        if not onlyend:\n",
    "            self.ψ = generate_THUGIntegratorUnivariate(B, δ)\n",
    "        else:\n",
    "            self.ψ = generate_THUGIntegratorUnivariateOnlyEnd(B, δ)\n",
    "            self.B = 1\n",
    "    \n",
    "    def initialize_particles(self):\n",
    "        \"\"\"To initialize particles, we sample from a uniform on a large rectangle.\n",
    "        A rectangle of size [-100, 100] should be plenty large.\"\"\"\n",
    "        # Initialize first position on the manifold\n",
    "        x0 = ellipse.sample(advanced=True)\n",
    "        # Generate log-density for self.η[0]\n",
    "        logηϵ0 = generate_logηϵ(self.ϵs[0])\n",
    "        # Sample using RWM\n",
    "        burn_in = 100\n",
    "        TO_BE_THINNED, _ = RWM(x0, self.δ, burn_in + 10*self.N, logηϵ0)\n",
    "        # Thin the samples to obtain the particles\n",
    "        initialized_particles = TO_BE_THINNED[burn_in:][::10]\n",
    "        # Refresh velocities and form particles\n",
    "        v0 = np.random.normal(loc=0.0, scale=1.0, size=(self.N, self.d))\n",
    "        z0 = np.hstack((initialized_particles, v0))\n",
    "        self.starting_particles = z0\n",
    "        return z0\n",
    "        \n",
    "    def sample(self):\n",
    "        \"\"\"Starts the Markov Snippets sampler.\"\"\"\n",
    "        starting_time = time.time() \n",
    "        N = self.N\n",
    "        B = self.B\n",
    "        ## Storage\n",
    "        #### Store z_n^{(i)}\n",
    "        self.ZN  = np.zeros((self.P+1, N, 2*self.d))\n",
    "        #### Store z_{n, k}^{(i)} so basically all the N(T+1) particles\n",
    "        self.ZNK  = np.zeros((self.P, N*(B+1), 2*self.d))\n",
    "        self.Wbar = np.zeros((self.P, N*(B+1)))\n",
    "        self.ESS  = np.zeros((self.P))\n",
    "        self.K_RESAMPLED = zeros((self.P, self.N))\n",
    "        # Initialize particles\n",
    "        z = self.initialize_particles()   # (N, 2d)\n",
    "        self.ZN[0] = z\n",
    "        # For each target distribution, run the following loop\n",
    "        for n in range(1, self.P+1):\n",
    "            # Compute trajectories\n",
    "            Z = np.apply_along_axis(self.ψ, 1, z) # should have shape (N, B+1, 2d)\n",
    "            self.ZNK[n-1] = Z.reshape(N*(B+1), 2*self.d)\n",
    "            # Compute weights.\n",
    "            #### Denominator: shared for each point in the same trajectory\n",
    "            μnm1_z  = np.apply_along_axis(self.ηs[n-1], 1, Z[:, 0, :self.d])              # (N, )\n",
    "            μnm1_z  = np.repeat(μnm1_z, self.B+1, axis=0).reshape(N, B+1) # (N, B+1)\n",
    "            #### Numerator: different for each point on a trajectory.\n",
    "            μn_ψk_z = np.apply_along_axis(self.ηs[n], 2, Z[:, :, :self.d])                         # (N, B+1)\n",
    "            #### Put weights together\n",
    "            W = μn_ψk_z / μnm1_z #np.exp(log_μn_ψk_z - log_μnm1_z)\n",
    "            #### Normalize weights\n",
    "            W = W / W.sum()\n",
    "            # store weights (remember these are \\bar{w})\n",
    "            self.Wbar[n-1] = W.flatten()\n",
    "            # compute ESS\n",
    "            self.ESS[n-1] = 1 / np.sum(W**2)\n",
    "            # Resample down to N particles\n",
    "            resampling_indeces = choice(a=np.arange(N*(B+1)), size=N, p=W.flatten())\n",
    "            unravelled_indeces = np.unravel_index(resampling_indeces, (N, B+1))\n",
    "            self.K_RESAMPLED[n-1] = unravelled_indeces[1]\n",
    "            indeces = np.dstack(unravelled_indeces).squeeze()\n",
    "            z = np.vstack([Z[tuple(ix)] for ix in indeces])     # (N, 2d)\n",
    "            \n",
    "            # Rejuvenate velocities of N particles\n",
    "            z[:, self.d:] = np.random.normal(loc=0.0, scale=1.0, size=(N, self.d))\n",
    "            self.ZN[n] = z\n",
    "        self.total_time = time.time() - starting_time\n",
    "        return z"
   ]
  },
  {
   "cell_type": "code",
   "execution_count": 245,
   "id": "07e1e710",
   "metadata": {},
   "outputs": [],
   "source": [
    "# At this point, doesn't really matter which ϵs we use.\n",
    "ϵs = np.geomspace(start=10, stop=0.001, num=20)\n",
    "B = 50\n",
    "δ = 0.1\n",
    "N  = 5000\n",
    "# Instantitate the algorithm\n",
    "MSTHUG = MarkovSnippetsTHUG(N=N, B=B, δ=δ, d=2, ϵs=ϵs)"
   ]
  },
  {
   "cell_type": "code",
   "execution_count": 246,
   "id": "f345f1ba",
   "metadata": {},
   "outputs": [],
   "source": [
    "# Sample\n",
    "zP = MSTHUG.sample()"
   ]
  },
  {
   "cell_type": "markdown",
   "id": "8d3a3b90",
   "metadata": {},
   "source": [
    "# Markov Snippets THUG (version 2)"
   ]
  },
  {
   "cell_type": "code",
   "execution_count": 192,
   "id": "94d0038a",
   "metadata": {},
   "outputs": [],
   "source": [
    "# The aim now is to only output the end of the trajectory with ψ.\n",
    "MSTHUG_ONLYEND = MarkovSnippetsTHUG(N=N, B=B, δ=δ, d=2, ϵs=ϵs, onlyend=True)"
   ]
  },
  {
   "cell_type": "code",
   "execution_count": 193,
   "id": "a2dc5197",
   "metadata": {},
   "outputs": [],
   "source": [
    "zP_onlyend = MSTHUG_ONLYEND.sample()"
   ]
  },
  {
   "cell_type": "markdown",
   "id": "c38ebc2d",
   "metadata": {},
   "source": [
    "# SMC-THUG (or metropolised version)"
   ]
  },
  {
   "cell_type": "code",
   "execution_count": 194,
   "id": "b5b974c1",
   "metadata": {},
   "outputs": [],
   "source": [
    "class MarkovSnippetsTHUGMetropolised:\n",
    "    \n",
    "    def __init__(self, N, B, δ, d, ϵs):\n",
    "        \"\"\"Metropolised version: for each particle compute the endpoint of trajectory and its weight.\n",
    "        If the weight is positive, we accept the final point, otherwise we accept the initial point. \n",
    "        \n",
    "        Parameters\n",
    "        ----------\n",
    "        \n",
    "        :param N: Number of particles\n",
    "        :type N:  int\n",
    "        \n",
    "        :param B: Number of bounces for the THUG integrator. Equivalent to `L` Leapfrog steps in HMC.\n",
    "        :type B: int\n",
    "        \n",
    "        :param δ: Step-size used at each bounce, for the THUG integrator.\n",
    "        :type δ: float\n",
    "        \n",
    "        :param d: Dimensionality of the `x` component of each particle, and equally dimensionality of \n",
    "                  `v` component of each particle. Therefore each particle has dimension `2d`.\n",
    "        \n",
    "        :param ϵs: Tolerances that fully specify the sequence of target filamentary distributions.\n",
    "        :type ϵs: iterable\n",
    "        \"\"\"\n",
    "        # Input variables\n",
    "        self.N  = N       \n",
    "        self.δ  = δ\n",
    "        self.d  = d\n",
    "        self.ϵs = ϵs       \n",
    "        \n",
    "        # Variables derived from the above\n",
    "        self.P  = len(ϵs) - 1                                       # Number of target distributions\n",
    "        self.ϖ  = MVN(zeros(d), eye(d))                             # Distribution of the velocities\n",
    "        self.ηs = [generate_ηϵ(ϵ) for ϵ in ϵs]                      # List of filamentary distributions \n",
    "        \n",
    "        self.B = B\n",
    "    \n",
    "    def initialize_particles(self):\n",
    "        \"\"\"To initialize particles, we sample from a uniform on a large rectangle.\n",
    "        A rectangle of size [-100, 100] should be plenty large.\"\"\"\n",
    "        # Initialize particles by sampling from η_ϵ0 for a large ϵ0 which can be given as an argument.\n",
    "        # Sample a point from the prior\n",
    "        x0 = ellipse.sample(advanced=True) #np.random.uniform(low=-5, high=5, size=(self.d))\n",
    "        # Use RWM starting from x0\n",
    "        logηϵ0 = generate_logηϵ(self.ϵs[0])\n",
    "        burn_in = 100\n",
    "        TO_BE_THINNED, _ = RWM(x0, self.δ, burn_in + 10*self.N, logηϵ0)\n",
    "        # Thin the samples to obtain the particles\n",
    "        initialized_particles = TO_BE_THINNED[burn_in:][::10]\n",
    "        v0 = np.random.normal(loc=0.0, scale=1.0, size=(self.N, self.d))\n",
    "        z0 = np.hstack((initialized_particles, v0))\n",
    "        self.starting_particles = z0\n",
    "        return z0\n",
    "        \n",
    "    def sample(self):\n",
    "        \"\"\"Starts the Markov Snippets sampler.\"\"\"\n",
    "        starting_time = time.time()\n",
    "        # Initialize particles\n",
    "        z = self.initialize_particles()   # (N, 2d)\n",
    "        # Storage\n",
    "        self.PARTICLES    = zeros((self.P+1, self.N, 2*self.d))\n",
    "        self.PARTICLES[0] = z\n",
    "        self.WEIGHTS      = zeros((self.P+1, self.N))\n",
    "        self.WEIGHTS[0]   = 1 / self.N\n",
    "        self.ESS          = zeros(self.P+1)\n",
    "        self.ESS[0]       = 1 / np.sum(self.WEIGHTS[0]**2)\n",
    "        # For each target distribution, run the following loop\n",
    "        for n in range(1, self.P+1):\n",
    "            # Standard SMC sampler, we mutate the particles and then we resample\n",
    "            ### Mutation step: \n",
    "            ###### Refresh velocities\n",
    "            z[:, self.d:] = np.random.normal(loc=0.0, scale=1.0, size=(self.N, self.d))\n",
    "            ###### Mutate positions \n",
    "            M = lambda z: THUG_MH(z, B, self.δ, self.ηs[n-1])\n",
    "            Z = np.apply_along_axis(M, 1, z)\n",
    "            ### Compute weights\n",
    "            w = (abs(np.apply_along_axis(f, 1, Z[:, :2]) - level_set_value) <= self.ϵs[n]).astype(float)\n",
    "            w = w / w.sum()\n",
    "            self.WEIGHTS[n] = w\n",
    "            self.ESS[n]     = 1 / np.sum(w**2)\n",
    "            ### Resample\n",
    "            indeces = choice(a=np.arange(self.N), size=self.N, p=w)\n",
    "            z = z[indeces, :]\n",
    "            self.PARTICLES[n] = z\n",
    "        self.total_time = time.time() - starting_time\n",
    "        return z"
   ]
  },
  {
   "cell_type": "code",
   "execution_count": 195,
   "id": "6984f5bc",
   "metadata": {
    "scrolled": true
   },
   "outputs": [],
   "source": [
    "MSTHUG_METROP = MarkovSnippetsTHUGMetropolised(N=N, B=B, δ=δ, d=2, ϵs=ϵs)\n",
    "zP_metrop = MSTHUG_METROP.sample()"
   ]
  },
  {
   "cell_type": "markdown",
   "id": "f44340d0",
   "metadata": {},
   "source": [
    "### Compare times"
   ]
  },
  {
   "cell_type": "code",
   "execution_count": 196,
   "id": "46401fd1",
   "metadata": {},
   "outputs": [
    {
     "name": "stdout",
     "output_type": "stream",
     "text": [
      "Markov Snippets Full Trajectory: 139.55s\n",
      "Markov Snippets End Only:        79.60s\n",
      "SMC-THUG (Metropolised version): 78.45s\n"
     ]
    }
   ],
   "source": [
    "print(\"Markov Snippets Full Trajectory: {:.2f}s\".format(MSTHUG.total_time))\n",
    "print(\"Markov Snippets End Only:        {:.2f}s\".format(MSTHUG_ONLYEND.total_time))\n",
    "print(\"SMC-THUG (Metropolised version): {:.2f}s\".format(MSTHUG_METROP.total_time))"
   ]
  },
  {
   "cell_type": "markdown",
   "id": "c1f68e2f",
   "metadata": {},
   "source": [
    "### Plot histograms together"
   ]
  },
  {
   "cell_type": "code",
   "execution_count": 197,
   "id": "d7e6f9b7",
   "metadata": {},
   "outputs": [
    {
     "data": {
      "image/png": "[encoded data removed]",
      "text/plain": [
       "<Figure size 864x648 with 9 Axes>"
      ]
     },
     "metadata": {
      "needs_background": "light"
     },
     "output_type": "display_data"
    }
   ],
   "source": [
    "# Plot settings\n",
    "compute_arctan = lambda point: math.atan2(*point[::-1])\n",
    "rc('font',**{'family':'STIXGeneral'})\n",
    "\n",
    "# Plot\n",
    "fig, ax = plt.subplots(ncols=3, nrows=3, figsize=(12, 9), sharex=True)\n",
    "\n",
    "SNAPSHOTS = [0, len(ϵs)//2 , -1]\n",
    "\n",
    "# Markov Snippets - Full Trajectory (Version 1)\n",
    "for i in range(3):\n",
    "    _ = ax[0, i].hist(np.apply_along_axis(compute_arctan, 1, MSTHUG.ZNK[SNAPSHOTS[i], :, :2]), bins=30, density=True, weights=MSTHUG.Wbar[SNAPSHOTS[i]])\n",
    "    ax[0, i].set_xticks([-math.pi, 0, math.pi])\n",
    "    ax[0, i].set_xticklabels([r'$-\\mathregular{\\pi}$', r'$0$', r'$\\mathregular{\\pi}$'], fontsize=15)\n",
    "    ax[0, i].set_title(r'$\\mathregular{\\epsilon}=$' + '{}'.format(ϵs[SNAPSHOTS[i]]))\n",
    "    \n",
    "# Markov Snippets - End-Only (Version 2)\n",
    "for i in range(3):\n",
    "    _ = ax[1, i].hist(np.apply_along_axis(compute_arctan, 1, MSTHUG_ONLYEND.ZNK[SNAPSHOTS[i], :, :2]), bins=30, density=True, weights=MSTHUG_ONLYEND.Wbar[SNAPSHOTS[i]])\n",
    "    ax[1, i].set_xticks([-math.pi, 0, math.pi])\n",
    "    ax[1, i].set_xticklabels([r'$-\\mathregular{\\pi}$', r'$0$', r'$\\mathregular{\\pi}$'], fontsize=15)\n",
    "    \n",
    "# SMC-THUG (Metropolised Version)\n",
    "for i in range(3):\n",
    "    _ = ax[2, i].hist(np.apply_along_axis(compute_arctan, 1, MSTHUG_METROP.PARTICLES[SNAPSHOTS[i], :, :2]), bins=30, density=True, weights=MSTHUG_METROP.WEIGHTS[SNAPSHOTS[i]])\n",
    "    ax[2, i].set_xticks([-math.pi, 0, math.pi])\n",
    "    ax[2, i].set_xticklabels([r'$-\\mathregular{\\pi}$', r'$0$', r'$\\mathregular{\\pi}$'], fontsize=15)"
   ]
  },
  {
   "cell_type": "code",
   "execution_count": 198,
   "id": "41af8ef2",
   "metadata": {},
   "outputs": [
    {
     "name": "stdout",
     "output_type": "stream",
     "text": [
      "(Number of particles with non-zero weight for ϵ_P) / total sampling time: \n",
      "MSv1: 630.9\n",
      "MSv2: 108.2\n",
      "SMC : 75.7\n"
     ]
    }
   ],
   "source": [
    "print(\"(Number of particles with non-zero weight for ϵ_P) / total sampling time: \")\n",
    "print(\"MSv1: {:.1f}\".format(np.sum(MSTHUG.Wbar[-1] > 0) / MSTHUG.total_time))\n",
    "print(\"MSv2: {:.1f}\".format(np.sum(MSTHUG_ONLYEND.Wbar[-1] > 0) / MSTHUG_ONLYEND.total_time))\n",
    "print(\"SMC : {:.1f}\".format(np.sum(MSTHUG_METROP.WEIGHTS[-1] > 0) / MSTHUG_METROP.total_time))"
   ]
  },
  {
   "cell_type": "markdown",
   "id": "908f8287",
   "metadata": {},
   "source": [
    "### Computing Expectations"
   ]
  },
  {
   "cell_type": "markdown",
   "id": "8a0d0e5a",
   "metadata": {},
   "source": [
    "Unsure whether I should use `np.sum` or `np.mean`."
   ]
  },
  {
   "cell_type": "code",
   "execution_count": 199,
   "id": "8be61531",
   "metadata": {},
   "outputs": [],
   "source": [
    "# SMC-THUG: Mean Functional\n",
    "def smc_mean(MS):\n",
    "    W = MS.WEIGHTS[-1][..., None]\n",
    "    Z = MS.PARTICLES[-1, :, :2]\n",
    "    return np.sum(W*Z, axis=0)\n",
    "\n",
    "# Markov-Snippets: Mean functional\n",
    "def markov_snippets_mean(MS):\n",
    "    W = MS.Wbar[-1].reshape(N, MS.B+1)[..., None] # (N, B+1, 1)\n",
    "    Z = MS.ZNK[-1, :, :2].reshape(N, MS.B+1, 2)   # (N, B+1, 2)\n",
    "    return np.sum(np.sum(W*Z, axis=1), axis=0)    # (2, )"
   ]
  },
  {
   "cell_type": "code",
   "execution_count": 200,
   "id": "102c8dcf",
   "metadata": {},
   "outputs": [
    {
     "name": "stdout",
     "output_type": "stream",
     "text": [
      "Mean Functional\n",
      "MSv1: -5e-03 -4e-03\n",
      "MSv2: -4e-04 -5e-02\n",
      "SMC : 5e-01 -1e+00\n"
     ]
    }
   ],
   "source": [
    "print(\"Mean Functional\")\n",
    "print(\"MSv1: {:.0e} {:.0e}\".format(*markov_snippets_mean(MSTHUG)))\n",
    "print(\"MSv2: {:.0e} {:.0e}\".format(*markov_snippets_mean(MSTHUG_ONLYEND)))\n",
    "print(\"SMC : {:.0e} {:.0e}\".format(*smc_mean(MSTHUG_METROP)))"
   ]
  },
  {
   "cell_type": "markdown",
   "id": "7b8f7882",
   "metadata": {},
   "source": [
    "### Effective Sample Size"
   ]
  },
  {
   "cell_type": "code",
   "execution_count": 201,
   "id": "e5040c4c",
   "metadata": {},
   "outputs": [
    {
     "name": "stdout",
     "output_type": "stream",
     "text": [
      "ESS (final round)\n",
      "-----------------\n",
      "MSv1: 88047.0\n",
      "MSv2: 8616.0\n",
      "SMC : 5942.0\n",
      "\n",
      "\n",
      "ESS/t (final round)\n",
      "-----------------\n",
      "MSv1: 630.9\n",
      "MSv2: 108.2\n",
      "SMC : 75.7\n"
     ]
    }
   ],
   "source": [
    "print(\"ESS (final round)\")\n",
    "print(\"-----------------\")\n",
    "print(\"MSv1: {:.1f}\".format(MSTHUG.ESS[-1]))\n",
    "print(\"MSv2: {:.1f}\".format(MSTHUG_ONLYEND.ESS[-1]))\n",
    "print(\"SMC : {:.1f}\".format(MSTHUG_METROP.ESS[-1]))\n",
    "\n",
    "print(\"\\n\")\n",
    "\n",
    "print(\"ESS/t (final round)\")\n",
    "print(\"-----------------\")\n",
    "print(\"MSv1: {:.1f}\".format(MSTHUG.ESS[-1] / MSTHUG.total_time))\n",
    "print(\"MSv2: {:.1f}\".format(MSTHUG_ONLYEND.ESS[-1] / MSTHUG_ONLYEND.total_time))\n",
    "print(\"SMC : {:.1f}\".format(MSTHUG_METROP.ESS[-1] / MSTHUG_METROP.total_time))"
   ]
  },
  {
   "cell_type": "code",
   "execution_count": 203,
   "id": "0bcc9acd",
   "metadata": {},
   "outputs": [
    {
     "data": {
      "image/png": "[encoded data removed]",
      "text/plain": [
       "<Figure size 432x288 with 1 Axes>"
      ]
     },
     "metadata": {
      "needs_background": "light"
     },
     "output_type": "display_data"
    }
   ],
   "source": [
    "fig, ax = plt.subplots()\n",
    "ax.plot(MSTHUG.ESS / (N*(B+1)), label='MSv1')\n",
    "ax.plot(MSTHUG_ONLYEND.ESS / (2*N), label='MSv2')\n",
    "ax.plot(MSTHUG_METROP.ESS[1:] / N, label='SMC')\n",
    "ax.legend()\n",
    "ax.set_title(\"ESS / number of particles \")\n",
    "plt.show()"
   ]
  },
  {
   "cell_type": "markdown",
   "id": "ebca9f54",
   "metadata": {},
   "source": [
    "### Resampled Indeces"
   ]
  },
  {
   "cell_type": "markdown",
   "id": "2e18e6de",
   "metadata": {},
   "source": [
    "At each step we resample some indeces $k$. Here I want to plot a histogram to figure out if the total integration time I have been using until now is too small, just enough, or too large."
   ]
  },
  {
   "cell_type": "code",
   "execution_count": 281,
   "id": "c07452e1",
   "metadata": {},
   "outputs": [
    {
     "data": {
      "image/png": "[encoded data removed]",
      "text/plain": [
       "<Figure size 1296x648 with 18 Axes>"
      ]
     },
     "metadata": {
      "needs_background": "light"
     },
     "output_type": "display_data"
    }
   ],
   "source": [
    "fig, ax = plt.subplots(nrows=3, ncols=6, figsize=(18, 9), sharex=True, sharey=True)\n",
    "for i in range(MSTHUG.K_RESAMPLED.shape[0] - 1):\n",
    "    _ = ax[i // 6, i % 6].hist(MSTHUG.K_RESAMPLED[i+1, :], density=True, bins=B)\n",
    "plt.tight_layout()"
   ]
  },
  {
   "cell_type": "code",
   "execution_count": 287,
   "id": "3b63ff88",
   "metadata": {},
   "outputs": [],
   "source": [
    "from ipywidgets.widgets import IntSlider\n",
    "from ipywidgets.widgets import interact"
   ]
  },
  {
   "cell_type": "code",
   "execution_count": 285,
   "id": "9386c891",
   "metadata": {},
   "outputs": [
    {
     "data": {
      "application/vnd.jupyter.widget-view+json": {
       "model_id": "bebe75106f37414a9687ad4190dea5c6",
       "version_major": 2,
       "version_minor": 0
      },
      "text/plain": [
       "IntSlider(value=0, max=20)"
      ]
     },
     "metadata": {},
     "output_type": "display_data"
    }
   ],
   "source": [
    "IntSlider(value=0, min=0, max=len(ϵs))"
   ]
  },
  {
   "cell_type": "code",
   "execution_count": 290,
   "id": "d546a357",
   "metadata": {},
   "outputs": [],
   "source": [
    "def plot_histogram(n):\n",
    "    fig, ax = plt.subplots(figsize=(20, 4))\n",
    "    _, bins, _ = ax.hist(MSTHUG.K_RESAMPLED[n, :], density=True, bins=B, edgecolor='k', color='lightsalmon')\n",
    "    ax.set_xticks(bins)\n",
    "    ax.set_xticklabels(bins.astype(int))\n",
    "    plt.show()"
   ]
  },
  {
   "cell_type": "code",
   "execution_count": 293,
   "id": "dbf72f68",
   "metadata": {},
   "outputs": [
    {
     "data": {
      "text/plain": [
       "(19, 5000)"
      ]
     },
     "execution_count": 293,
     "metadata": {},
     "output_type": "execute_result"
    }
   ],
   "source": [
    "MSTHUG.K_RESAMPLED.shape"
   ]
  },
  {
   "cell_type": "code",
   "execution_count": 292,
   "id": "66672f1f",
   "metadata": {},
   "outputs": [
    {
     "data": {
      "application/vnd.jupyter.widget-view+json": {
       "model_id": "415110c0245e42348d77c2a65802bf8e",
       "version_major": 2,
       "version_minor": 0
      },
      "text/plain": [
       "interactive(children=(IntSlider(value=9, description='n', max=19), Output()), _dom_classes=('widget-interact',…"
      ]
     },
     "metadata": {},
     "output_type": "display_data"
    },
    {
     "data": {
      "text/plain": [
       "<function __main__.plot_histogram(n)>"
      ]
     },
     "execution_count": 292,
     "metadata": {},
     "output_type": "execute_result"
    },
    {
     "data": {
      "image/png": "[encoded data removed]",
      "text/plain": [
       "<Figure size 1440x288 with 1 Axes>"
      ]
     },
     "metadata": {
      "needs_background": "light"
     },
     "output_type": "display_data"
    }
   ],
   "source": [
    "interact(plot_histogram, n=(0, len(ϵs) - 1))"
   ]
  },
  {
   "cell_type": "code",
   "execution_count": 280,
   "id": "c6ee1a4f",
   "metadata": {},
   "outputs": [
    {
     "data": {
      "image/png": "[encoded data removed]",
      "text/plain": [
       "<Figure size 1440x288 with 1 Axes>"
      ]
     },
     "metadata": {
      "needs_background": "light"
     },
     "output_type": "display_data"
    }
   ],
   "source": [
    "fig, ax = plt.subplots(figsize=(20, 4))\n",
    "some = ax.hist(MSTHUG.K_RESAMPLED[0, :], density=True, bins=B, edgecolor='k', color='lightsalmon')\n",
    "ax.set_xticks(some[1])\n",
    "ax.set_xticklabels(some[1].astype(int))\n",
    "plt.show()"
   ]
  },
  {
   "cell_type": "code",
   "execution_count": null,
   "id": "b51ea07e",
   "metadata": {},
   "outputs": [],
   "source": []
  },
  {
   "cell_type": "code",
   "execution_count": null,
   "id": "92ebee09",
   "metadata": {},
   "outputs": [],
   "source": []
  },
  {
   "cell_type": "markdown",
   "id": "880fb202",
   "metadata": {},
   "source": [
    "- use $\\tilde{\\psi} = \\psi^T$ for $\\tilde{T} = 1$\n",
    "    - V1: keep initial and final point\n",
    "    - V2: keep only final point\n",
    "- Unfold ellipse $[0, 2\\pi]$ and show histogram for both algorithms, use $N(T+1)$ particles for histogram. \n",
    "- ESS for $N(T+1)$ particles, and ESS for $2N$ particles (SMC version - count $1$s)\n",
    "- Check functionals e.g. $x$, $x^2$"
   ]
  },
  {
   "cell_type": "markdown",
   "id": "eaf1c41d",
   "metadata": {},
   "source": [
    "$$\\mathbb{I}(\\|f(x) - y\\| \\leq \\epsilon)$$"
   ]
  },
  {
   "cell_type": "markdown",
   "id": "8d8f6d31",
   "metadata": {},
   "source": [
    "$$\n",
    "- \\epsilon \\leq f(x) - y \\leq \\epsilon\n",
    "$$"
   ]
  },
  {
   "cell_type": "markdown",
   "id": "bcedff62",
   "metadata": {},
   "source": [
    "$$\n",
    "f^{(i)} \n",
    "$$"
   ]
  },
  {
   "cell_type": "code",
   "execution_count": null,
   "id": "55a64b33",
   "metadata": {},
   "outputs": [],
   "source": []
  },
  {
   "cell_type": "code",
   "execution_count": null,
   "id": "d5dd299f",
   "metadata": {},
   "outputs": [],
   "source": []
  }
 ],
 "metadata": {
  "kernelspec": {
   "display_name": "Python 3 (ipykernel)",
   "language": "python",
   "name": "python3"
  },
  "language_info": {
   "codemirror_mode": {
    "name": "ipython",
    "version": 3
   },
   "file_extension": ".py",
   "mimetype": "text/x-python",
   "name": "python",
   "nbconvert_exporter": "python",
   "pygments_lexer": "ipython3",
   "version": "3.10.4"
  }
 },
 "nbformat": 4,
 "nbformat_minor": 5
}
