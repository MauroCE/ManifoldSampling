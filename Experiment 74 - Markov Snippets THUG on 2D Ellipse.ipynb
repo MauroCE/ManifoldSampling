{
 "cells": [
  {
   "cell_type": "markdown",
   "id": "2f30fb0f",
   "metadata": {},
   "source": [
    "- Aim: first attempt at coding the Markov Snippets SMC sampler with THUG mutation kernel, as described by Algorithm 1 in Christophe's notes. \n",
    "- Application: Here we apply it to the ellipse problem.\n",
    "- Important: here we focus on $\\alpha = 0$"
   ]
  },
  {
   "cell_type": "markdown",
   "id": "9de301d3",
   "metadata": {},
   "source": [
    "A simplified version of Algorithm 1 is basically this:\n",
    "\n",
    "- Initialize particles $z_0^{(1:N)}\\sim \\mu_0$.\n",
    "- For each iteration $n=1, \\ldots, P$: \n",
    "    1. Construct trajectories $z_{n-1, k}^{(1:N)}$ \n",
    "    2. Resample trajectory points down to $N$ particles using weights\n",
    "    $$\n",
    "    \\bar{w}_{n, k} = \\frac{\\mu_n(z_{n-1, k}^{(i)})}{\\mu_n(z_{n-1}^{(i)})}\n",
    "    $$\n",
    "    3. Rejuvenate velocities for the $N$ particles"
   ]
  },
  {
   "cell_type": "code",
   "execution_count": 232,
   "id": "05a715a3",
   "metadata": {},
   "outputs": [],
   "source": [
    "import numpy as np\n",
    "from numpy import zeros, eye, array, diag, exp\n",
    "from numpy.linalg import solve, norm\n",
    "from numpy.random import choice\n",
    "from scipy.stats import multivariate_normal as MVN\n",
    "import math\n",
    "\n",
    "import matplotlib.pyplot as plt\n",
    "from matplotlib import rc\n",
    "\n",
    "from Manifolds.GeneralizedEllipse import GeneralizedEllipse\n",
    "from utils import prep_contour\n",
    "from RWM import RWM\n",
    "from tangential_hug_functions import HugTangential"
   ]
  },
  {
   "cell_type": "markdown",
   "id": "a1e7cc0c",
   "metadata": {},
   "source": [
    "#### Settings for the Ellipse and Filamentary Distributions"
   ]
  },
  {
   "cell_type": "code",
   "execution_count": 57,
   "id": "2dddb993",
   "metadata": {},
   "outputs": [],
   "source": [
    "μ  = zeros(2)\n",
    "Σ  = diag(array([0.1, 1]))\n",
    "level_set_value = -2.9513586307684885\n",
    "ellipse = GeneralizedEllipse(μ, Σ, exp(level_set_value))\n",
    "πellipse = MVN(μ, Σ)\n",
    "f = πellipse.logpdf\n",
    "grad_f = lambda ξ: -solve(Σ, ξ - μ)\n",
    "\n",
    "# def generate_logpi(ϵ):\n",
    "#     \"\"\"Generates η_ϵ.\"\"\"\n",
    "#     return lambda ξ: -np.linalg.norm(f(ξ) - level_set_value)**2/(2*(ϵ**2)) - np.log(ϵ)\n",
    "\n",
    "def generate_ηϵ(ϵ):\n",
    "    \"\"\"Generates ηϵ with a uniform kernel.\"\"\"\n",
    "    def ηϵ(x):\n",
    "        if np.linalg.norm(f(x) - level_set_value) <= ϵ:\n",
    "            return 1.0\n",
    "        else: \n",
    "            return 0.0\n",
    "    return ηϵ\n",
    "\n",
    "def generate_logηϵ(ϵ):\n",
    "    \"\"\"As above, this is for the uniform kernel but this computes the log density.\"\"\"\n",
    "    def logηϵ(ξ):\n",
    "        with np.errstate(divide='ignore'):\n",
    "            return np.log(float(norm(f(ξ) - level_set_value) <= ϵ) / ϵ)\n",
    "    return logηϵ"
   ]
  },
  {
   "cell_type": "code",
   "execution_count": 24,
   "id": "090c263e",
   "metadata": {},
   "outputs": [],
   "source": [
    "def find_bounding_box_for_ellipse(n):\n",
    "    \"\"\"Computes lots of samples of the ellipse to try and find a bounding box for it.\"\"\"\n",
    "    overall_minimum = 0.0\n",
    "    overall_maximum = 0.0\n",
    "    \n",
    "    for i in range(n):\n",
    "        point = ellipse.sample(advanced=True)\n",
    "        minimum, maximum = np.min(point), np.max(point)\n",
    "        if minimum < overall_minimum:\n",
    "            overall_minimum = minimum\n",
    "        if maximum > overall_maximum:\n",
    "            overall_maximum = maximum\n",
    "    \n",
    "    return overall_minimum, overall_maximum"
   ]
  },
  {
   "cell_type": "code",
   "execution_count": 25,
   "id": "ef98bd56",
   "metadata": {},
   "outputs": [],
   "source": [
    "# find_bounding_box_for_ellipse(1000)  # run with 10k and min=-5, max=5"
   ]
  },
  {
   "cell_type": "markdown",
   "id": "c48b8184",
   "metadata": {},
   "source": [
    "#### Settings for the THUG kernel"
   ]
  },
  {
   "cell_type": "code",
   "execution_count": 26,
   "id": "d7fb0719",
   "metadata": {},
   "outputs": [],
   "source": [
    "B = 20\n",
    "δ = 0.1"
   ]
  },
  {
   "cell_type": "code",
   "execution_count": 467,
   "id": "276b7cc3",
   "metadata": {},
   "outputs": [],
   "source": [
    "def THUGIntegratorUnivariate(z0, B, δ, grad):\n",
    "    \"\"\"THUG Integrator for the 2D example (ie using gradients, not jacobians).\"\"\"\n",
    "    trajectory = zeros((B + 1, len(z0)))\n",
    "    x0, v0 = z0[:len(z0)//2], z0[len(z0)//2:]\n",
    "    x, v = x0, v0\n",
    "    trajectory[0, :] = z0\n",
    "    # Integrate\n",
    "    for b in range(B):\n",
    "        x = x + δ*v/2\n",
    "        g = grad(x)\n",
    "        ghat = g / norm(g)\n",
    "        v = v - 2*ghat*(ghat@v)\n",
    "        x = x + δ*v/2\n",
    "        trajectory[b+1, :] = np.hstack((x, v))\n",
    "    return trajectory\n",
    "\n",
    "def generate_THUGIntegratorUnivariate(B, δ):\n",
    "    \"\"\"Returns a THUG integrator for a given B and δ.\"\"\"\n",
    "    grad = lambda ξ: -solve(Σ, ξ - μ) #ellipse.Q(ξ).T.flatten()\n",
    "    integrator = lambda z: THUGIntegratorUnivariate(z, B, δ, grad)\n",
    "    return integrator\n",
    "\n",
    "###############################\n",
    "#### this is for \\tilde{ψ}.\n",
    "###############################\n",
    "def THUGIntegratorUnivariateOnlyEnd(z0, B, δ, grad):\n",
    "    \"\"\"Similar to THUG integrator but one step does B bounces.\"\"\"\n",
    "    trajectory = zeros((2, len(z0)))\n",
    "    x0, v0 = z0[:len(z0)//2], z0[len(z0)//2:]\n",
    "    x, v = x0, v0\n",
    "    trajectory[0, :] = z0\n",
    "    # Integrate\n",
    "    for _ in range(B):\n",
    "        x = x + δ*v/2\n",
    "        g = grad(x)\n",
    "        ghat = g / norm(g)\n",
    "        v = v - 2*ghat*(ghat@v)\n",
    "        x = x + δ*v/2\n",
    "    trajectory[1, :] = np.hstack((x, v))\n",
    "    return trajectory\n",
    "\n",
    "def generate_THUGIntegratorUnivariateOnlyEnd(B, δ):\n",
    "    \"\"\"Returns a THUG integratorOnlyEnd for a given B and δ.\"\"\"\n",
    "    grad = lambda ξ: -solve(Σ, ξ - μ) #ellipse.Q(ξ).T.flatten()\n",
    "    integrator = lambda z: THUGIntegratorUnivariateOnlyEnd(z, B, δ, grad)\n",
    "    return integrator\n",
    "\n",
    "\n",
    "#### Metropolis-Hastings version for SMC version\n",
    "def THUG_MH(z0, B, δ, logpi):\n",
    "    \"\"\"Similar to THUGIntegratoUnivariateOnlyEnd but this uses a MH step.\"\"\"\n",
    "    grad = lambda ξ: -solve(Σ, ξ - μ)\n",
    "    x0, v0 = z0[:len(z0)//2], z0[len(z0)//2:]\n",
    "    x, v = x0, v0\n",
    "    logu = np.log(np.random.rand())\n",
    "    for _ in range(B):\n",
    "        x = x + δ*v/2\n",
    "        g = grad(x)\n",
    "        ghat = g / norm(g)\n",
    "        v = v - 2*ghat*(ghat@v)\n",
    "        x = x + δ*v/2\n",
    "    if logu <= logpi(x) - logpi(x0):\n",
    "        # accept new point\n",
    "        return np.concatenate((x, v))\n",
    "    else:\n",
    "        # accept old point\n",
    "        return z0"
   ]
  },
  {
   "cell_type": "code",
   "execution_count": 28,
   "id": "fe205cd8",
   "metadata": {},
   "outputs": [],
   "source": [
    "# def THUGIntegratorMultivariate(z0, B, δ, jac):\n",
    "#     \"\"\"THUG integrator for the MarkovSnippets example in D>2 example.\"\"\"\n",
    "#     project = lambda v, J: J.T.dot(solve(J.dot(J.T), J.dot(v)))  # linear projection\n",
    "#     trajectory = zeros((B + 1, len(z0)))\n",
    "#     x0, v0 = z0[:len(z0)//2], z0[len(z0)//2:]\n",
    "#     x, v = x0, v0\n",
    "#     trajectory[0, :] = z0\n",
    "#     # Integrate\n",
    "#     for b in range(B):\n",
    "#         x = x + δ*v/2\n",
    "#         v = v - 2*project(v, jac(x))\n",
    "#         x = x + δ*v/2\n",
    "#         trajectory[b+1, :] = np.hstack((x, v))\n",
    "#     return trajectory\n",
    "\n",
    "# def generate_THUGIntegratorMultivariate(B, δ):\n",
    "#     \"\"\"Returns a THUG integrator for a given B and δ.\"\"\"\n",
    "#     jac = lambda ξ: ellipse.Q(ξ).T\n",
    "#     integrator = lambda z: THUGIntegratorMultivariate(z, B, δ, jac)\n",
    "#     return integrator"
   ]
  },
  {
   "cell_type": "code",
   "execution_count": 354,
   "id": "a2bdaf96",
   "metadata": {},
   "outputs": [],
   "source": [
    "class MarkovSnippetsTHUG:\n",
    "    \n",
    "    def __init__(self, N, B, δ, d, ϵs, onlyend=False):\n",
    "        \"\"\"Markov Snippets SMC samplers corresponding exactly to Algorithm 1 in Christophe's notes.\n",
    "        It uses the THUG kernel as its mutation kernel. The sequence of distributions is fixed here \n",
    "        since we provide ϵs, i.e. a list of tolerances which automatically fully specify the posterior \n",
    "        distributions used at each round.\n",
    "        \n",
    "        Parameters\n",
    "        ----------\n",
    "        \n",
    "        :param N: Number of particles\n",
    "        :type N:  int\n",
    "        \n",
    "        :param B: Number of bounces for the THUG integrator. Equivalent to `L` Leapfrog steps in HMC.\n",
    "        :type B: int\n",
    "        \n",
    "        :param δ: Step-size used at each bounce, for the THUG integrator.\n",
    "        :type δ: float\n",
    "        \n",
    "        :param d: Dimensionality of the `x` component of each particle, and equally dimensionality of \n",
    "                  `v` component of each particle. Therefore each particle has dimension `2d`.\n",
    "        \n",
    "        :param ϵs: Tolerances that fully specify the sequence of target filamentary distributions.\n",
    "        :type ϵs: iterable\n",
    "        \n",
    "        :param onlyend: If False, we just run MS-SMC with the THUG integrator as kernel. If True, the THUG \n",
    "                        integrator is pretty much the same, but it only outputs the initial and final point, \n",
    "                        as part of the trajectory. Inside the integrator, it still performs B bounces, but \n",
    "                        basically we are changing \\psi to \\tilde{\\psi} which performs B steps at once, and we \n",
    "                        run it only once.\n",
    "        :type onlyend: bool\n",
    "        \"\"\"\n",
    "        # Input variables\n",
    "        self.N  = N       \n",
    "        self.B  = B\n",
    "        self.δ  = δ\n",
    "        self.d  = d\n",
    "        self.ϵs = ϵs       \n",
    "        \n",
    "        # Variables derived from the above\n",
    "        self.P  = len(ϵs) - 1                                       # Number of target distributions\n",
    "        self.ϖ  = MVN(zeros(d), eye(d))                             # Distribution of the velocities\n",
    "        self.ηs = [generate_ηϵ(ϵ) for ϵ in ϵs]                      # List of filamentary distributions \n",
    "#         self.μs = [lambda z: ηϵ(z[:self.d]) for ηϵ in self.ηs]\n",
    "        if not onlyend:\n",
    "            self.ψ = generate_THUGIntegratorUnivariate(B, δ)\n",
    "        else:\n",
    "            self.ψ = generate_THUGIntegratorUnivariateOnlyEnd(B, δ)\n",
    "            self.B = 1\n",
    "    \n",
    "    def initialize_particles(self):\n",
    "        \"\"\"To initialize particles, we sample from a uniform on a large rectangle.\n",
    "        A rectangle of size [-100, 100] should be plenty large.\"\"\"\n",
    "# #         # Sample x-component from the uniform, i.e. uniform on a large enough rectangle\n",
    "#         x0 = np.random.uniform(low=-20, high=20, size=(self.N, self.d))\n",
    "#         # Try initializing particles on the manifold itself\n",
    "# #         x0 = np.vstack([ellipse.sample(advanced=True) for _ in range(self.N)])\n",
    "#         # Sample v-component from normal distribution\n",
    "#         v0 = np.random.normal(loc=0.0, scale=1.0, size=(self.N, self.d))\n",
    "#         # Collate together\n",
    "#         z0 = np.hstack((x0, v0))\n",
    "#         return z0\n",
    "        # Initialize particles by sampling from η_ϵ0 for a large ϵ0 which can be given as an argument.\n",
    "        # Sample a point from the prior\n",
    "        x0 = ellipse.sample(advanced=True) #np.random.uniform(low=-5, high=5, size=(self.d))\n",
    "        # Use RWM starting from z0\n",
    "#         ηϵ0    = generate_ηϵ(ϵ0)\n",
    "#         logηϵ0 = generate_logηϵ(ϵ0)\n",
    "#         self.μs = np.r_[lambda z: ηϵ0(z[:self.d]), self.μs]\n",
    "#         self.ϵs = np.r_[ϵ0, self.ϵs]\n",
    "        logηϵ0 = generate_logηϵ(self.ϵs[0])\n",
    "#         print(\"initializing with ϵ0=\", self.ϵs[0])\n",
    "        burn_in = 100\n",
    "        TO_BE_THINNED, _ = RWM(x0, self.δ, burn_in + 10*self.N, logηϵ0)\n",
    "        # Thin the samples to obtain the particles\n",
    "        initialized_particles = TO_BE_THINNED[burn_in:][::10]\n",
    "#         print(np.apply_along_axis(generate_ηε(self.ϵs[0]), 1, initialized_particles))\n",
    "#         print(np.apply_along_axis(lambda x: np.exp(logηϵ0(x)), 1, initialized_particles))\n",
    "#         print(np.apply_along_axis(self.ηs[0], 1, initialized_particles))\n",
    "#         print(np.apply_along_axis(self.μs[0], 1, initialized_particles))\n",
    "        v0 = np.random.normal(loc=0.0, scale=1.0, size=(self.N, self.d))\n",
    "        z0 = np.hstack((initialized_particles, v0))\n",
    "        self.starting_particles = z0\n",
    "        return z0\n",
    "        \n",
    "    def sample(self):\n",
    "        \"\"\"Starts the Markov Snippets sampler.\"\"\"\n",
    "        N = self.N\n",
    "        B = self.B\n",
    "        ## Storage\n",
    "        #### Store z_n^{(i)}\n",
    "        self.ZN  = np.zeros((self.P+1, N, 2*self.d))\n",
    "        #### Store z_{n, k}^{(i)} so basically all the N(T+1) particles\n",
    "        self.ZNK  = np.zeros((self.P, N*(B+1), 2*self.d))\n",
    "        self.Wbar = np.zeros((self.P, N*(B+1)))\n",
    "        self.ESS  = np.zeros((self.P))\n",
    "        # Initialize particles\n",
    "        z = self.initialize_particles()   # (N, 2d)\n",
    "        self.ZN[0] = z\n",
    "        # For each target distribution, run the following loop\n",
    "        for n in range(1, self.P+1):\n",
    "            # Compute trajectories\n",
    "            Z = np.apply_along_axis(self.ψ, 1, z) # should have shape (N, B+1, 2d)\n",
    "            self.ZNK[n-1] = Z.reshape(N*(B+1), 2*self.d)\n",
    "            # Compute weights.\n",
    "            #### Denominator: shared for each point in the same trajectory\n",
    "            μnm1_z  = np.apply_along_axis(self.ηs[n-1], 1, Z[:, 0, :self.d])              # (N, )\n",
    "            μnm1_z  = np.repeat(μnm1_z, self.B+1, axis=0).reshape(N, B+1) # (N, B+1)\n",
    "            #### Numerator: different for each point on a trajectory.\n",
    "            μn_ψk_z = np.apply_along_axis(self.ηs[n], 2, Z[:, :, :self.d])                         # (N, B+1)\n",
    "            #### Put weights together\n",
    "            W = μn_ψk_z / μnm1_z #np.exp(log_μn_ψk_z - log_μnm1_z)\n",
    "            #### Normalize weights\n",
    "            W = W / W.sum()\n",
    "            # store weights (remember these are \\bar{w})\n",
    "            self.Wbar[n-1] = W.flatten()\n",
    "            # compute ESS\n",
    "            self.ESS[n-1] = 1 / np.sum(W**2)\n",
    "            # Resample down to N particles\n",
    "            resampling_indeces = choice(a=np.arange(N*(B+1)), size=N, p=W.flatten())\n",
    "            indeces = np.dstack(np.unravel_index(resampling_indeces, (N, B+1))).squeeze()\n",
    "            z = np.vstack([Z[tuple(ix)] for ix in indeces])     # (N, 2d)\n",
    "            \n",
    "            # Rejuvenate velocities of N particles\n",
    "            z[:, self.d:] = np.random.normal(loc=0.0, scale=1.0, size=(N, self.d))\n",
    "            self.ZN[n] = z\n",
    "        return z"
   ]
  },
  {
   "cell_type": "code",
   "execution_count": 355,
   "id": "8fbae08f",
   "metadata": {},
   "outputs": [],
   "source": [
    "# At this point, doesn't really matter which ϵs we use.\n",
    "ϵs = [10, 2, 0.5, 0.1]\n",
    "B = 20\n",
    "δ = 0.1\n",
    "N  = 2000\n",
    "# Instantitate the algorithm\n",
    "MSTHUG = MarkovSnippetsTHUG(N=N, B=B, δ=δ, d=2, ϵs=ϵs)"
   ]
  },
  {
   "cell_type": "code",
   "execution_count": 356,
   "id": "01987516",
   "metadata": {},
   "outputs": [],
   "source": [
    "# Sample\n",
    "zP = MSTHUG.sample()"
   ]
  },
  {
   "cell_type": "code",
   "execution_count": 357,
   "id": "3d173673",
   "metadata": {},
   "outputs": [],
   "source": [
    "# fig, ax = plt.subplots()\n",
    "# ax.contour(*prep_contour([-2.5, 2.5], [-2.5, 2.5], 0.01, f), levels=[level_set_value])\n",
    "# ax.scatter(*zP[:, :2].T)\n",
    "# ax.set_aspect(\"equal\")"
   ]
  },
  {
   "cell_type": "code",
   "execution_count": 358,
   "id": "455675fa",
   "metadata": {},
   "outputs": [],
   "source": [
    "# initializer = MarkovSnippetsTHUG(N=100, B=20, δ=0.1, d=2, ϵs=ϵs)\n",
    "# rwm_initialized_particles = initializer.initialize_particles(ϵ0=5)"
   ]
  },
  {
   "cell_type": "code",
   "execution_count": 359,
   "id": "30f600ce",
   "metadata": {},
   "outputs": [],
   "source": [
    "# fig, ax = plt.subplots()\n",
    "# ax.contour(*prep_contour([-2.5, 2.5], [-2.5, 2.5], 0.01, f), levels=[level_set_value])\n",
    "# ax.scatter(*rwm_initialized_particles[:, :2].T)\n",
    "# ax.set_aspect(\"equal\")"
   ]
  },
  {
   "cell_type": "code",
   "execution_count": 360,
   "id": "91e61730",
   "metadata": {},
   "outputs": [
    {
     "data": {
      "image/png": "[encoded data removed]",
      "text/plain": [
       "<Figure size 1152x288 with 4 Axes>"
      ]
     },
     "metadata": {
      "needs_background": "light"
     },
     "output_type": "display_data"
    }
   ],
   "source": [
    "fig, ax = plt.subplots(ncols=4, figsize=(16, 4))\n",
    "for i in range(4):\n",
    "    ax[i].contour(*prep_contour([-2.5, 2.5], [-2.5, 2.5], 0.01, f), levels=[level_set_value])\n",
    "    ax[i].contour(*prep_contour([-2.5, 2.5], [-2.5, 2.5], 0.01, f), levels=[level_set_value-MSTHUG.ϵs[i], level_set_value+MSTHUG.ϵs[i]], colors='gray')\n",
    "    ax[i].scatter(*MSTHUG.ZN[i, :, :2].T)\n",
    "    ax[i].set_xlim([-5, 5])\n",
    "    ax[i].set_ylim([-5, 5])"
   ]
  },
  {
   "cell_type": "code",
   "execution_count": 361,
   "id": "389822d0",
   "metadata": {},
   "outputs": [
    {
     "data": {
      "image/png": "[encoded data removed]",
      "text/plain": [
       "<Figure size 1152x288 with 4 Axes>"
      ]
     },
     "metadata": {
      "needs_background": "light"
     },
     "output_type": "display_data"
    }
   ],
   "source": [
    "compute_arctan = lambda point: math.atan2(*point[::-1])\n",
    "rc('font',**{'family':'STIXGeneral'})\n",
    "\n",
    "fig, ax = plt.subplots(ncols=4, figsize=(16, 4))\n",
    "for i in range(4):\n",
    "    _ = ax[i].hist(np.apply_along_axis(compute_arctan, 1, MSTHUG.ZN[i, :, :2]), bins=30, density=True)\n",
    "    ax[i].set_xticks([-math.pi, 0, math.pi])\n",
    "    ax[i].set_xticklabels([r'$-\\mathregular{\\pi}$', r'$0$', r'$\\mathregular{\\pi}$'], fontsize=15)\n",
    "    ax[i].set_title(r'$\\mathregular{\\epsilon}=$' + '{}'.format(ϵs[i]))"
   ]
  },
  {
   "cell_type": "code",
   "execution_count": 362,
   "id": "50590e13",
   "metadata": {},
   "outputs": [
    {
     "data": {
      "image/png": "[encoded data removed]",
      "text/plain": [
       "<Figure size 864x288 with 3 Axes>"
      ]
     },
     "metadata": {
      "needs_background": "light"
     },
     "output_type": "display_data"
    }
   ],
   "source": [
    "### This uses all N(T+1) particles and their w̄. \n",
    "fig, ax = plt.subplots(ncols=3, figsize=(12, 4))\n",
    "for i in range(3):\n",
    "    _ = ax[i].hist(np.apply_along_axis(compute_arctan, 1, MSTHUG.ZNK[i, :, :2]), bins=30, density=True, weights=MSTHUG.Wbar[i])\n",
    "    ax[i].set_xticks([-math.pi, 0, math.pi])\n",
    "    ax[i].set_xticklabels([r'$-\\mathregular{\\pi}$', r'$0$', r'$\\mathregular{\\pi}$'], fontsize=15)\n",
    "    ax[i].set_title(r'$\\mathregular{\\epsilon}=$' + '{}'.format(ϵs[i+1]))"
   ]
  },
  {
   "cell_type": "code",
   "execution_count": 364,
   "id": "91a68f57",
   "metadata": {},
   "outputs": [],
   "source": [
    "# The aim now is to only output the end of the trajectory with ψ.\n",
    "MSTHUG_ONLYEND = MarkovSnippetsTHUG(N=N, B=B, δ=δ, d=2, ϵs=ϵs, onlyend=True)"
   ]
  },
  {
   "cell_type": "code",
   "execution_count": 365,
   "id": "d0ede754",
   "metadata": {},
   "outputs": [],
   "source": [
    "zP_onlyend = MSTHUG_ONLYEND.sample()"
   ]
  },
  {
   "cell_type": "code",
   "execution_count": 366,
   "id": "f7a4ef73",
   "metadata": {},
   "outputs": [
    {
     "data": {
      "image/png": "[encoded data removed]",
      "text/plain": [
       "<Figure size 1152x288 with 4 Axes>"
      ]
     },
     "metadata": {
      "needs_background": "light"
     },
     "output_type": "display_data"
    }
   ],
   "source": [
    "fig, ax = plt.subplots(ncols=4, figsize=(16, 4))\n",
    "for i in range(4):\n",
    "    ax[i].contour(*prep_contour([-2.5, 2.5], [-2.5, 2.5], 0.01, f), levels=[level_set_value])\n",
    "    ax[i].contour(*prep_contour([-2.5, 2.5], [-2.5, 2.5], 0.01, f), levels=[level_set_value-MSTHUG_ONLYEND.ϵs[i], level_set_value+MSTHUG_ONLYEND.ϵs[i]], colors='gray')\n",
    "    ax[i].scatter(*MSTHUG_ONLYEND.ZN[i, :, :2].T)\n",
    "    ax[i].set_xlim([-5, 5])\n",
    "    ax[i].set_ylim([-5, 5])"
   ]
  },
  {
   "cell_type": "code",
   "execution_count": 367,
   "id": "328536ee",
   "metadata": {},
   "outputs": [
    {
     "data": {
      "image/png": "[encoded data removed]",
      "text/plain": [
       "<Figure size 1152x288 with 4 Axes>"
      ]
     },
     "metadata": {
      "needs_background": "light"
     },
     "output_type": "display_data"
    }
   ],
   "source": [
    "fig, ax = plt.subplots(ncols=4, figsize=(16, 4))\n",
    "for i in range(4):\n",
    "    _ = ax[i].hist(np.apply_along_axis(compute_arctan, 1, MSTHUG_ONLYEND.ZN[i, :, :2]), bins=30, density=True)\n",
    "    ax[i].set_xticks([-math.pi, 0, math.pi])\n",
    "    ax[i].set_xticklabels([r'$-\\mathregular{\\pi}$', r'$0$', r'$\\mathregular{\\pi}$'], fontsize=15)\n",
    "    ax[i].set_title(r'$\\mathregular{\\epsilon}=$' + '{}'.format(ϵs[i]))"
   ]
  },
  {
   "cell_type": "code",
   "execution_count": 368,
   "id": "3201c8e4",
   "metadata": {},
   "outputs": [
    {
     "data": {
      "image/png": "[encoded data removed]",
      "text/plain": [
       "<Figure size 864x288 with 3 Axes>"
      ]
     },
     "metadata": {
      "needs_background": "light"
     },
     "output_type": "display_data"
    }
   ],
   "source": [
    "fig, ax = plt.subplots(ncols=3, figsize=(12, 4))\n",
    "for i in range(3):\n",
    "    _ = ax[i].hist(np.apply_along_axis(compute_arctan, 1, MSTHUG_ONLYEND.ZNK[i, :, :2]), bins=30, density=True, weights=MSTHUG_ONLYEND.Wbar[i])\n",
    "    ax[i].set_xticks([-math.pi, 0, math.pi])\n",
    "    ax[i].set_xticklabels([r'$-\\mathregular{\\pi}$', r'$0$', r'$\\mathregular{\\pi}$'], fontsize=15)\n",
    "    ax[i].set_title(r'$\\mathregular{\\epsilon}=$' + '{}'.format(ϵs[i+1]))"
   ]
  },
  {
   "cell_type": "code",
   "execution_count": null,
   "id": "bbe0b050",
   "metadata": {},
   "outputs": [],
   "source": []
  },
  {
   "cell_type": "code",
   "execution_count": 515,
   "id": "61076105",
   "metadata": {},
   "outputs": [],
   "source": [
    "class MarkovSnippetsTHUGMetropolised:\n",
    "    \n",
    "    def __init__(self, N, B, δ, d, ϵs):\n",
    "        \"\"\"Metropolised version: for each particle compute the endpoint of trajectory and its weight.\n",
    "        If the weight is positive, we accept the final point, otherwise we accept the initial point. \n",
    "        \n",
    "        Parameters\n",
    "        ----------\n",
    "        \n",
    "        :param N: Number of particles\n",
    "        :type N:  int\n",
    "        \n",
    "        :param B: Number of bounces for the THUG integrator. Equivalent to `L` Leapfrog steps in HMC.\n",
    "        :type B: int\n",
    "        \n",
    "        :param δ: Step-size used at each bounce, for the THUG integrator.\n",
    "        :type δ: float\n",
    "        \n",
    "        :param d: Dimensionality of the `x` component of each particle, and equally dimensionality of \n",
    "                  `v` component of each particle. Therefore each particle has dimension `2d`.\n",
    "        \n",
    "        :param ϵs: Tolerances that fully specify the sequence of target filamentary distributions.\n",
    "        :type ϵs: iterable\n",
    "        \"\"\"\n",
    "        # Input variables\n",
    "        self.N  = N       \n",
    "        self.δ  = δ\n",
    "        self.d  = d\n",
    "        self.ϵs = ϵs       \n",
    "        \n",
    "        # Variables derived from the above\n",
    "        self.P  = len(ϵs) - 1                                       # Number of target distributions\n",
    "        self.ϖ  = MVN(zeros(d), eye(d))                             # Distribution of the velocities\n",
    "        self.ηs = [generate_ηϵ(ϵ) for ϵ in ϵs]                      # List of filamentary distributions \n",
    "        \n",
    "        self.B = B\n",
    "    \n",
    "    def initialize_particles(self):\n",
    "        \"\"\"To initialize particles, we sample from a uniform on a large rectangle.\n",
    "        A rectangle of size [-100, 100] should be plenty large.\"\"\"\n",
    "        # Initialize particles by sampling from η_ϵ0 for a large ϵ0 which can be given as an argument.\n",
    "        # Sample a point from the prior\n",
    "        x0 = ellipse.sample(advanced=True) #np.random.uniform(low=-5, high=5, size=(self.d))\n",
    "        # Use RWM starting from x0\n",
    "        logηϵ0 = generate_logηϵ(self.ϵs[0])\n",
    "        burn_in = 100\n",
    "        TO_BE_THINNED, _ = RWM(x0, self.δ, burn_in + 10*self.N, logηϵ0)\n",
    "        # Thin the samples to obtain the particles\n",
    "        initialized_particles = TO_BE_THINNED[burn_in:][::10]\n",
    "        v0 = np.random.normal(loc=0.0, scale=1.0, size=(self.N, self.d))\n",
    "        z0 = np.hstack((initialized_particles, v0))\n",
    "        self.starting_particles = z0\n",
    "        return z0\n",
    "        \n",
    "    def sample(self):\n",
    "        \"\"\"Starts the Markov Snippets sampler.\"\"\"\n",
    "        # Store z_n^{(i)}\n",
    "#         self.ZN  = np.zeros((self.P+1, self.N, 2*self.d))\n",
    "        # Initialize particles\n",
    "        z = self.initialize_particles()   # (N, 2d)\n",
    "        # Storage\n",
    "        self.PARTICLES    = zeros((self.P+1, self.N, 2*self.d))\n",
    "        self.PARTICLES[0] = z\n",
    "        self.WEIGHTS      = zeros((self.P+1, self.N))\n",
    "        self.WEIGHTS[0]   = 1 / self.N\n",
    "        # For each target distribution, run the following loop\n",
    "        for n in range(1, self.P+1):\n",
    "            # Standard SMC sampler, we mutate the particles and then we resample\n",
    "            ### Mutation step: \n",
    "            ###### Refresh velocities\n",
    "            z[:, self.d:] = np.random.normal(loc=0.0, scale=1.0, size=(self.N, self.d))\n",
    "            ###### Mutate positions \n",
    "            M = lambda z: THUG_MH(z, B, self.δ, self.ηs[n-1])\n",
    "            Z = np.apply_along_axis(M, 1, z)\n",
    "            ### Compute weights\n",
    "            w = (abs(np.apply_along_axis(f, 1, Z[:, :2]) - level_set_value) <= self.ϵs[n]).astype(float)\n",
    "            w = w / w.sum()\n",
    "            self.WEIGHTS[n] = w\n",
    "            ### Resample\n",
    "            indeces = choice(a=np.arange(self.N), size=self.N, p=w)\n",
    "            z = z[indeces, :]\n",
    "            self.PARTICLES[n] = z\n",
    "            #### The idea here is to compute the endpoints and their weights. if the weights are positive \n",
    "            #### then we accept the endpoints as the new particles. Otherwise, we accept the initial (and \n",
    "            #### current) point.\n",
    "            # Compute trajectories\n",
    "#             Z = np.apply_along_axis(self.ψ, 1, z) # should have shape (N, 2, 2d)\n",
    "            # Compute weights.\n",
    "#             #### Denominator: shared for each point in the same trajectory\n",
    "#             μnm1_z  = np.apply_along_axis(self.ηs[n-1], 1, Z[:, 0, :self.d])              # (N, )\n",
    "#             μnm1_z  = np.repeat(μnm1_z, self.B+1, axis=0).reshape(N, B+1) # (N, B+1)\n",
    "#             #### Numerator: different for each point on a trajectory.\n",
    "#             μn_ψk_z = np.apply_along_axis(self.ηs[n], 2, Z[:, :, :self.d])                         # (N, B+1)\n",
    "#             #### Put weights together\n",
    "#             W = μn_ψk_z / μnm1_z #np.exp(log_μn_ψk_z - log_μnm1_z)\n",
    "#             #### Normalize weights\n",
    "#             W = W / W.sum()  # has shape (N, B+1) which in this case is (N, 2)\n",
    "            #### Now basically look at the last column and see if they're positive\n",
    "#             #### If they are positive, take the endpoints, otherwise take initial point\n",
    "#             z = np.where(W[:, 1:] > 0, Z[:, -1, :], Z[:, 0, :])\n",
    "#             print((W[:, 1:] > 0).sum(), (z == Z[:, -1, :]).all(axis=1).sum())\n",
    "            # Resample down to N particles, now resampling done on these mutated particles\n",
    "            # the resampling now is uniform because all particles have weight proportional to 1.\n",
    "#             indeces = choice(a=np.arange(N), size=N, p=np.full(N, 1/N))\n",
    "#             z = z[indeces, :]\n",
    "            # Rejuvenate velocities of N particles\n",
    "#             z[:, self.d:] = np.random.normal(loc=0.0, scale=1.0, size=(N, self.d))\n",
    "#             self.ZN[n] = z\n",
    "        return z"
   ]
  },
  {
   "cell_type": "code",
   "execution_count": 516,
   "id": "30ed4c28",
   "metadata": {},
   "outputs": [],
   "source": [
    "# right now the problem is that after the first iteration, it seems that we reject everything."
   ]
  },
  {
   "cell_type": "code",
   "execution_count": 517,
   "id": "c2fa8ade",
   "metadata": {
    "scrolled": true
   },
   "outputs": [],
   "source": [
    "MSTHUG_METROP = MarkovSnippetsTHUGMetropolised(N=N, B=B, δ=δ, d=2, ϵs=ϵs)\n",
    "zP_metrop = MSTHUG_METROP.sample()"
   ]
  },
  {
   "cell_type": "code",
   "execution_count": 519,
   "id": "59f58fb0",
   "metadata": {},
   "outputs": [
    {
     "data": {
      "image/png": "[encoded data removed]",
      "text/plain": [
       "<Figure size 1152x288 with 4 Axes>"
      ]
     },
     "metadata": {
      "needs_background": "light"
     },
     "output_type": "display_data"
    }
   ],
   "source": [
    "fig, ax = plt.subplots(ncols=4, figsize=(16, 4))\n",
    "for i in range(4):\n",
    "    ax[i].contour(*prep_contour([-2.5, 2.5], [-2.5, 2.5], 0.01, f), levels=[level_set_value])\n",
    "    ax[i].contour(*prep_contour([-2.5, 2.5], [-2.5, 2.5], 0.01, f), levels=[level_set_value-MSTHUG_METROP.ϵs[i], level_set_value+MSTHUG_METROP.ϵs[i]], colors='gray')\n",
    "    ax[i].scatter(*MSTHUG_METROP.PARTICLES[i, :, :2].T)\n",
    "    ax[i].set_xlim([-5, 5])\n",
    "    ax[i].set_ylim([-5, 5])"
   ]
  },
  {
   "cell_type": "code",
   "execution_count": 520,
   "id": "b2a78690",
   "metadata": {},
   "outputs": [
    {
     "data": {
      "image/png": "[encoded data removed]",
      "text/plain": [
       "<Figure size 864x288 with 3 Axes>"
      ]
     },
     "metadata": {
      "needs_background": "light"
     },
     "output_type": "display_data"
    }
   ],
   "source": [
    "fig, ax = plt.subplots(ncols=3, figsize=(12, 4))\n",
    "for i in range(3):\n",
    "    _ = ax[i].hist(np.apply_along_axis(compute_arctan, 1, MSTHUG_METROP.PARTICLES[i, :, :2]), bins=30, density=True, weights=MSTHUG_METROP.WEIGHTS[i])\n",
    "    ax[i].set_xticks([-math.pi, 0, math.pi])\n",
    "    ax[i].set_xticklabels([r'$-\\mathregular{\\pi}$', r'$0$', r'$\\mathregular{\\pi}$'], fontsize=15)\n",
    "    ax[i].set_title(r'$\\mathregular{\\epsilon}=$' + '{}'.format(ϵs[i+1]))"
   ]
  },
  {
   "cell_type": "code",
   "execution_count": null,
   "id": "dcc434ef",
   "metadata": {},
   "outputs": [],
   "source": []
  },
  {
   "cell_type": "markdown",
   "id": "9db49faa",
   "metadata": {},
   "source": [
    "- use $\\tilde{\\psi} = \\psi^T$ for $\\tilde{T} = 1$\n",
    "    - V1: keep initial and final point\n",
    "    - V2: keep only final point\n",
    "- Unfold ellipse $[0, 2\\pi]$ and show histogram for both algorithms, use $N(T+1)$ particles for histogram. \n",
    "- ESS for $N(T+1)$ particles, and ESS for $2N$ particles (SMC version - count $1$s)\n",
    "- Check functionals e.g. $x$, $x^2$"
   ]
  },
  {
   "cell_type": "markdown",
   "id": "3029346a",
   "metadata": {},
   "source": [
    "$$\\mathbb{I}(\\|f(x) - y\\| \\leq \\epsilon)$$"
   ]
  },
  {
   "cell_type": "markdown",
   "id": "557abad5",
   "metadata": {},
   "source": [
    "$$\n",
    "- \\epsilon \\leq f(x) - y \\leq \\epsilon\n",
    "$$"
   ]
  },
  {
   "cell_type": "markdown",
   "id": "e2ef1b4a",
   "metadata": {},
   "source": [
    "$$\n",
    "f^{(i)} \n",
    "$$"
   ]
  },
  {
   "cell_type": "code",
   "execution_count": null,
   "id": "4692a78b",
   "metadata": {},
   "outputs": [],
   "source": []
  },
  {
   "cell_type": "code",
   "execution_count": null,
   "id": "d47fca03",
   "metadata": {},
   "outputs": [],
   "source": []
  }
 ],
 "metadata": {
  "kernelspec": {
   "display_name": "Python 3 (ipykernel)",
   "language": "python",
   "name": "python3"
  },
  "language_info": {
   "codemirror_mode": {
    "name": "ipython",
    "version": 3
   },
   "file_extension": ".py",
   "mimetype": "text/x-python",
   "name": "python",
   "nbconvert_exporter": "python",
   "pygments_lexer": "ipython3",
   "version": "3.10.4"
  }
 },
 "nbformat": 4,
 "nbformat_minor": 5
}
