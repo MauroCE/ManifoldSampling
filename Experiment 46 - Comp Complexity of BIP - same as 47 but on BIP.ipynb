{
 "cells": [
  {
   "cell_type": "code",
   "execution_count": 1,
   "id": "49e64a01",
   "metadata": {},
   "outputs": [],
   "source": [
    "import numpy as np\n",
    "from numpy.linalg import norm, solve, det\n",
    "from numpy.random import default_rng\n",
    "from numpy.random import randn\n",
    "from numpy import log, exp, zeros, eye, pi, array, diag, ones, errstate, r_\n",
    "from scipy.stats import multivariate_normal as MVN\n",
    "from scipy.stats import norm as ndist\n",
    "from scipy.optimize import fsolve\n",
    "import matplotlib.pyplot as plt\n",
    "\n",
    "from mici.samplers import ChainState\n",
    "from mici.systems import DenseConstrainedEuclideanMetricSystem as DCEMS\n",
    "from mici.systems import EuclideanMetricSystem as EMS\n",
    "from mici.integrators import ConstrainedLeapfrogIntegrator as CLI\n",
    "from mici.integrators import LeapfrogIntegrator as LI\n",
    "from mici.samplers import DynamicMultinomialHMC as DMHMC\n",
    "from mici.samplers import StaticMetropolisHMC as SMHMC\n",
    "\n",
    "from tangential_hug_functions import Hug, HugTangential\n",
    "from utils import ESS_univariate, prep_contour\n",
    "import time"
   ]
  },
  {
   "cell_type": "code",
   "execution_count": 2,
   "id": "cb1b1f60",
   "metadata": {},
   "outputs": [],
   "source": [
    "from autograd import grad, jacobian\n",
    "import autograd.numpy as anp \n",
    "from autograd.numpy.linalg import det as adet\n",
    "from autograd.numpy.linalg import solve as asolve\n",
    "from autograd.numpy.linalg import norm as anorm\n",
    "from autograd.scipy.stats import multivariate_normal as aMVN\n",
    "import autograd.scipy as asp\n",
    "from autograd.numpy import log as alog\n",
    "\n",
    "import arviz\n",
    "from arviz import rhat"
   ]
  },
  {
   "cell_type": "code",
   "execution_count": 3,
   "id": "46fe700d",
   "metadata": {},
   "outputs": [],
   "source": [
    "# σ = 1e-8\n",
    "# y = 1.0\n",
    "# N = 2000\n",
    "# B = 20\n",
    "# δ_CHMC = 0.2\n",
    "# δ_THUG = δ_CHMC\n",
    "# δ_HUG  = δ_THUG\n",
    "# δ_HMC  = δ_CHMC"
   ]
  },
  {
   "cell_type": "code",
   "execution_count": 4,
   "id": "dbc52680",
   "metadata": {},
   "outputs": [],
   "source": [
    "# # C-HMC\n",
    "# N_CHMC = 2000  # Number of samples for C-HMC\n",
    "# δ_CHMC = 0.3   # Step-size for C-HMC\n",
    "# n_CHMC = 20     # Number of integrator steps to simulate in each transition \n",
    "# T_CHMC = δ_CHMC * n_CHMC\n",
    "\n",
    "# ### HUG\n",
    "# ϵ_HUG = 0.001\n",
    "# δ_HUG = δ_CHMC #0.1 # δ_CHMC\n",
    "# N_HUG = N_CHMC\n",
    "# B_HUG = n_CHMC\n",
    "# T_HUG = δ_HUG * B_HUG\n",
    "\n",
    "# ### THUG\n",
    "# ϵ_THUG = ϵ_HUG\n",
    "# N_THUG = N_HUG\n",
    "# δ_THUG = δ_CHMC #δ_HUG # δ_CHMC\n",
    "# B_THUG = B_HUG\n",
    "# T_THUG = δ_THUG * B_HUG\n",
    "\n",
    "\n",
    "# ### HMC\n",
    "# ϵ_HMC = ϵ_HUG\n",
    "# n_HMC = n_CHMC\n",
    "# δ_HMC = δ_CHMC #0.0003 #δ_CHMC\n",
    "# T_HMC = δ_HMC * n_HMC\n",
    "# N_HMC = N_CHMC\n",
    "# # print('Integration time:')\n",
    "# # print('C-HMC: {}'.format(T_CHMC))\n",
    "# # print('HUG  : {}'.format(T_HUG))\n",
    "# # print('THUG:  {}'.format(T_THUG))\n",
    "# # print('HMC:   {}'.format(T_HMC))\n",
    "\n",
    "# # print('Integration steps:')\n",
    "# # print('C-HMC: {}'.format(n_CHMC))\n",
    "# # print('HUG  : {}'.format(B_HUG))\n",
    "# # print('THUG:  {}'.format(B_THUG))\n",
    "# # print('HMC:   {}'.format(n_HMC))\n",
    "\n",
    "# # print('Step Size:')\n",
    "# # print('C-HMC: {}'.format(δ_CHMC))\n",
    "# # print('HUG  : {}'.format(δ_HUG))\n",
    "# # print('THUG:  {}'.format(δ_THUG))\n",
    "# # print('HMC:   {}'.format(δ_HMC))\n",
    "\n",
    "# # print('Epsilon Tolerance:')\n",
    "# # print('HUG  : {}'.format(ϵ_HUG))\n",
    "# # print('THUG:  {}'.format(ϵ_THUG))\n",
    "# # print('HMC:   {}'.format(ϵ_HMC))"
   ]
  },
  {
   "cell_type": "markdown",
   "id": "ff8fcbaf",
   "metadata": {},
   "source": [
    "- Log prior\n",
    "$$\n",
    "\\log p(\\xi) = -\\frac{3}{2}\\log(2\\pi) - \\frac{1}{2}\\xi^\\top\\xi\n",
    "$$\n",
    "- Gradient of Log Prior\n",
    "$$\n",
    "\\nabla_\\xi \\log p(\\xi) = -\\xi\n",
    "$$\n",
    "- Constraint function\n",
    "$$\n",
    "f(\\xi) = \\xi_1^2 + 3\\xi_0^2(\\xi_0^2 - 1) + \\sigma\\xi_2\n",
    "$$\n",
    "- Gradient of constraint function\n",
    "$$\n",
    "\\nabla_\\xi f(\\xi) = (12\\xi_0^3 - 6\\xi_0, 2\\xi_1, \\sigma)^\\top\\qquad \\in\\mathbb{R}^{3\\times 1}\n",
    "$$\n",
    "- Jacobian of constraint function\n",
    "$$\n",
    "J_f(\\xi) = (12\\xi_0^3 - 6\\xi_0, 2\\xi_1, \\sigma) \\qquad \\in\\mathbb{R}^{1\\times 3}\n",
    "$$\n",
    "- Gram Jacobian matrix of constraint function\n",
    "$$\n",
    "J_f(\\xi) J_f(\\xi)^\\top = \\|\\nabla_\\xi f(\\xi)\\|^2 = 144\\xi_0^6 + 36\\xi_0^2 - 72\\xi_0^4 + 4\\xi_1^2 + \\sigma^2\n",
    "$$\n",
    "- Hessian of Constraint function\n",
    "$$\n",
    "\\nabla_\\xi^2 f(\\xi) = \\begin{pmatrix}\n",
    "    36\\xi_0^2 - 6 & 0 & 0 \\\\\n",
    "    0             & 2 & 0 \\\\\n",
    "    0             & 0 & 0\n",
    "\\end{pmatrix}\n",
    "$$\n",
    "- Posterior density\n",
    "$$\n",
    "p(\\xi\\mid y)\\propto p(\\xi) |\\det J_f(\\xi) J_f(\\xi)^\\top|^{-1/2}\n",
    "$$\n",
    "- Log Posterior Density\n",
    "$$\n",
    "\\log p(\\xi\\mid y)\\propto - \\frac{1}{2}\\xi^\\top\\xi -\\log \\|\\nabla_\\xi f(\\xi)\\| = - \\frac{1}{2}\\xi^\\top\\xi -\\frac{1}{2}\\log \\|\\nabla_\\xi f(\\xi)\\|^2\n",
    "$$\n",
    "- Negative log posterior density\n",
    "$$\n",
    "-\\log p(\\xi\\mid y)\\propto \\frac{1}{2}\\xi^\\top\\xi + \\log \\|\\nabla_\\xi f(\\xi)\\| = \\frac{1}{2}\\xi^\\top\\xi + \\frac{1}{2}\\log \\|\\nabla_\\xi f(\\xi)\\|^2\n",
    "$$"
   ]
  },
  {
   "cell_type": "markdown",
   "id": "a47d67d5",
   "metadata": {},
   "source": [
    "- Gradient of Gram Jacobian Matrix\n",
    "$$\n",
    "\\nabla_\\xi \\|\\nabla_\\xi f(\\xi)\\|^2 = \\begin{pmatrix}\n",
    "    864\\xi_0^5 + 72\\xi_0 - 288\\xi_0^3 \\\\\n",
    "    8\\xi_1 \\\\\n",
    "    0\n",
    "\\end{pmatrix}\n",
    "$$\n",
    "- Gradient Negative Log Posterior Density\n",
    "$$\n",
    "-\\nabla_\\xi \\log p(\\xi\\mid y) \\propto \\xi + \\frac{\\nabla_\\xi \\|\\nabla_\\xi f(\\xi)\\|}{\\|\\nabla_\\xi f(\\xi)\\|^2}\n",
    "$$"
   ]
  },
  {
   "cell_type": "code",
   "execution_count": 40,
   "id": "52dcd500",
   "metadata": {},
   "outputs": [],
   "source": [
    "def construct_functions(y, σ, ϵ):\n",
    "    FUNCTIONS = {}\n",
    "    FUNCTIONS['log_prior_theta'] = lambda θ: aMVN.logpdf(θ, mean=zeros(2), cov=eye(2))\n",
    "    FUNCTIONS['logprior']      = lambda ξ: aMVN.logpdf(ξ, mean=zeros(3), cov=eye(3))  # Prior over (θ, υ) is N(0, I).\n",
    "    FUNCTIONS['grad_logprior'] = grad(FUNCTIONS['logprior'])\n",
    "    FUNCTIONS['fwd_func']      = lambda θ: anp.array([θ[1]**2 + 3.0*(θ[0]**2)*(θ[0]**2 - 1)])\n",
    "    FUNCTIONS['fwd_constr']    = lambda θ: FUNCTIONS['fwd_func'](θ) - y\n",
    "    FUNCTIONS['fwd_jacob']     = jacobian(FUNCTIONS['fwd_constr'])\n",
    "    FUNCTIONS['fwd_grad']      = lambda θ: FUNCTIONS['fwd_jacob'](θ).flatten()\n",
    "    FUNCTIONS['constr']        = lambda ξ: anp.array([ξ[1]**2 + 3.0*(ξ[0]**2)*(ξ[0]**2 - 1) + σ*ξ[2]]) - y\n",
    "    FUNCTIONS['jacob_constr']  = jacobian(FUNCTIONS['constr']) \n",
    "    FUNCTIONS['grad_constr']   = lambda ξ: FUNCTIONS['jacob_constr'](ξ).flatten()\n",
    "    FUNCTIONS['neg_log_dens']  = lambda ξ: -FUNCTIONS['logprior'](ξ) + 0.5*alog(anorm(FUNCTIONS['jacob_constr'](ξ)@FUNCTIONS['jacob_constr'](ξ).T))\n",
    "    FUNCTIONS['grad_neg_log_dens']               = grad(FUNCTIONS['neg_log_dens'])\n",
    "    FUNCTIONS['log_approximate_lifted']          = lambda ξ: FUNCTIONS['logprior'](ξ) - (FUNCTIONS['constr'](ξ)**2) / (2*(ϵ**2))\n",
    "    FUNCTIONS['neg_log_approximate_lifted']      = lambda ξ: -FUNCTIONS['log_approximate_lifted'](ξ)\n",
    "    FUNCTIONS['grad_neg_log_approximate_lifted'] = grad(FUNCTIONS['neg_log_approximate_lifted'])\n",
    "    # Function to find point on manifold\n",
    "    def find_point_on_lifted_manifold(υ_max=5, max_iter=200):\n",
    "        iteration = 0\n",
    "        while iteration <= max_iter:\n",
    "            θ = anp.random.normal(size=2)\n",
    "            υ = (- FUNCTIONS['constr'](anp.array([*θ, 0.0])))[0] / σ\n",
    "            if abs(υ) < υ_max:\n",
    "                return anp.array([*θ, υ])\n",
    "    # Trace function for HMC and C-HMC\n",
    "    def trace_func(state):\n",
    "        x, y, z = state.pos\n",
    "        return {'x': x, 'y': y, 'z': z}\n",
    "    FUNCTIONS['find_point_on_lifted_manifold'] = find_point_on_lifted_manifold\n",
    "    FUNCTIONS['trace_func'] = trace_func\n",
    "    FUNCTIONS['trace_func_θ'] = lambda state: {'x': state.pos[0], 'y': state.pos[1]}\n",
    "    # True log posterior (over theta only)\n",
    "    #FUNCTIONS['log_posterior'] = lambda θ: FUNCTIONS['log_prior_theta'](θ) - (anorm(FUNCTIONS['fwd_constr'](θ))**2) / (2*(σ**2))\n",
    "    FUNCTIONS['log_posterior'] = lambda θ: FUNCTIONS['log_prior_theta'](θ) - (FUNCTIONS['fwd_constr'](θ)@FUNCTIONS['fwd_constr'](θ))/(2*σ**2)\n",
    "    FUNCTIONS['neg_log_posterior'] = lambda θ: - FUNCTIONS['log_posterior'](θ)\n",
    "    FUNCTIONS['grad_neg_log_posterior'] = grad(FUNCTIONS['neg_log_posterior'])\n",
    "    # Function to find point on the F(θ) = y manifold\n",
    "    FUNCTIONS['find_θ_giving_y'] = lambda: fsolve(lambda θ: r_[FUNCTIONS['fwd_constr'](θ), 0], randn(2))\n",
    "    return FUNCTIONS\n"
   ]
  },
  {
   "cell_type": "code",
   "execution_count": 6,
   "id": "bdccdb59",
   "metadata": {},
   "outputs": [],
   "source": [
    "# F = construct_functions(1.0, 0.02, 0.01)"
   ]
  },
  {
   "cell_type": "code",
   "execution_count": 6,
   "id": "8078a6c0",
   "metadata": {},
   "outputs": [],
   "source": [
    "# logprior       = lambda ξ: aMVN.logpdf(ξ, mean=zeros(3), cov=eye(3))\n",
    "# grad_logprior  = grad(logprior)\n",
    "# constr         = lambda ξ: anp.array([ξ[1]**2 + 3.0*(ξ[0]**2)*(ξ[0]**2 - 1) + σ*ξ[2]]) - y\n",
    "# jacob_constr   = jacobian(constr) \n",
    "# neg_log_dens    = lambda ξ: - logprior(ξ) + 0.5*anp.log(anorm(jacob_constr(ξ)@jacob_constr(ξ).T))#+ anp.log(anorm(anp.array([12.0*ξ[0]**3 - 6.0*ξ[0], 2.0*ξ[1], σ])))\n",
    "# grad_neg_log_dens = grad(neg_log_dens)\n",
    "\n",
    "# def find_point_on_lifted_manifold(υ_max=5, max_iter=200):\n",
    "#     iteration = 0\n",
    "#     while iteration <= max_iter:\n",
    "#         θ = anp.random.normal(size=2)\n",
    "#         #υ = (y - (θ[1]**2 + 3.0*(θ[0]**2)*(θ[0]**2 - 1))) / σ\n",
    "#         υ = (- constr(anp.array([*θ, 0.0])))[0] / σ\n",
    "#         if abs(υ) < υ_max:\n",
    "#             return anp.array([*θ, υ])\n",
    "#         else:\n",
    "#             continue\n",
    "\n",
    "# def log_approximate_lifted(ξ):\n",
    "#     return logprior(ξ) - (constr(ξ)**2) / (2*(ϵ_HMC**2))\n",
    "\n",
    "# neg_log_approximate_lifted = lambda ξ: - log_approximate_lifted(ξ)\n",
    "# grad_neg_log_approximate_lifted = grad(neg_log_approximate_lifted)"
   ]
  },
  {
   "cell_type": "code",
   "execution_count": 7,
   "id": "65a3166a",
   "metadata": {},
   "outputs": [],
   "source": [
    "### Functions for C-HMC\n",
    "# logprior      = lambda ξ: MVN(zeros(3), eye(3)).logpdf(ξ)\n",
    "# grad_logprior = lambda ξ: -ξ\n",
    "# constr        = lambda ξ: array([ξ[1]**2 + 3*(ξ[0]**2)*(ξ[0]**2 - 1) + σ*ξ[2]]) - y\n",
    "# jacob_constr  = lambda ξ: array([[12*ξ[0]**3 - 6*ξ[0], 2*ξ[1], σ]])\n",
    "# neg_log_dens  = lambda ξ: 0.5*(ξ@ξ) + log(norm(array([12*ξ[0]**3 - 6*ξ[0], 2*ξ[1], σ])))\n",
    "\n",
    "# def grad_neg_log_density(ξ):\n",
    "#     denominator = norm(array([12*ξ[0]**3 - 6*ξ[0], 2*ξ[1], σ]))**2\n",
    "#     numerator   = array([864*ξ[0]**5 + 72*ξ[0] - 288*ξ[0]**3, 8*ξ[1], 0])\n",
    "#     return ξ + numerator / denominator\n",
    "\n",
    "\n",
    "\n",
    "# h  = lambda θ: θ[1]**2 + 3*(θ[0]**2)*(θ[0]**2 - 1)\n",
    "# fσ = lambda ξ: h(ξ[:2]) + σ*ξ[2]\n",
    "\n",
    "# def find_point_on_lifted_manifold():\n",
    "#     θ = MVN(zeros(2), eye(2)).rvs()\n",
    "#     η = (y - (θ[1]**2 + 3*(θ[0]**2)*(θ[0]**2 - 1))) / σ\n",
    "#     return np.array([*θ, η])"
   ]
  },
  {
   "cell_type": "code",
   "execution_count": 7,
   "id": "dd54cef0",
   "metadata": {},
   "outputs": [],
   "source": [
    "def run_chmc(δ, n_step, N, F, ξ0=None, display=True, return_init=False):\n",
    "    \"\"\"Runs C-HMC. n_step is the number of leapfrog steps.\"\"\"\n",
    "    system          = DCEMS(F['neg_log_dens'], F['constr'], jacob_constr=F['jacob_constr'], grad_neg_log_dens=F['grad_neg_log_dens'])\n",
    "    integrator      = CLI(system, step_size=δ)\n",
    "    sampler         = SMHMC(system, integrator, default_rng(seed=1234), n_step=n_step)\n",
    "    if ξ0 is None:\n",
    "        init_state      = F['find_point_on_lifted_manifold']()\n",
    "    else:\n",
    "        init_state = ξ0\n",
    "    init_state_CHMC = ChainState(pos=init_state, mom=None, dir=1, _call_counts={})\n",
    "    start_time = time.time()\n",
    "    final_state, trace, stat = sampler.sample_chain(n_iter=N, init_state=init_state_CHMC, trace_funcs=[F['trace_func']], display_progress=display)\n",
    "    run_time = time.time() - start_time\n",
    "    if return_init:\n",
    "        return final_state, trace, stat, run_time, init_state\n",
    "    else:\n",
    "        return final_state, trace, stat, run_time"
   ]
  },
  {
   "cell_type": "code",
   "execution_count": 8,
   "id": "2dfcf1e0",
   "metadata": {},
   "outputs": [],
   "source": [
    "# final_CHMC, trace_CHMC, stat_CHMC, time_CHMC, init_CHMC = run_chmc(δ=0.1, n_step=5, N=1000, F=F, display=False, return_init=True)"
   ]
  },
  {
   "cell_type": "code",
   "execution_count": 48,
   "id": "52032764",
   "metadata": {},
   "outputs": [],
   "source": [
    "# system          = DCEMS(neg_log_dens, constr, jacob_constr=jacob_constr, grad_neg_log_dens=grad_neg_log_dens)\n",
    "# integrator      = CLI(system, step_size=δ_CHMC)\n",
    "# sampler         = SMHMC(system, integrator, default_rng(seed=1234), n_step=n_CHMC)\n",
    "# init_state      = find_point_on_lifted_manifold(υ_max=100)\n",
    "# init_state_CHMC = ChainState(pos=init_state, mom=None, dir=1, _call_counts={})\n",
    "# final_state, trace, stat = sampler.sample_chain(n_iter=N_CHMC, init_state=init_state_CHMC, trace_funcs=[trace_func])"
   ]
  },
  {
   "cell_type": "markdown",
   "id": "8aa0aeeb",
   "metadata": {},
   "source": [
    "### Standard HMC on approximate lifted distribution (gaussian kernel)"
   ]
  },
  {
   "cell_type": "markdown",
   "id": "38a55fc4",
   "metadata": {},
   "source": [
    "Try using a Gaussian kernel\n",
    "$$\n",
    "k_\\epsilon(u) = \\frac{1}{\\sqrt{2\\pi}\\epsilon}\\exp\\left(-\\frac{1}{2}\\frac{u^2}{\\epsilon^2}\\right)\n",
    "$$\n",
    "where $u = \\|f_\\sigma(\\xi) - y\\| = |f_\\sigma(\\xi) - y|$ \n",
    "The prior is still\n",
    "$$\n",
    "logp(\\xi) = log N(\\xi\\mid 0, I) = -\\frac{3}{2}\\log (2\\pi) - \\frac{1}{2}\\xi^\\top\\xi\n",
    "$$\n",
    "The posterior the is\n",
    "$$\n",
    "\\log p_\\epsilon(\\xi\\mid y) \\propto -\\frac{1}{2}\\xi^\\top\\xi -\\frac{(f_\\sigma(\\xi) - y)^2}{2\\epsilon^2}\n",
    "$$\n",
    "It's gradient is\n",
    "$$\n",
    "\\nabla_\\xi \\log p_\\epsilon(\\xi\\mid y) \\propto -\\xi - \\left(\\frac{f_\\sigma(\\xi) - y}{\\epsilon^2}\\right)\\nabla_\\xi f_\\sigma(\\xi)\n",
    "$$"
   ]
  },
  {
   "cell_type": "code",
   "execution_count": 49,
   "id": "af983d7f",
   "metadata": {},
   "outputs": [],
   "source": [
    "# def initial_point_lifted(n_tries=10000):\n",
    "#     for i in range(n_tries):\n",
    "#         # Sample from prior (ish)\n",
    "#         θ = MVN(zeros(2), eye(2)).rvs()\n",
    "#         η = randn() * σ\n",
    "#         ξ = np.array([*θ, η])\n",
    "#         if exp(log_approximate_lifted(ξ)) > 1e-5:\n",
    "#             return ξ\n",
    "#     print('Not found')\n",
    "#     return None"
   ]
  },
  {
   "cell_type": "code",
   "execution_count": 50,
   "id": "4c693998",
   "metadata": {},
   "outputs": [],
   "source": [
    "# def log_approximate_lifted(ξ):\n",
    "#     return -0.5*(ξ@ξ) - (constr(ξ)**2) / (2*(ϵ_HMC**2))\n",
    "\n",
    "# def neg_log_approximate_lifted(ξ):\n",
    "#     return 0.5*(ξ@ξ) + (constr(ξ)**2) / (2*(ϵ_HMC**2))\n",
    "\n",
    "# def grad_neg_log_approximate_lifted(ξ):\n",
    "#     return ξ + (constr(ξ) / (ϵ_HUG**2)) * jacob_constr(ξ).flatten()\n",
    "\n",
    "# from autograd import grad as grad_autograd\n",
    "# grad_neg_log_approximate_lifted = grad_autograd(neg_log_approximate_lifted)"
   ]
  },
  {
   "cell_type": "code",
   "execution_count": 51,
   "id": "7a81e07e",
   "metadata": {},
   "outputs": [],
   "source": [
    "# init_state_lifted_gauss      = init_state #initial_point_lifted()"
   ]
  },
  {
   "cell_type": "code",
   "execution_count": 9,
   "id": "8b39fb8a",
   "metadata": {},
   "outputs": [],
   "source": [
    "def run_hmc_approx_lifted(δ, n_step, N, F, init_state, target='neg_log_approximate_lifted', display=True):\n",
    "    assert target in ['neg_log_approximate_lifted', 'neg_log_posterior']\n",
    "    if target == 'neg_log_approximate_lifted':\n",
    "        grad_key = 'grad_neg_log_approximate_lifted'\n",
    "        trace_key = 'trace_func'\n",
    "    else: \n",
    "        grad_key = 'grad_neg_log_posterior'\n",
    "        init_state = F['find_θ_giving_y']()\n",
    "        trace_key = 'trace_func_θ'\n",
    "    system                   = EMS(F[target], grad_neg_log_dens=F[grad_key])\n",
    "    integrator               = LI(system, step_size=δ)\n",
    "    sampler                  = SMHMC(system, integrator, default_rng(seed=1234), n_step=n_step)\n",
    "    init_state               = ChainState(pos=init_state, mom=None, dir=1, _call_counts={})\n",
    "    start_time               = time.time()\n",
    "    final_state, trace, stat = sampler.sample_chain(n_iter=N, init_state=init_state, trace_funcs=[F[trace_key]], display_progress=display)\n",
    "    run_time                 = time.time() - start_time\n",
    "    return final_state, trace, stat, run_time"
   ]
  },
  {
   "cell_type": "code",
   "execution_count": 10,
   "id": "697286de",
   "metadata": {},
   "outputs": [],
   "source": [
    "# final_HMC, trace_HMC, stat_HMC, time_HMC = run_hmc_approx_lifted(δ=0.1, n_step=5, N=1000, F=F, init_state=init_CHMC, target='neg_log_posterior', display=False)"
   ]
  },
  {
   "cell_type": "code",
   "execution_count": 209,
   "id": "48f52652",
   "metadata": {},
   "outputs": [],
   "source": [
    "# system_HMC                   = EMS(neg_log_approximate_lifted, grad_neg_log_dens=grad_neg_log_approximate_lifted)\n",
    "# integrator_HMC               = LI(system_HMC, step_size=δ_HMC)\n",
    "# sampler_HMC                  = SMHMC(system_HMC, integrator_HMC, default_rng(seed=1234), n_step=n_HMC)\n",
    "# init_state_HMC               = ChainState(pos=init_state, mom=None, dir=1, _call_counts={})\n",
    "# final_HMC, trace_HMC, stat_HMC = sampler_HMC.sample_chain(n_iter=N_HMC, init_state=init_state_HMC, trace_funcs=[trace_func])"
   ]
  },
  {
   "cell_type": "code",
   "execution_count": 210,
   "id": "cd46328b",
   "metadata": {},
   "outputs": [],
   "source": [
    "# HMC_stats           = {key[0].split('.', 1)[1]: value for (key, value) in final_HMC._call_counts.items()}\n",
    "# n_grad_log_dens_HMC = HMC_stats['grad_neg_log_dens']\n",
    "# n_neg_log_dens_HMC  = HMC_stats['neg_log_dens']\n",
    "# samples_HMC         = np.vstack((trace_HMC['x'], trace_HMC['y'], trace_HMC['z'])).T\n",
    "# dens_values_HMC     = -np.apply_along_axis(neg_log_approximate_lifted, 1, samples_HMC)\n",
    "# logpiESS_HMC        = ESS_univariate(dens_values_HMC)[0]\n",
    "# minESS_HMC          = min(ESS_univariate(samples_HMC))"
   ]
  },
  {
   "cell_type": "markdown",
   "id": "bfd89c72",
   "metadata": {},
   "source": [
    "### Hug and Thug"
   ]
  },
  {
   "cell_type": "code",
   "execution_count": 11,
   "id": "e7b542c9",
   "metadata": {},
   "outputs": [],
   "source": [
    "def run_thug(T, B, N, α, F, init, target='log_approximate_lifted'):\n",
    "    assert target in ['log_approximate_lifted', 'log_posterior']\n",
    "    if target == 'log_approximate_lifted':\n",
    "        q = MVN(zeros(3), eye(3))\n",
    "        grad_key = 'grad_constr'\n",
    "    else:\n",
    "        q = MVN(zeros(2), eye(2))\n",
    "        grad_key = 'fwd_grad'\n",
    "        init = F['find_θ_giving_y']()\n",
    "    start_time = time.time()\n",
    "    samples, acc = HugTangential(init, T, B, N, α, q, F[target], F[grad_key])\n",
    "    run_time = time.time() - start_time\n",
    "    return samples, acc, run_time"
   ]
  },
  {
   "cell_type": "code",
   "execution_count": 12,
   "id": "c865c85e",
   "metadata": {},
   "outputs": [],
   "source": [
    "# hug_samples, acceptance_hug, time_hug = run_thug(B*δ_HUG, B, N, 0.0, F, init_CHMC)"
   ]
  },
  {
   "cell_type": "code",
   "execution_count": 13,
   "id": "4fb7d620",
   "metadata": {},
   "outputs": [],
   "source": [
    "# thug_samples, acceptance_thug, time_thug = run_thug(B*δ_THUG, B, N, 0.99, F, init_CHMC)"
   ]
  },
  {
   "cell_type": "code",
   "execution_count": 214,
   "id": "25808579",
   "metadata": {},
   "outputs": [],
   "source": [
    "# ALPHA = 0.99"
   ]
  },
  {
   "cell_type": "code",
   "execution_count": 62,
   "id": "a022fd60",
   "metadata": {},
   "outputs": [],
   "source": [
    "# #### Functions for HUG\n",
    "# q = MVN(zeros(3), eye(3))\n",
    "\n",
    "# # def log_epanechnikov_kernel(ξ, ϵ):\n",
    "# #     u = norm(constr(ξ))\n",
    "# #     with np.errstate(divide='ignore'):\n",
    "# #         return log((3*(1 - (u**2 / (ϵ**2))) / (4*ϵ)) * float(u <= ϵ))\n",
    "\n",
    "# # def indicator_kernel(ξ, ϵ):\n",
    "# #     with errstate(divide='ignore'):\n",
    "# #         return log(float(abs(constr(ξ)[0]) <= ϵ))\n",
    "\n",
    "# # logpi_HUG = lambda ξ: logprior(ξ) + log_epanechnikov_kernel(ξ, ϵ_HUG)\n",
    "# # logpi_HUG = lambda ξ: logprior(ξ) + indicator_kernel(ξ, ϵ_HUG)\n",
    "# # logpi_HUG = lambda ξ: log_approximate_lifted(ξ)\n",
    "# grad_HUG  = lambda ξ: jacob_constr(ξ).flatten()\n",
    "\n",
    "\n",
    "# ### Functions for THUG\n",
    "# # logpi_THUG = lambda ξ: logprior(ξ) + log_epanechnikov_kernel(ξ, ϵ_THUG)\n",
    "# # logpi_THUG = lambda ξ: log_approximate_lifted(ξ)\n",
    "# # logpi_THUG = lambda ξ: logprior(ξ) + indicator_kernel(ξ, ϵ_THUG)\n",
    "# grad_THUG  = lambda ξ: jacob_constr(ξ).flatten()\n",
    "\n",
    "# hug_samples, acceptance_hug = Hug(init_state, T_HUG, B_HUG, N_HUG, q, log_approximate_lifted, grad_HUG)\n",
    "# thug_samples, acceptance_thug = HugTangential(init_state, T_THUG, B_THUG, N_THUG, ALPHA, q, log_approximate_lifted, grad_THUG)"
   ]
  },
  {
   "cell_type": "markdown",
   "id": "26d76f3e",
   "metadata": {},
   "source": [
    "### Results"
   ]
  },
  {
   "cell_type": "code",
   "execution_count": 15,
   "id": "5f20f666",
   "metadata": {},
   "outputs": [],
   "source": [
    "# rmse = lambda x: np.sqrt(np.mean(x**2))\n",
    "\n",
    "\n",
    "# ### Computations for CHMC\n",
    "# CHMC_stats           = {key[0].split('.', 1)[1]: value for (key, value) in final_state._call_counts.items()}\n",
    "# n_constr_eval_CHMC   = CHMC_stats['constr']\n",
    "# n_jac_constr_CHMC    = CHMC_stats['jacob_constr']\n",
    "# n_grad_log_dens_CHMC = CHMC_stats['grad_neg_log_dens']\n",
    "# samples_CHMC         = np.vstack((trace['x'], trace['y'], trace['z'])).T\n",
    "# n_constr_and_jacob_CHMC = n_constr_eval_CHMC + n_jac_constr_CHMC\n",
    "\n",
    "\n",
    "# log_dens_values_CHMC     = -np.apply_along_axis(neg_log_dens, 1, samples_CHMC)\n",
    "# logpiESS_CHMC            = ESS_univariate(log_dens_values_CHMC)\n",
    "# minESS_CHMC              = min(ESS_univariate(samples_CHMC))\n",
    "# constr_per_ess_chmc      = n_constr_eval_CHMC / logpiESS_CHMC\n",
    "# c_and_j_per_ess_chmc     = (n_constr_eval_CHMC + n_jac_constr_CHMC) / logpiESS_CHMC\n",
    "# rmse_CHMC                = rmse(np.apply_along_axis(constr, 1, samples_CHMC) - y)\n",
    "\n",
    "# ### Computations for HUG\n",
    "# log_dens_values_HUG     = np.apply_along_axis(logpi_HUG, 1, hug_samples)\n",
    "# logpiESS_HUG            = ESS_univariate(log_dens_values_HUG)[0]\n",
    "# minESS_HUG              = min(ESS_univariate(hug_samples))\n",
    "# n_constr_eval_HUG       = N_HUG + 1\n",
    "# n_jacob_constr_HUG      = B_HUG * N_HUG\n",
    "# eval_per_ess_hug        = n_constr_eval_HUG / logpiESS_HUG\n",
    "# c_and_j_per_ess_hug     = (n_constr_eval_HUG + n_jacob_constr_HUG) / logpiESS_HUG\n",
    "# rmse_HUG                = rmse(np.apply_along_axis(constr, 1, hug_samples) - y)\n",
    "# n_constr_and_jacob_HUG  = n_constr_eval_HUG + n_jacob_constr_HUG\n",
    "\n",
    "# ### Computations for THUG\n",
    "# log_dens_values_THUG     = np.apply_along_axis(logpi_THUG, 1, thug_samples)\n",
    "# logpiESS_THUG            = ESS_univariate(log_dens_values_THUG)[0]\n",
    "# minESS_THUG              = min(ESS_univariate(thug_samples))\n",
    "# n_constr_eval_THUG       = N_THUG + 1\n",
    "# n_jacob_constr_THUG      = 1 + (B_THUG + 1) * N_THUG\n",
    "# eval_per_ess_thug        = n_constr_eval_THUG / logpiESS_THUG\n",
    "# c_and_j_per_ess_thug     = (n_constr_eval_THUG + n_jacob_constr_THUG) / logpiESS_THUG\n",
    "# rmse_THUG                = rmse(np.apply_along_axis(constr, 1, thug_samples) - y)\n",
    "# n_constr_and_jacob_THUG  = n_constr_eval_THUG + n_jacob_constr_THUG"
   ]
  },
  {
   "cell_type": "code",
   "execution_count": 65,
   "id": "324e0ad5",
   "metadata": {},
   "outputs": [],
   "source": [
    "n_constr_hug  = lambda B, N: N + 1\n",
    "n_jac_hug     = lambda B, N: B*N\n",
    "n_constr_thug = lambda B, N: N + 1\n",
    "n_jac_thug    = lambda B, N: 1 + (B + 1)*N\n",
    "\n",
    "def compute_metrics_thug_approx_lifted(samples, log_approximate_lifted, n_constr, n_jac, acceptance, time):\n",
    "    metrics = {}\n",
    "    log_dens_values                            = np.apply_along_axis(log_approximate_lifted, 1, samples)\n",
    "    metrics['log_dens_ESS']                    = ESS_univariate(log_dens_values.flatten())\n",
    "    metrics['minESS']                          = min(ESS_univariate(samples))\n",
    "    metrics['n_constr_and_jac_per_minESS']     = (n_constr + n_jac) / metrics['minESS']\n",
    "    metrics['n_constr_and_jac_per_logdensESS'] = (n_constr + n_jac) / metrics['log_dens_ESS'] \n",
    "    metrics['ap']                              = acceptance.mean()*100\n",
    "    metrics['time']                            = time\n",
    "    metrics['minESS_per_walltime']             = metrics['minESS'] / metrics['time']\n",
    "    metrics['logdensESS_per_walltime']         = metrics['log_dens_ESS'] / metrics['time']\n",
    "    return metrics\n",
    "\n",
    "def compute_metrics_mici(final_state, trace, neg_log_dens, stat_mici, time):\n",
    "    metrics = {}\n",
    "    stats    = {key[0].split('.', 1)[1]: value for (key, value) in final_state._call_counts.items()}\n",
    "    try:\n",
    "        samples  = np.vstack((trace['x'], trace['y'], trace['z'])).T\n",
    "    except KeyError:\n",
    "        samples  = np.vstack((trace['x'], trace['y'])).T\n",
    "    n_constr = stats['constr'] if 'constr' in stats.keys() else 0.0\n",
    "    n_jac_constr = stats['jacob_constr'] if 'jacob_constr' in stats.keys() else 0.0\n",
    "    n_neg_log_dens = stats['neg_log_dens']\n",
    "    n_grad_neg_log_dens = stats['grad_neg_log_dens']\n",
    "    log_dens_values = -np.apply_along_axis(neg_log_dens, 1, samples)\n",
    "    metrics['log_dens_ESS'] = ESS_univariate(log_dens_values.flatten())\n",
    "    metrics['minESS'] = min(ESS_univariate(samples))\n",
    "    metrics['minESS_thetaonly'] = min(ESS_univariate(samples[:, :2]))\n",
    "    # Metrics per minESS\n",
    "    metrics['n_constr_and_jac_per_minESS'] = (n_constr + n_jac_constr) / metrics['minESS']\n",
    "    metrics['n_constr_and_jac_and_grad_per_minESS'] = (n_constr + n_jac_constr + n_grad_neg_log_dens) / metrics['minESS']\n",
    "    metrics['n_constr_and_jac_and_grad_and_nld_per_minESS'] = (n_constr + n_jac_constr + n_grad_neg_log_dens + n_neg_log_dens) / metrics['minESS']\n",
    "    # Metrics per logpiESS\n",
    "    metrics['n_constr_and_jac_per_logdensESS'] = (n_constr + n_jac_constr) / metrics['log_dens_ESS']\n",
    "    metrics['n_constr_and_jac_and_grad_per_logdensESS'] = (n_constr + n_jac_constr + n_grad_neg_log_dens) / metrics['log_dens_ESS']\n",
    "    metrics['n_constr_and_jac_and_grad_and_nld_per_logdensESS'] = (n_constr + n_jac_constr + n_grad_neg_log_dens + n_neg_log_dens) / metrics['log_dens_ESS']\n",
    "    # Acceptance probability\n",
    "    metrics['ap'] = stat_mici['accept_stat'].mean()*100\n",
    "    metrics['time'] = time\n",
    "    metrics['minESS_per_walltime']             = metrics['minESS'] / metrics['time']\n",
    "    metrics['logdensESS_per_walltime']         = metrics['log_dens_ESS'] / metrics['time']\n",
    "    metrics['minESS_theta_only_per_walltime']  = metrics['minESS_thetaonly'] / metrics['time']\n",
    "    return metrics"
   ]
  },
  {
   "cell_type": "code",
   "execution_count": 230,
   "id": "0f45b71b",
   "metadata": {},
   "outputs": [],
   "source": [
    "# metrics_hug  = compute_metrics_thug_approx_lifted(hug_samples, F['log_approximate_lifted'], n_constr_hug(), n_jac_hug(), acceptance_hug, time_hug)\n",
    "# metrics_thug = compute_metrics_thug_approx_lifted(thug_samples, F['log_approximate_lifted'], n_constr_thug(), n_jac_thug(), acceptance_thug, time_thug)\n",
    "# metrics_hmc  = compute_metrics_mici(final_HMC, trace_HMC, F['neg_log_approximate_lifted'], stat_HMC, time_HMC)\n",
    "# metrics_chmc = compute_metrics_mici(final_CHMC, trace_CHMC, F['neg_log_dens'], stat_CHMC, time_CHMC)"
   ]
  },
  {
   "cell_type": "code",
   "execution_count": 23,
   "id": "e4e9eaaa",
   "metadata": {},
   "outputs": [],
   "source": [
    "# AP_HUG  = acceptance_hug.mean() * 100\n",
    "# AP_THUG = acceptance_thug.mean() * 100\n",
    "# AP_CHMC = stat['accept_stat'].mean() * 100\n",
    "# AP_HMC  = stat_HMC['accept_stat'].mean() * 100\n",
    "\n",
    "# print(\"Mean Acceptance Probability HUG:  {:.3}\".format(AP_HUG))\n",
    "# print(\"Mean Acceptance Probability THUG: {:.3}\".format(AP_THUG))\n",
    "# print(\"Mean Acceptance Probability CHMC: {:.3}\".format(AP_CHMC))\n",
    "# print(\"Mean Acceptance Probability HMC:  {:.3}\".format(AP_HMC))"
   ]
  },
  {
   "cell_type": "code",
   "execution_count": 22,
   "id": "4c0b3185",
   "metadata": {},
   "outputs": [],
   "source": [
    "# print(\"HUG:  \", n_constr_eval_HUG)\n",
    "# print(\"THUG: \", n_constr_eval_THUG)\n",
    "# print(\"CHMC: \", n_constr_eval_CHMC)\n",
    "# print(\"HMC:  \", n_neg_log_dens_HMC)"
   ]
  },
  {
   "cell_type": "code",
   "execution_count": 24,
   "id": "05ad8b5d",
   "metadata": {},
   "outputs": [],
   "source": [
    "# print(\"HUG:  \", n_jacob_constr_HUG)\n",
    "# print(\"THUG: \", n_jacob_constr_THUG)\n",
    "# print(\"CHMC: \", n_jac_constr_CHMC)\n",
    "# print(\"HMC:  \", n_grad_log_dens_HMC)"
   ]
  },
  {
   "cell_type": "code",
   "execution_count": 25,
   "id": "43c75d84",
   "metadata": {},
   "outputs": [],
   "source": [
    "# print(\"HUG:  \", n_constr_eval_HUG + n_jacob_constr_HUG)\n",
    "# print(\"THUG: \", n_constr_eval_THUG + n_jacob_constr_THUG)\n",
    "# print(\"CHMC: \", n_constr_eval_CHMC + n_jac_constr_CHMC)\n",
    "# print(\"HMC:  \", n_neg_log_dens_HMC + n_grad_log_dens_HMC)"
   ]
  },
  {
   "cell_type": "code",
   "execution_count": 26,
   "id": "c759caa2",
   "metadata": {},
   "outputs": [],
   "source": [
    "# print('ESS HUG:  ', logpiESS_HUG)\n",
    "# print('ESS THUG: ', logpiESS_THUG)\n",
    "# print('ESS HMC:  ', logpiESS_HMC)\n",
    "# print('ESS CHMC: ', logpiESS_CHMC)"
   ]
  },
  {
   "cell_type": "code",
   "execution_count": 27,
   "id": "ea1cd663",
   "metadata": {},
   "outputs": [],
   "source": [
    "# print('minESS HUG:  ', minESS_HUG)\n",
    "# print('minESS THUG: ', minESS_THUG)\n",
    "# print('minESS HMC:  ', minESS_HMC)\n",
    "# print('minESS CHMC: ', minESS_CHMC)"
   ]
  },
  {
   "cell_type": "code",
   "execution_count": 28,
   "id": "6ae40425",
   "metadata": {},
   "outputs": [],
   "source": [
    "# MIN_ESS = True\n",
    "# if MIN_ESS:\n",
    "#     ESS_CHMC = minESS_CHMC\n",
    "#     ESS_HMC  = minESS_HMC\n",
    "#     ESS_THUG = minESS_THUG\n",
    "#     ESS_HUG  = minESS_HUG\n",
    "# else:\n",
    "#     ESS_CHMC = logpiESS_CHMC\n",
    "#     ESS_HMC  = logpiESS_HMC[0]\n",
    "#     ESS_THUG = logpiESS_THUG[0]\n",
    "#     ESS_HUG  = logpiESS_HUG[0]"
   ]
  },
  {
   "cell_type": "code",
   "execution_count": 29,
   "id": "d8290ba1",
   "metadata": {},
   "outputs": [],
   "source": [
    "# print(\"--- Constraint ---\")\n",
    "# print(\"HUG:  \", (n_constr_eval_HUG / ESS_HUG))\n",
    "# print(\"THUG: \", (n_constr_eval_THUG / ESS_THUG))\n",
    "# print(\"CHMC: \", n_constr_eval_CHMC / ESS_CHMC)\n",
    "# print(\"HMC:  \", (n_neg_log_dens_HMC / ESS_HMC))\n",
    "\n",
    "# print(\"\\n\")\n",
    "\n",
    "# print(\"--- Constraint + Jacobian ---\")\n",
    "# print(\"HUG:  \", ((n_constr_eval_HUG + n_jacob_constr_HUG) / ESS_HUG))\n",
    "# print(\"THUG: \", ((n_constr_eval_THUG + n_jacob_constr_THUG) / ESS_THUG))\n",
    "# print(\"CHMC: \", (n_constr_eval_CHMC + n_jac_constr_CHMC) / ESS_CHMC)\n",
    "# print(\"HMC:  \", ((n_neg_log_dens_HMC + n_grad_log_dens_HMC) / ESS_HMC))\n",
    "\n",
    "# print(\"\\n\")\n",
    "\n",
    "# print(\"--- Constraint + Jacobian + Grad Log Density ---\")\n",
    "# print(\"HUG:  \", ((n_constr_eval_HUG + n_jacob_constr_HUG) / ESS_HUG))\n",
    "# print(\"THUG: \", ((n_constr_eval_THUG + n_jacob_constr_THUG) / ESS_THUG))\n",
    "# print(\"CHMC: \", (n_constr_eval_CHMC + n_jac_constr_CHMC + n_grad_log_dens_CHMC) / ESS_CHMC)"
   ]
  },
  {
   "cell_type": "code",
   "execution_count": 58,
   "id": "e54738bc",
   "metadata": {},
   "outputs": [],
   "source": [
    "# COST = array([n_constr_eval_HUG, n_constr_eval_THUG, n_neg_log_dens_HMC, n_constr_eval_CHMC])\n",
    "# ESS  = array([*logpiESS_HUG, *logpiESS_THUG, *logpiESS_HMC, logpiESS_CHMC])\n",
    "\n",
    "# # Let's make Andrea's plot\n",
    "# fig, ax = plt.subplots()\n",
    "# ax.scatter(COST, ESS)\n",
    "# plt.show()"
   ]
  },
  {
   "cell_type": "code",
   "execution_count": 59,
   "id": "b2aa3e70",
   "metadata": {},
   "outputs": [],
   "source": [
    "# logpiESS_CHMC_filamentary = ESS_univariate(np.apply_along_axis(logpi_HUG, 1, samples_CHMC))[0]"
   ]
  },
  {
   "cell_type": "code",
   "execution_count": 30,
   "id": "3810be89",
   "metadata": {},
   "outputs": [],
   "source": [
    "def create_latex_table_for_linz():\n",
    "    string  = r'\\begin{center}'\n",
    "    string += \"\\n\\t\" + r'\\begin{tabular}{ | l | l | l | l |}'\n",
    "    string += \"\\n\\t\" + r'\\hline'\n",
    "    string += \"\\n\\t\" + \"Algorithm & $f + \\\\nabla f$ & ESS & Cost per ESS\\\\\\ \\hline\"\n",
    "    string += \"\\n\\t\" + \"HUG  & {} & {:.2f} & {:.2f} \\\\\\ \\hline\".format(n_constr_eval_HUG + n_jacob_constr_HUG, ESS_HUG, (n_constr_eval_HUG + n_jacob_constr_HUG) / ESS_HUG)\n",
    "    string += \"\\n\\t\" + \"THUG & {} & {:.2f} & {:.2f} \\\\\\ \\hline\".format(n_constr_eval_THUG + n_jacob_constr_THUG, ESS_THUG, (n_constr_eval_THUG + n_jacob_constr_THUG) / ESS_THUG)\n",
    "    string += \"\\n\\t\" + \"HMC  & {} & {:.2f} & {:.2f} \\\\\\ \\hline\".format(n_neg_log_dens_HMC + n_grad_log_dens_HMC, ESS_HMC, (n_neg_log_dens_HMC + n_grad_log_dens_HMC) / ESS_HMC)\n",
    "    # C-HMC where ESS computed on manifold density\n",
    "    string += \"\\n\\t\" + \"CHMC & {} & {:.2f} & {:.2f} \\\\\\ \\hline\".format(n_constr_eval_CHMC + n_jac_constr_CHMC, ESS_CHMC, (n_constr_eval_CHMC + n_jac_constr_CHMC) / ESS_CHMC)\n",
    "    # C-HMC where ESS computed on filamentary density\n",
    "#     string += \"\\n\\t\" + \"CHMC & $p$ & {} & {:.2f} & {:.2f} \\\\\\ \\hline\".format(n_constr_eval_CHMC + n_jac_constr_CHMC, ESS_CHMC_filamentary, (n_constr_eval_CHMC + n_jac_constr_CHMC) / logpiESS_CHMC_filamentary)\n",
    "    string += \"\\n\\t\" + r'\\end{tabular}'\n",
    "    string += \"\\n\" + r'\\end{center}'\n",
    "    return string\n",
    "\n",
    "def create_latex_table_with_δ_and_AP():\n",
    "    string  = r'\\begin{center}'\n",
    "    string += \"\\n\\t\" + r'\\begin{tabular}{ | l | l | l | l | l | l |}'\n",
    "    string += \"\\n\\t\" + r'\\hline'\n",
    "    string += \"\\n\\t\" + \"Algorithm & $\\delta$ & Acc. Prob & $f + \\\\nabla f$ & ESS & Cost per ESS\\\\\\ \\hline\"\n",
    "    string += \"\\n\\t\" + \"HUG  & {} & {} & {:.1f} & {:.2f} & {:.2f} \\\\\\ \\hline\".format(n_constr_eval_HUG + n_jacob_constr_HUG, δ_HUG, AP_HUG, ESS_HUG, (n_constr_eval_HUG + n_jacob_constr_HUG) / ESS_HUG)\n",
    "    string += \"\\n\\t\" + \"THUG & {} & {} & {:.1f} & {:.2f} & {:.2f} \\\\\\ \\hline\".format(n_constr_eval_THUG + n_jacob_constr_THUG, δ_THUG, AP_THUG, ESS_THUG, (n_constr_eval_THUG + n_jacob_constr_THUG) / ESS_THUG)\n",
    "    string += \"\\n\\t\" + \"HMC  & {} & {} & {:.1f} & {:.2f} & {:.2f} \\\\\\ \\hline\".format(n_neg_log_dens_HMC + n_grad_log_dens_HMC, δ_HMC, AP_HMC, ESS_HMC, (n_neg_log_dens_HMC + n_grad_log_dens_HMC) / ESS_HMC)\n",
    "    string += \"\\n\\t\" + \"CHMC & {} & {} & {:.1f} & {:.2f} & {:.2f} \\\\\\ \\hline\".format(n_constr_eval_CHMC + n_jac_constr_CHMC, δ_CHMC, AP_CHMC, ESS_CHMC, (n_constr_eval_CHMC + n_jac_constr_CHMC) / ESS_CHMC)\n",
    "    string += \"\\n\\t\" + r'\\end{tabular}'\n",
    "    string += \"\\n\" + r'\\end{center}'\n",
    "    return string\n",
    "\n",
    "def create_latex_table_both_ess():\n",
    "    string  = r'\\begin{center}'\n",
    "    string += \"\\n\\t\" + r'\\begin{tabular}{ | l | l | l | l | l | l |}'\n",
    "    string += \"\\n\\t\" + r'\\hline'\n",
    "    string += \"\\n\\t\" + \"Algorithm & Cost/minESS & Cost/logdensESS \\\\\\ \\hline\"\n",
    "    string += \"\\n\\t\" + \"HUG  & {:.2f} & {:.2f} \\\\\\ \\hline\".format(n_constr_and_jacob_HUG / minESS_HUG, n_constr_and_jacob_HUG / logpiESS_HUG)\n",
    "    string += \"\\n\\t\" + \"THUG & {:.2f} & {:.2f} \\\\\\ \\hline\".format(n_constr_and_jacob_THUG / minESS_THUG, n_constr_and_jacob_THUG / logpiESS_THUG)\n",
    "#     string += \"\\n\\t\" + \"HMC  & {:.2f} & {:.2f} \\\\\\ \\hline\".format((n_neg_log_dens_HMC + n_grad_log_dens_HMC) / minESS_HMC)\n",
    "    string += \"\\n\\t\" + \"CHMC & {:.2f} & {:.2f} \\\\\\ \\hline\".format(n_constr_and_jacob_CHMC / minESS_CHMC, n_constr_and_jacob_CHMC / logpiESS_CHMC)\n",
    "    string += \"\\n\\t\" + r'\\end{tabular}'\n",
    "    string += \"\\n\" + r'\\end{center}'\n",
    "    return string\n",
    "\n",
    "def create_latex_table_both_ess_metrics(metrics_hug, metrics_thug, metrics_chmc, metrics_hmc):\n",
    "    string  = r'\\begin{center}'\n",
    "    string += \"\\n\\t\" + r'\\begin{tabular}{ | l | l | l | l | l | l |}'\n",
    "    string += \"\\n\\t\" + r'\\hline'\n",
    "    string += \"\\n\\t\" + \"Algorithm & Cost/minESS & Cost/logdensESS \\\\\\ \\hline\"\n",
    "    string += \"\\n\\t\" + \"HUG  & {:.2f} & {:.2f} \\\\\\ \\hline\".format(metrics_hug['n_constr_and_jac_per_minESS'], metrics_hug['n_constr_and_jac_per_logdensESS'])\n",
    "    string += \"\\n\\t\" + \"THUG & {:.2f} & {:.2f} \\\\\\ \\hline\".format(metrics_thug['n_constr_and_jac_per_minESS'], metrics_thug['n_constr_and_jac_per_logdensESS'])\n",
    "    string += \"\\n\\t\" + \"HMC  & {:.2f} & {:.2f} \\\\\\ \\hline\".format(metrics_hmc['n_constr_and_jac_per_minESS'], metrics_hmc['n_constr_and_jac_per_logdensESS'])\n",
    "    string += \"\\n\\t\" + \"CHMC & {:.2f} & {:.2f} \\\\\\ \\hline\".format(metrics_chmc['n_constr_and_jac_per_minESS'], metrics_chmc['n_constr_and_jac_per_logdensESS'])\n",
    "    string += \"\\n\\t\" + r'\\end{tabular}'\n",
    "    string += \"\\n\" + r'\\end{center}'\n",
    "    return string\n",
    "\n",
    "def create_latex_table_both_ess_metrics_per_walltime(metrics_hug, metrics_thug, metrics_chmc, metrics_hmc):\n",
    "    string  = r'\\begin{center}'\n",
    "    string += \"\\n\\t\" + r'\\begin{tabular}{ | l | l | l | l | l | l |}'\n",
    "    string += \"\\n\\t\" + r'\\hline'\n",
    "    string += \"\\n\\t\" + \"Algorithm & minESS/time & logdensESS/time \\\\\\ \\hline\"\n",
    "    string += \"\\n\\t\" + \"HUG  & {:.2f} & {:.2f} \\\\\\ \\hline\".format(metrics_hug['minESS_per_walltime'], metrics_hug['logdensESS_per_walltime'])\n",
    "    string += \"\\n\\t\" + \"THUG & {:.2f} & {:.2f} \\\\\\ \\hline\".format(metrics_thug['minESS_per_walltime'], metrics_thug['logdensESS_per_walltime'])\n",
    "    string += \"\\n\\t\" + \"HMC  & {:.2f} & {:.2f} \\\\\\ \\hline\".format(metrics_hmc['minESS_per_walltime'], metrics_hmc['logdensESS_per_walltime'])\n",
    "    string += \"\\n\\t\" + \"CHMC & {:.2f} & {:.2f} \\\\\\ \\hline\".format(metrics_chmc['minESS_per_walltime'], metrics_chmc['logdensESS_per_walltime'])\n",
    "    string += \"\\n\\t\" + r'\\end{tabular}'\n",
    "    string += \"\\n\" + r'\\end{center}'\n",
    "    return string\n",
    "\n",
    "\n",
    "def create_latex_table(ϵs, αs):\n",
    "    ϵs_string = [sub('(?<=-)0+', '', '{:.0e}'.format(ϵ)) for ϵ in ϵs]\n",
    "    string = r'\\begin{center}'\n",
    "    string += \"\\n\\t\" + r'\\begin{tabular}{ | l | l | l | l | l | l | l | l | l | l |}'\n",
    "    string += \"\\n\\t\" + r'\\hline'\n",
    "    string += \"\\n\\t\" + \"Algorithm & RMSE & $J_f$ & $f$ & $J_f J_f^\\\\top$ & $\\\\nabla\\log\\overline{\\pi}$ & ESS & C-ESS & CJ-ESS & AP \\\\\\ \\hline\"\n",
    "    string += \"\\n\\t\" + \"C-HMC & {:.1} & {} & {} & {} & {} & {} & {} & {} & {:.2f}  \\\\\\ \\hline\".format(RMSE_CHMC.mean(), int(N_JAC_CONSTR_CHMC.mean()), int(N_CONSTR_EVAL_CHMC.mean()), int(N_GRAM_CHMC.mean()), int(N_GRAD_LOG_DENS_CHMC.mean()), int(LOGPI_ESS_CHMC.mean()), int(CONSTR_PER_ESS_CHMC.mean()), int(C_AND_J_PER_ESS_CHMC.mean()), ACCEPT_STAT_CHMC.mean())\n",
    "    for i in range(len(ϵs)):\n",
    "        string += \"\\n\\t\" + \"Hug ($\\epsilon = \\\\num{{{}}}$) & {:.1} & {} & {} & {} & {} & {} & {} & {} & {:.2f} \\\\\\ \\hline\".format(ϵs_string[i], RMSE_HUG.mean(axis=0)[i], int(N_JAC_CONSTR_HUG.mean(axis=0)[i]), int(N_CONSTR_EVAL_HUG.mean(axis=0)[i]), 0, 0, int(LOGPI_ESS_HUG.mean(axis=0)[i]), int(CONSTR_PER_ESS_HUG.mean(axis=0)[i]), int(C_AND_J_PER_ESS_HUG.mean(axis=0)[i]), ACCEPT_STAT_HUG.mean(axis=0)[i])\n",
    "    for i, ϵ in enumerate(ϵs):\n",
    "        string += \"\\n\\t\" + \"Thug ($\\\\alpha={},\\epsilon = \\\\num{{{}}}$) & {:.1} & {} & {} & {} & {} & {} & {} & {} & {:.2f} \\\\\\ \\hline\".format(αs[i], ϵs_string[i], RMSE_THUG.mean(axis=0)[i], int(N_JAC_CONSTR_THUG.mean(axis=0)[i]), int(N_CONSTR_EVAL_THUG.mean(axis=0)[i]), 0, 0, int(LOGPI_ESS_THUG.mean(axis=0)[i]), int(CONSTR_PER_ESS_THUG.mean(axis=0)[i]), int(C_AND_J_PER_ESS_THUG.mean(axis=0)[i]), ACCEPT_STAT_THUG.mean(axis=0)[i])\n",
    "    string = string[:-6] # remove last \\\\hline\n",
    "    string += \"\\n\\t\" + r'\\hline'\n",
    "    string += \"\\n\\t\" + r'\\end{tabular}'\n",
    "    string += \"\\n\" + r'\\end{center}'\n",
    "    return string"
   ]
  },
  {
   "cell_type": "code",
   "execution_count": 16,
   "id": "595d0381",
   "metadata": {},
   "outputs": [],
   "source": [
    "# print(create_latex_table_for_linz())"
   ]
  },
  {
   "cell_type": "code",
   "execution_count": 17,
   "id": "4732f673",
   "metadata": {},
   "outputs": [],
   "source": [
    "# print(create_latex_table_with_δ_and_AP())"
   ]
  },
  {
   "cell_type": "code",
   "execution_count": 18,
   "id": "caf71a20",
   "metadata": {
    "scrolled": true
   },
   "outputs": [],
   "source": [
    "# print(create_latex_table_both_ess())"
   ]
  },
  {
   "cell_type": "code",
   "execution_count": 19,
   "id": "603e63b6",
   "metadata": {},
   "outputs": [],
   "source": [
    "# print(create_latex_table_both_ess_metrics(metrics_hug, metrics_thug, metrics_chmc))"
   ]
  },
  {
   "cell_type": "markdown",
   "id": "43c64f3b",
   "metadata": {},
   "source": [
    "Should make two tables: one for cost/minESS one for cost/logpiESS. Basically rows of table should have different delta values and the columsn would be HUG/THUG/CHMC."
   ]
  },
  {
   "cell_type": "markdown",
   "id": "27cba817",
   "metadata": {},
   "source": [
    "# Product Three Different Table to show tradeoff"
   ]
  },
  {
   "cell_type": "code",
   "execution_count": 20,
   "id": "0ecef5de",
   "metadata": {},
   "outputs": [],
   "source": [
    "def something(ϵs, δs):\n",
    "    for (ϵ, δ) in zip(ϵs, δs):\n",
    "        # Prep functions for HMC/THUG\n",
    "        log_approximate_lifted = lambda ξ: logprior(ξ) - (constr(ξ)**2) / (2*(ϵ**2))\n",
    "        neg_log_approximate_lifted = lambda ξ: - log_approximate_lifted(ξ)\n",
    "        grad_neg_log_approximate_lifted = grad(neg_log_approximate_lifted)\n",
    "        # C-HMC\n",
    "        system          = DCEMS(neg_log_dens, constr, jacob_constr=jacob_constr, grad_neg_log_dens=grad_neg_log_dens)\n",
    "        integrator      = CLI(system, step_size=δ)\n",
    "        sampler         = SMHMC(system, integrator, default_rng(seed=1234), n_step=n_CHMC)\n",
    "        init_state      = find_point_on_lifted_manifold(υ_max=100)\n",
    "        init_state_CHMC = ChainState(pos=init_state, mom=None, dir=1, _call_counts={})\n",
    "        final_state, trace, stat = sampler.sample_chain(n_iter=N_CHMC, init_state=init_state_CHMC, trace_funcs=[trace_func])\n",
    "        # HMC\n",
    "        system_HMC                   = EMS(neg_log_approximate_lifted, grad_neg_log_dens=grad_neg_log_approximate_lifted)\n",
    "        integrator_HMC               = LI(system_HMC, step_size=δ)\n",
    "        sampler_HMC                  = SMHMC(system_HMC, integrator_HMC, default_rng(seed=1234), n_step=n_HMC)\n",
    "        init_state_HMC               = ChainState(pos=init_state, mom=None, dir=1, _call_counts={})\n",
    "        final_HMC, trace_HMC, stat_HMC = sampler_HMC.sample_chain(n_iter=N_HMC, init_state=init_state_HMC, trace_funcs=[trace_func])\n",
    "        # THUG & HUG\n",
    "        hug_samples, acceptance_hug = Hug(init_state, δ*n_CHMC, B_HUG, N_HUG, q, log_approximate_lifted, grad_HUG)\n",
    "        thug_samples, acceptance_thug = HugTangential(init_state, δ*n_CHMC, B_THUG, N_THUG, 0.99, q, log_approximate_lifted, grad_THUG)\n",
    "        # COMPUTATIONS\n",
    "        metrics_hug  = compute_metrics(hug_samples, log_approximate_lifted, n_constr_hug(), n_jac_hug(), acceptance_hug)\n",
    "        metrics_thug = compute_metrics(thug_samples, log_approximate_lifted, n_constr_thug(), n_jac_thug(), acceptance_thug)\n",
    "        metrics_hmc  = compute_metrics_mici(final_HMC, trace_HMC, neg_log_approximate_lifted, stat_HMC)\n",
    "        metrics_chmc = compute_metrics_mici(final_state, trace, neg_log_dens, stat)\n",
    "        print('ϵ = {:.4} δ = {:.4}'.format(ϵ, δ))\n",
    "        string  = r'\\begin{center}'\n",
    "        string += \"\\n\\t\" + r'\\begin{tabular}{ | l | l | l | l | l | l |}'\n",
    "        string += \"\\n\\t\" + r'\\hline'\n",
    "        string += \"\\n\\t\" + \"Algorithm & Cost/minESS & Cost/logdensESS \\\\\\ \\hline\"\n",
    "        string += \"\\n\\t\" + \"HUG  & {:.2f} & {:.2f} \\\\\\ \\hline\".format(metrics_hug['n_constr_and_jac_per_minESS'], metrics_hug['n_constr_and_jac_per_logdensESS'])\n",
    "        string += \"\\n\\t\" + \"THUG & {:.2f} & {:.2f} \\\\\\ \\hline\".format(metrics_thug['n_constr_and_jac_per_minESS'], metrics_thug['n_constr_and_jac_per_logdensESS'])\n",
    "        string += \"\\n\\t\" + \"HMC  & {:.2f} & {:.2f} \\\\\\ \\hline\".format(metrics_hmc['n_constr_and_jac_per_minESS'], metrics_hmc['n_constr_and_jac_per_logdensESS'])\n",
    "        string += \"\\n\\t\" + \"CHMC & {:.2f} & {:.2f} \\\\\\ \\hline\".format(metrics_chmc['n_constr_and_jac_per_minESS'], metrics_chmc['n_constr_and_jac_per_logdensESS'])\n",
    "        string += \"\\n\\t\" + r'\\end{tabular}'\n",
    "        string += \"\\n\" + r'\\end{center}'\n",
    "        print(string)\n"
   ]
  },
  {
   "cell_type": "code",
   "execution_count": null,
   "id": "2f36710b",
   "metadata": {},
   "outputs": [],
   "source": [
    "# something([ϵ_HUG, ϵ_HUG, ϵ_HUG], [0.3, 0.1, 0.01])"
   ]
  },
  {
   "cell_type": "markdown",
   "id": "f7789528",
   "metadata": {},
   "source": [
    "# Compare over wallclock time"
   ]
  },
  {
   "cell_type": "markdown",
   "id": "e813d263",
   "metadata": {},
   "source": [
    "ESS normalized by walltime (higher better)"
   ]
  },
  {
   "cell_type": "code",
   "execution_count": 48,
   "id": "4322bf50",
   "metadata": {},
   "outputs": [],
   "source": [
    "def compare_ess_per_walltime(y, σ, B, N, α, ϵhug, ϵthug, ϵhmc, δhug, δthug, δhmc, δchmc, target='lifted', over='walltime', chmc_theta_only=False):\n",
    "    assert target in ['lifted', 'theta']\n",
    "    assert over in ['walltime', 'computations']\n",
    "    if target == 'lifted':\n",
    "        key_hug = 'log_approximate_lifted'\n",
    "        key_hmc = 'neg_log_approximate_lifted'\n",
    "    else:\n",
    "        key_hug = 'log_posterior'\n",
    "        key_hmc = 'neg_log_posterior'\n",
    "        \n",
    "    Fhug  = construct_functions(y, σ, ϵhug)\n",
    "    Fthug = construct_functions(y, σ, ϵthug)\n",
    "    Fhmc  = construct_functions(y, σ, ϵhmc)\n",
    "    # Run C-HMC\n",
    "    final_CHMC, trace_CHMC, stat_CHMC, time_CHMC, init_CHMC = run_chmc(δ=δchmc, n_step=B, N=N, F=Fhug, display=False, return_init=True)\n",
    "    # Run HMC \n",
    "    final_HMC, trace_HMC, stat_HMC, time_HMC = run_hmc_approx_lifted(δ=δhmc, n_step=B, N=N, F=Fhmc, init_state=init_CHMC, target=key_hmc, display=False)\n",
    "    # Run THUG (α > 0) and HUG (α = 0)\n",
    "    thug_samples, acceptance_thug, time_thug = run_thug(B*δthug, B, N, α, Fthug, init_CHMC, target=key_hug)\n",
    "    hug_samples, acceptance_hug, time_hug = run_thug(B*δhug, B, N, 0.0, Fhug, init_CHMC, target=key_hug)\n",
    "    # Compute metrics\n",
    "    metrics_hug  = compute_metrics_thug_approx_lifted(hug_samples, Fhug[key_hug], n_constr_hug(B,N), n_jac_hug(B,N), acceptance_hug, time_hug)\n",
    "    metrics_thug = compute_metrics_thug_approx_lifted(thug_samples, Fthug[key_hug], n_constr_thug(B,N), n_jac_thug(B,N), acceptance_thug, time_thug)\n",
    "    metrics_hmc  = compute_metrics_mici(final_HMC, trace_HMC, Fhmc[key_hmc], stat_HMC, time_HMC)\n",
    "    metrics_chmc = compute_metrics_mici(final_CHMC, trace_CHMC, Fhmc['neg_log_dens'], stat_CHMC, time_CHMC)\n",
    "    if chmc_theta_only:\n",
    "        metrics_chmc['minESS'] = metrics_chmc['minESS_thetaonly']\n",
    "    if over == 'walltime':\n",
    "        print(create_latex_table_both_ess_metrics_per_walltime(metrics_hug, metrics_thug, metrics_chmc, metrics_hmc))\n",
    "    else:\n",
    "        print(create_latex_table_both_ess_metrics(metrics_hug, metrics_thug, metrics_chmc, metrics_hmc))\n",
    "        \n",
    "    \n",
    "    \n",
    "    "
   ]
  },
  {
   "cell_type": "code",
   "execution_count": 36,
   "id": "4c186855",
   "metadata": {},
   "outputs": [],
   "source": [
    "_ = np.seterr(invalid='ignore', over='ignore')"
   ]
  },
  {
   "cell_type": "markdown",
   "id": "f295f9f3",
   "metadata": {},
   "source": [
    "### Highest Step size on Lifted"
   ]
  },
  {
   "cell_type": "code",
   "execution_count": 37,
   "id": "54c4cde6",
   "metadata": {},
   "outputs": [
    {
     "name": "stdout",
     "output_type": "stream",
     "text": [
      "\\begin{center}\n",
      "\t\\begin{tabular}{ | l | l | l | l | l | l |}\n",
      "\t\\hline\n",
      "\tAlgorithm & minESS/time & logdensESS/time \\\\ \\hline\n",
      "\tHUG  & 0.61 & 1.14 \\\\ \\hline\n",
      "\tTHUG & 0.37 & 5.62 \\\\ \\hline\n",
      "\tHMC  & 0.07 & 0.07 \\\\ \\hline\n",
      "\tCHMC & 0.22 & 0.57 \\\\ \\hline\n",
      "\t\\end{tabular}\n",
      "\\end{center}\n"
     ]
    }
   ],
   "source": [
    "compare_ess_per_walltime(\n",
    "    y=1.0,\n",
    "    σ=0.02,\n",
    "    B=20,\n",
    "    N=1000,\n",
    "    α=0.99,\n",
    "    ϵhug=0.001,\n",
    "    ϵthug=0.001,\n",
    "    ϵhmc=0.001,\n",
    "    δhug=0.3,\n",
    "    δthug=0.3,\n",
    "    δhmc=0.3,\n",
    "    δchmc=0.3,\n",
    "    target='lifted'\n",
    ")"
   ]
  },
  {
   "cell_type": "markdown",
   "id": "508f1345",
   "metadata": {},
   "source": [
    "### Second Highest Step size on Lifted"
   ]
  },
  {
   "cell_type": "code",
   "execution_count": 38,
   "id": "52005bf9",
   "metadata": {},
   "outputs": [
    {
     "name": "stdout",
     "output_type": "stream",
     "text": [
      "\\begin{center}\n",
      "\t\\begin{tabular}{ | l | l | l | l | l | l |}\n",
      "\t\\hline\n",
      "\tAlgorithm & minESS/time & logdensESS/time \\\\ \\hline\n",
      "\tHUG  & 1.48 & 12.04 \\\\ \\hline\n",
      "\tTHUG & 0.79 & 2.84 \\\\ \\hline\n",
      "\tHMC  & 0.14 & 0.14 \\\\ \\hline\n",
      "\tCHMC & 2.65 & 5.40 \\\\ \\hline\n",
      "\t\\end{tabular}\n",
      "\\end{center}\n"
     ]
    }
   ],
   "source": [
    "compare_ess_per_walltime(\n",
    "    y=1.0,\n",
    "    σ=0.02,\n",
    "    B=20,\n",
    "    N=1000,\n",
    "    α=0.99,\n",
    "    ϵhug=0.001,\n",
    "    ϵthug=0.001,\n",
    "    ϵhmc=0.001,\n",
    "    δhug=0.1,\n",
    "    δthug=0.1,\n",
    "    δhmc=0.1,\n",
    "    δchmc=0.1,\n",
    "    target='lifted'\n",
    ")"
   ]
  },
  {
   "cell_type": "markdown",
   "id": "777fa96f",
   "metadata": {},
   "source": [
    "### Compare on True posterior"
   ]
  },
  {
   "cell_type": "code",
   "execution_count": 41,
   "id": "448cc1ef",
   "metadata": {},
   "outputs": [
    {
     "name": "stdout",
     "output_type": "stream",
     "text": [
      "\\begin{center}\n",
      "\t\\begin{tabular}{ | l | l | l | l | l | l |}\n",
      "\t\\hline\n",
      "\tAlgorithm & minESS/time & logdensESS/time \\\\ \\hline\n",
      "\tHUG  & 26.53 & 14.15 \\\\ \\hline\n",
      "\tTHUG & 4.95 & 2.19 \\\\ \\hline\n",
      "\tHMC  & nan & 0.11 \\\\ \\hline\n",
      "\tCHMC & 1.35 & 7.17 \\\\ \\hline\n",
      "\t\\end{tabular}\n",
      "\\end{center}\n"
     ]
    }
   ],
   "source": [
    "compare_ess_per_walltime(\n",
    "    y=1.0,\n",
    "    σ=0.02,\n",
    "    B=20,\n",
    "    N=1000,\n",
    "    α=0.99,\n",
    "    ϵhug=0.001,\n",
    "    ϵthug=0.001,\n",
    "    ϵhmc=0.001,\n",
    "    δhug=0.1,\n",
    "    δthug=0.1,\n",
    "    δhmc=0.1,\n",
    "    δchmc=0.1,\n",
    "    target='theta'\n",
    ")"
   ]
  },
  {
   "cell_type": "code",
   "execution_count": 42,
   "id": "45455828",
   "metadata": {},
   "outputs": [
    {
     "name": "stdout",
     "output_type": "stream",
     "text": [
      "\\begin{center}\n",
      "\t\\begin{tabular}{ | l | l | l | l | l | l |}\n",
      "\t\\hline\n",
      "\tAlgorithm & minESS/time & logdensESS/time \\\\ \\hline\n",
      "\tHUG  & 3.48 & 18.79 \\\\ \\hline\n",
      "\tTHUG & 2.64 & 11.21 \\\\ \\hline\n",
      "\tHMC  & 0.11 & 0.11 \\\\ \\hline\n",
      "\tCHMC & 3.21 & 10.01 \\\\ \\hline\n",
      "\t\\end{tabular}\n",
      "\\end{center}\n"
     ]
    }
   ],
   "source": [
    "compare_ess_per_walltime(\n",
    "    y=1.0,\n",
    "    σ=0.001,\n",
    "    B=20,\n",
    "    N=1000,\n",
    "    α=0.99,\n",
    "    ϵhug=0.001,\n",
    "    ϵthug=0.001,\n",
    "    ϵhmc=0.001,\n",
    "    δhug=0.1,\n",
    "    δthug=0.1,\n",
    "    δhmc=0.1,\n",
    "    δchmc=0.1,\n",
    "    target='theta'\n",
    ")"
   ]
  },
  {
   "cell_type": "code",
   "execution_count": 43,
   "id": "b1fd8ea7",
   "metadata": {},
   "outputs": [
    {
     "name": "stdout",
     "output_type": "stream",
     "text": [
      "\\begin{center}\n",
      "\t\\begin{tabular}{ | l | l | l | l | l | l |}\n",
      "\t\\hline\n",
      "\tAlgorithm & minESS/time & logdensESS/time \\\\ \\hline\n",
      "\tHUG  & 2.71 & 9.22 \\\\ \\hline\n",
      "\tTHUG & 1.43 & 9.32 \\\\ \\hline\n",
      "\tHMC  & 0.11 & 0.11 \\\\ \\hline\n",
      "\tCHMC & 1.88 & 9.53 \\\\ \\hline\n",
      "\t\\end{tabular}\n",
      "\\end{center}\n"
     ]
    }
   ],
   "source": [
    "compare_ess_per_walltime(\n",
    "    y=1.0,\n",
    "    σ=0.0001,\n",
    "    B=20,\n",
    "    N=1000,\n",
    "    α=0.99,\n",
    "    ϵhug=0.001,\n",
    "    ϵthug=0.001,\n",
    "    ϵhmc=0.001,\n",
    "    δhug=0.1,\n",
    "    δthug=0.1,\n",
    "    δhmc=0.1,\n",
    "    δchmc=0.1,\n",
    "    target='theta'\n",
    ")"
   ]
  },
  {
   "cell_type": "code",
   "execution_count": 49,
   "id": "3d28e6e6",
   "metadata": {},
   "outputs": [
    {
     "name": "stdout",
     "output_type": "stream",
     "text": [
      "\\begin{center}\n",
      "\t\\begin{tabular}{ | l | l | l | l | l | l |}\n",
      "\t\\hline\n",
      "\tAlgorithm & minESS/time & logdensESS/time \\\\ \\hline\n",
      "\tHUG  & 0.65 & 21.66 \\\\ \\hline\n",
      "\tTHUG & 0.57 & 24.43 \\\\ \\hline\n",
      "\tHMC  & 0.08 & 0.08 \\\\ \\hline\n",
      "\tCHMC & 0.91 & 11.43 \\\\ \\hline\n",
      "\t\\end{tabular}\n",
      "\\end{center}\n"
     ]
    }
   ],
   "source": [
    "compare_ess_per_walltime(\n",
    "    y=1.0,\n",
    "    σ=0.0001,\n",
    "    B=5,\n",
    "    N=1000,\n",
    "    α=0.99,\n",
    "    ϵhug=0.001,\n",
    "    ϵthug=0.001,\n",
    "    ϵhmc=0.001,\n",
    "    δhug=0.1,\n",
    "    δthug=0.1,\n",
    "    δhmc=0.1,\n",
    "    δchmc=0.1,\n",
    "    target='theta',\n",
    "    chmc_theta_only=True\n",
    ")"
   ]
  },
  {
   "cell_type": "markdown",
   "id": "e51efe52",
   "metadata": {},
   "source": [
    "# Construct a Function to perform table computations discussed with Christophe"
   ]
  },
  {
   "cell_type": "markdown",
   "id": "a04ffc00",
   "metadata": {},
   "source": [
    "- C-HMC applied to the mainfold distribution $p_{\\sigma}(\\theta, \\upsilon\\mid y^*)$\n",
    "- THUG, HUG and HMC applied to true posterior distribution $p_\\sigma(\\theta\\mid y^*)$\n",
    "- Sample from both using a list of decreasing $\\sigma$ values. Should see that at first HMC is best, then HUG, then THUG, then C-HMC"
   ]
  },
  {
   "cell_type": "markdown",
   "id": "9b629f0c",
   "metadata": {},
   "source": [
    "# $\\sigma=1.0$"
   ]
  },
  {
   "cell_type": "code",
   "execution_count": 58,
   "id": "d8d589e2",
   "metadata": {},
   "outputs": [
    {
     "name": "stdout",
     "output_type": "stream",
     "text": [
      "\\begin{center}\n",
      "\t\\begin{tabular}{ | l | l | l | l | l | l |}\n",
      "\t\\hline\n",
      "\tAlgorithm & minESS/time & logdensESS/time \\\\ \\hline\n",
      "\tHUG  & 19.69 & 0.16 \\\\ \\hline\n",
      "\tTHUG & 4.31 & 57.13 \\\\ \\hline\n",
      "\tHMC  & 94.31 & 38.43 \\\\ \\hline\n",
      "\tCHMC & 12.22 & 7.51 \\\\ \\hline\n",
      "\t\\end{tabular}\n",
      "\\end{center}\n"
     ]
    }
   ],
   "source": [
    "compare_ess_per_walltime(\n",
    "    y=1.0,\n",
    "    σ=1.0,\n",
    "    B=20,\n",
    "    N=10000,\n",
    "    α=0.99,\n",
    "    ϵhug=0.001,\n",
    "    ϵthug=0.001,\n",
    "    ϵhmc=0.001,\n",
    "    δhug=0.1,\n",
    "    δthug=0.1,\n",
    "    δhmc=0.1,\n",
    "    δchmc=0.1,\n",
    "    target='theta',\n",
    "    over='walltime'\n",
    ")"
   ]
  },
  {
   "cell_type": "markdown",
   "id": "cf248bcd",
   "metadata": {},
   "source": [
    "# $\\sigma=0.1$"
   ]
  },
  {
   "cell_type": "code",
   "execution_count": 59,
   "id": "fb5d96ae",
   "metadata": {},
   "outputs": [
    {
     "name": "stdout",
     "output_type": "stream",
     "text": [
      "\\begin{center}\n",
      "\t\\begin{tabular}{ | l | l | l | l | l | l |}\n",
      "\t\\hline\n",
      "\tAlgorithm & minESS/time & logdensESS/time \\\\ \\hline\n",
      "\tHUG  & 25.48 & 3.14 \\\\ \\hline\n",
      "\tTHUG & 7.08 & 0.59 \\\\ \\hline\n",
      "\tHMC  & 0.01 & 0.01 \\\\ \\hline\n",
      "\tCHMC & 2.14 & 8.41 \\\\ \\hline\n",
      "\t\\end{tabular}\n",
      "\\end{center}\n"
     ]
    }
   ],
   "source": [
    "compare_ess_per_walltime(\n",
    "    y=1.0,\n",
    "    σ=0.1,\n",
    "    B=20,\n",
    "    N=10000,\n",
    "    α=0.99,\n",
    "    ϵhug=0.001,\n",
    "    ϵthug=0.001,\n",
    "    ϵhmc=0.001,\n",
    "    δhug=0.1,\n",
    "    δthug=0.1,\n",
    "    δhmc=0.1,\n",
    "    δchmc=0.1,\n",
    "    target='theta',\n",
    "    over='walltime'\n",
    ")"
   ]
  },
  {
   "cell_type": "markdown",
   "id": "78ee117b",
   "metadata": {},
   "source": [
    "# $\\sigma=0.01$"
   ]
  },
  {
   "cell_type": "code",
   "execution_count": 60,
   "id": "d461d0d2",
   "metadata": {},
   "outputs": [
    {
     "name": "stdout",
     "output_type": "stream",
     "text": [
      "\\begin{center}\n",
      "\t\\begin{tabular}{ | l | l | l | l | l | l |}\n",
      "\t\\hline\n",
      "\tAlgorithm & minESS/time & logdensESS/time \\\\ \\hline\n",
      "\tHUG  & 11.04 & 28.90 \\\\ \\hline\n",
      "\tTHUG & 6.52 & 1.55 \\\\ \\hline\n",
      "\tHMC  & 0.01 & 0.01 \\\\ \\hline\n",
      "\tCHMC & 2.06 & 8.11 \\\\ \\hline\n",
      "\t\\end{tabular}\n",
      "\\end{center}\n"
     ]
    }
   ],
   "source": [
    "compare_ess_per_walltime(\n",
    "    y=1.0,\n",
    "    σ=0.01,\n",
    "    B=20,\n",
    "    N=10000,\n",
    "    α=0.99,\n",
    "    ϵhug=0.001,\n",
    "    ϵthug=0.001,\n",
    "    ϵhmc=0.001,\n",
    "    δhug=0.1,\n",
    "    δthug=0.1,\n",
    "    δhmc=0.1,\n",
    "    δchmc=0.1,\n",
    "    target='theta',\n",
    "    over='walltime'\n",
    ")"
   ]
  },
  {
   "cell_type": "markdown",
   "id": "8e8a4778",
   "metadata": {},
   "source": [
    "# $\\sigma=0.001$"
   ]
  },
  {
   "cell_type": "code",
   "execution_count": 61,
   "id": "a7089acd",
   "metadata": {},
   "outputs": [
    {
     "name": "stdout",
     "output_type": "stream",
     "text": [
      "\\begin{center}\n",
      "\t\\begin{tabular}{ | l | l | l | l | l | l |}\n",
      "\t\\hline\n",
      "\tAlgorithm & minESS/time & logdensESS/time \\\\ \\hline\n",
      "\tHUG  & 1.65 & 19.66 \\\\ \\hline\n",
      "\tTHUG & 0.77 & 8.42 \\\\ \\hline\n",
      "\tHMC  & 0.01 & 0.01 \\\\ \\hline\n",
      "\tCHMC & 1.95 & 8.27 \\\\ \\hline\n",
      "\t\\end{tabular}\n",
      "\\end{center}\n"
     ]
    }
   ],
   "source": [
    "compare_ess_per_walltime(\n",
    "    y=1.0,\n",
    "    σ=0.001,\n",
    "    B=20,\n",
    "    N=10000,\n",
    "    α=0.99,\n",
    "    ϵhug=0.001,\n",
    "    ϵthug=0.001,\n",
    "    ϵhmc=0.001,\n",
    "    δhug=0.1,\n",
    "    δthug=0.1,\n",
    "    δhmc=0.1,\n",
    "    δchmc=0.1,\n",
    "    target='theta',\n",
    "    over='walltime'\n",
    ")"
   ]
  },
  {
   "cell_type": "markdown",
   "id": "99ee260c",
   "metadata": {},
   "source": [
    "# $\\sigma=0.0001$"
   ]
  },
  {
   "cell_type": "code",
   "execution_count": 62,
   "id": "f4513612",
   "metadata": {},
   "outputs": [
    {
     "name": "stdout",
     "output_type": "stream",
     "text": [
      "\\begin{center}\n",
      "\t\\begin{tabular}{ | l | l | l | l | l | l |}\n",
      "\t\\hline\n",
      "\tAlgorithm & minESS/time & logdensESS/time \\\\ \\hline\n",
      "\tHUG  & 0.27 & 4.47 \\\\ \\hline\n",
      "\tTHUG & 0.10 & 4.74 \\\\ \\hline\n",
      "\tHMC  & 0.01 & 0.01 \\\\ \\hline\n",
      "\tCHMC & 0.53 & 2.11 \\\\ \\hline\n",
      "\t\\end{tabular}\n",
      "\\end{center}\n"
     ]
    }
   ],
   "source": [
    "compare_ess_per_walltime(\n",
    "    y=1.0,\n",
    "    σ=0.0001,\n",
    "    B=20,\n",
    "    N=10000,\n",
    "    α=0.99,\n",
    "    ϵhug=0.001,\n",
    "    ϵthug=0.001,\n",
    "    ϵhmc=0.001,\n",
    "    δhug=0.1,\n",
    "    δthug=0.1,\n",
    "    δhmc=0.1,\n",
    "    δchmc=0.1,\n",
    "    target='theta',\n",
    "    over='walltime'\n",
    ")"
   ]
  },
  {
   "cell_type": "markdown",
   "id": "e8b5f5cf",
   "metadata": {},
   "source": [
    "# $\\sigma=0.00001$"
   ]
  },
  {
   "cell_type": "code",
   "execution_count": 63,
   "id": "45894223",
   "metadata": {},
   "outputs": [
    {
     "name": "stdout",
     "output_type": "stream",
     "text": [
      "\\begin{center}\n",
      "\t\\begin{tabular}{ | l | l | l | l | l | l |}\n",
      "\t\\hline\n",
      "\tAlgorithm & minESS/time & logdensESS/time \\\\ \\hline\n",
      "\tHUG  & 0.23 & 0.78 \\\\ \\hline\n",
      "\tTHUG & 0.33 & 5.03 \\\\ \\hline\n",
      "\tHMC  & 0.01 & 0.01 \\\\ \\hline\n",
      "\tCHMC & 2.18 & 8.87 \\\\ \\hline\n",
      "\t\\end{tabular}\n",
      "\\end{center}\n"
     ]
    }
   ],
   "source": [
    "compare_ess_per_walltime(\n",
    "    y=1.0,\n",
    "    σ=0.00001,\n",
    "    B=20,\n",
    "    N=10000,\n",
    "    α=0.99,\n",
    "    ϵhug=0.001,\n",
    "    ϵthug=0.001,\n",
    "    ϵhmc=0.001,\n",
    "    δhug=0.1,\n",
    "    δthug=0.1,\n",
    "    δhmc=0.1,\n",
    "    δchmc=0.1,\n",
    "    target='theta',\n",
    "    over='walltime'\n",
    ")"
   ]
  },
  {
   "cell_type": "markdown",
   "id": "fe56a886",
   "metadata": {},
   "source": [
    "# $\\sigma=0.000001$"
   ]
  },
  {
   "cell_type": "code",
   "execution_count": 64,
   "id": "91544208",
   "metadata": {},
   "outputs": [
    {
     "name": "stdout",
     "output_type": "stream",
     "text": [
      "\\begin{center}\n",
      "\t\\begin{tabular}{ | l | l | l | l | l | l |}\n",
      "\t\\hline\n",
      "\tAlgorithm & minESS/time & logdensESS/time \\\\ \\hline\n",
      "\tHUG  & 0.12 & 0.76 \\\\ \\hline\n",
      "\tTHUG & 0.10 & 1.73 \\\\ \\hline\n",
      "\tHMC  & 0.01 & 0.01 \\\\ \\hline\n",
      "\tCHMC & 2.04 & 8.48 \\\\ \\hline\n",
      "\t\\end{tabular}\n",
      "\\end{center}\n"
     ]
    }
   ],
   "source": [
    "compare_ess_per_walltime(\n",
    "    y=1.0,\n",
    "    σ=0.000001,\n",
    "    B=20,\n",
    "    N=10000,\n",
    "    α=0.99,\n",
    "    ϵhug=0.001,\n",
    "    ϵthug=0.001,\n",
    "    ϵhmc=0.001,\n",
    "    δhug=0.1,\n",
    "    δthug=0.1,\n",
    "    δhmc=0.1,\n",
    "    δchmc=0.1,\n",
    "    target='theta',\n",
    "    over='walltime'\n",
    ")"
   ]
  },
  {
   "cell_type": "markdown",
   "id": "29155338",
   "metadata": {},
   "source": [
    "# Actually, I need to average over multiple independent runs"
   ]
  },
  {
   "cell_type": "code",
   "execution_count": 115,
   "id": "921e5080",
   "metadata": {},
   "outputs": [],
   "source": [
    "def experiment(σlist, n_runs, y=1.0, B=20, N=1000, α=0.99, δ=0.1, ϵ=0.001):\n",
    "    \"\"\"Averages over a number of runs.\"\"\"\n",
    "    assert type(α) == int or type(α) == np.ndarray\n",
    "    if type(α) == int:\n",
    "        α = α*ones(len(σlist))\n",
    "    if type(α) == np.ndarray:\n",
    "        assert len(α) == len(σlist)\n",
    "    results = {σ: {'HMC':0.0, 'HUG':0.0, 'THUG':0.0, 'CHMC':0.0} for σ in σlist}\n",
    "    for σix, σ in enumerate(σlist):\n",
    "        for i in range(n_runs):\n",
    "                key_hug = 'log_posterior'\n",
    "                key_hmc = 'neg_log_posterior'\n",
    "                Fhug  = construct_functions(y, σ, ϵ)\n",
    "                Fthug = construct_functions(y, σ, ϵ)\n",
    "                Fhmc  = construct_functions(y, σ, ϵ)\n",
    "                # Run C-HMC\n",
    "                final_CHMC, trace_CHMC, stat_CHMC, time_CHMC, init_CHMC = run_chmc(δ=δ, n_step=B, N=N, F=Fhug, display=False, return_init=True)\n",
    "                # Run HMC \n",
    "                final_HMC, trace_HMC, stat_HMC, time_HMC = run_hmc_approx_lifted(δ=δ, n_step=B, N=N, F=Fhmc, init_state=init_CHMC, target=key_hmc, display=False)\n",
    "                # Run THUG (α > 0) and HUG (α = 0)\n",
    "                thug_samples, acceptance_thug, time_thug = run_thug(B*δ, B, N, α[σix], Fthug, init_CHMC, target=key_hug)\n",
    "                hug_samples, acceptance_hug, time_hug = run_thug(B*δ, B, N, 0.0, Fhug, init_CHMC, target=key_hug)\n",
    "                # Compute metrics\n",
    "                metrics_hug  = compute_metrics_thug_approx_lifted(hug_samples, Fhug[key_hug], n_constr_hug(B,N), n_jac_hug(B,N), acceptance_hug, time_hug)\n",
    "                metrics_thug = compute_metrics_thug_approx_lifted(thug_samples, Fthug[key_hug], n_constr_thug(B,N), n_jac_thug(B,N), acceptance_thug, time_thug)\n",
    "                metrics_hmc  = compute_metrics_mici(final_HMC, trace_HMC, Fhmc[key_hmc], stat_HMC, time_HMC)\n",
    "                metrics_chmc = compute_metrics_mici(final_CHMC, trace_CHMC, Fhmc['neg_log_dens'], stat_CHMC, time_CHMC)\n",
    "                results[σ]['HUG']  += metrics_hug['minESS_per_walltime'] / n_runs\n",
    "                results[σ]['THUG'] += metrics_thug['minESS_per_walltime'] / n_runs\n",
    "                results[σ]['HMC']  += metrics_hmc['minESS_per_walltime'] / n_runs\n",
    "                results[σ]['CHMC'] += metrics_chmc['minESS_theta_only_per_walltime'] / n_runs\n",
    "    return results"
   ]
  },
  {
   "cell_type": "code",
   "execution_count": 107,
   "id": "44ff3f60",
   "metadata": {},
   "outputs": [],
   "source": [
    "def generate_latex_table_for_experiment(res):\n",
    "    \"\"\"Generates a latex table displaying minESS/walltime for the various algorithms.\"\"\"\n",
    "    string  = r'\\begin{center}'\n",
    "    string += \"\\n\\t\" + r'\\begin{tabular}{ | l | l | l | l | l |}'\n",
    "    string += \"\\n\\t\" + r'\\hline'\n",
    "    string += \"\\n\\t\" + \"$\\sigma$ & HMC & THUG & $\\alpha$THUG & CHMC \\\\\\ \\hline\"\n",
    "    for idx, σ in enumerate(res.keys()):\n",
    "        string += \"\\n\\t\" + \"{} & {:.2f} & {:.2f} & {:.2f} & {:.2f} \\\\\\ \\hline\".format(σ, res[σ]['HMC'], res[σ]['HUG'], res[σ]['THUG'], res[σ]['CHMC'])\n",
    "    string += \"\\n\\t\" + r'\\end{tabular}'\n",
    "    string += \"\\n\" + r'\\end{center}'\n",
    "    print(string)"
   ]
  },
  {
   "cell_type": "code",
   "execution_count": 72,
   "id": "4e3b5249",
   "metadata": {},
   "outputs": [],
   "source": [
    "results = experiment([1.0, 0.1, 0.01, 0.001, 0.0001, 0.00001], n_runs=10, N=2000)"
   ]
  },
  {
   "cell_type": "code",
   "execution_count": 73,
   "id": "a7305f69",
   "metadata": {},
   "outputs": [
    {
     "data": {
      "text/plain": [
       "{1.0: {'HMC': 93.31477783000804,\n",
       "  'HUG': 25.746477348747874,\n",
       "  'THUG': 8.585277693185642,\n",
       "  'CHMC': 11.48263139381831},\n",
       " 0.1: {'HMC': 0.05666568954998958,\n",
       "  'HUG': 24.76511459636755,\n",
       "  'THUG': 7.899219221787505,\n",
       "  'CHMC': 2.245094199432494},\n",
       " 0.01: {'HMC': 0.05688788022110208,\n",
       "  'HUG': 11.32928772550744,\n",
       "  'THUG': 5.596620213831828,\n",
       "  'CHMC': 2.1365790542783625},\n",
       " 0.001: {'HMC': 0.056613644140869494,\n",
       "  'HUG': 2.2514583083139112,\n",
       "  'THUG': 1.792974922684172,\n",
       "  'CHMC': 2.134049510820227},\n",
       " 0.0001: {'HMC': nan,\n",
       "  'HUG': 0.8619304518976839,\n",
       "  'THUG': 0.7227578812920268,\n",
       "  'CHMC': 2.1469648880032257},\n",
       " 1e-05: {'HMC': 0.05626888117353604,\n",
       "  'HUG': 0.6595856399395678,\n",
       "  'THUG': 1.64014415917088,\n",
       "  'CHMC': 2.082901793165607}}"
      ]
     },
     "execution_count": 73,
     "metadata": {},
     "output_type": "execute_result"
    }
   ],
   "source": [
    "results"
   ]
  },
  {
   "cell_type": "code",
   "execution_count": 74,
   "id": "acbeb0df",
   "metadata": {},
   "outputs": [
    {
     "name": "stderr",
     "output_type": "stream",
     "text": [
      "/opt/anaconda3/envs/manifold-sampling/lib/python3.10/site-packages/scipy/optimize/_minpack_py.py:175: RuntimeWarning: The iteration is not making good progress, as measured by the \n",
      "  improvement from the last five Jacobian evaluations.\n",
      "  warnings.warn(msg, RuntimeWarning)\n",
      "/opt/anaconda3/envs/manifold-sampling/lib/python3.10/site-packages/scipy/optimize/_minpack_py.py:175: RuntimeWarning: The iteration is not making good progress, as measured by the \n",
      "  improvement from the last ten iterations.\n",
      "  warnings.warn(msg, RuntimeWarning)\n"
     ]
    }
   ],
   "source": [
    "results2 = experiment([1.0, 0.1, 0.01, 0.001, 0.0001, 0.00001], n_runs=10, N=2000, α=0.9)"
   ]
  },
  {
   "cell_type": "code",
   "execution_count": 75,
   "id": "802192cf",
   "metadata": {},
   "outputs": [
    {
     "data": {
      "text/plain": [
       "{1.0: {'HMC': 84.69018797701045,\n",
       "  'HUG': 26.230098248078008,\n",
       "  'THUG': 18.307969914459406,\n",
       "  'CHMC': 11.629710031480819},\n",
       " 0.1: {'HMC': 0.09460007866010167,\n",
       "  'HUG': 25.556270956938064,\n",
       "  'THUG': 18.7448783733662,\n",
       "  'CHMC': 1.9335685557747573},\n",
       " 0.01: {'HMC': 0.05560430137491772,\n",
       "  'HUG': 12.084107611297423,\n",
       "  'THUG': 10.572937012719006,\n",
       "  'CHMC': 2.1043930556545294},\n",
       " 0.001: {'HMC': 0.0555891498856099,\n",
       "  'HUG': 2.396204497933011,\n",
       "  'THUG': 2.2522199187537724,\n",
       "  'CHMC': 1.9896237055266643},\n",
       " 0.0001: {'HMC': 0.054353865185311837,\n",
       "  'HUG': 1.219102399544889,\n",
       "  'THUG': 1.472714677880276,\n",
       "  'CHMC': 2.126047517941156},\n",
       " 1e-05: {'HMC': nan,\n",
       "  'HUG': 0.6125337934337003,\n",
       "  'THUG': 1.1709132013431534,\n",
       "  'CHMC': 2.2371894059854336}}"
      ]
     },
     "execution_count": 75,
     "metadata": {},
     "output_type": "execute_result"
    }
   ],
   "source": [
    "results2"
   ]
  },
  {
   "cell_type": "code",
   "execution_count": 82,
   "id": "80ea379f",
   "metadata": {},
   "outputs": [
    {
     "ename": "TypeError",
     "evalue": "unsupported operand type(s) for /: 'dict_values' and 'float'",
     "output_type": "error",
     "traceback": [
      "\u001b[0;31m---------------------------------------------------------------------------\u001b[0m",
      "\u001b[0;31mTypeError\u001b[0m                                 Traceback (most recent call last)",
      "Input \u001b[0;32mIn [82]\u001b[0m, in \u001b[0;36m<cell line: 1>\u001b[0;34m()\u001b[0m\n\u001b[0;32m----> 1\u001b[0m \u001b[43mnp\u001b[49m\u001b[38;5;241;43m.\u001b[39;49m\u001b[43marray\u001b[49m\u001b[43m(\u001b[49m\u001b[43mresults2\u001b[49m\u001b[43m[\u001b[49m\u001b[38;5;241;43m1.0\u001b[39;49m\u001b[43m]\u001b[49m\u001b[38;5;241;43m.\u001b[39;49m\u001b[43mvalues\u001b[49m\u001b[43m(\u001b[49m\u001b[43m)\u001b[49m\u001b[43m)\u001b[49m\u001b[43m \u001b[49m\u001b[38;5;241;43m/\u001b[39;49m\u001b[43m \u001b[49m\u001b[38;5;28;43mmax\u001b[39;49m\u001b[43m(\u001b[49m\u001b[43mresults2\u001b[49m\u001b[43m[\u001b[49m\u001b[38;5;241;43m1.0\u001b[39;49m\u001b[43m]\u001b[49m\u001b[38;5;241;43m.\u001b[39;49m\u001b[43mvalues\u001b[49m\u001b[43m(\u001b[49m\u001b[43m)\u001b[49m\u001b[43m)\u001b[49m\n",
      "\u001b[0;31mTypeError\u001b[0m: unsupported operand type(s) for /: 'dict_values' and 'float'"
     ]
    }
   ],
   "source": [
    "np.array(results2[1.0].values()) / max(results2[1.0].values())"
   ]
  },
  {
   "cell_type": "code",
   "execution_count": 99,
   "id": "451e5b04",
   "metadata": {},
   "outputs": [
    {
     "data": {
      "text/plain": [
       "[array([7.28222696, 2.25543871, 1.57424131, 1.        ]),\n",
       " array([  1.        , 270.15063115, 198.14865525,  20.43939691]),\n",
       " array([  1.       , 217.3232522, 190.1460274,  37.8458681]),\n",
       " array([ 1.        , 43.10561509, 40.51545892, 35.7915836 ]),\n",
       " array([ 1.        , 22.42899186, 27.0949393 , 39.1149279 ]),\n",
       " array([       nan, 1.        , 1.91158955, 3.65235262])]"
      ]
     },
     "execution_count": 99,
     "metadata": {},
     "output_type": "execute_result"
    }
   ],
   "source": [
    "[np.array(list(results2[σ].values())) / np.nanmin(list(results2[σ].values())) for σ in [1.0, 0.1, 0.01, 0.001, 0.0001, 0.00001]]"
   ]
  },
  {
   "cell_type": "code",
   "execution_count": 100,
   "id": "fb5096c9",
   "metadata": {},
   "outputs": [
    {
     "data": {
      "text/plain": [
       "[array([10.86916244,  2.99891026,  1.        ,  1.33747932]),\n",
       " array([  1.        , 437.03897002, 139.40038998,  39.61999258]),\n",
       " array([  1.        , 199.15116685,  98.37983402,  37.55771961]),\n",
       " array([ 1.        , 39.76882857, 31.67036763, 37.69496812]),\n",
       " array([       nan, 1.19255767, 1.        , 2.97051744]),\n",
       " array([ 1.        , 11.72203225, 29.1483343 , 37.01693991])]"
      ]
     },
     "execution_count": 100,
     "metadata": {},
     "output_type": "execute_result"
    }
   ],
   "source": [
    "[np.array(list(results[σ].values())) / np.nanmin(list(results[σ].values())) for σ in [1.0, 0.1, 0.01, 0.001, 0.0001, 0.00001]]"
   ]
  },
  {
   "cell_type": "code",
   "execution_count": 101,
   "id": "6e570d9c",
   "metadata": {},
   "outputs": [
    {
     "name": "stderr",
     "output_type": "stream",
     "text": [
      "/opt/anaconda3/envs/manifold-sampling/lib/python3.10/site-packages/scipy/optimize/_minpack_py.py:175: RuntimeWarning: The iteration is not making good progress, as measured by the \n",
      "  improvement from the last five Jacobian evaluations.\n",
      "  warnings.warn(msg, RuntimeWarning)\n"
     ]
    }
   ],
   "source": [
    "results3 = experiment([1.0, 0.1, 0.01, 0.001, 0.0001, 0.00001], n_runs=10, N=100, α=0.9)"
   ]
  },
  {
   "cell_type": "code",
   "execution_count": 102,
   "id": "46da7962",
   "metadata": {},
   "outputs": [
    {
     "data": {
      "text/plain": [
       "{1.0: {'HMC': 85.42362491321009,\n",
       "  'HUG': 37.79509732080827,\n",
       "  'THUG': 32.79546176080657,\n",
       "  'CHMC': 11.182656903050885},\n",
       " 0.1: {'HMC': nan,\n",
       "  'HUG': 34.60953694751043,\n",
       "  'THUG': 35.530098695879545,\n",
       "  'CHMC': 4.478300094548041},\n",
       " 0.01: {'HMC': nan,\n",
       "  'HUG': 18.251421036014026,\n",
       "  'THUG': 23.45521845433925,\n",
       "  'CHMC': 5.143009755571934},\n",
       " 0.001: {'HMC': nan,\n",
       "  'HUG': 13.207747692412044,\n",
       "  'THUG': 16.944750399082046,\n",
       "  'CHMC': 4.097611256697415},\n",
       " 0.0001: {'HMC': nan,\n",
       "  'HUG': 14.409890009237284,\n",
       "  'THUG': 19.885693525483216,\n",
       "  'CHMC': 4.984243124957074},\n",
       " 1e-05: {'HMC': nan,\n",
       "  'HUG': 8.795904764278939,\n",
       "  'THUG': 14.048356857591646,\n",
       "  'CHMC': 4.373169559831939}}"
      ]
     },
     "execution_count": 102,
     "metadata": {},
     "output_type": "execute_result"
    }
   ],
   "source": [
    "results3"
   ]
  },
  {
   "cell_type": "code",
   "execution_count": 109,
   "id": "75d061c2",
   "metadata": {},
   "outputs": [
    {
     "name": "stdout",
     "output_type": "stream",
     "text": [
      "\\begin{center}\n",
      "\t\\begin{tabular}{ | l | l | l |}\n",
      "\t\\hline\n",
      "\t$\\sigma$ & HMC & THUG & $\u0007lpha$THUG & CHMC \\\\ \\hline\n",
      "\t1.0 & 85.42 & 37.80 & 32.80 & 11.18 \\\\ \\hline\n",
      "\t0.1 & nan & 34.61 & 35.53 & 4.48 \\\\ \\hline\n",
      "\t0.01 & nan & 18.25 & 23.46 & 5.14 \\\\ \\hline\n",
      "\t0.001 & nan & 13.21 & 16.94 & 4.10 \\\\ \\hline\n",
      "\t0.0001 & nan & 14.41 & 19.89 & 4.98 \\\\ \\hline\n",
      "\t1e-05 & nan & 8.80 & 14.05 & 4.37 \\\\ \\hline\n",
      "\t\\end{tabular}\n",
      "\\end{center}\n"
     ]
    }
   ],
   "source": [
    "generate_latex_table_for_experiment(results3)"
   ]
  },
  {
   "cell_type": "code",
   "execution_count": 110,
   "id": "ce9c403d",
   "metadata": {},
   "outputs": [
    {
     "name": "stderr",
     "output_type": "stream",
     "text": [
      "/opt/anaconda3/envs/manifold-sampling/lib/python3.10/site-packages/scipy/optimize/_minpack_py.py:175: RuntimeWarning: The iteration is not making good progress, as measured by the \n",
      "  improvement from the last ten iterations.\n",
      "  warnings.warn(msg, RuntimeWarning)\n",
      "/opt/anaconda3/envs/manifold-sampling/lib/python3.10/site-packages/scipy/optimize/_minpack_py.py:175: RuntimeWarning: The iteration is not making good progress, as measured by the \n",
      "  improvement from the last five Jacobian evaluations.\n",
      "  warnings.warn(msg, RuntimeWarning)\n"
     ]
    }
   ],
   "source": [
    "results4 = experiment([10.0, 1.0, 0.1, 0.01, 0.001, 0.0001, 0.00001, 0.000001], n_runs=20, N=100, α=0.9)"
   ]
  },
  {
   "cell_type": "code",
   "execution_count": 111,
   "id": "9574cbef",
   "metadata": {},
   "outputs": [
    {
     "data": {
      "text/plain": [
       "{10.0: {'HMC': 116.00121576039547,\n",
       "  'HUG': 32.79063714662663,\n",
       "  'THUG': 32.811364808095064,\n",
       "  'CHMC': 25.422840731378816},\n",
       " 1.0: {'HMC': 84.23822790547368,\n",
       "  'HUG': 41.48815701681212,\n",
       "  'THUG': 21.988407272093074,\n",
       "  'CHMC': 11.363145991202211},\n",
       " 0.1: {'HMC': nan,\n",
       "  'HUG': 34.877021571080135,\n",
       "  'THUG': 27.168064980183004,\n",
       "  'CHMC': 4.421197087104536},\n",
       " 0.01: {'HMC': nan,\n",
       "  'HUG': 23.828506314303127,\n",
       "  'THUG': 22.283503660387826,\n",
       "  'CHMC': 4.035200128634563},\n",
       " 0.001: {'HMC': nan,\n",
       "  'HUG': 17.816979071182708,\n",
       "  'THUG': 20.75506967053342,\n",
       "  'CHMC': 4.496289340070919},\n",
       " 0.0001: {'HMC': nan,\n",
       "  'HUG': 14.722442185287699,\n",
       "  'THUG': 12.717400243360439,\n",
       "  'CHMC': 4.164894786661224},\n",
       " 1e-05: {'HMC': nan,\n",
       "  'HUG': nan,\n",
       "  'THUG': 13.858673092340437,\n",
       "  'CHMC': 5.191960202689107},\n",
       " 1e-06: {'HMC': nan, 'HUG': nan, 'THUG': nan, 'CHMC': 4.912429458287784}}"
      ]
     },
     "execution_count": 111,
     "metadata": {},
     "output_type": "execute_result"
    }
   ],
   "source": [
    "results4"
   ]
  },
  {
   "cell_type": "code",
   "execution_count": 112,
   "id": "69fa5695",
   "metadata": {},
   "outputs": [],
   "source": [
    "results5 = experiment([10.0, 1.0, 0.1, 0.01, 0.001, 0.0001, 0.00001, 0.000001], n_runs=20, N=100, α=0.99)"
   ]
  },
  {
   "cell_type": "code",
   "execution_count": 124,
   "id": "04507a72",
   "metadata": {},
   "outputs": [],
   "source": [
    "def plot_results(results):\n",
    "    \"\"\"Generates a plot similar to Graham's one for the minESS/compute time.\"σ np.array(list(results.keys()))\n",
    "    grab_values = lambda alg: np.nan_to_num(nσy([results[σ][alg] for σ in σs]), nan=0.0)\n",
    "    PLOT_VALUES = {}\n",
    "    for alg in ['HMC', 'HUG', 'THUG', 'CHMC']:\n",
    "        PLOT_VALUES[alg] = grab_values(alg)\n",
    "    return PLOT_VALUES"
   ]
  },
  {
   "cell_type": "code",
   "execution_count": 113,
   "id": "3dab8c86",
   "metadata": {},
   "outputs": [
    {
     "data": {
      "text/plain": [
       "{10.0: {'HMC': 118.60254498115135,\n",
       "  'HUG': 37.45578417960997,\n",
       "  'THUG': 19.712662328269083,\n",
       "  'CHMC': 26.267671194626153},\n",
       " 1.0: {'HMC': 83.27492860161053,\n",
       "  'HUG': 38.69616842774882,\n",
       "  'THUG': 22.20171302659213,\n",
       "  'CHMC': 12.166251464355305},\n",
       " 0.1: {'HMC': nan,\n",
       "  'HUG': 37.017230419968335,\n",
       "  'THUG': 21.781655052174038,\n",
       "  'CHMC': 4.6443650778388115},\n",
       " 0.01: {'HMC': nan,\n",
       "  'HUG': 35.41298857003697,\n",
       "  'THUG': 20.626003671158344,\n",
       "  'CHMC': 4.966085972410213},\n",
       " 0.001: {'HMC': nan,\n",
       "  'HUG': 19.069379429189272,\n",
       "  'THUG': 23.235237359118972,\n",
       "  'CHMC': 4.610226864438757},\n",
       " 0.0001: {'HMC': nan,\n",
       "  'HUG': 15.54075962125268,\n",
       "  'THUG': 17.2845771839198,\n",
       "  'CHMC': 4.984306601406201},\n",
       " 1e-05: {'HMC': nan,\n",
       "  'HUG': 14.69082571476122,\n",
       "  'THUG': 14.146888688494585,\n",
       "  'CHMC': 4.687175713483496},\n",
       " 1e-06: {'HMC': nan,\n",
       "  'HUG': nan,\n",
       "  'THUG': 20.949580779162996,\n",
       "  'CHMC': 4.489864615822559}}"
      ]
     },
     "execution_count": 113,
     "metadata": {},
     "output_type": "execute_result"
    }
   ],
   "source": [
    "results5"
   ]
  },
  {
   "cell_type": "code",
   "execution_count": 152,
   "id": "a7b4fc23",
   "metadata": {},
   "outputs": [
    {
     "name": "stderr",
     "output_type": "stream",
     "text": [
      "/opt/anaconda3/envs/manifold-sampling/lib/python3.10/site-packages/scipy/optimize/_minpack_py.py:175: RuntimeWarning: The iteration is not making good progress, as measured by the \n",
      "  improvement from the last ten iterations.\n",
      "  warnings.warn(msg, RuntimeWarning)\n",
      "/opt/anaconda3/envs/manifold-sampling/lib/python3.10/site-packages/scipy/optimize/_minpack_py.py:175: RuntimeWarning: The iteration is not making good progress, as measured by the \n",
      "  improvement from the last five Jacobian evaluations.\n",
      "  warnings.warn(msg, RuntimeWarning)\n"
     ]
    }
   ],
   "source": [
    "result6 = experiment([1.0, 0.1, 0.01, 0.001, 0.0001, 0.00001, 0.000001], n_runs=12, N=2500, α=np.array([0.0, 0.0, 0.9, 0.9, 0.9, 0.99, 0.99]))"
   ]
  },
  {
   "cell_type": "code",
   "execution_count": 153,
   "id": "507e607c",
   "metadata": {},
   "outputs": [
    {
     "data": {
      "text/plain": [
       "{1.0: {'HMC': 77.1296164298973,\n",
       "  'HUG': 19.977387110122926,\n",
       "  'THUG': 21.14516171430521,\n",
       "  'CHMC': 9.942241191991695},\n",
       " 0.1: {'HMC': 0.05281629456927643,\n",
       "  'HUG': 22.75592621187869,\n",
       "  'THUG': 22.232229536143983,\n",
       "  'CHMC': 2.0753563822219765},\n",
       " 0.01: {'HMC': 0.04478084904356485,\n",
       "  'HUG': 12.280903861444695,\n",
       "  'THUG': 10.675089895132281,\n",
       "  'CHMC': 2.233277114567538},\n",
       " 0.001: {'HMC': 0.045092733009302374,\n",
       "  'HUG': 1.797207591683172,\n",
       "  'THUG': 2.3400581071931463,\n",
       "  'CHMC': 1.9844719321487234},\n",
       " 0.0001: {'HMC': 0.04504788997211619,\n",
       "  'HUG': 1.0686246111818714,\n",
       "  'THUG': 1.0373636517470575,\n",
       "  'CHMC': 2.1352294063597994},\n",
       " 1e-05: {'HMC': nan,\n",
       "  'HUG': 0.4547720969539015,\n",
       "  'THUG': 0.6799566680283062,\n",
       "  'CHMC': 2.153635703903129},\n",
       " 1e-06: {'HMC': 0.04496575540686056,\n",
       "  'HUG': 0.48996501694836603,\n",
       "  'THUG': 0.813774666862564,\n",
       "  'CHMC': 2.1329280511618487}}"
      ]
     },
     "execution_count": 153,
     "metadata": {},
     "output_type": "execute_result"
    }
   ],
   "source": [
    "result6"
   ]
  },
  {
   "cell_type": "code",
   "execution_count": 154,
   "id": "d932767f",
   "metadata": {},
   "outputs": [
    {
     "name": "stderr",
     "output_type": "stream",
     "text": [
      "/var/folders/31/dthljx8x5mldm2ll5_zz7xrr0000gn/T/ipykernel_19719/3264902823.py:6: UserWarning: FixedFormatter should only be used together with FixedLocator\n",
      "  ax.set_xticklabels(['{}'.format(σ) for σ in list(result6.keys())])\n"
     ]
    },
    {
     "data": {
      "image/png": "[encoded data removed]",
      "text/plain": [
       "<Figure size 432x288 with 1 Axes>"
      ]
     },
     "metadata": {
      "needs_background": "light"
     },
     "output_type": "display_data"
    }
   ],
   "source": [
    "plot_values = plot_results(result6)\n",
    "\n",
    "fig, ax = plt.subplots()\n",
    "for alg in ['HMC', 'HUG', 'THUG', 'CHMC']:\n",
    "    ax.plot(list(result6.keys()), plot_values[alg], marker='o', label=alg)\n",
    "ax.set_xticklabels(['{}'.format(σ) for σ in list(result6.keys())])\n",
    "ax.loglog()\n",
    "ax.legend()\n",
    "plt.show()"
   ]
  },
  {
   "cell_type": "code",
   "execution_count": null,
   "id": "5216a461",
   "metadata": {},
   "outputs": [],
   "source": [
    "# I should compute the minimum ESS over the θ variable only for C-HMC"
   ]
  },
  {
   "cell_type": "code",
   "execution_count": 45,
   "id": "0cb22762",
   "metadata": {},
   "outputs": [],
   "source": [
    "# could always add a one second pause onto f computation just to make it more expensive? "
   ]
  },
  {
   "cell_type": "code",
   "execution_count": null,
   "id": "04a6fb30",
   "metadata": {},
   "outputs": [],
   "source": []
  },
  {
   "cell_type": "code",
   "execution_count": null,
   "id": "32cfab19",
   "metadata": {},
   "outputs": [],
   "source": []
  }
 ],
 "metadata": {
  "kernelspec": {
   "display_name": "Python 3 (ipykernel)",
   "language": "python",
   "name": "python3"
  },
  "language_info": {
   "codemirror_mode": {
    "name": "ipython",
    "version": 3
   },
   "file_extension": ".py",
   "mimetype": "text/x-python",
   "name": "python",
   "nbconvert_exporter": "python",
   "pygments_lexer": "ipython3",
   "version": "3.10.4"
  }
 },
 "nbformat": 4,
 "nbformat_minor": 5
}
